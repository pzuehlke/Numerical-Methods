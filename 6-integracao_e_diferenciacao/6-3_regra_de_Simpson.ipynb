{
 "cells": [
  {
   "attachments": {},
   "cell_type": "markdown",
   "id": "149401cb",
   "metadata": {},
   "source": [
    "# Regra de Simpson"
   ]
  },
  {
   "attachments": {},
   "cell_type": "markdown",
   "id": "9b0114cc",
   "metadata": {},
   "source": [
    "## $ \\S 1 $ Regra de Simpson simples\n",
    "\n",
    "### $ 1.1 $ Idéia da regra de Simpson simples\n",
    "\n",
    "Seja $ f \\colon [a, b] \\to \\mathbb{R} $ uma função contínua, cuja integral\n",
    "$$ \\int_a^b f(x)\\,dx $$\n",
    "gostaríamos de calcular. Usando a regra do trapézio simples, a estratégia era aproximá-la pela integral do único polinômio de grau $ \\le 1 $ que interpola $ f $ em $ a $ e $ b $.\n",
    "A idéia da **regra de Simpson simples** é análoga; a única diferença é que utilizaremos o único polinômio $ p $ de grau $ \\le 2 $ que interpola $ f $ em $ a $, em $ b $ e em\n",
    "$$ m = \\frac{a + b}{2}. $$\n",
    "\n",
    "📝 Exceto no caso em que $ (a, f(a)) $, $ (b, f(b)) $ e $ (m, f(m)) $ são\n",
    "colineares, $ p $ tem grau exatamente 2, e o seu gráfico é um segmento de parábola.\n",
    "\n",
    "### $ 1.2 $ Derivação da fórmula da regra de Simpson simples\n",
    "\n",
    "De acordo com a fórmula de Lagrange para o polinômio interpolador $ p$, temos:\n",
    "\\begin{equation*}\\label{E:p}\n",
    "p(x) = f(a)\\frac{(x-m)(x-b)}{(a-m)(a-b)}\n",
    "    + f(m) \\frac{(x-a)(x-b)}{(m-a)(m-b)}\n",
    "    + f(b) \\frac{(x-a)(x-m)}{(b-a)(b-m)}\\ .\\tag{1}\n",
    "\\end{equation*}\n",
    "Para calcular sua integral sobre $ [a, b] $ mais facilmente, introduza a substituição\n",
    "$$\n",
    "x = a + (b-a)u\\,.\n",
    "$$\n",
    "Então:\n",
    "* $ x = a $, $ x = m $ e $ x = b $ correspondem a $ u = 0 $, $ u = \\frac{1}{2} $ e $ u = 1 $, respectivamente;\n",
    "* $ x - a = (b-a) u $;\n",
    "* $ x - m = (b-a) (u - \\frac{1}{2}) $;\n",
    "* $ x - b = (b-a) (u - 1) $;\n",
    "* $ dx = (b - a)\\, du $.\n",
    "\n",
    "Avaliando separadamente as integrais dos numeradores em (\\ref{E:p}):\n",
    "\\begin{alignat*}{9}\n",
    "    \\int_a^b (x-m)(x-b)\\,dx &= (b-a)^3\\int_0^1\\big(u - \\tfrac{1}{2}\\big)(u-1)\\,du\\\\\n",
    "    &=(b-a)^3\\bigg(\\frac{u^3}{3}-\\frac{3u^2}{4}+\\frac{u}{2}\\bigg)\\bigg|_0^1 \\\\ \n",
    "    &= \\frac{(b-a)^3}{12}  \\\\\n",
    "    \\int_a^b (x-a)(x-b)\\,dx &= (b-a)^3\\int_0^1u (u - 1)\\,du\\\\\n",
    "    &=(b-a)^3\\bigg(\\frac{u^3}{3}-\\frac{u^2}{2}\\bigg)\\bigg|_0^1 \\\\\n",
    "    &= -\\frac{(b-a)^3}{6} \\\\\n",
    "    \\int_a^b (x-a)(x-m)\\,dx &= (b-a)^3\\int_0^1u(u - \\tfrac{1}{2})\\,du\\\\\n",
    "    &=(b-a)^3\\bigg(\\frac{u^3}{3}-\\frac{u^2}{4}\\bigg)\\bigg|_0^1 \\\\\n",
    "    &= \\frac{(b-a)^3}{12} \n",
    "\\end{alignat*}\n",
    "\n",
    "Finalmente, substituindo estes valores em \\eqref{E:p}, concluímos após algumas contas diretas que\n",
    "\\begin{equation*}\n",
    "    \\int_a^b p(x)\\,dx = \\boxed{\\frac{b-a}{6} \\Big[f(a) + 4f(m) + f(b) \\Big]} \\qquad \\bigg(m = \\frac{a+b}{2}\\bigg)\\,.\n",
    "\\end{equation*}\n",
    "A aproximação de $ \\int_a^b f(x)\\,dx $ por este valor é conhecida como **regra de Simpson simples**."
   ]
  },
  {
   "attachments": {},
   "cell_type": "markdown",
   "id": "e3ca0773",
   "metadata": {},
   "source": [
    "**Problema 1:** Utilize a regra de Simpson simples para estimar as integrais seguintes:\n",
    "\n",
    "(a) $$ \\int_0^\\pi \\sin x\\,dx = 2\\,. $$\n",
    "\n",
    "(b) $$ \\int_{\\frac{\\pi}{4}}^{\\frac{3\\pi}{4}} \\frac{1}{\\sin^2 x}\\,dx = 2\\,. $$\n",
    "\n",
    "(c) $$ \\int_0^{1} \\frac{1}{1 + x^2}\\,dx = \\frac{\\pi}{4}\\,. $$\n"
   ]
  },
  {
   "attachments": {},
   "cell_type": "markdown",
   "id": "b5d25f2a",
   "metadata": {},
   "source": [
    "*Solução:*"
   ]
  },
  {
   "attachments": {},
   "cell_type": "markdown",
   "id": "eb22de64",
   "metadata": {},
   "source": [
    "**Problema 2:** Calcule  exatamente e usando a fórmula de Simpson as integrais seguintes:\n",
    "\n",
    "(a) $ \\int_0^1 e^{-x}\\,dx \\,$.\n",
    "\n",
    "(b) $ \\int_0^2 \\frac{1}{1 + x}\\,dx \\,$."
   ]
  },
  {
   "attachments": {},
   "cell_type": "markdown",
   "id": "d45cfe2a",
   "metadata": {},
   "source": [
    "*Solução:*"
   ]
  },
  {
   "attachments": {},
   "cell_type": "markdown",
   "id": "1fed5532",
   "metadata": {},
   "source": [
    "📝 A regra de Simpson simples é a fórmula de Newton-Cotes de ordem $ 2 $, usando\n",
    "a terminologia do caderno 6-1. (Contudo, não é necessário tê-lo estudado para\n",
    "seguir a discussão abaixo.)\n",
    "\n",
    "📝 Como a regra de Simpson simples nada mais é que a substituição da integral de uma função pela integral de um polinômio de grau $ \\le 2 $ que a interpola, a regra é exata caso a própria função seja um polinômio de grau $ \\le 2 $. Surpreendentemente, a fórmula é exata mesmo quando $ f $ é um polinômio *de grau $ 3 $*. Informalmente, isto significa que ganhamos um grau de precisão \"de graça\". Para uma explicação detalhada, veja o teorema 3.1 do caderno 6-1. Este fato também segue da fórmula para o erro discutida na $ \\S 5 $."
   ]
  },
  {
   "attachments": {},
   "cell_type": "markdown",
   "id": "a743d54c",
   "metadata": {},
   "source": [
    "## $ \\S 2 $ Regra de Simpson composta\n",
    "\n",
    "Seja $ N \\ge 2 $ um natural _par_. Defina\n",
    "$$\n",
    "    h = \\frac{b - a}{N} \\quad \\text{e} \\quad x_i = a + ih \\qquad (i = 0, 1, \\dots, N).\n",
    "$$\n",
    "\n",
    "Em particular, note que $ x_0 = a $, $ x_N = b $ e que\n",
    "$$ x_i - x_{i-1} = h $$\n",
    "para cada $ i $. Neste contexto, $ h $ é chamado de **tamanho do passo**.\n",
    "\n",
    "Para melhorar a precisão da estimativa para $ \\int_a^b f(x)\\,dx $ obtida na $ \\S\n",
    "1 $, para cada $ i = 2, 4, \\dots, N $, vamos aproximar a integral\n",
    "$$ \\int_{x_{i - 2}}^{x_i} f(x)\\,dx $$\n",
    "usando a regra de Simpson simples. Como o intervalo de integração tem comprimento $ 2h $, o resultado é:\n",
    "$$\n",
    "    \\frac{h}{3}\\big[f(x_{i - 2}) + 4f(x_{i-1}) + f(x_i) \\big]\\,.\n",
    "$$\n",
    "Tomando a soma para  $ i = 2, 4, \\dots, N $, obtemos a expressão:\n",
    "$$\n",
    "\\begin{alignat*}{9}\n",
    "    \\int_a^b f(x)\\,dx & \\approx \\frac{h}{3}\\Big[f(a) + 4 f(x_1) + f(x_2) \\Big] \\\\\n",
    "    &+ \\frac{h}{3}\\Big[f(x_2) + 4 f(x_3) + f(x_4) \\Big] \\\\\n",
    "    &+\\ \\vdots \\\\\n",
    "    &+ \\frac{h}{3}\\Big[f(x_{N - 2}) + 4 f(x_{N-1}) + f(b) \\Big] \\\\\n",
    "    &=\\boxed{\\frac{h}{3}\\Bigg[f(a) + f(b)\n",
    "    + 2 \\sum_{\\substack{i=1 \\\\ i\\ \\text{par}}}^{N - 1} f(x_i)\n",
    "    + 4 \\sum_{\\substack{i=1 \\\\ i\\ \\text{ímpar}}}^{N - 1} f(x_i)\\Bigg]} \\\\\n",
    "\\end{alignat*}\n",
    "$$\n",
    "Esta é a chamada **regra de Simpson** (composta).\n",
    "\n",
    "⚠️ Não esqueça que na regra de Simpson, *o número* $ N $ *de subdivisões deve ser par*.\n",
    "\n",
    "📝 Ignorando erros de arredondamento, em geral quanto maior o valor de $ N $, melhor será a aproximação. Para mais detalhes, veja a $ \\S 5 $.\n",
    "\n",
    "📝 Tomando $ N = 2 $ recuperamos a expressão da regra de Simpson simples."
   ]
  },
  {
   "attachments": {},
   "cell_type": "markdown",
   "id": "7a6f3d42",
   "metadata": {},
   "source": [
    "## $ \\S 3 $ Implementação da regra de Simpson"
   ]
  },
  {
   "cell_type": "code",
   "execution_count": 1,
   "id": "6aea0546",
   "metadata": {},
   "outputs": [],
   "source": [
    "def simpson(f, a, b, N):\n",
    "    \"\"\"\n",
    "    Retorna uma aproximação para a integral definida de a a b\n",
    "    de uma função real f de uma variável usando a regra de Simpson\n",
    "    composta com N subdivisões do intervalo. N deve ser par!\n",
    "    \"\"\"\n",
    "    \n",
    "    if not (isinstance(N, int) and N % 2 == 0 and N >= 2):\n",
    "        raise ValueError(\"N deve ser um natural par!\")\n",
    "        \n",
    "    h = (b - a) / N  # tamanho do passo\n",
    "    soma_impares = 0\n",
    "    soma_pares = 0\n",
    "    x = a  # valor atual de x (x_i)\n",
    "    \n",
    "    for i in range(2, N, 2):    # para i = 2, 4, 6, ..., N - 2:\n",
    "        x += h                  # tome x = a + (i - 1) * h\n",
    "        soma_impares += f(x)\n",
    "        x += h                  # tome x = a + i * h\n",
    "        soma_pares += f(x)\n",
    "    \n",
    "    soma_impares += f(x + h)    # f(x_{N-1}) não foi computado acima\n",
    "    soma_impares *= 4\n",
    "    soma_pares *= 2\n",
    "    integral = (f(a) + f(b) + soma_pares + soma_impares) * h / 3.0\n",
    "    \n",
    "    return integral"
   ]
  },
  {
   "attachments": {},
   "cell_type": "markdown",
   "id": "f56d1ac7",
   "metadata": {},
   "source": [
    "## $ \\S 4 $ Problemas"
   ]
  },
  {
   "attachments": {},
   "cell_type": "markdown",
   "id": "ab532d1a",
   "metadata": {},
   "source": [
    "**Problema 3:** Avalie a integral $$ \\int_1^{e} \\frac{1}{x} \\,dx $$\n",
    "\n",
    "(a) Exatamente, usando o Teorema Fundamental do Cálculo;\n",
    "\n",
    "(b) Usando a regra de Simpson composta com $ N = 6 $ subdivisões (sem ajuda do computador);\n",
    "\n",
    "(c) Usando a regra de Simpson composta com $ N = 16 $ subdivisões (com ajuda do computador)."
   ]
  },
  {
   "attachments": {},
   "cell_type": "markdown",
   "id": "7b54095a",
   "metadata": {},
   "source": [
    "*Solução:*"
   ]
  },
  {
   "cell_type": "code",
   "execution_count": null,
   "id": "dfe80442",
   "metadata": {},
   "outputs": [],
   "source": []
  },
  {
   "attachments": {},
   "cell_type": "markdown",
   "id": "9f12df19",
   "metadata": {},
   "source": [
    "**Problema 4:** Calcule as integrais abaixo pelas regras do trapézio e de Simpson com $ N = 2^k $ subdivisões para $ k = 2, \\dots, 6 $, e compare os resultados:\n",
    "\n",
    "(a) $ \\int_0^\\pi \\exp(\\cos x) \\,dx $;\n",
    "\n",
    "(b) $ \\int_{1}^{\\frac{\\pi}{2}} \\sqrt{\\sin x}\\,dx $."
   ]
  },
  {
   "attachments": {},
   "cell_type": "markdown",
   "id": "dc1ff734",
   "metadata": {},
   "source": [
    "*Solução:*"
   ]
  },
  {
   "cell_type": "code",
   "execution_count": null,
   "id": "eb709939",
   "metadata": {},
   "outputs": [],
   "source": []
  },
  {
   "attachments": {},
   "cell_type": "markdown",
   "id": "5cc29ed9",
   "metadata": {},
   "source": [
    "**Problema 5:** Estime\n",
    "$$\n",
    "\\int_0^\\pi f(x)\\,dx\n",
    "$$\n",
    "o mais precisamente possível usando os valores de $ f $ tabelados abaixo:\n",
    "\n",
    "| $x$    | $0$   | $\\frac{\\pi}{4}$ | $\\frac{\\pi}{2}$ | $\\frac{3\\pi}{4}$ | $\\pi$ |\n",
    "|:------:|:-----:|:---------------:|:---------------:|:----------------:|:-----:|\n",
    "| $f(x)$ | $1.0$ | $ 0.3431 $      | $ 0.25 $        | $ 0.3431 $       | $ 1 $ |"
   ]
  },
  {
   "attachments": {},
   "cell_type": "markdown",
   "id": "d6bb32e1",
   "metadata": {},
   "source": [
    "*Solução:*"
   ]
  },
  {
   "cell_type": "code",
   "execution_count": null,
   "id": "72238730",
   "metadata": {},
   "outputs": [],
   "source": []
  },
  {
   "attachments": {},
   "cell_type": "markdown",
   "id": "8c82979b",
   "metadata": {},
   "source": [
    "**Problema 6:** A função\n",
    "$$\n",
    "\\text{erf(x)} = \\frac{2}{\\sqrt\\pi}\\int_0^x e^{-t^2}\\,dt\n",
    "$$\n",
    "é chamada de *função erro (de Gauss)*. Ela é bastante importante em Estatística,\n",
    "mas não é uma função elementar, ou seja, não é possível encontrar uma \"fórmula\n",
    "fechada\" para $ \\text{erf} $.\n",
    "\n",
    "(a) Mostre que $ \\text{erf}(-x) = -\\text{erf}(x) $, isto é, $ \\text{erf} $ é uma\n",
    "função ímpar. *Dica:* Mostre mais geralmente que se $ f $ é uma função par,\n",
    "então $ g(x) = \\int_0^x f(t)\\,dt $ é ímpar.\n",
    "\n",
    "(b) O limite de $ \\text{erf}(x) $ conforme $ x \\to +\\infty $ existe. Obtenha uma\n",
    "estimativa para ele usando a regra de Simpson da seguinte maneira:\n",
    "* Transforme a integral imprópria de $ 0 $ a $ +\\infty $ numa integral de $ 0 $ a $ 1 $ através da substituição $ t = \\frac{u}{1 - u} $.\n",
    "* Usando a regra de Simpson (com ajuda do computador), estime a integral resultante de\n",
    "$ 0 $ a $ 1 - \\varepsilon $ para $ \\varepsilon > 0 $ cada vez menor."
   ]
  },
  {
   "attachments": {},
   "cell_type": "markdown",
   "id": "49c32d39",
   "metadata": {},
   "source": [
    "*Solução:*"
   ]
  },
  {
   "cell_type": "code",
   "execution_count": null,
   "id": "87c99c79",
   "metadata": {},
   "outputs": [],
   "source": []
  },
  {
   "attachments": {},
   "cell_type": "markdown",
   "id": "8f511f93",
   "metadata": {},
   "source": [
    "## $ \\S 5 $ Análise do erro"
   ]
  },
  {
   "attachments": {},
   "cell_type": "markdown",
   "id": "a35e744a",
   "metadata": {},
   "source": [
    "### 5.1 Motivação"
   ]
  },
  {
   "attachments": {},
   "cell_type": "markdown",
   "id": "5df816ae",
   "metadata": {},
   "source": [
    "**Exemplo 1:** Neste exemplo, veremos que conforme duplicamos o número $ N $ de subdivisões, o erro cometido pela aproximação fornecida pela regra de Simpson para a integral\n",
    "$$ \\int_0^\\pi \\sin x\\,dx = -\\cos \\pi + \\cos 0 = 2 $$\n",
    "é cortado por um fator de aproximadamente $ 16 = 2^4 $. Isto sugere mais\n",
    "geralmente que _o erro cometido diminui com a quarta potência de $ N $ conforme\n",
    "$ N $ aumenta_."
   ]
  },
  {
   "cell_type": "code",
   "execution_count": 21,
   "id": "b2a8dbed",
   "metadata": {},
   "outputs": [
    {
     "name": "stdout",
     "output_type": "stream",
     "text": [
      "Quociente entre os erros das aproximações I_4 e I_8:\n",
      "16.940059660175127\n",
      "Quociente entre os erros das aproximações I_8 e I_16:\n",
      "16.223806322213832\n",
      "Quociente entre os erros das aproximações I_16 e I_32:\n",
      "16.055292275691855\n",
      "Quociente entre os erros das aproximações I_32 e I_64:\n",
      "16.013782256098068\n",
      "Quociente entre os erros das aproximações I_64 e I_128:\n",
      "16.003424727310932\n"
     ]
    }
   ],
   "source": [
    "from numpy import sin, pi\n",
    "\n",
    "\n",
    "I_velho = simpson(sin, 0, pi, 4)\n",
    "\n",
    "for k in range(3, 8):\n",
    "    I_novo = simpson(sin, 0, pi, 2**k)\n",
    "    erro_novo = abs(I_novo - 2)\n",
    "    erro_velho = abs(I_velho - 2)\n",
    "    print(f\"Quociente entre os erros das aproximações I_{2**(k - 1)} e I_{2**k}:\")\n",
    "    print(erro_velho / erro_novo)\n",
    "    I_velho = I_novo"
   ]
  },
  {
   "attachments": {},
   "cell_type": "markdown",
   "id": "781c31ca",
   "metadata": {},
   "source": [
    "### $ 5.2 $ Fórmula para o erro\n",
    "\n",
    "\n",
    "**Teorema 5.1 (fórmula para o erro na regra de Simpson):** _Seja $ f \\colon [a, b] \\to \\mathbb R $ uma função com quarta derivada contínua. O_ **erro** $ E $, _diferença entre a integral de $ f $ neste intervalo e o valor fornecido pela regra de Simpson, é dado por_\n",
    "$$\n",
    "\\boxed{E = -\\frac{(b-a)^5}{180N^4}f^{(4)}(c) \\quad \\text{para algum } c\\in [a, b]}\n",
    "\\tag*{$ \\blacksquare $}\n",
    "$$\n",
    "\n",
    "Omitiremos a demonstração, que é parecida com mas mais trabalhosa que a da fórmula para o erro na regra do trapézio.\n",
    "\n",
    "📝 Concluímos imediatamente que, grosso modo, na regra de Simpson *o erro decresce com a quarta potência do número $ N $ de subdivisões conforme $ N $ aumenta*.\n",
    "\n",
    "📝 A fórmula do erro implica que a regra de Simpson fornece o valor *exato* para a integral caso $ f $ seja um polinômio de grau $ \\le 3 $, apesar de termos utilizado  polinômios interpoladores de grau $ 2 $ para obtê-la.\n",
    "\n",
    "**Corolário 5.2:** *Seja $ f \\colon [a, b]  \\to \\mathbb R $ uma função com quarta derivada contínua em $ [a, b] $. Então o erro $ E $ cometido na aproximação da integral de $ f $ sobre $ [a, b] $ pela regra de Simpson com $ N $ subdivisões satisfaz*\n",
    "$$\n",
    "    \\boxed{\\lvert{E}\\rvert \\le \\frac{\\vert{b-a}\\vert^5}{180N^4}\\max_{[a,b]} \\lvert{f^{(4)}}\\rvert}\\tag*{$ \\blacksquare $}\n",
    "$$\n",
    "\n",
    "**Problema 7:** Estime o erro cometido na aproximação da integral\n",
    "$$\n",
    "\\int_4^8 \\ln x\\,dx \n",
    "$$\n",
    "usando a regra de Simpson com:\n",
    "\n",
    "(a) $ N = 2 $ subdivisões;\n",
    "\n",
    "(b) $ N = 4 $ subdivisões."
   ]
  },
  {
   "attachments": {},
   "cell_type": "markdown",
   "id": "91d427b0",
   "metadata": {},
   "source": [
    "*Solução:*"
   ]
  },
  {
   "attachments": {},
   "cell_type": "markdown",
   "id": "4e311874",
   "metadata": {},
   "source": [
    "**Problema 8:**\n",
    "\n",
    "(a) Usando o Corolário 5.2, determine o menor $ N $ (par) para que se possa garantir que o erro envolvido na aproximação fornecida pela regra de Simpson com $ N $ subdivisões para a integral\n",
    "\\begin{equation*}%\\label{E:}\n",
    "    \\int_0^{\\pi} \\cos x\\,dx\n",
    "\\end{equation*}\n",
    "seja menor que $ \\varepsilon = 10^{-3} $ em valor absoluto.\n",
    "\n",
    "(b) Verifique se o erro cometido para o valor de $ N $ encontrado no item (a) possui de fato módulo menor que $ \\varepsilon $ calculando o valor exato da integral e sua a aproximação através da regra de Simpson."
   ]
  },
  {
   "attachments": {},
   "cell_type": "markdown",
   "id": "05e31af0",
   "metadata": {},
   "source": [
    "*Solução:*"
   ]
  }
 ],
 "metadata": {
  "kernelspec": {
   "display_name": "base",
   "language": "python",
   "name": "python3"
  },
  "language_info": {
   "codemirror_mode": {
    "name": "ipython",
    "version": 3
   },
   "file_extension": ".py",
   "mimetype": "text/x-python",
   "name": "python",
   "nbconvert_exporter": "python",
   "pygments_lexer": "ipython3",
   "version": "3.12.4"
  }
 },
 "nbformat": 4,
 "nbformat_minor": 5
}
