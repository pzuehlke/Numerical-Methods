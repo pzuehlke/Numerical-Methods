{
 "cells": [
  {
   "cell_type": "markdown",
   "metadata": {},
   "source": [
    "# Cálculo simbólico e numérico de derivadas\n",
    "\n",
    "## $ \\S 1 $ Introdução\n",
    "\n",
    "Nesta aula aprenderemos a calcular derivadas de funções usando Python.  O\n",
    "cálculo de derivadas pode ser abordado de duas maneiras principais:\n",
    "**simbólica** e **numérica**. Para cada tipo, usaremos um pacote diferente:\n",
    "**SymPy** e **SciPy**, respectivamente. (Para distingüir um do outro,\n",
    "note que \"Sym\" é abreviação de \"Symbolic\").\n",
    "\n",
    "⚠️ Quando importados, tanto o SymPy quanto o SciPy são freqüentemente abreviados por `sp`.\n",
    "Para evitar confusão, utilizaremos as abreviações abaixo."
   ]
  },
  {
   "cell_type": "code",
   "execution_count": null,
   "metadata": {},
   "outputs": [],
   "source": [
    "import sympy as sym\n",
    "import scipy as scp"
   ]
  },
  {
   "cell_type": "markdown",
   "metadata": {},
   "source": [
    "O **cálculo numérico** utiliza técnicas de discretização do domínio para estimar\n",
    "a derivada de uma função com base nos valores dela em alguns pontos específicos.\n",
    "O *método das diferenças finitas* é o mais comumente utilizado. Na forma mais\n",
    "simples, aproximamos a derivada de uma função $ f $ em $ x = x_0 $ pela\n",
    "expressão\n",
    "$$\n",
    "f'(x_0) \\approx \\frac{f(x_0 + h) - f(x_0)}{h}\\,\n",
    "$$\n",
    "para $ h > 0 $ pequeno. Esta é a chamada _fórmula da diferença progressiva_.\n",
    "Outras fórmulas, como a da _diferença centrada_\n",
    "$$\n",
    "f'(x_0) \\approx \\frac{f(x_0 + h) - f(x_0 - h)}{2h}\\,\n",
    "$$\n",
    "oferecem aproximações melhores. \n",
    "\n",
    "Infelizmente, os métodos numéricos de derivação não são muito precisos, por\n",
    "exemplo quando comparados aos métodos numéricos para integração. Isto ocorre por\n",
    "causa do conflito entre os erros envolvidos na interpolação em si (para os\n",
    "quais a solução seria diminuir $ h $ ao máximo nas expressões acima) e os erros\n",
    "de arredondamento inerentes à precisão limitada do sistema de ponto flutuante\n",
    "(para os quais a solução seria não tomar $ h $ muito pequeno).\n",
    "\n",
    "No **cálculo simbólico**, como o realizado pelo SymPy, as derivadas são obtidas\n",
    "manipulando-se a expressão matemática exata da função de acordo com as regras usuais\n",
    "de derivação aprendidas no curso de Cálculo. As variáveis são tratadas como\n",
    "_símbolos_, e o resultado é uma expressão analítica para a derivada como uma função\n",
    "independente, não apenas o valor dela num determinado ponto $ x_0 $.\n",
    "\n",
    "\n",
    "|   | Cálculo Simbólico                     | Cálculo Numérico                      |\n",
    "|---------------------------|---------------------------------------|---------------------------------------|\n",
    "| **Precisão**              | exata                                 | aproximada                            |\n",
    "| **Resultado**             | expressão analítica                   | valor numérico                        |\n",
    "| **Dependência de Dados**  | não é capaz de lidar diretamente com dados        | pode ser usado com dados experimentais |\n",
    "| **Aplicabilidade**        | ideal para análises teóricas          | ideal para avaliações práticas        |\n",
    "| **Custo Computacional** | pode ser alto para funções complicadas | geralmente mais eficiente             |\n",
    "| **Facilidade de Implementação** | requer consideração de vários casos e regras | geralmente muito simples |\n",
    "\n"
   ]
  },
  {
   "cell_type": "markdown",
   "metadata": {},
   "source": [
    "## $ \\S 2 $ Derivadas simbólicas com o SymPy\n",
    "\n",
    "### $ 2.1 $ Exemplos\n",
    "\n",
    "**Exemplo 1 (derivada de um polinômio):** Considere $ f(x) = x^2 + 3x + 2 $.\n",
    "Vamos calcular sua derivada (em relação a $ x $)."
   ]
  },
  {
   "cell_type": "code",
   "execution_count": null,
   "metadata": {},
   "outputs": [
    {
     "data": {
      "text/latex": [
       "$\\displaystyle 2 x + 3$"
      ],
      "text/plain": [
       "2*x + 3"
      ]
     },
     "metadata": {},
     "output_type": "display_data"
    }
   ],
   "source": [
    "# Importando o SymPy:\n",
    "import sympy as sym\n",
    "\n",
    "# Definindo a variável simbólica:\n",
    "x = sym.symbols('x')\n",
    "\n",
    "# Definindo a função:\n",
    "f = x**2 + 3*x + 2\n",
    "\n",
    "# Calculando a derivada:\n",
    "df_dx = sym.diff(f, x)\n",
    "\n",
    "# Retornando o resultado:\n",
    "df_dx"
   ]
  },
  {
   "cell_type": "markdown",
   "metadata": {},
   "source": [
    "__Exercício:__ \n",
    "\n",
    "(a) Calcule a derivada da função constante igual a $ 1 $.\n",
    "\n",
    "(b) Seja $ c $ uma constante. Calcule a derivada da função $ x \\mapsto cx $. _Dica:_ Introduza $ c $ como um novo símbolo."
   ]
  },
  {
   "cell_type": "code",
   "execution_count": null,
   "metadata": {},
   "outputs": [],
   "source": []
  },
  {
   "cell_type": "markdown",
   "metadata": {},
   "source": [
    "__Exemplo 2 (derivada da exponencial):__ Para calcular derivadas de uma função\n",
    "especial, como a exponencial, o logaritmo ou o seno, precisamos importar a\n",
    "versão dela fornecida pelo SymPy. Por exemplo, se $ g(t) = e^{-t^2} $:"
   ]
  },
  {
   "cell_type": "code",
   "execution_count": 6,
   "metadata": {},
   "outputs": [
    {
     "data": {
      "text/latex": [
       "$\\displaystyle e^{- t^{2}}$"
      ],
      "text/plain": [
       "exp(-t**2)"
      ]
     },
     "metadata": {},
     "output_type": "display_data"
    },
    {
     "data": {
      "text/latex": [
       "$\\displaystyle - 2 t e^{- t^{2}}$"
      ],
      "text/plain": [
       "-2*t*exp(-t**2)"
      ]
     },
     "metadata": {},
     "output_type": "display_data"
    }
   ],
   "source": [
    "# Definindo a variável simbólica:\n",
    "t = sym.symbols('t')\n",
    "\n",
    "# Definindo g:\n",
    "g = sym.exp(-t * t)     # sym.exp é a exponencial\n",
    "\n",
    "# Calculando e retornando a derivada:\n",
    "dg_dt = sym.diff(g, t)\n",
    "display(g, dg_dt)"
   ]
  },
  {
   "cell_type": "markdown",
   "metadata": {},
   "source": [
    "📝 A instrução `display` que aparece na última linha é usada para exibir de\n",
    "forma clara e formatada expressões matemáticas simbólicas num caderno Jupyter ou\n",
    "em outros ambientes que suportem renderização matemática. Se o resultado\n",
    "de uma célula é uma única função, ela é chamada automaticamente pelo Jupyter, por\n",
    "isto é desnecessário utilizá-la. Por outro lado, fora de um caderno Jupyter ela\n",
    "precisa ser importada do pacote `IPython`. Observe como a formatação ficaria\n",
    "desagradável se não a tivéssemos utilizado no exemplo acima:"
   ]
  },
  {
   "cell_type": "code",
   "execution_count": 8,
   "metadata": {},
   "outputs": [
    {
     "name": "stdout",
     "output_type": "stream",
     "text": [
      "exp(-t**2) -2*t*exp(-t**2)\n"
     ]
    },
    {
     "data": {
      "text/plain": [
       "(exp(-t**2), -2*t*exp(-t**2))"
      ]
     },
     "execution_count": 8,
     "metadata": {},
     "output_type": "execute_result"
    }
   ],
   "source": [
    "print(g, dg_dt)  # Tentando imprimir usando `print`\n",
    "g, dg_dt         # Tentando simplesmente retorná-las como resultado"
   ]
  },
  {
   "cell_type": "markdown",
   "metadata": {},
   "source": [
    "__Exercício:__ Verifique que:\n",
    "\n",
    "(a) $ \\ln'(x) = \\frac{1}{x} $ para $ x > 0 $. _Dica:_ O logaritmo natural é denotado por `log`.\n",
    "\n",
    "(b) $ \\ln'(\\vert x \\vert) = \\frac{1}{x} $ para $ x \\ne 0 $. _Dica:_ A função\n",
    "módulo (valor absoluto) é denotada por `Abs`. Você precisará declarar a variável\n",
    "$ x $ como real (em vez de complexa) através do comando `sym.symbols('x',\n",
    "real=True)`."
   ]
  },
  {
   "cell_type": "code",
   "execution_count": null,
   "metadata": {},
   "outputs": [],
   "source": []
  },
  {
   "cell_type": "markdown",
   "metadata": {},
   "source": [
    "Não é possível utilizar funções importadas de outras bibliotecas, como o NumPy\n",
    "ou a Math, porque elas têm tipos diferentes que as funções correspondentes do\n",
    "SymPy; estas últimas são funções simbólicas (ou seja, são apenas expressões, não\n",
    "são realmente funções no sentido convencional do Python).\n",
    "\n",
    "__Exercício:__ Importe a função seno (`sin`) do NumPy e tente derivá-la como\n",
    "nos exemplos acima."
   ]
  },
  {
   "cell_type": "code",
   "execution_count": null,
   "metadata": {},
   "outputs": [],
   "source": []
  },
  {
   "cell_type": "markdown",
   "metadata": {},
   "source": [
    "Pelo mesmo motivo, não conseguimos avaliar diretamente uma função no sentido do SymPy num ponto:"
   ]
  },
  {
   "cell_type": "code",
   "execution_count": 11,
   "metadata": {},
   "outputs": [
    {
     "ename": "TypeError",
     "evalue": "'sin' object is not callable",
     "output_type": "error",
     "traceback": [
      "\u001b[0;31m---------------------------------------------------------------------------\u001b[0m",
      "\u001b[0;31mTypeError\u001b[0m                                 Traceback (most recent call last)",
      "Cell \u001b[0;32mIn[11], line 2\u001b[0m\n\u001b[1;32m      1\u001b[0m seno \u001b[38;5;241m=\u001b[39m sym\u001b[38;5;241m.\u001b[39msin(x)  \u001b[38;5;66;03m# definindo a função seno\u001b[39;00m\n\u001b[0;32m----> 2\u001b[0m \u001b[43mseno\u001b[49m\u001b[43m(\u001b[49m\u001b[38;5;241;43m3.14\u001b[39;49m\u001b[43m)\u001b[49m  \u001b[38;5;66;03m# gera um erro porque seno é uma função simbólica\u001b[39;00m\n",
      "\u001b[0;31mTypeError\u001b[0m: 'sin' object is not callable"
     ]
    }
   ],
   "source": [
    "seno = sym.sin(x)  # definindo a função seno\n",
    "seno(3.14)  # gera um erro porque seno é uma função simbólica"
   ]
  },
  {
   "cell_type": "markdown",
   "metadata": {},
   "source": [
    "Para substituir um valor específico para a variável (digamos, $ x $) de uma função $ f $, utilize `f.subs(x, <valor>)`:"
   ]
  },
  {
   "cell_type": "code",
   "execution_count": 12,
   "metadata": {},
   "outputs": [
    {
     "data": {
      "text/latex": [
       "$\\displaystyle 0.00159265291648683$"
      ],
      "text/plain": [
       "0.00159265291648683"
      ]
     },
     "execution_count": 12,
     "metadata": {},
     "output_type": "execute_result"
    }
   ],
   "source": [
    "seno.subs(x, 3.14)"
   ]
  },
  {
   "cell_type": "markdown",
   "metadata": {},
   "source": [
    "__Exercício:__ Avalie o cosseno em $ \\frac{\\pi}{2} $ e o logaritmo natural em\n",
    "$ e $. Utilize as constantes $ \\pi $ (`sym.pi`) e $ e $ (`sym.E`)."
   ]
  },
  {
   "cell_type": "code",
   "execution_count": null,
   "metadata": {},
   "outputs": [],
   "source": []
  },
  {
   "cell_type": "markdown",
   "metadata": {},
   "source": [
    "Podemos utilizar qualquer caracter Unicode (ou palavra consistindo de\n",
    "caracteres deste tipo) como nomes para as variáveis, por exemplo '$ \\alpha $' ou\n",
    "\"alfa\".\n",
    "\n",
    "__Exemplo 3 (derivadas de ordem superior):__ Vamos verificar a periodicidade das\n",
    "derivadas da função seno. "
   ]
  },
  {
   "cell_type": "code",
   "execution_count": 10,
   "metadata": {},
   "outputs": [
    {
     "data": {
      "text/latex": [
       "$\\displaystyle \\sin{\\left(θ \\right)}$"
      ],
      "text/plain": [
       "sin(θ)"
      ]
     },
     "metadata": {},
     "output_type": "display_data"
    },
    {
     "data": {
      "text/latex": [
       "$\\displaystyle \\cos{\\left(θ \\right)}$"
      ],
      "text/plain": [
       "cos(θ)"
      ]
     },
     "metadata": {},
     "output_type": "display_data"
    },
    {
     "data": {
      "text/latex": [
       "$\\displaystyle - \\sin{\\left(θ \\right)}$"
      ],
      "text/plain": [
       "-sin(θ)"
      ]
     },
     "metadata": {},
     "output_type": "display_data"
    },
    {
     "data": {
      "text/latex": [
       "$\\displaystyle - \\cos{\\left(θ \\right)}$"
      ],
      "text/plain": [
       "-cos(θ)"
      ]
     },
     "metadata": {},
     "output_type": "display_data"
    },
    {
     "data": {
      "text/latex": [
       "$\\displaystyle \\sin{\\left(θ \\right)}$"
      ],
      "text/plain": [
       "sin(θ)"
      ]
     },
     "metadata": {},
     "output_type": "display_data"
    }
   ],
   "source": [
    "# Definindo a variável simbólica (θ):\n",
    "θ = sym.symbols('θ')\n",
    "\n",
    "# Definindo a função seno:\n",
    "f = sym.sin(θ)\n",
    "\n",
    "# Primeira derivada:\n",
    "df_dθ = sym.diff(f, θ)\n",
    "\n",
    "# Para calcular a segunda derivada, podemos derivar df_dt:\n",
    "d2f_dθ2 = sym.diff(df_dθ, θ)\n",
    "# Alternativamente, basta indicar a ordem como um argumento extra:\n",
    "d2f_dθ2 = sym.diff(f, θ, 2)\n",
    "\n",
    "# Similarmente para as derivadas de ordem mais alta:\n",
    "d3f_dθ3 = sym.diff(f, θ, 3)\n",
    "d4f_dθ4 = sym.diff(f, θ, 4)\n",
    "\n",
    "# Exibindo os resultados:\n",
    "display(f, df_dθ, d2f_dθ2, d3f_dθ3, d4f_dθ4)\n"
   ]
  },
  {
   "cell_type": "markdown",
   "metadata": {},
   "source": [
    "**Exercício:** Use o SymPy para obter a primeira e segunda derivada de cada uma\n",
    "das seguintes funções.\n",
    "\n",
    "(a) $ f(x) = 5x^3 - 4x^2 + 2x - 7 \\,$. Verifique ainda que $ f^{(4)} \\equiv 0 $.\n",
    "\n",
    "(b) $ g(x) = e^{3x} \\sin x \\,$\n",
    "\n",
    "(c) $ h(t) = \\frac{t^2 + 1}{t - 1} \\,$\n",
    "\n",
    "(d) $ u(x) = \\ln(x^2 + 3x + 2) \\,$ (o logaritmo natural no SymPy é `log`).\n",
    "\n",
    "(e) $ v(\\alpha) = \\sqrt{\\alpha^2 + \\cos^2(\\alpha)} \\ $ (utilize a variável-símbolo '$ \\alpha $')."
   ]
  },
  {
   "cell_type": "code",
   "execution_count": null,
   "metadata": {},
   "outputs": [],
   "source": []
  },
  {
   "cell_type": "markdown",
   "metadata": {},
   "source": [
    "### $ 2.2 $ Explicação do método simbólico\n",
    "\n",
    "De maneira breve, o cálculo simbólico de derivadas consiste em formalizar\n",
    "num algoritmo as regras formais de derivação, tais como:\n",
    "\n",
    "$$\n",
    "\\begin{aligned}\n",
    "& \\big(a\\, f + b\\,g\\big)' = a\\, f' + b\\, g' && (\\text{regra da combinação linear}) \\\\\n",
    "& (x^r)' = r\\,x^{r - 1} && (\\text{regra da potência}) \\\\\n",
    "& (f \\cdot g)' = f' \\cdot g + f \\cdot g' && (\\text{regra do produto}) \\\\\n",
    "& \\left(\\frac{f}{g}\\right)' = \\frac{f' \\cdot g - f \\cdot g'}{g^2} && (\\text{regra do quociente}) \\\\\n",
    "& (f \\circ g)' = (f'\\circ g) \\cdot g' && (\\text{regra da cadeia})\n",
    "\\end{aligned}\n",
    "$$\n",
    "Além destas, é necessário implementar diretamente a derivada de funções\n",
    "especiais, como a exponencial ou o seno.\n",
    "\n",
    "Durante o processo, o algoritmo deve simplificar automaticamente as expressões\n",
    "intermediárias para tentar controlar a complexidade.  Isso envolve a combinação\n",
    "de termos semelhantes, a aplicação de identidades trigonométricas, etc. Todas\n",
    "estas regras precisam ser codificadas \"à mão\".  Apesar da implementação\n",
    "trabalhosa, as idéias subjacentes a um algoritmo deste tipo são relativamente\n",
    "simples.\n",
    "\n",
    "**Exemplo 4:** Se derivarmos $ f(x) = \\sin^2 x + \\cos^2⁡ x $ usando\n",
    "cegamente a regra da soma e a do produto, obteremos a expressão\n",
    "$$\n",
    "f'(x) = 2\\,\\sin x \\,\\cos x + 2\\,\\cos x\\,\\big(-\\sin x\\big)\\,.\n",
    "$$\n",
    "Contudo, o SymPy foi programado para notar que $ f(x) = 1 $ para todo $ x $ ou\n",
    "que os dois termos na expressão para $ f' $ podem ser cancelados:"
   ]
  },
  {
   "cell_type": "code",
   "execution_count": null,
   "metadata": {},
   "outputs": [
    {
     "data": {
      "text/latex": [
       "$\\displaystyle 0$"
      ],
      "text/plain": [
       "0"
      ]
     },
     "metadata": {},
     "output_type": "display_data"
    }
   ],
   "source": [
    "# Reservando o símbolo x e definindo f:\n",
    "x = sym.symbols('x')\n",
    "f = sym.sin(x)**2 + sym.cos(x)**2\n",
    "\n",
    "# Calculando a derivada:\n",
    "df_dx = sym.diff(f, x)\n",
    "df_dx"
   ]
  },
  {
   "cell_type": "markdown",
   "metadata": {},
   "source": [
    "__Exercício:__ O valor presente $ V $ de uma série de pagamentos mensais (por\n",
    "exemplo da hipoteca de uma casa) é dado pela fórmula:\n",
    "$$\n",
    "V = \\frac{C}{r_m} \\left[1 - (1 + r_m)^{-n}\\right]\n",
    "$$\n",
    "onde $ C $ é o valor do pagamento mensal, $ r_m $ é a taxa de juros mensal e $ n $ é o número total de meses da série.\n",
    "Calcule a sensibilidade (ou seja, a taxa de variação) do valor presente em\n",
    "relação à taxa de juros mensal. _Dica:_ Constantes também podem ser vistas como símbolos."
   ]
  },
  {
   "cell_type": "code",
   "execution_count": null,
   "metadata": {},
   "outputs": [],
   "source": []
  }
 ],
 "metadata": {
  "kernelspec": {
   "display_name": "Python 3",
   "language": "python",
   "name": "python3"
  },
  "language_info": {
   "codemirror_mode": {
    "name": "ipython",
    "version": 3
   },
   "file_extension": ".py",
   "mimetype": "text/x-python",
   "name": "python",
   "nbconvert_exporter": "python",
   "pygments_lexer": "ipython3",
   "version": "3.12.3"
  }
 },
 "nbformat": 4,
 "nbformat_minor": 2
}
