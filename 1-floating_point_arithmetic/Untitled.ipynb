{
 "cells": [
  {
   "cell_type": "markdown",
   "id": "df16444c",
   "metadata": {},
   "source": [
    "# Converting from decimal to binary and back\n",
    "\n",
    "## 1 Representations of number in different bases\n",
    "\n",
    "It is important to differentiate a real number $ x $ from the form of its representation (binary, decimal, octal, hexadecimal, etc.). Any *integer* $ b \\ge 2 $ can serve as the **base** of a representation system. In this system, numbers are represented using the notation\n",
    "\n",
    "$$ x = (a_m\\, a_{m - 1}\\dots a_1\\, a_0\\,.\\,a_{-1}\\, a_{-2} \\dots)_{b}\\ , $$\n",
    "\n",
    "which means that\n",
    "\n",
    "$$ x = a_mb^m + a_{m - 1}b^{m - 1} + \\dots + a_1 b + a_0 \n",
    "   + a_{-1}b^{-1} + a_{-2}b^{-2} + \\dots. $$\n",
    "   \n",
    "The number of digits to the *left* of the point is always *finite*, because any real number is bounded. In contrast, the number of digits to the *right* of the point can be *infinite*, because not every number is rational.\n",
    "\n",
    "📝 Because we commonly use the decimal system almost exclusively to represent numbers, we write, say, $ x = 592 $ instead of $ x = (592)_{10} $. However, it is important to keep in mind that '$ 592 $' is not the number $ x $ itself, but rather its *representation* in in base $ 10 $. The same number could also be written as $ x = (1001010000)_2 $, and were the binary system the one most commonly used, we would instead abuse our notation to write $ x = 1001010000 $."
   ]
  },
  {
   "cell_type": "markdown",
   "id": "0aa2fed0",
   "metadata": {},
   "source": [
    "**Exercise:** Let $ b > 1 $ be an integer. Prove that the representation of a real number $ x $ is finite in base $ b $ if and only if $ x $ can be expressed as a fraction in which the denominator is of the form $ b^r $ for some integer $ r \\ge 0 $. "
   ]
  },
  {
   "cell_type": "markdown",
   "id": "3d7f356d",
   "metadata": {},
   "source": [
    "Most computing uses the **binary** form of representing numbers, in which the base $ b $ equals $ 2 $. There are several reasons for this, one being that this is the simplest possible choice; another is the close relationship between Boolean logic and the arithmetic of integers modulo 2.\n",
    "\n",
    "In the binary system, the digit of a number is usually referred to as a **bit** (short for _binary digit_). Our immediate objective is to understand how to convert from the binary system to the more familiar decimal system and back.\n",
    "\n",
    "For example, \n",
    "\n",
    "\\begin{align} (1001.101)_2 &= 1 \\times 2^3 + 0 \\times 2^2 + 0 \\times 2^1 + 1 \\times 2^0 + 1 \\times 2^{-1} + 0 \\times 2^{-2} + 1 \\times 2^{-3}  \\\\\n",
    "& = 8 + 1 + \\frac{1}{2} + \\frac{1}{8} \\\\ &= \\frac{77}{8}.\n",
    "\\end{align}"
   ]
  },
  {
   "cell_type": "markdown",
   "id": "d2a21591",
   "metadata": {},
   "source": [
    "## 2 Computing a number from its representation in base $ b $<a name=\"section2\"></a>\n",
    "\n",
    "### 2.1 Obtaining an integer from its representation in base $ b $\n",
    "**Problem:** Define a function which takes a base $ b $ and the *representation* of a positive integer $ n $ in this base, given as a string of digits between $ 0 $ and $ b - 1 $, and which returns $ n $ as output."
   ]
  },
  {
   "cell_type": "code",
   "execution_count": 1,
   "id": "a165e3f2",
   "metadata": {},
   "outputs": [
    {
     "name": "stdout",
     "output_type": "stream",
     "text": [
      "11\n",
      "31\n",
      "1011\n"
     ]
    }
   ],
   "source": [
    "def rep_to_number(b: int, digits: str) -> int:   # The type annotations are optional!\n",
    "    \"\"\"A function which takes a string of digits between 0 and b - 1, where the base b >= 1\n",
    "    is an integer, and returns the integer whose representation in base b is the given one.\"\"\"\n",
    "    \n",
    "    assert isinstance(b, int) and b >= 2         # Make sure b is an integer >= 2.\n",
    "    allowed = [str(d) for d in range(0, b)]      # Allowed characters for representations in base b.\n",
    "    for digit in digits:                         # Check if the representation is valid.\n",
    "        if digit not in allowed:\n",
    "            raise ValueError(f\"Invalid representation of a number in base {b}.\")\n",
    "       \n",
    "    highest_exponent = len(digits) - 1\n",
    "    n = 0\n",
    "    exponent = highest_exponent\n",
    "    for digit in digits:\n",
    "        n += int(digit) * b**exponent    # Add to n the current digit multiplied by the current exp.\n",
    "        exponent -= 1\n",
    "    \n",
    "    return n\n",
    "\n",
    "\n",
    "print(rep_to_number(2, \"1011\"))\n",
    "print(rep_to_number(3, \"1011\"))\n",
    "print(rep_to_number(10, \"1011\"))"
   ]
  },
  {
   "cell_type": "markdown",
   "id": "dd0ed9af",
   "metadata": {},
   "source": [
    "### 2.2 Obtaining a fractional number from its representation in base $ b $\n",
    "**Problem:** Define a function which takes a base $ b $ and the (finite) *representation* of a number $ t $ ($ 0 \\le t < 1 $) in this base, given as a string of digits between $ 0 $ and $ b - 1 $, and returns $ t $ as output."
   ]
  },
  {
   "cell_type": "markdown",
   "id": "8c4f9035",
   "metadata": {},
   "source": [
    "*Solution:* We can easily solve this by making use of the function defined in the preceding section as follows. Since $ 0 \\le t < 1 $ by hypothesis, its representation in base $ b $ must be of the form\n",
    "$$ t = (.a_{-1}\\,a_{-2}\\dots a_{-m})_b $$\n",
    "for some $ m \\ge 1 $. Equivalently,\n",
    "$$ t = a_{-1}b^{-1} + a_{-2}b^{-2} + \\dots + a_{-m}b^{-m} .$$\n",
    "Multiplying both sides by $ b^ m $:\n",
    "$$ b^m t = a_{-1}b^{m - 1} + a_{-2}b^{m - 2} + \\dots + a_{-m} b^0 .$$\n",
    "In other words, the *integer* $b^m t $ has the representation\n",
    "$$ b^m t = (a_{-1}\\,a_{-2}\\dots a_{-m})_b .$$\n",
    "(Note the absence of the point in the latter representation.) Therefore, we can obtain the value of $ t $ by first computing the *integer* $ b^m t $ using the preceding representation and then multiplying the result by $ b^{-m} $."
   ]
  },
  {
   "cell_type": "code",
   "execution_count": 2,
   "id": "651e4e2a",
   "metadata": {},
   "outputs": [
    {
     "name": "stdout",
     "output_type": "stream",
     "text": [
      "0.75\n",
      "0.4444444444444444\n",
      "0.11\n"
     ]
    }
   ],
   "source": [
    "def rep_to_fractional(b: int, digits: str) -> int:   # The type annotations are optional!\n",
    "    \"\"\"A function which takes a string of digits between 0 and b - 1,\n",
    "    where the base b >= 1 is an integer, and returns the fractional number\n",
    "    whose representation in base b is the given one.\"\"\"\n",
    "    m = len(digits)\n",
    "    n = rep_to_number(b, digits)\n",
    "    return n * b**(-m)\n",
    "\n",
    "\n",
    "print(rep_to_fractional(2, \"11\"))\n",
    "print(rep_to_fractional(3, \"11\"))\n",
    "print(rep_to_fractional(10, \"11\"))"
   ]
  },
  {
   "cell_type": "markdown",
   "id": "95797480",
   "metadata": {},
   "source": [
    "### 2.3 Obtaining a real number from its representation in base $ b $\n",
    "\n",
    "**Exercise:** Define a function which takes three arguments:\n",
    "* The base $ b $;\n",
    "* The representation of the integral part $ n \\ge 1 $ of a real number $ x $ in base $ b $;\n",
    "* The representation of the fractional part $ 0 \\le t < 1 $ of a real number $ x $ in base $ b $;\n",
    "\n",
    "and which returns $ x $ as output. (*Hint:* Use the functions that were defined above.)\n",
    "\n",
    "**Exercise:** How should each of the functions above be modified to include the possibility that $ x \\le 0 $?"
   ]
  },
  {
   "cell_type": "markdown",
   "id": "c194386e",
   "metadata": {},
   "source": [
    "## 3 Computing the representation of a number in base $ b $\n",
    "\n",
    "We will now consider the converse problem to the one in [$ \\S 2 $](#section2), namely, how to compute the representation of a number in base $ b $ given the number $ x $ itself."
   ]
  },
  {
   "cell_type": "markdown",
   "id": "977eaf18",
   "metadata": {},
   "source": [
    "### 3.1 Obtaining a the representation in base $ b $ of an integer\n",
    "\n",
    "**Problem:** Define a function which takes a base $ b $ and a positive integer $ n \\ge 1 $ and returns the representation of $ n $ in this base, given as a string of digits between $ 0 $ and $ b - 1 $.\n",
    "\n",
    "*Solution*: Consider the task of finding the binary representation of the number $ n = 63 $. A smart strategy is to assume that we already have this representation:\n",
    "$$ n = (a_m\\,a_{m-1}\\dots a_1a_0)_2 $$\n",
    "and to consider how each of these digits (bits, in this case) can be recovered from $ n $. We are given, in other words, that\n",
    "$$ n = a_m\\times 2^m + a_{m-1} \\times 2^{m-1} + \\dots + a_1 \\times 2^1 + a_0\\times 2^0 .$$\n",
    "Now note that:\n",
    "* $ a_0 \\equiv n \\pmod 2 $, that is, $ a_0 $ is the remainder of $ n $ upon division by $ 2 $."
   ]
  },
  {
   "cell_type": "markdown",
   "id": "35c56410",
   "metadata": {},
   "source": [
    "### 3.1 Obtaining a the representation in base $ b $ of a fractional number\n",
    "\n",
    "**Problem:** Let $ 0 \\le t < 1 $ be a fractional number and $ b $ be an integer $ \\ge 2 $. Write a function to find the representation of $ t $ in base $ b $, given as a string of digits between $ 0 $ and $ b - 1 $.\n",
    "\n",
    "*Solution*: Let \n",
    "$$ t = (.a_{-1}\\,a_{-2}\\dots a_{-m}\\dots)_b $$\n",
    "be this representation, that is,\n",
    "$$ t = a_{-1}b^{-1} + a_{-2}b^{-2} + \\dots + a_{-m}b^{-m} + \\dots .$$\n",
    "Multiplying both sides by $ b $, we deduce that\n",
    "$$ bt = a_{-1} + \\big( a_{-2}b^{-1} + \\dots + a_{-m}b^{-m + 1} + \\dots \\big) .$$\n",
    "Hence the *first digit $ a_{-1} $ in this representation is the integral part of $ bt $*, while the terms in parentheses form the fractional part of $ bt $. We can multiply the latter by $ b $ and take the integral part of the result to obtain $ a_{-2} $. Proceeding in the same way, we can compute as many of the digits $ a_k $ as we like. The corresponding procedure is implemented below."
   ]
  },
  {
   "cell_type": "code",
   "execution_count": 9,
   "id": "ad881ecf",
   "metadata": {},
   "outputs": [
    {
     "name": "stdout",
     "output_type": "stream",
     "text": [
      "111111\n",
      "1000000\n"
     ]
    }
   ],
   "source": [
    "def number_to_rep(b: int, n: int) -> str:\n",
    "    \"\"\"Given a base b and a nonnegative integer n, returns the\n",
    "    representation of n in base b as a string of digits from 0 to (b - 1).\"\"\"\n",
    "    assert isinstance(b, int) and b >= 2\n",
    "    assert isinstance(n, int) and n >= 0\n",
    "    \n",
    "    list_of_digits = []                   # Will store the list of digits of n.\n",
    "    while n > 0: \n",
    "        d = n % b\n",
    "        n //= b                           # The new value of n is the quotient of n by b.\n",
    "        list_of_digits.append(str(d))     # Convert d to string, append it.\n",
    "    # After the computation has finished, convert the list into a string by\n",
    "    # joining its elements to the empty string.\n",
    "    list_of_digits.reverse()              # Reverse the list of digits.\n",
    "    representation = ''.join(list_of_digits)\n",
    "    return representation\n",
    "\n",
    "\n",
    "print(number_to_rep(2, 63))\n",
    "print(number_to_rep(2, 64))"
   ]
  },
  {
   "cell_type": "code",
   "execution_count": 6,
   "id": "68be349b",
   "metadata": {},
   "outputs": [
    {
     "name": "stdout",
     "output_type": "stream",
     "text": [
      "001\n",
      "3333333333\n"
     ]
    }
   ],
   "source": [
    "def fractional_to_rep(b: int, t: float, max_iter: int) -> str:\n",
    "    \"\"\"Given a base b and a nonnegative integer n, returns the\n",
    "    representation of n in base b as a string of digits from 0 to (b - 1).\"\"\"\n",
    "    assert isinstance(b, int) and b >= 2\n",
    "    assert isinstance(t, float) and 0 <= t < 1\n",
    "    \n",
    "    iterations = 0\n",
    "    list_of_digits = []                   # Will store the list of digits of t.\n",
    "    while t > 0 and iterations < max_iter:\n",
    "        iterations += 1\n",
    "        t *= b\n",
    "        d = int(t)\n",
    "        t %= 1\n",
    "        list_of_digits.append(str(d))     # Convert d to string, append it.\n",
    "    \n",
    "    # After the computation has finished, convert the list into a string by\n",
    "    # joining its elements to the empty string.\n",
    "    representation = ''.join(list_of_digits)\n",
    "    return representation\n",
    "\n",
    "\n",
    "print(fractional_to_rep(2, 1 / 8, 10))\n",
    "print(fractional_to_rep(10, 1 / 3, 10))\n"
   ]
  },
  {
   "cell_type": "markdown",
   "id": "5623841b",
   "metadata": {},
   "source": [
    "We saw in the preceding section how to compute a real number given its representation in any base $ b \\ge 2 $. We would now like to consider the problem of converting from the binary to the decimal representation (and back) directly."
   ]
  },
  {
   "cell_type": "markdown",
   "id": "a57386de",
   "metadata": {},
   "source": [
    "**Problem:** Let $ (a_m\\,a_{m-1}\\dots a_1\\,a_0)_2 $ be the "
   ]
  },
  {
   "cell_type": "markdown",
   "id": "54b89e8a",
   "metadata": {},
   "source": [
    "## 3 Converting a float from decimal to binary"
   ]
  },
  {
   "cell_type": "markdown",
   "id": "2a892d29",
   "metadata": {},
   "source": [
    "## 4 Converting a float from binary to decimal"
   ]
  },
  {
   "cell_type": "code",
   "execution_count": null,
   "id": "58643a79",
   "metadata": {},
   "outputs": [],
   "source": []
  }
 ],
 "metadata": {
  "kernelspec": {
   "display_name": "Python 3 (ipykernel)",
   "language": "python",
   "name": "python3"
  },
  "language_info": {
   "codemirror_mode": {
    "name": "ipython",
    "version": 3
   },
   "file_extension": ".py",
   "mimetype": "text/x-python",
   "name": "python",
   "nbconvert_exporter": "python",
   "pygments_lexer": "ipython3",
   "version": "3.9.13"
  }
 },
 "nbformat": 4,
 "nbformat_minor": 5
}
