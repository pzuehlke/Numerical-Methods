{
 "cells": [
  {
   "attachments": {},
   "cell_type": "markdown",
   "id": "df16444c",
   "metadata": {},
   "source": [
    "# Real numbers and their representations\n",
    "\n",
    "## $ \\S 1 $ The representation of a number in base $ b $\n",
    "\n",
    "The main purpose of numerical methods is to provide computational tools to solve\n",
    "engineering, scientific and mathematical problems and to acquire insight about\n",
    "them. Numbers are the basis of all computation. It is therefore necessary that\n",
    "we first understand how numbers are represented in a machine, how its finite\n",
    "memory capacity and processing power inevitably lead to errors, and how these\n",
    "errors can be controlled.\n",
    "\n",
    "It is essential to differentiate a real number $ x $ from its representation in\n",
    "some system (binary, decimal, etc.). Any _integer_ $ b \\ge 2 $\n",
    "can serve as the __base__ of such a system. Once such a choice is made, $ x $\n",
    "can be expressed in the form\n",
    "\\begin{equation*}\\label{E:rep}\n",
    "x = \\pm\\, \\big(\\,d_mb^m + d_{m - 1}b^{m - 1} + \\cdots + d_1 b + d_0 + d_{-1}b^{-1} + d_{-2}b^{-2} + \\cdots\\,\\big)\\,.\n",
    "\\tag{1}\n",
    "\\end{equation*}\n",
    "for some integers $ d_k $ satisfying $ 0 \\le d_k \\le b - 1 $ which are called\n",
    "the __digits__ of $ x $ in base-$ b $. The notation\n",
    "$$\n",
    "x = \\pm(d_m\\, d_{m - 1}\\cdots d_1\\, d_0\\,.\\,d_{-1}\\, d_{-2} \\cdots)_{b}\n",
    "$$\n",
    "is just an abbreviation of the preceding representation.\n",
    "\n",
    "   \n",
    "The number of nonzero digits to the _left_ of the point is always finite,\n",
    "because any specific real number is bounded. In contrast, the number of nonzero\n",
    "digits to the _right_ of the point may or may not be finite.  We say that $ x $\n",
    "has a __finite__ representation in base $ b $ when only finitely many of the\n",
    "$ d_k $ are nonzero. Otherwise, its representation is said to be __infinite__.\n",
    "Irrational numbers have infinite representations in any base $ b \\ge 2 $. A\n",
    "rational number may have a finite representation in one base and an infinite one\n",
    "in another base.\n",
    "\n",
    "This method for representing real numbers is not the only possible one, nor\n",
    "necessarily the most appropriate. As an example, for some purposes it may be \n",
    "much better to represent a rational number as a pair of integers (its numerator\n",
    "and denominator) instead of storing its decimal or binary representation."
   ]
  },
  {
   "attachments": {},
   "cell_type": "markdown",
   "id": "f038e7bf",
   "metadata": {},
   "source": [
    "⚠️ Because we use the decimal system almost exclusively to represent numbers in\n",
    "daily life, we write, say, $ 592 $ instead of $ 592_{10} $. However,\n",
    "it is important to keep in mind that '$ 592 $' is not the number itself, but\n",
    "rather its _representation_ in base $ 10 $. The same number could also be\n",
    "written as $ 1001010000_2 $, and were $ b = 2 $ the most commonly used base,\n",
    "we would instead abuse our notation to write simply $ 1001010000 $."
   ]
  },
  {
   "attachments": {},
   "cell_type": "markdown",
   "id": "14578fbe",
   "metadata": {},
   "source": [
    "__Exercise:__ Determine the number $ 1001101_2 $.\n",
    "\n",
    "__Exercise:__ Show that $ 12210_3 = 156_{10} $.\n",
    "\n",
    "__Exercise:__ Let $ b \\ge 2 $ and $ m \\ge 0 $. How many numbers $ x $ are represented as in (1) by digits $ d_k $ such that:\n",
    "$$ d_k = 0 \\quad \\textrm{ if $\\  k > m \\ $ or $\\ k < 0 \\ $?} $$\n",
    "\n",
    "Note in particular how the number of digits required to represent an integer $ n\n",
    "$ in a given base $ b $ is approximately equal to $ \\log_b n $."
   ]
  },
  {
   "attachments": {},
   "cell_type": "markdown",
   "id": "0aa2fed0",
   "metadata": {},
   "source": [
    "__Exercise:__ Let $ b \\ge 2 $ be an integer. Prove that the representation in\n",
    "base-$ b $ of a real number $ x $ is finite (i.e., has finitely many nonzero\n",
    "digits) if and only if $ x $ can be expressed as a fraction in which the\n",
    "numerator is an integer and the denominator is of the form $ b^r $ for some\n",
    "integer $ r \\ge 0 \\,$. "
   ]
  },
  {
   "attachments": {},
   "cell_type": "markdown",
   "id": "21862fae",
   "metadata": {},
   "source": [
    "__Exercise__: Which of the following numbers has a finite representation in base $ 2 $?\n",
    "\n",
    "(a) $ \\frac{1}{3} $;\n",
    "\n",
    "(b) $ \\frac{2}{3} $;\n",
    "\n",
    "(c) $ \\frac{3}{8} $;\n",
    "\n",
    "(d) $ \\frac{7}{56} $."
   ]
  },
  {
   "cell_type": "markdown",
   "id": "22a0e357",
   "metadata": {},
   "source": [
    "⚠️ To avoid confusion, when considering systems other than the decimal ($ b = 10 $), it is better to avoid the expressions \"decimal point\", \"decimal digit\" and \"decimal part\". We will speak instead of \"point\", \"digit\" and \"fractional part\"."
   ]
  },
  {
   "attachments": {},
   "cell_type": "markdown",
   "id": "844bd5c2",
   "metadata": {},
   "source": [
    "⚠️ For a given base $ b $, the representation in (1) is unique except for the consequences of the fact that \n",
    "$$ (b-1)\\,b^{-r} + (b-1)\\,b^{-r-1} + (b-1)\\,b^{-r-2} + \\dots = b^{-r + 1} .$$\n",
    "Thus, for instance,\n",
    "\n",
    "$$ (0.1239999\\dots)_{10} = 0.124_{10} \\quad \\text{and}\n",
    "\\quad (1010.10101111\\dots)_2 = 1010.1011_2 .$$ \n",
    "\n",
    "It follows that the only real numbers which have non-unique representations in\n",
    "base $ b $ are those which have a representation with $ d_k = b - 1 $ for all $\n",
    "k \\ge r $ (for some $ r \\in \\mathbb{Z} $). Moreover, such numbers have\n",
    "_exactly two_ different representations, and one of them is finite.\n",
    "\n",
    "📝 For convenience we will assume implicitly below that the representation of a\n",
    "number is _not_ such that every digit equals $ b - 1 $ from some point on; if\n",
    "this happened to be the case, we could just replace it by the other one, which\n",
    "is finite."
   ]
  },
  {
   "attachments": {},
   "cell_type": "markdown",
   "id": "5e19a7f0",
   "metadata": {},
   "source": [
    "__Exercise (harder):__ Prove that a real number $ x $ is rational if and only if\n",
    "its representation in any base $ b $ is periodic (i.e., repeating) from some\n",
    "digit on.\n",
    "\n",
    "_Hint:_ In one direction, suppose that $ x = n / m $ for some positive\n",
    "integers $ n $ and $ m $. Since there are only $ m $ possible remainders upon\n",
    "division by $ m $, eventually the same remainder occurs twice. This implies that\n",
    "the representation of $ x $ in a given base is periodic. Conversely, if the\n",
    "representation of a number $ x $ in base $ b $ is periodic with period $ p $,\n",
    "show that $ b^p x - x $ has a finite representation, hence is rational. This\n",
    "in turn implies that $ x $ itself must be rational.\n"
   ]
  },
  {
   "attachments": {},
   "cell_type": "markdown",
   "id": "8db5b9e3",
   "metadata": {},
   "source": [
    "__Exercise (harder):__ Prove that the representation of a real number $ x $ in\n",
    "base $ b $ is unique except for the cases mentioned in the preceding warning.\n",
    "_Hint:_ Suppose that a real number $ x > 0 $ has two distinct representations in\n",
    "some base $ b $:\n",
    "$$\n",
    "x = (d_m\\, d_{m - 1}\\cdots d_1\\, d_0\\,.\\,d_{-1}\\, d_{-2} \\cdots)_{b}\n",
    "= (d_m'\\, d_{m - 1}'\\cdots d_1'\\, d_0'\\,.\\,d_{-1}'\\, d_{-2}' \\cdots)_{b}\n",
    "$$\n",
    "If $ r $ is the leftmost index such that the two corresponding digits $ d_r $ and\n",
    "$ d_r' $ do not coincide, then $ 0 = x - x $ can be written in the form \n",
    "$$ 0 = b^r\\sum_{k=0}^{+\\infty} e_kb^{-k} \\quad \\text{where}\\quad\n",
    "e_0 > 0 \\quad \\text{and}\\quad 0 \\le \\vert e_{i} \\vert \\le b - 1 \\quad \\text{for\n",
    "each $ k \\ge 0 \\,$}.\n",
    "$$\n",
    "Show that the only possibility is that $ e_0 = 1 $ and $ e_i = -(b - 1) $ for all $\n",
    "i > 0 $."
   ]
  },
  {
   "attachments": {},
   "cell_type": "markdown",
   "id": "5f0ecf1d",
   "metadata": {},
   "source": [
    "⚡ A real number is said to be __algebraic__ if it is a root of some polynomial\n",
    "having coefficients in $ \\mathbb Z $. A number which is not algebraic is called\n",
    "__transcendental__.\n",
    "\n",
    "* Any rational number $ \\frac{m}{n} $ is algebraic, since it is the root of the\n",
    "  polynomial $ mx - n $ of degree $ 1 $. Equivalently, any transcendental number\n",
    "  must be irrational.\n",
    "  \n",
    "* Some irrational numbers, such as $ \\sqrt{3}, \\sqrt[3]{7} $ and\n",
    "  $ \\sqrt[5]{2 + \\sqrt{3}} $ are also algebraic (why?).\n",
    "\n",
    "* The familiar numbers $ \\pi $ and $ e $ are transcendental. However, this was\n",
    "  only established near the end of the 19th century. It is still an open problem\n",
    "  to prove whether relatively simple numbers such as $ \\pi^\\pi $ are\n",
    "  transcendental."
   ]
  },
  {
   "attachments": {},
   "cell_type": "markdown",
   "id": "086db021",
   "metadata": {},
   "source": [
    "⚡ A real number $ x $ is said to be **computable** if its representation (say,\n",
    "in base $ 2 $) can, in principle, be determined by an *algorithm*. Intuitively,\n",
    "$ x $ is computable if its representation can be calculated by a computer with\n",
    "unlimited memory but limited processing power, provided with finitely many\n",
    "instructions but having infinite time to perform its computations, a so-called\n",
    "__Turing machine__.\n",
    "\n",
    "It should be obvious that any number whose representation consists of finitely\n",
    "many digits is computable. An example of a number which does not have this\n",
    "property and yet is computable is $ \\frac{1}{3} = (.010101\\dots)_2 $ in base $ 2\n",
    "$. We can certainly write a simple program to print its digits in sequence,\n",
    "even though such a program will never terminate.\n",
    "\n",
    "The class of computable numbers includes all algebraic numbers, plus some\n",
    "transcendental numbers, such as $ e $ and $ \\pi $.\n",
    "\n",
    "However, not every real number is computable. In fact, in a sense which can be\n",
    "made precise, _almost no real number is computable_ (more precisely, the set of\n",
    "computable numbers is denumerable). This result is due to A. Turing — _On\n",
    "computable numbers, with an application to the Entscheidungsproblem_ (1936).\n",
    "Among other results, in this paper Turing introduces the computational model\n",
    "which now bears his name and also constructs a __universal__ Turing machine (a\n",
    "Turing machine that can simulate any other Turing machine), which served\n",
    "as a theoretical model for some of the early electronic computers.\n",
    "\n",
    "It can be argued that the only tangible numbers in a philosophical sense are the\n",
    "computable numbers, and that the remaining so-called real numbers are not \"real\"\n",
    "at all, since even though they can in principle be defined, they cannot in fact\n",
    "be \"realized\" as the result of some finite process."
   ]
  },
  {
   "attachments": {},
   "cell_type": "markdown",
   "id": "3d7f356d",
   "metadata": {},
   "source": [
    "## $ \\S 2 $ The binary system and its cousins\n",
    "\n",
    "Most computing uses the __binary__ form of representing numbers, in which the\n",
    "base $ b $ equals $ 2 $ and there are only two possible digits: $ 0 $ and $ 1 $.\n",
    "Such a digit is usually referred to as a __bit__ (short for _binary digit_).\n",
    "\n",
    "There are several reasons why the binary system is prevalent. Firstly, it is the\n",
    "simplest representation system. Secondly, it is also the easiest one to\n",
    "implement from an engineering standpoint, because it involves devices which\n",
    "need only distinguish between two stable positions (on and off). But perhaps the\n",
    "main reason is the close relationship between Boolean logic and the arithmetic\n",
    "of integers modulo 2, given by the correspondence below:\n",
    "\n",
    "| Boolean expression/operation | Binary equivalent |\n",
    "| :----------------- | :----------------- |\n",
    "| False              | 0                 |\n",
    "| True               | 1                 |\n",
    "| Not                | $ x \\mapsto 1 - x $ |\n",
    "| And                | $ \\times $ (multiplication) |\n",
    "| _Exclusive_ or (__xor__)   | $ + $ (addition)  |\n",
    "| Or (inclusive)     | $ (x, y) \\mapsto x + y - xy $ |\n",
    "\n",
    "Note that all three operations on the right side are __modulo 2__, that is,\n",
    "the result of, say, $ x + y \\pmod 2 $ is the _remainder_ of $ x + y $ after\n",
    "division by $ 2 $, so that in binary we have $ 1 + 1 = 0 $.\n",
    "Note also that $ n = -n \\pmod 2 $ for any integer $ n $."
   ]
  },
  {
   "attachments": {},
   "cell_type": "markdown",
   "id": "cb195648",
   "metadata": {},
   "source": [
    "📝 Besides the binary and decimal systems, the following two systems are also relatively important in applications:\n",
    "\n",
    "* The _octal_ system, where $ b = 8 $ and the possible digits are $ 0,1,\\dots,7 $;\n",
    "* The _hexadecimal_ system, where $ b = 16 $ and the possible digits are\n",
    "  $ 0, 1, \\dots, 9 $ and $ A, B, \\dots, F $, which stand for\n",
    "  $ 10, 11, \\dots, 15 $ in the decimal system, respectively.\n",
    "\n",
    "__Exercise:__ Convert the following numbers to the decimal system:\n",
    "\n",
    "(a) $ 1111_2 $.\n",
    "\n",
    "(b) $ 123_8 $.\n",
    "\n",
    "(c) $ ABC_{16} $.\n",
    "\n",
    "(d) $ 12_{16} $.\n",
    "\n",
    "  __Exercise:__ Show that if an integer $ n $ has a binary representation of\n",
    "  length $ m $, then its representation in the octal (resp. hexadecimal) system\n",
    "  is of length at most $ \\lceil\\frac{m}{3}\\rceil $ (resp. $ \\lceil\\frac{m}{4}\\rceil $).\n",
    "  Thus these two systems are more concise than the binary system."
   ]
  },
  {
   "attachments": {},
   "cell_type": "markdown",
   "id": "5acd6393",
   "metadata": {},
   "source": [
    "Our main objective is to understand how to efficiently convert from \n",
    "the familiar decimal system to base-$b$ (for any $ b \\ge 2 $) and back.\n",
    "\n",
    "For example, \n",
    "\n",
    "\\begin{align*} 1001.101_2 &= 1 \\times 2^3 + 0 \\times 2^2 + 0 \\times 2^1 + 1 \\times 2^0 + 1 \\times 2^{-1} + 0 \\times 2^{-2} + 1 \\times 2^{-3}  \\\\\n",
    "& = 8 + 1 + \\frac{1}{2} + \\frac{1}{8} \\\\ &= \\frac{77}{8}.\n",
    "\\end{align*}"
   ]
  },
  {
   "attachments": {},
   "cell_type": "markdown",
   "id": "d2a21591",
   "metadata": {},
   "source": [
    "## $ \\S 3 $ Computing a number from its representation in base-$ b $<a name=\"section2\"></a>\n",
    "\n",
    "In this section we will consider a solution to the following problem.\n",
    "\n",
    "<a name=\"Problem1\"></a>**Problem 1 (representation to number):** Given a base $ b \\ge 2 $ and the representation of an unknown real number $ x $ in this base, determine $ x $ with the least possible amount of computation.\n",
    "\n",
    "📝 Even though the problem has been formulated in full generality, in practice\n",
    "we can only effectively compute $ x $ when the given representation is *finite*.\n",
    "Otherwise, we need to content ourselves with an approximation to $ x $."
   ]
  },
  {
   "attachments": {},
   "cell_type": "markdown",
   "id": "903af6ae",
   "metadata": {},
   "source": [
    "<div class=\"alert alert-info\"> The following observation will be useful: Any real number $ x $ can be written as the sum of a unique <i>integer</i> $ n $ and a unique <i>fractional number</i> $ t $ such that $ 0 \\le t < 1 $. In Python, they are given by:\n",
    "<ul>\n",
    "    <li> $ t = $ <code>x % 1</code>;</li>\n",
    "    <li> $ n = $ <code>int(x)</code> if $ x \\ge 0 $ or <code>int(x) - 1</code> if $ x < 0 $.</li>\n",
    "    </ul>\n",
    "\n",
    "In any case, $ n $ is the largest integer $ \\le x $ and $ t = x - n $.\n",
    "We will call $ n $ the <b>integral part</b> of $ x $ and $ t $ its <b>fractional part</b>\n",
    "</div>\n",
    "\n",
    "📝 If $ x \\ge 0 $, then the function `modf` from the **math** module returns the tuple $ (t, n) $ when applied to $ x $. If $ x < 0 $, then it returns the negative of `modf(-x)`, which is not the same as the decomposition considered above."
   ]
  },
  {
   "cell_type": "code",
   "execution_count": 1,
   "id": "89558e73",
   "metadata": {
    "scrolled": true
   },
   "outputs": [
    {
     "name": "stdout",
     "output_type": "stream",
     "text": [
      "The decomposition of 3.14159 into its integral and fractional part is:\n",
      "3.14159 = 3 + 0.14158999999999988\n",
      "\n",
      "The decomposition of -1.4 into its integral and fractional part is:\n",
      "-1.4 = -2 + 0.6000000000000001\n",
      "\n",
      "The decomposition of -34.9 into its integral and fractional part is:\n",
      "-34.9 = -35 + 0.10000000000000142\n",
      "\n",
      "(-0.8999999999999986, -34.0)\n",
      "(-0.8999999999999986, -34.0)\n"
     ]
    }
   ],
   "source": [
    "from math import modf\n",
    "\n",
    "\n",
    "def decompose(x: float) -> tuple:\n",
    "    t = x % 1\n",
    "    if x >= 0:\n",
    "        n = int(x)\n",
    "    else:\n",
    "        n = int(x) - 1\n",
    "    print(f\"The decomposition of {x} into its integral and fractional part is:\")\n",
    "    print(f\"{x} = {n} + {t}\\n\")\n",
    "\n",
    "\n",
    "x = 3.14159\n",
    "y = -1.4\n",
    "z = -34.9\n",
    "\n",
    "decompose(x)\n",
    "decompose(y)\n",
    "decompose(z)\n",
    "\n",
    "print(modf(z))\n",
    "print((-modf(-z)[0], -modf(-z)[1]))"
   ]
  },
  {
   "cell_type": "markdown",
   "id": "53f3f2b7",
   "metadata": {},
   "source": [
    "By means of the aforementioned decomposition, we can reduce Problem 1 to two easier problems:\n",
    "\n",
    "**Subproblem 1.1:** Given a base $ b $ and the representation of an unknown *integer* $ n $ in this base, determine $ n $ with the least possible amount of computation.\n",
    "\n",
    "**Subproblem 1.2:** Given a base $ b $ and the representation of an unknown *fractional number* $ 0 \\le t < 1 $ in this base, determine $ t $ with the least possible amount of computation.\n",
    "\n",
    "To solve [Problem 1](#Problem1) for a given representation, the idea is to consider separately the parts to the left and to the right of the point '.'. Applying the solutions to Subproblems 1.1 and 1.2 to each, we will obtain the integral and fractional parts $ n $ and $ t $ of $ x $. Hence $ x = n + t $."
   ]
  },
  {
   "cell_type": "markdown",
   "id": "4546fd72",
   "metadata": {},
   "source": [
    "**Example:** Determine $ x = (123.41)_5 $.\n",
    "\n",
    "*Solution:* Let $ n = (123)_5 $ and $ t = (.41)_5 $. Then\n",
    "$$ n = 1 \\times 5^2 + 2 \\times 5 + 3 = 25 + 10 + 3 = 38\\ ,$$\n",
    "while \n",
    "$$ t = \\frac{4}{5} + \\frac{1}{25} = \\frac{21}{25}\\ . $$\n",
    "Therefore \n",
    "$$ x = n + t = \\frac{38 \\cdot 25 + 21}{25} = \\frac{971}{25} .$$"
   ]
  },
  {
   "cell_type": "markdown",
   "id": "e87f22b2",
   "metadata": {},
   "source": [
    "### 1.1 Computing an integer given its representation in base $ b $"
   ]
  },
  {
   "attachments": {},
   "cell_type": "markdown",
   "id": "fbcf1041",
   "metadata": {},
   "source": [
    "__Solution to Subproblem 1.1:__ Suppose that \n",
    "$$ n = (d_m\\,d_{m-1}\\dots d_1d_0)_b\\ ,$$\n",
    "where on the right side we have the given representation in base $ b $. This means that \n",
    "\\begin{alignat*}{9}\n",
    "n &= d_m\\, b^m + d_{m-1}\\, b^{m-1} + \\dots + d_1 \\, b^1 + d_0\\, b^0 \\\\\n",
    "&= d_0 + b\\,\\Big(\\, d_1 + b\\,\\big(\\, d_2 + b\\,(\\, \\cdots\\, b\\,(\\,d_{m - 1} + b\\,d_m\\,)\\, \\cdots\\, \\big) \\Big)\n",
    "\\end{alignat*}\n",
    "\n",
    "Consider the following sequence:\n",
    "* $ a_m = d_m $;\n",
    "* $ a_{m - 1} = b a_m + d_{m - 1} $;\n",
    "* $ a_{m - 2} = b a_{m - 1} + d_{m - 2} $;\n",
    "* $ \\phantom{a} \\vdots$\n",
    "* $ a_{k} = b a_{k + 1} + d_k $;\n",
    "* $ \\ \\vdots $\n",
    "* $ a_1 = b a_2 + d_1 $;\n",
    "* $ a_0 = b a_1 + d_0 $."
   ]
  },
  {
   "cell_type": "markdown",
   "id": "2de81250",
   "metadata": {},
   "source": [
    "**Exercise:** Prove by induction on $ m $ that $ a_0 = n $.\n",
    "\n",
    "The preceding steps can immediately be converted into an efficient procedure to compute $ n $."
   ]
  },
  {
   "cell_type": "code",
   "execution_count": 10,
   "id": "a165e3f2",
   "metadata": {},
   "outputs": [],
   "source": [
    "def rep_to_number(b: int, digits: str) -> int:\n",
    "    \"\"\"\n",
    "    A function which takes a string of digits between 0 and b - 1,\n",
    "    where the base b >= 2 is an integer, and returns the integer\n",
    "    whose representation in base b is the given one.\n",
    "    \"\"\"\n",
    "    if not(isinstance(b, int) and b >= 2):\n",
    "        raise ValueError(\"b must be an integer >= 2!\")\n",
    "    allowed = [str(d) for d in range(0, b)]      # Allowed digits.\n",
    "    for digit in digits:                         # Check if the repr.is valid:\n",
    "        if digit not in allowed:\n",
    "            raise ValueError(f\"Invalid representation of a number in base {b}.\")\n",
    "       \n",
    "    n = 0\n",
    "    for d in digits:\n",
    "        d = int(d)       # Convert the current digit to an int.\n",
    "        n = b * n + d\n",
    "    \n",
    "    return n"
   ]
  },
  {
   "cell_type": "code",
   "execution_count": 11,
   "id": "0e0626ea",
   "metadata": {},
   "outputs": [
    {
     "name": "stdout",
     "output_type": "stream",
     "text": [
      "11\n",
      "31\n",
      "1011\n",
      "38\n",
      "156\n"
     ]
    }
   ],
   "source": [
    "\n",
    "print(rep_to_number(2, \"1011\"))\n",
    "print(rep_to_number(3, \"1011\"))\n",
    "print(rep_to_number(10, \"1011\"))\n",
    "print(rep_to_number(2, \"100110\"))\n",
    "print(rep_to_number(3, \"12210\"))"
   ]
  },
  {
   "attachments": {},
   "cell_type": "markdown",
   "id": "dd0ed9af",
   "metadata": {},
   "source": [
    "### $ 1.2 $ Obtaining a fractional number from its representation in base $ b $\n",
    "__Solution to Subproblem 1.2:__ Suppose that we are given the (finite) representation\n",
    "$$ .d_{-1}\\,d_{-2}\\dots d_{-r} $$\n",
    "in base $ b $ and let $ t $, $ 0 \\le t < 1 $, be the (unknown) represented number. \n",
    "Then\n",
    "$$\n",
    "t = d_{-1}b^{-1} + d_{-2}b^{-2} + \\dots + d_{-r}b^{-r}.\n",
    "$$\n",
    "To compute $ t $, observe that\n",
    "$$\n",
    "b^{r} t = d_{-1}b^{r - 1} + d_{-2}b^{r - 2} + \\dots + d_{-r + 1} b + d_{-r}.\n",
    "$$\n",
    "Therefore we can apply the solution to Subproblem 1.1 to compute $ b^r t $ from its  representation\n",
    "$$ (d_{-1}\\,d_{-2}\\dots d_{-r})_b = b^r t $$\n",
    "and then divide by $ b^r $ (where $ r $ is the length of the given\n",
    "representation of $ t $) to find $ t $. This is implemented below."
   ]
  },
  {
   "cell_type": "code",
   "execution_count": 3,
   "id": "651e4e2a",
   "metadata": {},
   "outputs": [
    {
     "name": "stdout",
     "output_type": "stream",
     "text": [
      "0.75\n",
      "0.4444444444444444\n",
      "0.11\n"
     ]
    }
   ],
   "source": [
    "def rep_to_fractional(b: int, digits: str) -> int:   # The type annotations are optional!\n",
    "    \"\"\"A function which takes a string of digits between 0 and b - 1,\n",
    "    where the base b >= 2 is an integer, and returns the unique\n",
    "    fractional number whose representation in base b is the given one.\"\"\"\n",
    "    assert isinstance(b, int) and b >= 2         # Make sure b is an integer >= 2.\n",
    "    allowed = [str(d) for d in range(0, b)]      # Allowed digits.\n",
    "    for digit in digits:                         # Check if the representation is valid.\n",
    "        if digit not in allowed:\n",
    "            raise ValueError(f\"Invalid representation of a number in base {b}.\")\n",
    "    \n",
    "    r = len(digits)\n",
    "    n = rep_to_number(b, digits)\n",
    "    return n * b**(-r)\n",
    "\n",
    "\n",
    "print(rep_to_fractional(2, \"11\"))\n",
    "print(rep_to_fractional(3, \"11\"))\n",
    "print(rep_to_fractional(10, \"11\"))"
   ]
  },
  {
   "cell_type": "markdown",
   "id": "95797480",
   "metadata": {},
   "source": [
    "### 1.3 Obtaining a real number from its representation in base $ b $\n",
    "\n",
    "**Exercise:** Define a function which takes two arguments:\n",
    "* The base $ b \\ge 2 $;\n",
    "* The (finite) representation of an unknown real number $ x $, provided as a string of digits between $ 0 $ and $ b - 1 $;\n",
    "\n",
    "and which returns $ x $ as output. (*Hint:* Use the functions that were defined above plus the list method `index`, which returns the index of the first occurrence of some element in a list, in order to find the location of the point '.' in the given representation.)\n",
    "\n",
    "**Exercise:** How should each of the functions above be modified to include the possibility that $ x \\le 0 $?"
   ]
  },
  {
   "attachments": {},
   "cell_type": "markdown",
   "id": "c194386e",
   "metadata": {},
   "source": [
    "## 2 Computing the representation of a number in base-$ b $\n",
    "\n",
    "We will now consider the converse to [Problem 1](#Problem1), namely, how to compute the representation of a number in base $ b $ given the number $ x $ itself.\n",
    "\n",
    "<a name=\"Problem2\"></a>**Problem 2 (number to representation):** Given a base $ b \\ge 2 $ and a real number $ x $, find its representation in base $ b $.\n",
    "\n",
    "**Subproblem 2.1:** Given a base $ b $ and an *integer* $ n $, find its representation in base $ b $.\n",
    "\n",
    "**Subproblem 2.2:** Given a base $ b $ and a *fractional number* $ t $, $ 0 \\le t < 1 $, find its representation in base $ b $.\n",
    "\n",
    "As before, if we can solve these two subproblems, then we can obtain a solution to Problem 2 by combining their solutions. More precisely, the idea is to separately compute the representations of the integral and fractional parts $ n $ and $ t $ of $ x $, and finally to concatenate them, with a point '.' in between, to obtain the representation of $ x $.\n"
   ]
  },
  {
   "attachments": {},
   "cell_type": "markdown",
   "id": "5f22d6ba",
   "metadata": {},
   "source": [
    "### 2.1 Obtaining the representation in base-$ b $ of an integer\n",
    "\n",
    "__Solution to Subproblem 2.1:__ Let\n",
    "$$ n = (d_m\\,d_{m-1}\\dots d_1d_0)_b  $$\n",
    "be the representation of $ n $ in base $ b $, that is, \n",
    "$$ n = d_m\\, b^m + d_{m-1}\\, b^{m-1} + \\dots + d_1 \\, b^1 + d_0\\, b^0 .$$\n",
    "\n",
    "__Algorithm:__ We need to compute the digits $ d_k $. This can be done as\n",
    "follows:\n",
    "\n",
    "1. Divide $ n $ by $ b $ (using integer division) to get a quotient $ q $ and a\n",
    "   remainder $ r $ such that $ n = bq + r $. Write down $ r $.\n",
    "2.  Replace $ n $ with $ q $ and repeat step 1 until $ q = 0 $.\n",
    "3. When from the last remainder to the first remainder, the list of remainders\n",
    "   $ r $ thus obtained yield the base-$ b $ representation of $ n $.\n",
    "\n",
    "Note that this works because, in the first step, the remainder $ r $ is $ d_0 $\n",
    "while the quotient is\n",
    "   $$\n",
    "      q = d_m\\, b^{m - 1} + d_{m-1}\\, b^{m-2} + \\dots + d_2 \\, b^1 + d_1\\,.\n",
    "   $$\n",
    "Similarly, division of the latter by $ b $ yields $ d_1 $ as the remainder and\n",
    "$$ d_m\\, b^{m - 2} + d_{m - 1}\\, b^{m - 3} + \\dots + d_3\\,b^1 + d_2 $$\n",
    "as the quotient, and so on for all subsequent steps.\n",
    "\n",
    "__Example:__ Convert $ 268 $ from base $ 10 $ to base $ 3 $:\n",
    "\n",
    "1. Dividing $ 268 $ by $ 3 $ gives a quotient of $ 89 $ and a remainder of $ 1\n",
    "$. Therefore, the rightmost digit in the base-3 representation of $ 268 $ is $ 1\n",
    "$.\n",
    "2. Dividing $ 89 $ by $ 3 $ gives a quotient of $ 29 $ and a remainder of $ 2 $.\n",
    "Therefore, the second digit in the base-3 representation of $ 268 $ is $ 2 $.\n",
    "3. Dividing $ 29 $ by $ 3 $ gives a quotient of $ 9 $ and a remainder of $ 2 $.\n",
    "Therefore, the third digit in the base-3 representation of $ 268 $ is $ 2 $.\n",
    "4. Dividing $ 9 $ by $ 3 $ gives a quotient of $ 3 $ and a remainder of $ 0 $.\n",
    "Therefore, the fourth digit in the base-3 representation of $ 268 $ is $ 0 $.\n",
    "5. Dividing $ 3 $ by $ 3 $ gives a quotient of $ 1 $ and a remainder of $ 0 $.\n",
    "Therefore, the fifth digit in the base-3 representation of $ 268 $ is $ 0 $.\n",
    "6. Dividing $ 1 $ by $ 3 $ gives a quotient of $ 0 $ and a remainder of $ 1 $.\n",
    "Therefore, the sixth and final digit in the base-3 representation of $ 268 $ is\n",
    "$ 1 $.\n",
    "\n",
    "Thus, the base-3 representation of $ 268_{10} $ is $ 100221_3 $.\n",
    "<div style=\"text-align: right\"> $ \\blacksquare $ </div>"
   ]
  },
  {
   "attachments": {},
   "cell_type": "markdown",
   "id": "1a74f7c1",
   "metadata": {},
   "source": [
    "This algorithm is implemented as the following function:"
   ]
  },
  {
   "cell_type": "code",
   "execution_count": 19,
   "id": "ad881ecf",
   "metadata": {},
   "outputs": [],
   "source": [
    "def integer_to_rep(b: int, n: int) -> str:\n",
    "    \"\"\"\n",
    "    Given a base b and a nonnegative integer n, returns the\n",
    "    representation of n in base b as a string of digits from 0 to (b - 1).\n",
    "    \"\"\"\n",
    "    if not isinstance(b, int) or b < 2:\n",
    "        raise ValueError(\"The base b must be an integer >= 2!\")\n",
    "    if not isinstance(n, int) or n < 0:\n",
    "        raise ValueError(\"The integer n must be an integer >= 0!\")\n",
    "    \n",
    "    list_of_digits = []                   # Will store the list of digits of n.\n",
    "    while n > 0: \n",
    "        r = n % b\n",
    "        n //= b\n",
    "        list_of_digits.append(str(r))     # Convert d to a string and append it.\n",
    "\n",
    "    # Now reverse the list of digits and convert it into a string by joining its\n",
    "    # elements to the empty string:\n",
    "    list_of_digits = list_of_digits[::-1]\n",
    "    return ''.join(list_of_digits)"
   ]
  },
  {
   "cell_type": "code",
   "execution_count": 21,
   "id": "74d74079",
   "metadata": {},
   "outputs": [
    {
     "name": "stdout",
     "output_type": "stream",
     "text": [
      "100221\n",
      "111111\n",
      "1000000\n"
     ]
    }
   ],
   "source": [
    "# Testing on the previous example, 268 in base-3:\n",
    "print(integer_to_rep(3, 268))\n",
    "# Checking the representation of 63 in base-2:\n",
    "print(integer_to_rep(2, 63))\n",
    "# Checking the representation of 64 in base-2:\n",
    "print(integer_to_rep(2, 64))"
   ]
  },
  {
   "attachments": {},
   "cell_type": "markdown",
   "id": "35c56410",
   "metadata": {},
   "source": [
    "### $ 2.2 $ Obtaining the representation in base-$ b $ of a fractional number\n",
    "\n",
    "__Solution to Subproblem 2.2:__ Let $ 0 \\le t < 1 $ be a fractional number and \n",
    "let \n",
    "$$ t = (.d_{-1}\\,d_{-2}\\dots d_{-r}\\dots)_b $$\n",
    "be its (unknown) representation in base-$b$, that is,\n",
    "\\begin{equation*}\n",
    "t = d_{-1}b^{-1} + d_{-2}b^{-2} + \\dots + d_{-r}b^{-r} + \\dots .\n",
    "\\end{equation*}\n",
    "\n",
    "__Algorithm:__ To convert the fractional number $ t $ between to base $ b\\geq 2 $, the process\n",
    "is as follows:\n",
    "\n",
    "1. Multiply $ t $ by $ b $.\n",
    "2. Write down the integer part of the result as a digit in the new base $ b $.\n",
    "3. Subtract the integer part from the result.\n",
    "4. If the result is $ 0 $, stop. Otherwise, go back to step 1 with the number\n",
    "   yielded by step 3.\n",
    "\n",
    "\n",
    "Note that this works because, in the first step, the integral part of $ bt $\n",
    "is $ d_{-1} $, while the fractional part becomes\n",
    "$$\n",
    "   d_{-2}b^{-1} + d_{-3}b^{-2} + \\dots + d_{-r}b^{-r + 1} + \\dots .\n",
    "$$\n",
    "Similarly, multiplication of the latter by $ b $ yields $ d_{-2} $ as the integer\n",
    "part and \n",
    "$$\n",
    "   d_{-3}b^{-1} + d_{-4}b^{-2} + \\dots + d_{-r}b^{-r + 2} + \\dots .\n",
    "$$\n",
    "as the fractional part, and so on for all subsequent steps.  Continuing in the\n",
    "same fashion, we can compute $ d_{-1}, \\dots, d_{-r} $ after $ r $ steps.\n",
    "\n",
    "__Example:__ Suppose that we wish to convert the fraction $ 0.625_{10} $ to base\n",
    "$ 2 $. We can use the above process as follows. Note that in passing from one\n",
    "line to the next, we subtract the current integer part.\n",
    "\\begin{align*}\n",
    "    0.625 \\times 2 &= 1.25 & \\quad & \\text{(integral part $ 1 $)}\\\\\n",
    "    0.25 \\times 2 &= 0.5 & \\quad & \\text{(integral part $ 0 $)}\\\\\n",
    "    0.5 \\times 2 &= 1.0 & \\quad & \\text{(integral part $ 1 $)}\\\\\n",
    "    0.0 & \\phantom{=} & \\quad & \\text{(stop)}\n",
    "\\end{align*}\n",
    "\n",
    "Therefore, the base $2$ representation of $ 0.625 $ is $ 0.101_2 $.\n",
    "<div style=\"text-align: right\"> $ \\blacksquare $ </div>\n",
    "\n",
    "📝 Since our computer and minds have limited memory, we can only effectively\n",
    "compute finitely many digits of the representation. However, note that\n",
    "the preceding algorithm will not terminate unless $ t $ can be written as\n",
    "a rational number whose denominator is a power of $ b $.\n",
    "\n",
    "This algorithm is implemented as the function below. Here $ r $ is\n",
    "the number of digits to be computed."
   ]
  },
  {
   "cell_type": "code",
   "execution_count": 28,
   "id": "68be349b",
   "metadata": {},
   "outputs": [],
   "source": [
    "def fractional_to_rep(b: int, t: float, r: int) -> str:\n",
    "    \"\"\"\n",
    "    Given a base b, a fractional number t and a positive integer r,\n",
    "    returns the first r digits of the representation of t in base b\n",
    "    as a string of digits between 0 and (b - 1).\n",
    "    \"\"\"\n",
    "    if not isinstance(b, int) or b < 2:\n",
    "        raise ValueError(\"The base b must be an integer >= 2!\")\n",
    "    if not isinstance(t, float) or t < 0 or t > 1:\n",
    "        raise ValueError(\"t must be of type float and between 0 and 1!\")\n",
    "    if not isinstance(r, int) or r < 1:\n",
    "        raise ValueError(\"The integer r must be an integer >= 1!\")\n",
    "    \n",
    "    digits = []\n",
    "    while r > 0:\n",
    "        t *= b\n",
    "        d = int(t)\n",
    "        t -= d\n",
    "        digits.append(str(d))\n",
    "        r -= 1\n",
    "\n",
    "    return '.' + ''.join(digits)"
   ]
  },
  {
   "cell_type": "code",
   "execution_count": 31,
   "id": "261fa754",
   "metadata": {},
   "outputs": [
    {
     "name": "stdout",
     "output_type": "stream",
     "text": [
      ".10100\n",
      ".00100\n",
      ".25000\n",
      ".3333333333\n"
     ]
    }
   ],
   "source": [
    "# Checking the preceding example:\n",
    "print(fractional_to_rep(2, 0.625, 5))\n",
    "# Checking the binary representation of 1 / 8:\n",
    "print(fractional_to_rep(2, 1 / 8, 5))\n",
    "# Checking the decimal representation of 1 / 4:\n",
    "print(fractional_to_rep(10, 1 / 4, 5))\n",
    "# Checking the decimal representation of 1 / 3:\n",
    "print(fractional_to_rep(10, 1 / 3, 10))"
   ]
  },
  {
   "attachments": {},
   "cell_type": "markdown",
   "id": "54b89e8a",
   "metadata": {},
   "source": [
    "## $ \\S 5 $ Python built-in functions for conversion between bases\n",
    "\n",
    "Python provides the built-in functions\n",
    "\n",
    "* `bin`\n",
    "* `oct`\n",
    "* `hex`\n",
    "\n",
    "which take a single _integer_ as argument and return its binary, octal or hexadecimal representation, respectively, in the form of strings.\n",
    "\n",
    "__Example:__ "
   ]
  },
  {
   "cell_type": "code",
   "execution_count": 9,
   "id": "dbd808db",
   "metadata": {},
   "outputs": [
    {
     "name": "stdout",
     "output_type": "stream",
     "text": [
      "0b1100 0o14 0xc\n",
      "0b10101010101011 0o25253 0x2aab\n",
      "-0b1111 -0o17 -0xf\n"
     ]
    }
   ],
   "source": [
    "x = 12\n",
    "y = 10923\n",
    "z = -15\n",
    "\n",
    "print(bin(x), oct(x), hex(x))\n",
    "print(bin(y), oct(y), hex(y))\n",
    "print(bin(z), oct(z), hex(z))"
   ]
  },
  {
   "cell_type": "markdown",
   "id": "0e4c0036",
   "metadata": {},
   "source": [
    "📝 Note how each string is prepended by `0b`, `0o` or `0x`, respectively, to indicate the type of the representation. Note also that the hexadecimal digits $ A, \\dots, F $ appear in lowercase."
   ]
  }
 ],
 "metadata": {
  "kernelspec": {
   "display_name": "Python 3 (ipykernel)",
   "language": "python",
   "name": "python3"
  },
  "language_info": {
   "codemirror_mode": {
    "name": "ipython",
    "version": 3
   },
   "file_extension": ".py",
   "mimetype": "text/x-python",
   "name": "python",
   "nbconvert_exporter": "python",
   "pygments_lexer": "ipython3",
   "version": "3.10.10"
  }
 },
 "nbformat": 4,
 "nbformat_minor": 5
}
