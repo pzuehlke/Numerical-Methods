{
 "cells": [
  {
   "attachments": {},
   "cell_type": "markdown",
   "id": "df16444c",
   "metadata": {},
   "source": [
    "# Real numbers and their representations\n",
    "\n",
    "## $ \\S 1 $ The representation of a number in base $ b $\n",
    "\n",
    "The main purpose of numerical methods is to provide computational tools to solve\n",
    "engineering, scientific and mathematical problems and to acquire insight about\n",
    "them. Numbers are the basis of computation. It is therefore necessary that we\n",
    "first understand how numbers are represented in a machine, and how its finite\n",
    "memory capacity and processing power inevitably lead to errors, and how these\n",
    "errors can be estimated or, even better, avoided.\n",
    "\n",
    "It is essential to differentiate a real number $ x $ from its representation in\n",
    "some system (binary, decimal, etc.). Any _integer_ $ b \\ge 2\n",
    "$ can serve as the __base__ of such a system. Once such a choice is made, $ x $\n",
    "can be expressed in the form\n",
    "$$\n",
    "x = \\pm\\, \\big(\\,d_mb^m + d_{m - 1}b^{m - 1} + \\cdots + d_1 b + d_0 \n",
    "   + d_{-1}b^{-1} + d_{-2}b^{-2} + \\cdots\\,\\big)\\,.\n",
    "$$\n",
    "\n",
    "for some integers $ d_k $ satisfying $ 0 \\le d_k \\le b - 1 $, which are called\n",
    "the __digits__ of $ x $ in base $ b $. The notation\n",
    "$$\n",
    "x = \\pm(d_m\\, d_{m - 1}\\cdots d_1\\, d_0\\,.\\,d_{-1}\\, d_{-2} \\cdots)_{b}\n",
    "$$\n",
    "is just an abbreviation of the preceding representation.\n",
    "\n",
    "   \n",
    "The number of nonzero digits to the _left_ of the point is always _finite_,\n",
    "because any real number is bounded. In contrast, the number of nonzero digits to\n",
    "the _right_ of the point may or may not be _infinite_.\n",
    "\n",
    "The same real number $ x $ has infinitely many representations, one for each\n",
    "possible base $ b \\ge 2 $. We say that $ x $ has a __finite__ representation in\n",
    "base $ b $ when only finitely many of the $ d_k $ are nonzero. Otherwise, its\n",
    "representation is said to be __infinite__. Irrational numbers have infinite\n",
    "representations in any base $ b \\ge 2 $. A rational number may have a finite\n",
    "representation in one base, but an infinite one in another base.\n",
    "\n",
    "This method of representing real numbers is not the only possible one, nor\n",
    "necessarily the most appropriate. As an example, it may be better to represent a\n",
    "rational number as a pair of integers (its numerator and denominator) instead of\n",
    "storing its decimal or binary representation."
   ]
  },
  {
   "attachments": {},
   "cell_type": "markdown",
   "id": "f038e7bf",
   "metadata": {},
   "source": [
    "⚠️ Because we use the decimal system almost exclusively to represent numbers in\n",
    "daily life, we write, say, $ 592 $ instead of $ (592)_{10} $. However,\n",
    "it is important to keep in mind that '$ 592 $' is not the number itself, but\n",
    "rather its _representation_ in base $ 10 $. The same number could also be\n",
    "written as $ (1001010000)_2 $, and were $ b = 2 $ the most commonly used base,\n",
    "we would instead abuse our notation to write simply $ 1001010000 $."
   ]
  },
  {
   "attachments": {},
   "cell_type": "markdown",
   "id": "14578fbe",
   "metadata": {},
   "source": [
    "__Exercise:__ Determine the number $ (1001101)_2 $.\n",
    "\n",
    "__Exercise:__ Show that $ (12210)_3 = (156)_{10} $.\n",
    "\n",
    "__Exercise:__ Let $ b \\ge 2 $ and $ m \\ge 0 $. How many numbers $ x $ are represented as in (1) by digits $ d_k $ such that:\n",
    "$$ d_k = 0 \\quad \\textrm{ if $\\  k > m \\ $ or $\\ k < 0 \\ $?} $$\n",
    "\n",
    "Note in particular how the number of digits required to represent an integer $ n\n",
    "$ in a given base $ b $ varies _logarithmically_ with $ n $."
   ]
  },
  {
   "attachments": {},
   "cell_type": "markdown",
   "id": "0aa2fed0",
   "metadata": {},
   "source": [
    "**Exercise:** Let $ b \\ge 2 $ be an integer. Prove that the representation in base $ b $ of a real number $ x $ is finite (i.e., has finitely many nonzero digits) if and only if $ x $ can be expressed as a fraction in which the numerator is an integer and the denominator is of the form $ b^r $ for some integer $ r \\ge 0 \\,$. "
   ]
  },
  {
   "attachments": {},
   "cell_type": "markdown",
   "id": "21862fae",
   "metadata": {},
   "source": [
    "__Exercise__: Which of the following numbers has a finite representation in base $ 2 $?\n",
    "\n",
    "(a) $ \\frac{1}{3} $;\n",
    "\n",
    "(b) $ \\frac{2}{3} $;\n",
    "\n",
    "(c) $ \\frac{3}{8} $;\n",
    "\n",
    "(d) $ \\frac{7}{56} $.\n"
   ]
  },
  {
   "cell_type": "markdown",
   "id": "22a0e357",
   "metadata": {},
   "source": [
    "⚠️ To avoid confusion, when considering systems other than the decimal ($ b = 10 $), it is better to avoid the expressions \"decimal point\", \"decimal digit\" and \"decimal part\". We will speak instead of \"point\", \"digit\" and \"fractional part\"."
   ]
  },
  {
   "attachments": {},
   "cell_type": "markdown",
   "id": "844bd5c2",
   "metadata": {},
   "source": [
    "⚠️ For a given base $ b $, the representation in (1) is unique except for the consequences of the fact that \n",
    "$$ (b-1)\\,b^{-r} + (b-1)\\,b^{-r-1} + (b-1)\\,b^{-r-2} + \\dots = b^{-r + 1} .$$\n",
    "Thus, for instance,\n",
    "\n",
    "$$ (0.1239999\\dots)_{10} = (0.124)_{10} \\quad \\text{and}\n",
    "\\quad (1010.10101111\\dots)_2 = (1010.1011)_2 .$$ \n",
    "\n",
    "It follows that the only real numbers which have non-unique representations in base $ b $ are those which have a representation with $ d_k = b - 1 $ for all $ k \\ge r $ (for some $ r \\in \\mathbb{Z} $), and such numbers have *exactly two* different representations.\n",
    "\n",
    "For convenience we will assume implicitly below that the representation of a number is *not* such that every digit equals $ b - 1 $ from some point on (if this happens to be the case, we can just replace it by the other one, which is finite)."
   ]
  },
  {
   "attachments": {},
   "cell_type": "markdown",
   "id": "5e19a7f0",
   "metadata": {},
   "source": [
    "__Exercise (harder):__ Prove that a real number $ x $ is rational if and only if\n",
    "its representation in any base $ b $ is periodic (i.e., repeating) from some\n",
    "digit on.\n",
    "\n",
    "_Hint:_ In one direction, suppose that $ x = n / m $ for some (positive)\n",
    "integers $ n $ and $ m $. Since there are only $ m $ possible remainders upon\n",
    "division by $ m $, eventually the same remainder occurs twice. This implies that\n",
    "the representation of $ x $ in a given base is periodic. Conversely, if the\n",
    "representation of a number $ x $ in base $ b $ is periodic with period $ p $,\n",
    "show that $ b^p x - x $ has a finite representation, hence is rational.\n"
   ]
  },
  {
   "attachments": {},
   "cell_type": "markdown",
   "id": "8db5b9e3",
   "metadata": {},
   "source": [
    "__Exercise (harder):__ Prove that the representation of a real number $ x $ in\n",
    "base $ b $ is unique except for the cases mentioned in the preceding warning.\n",
    "_Hint:_ Suppose that a real number $ x > 0 $ has two distinct representations in\n",
    "some base $ b $:\n",
    "$$\n",
    "x = (d_m\\, d_{m - 1}\\cdots d_1\\, d_0\\,.\\,d_{-1}\\, d_{-2} \\cdots)_{b}\n",
    "= (d_m'\\, d_{m - 1}'\\cdots d_1'\\, d_0'\\,.\\,d_{-1}'\\, d_{-2}' \\cdots)_{b}\n",
    "$$\n",
    "If $ r $ is the leftmost index such that the two corresponding digits $ d_r $ and\n",
    "$ d_r' $ do not coincide, then $ 0 = x - x $ can be written in the form \n",
    "$$ 0 = b^r\\sum_{k=0}^{+\\infty} e_kb^{-k} \\quad \\text{where}\\quad\n",
    "e_0 > 0 \\quad \\text{and}\\quad 0 \\le \\vert e_{i} \\vert \\le b - 1 \\quad \\text{for\n",
    "each $ k \\ge 0 \\,$}.\n",
    "$$\n",
    "Show that the only possibility is that $ e_0 = 1 $ and $ e_i = -(b - 1) $ for all $\n",
    "i > 0 $."
   ]
  },
  {
   "attachments": {},
   "cell_type": "markdown",
   "id": "5f0ecf1d",
   "metadata": {},
   "source": [
    "⚡ A real number is said to be __algebraic__ if it is a root of some polynomial\n",
    "having coefficients in $ \\mathbb Z $. A real number which is not algebraic is called\n",
    "__transcendental__.\n",
    "\n",
    "* Any rational number $ r $ is algebraic since it is the root of the polynomial\n",
    "  $ x - r $ of degree $ 1 $. Equivalently, any transcendental number must be\n",
    "  irrational.\n",
    "  \n",
    "* Some irrational numbers, such as $ \\sqrt{3}, \\sqrt[3]{7} $ and\n",
    "  $ \\sqrt[5]{2 + \\sqrt{3}} $ are also algebraic (why?).\n",
    "\n",
    "* The familiar numbers $ \\pi $ and $ e $ are transcendental, however this was\n",
    "  only established near the end of the 19th century. It is still an open problem\n",
    "  to prove whether relatively simple numbers such as $ \\pi^\\pi $ are\n",
    "  transcendental."
   ]
  },
  {
   "attachments": {},
   "cell_type": "markdown",
   "id": "086db021",
   "metadata": {},
   "source": [
    "⚡ A real number $ x $ is said to be **computable** if its representation (say, in base $ 2 $) can, in principle, be determined by an *algorithm*. Intuitively, $ x $ is computable if its representation can be calculated by a computer with unlimited memory but limited processing power, provided with finitely many instructions but having infinite time to perform its computations, a so-called **Turing machine**.\n",
    "\n",
    "It should be clear that any number whose representation consists of finitely many digits is computable. An example of a number which does not have this property and yet is computable is $ \\frac{1}{3} = (.010101\\dots)_2 $ in base $ 2 $. We can certainly write a simple program to print all of its digits, even though such a program will never terminate.\n",
    "\n",
    "The class of computable numbers includes all algebraic numbers, plus some transcendental numbers, such as $ e $ and $ \\pi $.\n",
    "\n",
    "However, not every real number is computable. In fact, in a sense which can be\n",
    "made precise, _almost no real number is computable_ (more precisely, the set of\n",
    "computable numbers is denumerable). This result is due to A. Turing — _On\n",
    "computable numbers, with an application to the Entscheidungsproblem_ (1936).\n",
    "Among other results, in this paper Turing introduces the computational model\n",
    "which now bears his name and also constructs a __universal__ Turing machine (a\n",
    "Turing machine that can simulate any other Turing machine), which served\n",
    "as a theoretical model for some of the early electronic computers.\n",
    "\n",
    "It can be argued that the only tangible numbers in a philosophical sense are the\n",
    "computable numbers, and that the remaining so-called real numbers are not \"real\"\n",
    "at all, since even though they can in principle be defined, they cannot in fact\n",
    "be \"realized\" as the result of some finite process."
   ]
  },
  {
   "attachments": {},
   "cell_type": "markdown",
   "id": "3d7f356d",
   "metadata": {},
   "source": [
    "## $ \\S 2 $ The binary system and its cousins\n",
    "\n",
    "Most computing uses the __binary__ form of representing numbers, in which the\n",
    "base $ b $ equals $ 2 $ and there are only two possible digits: $ 0 $ and $ 1 $.\n",
    "Such a digit is usually referred to as a __bit__ (short for _binary digit_).\n",
    "\n",
    "There are several reasons why the binary system is prevalent. Firstly, it is the\n",
    "simplest representation system. Secondly, it is also the easiest one to\n",
    "implement from an engineering standpoint, because it involves devices which\n",
    "need only distinguish between two stable positions (on and off). But perhaps the\n",
    "main reason is the close relationship between Boolean logic and the arithmetic\n",
    "of integers modulo 2, given by the correspondence below:\n",
    "\n",
    "| Boolean expression/operation | Binary equivalent |\n",
    "| :----------------- | :----------------- |\n",
    "| False              | 0                 |\n",
    "| True               | 1                 |\n",
    "| And                | $ \\times $ (multiplication) |\n",
    "| _Exclusive_ or (__xor__)   | $ + $ (addition)  |\n",
    "| Not                | $ x \\mapsto 1 + x $ |\n",
    "| Or (inclusive)     | $ (x, y) \\mapsto x + y + xy $ |\n",
    "\n",
    "Note that all three operations on the right side are __modulo 2__, that is,\n",
    "the result of, say, $ x + y \\pmod 2 $ is the _remainder_ of $ x + y $ after\n",
    "division by $ 2 $, so that in this sense $ 1 + 1 = 0 $. Note that $ n \\equiv -n\n",
    "\\pmod 2 $ for any integer $ n $."
   ]
  },
  {
   "attachments": {},
   "cell_type": "markdown",
   "id": "cb195648",
   "metadata": {},
   "source": [
    "📝 Besides the binary and decimal systems, the following two systems are also relatively important in applications:\n",
    "\n",
    "* The _octal_ system, where $ b = 8 $ and the possible digits are $ 0,1,\\dots,7 $;\n",
    "* The _hexadecimal_ system, where $ b = 16 $ and the possible digits are\n",
    "  $ 0, 1, \\dots, 9 $ and $ A, B, \\dots, F $, which stand for\n",
    "  $ 10, 11, \\dots, 15 $ in the decimal system, respectively.\n",
    "\n",
    "__Exercise:__ Determine the number $ (ABC)_{16} $.\n",
    "\n",
    "__Exercise:__ Show that if an integer $ n $ has a binary representation of length $ m $, then its representation in the octal system is of length at most $ \\lceil\\frac{m}{3}\\rceil $."
   ]
  },
  {
   "cell_type": "markdown",
   "id": "5acd6393",
   "metadata": {},
   "source": [
    "Our main objective is to understand how to efficiently convert from the binary system to the more familiar decimal system and back.\n",
    "\n",
    "For example, \n",
    "\n",
    "\\begin{align} (1001.101)_2 &= 1 \\times 2^3 + 0 \\times 2^2 + 0 \\times 2^1 + 1 \\times 2^0 + 1 \\times 2^{-1} + 0 \\times 2^{-2} + 1 \\times 2^{-3}  \\\\\n",
    "& = 8 + 1 + \\frac{1}{2} + \\frac{1}{8} \\\\ &= \\frac{77}{8}.\n",
    "\\end{align}\n",
    "\n",
    "However, since there is no additional difficulty, and much to be gained, in working with an arbitrary base $ b \\ge 2 $, we will formulate our results and scripts to cover any base."
   ]
  },
  {
   "attachments": {},
   "cell_type": "markdown",
   "id": "d2a21591",
   "metadata": {},
   "source": [
    "## $ \\S 3 $ Computing a number from its representation in base $ b $<a name=\"section2\"></a>\n",
    "\n",
    "In this section we will consider a solution to the following problem.\n",
    "\n",
    "<a name=\"Problem1\"></a>**Problem 1 (representation to number):** Given a base $ b \\ge 2 $ and the representation of an unknown real number $ x $ in this base, determine $ x $ with the least possible amount of computation.\n",
    "\n",
    "📝 Even though the problem has been formulated in full generality, in practice\n",
    "we can only effectively compute $ x $ when the given representation is *finite*.\n",
    "Otherwise, we need to content ourselves with an approximation to $ x $.\n",
    "\n",
    "This problem may seem trivial because (1) already gives us a way to compute $ x\n",
    "$; however, our interest is in carrying out the computation more efficiently\n",
    "than the obvious implementation of (1) as an algorithm."
   ]
  },
  {
   "attachments": {},
   "cell_type": "markdown",
   "id": "903af6ae",
   "metadata": {},
   "source": [
    "<div class=\"alert alert-info\"> The following observation will be useful: Any real number $ x $ can be written as the sum of a unique <i>integer</i> $ n $ and a unique <i>fractional number</i> $ t $ such that $ 0 \\le t < 1 $. In Python, they are given by:\n",
    "<ul>\n",
    "    <li> $ t = $ <code>x % 1</code>;</li>\n",
    "    <li> $ n = $ <code>int(x)</code> if $ x \\ge 0 $ or <code>int(x) - 1</code> if $ x < 0 $.</li>\n",
    "    </ul>\n",
    "\n",
    "In any case, $ n $ is the largest integer $ \\le x $ and $ t = x - n $.\n",
    "We will call $ n $ the <b>integral part</b> of $ x $ and $ t $ its <b>fractional part</b>\n",
    "</div>\n",
    "\n",
    "📝 If $ x \\ge 0 $, then the function `modf` from the **math** module returns the tuple $ (t, n) $ when applied to $ x $. If $ x < 0 $, then it returns the negative of `modf(-x)`, which is not the same as the decomposition considered above."
   ]
  },
  {
   "cell_type": "code",
   "execution_count": 1,
   "id": "89558e73",
   "metadata": {
    "scrolled": true
   },
   "outputs": [
    {
     "name": "stdout",
     "output_type": "stream",
     "text": [
      "The decomposition of 3.14159 into its integral and fractional part is:\n",
      "3.14159 = 3 + 0.14158999999999988\n",
      "\n",
      "The decomposition of -1.4 into its integral and fractional part is:\n",
      "-1.4 = -2 + 0.6000000000000001\n",
      "\n",
      "The decomposition of -34.9 into its integral and fractional part is:\n",
      "-34.9 = -35 + 0.10000000000000142\n",
      "\n",
      "(-0.8999999999999986, -34.0)\n",
      "(-0.8999999999999986, -34.0)\n"
     ]
    }
   ],
   "source": [
    "from math import modf\n",
    "\n",
    "\n",
    "def decompose(x: float) -> tuple:\n",
    "    t = x % 1\n",
    "    if x >= 0:\n",
    "        n = int(x)\n",
    "    else:\n",
    "        n = int(x) - 1\n",
    "    print(f\"The decomposition of {x} into its integral and fractional part is:\")\n",
    "    print(f\"{x} = {n} + {t}\\n\")\n",
    "\n",
    "\n",
    "x = 3.14159\n",
    "y = -1.4\n",
    "z = -34.9\n",
    "\n",
    "decompose(x)\n",
    "decompose(y)\n",
    "decompose(z)\n",
    "\n",
    "print(modf(z))\n",
    "print((-modf(-z)[0], -modf(-z)[1]))"
   ]
  },
  {
   "cell_type": "markdown",
   "id": "53f3f2b7",
   "metadata": {},
   "source": [
    "By means of the aforementioned decomposition, we can reduce Problem 1 to two easier problems:\n",
    "\n",
    "**Subproblem 1.1:** Given a base $ b $ and the representation of an unknown *integer* $ n $ in this base, determine $ n $ with the least possible amount of computation.\n",
    "\n",
    "**Subproblem 1.2:** Given a base $ b $ and the representation of an unknown *fractional number* $ 0 \\le t < 1 $ in this base, determine $ t $ with the least possible amount of computation.\n",
    "\n",
    "To solve [Problem 1](#Problem1) for a given representation, the idea is to consider separately the parts to the left and to the right of the point '.'. Applying the solutions to Subproblems 1.1 and 1.2 to each, we will obtain the integral and fractional parts $ n $ and $ t $ of $ x $. Hence $ x = n + t $."
   ]
  },
  {
   "cell_type": "markdown",
   "id": "4546fd72",
   "metadata": {},
   "source": [
    "**Example:** Determine $ x = (123.41)_5 $.\n",
    "\n",
    "*Solution:* Let $ n = (123)_5 $ and $ t = (.41)_5 $. Then\n",
    "$$ n = 1 \\times 5^2 + 2 \\times 5 + 3 = 25 + 10 + 3 = 38\\ ,$$\n",
    "while \n",
    "$$ t = \\frac{4}{5} + \\frac{1}{25} = \\frac{21}{25}\\ . $$\n",
    "Therefore \n",
    "$$ x = n + t = \\frac{38 \\cdot 25 + 21}{25} = \\frac{971}{25} .$$"
   ]
  },
  {
   "cell_type": "markdown",
   "id": "e87f22b2",
   "metadata": {},
   "source": [
    "### 1.1 Computing an integer given its representation in base $ b $"
   ]
  },
  {
   "cell_type": "markdown",
   "id": "fbcf1041",
   "metadata": {},
   "source": [
    "**Solution to Subproblem 1.1:** Suppose that \n",
    "$$ n = (d_m\\,d_{m-1}\\dots d_1d_0)_b\\ ,$$\n",
    "where on the right side we have the given representation in base $ b $. This means that \n",
    "$$ n = d_m\\, b^m + d_{m-1}\\, b^{m-1} + \\dots + d_1 \\, b^1 + d_0\\, b^0 .$$\n",
    "\n",
    "Consider the following sequence:\n",
    "* $ a_m = d_m $;\n",
    "* $ a_{m - 1} = b a_m + d_{m - 1} $;\n",
    "* $ a_{m - 2} = b a_{m - 1} + d_{m - 2} $;\n",
    "* $ \\vdots = \\vdots $\n",
    "* $a_{k} = b a_{k + 1} + d_k $;\n",
    "* $ \\vdots = \\vdots $\n",
    "* $ a_1 = b a_2 + d_1 $;\n",
    "* $ a_0 = b a_1 + d_0 $."
   ]
  },
  {
   "cell_type": "markdown",
   "id": "2de81250",
   "metadata": {},
   "source": [
    "**Exercise:** Prove by induction on $ m $ that $ a_0 = n $.\n",
    "\n",
    "The preceding steps can immediately be converted into an efficient procedure to compute $ n $."
   ]
  },
  {
   "cell_type": "code",
   "execution_count": 3,
   "id": "a165e3f2",
   "metadata": {},
   "outputs": [
    {
     "name": "stdout",
     "output_type": "stream",
     "text": [
      "11\n",
      "31\n",
      "1011\n",
      "38\n",
      "156\n"
     ]
    }
   ],
   "source": [
    "def rep_to_number(b: int, digits: str) -> int:   # The type annotations are optional!\n",
    "    \"\"\"A function which takes a string of digits between 0 and b - 1,\n",
    "    where the base b >= 2 is an integer, and returns the integer\n",
    "    whose representation in base b is the given one.\"\"\"\n",
    "    assert isinstance(b, int) and b >= 2         # Make sure b is an integer >= 2.\n",
    "    allowed = [str(d) for d in range(0, b)]      # Allowed digits.\n",
    "    for digit in digits:                         # Check if the representation is valid.\n",
    "        if digit not in allowed:\n",
    "            raise ValueError(f\"Invalid representation of a number in base {b}.\")\n",
    "       \n",
    "    n = 0\n",
    "    for d in digits:\n",
    "        d = int(d)       # Convert the current digit to an int.\n",
    "        n = b * n + d\n",
    "    \n",
    "    return n\n",
    "\n",
    "print(rep_to_number(2, \"1011\"))\n",
    "print(rep_to_number(3, \"1011\"))\n",
    "print(rep_to_number(10, \"1011\"))\n",
    "print(rep_to_number(2, \"100110\"))\n",
    "print(rep_to_number(3, \"12210\"))"
   ]
  },
  {
   "cell_type": "markdown",
   "id": "dd0ed9af",
   "metadata": {},
   "source": [
    "### 1.2 Obtaining a fractional number from its representation in base $ b $\n",
    "**Solution to Subproblem 1.2:** Suppose that we are given the (finite) representation\n",
    "$$ .d_{-1}\\,d_{-2}\\dots d_{-r} $$\n",
    "in base $ b $ and let $ t $, $ 0 \\le t < 1 $, be the (unknown) represented number. \n",
    "Then\n",
    "$$\n",
    "t = d_{-1}b^{-1} + d_{-2}b^{-2} + \\dots + d_{-r}b^{-r}.\n",
    "$$\n",
    "To compute $ t $, observe that\n",
    "$$\n",
    "b^{r} t = d_{-1}b^{r - 1} + d_{-2}b^{r - 2} + \\dots + d_{-r + 1} b + d_{-r}.\n",
    "$$\n",
    "Therefore we can apply the solution to Subproblem 1.1 to compute $ b^r t $ from its  representation\n",
    "$$ (d_{-1}\\,d_{-2}\\dots d_{-r})_b = b^r t $$\n",
    "and then divide by $ b^r $ (where $ r $ is the length of the given representation of $ t $) to find $ t $. This is implemented below. $\\qed $"
   ]
  },
  {
   "cell_type": "code",
   "execution_count": 3,
   "id": "651e4e2a",
   "metadata": {},
   "outputs": [
    {
     "name": "stdout",
     "output_type": "stream",
     "text": [
      "0.75\n",
      "0.4444444444444444\n",
      "0.11\n"
     ]
    }
   ],
   "source": [
    "def rep_to_fractional(b: int, digits: str) -> int:   # The type annotations are optional!\n",
    "    \"\"\"A function which takes a string of digits between 0 and b - 1,\n",
    "    where the base b >= 2 is an integer, and returns the unique\n",
    "    fractional number whose representation in base b is the given one.\"\"\"\n",
    "    assert isinstance(b, int) and b >= 2         # Make sure b is an integer >= 2.\n",
    "    allowed = [str(d) for d in range(0, b)]      # Allowed digits.\n",
    "    for digit in digits:                         # Check if the representation is valid.\n",
    "        if digit not in allowed:\n",
    "            raise ValueError(f\"Invalid representation of a number in base {b}.\")\n",
    "    \n",
    "    r = len(digits)\n",
    "    n = rep_to_number(b, digits)\n",
    "    return n * b**(-r)\n",
    "\n",
    "\n",
    "print(rep_to_fractional(2, \"11\"))\n",
    "print(rep_to_fractional(3, \"11\"))\n",
    "print(rep_to_fractional(10, \"11\"))"
   ]
  },
  {
   "cell_type": "markdown",
   "id": "95797480",
   "metadata": {},
   "source": [
    "### 1.3 Obtaining a real number from its representation in base $ b $\n",
    "\n",
    "**Exercise:** Define a function which takes two arguments:\n",
    "* The base $ b \\ge 2 $;\n",
    "* The (finite) representation of an unknown real number $ x $, provided as a string of digits between $ 0 $ and $ b - 1 $;\n",
    "\n",
    "and which returns $ x $ as output. (*Hint:* Use the functions that were defined above plus the list method `index`, which returns the index of the first occurrence of some element in a list, in order to find the location of the point '.' in the given representation.)\n",
    "\n",
    "**Exercise:** How should each of the functions above be modified to include the possibility that $ x \\le 0 $?"
   ]
  },
  {
   "cell_type": "markdown",
   "id": "c194386e",
   "metadata": {},
   "source": [
    "## 2 Computing the representation of a number in base $ b $\n",
    "\n",
    "We will now consider the converse to [Problem 1](#Problem1), namely, how to compute the representation of a number in base $ b $ given the number $ x $ itself.\n",
    "\n",
    "<a name=\"Problem2\"></a>**Problem 2 (number to representation):** Given a base $ b \\ge 2 $ and a real number $ x $, find its representation in base $ b $.\n",
    "\n",
    "**Subproblem 2.1:** Given a base $ b $ and an *integer* $ n $, find its representation in base $ b $.\n",
    "\n",
    "**Subproblem 2.2:** Given a base $ b $ and a *fractional number* $ t $, $ 0 \\le t < 1 $, find its representation in base $ b $.\n",
    "\n",
    "As before, if we can solve these two subproblems, then we can obtain a solution to Problem 2 by combining their solutions. More precisely, the idea is to separately compute the representations of the integral and fractional parts $ n $ and $ t $ of $ x $, and finally to concatenate them, with a point '.' in between, to obtain the representation of $ x $.\n"
   ]
  },
  {
   "cell_type": "markdown",
   "id": "5f22d6ba",
   "metadata": {},
   "source": [
    "### 2.1 Obtaining the representation in base $ b $ of an integer\n",
    "\n",
    "**Solution to Subproblem 2.1:** We may assume without loss of generality that $ n \\ge 0 $, since the representation of $ -n $ is identical to that of $ n $ except for the $ - $ sign at the beginning. Let\n",
    "$$ n = (d_m\\,d_{m-1}\\dots d_1d_0)_b\\ ,$$\n",
    "be the representation of $ n $ in base $ b $, that is, \n",
    "$$ n = d_m\\, b^m + d_{m-1}\\, b^{m-1} + \\dots + d_1 \\, b^1 + d_0\\, b^0 .$$\n",
    "We need to compute the $ d_k $."
   ]
  },
  {
   "cell_type": "markdown",
   "id": "1a74f7c1",
   "metadata": {},
   "source": [
    "Now, upon (integer) division of $ n $ by $ b $, we obtain:\n",
    "* $ d_0 $ as the remainder;\n",
    "* $ d_m\\, b^{m - 1} + d_{m - 1}\\, b^{m - 2} + \\dots + d_2\\,b^1 + d_1 \\, b^0 $ as the quotient.\n",
    "\n",
    "Similarly, division of the latter by $ b $ yields:\n",
    "* $ d_1 $ as the remainder;\n",
    "* $ d_m\\, b^{m - 2} + d_{m - 1}\\, b^{m - 3} + \\dots + d_3\\,b^1 + d_2 \\, b^0 $ as the quotient.\n",
    "\n",
    "Clearly (or, more formally, by induction), continuing in this way *we can obtain the digits $ d_0,\\, d_1, \\dots, d_m $ as the successive remainders of division of $ n $ by $ b $*, which solves the problem. $ \\square $\n",
    "\n",
    "This solution is implemented in the following script:"
   ]
  },
  {
   "cell_type": "code",
   "execution_count": 4,
   "id": "ad881ecf",
   "metadata": {},
   "outputs": [
    {
     "name": "stdout",
     "output_type": "stream",
     "text": [
      "111111\n",
      "1000000\n"
     ]
    }
   ],
   "source": [
    "def integer_to_rep(b: int, n: int) -> str:\n",
    "    \"\"\"Given a base b and a nonnegative integer n, returns the\n",
    "    representation of n in base b as a string of digits from 0 to (b - 1).\"\"\"\n",
    "    assert isinstance(b, int) and b >= 2\n",
    "    assert isinstance(n, int) and n >= 0\n",
    "    \n",
    "    list_of_digits = []                   # Will store the list of digits of n.\n",
    "    while n > 0: \n",
    "        d = n % b\n",
    "        n //= b\n",
    "        list_of_digits.append(str(d))     # Convert d to a string and append it.\n",
    "\n",
    "    # Now reverse the list of digits and convert it\n",
    "    # into a string by joining its elements to the empty string:\n",
    "    list_of_digits.reverse()\n",
    "    representation = ''.join(list_of_digits)\n",
    "    return representation\n",
    "\n",
    "\n",
    "print(integer_to_rep(2, 63))\n",
    "print(integer_to_rep(2, 64))"
   ]
  },
  {
   "attachments": {},
   "cell_type": "markdown",
   "id": "35c56410",
   "metadata": {},
   "source": [
    "### 2.2 Obtaining the representation in base $ b $ of a fractional number\n",
    "\n",
    "**Solution to Subproblem 2.2:** Let \n",
    "$$ t = (.d_{-1}\\,d_{-2}\\dots d_{-r}\\dots)_b $$\n",
    "be the (unknown) representation of $ t $, that is,\n",
    "\\begin{align}\\label{E:rep2}\\tag{2}\n",
    "t = d_{-1}b^{-1} + d_{-2}b^{-2} + \\dots + d_{-r}b^{-r} + \\dots .\n",
    "\\end{align}\n",
    "\n",
    "Since our computer (and mind) has limited memory, we can only compute finitely many digits. To determine, say, the digits $ d_{-1} $ through $ d_{-r} $, we proceed as follows.\n",
    "\n",
    "Multiplying both sides of \\eqref{E:rep2}, we obtain:\n",
    "* $ d_{-1} $ as the integer part of $ bt $;\n",
    "* $ d_{-2}b^{-1} + d_{-3}b^{-2} + \\dots + d_{-r + 1}b^{-r} + \\dots $ as the fractional part  of $ b t $.\n",
    "\n",
    "Now multiplying the fractional part of $ b t $ by $ b $, we obtain:\n",
    "* $ d_{-2} $ as the integer part;\n",
    "* $ d_{-3}b^{-1} + d_{-4}b^{-2} + \\dots + d_{-r + 2}b^{-r} + \\dots $ as the fractional part.\n",
    "\n",
    "Continuing in the same fashion, we can compute $ d_{-1}, \\dots, d_{-r} $ after $ r $ steps.\n",
    "$ \\square $\n",
    "\n",
    "This solution is implemented in the script below."
   ]
  },
  {
   "cell_type": "code",
   "execution_count": 5,
   "id": "68be349b",
   "metadata": {},
   "outputs": [
    {
     "name": "stdout",
     "output_type": "stream",
     "text": [
      ".00100\n",
      ".2500000000\n"
     ]
    }
   ],
   "source": [
    "def fractional_to_rep(b: int, t: float, r: int) -> str:\n",
    "    \"\"\"Given a base b, a fractional number t and a positive integer r,\n",
    "    returns the first r digits of the representation of t in base b\n",
    "    as a string of digits from 0 to (b - 1).\"\"\"\n",
    "    assert isinstance(b, int) and b >= 2\n",
    "    assert isinstance(t, float)\n",
    "    assert isinstance(r, int) and r >= 1\n",
    "    \n",
    "    digits = []\n",
    "    while r > 0:\n",
    "        t *= b\n",
    "        d = int(t)\n",
    "        t -= d\n",
    "        digits.append(str(d))\n",
    "        r -= 1\n",
    "\n",
    "    representation = \".\" + ''.join(digits)\n",
    "    return representation\n",
    "\n",
    "\n",
    "print(fractional_to_rep(2, 1 / 8, 5))\n",
    "print(fractional_to_rep(10, 1 / 4, 10))\n"
   ]
  },
  {
   "attachments": {},
   "cell_type": "markdown",
   "id": "54b89e8a",
   "metadata": {},
   "source": [
    "## $ \\S 5 $ Python built-in functions for conversion between bases\n",
    "\n",
    "Python provides the built-in functions\n",
    "\n",
    "* `bin`\n",
    "* `oct`\n",
    "* `hex`\n",
    "\n",
    "which take a single _integer_ as argument and return its binary, octal or hexadecimal representation, respectively, in the form of strings.\n",
    "\n",
    "__Example:__ "
   ]
  },
  {
   "cell_type": "code",
   "execution_count": 9,
   "id": "dbd808db",
   "metadata": {},
   "outputs": [
    {
     "name": "stdout",
     "output_type": "stream",
     "text": [
      "0b1100 0o14 0xc\n",
      "0b10101010101011 0o25253 0x2aab\n",
      "-0b1111 -0o17 -0xf\n"
     ]
    }
   ],
   "source": [
    "x = 12\n",
    "y = 10923\n",
    "z = -15\n",
    "\n",
    "print(bin(x), oct(x), hex(x))\n",
    "print(bin(y), oct(y), hex(y))\n",
    "print(bin(z), oct(z), hex(z))"
   ]
  },
  {
   "cell_type": "markdown",
   "id": "0e4c0036",
   "metadata": {},
   "source": [
    "📝 Note how each string is prepended by `0b`, `0o` or `0x`, respectively, to indicate the type of the representation. Note also that the hexadecimal digits $ A, \\dots, F $ appear in lowercase."
   ]
  },
  {
   "cell_type": "code",
   "execution_count": null,
   "id": "58643a79",
   "metadata": {},
   "outputs": [],
   "source": []
  }
 ],
 "metadata": {
  "kernelspec": {
   "display_name": "Python 3 (ipykernel)",
   "language": "python",
   "name": "python3"
  },
  "language_info": {
   "codemirror_mode": {
    "name": "ipython",
    "version": 3
   },
   "file_extension": ".py",
   "mimetype": "text/x-python",
   "name": "python",
   "nbconvert_exporter": "python",
   "pygments_lexer": "ipython3",
   "version": "3.10.10"
  }
 },
 "nbformat": 4,
 "nbformat_minor": 5
}
