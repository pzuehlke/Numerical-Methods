{
 "cells": [
  {
   "attachments": {},
   "cell_type": "markdown",
   "id": "df16444c",
   "metadata": {},
   "source": [
    "# Real numbers and their representations\n",
    "\n",
    "## $ \\S 1 $ The representation of a number in base $ b $\n",
    "\n",
    "It is essential to differentiate a real number $ x $ from its representation in\n",
    "some system (binary, decimal, etc.). Any _integer_ $ b \\ge 2 $ can serve as the\n",
    "__base__ of such a system. Once such a choice is made, $ x $ can be expressed in\n",
    "the form\n",
    "\\begin{equation*}\\label{E:rep}\n",
    "x = \\pm\\, \\big(\\,d_mb^m + d_{m - 1}b^{m - 1} + \\cdots + d_1 b + d_0 + d_{-1}b^{-1} + d_{-2}b^{-2} + \\cdots\\,\\big)\\,.\n",
    "\\tag{1}\n",
    "\\end{equation*}\n",
    "for some integers $ d_k $ satisfying $ 0 \\le d_k \\le b - 1 $ which are called\n",
    "the __digits__ of $ x $ in base $ b $. The notation\n",
    "$$\n",
    "x = \\pm\\,(\\,d_m\\, d_{m - 1}\\cdots d_1\\, d_0\\,.\\,d_{-1}\\, d_{-2} \\cdots\\,)_{b}\n",
    "$$\n",
    "is just an abbreviation of the preceding representation. Thus, in this notation\n",
    "_the position of the digit relative to the point determines the power of $ b $\n",
    "with which it should be multiplied_.\n",
    "\n",
    "   \n",
    "The number of nonzero digits to the _left_ of the point is always finite,\n",
    "because any specific real number is bounded. In contrast, the number of nonzero\n",
    "digits to the _right_ of the point may or may not be finite.  We say that $ x $\n",
    "has a __finite__ representation in base $ b $ when only finitely many of the\n",
    "$ d_k $ are nonzero. Otherwise, its representation is said to be __infinite__.\n",
    "Irrational numbers have infinite representations in any base $ b \\ge 2 $. A\n",
    "rational number may have a finite representation in one base and an infinite one\n",
    "in another base.\n",
    "\n",
    "This method for representing real numbers is not the only possible one, nor\n",
    "necessarily the most appropriate. As an example, for some purposes it may be \n",
    "much better to represent a rational number as a pair of integers (its numerator\n",
    "and denominator) instead of storing its decimal or binary representation."
   ]
  },
  {
   "attachments": {},
   "cell_type": "markdown",
   "id": "f038e7bf",
   "metadata": {},
   "source": [
    "⚠️ Because we use the decimal system almost exclusively to represent numbers in\n",
    "daily life, we write, say, $ 592 $ instead of $ 592_{10} $. However,\n",
    "it is important to keep in mind that '$ 592 $' is not the number itself, but\n",
    "rather its _representation_ in base $ 10 $. The same number could also be\n",
    "written as $ 1001010000_2 $, and were $ b = 2 $ the most commonly used base,\n",
    "we would instead abuse our notation to write simply $ 1001010000 $."
   ]
  },
  {
   "attachments": {},
   "cell_type": "markdown",
   "id": "14578fbe",
   "metadata": {},
   "source": [
    "__Exercise:__ Compute the number $ 1001101_2 $ (i.e., find its representation in the decimal system).\n",
    "\n",
    "__Exercise:__ Show that $ 12210_3 = 156_{10} $.\n",
    "\n",
    "__Exercise:__ Let $ b \\ge 2 $ and $ m \\ge 0 $. How many numbers $ x $ are represented as in (1) by digits $ d_k $ such that:\n",
    "$$ d_k = 0 \\quad \\textrm{ if $\\  k > m \\ $ or $\\ k < 0 \\ $?} $$\n",
    "\n",
    "Note in particular how the number of digits required to represent an integer $ n\n",
    "$ in a given base $ b $ is approximately equal to $ \\log_b n $."
   ]
  },
  {
   "attachments": {},
   "cell_type": "markdown",
   "id": "0aa2fed0",
   "metadata": {},
   "source": [
    "__Exercise:__ Let $ b \\ge 2 $ be an integer. Prove that the representation in\n",
    "base $ b $ of a real number $ x $ is finite (i.e., has finitely many nonzero\n",
    "digits) if and only if $ x $ can be expressed as a fraction in which the\n",
    "numerator is an integer and the denominator is of the form $ b^r $ for some\n",
    "integer $ r \\ge 0 \\,$. "
   ]
  },
  {
   "attachments": {},
   "cell_type": "markdown",
   "id": "21862fae",
   "metadata": {},
   "source": [
    "__Exercise__: Which of the following numbers has a finite representation in base $ 2 $?\n",
    "\n",
    "(a) $ \\frac{1}{3} $;\n",
    "\n",
    "(b) $ \\frac{2}{3} $;\n",
    "\n",
    "(c) $ \\frac{3}{8} $;\n",
    "\n",
    "(d) $ \\frac{7}{56} $."
   ]
  },
  {
   "cell_type": "markdown",
   "id": "22a0e357",
   "metadata": {},
   "source": [
    "⚠️ To avoid confusion, when considering systems other than the decimal ($ b = 10 $), it is better to avoid the expressions \"decimal point\", \"decimal digit\" and \"decimal part\". We will speak instead of \"point\", \"digit\" and \"fractional part\"."
   ]
  },
  {
   "attachments": {},
   "cell_type": "markdown",
   "id": "844bd5c2",
   "metadata": {},
   "source": [
    "⚠️ For a given base $ b $, the representation in (1) is _unique_ except for the\n",
    "consequences of the fact that \n",
    "$$ (b-1)\\,b^{-r} + (b-1)\\,b^{-r-1} + (b-1)\\,b^{-r-2} + \\dots = b^{-r + 1} .$$\n",
    "Thus, for instance,\n",
    "$$ (0.123\\overline{9}\\dots)_{10} = 0.124_{10} \\quad \\text{and}\n",
    "\\quad (1010.1010\\overline{1}\\dots)_2 = 1010.1011_2 .$$ \n",
    "Here the bar over a digit (or sequence of digits) indicates that it is\n",
    "repeated _ad infinitum_.\n",
    "\n",
    "It follows that the only real numbers which have non-unique representations in\n",
    "base $ b $ are those which have a representation whose digits are all equal\n",
    "to $ b - 1 $ from some point on (when read from left to right).\n",
    "Moreover, such numbers have _exactly two_ different representations, and the\n",
    "other one is finite, exactly as in the examples given above.\n",
    "\n",
    "__Convention:__ For the sake of convenience, we will assume implicitly below\n",
    "that the representation of a number is _not_ such that every digit equals\n",
    "$ b - 1 $ from some point on; if this happened to be the case, we could just\n",
    "replace it by the other one, which is finite. Also, note that the representation\n",
    "of a negative number in base $ b $ is obtained simply by prepending a minus\n",
    "sign to the representation of the absolute value of that number. Thus, there\n",
    "is no loss of generality in assuming that all numbers considered are positive."
   ]
  },
  {
   "attachments": {},
   "cell_type": "markdown",
   "id": "5e19a7f0",
   "metadata": {},
   "source": [
    "__Exercise (harder):__ Prove that a real number $ x $ is rational if and only if\n",
    "its representation in any base $ b $ is periodic (i.e., repeating) from some\n",
    "digit on. (This includes the case in which the representation is finite since, \n",
    "for instance, $ (0.123)_{10} = (0.123\\overline{0})_{10} $ is periodic of period $ 1 $\n",
    "from the fourth decimal digit on.)\n",
    "\n",
    "_Hint:_ In one direction, suppose that $ x = n / m $ for some positive\n",
    "integers $ n $ and $ m $. Since there are only $ m $ possible remainders upon\n",
    "division by $ m $, eventually the same remainder occurs twice. This implies that\n",
    "the representation of $ x $ in a given base is periodic. Conversely, if the\n",
    "representation of a number $ x $ in base $ b $ is periodic with period $ p $,\n",
    "show that $ b^p x - x $ has a finite representation, hence is rational. This\n",
    "in turn implies that $ x $ itself must be rational.\n"
   ]
  },
  {
   "attachments": {},
   "cell_type": "markdown",
   "id": "8db5b9e3",
   "metadata": {},
   "source": [
    "__Exercise (harder):__ Prove that the representation of a real number $ x $ in\n",
    "base $ b $ is unique except for the cases mentioned in the preceding warning.\n",
    "_Hint:_ Suppose that a real number $ x > 0 $ has two distinct representations in\n",
    "some base $ b $:\n",
    "$$\n",
    "x = (d_m\\, d_{m - 1}\\cdots d_1\\, d_0\\,.\\,d_{-1}\\, d_{-2} \\cdots)_{b}\n",
    "= (d_m'\\, d_{m - 1}'\\cdots d_1'\\, d_0'\\,.\\,d_{-1}'\\, d_{-2}' \\cdots)_{b}\n",
    "$$\n",
    "If $ r $ is the leftmost index such that the two corresponding digits $ d_r $ and\n",
    "$ d_r' $ do not coincide, then $ 0 = x - x $ can be written in the form \n",
    "$$ 0 = b^r\\sum_{k=0}^{+\\infty} e_kb^{-k} \\quad \\text{where}\\quad\n",
    "e_0 > 0 \\quad \\text{and}\\quad 0 \\le \\vert e_{i} \\vert \\le b - 1 \\quad \\text{for\n",
    "each $ k \\ge 0 \\,$}.\n",
    "$$\n",
    "Show that the only possibility is that $ e_0 = 1 $ and $ e_i = -(b - 1) $ for all $\n",
    "i > 0 $."
   ]
  },
  {
   "attachments": {},
   "cell_type": "markdown",
   "id": "5f0ecf1d",
   "metadata": {},
   "source": [
    "⚡ A real number is said to be __algebraic__ if it is a root of some polynomial\n",
    "having coefficients in $ \\mathbb Z $. A number which is not algebraic is called\n",
    "__transcendental__.\n",
    "\n",
    "* Any rational number $ \\frac{m}{n} $ is algebraic, since it is the root of the\n",
    "  polynomial $ mx - n $ of degree $ 1 $. Equivalently, any transcendental number\n",
    "  must be irrational.\n",
    "  \n",
    "* Some irrational numbers, such as $ \\sqrt{3}, \\sqrt[3]{7} $ and\n",
    "  $ \\sqrt[5]{2 + \\sqrt{3}} $ are also algebraic (why?).\n",
    "\n",
    "* The familiar numbers $ \\pi $ and $ e $ are transcendental. However, this was\n",
    "  only established near the end of the 19th century. It is still an open problem\n",
    "  to prove whether relatively simple numbers such as $ \\pi^\\pi $ are\n",
    "  transcendental."
   ]
  },
  {
   "attachments": {},
   "cell_type": "markdown",
   "id": "086db021",
   "metadata": {},
   "source": [
    "⚡ A real number $ x $ is said to be **computable** if its representation (say,\n",
    "in base $ 2 $) can, in principle, be determined by an *algorithm*. Intuitively,\n",
    "$ x $ is computable if its representation can be calculated by a computer with\n",
    "unlimited memory but limited processing power, provided with finitely many\n",
    "instructions but having infinite time to perform its computations, a so-called\n",
    "__Turing machine__.\n",
    "\n",
    "It should be obvious that any number whose representation consists of finitely\n",
    "many digits is computable. An example of a number which does not have this\n",
    "property and yet is computable is $ \\frac{1}{3} = (.010101\\dots)_2 $ in base $ 2\n",
    "$. We can certainly write a simple program to print its digits in sequence,\n",
    "even though such a program will never terminate.\n",
    "\n",
    "The class of computable numbers includes all algebraic numbers, plus some\n",
    "transcendental numbers, such as $ e $ and $ \\pi $.\n",
    "\n",
    "However, not every real number is computable. In fact, in a sense which can be\n",
    "made precise, _almost no real number is computable_ (more precisely, the set of\n",
    "computable numbers is denumerable). This result is due to A. Turing — _On\n",
    "computable numbers, with an application to the Entscheidungsproblem_ (1936).\n",
    "Among other results, in this paper Turing introduces the computational model\n",
    "which now bears his name and also constructs a __universal__ Turing machine (a\n",
    "Turing machine that can simulate any other Turing machine), which served\n",
    "as a theoretical model for some of the early electronic computers.\n",
    "\n",
    "It can be argued that the only tangible numbers in a philosophical sense are the\n",
    "computable numbers, and that the remaining so-called real numbers are not \"real\"\n",
    "at all, since even though they can in principle be defined, they cannot in fact\n",
    "be \"realized\" as the result of some finite process."
   ]
  },
  {
   "attachments": {},
   "cell_type": "markdown",
   "id": "3d7f356d",
   "metadata": {},
   "source": [
    "## $ \\S 2 $ The binary system and its cousins\n",
    "\n",
    "Most computing uses the __binary__ form of representing numbers, in which the\n",
    "base $ b $ equals $ 2 $ and there are only two possible digits: $ 0 $ and $ 1 $.\n",
    "Such a digit is usually referred to as a __bit__ (short for _binary digit_).\n",
    "\n",
    "There are several reasons why the binary system is prevalent. Firstly, it is the\n",
    "simplest representation system. Secondly, it is also the easiest one to\n",
    "implement from an engineering standpoint, because it requires devices (such as\n",
    "transistors) which need only distinguish between two stable positions: on and\n",
    "off. But perhaps the main reason is the close relationship between Boolean logic\n",
    "and the arithmetic of integers modulo 2, given by the correspondence below:\n",
    "\n",
    "| Boolean expression/operation | Binary equivalent |\n",
    "| :----------------- | :----------------- |\n",
    "| False              | 0                 |\n",
    "| True               | 1                 |\n",
    "| Not                | $ x \\mapsto 1 - x $ |\n",
    "| And                | $ \\times $ (multiplication) |\n",
    "| _Exclusive_ or (__xor__)   | $ + $ (addition)  |\n",
    "| Or (inclusive)     | $ (x, y) \\mapsto x + y - xy $ |\n",
    "\n",
    "Note that all three operations on the right side are __modulo 2__, that is,\n",
    "the result of, say, $ x + y \\pmod 2 $ is the _remainder_ of $ x + y $ after\n",
    "division by $ 2 $, so that in binary we have $ 1 + 1 = 0 $.\n",
    "Note also that $ n = -n \\pmod 2 $ for any integer $ n $."
   ]
  },
  {
   "attachments": {},
   "cell_type": "markdown",
   "id": "cb195648",
   "metadata": {},
   "source": [
    "📝 Besides the binary and decimal systems, the following two systems are also relatively important in applications:\n",
    "\n",
    "* The _octal_ system, where $ b = 8 $ and the possible digits are $ 0,1,\\dots,7 $;\n",
    "* The _hexadecimal_ system, where $ b = 16 $ and the possible digits are\n",
    "  $ 0, 1, \\dots, 9 $ and $ A, B, \\dots, F $, which stand for\n",
    "  $ 10, 11, \\dots, 15 $ in the decimal system, respectively.\n",
    "\n",
    "__Exercise:__ Convert the following numbers to the decimal system:\n",
    "\n",
    "(a) $ 1111_2 $.\n",
    "\n",
    "(b) $ 123_8 $.\n",
    "\n",
    "(c) $ ABC_{16} $.\n",
    "\n",
    "(d) $ 12_{16} $.\n",
    "\n",
    "  __Exercise:__ Show that if an integer $ n $ has a binary representation of\n",
    "  length $ m $, then its representation in the octal (resp. hexadecimal) system\n",
    "  is of length at most $ \\lceil\\frac{m}{3}\\rceil $ (resp. $ \\lceil\\frac{m}{4}\\rceil $).\n",
    "  Thus these two systems are more concise than the binary system."
   ]
  },
  {
   "attachments": {},
   "cell_type": "markdown",
   "id": "00814d7a",
   "metadata": {},
   "source": [
    "## $ \\S 3 $ The integral and fractional parts of a real number\n",
    "\n",
    "Our main objective is to understand how to efficiently convert from the familiar\n",
    "decimal system to base $b$ (for any $ b \\ge 2 $) and back. \n",
    "\n",
    "<div class=\"alert alert-info\">  Any real number $ x $ can be written as the sum of a unique <i>integer</i> $ n $ and a unique <i>fractional number</i> $ t $ such that $ 0 \\le t < 1 $. In Python, they are given by:\n",
    "<ul>\n",
    "    <li> $ t = $ <code>x % 1</code>;</li>\n",
    "    <li> $ n = $ <code>int(x)</code> if $ x \\ge 0 $ or <code>int(x) - 1</code> if $ x < 0 $.</li>\n",
    "    </ul>\n",
    "\n",
    "In any case, $ n = \\lfloor x \\rfloor $ (the _floor_ of $ x $) is the largest\n",
    "integer $ \\le x $ and $ t = x - n $.  We will call $ n $ the <b>integral\n",
    "part</b> of $ x $ and $ t $ its <b>fractional part.</b>\n",
    "</div>\n",
    "\n",
    "📝 If $ x \\ge 0 $, then the function `modf` from the **math** module returns the tuple $ (t, n) $ when applied to $ x $. If $ x < 0 $, then it returns the negative of `modf(-x)`, which is not the same as the decomposition considered above."
   ]
  },
  {
   "cell_type": "code",
   "execution_count": 43,
   "id": "fca614eb",
   "metadata": {},
   "outputs": [],
   "source": [
    "def decompose(x: float) -> tuple:\n",
    "    t = x % 1\n",
    "    if x >= 0:\n",
    "        n = int(x)\n",
    "    else:\n",
    "        n = int(x) - 1\n",
    "    print(f\"The decomposition of {x} into its integral and fractional part is:\")\n",
    "    print(f\"{x} = {n} + {t}\")\n",
    "    return (n, t)"
   ]
  },
  {
   "attachments": {},
   "cell_type": "markdown",
   "id": "1c117f93",
   "metadata": {},
   "source": [
    "__Examples:__"
   ]
  },
  {
   "cell_type": "code",
   "execution_count": 44,
   "id": "65d0bab3",
   "metadata": {},
   "outputs": [
    {
     "name": "stdout",
     "output_type": "stream",
     "text": [
      "The decomposition of 3.14159 into its integral and fractional part is:\n",
      "3.14159 = 3 + 0.14158999999999988\n"
     ]
    },
    {
     "data": {
      "text/plain": [
       "(3, 0.14158999999999988)"
      ]
     },
     "execution_count": 44,
     "metadata": {},
     "output_type": "execute_result"
    }
   ],
   "source": [
    "x = 3.14159\n",
    "decompose(x)"
   ]
  },
  {
   "cell_type": "code",
   "execution_count": 45,
   "id": "176929f3",
   "metadata": {},
   "outputs": [
    {
     "name": "stdout",
     "output_type": "stream",
     "text": [
      "The decomposition of -1.4 into its integral and fractional part is:\n",
      "-1.4 = -2 + 0.6000000000000001\n"
     ]
    },
    {
     "data": {
      "text/plain": [
       "(-2, 0.6000000000000001)"
      ]
     },
     "execution_count": 45,
     "metadata": {},
     "output_type": "execute_result"
    }
   ],
   "source": [
    "y = -1.4\n",
    "decompose(y)"
   ]
  },
  {
   "cell_type": "code",
   "execution_count": 46,
   "id": "4e531bf3",
   "metadata": {},
   "outputs": [
    {
     "name": "stdout",
     "output_type": "stream",
     "text": [
      "The decomposition of -34.9 into its integral and fractional part is:\n",
      "-34.9 = -35 + 0.10000000000000142\n"
     ]
    },
    {
     "data": {
      "text/plain": [
       "(-35, 0.10000000000000142)"
      ]
     },
     "execution_count": 46,
     "metadata": {},
     "output_type": "execute_result"
    }
   ],
   "source": [
    "z = -34.9\n",
    "decompose(z)"
   ]
  },
  {
   "attachments": {},
   "cell_type": "markdown",
   "id": "d2a21591",
   "metadata": {},
   "source": [
    "## $ \\S 4 $ Computing a number from its representation in base $ b $<a name=\"section2\"></a>\n",
    "\n",
    "In this section we will consider a solution to the following problem.\n",
    "\n",
    "<a name=\"Problem1\"></a>__Problem 1 (representation to number):__ Given a base $\n",
    "b \\ge 2 $ and the representation of an unknown real number $ x $ in this base,\n",
    "determine $ x $.\n",
    "\n",
    "\n",
    "📝 Even though the problem has been formulated in full generality, in practice\n",
    "we can only effectively compute $ x $ when the given representation is _finite_.\n",
    "Otherwise, we need to content ourselves with an approximation to $ x $, except\n",
    "in the few cases where we can apply calculus to compute the sum of the series\n",
    "that results from the representation of $ x $."
   ]
  },
  {
   "attachments": {},
   "cell_type": "markdown",
   "id": "53f3f2b7",
   "metadata": {},
   "source": [
    "By means of the decomposition of a real number into its integral and fractional\n",
    "parts, we can reduce Problem 1 to two easier problems:\n",
    "\n",
    "__Subproblem 1.1:__ Given a base $ b $ and the representation of an unknown\n",
    "_integer_ $ n $ in this base, determine $ n $.\n",
    "\n",
    "__Subproblem 1.2:__ Given a base $ b $ and the representation of an unknown\n",
    "_fractional number_ $ 0 \\le t < 1 $ in this base, determine $ t $.\n"
   ]
  },
  {
   "attachments": {},
   "cell_type": "markdown",
   "id": "fbcf1041",
   "metadata": {},
   "source": [
    "### $ 4.1 $ Computing an integer from its representation in base $ b $\n",
    "\n",
    "__Solution to Subproblem 1.1:__ Suppose that \n",
    "$$ n = (d_m\\,d_{m-1}\\dots d_1d_0)_b\\ ,$$\n",
    "where on the right side we have the given representation in base $ b $. This means that \n",
    "\\begin{alignat*}{9}\n",
    "n &= d_m\\, b^m + d_{m-1}\\, b^{m-1} + \\dots + d_1 \\, b^1 + d_0\\, b^0 \\\\\n",
    "&= d_0 + b\\,\\Big(\\, d_1 + b\\,\\big(\\, d_2 + b\\,(\\, \\cdots\\, b\\,(\\,d_{m - 1} + b\\,d_m\\,)\\, \\cdots\\, \\big) \\Big)\n",
    "\\end{alignat*}\n",
    "Thus, we can compute $ n $ efficiently as follows.\n",
    "\n",
    "__Algorithm 1.1:__ \n",
    "* Initially let $ n = d_m $. For each $ k =  m - 1,\\, m - 2,\\, \\dots,\\, 1,\\, 0 $ successively, do:\n",
    "* Set $ n = b\\,d_{k} + d_{k - 1} $.\n",
    "* After no digit remains, $ n $ is the integer whose representation was given in\n",
    "  base $ b $.\n",
    "\n",
    "__Example:__ Compute $ 20121_3 $ (i.e., find its representation in the decimal\n",
    "system). \n",
    "\n",
    "__Solution:__ This number has $ 5 $ digits in base $ 3 $. \n",
    "Following the algorithm, we obtain:\n",
    "\\begin{aligned}\n",
    "n &\\leftarrow 2 \\\\\n",
    "n &\\leftarrow 3\\cdot2 + 0 =  6 \\\\\n",
    "n &\\leftarrow 3\\cdot6 + 1 =  19 \\\\\n",
    "n &\\leftarrow 3\\cdot19 + 2 =  59 \\\\\n",
    "n &\\leftarrow 3\\cdot59 + 1 =  178\\,.\n",
    "\\end{aligned}\n",
    "\n",
    "Therefore the decimal equivalent of $ 20121_3 $ is $ 178 $. \n",
    "\n",
    "__Implementation of algorithm 1.1:__ "
   ]
  },
  {
   "cell_type": "code",
   "execution_count": 94,
   "id": "a165e3f2",
   "metadata": {},
   "outputs": [],
   "source": [
    "def repr_to_integer(b: int, digits: list[int]) -> int:\n",
    "    \"\"\"\n",
    "    Take a list 'digits' of digits between 0 and b - 1, where the base b >= 2,\n",
    "    and return the integer whose representation in base b is the given one.\n",
    "    \"\"\"\n",
    "    # Test that b is a positive integer >= 2:\n",
    "    if not(isinstance(b, int) and b >= 2):\n",
    "        raise ValueError(\"b must be an integer >= 2!\")\n",
    "    # Test that 'digits' is a list having the correct form:\n",
    "    if not isinstance(digits, list):\n",
    "        raise TypeError(\"The argument digits must be a list!\")\n",
    "    allowed = set(range(b))    # Allowed digits.\n",
    "    if not set(digits).issubset(allowed):\n",
    "        raise ValueError(f\"Invalid representation of a number in base {b}!\")\n",
    "    # Compute the integer n:   \n",
    "    n = 0\n",
    "    for d in digits:\n",
    "        d = int(d)       # Convert the current digit to an int.\n",
    "        n = b * n + d\n",
    "    return n"
   ]
  },
  {
   "cell_type": "code",
   "execution_count": 78,
   "id": "04d9d7b8",
   "metadata": {},
   "outputs": [
    {
     "data": {
      "text/plain": [
       "1018"
      ]
     },
     "execution_count": 78,
     "metadata": {},
     "output_type": "execute_result"
    }
   ],
   "source": [
    "repr_to_integer(16, [3,15,10])"
   ]
  },
  {
   "attachments": {},
   "cell_type": "markdown",
   "id": "d498a9e9",
   "metadata": {},
   "source": [
    "__Exercise:__ Compute the following integers (i.e., find their equivalents in base $ 10 $). Check your answers using `repr_to_integer`.\n",
    "\n",
    "(a) $ 110101_2 $.\n",
    "\n",
    "(b) $ -101011_2 $.\n",
    "\n",
    "(c) $ -12012_3 $.\n",
    "\n",
    "(d) $ 1320_4 $.\n",
    "\n",
    "(e) $ 430_5 $.\n",
    "\n",
    "(f) $ -276_8 $.\n",
    "\n",
    "(g) $ 3FA_{16} $ (recall that in the hexadecimal system $ A,\\,B,\\,C,\\,D,\\,E,\\,F $ denote the numbers $ 10,\\,11,\\,12,\\,13,\\,14,\\,15 $, respectively)."
   ]
  },
  {
   "cell_type": "code",
   "execution_count": null,
   "id": "0b9269eb",
   "metadata": {},
   "outputs": [],
   "source": []
  },
  {
   "attachments": {},
   "cell_type": "markdown",
   "id": "dd0ed9af",
   "metadata": {},
   "source": [
    "### $ 4.2 $ Obtaining a fractional number from its representation in base $ b $\n",
    "Recall the statement of Subproblem 1.2.\n",
    "\n",
    "__Subproblem 1.2:__ Given a base $ b \\ge 2 $ and the representation\n",
    "$$\n",
    "t = (0.\\,d_{-1}\\, d_{-2} \\cdots\\, d_{-r})_{b}\n",
    "$$ of an unknown _fractional number_ $ 0 \\le t < 1 $ in this base,\n",
    "compute $ t $ (that is, find its representation in base $ 10 $).\n",
    "\n",
    "__Solution to Subproblem 1.2:__ By the very definition of the base-$ b $ system,\n",
    "we have\n",
    "$$\n",
    "t = d_{-1}b^{-1} + d_{-2}b^{-2} + \\dots + d_{-r}b^{-r}\\,.\n",
    "$$\n",
    "To determine $ t $ efficiently, observe that\n",
    "$$\n",
    "b^{r} t = d_{-1}b^{r - 1} + d_{-2}b^{r - 2} + \\dots + d_{-r + 1} b + d_{-r}.\n",
    "$$\n",
    "Therefore, we can apply the solution to Subproblem 1.1 to compute \n",
    "$$ n = (d_{-1}\\,d_{-2}\\dots d_{-r})_b = b^r t\\,, $$\n",
    "and then divide by $ b^r $ to find $ t $. This yields the following process.\n",
    "\n",
    "__Algorithm 1.2:__ Given the (finite) representation\n",
    "$ (\\,.d_{-1}\\,d_{-2}\\dots d_{-r}\\,)_b $ of a fractional number\n",
    "$ t $ in some base $ b $, do:\n",
    "* Following Algorithm 1.1, find the _integer_ whose representation in base $ b\n",
    "   $ is $ (d_{-1}\\,d_{-2}\\dots d_{-r})_b \\,$.\n",
    "* Divide this integer by $ b^r $ to obtain $ t $.\n",
    "\n",
    "Note in particular how the result is always a rational number whose denominator\n",
    "is a power of $ b $.\n",
    "\n",
    "\n",
    "__Example:__ Compute $ (.100101)_2 $ (i.e., find its representation in the\n",
    "decimal system). \n",
    "\n",
    "__Solution:__ This number has $ r = 6 $ significant digits after the point\n",
    "in base $ 2 $. Following Algorithm 1.2, we begin by computing the _integer_\n",
    "$ n $ whose binary representation is $ 100101_2 $:\n",
    "\\begin{aligned}\n",
    "n &\\leftarrow 1 \\\\\n",
    "n &\\leftarrow 2\\cdot 1 + 0 =  2 \\\\\n",
    "n &\\leftarrow 2\\cdot 2 + 0 =  4 \\\\\n",
    "n &\\leftarrow 2\\cdot 4 + 1 =  9 \\\\\n",
    "n &\\leftarrow 2\\cdot 9 + 0 =  18 \\\\\n",
    "n &\\leftarrow 2\\cdot 18 + 1 = 37 \\,.\n",
    "\\end{aligned}\n",
    "\n",
    "The decimal equivalent of $ (.100101)_2 $ is therefore\n",
    "$$ t = \\frac{n}{2^r} = \\frac{37}{2^6} = \\frac{37}{64} = 0.578125\\,.$$ \n",
    "\n",
    "__Implementation of algorithm 1.2:__"
   ]
  },
  {
   "cell_type": "code",
   "execution_count": 97,
   "id": "651e4e2a",
   "metadata": {},
   "outputs": [],
   "source": [
    "def repr_to_fractional(b: int, digits: list[int]) -> float:\n",
    "    \"\"\"\n",
    "    Take a list 'digits' of digits between 0 and b - 1, where the base b >= 2,\n",
    "    and return the fractional number whose repr. in base b is the given one.\n",
    "    \"\"\"\n",
    "    # Test that b is a positive integer >= 2:\n",
    "    if not(isinstance(b, int) and b >= 2):\n",
    "        raise ValueError(\"b must be an integer >= 2!\")\n",
    "    # Test that 'digits' is a list having the correct form:\n",
    "    if not isinstance(digits, list):\n",
    "        raise TypeError(\"The argument digits must be a list!\")\n",
    "    allowed = set(range(b))    # Allowed digits.\n",
    "    if not set(digits).issubset(allowed):\n",
    "        raise ValueError(f\"Invalid representation of a number in base {b}!\")\n",
    "    # Compute the fractional number:\n",
    "    r = len(digits)\n",
    "    n = repr_to_integer(b, digits)\n",
    "    return n * b**(-r)"
   ]
  },
  {
   "attachments": {},
   "cell_type": "markdown",
   "id": "6d81015b",
   "metadata": {},
   "source": [
    "__Exercise:__ Compute the following fractional numbers (i.e., find their\n",
    "equivalents in base $ 10 $). Check your answers using `repr_to_fractional`.\n",
    "\n",
    "(a) $ .10101 $.\n",
    "\n",
    "(b) $ -.01011_2 $.\n",
    "\n",
    "(c) $ -0.2022_3 $.\n",
    "\n",
    "(d) $ .2023_4 $.\n",
    "\n",
    "(e) $ 0.034_5 $.\n",
    "\n",
    "(f) $ -.7632_8 $.\n",
    "\n",
    "(g) $ 0.ABC_{16} $ (recall that in the hexadecimal system $ A,\\,B,\\,C,\\,D,\\,E,\\,F $ denote the numbers $ 10,\\,11,\\,12,\\,13,\\,14,\\,15 $, respectively)."
   ]
  },
  {
   "cell_type": "code",
   "execution_count": null,
   "id": "141a20d9",
   "metadata": {},
   "outputs": [],
   "source": []
  },
  {
   "attachments": {},
   "cell_type": "markdown",
   "id": "95797480",
   "metadata": {},
   "source": [
    "### $ 4.3 $ Obtaining a real number from its representation in base $ b $\n",
    "\n",
    "To solve [Problem 1](#Problem1) for a given representation, the idea is to\n",
    "consider separately the parts to the left and to the right of the point '.'\n",
    "in the representation. More precisely, consider the following process.\n",
    "\n",
    "__Algorithm 1:__ Given the (finite) representation\n",
    "$$ (\\,d_m\\,d_{m-1} \\dots d_1\\,d_0\\,.\\,d_{-1}\\,d_{-2}\\dots d_{-r}\\,)_b $$\n",
    "of a real number $ x $ in some base $ b \\ge 2 $, do:\n",
    "* Use Algorithm 1.1 to find the integer $ n $ represented by $ (\\,d_m\\,d_{m-1} \\dots d_1\\,d_0\\,)_b\\, $.\n",
    "* Use Algorithm 1.2 to find the fractional number $ t $ represented by $ (.\\,d_{-1}\\,d_{-2}\\dots d_{-r}\\,)_b\\, $.\n",
    "* Add $ n $ and $ t $ to obtain $ x $.\n",
    "\n",
    "__Implementation of Algorithm 1:__"
   ]
  },
  {
   "cell_type": "code",
   "execution_count": 103,
   "id": "4fbb0177",
   "metadata": {},
   "outputs": [],
   "source": [
    "def repr_to_real(b: int, int_digits: list[int], frac_digits: list[int]\n",
    "                 ) -> float:\n",
    "    \"\"\"\n",
    "    Given a base b >= 2 and two lists 'int_digits' and 'frac_digits' of digits\n",
    "    between 0 and b - 1, return the floating-point number whose representation\n",
    "    in base b is consists of <int_digits>.<frac_digits> .\n",
    "    \"\"\"\n",
    "    # Test that b is a positive integer >= 2:\n",
    "    if not(isinstance(b, int) and b >= 2):\n",
    "        raise ValueError(\"b must be an integer >= 2!\")\n",
    "    # Check that int_digits and frac_digits are lists having the correct form:\n",
    "    allowed = set(range(b))    # Allowed digits.\n",
    "    if not set(int_digits).issubset(allowed):\n",
    "        raise ValueError(f\"Invalid representation of the integer part of a\"\n",
    "                         f\"number in base {b}!\")\n",
    "    if not set(frac_digits).issubset(allowed):\n",
    "        raise ValueError(f\"Invalid representation of the fractional part of a\"\n",
    "                         f\"number in base {b}!\")\n",
    "    # Compute the integer and fractional parts of the number:\n",
    "    integer_part = repr_to_integer(b, int_digits)\n",
    "    fractional_part = repr_to_fractional(b, frac_digits)\n",
    "    return integer_part + fractional_part\n"
   ]
  },
  {
   "cell_type": "code",
   "execution_count": 102,
   "id": "d4b931c1",
   "metadata": {},
   "outputs": [
    {
     "data": {
      "text/plain": [
       "123.456"
      ]
     },
     "execution_count": 102,
     "metadata": {},
     "output_type": "execute_result"
    }
   ],
   "source": [
    "repr_to_real(10, [1, 2, 3], [4, 5, 6])"
   ]
  },
  {
   "attachments": {},
   "cell_type": "markdown",
   "id": "c194386e",
   "metadata": {},
   "source": [
    "## $ \\S 5 $ Computing the representation of a number in base $ b $\n",
    "\n",
    "We will now consider the converse to [Problem 1](#Problem1), namely, how to compute the representation of a number in base $ b $ given the number $ x $ itself.\n",
    "\n",
    "<a name=\"Problem2\"></a>**Problem 2 (number to representation):** Given a base $ b \\ge 2 $ and a real number $ x $, find its representation in base $ b $.\n",
    "\n",
    "**Subproblem 2.1:** Given a base $ b $ and an *integer* $ n $, find its representation in base $ b $.\n",
    "\n",
    "**Subproblem 2.2:** Given a base $ b $ and a *fractional number* $ t $, $ 0 \\le t < 1 $, find its representation in base $ b $.\n",
    "\n",
    "As before, if we can solve these two subproblems, then we can obtain a solution to Problem 2 by combining their solutions. More precisely, the idea is to separately compute the representations of the integral and fractional parts $ n $ and $ t $ of $ x $, and finally to concatenate them, with a point '.' in between, to obtain the representation of $ x $.\n"
   ]
  },
  {
   "attachments": {},
   "cell_type": "markdown",
   "id": "5f22d6ba",
   "metadata": {},
   "source": [
    "### $ 5.1 $ Obtaining the representation in base $ b $ of an integer\n",
    "\n",
    "__Solution to Subproblem 2.1:__ Let\n",
    "$$ n = (d_m\\,d_{m-1}\\dots d_1d_0)_b  $$\n",
    "be the representation of $ n $ in base $ b $, that is, \n",
    "$$ n = d_m\\, b^m + d_{m-1}\\, b^{m-1} + \\dots + d_1 \\, b^1 + d_0\\, b^0 .$$\n",
    "\n",
    "__Algorithm 2.1:__ We need to compute the digits $ d_k $. This can be done as\n",
    "follows:\n",
    "\n",
    "1. Divide $ n $ by $ b $ (using integer division $ \\div $) to get a quotient $ q $ and a\n",
    "   remainder $ r $ such that $ n = bq + r $. Write down $ r $.\n",
    "2. If $ q = 0 $, stop. Otherwise replace $ n $ by $ q $ and repeat step 1.\n",
    "3. When read in reverse order (i.e., from last to first), the remainders\n",
    "   $ r $ thus obtained yield the base $ b $ representation of $ n $.\n",
    "\n",
    "Note that this works because, in the first step, the remainder $ r $ is $ d_0 $\n",
    "while the quotient is\n",
    "   $$\n",
    "      q = d_m\\, b^{m - 1} + d_{m-1}\\, b^{m-2} + \\dots + d_2 \\, b^1 + d_1\\,.\n",
    "   $$\n",
    "Similarly, division of the latter by $ b $ yields $ d_1 $ as the remainder and\n",
    "$$ d_m\\, b^{m - 2} + d_{m - 1}\\, b^{m - 3} + \\dots + d_3\\,b^1 + d_2 $$\n",
    "as the quotient, and so on for all subsequent steps.\n",
    "\n",
    "__Example:__ Convert $ 268 $ from base $ 10 $ to base $ 3 $.\n",
    "\n",
    "\\begin{align*}\n",
    "  268 \\div 3 &= 89 \\text{ with remainder } 1 & \\quad & \\text{(rightmost digit $ d_0 $)}\\\\\n",
    "  89 \\div 3 &= 29 \\text{ with remainder } 2 & \\quad & \\text{($ d_1 $)}\\\\\n",
    "  29 \\div 3 &= 9 \\text{ with remainder } 2 & \\quad & \\text{($ d_2 $)}\\\\\n",
    "  9 \\div 3 &= 3 \\text{ with remainder } 0 & \\quad & \\text{($ d_3 $)}\\\\\n",
    "  3 \\div 3 &= 1 \\text{ with remainder } 0 & \\quad & \\text{($ d_4 $)}\\\\\n",
    "  1 \\div 3 &= 0 \\text{ with remainder } 1 & \\quad & \\text{(leftmost digit $ d_5 $)} \\\\\n",
    "\\end{align*}\n",
    "\n",
    "Therefore, the base-3 representation of $268_{10}$ is $100221_3$."
   ]
  },
  {
   "attachments": {},
   "cell_type": "markdown",
   "id": "1a74f7c1",
   "metadata": {},
   "source": [
    "This algorithm is implemented as the following function:"
   ]
  },
  {
   "cell_type": "code",
   "execution_count": 105,
   "id": "ad881ecf",
   "metadata": {},
   "outputs": [],
   "source": [
    "def integer_to_repr(b: int, n: int) -> str:\n",
    "    \"\"\"\n",
    "    Given a base b and a nonnegative integer n, returns the\n",
    "    representation of n in base b as a string of digits from 0 to (b - 1).\n",
    "    \"\"\"\n",
    "    if not isinstance(b, int) or b < 2:\n",
    "        raise ValueError(\"The base b must be an integer >= 2!\")\n",
    "    if not isinstance(n, int) or n < 0:\n",
    "        raise ValueError(\"The integer n must be an integer >= 0!\")\n",
    "    \n",
    "    list_of_digits = []                   # Will store the list of digits of n.\n",
    "    while n > 0: \n",
    "        r = n % b\n",
    "        n //= b\n",
    "        list_of_digits.append(str(r))     # Convert d to a string and append it.\n",
    "    # Now reverse the list of digits and convert it into a string by joining its\n",
    "    # elements to the empty string:\n",
    "    list_of_digits = list_of_digits[::-1]\n",
    "    return ''.join(list_of_digits)"
   ]
  },
  {
   "attachments": {},
   "cell_type": "markdown",
   "id": "c7467fb6",
   "metadata": {},
   "source": [
    "__Exercise:__ Find the representation of the following numbers in the bases indicated.\n",
    "Afterwards use `integer_to_repr` to check your answers.\n",
    "\n",
    "(a) $ 59 $ in base $ 2 $.\n",
    "\n",
    "(b) $ 1234 $ in base $ 3 $.\n",
    "\n",
    "(c) $ -1597 $ in base $ 7 $.\n",
    "\n",
    "(d) $ -6789 $ in base $ 8 $.\n",
    "\n",
    "(e) $ 2023 $ in base $ 16 $.\n",
    "\n",
    "(f) $ -237 $ in base $ 2 $."
   ]
  },
  {
   "cell_type": "code",
   "execution_count": null,
   "id": "7cb3fc18",
   "metadata": {},
   "outputs": [],
   "source": []
  },
  {
   "attachments": {},
   "cell_type": "markdown",
   "id": "35c56410",
   "metadata": {},
   "source": [
    "### $ 5.2 $ Obtaining the representation in base $ b $ of a fractional number\n",
    "\n",
    "__Solution to Subproblem 2.2:__ Let $ 0 \\le t < 1 $ be a fractional number and \n",
    "let \n",
    "$$ t = (.d_{-1}\\,d_{-2}\\dots d_{-r}\\dots)_b $$\n",
    "be its (unknown) representation in base $b$, that is,\n",
    "\\begin{equation*}\n",
    "t = d_{-1}b^{-1} + d_{-2}b^{-2} + \\dots + d_{-r}b^{-r} + \\dots .\n",
    "\\end{equation*}\n",
    "\n",
    "__Algorithm 2.2:__ To convert the fractional number $ t $ between to base $ b\\geq 2 $, the process\n",
    "is as follows:\n",
    "\n",
    "1. Take the product of $ t $ by $ b $ and decompose it into its integral part\n",
    "   $ d $ and fractional part $ s $. Write down the integral part $ d $.\n",
    "2. If $ s = 0 $, stop. Otherwise let $ t \\leftarrow s $ and repeat step 1.\n",
    "3. The successive integral parts $ d $ thus obtained are the digits\n",
    "   of $ t $ in base $ b $ (read from left to right, beginning immediately after the point).\n",
    "\n",
    "\n",
    "\n",
    "Note that this works because, in the first step, the integral part of $ bt $\n",
    "is $ d_{-1} $, while the fractional part becomes\n",
    "$$\n",
    "   d_{-2}b^{-1} + d_{-3}b^{-2} + \\dots + d_{-r}b^{-r + 1} + \\dots .\n",
    "$$\n",
    "Similarly, multiplication of the latter by $ b $ yields $ d_{-2} $ as the integer\n",
    "part and \n",
    "$$\n",
    "   d_{-3}b^{-1} + d_{-4}b^{-2} + \\dots + d_{-r}b^{-r + 2} + \\dots .\n",
    "$$\n",
    "as the fractional part, and so on for all subsequent steps.  Continuing in the\n",
    "same fashion, we can compute $ d_{-1}, \\dots, d_{-r} $ after $ r $ steps.\n",
    "\n",
    "__Example:__ Suppose that we wish to convert the fractional number\n",
    "$ 0.4375_{10} $ to base $ 2 $. We can use the above process as follows. \n",
    "\\begin{alignat*}{9}\n",
    "    0.4375 \\times 2 &= 0.875 & &= 0 + 0.875 & \\quad & \\text{(integral part $ 0 $)}\\\\\n",
    "    0.875 \\times 2 &= 1.75 & &= 1 + 0.75 &  \\quad &  \\text{(integral part $ 1 $)}\\\\\n",
    "    0.75 \\times 2 &= 1.5 & &= 1 + 0.5 &  \\quad &  \\text{(integral part $ 1 $)}\\\\\n",
    "    0.5 \\times 2 &= 1.0 & &= 1 + 0.0 &  \\quad &  \\text{(integral part $ 1 $)}\\\\\n",
    "    0.0 & \\phantom{=} & &\\phantom{=}& \\quad & \\text{(stop)}\n",
    "\\end{alignat*}\n",
    "\n",
    "Therefore, the base $2$ representation of $ 0.4375_{10} $ is $ 0.0111_2 $.\n",
    "\n",
    "📝 Since our computer and minds have limited memory, we can only effectively\n",
    "compute finitely many digits of the representation. The preceding algorithm will\n",
    "not terminate unless $ t $ can be written as a rational number whose denominator\n",
    "is a power of $ b $. For other rational numbers some fractional part will\n",
    "eventually appear twice in the computation, leading to a periodic subsequence in\n",
    "the representation.\n",
    "\n",
    "This algorithm is implemented as the function below. Here $ r $ is\n",
    "the number of digits to be computed."
   ]
  },
  {
   "cell_type": "code",
   "execution_count": 106,
   "id": "68be349b",
   "metadata": {},
   "outputs": [],
   "source": [
    "def fractional_to_repr(b: int, t: float, r: int) -> str:\n",
    "    \"\"\"\n",
    "    Given a base b, a fractional number t and a positive integer r,\n",
    "    returns the first r digits of the representation of t in base b\n",
    "    as a string of digits between 0 and (b - 1).\n",
    "    \"\"\"\n",
    "    if not isinstance(b, int) or b < 2:\n",
    "        raise ValueError(\"The base b must be an integer >= 2!\")\n",
    "    if not isinstance(t, float) or t < 0 or t > 1:\n",
    "        raise ValueError(\"t must be of type float and between 0 and 1!\")\n",
    "    if not isinstance(r, int) or r < 1:\n",
    "        raise ValueError(\"The integer r must be an integer >= 1!\")\n",
    "    \n",
    "    digits = []\n",
    "    while r > 0:\n",
    "        t *= b\n",
    "        d = int(t)\n",
    "        t -= d\n",
    "        digits.append(str(d))\n",
    "        r -= 1\n",
    "\n",
    "    return '.' + ''.join(digits)"
   ]
  },
  {
   "attachments": {},
   "cell_type": "markdown",
   "id": "a870d4f7",
   "metadata": {},
   "source": [
    "__Exercise:__ Find the representation of the following fractional numbers in the\n",
    "given bases. Then use `fractional_to_repr` to check your answers.\n",
    "\n",
    "(a) $ 0.21875 $ in base $ 2 $.\n",
    "\n",
    "(b) $ -0.453125 $ in base $ 2 $.\n",
    "\n",
    "(c) $ \\frac{1}{5} $ in base $ 2 $.\n",
    "\n",
    "(d) $  0.1968 $ in base $ 5 $.\n",
    "\n",
    "(e) $ -\\frac{3}{10} $ in base $ 8 $.\n",
    "\n",
    "(f) $\\frac{2748}{65535} = \\frac{2748}{16^4} $ in base $ 16 $."
   ]
  },
  {
   "cell_type": "code",
   "execution_count": null,
   "id": "a50b5f22",
   "metadata": {},
   "outputs": [],
   "source": []
  },
  {
   "attachments": {},
   "cell_type": "markdown",
   "id": "027195fb",
   "metadata": {},
   "source": [
    "### $ 5.3 $ Obtaining the representation in base $ b $ of a real number\n",
    "\n",
    "To solve Problem 2, we may use the following process.\n",
    "\n",
    "__Algorithm 2:__ We may assume that $ x \\ge 0 $. Otherwise we just work with\n",
    "$ \\vert x \\vert $ and after we are done we prepend a minus sign to the\n",
    "resulting representation.\n",
    "\n",
    "1. Split $ x $ into its integral part $ n $ and fractional part $ t $.\n",
    "2. Use Algorithm 2.1 to find the representation $ (d_m \\cdots d_1\\,d_0)_b $ of $ n $.\n",
    "3. Use Algorithm 2.2 to find the representation $ (.\\,d_{-1}\\,d_{-2}\\,\\cdots )_b $ of $ t $.\n",
    "4. Then $ x = (d_m \\cdots d_1\\,d_0\\,.\\,d_{-1}\\,d_{-2}\\,\\cdots )_b $.\n"
   ]
  },
  {
   "attachments": {},
   "cell_type": "markdown",
   "id": "fbdad838",
   "metadata": {},
   "source": [
    "__Exercise:__ Find the representation of the following numbers in the given\n",
    "bases.\n",
    "\n",
    "(a) $ 13.375 $ in base $ 2 $.\n",
    "\n",
    "(b) $ -5.78125 $ in base $ 2 $.\n",
    "\n",
    "(c) $ \\frac{152}{3} $ in base $ 4 $.\n",
    "\n",
    "(d) $ 11.42 $ in base $ 5 $.\n",
    "\n",
    "(e) $ -\\frac{25}{12} $ in base $ 8 $.\n",
    "\n",
    "(f) $\\frac{3597}{10} = \\frac{3597}{10} $ in base $ 16 $."
   ]
  },
  {
   "cell_type": "code",
   "execution_count": null,
   "id": "1f1d5056",
   "metadata": {},
   "outputs": [],
   "source": []
  },
  {
   "attachments": {},
   "cell_type": "markdown",
   "id": "54b89e8a",
   "metadata": {},
   "source": [
    "## $ \\S 6 $ Python built-in functions for conversion between bases\n",
    "\n",
    "Python provides the built-in functions\n",
    "\n",
    "* `bin`\n",
    "* `oct`\n",
    "* `hex`\n",
    "\n",
    "which take a single _integer_ as argument and return its binary, octal or hexadecimal representation, respectively, in the form of strings.\n",
    "\n",
    "__Example:__ "
   ]
  },
  {
   "cell_type": "code",
   "execution_count": 34,
   "id": "dbd808db",
   "metadata": {},
   "outputs": [
    {
     "name": "stdout",
     "output_type": "stream",
     "text": [
      "0b1100 0o14 0xc\n",
      "0b10101010101011 0o25253 0x2aab\n",
      "-0b1111 -0o17 -0xf\n"
     ]
    }
   ],
   "source": [
    "x = 12\n",
    "y = 10923\n",
    "z = -15\n",
    "\n",
    "print(bin(x), oct(x), hex(x))\n",
    "print(bin(y), oct(y), hex(y))\n",
    "print(bin(z), oct(z), hex(z))"
   ]
  },
  {
   "attachments": {},
   "cell_type": "markdown",
   "id": "0e4c0036",
   "metadata": {},
   "source": [
    "📝 Note how each string is prepended by `0b`, `0o` or `0x`, respectively, to\n",
    "indicate the type of the representation. They can be removed with a slice\n",
    "operation if necessary (such as in `bin(x)[2:]`). Observe also that the\n",
    "hexadecimal digits $ A, \\dots, F $ appear in lowercase."
   ]
  }
 ],
 "metadata": {
  "kernelspec": {
   "display_name": "Python 3",
   "language": "python",
   "name": "python3"
  },
  "language_info": {
   "codemirror_mode": {
    "name": "ipython",
    "version": 3
   },
   "file_extension": ".py",
   "mimetype": "text/x-python",
   "name": "python",
   "nbconvert_exporter": "python",
   "pygments_lexer": "ipython3",
   "version": "3.10.10"
  },
  "vscode": {
   "interpreter": {
    "hash": "e7370f93d1d0cde622a1f8e1c04877d8463912d04d973331ad4851f04de6915a"
   }
  }
 },
 "nbformat": 4,
 "nbformat_minor": 5
}
