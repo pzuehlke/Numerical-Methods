{
 "cells": [
  {
   "cell_type": "markdown",
   "id": "df16444c",
   "metadata": {},
   "source": [
    "# Converting from decimal to binary and back\n",
    "\n",
    "## 0 Representations of a number in different bases\n",
    "\n",
    "It is important to differentiate a real number $ x $ from the its representation in some system (binary, decimal, octal, hexadecimal, etc.). Any *integer* $ b \\ge 2 $ can serve as the **base** of such a system. Once such a choice is made, $ x $ can be expressed in the form\n",
    "\n",
    "$$ x = (a_m\\, a_{m - 1}\\dots a_1\\, a_0\\,.\\,a_{-1}\\, a_{-2} \\dots)_{b}\\ , $$\n",
    "\n",
    "for some integers $ a_k $ satisfying $ 0 \\le a_k \\le b - 1 $, which are called the **digits** of $ x $ in base $ b $. This notation means that\n",
    "\n",
    "$$ x = a_mb^m + a_{m - 1}b^{m - 1} + \\dots + a_1 b + a_0 \n",
    "   + a_{-1}b^{-1} + a_{-2}b^{-2} + \\dots. $$\n",
    "   \n",
    "The number of digits to the *left* of the point is always *finite*, because any real number is bounded. In contrast, the number of digits to the *right* of the point can be *infinite*, since not every number is rational."
   ]
  },
  {
   "cell_type": "markdown",
   "id": "0aa2fed0",
   "metadata": {},
   "source": [
    "**Exercise:** Let $ b \\ge 2 $ be an integer. Prove that the representation of a real number $ x $ is finite in base $ b $ if and only if $ x $ can be expressed as a fraction in which the numerator is an integer and the denominator is of the form $ b^r $ for some integer $ r \\ge 0 $. "
   ]
  },
  {
   "cell_type": "markdown",
   "id": "f038e7bf",
   "metadata": {},
   "source": [
    "⚠️ Because we use the decimal system almost exclusively to represent numbers in daily life, we write, say, $ x = 592 $ instead of $ x = (592)_{10} $. However, it is important to keep in mind that '$ 592 $' is not the number $ x $ itself, but rather its *representation* in base $ 10 $. The same number could also be written as $ x = (1001010000)_2 $, and were $ b = 2 $ the most commonly used base, we would instead abuse our notation to write $ x = 1001010000 $.\n",
    "\n",
    "📝 The same real number $ x $ has infinitely many representations, one for each possible base $ b \\ge 2 $."
   ]
  },
  {
   "cell_type": "markdown",
   "id": "14578fbe",
   "metadata": {},
   "source": [
    "**Exercise:** Determine the number $ (1001101)_2 $.\n",
    "\n",
    "**Exercise:** Determine the number $ (210210)_3 $."
   ]
  },
  {
   "cell_type": "markdown",
   "id": "3d7f356d",
   "metadata": {},
   "source": [
    "Most computing uses the **binary** form of representing numbers, in which the base $ b $ equals $ 2 $ and there are only two possible digits: $ 0 $ and $ 1 $. Such a digit is usually referred to as a **bit** (short for *binary digit*). There are several reasons why the binary system is prevalent. One is that it is the simplest one; another is the close relationship between Boolean logic and the arithmetic of integers modulo 2, given by the correspondence below:\n",
    "\n",
    "| Boolean expression/operation | Binary equivalent |\n",
    "| :----------------- | :----------------- |\n",
    "| False              | 0                 |\n",
    "| True               | 1                 |\n",
    "| and                | $ \\times $ (multiplication) |\n",
    "| or                 | $ + $ (addition)  |\n",
    "| not                | $ x \\mapsto 1 + x $ |\n",
    "\n",
    "Note that all three operations on the right side are *modulo 2*; for instance, $ 1 + 1 \\pmod 2 = 0 \\pmod 2 $."
   ]
  },
  {
   "cell_type": "markdown",
   "id": "5acd6393",
   "metadata": {},
   "source": [
    "Our main objective is to understand how to efficiently convert from the binary system to the more familiar decimal system and back.\n",
    "\n",
    "For example, \n",
    "\n",
    "\\begin{align} (1001.101)_2 &= 1 \\times 2^3 + 0 \\times 2^2 + 0 \\times 2^1 + 1 \\times 2^0 + 1 \\times 2^{-1} + 0 \\times 2^{-2} + 1 \\times 2^{-3}  \\\\\n",
    "& = 8 + 1 + \\frac{1}{2} + \\frac{1}{8} \\\\ &= \\frac{77}{8}.\n",
    "\\end{align}\n",
    "\n",
    "However, since there is no additional difficulty, and much to be gained, in working with an arbitrary base $ b \\ge 2 $, we will formulate our results and scripts to cover any base."
   ]
  },
  {
   "cell_type": "markdown",
   "id": "cb195648",
   "metadata": {},
   "source": [
    "\n",
    "📝 Besides the binary and decimal systems, the following two systems are also relatively important in applications:\n",
    "* The *octal* system, where $ b = 8 $ and the possible digits are $ 0,1,\\dots,7 $;\n",
    "* The *hexadecimal* system, where $ b = 16 $ and the possible digits are $ 0, 1, \\dots, 9 $ and $ A, B, \\dots, F $, which stand for $ 10, 11, \\dots, 15 $ in the decimal system, respectively.\n",
    "\n",
    "**Exercise:** Determine the number $ (ABC)_{16} $.\n",
    "\n",
    "**Exercise:** Show that if an integer $ n $ has a binary representation of length $ m $, then its representation in the octal system is of length at most $ \\lceil\\frac{n}{3}\\rceil $."
   ]
  },
  {
   "cell_type": "markdown",
   "id": "d2a21591",
   "metadata": {},
   "source": [
    "## 1 Computing a number from its representation in base $ b $<a name=\"section2\"></a>\n",
    "\n",
    "In this section we will consider the following:\n",
    "\n",
    "<a name=\"Problem1\"></a>**Problem 1 (representation to number):** Given a base $ b $ and the representation of an unknown real number $ x $ in this base, determine $ x $.\n",
    "\n",
    "📝 Even though the problem has been formulated in full generality, in practice we can only determine $ x $ precisely when the given representation is *finite*. Otherwise, we need to content ourselves with an approximation to $ x $.\n",
    "\n",
    "<div class=\"alert alert-warning\"> The following observation will be very useful: Any real number $ x $ can be written as the sum of a unique <i>integer</i> $ n $ and a unique <i>fractional number</i> $ t $ such that $ 0 \\le t < 1 $. In Python, they are given by:\n",
    "<ul>\n",
    "    <li> $ t = $ <code>x % 1</code>;</li>\n",
    "    <li> $ n = $ <code>int(x)</code>.</li>\n",
    "    </ul>\n",
    "\n",
    "We will call $ n $ the <b>integral part</b> of $ x $ and $ t $ its <b>fractional part</b>\n",
    "</div>\n",
    "\n",
    "📝 The function `modf` from the **math** module returns the tuple $ (t, n) $ when applied to $ x $.\n",
    "\n",
    "By means of the aforementioned decomposition, we can reduce Problem 1 to two easier problems:\n",
    "\n",
    "**Subproblem 1.1:** Given a base $ b $ and the representation of an unknown *integer* $ n $ in this base, determine $ n $.\n",
    "\n",
    "**Subproblem 1.2:** Given a base $ b $ and the representation of an unknown *fractional number* $ 0 \\le t < 1 $ in this base, determine $ t $.\n",
    "\n",
    "**Example:**"
   ]
  },
  {
   "cell_type": "code",
   "execution_count": 24,
   "id": "89558e73",
   "metadata": {},
   "outputs": [
    {
     "name": "stdout",
     "output_type": "stream",
     "text": [
      "The decomposition of 3.14159 into its integer and fractional part is:\n",
      "3.14159 = 3 + 0.14158999999999988\n",
      "\n",
      "The decomposition of -1.4 into its integer and fractional part is:\n",
      "-1.4 = -1 + 0.6000000000000001\n",
      "\n",
      "The decomposition of -34.9 into its integer and fractional part is:\n",
      "-34.9 = -34 + 0.10000000000000142\n",
      "\n"
     ]
    }
   ],
   "source": [
    "def decompose(x: float) -> tuple:\n",
    "    print(f\"The decomposition of {x} into its integral and fractional part is:\")\n",
    "    print(f\"{x} = {int(x)} + {x % 1}\\n\")\n",
    "\n",
    "\n",
    "x = 3.14159\n",
    "y = -1.4\n",
    "z = -34.9\n",
    "\n",
    "decompose(x)\n",
    "decompose(y)\n",
    "decompose(z)"
   ]
  },
  {
   "cell_type": "code",
   "execution_count": 27,
   "id": "a165e3f2",
   "metadata": {},
   "outputs": [
    {
     "name": "stdout",
     "output_type": "stream",
     "text": [
      "11\n",
      "31\n",
      "1011\n"
     ]
    }
   ],
   "source": [
    "def rep_to_number(b: int, digits: str) -> int:   # The type annotations are optional!\n",
    "    \"\"\"A function which takes a string of digits between 0 and b - 1,\n",
    "    where the base b >= 1 is an integer, and returns the integer\n",
    "    whose representation in base b is the given one.\"\"\"\n",
    "    \n",
    "    assert isinstance(b, int) and b >= 2         # Make sure b is an integer >= 2.\n",
    "    \n",
    "    allowed = [str(d) for d in range(0, b)]      # Allowed digits.\n",
    "    for digit in digits:                         # Check if the representation is valid.\n",
    "        if digit not in allowed:\n",
    "            raise ValueError(f\"Invalid representation of a number in base {b}.\")\n",
    "       \n",
    "    highest_exponent = len(digits) - 1\n",
    "    n = 0\n",
    "    exponent = highest_exponent\n",
    "    for digit in digits:\n",
    "        n += int(digit) * b**exponent\n",
    "        exponent -= 1\n",
    "    \n",
    "    return n\n",
    "\n",
    "\n",
    "print(rep_to_number(2, \"1011\"))\n",
    "print(rep_to_number(3, \"1011\"))\n",
    "print(rep_to_number(10, \"1011\"))"
   ]
  },
  {
   "cell_type": "markdown",
   "id": "dd0ed9af",
   "metadata": {},
   "source": [
    "### 2.2 Obtaining a fractional number from its representation in base $ b $\n",
    "**Problem:** Define a function which takes a base $ b $ and the (finite) *representation* of a number $ t $ ($ 0 \\le t < 1 $) in this base, given as a string of digits between $ 0 $ and $ b - 1 $, and returns $ t $ as output."
   ]
  },
  {
   "cell_type": "markdown",
   "id": "8c4f9035",
   "metadata": {},
   "source": [
    "*Solution:* We can easily solve this by making use of the function defined in the preceding section as follows. Since $ 0 \\le t < 1 $ by hypothesis, its representation in base $ b $ must be of the form\n",
    "$$ t = (.a_{-1}\\,a_{-2}\\dots a_{-m})_b $$\n",
    "for some $ m \\ge 1 $. Equivalently,\n",
    "$$ t = a_{-1}b^{-1} + a_{-2}b^{-2} + \\dots + a_{-m}b^{-m} .$$\n",
    "Multiplying both sides by $ b^ m $:\n",
    "$$ b^m t = a_{-1}b^{m - 1} + a_{-2}b^{m - 2} + \\dots + a_{-m} b^0 .$$\n",
    "In other words, the *integer* $b^m t $ has the representation\n",
    "$$ b^m t = (a_{-1}\\,a_{-2}\\dots a_{-m})_b .$$\n",
    "(Note the absence of the point in the latter representation.) Therefore, we can obtain the value of $ t $ by first computing the *integer* $ b^m t $ using the preceding representation and then multiplying the result by $ b^{-m} $."
   ]
  },
  {
   "cell_type": "code",
   "execution_count": 2,
   "id": "651e4e2a",
   "metadata": {},
   "outputs": [
    {
     "name": "stdout",
     "output_type": "stream",
     "text": [
      "0.75\n",
      "0.4444444444444444\n",
      "0.11\n"
     ]
    }
   ],
   "source": [
    "def rep_to_fractional(b: int, digits: str) -> int:   # The type annotations are optional!\n",
    "    \"\"\"A function which takes a string of digits between 0 and b - 1,\n",
    "    where the base b >= 1 is an integer, and returns the fractional number\n",
    "    whose representation in base b is the given one.\"\"\"\n",
    "    m = len(digits)\n",
    "    n = rep_to_number(b, digits)\n",
    "    return n * b**(-m)\n",
    "\n",
    "\n",
    "print(rep_to_fractional(2, \"11\"))\n",
    "print(rep_to_fractional(3, \"11\"))\n",
    "print(rep_to_fractional(10, \"11\"))"
   ]
  },
  {
   "cell_type": "markdown",
   "id": "95797480",
   "metadata": {},
   "source": [
    "### 2.3 Obtaining a real number from its representation in base $ b $\n",
    "\n",
    "**Exercise:** Define a function which takes three arguments:\n",
    "* The base $ b $;\n",
    "* The representation of the integral part $ n \\ge 1 $ of a real number $ x $ in base $ b $;\n",
    "* The representation of the fractional part $ 0 \\le t < 1 $ of a real number $ x $ in base $ b $;\n",
    "\n",
    "and which returns $ x $ as output. (*Hint:* Use the functions that were defined above.)\n",
    "\n",
    "**Exercise:** How should each of the functions above be modified to include the possibility that $ x \\le 0 $?"
   ]
  },
  {
   "cell_type": "markdown",
   "id": "c194386e",
   "metadata": {},
   "source": [
    "## 2 Computing the representation of a number in base $ b $\n",
    "\n",
    "We will now consider the converse to [Problem 1](#Problem1), namely, how to compute the representation of a number in base $ b $ given the number $ x $ itself.\n",
    "\n",
    "<a name=\"Problem2\"></a>**Problem 2 (number to representation):** Given a base $ b $ and a real number $ x $, find its representation in base $ b $.\n",
    "\n",
    "**Subproblem 2.1:** Given a base $ b $ and an *integer* $ n $, find its representation in base $ b $.\n",
    "\n",
    "**Subproblem 2.2:** Given a base $ b $ and a *fractional number* $ t $, $ 0 \\le t < 1 $, find its representation in base $ b $.\n",
    "\n",
    "As before, if we can solve these two subproblems, then we can obtain a solution to Problem 2 by combinining their answers.\n"
   ]
  },
  {
   "cell_type": "markdown",
   "id": "5f22d6ba",
   "metadata": {},
   "source": [
    "### 2.1 Obtaining the representation in base $ b $ of an integer\n",
    "\n",
    "**Solution to Subproblem 2.1:** We may assume without loss of generality that $ n \\ge 0 $, since the representation of $ -n $ is identical to that of $ n $ except for the $ - $ sign at the beginning. We are given the representation\n",
    "$$ n = (a_m\\,a_{m-1}\\dots a_1a_0)_b\\ ,$$\n",
    "that is, \n",
    "$$ n = a_m\\, b^m + a_{m-1}\\, b^{m-1} + \\dots + a_1 \\, b^1 + a_0\\, b^0 .$$\n",
    "Now, upon (integer) division of $ n $ by $ b $, we obtain:\n",
    "* $ a_0 $ as the remainder;\n",
    "* $ a_m\\, b^{m - 1} + a_{m - 1}\\, b^{m - 2} + \\dots + a_2\\,b^1 + a_1 \\, b^0 $ as the quotient.\n",
    "\n",
    "Similarly, division of the latter by $ b $ yields:\n",
    "* $ a_1 $ as the remainder;\n",
    "* $ a_m\\, b^{m - 2} + a_{m - 1}\\, b^{m - 3} + \\dots + a_3\\,b^1 + a_2 \\, b^0 $ as the quotient.\n",
    "\n",
    "Clearly (or, more formally, by induction), continuing in this way *we can obtain the digits $ a_0,\\, a_1, \\dots, a_m $ as the successive remainders of division of $ n $ by $ b $*, which solves the problem. $ \\square $\n",
    "\n",
    "This solution is implemented in the following script:"
   ]
  },
  {
   "cell_type": "code",
   "execution_count": 31,
   "id": "ad881ecf",
   "metadata": {},
   "outputs": [
    {
     "name": "stdout",
     "output_type": "stream",
     "text": [
      "111111\n",
      "1000000\n"
     ]
    }
   ],
   "source": [
    "def integer_to_rep(b: int, n: int) -> str:\n",
    "    \"\"\"Given a base b and a nonnegative integer n, returns the\n",
    "    representation of n in base b as a string of digits from 0 to (b - 1).\"\"\"\n",
    "    assert isinstance(b, int) and b >= 2\n",
    "    assert isinstance(n, int) and n >= 0\n",
    "    \n",
    "    list_of_digits = []                   # Will store the list of digits of n.\n",
    "    while n > 0: \n",
    "        d = n % b\n",
    "        n //= b\n",
    "        list_of_digits.append(str(d))     # Convert d to a string and append it.\n",
    "\n",
    "    # Now reverse the list of digits and convert it\n",
    "    # into a string by joining its elements to the empty string:\n",
    "    list_of_digits.reverse()\n",
    "    representation = ''.join(list_of_digits)\n",
    "    return representation\n",
    "\n",
    "\n",
    "print(integer_to_rep(2, 63))\n",
    "print(integer_to_rep(2, 64))"
   ]
  },
  {
   "cell_type": "markdown",
   "id": "35c56410",
   "metadata": {},
   "source": [
    "### 3.1 Obtaining a the representation in base $ b $ of a fractional number\n",
    "\n",
    "**Solution to Subproblem 2.2:** Let \n",
    "$$ t = (.a_{-1}\\,a_{-2}\\dots a_{-r}\\dots)_b $$\n",
    "be this representation, that is,\n",
    "$$ t = a_{-1}b^{-1} + a_{-2}b^{-2} + \\dots + a_{-r}b^{-r} + \\dots .$$\n",
    "Multiplying both sides by $ b $, we deduce that\n",
    "$$ bt = a_{-1} + \\big( a_{-2}b^{-1} + \\dots + a_{-r}b^{-r + 1} + \\dots \\big) .$$\n",
    "\n",
    "Since our computer (and minds) has limited memory, we can only compute finitely many of the digits $ a_k $. To determine, say, the digits $ a_{-1} $ through $ a_{-r} $, begin by multiplying both sides of the latter equation by $ b^m $ to obtain:\n",
    "$$ b^rt = a_{-1}\\ b^{r - 1} + a_{-2}\\ b^{r - 2} + \\dots + a_{-r + 1}\\ b^{1} + a_{-r} +\n",
    "\\big(a_{-r - 1}\\  b^{-1} + a_{-r - 2}\\ b^{-2} + \\dots \\big) .$$\n",
    "Note that the term in parentheses is the fractional part of $ b^rt $. Applying our solution to Subproblem 2.1 to the integral part of $ b^mt $ gives the digits $ a_{-1} $ through $ a_{-r} $. $ \\square $\n",
    "\n",
    "This solution is implemented in the script below."
   ]
  },
  {
   "cell_type": "code",
   "execution_count": 40,
   "id": "68be349b",
   "metadata": {},
   "outputs": [
    {
     "name": "stdout",
     "output_type": "stream",
     "text": [
      ".10000000\n",
      ".3333333333\n"
     ]
    }
   ],
   "source": [
    "def fractional_to_rep(b: int, t: float, r: int) -> str:\n",
    "    \"\"\"Given a base b, a fractional number t and a positive integer r,\n",
    "    returns the first r digits of the representation of t in base b\n",
    "    as a string of digits from 0 to (b - 1).\"\"\"\n",
    "    assert isinstance(b, int) and b >= 2\n",
    "    assert isinstance(t, float)\n",
    "    assert isinstance(r, int) and r >= 1\n",
    "    \n",
    "    n = int(b**r * t)\n",
    "    representation = '.' + integer_to_rep(b, n)\n",
    "    return representation\n",
    "\n",
    "\n",
    "print(fractional_to_rep(2, 1 / 8, 10))\n",
    "print(fractional_to_rep(10, 1 / 3, 10))\n"
   ]
  },
  {
   "cell_type": "code",
   "execution_count": 54,
   "id": "1071fc90",
   "metadata": {},
   "outputs": [
    {
     "name": "stdout",
     "output_type": "stream",
     "text": [
      "1.11100\n",
      "2.3333333333\n"
     ]
    }
   ],
   "source": [
    "def number_to_rep(b: int, x: float, r: int) -> str:\n",
    "    \"\"\"Given a base b, a fractional number t and a positive integer r,\n",
    "    returns the representation of x in base b up to the r-th digit after\n",
    "    the decimal point, as a string of digits from 0 to (b - 1).\"\"\"\n",
    "    assert isinstance(b, int) and b >= 2\n",
    "    assert isinstance(x, float)\n",
    "    assert isinstance(r, int) and r >= 1\n",
    "    \n",
    "    rep_integral_part = integer_to_rep(b, int(x))\n",
    "    rep_fractional_part = fractional_to_rep(b, x % 1, r)\n",
    "    representation = rep_integral_part + rep_fractional_part\n",
    "    return representation\n",
    "\n",
    "\n",
    "print(number_to_rep(2, 15 / 8, 5))\n",
    "print(number_to_rep(10, 7 / 3, 10))"
   ]
  },
  {
   "cell_type": "markdown",
   "id": "5623841b",
   "metadata": {},
   "source": [
    "We saw in the preceding section how to compute a real number given its representation in any base $ b \\ge 2 $. We would now like to consider the problem of converting from the binary to the decimal representation (and back) directly."
   ]
  },
  {
   "cell_type": "markdown",
   "id": "a57386de",
   "metadata": {},
   "source": [
    "**Problem:** Let $ (a_m\\,a_{m-1}\\dots a_1\\,a_0)_2 $ be the "
   ]
  },
  {
   "cell_type": "markdown",
   "id": "54b89e8a",
   "metadata": {},
   "source": [
    "## 3 Python built-in functions for conversion between bases\n",
    "\n",
    "📝 Python provides the built-in functions\n",
    "\n",
    "* `bin`\n",
    "* `oct`\n",
    "* `hex`\n",
    "\n",
    "which take a single *integer* as argument and return its binary, octal or hexadecimal representation, respectively, in the form of strings.\n",
    "\n",
    "**Example:** "
   ]
  },
  {
   "cell_type": "code",
   "execution_count": 61,
   "id": "dbd808db",
   "metadata": {},
   "outputs": [
    {
     "name": "stdout",
     "output_type": "stream",
     "text": [
      "0b1100 0o14 0xc\n",
      "0b111111 0o77 0x3f\n",
      "-0b1111 -0o17 -0xf\n"
     ]
    }
   ],
   "source": [
    "x = 12\n",
    "y = 63\n",
    "z = -15\n",
    "\n",
    "print(bin(x), oct(x), hex(x))\n",
    "print(bin(y), oct(y), hex(y))\n",
    "print(bin(z), oct(z), hex(z))"
   ]
  },
  {
   "cell_type": "markdown",
   "id": "0e4c0036",
   "metadata": {},
   "source": [
    "📝 Note how each string is prepended by `0b`, `0o` or `0x`, respectively, to indicate the type of the representation. Note also that the hexadecimal digits $ A, \\dots, F $ appear in lowercase."
   ]
  },
  {
   "cell_type": "code",
   "execution_count": null,
   "id": "58643a79",
   "metadata": {},
   "outputs": [],
   "source": []
  }
 ],
 "metadata": {
  "kernelspec": {
   "display_name": "Python 3 (ipykernel)",
   "language": "python",
   "name": "python3"
  },
  "language_info": {
   "codemirror_mode": {
    "name": "ipython",
    "version": 3
   },
   "file_extension": ".py",
   "mimetype": "text/x-python",
   "name": "python",
   "nbconvert_exporter": "python",
   "pygments_lexer": "ipython3",
   "version": "3.9.13"
  }
 },
 "nbformat": 4,
 "nbformat_minor": 5
}
