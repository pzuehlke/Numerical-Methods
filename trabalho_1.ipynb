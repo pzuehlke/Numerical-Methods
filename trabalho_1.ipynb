{
 "cells": [
  {
   "cell_type": "markdown",
   "id": "a7c36c81",
   "metadata": {},
   "source": [
    "# Trabalho 1 - Cálculo Numérico - 2022.2"
   ]
  },
  {
   "cell_type": "markdown",
   "id": "51ee56bd",
   "metadata": {},
   "source": [
    "## Instruções\n",
    "\n",
    "* O trabalho pode ser feito por um grupo de no máximo três (3) pessoas.\n",
    "* Use este próprio caderno para escrever as soluções nos espaços reservados para isto.\n",
    "* Deve ser enviado apenas um arquivo por grupo.\n",
    "* A data limite para envio é 10/11/2022 (inclusive).\n",
    "* O endereço para envio é:\n",
    "    `zuehlkep+calnum@gmail.com`\n",
    "\n",
    "* Preencha como assunto `Trabalho 1`. No corpo da mensagem, mencione a *Turma* (10, Eng. Telecom. ou 11, Eng. Mecânica), os *nomes completos* dos participantes do grupo e suas *matrículas*."
   ]
  },
  {
   "cell_type": "markdown",
   "id": "3d6439ba",
   "metadata": {},
   "source": [
    "## Questão 1\n",
    "\n",
    "**Questão 1:** Recorde que o *método de Newton* aplicado a uma função $ f $ numa vizinhança de um zero $ \\xi $ funciona da seguinte maneira.\n",
    "\n",
    "* Escolhemos uma aproximação $ x_0 $ de $ \\xi $.\n",
    "* Tomamos $ x_{n + 1} = x_{n} - \\frac{f(x_n)}{f'(x_n)} $ para cada $ n \\ge 0 $, sucessivamente.\n",
    "\n",
    "Sob condições ideais, a seqüência $ (x_n) $ convergirá rapidamente para $ \\xi $."
   ]
  },
  {
   "cell_type": "markdown",
   "id": "af090388",
   "metadata": {},
   "source": [
    "*(a)* Dada uma função $ g \\colon \\mathbb{R} \\to \\mathbb{R} $, defina, usando o esboço abaixo, um procedimento que retorna sua \"derivada\" utilizando a aproximação:\n",
    "$$ g'(x) \\approx \\frac{g(x + h) - g(x)}{h} $$\n",
    "para $ h $ pequeno; para esta questão, tome $ h = 10^{-5} $. Você provavelmente precisará (ou pelo menos achará útil) a seguinte construção."
   ]
  },
  {
   "cell_type": "code",
   "execution_count": 6,
   "id": "3045007c",
   "metadata": {},
   "outputs": [
    {
     "name": "stdout",
     "output_type": "stream",
     "text": [
      "6\n"
     ]
    }
   ],
   "source": [
    "# A construção\n",
    "\n",
    "phi = lambda x: x**2 + 3 * x + 2\n",
    "\n",
    "# retorna a função (atribuída a phi) que leva x em x^2 + 3x + 2, i.e.,\n",
    "# a função x -> x^2 + 3x + 2. Por exemplo,\n",
    "\n",
    "print(phi(1))  # Imprime 1 + 3 + 2 = 6.\n",
    "\n",
    "# Mais geralmente, a construção\n",
    "\n",
    "# lambda x: {expressão envolvendo x}\n",
    "\n",
    "# retorna a função \"sem nome\" que associa a cada x a expressão\n",
    "# correspondente do lado direito."
   ]
  },
  {
   "cell_type": "markdown",
   "id": "a18ccac3",
   "metadata": {},
   "source": [
    "*Solução da Q1a:*"
   ]
  },
  {
   "cell_type": "code",
   "execution_count": 2,
   "id": "c670adaf",
   "metadata": {},
   "outputs": [],
   "source": [
    "h = 10e-5\n",
    "\n",
    "\n",
    "def derivada(g):\n",
    "    # Complete e descomente a definição abaixo:\n",
    "    # dg = lambda x: ...\n",
    "    \n",
    "    return dg"
   ]
  },
  {
   "cell_type": "markdown",
   "id": "14b09538",
   "metadata": {},
   "source": [
    "*(b)* Usando a função `derivada` do item anterior, obtenha uma implementação da *transformada de Newton* que, dada uma função $ f(x) $, retorna a função\n",
    "$$ \\mathit{Tf} \\colon x \\mapsto x - \\frac{f(x)}{f'(x)}\\ .$$\n",
    "\n",
    "*Solução da Q1b:*"
   ]
  },
  {
   "cell_type": "code",
   "execution_count": 3,
   "id": "08dacf30",
   "metadata": {},
   "outputs": [
    {
     "ename": "IndentationError",
     "evalue": "expected an indented block (2325669536.py, line 3)",
     "output_type": "error",
     "traceback": [
      "\u001b[0;36m  Input \u001b[0;32mIn [3]\u001b[0;36m\u001b[0m\n\u001b[0;31m    # Tf = lambda x: ...\u001b[0m\n\u001b[0m                        ^\u001b[0m\n\u001b[0;31mIndentationError\u001b[0m\u001b[0;31m:\u001b[0m expected an indented block\n"
     ]
    }
   ],
   "source": [
    "def transformada(f):\n",
    "    # Complete e descomente a definição abaixo:\n",
    "    # Tf = lambda x: ..."
   ]
  },
  {
   "cell_type": "markdown",
   "id": "78783f3f",
   "metadata": {},
   "source": [
    "*(c)* Seja $ f(x) = e^x - 4x^2 $. Note que $ 0 < f(0) $ enquanto $ f(1) < 0 $, portanto $ f $ tem ao menos um zero $ \\xi $ no intervalo $ (0, 1) $. Use o método de Newton para encontrar uma aproximação $ \\zeta $ para $ \\xi $ com\n",
    "$$ \\vert\\zeta - \\xi\\vert < \\epsilon = 10^{-4}\\ ,$$\n",
    "completando o esboço abaixo.\n",
    "\n",
    "*Solução da Q1c:*"
   ]
  },
  {
   "cell_type": "code",
   "execution_count": null,
   "id": "521fd003",
   "metadata": {},
   "outputs": [],
   "source": [
    "from math import e\n",
    "\n",
    "\n",
    "# Complete a definição de f abaixo:\n",
    "def f(x: float) -> float:\n",
    "    \"\"\"Você deve implementar a função f! \"\"\"\n",
    "\n",
    "\n",
    "h = 10e-6\n",
    "x = 1 / 2     # Aproximação inicial\n",
    "erro = 1      # Erro inicial, qualquer valor > eps serve.\n",
    "eps = 10e-4   # Tolerância desejada.  \n",
    "\n",
    "while erro > eps:\n",
    "# Complete o código abaixo:\n",
    "    \n",
    "    \n",
    "print(x, f(x))"
   ]
  },
  {
   "cell_type": "markdown",
   "id": "e7666bee",
   "metadata": {},
   "source": [
    "## Questão 2\n",
    "\n",
    "**Questão 2:** O *seno* ($ \\sin $) de um ângulo em radianos pode ser calculado através da aproximação $ \\sin x \\approx x $, desde que $ x $ seja \"suficientemente pequeno\", bem como da identidade trigonométrica \n",
    "$$ \\sin x = 3 \\sin \\big(\\frac{x}{3}\\big) - 4 \\sin^3 \\big(\\frac{x}{3}\\big) $$\n",
    "para redução do argumento. Considere a função auxiliar seguinte:"
   ]
  },
  {
   "cell_type": "code",
   "execution_count": null,
   "id": "a29c347b",
   "metadata": {},
   "outputs": [],
   "source": [
    "def p(t: float) -> float:\n",
    "    return 3 * t - 4 * t**3"
   ]
  },
  {
   "cell_type": "markdown",
   "id": "cff37ed2",
   "metadata": {},
   "source": [
    "*(a)* Use a idéia acima para obter uma implementação da função seno, admitindo como \"suficientemente pequeno\" qualquer valor menor que $ \\epsilon = 10^{-1} $.\n",
    "\n",
    "*Solução da Q2a:*"
   ]
  },
  {
   "cell_type": "code",
   "execution_count": null,
   "id": "8d1ee3a7",
   "metadata": {},
   "outputs": [],
   "source": [
    "def seno(x: float) -> float:\n",
    "    \"\"\"Você deve prover uma implementação desta função neste espaço!\"\"\"\n",
    "    \n",
    "    \n",
    "eps = 10e-1"
   ]
  },
  {
   "cell_type": "markdown",
   "id": "b1db7777",
   "metadata": {},
   "source": [
    "*(b)* Quantas vezes a função $ p $ é aplicada na avaliação do seno de $ 12.15 $ radianos? Justifique."
   ]
  },
  {
   "cell_type": "markdown",
   "id": "7b2d88c2",
   "metadata": {},
   "source": [
    "*Solução da Q2b:*"
   ]
  },
  {
   "cell_type": "code",
   "execution_count": null,
   "id": "1b07720d",
   "metadata": {},
   "outputs": [],
   "source": []
  }
 ],
 "metadata": {
  "kernelspec": {
   "display_name": "Python 3 (ipykernel)",
   "language": "python",
   "name": "python3"
  },
  "language_info": {
   "codemirror_mode": {
    "name": "ipython",
    "version": 3
   },
   "file_extension": ".py",
   "mimetype": "text/x-python",
   "name": "python",
   "nbconvert_exporter": "python",
   "pygments_lexer": "ipython3",
   "version": "3.9.13"
  }
 },
 "nbformat": 4,
 "nbformat_minor": 5
}
