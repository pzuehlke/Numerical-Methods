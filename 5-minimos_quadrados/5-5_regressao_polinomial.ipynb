{
 "cells": [
  {
   "attachments": {},
   "cell_type": "markdown",
   "id": "e7230222",
   "metadata": {},
   "source": [
    "# Regressão polinomial por mínimos quadrados"
   ]
  },
  {
   "attachments": {},
   "cell_type": "markdown",
   "id": "6566c9b7",
   "metadata": {},
   "source": [
    "## $ \\S 1 $ Descrição da regressão polinomial\n",
    "\n",
    "Seja\n",
    "$$\n",
    "(x_0, y_0),\\, (x_1, y_1), \\cdots , (x_M,y_M)\n",
    "$$\n",
    "um conjunto de dados\n",
    "aos quais se pretende ajustar um polinômio de grau $ n $, com $ n \\le M $.\n",
    "\n",
    "Seguindo o método dos mínimos quadrados, começamos tomando como funções-base os monômios\n",
    "$$\n",
    "f_k(x) = x^k \\qquad (k = 0, 1, \\dots, n)\\,.\n",
    "$$\n",
    "Precisamos escolher os coeficientes $ a_k \\in \\mathbb R $ do polinômio procurado\n",
    "$$\n",
    "p(x) = a_0 + a_1 x + a_2x^2 + \\cdots + a_n x^n\n",
    "$$\n",
    "de modo que a soma dos quadrados dos **resíduos** $ r_i = y_i - p(x_i) $,\n",
    "$$\n",
    "S(a_0,a_1,\\dots,a_n) = \\sum_{i=0}^M \\big[y_i - p(x_i)\\big]^2\\,,\n",
    "$$\n",
    "seja minimizada.\n",
    "\n",
    "Sob certas condições gerais (cf. Teorema 2.1), existe uma escolha única destes parâmetros que minimiza $ S $. Seja como for, qualquer ponto de mínimo deve ser em particular um ponto crítico de $ S $, i.e., deve satisfazer:\n",
    "$$\n",
    "\\frac{\\partial S}{\\partial a_k} = -2 \\sum_{i=0}^M \\big[y_i - p(x_i)\\big]x_i^k =\n",
    "0 \\qquad (\\text{para cada }k = 0, 1, \\dots, n)\\,.\n",
    "$$\n",
    "Equivalentemente,\n",
    "\\begin{alignat*}{9}\n",
    "\\sum_{i=0}^M p(x_i)x_i^k &= \\sum_{i=0}^M \\Bigg(\\sum_{j=0}^n a_j x_i^j\\Bigg) x_i^k \\\\\n",
    "&= \\sum_{j=0}^n \\Bigg(\\sum_{i=0}^M x_i^{k+j}\\Bigg)a_j \\\\\n",
    "&= \\sum_{i=0}^My_ix_i^k \\qquad \\qquad \\qquad (\\text{para cada }k = 0, 1, \\dots, n)\\,.\n",
    "\\end{alignat*}"
   ]
  },
  {
   "attachments": {},
   "cell_type": "markdown",
   "id": "337ddc7b",
   "metadata": {},
   "source": [
    "Em forma matricial, este sistema de equações pode ser reescrito como\n",
    "$$\n",
    "\\boxed{\n",
    "\\begin{bmatrix}\n",
    "M + 1 & \\sum x_i & \\sum x_i^2 & \\cdots & \\sum x_i^n \\\\\n",
    "\\sum x_i & \\sum x_i^2 & \\sum x_i^3 & \\cdots & \\sum x_i^{n+1} \\\\\n",
    "\\sum x_i^2 & \\sum x_i^3 & \\sum x_i^4 & \\cdots & \\sum x_i^{n+2} \\\\\n",
    "\\vdots & \\vdots & \\vdots & \\ddots & \\vdots \\\\\n",
    "\\sum x^{n} & \\sum x_i^{n+1} & \\sum x_i^{n+2} & \\cdots & \\sum x_i^{2n}\n",
    "\\end{bmatrix}\n",
    "\\begin{bmatrix}\n",
    "a_0 \\\\\n",
    "a_1 \\\\\n",
    "a_2 \\\\\n",
    "\\vdots \\\\\n",
    "a_n\n",
    "\\end{bmatrix}\n",
    "=\n",
    "\\begin{bmatrix}\n",
    "\\sum y_i \\\\\n",
    "\\sum x_iy_i \\\\\n",
    "\\sum x_i^{2}y_i \\\\\n",
    "\\vdots \\\\\n",
    "\\sum x_i^{n}y_i\n",
    "\\end{bmatrix}}\n",
    "$$\n",
    "ou ainda\n",
    "$$\n",
    "\\boxed{\n",
    "\\mathbf{C}\\mathbf{a} = \\mathbf{b} \\quad \\text{onde}\\quad \\mathbf{C} = (c_{kj}) = \\left( \\sum_{i=0}^M x_i^{k + j} \\right), \\quad \\mathbf{a} = (a_j) \\quad \\text{e} \\quad \\mathbf{b} = \\left (\\sum_{i=0}^M x_i^k y_i \\right) \\quad (k,\\,j = 0, 1, \\dots, n)\n",
    "}\n",
    "$$\n",
    "Seja na forma matricial ou na forma escalar, estas são as chamadas\n",
    "**equações normais**. Observe que $ \\mathbf{C} $ é uma matriz simétrica\n",
    "$ (n + 1) \\times (n + 1) $ e que o sistema acima é *linear* nas indeterminadas $\n",
    "a_0,\\, a_1, \\cdots,\\,a_n $. Podemos portanto utilizar qualquer um dos métodos\n",
    "para solução de sistemas lineares estudados anteriormente para resolvê-lo."
   ]
  },
  {
   "attachments": {},
   "cell_type": "markdown",
   "id": "e9a4e05b",
   "metadata": {},
   "source": [
    "**Exemplo 1:** Ajuste um polinômio quadrático\n",
    "$$\n",
    "p(x) = a_0 + a_1 x + a_2x^2\n",
    "$$\n",
    "aos dados seguintes:\n",
    "\n",
    "| $ x_i $ | $ y_i $ |\n",
    "|--------:|--------:|\n",
    "| $ -3 $  | $ 4 $   |\n",
    "| $ -2 $  | $ 2 $   |\n",
    "| $ -1 $  | $ 3 $   |\n",
    "| $ 0 $   | $ 0 $   |\n",
    "| $ 1 $   | $ -1 $  |\n",
    "| $ 2 $   | $ 3 $   |\n",
    "| $ 3 $   | $ -5 $  |\n"
   ]
  },
  {
   "attachments": {},
   "cell_type": "markdown",
   "id": "9d3c7a23",
   "metadata": {},
   "source": [
    "_Solução:_ Primeiro completamos a tabela para incluir os valores de $ x_i^q $ para $ q \\in \\{0, 1, \\dots, 4 = 2n\\} $, assim como $ x_i^k y_i $ para $ k \\in \\{0, 1, 2 = n\\} $, além das somas destas quantidades em $ i $ ($ i = 0, 1, \\dots, 6 $), indicadas na última linha em negrito:\n",
    "\n",
    "| $ x_i $ | $ y_i $ | $ x_i^2 $ | $ x_i^3 $ | $ x_i^4 $ | $ x_i y_i $ | $ x_i^2 y_i $ |\n",
    "|--------:|--------:|----------:|----------:|----------:|------------:|--------------:|\n",
    "|  $ -3 $ |  $ 4 $  |   $ 9 $   |  $ -27 $  |   $ 81 $  |   $ -12 $   |     $ 36 $    |\n",
    "|  $ -2 $ |  $ 2 $  |   $ 4 $   |   $ -8 $  |   $ 16 $  |    $ -4 $   |     $ 8 $     |\n",
    "|  $ -1 $ |  $ 3 $  |   $ 1 $   |   $ -1 $  |   $ 1 $   |    $ -3 $   |     $ 3 $    |\n",
    "|  $ 0 $  |  $ 0 $  |   $ 0 $   |   $ 0 $   |   $ 0 $   |    $ 0 $    |     $ 0 $     |\n",
    "|  $ 1 $  |  $ -1 $ |   $ 1 $   |   $ 1 $   |   $ 1 $   |    $ -1 $   |     $ -1 $    |\n",
    "|  $ 2 $  |  $ -2 $  |   $ 4 $   |   $ 8 $   |   $ 16 $  |    $ -4 $    |     $ -8 $     |\n",
    "|  $ 3 $  |  $ -5 $ |   $ 9 $   |   $ 27 $  |   $ 81 $  |   $ -15 $   |    $ -45 $    |\n",
    "|         |         |           |           |           |             |               |\n",
    "| $ \\mathbf{0} $   | $ \\mathbf{1} $   | $ \\mathbf{28} $    | $ \\mathbf{0} $     | $ \\mathbf{196} $    | $ \\mathbf{-39} $     | $ \\mathbf{-7} $      |\n",
    "\n",
    "Deduzimos que as equações normais são:\n",
    "$$\n",
    "\\begin{cases}\n",
    "7a_0 &+& 0 &+& 28a_2 &=& 1 \\\\\n",
    "0 &+& 28a_1 &+& 0 &=& -39 \\\\\n",
    "28a_0 &+& 0 &+& 196a_2 &=& -7 \n",
    "\\end{cases}\n",
    "$$\n",
    "ou, equivalentemente,\n",
    "$$\n",
    "\\begin{cases}\n",
    "a_0 && + && 4a_2 &=& \\frac{1}{7} \\\\\n",
    " && a_1 && &=& -\\frac{39}{28} \\\\\n",
    "a_0 && + && 7a_2 &=& -\\frac{1}{4} \n",
    "\\end{cases}\n",
    "$$\n",
    "Agora calcula-se diretamente a solução:\n",
    "$$\n",
    "\\hat{a}_0 = \\frac{2}{3}, \\quad \\hat{a}_1 = -\\frac{39}{28}, \\quad \\hat{a}_2 = -\\frac{11}{84}\\,.\n",
    "$$\n",
    "Portanto\n",
    "$$\n",
    "\\hat p(x) = \\hat{a}_0 + \\hat{a}_1 x + \\hat{a}_2 x^2 = \\frac{2}{3} -\\frac{39}{28} x -\\frac{11}{84} x^2\\,.\n",
    "$$"
   ]
  },
  {
   "attachments": {},
   "cell_type": "markdown",
   "id": "c1c6ad78",
   "metadata": {},
   "source": [
    "\n",
    "## $ \\S 2 $ Existência e unicidade do polinômio $ \\hat p $ ajustado \n",
    "\n",
    "**Teorema 2.1:** *Sejam $ (x_0,y_0),\\,(x_1,y_1),\\,\\dots,\\,(x_M,y_M) $ dados e $\n",
    "n \\le M $. Se dentre os $ x_i $ é possível escolher um subcojunto de $ n + 1 $\n",
    "elementos mutuamente distintos, então as equações normais  possuem uma única\n",
    "solução $ \\hat{\\mathbf a} = (\\hat a_0, \\hat a_1, \\dots, \\hat a_n) $, que é de fato\n",
    "o mínimo global de $ S $.*\n",
    "\n",
    "Provaremos este teorema como corolário de um resultado mais amplo no próximo caderno. Concluímos portanto que, satisfeita a hipótese do teorema, existe um *único* polinômio \n",
    "\\begin{equation*}\\label{E:poly}\n",
    "\\hat{p}(x) = \\hat{a}_0 + \\hat{a}_1x + \\hat{a}_2x^2 + \\cdots + \\hat{a}_nx^n\n",
    "\\end{equation*}\n",
    "de grau $ \\le n $ que melhor se ajusta aos dados no sentido do princípio dos mínimos quadrados.\n",
    "\n",
    "A dispersão dos dados ao redor do gráfico do polinômio $ \\hat p $ é quantificada\n",
    "pelo **desvio padrão** $ \\sigma $, definido neste contexto por:\n",
    "$$\n",
    "\\boxed{\\sigma = \\sqrt{\\frac{\\sum_{i=0}^M \\big[y_i - \\hat{p}(x_i)\\big]^2}{M - n}}} \\qquad (n < M)\\,.\n",
    "$$\n",
    "O desvio-padrão é nulo se e somente se $ y_i = \\hat{p}(x_i) $ para todo $ i $.\n",
    "\n",
    "📝 Na maioria das aplicações da regressão polinomial, os $ x_i $ são todos\n",
    "distintos. Conseqüentemente o polinômio ajustado é único pelo Teorema (desde que\n",
    "$ n \\le M $!).\n",
    "\n",
    "📝 _No caso em que $ n = M $ e os $ x_i $ são distintos, $ \\hat p $ é o polinômio\n",
    "interpolador dos dados_, estudado anteriormente, mas expresso na forma \n",
    "\\eqref{E:poly}. Em certas situações, por exemplo se posteriormente pretendemos\n",
    "derivar ou integrar $ \\hat p $, esta expressão é mais conveniente que as formas de\n",
    "Newton ou de Lagrange.\n",
    "\n",
    "📝 Em geral a regressão polinomial é utilizada somente com $ n $ baixo (via de regra, $ n < 6 $)."
   ]
  },
  {
   "attachments": {},
   "cell_type": "markdown",
   "id": "3546da95",
   "metadata": {},
   "source": [
    "## $ \\S 3 $ Implementação da regressão polinomial por mínimos quadrados\n",
    "\n",
    "Na implementação abaixo da regressão polinomial, utilizaremos o método de Horner (discutido num caderno anterior) para efetuar a avaliação de $ \\hat p $."
   ]
  },
  {
   "cell_type": "code",
   "execution_count": 4,
   "id": "85450d85",
   "metadata": {},
   "outputs": [],
   "source": [
    "def coefs_regressao_polinomial(xs, ys, n):\n",
    "    \"\"\"\n",
    "    Retorna a lista dos coeficientes [a_0, a_1, ..., a_n] do\n",
    "    polinômio de grau n que melhor se ajusta aos dados (x_i, y_i)\n",
    "    seguindo o critério do método dos mínimos quadrados.\n",
    "    Entrada:\n",
    "        * Duas listas xs e ys de mesmo comprimento M + 1.\n",
    "        * O grau n < M do polinômio a ser ajustado.\n",
    "    Saída:\n",
    "        * A lista dos coeficientes [a_0, a_1, ..., a_n] de p.\n",
    "    \"\"\"\n",
    "    import numpy as np\n",
    "    \n",
    "    \n",
    "    M = len(xs) - 1\n",
    "    assert len(ys) == M + 1\n",
    "    assert n <= M\n",
    "    somas_x = list()              # Armazena a soma das potências x_i^q dos x_i\n",
    "    somas_x_y = list()            # Armazena a soma de y_i x_i^q\n",
    "    for q in range(2 * n + 1):    # q percorre o conjunto dos expoentes\n",
    "        soma_x = sum(x**q for x in xs)\n",
    "        somas_x.append(soma_x)\n",
    "        if q <= n:\n",
    "            soma_x_y = sum(xs[k]**q * ys[k] for k in range(M + 1))\n",
    "            somas_x_y.append(soma_x_y)\n",
    "            \n",
    "    C = np.zeros((n + 1, n + 1))  # Matriz dos coeficientes das equações normais\n",
    "    b = np.zeros(n + 1)           # Lado direito das equações normais\n",
    "    # Preenchendo C e b:\n",
    "    for i in range(n + 1):\n",
    "        for j in range(i, n + 1):\n",
    "            C[i][j] = C[j][i] = somas_x[i + j]\n",
    "        b[i] = somas_x_y[i]\n",
    "    a = np.linalg.solve(C, b)     # Resolve as equações normais\n",
    "        \n",
    "    return a"
   ]
  },
  {
   "cell_type": "code",
   "execution_count": 5,
   "id": "dda6a8a1",
   "metadata": {},
   "outputs": [],
   "source": [
    "def ajusta_polinomio(xs, ys, n):\n",
    "    \"\"\"\n",
    "    Retorna o polinômio que melhor se ajusta aos dados (x_i, y_i),\n",
    "    na forma de uma função x -> p(x).\n",
    "    Entrada:\n",
    "        * Duas listas xs e ys de mesmo comprimento M + 1.\n",
    "        * O grau n < M do polinômio a ser ajustado.\n",
    "    Saída:\n",
    "        * A função polinomial p = p(x) que melhor se adapta aos dados.\n",
    "    \"\"\"\n",
    "    def horner(coefs, x):\n",
    "        \"\"\"\n",
    "        Dados um polinômio p representado pela lista de seus coeficientes\n",
    "        [a_0, a_1, ..., a_n] (onde a_k é o coeficiente do monômio de grau k)\n",
    "        e um número x, retorna o valor de p(x) calculado pelo método de Horner.\n",
    "        \"\"\"\n",
    "        y = coefs.pop()    # extrai o último coeficiente c_n da lista\n",
    "        while coefs:       # enquanto a lista de coeficientes não for vazia\n",
    "            y *= x\n",
    "            y += coefs.pop()\n",
    "        return y\n",
    "    \n",
    "    \n",
    "    # 'a' é o vetor (a_0, a_1, ..., a_n) solução das equações normais:\n",
    "    a = coefs_regressao_polinomial(xs, ys, n)\n",
    "    p = lambda x: horner(a.tolist(), x)\n",
    "    \n",
    "    return p"
   ]
  },
  {
   "cell_type": "code",
   "execution_count": 6,
   "id": "d2af198a",
   "metadata": {},
   "outputs": [],
   "source": [
    "def desvio_padrao(xs, ys, n):\n",
    "    from numpy import sqrt\n",
    "    \n",
    "    \n",
    "    p = ajusta_polinomio(xs, ys, n)\n",
    "    sigma = 0\n",
    "    M = len(xs) - 1\n",
    "    for i in range(M + 1):\n",
    "        sigma += (ys[i] - p(xs[i]))**2\n",
    "        sigma = sqrt(sigma / (M - n))\n",
    "    return sigma"
   ]
  },
  {
   "attachments": {},
   "cell_type": "markdown",
   "id": "e9f3169a",
   "metadata": {},
   "source": [
    "O procedimento seguinte será usado para plotar os pontos $ (x_i, y_i) $ $ (i=0,1,\\dots,M) $ e o gráfico do polinômio $ \\hat p $."
   ]
  },
  {
   "cell_type": "code",
   "execution_count": 7,
   "id": "6ced4f96",
   "metadata": {},
   "outputs": [],
   "source": [
    "def exibe_dados_e_funcao(xs, ys, f):\n",
    "    \"\"\"\n",
    "    Exibe um conjunto de pontos (x_i, y_i) e o gráfico da função f.\n",
    "    Entradas:\n",
    "        * Duas listas xs e ys de mesmo comprimento.\n",
    "        * Uma função f de uma variável.\n",
    "    Saída: nenhuma.\n",
    "    \"\"\"\n",
    "    import matplotlib.pyplot as plt\n",
    "    import numpy as np\n",
    "    \n",
    "    \n",
    "    assert len(xs) == len(ys)\n",
    "    x_min = min(xs)\n",
    "    x_max = max(xs)\n",
    "    # Para o gráfico não ficar apertado, introduzimos uma \"folga\":\n",
    "    folga = (x_max - x_min) / 8\n",
    "    xs_f = np.linspace(x_min - folga, x_max + folga, num=201)\n",
    "    ys_f = np.array([f(x) for x in xs_f]) \n",
    "    \n",
    "    plt.plot(xs, ys, 'o')\n",
    "    plt.plot(xs_f, ys_f, '-')\n",
    "    plt.grid(True)\n",
    "    plt.xlabel('x')\n",
    "    plt.ylabel('y')\n",
    "    plt.show()\n",
    "    \n",
    "    return None"
   ]
  },
  {
   "attachments": {},
   "cell_type": "markdown",
   "id": "d665b309",
   "metadata": {},
   "source": [
    "__Exemplo 2:__ Use o procedimento `exibe_dados_e_funcao` para plotar os dados e\n",
    "polinômio $ \\hat p $ ajustado no Exemplo 1. Calcule o desvio-padrão associado."
   ]
  },
  {
   "attachments": {},
   "cell_type": "markdown",
   "id": "b8b4fe56",
   "metadata": {},
   "source": [
    "*Solução:* O código está abaixo:"
   ]
  },
  {
   "cell_type": "code",
   "execution_count": 23,
   "id": "72d9f9d8",
   "metadata": {},
   "outputs": [
    {
     "name": "stdout",
     "output_type": "stream",
     "text": [
      "O polinômio ajustado é: 0.6667 - 1.3929 x - 0.131 x^2 .\n",
      "O desvio-padrão associado é 0.3667.\n"
     ]
    },
    {
     "data": {
      "image/png": "[encoded data removed]",
      "text/plain": [
       "<Figure size 640x480 with 1 Axes>"
      ]
     },
     "metadata": {},
     "output_type": "display_data"
    }
   ],
   "source": [
    "xs = list(range(-3, 4))\n",
    "ys = [4, 2, 3, 0, -1, -2, -5]\n",
    "n = 2\n",
    "\n",
    "coefs = coefs_regressao_polinomial(xs, ys, n)\n",
    "a = [round(a, 4) for a in coefs]\n",
    "p = ajusta_polinomio(xs, ys, n)\n",
    "sigma = desvio_padrao(xs, ys, n)\n",
    "sigma = round(sigma, 4)\n",
    "\n",
    "print(f\"O polinômio ajustado é: {a[0]} - {abs(a[1])} x - {abs(a[2])} x^2 .\")\n",
    "print(f\"O desvio-padrão associado é {sigma}.\")\n",
    "exibe_dados_e_funcao(xs, ys, p)"
   ]
  },
  {
   "attachments": {},
   "cell_type": "markdown",
   "id": "c9dc5858",
   "metadata": {},
   "source": [
    "## $ \\S 4 $ Problemas"
   ]
  },
  {
   "attachments": {},
   "cell_type": "markdown",
   "id": "4d1e490d",
   "metadata": {},
   "source": [
    "**Problema 1:** Ajuste um polinômio quadrático aos dados seguintes:\n",
    "\n",
    "|      $ x_i $     | $ y_i $ |\n",
    "|-----------------:|--------:|\n",
    "| $ -\\frac{3}{2} $ |  $ -3 $ |\n",
    "|      $ -1 $      |  $ -3 $ |\n",
    "| $ -\\frac{1}{2} $ |  $ -2 $ |\n",
    "|       $ 0 $      |  $ 1 $  |\n",
    "|  $ \\frac{1}{2} $ |  $ 2 $  |\n",
    "|       $ 1 $      |  $ 2 $  |\n",
    "\n",
    "(a) Sem usar o computador.\n",
    "\n",
    "(b) Usando o computador. Calcule também o desvio padrão $ \\sigma $ e plote os dados junto com o gráfico do polinômio $ \\hat p $ ajustado."
   ]
  },
  {
   "attachments": {},
   "cell_type": "markdown",
   "id": "bb437314",
   "metadata": {},
   "source": [
    "_Solução:_"
   ]
  },
  {
   "cell_type": "code",
   "execution_count": null,
   "id": "9c7dd012",
   "metadata": {},
   "outputs": [],
   "source": []
  },
  {
   "attachments": {},
   "cell_type": "markdown",
   "id": "c671b555",
   "metadata": {},
   "source": [
    "**Problema 2:** Repita o problema anterior para os dados abaixo:\n",
    "\n",
    "| $ x_i $ | $ y_i $ |\n",
    "|--------:|--------:|\n",
    "| $ -5 $  | $ -15 $ |\n",
    "| $ -4 $  | $ -7 $  |\n",
    "| $ -2 $  | $ 1 $   |\n",
    "| $ 0 $   | $ 7 $   |\n",
    "| $ 3 $   | $ 5 $   |\n",
    "| $ 4 $   | $ 3 $   |\n",
    "| $ 5 $   | $ 2 $   |"
   ]
  },
  {
   "attachments": {},
   "cell_type": "markdown",
   "id": "d81ab720",
   "metadata": {},
   "source": [
    "_Solução:_"
   ]
  },
  {
   "cell_type": "code",
   "execution_count": null,
   "id": "0ea792f2",
   "metadata": {},
   "outputs": [],
   "source": []
  },
  {
   "attachments": {},
   "cell_type": "markdown",
   "id": "76171cd8",
   "metadata": {},
   "source": [
    "**Problema 3:** \n",
    "\n",
    "(a) Utilizando o computador, ajuste um polinômio quadrático\n",
    "$$\n",
    "q(t) = a_0 + a_1 t + a_2t^2\n",
    "$$\n",
    "aos dados seguintes, que representam a queda na população de uma espécie ao\n",
    "longo do tempo. Cada par $(t, p)$ representa a população restante $(p)$ em um\n",
    "determinado ano $(t)$. Determine também o desvio-padrão associado.\n",
    "\n",
    "| $ t_i $ | $ p_i $ |\n",
    "|:--------:|:--------:|\n",
    "| $ 0 $   | $ 1200 $|\n",
    "| $ 1 $   | $ 1160 $|\n",
    "| $ 2 $   | $ 1090 $|\n",
    "| $ 3 $   | $ 950 $ |\n",
    "| $ 4 $   | $ 820 $ |\n",
    "| $ 5 $   | $ 650 $ |\n",
    "| $ 6 $   | $ 540 $ |\n",
    "\n",
    "(b) Utilize $ q $ para prever quando a população será extinta da região.\n",
    "\n",
    "(c) Usando $ q $, estime a população máxima desta espécie na região e o\n",
    "momento em que ela foi atingida. (Observe que isto ocorreu antes do\n",
    "instante $ t = 0 $ correspondente ao início das medições.)"
   ]
  },
  {
   "attachments": {},
   "cell_type": "markdown",
   "id": "a7c62a29",
   "metadata": {},
   "source": [
    "_Solução:_"
   ]
  },
  {
   "cell_type": "code",
   "execution_count": null,
   "id": "bbdf0786",
   "metadata": {},
   "outputs": [],
   "source": []
  }
 ],
 "metadata": {
  "kernelspec": {
   "display_name": "Python 3 (ipykernel)",
   "language": "python",
   "name": "python3"
  },
  "language_info": {
   "codemirror_mode": {
    "name": "ipython",
    "version": 3
   },
   "file_extension": ".py",
   "mimetype": "text/x-python",
   "name": "python",
   "nbconvert_exporter": "python",
   "pygments_lexer": "ipython3",
   "version": "3.9.2"
  }
 },
 "nbformat": 4,
 "nbformat_minor": 5
}
