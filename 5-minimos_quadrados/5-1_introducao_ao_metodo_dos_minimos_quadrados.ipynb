{
 "cells": [
  {
   "attachments": {},
   "cell_type": "markdown",
   "id": "abd54391",
   "metadata": {},
   "source": [
    "$ \\newcommand{\\mbf}{\\mathbf} $\n",
    "$ \\newcommand{\\abs}[1]{\\left\\vert#1\\right\\vert} $\n",
    "$ \\newcommand{\\setsepa}{\\text{\\ \\large$:$\\ }} $\n",
    "$ \\newcommand{\\set}[2]{\\big\\{#1\\,\\setsepa\\,#2\\big\\}} $\n",
    "$ \\newcommand{\\se}[1]{\\,\\left\\{#1\\right\\}\\,} $\n",
    "# Introdução ao método dos mínimos quadrados"
   ]
  },
  {
   "attachments": {},
   "cell_type": "markdown",
   "id": "73962491",
   "metadata": {},
   "source": [
    "## $ \\S 1 $ Motivação\n",
    "\n",
    "Suponha que queiramos analisar a relação entre duas variáveis, $ x $ e $ y $,\n",
    "através de um conjunto discreto de dados $ (x_1, y_1), \\dots, (x_m, y_m) $. Como\n",
    "exemplo, considere um ensaio clínico de um remédio em que $ x_i $ representa a\n",
    "dosagem diária administrada ao $ i $-ésimo paciente e $ y_i $ a sua pressão\n",
    "arterial.\n",
    "\n",
    "Idealmente, o objetivo é modelar de forma quantitativa a relação entre as\n",
    "variáveis na forma de uma função $ y = f(x) $ que reflita \"em média\" a\n",
    "dependência de $ y $ com relação a $ x $. Isto nos permitiria estimar resultados\n",
    "além dos que foram medidos ou perceber um padrão seguido pelos dados.\n",
    "\n",
    "📝 Em Estatística, a determinação da função $ y = f(x) $ que melhor se ajusta a\n",
    "um conjunto de dados, segundo algum critério, leva o nome de **regressão**. Este\n",
    "termo também se aplica à situação em que há uma variável dependente $ y $ e\n",
    "várias variáveis independentes.\n",
    "\n",
    "Uma idéia preliminar seria tomar $ f $ como o polinômio interpolador destes\n",
    "dados. Entretanto esta estratégia tem algumas desvantagens:\n",
    "* Se os dados provêm de experimentos, tipicamente eles contêm \"ruídos\",\n",
    "  por exemplo na forma de erros de medição. Como na interpolação polinomial o\n",
    "  ajuste aos dados é perfeito, ela não suaviza estes ruídos.\n",
    "* Quanto maior o grau do polinômio interpolador, maior a sua \"oscilação\".\n",
    "  Por este motivo, grosso modo não se deve utilizar polinômios aproximadores de\n",
    "  grau $ \\ge 6 $, especialmente para extrapolar os dados (i.e., estimar valores\n",
    "  *fora* do menor intervalo contendo os $ x_i $).\n",
    "* Freqüentemente temos bons motivos para postular uma relação de um determinado\n",
    "  tipo (digamos, linear) entre as variáveis $ x $ e $ y $. Neste caso não faz\n",
    "  sentido usar uma função de tipo distinto do esperado.\n",
    " \n",
    "Por exemplo, se $ x $ representa a força aplicada a uma mola e $ y $ sua\n",
    "deformação, então a lei de Hooke afirma que $ y = c x $, onde $ c $ é uma\n",
    "constante. Nesta situação queremos encontrar a função *desta forma* que melhor\n",
    "reflete os dados experimentais, ainda que provavelmente para nenhuma escolha de\n",
    "$ c $ o ajuste seja perfeito."
   ]
  },
  {
   "cell_type": "markdown",
   "id": "35bd964e",
   "metadata": {},
   "source": [
    "## $ \\S 2 $ Descrição do método dos mínimos quadrados\n",
    "\n",
    "Qualquer método de regressão é constituído de ao menos duas partes:\n",
    "* A determinação da classe de funções dentro da qual escolheremos aquela que melhor aproxima os dados.\n",
    "* A definição de um critério segundo o qual a \"melhor\" aproximação será escolhida."
   ]
  },
  {
   "attachments": {},
   "cell_type": "markdown",
   "id": "7574d6b6",
   "metadata": {},
   "source": [
    "### $ 2.1 $ Qual é a classe de funções a ser considerada?\n",
    "\n",
    "A *forma* da função $ f $ a ser ajustada aos dados deve ser especificada de\n",
    "antemão, normalmente pela teoria associada ao experimento que gerou os dados.\n",
    "Por exemplo, pode ser que na situação sob consideração, $ f $ deva ser tomada\n",
    "dentro da classe de polinômios de grau $ \\le 2 $:\n",
    "$$\n",
    "f(x) = a_0f_0(x) + a_1f_1(x) + a_2f_2(x) \\quad {\\text{onde} } \\quad f_0(x) = 1,\\ f_1(x) = x,\\ f_2(x) = x^2.\n",
    "$$\n",
    "\n",
    "No caso geral,\n",
    "$$\n",
    "f = f(x; a_0,a_1,\\dots,a_n)\n",
    "$$\n",
    "é uma função de uma variável $ x $, mas que depende de $ n + 1 $ parâmetros reais $ a_0, \\dots, a_{n} $. Como no exemplo acima, freqüentemente a dependência de $ f $ nestes parâmetros é **linear**, ou seja:\n",
    "$$\n",
    "f(x) = a_0f_0(x) + a_1f_1(x) + \\dots + a_nf_n(x) = \\sum_{k=0}^n a_kf_k(x)\n",
    "$$\n",
    "para funções $ f_k $ predeterminadas, chamadas neste contexto de **funções-base**. Quando a dependência de $ f $ nos parâmetros $ a_k $ não é desta forma, dizemos que ela é **não-linear**.\n",
    "\n",
    "⚠️ Observe que a linearidade aqui se refere ao fato de $ f $ ser combinação linear das funções-base, ou seja, dela depender linearmente de $ a_0, \\dots, a_n $. Contudo, isto não significa que $ f $ seja linear _como função de_ $ x $.\n",
    "\n",
    "📝 Exigiremos neste contexto que o número $ m $ de dados seja no mínimo igual ao número\n",
    "$ n + 1 $ de parâmetros $ a_k $, i.e., que $$ n + 1 \\le m \\,.$$\n",
    "No caso mais comum, em que o número de dados é muito mais alto que o de parâmetros,\n",
    "o sistema de $ m $ equações \n",
    "$$\n",
    "f(x_i;a_0, a_1, \\dots, a_n) = y_i \\qquad (i = 1, 2, \\dots, m)\n",
    "$$\n",
    "nas $ n + 1 $ variáveis $ a_k $ é **sobredeterminado**, significando que o\n",
    "número de condições a serem satisfeitas é maior que o número de indeterminadas\n",
    "envolvidas, o que torna improvável que haja uma solução _exata_ para o sistema.\n",
    "Assim, precisamos de um método para escolher a melhor solução aproximada, em\n",
    "algum sentido."
   ]
  },
  {
   "cell_type": "markdown",
   "id": "fed20361",
   "metadata": {},
   "source": [
    "### $ 2.2 $ Qual é o critério de discrepância a ser utilizado?\n",
    "\n",
    "Suponha como acima que $ y = f(x) $ deva pertencer a uma classe de funções\n",
    "parametrizadas pelos $ a_k \\in \\mathbb R $ ($ k = 0, \\dots, n $). O que\n",
    "significa encontrar aquela função que \"melhor se adapta\" a um conjunto de dados\n",
    "$ (x_i, y_i) $? Esta pergunta não pode ser respondida definitivamente por um\n",
    "teorema matemático ou lei da Física. Conforme ilustrado na $ \\S 3 $, o critério\n",
    "mais adequado varia de acordo com a situação específica.\n",
    "\n",
    "Seja como for, o critério mais comum é o empregado pelo\n",
    "**método dos mínimos quadrados**, que consiste na minimização da função\n",
    "$$\n",
    "    \\boxed{S(a_0,a_1,\\dots,a_n) = \\sum_{i=1}^m \\big[y_i - f(x_i)\\big]^2}\n",
    "$$\n",
    "Em outras palavras, busca-se minimizar a soma dos quadrados dos **resíduos** \n",
    "$$\n",
    "    e_i =  y_i - f(x_i)\\,.\n",
    "$$\n",
    "Em particular, os valores ótimos dos parâmetros $ a_k $ devem ser tais que\n",
    "$ \\mbf a = (a_0, a_1, \\dots, a_n) $ é um ponto crítico de $ S $. Ou seja, eles\n",
    "devem satisfazer as equações\n",
    "$$\n",
    "    \\boxed{\\frac{\\partial S}{\\partial a_k}(a_0, a_1, \\cdots, a_n) =\n",
    "    0 \\qquad (k = 0, 1, \\dots, n)}\n",
    "$$\n",
    "\n",
    "📝 Este sistema de $ n + 1 $ equações nas $ n + 1 $ variáveis $ a_k $ é linear\n",
    "se e somente se a dependência de $ f $ nos parâmetros $ a_k $ é linear no\n",
    "sentido da seção $ 2.1 $. Nesta situação portanto temos à disposição todos os\n",
    "métodos para resolução de sistemas lineares estudados anteriormente para\n",
    "determinar os valores ótimos dos parâmetros."
   ]
  },
  {
   "attachments": {},
   "cell_type": "markdown",
   "id": "51ba9eeb",
   "metadata": {},
   "source": [
    "## $ \\S 3 $ Critérios alternativos para a discrepância de ajustes\n",
    "\n",
    "Considere o caso mais simples possível, em que a função $ f $ a ser ajustada aos dados é constante:\n",
    "$$\n",
    "f(x) = c \\in \\mathbb R.\n",
    "$$\n",
    "Na notação da seção $ 2.1 $, isto corresponde a tomar $ n = 0 $, $ f_0(x) = 1 $ e $ a_0 = c $. Então temos pelo menos quatro alternativas razoáveis para encontrar o valor de $ c $ que melhor se ajusta aos dados $ (x_1, y_1), \\dots, (x_m,y_m) $:\n",
    "\n",
    "* Minimizar a soma dos quadrados dos resíduos $ e_i = y_i - c $:\n",
    "  \\begin{equation*}\\label{E:S}\n",
    "      S(c) = \\sum_{i=1}^m \\big(y_i - c)^2.\\tag{2}\n",
    "  \\end{equation*}\n",
    "  Este é o critério do método dos mínimos quadrados. Provaremos\n",
    "  abaixo que o único valor que minimiza esta soma é a **média aritmética**\n",
    "  dos $ y_i $:\n",
    "  $$\n",
    "      \\text{média aritmética} = \\bar y =\n",
    "      \\frac{1}{m} \\sum_{i=1}^{m} y_i = \\frac{y_1 + y_2 + \\cdots + y_m}{m}.\n",
    "  $$\n",
    "* Minimizar a soma dos valores absolutos dos resíduos:\n",
    "  \\begin{equation*}\\label{E:T}\n",
    "      \\sum_{i=1}^m \\abs{y_i - c}.\\tag{3}\n",
    "  \\end{equation*}\n",
    "  Veremos abaixo que uma solução é a **mediana** dos $ y_i $. Para $ m $ ímpar,\n",
    "  ela é definida como o valor do meio da amostra, e se $ m $ é par, como\n",
    "  como a média aritmética entre os dois valores do meio.\n",
    "* Escolher $ c $ de modo que $ \\max_i\\abs{c - y_i} $ seja o menor possível.\n",
    "  Neste caso o único minimizante é a **amplitude-média** (*mid-range*), i.e., a\n",
    "  média aritmética entre o maior e o menor valor na amostra:\n",
    "  $$\n",
    "    \\text{amplitude-média} = \\frac{\\max_i \\se{y_i} + \\min_i \\se{y_i}}{2}\n",
    "  $$\n",
    "* Encontrar o valor de $ c $ que ocorre com maior freqüência dentre os $ y_i $,\n",
    "  denominado **moda** dos $ y_i $.\n",
    "\n",
    "Em muitas situações é desejável destilar uma amostra de números a um único valor\n",
    "representativo, ou **medida de tendência central**. Os quatro conceitos definidos\n",
    "acima são as versões mais comuns.\n",
    "\n",
    "📝 A situação considerada aqui é atípica porque a função $ f(x) $ na verdade não\n",
    "depende de $ x $; por isto os $ x_i $ são irrelevantes na aplicação de qualquer\n",
    "um dos quatro critérios."
   ]
  },
  {
   "cell_type": "markdown",
   "id": "8a220009",
   "metadata": {},
   "source": [
    "**Teorema 3.1:** *A função $ S $ em \\eqref{E:S} é minimizada se e somente se $ c = \\bar y $ é a média aritmética dos $ y_i $.*\n",
    "\n",
    "**Prova:** Derivando \\eqref{E:S} com respeito a $ c $, deduzimos que\n",
    "$$\n",
    "\\frac{\\partial S}{\\partial c} = 2\\sum_{i=1}^m(y_i - c).\n",
    "$$\n",
    "Logo, $ c $ é ponto crítico se e somente se \n",
    "$$\n",
    "mc = \\sum_{i=1}^m y_i\\,, \\quad \\text{ou seja,} \\quad c = \\bar y = \\frac{1}{m}\\sum_{i=1}^m y_i.\n",
    "$$\n",
    "Como \n",
    "$$\n",
    "\\lim_{c \\to \\pm \\infty} S(c) = +\\infty\n",
    "$$\n",
    "e este é o *único* ponto crítico de $ S $, concluímos que ele deve ser o mínimo global de $ S $."
   ]
  },
  {
   "cell_type": "markdown",
   "id": "e504a808",
   "metadata": {
    "vscode": {
     "languageId": "plaintext"
    }
   },
   "source": [
    "**Teorema 3.2:** *A função em \\eqref{E:T} é minimizada quando $ c $ é a mediana dos $ y_i $. Se o número $ m $ de pontos é ímpar, este é o único ponto de mínimo; se ele é par, então qualquer valor entre os dois do meio na lista ordenada dos $ y_i $ também minimiza a função.*\n",
    "<div style=\"text-align: right\">$ \\blacksquare $ </div>\n",
    "\n",
    "**Problema 1:** Mostre o teorema 3.2 quando:\n",
    "\n",
    "(a) O número $ m $ de pontos $ y_i $ é ímpar. *Dica:* Tome $ c $ como a mediana. Mostre que quando $ c $ aumenta ou diminui, a soma em \\eqref{E:T} aumenta.\n",
    "\n",
    "(b) O número $ m $ de pontos $ y_i $ é par. *Dica:* Reordene a lista dos $ y_i $\n",
    "em ordem crescente.  Tome $ c $ como qualquer valor entre os dois valores do\n",
    "meio, $ y_{\\lfloor m / 2 \\rfloor} $ e $ y_{\\lfloor m / 2 \\rfloor + 1} $.\n",
    "Mostre que a soma em \\eqref{E:T} não muda conforme $ c $ se move dentro do\n",
    "intervalo delimitado por eles, mas aumenta quando $ c $ sai deste intervalo.\n",
    "\n",
    "**Teorema 3.3:** *A função $ \\max_i\\abs{c - y_i} $ é minimizada se e somente se\n",
    "$ c $ é a amplitude média dos $ y_i $:*\n",
    "$$\n",
    "    c = \\frac{\\max_i \\se{y_i} + \\min_i \\se{y_i}}{2}.\\tag*{$ \\blacksquare $}\n",
    "$$\n",
    "\n",
    "**Problema 2:** Mostre o teorema 3.3."
   ]
  },
  {
   "cell_type": "markdown",
   "id": "3403fd83",
   "metadata": {},
   "source": [
    "**Exemplo:** Um estudo da Oxfam de $ 2021 $ encontrou que as dez pessoas mais\n",
    "ricas do mundo detinham um espólio (patrimônio) combinado maior que aquele das $\n",
    "3.1 $ bilhões de pessoas mais pobres. Entre todos os adultos do mundo, a *média\n",
    "aritmética* da riqueza global era de $ 87\\,489 $ USD; já a *mediana* era menos\n",
    "de um décimo desta cifra: $ 8\\,360 $ USD. Claramente, pela natureza da\n",
    "distribuição da riqueza mundial, a mediana é muito mais apropriada do que a\n",
    "média aritmética como uma medida do patrimônio do adulto \"médio\".\n",
    "\n",
    "Mais geralmente, a mediana é mais adequada que a média aritmética como medida de\n",
    "tendência central quando a amostragem é distorcida (alguns valores são\n",
    "*outliers*, ou seja, muito diferentes da média) ou quando o número de elementos\n",
    "na amostra é pequeno. A moda é a medida de tendência central mais adequada\n",
    "quando buscamos o valor ou categoria mais comum."
   ]
  },
  {
   "cell_type": "markdown",
   "id": "5dfcfa92",
   "metadata": {},
   "source": [
    "__Exercício:__ Escreva um procedimento `medidas_tc(ys)` que, dado uma lista ou\n",
    "tupla `ys` de números, retorna as quatro medidas de tendência central\n",
    "consideradas acima."
   ]
  },
  {
   "cell_type": "code",
   "execution_count": null,
   "id": "d28f98ad",
   "metadata": {
    "vscode": {
     "languageId": "plaintext"
    }
   },
   "outputs": [],
   "source": []
  },
  {
   "cell_type": "markdown",
   "id": "def0adfe",
   "metadata": {},
   "source": [
    "__Exercício:__ Seja \n",
    "$$\n",
    "    A = \\big(0, 1, 2, 0, 0, 2, 0, 1, 1, 0,\n",
    "    0, 2, 1, 0, 0, 3, 0, 2, 0, 1 \\big)\n",
    "$$\n",
    "uma lista do número de filho(a)s de uma amostra aleatória de $ 20 $ casais da população de uma cidade. Em forma tabular:\n",
    "\n",
    "| Número de filhos | Freqüência |\n",
    "|:----------------:|:----------:|\n",
    "| 0                | 10         |\n",
    "| 1                | 5          |\n",
    "| 2                | 4          |\n",
    "| 3                | 1          |\n",
    "\n",
    "Calcule à mão as quatro medidas de tendência central desta amostra, depois\n",
    "verifique sua resposta utilizando o procedimento do exercício anterior."
   ]
  },
  {
   "cell_type": "code",
   "execution_count": null,
   "id": "7f8e436c",
   "metadata": {
    "vscode": {
     "languageId": "plaintext"
    }
   },
   "outputs": [],
   "source": []
  }
 ],
 "metadata": {
  "kernelspec": {
   "display_name": "Python 3 (ipykernel)",
   "language": "python",
   "name": "python3"
  },
  "language_info": {
   "codemirror_mode": {
    "name": "ipython",
    "version": 3
   },
   "file_extension": ".py",
   "mimetype": "text/x-python",
   "name": "python",
   "nbconvert_exporter": "python",
   "pygments_lexer": "ipython3",
   "version": "3.9.15"
  }
 },
 "nbformat": 4,
 "nbformat_minor": 5
}
