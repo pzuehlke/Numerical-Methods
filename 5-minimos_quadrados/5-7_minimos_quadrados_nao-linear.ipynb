{
 "cells": [
  {
   "cell_type": "markdown",
   "id": "bb19cd92",
   "metadata": {},
   "source": [
    "$ \\newcommand{\\mbf}{\\mathbf} $\n",
    "$ \\newcommand{\\abs}[1]{\\left\\vert#1\\right\\vert} $\n",
    "$ \\newcommand{\\se}[1]{\\,\\left\\{#1\\right\\}\\,} $\n",
    "$ \\newcommand{\\norm}[1]{\\left\\Vert#1\\right\\Vert} $\n",
    "# Mínimos quadrados com ajuste não-linear"
   ]
  },
  {
   "cell_type": "code",
   "execution_count": null,
   "id": "1632e0e2",
   "metadata": {},
   "outputs": [],
   "source": []
  }
 ],
 "metadata": {
  "kernelspec": {
   "display_name": "Python 3 (ipykernel)",
   "language": "python",
   "name": "python3"
  },
  "language_info": {
   "codemirror_mode": {
    "name": "ipython",
    "version": 3
   },
   "file_extension": ".py",
   "mimetype": "text/x-python",
   "name": "python",
   "nbconvert_exporter": "python",
   "pygments_lexer": "ipython3",
   "version": "3.9.15"
  }
 },
 "nbformat": 4,
 "nbformat_minor": 5
}
