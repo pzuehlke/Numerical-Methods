{
 "cells": [
  {
   "cell_type": "markdown",
   "id": "9e3ff470",
   "metadata": {},
   "source": [
    "$ \\newcommand{\\mbf}{\\mathbf} $\n",
    "$ \\newcommand{\\abs}[1]{\\left\\vert#1\\right\\vert} $\n",
    "$ \\newcommand{\\setsepa}{\\text{\\ \\large$:$\\ }} $\n",
    "$ \\newcommand{\\set}[2]{\\big\\{#1\\,\\setsepa\\,#2\\big\\}} $\n",
    "$ \\newcommand{\\se}[1]{\\,\\left\\{#1\\right\\}\\,} $\n",
    "# Medidas de tendência central"
   ]
  },
  {
   "cell_type": "markdown",
   "id": "a5dd3893",
   "metadata": {},
   "source": [
    "## $ \\S 1 $ Medidas comuns de tendência central\n",
    "\n",
    "Considere uma lista $ A = \\big(y_0,y_1, \\dots, y_M\\big) $ de valores reais, representando uma amostragem de dados de uma determinada coleção. Em muitos casos, é desejável destilar a amostra a um único número que melhor a representa. As quatro **medidas de tendência central** mais comuns são as definidas abaixo. Para ilustrá-las, seja \n",
    "$$\n",
    "A = \\big(0, 1, 2, 0, 0, 2, 0, 1, 1, 0,\n",
    "0, 2, 1, 0, 0, 3, 0, 2, 0, 1 \\big)\n",
    "$$\n",
    "uma lista do número de filho(a)s de uma amostra aleatória de $ 20 $ casais da população de uma cidade. Em forma tabular:\n",
    "\n",
    "| Número de filhos | Freqüência |\n",
    "|:----------------:|:----------:|\n",
    "| 0                | 10         |\n",
    "| 1                | 5          |\n",
    "| 2                | 4          |\n",
    "| 3                | 1          |\n",
    "\n",
    "\n",
    "(a) A **média aritmética** dos valores $ y_i $ é dada por\n",
    "$$\n",
    "\\bar y = \\frac{1}{M+1} \\sum_{i=0}^{M} y_i = \\frac{y_0 + y_1 + \\cdots + y_M}{M + 1}.\n",
    "$$\n",
    "No exemplo acima,\n",
    "$$\n",
    "\\text{média aritmética} = \\bar y = \\frac{0\\cdot 10 + 1\\cdot 5 + 2\\cdot 4 + 3\\cdot 1}{20} = \\frac{16}{20} = 0.8\\,.\n",
    "$$\n",
    "\n",
    "(b) A **mediana** dos valores $ y_i $ é definida como o valor do meio da amostra; se o número de pontos na amostra é par, definimos a mediana como a média aritmética entre os dois valores do meio. No exemplo acima, o número de pontos é $ 20 $, logo\n",
    "$$\n",
    "\\text{mediana} = \\frac{0 + 1}{2} = 0.5\\,,\n",
    "$$\n",
    "ou seja, ela a média aritmética entre os dois valores do meio, depois que a lista é ordenada de maneira crescente.\n",
    "\n",
    "(c) A **moda** de $ A $ é o conjunto dos $ y_i $ que ocorrem com a freqüência mais alta na amostragem. No exemplo acima,\n",
    "$$\n",
    "\\text{moda} = 0,\n",
    "$$\n",
    "já que este é o valor mais freqüente. Se numa determinada amostragem o número de casais com $ 0 $ fosse igual ao número com $ 1 $ filho (e as outras freqüências fossem menores), a moda seria o conjunto $ \\se{0, 1} $. Num histograma, a moda é indicada pela(s) barra(s) mais alta(s).\n",
    "\n",
    "(d) O **médio-extremo** (*mid-range*) é a média aritmética entre o maior e o menor valor na amostra. No nosso exemplo portanto,\n",
    "$$\n",
    "\\text{médio-extremo} = \\frac{0+3}{2} = 1.5\\,.\n",
    "$$\n",
    "\n",
    "**Exemplo:**\n",
    "\n",
    "Um estudo da Oxfam de 2021 encontrou que as dez pessoas mais ricas do mundo detinham um espólio (patrimônio) combinado maior que aquele das $ 3.1 $ bilhões de pessoas mais pobres. Entre todos os adultos do mundo, a *média aritmética* da riqueza global era de $ 87\\,489 $ USD; já a *mediana* era menos de um décimo desta cifra: $ 8\\,360 $ USD. Claramente, pela natureza da distribuição da riqueza mundial, a mediana é muito mais apropriada do que a média aritmética como uma medida do patrimônio do adulto \"médio\".\n",
    "\n",
    "📝 De maneira geral, a mediana é mais adequada que a média aritmética como medida de tendência central quando a amostragem é distorcida (alguns valores são *outliers*, ou seja, muito diferentes da média) ou quando o número de elementos na amostra é pequeno. A moda é a medida de tendência central mais adequada quando buscamos o valor ou categoria mais comum."
   ]
  },
  {
   "cell_type": "code",
   "execution_count": 19,
   "id": "1d70b86f",
   "metadata": {},
   "outputs": [],
   "source": [
    "def tendencia_central(ys):\n",
    "    \"\"\"\n",
    "    Dado um array ou lista ys, calcula e retorna (nesta ordem):\n",
    "        * A média aritmética.\n",
    "        * A mediana.\n",
    "        * A moda.\n",
    "        * O médio-extremo.\n",
    "    \"\"\"\n",
    "    # Calculando a média aritmética:\n",
    "    S = 0\n",
    "    M = len(ys) - 1    # O número de medições é M + 1.\n",
    "    for y in ys:\n",
    "        S += y\n",
    "    media_aritmetica = S / (M + 1)\n",
    "    \n",
    "    # Calculando a mediana:\n",
    "    ys.sort()\n",
    "    meio = M // 2\n",
    "    if M % 2 == 0:\n",
    "        mediana = (ys[meio] + ys[meio + 1]) / 2\n",
    "    else:\n",
    "        mediana = ys[meio]\n",
    "    \n",
    "    # Calculando a moda:\n",
    "    freqs = dict()\n",
    "    for y in ys:\n",
    "        freqs[y] = freqs.get(y, 0) + 1\n",
    "    freq_max = list(freqs.values())[0]\n",
    "    moda = set()\n",
    "    for y, freq in freqs.items():\n",
    "        if freq == freq_max:\n",
    "            moda.add(y)\n",
    "        else:\n",
    "            break\n",
    "    if len(moda) == 1:\n",
    "        moda = moda.pop()\n",
    "    \n",
    "    # Calculando o médio-extremo:\n",
    "    medio_extremo = (max(ys) + min(ys)) / 2\n",
    "    \n",
    "    # Imprimindo e retornando o resultado:\n",
    "    print(f\"Média aritmetica: {media_aritmetica}\")\n",
    "    print(f\"Mediana: {mediana}\")\n",
    "    print(f\"Moda: {moda}\")\n",
    "    print(f\"Médio-extremo: {medio_extremo}\")\n",
    "    \n",
    "    return media_aritmetica, mediana, moda, medio_extremo"
   ]
  },
  {
   "cell_type": "code",
   "execution_count": 24,
   "id": "79f68eea",
   "metadata": {
    "scrolled": true
   },
   "outputs": [
    {
     "name": "stdout",
     "output_type": "stream",
     "text": [
      "Média aritmetica: 0.8\n",
      "Mediana: 0\n",
      "Moda: 0\n",
      "Médio-extremo: 1.5\n",
      "0.8\n",
      "0.5\n",
      "ModeResult(mode=array([0]), count=array([10]))\n"
     ]
    }
   ],
   "source": [
    "# Também podemos importar do NumPy e do SciPy:\n",
    "from numpy import mean, median\n",
    "from scipy.stats import mode\n",
    "\n",
    "\n",
    "amostra = [0,1,2,0,0,2,0,1,1,0,0,2,1,0,0,3,0,2,0,1]\n",
    "\n",
    "tendencia_central(amostra)\n",
    "\n",
    "print(mean(amostra))\n",
    "print(median(amostra))\n",
    "print(mode(amostra))"
   ]
  },
  {
   "cell_type": "code",
   "execution_count": 35,
   "id": "1785b062",
   "metadata": {},
   "outputs": [],
   "source": [
    "def plota_pontos(xs, ys):\n",
    "    \"\"\"\n",
    "    Dados arrays ou listas numéricos xs e ys de mesmo comprimento,\n",
    "    plota os pontos (xs[i], ys[i]).\n",
    "    \"\"\"\n",
    "    import matplotlib.pyplot as plt\n",
    "    \n",
    "    plt.plot(xs, ys, 'o')\n",
    "    plt.grid(True)\n",
    "    plt.xlabel('x')\n",
    "    plt.ylabel('y')\n",
    "    plt.show()\n",
    "    \n",
    "    return None"
   ]
  },
  {
   "cell_type": "code",
   "execution_count": 33,
   "id": "a5b88f33",
   "metadata": {},
   "outputs": [],
   "source": [
    "def histograma(ys):\n",
    "    \"\"\"\n",
    "    Dado um array ou lista ys cria e exibe o histograma associado.\n",
    "    \"\"\"\n",
    "    import numpy as np\n",
    "    import matplotlib.pyplot as plt\n",
    "    \n",
    "    ys = np.array(ys)\n",
    "    frequencias, bins = np.histogram(ys)\n",
    "    plt.stairs(frequencias, bins, fill=True)\n",
    "    plt.title(\"Histograma\")\n",
    "    plt.show()\n",
    "    \n",
    "    \n",
    "    return None"
   ]
  },
  {
   "cell_type": "code",
   "execution_count": 36,
   "id": "3da21a9f",
   "metadata": {},
   "outputs": [
    {
     "data": {
      "image/png": "[encoded data removed]",
      "text/plain": [
       "<Figure size 640x480 with 1 Axes>"
      ]
     },
     "metadata": {},
     "output_type": "display_data"
    }
   ],
   "source": [
    "import numpy as np\n",
    "\n",
    "\n",
    "amostra = np.array([0,1,2,0,0,2,0,1,1,0,0,2,1,0,0,3,0,2,0,1])\n",
    "histograma(amostra)"
   ]
  },
  {
   "cell_type": "code",
   "execution_count": null,
   "id": "b4f43f45",
   "metadata": {},
   "outputs": [],
   "source": []
  }
 ],
 "metadata": {
  "kernelspec": {
   "display_name": "Python 3 (ipykernel)",
   "language": "python",
   "name": "python3"
  },
  "language_info": {
   "codemirror_mode": {
    "name": "ipython",
    "version": 3
   },
   "file_extension": ".py",
   "mimetype": "text/x-python",
   "name": "python",
   "nbconvert_exporter": "python",
   "pygments_lexer": "ipython3",
   "version": "3.9.15"
  }
 },
 "nbformat": 4,
 "nbformat_minor": 5
}
