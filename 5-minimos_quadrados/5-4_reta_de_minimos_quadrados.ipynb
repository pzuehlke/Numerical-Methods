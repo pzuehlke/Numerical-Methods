{
 "cells": [
  {
   "attachments": {},
   "cell_type": "markdown",
   "id": "9b5a8692",
   "metadata": {},
   "source": [
    "# A reta de mínimos quadrados"
   ]
  },
  {
   "attachments": {},
   "cell_type": "markdown",
   "id": "479a3ae9",
   "metadata": {},
   "source": [
    "## $ \\S 1 $ Descrição da reta de mínimos quadrados\n",
    "\n",
    "Considere um conjunto de dados $ (x_0, y_0), \\dots, (x_M, y_M) $. Se suspeitamos que possa haver uma relação aproximadamente linear entre as variáveis $ x $ e $ y $ representadas por eles, é natural tentar ajustar um polinômio \n",
    "$$\n",
    "y = f(x) = ax + b\n",
    "$$\n",
    "de grau $ \\le 1 $ aos dados.\n",
    "\n",
    "O **resíduo**\n",
    "$$\n",
    "r_i= y_i - f(x_i) \\qquad (i = 0, 1, \\cdots, M)\n",
    "$$\n",
    "mede a discrepância entre o $ i $-ésimo dado e o valor ajustado correspondente. Seguindo o critério do método dos mínimos quadrados, a função $ f $ deste tipo que melhor se ajusta é aquela que minimiza a soma dos quadrados dos resíduos. Portanto  devemos minimizar\n",
    "$$\n",
    "    S(a,b) = \\sum_{i=0}^M r_i^2 = \\sum_{i=0}^M \\big[y_i - (a x_i + b)\\big]^2\\,.\n",
    "$$\n",
    "\n",
    "Os pontos críticos de $ S $ são os pares $ (a, b) $ tais que:\n",
    "$$\n",
    "\\begin{cases}\n",
    "\\displaystyle{\\frac{\\partial S}{\\partial a}(a, b)} &= \\displaystyle{-2\\sum_{i=0}^M x_i\\,\\big[y_i - (a x_i + b)\\big]} &=& 0 \\\\\n",
    "\\displaystyle{\\frac{\\partial S}{\\partial b}(a, b)} &= \\displaystyle{-2\\sum_{i=0}^M \\big[y_i - (a x_i + b)\\big]} &=& 0\n",
    "\\end{cases}\n",
    "$$\n",
    "ou equivalentemente\n",
    "\\begin{equation*}\\label{E:system}\n",
    "\\boxed{\n",
    "\\begin{cases}\n",
    "\\displaystyle{\\Bigg(\\sum_{i=0}^M x_i^2}\\Bigg)\\,a &+& \\displaystyle{\\Bigg(\\sum_{i=0}^Mx_i\\Bigg)\\,b}  &=& \\displaystyle{\\sum_{i=0}^M x_iy_i} \\\\\n",
    "\\displaystyle{\\Bigg(\\sum_{i=0}^M x_i}\\Bigg)\\,a &+& \\displaystyle{(M+1)\\,b}  &=& \\displaystyle{\\sum_{i=0}^M y_i}\n",
    "\\end{cases}}\\tag{1}\n",
    "\\end{equation*}\n",
    "\n",
    "Provaremos na $ \\S 3 $ que *este sistema tem uma única solução desde que os $ x_i $* não *sejam todos iguais; além disto, a solução $ (\\hat a, \\hat b) $ é de fato o ponto de mínimo global de* $ S $. A reta de equação\n",
    "$$\n",
    "y = \\hat ax + \\hat b \n",
    "$$\n",
    "é chamada de **reta de mínimos quadrados** ou **reta de regressão** associada aos dados.\n",
    "A dispersão deles ao redor desta reta é quantificada pelo **desvio padrão**\n",
    "$ \\sigma $, definido neste contexto por:\n",
    "$$\n",
    "\\boxed{\\sigma = \\sqrt{\\frac{S(\\hat a,\\hat b)}{M - 1}} = \\sqrt{\\frac{\\sum_{i=0}^M \\big[y_i - (\\hat ax_i + \\hat b)\\big]^2}{M - 1}}}\n",
    "$$\n",
    "\n",
    "📝 Ao contrário de $ S(\\hat a, \\hat b) $, o desvio padrão $ \\sigma $ é expresso *na mesma unidade de medida* que a dos $ y_i $. Quanto menor o valor de $ \\sigma $, melhor é a concordância entre os dados e a reta de mínimos quadrados. Apesar de não discutirmos este tópico aqui, ele é importante para a análise estatística dos dados.\n",
    "\n",
    "**Exemplo 1:** Encontre a reta de mínimos quadrados para os dados abaixo:\n",
    "\n",
    "| $ x_i $ | $ y_i $ |\n",
    "|:-------:|:-------:|\n",
    "| $ 1 $   | $ 0 $   |\n",
    "| $ 2 $   | $ 2 $   |\n",
    "| $ 3 $   | $ 2 $   |\n",
    "| $ 4 $   | $ 5 $   |\n",
    "| $ 5 $   | $ 4 $   |\n",
    "\n",
    "**Solução:** Primeiro estendemos a tabela com duas colunas contendo os valores de $ x_i^2 $ e $ x_i y_i $ para cada $ i = 0, \\dots, 4 $, e também uma nova linha em que são computadas as somas correspondentes a cada coluna:\n",
    "\n",
    "| $ x_i $ | $ y_i $ | $ x_i^2 $ | $ x_iy_i $ |\n",
    "|---------|---------|-----------|------------|\n",
    "| $ 1 $   | $ 0 $   | $ 1 $     | $ 0 $      |\n",
    "| $ 2 $   | $ 2 $   | $ 4 $     |  $ 4 $     |\n",
    "| $ 3 $   | $ 2 $   | $ 9 $     | $ 6 $      |\n",
    "| $ 4 $   | $ 5 $   | $ 16 $    | $ 20 $     |\n",
    "| $ 5 $   | $ 4 $   | $ 25 $    | $ 20 $     |\n",
    "|         |         |           |            |\n",
    "| $ \\mathbf{15} $  | $ \\mathbf{13} $  | $ \\mathbf{55} $    | $ \\mathbf{50} $     |\n",
    "\n",
    "\n",
    "Como indicado na última linha da tabela,\n",
    "$$\n",
    "\\sum_{i=0}^{4} x_i = 15\\,,\\quad\n",
    "\\sum_{i=0}^{4} y_i = 13\\,,\\quad\n",
    "\\sum_{i=0}^{4} x_i^2 = 55\\,,\\quad\n",
    "\\sum_{i=0}^{4} x_iy_i = 50\\,.\n",
    "$$\n",
    "Logo neste caso o sistema \\eqref{E:system} é:\n",
    "\\begin{equation*}\n",
    "\\begin{cases}\n",
    "55 a &+& 15 b & & = 50 \\\\\n",
    "15 a &+&  5b & & = 13\n",
    "\\end{cases}\n",
    "\\end{equation*}\n",
    "Agora calcula-se facilmente que a solução é $ \\hat a = \\frac{11}{10} $ e $ \\hat b = \\frac{-7}{10} $ e que o desvio padrão é $ \\sigma = 1.0165 $. (Verifique!)\n",
    "\n",
    "## $ \\S 2 $ Implementação de procedimentos para encontrar e exibir a reta de mínimos quadrados\n",
    "\n",
    "Com ajuda do computador, podemos automatizar a determinação e solução do sistema \\eqref{E:system}.\n",
    "\n",
    "📝 Como nosso foco aqui não é a resolução em si, mas sim o método dos mínimos quadrados, utilizaremos o procedimento `solve` da biblioteca `numpy.linalg` para resolver \\eqref{E:system}."
   ]
  },
  {
   "cell_type": "code",
   "execution_count": 1,
   "id": "498c5fb0",
   "metadata": {},
   "outputs": [],
   "source": [
    "def reta_minimos_quadrados(xs, ys):\n",
    "    \"\"\"\n",
    "    Encontra os coeficientes a e b da reta de mínimos quadrados para\n",
    "    um conjunto de dados (x_i, y_i) e o desvio padrão correspondente.\n",
    "    Entradas:\n",
    "        * Duas listas ou arrays xs e ys de mesmo comprimento,\n",
    "          com pelo menos dois elementos distintos em xs.\n",
    "    Saída:\n",
    "        * Os coeficientes a e b da reta y = a * x + b de mínimos\n",
    "          quadrados.\n",
    "        * O desvio padrão associado.\n",
    "    \"\"\"\n",
    "    import numpy as np\n",
    "    \n",
    "\n",
    "    assert len(xs) == len(ys)\n",
    "    # Verifique se há pelo menos dois x_i distintos:\n",
    "    assert len(set(xs)) > 1\n",
    "        \n",
    "    M = len(xs) - 1\n",
    "    xs = np.array(xs)\n",
    "    ys = np.array(ys)\n",
    "    xs_xs = xs * xs\n",
    "    xs_ys = xs * ys\n",
    "    \n",
    "    # Monte a matriz A dos coeficientes e vetor c do lado direito:\n",
    "    A = np.zeros((2, 2))\n",
    "    c = np.zeros(2)\n",
    "    A[0][0] = np.sum(xs_xs)\n",
    "    A[0][1] = A[1][0] = sum(xs)\n",
    "    A[1][1] = M + 1\n",
    "    c[0] = np.sum(xs_ys)\n",
    "    c[1] = np.sum(ys)\n",
    "    \n",
    "    solucao = np.linalg.solve(A, c)\n",
    "    a = solucao[0]\n",
    "    b = solucao[1]\n",
    "    \n",
    "    # Calcule o desvio padrão:\n",
    "    sigma = 0\n",
    "    for i in range(M + 1):\n",
    "        sigma += (ys[i] - (a * xs[i] + b))**2\n",
    "    sigma = np.sqrt(sigma / (M - 1))\n",
    "    \n",
    "    return a, b, sigma"
   ]
  },
  {
   "cell_type": "code",
   "execution_count": 2,
   "id": "aa5acf2a",
   "metadata": {},
   "outputs": [],
   "source": [
    "def exibe_pontos_e_reta(xs, ys, a, b):\n",
    "    \"\"\"\n",
    "    Exibe um conjunto de pontos (x_i, y_i) e a reta de eq. y = a * x + b.\n",
    "    Entradas:\n",
    "        * Duas listas xs e ys de mesmo comprimento.\n",
    "        * Dois números a e b.\n",
    "    Saída: nenhuma.\n",
    "    \"\"\"\n",
    "    import matplotlib.pyplot as plt\n",
    "    import numpy as np\n",
    "    \n",
    "    \n",
    "    assert len(xs) == len(ys)\n",
    "    x_min = min(xs)\n",
    "    x_max = max(xs)\n",
    "    # Para o gráfico não ficar apertado, introduzimos uma \"folga\":\n",
    "    folga = (x_max - x_min) / 10\n",
    "    xs_reta = np.linspace(x_min - folga, x_max + folga, num=201)\n",
    "    ys_reta = np.array([a * x + b for x in xs_reta]) \n",
    "    \n",
    "    plt.plot(xs, ys, 'o')\n",
    "    plt.plot(xs_reta, ys_reta, '-')\n",
    "    plt.grid(True)\n",
    "    plt.xlabel('x')\n",
    "    plt.ylabel('y')\n",
    "    plt.legend((\"Dados\", \"Reta de mínimos quadrados\"), loc=0)\n",
    "    plt.show()\n",
    "    \n",
    "    return None"
   ]
  },
  {
   "attachments": {},
   "cell_type": "markdown",
   "id": "7b4b667f",
   "metadata": {},
   "source": [
    "**Exemplo 1 (continuação):** Voltando ao exemplo 1, podemos verificar nossa solução obtida \"à mão\" usando a implementação acima, além de exibir os dados e a reta de mínimos quadrados."
   ]
  },
  {
   "cell_type": "code",
   "execution_count": 12,
   "id": "3012d9e1",
   "metadata": {},
   "outputs": [
    {
     "name": "stdout",
     "output_type": "stream",
     "text": [
      "A reta de mínimos quadrados é descrita pela equação y = 1.3214 x + 2.0714 .\n",
      "O desvio padrão associado é 0.6075 .\n"
     ]
    },
    {
     "data": {
      "image/png": "[encoded data removed]",
      "text/plain": [
       "<Figure size 432x288 with 1 Axes>"
      ]
     },
     "metadata": {
      "needs_background": "light"
     },
     "output_type": "display_data"
    },
    {
     "name": "stdout",
     "output_type": "stream",
     "text": [
      "1.3214285714285714 2.0714285714285716\n"
     ]
    },
    {
     "data": {
      "image/png": "[encoded data removed]",
      "text/plain": [
       "<Figure size 432x288 with 1 Axes>"
      ]
     },
     "metadata": {
      "needs_background": "light"
     },
     "output_type": "display_data"
    }
   ],
   "source": [
    "import matplotlib.pyplot as plt\n",
    "import numpy as np\n",
    "\n",
    "xs = [7, 3, 10, 5, 5]\n",
    "ys = [12, 6, 15, 9, 8]\n",
    "a, b, sigma = reta_minimos_quadrados(xs, ys)\n",
    "a = round(a, 4)\n",
    "b = round(b, 4)\n",
    "sigma = round(sigma, 4)\n",
    "print(f\"A reta de mínimos quadrados é descrita pela equação y = {a} x + {b} .\")\n",
    "print(f\"O desvio padrão associado é {sigma} .\")\n",
    "exibe_pontos_e_reta(xs, ys, a, b)\n",
    "print(37 / 28, 29 / 14)\n",
    "\n",
    "xs = np.linspace(-4, 16, 201)\n",
    "f = lambda x: 29 / 14 + 37 / 28 * x\n",
    "ys = f(xs)\n",
    "plt.plot(xs, ys)\n",
    "plt.grid(True)\n",
    "plt.show()\n",
    "\n",
    "\n"
   ]
  },
  {
   "cell_type": "code",
   "execution_count": 21,
   "id": "d76c8765",
   "metadata": {},
   "outputs": [
    {
     "name": "stdout",
     "output_type": "stream",
     "text": [
      "1 78\n",
      "2 78\n",
      "3 58\n",
      "4 18\n"
     ]
    }
   ],
   "source": [
    "f = lambda t: -10 * t**2 + 30 * t + 58\n",
    "for i in range(1, 5):\n",
    "    print(i, f(i))"
   ]
  },
  {
   "cell_type": "code",
   "execution_count": 16,
   "id": "78af3b8b",
   "metadata": {},
   "outputs": [
    {
     "name": "stdout",
     "output_type": "stream",
     "text": [
      "A reta de mínimos quadrados é descrita pela equação y = 1.1 x + -0.7 .\n",
      "O desvio padrão associado é 1.0165 .\n"
     ]
    },
    {
     "data": {
      "image/png": "[encoded data removed]",
      "text/plain": [
       "<Figure size 640x480 with 1 Axes>"
      ]
     },
     "metadata": {},
     "output_type": "display_data"
    }
   ],
   "source": [
    "xs = [1, 2, 3, 4, 5]\n",
    "ys = [0, 2, 2, 5, 4]\n",
    "a, b, sigma = reta_minimos_quadrados(xs, ys)\n",
    "a = round(a, 4)\n",
    "b = round(b, 4)\n",
    "sigma = round(sigma, 4)\n",
    "print(f\"A reta de mínimos quadrados é descrita pela equação y = {a} x + {b} .\")\n",
    "print(f\"O desvio padrão associado é {sigma} .\")\n",
    "exibe_pontos_e_reta(xs, ys, a, b)"
   ]
  },
  {
   "attachments": {},
   "cell_type": "markdown",
   "id": "007ac6de",
   "metadata": {},
   "source": [
    "## $ \\S 3 $ Existência e unicidade da reta de mínimos quadrados\n",
    "\n",
    "**Teorema 3.1:** *Dados $ (x_0,y_0)\\,,\\,(x_1,y_1)\\,,\\cdots,\\,(x_M,y_M)\\, $, existe uma única reta de mínimos quadrados adaptada a estes pontos desde que existam $ i $ e $ j $ com $ x_i \\ne x_j $.*\n",
    "\n",
    "**Prova:** Considere o sistema que define a reta de mínimos quadrados:\n",
    "\\begin{equation*}\\label{E:system2}\n",
    "\\begin{cases}\n",
    "\\displaystyle{\\Bigg(\\sum_{i=0}^M x_i^2}\\Bigg)\\,a &+& \\displaystyle{\\Bigg(\\sum_{i=0}^Mx_i\\Bigg)\\,b}  &=& \\displaystyle{\\sum_{i=0}^M x_iy_i} \\\\\n",
    "\\displaystyle{\\Bigg(\\sum_{i=0}^M x_i}\\Bigg)\\,a &+& \\displaystyle{(M+1)\\,b}  &=& \\displaystyle{\\sum_{i=0}^M y_i}\n",
    "\\end{cases} \\tag{2}\n",
    "\\end{equation*}\n",
    "\n",
    "Sejam $ \\mathbf C $ a matriz dos coeficientes deste sistema, $ \\mathbf x = (x_0,x_1,\\cdots,x_M) $ e $ \\mathbf u = (1,1,\\cdots,1) \\in \\mathbb R^{M+1} $. Então\n",
    "$$\n",
    "\\det(\\mathbf C) = (M+1) \\sum_{i=0}^{M} x_i^2 - \\Bigg( \\sum_{i=0}^M x_i \\Bigg)^2 = \\left\\Vert \\mathbf u \\right \\Vert^2\\left\\Vert \\mathbf x \\right \\Vert^2 - (\\mathbf u \\cdot \\mathbf x)^2\\,,\n",
    "$$\n",
    "onde $ \\Vert{\\cdot}\\Vert $ denota a norma euclidiana em $ \\mathbb R^{M+1} $. Pela desigualdade de Cauchy-Schwarz,\n",
    "$$\n",
    "(\\mathbf u \\cdot \\mathbf x)^2 \\le \\left\\Vert \\mathbf u \\right \\Vert^2\\left\\Vert \\mathbf x \\right \\Vert^2 ,\n",
    "$$\n",
    "com igualdade se e somente se $ \\mathbf x $ é um múltiplo de $ \\mathbf u $, ou seja, se e somente se todos os $ x_i $ são iguais. Como esta possibilidade foi excluída por hipótese, concluímos que $ \\det(\\mathbf C) > 0 $. Logo o sistema \\eqref{E:system2} tem uma solução e esta solução é única. Isto significa que a função $ S $ tem exatamente um ponto crítico. Este é de fato o mínimo global de $ S $ em $ \\mathbb R^2 $ porque\n",
    "\\begin{equation*}\\label{E:limit}\n",
    "\\lim_{\\Vert{(a,b)}\\Vert \\to \\infty} S(a,b) = +\\infty\\,. \\tag{3}\n",
    "\\end{equation*}\n",
    "\n",
    "⚡ **Problema 1:** A validade de \\eqref{E:limit} foi afirmada mas não justificada. O objetivo deste problema é mostrar que o único ponto crítico de $ S $ é de fato o mínimo global. (Mais tarde daremos outra demonstração, completamente diferente.)\n",
    "\n",
    "(a) Verifique que a Hessiana de $ S $ é dada por\n",
    "$$\n",
    "\\textrm{hess}\\,S = \n",
    "\\begin{bmatrix}\n",
    "\\displaystyle{\\frac{\\partial^2 S}{\\partial a^2}} & \\displaystyle{\\frac{\\partial^2 S}{\\partial b \\partial a}} \\\\\n",
    "\\displaystyle{\\frac{\\partial^2 S}{\\partial a \\partial b}} & \\displaystyle{\\frac{\\partial^2 S}{\\partial b^2}}\n",
    "\\end{bmatrix}\n",
    "=2\n",
    "\\begin{bmatrix}\n",
    "\\displaystyle{\\sum_{i=0}^{M} x_i^2} & \\displaystyle{\\sum_{i=0}^{M} x_i} \\\\\n",
    "\\displaystyle{\\sum_{i=0}^{M} x_i} & \\displaystyle{(M+1)}\n",
    "\\end{bmatrix}\\ .\n",
    "$$\n",
    "\n",
    "(b) Usando os vetores $ \\mathbf x,\\, \\mathbf u \\in \\mathbb R^{M+1} $ introduzidos na demonstração, mostre que seu determinante vale\n",
    "$$\n",
    "\\big\\vert\\textrm{hess}\\,S\\big\\vert = 4\\,\\left\\Vert \\mathbf u \\right \\Vert^2 \\left\\Vert \\mathbf x \\right \\Vert^2 - 4\\,(\\mathbf x \\cdot \\mathbf u)^2 > 0\n",
    "$$\n",
    "e que $ \\frac{\\partial^2 S}{\\partial a^2} > 0 $ para qualquer ponto $ (a, b) $.\n",
    "\n",
    "(c) Conclua pelo teste da segunda derivada que o único ponto crítico $ (\\hat a, \\hat b) $ de $ S $ é um ponto de *mínimo local*. Contudo, isto ainda não implica por si só que este ponto seja de mínimo *global*.\n",
    "\n",
    "(d) Mostre que restringindo-se o domínio de $ S $ à reta pela origem de equação $ b = \\lambda a $ ($ \\lambda $ constante), obtemos uma função quadrática $ S_\\lambda(a) $ da forma:\n",
    "$$\n",
    "S_\\lambda(a) = \\alpha\\, a^2 + \\beta\\, a + \\gamma\n",
    "$$\n",
    "onde as constantes dependem de $ \\lambda $, mas sempre vale $ \\alpha > 0 $. Ou seja, seus gráficos são parábolas com concavidade para cima.\n",
    "\n",
    "(e) Como $ (\\hat a, \\hat b) $ é mínimo local de $ S $, $ \\hat a $ é mínimo local de cada $ S_\\lambda $. Logo ele corresponde ao vértice de cada parábola, e na verdade é o mínimo global comum a todas as restrições. Analogamente para a restrição de $ S $ à reta de equação $ a = 0 $ como função de $ b $. Portanto $ (\\hat a, \\hat b) $ é mínimo global de $ S $."
   ]
  },
  {
   "attachments": {},
   "cell_type": "markdown",
   "id": "50525cdd",
   "metadata": {},
   "source": [
    "## $ \\S 4 $ O coeficiente de correlação de Pearson\n",
    "\n",
    "O __coeficiente de correlação de Pearson__ (universalmente denotado por $ r $)\n",
    "quantifica a existência e a intensidade da correlação _linear_ entre duas\n",
    "variáveis $ x $ e $ y $. Ele é sempre um número entre $ -1 $ e $ 1 $.\n",
    "* Se $ y $ é uma função linear de $ x $, digamos $ y = ax + b $, então $ r = \\pm 1 $\n",
    "  de acordo com o sinal de $ a $. Em outras palavras, uma correlação linear perfeita\n",
    "  corresponde a $ r = \\pm 1 $: se uma variável aumenta, a outra aumenta ou diminui\n",
    "  numa proporção fixa.\n",
    "* Se $ y $ e $ x $ são completamente independentes (intuitivamente, ortogonais),\n",
    "  então $ r = 0 $.\n",
    "\n",
    "__Exemplo:__ Se $ c_i $ e $ p_i $ representam as alturas de pessoas numa determinada\n",
    "população, medidas em centímetros e em polegadas, respectivamente, então $ r = 1\n",
    "$. Se $ x_i $ representa a precipitação pluvial em Tóquio no $ i $-ésimo dia do\n",
    "ano e $ y_i $ o número de carros usados vendidos no Brasil no mesmo dia, então é\n",
    "de se esperar que $ r $ esteja muito próximo de $ 0 $.\n",
    "\n",
    "O coeficiente $ r $ está intimamente relacionado à reta de mínimos quadrados.\n",
    "Mais precisamente, se traçarmos um gráfico de dispersão dos pontos de dados e\n",
    "ajustarmos a reta de mínimos quadrados, o coeficiente de correlação de Pearson\n",
    "mede quão bem ela se ajusta aos dados. De maneira resumida, se $ \\vert r \\vert $\n",
    "está próximo de $ 1 $ (resp. $ 0 $), isto indica um bom (resp. mal) ajuste.\n",
    "\n",
    "⚠️ Dados pontos $ (x_i, y_i) $, o coeficiente de correlação de Pearson\n",
    "correspondente não deve ser confundido com a _inclinação_ da reta de mínimos\n",
    "quadrados associada a eles.\n",
    "\n",
    "![Coeficiente de correlação de Pearson 1.0](fig_5-4_exemplo_1.png)\n",
    "![Coeficiente de correlação de Pearson 0.4](fig_5-4_exemplo_2.png)\n",
    "![Coeficiente de correlação de Pearson 0.0](fig_5-4_exemplo_3.png)\n",
    "![Coeficiente de correlação de Pearson -0.9](fig_5-4_exemplo_4.png)\n",
    "\n",
    "__Algoritmo:__ Para calcular o coeficiente de correlação de Pearson:\n",
    "\n",
    "1. Calcule a média aritmética dos valores de $ x $ e $ y $:\n",
    "   $$ \\bar{x} = \\frac{1}{M + 1} \\sum_{i=0}^{M} x_i \\quad \\text{e} \\quad\n",
    "   \\bar{y} = \\frac{1}{M + 1} \\sum_{i=0}^{M} y_i \\,. $$\n",
    "2. Subtraia a média de cada elemento para centralizar os dados, i .e., defina\n",
    "   $ x'_i = x_i - \\bar{x} $ e $ y'_i = y_i - \\bar{y} $ para cada $ i $. Em\n",
    "   seguida monte os vetores $ \\mathbf x' = (x_i') $ e $ \\mathbf y' = (y_i') $ em\n",
    "   $ \\mathbb R^{M + 1} $ correspondentes.\n",
    "3. Normalize estes últimos vetores (i.e., divida cada um pela respectiva norma\n",
    "   euclidiana) para obter vetores unitários $ \\mathbf u $ e $ \\mathbf v $.\n",
    "4. O coeficiente de correlação de Pearson é dado por\n",
    "   $ r = \\mathbf u \\cdot \\mathbf v $, o produto interno de $ \\mathbf u $ e\n",
    "   $ \\mathbf v $ (ou, equivalentemente, pelo cosseno do ângulo entre eles).\n",
    "\n",
    "__Exemplo:__ Suponha que você seja um investidor interessado em quantificar a\n",
    "correlação entre o preço de uma ação e o tamanho dos dividendos pagos pela\n",
    "empresa.  Você coleta dados do preço da ação ($ x $) e o dividendo anual pago\n",
    "por ação ($ y $) ao longo de um período. Usando o coeficiente de correlação de\n",
    "Pearson, você pode descobrir se há uma relação linear forte entre ambas\n",
    "quantidades."
   ]
  },
  {
   "cell_type": "code",
   "execution_count": 1,
   "id": "a34142ea",
   "metadata": {},
   "outputs": [],
   "source": [
    "import numpy as np\n",
    "\n",
    "\n",
    "def pearson_coefficient(xs: list[float], ys: list[float]) -> float:\n",
    "    \"\"\"\n",
    "    Calculates the Pearson coefficient between two sets of data.\n",
    "    Parameters:\n",
    "        * xs, ys: Two lists of numbers of equal length representing the\n",
    "                  data sets.\n",
    "    Returns:\n",
    "        * r: The Pearson coefficient between the data sets xs and ys.\n",
    "    An error is raised if the lists have different lengths.\n",
    "    \"\"\"\n",
    "    if len(xs) != len(ys):\n",
    "        raise ValueError(\"The lists xs and ys must have the same length.\")\n",
    "\n",
    "    xs, ys = np.array(xs), np.array(ys)\n",
    "    mean_xs, mean_ys = np.mean(xs), np.mean(ys)    # Arithmetic means.\n",
    "    diff_xs, diff_ys = xs - mean_xs, ys - mean_ys\n",
    "    r = np.sum(diff_xs * diff_ys) / np.sqrt(np.sum(diff_xs**2) * np.sum(diff_ys**2))\n",
    "\n",
    "    return r"
   ]
  },
  {
   "attachments": {},
   "cell_type": "markdown",
   "id": "6eef8886",
   "metadata": {},
   "source": [
    "## $ \\S 5 $ Problemas\n",
    "\n",
    "**Problema 2:** Usando o método dos mínimos quadrados, adapte uma reta aos dados tabelados abaixo:\n",
    "\n",
    "| $ x_i $ | $ y_i $ |\n",
    "|:-------:|:-------:|\n",
    "| $ -3 $  | $ 3 $  |\n",
    "| $ -2 $  |  $ 2 $  |\n",
    "| $ -1 $  | $ 2 $   |\n",
    "| $ 0 $   |  $ 1 $  |\n",
    "| $ 1 $   |  $ 0 $  |\n",
    "| $ 2 $   |  $ 0 $  |\n",
    "| $ 3 $   |  $ -1 $  |\n",
    "\n",
    "(a) Sem usar o computador. *Dica:* Utilize a mesma estratégia que no Exemplo 1; comece estendendo a tabela.\n",
    "\n",
    "(b) Usando o computador. Calcule também o desvio padrão e o coeficiente de correlação de Pearson."
   ]
  },
  {
   "attachments": {},
   "cell_type": "markdown",
   "id": "d1e941df",
   "metadata": {},
   "source": [
    "*Solução:*"
   ]
  },
  {
   "cell_type": "code",
   "execution_count": null,
   "id": "bdc4e6a6",
   "metadata": {},
   "outputs": [],
   "source": []
  },
  {
   "attachments": {},
   "cell_type": "markdown",
   "id": "fa058082",
   "metadata": {},
   "source": [
    "__Problema 3:__ Repita o problema anterior para os dados seguintes:\n",
    "\n",
    "| $ x_i $ | $ y_i $ |\n",
    "|:-------:|:-------:|\n",
    "| $ 1 $  | $ 0 $  |\n",
    "| $ 2 $  | $ 1 $  |\n",
    "| $ 3 $  | $ 4 $   |\n",
    "| $ 4 $   |  $ 9 $  |\n",
    "| $ 5 $   |  $ 16 $  |\n",
    "| $ 6 $   |  $ 25 $  |"
   ]
  },
  {
   "attachments": {},
   "cell_type": "markdown",
   "id": "55063bd6",
   "metadata": {},
   "source": [
    "*Solução:*"
   ]
  },
  {
   "cell_type": "code",
   "execution_count": null,
   "id": "074135ad",
   "metadata": {},
   "outputs": [],
   "source": []
  },
  {
   "attachments": {},
   "cell_type": "markdown",
   "id": "78d38db6",
   "metadata": {},
   "source": [
    "**Problema 4:** Ajuste uma reta aos dados abaixo e calcule o desvio padrão:\n",
    "\n",
    "| $ x_i $ | $ y_i $ |\n",
    "|:-------:|:-------:|\n",
    "| $ 2.5 $  | $ 1.7 $  |\n",
    "| $ 1.7 $  | $ 1.4 $  |\n",
    "| $ 3.2 $  | $ 2.5 $  |\n",
    "| $ 0.7 $  | $ 0.6 $  |\n",
    "| $ 0.3 $  | $ 0.1 $  |"
   ]
  },
  {
   "attachments": {},
   "cell_type": "markdown",
   "id": "21197da5",
   "metadata": {},
   "source": [
    "*Solução:*"
   ]
  },
  {
   "cell_type": "code",
   "execution_count": null,
   "id": "9718832d",
   "metadata": {},
   "outputs": [],
   "source": []
  },
  {
   "attachments": {},
   "cell_type": "markdown",
   "id": "01385fc4",
   "metadata": {},
   "source": [
    "**Problema 5:** A tabela seguinte contém a altura e peso de vinte indivíduos.\n",
    "\n",
    "| altura (em polegadas) | peso (em libras) |\n",
    "|:---------------------:|:----------------:|\n",
    "| $ 67.0 $              | $ 175.9 $        |\n",
    "| $ 63.4 $              | $ 156.3 $        |\n",
    "| $ 71.1 $              | $ 186.6 $        |\n",
    "| $ 71.6 $              | $ 213.7 $        |\n",
    "| $ 64.7 $              | $ 167.1 $        |\n",
    "| $ 69.2 $              | $ 189.4 $        |\n",
    "| $ 69.2 $              | $ 186.4 $        |\n",
    "| $ 67.6 $              | $ 172.1 $        |\n",
    "| $ 72.4 $              | $ 196.0 $        |\n",
    "| $ 63.9 $              | $ 172.8 $        |\n",
    "| $ 69.6 $              | $ 185.9 $        |\n",
    "| $ 67.9 $              | $ 182.4 $        |\n",
    "| $ 67.9 $              | $ 174.1 $        |\n",
    "| $ 69.4 $              | $ 197.7 $        |\n",
    "| $ 66.1 $              | $ 149.1 $        |\n",
    "| $ 75.2 $              | $ 228.7 $        |\n",
    "| $ 67.8 $              | $ 162.0 $        |\n",
    "| $ 68.1 $              | $ 192.3 $        |\n",
    "| $ 69.0 $              | $ 184.4 $        |\n",
    "| $ 72.8 $              | $ 206.8 $        |\n",
    "\n",
    "(a) Plote os pontos $ (h_i, p_i) $ onde $ h_i $ é a altura e $ p_i $ o peso do $ i $-ésimo indivíduo.\n",
    "\n",
    "(b) Encontre a função da forma $ \\text{peso} = a \\cdot \\text{altura} + b $ que melhor se ajusta a estes dados, e exiba seu gráfico juntamente com os dados.\n",
    "\n",
    "(c) Determine o desvio padrão em kg ($ 1 $ libra equivale a aproximadamente $ 0.4536 $ kg).\n",
    "\n",
    "(d) Estime o peso em kg de uma pessoa de altura igual a $ 71.3 $ polegadas.\n",
    "\n",
    "(e) Estime a altura em metros de uma pessoa que pesa $ 158.3 $ libras.\n",
    "\n",
    "(f) Calcule o coeficiente de correlação $ r $ entre a altura e o peso nesta amostra."
   ]
  },
  {
   "attachments": {},
   "cell_type": "markdown",
   "id": "34cdaeaa",
   "metadata": {},
   "source": [
    "*Solução:*"
   ]
  },
  {
   "cell_type": "code",
   "execution_count": 16,
   "id": "24ddd494",
   "metadata": {},
   "outputs": [],
   "source": [
    "alturas = [67.0, 63.4, 71.1, 71.6, 64.7,\n",
    "           69.3, 69.2, 67.6, 72.4, 63.9,\n",
    "           69.6, 67.9, 67.9, 69.4, 66.1,\n",
    "           75.2, 67.8, 68.1, 69.0, 72.8]\n",
    "\n",
    "pesos = [175.9, 156.3, 186.6, 213.7, 167.1,\n",
    "         189.4, 186.4, 172.1, 196.0, 172.8,\n",
    "         185.9, 182.4, 174.1, 197.7, 149.1,\n",
    "         228.7, 162.0, 192.3, 184.4, 206.8]"
   ]
  },
  {
   "attachments": {},
   "cell_type": "markdown",
   "id": "97e7464a",
   "metadata": {},
   "source": [
    "**Problema 6:** A tabela seguinte fornece a população aproximada da Alemanha no período de $ 1816 $ a $ 1939 $.\n",
    "\n",
    "| anos | habitantes (mi.) |\n",
    "|:---:|:----------------------:|\n",
    "| $ 1816 $ | $ 22.38 $ |\n",
    "| $ 1828 $ | $ 26.65 $ |\n",
    "| $ 1834 $ | $ 28.24 $ |\n",
    "| $ 1840 $ | $ 30.38 $ |\n",
    "| $ 1852 $ | $ 33.41 $ |\n",
    "| $ 1861 $ | $ 35.57 $ |\n",
    "| $ 1864 $ | $ 37.80 $ |\n",
    "| $ 1871 $ | $ 41.06 $ |\n",
    "| $ 1880 $ | $ 45.23 $ |\n",
    "| $ 1890 $ | $ 49.43 $ |\n",
    "| $ 1900 $ | $ 56.37 $ |\n",
    "| $ 1910 $ | $ 64.93 $ |\n",
    "| $ 1925 $ | $ 63.18 $ |\n",
    "| $ 1933 $ | $ 66.03 $ |\n",
    "| $ 1939 $ | $ 69.46 $ |\n",
    "\n",
    "(a) Plote o par (ano, população) para cada linha fornecida.\n",
    "\n",
    "(b) Verifique que parece existir uma relação aproximadamente linear entre o ano e a população. Encontre $ a $ e $ b $ de modo que a função:\n",
    "$$\n",
    "\\text{população}  = a \\,\\text{ano} + b\n",
    "$$\n",
    "se ajuste aos dados da melhor maneira possível e determine o desvio padrão associado.\n",
    "\n",
    "(c) Estime a população da Alemanha no ano de $ 1800 $ a partir dos dados.\n",
    "\n",
    "(d) Encontre o ano e mês em que a população da Alemanha superou $ 60 $ milhões de habitantes."
   ]
  },
  {
   "attachments": {},
   "cell_type": "markdown",
   "id": "ad41ae8d",
   "metadata": {},
   "source": [
    "*Solução:*"
   ]
  },
  {
   "cell_type": "code",
   "execution_count": 3,
   "id": "f9919173",
   "metadata": {},
   "outputs": [],
   "source": [
    "anos = [1816, 1828, 1834, 1840, 1852,\n",
    "        1861, 1864, 1871, 1880, 1890,\n",
    "        1900, 1910, 1925, 1933, 1939]\n",
    "\n",
    "populacao = [22.38, 26.65, 28.24, 30.38, 33.41,\n",
    "             35.57, 37.80, 41.06, 45.23, 49.43,\n",
    "             56.37, 64.93, 63.18, 66.03, 69.46]"
   ]
  },
  {
   "attachments": {},
   "cell_type": "markdown",
   "id": "a98fc527",
   "metadata": {},
   "source": [
    "**Problema 7:** A tabela abaixo indica a concentração de gás carbônico ($\\textrm{CO}_2 $) em partes por milhão na atmosfera da Terra num período de 21 anos ([fonte](https://www.co2levels.org/)).\n",
    "\n",
    "| Ano (2002 a 2022) | $\\textrm{CO}_2$ (em PPM) |\n",
    "|:-----------------:|:---------------:|\n",
    "|      $ 2002 $     |    $ 375.66 $   |\n",
    "|      $ 2003 $     |    $ 378.29 $   |\n",
    "|      $ 2004 $     |    $ 381.04 $   |\n",
    "|      $ 2005 $     |    $ 382.58 $   |\n",
    "|      $ 2006 $     |    $ 384.62 $   |\n",
    "|      $ 2007 $     |    $ 386.98 $   |\n",
    "|      $ 2008 $     |    $ 388.48 $   |\n",
    "|      $ 2009 $     |    $ 390.46 $   |\n",
    "|      $ 2010 $     |    $ 393.02 $   |\n",
    "|      $ 2011 $     |    $ 395.12 $   |\n",
    "|      $ 2012 $     |    $ 397.28 $   |\n",
    "|      $ 2013 $     |    $ 400.22 $   |\n",
    "|      $ 2014 $     |    $ 402.13 $   |\n",
    "|      $ 2015 $     |    $ 404.31 $   |\n",
    "|      $ 2016 $     |    $ 408.56 $   |\n",
    "|      $ 2017 $     |    $ 410.03 $   |\n",
    "|      $ 2018 $     |    $ 412.45 $   |\n",
    "|      $ 2019 $     |    $ 414.28 $   |\n",
    "|      $ 2020 $     |    $ 417.69 $   |\n",
    "|      $ 2021 $     |    $ 419.90 $   |\n",
    "|      $ 2022 $     |    $ 421.45 $   |\n",
    "\n",
    "(a) Encontre as constantes $ a,\\,b \\in \\mathbb R $ de modo que a equação\n",
    "$$\n",
    "\\text{concentração de $ \\text{CO}_2 $} = a\\, \\text{ano} + b\n",
    "$$\n",
    "se ajuste o melhor possível aos dados.\n",
    "\n",
    "(b) Estime o aumento anual na concentração de gás carbônico.\n",
    "\n",
    "(c) Preveja a concentração atmosférica de $\\text{CO}_2$ no ano de $ 2030 $.\n",
    "\n",
    "(d) Calcule o coeficiente de correlação $ r $ de Pearson."
   ]
  },
  {
   "attachments": {},
   "cell_type": "markdown",
   "id": "fcaac6f6",
   "metadata": {},
   "source": [
    "*Solução:*"
   ]
  },
  {
   "cell_type": "code",
   "execution_count": 19,
   "id": "9117f6da",
   "metadata": {},
   "outputs": [],
   "source": [
    "anos = range(2002, 2023)\n",
    "concentracoes = [375.66, 378.29, 381.04, 382.58, 384.62, \n",
    "                 386.98, 388.48, 390.46, 393.02, 395.12,\n",
    "                 397.28, 400.22, 402.13, 404.31, 408.56,\n",
    "                 410.03, 412.45, 414.28, 417.69, 419.90,\n",
    "                 421.45]"
   ]
  }
 ],
 "metadata": {
  "kernelspec": {
   "display_name": "Python 3 (ipykernel)",
   "language": "python",
   "name": "python3"
  },
  "language_info": {
   "codemirror_mode": {
    "name": "ipython",
    "version": 3
   },
   "file_extension": ".py",
   "mimetype": "text/x-python",
   "name": "python",
   "nbconvert_exporter": "python",
   "pygments_lexer": "ipython3",
   "version": "3.10.6"
  }
 },
 "nbformat": 4,
 "nbformat_minor": 5
}
