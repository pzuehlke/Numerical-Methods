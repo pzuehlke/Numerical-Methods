{
 "cells": [
  {
   "cell_type": "markdown",
   "id": "9b5a8692",
   "metadata": {},
   "source": [
    "$ \\newcommand{\\mbf}{\\mathbf} $\n",
    "$ \\newcommand{\\abs}[1]{\\left\\vert#1\\right\\vert} $\n",
    "$ \\newcommand{\\se}[1]{\\,\\left\\{#1\\right\\}\\,} $\n",
    "$ \\newcommand{\\norm}[1]{\\left\\Vert#1\\right\\Vert} $\n",
    "$ \\DeclareMathOperator{\\hess}{hess} $\n",
    "\n",
    "# A reta de mínimos quadrados"
   ]
  },
  {
   "cell_type": "markdown",
   "id": "479a3ae9",
   "metadata": {},
   "source": [
    "## $ \\S 1 $ Descrição da reta de mínimos quadrados\n",
    "\n",
    "Considere um conjunto de dados $ (x_0, y_0), \\dots, (x_M, y_M) $. Se suspeitamos que possa haver uma relação aproximadamente linear entre as variáveis $ y $ e $ x $ representadas por eles, é natural tentar ajustar um polinômio \n",
    "$$\n",
    "y = f(x) = ax + b\n",
    "$$\n",
    "de grau $ \\le 1 $ a eles.\n",
    "\n",
    "O **resíduo**\n",
    "$$\n",
    "r_i= y_i - f(x_i) \\qquad (i = 0, 1, \\cdots, M)\n",
    "$$\n",
    "mede a discrepância entre o $ i $-ésimo dado e o valor ajustado correspondente. Seguindo o critério do método dos mínimos quadrados, a função $ f $ deste tipo que melhor se ajusta é aquela que minimiza a soma dos quadrados dos resíduos. Portanto  devemos minimizar\n",
    "$$\n",
    "    S(a,b) = \\sum_{i=0}^M r_i^2 = \\sum_{i=0}^M \\big[y_i - (a x_i + b)\\big]^2\\,.\n",
    "$$\n",
    "\n",
    "Os pontos críticos de $ S $ são os pares $ (a, b) $ tais que:\n",
    "$$\n",
    "\\begin{cases}\n",
    "\\displaystyle{\\frac{\\partial S}{\\partial a}(a, b)} &= \\displaystyle{-2\\sum_{i=0}^M x_i\\,\\big[y_i - (a x_i + b)\\big]} &=& 0 \\\\\n",
    "\\displaystyle{\\frac{\\partial S}{\\partial b}(a, b)} &= \\displaystyle{-2\\sum_{i=0}^M \\big[y_i - (a x_i + b)\\big]} &=& 0\n",
    "\\end{cases}\n",
    "$$\n",
    "ou equivalentemente\n",
    "\\begin{equation*}\\label{E:system}\n",
    "\\boxed{\n",
    "\\begin{cases}\n",
    "\\displaystyle{\\Bigg(\\sum_{i=0}^M x_i^2}\\Bigg)\\,a &+& \\displaystyle{\\Bigg(\\sum_{i=0}^Mx_i\\Bigg)\\,b}  &=& \\displaystyle{\\sum_{i=0}^M x_iy_i} \\\\\n",
    "\\displaystyle{\\Bigg(\\sum_{i=0}^M x_i}\\Bigg)\\,a &+& \\displaystyle{(M+1)\\,b}  &=& \\displaystyle{\\sum_{i=0}^M y_i}\n",
    "\\end{cases}} \\tag{1}\n",
    "\\end{equation*}\n",
    "\n",
    "Provaremos na $ \\S 3 $ que *este sistema tem uma única solução desde que os $ x_i $* não *sejam todos iguais; além disto, a solução $ (\\hat a, \\hat b) $ é de fato o mínimo global de* $ S $. A reta de equação $ y = \\hat ax + \\hat b $ é chamada de **reta de mínimos quadrados** associada aos dados.\n",
    "\n",
    "📝 É padrão denotar os coeficientes da reta dos mínimos quadrados por $ \\hat a $ e $ \\hat b $ ou por $ \\hat \\alpha $ e $ \\hat \\beta $.\n",
    "\n",
    "**Exemplo 1:** Encontre a reta de mínimos quadrados para os dados abaixo:\n",
    "\n",
    "| $ x_i $ | $ y_i $ |\n",
    "|:-------:|:-------:|\n",
    "| $ 1 $   | $ 0 $   |\n",
    "| $ 2 $   | $ 2 $   |\n",
    "| $ 3 $   | $ 2 $   |\n",
    "| $ 4 $   | $ 5 $   |\n",
    "| $ 5 $   | $ 4 $   |\n",
    "\n",
    "**Solução:** Primeiro estendemos a tabela com duas colunas contendo os valores de $ x_i^2 $ e $ x_i y_i $ para cada $ i = 0, \\dots, 4 $, e também uma nova linha em que são computadas as somas correspondentes a cada coluna:\n",
    "\n",
    "| $ x_i $ | $ y_i $ | $ x_i^2 $ | $ x_iy_i $ |\n",
    "|---------|---------|-----------|------------|\n",
    "| $ 1 $   | $ 0 $   | $ 1 $     | $ 0 $      |\n",
    "| $ 2 $   | $ 2 $   | $ 4 $     |  $ 4 $     |\n",
    "| $ 3 $   | $ 2 $   | $ 9 $     | $ 6 $      |\n",
    "| $ 4 $   | $ 5 $   | $ 16 $    | $ 20 $     |\n",
    "| $ 5 $   | $ 4 $   | $ 25 $    | $ 20 $     |\n",
    "|         |         |           |            |\n",
    "| $ 15 $  | $ 13 $  | $ 55 $    | $ 50 $     |\n",
    "\n",
    "\n",
    "Como indicado na última linha da tabela,\n",
    "$$\n",
    "\\sum_{i=0}^{4} x_i = 15\\,,\\quad\n",
    "\\sum_{i=0}^{4} y_i = 13\\,,\\quad\n",
    "\\sum_{i=0}^{4} x_i^2 = 55\\,,\\quad\n",
    "\\sum_{i=0}^{4} x_iy_i = 50\\,.\n",
    "$$\n",
    "Logo neste caso o sistema \\eqref{E:system} é:\n",
    "\\begin{equation*}\n",
    "\\begin{cases}\n",
    "55 a &+& 15 b & & = 50 \\\\\n",
    "15 a &+&  5b & & = 13\n",
    "\\end{cases}\n",
    "\\end{equation*}\n",
    "Agora calcula-se facilmente que a solução é $ \\hat a = \\frac{11}{10} $ e $ \\hat b = \\frac{-7}{10} $. (Verifique!)\n",
    "\n",
    "## $ \\S 2 $ Implementação de procedimentos para encontrar e exibir a reta de mínimos quadrados\n",
    "\n",
    "Com ajuda do computador, podemos automatizar a determinação e solução do sistema \\eqref{E:system}.\n",
    "\n",
    "📝 Como nosso foco aqui não é a resolução em si, mas sim o método dos mínimos quadrados, utilizaremos o procedimento `solve` da biblioteca `numpy.linalg` para resolver \\eqref{E:system}."
   ]
  },
  {
   "cell_type": "code",
   "execution_count": 1,
   "id": "498c5fb0",
   "metadata": {},
   "outputs": [],
   "source": [
    "def reta_minimos_quadrados(xs, ys):\n",
    "    \"\"\"\n",
    "    Encontra os coeficientes a e b da reta de mínimos quadrados\n",
    "    para um conjunto de dados (x_i, y_i).\n",
    "    Entradas:\n",
    "        * Duas listas ou arrays xs e ys de mesmo comprimento,\n",
    "          com pelo menos dois elementos distintos em xs.\n",
    "    Saída:\n",
    "        * Os coeficientes a e b da reta y = a * x + b de mínimos\n",
    "          quadrados.\n",
    "    \"\"\"\n",
    "    import numpy as np\n",
    "    \n",
    "\n",
    "    assert len(xs) == len(ys)\n",
    "    # Verifique se há pelo menos dois x_i distintos:\n",
    "    assert len(set(xs)) > 1\n",
    "        \n",
    "    M = len(xs) - 1\n",
    "    xs = np.array(xs)\n",
    "    ys = np.array(ys)\n",
    "    xs_xs = xs * xs\n",
    "    xs_ys = xs * ys\n",
    "    \n",
    "    # Monte a matriz A dos coeficientes e vetor c do lado direito:\n",
    "    A = np.zeros((2, 2))\n",
    "    c = np.zeros(2)\n",
    "    A[0][0] = np.sum(xs_xs)\n",
    "    A[0][1] = A[1][0] = sum(xs)\n",
    "    A[1][1] = M + 1\n",
    "    c[0] = np.sum(xs_ys)\n",
    "    c[1] = np.sum(ys)\n",
    "    \n",
    "    solucao = np.linalg.solve(A, c)\n",
    "    a = solucao[0]\n",
    "    b = solucao[1]\n",
    "    \n",
    "    return a, b"
   ]
  },
  {
   "cell_type": "code",
   "execution_count": 2,
   "id": "aa5acf2a",
   "metadata": {},
   "outputs": [],
   "source": [
    "def exibe_pontos_e_reta(xs, ys, a, b):\n",
    "    \"\"\"\n",
    "    Exibe um conjunto de pontos (x_i, y_i) e a reta de eq. y = a * x + b.\n",
    "    Entradas:\n",
    "        * Duas listas ou arrays xs e ys de mesmo comprimento.\n",
    "        * Dois números a e b.\n",
    "    Saída: nenhuma.\n",
    "    \"\"\"\n",
    "    import matplotlib.pyplot as plt\n",
    "    import numpy as np\n",
    "    \n",
    "    \n",
    "    assert len(xs) == len(ys)\n",
    "    x_min = min(xs)\n",
    "    x_max = max(xs)\n",
    "    # Para o gráfico não ficar apertado, introduzimos uma \"folga\":\n",
    "    folga = (x_max - x_min) / 10\n",
    "    \n",
    "    xs_reta = np.linspace(x_min - folga, x_max + folga, num=201)\n",
    "    ys_reta = np.array([a * x + b for x in xs_reta]) \n",
    "    \n",
    "    plt.plot(xs, ys, 'o')\n",
    "    plt.plot(xs_reta, ys_reta, '-')\n",
    "    plt.grid(True)\n",
    "    plt.xlabel('x')\n",
    "    plt.ylabel('y')\n",
    "    plt.legend((\"Dados\", \"Reta de mínimos quadrados\"), loc=0)\n",
    "    plt.show()\n",
    "    \n",
    "    return None"
   ]
  },
  {
   "cell_type": "markdown",
   "id": "7b4b667f",
   "metadata": {},
   "source": [
    "**Exemplo 1 (continuação):** Voltando ao exemplo 1, podemos verificar nossa solução obtida \"à mão\" usando a implementação acima, além de exibir os dados e a reta de mínimos quadrados."
   ]
  },
  {
   "cell_type": "code",
   "execution_count": 4,
   "id": "78af3b8b",
   "metadata": {},
   "outputs": [
    {
     "name": "stdout",
     "output_type": "stream",
     "text": [
      "A reta de mínimos quadrados é descrita pela equação y = 1.1 x + -0.7 .\n"
     ]
    },
    {
     "data": {
      "image/png": "[encoded data removed]",
      "text/plain": [
       "<Figure size 640x480 with 1 Axes>"
      ]
     },
     "metadata": {},
     "output_type": "display_data"
    }
   ],
   "source": [
    "xs = [1, 2, 3, 4, 5]\n",
    "ys = [0, 2, 2, 5, 4]\n",
    "a, b = reta_minimos_quadrados(xs, ys)\n",
    "a = round(a, 4)\n",
    "b = round(b, 4)\n",
    "print(f\"A reta de mínimos quadrados é descrita pela equação y = {a} x + {b} .\")\n",
    "exibe_pontos_e_reta(xs, ys, a, b)"
   ]
  },
  {
   "cell_type": "markdown",
   "id": "007ac6de",
   "metadata": {},
   "source": [
    "## $ \\S 3 $ Existência e unicidade da reta de mínimos quadrados\n",
    "\n",
    "**Teorema 3.1:** *Dados $ (x_0,y_0)\\,,\\,(x_1,y_1)\\,,\\cdots,\\,(x_M,y_M)\\, $, existe uma única reta de mínimos quadrados adaptada a estes pontos desde que existam $ i $ e $ j $ com $ x_i \\ne x_j $.*\n",
    "\n",
    "**Prova:** Considere o sistema que define a reta de mínimos quadrados:\n",
    "\\begin{equation*}\\label{E:system2}\n",
    "\\begin{cases}\n",
    "\\displaystyle{\\Bigg(\\sum_{i=0}^M x_i^2}\\Bigg)\\,a &+& \\displaystyle{\\Bigg(\\sum_{i=0}^Mx_i\\Bigg)\\,b}  &=& \\displaystyle{\\sum_{i=0}^M x_iy_i} \\\\\n",
    "\\displaystyle{\\Bigg(\\sum_{i=0}^M x_i}\\Bigg)\\,a &+& \\displaystyle{(M+1)\\,b}  &=& \\displaystyle{\\sum_{i=0}^M y_i}\n",
    "\\end{cases} \\tag{2}\n",
    "\\end{equation*}\n",
    "\n",
    "Sejam $ \\mbf A $ a matriz dos coeficientes deste sistema, $ \\mbf x = (x_0,x_1,\\cdots,x_M) $ e $ \\mbf u = (1,1,\\cdots,1) \\in \\mathbb R^{M+1} $. Então\n",
    "$$\n",
    "\\det(\\mbf A) = (M+1) \\sum_{i=0}^{M} x_i^2 - \\Bigg( \\sum_{i=0}^M x_i \\Bigg)^2 = \\norm{\\mbf u}^2\\norm{\\mbf x}^2 - (\\mbf u \\cdot \\mbf x)^2\\,,\n",
    "$$\n",
    "onde $ \\norm{\\cdot} $ denota a norma euclidiana em $ \\mathbb R^{M+1} $. Mas pela desigualdade de Cauchy-Schwarz,\n",
    "$$\n",
    "(\\mbf u \\cdot \\mbf x)^2 \\le \\norm{\\mbf u}^2\\norm{\\mbf x}^2 ,\n",
    "$$\n",
    "com igualdade se e somente se $ \\mbf x $ é um múltiplo de $ \\mbf u $, ou seja, se e somente se todos os $ x_i $ são iguais. Como esta possibilidade foi excluída por hipótese, concluímos que $ \\det(\\mbf A) > 0 $. Logo o sistema \\eqref{E:system2} tem uma solução e esta solução é única. Isto significa que a função $ S $ tem exatamente um ponto crítico. Este é de fato o mínimo global de $ S $ em $ \\mathbb R^2 $ porque\n",
    "\\begin{equation*}\\label{E:limit}\n",
    "\\lim_{\\norm{(a,b)} \\to \\infty} S(a,b) = +\\infty\\,. \\tag{3}\n",
    "\\end{equation*}\n",
    "\n",
    "⚡ **Problema 1:** A validade de \\eqref{E:limit} foi afirmada mas não justificada. O objetivo deste problema é mostrar que o único ponto crítico $ (\\hat a,\\hat b) $ de $ S $ é de fato o mínimo global. (Veja a última seção para uma demonstração alternativa.)\n",
    "\n",
    "(a) Verifique que a Hessiana de $ S $ é dada por\n",
    "$$\n",
    "\\hess(S) = \n",
    "\\begin{bmatrix}\n",
    "\\displaystyle{\\frac{\\partial^2 S}{\\partial a^2}} & \\displaystyle{\\frac{\\partial^2 S}{\\partial b \\partial a}} \\\\\n",
    "\\displaystyle{\\frac{\\partial^2 S}{\\partial a \\partial b}} & \\displaystyle{\\frac{\\partial^2 S}{\\partial b^2}}\n",
    "\\end{bmatrix}\n",
    "=2\n",
    "\\begin{bmatrix}\n",
    "\\displaystyle{\\sum_{i=0}^{M} x_i^2} & \\displaystyle{\\sum_{i=0}^{M} x_i} \\\\\n",
    "\\displaystyle{\\sum_{i=0}^{M} x_i} & \\displaystyle{(M+1)}\n",
    "\\end{bmatrix}\\ .\n",
    "$$\n",
    "\n",
    "(b) Usando os vetores $ \\mbf x,\\, \\mbf u \\in \\mathbb R^{M+1} $ introduzidos na demonstração, mostre que seu determinante vale\n",
    "$$\n",
    "\\big\\vert\\hess(S)\\big\\vert = 4\\, \\big[\\norm{\\mbf u}^2 \\norm{\\mbf x}^2 - (\\mbf x \\cdot \\mbf u)^2\\big] > 0\n",
    "$$\n",
    "e que $ \\frac{\\partial^2 S}{\\partial a^2} > 0 $ para qualquer ponto $ (a, b) $.\n",
    "\n",
    "(c) Conclua pelo teste da segunda derivada que o único ponto crítico $ (\\hat a, \\hat b) $ de $ S $ é um ponto de *mínimo local*. Contudo, isto ainda não implica por si só que este ponto seja de mínimo *global*.\n",
    "\n",
    "(d) Mostre que restringindo-se o domínio de $ S $ à reta pela origem de equação $ b = \\lambda a $ ($ \\lambda $ constante), obtemos uma função quadrática $ S_\\lambda(a) $ da forma:\n",
    "$$\n",
    "S_\\lambda(a) = \\alpha\\, a^2 + \\beta\\, a + \\gamma\n",
    "$$\n",
    "onde as constantes dependem de $ \\lambda $, mas sempre vale $ \\alpha > 0 $. Ou seja, seus gráficos são parábolas com concavidade para cima.\n",
    "\n",
    "(e) Como $ (\\hat a, \\hat b) $ é mínimo local de $ S $, $ \\hat a $ é mínimo local de cada $ S_\\lambda $. E como $ S_\\lambda(a) \\to +\\infty $ conforme $ a \\to \\pm \\infty $, na verdade este é um mínimo global comum a todas as restrições. Analogamente para a restrição de $ S $ à reta de equação $ a = 0 $ como função de $ b $. Portanto $ (\\hat a, \\hat b) $ é mínimo global de $ S $."
   ]
  },
  {
   "cell_type": "markdown",
   "id": "6eef8886",
   "metadata": {},
   "source": [
    "## $ \\S 4 $ Problemas\n",
    "\n",
    "**Problema 2:** Usando o método dos mínimos quadrados, adapte uma reta aos dados tabelados abaixo:\n",
    "\n",
    "| $ x_i $ | $ y_i $ |\n",
    "|:-------:|:-------:|\n",
    "| $ -3 $  | $ 3 $  |\n",
    "| $ -2 $  |  $ 2 $  |\n",
    "| $ -1 $  | $ 2 $   |\n",
    "| $ 0 $   |  $ 1 $  |\n",
    "| $ 1 $   |  $ 0 $  |\n",
    "| $ 2 $   |  $ 0 $  |\n",
    "| $ 3 $   |  $ -1 $  |\n",
    "\n",
    "(a) Sem usar o computador. *Dica:* Utilize a mesma estratégia que no Exemplo 1; comece estendendo a tabela.\n",
    "\n",
    "(b) Usando o computador."
   ]
  },
  {
   "cell_type": "markdown",
   "id": "d1e941df",
   "metadata": {},
   "source": [
    "*Solução:*"
   ]
  },
  {
   "cell_type": "code",
   "execution_count": 15,
   "id": "ce7e40c0",
   "metadata": {},
   "outputs": [
    {
     "name": "stdout",
     "output_type": "stream",
     "text": [
      "A reta de mínimos quadrados é descrita pela equação y = -0.6429 x + 1.0 .\n"
     ]
    },
    {
     "data": {
      "image/png": "[encoded data removed]",
      "text/plain": [
       "<Figure size 640x480 with 1 Axes>"
      ]
     },
     "metadata": {},
     "output_type": "display_data"
    }
   ],
   "source": []
  },
  {
   "cell_type": "markdown",
   "id": "78d38db6",
   "metadata": {},
   "source": [
    "**Problema 3:** Ajuste uma reta aos dados abaixo:\n",
    "\n",
    "| $ x_i $ | $ y_i $ |\n",
    "|:-------:|:-------:|\n",
    "| $ 2.5 $  | $ 1.7 $  |\n",
    "| $ 1.7 $  | $ 1.4 $  |\n",
    "| $ 3.2 $  | $ 2.5 $  |\n",
    "| $ 0.7 $  | $ 0.6 $  |\n",
    "| $ 0.3 $  | $ 0.1 $  |"
   ]
  },
  {
   "cell_type": "markdown",
   "id": "21197da5",
   "metadata": {},
   "source": [
    "*Solução:*"
   ]
  },
  {
   "cell_type": "code",
   "execution_count": null,
   "id": "9718832d",
   "metadata": {},
   "outputs": [],
   "source": []
  },
  {
   "cell_type": "markdown",
   "id": "01385fc4",
   "metadata": {},
   "source": [
    "**Problema 4:** A tabela seguinte contém a altura e peso de vinte indivíduos.\n",
    "\n",
    "| altura (em polegadas) | peso (em libras) |\n",
    "|:---------------------:|:----------------:|\n",
    "| $ 67.0 $              | $ 175.9 $        |\n",
    "| $ 63.4 $              | $ 156.3 $        |\n",
    "| $ 71.1 $              | $ 186.6 $        |\n",
    "| $ 71.6 $              | $ 213.7 $        |\n",
    "| $ 64.7 $              | $ 167.1 $        |\n",
    "| $ 69.2 $              | $ 189.4 $        |\n",
    "| $ 69.2 $              | $ 186.4 $        |\n",
    "| $ 67.6 $              | $ 172.1 $        |\n",
    "| $ 72.4 $              | $ 196.0 $        |\n",
    "| $ 63.9 $              | $ 172.8 $        |\n",
    "| $ 69.6 $              | $ 185.9 $        |\n",
    "| $ 67.9 $              | $ 182.4 $        |\n",
    "| $ 67.9 $              | $ 174.1 $        |\n",
    "| $ 69.4 $              | $ 197.7 $        |\n",
    "| $ 66.1 $              | $ 149.1 $        |\n",
    "| $ 75.2 $              | $ 228.7 $        |\n",
    "| $ 67.8 $              | $ 162.0 $        |\n",
    "| $ 68.1 $              | $ 192.3 $        |\n",
    "| $ 69.0 $              | $ 184.4 $        |\n",
    "| $ 72.8 $              | $ 206.8 $        |\n",
    "\n",
    "(a) Plote os pontos $ (h_i, p_i) $ onde $ h_i $ é a altura e $ p_i $ o peso do $ i $-ésimo indivíduo.\n",
    "\n",
    "(b) Encontre a função da forma $ \\text{peso} = a \\cdot \\text{altura} + b $ que melhor se ajusta a estes dados, e exiba seu gráfico juntamente com os dados.\n",
    "\n",
    "(c) Estime o peso de uma pessoa de altura igual a $ 71.3 $ polegadas.\n",
    "\n",
    "(d) Estime a altura de uma pessoa que pesa $ 158.3 $ libras."
   ]
  },
  {
   "cell_type": "markdown",
   "id": "34cdaeaa",
   "metadata": {},
   "source": [
    "*Solução:*"
   ]
  },
  {
   "cell_type": "code",
   "execution_count": 16,
   "id": "24ddd494",
   "metadata": {},
   "outputs": [],
   "source": [
    "alturas = [67.0, 63.4, 71.1, 71.6, 64.7,\n",
    "           69.3, 69.2, 67.6, 72.4, 63.9,\n",
    "           69.6, 67.9, 67.9, 69.4, 66.1,\n",
    "           75.2, 67.8, 68.1, 69.0, 72.8]\n",
    "\n",
    "pesos = [175.9, 156.3, 186.6, 213.7, 167.1,\n",
    "         189.4, 186.4, 172.1, 196.0, 172.8,\n",
    "         185.9, 182.4, 174.1, 197.7, 149.1,\n",
    "         228.7, 162.0, 192.3, 184.4, 206.8]"
   ]
  },
  {
   "cell_type": "markdown",
   "id": "97e7464a",
   "metadata": {},
   "source": [
    "**Problema 5:** A tabela seguinte fornece a população aproximada da Alemanha no período de 1816 a 1939.\n",
    "\n",
    "| anos | habitantes (milhões) |\n",
    "|:---:|:----------------------:|\n",
    "| $ 1816 $ | $ 22.38 $ |\n",
    "| $ 1828 $ | $ 26.65 $ |\n",
    "| $ 1834 $ | $ 28.24 $ |\n",
    "| $ 1840 $ | $ 30.38 $ |\n",
    "| $ 1852 $ | $ 33.41 $ |\n",
    "| $ 1861 $ | $ 35.57 $ |\n",
    "| $ 1864 $ | $ 37.80 $ |\n",
    "| $ 1871 $ | $ 41.06 $ |\n",
    "| $ 1880 $ | $ 45.23 $ |\n",
    "| $ 1890 $ | $ 49.43 $ |\n",
    "| $ 1900 $ | $ 56.37 $ |\n",
    "| $ 1910 $ | $ 64.93 $ |\n",
    "| $ 1925 $ | $ 63.18 $ |\n",
    "| $ 1933 $ | $ 66.03 $ |\n",
    "| $ 1939 $ | $ 69.46 $ |\n",
    "\n",
    "(a) Plote o par (ano, população) para cada linha fornecida.\n",
    "\n",
    "(b) Verifique que parece existir uma relação aproximadamente linear entre o ano e a população. Encontre $ a $ e $ b $ de modo que a função:\n",
    "$$\n",
    "\\text{população}  = a \\cdot ano + b\n",
    "$$\n",
    "se ajuste aos dados da melhor maneira possível.\n",
    "\n",
    "(c) Estime a população da Alemanha no ano de $ 1800 $ a partir dos dados.\n",
    "\n",
    "(d) Encontre o ano e mês em que a população da Alemanha superou $ 60 $ milhões de habitantes."
   ]
  },
  {
   "cell_type": "markdown",
   "id": "ad41ae8d",
   "metadata": {},
   "source": [
    "*Solução:*"
   ]
  },
  {
   "cell_type": "code",
   "execution_count": 3,
   "id": "f9919173",
   "metadata": {},
   "outputs": [],
   "source": [
    "anos = [1816, 1828, 1834, 1840, 1852,\n",
    "        1861, 1864, 1871, 1880, 1890,\n",
    "        1900, 1910, 1925, 1933, 1939]\n",
    "\n",
    "populacao = [22.38, 26.65, 28.24, 30.38, 33.41,\n",
    "             35.57, 37.80, 41.06, 45.23, 49.43,\n",
    "             56.37, 64.93, 63.18, 66.03, 69.46]"
   ]
  },
  {
   "cell_type": "markdown",
   "id": "01ffc64a",
   "metadata": {},
   "source": [
    "## ⚡ $ \\S 5 $ Projeção ortogonal e a reta de mínimos quadrados"
   ]
  },
  {
   "cell_type": "markdown",
   "id": "3c7c9553",
   "metadata": {},
   "source": [
    "O objetivo desta seção é discutir uma interpretação geométrica alternativa para os coeficientes $ \\hat a $ e $ \\hat b $ da reta de mínimos quadrados associada a um conjunto de dados $ (x_0, y_0), \\dots, (x_M, y_M) $ (com $ x_i \\ne x_j $ para algum par $ i,\\, j $). Em particular, este novo ponto de vista fornece uma demonstração alternativa da unicidade desta reta.\n",
    "\n",
    "Sejam \n",
    "$$\n",
    "\\mbf x = (x_0,x_1,\\dots,x_M)\\,, \\quad \\mbf y = (y_0,y_1,\\dots,y_{M}) \\quad \\text{e} \\quad \\mbf u = (1,1,\\dots,1) \\in \\mathbb R^{M+1}\\,.\n",
    "$$\n",
    "Em termos destes vetores, a função $ S $ que gostaríamos de minimizar para encontrar a reta de mínimos quadrados pode ser escrita como\n",
    "$$\n",
    "S(a, b) = \\sum_{i=0}^M \\big[y_i - (a x_i + b)\\big]^2 = \\norm{\\mbf y - (a\\,\\mbf x + b \\,\\mbf u)}^2\\,,\n",
    "$$\n",
    "onde $ \\norm{\\cdot} $ denota a norma euclidiana em $ \\mathbb R^{M+1} $. Minimizar $ S $  é equivalente a escolher os coeficientes $ a $ e $ b $ na combinação linear\n",
    "$$\n",
    "a\\,\\mbf x + b\\,\\mbf u \\quad (a,\\,b \\in \\mathbb R)\n",
    "$$\n",
    "dos vetores $ \\mbf x $ e $ \\mbf u $ de modo que a distância do vetor resultante a $ \\mbf y $ seja a menor possível.\n",
    "\n",
    "Pela hipótese sobre os $ x_i $, $ \\mbf x $ e $ \\mbf u $ são linearmente independentes, logo geram um $ 2 $-plano $ P $ em $ \\mathbb R^{M+1} $. Podemos decompor $ \\mbf y $ como\n",
    "$$\n",
    "\\mbf y = \\mbf y^\\perp + (\\mbf y - \\mbf y^\\perp)\n",
    "$$\n",
    "onde $ \\mbf y^\\perp $ é a componente de $ \\mbf y $ ortogonal a $ P $ e $ (\\mbf y - \\mbf y^\\perp) $ sua componente pertence a ele. Então\n",
    "\\begin{alignat*}{9}\n",
    "S(a,b) &= \\norm{\\mbf y - (a\\,\\mbf x + b \\,\\mbf u)}^2 \\\\\n",
    "&= \\norm{\\mbf y^\\perp + (\\mbf y - \\mbf y^\\perp) - (a\\,\\mbf x + b \\,\\mbf u)}^2 \\\\\n",
    "&= \\norm{\\mbf y^\\perp}^2 + \\norm{(\\mbf y - \\mbf y^\\perp) - (a\\,\\mbf x + b \\,\\mbf u)}^2\n",
    "\\end{alignat*}\n",
    "pelo teorema de Pitágoras. Agora, como $ \\mbf y - \\mbf y^\\perp \\in P $, existem *únicos* $ \\hat a $ e $ \\hat b $ em $ \\mathbb R $ tais que\n",
    "$$\n",
    "\\mbf y - \\mbf y^\\perp = \\hat a\\,\\mbf x + \\hat b\\,\\mbf u\\,.\n",
    "$$\n",
    "Este par $ (\\hat a, \\hat b) $ é portanto o único ponto de mínimo global de $ S $. Além disto, vemos que o mínimo de $ S $ atingido neste par (ou seja, a menor soma dos quadrados dos resíduos) é dado por\n",
    "$$\n",
    "S(\\hat a, \\hat b) = \\norm{\\mbf y^\\perp}^2.\n",
    "$$\n",
    "\n",
    "Este argumento fornece não só uma demonstração de que a reta de mínimos quadrados existe, mas uma maneira de encontrá-la: basta projetar $ \\mbf y $ ortogonalmente no plano $ P $ e resolver a equação linear\n",
    "$$\n",
    "\\mbf y - \\mbf y^{\\perp} = a\\,\\mbf x + b\\,\\mbf u\\,.\n",
    "$$"
   ]
  },
  {
   "cell_type": "code",
   "execution_count": null,
   "id": "0fec959f",
   "metadata": {},
   "outputs": [],
   "source": []
  }
 ],
 "metadata": {
  "kernelspec": {
   "display_name": "Python 3 (ipykernel)",
   "language": "python",
   "name": "python3"
  },
  "language_info": {
   "codemirror_mode": {
    "name": "ipython",
    "version": 3
   },
   "file_extension": ".py",
   "mimetype": "text/x-python",
   "name": "python",
   "nbconvert_exporter": "python",
   "pygments_lexer": "ipython3",
   "version": "3.9.15"
  }
 },
 "nbformat": 4,
 "nbformat_minor": 5
}
