{
 "cells": [
  {
   "cell_type": "markdown",
   "id": "bdc74ad5",
   "metadata": {},
   "source": [
    "$\\newcommand{\\set}[2]{\\big\\{#1\\,\\ {\\large:}\\ \\,#2\\big\\}}\n",
    "\\newcommand{\\eps}{\\varepsilon}\n",
    "\\newcommand{\\abs}[1]{\\left\\vert#1\\right\\vert}\n",
    "\\newcommand{\\ceil}[1]{\\left\\lceil#1\\right\\rceil}\n",
    "\\newcommand{\\floor}[1]{\\left\\lfloor#1\\right\\rfloor}\n",
    "\\DeclareMathOperator{\\sinal}{sinal}\n",
    "$\n",
    "# Os métodos da secante e da posição falsa"
   ]
  },
  {
   "cell_type": "markdown",
   "id": "1915eb9b",
   "metadata": {},
   "source": [
    "## $ \\S 1 $ Descrição do método da posição falsa\n",
    "\n",
    "Suponha que a função real contínua $ f $ troque de sinal dentro do intervalo $ [a, b] $. Assim como o método da bissecção, o **método da posição falsa** começa com as duas estimativas $ a $ e $ b $ para o zero. Mas em vez de tomar a próxima estimativa como o ponto médio destes, construímos a reta pelos pontos\n",
    "$$\n",
    "\\big(a, f(a)\\big) \\quad \\text{e} \\quad \\big(b,f(b)\\big)\n",
    "$$\n",
    "e consideramos o ponto onde ela cruza o eixo-$x$, definindo $ \\xi $ como sua primeira coordenada. Este seria exatamente o zero de $ f $ caso ela fosse linear, mas em geral isto não acontecerá. Portanto há três possibilidades:\n",
    "* Se $ f(\\xi) = 0 $, então $ \\xi $ é um zero de $ f $ e podemos terminar.\n",
    "* Se $ \\sinal f(\\xi) \\neq \\sinal f(a) $, então $ f $ troca de sinal em $ [a, \\xi] $. Neste caso fazemos $ b \\leftarrow \\xi $.\n",
    "* Se $ \\sinal f(\\xi) = \\sinal f(a) $, então $ f $ troca de sinal em $ [\\xi, b] $. Neste caso fazemos $ a \\leftarrow \\xi $.\n",
    "\n",
    "Nos dois últimos casos repetimos o procedimento usando o novo intervalo $ [a, b] $ em lugar do original e assim sucessivamente, até que seja satisfeito o critério de parada. Observe que em cada iteração temos a garantia da existência de um zero dentro do intervalo sob consideração, pois $ f $ troca de sinal aí.\n"
   ]
  },
  {
   "cell_type": "markdown",
   "id": "731d9a43",
   "metadata": {},
   "source": [
    "## $ \\S 2 $ Fórmulas para a próxima estimativa e para o erro\n",
    "\n",
    "### $ 2.1 $ Fórmula para a próxima estimativa\n",
    "\n",
    "A reta por dois pontos $ (x_0, y_0) $ e $ (x_1, y_1) $ é caracterizada pela igualdade da inclinação do segmento que liga $ (x_1, y_1) $ a $ (x_0, y_0) $ e a do segmento ligando um ponto $ (x, y) $ qualquer sobre a reta a $ (x_0, y_0) $. Em símbolos:\n",
    "$$\n",
    "\\frac{y - y_0}{x - x_0} = \\frac{y_1 - y_0}{x_1 - x_0}\n",
    "$$\n",
    "Equivalentemente, esta reta é descrita pela equação\n",
    "$$\n",
    "y = y_0 + \\frac{y_1 - y_0}{x_1 - x_0}\\,(x - x_0).\n",
    "$$\n",
    "\n",
    "No método da posição falsa utilizamos em cada passo a reta passando por $ \\big(a,f(a)\\big) $ e $ \\big(b,f(b)\\big) $, onde $ a $ e $ b $ são as extremidades do intervalo obtido no passo anterior. Substituindo estes valores acima, obtemos a equação\n",
    "$$\n",
    "y = f(a) + \\frac{f(b) - f(a)}{b - a}\\,(x - a).\n",
    "$$\n",
    "A próxima estimativa $ \\xi $ para o zero é o único valor de $ x $ que faz esta expressão se anular:\n",
    "$$\n",
    "\\boxed{\\xi = \\frac{af(b) - bf(a)}{f(b)-f(a)}}\n",
    "$$ \n",
    "\n",
    "📝 Observe a simetria desta fórmula com respeito a $ a $ e $ b $ e o fato que o denominador é não-nulo pois $ f(a) $ e $ f(b) $ têm sinais opostos por hipótese.\n",
    "\n",
    "### $ 2.2 $ Análise informal do erro\n",
    "\n",
    "Suponha por concretude que o sinal de $ f(\\xi) $ seja o mesmo que o de $ f(a) $, de modo que o intervalo seguinte seja $ [\\xi, b] $. Podemos estimar o novo erro $ b - \\xi $ em termos do anterior $ b - a $:\n",
    "\\begin{alignat*}{3}\n",
    "b - \\xi &= \\frac{bf(b) - {bf(a)} -\\big[af(b) - {bf(a)}\\big]}{f(b) - f(a)} \\\\\n",
    "& = \\frac{f(b)}{f(b) - f(a)} (b - a)\\,.\n",
    "\\end{alignat*}\n",
    "Como por hipótese $ f(a) $ e $ f(b) $ têm sinais opostos, o fator que multiplica $ (b - a) $ está entre $ 0 $ e $ 1 $. Se $ f(b) $ for muito maior que $ f(a) $ em valor absoluto, este fator ficará próximo de $ 1 $. Se isto acontecer em todas as iterações, a convergência ao zero será lenta; esta situação é ilustrada na figura abaixo."
   ]
  },
  {
   "cell_type": "markdown",
   "id": "12a15705",
   "metadata": {},
   "source": [
    "![Método da posição falsa](fig_2-4_posicao_falsa.png \"Title\")"
   ]
  },
  {
   "cell_type": "markdown",
   "id": "556efec8",
   "metadata": {},
   "source": [
    "Não é possível calcular precisamente e de maneira geral o erro cometido pelo método da posição falsa. Porém na situação descrita acima, seu desempenho é consideravelmente pior que o do método do bissecção. Por este motivo ele raramente é empregado na prática."
   ]
  },
  {
   "cell_type": "markdown",
   "id": "c78053e5",
   "metadata": {},
   "source": [
    "## $ \\S 3 $ Implementação do método da posição falsa\n",
    "\n",
    "Como o método da bissecção e da posição falsa só diferem na fórmula usada para obter a nova estimativa para o zero, as duas implementações são muito parecidas."
   ]
  },
  {
   "cell_type": "code",
   "execution_count": 1,
   "id": "66c06f94",
   "metadata": {},
   "outputs": [],
   "source": [
    "def posicao_falsa(f, a, b, eps):\n",
    "    \"\"\"\n",
    "    Utiliza o método da posição falsa para localizar um zero de uma função.\n",
    "    Entradas:\n",
    "        * A função real contínua f.\n",
    "        * As extremidades a e b de um intervalo onde f troca de sinal.\n",
    "        * A distância máxima tolerada eps do resultado a um zero.\n",
    "    Saída:\n",
    "        * Um ponto a distância menor que eps de um zero de f.\n",
    "    \"\"\"\n",
    "    from numpy import sign, log2, ceil\n",
    "    \n",
    "    \n",
    "    iteracoes = 1                         # Contador do número de iterações.\n",
    "    f_a = f(a)                            # Gravando o valor de f em a.\n",
    "    f_b = f(b)                            # Gravando o valor de f em b.\n",
    "    if eps <= 0:\n",
    "        raise ValueError(\"A tolerância deve ser positiva!\")\n",
    "    if f_a == 0:\n",
    "        return a\n",
    "    elif f_b == 0:\n",
    "        return b\n",
    "    elif sign(f_a) == sign(f_b):          # Verifique que [a, b] contém um zero.\n",
    "        raise ValueError(\"A função assume valores de mesmo sinal \"\n",
    "                         \"nas extremidades dadas!\")\n",
    "    \n",
    "    while (b - a) >= eps:\n",
    "        # Próxima estimativa:\n",
    "        x = (a * f(b) - b * f(a)) / (f(b) - f(a)) \n",
    "        f_x = f(x)                        # Gravando o valor de f em x.\n",
    "        if f_x == 0:\n",
    "            print(\"Encontrado um zero exato!\")\n",
    "            return x\n",
    "        elif sign(f_a) != sign(f_x):      # O intervalo [a, x] contém um zero.\n",
    "            b = x                         # Tome o novo b como sendo x.\n",
    "        else:                             # O intervalo [x, b] contém um zero.\n",
    "            a = x                         # Tome o novo a como sendo x.\n",
    "            f_a = f_x\n",
    "        iteracoes += 1\n",
    "    \n",
    "    print(f\"Encontrado um zero aproximado:\\n{x:12.7f}\")\n",
    "    print(f\"após {iteracoes} iterações.\")\n",
    "    print(f\"O valor da função neste ponto é:\\n{f(x):12.7f}\")\n",
    "    return x"
   ]
  },
  {
   "cell_type": "markdown",
   "id": "0489a020",
   "metadata": {},
   "source": [
    "## $ \\S 4 $ Problemas"
   ]
  },
  {
   "cell_type": "markdown",
   "id": "281f7f5b",
   "metadata": {},
   "source": [
    "**Problema 1:** Usando o método da posição falsa com precisão de três dígitos decimais:\n",
    "\n",
    "(a) Encontre uma raiz positiva da equação $ \\sin x = \\frac{x}{2} $.\n",
    "\n",
    "(a) Encontre a primeira raiz positiva da equação $ \\sin x = \\frac{x}{n} $ para $ n = 2, 3, \\dots, 20 $."
   ]
  },
  {
   "cell_type": "markdown",
   "id": "a20cd56d",
   "metadata": {},
   "source": [
    "*Solução:*"
   ]
  },
  {
   "cell_type": "code",
   "execution_count": null,
   "id": "d57e5eca",
   "metadata": {},
   "outputs": [],
   "source": []
  },
  {
   "cell_type": "markdown",
   "id": "320f643f",
   "metadata": {},
   "source": [
    "**Problema 2:** Calcule com ajuda do computador, mas sem usar a implementação acima, as três primeiras iterações do método da posição falsa para estimar uma raiz das equações abaixo nos intervalos indicados. Esboce também os gráficos das funções utilizadas:\n",
    "\n",
    "(a) $ \\tan x - \\frac{1}{1 + x^2} = 0 $, $ 0 \\le x \\le \\frac{\\pi}{2} $.\n",
    "\n",
    "(b) $ x^2 = 2 $, $ 0 \\le x \\le 2 $.\n",
    "\n",
    "(c) $ x \\ln x = 1 $, $ 1 \\le x \\le 2 $.\n",
    "\n",
    "(d) $ \\cos x = x $, $ 0 \\le x \\le \\frac{\\pi}{2} $."
   ]
  },
  {
   "cell_type": "markdown",
   "id": "05dab115",
   "metadata": {},
   "source": [
    "*Solução:*"
   ]
  },
  {
   "cell_type": "code",
   "execution_count": null,
   "id": "6d9e0544",
   "metadata": {},
   "outputs": [],
   "source": []
  },
  {
   "cell_type": "markdown",
   "id": "6a0b2ad2",
   "metadata": {},
   "source": [
    "**Problema 3:** Vimos no caderno anterior que no método da bissecção os comprimentos do intervalo anterior e do atual estão relacionados pela fórmula \n",
    "$$\n",
    "\\abs{I_n} = c \\abs{I_{n-1}} \\quad \\text{com} \\quad c = \\frac{1}{2}\n",
    "$$ \n",
    "\n",
    "(a) Estime a constante $ c $ que relaciona as duas para o método da posição falsa aplicado ao problema de se encontrar a raiz positiva da equação\n",
    "$$\n",
    "x^{8} - 1 = 0\n",
    "$$\n",
    "usando como intervalo inicial $ [a, b] = [0, 2] $.\n",
    "\n",
    "(b) Conclua se seria melhor usar o método da bissecção ou o método da posição falsa neste caso. "
   ]
  },
  {
   "cell_type": "code",
   "execution_count": 25,
   "id": "ff869a26",
   "metadata": {},
   "outputs": [
    {
     "name": "stdout",
     "output_type": "stream",
     "text": [
      "\n",
      "       n          x_n                f(x_n)       \n",
      "--------------------------------------------------\n",
      "      00         0.00000000        -1.00000000\n",
      "      01         4.00000000         1.00000000\n",
      "      02         2.00000000         0.41421356\n",
      "      03         1.41421356         0.18920712\n",
      "      04         1.18920712         0.09050773\n",
      "--------------------------------------------------\n",
      "\n"
     ]
    }
   ],
   "source": [
    "%matplotlib qt\n",
    "\n",
    "def animador_posicao_falsa(f, a, b, N=4, titulo=\"\", pausa=1.0):\n",
    "    import matplotlib.pyplot as plt\n",
    "    import numpy as np\n",
    "    \n",
    "    \n",
    "    def iteracao(a, b):\n",
    "        c = (a * f(b) - b * f(a)) / (f(b) - f(a)) \n",
    "        if np.sign(f(a)) != np.sign(f(c)):     # [a, c] contém um zero.\n",
    "            return c, a, c\n",
    "        else:                                  # [c, b] contém um zero.\n",
    "            return c, c, b\n",
    "        \n",
    "        \n",
    "    def reta(x1, y1, x2, y2):\n",
    "        return lambda x: (x * (y1 - y2) + y2 * x1 - y1 * x2) / (x1 - x2)\n",
    "    \n",
    "    \n",
    "    N += 1\n",
    "    P = 200\n",
    "    dominio = np.linspace(a, b, P)\n",
    "    \n",
    "    xs = [a, b]\n",
    "    xs_reta = [np.linspace(a, b, P)]\n",
    "    ys_reta = [np.linspace(f(a), f(b), P)]\n",
    "    for _ in range(N - 1):\n",
    "        c, a, b = iteracao(a, b)\n",
    "        xs.append(c)\n",
    "        xs_reta.append(np.linspace(a, b, P))\n",
    "        ys_reta.append(np.linspace(f(a), f(b), P))\n",
    "    ys = [f(x) for x in xs]\n",
    "                            \n",
    "    xs_vert = [np.linspace(xs[n], xs[n], P) for n in range(N)]\n",
    "    ys_vert = [np.linspace(0, ys[n], P) for n in range(N)]\n",
    "\n",
    "    plt.axhline(y=0.0, color='black', linestyle='-')#, label='eixo-$ x $')\n",
    "    plt.plot(dominio, f(dominio), label='$ y = f(x) $', linewidth=2.0)\n",
    "    plt.xlabel('Eixo-$ x $')\n",
    "    plt.ylabel('Eixo-$ y $')\n",
    "    plt.title(titulo)\n",
    "    plt.grid(True)\n",
    "    if pausa > 0:\n",
    "            plt.pause(pausa)\n",
    "    plt.plot(xs[0], 0, color='black', marker=\"|\", mew=2.0)\n",
    "    plt.plot(xs_vert[0], ys_vert[0], linestyle='--',\n",
    "             linewidth=2.0, label='$ a $')\n",
    "    plt.plot(xs[0], ys[0], color='black', marker=\"o\", mew=0.2)\n",
    "    plt.legend()\n",
    "    if pausa > 0:\n",
    "            plt.pause(pausa)\n",
    "    plt.plot(xs[1], 0, color='black', marker=\"|\", mew=2.0)\n",
    "    plt.plot(xs_vert[1], ys_vert[1], linestyle='--',\n",
    "             linewidth=2.0, label='$ b $')\n",
    "    plt.plot(xs[1], ys[1], color='black', marker=\"o\", mew=0.2)\n",
    "    plt.legend()\n",
    "    if pausa > 0:\n",
    "        plt.pause(pausa)\n",
    "    plt.plot(xs[2], 0, color='black', marker=\"|\", mew=2.0)\n",
    "    plt.plot(xs_reta[0], ys_reta[0], linestyle='-', color='green')\n",
    "\n",
    "    for n in range(2, N):\n",
    "        if pausa > 0:\n",
    "            plt.pause(pausa)\n",
    "        plt.plot(xs_vert[n], ys_vert[n], linestyle='--',\n",
    "                 linewidth=2.0, label=f'$ x_{n - 1} $')\n",
    "        plt.plot(xs[n], ys[n], color='black', marker=\"o\", mew=0.2)\n",
    "        plt.legend()\n",
    "        if pausa > 0:\n",
    "            plt.pause(pausa)\n",
    "        plt.plot(xs[n + 1], 0, color='black', marker=\"|\", mew=2.0)\n",
    "        plt.plot(xs_reta[n - 1], ys_reta[n - 1], linestyle='-', color='green')\n",
    "        plt.legend()\n",
    "    return xs, ys\n",
    "\n",
    "a = 0        # Extremidade esquerda do intervalo inicial, onde f vale -3.\n",
    "b = 4        # Extremidade direita, onde f vale 3.\n",
    "N = 3        # Número de iterações desejado.\n",
    "pausa = 1    # Intervalo de tempo entre cada passo da animação, em segundos.\n",
    "f = lambda x: x**(1/2) - 1    # Função à qual o método será aplicado.\n",
    "# Título a ser exibido no topo do diagrama:\n",
    "titulo = \"Método da bissecção para $ y = x^3 - x - 3 $.\"\n",
    "\n",
    "xs, ys = animador_posicao_falsa(f, a, b, N, titulo, pausa)\n",
    "imprime_solucao(xs, ys)"
   ]
  },
  {
   "cell_type": "code",
   "execution_count": 2,
   "id": "a77fac1c-e3a5-4722-b8ee-02b98275bbc6",
   "metadata": {},
   "outputs": [],
   "source": [
    "def imprime_solucao(xs, ys, freq=1):\n",
    "    \"\"\"\n",
    "    Dados dois arrays xs e ys de mesmo comprimento, imprime um\n",
    "    a cada 'freq' de seus valores por linha, na forma de uma\n",
    "    tabela. Os 0-ésimos e últimos valores sempre são impressos.\n",
    "    \"\"\"\n",
    "    def imprime_cabecalho():\n",
    "        \"\"\"\n",
    "        Imprime o cabeçalho da tabela.\n",
    "        \"\"\"\n",
    "        print(\"\\n       n      \", end=\"\")\n",
    "        print(\"    x_n            \", end=\"\")\n",
    "        print(\"    f(x_n)       \")\n",
    "        print(\"--------------------------------------------------\")\n",
    "        \n",
    "        \n",
    "    def imprime_linha(x, y):\n",
    "        \"\"\"\n",
    "        Imprime uma das linhas da tabela.\n",
    "        \"\"\"\n",
    "        print(f\"      {n:02}\", end=\"\")\n",
    "        print(f\"    {x:15.8f}\", end=\"\")\n",
    "        print(f\"    {y:15.8f}\")\n",
    "    \n",
    "    \n",
    "    N = len(ys) - 1        # N + 1 é o número de nodos; N o de passos.\n",
    "    if freq == 0:          # Se freq == 0, imprime apenas os últimos valores.\n",
    "        freq = N\n",
    "    imprime_cabecalho()\n",
    "    for n in range(0, N + 1, freq):\n",
    "        imprime_linha(xs[n], ys[n])\n",
    "    if n != N:\n",
    "        imprime_linha(xs[N], ys[N])\n",
    "    print(\"--------------------------------------------------\\n\")\n",
    "        \n",
    "    return None"
   ]
  },
  {
   "cell_type": "code",
   "execution_count": null,
   "id": "00e562cc-e1ac-4c39-82e9-695467db171e",
   "metadata": {},
   "outputs": [],
   "source": []
  }
 ],
 "metadata": {
  "kernelspec": {
   "display_name": "Python 3 (ipykernel)",
   "language": "python",
   "name": "python3"
  },
  "language_info": {
   "codemirror_mode": {
    "name": "ipython",
    "version": 3
   },
   "file_extension": ".py",
   "mimetype": "text/x-python",
   "name": "python",
   "nbconvert_exporter": "python",
   "pygments_lexer": "ipython3",
   "version": "3.9.15"
  }
 },
 "nbformat": 4,
 "nbformat_minor": 5
}
