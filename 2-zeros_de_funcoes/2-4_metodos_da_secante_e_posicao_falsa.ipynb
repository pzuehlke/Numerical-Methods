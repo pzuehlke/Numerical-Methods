{
 "cells": [
  {
   "cell_type": "markdown",
   "id": "bdc74ad5",
   "metadata": {},
   "source": [
    "$\\newcommand{\\set}[2]{\\big\\{#1\\,\\ {\\large:}\\ \\,#2\\big\\}}\n",
    "\\newcommand{\\eps}{\\varepsilon}\n",
    "\\newcommand{\\abs}[1]{\\left\\vert#1\\right\\vert}\n",
    "\\newcommand{\\ceil}[1]{\\left\\lceil#1\\right\\rceil}\n",
    "\\newcommand{\\floor}[1]{\\left\\lfloor#1\\right\\rfloor}\n",
    "\\DeclareMathOperator{\\sinal}{sinal}\n",
    "$\n",
    "# Os métodos da secante e da posição falsa"
   ]
  },
  {
   "cell_type": "markdown",
   "id": "1915eb9b",
   "metadata": {},
   "source": [
    "## $ \\S 1 $ Descrição do método da posição falsa\n",
    "\n",
    "Suponha que a função real contínua $ f $ troque de sinal dentro do intervalo $ [a, b] $. Assim como o método da bissecção, o **método da posição falsa** começa com as duas estimativas $ a $ e $ b $ para o zero. Mas em vez de tomar a próxima estimativa como o ponto médio destes, construímos a reta pelos pontos\n",
    "$$\n",
    "\\big(a, f(a)\\big) \\quad \\text{e} \\quad \\big(b,f(b)\\big)\n",
    "$$\n",
    "e consideramos o ponto onde ela cruza o eixo-$x$, definindo $ \\xi $ como sua primeira coordenada. Este seria exatamente o zero de $ f $ caso ela fosse linear, mas em geral isto não acontecerá. Portanto há três possibilidades:\n",
    "* Se $ f(\\xi) = 0 $, então $ \\xi $ é um zero de $ f $ e podemos terminar.\n",
    "* Se $ \\sinal\\big(f(\\xi)\\big) \\neq \\sinal\\big(f(a)\\big) $, então $ f $ troca de sinal em $ [a, \\xi] $. Neste caso fazemos $ b \\leftarrow \\xi $.\n",
    "* Se $ \\sinal\\big(f(\\xi)\\big) = \\sinal\\big(f(a)\\big) $, então $ f $ troca de sinal em $ [\\xi, b] $. Neste caso fazemos $ a \\leftarrow \\xi $.\n",
    "\n",
    "Nos dois últimos casos repetimos o procedimento usando o novo intervalo $ [a, b] $ em lugar do original e assim sucessivamente, até que seja satisfeito o critério de parada. Observe que em cada iteração temos a garantia da existência de um zero dentro do intervalo sob consideração, pois $ f $ troca de sinal aí.\n"
   ]
  },
  {
   "cell_type": "markdown",
   "id": "731d9a43",
   "metadata": {},
   "source": [
    "## $ \\S 2 $ Fórmulas para a próxima estimativa e para o erro\n",
    "\n",
    "### $ 2.1 $ Fórmula para a próxima estimativa\n",
    "\n",
    "A reta por dois pontos $ (x_0, y_0) $ e $ (x_1, y_1) $ é caracterizada pela igualdade da inclinação do segmento que liga $ (x_1, y_1) $ a $ (x_0, y_0) $ e a do segmento ligando um ponto $ (x, y) $ qualquer sobre a reta a $ (x_0, y_0) $. Em símbolos:\n",
    "$$\n",
    "\\frac{y - y_0}{x - x_0} = \\frac{y_1 - y_0}{x_1 - x_0}\n",
    "$$\n",
    "Equivalentemente, esta reta é descrita pela equação\n",
    "$$\n",
    "y = y_0 + \\frac{y_1 - y_0}{x_1 - x_0}\\,(x - x_0).\n",
    "$$\n",
    "\n",
    "No método da posição falsa utilizamos em cada passo a reta passando por $ \\big(a,f(a)\\big) $ e $ \\big(b,f(b)\\big) $, onde $ a $ e $ b $ são as extremidades do intervalo obtido no passo anterior. Substituindo estes valores acima, obtemos a equação\n",
    "$$\n",
    "y = f(a) + \\frac{f(b) - f(a)}{b - a}\\,(x - a).\n",
    "$$\n",
    "A próxima estimativa $ \\xi $ para o zero é o único valor de $ x $ que faz esta expressão se anular:\n",
    "$$\n",
    "\\boxed{\\xi = \\frac{af(b) - bf(a)}{f(b)-f(a)}}\n",
    "$$ \n",
    "\n",
    "📝 Observe a simetria desta fórmula com respeito a $ a $ e $ b $ e o fato que o denominador é não-nulo pois $ f(a) $ e $ f(b) $ têm sinais opostos por hipótese.\n",
    "\n",
    "### $ 2.2 $ Análise informal do erro\n",
    "\n",
    "Suponha por concretude que o sinal de $ f(\\xi) $ seja o mesmo que o de $ f(a) $, de modo que o intervalo seguinte seja $ [\\xi, b] $. Podemos estimar o novo erro $ b - \\xi $ em termos do anterior $ b - a $:\n",
    "\\begin{alignat*}{3}\n",
    "b - \\xi &= \\frac{bf(b) - {bf(a)} -\\big[af(b) - {bf(a)}\\big]}{f(b) - f(a)} \\\\\n",
    "& = \\frac{f(b)}{f(b) - f(a)} (b - a)\\,.\n",
    "\\end{alignat*}\n",
    "Como por hipótese $ f(a) $ e $ f(b) $ têm sinais opostos, o fator que multiplica $ (b - a) $ está entre $ 0 $ e $ 1 $. Se $ f(b) $ for muito maior que $ f(a) $ em valor absoluto, este fator ficará próximo de $ 1 $. Se isto acontecer em todas as iterações, a convergência ao zero será lenta; esta situação é ilustrada na figura abaixo."
   ]
  },
  {
   "cell_type": "markdown",
   "id": "12a15705",
   "metadata": {},
   "source": [
    "![Método da posição falsa](fig_2-4_posicao_falsa.png \"Title\")"
   ]
  },
  {
   "cell_type": "markdown",
   "id": "556efec8",
   "metadata": {},
   "source": [
    "Não é possível calcular precisamente e de maneira geral o erro cometido pelo método da posição falsa. Porém na situação descrita acima, seu desempenho é consideravelmente pior que a do método do bissecção. Por este motivo ele raramente é empregado na prática."
   ]
  },
  {
   "cell_type": "markdown",
   "id": "c78053e5",
   "metadata": {},
   "source": [
    "## $ \\S 3 $ Implementação do método da posição falsa\n",
    "\n",
    "Como o método da bissecção e da posição falsa só diferem na fórmula usada para obter a nova estimativa para o zero, as duas implementações são muito parecidas."
   ]
  },
  {
   "cell_type": "code",
   "execution_count": 1,
   "id": "66c06f94",
   "metadata": {},
   "outputs": [],
   "source": [
    "def posicao_falsa(f, a, b, eps):\n",
    "    \"\"\"\n",
    "    Utiliza o método da posição falsa para localizar um zero de uma função.\n",
    "    Entradas:\n",
    "        * A função real contínua f.\n",
    "        * As extremidades a e b de um intervalo onde f troca de sinal.\n",
    "        * A distância máxima tolerada eps do resultado a um zero.\n",
    "    Saída:\n",
    "        * Um ponto a distância menor que eps de um zero de f.\n",
    "    \"\"\"\n",
    "    from numpy import sign, log2, ceil\n",
    "    \n",
    "    \n",
    "    iteracoes = 1                         # Contador do número de iterações.\n",
    "    f_a = f(a)                            # Gravando o valor de f em a.\n",
    "    f_b = f(b)                            # Gravando o valor de f em b.\n",
    "    if eps <= 0:\n",
    "        raise ValueError(\"A tolerância deve ser positiva!\")\n",
    "    if f_a == 0:\n",
    "        return a\n",
    "    elif f_b == 0:\n",
    "        return b\n",
    "    elif sign(f_a) == sign(f_b):          # Verifique que [a, b] contém um zero.\n",
    "        raise ValueError(\"A função assume valores de mesmo sinal \"\n",
    "                         \"nas extremidades dadas!\")\n",
    "    \n",
    "    while (b - a) >= eps:\n",
    "        # Próxima estimativa:\n",
    "        x = (a * f(b) - b * f(a)) / (f(b) - f(a)) \n",
    "        f_x = f(x)                        # Gravando o valor de f em x.\n",
    "        if f_x == 0:\n",
    "            print(\"Encontrado um zero exato!\")\n",
    "            return x\n",
    "        elif sign(f_a) != sign(f_x):      # O intervalo [a, x] contém um zero.\n",
    "            b = x                         # Tome o novo b como sendo x.\n",
    "        else:                             # O intervalo [x, b] contém um zero.\n",
    "            a = x                         # Tome o novo a como sendo x.\n",
    "            f_a = f_x\n",
    "        iteracoes += 1\n",
    "    \n",
    "    print(f\"Encontrado um zero aproximado:\\n{x:12.7f}\")\n",
    "    print(f\"após {iteracoes} iterações.\")\n",
    "    print(f\"O valor da função neste ponto é:\\n{f(x):12.7f}\")\n",
    "    return x"
   ]
  },
  {
   "cell_type": "markdown",
   "id": "0489a020",
   "metadata": {},
   "source": [
    "## $ \\S 4 $ Problemas"
   ]
  },
  {
   "cell_type": "markdown",
   "id": "281f7f5b",
   "metadata": {},
   "source": [
    "**Problema 1:** Usando o método da posição falsa com precisão de três dígitos decimais:\n",
    "\n",
    "(a) Encontre uma raiz positiva da equação $ \\sin x = \\frac{x}{2} $.\n",
    "\n",
    "(a) Encontre a primeira raiz positiva da equação $ \\sin x = \\frac{x}{n} $ para $ n = 2, 3, \\dots, 20 $."
   ]
  },
  {
   "cell_type": "markdown",
   "id": "a20cd56d",
   "metadata": {},
   "source": [
    "*Solução:*"
   ]
  },
  {
   "cell_type": "code",
   "execution_count": null,
   "id": "d57e5eca",
   "metadata": {},
   "outputs": [],
   "source": []
  },
  {
   "cell_type": "markdown",
   "id": "320f643f",
   "metadata": {},
   "source": [
    "**Problema 2:** Calcule com ajuda do computador, mas sem usar a implementação acima, as três primeiras iterações do método da posição falsa para estimar uma raiz das equações abaixo nos intervalos indicados. Esboce também os gráficos das funções utilizadas:\n",
    "\n",
    "(a) $ \\tan x - \\frac{1}{1 + x^2} = 0 $, $ 0 \\le x \\le \\frac{\\pi}{2} $.\n",
    "\n",
    "(b) $ x^2 = 2 $, $ 0 \\le x \\le 2 $.\n",
    "\n",
    "(c) $ x \\ln x = 1 $, $ 1 \\le x \\le 2 $.\n",
    "\n",
    "(d) $ \\cos x = x $, $ 0 \\le x \\le \\frac{\\pi}{2} $."
   ]
  },
  {
   "cell_type": "markdown",
   "id": "05dab115",
   "metadata": {},
   "source": [
    "*Solução:*"
   ]
  },
  {
   "cell_type": "code",
   "execution_count": null,
   "id": "6d9e0544",
   "metadata": {},
   "outputs": [],
   "source": []
  },
  {
   "cell_type": "markdown",
   "id": "6a0b2ad2",
   "metadata": {},
   "source": [
    "**Problema 3:** Vimos no caderno anterior que no método da bissecção os comprimentos do intervalo anterior e do atual estão relacionados pela fórmula \n",
    "$$\n",
    "\\abs{I_n} = c \\abs{I_{n-1}} \\quad \\text{com} \\quad c = \\frac{1}{2}\n",
    "$$ \n",
    "\n",
    "(a) Estime a constante $ c $ que relaciona as duas para o método da posição falsa aplicado ao problema de se encontrar a raiz positiva da equação\n",
    "$$\n",
    "x^{8} - 1 = 0\n",
    "$$\n",
    "usando como intervalo inicial $ [a, b] = [0, 2] $.\n",
    "\n",
    "(b) Conclua se seria melhor usar o método da bissecção ou o método da posição falsa neste caso. "
   ]
  },
  {
   "cell_type": "code",
   "execution_count": null,
   "id": "ff869a26",
   "metadata": {},
   "outputs": [],
   "source": []
  }
 ],
 "metadata": {
  "kernelspec": {
   "display_name": "Python 3 (ipykernel)",
   "language": "python",
   "name": "python3"
  },
  "language_info": {
   "codemirror_mode": {
    "name": "ipython",
    "version": 3
   },
   "file_extension": ".py",
   "mimetype": "text/x-python",
   "name": "python",
   "nbconvert_exporter": "python",
   "pygments_lexer": "ipython3",
   "version": "3.9.15"
  }
 },
 "nbformat": 4,
 "nbformat_minor": 5
}
