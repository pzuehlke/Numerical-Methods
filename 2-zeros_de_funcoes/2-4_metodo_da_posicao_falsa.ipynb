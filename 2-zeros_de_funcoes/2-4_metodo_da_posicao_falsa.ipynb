{
 "cells": [
  {
   "cell_type": "code",
   "execution_count": 7,
   "id": "965db028-d5df-4ad5-bf8f-69eb5006b873",
   "metadata": {},
   "outputs": [
    {
     "name": "stdout",
     "output_type": "stream",
     "text": [
      "The autoreload extension is already loaded. To reload it, use:\n",
      "  %reload_ext autoreload\n",
      "Warning: Cannot change to a different GUI toolkit: qt. Using qt5 instead.\n"
     ]
    }
   ],
   "source": [
    "import matplotlib.pyplot as plt\n",
    "import numpy as np\n",
    "from typing import Callable\n",
    "%load_ext autoreload\n",
    "%autoreload 2\n",
    "%matplotlib qt"
   ]
  },
  {
   "attachments": {},
   "cell_type": "markdown",
   "id": "bdc74ad5",
   "metadata": {},
   "source": [
    "# O método da posição falsa"
   ]
  },
  {
   "attachments": {},
   "cell_type": "markdown",
   "id": "1915eb9b",
   "metadata": {},
   "source": [
    "## $ \\S 1 $ Descrição do método da posição falsa\n",
    "\n",
    "Suponha que a função real contínua $ f \\colon [a, b] \\to \\mathbb R $ seja tal que\n",
    "$$\n",
    "    \\operatorname{sinal} f(a) \\ne \\operatorname{sinal} f(b)\\,.\n",
    "$$\n",
    "Assim como o método da bissecção, o __método da posição falsa__ começa com as\n",
    "duas estimativas $ a $ e $ b $ para um zero. Mas em vez de tomar a próxima\n",
    "estimativa como o ponto médio destes, construímos a reta pelos pontos\n",
    "$$\n",
    "\\big(a, f(a)\\big) \\quad \\text{e} \\quad \\big(b,f(b)\\big)\n",
    "$$\n",
    "e encontramos o ponto onde ela cruza o eixo-$x$, definindo $ c $ como sua\n",
    "primeira coordenada. Este seria exatamente o zero de $ f $ caso ela fosse\n",
    "linear entre $ a $ e $ b $, mas em geral isto não acontecerá. Portanto há três\n",
    "possibilidades:\n",
    "* Se $ f(c) = 0 $, então $ c $ é um zero de $ f $ e podemos terminar.\n",
    "* Se $ \\operatorname{sinal} f(c) \\neq \\operatorname{sinal} f(a) $, então $ f $ troca de sinal em $ [a, c] $. Neste caso fazemos $ b \\leftarrow c $.\n",
    "* Se $ \\operatorname{sinal} f(c) = \\operatorname{sinal} f(a) $, então $ f $ troca de sinal em $ [c, b] $. Neste caso fazemos $ a \\leftarrow c $.\n",
    "\n",
    "Nos dois últimos casos repetimos o procedimento usando o novo intervalo $ [a, b] $ em lugar do original e assim sucessivamente, até que seja satisfeito o critério de parada. Observe que em cada iteração temos a garantia da existência de um zero dentro do intervalo sob consideração, pois $ f $ troca de sinal aí.\n",
    "\n",
    "📝 O método da posição falsa também é conhecido como _regula falsi_.\n",
    "\n",
    "__Exemplo 1:__ Execute em seqüência as três células abaixo para ver uma animação\n",
    "do método da posição falsa aproximando o zero da função $ f(x) = 1 + x\\cos x + \\sin(2x) $\n",
    "em $ 1.8394 $ (aproximadamente)."
   ]
  },
  {
   "cell_type": "code",
   "execution_count": 2,
   "id": "11b9dfc7-b8dd-49fd-b496-af358d7b3c86",
   "metadata": {
    "tags": []
   },
   "outputs": [],
   "source": [
    "def print_solution(xs: list[float], ys: list[float], freq: int = 1) -> None:\n",
    "    \"\"\"\n",
    "    Given two arrays xs and ys of the same length, prints a table whose n-th\n",
    "    line consists of three entries: the values of n, xs[n] and ys[n].\n",
    "    Parameters:\n",
    "        * The arrays xs and ys. \n",
    "        * A parameter freq used to print only one in every freq line. The\n",
    "          first, second and last line are always printed. If freq == 0, then\n",
    "          only these lines are printed.\n",
    "    Output: None.\n",
    "    Prints: A header and the table described above.\n",
    "    \"\"\"\n",
    "    def print_header() -> None:\n",
    "        \"\"\"\n",
    "        Prints the table's header.\n",
    "        \"\"\"\n",
    "        print(\"\\n|       n      \", end=\"\")\n",
    "        print(\"    x_n            \", end=\"\")\n",
    "        print(\"    f(x_n)      |\")\n",
    "        print(\"|=================================================|\")\n",
    "        \n",
    "    def print_line(n: int, x: float, y: float) -> None:\n",
    "        \"\"\"\n",
    "        Pretty-prints n, x and y.\n",
    "        \"\"\"\n",
    "        if n == 0:\n",
    "            print(f\"|       a\", end=\"\")\n",
    "        elif n == 1:\n",
    "            print(f\"|       b\", end=\"\")\n",
    "        else:\n",
    "            print(f\"|      {n - 1:02}\", end=\"\")\n",
    "        print(f\"    {x:15.8f}\", end=\"\")\n",
    "        print(f\"    {y:15.8f}   |\")\n",
    "    \n",
    "    \n",
    "    N = len(xs)\n",
    "    if freq == 0:       # If freq == 0, print only first and last lines.\n",
    "        freq = N - 1\n",
    "    print_header()\n",
    "    for n in range(0, 2):\n",
    "        print_line(n, xs[n], ys[n])\n",
    "    for n in range(2, N, freq):\n",
    "        print_line(n, xs[n], ys[n])\n",
    "    if n != N - 1:\n",
    "        print_line(n, xs[N], ys[N])\n",
    "    print(\"|_________________________________________________|\\n\")\n",
    "        \n",
    "    return None"
   ]
  },
  {
   "cell_type": "code",
   "execution_count": 6,
   "id": "ff869a26",
   "metadata": {},
   "outputs": [],
   "source": [
    "\n",
    "def false_position_animation(f: Callable[[float], float], a: float, b :float,\n",
    "                        N: int = 4, title: str = \"\", duration: float = 0.75\n",
    "                        ) -> tuple[list[float], list[float]]:\n",
    "    \"\"\"\n",
    "    Displays an animation of the false position (a.k.a. regula falsi) method\n",
    "    applied to a function.\n",
    "    Parameters:\n",
    "        * A continuous real function f.\n",
    "        * The two endpoitns a and b of an interval such that f(a)f(b) < 0.\n",
    "        * The maximum number N of iterations.\n",
    "        * A title to be displayed at the top of the diagram.\n",
    "        * The pause between slides of the animation, in seconds.\n",
    "          Set pause = 0 to produce a figure instead of an animation.\n",
    "    Output:\n",
    "        * Two lists xs and ys containing the estimates and the values of the\n",
    "          function f at each of them.\n",
    "    Displays:\n",
    "        * The animation in a pop-up window.\n",
    "    \"\"\"\n",
    "    import matplotlib.pyplot as plt\n",
    "    import numpy as np\n",
    "    %matplotlib qt\n",
    "    \n",
    "    \n",
    "    def pause(duration):\n",
    "        \"\"\"\n",
    "        Pauses the animation for duration seconds, provided duration > 0.\n",
    "        \"\"\"\n",
    "        if duration > 0:\n",
    "            plt.pause(duration)\n",
    "\n",
    "    def iterate(a, b):\n",
    "        \"\"\"\n",
    "        Applies a single step of the false position method to the interval\n",
    "        [a, b]. Returns the next estimate and the left, right endpoints\n",
    "        of the next interval.\n",
    "        \"\"\"\n",
    "        c = (a * f(b) - b * f(a)) / (f(b) - f(a)) \n",
    "        if np.sign(f(a)) != np.sign(f(c)):     # [a, c] contains a zero.\n",
    "            return c, a, c\n",
    "        else:                                  # [c, b] contains a zero.\n",
    "            return c, c, b\n",
    "    \n",
    "    \n",
    "    P = 200                                    # Number of points in each plot.\n",
    "    width = 1.75                               # Line width.\n",
    "    marker_size = 5\n",
    "    domain = np.linspace(a, b, P)              # Generates P nodes from a to b.\n",
    "    xs = [a, b]                                # Stores the estimates.\n",
    "    ys = [f(a), f(b)]                          # Stores f of the estimates.\n",
    "    # Creating lists to store the sample points for the lines between\n",
    "    # consecutive estimates:\n",
    "    xs_line = [np.linspace(a, b, P)]\n",
    "    ys_line = [np.linspace(f(a), f(b), P)]\n",
    "    for _ in range(N):                         # Filling xs.\n",
    "        c, a, b = iterate(a, b)\n",
    "        xs.append(c)\n",
    "        xs_line.append(np.linspace(a, b, P))   # Filling xs_line.\n",
    "        ys_line.append(np.linspace(f(a), f(b), P))    # Filling ys_line.\n",
    "    ys = [f(x) for x in xs]                    # Stores f of the estimates.\n",
    "    # Lists containing the x and y coordinates for plotting vertical lines:\n",
    "    xs_vert = [np.linspace(xs[n], xs[n], P) for n in range(N + 2)]\n",
    "    ys_vert = [np.linspace(0, ys[n], P) for n in range(N + 2)]\n",
    "    cmap = plt.get_cmap(\"tab10\")               # Used to control the colors.\n",
    "    \n",
    "    # Draw the graph of f:\n",
    "    plt.axhline(y=0.0, color='black', linestyle='-', lw=width)\n",
    "    plt.xlabel(\"$ x $-axis\")\n",
    "    plt.ylabel(\"$ y $-axis\")\n",
    "    plt.title(title)\n",
    "    plt.grid(True)\n",
    "    plt.plot(domain, f(domain), label=\"$ y = f(x) $\", lw=width)\n",
    "    plt.legend()\n",
    "\n",
    "    # Mark a on the x-axis and draw the vertical line x = a:\n",
    "    pause(duration)\n",
    "    plt.plot(xs[0], 0, color='black', marker=\"|\", mew=width)\n",
    "    pause(duration)\n",
    "    plt.plot(xs_vert[0], ys_vert[0], linestyle='-', lw=width, label='$ a $')\n",
    "    plt.plot(xs[0], 0, color='black', marker=\"|\", mew=width)\n",
    "    plt.plot(xs[0], ys[0], color='black', marker=\"o\", ms=marker_size)\n",
    "    plt.legend()\n",
    "    \n",
    "    # Mark b on the x-axis and draw the vertical line x = b:\n",
    "    pause(duration)\n",
    "    plt.plot(xs[1], 0, color='black', marker=\"|\", mew=width)\n",
    "    pause(duration)\n",
    "    plt.plot(xs_vert[1], ys_vert[1], linestyle='-', lw=width, label='$ b $')\n",
    "    plt.plot(xs[1], 0, color='black', marker=\"|\", mew=width)\n",
    "    plt.plot(xs[1], ys[1], color='black', marker=\"o\", ms=marker_size)\n",
    "    plt.legend()\n",
    "\n",
    "    for n in range(2, N + 2):\n",
    "        pause(duration)\n",
    "        # Drawing the line between the two previous estimates:\n",
    "        plt.plot(xs_line[n - 2], ys_line[n - 2],\n",
    "                 linestyle='--', lw=width)\n",
    "        pause(duration)\n",
    "        # Marking x_n:\n",
    "        plt.plot(xs[n], 0, color='black', marker=\"x\", mew=width)\n",
    "        pause(duration)\n",
    "        # Drawing the vertical line through x_n and marking (x_n, y_n):\n",
    "        plt.plot(xs_vert[n], ys_vert[n], linestyle='-', lw=width,\n",
    "                 label=f'$ x_{n - 1} $', color=cmap(n + 1))\n",
    "        plt.plot(xs[n], 0, color='black', marker=\"x\", mew=width)\n",
    "        plt.plot(xs[n], ys[n], color='black', marker=\"o\", ms=marker_size)\n",
    "    plt.legend()\n",
    "    \n",
    "    return xs, ys"
   ]
  },
  {
   "cell_type": "code",
   "execution_count": 5,
   "id": "3f4a2a77",
   "metadata": {},
   "outputs": [
    {
     "name": "stdout",
     "output_type": "stream",
     "text": [
      "Warning: Cannot change to a different GUI toolkit: qt. Using qt5 instead.\n"
     ]
    }
   ],
   "source": [
    "from numpy import sin, cos, pi\n",
    "a = 0           # Extremidade esquerda do intervalo inicial, onde f vale -3.\n",
    "b = pi          # Extremidade direita, onde f vale 3.\n",
    "N = 4           # Número de iterações desejado.\n",
    "pausa = 0.0     # Intervalo de tempo entre cada passo da animação, em segundos.\n",
    "# Função à qual o método será aplicado:\n",
    "f = lambda x: 1 + x * cos(x) + sin(2 * x)\n",
    "# Título a ser exibido no topo do diagrama:\n",
    "titulo = \"Método da posição falsa para \"\\\n",
    "         \"$ y = 1 + x\\cos x + \\sin(2x),\\ a = 0,\\ b = \\pi $.\"\n",
    "\n",
    "xs, ys = false_position_animation(f, a, b, N, titulo, pausa)"
   ]
  },
  {
   "attachments": {},
   "cell_type": "markdown",
   "id": "189bfd86",
   "metadata": {},
   "source": [
    "![Exemplo do método da posição falsa](fig_2-4_exemplo_1.png \"Exemplo de aplicação do método da posição falsa\")"
   ]
  },
  {
   "cell_type": "code",
   "execution_count": 44,
   "id": "b6b90952",
   "metadata": {},
   "outputs": [
    {
     "name": "stdout",
     "output_type": "stream",
     "text": [
      "\n",
      "|       n          x_n                f(x_n)      |\n",
      "|=================================================|\n",
      "|       a         0.00000000         1.00000000   |\n",
      "|       b         3.14159265        -2.14159265   |\n",
      "|      01         1.00000000         2.44959973   |\n",
      "|      02         2.14263232        -1.06970379   |\n",
      "|      03         1.79532549         0.16615807   |\n",
      "|      04         1.84201990        -0.00972982   |\n",
      "|_________________________________________________|\n",
      "\n"
     ]
    }
   ],
   "source": [
    "print_solution(xs, ys)"
   ]
  },
  {
   "cell_type": "markdown",
   "id": "731d9a43",
   "metadata": {},
   "source": [
    "## $ \\S 2 $ Fórmulas para a próxima estimativa e para o erro\n",
    "\n",
    "### $ 2.1 $ Fórmula para a próxima estimativa\n",
    "\n",
    "A reta por dois pontos $ (x_0, y_0) $ e $ (x_1, y_1) $ é caracterizada pela igualdade da inclinação do segmento que liga $ (x_1, y_1) $ a $ (x_0, y_0) $ e a do segmento ligando um ponto $ (x, y) $ qualquer sobre a reta a $ (x_0, y_0) $. Em símbolos:\n",
    "$$\n",
    "\\frac{y - y_0}{x - x_0} = \\frac{y_1 - y_0}{x_1 - x_0}\n",
    "$$\n",
    "Equivalentemente, esta reta é descrita pela equação\n",
    "$$\n",
    "y = y_0 + \\frac{y_1 - y_0}{x_1 - x_0}\\,(x - x_0).\n",
    "$$\n",
    "\n",
    "No método da posição falsa utilizamos em cada passo a reta passando por $ \\big(a,f(a)\\big) $ e $ \\big(b,f(b)\\big) $, onde $ a $ e $ b $ são as extremidades do intervalo obtido no passo anterior. Substituindo estes valores acima, obtemos a equação\n",
    "$$\n",
    "y = f(a) + \\frac{f(b) - f(a)}{b - a}\\,(x - a).\n",
    "$$\n",
    "A próxima estimativa $ \\xi $ para o zero é o único valor de $ x $ que faz esta expressão se anular:\n",
    "$$\n",
    "\\boxed{\\xi = \\frac{af(b) - bf(a)}{f(b)-f(a)}}\n",
    "$$ \n",
    "\n",
    "📝 Observe a simetria desta fórmula com respeito a $ a $ e $ b $ e o fato que o denominador é não-nulo pois $ f(a) $ e $ f(b) $ têm sinais opostos por hipótese.\n",
    "\n",
    "### $ 2.2 $ Análise informal do erro\n",
    "\n",
    "Suponha por concretude que o sinal de $ f(\\xi) $ seja o mesmo que o de $ f(a) $, de modo que o intervalo seguinte seja $ [\\xi, b] $. Podemos estimar o novo erro $ b - \\xi $ em termos do anterior $ b - a $:\n",
    "\\begin{alignat*}{3}\n",
    "b - \\xi &= \\frac{bf(b) - {bf(a)} -\\big[af(b) - {bf(a)}\\big]}{f(b) - f(a)} \\\\\n",
    "& = \\frac{f(b)}{f(b) - f(a)} (b - a)\\,.\n",
    "\\end{alignat*}\n",
    "Como por hipótese $ f(a) $ e $ f(b) $ têm sinais opostos, o fator que multiplica $ (b - a) $ está entre $ 0 $ e $ 1 $. Se $ f(b) $ for muito maior que $ f(a) $ em valor absoluto, este fator ficará próximo de $ 1 $. Se isto acontecer em todas as iterações, a convergência ao zero será lenta; esta situação é ilustrada pela animação abaixo."
   ]
  },
  {
   "cell_type": "code",
   "execution_count": 10,
   "id": "7046fac5-1de9-4f78-9fc4-0166ad7f4ad5",
   "metadata": {},
   "outputs": [
    {
     "name": "stdout",
     "output_type": "stream",
     "text": [
      "Warning: Cannot change to a different GUI toolkit: qt. Using qt5 instead.\n",
      "\n",
      "|       n          x_n                f(x_n)      |\n",
      "|=================================================|\n",
      "|       a         0.00000000        -3.00000000   |\n",
      "|       b         4.00000000       249.00000000   |\n",
      "|      01         0.04761905        -3.04761391   |\n",
      "|      02         0.09540895        -3.09532609   |\n",
      "|      03         0.14335106        -3.14292878   |\n",
      "|      04         0.19142369        -3.19008098   |\n",
      "|      05         0.23960032        -3.23630460   |\n",
      "|      06         0.28784793        -3.28098274   |\n",
      "|      07         0.33612547        -3.32336092   |\n",
      "|      08         0.38438251        -3.36255247   |\n",
      "|_________________________________________________|\n",
      "\n"
     ]
    }
   ],
   "source": [
    "a = 0          # Extremidade esquerda do intervalo inicial, onde f vale -3.\n",
    "b = 4          # Extremidade direita, onde f vale 57.\n",
    "N = 8          # Número de iterações desejado.\n",
    "pausa = 0.5    # Intervalo de tempo entre cada passo da animação, em segundos.\n",
    "f = lambda x: x**4 - x - 3    # Função à qual o método será aplicado.\n",
    "# Título a ser exibido no topo do diagrama:\n",
    "titulo = (\"Método da posição falsa para $ y = x^3 - x - 3,\\ a = 0,\\ b = 4 $.\"\n",
    "          \"\\nAproximação lenta por um único lado.\")\n",
    "\n",
    "xs, ys = false_position_animation(f, a, b, N, titulo, pausa)\n",
    "print_solution(xs, ys)"
   ]
  },
  {
   "attachments": {},
   "cell_type": "markdown",
   "id": "12a15705",
   "metadata": {},
   "source": [
    "![Exemplo de convergência lenta com o método da posição falsa](fig_2-4_exemplo_2.png \"Exemplo de convergência lenta com o método da posição falsa\")"
   ]
  },
  {
   "attachments": {},
   "cell_type": "markdown",
   "id": "556efec8",
   "metadata": {},
   "source": [
    "Não é possível calcular precisamente e de maneira geral o erro cometido pelo método da posição falsa. Porém na situação descrita acima, seu desempenho é consideravelmente pior que o do método do bissecção. Por este motivo ele raramente é empregado na prática.\n",
    "\n",
    "📝 Para exemplos ainda mais extremos da lentidão da convergência, troque o expoente $ n = 3 $ por outro maior na expressão para a função $ f(x) = x^n - x - 3 $ considerada acima e rode novamente a animação."
   ]
  },
  {
   "cell_type": "markdown",
   "id": "c78053e5",
   "metadata": {},
   "source": [
    "## $ \\S 3 $ Implementação do método da posição falsa\n",
    "\n",
    "Como o método da bissecção e da posição falsa só diferem na fórmula usada para obter a nova estimativa para o zero, as duas implementações são muito parecidas."
   ]
  },
  {
   "cell_type": "code",
   "execution_count": 12,
   "id": "66c06f94",
   "metadata": {},
   "outputs": [],
   "source": [
    "def false_position(f: Callable[[float], float], a: float, b: float,\n",
    "                   eps: float = 1e-3, max_iter: int = 100\n",
    "                   )-> tuple[list[float], list[float]]:\n",
    "    \"\"\"\n",
    "    Uses the false position (regular falsi) method to approximate a zero of a\n",
    "    function.\n",
    "    Parameters:\n",
    "        * A real continuous function f.\n",
    "        * Points a and b such that f(a)f(b) < 0 and f is defined on [a, b].\n",
    "        * The maximum tolerance eps for the error.\n",
    "        * The maximum number max_iter of iterations.\n",
    "    Output:\n",
    "        * Two lists, xs and ys, containing the estimates and the values of f\n",
    "          at each of them, respectively.\n",
    "    Prints:\n",
    "        * The last estimate.\n",
    "        * The value of f at this estimate.\n",
    "        * The number of iterations that were performed.\n",
    "        * An upper bound for the error.\n",
    "    \"\"\"\n",
    "    from numpy import sign\n",
    "    \n",
    "\n",
    "    iterations = 0                        # Counts the number of iterations.\n",
    "    f_a = f(a)                            # Storing the value of f at a.\n",
    "    f_b = f(b)                            # Storing the value of f at b.\n",
    "    xs = [a, b]                           # List to store the estimates.\n",
    "    ys = [f_a, f_b]                       # List to store f of the estimates.\n",
    "    if eps <= 0:                          # Error: invalid value for 'eps'.\n",
    "        raise ValueError(\"The tolerance must be positive!\")\n",
    "    if f_a == 0:                          # a is a zero.\n",
    "        print(\"a is an exact zero.\")\n",
    "        return a\n",
    "    elif f_b == 0:                        # b is a zero.\n",
    "        print(\"b is an exact zero.\")\n",
    "        return b\n",
    "    elif sign(f_a) == sign(f_b):          # Error: cannot guarantee zero exists.\n",
    "        raise ValueError(\"The function takes on the same sign\"\n",
    "                         \"at the given endpoints!\")\n",
    "    \n",
    "    while (b - a) >= eps and iterations <= max_iter:\n",
    "        c = (a * f(b) - b * f(a)) / (f(b) - f(a))       # Next estimate.\n",
    "        f_c = f(c)                        # Storing the value of f at c.\n",
    "        xs.append(c)                      # Appending c to the estimates.\n",
    "        ys.append(f_c)                    # Appending f(c) to ys.\n",
    "        if f_m == 0:\n",
    "            print(\"Found an exact zero.\")\n",
    "            return c\n",
    "        elif sign(f_a) != sign(f_c):      # [a, c] contains a zero.\n",
    "            b = c                         # Take c to be the new b.\n",
    "        else:                             # [c, b] contains a zero.\n",
    "            a = c                         # Take c to be the new a.\n",
    "            f_a = f_c\n",
    "        iterations += 1\n",
    "        \n",
    "    print(f\"Found an approximate zero:\\n{m:15.9f}\")\n",
    "    print(f\"after {iterations} iterations, with an error of at most {b - a}.\")\n",
    "    print(f\"The value of f at this point is:\\n{f(m):15.9f}\")\n",
    "    \n",
    "    return xs, ys"
   ]
  },
  {
   "cell_type": "markdown",
   "id": "0489a020",
   "metadata": {},
   "source": [
    "## $ \\S 4 $ Problemas"
   ]
  },
  {
   "cell_type": "markdown",
   "id": "281f7f5b",
   "metadata": {},
   "source": [
    "**Problema 1:** Usando o método da posição falsa com precisão de três dígitos decimais:\n",
    "\n",
    "(a) Encontre uma raiz positiva da equação $ \\sin x = \\frac{x}{2} $.\n",
    "\n",
    "(a) Encontre a primeira raiz positiva da equação $ \\sin x = \\frac{x}{n} $ para $ n = 2, 3, \\dots, 20 $."
   ]
  },
  {
   "cell_type": "markdown",
   "id": "a20cd56d",
   "metadata": {},
   "source": [
    "*Solução:*"
   ]
  },
  {
   "cell_type": "code",
   "execution_count": null,
   "id": "d57e5eca",
   "metadata": {},
   "outputs": [],
   "source": []
  },
  {
   "cell_type": "markdown",
   "id": "320f643f",
   "metadata": {},
   "source": [
    "**Problema 2:** Calcule com ajuda do computador, mas sem usar a implementação acima, as três primeiras iterações do método da posição falsa para estimar uma raiz das equações abaixo nos intervalos indicados. Esboce também os gráficos das funções utilizadas:\n",
    "\n",
    "(a) $ \\tan x - \\frac{1}{1 + x^2} = 0 $, $ 0 \\le x \\le \\frac{\\pi}{2} $.\n",
    "\n",
    "(b) $ x^2 = 2 $, $ 0 \\le x \\le 2 $.\n",
    "\n",
    "(c) $ x \\ln x = 1 $, $ 1 \\le x \\le 2 $.\n",
    "\n",
    "(d) $ \\cos x = x $, $ 0 \\le x \\le \\frac{\\pi}{2} $."
   ]
  },
  {
   "cell_type": "markdown",
   "id": "05dab115",
   "metadata": {},
   "source": [
    "*Solução:*"
   ]
  },
  {
   "cell_type": "code",
   "execution_count": null,
   "id": "6d9e0544",
   "metadata": {},
   "outputs": [],
   "source": []
  },
  {
   "attachments": {},
   "cell_type": "markdown",
   "id": "6a0b2ad2",
   "metadata": {},
   "source": [
    "**Problema 3:** Vimos no caderno anterior que no método da bissecção os comprimentos do intervalo anterior e do atual estão relacionados pela fórmula \n",
    "$$\n",
    "\\left\\vert{I_n}\\right\\vert = c \\left\\vert{I_{n-1}}\\right\\vert \\quad \\text{com} \\quad c = \\frac{1}{2}\n",
    "$$ \n",
    "\n",
    "(a) Estime a constante $ c $ que relaciona as duas para o método da posição falsa aplicado ao problema de se encontrar a raiz positiva da equação\n",
    "$$\n",
    "x^{8} - 1 = 0\n",
    "$$\n",
    "usando como intervalo inicial $ [a, b] = [0, 2] $.\n",
    "\n",
    "(b) Conclua se seria melhor usar o método da bissecção ou o método da posição falsa neste caso. "
   ]
  },
  {
   "cell_type": "code",
   "execution_count": null,
   "id": "00e562cc-e1ac-4c39-82e9-695467db171e",
   "metadata": {},
   "outputs": [],
   "source": []
  }
 ],
 "metadata": {
  "kernelspec": {
   "display_name": "base",
   "language": "python",
   "name": "python3"
  },
  "language_info": {
   "codemirror_mode": {
    "name": "ipython",
    "version": 3
   },
   "file_extension": ".py",
   "mimetype": "text/x-python",
   "name": "python",
   "nbconvert_exporter": "python",
   "pygments_lexer": "ipython3",
   "version": "3.9.16"
  },
  "vscode": {
   "interpreter": {
    "hash": "49060cedf8366e4ce4bf4b9d121c044cf7249a0afe21432e14f32b1ca5a4731f"
   }
  }
 },
 "nbformat": 4,
 "nbformat_minor": 5
}
