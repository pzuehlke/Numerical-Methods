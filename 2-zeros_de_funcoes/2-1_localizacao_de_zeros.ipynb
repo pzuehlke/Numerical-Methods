{
 "cells": [
  {
   "cell_type": "markdown",
   "id": "32505fe9",
   "metadata": {},
   "source": [
    "$\\newcommand{\\set}[2]{\\big\\{#1\\,\\ {\\large:}\\ \\,#2\\big\\}}\n",
    "\\newcommand{\\eps}{\\varepsilon}$\n",
    "\n",
    "\n",
    "# Localização de zeros de funções\n",
    "\n",
    "## $ \\S 1 $ Introdução\n",
    "\n",
    "Um ponto $ \\zeta $ do domínio de uma função $ f $ de uma variável é dito um **zero** de $ f $ caso\n",
    "$$ f(\\zeta) = 0 .$$\n",
    "Nesta situação também dizemos que $ \\zeta $ é uma **raiz** da equação acima.\n",
    "\n",
    "📝 '$ \\zeta $' é a sexta letra do alfabeto grego, denominada *zeta*.\n",
    "\n",
    "A busca por zeros de uma função é um dos problemas mais freqüentes em Ciência e Engenharia. Embora a determinação *analítica* dos zeros seja difícil mesmo nos casos mais simples, por exemplo em que a função é um polinômio de grau $ > 2 $, existem métodos numéricos gerais que nos permitem encontrar zeros de funções contínuas arbitrárias com alta precisão e baixo uso de recursos computacionais.\n",
    "\n",
    "📝 Observe que encontrar uma raiz de uma equação qualquer em uma variável, digamos, da forma \n",
    "$$\n",
    "g(x) = h(x),\n",
    "$$\n",
    "é equivalente à tarefa de se encontrar um zero da função $ f(x) = g(x) - h(x) $.\n",
    "\n",
    "Ainda que a maioria das funções estudadas em Cálculo possam ser estendidas a funções de uma variável complexa, estaremos interessados aqui em encontrar apenas os zeros *reais* de uma *função real contínua de uma variável real*. Contudo, algumas das técnicas que estudaremos, em especial o método de Newton, também podem ser aplicadas a funções complexas.\n",
    "\n",
    "O sistema de ponto flutuante empregado em computação impõe restrições inevitáveis à precisão do cálculo dos valores de uma função. Por isto na prática não podemos esperar encontrar um ponto $ \\zeta $ onde a função valha exatamente $ 0 $, como ilustrado no exemplo abaixo. Em vez disto, buscamos encontrar um *intervalo* suficientemente pequeno onde a função troca de sinal."
   ]
  },
  {
   "cell_type": "markdown",
   "id": "d96895b4",
   "metadata": {},
   "source": [
    "**Problema 1:** Considere os polinômios\n",
    "$$ p(x) = 2x - 0.2 \\qquad \\text{e} \\qquad q(x) = 3 x - 0.3 $$\n",
    "Note que $ a = \\frac{1}{10} $ é um zero tanto de $ p $ quanto de $ q $.\n",
    "\n",
    "(a) Usando `lambda`, defina $ p(x) $ e $ q(x) $ como funções em Python.\n",
    "\n",
    "(b) Agora defina um procedimento `checa_zero(f, x)` que, dados uma função $ f $ e um número $ x $ em seu domínio, retorna `True` se `f(x) == 0` e `False` caso contrário. Qual é o resultado da aplicação deste procedimento aos pares $ (p, a) $ e $ (q, a) $? Como você explica esta discrepância?\n",
    "\n",
    "(c) Como poderíamos modificar a definição de `checa_zero` de modo que ela acuse que $ q $ possui um zero em $ a $? Quais as desvantagens da sua proposta?"
   ]
  },
  {
   "cell_type": "markdown",
   "id": "47becd99",
   "metadata": {},
   "source": [
    "*Solução:*"
   ]
  },
  {
   "cell_type": "code",
   "execution_count": 77,
   "id": "63b558a7",
   "metadata": {
    "scrolled": true
   },
   "outputs": [
    {
     "data": {
      "text/plain": [
       "0.2"
      ]
     },
     "execution_count": 77,
     "metadata": {},
     "output_type": "execute_result"
    }
   ],
   "source": [
    "round(2 * 0.1, 26)"
   ]
  },
  {
   "cell_type": "markdown",
   "id": "a34daf7d",
   "metadata": {},
   "source": [
    "## $ \\S 2 $ Localização de raízes\n",
    "\n",
    "### $ 2.1 $ O Teorema do Valor Intermediário\n",
    "\n",
    "**Teorema do Valor Intermediário:** Seja $ f \\colon [a, b] \\to \\mathbb R $ uma função _contínua_ definida num intervalo $ [a, b] $ _limitado e fechado_. Então $ f $ assume em $ [a, b] $ todos os valores possíveis entre $ f(a) $ e $ f(b) $.\n",
    "\n",
    "**Demonstração informal:** Suponha por concretude que $ f(a) < 0 $ e $ f(b) > 0 $. Imaginando o gráfico da função contínua $ f $, isto significa que em $ a $ ele está abaixo do eixo-$x$ e em $ b $ acima. Queremos mostrar que em algum momento ele cruza o eixo-$x$.\n",
    "\n",
    "Considere o conjunto $ N $ (de negativo) definido por\n",
    "$$\n",
    "N = \\set{x \\in [a,b]}{f(x) < 0}.\n",
    "$$\n",
    "Então $ N $ é não-vazio porque contém $ a $. Além disto, $ b $ é cota superior para $ N $. Seja $ c \\in [a, b] $ a *menor* cota superior possível para $ N $, i.e.:\n",
    "1. $ x \\le c $ para todo $ x \\in N $ (pois exigimos que $ c $ fosse cota superior);\n",
    "2. Se $ \\eps > 0 $, então $ x - \\eps $ não é cota superior para $ N $ (pois exigimos que $ c $ fosse a *menor* dentre as cotas superiores).\n",
    "\n",
    "Então há apenas três opções:\n",
    "* $ f(c) < 0 $, e por continuidade $ f(x) < 0 $ para todo $ x > c $ suficientemente próximo de $ c $, contradizendo o fato que $ c $ era cota superior de $ N $; ou\n",
    "* $ f(c) > 0 $, e por continuidade $ f(x) > 0 $ para todo $ x < c $ suficientemente próximo de $ c $, contradizendo o fato que $ c $ era a *menor* cota superior de $ N $; ou\n",
    "* $ f(c) = 0 $, o que estabelece a conclusão desejada.\n",
    "<div style=\"text-align: right\">$ \\blacksquare $ </div>\n",
    "\n",
    "O resultado abaixo segue imediatamente do TVI. Apesar de simples, ele é a base dos vários métodos que estudaremos para obtenção de raízes de equações.\n",
    "\n",
    "**Corolário (encaixotamento de raízes):** Seja $ f \\colon [a, b] \\to \\mathbb R $ uma função contínua. Se\n",
    "$$ f(a)f(b) < 0\\ , $$\n",
    "então $ f $ possui pelo menos um zero em $ [a, b] $.\n",
    "\n",
    "Informalmente, se os sinais dos valores de $ f $ em dois pontos  são opostos, então entre eles deve existir algum zero."
   ]
  },
  {
   "cell_type": "markdown",
   "id": "efebf633",
   "metadata": {},
   "source": [
    "**Problema 2:** Mostre que:\n",
    "\n",
    "(a) Existe um número $ a > 1 $ tal que $ a^a = 23 $.\n",
    "\n",
    "(b) Este número é único. *Dica:* Considere a função $ f(x) = x^x $ para $ x > 1 $ e calcule sua derivada."
   ]
  },
  {
   "cell_type": "markdown",
   "id": "f61e0f8f",
   "metadata": {},
   "source": [
    "*Solução:*"
   ]
  },
  {
   "cell_type": "markdown",
   "id": "9c6a0a84",
   "metadata": {},
   "source": [
    "**Problema 3:** Seja $ n $ um inteiro qualquer.\n",
    "\n",
    "(a) Mostre analiticamente ou com ajuda do computador que a função tangente assume valores de sinais opostos em\n",
    "$$\n",
    "a_n = n\\pi + \\frac{\\pi}{4} \\quad \\text{e} \\quad b_n = n \\pi + \\frac{3\\pi}{4}.\n",
    "$$\n",
    "\n",
    "(b) Existe um zero entre $ \\frac{\\pi}{4} $ e $ \\frac{3\\pi}{4} $? Justifique, em vista do Corolária acima. *Dica:* Quais são os pontos de descontinuidade da função tangente?\n",
    "\n",
    "(c) Mais geralmente, existe um zero $ c_n $ no intervalo $ (a_n,b_n) $? E no intervalo $ \\big(b_n, a_{n+1}\\big) $?"
   ]
  },
  {
   "cell_type": "markdown",
   "id": "33a51891",
   "metadata": {},
   "source": [
    "*Solução:*"
   ]
  },
  {
   "cell_type": "code",
   "execution_count": null,
   "id": "67553217",
   "metadata": {},
   "outputs": [],
   "source": []
  },
  {
   "cell_type": "markdown",
   "id": "066e1288",
   "metadata": {},
   "source": [
    "### $ 2. 2 $ Descrição do procedimento para localização de uma raiz\n",
    "\n",
    "Todos os métodos para localização de zeros que estudaremos são *iterativos*. Partindo de uma estimativa inicial para um zero $ \\zeta $, a cada passo utilizamos a estimativa anterior para obter uma aproximação mais refinada para $ \\zeta $, até que esta seja julgada boa o suficiente.\n",
    "\n",
    "Os *critérios de parada* mais comuns são:\n",
    "1. A distância entre o valor exato e a aproximação atual é menor que um $ \\eps > 0 $ escolhido previamente.\n",
    "2. O valor da função na aproximação atual é menor que $ \\eps $ em valor absoluto.\n",
    "3. O número de iterações excede uma cota $ N$ pré-fixada.\n",
    "\n",
    "\n",
    "Qualquer dos métodos para obtenção de zeros que estudaremos requer como passo preliminar o **encaixotamento** de uma raiz, ou seja, a determinação de um intervalo $ [a, b] $ onde $ f $ troca de sinal. A escolha do intervalo inicial é crucial: para algumas escolhas o método em questão pode convergir muito lentamente ou até falhar.\n",
    "\n",
    "Para encaixotar um zero de uma função, as três opções mais comuns são:\n",
    "* Usar a a teoria subjacente para advinhar a sua localização aproximada, no caso em que a função provém de um modelo da Física ou Engenharia;\n",
    "* Esboçar o gráfico da função e estimar visualmente um subintervalo onde ele cruza o eixo-$x$;\n",
    "* Usar uma busca sistemática, avaliando o sinal da função em pontos sucessivos, para localizar um subintervalo onde a função troca de sinal.\n",
    "\n",
    "Destes três métodos, apenas o terceiro é rígido o suficiente para ser programado com facilidade, o que não quer dizer que os outros dois devam ser utilizados.\n",
    "\n",
    "📝 **Isolar** um zero significa encontrar um intervalo que o contém em seu interior mas que não contém qualquer outro zero. Se um intervalo contém mais de um zero, em geral não há como controlar para qual deles um método iterativo convergirá, por isto sempre que possível é desejável isolar um zero, não somente encaixotá-lo."
   ]
  },
  {
   "cell_type": "markdown",
   "id": "0436e23e",
   "metadata": {},
   "source": [
    "## $ \\S 3 $ Busca incremental para encaixotamento de raízes"
   ]
  },
  {
   "cell_type": "code",
   "execution_count": 82,
   "id": "9b9586d2",
   "metadata": {},
   "outputs": [],
   "source": [
    "def busca_incremnetal(f, a: float, b: float, h: float) -> (float, float):\n",
    "    \"\"\"\n",
    "    Começando com x_1 = a e x_2 = a + h e com incrementos\n",
    "    de h, retorna o primeiro par de pontos consecutivos onde\n",
    "    f assume sinais opostos.\n",
    "    \"\"\"\n",
    "    from numpy import sign\n",
    "    \n",
    "    x_1 = a\n",
    "    x_2 = a + h\n",
    "    f_1 = f(x_1)\n",
    "    f_2 = f(x_2)\n",
    "    \n",
    "    while sign(f_1) == sign(f_2):\n",
    "        if x_1 >= b:\n",
    "            return None, None\n",
    "        x_1 = x_2\n",
    "        f_1 = f_2\n",
    "        x_2 += h\n",
    "        f_2 = f(x_2)\n",
    "    else:\n",
    "        return x_1, x_2"
   ]
  },
  {
   "cell_type": "markdown",
   "id": "b148f40d",
   "metadata": {},
   "source": [
    "⚠️ Por menor que seja o valor do incremento $ h $, não há como garantir *a priori* que o intervalo resultante contenha um *único* zero."
   ]
  },
  {
   "cell_type": "markdown",
   "id": "2fdbb1d2",
   "metadata": {},
   "source": [
    "**Problema 4:** O polinômio $ x^3 - 10x^2 + 5 $ possui um zero entre $ 0 $ e $ 1 $. Encaixote este zero dentro de um intervalo de comprimento no máximo $ 10^{-3} $."
   ]
  },
  {
   "cell_type": "markdown",
   "id": "33eadaba",
   "metadata": {},
   "source": [
    "## $ \\S 4 $ Busca incremental adaptativa"
   ]
  },
  {
   "cell_type": "code",
   "execution_count": null,
   "id": "46d533d8",
   "metadata": {},
   "outputs": [],
   "source": []
  }
 ],
 "metadata": {
  "kernelspec": {
   "display_name": "Python 3 (ipykernel)",
   "language": "python",
   "name": "python3"
  },
  "language_info": {
   "codemirror_mode": {
    "name": "ipython",
    "version": 3
   },
   "file_extension": ".py",
   "mimetype": "text/x-python",
   "name": "python",
   "nbconvert_exporter": "python",
   "pygments_lexer": "ipython3",
   "version": "3.9.15"
  }
 },
 "nbformat": 4,
 "nbformat_minor": 5
}
