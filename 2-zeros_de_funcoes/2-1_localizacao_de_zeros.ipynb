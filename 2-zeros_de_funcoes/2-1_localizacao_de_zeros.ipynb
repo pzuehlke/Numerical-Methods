{
 "cells": [
  {
   "cell_type": "markdown",
   "id": "32505fe9",
   "metadata": {},
   "source": [
    "$\\newcommand{\\set}[2]{\\big\\{#1\\,\\ {\\large:}\\ \\,#2\\big\\}}\n",
    "\\newcommand{\\eps}{\\varepsilon}\n",
    "\\newcommand{\\abs}[1]{\\left\\vert#1\\right\\vert}\n",
    "\\newcommand{\\ceil}[1]{\\left\\lceil#1\\right\\rceil}\n",
    "\\newcommand{\\floor}[1]{\\left\\lfloor#1\\right\\rfloor}\n",
    "$\n",
    "\n",
    "\n",
    "# Localização de zeros de funções\n",
    "\n",
    "## $ \\S 1 $ Introdução\n",
    "\n",
    "Um ponto $ \\zeta $ do domínio de uma função $ f $ de uma variável é dito um **zero** de $ f $ caso\n",
    "$$ f(\\zeta) = 0 .$$\n",
    "Nesta situação também dizemos que $ \\zeta $ é uma **raiz** da equação acima.\n",
    "\n",
    "📝 '$ \\zeta $' é a sexta letra do alfabeto grego, denominada *zeta*.\n",
    "\n",
    "A busca por zeros de uma função é um dos problemas mais freqüentes em Ciência e Engenharia. Embora a determinação *analítica* dos zeros seja difícil mesmo nos casos mais simples, por exemplo em que a função é um polinômio de grau $ > 2 $, existem métodos numéricos gerais que nos permitem encontrar zeros de funções contínuas arbitrárias com alta precisão e baixo uso de recursos computacionais.\n",
    "\n",
    "📝 Observe que encontrar uma raiz de uma equação qualquer em uma variável, digamos, da forma \n",
    "$$\n",
    "g(x) = h(x),\n",
    "$$\n",
    "é equivalente à tarefa de se encontrar um zero da função $ f(x) = g(x) - h(x) $.\n",
    "\n",
    "Ainda que todas as funções usuais estudadas em Cálculo possam ser estendidas a funções de uma variável complexa, estaremos interessados aqui em encontrar apenas os zeros *reais* de uma *função real contínua de uma variável*. Contudo, algumas das técnicas que estudaremos, em especial o método de Newton, também podem ser aplicadas a funções complexas.\n",
    "\n",
    "O sistema de ponto flutuante empregado em computação impõe restrições inevitáveis à precisão do cálculo dos valores de uma função. Por isto na prática não podemos esperar encontrar um ponto $ \\zeta $ onde a função valha exatamente $ 0 $, como ilustrado no exemplo abaixo. Em vez disto, buscamos encontrar um *intervalo* suficientemente pequeno onde a função troca de sinal."
   ]
  },
  {
   "cell_type": "markdown",
   "id": "d96895b4",
   "metadata": {},
   "source": [
    "**Problema 1:** Considere os polinômios\n",
    "$$ p(x) = 2x - 0.2 \\qquad \\text{e} \\qquad q(x) = 3 x - 0.3 $$\n",
    "Note que $ a = \\frac{1}{10} $ é um zero tanto de $ p $ quanto de $ q $.\n",
    "\n",
    "(a) Usando `lambda`, defina $ p(x) $ e $ q(x) $ como funções em Python.\n",
    "\n",
    "(b) Agora defina um procedimento `checa_zero(f, x)` que, dados uma função $ f $ e um número $ x $ em seu domínio, retorna `True` se `f(x) == 0` e `False` caso contrário. Qual é o resultado da aplicação deste procedimento aos pares $ (p, a) $ e $ (q, a) $? Como você explica esta discrepância?\n",
    "\n",
    "(c) Como poderíamos modificar a definição de `checa_zero` de modo que ela acuse que $ q $ possui um zero em $ a $? Quais as desvantagens da sua proposta?"
   ]
  },
  {
   "cell_type": "markdown",
   "id": "47becd99",
   "metadata": {},
   "source": [
    "*Solução:*"
   ]
  },
  {
   "cell_type": "code",
   "execution_count": null,
   "id": "63b558a7",
   "metadata": {
    "scrolled": true
   },
   "outputs": [],
   "source": []
  },
  {
   "cell_type": "markdown",
   "id": "a34daf7d",
   "metadata": {},
   "source": [
    "## $ \\S 2 $ Localização de raízes\n",
    "\n",
    "### $ 2.1 $ O Teorema do Valor Intermediário\n",
    "\n",
    "**Teorema do Valor Intermediário:** Seja $ f \\colon [a, b] \\to \\mathbb R $ uma função _contínua_ definida num intervalo $ [a, b] $ _limitado e fechado_. Então $ f $ assume em $ [a, b] $ todos os valores possíveis entre $ f(a) $ e $ f(b) $.\n",
    "\n",
    "⚡ **Demonstração informal:** Suponha por concretude que $ f(a) < 0 $ e $ f(b) > 0 $. Imaginando o gráfico da função contínua $ f $, isto significa que em $ a $ ele está abaixo do eixo-$x$ e em $ b $ acima. Queremos mostrar que em algum momento ele cruza o eixo-$x$.\n",
    "\n",
    "Considere o conjunto $ N $ (de negativo) definido por\n",
    "$$\n",
    "N = \\set{x \\in [a,b]}{f(x) < 0}.\n",
    "$$\n",
    "Então $ N $ é não-vazio porque contém $ a $. Além disto, $ b $ é cota superior para $ N $. Seja $ c \\in [a, b] $ a *menor* cota superior possível para $ N $, i.e.:\n",
    "1. $ x \\le c $ para todo $ x \\in N $ (pois exigimos que $ c $ fosse cota superior);\n",
    "2. Se $ \\eps > 0 $, então $ x - \\eps $ não é cota superior para $ N $ (pois exigimos que $ c $ fosse a *menor* dentre as cotas superiores).\n",
    "\n",
    "Então há apenas três opções:\n",
    "* $ f(c) < 0 $, e por continuidade $ f(x) < 0 $ para todo $ x > c $ suficientemente próximo de $ c $, contradizendo o fato que $ c $ era cota superior de $ N $; ou\n",
    "* $ f(c) > 0 $, e por continuidade $ f(x) > 0 $ para todo $ x < c $ suficientemente próximo de $ c $, contradizendo o fato que $ c $ era a *menor* cota superior de $ N $; ou\n",
    "* $ f(c) = 0 $, o que estabelece a conclusão desejada.\n",
    "<div style=\"text-align: right\">$ \\blacksquare $ </div>\n",
    "\n",
    "O resultado abaixo segue imediatamente do TVI. Apesar de simples, ele é a base dos vários métodos que estudaremos para obtenção de raízes de equações.\n",
    "\n",
    "**Corolário 1 (encaixotamento de zeros):** Seja $ f $ uma função contínua definida num intervalo. Se\n",
    "$$ f(c)f(d) < 0\\ , $$\n",
    "então $ f $ possui pelo menos um zero no subintervalo de extremidades $ c $ e $ d $.\n",
    "\n",
    "Informalmente, se os sinais dos valores de $ f $ em dois pontos  são opostos, então entre eles deve existir algum zero."
   ]
  },
  {
   "cell_type": "markdown",
   "id": "efebf633",
   "metadata": {},
   "source": [
    "**Problema 2:** Mostre que:\n",
    "\n",
    "(a) Existe um número $ a > 1 $ tal que $ a^a = 23 $.\n",
    "\n",
    "(b) Este número é único. *Dica:* Considere a função $ f(x) = x^x $ para $ x > 1 $ e calcule sua derivada."
   ]
  },
  {
   "cell_type": "markdown",
   "id": "f61e0f8f",
   "metadata": {},
   "source": [
    "*Solução:*"
   ]
  },
  {
   "cell_type": "markdown",
   "id": "9c6a0a84",
   "metadata": {},
   "source": [
    "**Problema 3:** Seja $ n $ um inteiro qualquer.\n",
    "\n",
    "(a) Mostre analiticamente ou com ajuda do computador que a função tangente assume valores de sinais opostos em\n",
    "$$\n",
    "a_n = n\\pi + \\frac{\\pi}{4} \\quad \\text{e} \\quad b_n = n \\pi + \\frac{3\\pi}{4}.\n",
    "$$\n",
    "\n",
    "(b) Existe um zero entre $ \\frac{\\pi}{4} $ e $ \\frac{3\\pi}{4} $? Justifique, em vista do Corolário 1. *Dica:* Esboce num papel o gráfico da função tangente. Quais são os pontos de descontinuidade?\n",
    "\n",
    "(c) Mais geralmente, existe um zero $ c_n $ no intervalo $ (a_n,b_n) $? E no intervalo $ \\big(b_n, a_{n+1}\\big) $?"
   ]
  },
  {
   "cell_type": "markdown",
   "id": "33a51891",
   "metadata": {},
   "source": [
    "*Solução:*"
   ]
  },
  {
   "cell_type": "code",
   "execution_count": null,
   "id": "67553217",
   "metadata": {},
   "outputs": [],
   "source": [
    "from numpy import tan, pi, sign"
   ]
  },
  {
   "cell_type": "markdown",
   "id": "066e1288",
   "metadata": {},
   "source": [
    "### $ 2. 2 $ Descrição do procedimento para localização de uma raiz e critérios de parada\n",
    "\n",
    "Todos os métodos para localização de zeros que estudaremos são *iterativos*. Partindo de uma estimativa inicial para um zero $ \\zeta $, a cada passo utilizamos a estimativa anterior para obter uma aproximação mais refinada para $ \\zeta $, até que esta seja julgada boa o suficiente. Os *critérios de parada* mais comuns são:\n",
    "1. A distância entre o zero $ \\zeta $ e sua aproximação atual é menor que um $ \\eps > 0 $ escolhido previamente.\n",
    "2. O valor da função na aproximação atual é menor que $ \\eps $ em valor absoluto.\n",
    "3. O número de iterações excede uma cota $ N$ pré-fixada."
   ]
  },
  {
   "cell_type": "markdown",
   "id": "d57b9fb3",
   "metadata": {},
   "source": [
    "**Problema 4:** Construa um procedimento `checa_zero` que tem por parâmetros: uma função real $ f $; dois pontos $ a $ e $ b $ em seu domínio; e uma constante $ \\eps > 0 $; e que retorna `True` se e somente se:\n",
    "* $ \\abs{b-a} < \\eps $; e\n",
    "* $ \\abs{f(m)} < \\eps $, onde $ m $ é o ponto médio de $ a $ e $ b $."
   ]
  },
  {
   "cell_type": "markdown",
   "id": "5e8c3386",
   "metadata": {},
   "source": [
    "*Solução:*"
   ]
  },
  {
   "cell_type": "code",
   "execution_count": null,
   "id": "49efdb3e",
   "metadata": {},
   "outputs": [],
   "source": []
  },
  {
   "cell_type": "markdown",
   "id": "0b8db7b5",
   "metadata": {},
   "source": [
    "### $ 2.3 $ Encaixotamento de zeros\n",
    "\n",
    "Qualquer dos métodos que estudaremos requer como passo preliminar o **encaixotamento** de um zero, ou seja, a determinação de um intervalo onde $ f $ troca de sinal. A escolha deste intervalo é crucial: para algumas escolhas o método em questão pode convergir muito lentamente ou até falhar.\n",
    "\n",
    "Para encaixotar um zero de uma função, as três opções mais comuns são:\n",
    "* Usar a a teoria subjacente para advinhar a sua localização aproximada, no caso em que a função provém de um modelo da Física ou Engenharia;\n",
    "* Esboçar o gráfico da função e estimar visualmente um subintervalo onde ele cruza o eixo-$x$;\n",
    "* Aplicar uma busca sistemática, avaliando o sinal da função em pontos sucessivos para localizar um subintervalo onde a função troca de sinal.\n",
    "\n",
    "Destes três métodos, apenas o terceiro é rígido o suficiente para ser programado com facilidade, o que não quer dizer que os outros dois sejam menos valiosos.\n",
    "\n",
    "📝 **Isolar** um zero significa encontrar um intervalo que o contém em seu interior mas que não contém qualquer outro zero. Se um intervalo contém mais de um zero, em geral não há como controlar para qual deles um método iterativo convergirá, por isto sempre que possível é desejável isolar um zero, não somente encaixotá-lo."
   ]
  },
  {
   "cell_type": "markdown",
   "id": "65f84185",
   "metadata": {},
   "source": [
    "## $ \\S 3 $ Esboço do gráfico de uma função de uma variável\n",
    "\n",
    "Em Python, para se traçar e visualizar gráficos, utiliza-se geralmente a biblioteca **Matplotlib**, mais precisamente o seu submódulo **PyPlot**:"
   ]
  },
  {
   "cell_type": "code",
   "execution_count": null,
   "id": "63a25f17",
   "metadata": {},
   "outputs": [],
   "source": [
    "import matplotlib.pyplot as plt"
   ]
  },
  {
   "cell_type": "code",
   "execution_count": 88,
   "id": "a983a3f9",
   "metadata": {},
   "outputs": [
    {
     "data": {
      "image/png": "[encoded data removed]",
      "text/plain": [
       "<Figure size 640x480 with 1 Axes>"
      ]
     },
     "metadata": {},
     "output_type": "display_data"
    }
   ],
   "source": [
    "def plota_funcoes(a, b, *fs):\n",
    "    \"\"\"\n",
    "    Entradas:\n",
    "        * Extremidades a < b de um intervalo.\n",
    "        * Um número qualquer (>= 1) de funções definidas em [a, b].\n",
    "    Exibe num mesmo diagrama o gráfico das funções e retorna None.\n",
    "    \"\"\"\n",
    "    import matplotlib.pyplot as plt\n",
    "    import numpy as np\n",
    "    \n",
    "    \n",
    "    x = np.linspace(a, b, 100)  # Amostra de valores de x\n",
    "    for i, f in enumerate(fs):\n",
    "        plt.plot(x, f(x), label=f'função {i}')  # Plotar dados; parâmetros: (x, y, etiqueta).\n",
    "    plt.xlabel('Eixo-x')\n",
    "    plt.ylabel('Eixo-y')\n",
    "    plt.grid(True)\n",
    "    plt.title(\"Gráfico simples\")\n",
    "    plt.legend()\n",
    "    \n",
    "    return None\n",
    "    \n",
    "f = lambda x: x\n",
    "g = lambda x: x**2\n",
    "h = lambda x: x**3\n",
    "plota_funcoes(0, 2, f, g, h)"
   ]
  },
  {
   "cell_type": "markdown",
   "id": "0436e23e",
   "metadata": {},
   "source": [
    "## $ \\S 4 $ Busca incremental para encaixotamento de raízes\n",
    "\n",
    "Suponha que queiramos encaixotar um zero de uma função contínua $ f \\colon [a, b] \\to \\mathbb{R} $. Usando o método da **busca incremental**, começamos escolhendo um **incremento** ou **tamanho de passo** $ h > 0 $. Então calculamos o sinal de\n",
    "$$\n",
    "f(x_i)f(x_{i+1}) \\quad \\text{para} \\quad x_i = a+ih \\quad (i = 0, 1, \\dots )\n",
    "$$\n",
    "sucessivamente.\n",
    "* Se $ f(x_i)f(x_{i+1}) \\le 0 $ para algum $ i $, então o intervalo $ [x_i,x_{i+1}] $ deve conter um zero de $ f $, pelo Corolário 1.\n",
    "* Caso contrário, eventualmente teremos $ x_{i+1} > b $ e a busca terá sido inconclusiva."
   ]
  },
  {
   "cell_type": "code",
   "execution_count": 52,
   "id": "9b9586d2",
   "metadata": {},
   "outputs": [],
   "source": [
    "def busca_incremental(f, a, b, h):\n",
    "    \"\"\"\n",
    "    Começando com x_1 = a e x_2 = a + h e com incrementos\n",
    "    de h, retorna o primeiro par de pontos consecutivos onde\n",
    "    f assume sinais opostos.\n",
    "    \"\"\"\n",
    "    from numpy import sign\n",
    "    \n",
    "    # Inicializando:\n",
    "    x_0 = a\n",
    "    x_1 = a + h\n",
    "    f_0 = f(x_0)\n",
    "    f_1 = f(x_1)\n",
    "    \n",
    "    while sign(f_0) == sign(f_1):\n",
    "        if x_1 > b:\n",
    "            return None, None\n",
    "        x_0, f_0 = x_1, f_1\n",
    "        x_1 += h\n",
    "        f_1 = f(x_1)\n",
    "        \n",
    "    return x_0, x_1"
   ]
  },
  {
   "cell_type": "markdown",
   "id": "b148f40d",
   "metadata": {},
   "source": [
    "⚠️ Se $ f $ não tem zeros no intervalo $ [a,b] $, obviamente a busca será mal-sucedida. Por outro lado, mesmo que $ f $ tenha zeros aí, por menor que seja o valor do incremento $ h $, não há como garantir *a priori* que a busca será bem sucedida, ou que o intervalo resultante conterá um *único* zero."
   ]
  },
  {
   "cell_type": "markdown",
   "id": "23023cf6",
   "metadata": {},
   "source": [
    "**Problema 5:**\n",
    "\n",
    "(a) Quantos zeros a função $ f(x) = \\sin(x) - 0.999 $ tem no intervalo $ [0, 30\\pi] $?\n",
    "\n",
    "(b) Mostre que `busca_incremental` com tamanho de passo $ h = 1 $ não consegue encaixotar nenhum deles."
   ]
  },
  {
   "cell_type": "markdown",
   "id": "8c0187ae",
   "metadata": {},
   "source": [
    "*Solução:*"
   ]
  },
  {
   "cell_type": "code",
   "execution_count": 78,
   "id": "be565f9f",
   "metadata": {},
   "outputs": [],
   "source": [
    "from numpy import sin, pi\n",
    "\n"
   ]
  },
  {
   "cell_type": "markdown",
   "id": "2fdbb1d2",
   "metadata": {},
   "source": [
    "**Problema 6:** O polinômio $ x^3 - 10x^2 + 5 $ possui um zero entre $ 0 $ e $ 1 $. Encaixote este zero dentro de um intervalo de comprimento no máximo $ 10^{-3} $."
   ]
  },
  {
   "cell_type": "markdown",
   "id": "33eadaba",
   "metadata": {},
   "source": [
    "## $ \\S 5 $ Busca incremental adaptativa\n",
    "\n",
    "**Definição 1:** As funções\n",
    "\n",
    "\\begin{alignat*}{9}\n",
    "    \\floor{\\cdot} \\colon \\mathbb{R} \\to \\mathbb{Z},\n",
    "    \\quad \\floor{x} & = \\text{maior inteiro $ \\le x $} \\\\\n",
    "    \\ceil{\\cdot} \\colon \\mathbb{R} \\to \\mathbb{Z},\n",
    "    \\quad \\ceil{x} & = \\text{menor inteiro $ \\ge x $} \\\\\n",
    "\\end{alignat*}\n",
    "são chamadas de funções **chão** e **teto** respectivamente. \n",
    "\n",
    "**Teorema 2:** _No pior caso, a busca incremental aplicada a uma função definida no intervalo $ [a, b] $ com tamanho de passo $ h $ requer_\n",
    "$$\n",
    "    \\boxed{n = \\floor{\\frac{b-a}{h}} + 1 \\ \\text{avaliações}.}\n",
    "$$\n",
    "\n",
    "**Prova:** Suponha que a função à qual a busca foi aplicada não possua zeros em $ [a, b] $. Então precisamos avaliá-la em cada ponto $ x_i = a + ih $ tal que $ x_i \\le b $, começando de $ i = 0 $. O último inteiro $ i $ que satisfaz esta condição é\n",
    "$$\n",
    "    \\floor{\\frac{b-a}{h}}. \\tag*{$\\blacksquare$}\n",
    "$$\n",
    "\n",
    "Por exemplo, se quisermos localizar o zero de uma função definida no intervalo $ [0, 1] $ com precisão de ao menos $ 5 $ dígitos, precisamos realizar a princípio $ 10^5 $ avaliações da função. Em geral, para uma tolerância pequena relativamente ao comprimento do intervalo original, o custo computacional pode ser inaceitavelmente alto.\n",
    "\n",
    "Uma alternativa para tentar reduzir este custo é implementar uma **busca adaptativa**, em que começamos com um incremento de tamanho $ h = \\frac{b-a}{2} $ e a cada passo reduzimos o comprimento do incremento pela metade até que ele fique menor que a tolerância desejada."
   ]
  },
  {
   "cell_type": "code",
   "execution_count": 79,
   "id": "46d533d8",
   "metadata": {},
   "outputs": [],
   "source": [
    "def busca_adaptativa(f, a, b, h_max):\n",
    "    \"\"\"\n",
    "    Começando com incremento de tamanho h = (b - a) / 2,\n",
    "    a cada passo realiza uma busca incremental no intervalo [a, b]\n",
    "    anterior com tamanho de passo h / 2. Se a busca é bem sucedida,\n",
    "    atualizamos a, b a sua saída x_0, x_1; caso contrário, utilizamos\n",
    "    os mesmos valores de a, b no próximo passo. A busca termina\n",
    "    uma vez que h < h_max.\n",
    "    \"\"\"\n",
    "    from numpy import sign\n",
    "    \n",
    "    # Inicializando:\n",
    "    x_0 = a\n",
    "    x_1 = b\n",
    "    h =  (b - a) / 2\n",
    "    \n",
    "    while h >= h_max:\n",
    "        x_0, x_1 = busca_incremental(f, a, b, h)\n",
    "        if x_0:\n",
    "            a = x_0\n",
    "            b = x_1\n",
    "        h /= 2\n",
    "    \n",
    "    if x_0:\n",
    "        return x_0, x_1\n",
    "    else:\n",
    "        print(\"Busca inconclusiva!\")\n",
    "        return None, None"
   ]
  },
  {
   "cell_type": "code",
   "execution_count": 80,
   "id": "6efae1f5",
   "metadata": {},
   "outputs": [
    {
     "data": {
      "text/plain": [
       "(0.734375, 0.736328125)"
      ]
     },
     "execution_count": 80,
     "metadata": {},
     "output_type": "execute_result"
    }
   ],
   "source": [
    "f = lambda x: x**3 - 10 * x**2 + 5\n",
    "a = 0\n",
    "b = 1\n",
    "h = 1e-3\n",
    "busca_adaptativa(f, a, b, h)"
   ]
  },
  {
   "cell_type": "code",
   "execution_count": null,
   "id": "3c9e60ed",
   "metadata": {},
   "outputs": [],
   "source": []
  }
 ],
 "metadata": {
  "kernelspec": {
   "display_name": "Python 3 (ipykernel)",
   "language": "python",
   "name": "python3"
  },
  "language_info": {
   "codemirror_mode": {
    "name": "ipython",
    "version": 3
   },
   "file_extension": ".py",
   "mimetype": "text/x-python",
   "name": "python",
   "nbconvert_exporter": "python",
   "pygments_lexer": "ipython3",
   "version": "3.9.15"
  }
 },
 "nbformat": 4,
 "nbformat_minor": 5
}
