{
 "cells": [
  {
   "cell_type": "code",
   "execution_count": 2,
   "id": "2dce17b0",
   "metadata": {},
   "outputs": [],
   "source": [
    "import matplotlib.pyplot as plt\n",
    "import numpy as np\n",
    "from typing import Callable\n",
    "%load_ext autoreload\n",
    "%autoreload 2\n",
    "%matplotlib qt"
   ]
  },
  {
   "attachments": {},
   "cell_type": "markdown",
   "id": "f4a9a40a",
   "metadata": {},
   "source": [
    "# Busca incremental e busca adaptativa"
   ]
  },
  {
   "attachments": {},
   "cell_type": "markdown",
   "id": "2f7ab637",
   "metadata": {},
   "source": [
    "## $ \\S 1 $ Descrição da busca incremental para encaixotamento de raízes\n",
    "\n",
    "Suponha que queiramos encaixotar um zero de uma função contínua $ f \\colon [a, b] \\to \\mathbb{R} $. Usando o método da **busca incremental**, começamos escolhendo um **incremento** ou **tamanho de passo** $ h > 0 $. Então calculamos os sinais de\n",
    "$$\n",
    "f(x_i) \\quad \\text{e} \\quad f(x_{i+1}) \\quad \\text{para} \\quad x_i = a+ih \\quad (i = 0, 1, \\dots )\\,,\n",
    "$$\n",
    "sucessivamente.\n",
    "Se \n",
    "$$\n",
    "    \\operatorname{sinal} f(x_i) \\ne \\operatorname{sinal} f(x_{i+1})\n",
    "$$\n",
    "para algum $ i $, então o intervalo $ [x_i,x_{i+1}] $ deve conter um zero de $ f $,\n",
    "pelo teorema do valor intermediário. Caso esta condição falhe para todo $ i $, \n",
    "eventualmente teremos $ x_{i+1} > b $ e a busca terá sido inconclusiva."
   ]
  },
  {
   "cell_type": "markdown",
   "id": "97f53967",
   "metadata": {},
   "source": [
    "# $ \\S 2 $ Implementação da busca incremental"
   ]
  },
  {
   "cell_type": "code",
   "execution_count": 3,
   "id": "5f05742d",
   "metadata": {},
   "outputs": [],
   "source": [
    "def incremental_search(f: Callable[[float], float], a: float, b: float,\n",
    "                       h: float) -> tuple[float, float]:\n",
    "    \"\"\"\n",
    "    Beginning with x_0 = a and x_1 = a + h and successively incrementing (or\n",
    "    decrementing) both by h, returns the first pair of consecutive nodes where f\n",
    "    takes on opposite signs.\n",
    "    Parameters:\n",
    "        * A real continuous function f.\n",
    "        * The endpoints a and b of an interval [a, b] where f is defined.\n",
    "        * A step size h /= 0.\n",
    "    Output:\n",
    "        * In case of success: updated values of a, b such that |b - a| <= h\n",
    "          and f(a)f(b) < 0. In case of failure: None.\n",
    "    Prints:\n",
    "        * The pair a, b in case of success; or a warning message in case of\n",
    "          failure.\n",
    "    \"\"\"\n",
    "    from numpy import sign\n",
    "    \n",
    "\n",
    "    if h == 0:\n",
    "        raise ValueError(\"0 is not a valid value for h!\")\n",
    "    # Initializing:\n",
    "    x_0 = a\n",
    "    x_1 = a + h\n",
    "    f_0 = f(x_0)\n",
    "    f_1 = f(x_1)\n",
    "    \n",
    "    while sign(f_0) == sign(f_1):\n",
    "        if x_1 > b:\n",
    "            return None, None\n",
    "        x_0, f_0 = x_1, f_1\n",
    "        x_1 += h\n",
    "        f_1 = f(x_1)\n",
    "        \n",
    "    return x_0, x_1"
   ]
  },
  {
   "attachments": {},
   "cell_type": "markdown",
   "id": "2390d711",
   "metadata": {},
   "source": [
    "__Problema 1:__ A implementação da busca incremental acima ainda funciona caso $ a > b $? Explique."
   ]
  },
  {
   "attachments": {},
   "cell_type": "markdown",
   "id": "566ffc08",
   "metadata": {},
   "source": [
    "**Problema 2:** O polinômio $ x^3 - 11x^2 + 7 $ possui exatamente um zero entre $ 0 $ e $ 1 $. Encaixote este zero dentro de um intervalo de comprimento no máximo $ 10^{-3} $."
   ]
  },
  {
   "cell_type": "markdown",
   "id": "6a31cbfc",
   "metadata": {},
   "source": [
    "*Solução:*"
   ]
  },
  {
   "cell_type": "code",
   "execution_count": null,
   "id": "76d68273",
   "metadata": {},
   "outputs": [],
   "source": []
  },
  {
   "cell_type": "markdown",
   "id": "3da4b144",
   "metadata": {},
   "source": [
    "⚠️ Se $ f $ não tem zeros no intervalo $ [a,b] $, obviamente a busca incremental será mal-sucedida. Por outro lado, mesmo que $ f $ tenha zeros aí, por menor que seja o valor do incremento $ h $, não há como garantir *a priori* que a busca será bem sucedida, ou que o intervalo resultante conterá um *único* zero.\n",
    "\n",
    "⚠️ Muitas vezes precisamos encontrar *todos* os zeros de uma função. Nestes casos, se utilizarmos um incremento $ h $ grande demais, corremos o risco de pular por um número par de zeros consecutivos sem detectá-los, ou de obter um intervalo que contém um número ímpar de zeros em seu interior, mas ao final conseguir localizar apenas um deles. Por outro lado, se $ h $ for pequeno demais, gastaremos muito tempo procurando em regiões que não contêm qualquer zero."
   ]
  },
  {
   "attachments": {},
   "cell_type": "markdown",
   "id": "63258fb3",
   "metadata": {},
   "source": [
    "**Problema 3:**\n",
    "\n",
    "(a) Quantos zeros a função $ f(x) = \\sin(x) - 0.999 $ tem no intervalo $ [0, 30\\pi] $?\n",
    "\n",
    "(b) Mostre que `busca_incremental` com tamanho de passo $ h = 1 $ não consegue encaixotar nenhum deles."
   ]
  },
  {
   "cell_type": "markdown",
   "id": "1a8bd43f",
   "metadata": {},
   "source": [
    "*Solução:*"
   ]
  },
  {
   "cell_type": "code",
   "execution_count": null,
   "id": "d9968779",
   "metadata": {},
   "outputs": [],
   "source": [
    "from numpy import sin, pi"
   ]
  },
  {
   "attachments": {},
   "cell_type": "markdown",
   "id": "0f60bb91",
   "metadata": {},
   "source": [
    "## $ \\S 5 $ Busca incremental adaptativa\n",
    "\n",
    "**Definição:** As funções\n",
    "\n",
    "\\begin{alignat*}{9}\n",
    "    \\lfloor{\\cdot}\\rfloor \\colon \\mathbb{R} \\to \\mathbb{Z},\n",
    "    \\quad \\lfloor{x}\\rfloor & = \\text{maior inteiro $ \\le x $} \\\\\n",
    "    \\lceil{\\cdot}\\rceil \\colon \\mathbb{R} \\to \\mathbb{Z},\n",
    "    \\quad \\lceil{x}\\rceil & = \\text{menor inteiro $ \\ge x $} \\\\\n",
    "\\end{alignat*}\n",
    "são chamadas de funções **chão** e **teto** respectivamente. \n",
    "\n",
    "Observe que estas funções são contínuas exceto nos inteiros, onde têm uma descontinuidade de salto.\n",
    "\n",
    "**Problema 3:** Mostre que\n",
    "$$\n",
    "\\lceil{x}\\rceil =\n",
    "\\begin{cases}\n",
    "    \\lfloor{x}\\rfloor + 1 & \\text{se $ x \\not \\in \\mathbb{Z} $} \\\\\n",
    "    \\lfloor{x}\\rfloor & \\text{se $ x \\in \\mathbb{Z} $}\n",
    "\\end{cases}\n",
    "$$\n",
    "\n",
    "\n",
    "\n",
    "**Teorema 2:** _No pior caso, a busca incremental aplicada a uma função definida no intervalo $ [a, b] $ com tamanho de passo $ h $ requer_\n",
    "$$\n",
    "    \\boxed{n = \\lfloor{\\frac{b-a}{h}}\\rfloor + 1 \\ \\text{avaliações}.}\n",
    "$$\n",
    "\n",
    "**Prova:** Suponha que a função à qual a busca foi aplicada não possua zeros em $ [a, b] $. Então precisamos avaliá-la em cada ponto $ x_i = a + ih $ tal que $ x_i \\le b $, começando de $ i = 0 $. O último inteiro $ i $ que satisfaz esta condição é\n",
    "$$\n",
    "    \\lfloor{\\frac{b-a}{h}}\\rfloor. \\tag*{$\\blacksquare$}\n",
    "$$\n",
    "\n",
    "Por exemplo, se quisermos localizar o zero de uma função definida no intervalo $ [0, 1] $ com precisão de ao menos $ 5 $ dígitos, precisamos realizar a princípio $ 10^5 $ avaliações da função. Assim, para uma tolerância pequena relativamente ao comprimento do intervalo original, o custo computacional pode ser inaceitavelmente alto.\n",
    "\n",
    "Uma alternativa para tentar reduzir este custo é implementar uma **busca adaptativa**, em que começamos com um incremento de tamanho $ h = \\frac{b-a}{10} $ e a cada passo reduzimos o seu comprimento pela metade até que ele fique menor que a tolerância desejada. O ponto crucial é que a cada vez que encontrarmos um subintervalo onde a função troca de sinal, podemos restringir nossa busca a este intervalo menor para diminuir o número de avaliações."
   ]
  },
  {
   "cell_type": "code",
   "execution_count": null,
   "id": "25273c7d",
   "metadata": {},
   "outputs": [],
   "source": [
    "def adaptive_search(f: Callable[[float], float], a: float, b: float,\n",
    "                    h_max: float) -> tuple[float, float]:\n",
    "    \"\"\"\n",
    "    Initially an incremental search is performed on the given interval [a, b]\n",
    "    with a step size h = (b - a) / 10. If the search is successful, [a, b]\n",
    "    is updated to the interval that was yielded. Otherwise it remains the same.\n",
    "    In any case, we again perform an incremental search, this time with a step\n",
    "    of size one-tenth the size of the previous one. This is repeated until either:\n",
    "        * The search is successful and the step size h < h_max; or\n",
    "        * The search is not succesful and the step size h < h_min.\n",
    "    Parameters:\n",
    "        * A real continuous function f.\n",
    "        * The endpoints a and b of an interval [a, b] where f is defined.\n",
    "        * An upper bound h_max for the desired step size.\n",
    "        * A lower bound h_min such that if h becomes smaller than h_min, and no interval where f changes sign was found, the procedure terminates.\n",
    "    Output:\n",
    "        * In case of success: updated values of a, b such that |b - a| < h_max\n",
    "          and f(a)f(b) < 0. In case of failure: None.\n",
    "    Prints:\n",
    "        * The pair a, b in case of success; or a warning message in case of\n",
    "          failure.\n",
    "    \"\"\"\n",
    "    from numpy import sign\n",
    "    \n",
    "    # Initializing:\n",
    "    x_0 = a\n",
    "    x_1 = b\n",
    "    h =  (b - a) / 10\n",
    "    \n",
    "    while h >= h_max:\n",
    "        x_0, x_1 = incremental_search(f, a, b, h)\n",
    "        if x_0:\n",
    "            a = x_0\n",
    "            b = x_1\n",
    "        h /= 10\n",
    "    \n",
    "    if x_0:\n",
    "        return x_0, x_1\n",
    "    else:\n",
    "        print(\"The search was inconclusive!\")\n",
    "        return None, None"
   ]
  },
  {
   "cell_type": "markdown",
   "id": "98c54434",
   "metadata": {},
   "source": [
    "⚠️ Não há garantia que a busca adaptativa seja sempre mais eficiente que a busca incremental simples."
   ]
  },
  {
   "attachments": {},
   "cell_type": "markdown",
   "id": "9b00a86d",
   "metadata": {},
   "source": [
    "**Problema:** Modifique `busca_incremental` para criar um novo procedimento `busca_exaustiva` com os mesmos parâmetros que antes, mas que retorna uma lista contendo todos os pares $ \\big(x_{i-1}, x_i\\big) $ tais que ocorre uma troca de sinal no intervalo com estas extremidades, onde\n",
    "$$\n",
    "    x_i = a + h i \\quad \\text{para} \\quad i = 0,1,\\dots,N - 1 =\\left\\lfloor{\\frac{b-a}{h}}\\right\\rfloor \\quad\\text{e} \\quad x_N = b.\n",
    "$$"
   ]
  },
  {
   "cell_type": "markdown",
   "id": "4ffa0c22",
   "metadata": {},
   "source": [
    "*Solução:*"
   ]
  },
  {
   "cell_type": "markdown",
   "id": "851aed39",
   "metadata": {},
   "source": []
  },
  {
   "cell_type": "code",
   "execution_count": null,
   "id": "9541fce3",
   "metadata": {},
   "outputs": [],
   "source": []
  }
 ],
 "metadata": {
  "kernelspec": {
   "display_name": "base",
   "language": "python",
   "name": "python3"
  },
  "language_info": {
   "codemirror_mode": {
    "name": "ipython",
    "version": 3
   },
   "file_extension": ".py",
   "mimetype": "text/x-python",
   "name": "python",
   "nbconvert_exporter": "python",
   "pygments_lexer": "ipython3",
   "version": "3.9.16"
  },
  "vscode": {
   "interpreter": {
    "hash": "49060cedf8366e4ce4bf4b9d121c044cf7249a0afe21432e14f32b1ca5a4731f"
   }
  }
 },
 "nbformat": 4,
 "nbformat_minor": 5
}
