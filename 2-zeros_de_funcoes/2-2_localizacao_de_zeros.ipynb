{
 "cells": [
  {
   "cell_type": "markdown",
   "id": "f4a9a40a",
   "metadata": {},
   "source": [
    "$\\newcommand{\\set}[2]{\\big\\{#1\\,\\ {\\large:}\\ \\,#2\\big\\}}\n",
    "\\newcommand{\\eps}{\\varepsilon}\n",
    "\\newcommand{\\abs}[1]{\\left\\vert#1\\right\\vert}\n",
    "\\newcommand{\\ceil}[1]{\\left\\lceil#1\\right\\rceil}\n",
    "\\newcommand{\\floor}[1]{\\left\\lfloor#1\\right\\rfloor}\n",
    "$\n",
    "# Busca incremental e busca adaptativa"
   ]
  },
  {
   "cell_type": "markdown",
   "id": "7c408490",
   "metadata": {},
   "source": [
    "### $ 2. 2 $ Descrição do procedimento para localização de uma raiz e critérios de parada\n",
    "\n",
    "Todos os métodos para localização de zeros que estudaremos são *iterativos*. Partindo de uma estimativa inicial para um zero $ \\zeta $, a cada passo utilizamos a estimativa anterior para obter uma aproximação mais refinada para $ \\zeta $, até que esta seja julgada boa o suficiente. Os *critérios de parada* mais comuns são:\n",
    "1. A distância entre o zero $ \\zeta $ e sua aproximação atual é menor que um $ \\eps > 0 $ escolhido previamente.\n",
    "2. O valor da função na aproximação atual é menor que $ \\eps $ em valor absoluto.\n",
    "3. O número de iterações excede uma cota $ N$ pré-fixada."
   ]
  },
  {
   "cell_type": "markdown",
   "id": "aea07c2d",
   "metadata": {},
   "source": [
    "**Problema 4:** Construa um procedimento `checa_zero` que tem por parâmetros: uma função real $ f $; dois pontos $ a $ e $ b $ em seu domínio; e uma constante $ \\eps > 0 $; e que retorna `True` se e somente se:\n",
    "* $ \\abs{b-a} < \\eps $; e\n",
    "* $ \\abs{f(m)} < \\eps $, onde $ m $ é o ponto médio de $ a $ e $ b $."
   ]
  },
  {
   "cell_type": "markdown",
   "id": "ef540081",
   "metadata": {},
   "source": [
    "*Solução:*"
   ]
  },
  {
   "cell_type": "markdown",
   "id": "12d04655",
   "metadata": {},
   "source": [
    "### $ 2.3 $ Encaixotamento de zeros\n",
    "\n",
    "Qualquer dos métodos que estudaremos requer como passo preliminar o **encaixotamento** de um zero, ou seja, a determinação de um intervalo onde $ f $ troca de sinal. A escolha deste intervalo é crucial: para algumas escolhas o método em questão pode convergir muito lentamente ou até falhar.\n",
    "\n",
    "Para encaixotar um zero de uma função, as três opções mais comuns são:\n",
    "* Usar a a teoria subjacente para advinhar a sua localização aproximada, no caso em que a função provém de um modelo da Física ou Engenharia;\n",
    "* Esboçar o gráfico da função e estimar visualmente um subintervalo onde ele cruza o eixo-$x$;\n",
    "* Aplicar uma busca sistemática, avaliando o sinal da função em pontos sucessivos para localizar um subintervalo onde a função troca de sinal.\n",
    "\n",
    "Destes três métodos, apenas o terceiro é rígido o suficiente para ser programado com facilidade, o que não quer dizer que os outros dois sejam menos valiosos.\n",
    "\n",
    "📝 **Isolar** um zero significa encontrar um intervalo que o contém em seu interior mas que não contém qualquer outro zero. Se um intervalo contém mais de um zero, em geral não há como controlar para qual deles um método iterativo convergirá, por isto sempre que possível é desejável isolar um zero, não somente encaixotá-lo."
   ]
  },
  {
   "cell_type": "markdown",
   "id": "2f7ab637",
   "metadata": {},
   "source": [
    "## $ \\S 4 $ Busca incremental para encaixotamento de raízes\n",
    "\n",
    "Suponha que queiramos encaixotar um zero de uma função contínua $ f \\colon [a, b] \\to \\mathbb{R} $. Usando o método da **busca incremental**, começamos escolhendo um **incremento** ou **tamanho de passo** $ h > 0 $. Então calculamos o sinal de\n",
    "$$\n",
    "f(x_i)f(x_{i+1}) \\quad \\text{para} \\quad x_i = a+ih \\quad (i = 0, 1, \\dots )\n",
    "$$\n",
    "sucessivamente.\n",
    "* Se $ f(x_i)f(x_{i+1}) \\le 0 $ para algum $ i $, então o intervalo $ [x_i,x_{i+1}] $ deve conter um zero de $ f $, pelo Corolário 2.\n",
    "* Caso contrário, eventualmente teremos $ x_{i+1} > b $ e a busca terá sido inconclusiva."
   ]
  },
  {
   "cell_type": "code",
   "execution_count": null,
   "id": "5f05742d",
   "metadata": {},
   "outputs": [],
   "source": [
    "def busca_incremental(f, a, b, h):\n",
    "    \"\"\"\n",
    "    Começando com x_1 = a e x_2 = a + h e com incrementos\n",
    "    de h, retorna o primeiro par de pontos consecutivos onde\n",
    "    f assume sinais opostos.\n",
    "    \"\"\"\n",
    "    from numpy import sign\n",
    "    \n",
    "    # Inicializando:\n",
    "    x_0 = a\n",
    "    x_1 = a + h\n",
    "    f_0 = f(x_0)\n",
    "    f_1 = f(x_1)\n",
    "    \n",
    "    while sign(f_0) == sign(f_1):\n",
    "        if x_1 > b:\n",
    "            return None, None\n",
    "        x_0, f_0 = x_1, f_1\n",
    "        x_1 += h\n",
    "        f_1 = f(x_1)\n",
    "        \n",
    "    return x_0, x_1"
   ]
  },
  {
   "cell_type": "markdown",
   "id": "566ffc08",
   "metadata": {},
   "source": [
    "**Problema 5:** O polinômio $ x^3 - 11x^2 + 7 $ possui exatamente um zero entre $ 0 $ e $ 1 $. Encaixote este zero dentro de um intervalo de comprimento no máximo $ 10^{-3} $."
   ]
  },
  {
   "cell_type": "markdown",
   "id": "6a31cbfc",
   "metadata": {},
   "source": [
    "*Solução:*"
   ]
  },
  {
   "cell_type": "code",
   "execution_count": null,
   "id": "76d68273",
   "metadata": {},
   "outputs": [],
   "source": []
  },
  {
   "cell_type": "markdown",
   "id": "3da4b144",
   "metadata": {},
   "source": [
    "⚠️ Se $ f $ não tem zeros no intervalo $ [a,b] $, obviamente a busca incremental será mal-sucedida. Por outro lado, mesmo que $ f $ tenha zeros aí, por menor que seja o valor do incremento $ h $, não há como garantir *a priori* que a busca será bem sucedida, ou que o intervalo resultante conterá um *único* zero.\n",
    "\n",
    "⚠️ Muitas vezes precisamos encontrar *todos* os zeros de uma função. Nestes casos, se utilizarmos um incremento $ h $ grande demais, corremos o risco de pular por um número par de zeros consecutivos sem detectá-los, ou de obter um intervalo que contém um número ímpar de zeros em seu interior, mas ao final conseguir localizar apenas um deles. Por outro lado, se $ h $ for pequeno demais, gastaremos muito tempo procurando em regiões que não contêm qualquer zero."
   ]
  },
  {
   "cell_type": "markdown",
   "id": "63258fb3",
   "metadata": {},
   "source": [
    "**Problema 6:**\n",
    "\n",
    "(a) Quantos zeros a função $ f(x) = \\sin(x) - 0.999 $ tem no intervalo $ [0, 30\\pi] $?\n",
    "\n",
    "(b) Mostre que `busca_incremental` com tamanho de passo $ h = 1 $ não consegue encaixotar nenhum deles."
   ]
  },
  {
   "cell_type": "markdown",
   "id": "1a8bd43f",
   "metadata": {},
   "source": [
    "*Solução:*"
   ]
  },
  {
   "cell_type": "code",
   "execution_count": null,
   "id": "d9968779",
   "metadata": {},
   "outputs": [],
   "source": [
    "from numpy import sin, pi"
   ]
  },
  {
   "cell_type": "markdown",
   "id": "0f60bb91",
   "metadata": {},
   "source": [
    "## $ \\S 5 $ Busca incremental adaptativa\n",
    "\n",
    "**Definição:** As funções\n",
    "\n",
    "\\begin{alignat*}{9}\n",
    "    \\floor{\\cdot} \\colon \\mathbb{R} \\to \\mathbb{Z},\n",
    "    \\quad \\floor{x} & = \\text{maior inteiro $ \\le x $} \\\\\n",
    "    \\ceil{\\cdot} \\colon \\mathbb{R} \\to \\mathbb{Z},\n",
    "    \\quad \\ceil{x} & = \\text{menor inteiro $ \\ge x $} \\\\\n",
    "\\end{alignat*}\n",
    "são chamadas de funções **chão** e **teto** respectivamente. \n",
    "\n",
    "Observe que estas funções são contínuas exceto nos inteiros, onde têm uma descontinuidade de salto.\n",
    "\n",
    "**Problema 7:** Mostre que\n",
    "$$\n",
    "\\ceil{x} =\n",
    "\\begin{cases}\n",
    "    \\floor{x} + 1 & \\text{se $ x \\not \\in \\mathbb{Z} $} \\\\\n",
    "    \\floor{x} & \\text{se $ x \\in \\mathbb{Z} $}\n",
    "\\end{cases}\n",
    "$$\n",
    "\n",
    "\n",
    "\n",
    "**Teorema 2:** _No pior caso, a busca incremental aplicada a uma função definida no intervalo $ [a, b] $ com tamanho de passo $ h $ requer_\n",
    "$$\n",
    "    \\boxed{n = \\floor{\\frac{b-a}{h}} + 1 \\ \\text{avaliações}.}\n",
    "$$\n",
    "\n",
    "**Prova:** Suponha que a função à qual a busca foi aplicada não possua zeros em $ [a, b] $. Então precisamos avaliá-la em cada ponto $ x_i = a + ih $ tal que $ x_i \\le b $, começando de $ i = 0 $. O último inteiro $ i $ que satisfaz esta condição é\n",
    "$$\n",
    "    \\floor{\\frac{b-a}{h}}. \\tag*{$\\blacksquare$}\n",
    "$$\n",
    "\n",
    "Por exemplo, se quisermos localizar o zero de uma função definida no intervalo $ [0, 1] $ com precisão de ao menos $ 5 $ dígitos, precisamos realizar a princípio $ 10^5 $ avaliações da função. Assim, para uma tolerância pequena relativamente ao comprimento do intervalo original, o custo computacional pode ser inaceitavelmente alto.\n",
    "\n",
    "Uma alternativa para tentar reduzir este custo é implementar uma **busca adaptativa**, em que começamos com um incremento de tamanho $ h = \\frac{b-a}{2} $ e a cada passo reduzimos o seu comprimento pela metade até que ele fique menor que a tolerância desejada. O ponto crucial é que a cada vez que encontrarmos um subintervalo onde a função troca de sinal, podemos restringir nossa busca a este intervalo menor para diminuir o número de avaliações."
   ]
  },
  {
   "cell_type": "code",
   "execution_count": null,
   "id": "25273c7d",
   "metadata": {},
   "outputs": [],
   "source": [
    "def busca_adaptativa(f, a, b, h_max):\n",
    "    \"\"\"\n",
    "    Começando com incremento de tamanho h = (b - a) / 2,\n",
    "    a cada passo realiza uma busca incremental no intervalo [a, b]\n",
    "    anterior com tamanho de passo h / 2. Se a busca é bem sucedida,\n",
    "    atualizamos a, b às saídas x_0, x_1; caso contrário, utilizamos\n",
    "    os mesmos valores de a, b no próximo passo. A busca termina assim\n",
    "    que h < h_max.\n",
    "    \"\"\"\n",
    "    from numpy import sign\n",
    "    \n",
    "    # Inicializando:\n",
    "    x_0 = a\n",
    "    x_1 = b\n",
    "    h =  (b - a) / 2\n",
    "    \n",
    "    while h >= h_max:\n",
    "        x_0, x_1 = busca_incremental(f, a, b, h)\n",
    "        if x_0:\n",
    "            a = x_0\n",
    "            b = x_1\n",
    "        h /= 2\n",
    "    \n",
    "    if x_0:\n",
    "        return x_0, x_1\n",
    "    else:\n",
    "        print(\"Busca inconclusiva!\")\n",
    "        return None, None"
   ]
  },
  {
   "cell_type": "markdown",
   "id": "98c54434",
   "metadata": {},
   "source": [
    "⚠️ Não há garantia que a busca adaptativa seja sempre mais eficiente que a busca incremental simples."
   ]
  },
  {
   "cell_type": "markdown",
   "id": "9b00a86d",
   "metadata": {},
   "source": [
    "**Problema:** Modifique `busca_incremental` para criar um novo procedimento `busca_exaustiva` com os mesmos parâmetros que antes, mas que retorna uma lista contendo todos os pares $ \\big(x_{i-1}, x_i\\big) $ tais que ocorre uma troca de sinal no intervalo com estas extremidades, onde\n",
    "$$\n",
    "    x_i = a + h i \\quad \\text{para} \\quad i = 0,1,\\dots,N - 1 =\\floor{\\frac{b-a}{h}} \\quad\\text{e} \\quad x_N = b.\n",
    "$$"
   ]
  },
  {
   "cell_type": "markdown",
   "id": "4ffa0c22",
   "metadata": {},
   "source": [
    "*Solução:*"
   ]
  },
  {
   "cell_type": "markdown",
   "id": "851aed39",
   "metadata": {},
   "source": []
  },
  {
   "cell_type": "code",
   "execution_count": null,
   "id": "9541fce3",
   "metadata": {},
   "outputs": [],
   "source": []
  }
 ],
 "metadata": {
  "kernelspec": {
   "display_name": "Python 3 (ipykernel)",
   "language": "python",
   "name": "python3"
  },
  "language_info": {
   "codemirror_mode": {
    "name": "ipython",
    "version": 3
   },
   "file_extension": ".py",
   "mimetype": "text/x-python",
   "name": "python",
   "nbconvert_exporter": "python",
   "pygments_lexer": "ipython3",
   "version": "3.9.15"
  }
 },
 "nbformat": 4,
 "nbformat_minor": 5
}
