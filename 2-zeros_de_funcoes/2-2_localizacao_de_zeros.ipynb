{
 "cells": [
  {
   "cell_type": "code",
   "execution_count": 1,
   "id": "2dce17b0",
   "metadata": {},
   "outputs": [],
   "source": [
    "import matplotlib.pyplot as plt\n",
    "import numpy as np\n",
    "from typing import Callable\n",
    "%load_ext autoreload\n",
    "%autoreload 2\n",
    "%matplotlib qt"
   ]
  },
  {
   "attachments": {},
   "cell_type": "markdown",
   "id": "f4a9a40a",
   "metadata": {},
   "source": [
    "# Busca incremental e busca adaptativa"
   ]
  },
  {
   "attachments": {},
   "cell_type": "markdown",
   "id": "2f7ab637",
   "metadata": {},
   "source": [
    "## $ \\S 1 $ Descrição da busca incremental para encaixotamento de raízes\n",
    "\n",
    "Suponha que queiramos encaixotar um zero de uma função contínua $ f \\colon [a,\n",
    "b] \\to \\mathbb{R} $. Usando o método da __busca incremental__, começamos\n",
    "escolhendo um __incremento__ ou __tamanho de passo__ $ h > 0 $. Então calculamos\n",
    "o sinal de\n",
    "$$\n",
    "f(x_i) \\quad \\text{para} \\quad x_i = a+ih \\quad (i = 0, 1, \\dots )\n",
    "$$\n",
    "sucessivamente.\n",
    "Se \n",
    "$$\n",
    "    \\operatorname{sinal} f(x_i) \\ne \\operatorname{sinal} f(x_{i+1})\n",
    "$$\n",
    "para algum $ i $, então o subintervalo $ [x_i,x_{i+1}] $ deve conter um zero de\n",
    "$ f $, pelo teorema do valor intermediário. Caso esta condição falhe para todo $\n",
    "i $, eventualmente teremos $ x_{i+1} > b $ e a busca terá sido inconclusiva."
   ]
  },
  {
   "cell_type": "markdown",
   "id": "97f53967",
   "metadata": {},
   "source": [
    "# $ \\S 2 $ Implementação da busca incremental"
   ]
  },
  {
   "cell_type": "code",
   "execution_count": 2,
   "id": "5f05742d",
   "metadata": {},
   "outputs": [],
   "source": [
    "def incremental_search(f: Callable[[float], float],\n",
    "                       a: float, b: float, h: float\n",
    "                       ) -> tuple[float, float]:\n",
    "    \"\"\"\n",
    "    Beginning with x_0 = a and x_1 = a + h and repeatedly incrementing both by\n",
    "    h, returns the first pair of consecutive nodes where f takes on opposite\n",
    "    signs.\n",
    "    Parameters:\n",
    "        * A real continuous function f.\n",
    "        * The endpoints a < b of an interval [a, b] where f is defined.\n",
    "        * A step size h > 0. \n",
    "    Output:\n",
    "        * In case of success: updated values of a, b such that a < b, \n",
    "          b - a <= h and f(a)f(b) < 0. In case of failure: None, None.\n",
    "    Prints:\n",
    "        * The number of performed iterations.\n",
    "        * The pair a, b described above in case of success;\n",
    "          or a warning message in case of failure.\n",
    "    \"\"\"\n",
    "    from numpy import sign\n",
    "    \n",
    "\n",
    "    # Check the sign of h:\n",
    "    if sign(h) != 1:\n",
    "        raise ValueError(\"The step size should be positive!\")\n",
    "    # Check the sign of (b - a):\n",
    "    if a >= b:\n",
    "        raise ValueError(\"a should be less than b!\")\n",
    "    # Initializing:\n",
    "    x_0 = a\n",
    "    x_1 = a + h\n",
    "    f_0 = f(x_0)\n",
    "    f_1 = f(x_1)\n",
    "    iterations = 1\n",
    "    \n",
    "    while sign(f_0) == sign(f_1) and x_0 != b:\n",
    "        x_0, f_0 = x_1, f_1         # Update x_0, f_0 to their next values.\n",
    "        x_1 = min(x_1 + h, b)       # Update x_1.\n",
    "        f_1 = f(x_1)                # Update f_1.\n",
    "        iterations += 1\n",
    "    \n",
    "    print(f\"The number of performed iterations was: {iterations}.\")\n",
    "    if x_0 == b:                    # The right endpoint was reached.\n",
    "        print(\"The search was inconclusive! You may want to try again \"\n",
    "              \"with a smaller step size or a different interval.\")\n",
    "        return None, None\n",
    "    else:\n",
    "        print(\"The search was successful! The function f changes sign \"\n",
    "              \"in the subinterval [a, b] where:\"\n",
    "              f\"\\n\\t a = {x_0:15.9f}\"\n",
    "              f\"\\n\\t b = {x_1:15.9f}\")\n",
    "        return x_0, x_1"
   ]
  },
  {
   "attachments": {},
   "cell_type": "markdown",
   "id": "566ffc08",
   "metadata": {},
   "source": [
    "__Problema 1:__ O polinômio $ x^3 - 11x^2 + 7 $ possui exatamente um zero entre $ 0 $ e $ 1 $. Encaixote este zero dentro de um intervalo de comprimento no máximo $ 10^{-3} $."
   ]
  },
  {
   "cell_type": "markdown",
   "id": "6a31cbfc",
   "metadata": {},
   "source": [
    "*Solução:*"
   ]
  },
  {
   "cell_type": "code",
   "execution_count": 3,
   "id": "76d68273",
   "metadata": {},
   "outputs": [
    {
     "name": "stdout",
     "output_type": "stream",
     "text": [
      "The number of performed iterations was: 830.\n",
      "The search was successful! The function f changes sign in the subinterval [a, b] where:\n",
      "\t a =     0.829000000\n",
      "\t b =     0.830000000\n",
      "0.8290000000000006 0.8300000000000006\n"
     ]
    }
   ],
   "source": [
    "f = lambda x: x**3 - 11 * x**2 + 7\n",
    "a = 0\n",
    "b = 1\n",
    "h = 1.0e-3\n",
    "a, b = incremental_search(f, a, b, h)\n",
    "print(a, b)"
   ]
  },
  {
   "attachments": {},
   "cell_type": "markdown",
   "id": "3da4b144",
   "metadata": {},
   "source": [
    "⚠️ Se $ f \\ge 0 $ ou se $ f \\le 0 $ em todo o intervalo $ [a,b] $, obviamente a\n",
    "busca incremental será mal-sucedida. Por outro lado, mesmo que $ f $ troque de\n",
    "sinal dentro de $ [a, b] $, por menor que seja o tamanho do incremento $ h $,\n",
    "não há como garantir _a priori_ que a busca será bem-sucedida, ou que o\n",
    "intervalo resultante contenha um _único_ zero.\n",
    "\n",
    "️️📝 Muitas vezes precisamos encontrar _todos_ os zeros de uma função. Nestes\n",
    "casos, se utilizarmos um incremento $ h $ grande demais, corremos o risco de\n",
    "pular por um número par de zeros consecutivos sem detectá-los, ou de obter um\n",
    "intervalo que contém um número ímpar de zeros em seu interior, mas ao final\n",
    "conseguir localizar apenas um deles. Por outro lado, se $ h $ for pequeno\n",
    "demais, gastaremos muito tempo procurando em regiões que não contêm qualquer\n",
    "zero. Cabe ao usuário escolher o tamanho de passo $ h $ mais adequado em cada\n",
    "caso de modo a mitigar estas dificuldades."
   ]
  },
  {
   "attachments": {},
   "cell_type": "markdown",
   "id": "63258fb3",
   "metadata": {},
   "source": [
    "__Problema 2:__\n",
    "\n",
    "(a) Quantos zeros a função $ f(x) = \\sin(2x) - 0.999 $ tem no intervalo $ [0, 30\\pi] $?\n",
    "\n",
    "(b) Mostre que `busca_incremental` com tamanho de passo $ h = 1 $ não consegue encaixotar nenhum deles."
   ]
  },
  {
   "cell_type": "markdown",
   "id": "1a8bd43f",
   "metadata": {},
   "source": [
    "*Solução:*"
   ]
  },
  {
   "cell_type": "code",
   "execution_count": null,
   "id": "d9968779",
   "metadata": {},
   "outputs": [],
   "source": [
    "from numpy import sin, pi"
   ]
  },
  {
   "attachments": {},
   "cell_type": "markdown",
   "id": "0f60bb91",
   "metadata": {},
   "source": [
    "## $ \\S 3 $ Análise do desempenho da busca incremental\n",
    "\n",
    "**Definição:** As funções\n",
    "\n",
    "\\begin{alignat*}{9}\n",
    "    \\lfloor{\\cdot}\\rfloor \\colon \\mathbb{R} \\to \\mathbb{Z},\n",
    "    \\quad \\lfloor{x}\\rfloor & = \\text{maior inteiro $ \\le x $} \\\\\n",
    "    \\lceil{\\cdot}\\rceil \\colon \\mathbb{R} \\to \\mathbb{Z},\n",
    "    \\quad \\lceil{x}\\rceil & = \\text{menor inteiro $ \\ge x $} \\\\\n",
    "\\end{alignat*}\n",
    "são chamadas de funções **chão** e **teto** respectivamente. Observe que\n",
    "$$\n",
    "  \\lfloor x \\rfloor = x = \\lceil x \\rceil\\ \\Longleftrightarrow x \\in \\mathbb Z\\,.\n",
    "$$\n",
    "\n",
    "__Problema 3:__ \n",
    "\n",
    "(a) Esboce os gráficos das funções chão e teto, primeiro à mão e depois usando o computador.\n",
    "\n",
    "(b) Mostre que estas funções são contínuas exceto nos inteiros, onde têm uma descontinuidade do tipo salto.\n",
    "\n",
    "__Problema 4:__ Mostre que\n",
    "$$\n",
    "\\lceil{x}\\rceil =\n",
    "\\begin{cases}\n",
    "    \\lfloor{x}\\rfloor + 1 & \\text{se $ x \\not \\in \\mathbb{Z} $} \\\\\n",
    "    \\lfloor{x}\\rfloor & \\text{se $ x \\in \\mathbb{Z} $}\n",
    "\\end{cases}\n",
    "$$\n",
    "\n",
    "__Teorema 3.1:__ _No pior caso, a busca incremental aplicada a uma função\n",
    "definida no intervalo $ [a, b] $ com tamanho de passo $ h > 0 $\n",
    "requer_\n",
    "\\begin{equation}\\label{E:ceil}\n",
    "    \\boxed{n = \\left\\lceil{\\frac{b-a}{h}}\\right\\rceil + 1 \\ \\text{avaliações}.}\n",
    "    \\tag{1}\n",
    "\\end{equation}\n",
    "\n",
    "__Prova:__ Suponha que a função à qual a busca foi aplicada não troque de sinal\n",
    "dentro de $ [a, b] $. Então precisamos avaliá-la em cada ponto $ x_i = a + ih $\n",
    "tal que $ x_i < b $ a partir de $ i = 0 $, e também em $ b $. Portanto:\n",
    "* Se $ h $ divide $ b - a $ exatamente, é necessária uma avaliação da\n",
    "  função para cada inteiro $ i $ entre $ 0 $ e $ \\frac{b - a}{h} $.\n",
    "* Se $ h $ não divide $ b - a $ exatamente, precisamos realizar uma avaliação\n",
    "  da função para cada inteiro $ i $ entre $ 0 $ e\n",
    "  $ \\left\\lfloor \\frac{b - a}{h} \\right\\rfloor $, além de $ b $.\n",
    "\n",
    "Em qualquer caso, o número de avaliações coincide com \\eqref{E:ceil}.\n",
    "<div style=\"text-align: right\">$ \\blacksquare $ </div>\n",
    "\n",
    "Por exemplo, se quisermos localizar o zero de uma função definida no intervalo\n",
    "$ [0, 1] $ com precisão de ao menos $ 5 $ dígitos, precisamos realizar a\n",
    "princípio $ 10^5 $ avaliações da função. Assim, para uma tolerância\n",
    "pequena relativamente ao comprimento do intervalo original, o custo\n",
    "computacional pode ser inaceitavelmente alto.\n"
   ]
  },
  {
   "attachments": {},
   "cell_type": "markdown",
   "id": "11cc11f6",
   "metadata": {},
   "source": [
    "\n",
    "__Problema 4:__ Usando a busca incremental, identifique um intervalo $ [a, b] $\n",
    "de comprimento menor que $ \\frac{1}{10} $ que contém uma raiz da equação dada.\n",
    "Determine em cada caso uma cota superior para o número de passos necessários\n",
    "através do Teorema 3.1.\n",
    "\n",
    "(a) $ x \\ln x = 1 $ ($ x > 0 $).\n",
    "\n",
    "(b) $ \\cos x = x^2 $.\n",
    "\n",
    "(c) $ x^5 - 3x^4 - 6x^3 + 4x^2 + 5x - 3 = 0 $.\n",
    "\n",
    "(d) $ \\tan x = x + 2 e^x $ $\\big( x \\not\\in \\frac{\\pi}{2} + \\pi \\mathbb Z \\big)$."
   ]
  },
  {
   "attachments": {},
   "cell_type": "markdown",
   "id": "ed190439",
   "metadata": {},
   "source": [
    "## $ \\S 4 $ Descrição da busca adaptativa\n",
    "\n",
    "Uma alternativa para tentar reduzir o custo da busca incremental é utilizar um\n",
    "tamanho de passo que é reduzido pouco a pouco. Mais precisamente, na __busca\n",
    "adaptativa__ começamos com um incremento de tamanho \n",
    "$$\n",
    "h = \\frac{b-a}{10}\n",
    "$$\n",
    "e realizamos uma busca incremental no intervalo $ [a, b] $.\n",
    "* Se esta busca incremental for bem-sucedida, encontrando um subintervalo de\n",
    "  comprimento $ \\le h $ onde $ f $ troca de sinal, atualizamos $ [a, b] $ a este\n",
    "  subintervalo.\n",
    "* Caso contrário, não alteramos $ [a, b] $.\n",
    "\n",
    "Seja como for, após terminada esta busca incremental inicial, fazemos\n",
    "$ h \\leftarrow h/ 10 $ e com este tamanho de passo atualizado realizamos uma\n",
    "busca incremental no (novo) intervalo $ [a, b] $. Este procedimento é repetido\n",
    "até que $ h $ fique menor que a tolerância desejada.\n",
    "\n",
    "O ponto crucial é que cada vez que encontrarmos um subintervalo onde a função\n",
    "troca de sinal, podemos restringir a próxima busca incremental a este intervalo\n",
    "menor, economizando assim o número de avaliações realizadas."
   ]
  },
  {
   "attachments": {},
   "cell_type": "markdown",
   "id": "872b473a",
   "metadata": {},
   "source": [
    "## $ \\S 5 $ Implementação da busca adaptativa"
   ]
  },
  {
   "cell_type": "code",
   "execution_count": 4,
   "id": "25273c7d",
   "metadata": {},
   "outputs": [],
   "source": [
    "def adaptive_search(f: Callable[[float], float],\n",
    "                    a: float, b: float, h_max: float\n",
    "                    ) -> tuple[float, float]:\n",
    "    \"\"\"\n",
    "    Initially an incremental search is performed on [a, b] with a step size\n",
    "    h = (b - a) / 10. If the search is successful, [a, b] is updated to the\n",
    "    interval that was yielded. Otherwise it remains the same.  In any case, we\n",
    "    again perform an incremental search, this time with a step of size one-tenth\n",
    "    the size of the previous one. This is repeated until h <= h_max / 10.\n",
    "    Parameters:\n",
    "        * A real continuous function f.\n",
    "        * The endpoints a and b of an interval [a, b] where f is defined.\n",
    "        * An upper bound h_max for the desired step size.\n",
    "    Output:\n",
    "        * In case of success: updated values of a, b such that a < b,\n",
    "          b - a <= h_max and f(a)f(b) < 0. In case of failure: None, None.\n",
    "    Prints:\n",
    "        * The pair a, b described above in case of success;\n",
    "          or a warning message in case of failure.\n",
    "        * The number of performed iterations.\n",
    "    \"\"\"\n",
    "    from numpy import sign\n",
    "\n",
    "\n",
    "    # Check the sign of h_max:\n",
    "    if sign(h_max) != 1:\n",
    "        raise ValueError(\"The tolerance should be positive!\")\n",
    "    # Check the sign of (b - a):\n",
    "    if a >= b:\n",
    "        raise ValueError(\"a should be less than b!\")\n",
    "    # Check whether h_max < (b - a) / 10:\n",
    "    if h_max > (b - a) / 10:\n",
    "        h_max = (b - a) / 10\n",
    "    # Initializing:\n",
    "    iterations = 1\n",
    "    h =  (b - a) / 10\n",
    "    success = False\n",
    "    \n",
    "    while h >= h_max:\n",
    "        x_0 = a\n",
    "        x_1 = x_0 + h\n",
    "        f_0 = f(x_0)\n",
    "        f_1 = f(x_1)\n",
    "        while sign(f_0) == sign(f_1) and x_0 != b:\n",
    "            x_0, f_0 = x_1, f_1         # Update x_0, f_0 to their next values.\n",
    "            x_1 = min(x_1 + h, b)       # Update x_1.\n",
    "            f_1 = f(x_1)                # Update f_1.\n",
    "            iterations += 1\n",
    "        if x_0 != b:\n",
    "            success = True\n",
    "            a = x_0\n",
    "            b = x_1\n",
    "        h /= 10\n",
    "\n",
    "    print(f\"The number of performed iterations was: {iterations}.\")\n",
    "    if not success:                     # Could not find a change of sign.\n",
    "        print(\"The search was inconclusive! You may want to try again \"\n",
    "              \"with a smaller tolerance or a different interval.\")\n",
    "        return None, None\n",
    "    else:\n",
    "        print(\"The search was successful! The function f changes sign \"\n",
    "              \"in the subinterval [a, b] where:\"\n",
    "              f\"\\n\\t a = {x_0:15.9f}\"\n",
    "              f\"\\n\\t b = {x_1:15.9f}\")\n",
    "        return x_0, x_1"
   ]
  },
  {
   "attachments": {},
   "cell_type": "markdown",
   "id": "98c54434",
   "metadata": {},
   "source": [
    "⚠️ Não há garantia que a busca adaptativa seja sempre mais eficiente que a busca\n",
    "incremental simples. Por exemplo, se a função toma valores de mesmo sinal ao\n",
    "longo de todo o intervalo inicial $ [a, b] $, então para $ h < \\frac{b - a}{10}\n",
    "$, a busca adaptativa certamente realizará mais avaliações que a busca incremental."
   ]
  },
  {
   "attachments": {},
   "cell_type": "markdown",
   "id": "0c62792c",
   "metadata": {},
   "source": [
    "\n",
    "__Problema 5:__ Compare o número de iterações utilizadas pela busca incremental\n",
    "e pela busca adaptativa para encaixotar uma raiz das equações seguintes para\n",
    "o valor máximo do incremento $ h $ igual a $ 10^{-3} $.\n",
    "\n",
    "(a) $ \\cos x \\cosh x = 2 $, onde por definição $ \\cosh x = \\frac{e^x + e^{-x}}{2} $.\n",
    "\n",
    "(b) $ xe^x = 1 $.\n",
    "\n",
    "(c) $ x^2 + \\ln x = 0 $ ($ x > 0 $)."
   ]
  },
  {
   "cell_type": "markdown",
   "id": "1691dc8d",
   "metadata": {},
   "source": [
    "_Solução:_"
   ]
  },
  {
   "cell_type": "code",
   "execution_count": null,
   "id": "63df4648",
   "metadata": {},
   "outputs": [],
   "source": []
  },
  {
   "attachments": {},
   "cell_type": "markdown",
   "id": "3d4064cd",
   "metadata": {},
   "source": [
    "__Problema 6:__ Modifique `busca_incremental` para criar um novo procedimento `busca_exaustiva` com os mesmos parâmetros que antes, mas que retorna uma lista contendo todos os pares $ \\big(x_{i-1}, x_i\\big) $ tais que ocorre uma troca de sinal no intervalo com estas extremidades, onde\n",
    "$$\n",
    "    x_i = a + h i \\quad \\text{para} \\quad i = 0,1,\\dots,N - 1 =\\left\\lfloor{\\frac{b-a}{h}}\\right\\rfloor \\quad\\text{e} \\quad x_N = b.\n",
    "$$"
   ]
  },
  {
   "cell_type": "markdown",
   "id": "619a3b12",
   "metadata": {},
   "source": [
    "*Solução:*"
   ]
  },
  {
   "cell_type": "markdown",
   "id": "16300007",
   "metadata": {},
   "source": []
  }
 ],
 "metadata": {
  "kernelspec": {
   "display_name": "base",
   "language": "python",
   "name": "python3"
  },
  "language_info": {
   "codemirror_mode": {
    "name": "ipython",
    "version": 3
   },
   "file_extension": ".py",
   "mimetype": "text/x-python",
   "name": "python",
   "nbconvert_exporter": "python",
   "pygments_lexer": "ipython3",
   "version": "3.9.16"
  },
  "vscode": {
   "interpreter": {
    "hash": "49060cedf8366e4ce4bf4b9d121c044cf7249a0afe21432e14f32b1ca5a4731f"
   }
  }
 },
 "nbformat": 4,
 "nbformat_minor": 5
}
