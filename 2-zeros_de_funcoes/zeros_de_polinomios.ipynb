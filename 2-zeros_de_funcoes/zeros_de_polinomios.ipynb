{
 "cells": [
  {
   "cell_type": "markdown",
   "id": "5e460db9",
   "metadata": {},
   "source": [
    "## $ \\S 2 $ Zeros de polinômios\n",
    "\n",
    "### 2.1 Zeros de polinômios\n",
    "\n",
    "**Exemplo 1 (polinômios):** A dificuldade do problema de se encontrar os zeros de uma função é bem ilustrada pela classe dos polinômios. Seja $ p(x) $ um polinômio com coeficientes reais. \n",
    "\n",
    "* Se $ p $ tem grau $ 1 $, digamos\n",
    "$$\n",
    "p(x) = a x + b \\qquad (a \\ne 0),\n",
    "$$\n",
    "então seu único zero é $ -\\frac{b}{a} $. \n",
    "\n",
    "* Se $ p $ tem grau $ 2 $, digamos\n",
    "$$\n",
    "p(x) = a x^2 + bx + c \\qquad (a \\ne 0),\n",
    "$$\n",
    "então seus zeros são dados pela *fórmula quadrática* ou *fórmula de Bhaskara*:\n",
    "$$\n",
    "z = \\frac{-b \\pm \\sqrt{\\Delta}}{2a}\\,,\\qquad \\text{onde }\\Delta = b^2 - 4ac.\n",
    "$$\n",
    "Ambos os zeros são reais caso $ \\Delta > 0 $; ambos os zeros são números complexos conjugados (e não-reais) caso $ \\Delta < 0 $; e há um zero real de multiplicidade $ 2 $ (significando que não apenas $ p $ mas também sua derivada se anula neste ponto), caso $ \\Delta = 0 $.\n",
    "\n",
    "* Um polinômio $ p $ de grau $ 3 $ possui pelo menos um zero real; veja o Problema 1 abaixo. É possível expressá-lo através de uma fórmula fechada envolvendo os coeficientes de $ p $, as quatro operações aritméticas e radicais (raízes $ n $-ésimas, neste caso para $ n = 2 $ ou $ 3 $). Esta expressão é conhecida como *fórmula de Cardano* (Gerolamo Cardano, 1501—1576).\n",
    "\n",
    "* Se $ p $ tem grau $ 4 $, então novamente é possível expressar seus zeros reais, caso existam, através de fórmulas fechadas envolvendo os coeficientes de $ p $. Este resultado é devido a Ferrari (Lodovico Ferrari, 1522—1565).\n",
    "\n",
    "* Entretanto, *para polinômios de grau $ \\ge 5 $ não é possível, em geral, expressar os zeros de $ p $ por meio de fórmulas fechadas envolvendo os coeficientes, as quatro operações aritméticas e a extração de raízes*. Este resultado segue dos trabalhos de Galois, Ruffini e Abel no início do século 19.\n",
    "\n",
    "Em conclusão, para a maioria dos polinômios, somos obrigados a abandonar a busca por expressões fechadas similares à fórmula de Bhaskara que forneçam o valor exato dos zeros. Mesmo para polinômios de grau $ 4 $, as fórmulas de Ferrari são tão complicadas que muitas vezes é mais vantajoso utilizar métodos numéricos para encontrar um zero.\n",
    "   \n",
    "### 2.2 Problemas sobre zeros de polinômios\n",
    "\n",
    "**Problema 1**: Suponha que $ p(x) = ax^3 + bx^2 + cx + d $ seja um polinômio de grau $ 3 $. Assuma por concretude que $ a > 0 $.\n",
    "\n",
    "(a) Mostre que\n",
    "$$\n",
    "\\lim_{x \\to -\\infty} p(x) = -\\infty \\qquad \\text{e} \\qquad \\lim_{x \\to +\\infty} p(x) = +\\infty\n",
    "$$\n",
    "\n",
    "(b) Conclua com ajuda do teorema do valor intermediário que $ p $ possui pelo menos um zero real.\n",
    "\n",
    "**Problema 2**: Seja \n",
    "$$ \n",
    "p(x) = a_nx^n + a_{n-1}x^{n-1} + \\dots + a_2x^2 + a_1x + a_0 \\qquad (a_n \\ne 0)\n",
    "$$\n",
    "um polinômio com coeficientes *reais*. Mostre que se $ z \\in \\mathbb C $ é um zero de $ p $, então seu conjugado complexo $ \\bar z $ também é um zero de $ p $.\n",
    "*Dica:* A operação de conjugação respeita adição/subtração e multiplicação/divisão, no sentido que \n",
    "    $$ \\overline{z \\pm w} = \\bar z \\pm \\bar w\\ , \\quad \\overline{zw} = \\bar z \\bar w \\quad \\text{e} \\quad \\overline{\\Big(\\tfrac{z}{w}\\Big)} = \\tfrac{\\bar z}{\\bar w}. $$\n",
    "Suponha que $ p(z) = 0 $ e aplique esta operação a ambos os lados da equação.\n",
    "\n",
    "📝 Isto prova que as raízes não-reais de um polinômio *de coeficientes reais* vêm em pares conjugados. Em particular, *o número de raízes deste tipo é sempre par*.\n",
    "\n",
    "**Problema 3:** Seja \n",
    "$$ p(x) = -x^6 + 7 x^5 - 4x^3 + 3x^2 + 6x - 2 $$\n",
    "\n",
    "(a) Mostre que $ p(-1) < 0 < p(1) $.\n",
    "\n",
    "(b) Por que isto implica a existência de um zero de $ p $ dentro do intervalo $ (-1, 1) $?"
   ]
  },
  {
   "cell_type": "code",
   "execution_count": null,
   "id": "4c0d36ea",
   "metadata": {},
   "outputs": [],
   "source": []
  }
 ],
 "metadata": {
  "kernelspec": {
   "display_name": "Python 3 (ipykernel)",
   "language": "python",
   "name": "python3"
  },
  "language_info": {
   "codemirror_mode": {
    "name": "ipython",
    "version": 3
   },
   "file_extension": ".py",
   "mimetype": "text/x-python",
   "name": "python",
   "nbconvert_exporter": "python",
   "pygments_lexer": "ipython3",
   "version": "3.9.15"
  }
 },
 "nbformat": 4,
 "nbformat_minor": 5
}
