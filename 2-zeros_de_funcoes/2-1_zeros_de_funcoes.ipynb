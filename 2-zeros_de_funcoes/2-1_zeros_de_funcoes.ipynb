{
 "cells": [
  {
   "cell_type": "code",
   "execution_count": 1,
   "id": "9fc6e6f4",
   "metadata": {},
   "outputs": [],
   "source": [
    "import matplotlib.pyplot as plt\n",
    "import numpy as np\n",
    "from typing import Callable\n",
    "%load_ext autoreload\n",
    "%autoreload 2\n",
    "%matplotlib qt"
   ]
  },
  {
   "attachments": {},
   "cell_type": "markdown",
   "id": "32505fe9",
   "metadata": {},
   "source": [
    "# Localização de zeros de funções\n",
    "\n",
    "## $ \\S 1 $ Introdução\n",
    "\n",
    "Um ponto $ \\zeta $ (_zeta_) do domínio de uma função $ f $ de uma variável é dito um **zero** de $ f $ caso\n",
    "$$ f(\\zeta) = 0 .$$\n",
    "Também dizemos que $ \\zeta $ é uma **raiz** de uma equação em uma variável, digamos,\n",
    "\\begin{equation*}\\label{E:raiz}\n",
    "g(x) = h(x)\\,, \\tag{1}\n",
    "\\end{equation*}\n",
    "se $ g(\\zeta) = h(\\zeta) $.\n",
    "\n",
    "📝 Observe que encontrar uma raiz de \\eqref{E:raiz} é equivalente a encontrar um zero de \n",
    "$$\n",
    "f(x) = g(x) - h(x)\\,.\n",
    "$$\n",
    "\n",
    "A localização de raízes de equações é um dos problemas mais freqüentes em Ciência e\n",
    "Engenharia. Entretanto, a sua solução _analítica_ é difícil ou impossível\n",
    "mesmo nos casos mais simples. De fato, essencialmente só conseguimos determinar\n",
    "os zeros de uma função numa das três situações seguintes:\n",
    "* A função é dada por um polinômio de grau $ \\le 4 $; por exemplo $ 3 x + 2 $ ou\n",
    "  $ 1.3 x^3 - 5.1 x^2 + 2.7 $. Nestes casos os zeros podem ser expressos através\n",
    "  de fórmulas gerais envolvendo os coeficientes. \n",
    "* Por sorte já havíamos nos deparado com um zero da função. Por exemplo,\n",
    "  conhecemos uma raiz da equação $ \\sqrt[3]{x} = 2 $ porque algum dia verificamos \n",
    "  que $ 2^3 = 8 $.\n",
    "* Podemos nos apoiar numa propriedade específica da função em questão. Por\n",
    "  exemplo, conseguimos encontrar uma solução de $ \\cos x = \\frac{1}{2} $ porque\n",
    "  ao se colocar lado a lado duas cópias de um triângulo retângulo em que um dos\n",
    "  ângulos mede $ \\frac{\\pi}{3} $, obtém-se um triângulo equilátero.\n",
    "\n",
    "Em compensação, existem vários _métodos numéricos_ gerais que nos permitem\n",
    "encontrar zeros de funções contínuas arbitrárias com alta precisão e baixo uso\n",
    "de recursos computacionais, por mais complicadas que sejam estas funções, e.g.:\n",
    "$$\n",
    "f(x) = e^{3x^2\\sin x\\,}\\big[\\cos(5x) + 2\\big]^{x^2+1} - \\frac{7}{\\sqrt{|x|+1}}\n",
    "$$\n",
    "\n",
    "📝 Ainda que todas as funções usuais estudadas em Cálculo possam ser estendidas\n",
    "a funções de uma variável complexa, estaremos interessados aqui em encontrar\n",
    "apenas os _zeros reais de uma função real contínua de uma variável_. Não\n",
    "obstante, algumas das técnicas que estudaremos, em especial o método de Newton,\n",
    "também podem ser aplicadas a funções complexas."
   ]
  },
  {
   "attachments": {},
   "cell_type": "markdown",
   "id": "1efa80be",
   "metadata": {},
   "source": [
    "**Exemplo 1 (definindo funções matemáticas em Python):** Para trabalhar com uma\n",
    "função $ f $, digamos aquela definida por\n",
    "$$\n",
    "    f(x) = \\frac{\\cos(e^{\\sqrt{x}} \\ln x)}{3}\\,,\n",
    "$$\n",
    "temos duas alternativas, explicadas na célula abaixo: usando as construções `def` ou `lambda`."
   ]
  },
  {
   "cell_type": "code",
   "execution_count": null,
   "id": "7cafc158",
   "metadata": {},
   "outputs": [],
   "source": [
    "# Primeiro importamos do NumPy as funções necessárias para definir f:\n",
    "from numpy import cos, exp, log\n",
    "\n",
    "# ALTERNATIVA 1: Como uma função matemática é um caso especial de um\n",
    "# procedimento, podemos usar 'def' para defini-la:\n",
    "\n",
    "def f(x):    # Declara o nome da função e dos parâmetros; note o ':' no final.\n",
    "    return cos(exp(x**1/2) * log(x)) / 3    # Retornando o valor de f em x.\n",
    "\n",
    "# Observe a indentação necessária após o cabeçalho. Sem ela o interpretador\n",
    "# acusará um erro de sintaxe (experimente).\n",
    "\n",
    "# Para \"chamar\" a função num determinado argumento, digamos 4, utilizamos o nome da função seguido pelo(s) argumento(s) entre parênteses:\n",
    "print(f(4))       # Imprimindo f(4).\n",
    "print(type(f))    # Verificando o tipo de f."
   ]
  },
  {
   "cell_type": "code",
   "execution_count": null,
   "id": "d9eae3d5",
   "metadata": {},
   "outputs": [],
   "source": [
    "# ALTERNATIVA 2: Usando a construção 'lambda' podemos definir f de maneira\n",
    "# mais concisa. Ela deve ser preferida quando f é uma função matemática.\n",
    "\n",
    "f = lambda x: cos(exp(x**1/2) * log(x)) / 3\n",
    "\n",
    "# Lê-se: \"f é a função que leva x em <expressão à direita de ':'> .\"\n",
    "print(f(4))       # Imprimindo f(4).\n",
    "print(type(f))    # Verificando o tipo de f."
   ]
  },
  {
   "cell_type": "code",
   "execution_count": null,
   "id": "09d524b5",
   "metadata": {},
   "outputs": [],
   "source": [
    "# Qualquer uma das duas construções também pode ser usada para definir funções\n",
    "# de mais de uma variável, por exemplo, a função h(x, y, z) = x y^2 z^3:\n",
    "h = lambda x, y, z: x * y**2 * z**3\n",
    "print(h(2, 1, 1))\n",
    "print(h(1, 2, 1))\n",
    "print(h(1, 1, 2))\n",
    "\n",
    "# Se simplesmente chamarmos a função num argumento, digamos com:\n",
    "h(0, 1, 2)\n",
    "# então este valor será não apenas impresso, mas retornado como _saída_ da\n",
    "# célula atual. Se forem feitas várias chamadas deste tipo, apenas o valor da\n",
    "# última será impresso e retornado. Verifique isto descomentando a linha abaixo:\n",
    "# h(1, 1, 1)"
   ]
  },
  {
   "attachments": {},
   "cell_type": "markdown",
   "id": "cd6f48bc",
   "metadata": {},
   "source": [
    "**Problema 1:** Usando ambas as construções `def` e `lambda`, defina as funções seguintes:\n",
    "\n",
    "(a) $ \\displaystyle{f(x) = \\frac{x^3 + 2x - 3}{\\log_{10} \\vert{x}\\vert}} $.\n",
    "\n",
    "(b) $ \\displaystyle{g(x) = \\frac{\\tan (ex)}{1 + \\sqrt[3]{x}}} $.\n",
    "\n",
    "(c) $ \\displaystyle{h(x, y, z) = \\cos(x + y) \\sin(x - y)}\\ln z $.\n",
    "\n",
    "_Dica:_ Em (b), observe que $ \\sqrt[3]{x} = x^{\\frac{1}{3}} $. Em todos os itens, é necessário importar funções especiais do NumPy; você pode procurá-las [aqui](https://numpy.org/doc/stable/reference/routines.math.html)."
   ]
  },
  {
   "cell_type": "markdown",
   "id": "5cd5c742",
   "metadata": {},
   "source": [
    "_Solução:_"
   ]
  },
  {
   "cell_type": "code",
   "execution_count": null,
   "id": "b4d3260d",
   "metadata": {},
   "outputs": [],
   "source": []
  },
  {
   "attachments": {},
   "cell_type": "markdown",
   "id": "81addd78",
   "metadata": {},
   "source": [
    "📝 O sistema de ponto flutuante empregado em computação impõe restrições\n",
    "inevitáveis à precisão do cálculo dos valores de uma função. Por isto na prática\n",
    "não podemos esperar encontrar um ponto $ \\zeta $ onde a função valha exatamente\n",
    "$ 0 $, como ilustrado no exemplo abaixo. Em vez disto, buscamos encontrar um\n",
    "*intervalo* suficientemente pequeno onde a função troca de sinal, ou um número\n",
    "cuja distância de um zero podemos garantir ser pequena o suficiente."
   ]
  },
  {
   "attachments": {},
   "cell_type": "markdown",
   "id": "d96895b4",
   "metadata": {},
   "source": [
    "**Problema 2:** Considere os polinômios\n",
    "$$ p(x) = 2x - 0.2 \\qquad \\text{e} \\qquad q(x) = 3 x - 0.3 $$\n",
    "Note que $ a = \\frac{1}{10} $ é um zero tanto de $ p $ quanto de $ q $.\n",
    "\n",
    "(a) Usando `lambda`, defina $ p(x) $ e $ q(x) $ como funções em Python.\n",
    "\n",
    "(b) Agora defina um procedimento `checa_zero(f, x)` que, dados uma função $ f $ e um número $ x $ em seu domínio, retorna `True` se `f(x) == 0` e `False` caso contrário. Qual é o resultado da aplicação deste procedimento aos pares $ (p, a) $ e $ (q, a) $? Como você explica esta discrepância?\n",
    "\n",
    "(c) Como poderíamos modificar a definição de `checa_zero` de modo que ela acuse que $ q $ possui um zero em $ a $? Quais as desvantagens da sua proposta?"
   ]
  },
  {
   "cell_type": "markdown",
   "id": "47becd99",
   "metadata": {},
   "source": [
    "*Solução:*"
   ]
  },
  {
   "cell_type": "code",
   "execution_count": null,
   "id": "63b558a7",
   "metadata": {
    "scrolled": true
   },
   "outputs": [],
   "source": []
  },
  {
   "attachments": {},
   "cell_type": "markdown",
   "id": "a34daf7d",
   "metadata": {},
   "source": [
    "## $ \\S 2 $ O teorema do valor intermediário\n",
    "\n",
    "**Teorema 1 (teorema do valor intermediário):** _Seja $ f \\colon [a, b] \\to\n",
    "\\mathbb R $ uma função _contínua_. Então $ f $ assume em $ [a, b] $ todos os\n",
    "valores possíveis entre $ f(a) $ e $ f(b) $._\n",
    "\n",
    "⚡ **Demonstração informal:** Suponha por concretude que $ f(a) < f(b) $ e seja $\n",
    "r $ um valor qualquer entre eles. Imaginando o gráfico da função contínua $ f $,\n",
    "isto significa que em $ a $ ele está abaixo da reta de equação $ y = r $ e em $\n",
    "b $ acima. Queremos mostrar que em algum lugar ele cruza esta reta.\n",
    "\n",
    "Considere o conjunto\n",
    "$$\n",
    "C = \\left\\{x \\in [a,b] : f(x) < r\\right\\}.\n",
    "$$\n",
    "Então $ C $ é não-vazio, pois contém $ a $. Além disto, $ b $ é cota superior\n",
    "para $ C $. Seja $ c \\in [a, b] $ a *menor* cota superior para $ C $, i.e.:\n",
    "1. $ x \\le c $ para todo $ x \\in C $ (significando que $ c $ é cota superior);\n",
    "2. Se $ \\varepsilon > 0 $, então $ x - \\varepsilon $ não é cota superior de $ C\n",
    "$ (significando que $ c $ é a _menor possível_ dentre as cotas superiores).\n",
    "\n",
    "Observe que por continuidade de $ f $ em $ a $ e em $ b $, temos $ a < c < b $. Agora, há apenas três opções:\n",
    "* $ f(c) < r $. Neste caso por continuidade de $ f $ em $ c $, $ f(x) < r $ para todo $ x $ suficientemente próximo de $ c $. Em particular, $ x \\in C $ para algum $ x > c $. Mas isto contradiz o fato que $ c $ é cota superior de $ C $.\n",
    "* $ f(c) > r $. Novamente por continuidade de $ f $ em $ c $, $ f(x) > r $ para\n",
    "  todo $ x $ num intervalo suficientemente pequeno ao redor de $ c $. Em\n",
    "  particular, qualquer $ x < c $ dentro deste intervalo é cota superior de $ C $. Isto\n",
    "  contradiz o fato que $ c $ é a _menor_ cota superior de $ C $.\n",
    "* $ f(c) = r $. Por exclusão, esta é a única possibilidade, o que \n",
    "  estabelece a conclusão desejada. $\\ \\ \\blacksquare $\n",
    "\n",
    "O resultado abaixo segue imediatamente do teorema do valor intermediário. Apesar\n",
    "de simples, ele é a base de vários dos métodos que estudaremos para obtenção de\n",
    "raízes de equações.\n",
    "\n",
    "**Corolário 2 (teorema de Bolzano):** _Seja $ f $ uma função contínua definida\n",
    "num intervalo. Se_\n",
    "$$\n",
    "\\operatorname{sinal} f(c) \\ne \\operatorname{sinal} f(d) < 0\\ ,\n",
    "$$\n",
    "_então $ f $ possui pelo menos um zero no subintervalo de extremidades $ c $ e $\n",
    "d $._ $\\ \\ \\blacksquare $\n",
    "\n",
    "⚠️ Não vale a recíproca: Mesmo que $ f(c) $ e $ f(d) $ tenham o mesmo\n",
    "sinal, não podemos excluir a possibilidade que exista um zero em $ [c, d] $.\n",
    "Como ilustração, considere a função $ f(x) = x^2 $ e tome $ c = -1 $, $ d = 1 $.\n",
    "Contudo, nesta situação podemos garantir que _a soma das multiplicidades dos\n",
    "zeros entre $ c $ e $ d $ deve ser par_. (Não provaremos esta afirmação.)"
   ]
  },
  {
   "attachments": {},
   "cell_type": "markdown",
   "id": "972bc90c",
   "metadata": {},
   "source": [
    "**Problema 3 :** Mostre que a equação $ 4x - e^x $ possui uma raiz dentro de\n",
    "cada um dos intervalos $ (0, 1) $ e $ (2, 3) $.\n",
    " _Dica:_ Calcule a derivada de $ f $."
   ]
  },
  {
   "attachments": {},
   "cell_type": "markdown",
   "id": "a24bb6c2",
   "metadata": {},
   "source": [
    "_Solução:_"
   ]
  },
  {
   "attachments": {},
   "cell_type": "markdown",
   "id": "efebf633",
   "metadata": {},
   "source": [
    "**Problema 4:** Mostre que:\n",
    "\n",
    "(a) Existe um número $ a > 1 $ tal que $ a^a = 23 $.\n",
    "\n",
    "(b) Este número é único. *Dica:* Considere a função $ f(x) = x^x $ para $ x > 1 $ e calcule sua derivada."
   ]
  },
  {
   "cell_type": "markdown",
   "id": "f61e0f8f",
   "metadata": {},
   "source": [
    "*Solução:*"
   ]
  },
  {
   "attachments": {},
   "cell_type": "markdown",
   "id": "9c6a0a84",
   "metadata": {},
   "source": [
    "**Problema 5:** Seja $ n $ um inteiro qualquer.\n",
    "\n",
    "(a) Mostre que a função tangente assume valores de sinais opostos em\n",
    "$$\n",
    "a_n = n\\pi + \\frac{\\pi}{4} \\quad \\text{e} \\quad b_n = n \\pi + \\frac{3\\pi}{4}.\n",
    "$$\n",
    "\n",
    "(b) Existe um zero entre $ \\frac{\\pi}{4} $ e $ \\frac{3\\pi}{4} $? Justifique, em vista do Corolário 2. *Dica:* Esboce num papel o gráfico da função tangente. Quais são os pontos de descontinuidade?\n",
    "\n",
    "(c) Mais geralmente, existe um zero $ c_n $ no intervalo $ (a_n,b_n) $? E no intervalo $ \\big(b_{n - 1}, a_{n}\\big) $? Justifique."
   ]
  },
  {
   "cell_type": "markdown",
   "id": "33a51891",
   "metadata": {},
   "source": [
    "*Solução:*"
   ]
  },
  {
   "cell_type": "code",
   "execution_count": null,
   "id": "67553217",
   "metadata": {},
   "outputs": [],
   "source": [
    "from numpy import tan, pi, sign"
   ]
  },
  {
   "attachments": {},
   "cell_type": "markdown",
   "id": "066e1288",
   "metadata": {},
   "source": [
    "## $ \\S 3 $ Descrição do procedimento para localização de uma raiz\n",
    "\n",
    "Todos os métodos para localização de zeros que estudaremos são __iterativos__.\n",
    "Partindo de uma estimativa inicial para um zero $ \\zeta $, a cada passo\n",
    "utilizamos a(s) estimativa(s) anterior(es) para obter uma nova aproximação. Idealmente a\n",
    "seqüência assim construída converge a um zero. Mas na prática terminamos a execução\n",
    "assim que a estimativa atual for julgada boa o suficiente (segundo algum critério). De maneira geral,\n",
    "quanto mais próxima for a estimativa inicial de $ \\zeta $, mais rápida será a\n",
    "convergência a ele. "
   ]
  },
  {
   "attachments": {},
   "cell_type": "markdown",
   "id": "0b8db7b5",
   "metadata": {},
   "source": [
    "Alguns dos métodos que estudaremos requerem como passo preliminar o\n",
    "__encaixotamento__ (__bracketing__) de um zero da função $ f $, ou seja, a determinação de um intervalo $ [a, b]\n",
    "$ tal que\n",
    "$$\n",
    "\\operatorname{sinal} f(a) \\ne \\operatorname{sinal} f(b)\\,.\n",
    "$$\n",
    "\n",
    "Para encaixotar um zero, as três opções mais comuns são:\n",
    "* Usar a teoria subjacente, no caso em que a função provém de um modelo da\n",
    "  Física ou Engenharia.\n",
    "* Esboçar o gráfico da função e tentar identificar visualmente um subintervalo\n",
    "  onde ele cruza o eixo-$ x $.\n",
    "* Aplicar uma busca sistemática, avaliando o sinal da função em pontos\n",
    "  sucessivos para localizar um subintervalo onde a função troca de sinal.\n",
    "\n",
    "Destes três métodos, apenas o terceiro é rígido o suficiente para ser programado\n",
    "com facilidade, o que não quer dizer que os outros dois sejam menos valiosos.\n",
    "\n",
    "📝 **Isolar** um zero significa encontrar um intervalo que o contém em seu interior mas que não contém qualquer outro zero. Se um intervalo contém mais de um zero, em geral não há como controlar para qual deles um método convergirá, por isto sempre que possível é desejável isolar um zero, não somente encaixotá-lo."
   ]
  },
  {
   "attachments": {},
   "cell_type": "markdown",
   "id": "d57b9fb3",
   "metadata": {},
   "source": [
    "__Problema 6:__ Seja $ t $ (em porcento) a taxa de rendimento anual oferecida\n",
    "por um título de dívida pública. Então, desconsiderando os impostos, se\n",
    "aplicarmos um montante inicial $ a $ por $ n $ anos, o valor que receberemos ao\n",
    "final deste período será:\n",
    "$$\n",
    "a \\bigg(1 + \\frac{t}{100}\\bigg)^n\\,.\n",
    "$$\n",
    "\n",
    "(a) Construa uma função `lucro` que, dados $ a $, $ n $ e $ t $, retorna o lucro\n",
    "(diferença entre o montante recebido e o aplicado).\n",
    "\n",
    "(b) Construa uma função `aplicacao` que, dados $ n $, $ t $ e um montante final\n",
    "desejado $ b $, retorna o montante $ a $ que precisa ser aplicado inicialmente\n",
    "para receber $ b $ após $ n $ anos com taxa de rendimento anual $ t $."
   ]
  },
  {
   "cell_type": "markdown",
   "id": "5e8c3386",
   "metadata": {},
   "source": [
    "*Solução:*"
   ]
  },
  {
   "cell_type": "code",
   "execution_count": null,
   "id": "e42c5f57",
   "metadata": {},
   "outputs": [],
   "source": []
  },
  {
   "attachments": {},
   "cell_type": "markdown",
   "id": "65f84185",
   "metadata": {},
   "source": [
    "## $ \\S 4 $ Esboço do gráfico de funções de uma variável\n",
    "\n",
    "Em Python, para se traçar e visualizar gráficos, geralmente utiliza-se o\n",
    "submódulo **PyPlot** da biblioteca **Matplotlib**:"
   ]
  },
  {
   "cell_type": "code",
   "execution_count": null,
   "id": "63a25f17",
   "metadata": {},
   "outputs": [],
   "source": [
    "import matplotlib.pyplot as plt"
   ]
  },
  {
   "cell_type": "markdown",
   "id": "6f54b268",
   "metadata": {},
   "source": [
    "Neste caderno utilizaremos o procedimento abaixo para esboçar de maneira conveniente o gráfico de uma ou mais funções."
   ]
  },
  {
   "cell_type": "code",
   "execution_count": null,
   "id": "a983a3f9",
   "metadata": {},
   "outputs": [],
   "source": [
    "def plot_functions(a: float, b: float, N: int = 200,\n",
    "                   *fs: Callable[[float], float]) -> None:\n",
    "    \"\"\"\n",
    "    Input:\n",
    "        * The left and right endpoints a and b of the plot interval.\n",
    "        * The number N of points used in each plot.\n",
    "        * Any quantity of functions defined on [a, b].\n",
    "    Output: None.\n",
    "    Displays:\n",
    "        * The graphs of the given functions in a single diagram.\n",
    "    \"\"\"\n",
    "    import matplotlib.pyplot as plt\n",
    "    import numpy as np\n",
    "    \n",
    "\n",
    "    line_width = 1.75\n",
    "    xs = np.linspace(a, b, N)      # Create sample of N values of x in [a, b].\n",
    "    # Draw a thicker x-axis:\n",
    "    plt.axhline(y=0.0, color='black', linestyle='-', lw=line_width)\n",
    "    # Plot the graph of each function:\n",
    "    for n, f in enumerate(fs):\n",
    "        plt.plot(xs, f(xs), lw=line_width, label=f\"$ f_{n} $\")\n",
    "    plt.xlabel(\"$ x $-axis\")\n",
    "    plt.ylabel(\"$ y $-axis\")\n",
    "    plt.grid(True)    # Draw a rectangular grid.\n",
    "    plt.legend()\n",
    "\n",
    "    return None"
   ]
  },
  {
   "attachments": {},
   "cell_type": "markdown",
   "id": "8baf4974",
   "metadata": {},
   "source": [
    "📝 Quando temos de fazer os esboços à mão, para estimar a localização de uma\n",
    "raiz da equação $ g(x) = h(x) $, muitas vezes é mais fácil traçar os gráficos de\n",
    "$ g(x) $ e $ h(x) $ e tentar identificar onde eles se cruzam do que tentar\n",
    "visualizar onde o gráfico de $ g(x) - h(x) $ cruza o eixo-$ x $. Por exemplo, é\n",
    "mais simples esboçar separadamente os gráficos de $ x^3 $ e $ 4x $ que o gráfico\n",
    "da função $ x^3 - 4x $."
   ]
  },
  {
   "cell_type": "code",
   "execution_count": null,
   "id": "5eeb4440",
   "metadata": {},
   "outputs": [],
   "source": [
    "f = lambda x: x**3\n",
    "g = lambda x: 4 * x\n",
    "N = 200\n",
    "plot_functions(-2.2, 2.2, N, f, g)"
   ]
  },
  {
   "attachments": {},
   "cell_type": "markdown",
   "id": "91f5ff50",
   "metadata": {},
   "source": [
    "__Problema 7:__ Esboce o gráfico da função\n",
    "$$\n",
    "    f(x) = \\vert x \\vert \\sin(x - 3)e^{-x^2}\n",
    "$$\n",
    "no intervalo $ [-2, 2] $.  Adicione títulos e etiquetas para os eixos em português."
   ]
  },
  {
   "attachments": {},
   "cell_type": "markdown",
   "id": "13875315",
   "metadata": {},
   "source": [
    "__Problema 8:__ Analisando o gráfico de uma ou mais funções apropriadas,\n",
    "identifique um intervalo $ [a, b] $ de comprimento menor que $ \\frac{1}{10} $ que\n",
    "contém uma raiz da equação:\n",
    "\n",
    "(a) $ x \\ln x = 1 $.\n",
    "\n",
    "(b) $ \\cos x = x^2 $.\n",
    "\n",
    "(c) $ x^5 - 3x^4 - 6x^3 + 4x^2 + 5x - 3 = 0 $.\n",
    "\n",
    "(d) $ \\tan x = x + 2 e^x $.\n",
    "\n",
    "(e) $ \\cos x \\cosh x = 1 $, onde por definição $ \\cosh x = \\frac{e^x + e^{-x}}{2} $.\n",
    "\n",
    "(f) $ xe^x = 1 $.\n",
    "\n",
    "(g) $ x^2 + \\ln x = 0 $."
   ]
  },
  {
   "cell_type": "code",
   "execution_count": null,
   "id": "0d8d6c82",
   "metadata": {},
   "outputs": [],
   "source": [
    "from numpy import log\n",
    "f = lambda x: x * log(x) - 1\n",
    "plot_functions(0.01, 2, 200, f)"
   ]
  },
  {
   "attachments": {},
   "cell_type": "markdown",
   "id": "9001ed74",
   "metadata": {},
   "source": [
    "## $ \\S 5 $ Esboço do gráfico de uma função de várias variáveis\n",
    "\n"
   ]
  },
  {
   "cell_type": "code",
   "execution_count": 4,
   "id": "ca7eca92",
   "metadata": {},
   "outputs": [
    {
     "name": "stdout",
     "output_type": "stream",
     "text": [
      "Warning: Cannot change to a different GUI toolkit: notebook. Using qt instead.\n"
     ]
    }
   ],
   "source": [
    "import matplotlib.pyplot as plt\n",
    "import numpy as np\n",
    "from mpl_toolkits.mplot3d import Axes3D\n",
    "%matplotlib notebook\n",
    "def f(x, y):\n",
    "    return 2*x**2 - x*y + 2*y**2\n",
    "x = np.linspace(-100, 100, 100)\n",
    "y = np.linspace(-100, 100, 100)\n",
    "X, Y = np.meshgrid(x, y)\n",
    "Z = f(X,Y)\n",
    "fig = plt.figure(figsize = (10,7))\n",
    "ax = plt.axes(projection='3d')\n",
    "ax.plot_surface(X, Y, Z, rstride=1, cstride=1, cmap='jet', edgecolor='none')\n",
    "ax.set_title(\"Surface\", fontsize = 13)\n",
    "ax.set_xlabel('x', fontsize = 11)\n",
    "ax.set_ylabel('y', fontsize = 11)\n",
    "ax.set_zlabel('Z', fontsize = 10)\n",
    "plt.show()"
   ]
  },
  {
   "cell_type": "code",
   "execution_count": null,
   "id": "a812bd20",
   "metadata": {},
   "outputs": [],
   "source": []
  }
 ],
 "metadata": {
  "kernelspec": {
   "display_name": "base",
   "language": "python",
   "name": "python3"
  },
  "language_info": {
   "codemirror_mode": {
    "name": "ipython",
    "version": 3
   },
   "file_extension": ".py",
   "mimetype": "text/x-python",
   "name": "python",
   "nbconvert_exporter": "python",
   "pygments_lexer": "ipython3",
   "version": "3.9.16"
  },
  "vscode": {
   "interpreter": {
    "hash": "49060cedf8366e4ce4bf4b9d121c044cf7249a0afe21432e14f32b1ca5a4731f"
   }
  }
 },
 "nbformat": 4,
 "nbformat_minor": 5
}
