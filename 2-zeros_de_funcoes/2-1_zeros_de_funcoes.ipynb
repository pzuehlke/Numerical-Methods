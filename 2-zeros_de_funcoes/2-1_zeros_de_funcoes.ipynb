{
 "cells": [
  {
   "cell_type": "markdown",
   "id": "32505fe9",
   "metadata": {},
   "source": [
    "$\\newcommand{\\set}[2]{\\big\\{#1\\,\\ {\\large:}\\ \\,#2\\big\\}}\n",
    "\\newcommand{\\eps}{\\varepsilon}\n",
    "\\newcommand{\\abs}[1]{\\left\\vert#1\\right\\vert}\n",
    "\\newcommand{\\ceil}[1]{\\left\\lceil#1\\right\\rceil}\n",
    "\\newcommand{\\floor}[1]{\\left\\lfloor#1\\right\\rfloor}\n",
    "$\n",
    "# Localização de zeros de funções\n",
    "\n",
    "## $ \\S 1 $ Introdução\n",
    "\n",
    "Um ponto $ \\zeta $ (_zeta_) do domínio de uma função $ f $ de uma variável é dito um **zero** de $ f $ caso\n",
    "$$ f(\\zeta) = 0 .$$\n",
    "Também dizemos que $ \\zeta $ é uma **raiz** de uma equação em uma variável, digamos,\n",
    "\\begin{equation*}\\label{E:raiz}\n",
    "g(x) = h(x)\\,, \\tag{1}\n",
    "\\end{equation*}\n",
    "se $ g(\\zeta) = h(\\zeta) $.\n",
    "\n",
    "📝 Observe que encontrar uma raiz de \\eqref{E:raiz} é equivalente a encontrar um zero de \n",
    "$$\n",
    "f(x) = g(x) - h(x).\n",
    "$$\n",
    "\n",
    "A busca por zeros de uma função é um dos problemas mais freqüentes em Ciência e Engenharia. Entretanto, a sua determinação *analítica* é difícil ou impossível mesmo nos casos mais simples. De fato, essencialmente só conseguimos obter exatamente os zeros de uma função numa das três situações seguintes:\n",
    "* A função é dada por um polinômio de grau $ \\le 4 $; por exemplo $ 3 x + 2 $ ou $ 1.3 x^3 - 5.1 x^2 + 2.7 $. Nestes casos os zeros podem ser expressos através de fórmulas análogas à fórmula de Bhaskara.\n",
    "* Por sorte já havíamos nos deparado com um zero da função; por exemplo, conhecemos uma raiz da equação $ \\sqrt[3]{x} = 2 $ porque já havíamos calculado que $ 2^3 = 8 $.\n",
    "* Podemos nos apoiar numa propriedade específica da função em questão; por exemplo, conseguimos encontrar uma solução de $ \\cos x = \\frac{1}{2} $ porque ao se colocar lado a lado duas cópias de um triângulo retângulo em que um dos ângulos mede $ \\frac{\\pi}{3} $, obtém-se um triângulo equilátero.\n",
    "\n",
    "Em compensação, existem vários _métodos numéricos_ gerais que nos permitem encontrar zeros de funções contínuas arbitrárias com alta precisão e baixo uso de recursos computacionais, por mais complicadas que sejam estas funções, e.g.:\n",
    "$$\n",
    "f(x) = e^{3x^2\\sin x\\,}\\,\\big[\\cos(5x) + 2\\big]^{x^2+1} - \\frac{7}{\\sqrt{\\abs{x}+1}}\n",
    "$$\n",
    "\n",
    "📝 Ainda que todas as funções usuais estudadas em Cálculo possam ser estendidas a funções de uma variável complexa, estaremos interessados aqui em encontrar apenas os _zeros reais de uma função real contínua de uma variável_. Não obstante, algumas das técnicas que estudaremos, em especial o método de Newton, também podem ser aplicadas a funções complexas.\n",
    "\n",
    "O sistema de ponto flutuante empregado em computação impõe restrições inevitáveis à precisão do cálculo dos valores de uma função. Por isto na prática não podemos esperar encontrar um ponto $ \\zeta $ onde a função valha exatamente $ 0 $, como ilustrado no exemplo abaixo. Em vez disto, buscamos encontrar um *intervalo* suficientemente pequeno onde a função troca de sinal."
   ]
  },
  {
   "cell_type": "markdown",
   "id": "d96895b4",
   "metadata": {},
   "source": [
    "**Problema 1:** Considere os polinômios\n",
    "$$ p(x) = 2x - 0.2 \\qquad \\text{e} \\qquad q(x) = 3 x - 0.3 $$\n",
    "Note que $ a = \\frac{1}{10} $ é um zero tanto de $ p $ quanto de $ q $.\n",
    "\n",
    "(a) Usando `lambda`, defina $ p(x) $ e $ q(x) $ como funções em Python.\n",
    "\n",
    "(b) Agora defina um procedimento `checa_zero(f, x)` que, dados uma função $ f $ e um número $ x $ em seu domínio, retorna `True` se `f(x) == 0` e `False` caso contrário. Qual é o resultado da aplicação deste procedimento aos pares $ (p, a) $ e $ (q, a) $? Como você explica esta discrepância?\n",
    "\n",
    "(c) Como poderíamos modificar a definição de `checa_zero` de modo que ela acuse que $ q $ possui um zero em $ a $? Quais as desvantagens da sua proposta?"
   ]
  },
  {
   "cell_type": "markdown",
   "id": "47becd99",
   "metadata": {},
   "source": [
    "*Solução:*"
   ]
  },
  {
   "cell_type": "code",
   "execution_count": null,
   "id": "63b558a7",
   "metadata": {
    "scrolled": true
   },
   "outputs": [],
   "source": []
  },
  {
   "cell_type": "markdown",
   "id": "a34daf7d",
   "metadata": {},
   "source": [
    "## $ \\S 2 $ Localização de raízes\n",
    "\n",
    "### $ 2.1 $ O Teorema do Valor Intermediário\n",
    "\n",
    "**Teorema 1 (Teorema do Valor Intermediário):** Seja $ f \\colon [a, b] \\to \\mathbb R $ uma função _contínua_. Então $ f $ assume em $ [a, b] $ todos os valores possíveis entre $ f(a) $ e $ f(b) $.\n",
    "\n",
    "⚡ **Demonstração informal:** Suponha por concretude que $ f(a) < f(b) $ e seja $ r $ um valor qualquer entre eles. Imaginando o gráfico da função contínua $ f $, isto significa que em $ a $ ele está abaixo da reta de equação $ y = r $ e em $ b $ acima. Queremos mostrar que em algum momento ele cruza esta reta.\n",
    "\n",
    "Considere o conjunto\n",
    "$$\n",
    "C = \\set{x \\in [a,b]}{f(x) < r}.\n",
    "$$\n",
    "Então $ C $ é não-vazio, pois contém $ a $. Além disto, $ b $ é cota superior para $ C $. Seja $ c \\in [a, b] $ a *menor* cota superior para $ C $, i.e.:\n",
    "1. $ x \\le c $ para todo $ x \\in C $ (significando que $ c $ é cota superior);\n",
    "2. Se $ \\eps > 0 $, então $ x - \\eps $ não é cota superior de $ C $ (significando que $ c $ é a *menor* possível dentre as cotas superiores).\n",
    "\n",
    "Observe que por continuidade de $ f $ em $ a $ e em $ b $, temos $ a < c < b $. Agora, há apenas três opções:\n",
    "* $ f(c) < r $. Neste caso por continuidade de $ f $ em $ c $, $ f(x) < r $ para todo $ x $ suficientemente próximo de $ c $. Em particular, $ x \\in C $ para algum $ x > c $. Mas isto contradiz o fato que $ c $ é cota superior de $ C $.\n",
    "* $ f(c) > r $. Novamente por continuidade de $ f $ em $ c $, $ f(x) > r $ para todo $ x $ num intervalo suficientemente pequeno ao redor de $ c $. Em particular, qualquer $ x < c $ aí ainda é cota superior de $ C $. Isto contradiz o fato que $ c $ é a *menor* cota superior de $ C $.\n",
    "* Conseqüentemente, deve valer a única opção restante: $ f(c) = r $. Isto estabelece a conclusão desejada.\n",
    "<div style=\"text-align: right\">$ \\blacksquare $ </div>\n",
    "\n",
    "O resultado abaixo segue imediatamente do TVI. Apesar de simples, ele é a base dos vários métodos que estudaremos para obtenção de raízes de equações.\n",
    "\n",
    "**Corolário 2 (Teorema de Bolzano):** _Seja $ f $ uma função contínua definida num intervalo. Se_\n",
    "$$ f(c)f(d) < 0\\ , $$\n",
    "_então $ f $ possui pelo menos um zero no subintervalo de extremidades $ c $ e $ d $._\n",
    "\n",
    "Informalmente, se os sinais dos valores de $ f $ em dois pontos são opostos, entre eles deve existir algum zero."
   ]
  },
  {
   "cell_type": "markdown",
   "id": "efebf633",
   "metadata": {},
   "source": [
    "**Problema 2:** Mostre que:\n",
    "\n",
    "(a) Existe um número $ a > 1 $ tal que $ a^a = 23 $.\n",
    "\n",
    "(b) Este número é único. *Dica:* Considere a função $ f(x) = x^x $ para $ x > 1 $ e calcule sua derivada."
   ]
  },
  {
   "cell_type": "markdown",
   "id": "f61e0f8f",
   "metadata": {},
   "source": [
    "*Solução:*"
   ]
  },
  {
   "cell_type": "markdown",
   "id": "9c6a0a84",
   "metadata": {},
   "source": [
    "**Problema 3:** Seja $ n $ um inteiro qualquer.\n",
    "\n",
    "(a) Mostre analiticamente ou com ajuda do computador que a função tangente assume valores de sinais opostos em\n",
    "$$\n",
    "a_n = n\\pi + \\frac{\\pi}{4} \\quad \\text{e} \\quad b_n = n \\pi + \\frac{3\\pi}{4}.\n",
    "$$\n",
    "\n",
    "(b) Existe um zero entre $ \\frac{\\pi}{4} $ e $ \\frac{3\\pi}{4} $? Justifique, em vista do Corolário 2. *Dica:* Esboce num papel o gráfico da função tangente. Quais são os pontos de descontinuidade?\n",
    "\n",
    "(c) Mais geralmente, existe um zero $ c_n $ no intervalo $ (a_n,b_n) $? E no intervalo $ \\big(b_n, a_{n+1}\\big) $?"
   ]
  },
  {
   "cell_type": "markdown",
   "id": "33a51891",
   "metadata": {},
   "source": [
    "*Solução:*"
   ]
  },
  {
   "cell_type": "code",
   "execution_count": null,
   "id": "67553217",
   "metadata": {},
   "outputs": [],
   "source": [
    "from numpy import tan, pi, sign"
   ]
  },
  {
   "cell_type": "markdown",
   "id": "066e1288",
   "metadata": {},
   "source": [
    "### $ 2. 2 $ Descrição do procedimento para localização de uma raiz e critérios de parada\n",
    "\n",
    "Todos os métodos para localização de zeros que estudaremos são *iterativos*. Partindo de uma estimativa inicial para um zero $ \\zeta $, a cada passo utilizamos a estimativa anterior para obter uma aproximação mais refinada para $ \\zeta $, até que esta seja julgada boa o suficiente. Os *critérios de parada* mais comuns são:\n",
    "1. A distância entre o zero $ \\zeta $ e sua aproximação atual é menor que um $ \\eps > 0 $ escolhido previamente.\n",
    "2. O valor da função na aproximação atual é menor que $ \\eps $ em valor absoluto.\n",
    "3. O número de iterações excede uma cota $ N$ pré-fixada."
   ]
  },
  {
   "cell_type": "markdown",
   "id": "d57b9fb3",
   "metadata": {},
   "source": [
    "**Problema 4:** Construa um procedimento `checa_zero` que tem por parâmetros: uma função real $ f $; dois pontos $ a $ e $ b $ em seu domínio; e uma constante $ \\eps > 0 $; e que retorna `True` se e somente se:\n",
    "* $ \\abs{b-a} < \\eps $; e\n",
    "* $ \\abs{f(m)} < \\eps $, onde $ m $ é o ponto médio de $ a $ e $ b $."
   ]
  },
  {
   "cell_type": "markdown",
   "id": "5e8c3386",
   "metadata": {},
   "source": [
    "*Solução:*"
   ]
  },
  {
   "cell_type": "code",
   "execution_count": null,
   "id": "49efdb3e",
   "metadata": {},
   "outputs": [],
   "source": []
  },
  {
   "cell_type": "markdown",
   "id": "0b8db7b5",
   "metadata": {},
   "source": [
    "### $ 2.3 $ Encaixotamento de zeros\n",
    "\n",
    "Qualquer dos métodos que estudaremos requer como passo preliminar o **encaixotamento** de um zero, ou seja, a determinação de um intervalo onde $ f $ troca de sinal. A escolha deste intervalo é crucial: para algumas escolhas o método em questão pode convergir muito lentamente ou até falhar.\n",
    "\n",
    "Para encaixotar um zero de uma função, as três opções mais comuns são:\n",
    "* Usar a a teoria subjacente para advinhar a sua localização aproximada, no caso em que a função provém de um modelo da Física ou Engenharia;\n",
    "* Esboçar o gráfico da função e estimar visualmente um subintervalo onde ele cruza o eixo-$x$;\n",
    "* Aplicar uma busca sistemática, avaliando o sinal da função em pontos sucessivos para localizar um subintervalo onde a função troca de sinal.\n",
    "\n",
    "Destes três métodos, apenas o terceiro é rígido o suficiente para ser programado com facilidade, o que não quer dizer que os outros dois sejam menos valiosos.\n",
    "\n",
    "📝 **Isolar** um zero significa encontrar um intervalo que o contém em seu interior mas que não contém qualquer outro zero. Se um intervalo contém mais de um zero, em geral não há como controlar para qual deles um método convergirá, por isto sempre que possível é desejável isolar um zero, não somente encaixotá-lo."
   ]
  },
  {
   "cell_type": "markdown",
   "id": "65f84185",
   "metadata": {},
   "source": [
    "## $ \\S 3 $ Esboço do gráfico de uma função de uma variável\n",
    "\n",
    "Em Python, para se traçar e visualizar gráficos, geralmente utiliza-se o submódulo **PyPlot** da biblioteca **Matplotlib**:"
   ]
  },
  {
   "cell_type": "code",
   "execution_count": null,
   "id": "63a25f17",
   "metadata": {},
   "outputs": [],
   "source": [
    "import matplotlib.pyplot as plt"
   ]
  },
  {
   "cell_type": "markdown",
   "id": "6f54b268",
   "metadata": {},
   "source": [
    "Neste caderno utilizaremos o procedimento abaixo para esboçar de maneira conveniente o gráfico de uma ou mais funções."
   ]
  },
  {
   "cell_type": "code",
   "execution_count": 4,
   "id": "a983a3f9",
   "metadata": {},
   "outputs": [
    {
     "data": {
      "image/png": "[encoded data removed]",
      "text/plain": [
       "<Figure size 640x480 with 1 Axes>"
      ]
     },
     "metadata": {},
     "output_type": "display_data"
    }
   ],
   "source": [
    "def plota_funcoes(a, b, N, *fs):\n",
    "    \"\"\"\n",
    "    Entradas:\n",
    "        * Extremidades a < b de um intervalo.\n",
    "        * Número N de pontos na amostra dos valores de x.\n",
    "        * Um número qualquer (>= 1) de funções definidas em [a, b].\n",
    "    Exibe num mesmo diagrama o gráfico das funções e retorna None.\n",
    "    \"\"\"\n",
    "    import matplotlib.pyplot as plt\n",
    "    import numpy as np\n",
    "    \n",
    "    \n",
    "    x = np.linspace(a, b, N)                    # Amostra de valores de x\n",
    "    for i, f in enumerate(fs):\n",
    "        plt.plot(x, f(x), label=f'função {i}')  # Plotar dados: (x, y, etiqueta).\n",
    "    plt.xlabel('Eixo-x')\n",
    "    plt.ylabel('Eixo-y')\n",
    "    plt.grid(True)\n",
    "    plt.title(\"Gráfico simples\")\n",
    "    plt.legend()\n",
    "    \n",
    "    return None\n",
    "    \n",
    "f = lambda x: x**4 - 11 * x**2 + 5\n",
    "g = lambda x: x**2\n",
    "h = lambda x: x**3\n",
    "plota_funcoes(0, 2, 200, f, g, h)\n"
   ]
  }
 ],
 "metadata": {
  "kernelspec": {
   "display_name": "Python 3 (ipykernel)",
   "language": "python",
   "name": "python3"
  },
  "language_info": {
   "codemirror_mode": {
    "name": "ipython",
    "version": 3
   },
   "file_extension": ".py",
   "mimetype": "text/x-python",
   "name": "python",
   "nbconvert_exporter": "python",
   "pygments_lexer": "ipython3",
   "version": "3.9.15"
  }
 },
 "nbformat": 4,
 "nbformat_minor": 5
}
