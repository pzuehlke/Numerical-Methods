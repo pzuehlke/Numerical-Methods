{
 "cells": [
  {
   "cell_type": "code",
   "execution_count": 1,
   "id": "434fac4e",
   "metadata": {},
   "outputs": [],
   "source": [
    "import matplotlib.pyplot as plt\n",
    "import numpy as np\n",
    "%matplotlib qt"
   ]
  },
  {
   "attachments": {},
   "cell_type": "markdown",
   "id": "42e2f6ca",
   "metadata": {},
   "source": [
    "# O método do ponto fixo\n",
    "\n",
    "## $ \\S 1 $ Pontos fixos\n",
    "\n",
    "Seja $ \\varphi $ uma função real de uma variável. Um **ponto fixo** $ \\xi $ de $ \\varphi $ é um elemento do seu domínio tal que\n",
    "$$\n",
    "\\varphi(\\xi) = \\xi\\,.\n",
    "$$\n",
    "\n",
    "__Problema 1:__ Encontre todos os pontos fixos das funções abaixo, se houver. Em\n",
    "outras palavras, resolva a equação $ \\varphi(x) = x $ para:\n",
    "\n",
    "(a) $ \\varphi(x) = x^2 $ ($ x \\in \\mathbb R $).\n",
    "\n",
    "(b) $ \\varphi(x) = x^n $ ($ n \\in \\mathbb N $, $ x \\in \\mathbb R $).\n",
    "\n",
    "(c) $ \\varphi(x) = x^3 + x^2 - x $ ($ x \\in \\mathbb R $).\n",
    "\n",
    "(d) $ \\varphi(x) = x \\cos x $ ($ x \\in \\mathbb R $).\n",
    "\n",
    "(e) $ \\varphi(x) = \\ln x $ ($ x > 0 $).\n",
    "\n",
    "(f) $ \\varphi(x) = \\frac{6x - 1}{4x + 1} $ ($ x \\ne -\\frac{1}{4}$).\n",
    "\n",
    "📝 Geometricamente, um ponto fixo de $ \\varphi $ corresponde à coordenada-$x$ de um ponto de intersecção do gráfico de $ \\varphi $ com a reta de equação $ y = x $.\n",
    "\n",
    "![Encontrando graficamente os pontos fixos](fig_2-5_exemplo_0.png \"Encontrando graficamente os pontos fixos\")\n",
    "\n",
    "📝 O problema de se determinar uma raiz de uma equação qualquer em uma variável, digamos da forma\n",
    "\\begin{equation*}\\label{E:1}\n",
    "g(x) = h(x)\\,, \\tag{1}\n",
    "\\end{equation*}\n",
    "pode sempre ser transformado na tarefa equivalente de se encontrar um ponto fixo de uma função apropriada, já que podemos reescrever \\eqref{E:1} por exemplo na forma\n",
    "$$\n",
    "\\underbrace{g(x) - h(x) + x}_{\\varphi(x)} = x\\,.\n",
    "$$\n",
    "De fato, existem _infinitas_ maneiras de se efetuar a conversão entre os dois tipos de problemas, e às vezes uma delas pode ser muito mais adequada que outra.\n",
    "\n",
    "__Problema 2:__ Considere a equação $ x^3 - x + 2 = 0 $. Mostre que $ \\xi $ é\n",
    "uma raiz desta equação se e somente se é ponto fixo de:\n",
    "\n",
    "(a) $ \\varphi_1(x) = x^3 + 2 $.\n",
    "\n",
    "(b) $ \\varphi_2(x) = \\sqrt[3]{x - 2} $.\n",
    "\n",
    "(c) $ \\varphi_3(x) = \\frac{x - 2}{x^2} $.\n",
    "\n",
    "(d) $ \\varphi_4(x) = e^{-x^3 + x -2} - 1 + x $."
   ]
  },
  {
   "attachments": {},
   "cell_type": "markdown",
   "id": "0f4f3e2d",
   "metadata": {},
   "source": [
    "O seguinte resultado é familiar do curso de Cálculo. Ele será fundamental na discussão seguinte.\n",
    "\n",
    "__Teorema 1.1 (teorema do valor médio):__ _Suponha que $ \\varphi \\colon I \\to \\mathbb R $ seja diferenciável\n",
    "no intervalo $ I $ e sejam $ a \\ne b $ em $ I $. Então existe $ c $ entre $ a $ e $ b $ tal que_\n",
    "\\begin{equation*}\n",
    "    \\frac{\\varphi(b) - \\varphi(a)}{b - a} = \\varphi'(c)\\,. \n",
    "\\end{equation*}\n",
    "\n",
    "__Prova:__ Considere a função\n",
    "$$\n",
    "g \\colon [a, b] \\to \\mathbb R\\,, \\quad g(x) = \\varphi(x) - \\varphi(a) - \\frac{x - a}{b - a}\\big[\\varphi(b) - \\varphi(a)\\big]\\,.\n",
    "$$\n",
    "Geometricamente, $ g $ é a diferença entre $ \\varphi $ e a parametrização\n",
    "natural da reta  por $ \\big(a, \\varphi(a)\\big) $ e $ \\big(b,\n",
    "\\varphi(b)\\big) $. Então \n",
    "$$ g(a) = g(b) = 0\\,. \n",
    "$$\n",
    "Agora temos duas opções:\n",
    "* Se $ g $ é identicamente nula, então $ \\varphi $ coincide com esta reta e o\n",
    "  resultado é óbvio.\n",
    "* Caso contrário, existe algum ponto dentro de $ (a, b) $ onde $ g $ é não-nula.\n",
    "\n",
    "No segundo caso, em particular existe um ponto $ c $ de extremo global dentro de\n",
    "$ (a, b) $.  Neste ponto a derivada de $ g $ deve se anular, ou seja:\n",
    "$$\n",
    "0 = g'(c) = \\varphi'(c) - \\frac{\\varphi(b) - \\varphi(a)}{b - a} \\,. \\tag*{$\\blacksquare$} \n",
    "$$"
   ]
  },
  {
   "attachments": {},
   "cell_type": "markdown",
   "id": "e0b45c53",
   "metadata": {},
   "source": [
    "__Corolário 1.2:__ _Suponha que $ \\varphi \\colon I \\to \\mathbb R $ seja diferenciável\n",
    "no intervalo $ I $._\n",
    "\n",
    "_(a) Se $ \\vert \\varphi'(x) \\vert < 1 $ para todo $ x \\in I $, então_ $ \\varphi $\n",
    "encurta distâncias, _i.e., vale:_\n",
    "$$\n",
    "\\big \\vert \\varphi(x_2) - \\varphi(x_1) \\big \\vert < \\vert x_2 - x_1 \\vert \\qquad \\text{para todos $ x_1 \\ne x_2 \\in I $}\\,.\n",
    "$$\n",
    "\n",
    "_(b) Se $ \\vert \\varphi'(x) \\vert > 1 $ para todo $ x \\in I $, então_ $ \\varphi $\n",
    "aumenta distâncias, _i.e., vale:_\n",
    "\\begin{equation*}\n",
    "\\big \\vert \\varphi(x_2) - \\varphi(x_1) \\big \\vert >\n",
    "\\vert x_2 - x_1 \\vert \\qquad \\text{para todos $ x_1 \\ne x_2 \\in I $}\\,. \\tag*{$ \\blacksquare $}\n",
    "\\end{equation*}\n"
   ]
  },
  {
   "attachments": {},
   "cell_type": "markdown",
   "id": "2b9356fb",
   "metadata": {},
   "source": [
    "__Teorema 1.3:__ _Seja $ \\varphi \\colon [a, b] \\to [a, b] $ uma função contínua._ \n",
    "\n",
    "_(a) $ \\varphi $ possui ao menos um ponto fixo em_ $ [a, b] $. \n",
    "\n",
    "_(b) Se além disto $ \\varphi $ é diferenciável em $ (a, b) $ e vale\n",
    "$ \\big \\vert \\varphi'(x) \\big\\vert < 1 $ para todo $ x $ neste intervalo,\n",
    "então este ponto fixo é único._\n",
    "\n",
    "__Prova:__ \n",
    "\n",
    "(a) Considere $ g(x) = x - \\varphi(x) $. Então como $ \\varphi(a) \\ge a $, vale\n",
    "$ g(a) \\le 0 $. E como $ \\varphi(b) \\le b $, vale $ g(b) \\ge 0 $. Logo, pelo\n",
    "teorema do valor intermediário, existe $ \\xi $ em $ [a, b] $ tal que\n",
    "$ g(\\xi) = 0 $, ou seja, tal que $ \\varphi(\\xi) = \\xi $.\n",
    "\n",
    "(b) Suponha que $ \\xi_1 \\ne \\xi_2 $ fossem pontos fixos de $ \\varphi $\n",
    "em $ [a, b] $. Pela definição de ponto fixo, $ \\varphi(\\xi_i) = \\xi_i $\n",
    "($ i = 1,\\,2 $). Mas, por outro lado, aplicando o item (a) do Corolário 1.2,\n",
    "teríamos\n",
    "$$\n",
    "\\left\\vert \\varphi(\\xi_1) - \\varphi(\\xi_2) \\right\\vert\n",
    "< \\left\\vert \\xi_1 - \\xi_2 \\right\\vert\\,.\n",
    "$$\n",
    "Esta contradição mostra que não pode existir mais de um ponto fixo em $ [a, b] $.\n",
    "\n",
    "<div style=\"text-align: right\">$ \\blacksquare $ </div>"
   ]
  },
  {
   "attachments": {},
   "cell_type": "markdown",
   "id": "2e5709bf",
   "metadata": {},
   "source": [
    "__Problema 3:__ Seja $ \\varphi(x) = \\frac{1 - x^3}{4} $. \n",
    "Mostre que $ \\varphi $ possui um único ponto fixo no intervalo $ [0, 1] $. "
   ]
  },
  {
   "attachments": {},
   "cell_type": "markdown",
   "id": "45cb2c52",
   "metadata": {},
   "source": [
    "## $ \\S 2 $ Descrição do método do ponto fixo\n",
    "\n",
    "Seja $ \\varphi $ uma função _contínua_ definida num intervalo qualquer. O\n",
    "__método do ponto fixo__ é um procedimento iterativo para se encontrar um ponto\n",
    "fixo de $ \\varphi $. Partindo de uma estimativa inicial $ x_0 $ escolhida\n",
    "arbitrariamente (mas preferencialmente o mais próxima possível de um ponto fixo),\n",
    "definimos:\n",
    "* $ x_1 = \\varphi(x_0) $;\n",
    "* $ x_2 = \\varphi(x_1) = \\varphi^2(x_0) $;\n",
    "* $ x_3 = \\varphi(x_2) = \\varphi^3(x_0) $;\n",
    "* $\\ \\vdots $\n",
    "* $ x_n = \\varphi(x_{n-1}) = \\varphi^n(x_0) $;\n",
    "* $\\ \\vdots $\n",
    "\n",
    "Aqui $ \\varphi^{n} $ não denota uma potência, mas sim a composição de\n",
    "$ \\varphi $ com ela mesma $ n $ vezes:\n",
    "$$\n",
    "\\varphi^{n} = \\underbrace{\\varphi \\circ \\varphi \\circ \\cdots \\circ \\varphi}_{\\text{$ n $ vezes}}\n",
    "\\qquad (n \\ge 1 )\\,.\n",
    "$$\n",
    "\n",
    "__Lema 2.1:__ _Se a seqüência $ (x_n) $ construída acima converge, então seu\n",
    "limite é um ponto fixo de $ \\varphi $._\n",
    "\n",
    "__Prova:__  Seja $ \\xi $ o limite de $ (x_n) $. Então $ \\xi $ é ponto fixo pois\n",
    "\\begin{alignat*}{3}\n",
    "\\varphi(\\xi) &= \\varphi\\Big(\\lim_{n \\to \\infty} x_n\\Big) \\qquad & &  \\text{(pela definição de $ \\xi $)} \\\\\n",
    "& = \\lim_{n \\to \\infty} \\varphi\\big(x_{n}\\big) \\qquad & & \\text{(pela continuidade de $ \\varphi $)} \\\\\n",
    "& = \\lim_{n \\to \\infty} x_{n + 1} & &  \\text{(pela equação que define $ x_{n + 1} $)} \\\\\n",
    "& = \\xi \\qquad & & \\text{(já que $ \\lim_{n} x_{n+1} $ também é $ \\xi $)} \\tag*{$ \\blacksquare $}\n",
    "\\end{alignat*}\n",
    "\n",
    "⚠️ Observe que o Lema _não_ garante a convergência da seqüência $ (x_n) $\n",
    "construída no método do ponto fixo; de fato, ela não precisa convergir. O Lema diz\n",
    "apenas que _caso_ ela convirja, seu limite é ponto fixo de $ \\varphi $. Veja a\n",
    "[$ \\S 6 $](#S-6) para uma análise da convergência."
   ]
  },
  {
   "attachments": {},
   "cell_type": "markdown",
   "id": "0c9ccc2d",
   "metadata": {},
   "source": [
    "__Problema 3:__ Sejam $ \\varphi(x) = x^3 $ ($ x \\in \\mathbb R $) e\n",
    "$ \\psi(x) = \\sqrt{x} $ ($ x \\ge 0 $). Para cada uma destas funções:\n",
    "\n",
    "(a) Encontre todos os pontos fixos.\n",
    "\n",
    "(b) Determine para quais valores de $ x_0 $ a seqüência $ (x_n) $ construída\n",
    "pelo método do ponto fixo converge."
   ]
  },
  {
   "attachments": {},
   "cell_type": "markdown",
   "id": "070bb348",
   "metadata": {},
   "source": [
    "_Solução:_"
   ]
  },
  {
   "attachments": {},
   "cell_type": "markdown",
   "id": "ca7f0249",
   "metadata": {},
   "source": [
    "__Problema 4__: A função $ \\varphi(x) = \\cos x $ possui um único ponto fixo em\n",
    "$ \\mathbb R $. Tome $ x_0 = 0 $ e calcule os vinte primeiros termos da seqüência\n",
    "$ \\big(x_n = \\varphi^n(x_0) \\big) $ gerada pelo método do ponto fixo para\n",
    "aproximá-lo.  _Dica:_ Use um `for`."
   ]
  },
  {
   "attachments": {},
   "cell_type": "markdown",
   "id": "e7ad0f39",
   "metadata": {},
   "source": [
    "_Solução:_"
   ]
  },
  {
   "cell_type": "code",
   "execution_count": null,
   "id": "f1e62591",
   "metadata": {},
   "outputs": [],
   "source": []
  },
  {
   "attachments": {},
   "cell_type": "markdown",
   "id": "9f4be8e1",
   "metadata": {},
   "source": [
    "__Problema 5 (algoritmo de Heron para extração de raízes quadradas):__ O __método\n",
    "de Heron__ para o cálculo da raiz quadrada de um número real $ a > 0 $ consiste\n",
    "da escolha de uma estimativa inicial $ x_0 > 0 $ para esta raiz, por exemplo $ 1\n",
    "$ ou o próprio $ a $, e das iterações\n",
    "$$\n",
    "x_{n + 1} = \\frac{1}{2}\\bigg(x_n + \\frac{a}{x_n}\\bigg) \\qquad (n \\ge 0)\\,.\n",
    "$$\n",
    "No limite, $ x_n $ converge a $ \\sqrt{a} $ (para detalhes veja este outro\n",
    "[Problema](#babylon)). O nome do método faz referência ao matemático grego\n",
    "Heron de Alexandria, que o expôs em uma de suas obras em $ 60 $ E.C.. Ele\n",
    "é um caso especial do método do ponto fixo e também do método de Newton.\n",
    "Apesar de simples, sua convergência é extremamente rápida.\n",
    "\n",
    "\n",
    "(a) Usando a construção `lambda` em Python, defina a função\n",
    "$$\n",
    "\\varphi(x) = \\frac{1}{2}\\bigg(x + \\frac{a}{x}\\bigg) \\qquad (x > 0)\\,.\n",
    "$$\n",
    "\n",
    "(b) Mostre que $ \\xi > 0 $ é ponto fixo de $ \\varphi $ se e somente se \n",
    "$ \\xi = \\sqrt{a} $.\n",
    "\n",
    "(c) Crie um procedimento que, dados $ a > 0 $, $ x_0 > 0 $ e uma tolerância\n",
    "$ \\varepsilon > 0 $ para o erro, retorna uma aproximação para $ \\sqrt{a} $\n",
    "conforme o método de Heron. _Dica:_ Use um `while` com uma condição que testa\n",
    "a diferença entre a estimativa atual e a anterior para a raiz quadrada.\n",
    "\n",
    "(d) Use sua implementação para calcular $ \\sqrt{2} $ e $ \\sqrt{3} $ com precisão\n",
    "melhor que $ 10^{-8} $."
   ]
  },
  {
   "attachments": {},
   "cell_type": "markdown",
   "id": "e310680b",
   "metadata": {},
   "source": [
    "_Solução:_"
   ]
  },
  {
   "cell_type": "code",
   "execution_count": null,
   "id": "03e9da47",
   "metadata": {},
   "outputs": [],
   "source": []
  },
  {
   "attachments": {},
   "cell_type": "markdown",
   "id": "38a22c3c",
   "metadata": {},
   "source": [
    "## $ \\S 3 $ Critérios de parada para o método do ponto fixo<a name=\"imp\"></a>\n",
    " \n",
    "Como a princípio não conhecemos os pontos fixos da função à qual o método\n",
    "do ponto fixo será aplicado, não podemos calcular diretamente o erro\n",
    "$$\n",
    "E_k = \\xi - x_k\n",
    "$$\n",
    "envolvido na $ k $-ésima iteração. Ao mesmo tempo, também não é possível\n",
    "determinar de maneira simples e geral uma cota superior para o módulo dele, como\n",
    "ocorria para o método da bissecção. Esta situação é bastante comum.  Em casos\n",
    "como este, o que fazemos é utilizar\n",
    "\\begin{equation*}\\label{E:error}\n",
    "\\left\\vert x_{k} - x_{k - 1} \\right\\vert \\tag{2}\n",
    "\\end{equation*}\n",
    "como substituto para  o _erro absoluto_ verdadeiro $ \\vert E_k \\vert $. Analogamente,\n",
    "podemos utilizar\n",
    "$$\n",
    "\\frac{\\left\\vert x_{k} - x_{k - 1} \\right\\vert}{\\vert x_k \\vert} \n",
    "$$\n",
    "como substituto para o _erro relativo_ verdadeiro\n",
    "$$\n",
    "\\frac{\\left\\vert \\xi - x_{k} \\right\\vert}{\\vert \\xi \\vert} \n",
    "$$\n",
    "\n",
    "Na implementação abaixo, o procedimento é interrompido assim que qualquer um dos\n",
    "critérios seguintes seja satisfeito:\n",
    "\n",
    "1. A quantidade em $ \\eqref{E:error} $ é menor que uma tolerância\n",
    "   $ \\varepsilon > 0 $ predeterminada.\n",
    "1. O número de iterações excede uma cota prefixada.\n",
    "2. O cálculo da próxima estimativa causa um erro de _overflow_ (indicando que a seqüência parece divergir)."
   ]
  },
  {
   "attachments": {},
   "cell_type": "markdown",
   "id": "7f6af0ac",
   "metadata": {},
   "source": [
    "# $ \\S 4 $ Implementação do método do ponto fixo"
   ]
  },
  {
   "cell_type": "code",
   "execution_count": 2,
   "id": "45405e2f",
   "metadata": {},
   "outputs": [],
   "source": [
    "def fixed_point(phi, x, eps, max_iter=100):\n",
    "    \"\"\"\n",
    "    Applies the fixed point iteration method to a function.\n",
    "    Parameters:\n",
    "        * A continuous real function phi.\n",
    "        * An initial guess x for a fixed point.\n",
    "        * The maximum error tolerance eps.\n",
    "        * The maximum allowed number of iterations, max_iter.\n",
    "    Returns:\n",
    "        * Two lists, xs and ys, containing the estimates and the values\n",
    "          of phi at each of them, respectively.\n",
    "    Prints:\n",
    "        * The last estimate.\n",
    "        * The value of phi at this estimate.\n",
    "        * The number of iterations that were performed.\n",
    "    \"\"\"\n",
    "    \n",
    "    if eps <= 0:       # Error: invalid value for eps.\n",
    "        raise ValueError(\"The tolerance must be positive!\")\n",
    "    # Check whether max_iter is a positive integer:\n",
    "    if not (isinstance(max_iter, int) and max_iter > 0):\n",
    "        raise ValueError(\"'max_iter' must be a positive integer!\")\n",
    "    x = float(x)       # Make sure x is of type float.\n",
    "    xs = [x]           # Create a list to store the estimates.\n",
    "    ys = []            # Create a list to store phi of the estimates.\n",
    "    iterations = 0     # Counter for the number of iterations.\n",
    "    error = 2 * eps    # Any value > eps will do.\n",
    "    while error >= eps and iterations < max_iter:\n",
    "        try:           # Compute the next estimate and check for overflow.\n",
    "            new_x = phi(x)\n",
    "        except OverflowError:\n",
    "            print(\"Overflow error. The resulting sequence diverges!\")\n",
    "            return None, None\n",
    "        else:\n",
    "            xs.append(new_x)          # Store the new estimate.\n",
    "            ys.append(new_x)          # Store phi of the old estimate.\n",
    "            error = abs(new_x - x)    # Update the error.\n",
    "            x = new_x                 # Update x.\n",
    "            iterations += 1           # Update iteration counter.\n",
    "    \n",
    "    # ys is always one step behind xs, so we need to append one more element:\n",
    "    ys.append(phi(new_x))\n",
    "    if iterations == max_iter:\n",
    "        print(\"Warning: The maximum number of iterations was reached!\")\n",
    "    print(f\"After {iterations} iterations, \", end='')\n",
    "    print(f\"the estimate for the fixed point is:\\n{xs[-1]:15.8f}\\n\"\n",
    "          f\"The value of the function at this point is: \\n{ys[-1]:15.8f}\")\n",
    "    return xs, ys"
   ]
  },
  {
   "cell_type": "code",
   "execution_count": 4,
   "id": "83d236db",
   "metadata": {},
   "outputs": [],
   "source": [
    "\n",
    "def print_solution(xs, ys, freq=1):\n",
    "    \"\"\"\n",
    "    Given two arrays xs and ys of the same length, prints a table whose n-th\n",
    "    line consists of three entries: the values of n, xs[n] and ys[n].\n",
    "    Parameters:\n",
    "        * The arrays xs and ys. \n",
    "        * A parameter freq used to print only one in every freq line. The\n",
    "          first and last line are always printed. If freq == 0, then only these\n",
    "          lines are printed.\n",
    "    Returns: None.\n",
    "    Prints: A header and the table described above.\n",
    "    \"\"\"\n",
    "    def print_header():\n",
    "        \"\"\"\n",
    "        Prints the table's header.\n",
    "        \"\"\"\n",
    "        print(\"\\n|       n      \", end=\"\")\n",
    "        print(\"    x_n            \", end=\"\")\n",
    "        print(\"    φ(x_n)      |\")\n",
    "        print(\"|=================================================|\")\n",
    "        \n",
    "    def print_line(n, x, y):\n",
    "        \"\"\"\n",
    "        Pretty-prints n, x and y.\n",
    "        \"\"\"\n",
    "        print(f\"|      {n:02}\", end=\"\")\n",
    "        print(f\"    {x:15.8f}\", end=\"\")\n",
    "        print(f\"    {y:15.8f}   |\")\n",
    "    \n",
    "    \n",
    "    N = len(xs)\n",
    "    if freq == 0:       # If freq == 0, print only first and last lines.\n",
    "        freq = N - 1\n",
    "    print_header()\n",
    "    print_line(0, xs[0], ys[0])\n",
    "    for n in range(1, N, freq):\n",
    "        print_line(n, xs[n], ys[n])\n",
    "    if n != N - 1:\n",
    "        print_line(n, xs[N], ys[N])\n",
    "    print(\"|_________________________________________________|\\n\")\n",
    "        \n",
    "    return None"
   ]
  },
  {
   "attachments": {},
   "cell_type": "markdown",
   "id": "7b5339aa",
   "metadata": {},
   "source": [
    "__Problema 6:__ Use a implementação acima para encontrar um ponto fixo da função\n",
    "$ \\varphi(x) = \\cos(\\sin (x)) $ com um erro menor que $ 10^{-6} $."
   ]
  },
  {
   "attachments": {},
   "cell_type": "markdown",
   "id": "be40c94b",
   "metadata": {},
   "source": [
    "_Solução:_"
   ]
  },
  {
   "cell_type": "code",
   "execution_count": null,
   "id": "f857d435",
   "metadata": {},
   "outputs": [],
   "source": []
  },
  {
   "attachments": {},
   "cell_type": "markdown",
   "id": "4cc011ac",
   "metadata": {},
   "source": [
    "## $ \\S 5 $ Estudo de casos\n",
    "\n",
    "Depois de experimentarmos com alguns exemplos, fica fácil reconhecer quatro\n",
    "padrões que surgem na aplicação do método do ponto fixo. Eles são ilustrados\n",
    "pelas seguintes quatro funções, para cada uma das quais $ \\xi = 1 $ é um ponto\n",
    "fixo. Antes de continuar, rode a célula abaixo para conseguir ver as animações\n",
    "correspodentes. (Estas animações não podem ser executadas num navegador, utilize\n",
    "uma instalação local do interpretador Python!)"
   ]
  },
  {
   "cell_type": "code",
   "execution_count": 5,
   "id": "20de8fda",
   "metadata": {},
   "outputs": [],
   "source": [
    "def fixed_point_animation(phi, a, b, x, N=4, title=\"\", duration=0.75):\n",
    "    \"\"\"\n",
    "    Displays an animation of the fixed point iteration method applied to a\n",
    "    function.\n",
    "    Parameters:\n",
    "        * A continuous real function phi.\n",
    "        * The two endpoints a and b of the interval in the x-axis where the\n",
    "          animation takes place.\n",
    "        * An initial estimate x for the zero in [a, b].\n",
    "        * The maximum number N of iterations.\n",
    "        * A title to be displayed at the top of the diagram.\n",
    "        * The duration of the pause between slides of the animation, in seconds.\n",
    "          Set duration = 0 to produce a figure instead of an animation.\n",
    "    Returns:\n",
    "        * Two lists xs and ys containing the estimates and the values of the\n",
    "          function phi at each of them.\n",
    "    Displays:\n",
    "        * The animation in a pop-up window.\n",
    "    \"\"\"\n",
    "    import matplotlib.pyplot as plt\n",
    "    import numpy as np\n",
    "    \n",
    "    \n",
    "    def pause(duration):\n",
    "        \"\"\"\n",
    "        Pauses the animation for duration seconds, provided duration > 0.\n",
    "        \"\"\"\n",
    "        if duration > 0:\n",
    "            plt.pause(duration)\n",
    "\n",
    "\n",
    "    cmap = plt.get_cmap(\"tab10\")               # Used to control the colors.\n",
    "    P = 200                                    # Number of points in each plot.\n",
    "    width = 1.75                               # Line width.\n",
    "    marker_size = 5\n",
    "    domain = np.linspace(a, b, P)              # Generates P nodes from a to b.\n",
    "    xs = [x]                                   # Stores the estimates.\n",
    "    for _ in range(N):                         # Filling xs.\n",
    "        xs.append(phi(xs[-1]))\n",
    "    ys = [phi(x) for x in xs]                    # Stores f of the estimates.\n",
    "\n",
    "    # Generate sample points for drawing vertical lines to the graph of f:\n",
    "    xs_vert_phi = [np.linspace(xs[n], xs[n], P) for n in range(N)]\n",
    "    ys_vert_phi = [np.linspace(0, ys[n], P) for n in range(N)]\n",
    "    # Generate sample points for drawing vertical lines to the line y = x:\n",
    "    xs_vert_diag = [np.linspace(ys[n], ys[n], P) for n in range(N)]\n",
    "    ys_vert_diag = [np.linspace(0, ys[n], P) for n in range(N)]\n",
    "    # Generate sample points for drawing horizontal lines:\n",
    "    xs_horiz = [np.linspace(xs[n], xs[n + 1], P) for n in range(N)]\n",
    "    ys_horiz = [np.linspace(ys[n], ys[n], P) for n in range(N)]\n",
    "    \n",
    "    # Draw the graph of f and the line y = x:\n",
    "    plt.axhline(y=0.0, color='black', linestyle='-', lw=width)\n",
    "    plt.xlabel(\"$ x $-axis\")\n",
    "    plt.ylabel(\"$ y $-axis\")\n",
    "    plt.title(title)\n",
    "    plt.grid(True)\n",
    "    plt.plot(domain, phi(domain), label=\"$ y = \\\\varphi(x) $\", lw=width)\n",
    "    plt.plot(domain, domain, label=\"$ y = x $\", lw=width)\n",
    "    plt.legend()\n",
    "\n",
    "    # Mark the initial estimate on the x-axis:\n",
    "    pause(duration)\n",
    "    plt.plot(xs[0], 0, color=cmap(2), marker=\"x\",\n",
    "             mew=width, label=f\"$ x_0 $\")\n",
    "    plt.legend()\n",
    "    \n",
    "    for n in range(N):\n",
    "        pause(duration)\n",
    "        # Draw the segment of the line x = x_n from y = 0 to y = y_n:\n",
    "        plt.plot(xs_vert_phi[n], ys_vert_phi[n], linestyle=\"--\",\n",
    "                 lw=width, color=\"black\")\n",
    "        # Mark x_n on the x-axis:\n",
    "        plt.plot(xs[n], 0, color=cmap(n + 2), marker=\"x\",\n",
    "                 mew=width)\n",
    "        # Plot (x_n, y_n):\n",
    "        plt.plot(xs[n], ys[n], color=\"black\", marker=\"o\", ms=marker_size)\n",
    "        pause(duration)\n",
    "        # Draw the horizontal segment connecting (x_n, y_n) = (x_n, x_{n + 1})\n",
    "        # to (x_{n + 1}, x_{n + 1}):\n",
    "        plt.plot(xs_horiz[n], ys_horiz[n], linestyle=\"--\",\n",
    "                 lw=width, color=\"black\")\n",
    "        # Plot (x_n, y_n) again and plot (x_{n + 1}, x_{n + 1}):\n",
    "        plt.plot(xs[n], ys[n], color=\"black\", marker=\"o\", ms=marker_size)\n",
    "        plt.plot(ys[n], ys[n], color=\"black\", marker=\"o\", ms=marker_size)\n",
    "        pause(duration)\n",
    "        # Draw the segment of the line x = x_{n + 1} from y = x_{n + 1} to 0:\n",
    "        plt.plot(xs_vert_diag[n], ys_vert_diag[n],\n",
    "                 linestyle=\"--\", lw=width, color=\"black\")\n",
    "        # Plot (x_{n + 1}, x_{n + 1}) again:\n",
    "        plt.plot(ys[n], ys[n], color=\"black\", marker=\"o\", ms=marker_size)\n",
    "        pause(duration)\n",
    "        # Mark x_{n + 1} on the x-axis:\n",
    "        plt.plot(xs[n + 1], 0, color=cmap(n + 3), marker=\"x\",\n",
    "                 mew=width, label=f\"$ x_{n + 1} $\")\n",
    "    plt.legend()\n",
    "    \n",
    "    return xs, ys"
   ]
  },
  {
   "attachments": {},
   "cell_type": "markdown",
   "id": "11774c8e",
   "metadata": {},
   "source": [
    "__Exemplo 1 ($ \\left\\vert\\varphi'(\\xi)\\right\\vert < 1 $ e $ \\varphi'(\\xi) > 0 $):__ Em casos como este, para uma estimativa inicial suficientemente próxima de $ \\xi $, o método do ponto fixo gera uma seqüência _convergente_ e que se aproxima do ponto fixo _unilateralmente_. Isto é ilustrado na animação abaixo para a função $ \\varphi_1(x) = \\sqrt{x} $."
   ]
  },
  {
   "cell_type": "code",
   "execution_count": 9,
   "id": "3fb9bfa7",
   "metadata": {
    "scrolled": true
   },
   "outputs": [
    {
     "name": "stdout",
     "output_type": "stream",
     "text": [
      "\n",
      "|       n          x_n                φ(x_n)      |\n",
      "|=================================================|\n",
      "|      00         3.00000000         1.73205081   |\n",
      "|      01         1.73205081         1.31607401   |\n",
      "|      02         1.31607401         1.14720269   |\n",
      "|      03         1.14720269         1.07107548   |\n",
      "|      04         1.07107548         1.03492777   |\n",
      "|      05         1.03492777         1.01731400   |\n",
      "|_________________________________________________|\n",
      "\n"
     ]
    }
   ],
   "source": [
    "phi = lambda x: x**(1/2)\n",
    "a = 0           # Extremidade esquerda do intervalo de x a ser exibido.\n",
    "b = 3           # Extremidade direita.\n",
    "N = 5           # Número de iterações desejado.\n",
    "x_0 = 3.0       # Estimativa inicial.\n",
    "pausa = 0.75    # Duração da pausa.\n",
    "# Título a ser exibido no topo do diagrama:\n",
    "titulo=\"Exemplo 1: $ \\\\varphi(x) = \\sqrt{x} $\\n\"\\\n",
    "       \"$ |\\\\varphi'| < 1 $ e $ \\\\varphi' > 0 $\"\n",
    "\n",
    "xs, ys = fixed_point_animation(phi, a, b, x_0, N, titulo, pausa)\n",
    "print_solution(xs, ys)"
   ]
  },
  {
   "attachments": {},
   "cell_type": "markdown",
   "id": "6d428e53",
   "metadata": {},
   "source": [
    "![Exemplo 1](fig_2-5_exemplo_1.png \"Exemplo 1\")"
   ]
  },
  {
   "attachments": {},
   "cell_type": "markdown",
   "id": "23e84fab",
   "metadata": {},
   "source": [
    "__Exemplo 2 ($ \\left\\vert\\varphi'(\\xi)\\right\\vert < 1 $ e\n",
    "$ \\varphi'(\\xi) < 0 $):__ Em casos como este, para uma estimativa inicial\n",
    "suficientemente próxima de $ \\xi $, o método do ponto fixo gera uma seqüência\n",
    "_convergente_ e que se aproxima do ponto fixo _oscilando bilateralmente_. Isto é\n",
    "ilustrado na animação abaixo para a função $ \\varphi_2(x) = 2 - \\sqrt{x} $."
   ]
  },
  {
   "cell_type": "code",
   "execution_count": 10,
   "id": "da5b024d",
   "metadata": {
    "scrolled": true
   },
   "outputs": [
    {
     "name": "stdout",
     "output_type": "stream",
     "text": [
      "\n",
      "|       n          x_n                φ(x_n)      |\n",
      "|=================================================|\n",
      "|      00         3.00000000         0.26794919   |\n",
      "|      01         0.26794919         1.48236191   |\n",
      "|      02         1.48236191         0.78247714   |\n",
      "|      03         0.78247714         1.11542262   |\n",
      "|      04         1.11542262         0.94386430   |\n",
      "|      05         0.94386430         1.02847321   |\n",
      "|_________________________________________________|\n",
      "\n"
     ]
    }
   ],
   "source": [
    "phi = lambda x: 2 - x**(1/2)\n",
    "a = 0           # Extremidade esquerda do intervalo de x a ser exibido.\n",
    "b = 3           # Extremidade direita.\n",
    "N = 5           # Número de iterações desejado.\n",
    "x_0 = 3.0       # Estimativa inicial.\n",
    "pausa = 0.75    # Duração da pausa.\n",
    "# Título a ser exibido no topo do diagrama:\n",
    "titulo=\"Exemplo 2: $ \\\\varphi(x) = 2 - \\sqrt{x} $\\n\"\\\n",
    "       \"$ |\\\\varphi'| < 1 $ e $ \\\\varphi' < 0 $\"\n",
    "\n",
    "xs, ys = fixed_point_animation(phi, a, b, x_0, N, titulo, pausa)\n",
    "print_solution(xs, ys)"
   ]
  },
  {
   "attachments": {},
   "cell_type": "markdown",
   "id": "9da08ad5",
   "metadata": {},
   "source": [
    "![Exemplo 2](fig_2-5_exemplo_2.png \"Exemplo 2\")"
   ]
  },
  {
   "attachments": {},
   "cell_type": "markdown",
   "id": "b42a2f37",
   "metadata": {},
   "source": [
    "__Exemplo 3 ($ \\left\\vert\\varphi'(\\xi)\\right\\vert > 1 $ e\n",
    "$ \\varphi'(\\xi) > 0 $):__ Em casos como este, não importa quão próxima seja a\n",
    "estimativa inicial de $ \\xi $ (exceto se ela for exatamente igual a $ \\xi $), o\n",
    "método do ponto fixo gera uma seqüência que _se afasta unilateralmente_ deste\n",
    "ponto fixo. Isto é ilustrado na animação abaixo para a função\n",
    "$ \\varphi_3(x) = x^2 $."
   ]
  },
  {
   "cell_type": "code",
   "execution_count": 11,
   "id": "288fcf74",
   "metadata": {},
   "outputs": [
    {
     "name": "stdout",
     "output_type": "stream",
     "text": [
      "\n",
      "|       n          x_n                φ(x_n)      |\n",
      "|=================================================|\n",
      "|      00         1.03400000         1.06915600   |\n",
      "|      01         1.06915600         1.14309455   |\n",
      "|      02         1.14309455         1.30666516   |\n",
      "|      03         1.30666516         1.70737383   |\n",
      "|      04         1.70737383         2.91512539   |\n",
      "|      05         2.91512539         8.49795605   |\n",
      "|_________________________________________________|\n",
      "\n"
     ]
    }
   ],
   "source": [
    "phi = lambda x: x**2\n",
    "a = 0           # Extremidade esquerda do intervalo de x a ser exibido.\n",
    "b = 3           # Extremidade direita.\n",
    "N = 5           # Número de iterações desejado.\n",
    "x_0 = 1.034     # Estimativa inicial.\n",
    "pausa = 0.75    # Duração da pausa.\n",
    "# Título a ser exibido no topo do diagrama:\n",
    "titulo=\"Exemplo 3: $ \\\\varphi(x) = x^2 $\\n\"\\\n",
    "       \"$ |\\\\varphi'| > 1 $ e $ \\\\varphi' > 0 $\"\n",
    "\n",
    "xs, ys = fixed_point_animation(phi, a, b, x_0, N, titulo, pausa)\n",
    "print_solution(xs, ys)"
   ]
  },
  {
   "attachments": {},
   "cell_type": "markdown",
   "id": "03e3c7ea",
   "metadata": {},
   "source": [
    "![Exemplo 3](fig_2-5_exemplo_3.png \"Exemplo 3\")"
   ]
  },
  {
   "attachments": {},
   "cell_type": "markdown",
   "id": "77143a88",
   "metadata": {},
   "source": [
    "__Exemplo 4 ($ \\left\\vert\\varphi'(\\xi)\\right\\vert > 1 $ e $ \\varphi'(\\xi) < 0 $):__ Em casos como este, não importa quão próxima seja a estimativa inicial de $ \\xi $ (exceto se ela for exatamente igual a $ \\xi $), o método do ponto fixo gera uma seqüência que _se afasta_ deste ponto fixo, _oscilando bilateralmente_. Isto é ilustrado na animação abaixo para a função $ \\varphi_4(x) = 2 - x^2 $."
   ]
  },
  {
   "cell_type": "code",
   "execution_count": 12,
   "id": "f3bc33f0",
   "metadata": {},
   "outputs": [
    {
     "name": "stdout",
     "output_type": "stream",
     "text": [
      "\n",
      "|       n          x_n                φ(x_n)      |\n",
      "|=================================================|\n",
      "|      00         1.03400000         0.93084400   |\n",
      "|      01         0.93084400         1.13352945   |\n",
      "|      02         1.13352945         0.71511099   |\n",
      "|      03         0.71511099         1.48861627   |\n",
      "|      04         1.48861627        -0.21597840   |\n",
      "|      05        -0.21597840         1.95335333   |\n",
      "|      06         1.95335333        -1.81558924   |\n",
      "|_________________________________________________|\n",
      "\n"
     ]
    }
   ],
   "source": [
    "phi = lambda x: 2 - x**2\n",
    "a = -1          # Extremidade esquerda do intervalo de x a ser exibido.\n",
    "b = 2           # Extremidade direita.\n",
    "N = 6           # Número de iterações desejado.\n",
    "x_0 = 1.034     # Estimativa inicial.\n",
    "pausa = 0.75    # Duração da pausa.\n",
    "# Título a ser exibido no topo do diagrama:\n",
    "titulo=\"Exemplo 4: $ \\\\varphi(x) = 2 - x^2 $\\n\"\\\n",
    "       \"$ |\\\\varphi'| > 1 $ e $ \\\\varphi' < 0 $\"\n",
    "\n",
    "xs, ys = fixed_point_animation(phi, a, b, x_0, N, titulo, pausa)\n",
    "print_solution(xs, ys)"
   ]
  },
  {
   "attachments": {},
   "cell_type": "markdown",
   "id": "a25f2744",
   "metadata": {},
   "source": [
    "![Exemplo 4](fig_2-5_exemplo_4.png \"Exemplo 4\")"
   ]
  },
  {
   "attachments": {},
   "cell_type": "markdown",
   "id": "02dd680f",
   "metadata": {},
   "source": [
    "⚠️ Em todos estes quatro casos, o comportamento descrito é apenas _local_, não global:\n",
    "1. Se $ \\left\\vert \\varphi'(\\xi) \\right\\vert < 1 $ num ponto fixo $ \\xi $, então o método do ponto fixo gera uma seqüência $ (x_n) $ que converge a $ \\xi $ _desde que $ x_0 $ seja escolhido suficientemente próximo dele_. Para $ x_0 $ \"distante\" de $ \\xi $, nada podemos afirmar.\n",
    "2. Se $ \\left\\vert \\varphi'(\\xi) \\right\\vert > 1 $ num ponto fixo $ \\xi $, então\n",
    "desde que $ x_0 $ seja escolhido suficientemente próximo (mas distinto) de\n",
    "$ \\xi $, o método do ponto fixo gera uma seqüência $ (x_n) $ que _inicialmente_\n",
    "se afasta de $ \\xi $. Contudo, nada impede que a seqüência eventualmente\n",
    "convirja a algum outro ponto fixo ou mesmo a $ \\xi $.\n",
    "\n",
    "__Definição:__ Seja $ \\xi $ um ponto fixo de $ \\varphi $ e suponha que exista a derivada $ \\varphi'(\\xi) $.\n",
    "* Se $ \\left\\vert \\varphi'(\\xi) \\right\\vert < 1 $ dizemos que $ \\xi $ é um ponto fixo **atrator**;\n",
    "* Se $ \\left\\vert \\varphi'(\\xi) \\right\\vert > 1 $ chamamos $ \\xi $ de ponto fixo **repelente**.\n",
    "\n",
    "__Exemplo 5:__ Recorde do Problema 3 que a função $ \\varphi(x) = x^3 $ possui\n",
    "três pontos fixos. Calculando a derivada, verifica-se que eles são dos seguintes\n",
    "tipos:\n",
    "$$\n",
    "x = -1 \\ \\ \\text{(repelente)}\\,, \\quad  x = 0 \\ \\  \\text{(atrator)}\\quad \\text{e} \\quad  x = 1\\ \\  \\text{(repelente)}\\,.\n",
    "$$\n",
    "Começando com uma estimativa $ x_0 $ qualquer tal que $ -1 < x_0 < 1 $, a\n",
    "seqüência $ (x_n) $ construída pelo método do ponto fixo convergirá a $ 0 $ não\n",
    "importa quão próximo $ x_0 $ esteja de $ \\pm 1 $. Já se escolhermos uma\n",
    "estimativa inicial maior que $ 1 $ ou menor que $ - 1 $, então a seqüência $\n",
    "(x_n) $ correspodente divergirá para $ \\pm \\infty $ respectivamente,\n",
    "independentemente da distância de $ x_0 $ a $ \\pm 1 $. Verifique estas afirmações,\n",
    "determinando diretamente a seqüência $ (x_n) $."
   ]
  },
  {
   "cell_type": "code",
   "execution_count": 17,
   "id": "69bededf",
   "metadata": {},
   "outputs": [
    {
     "name": "stdout",
     "output_type": "stream",
     "text": [
      "\n",
      "|       n          x_n                φ(x_n)      |\n",
      "|=================================================|\n",
      "|      00         0.99000000         0.97029900   |\n",
      "|      01         0.97029900         0.91351725   |\n",
      "|      02         0.91351725         0.76234271   |\n",
      "|      03         0.76234271         0.44304798   |\n",
      "|      04         0.44304798         0.08696656   |\n",
      "|      05         0.08696656         0.00065774   |\n",
      "|      06         0.00065774         0.00000000   |\n",
      "|_________________________________________________|\n",
      "\n"
     ]
    }
   ],
   "source": [
    "phi = lambda x: x**3\n",
    "a = -0.1\n",
    "b = 1.02\n",
    "N = 6           # Número de iterações desejado.\n",
    "x_0 = 0.99      # Estimativa inicial próxima de e menor que 1.\n",
    "pausa = 0.75\n",
    "# Título a ser exibido no topo do diagrama:\n",
    "titulo=\"Método do ponto fixo: $ \\\\varphi(x) = x^3 $\\n\"\\\n",
    "       \"Estimativa inicial próxima de e menor que $ 1 $\"\n",
    "\n",
    "xs, ys = fixed_point_animation(phi, a, b, x_0, N, titulo, pausa)\n",
    "print_solution(xs, ys)"
   ]
  },
  {
   "cell_type": "code",
   "execution_count": 14,
   "id": "8c7175fd",
   "metadata": {},
   "outputs": [
    {
     "name": "stdout",
     "output_type": "stream",
     "text": [
      "\n",
      "|       n          x_n                φ(x_n)      |\n",
      "|=================================================|\n",
      "|      00         1.00100000         1.00300300   |\n",
      "|      01         1.00300300         1.00903608   |\n",
      "|      02         1.00903608         1.02735394   |\n",
      "|      03         1.02735394         1.08432701   |\n",
      "|      04         1.08432701         1.27491382   |\n",
      "|      05         1.27491382         2.07225159   |\n",
      "|      06         2.07225159         8.89871806   |\n",
      "|      07         8.89871806       704.66441709   |\n",
      "|_________________________________________________|\n",
      "\n"
     ]
    }
   ],
   "source": [
    "phi = lambda x: x**3\n",
    "a = 0.9\n",
    "b = 2.1\n",
    "N = 7        # Número de iterações desejado.\n",
    "x_0 = 1.001  # Estimativa inicial próxima de e maior que 1.\n",
    "pausa = 0.75\n",
    "# Título a ser exibido no topo do diagrama:\n",
    "titulo=\"Método do ponto fixo: $ \\\\varphi(x) = x^3 $\\n\"\\\n",
    "       \"Estimativa inicial próxima de e maior que $ 1 $\"\n",
    "\n",
    "xs, ys = fixed_point_animation(phi, a, b, x_0, N, titulo, pausa)\n",
    "print_solution(xs, ys)"
   ]
  },
  {
   "attachments": {},
   "cell_type": "markdown",
   "id": "7851c471",
   "metadata": {},
   "source": [
    "__Problema 7:__ Considere a equação $ x^2 + x - 2 = 0 $.\n",
    "\n",
    "(a) Mostre que suas raízes coincidem com os pontos fixos de $ g(x) = x^2 +2x - 2 $ e\n",
    "$ h(x) = \\frac{2}{x} - 1 $ ($ x \\ne 0 $).\n",
    "\n",
    "(b) Classifique cada um dos pontos fixos de $ g $ e de $ h $ como atrator ou\n",
    "repelente."
   ]
  },
  {
   "attachments": {},
   "cell_type": "markdown",
   "id": "aa305e4b",
   "metadata": {},
   "source": [
    "_Solução:_"
   ]
  },
  {
   "attachments": {},
   "cell_type": "markdown",
   "id": "8ad23c38",
   "metadata": {},
   "source": [
    "**Problema 8:** É possível encontrar a raiz quadrada de $ a > 0 $ aplicando o método do ponto fixo à função \n",
    "$$\n",
    "\\varphi(x) = \\frac{a}{x} \\quad (x > 0)\\,?\n",
    "$$\n",
    "Experimente com várias estimativas iniciais $ x_0 $, usando a nossa [implementação](#imp), e justifique geometricamente o resultado obtido."
   ]
  },
  {
   "attachments": {},
   "cell_type": "markdown",
   "id": "cb8c8026",
   "metadata": {},
   "source": [
    "*Solução:*"
   ]
  },
  {
   "cell_type": "code",
   "execution_count": null,
   "id": "af7543a4",
   "metadata": {},
   "outputs": [],
   "source": []
  },
  {
   "attachments": {},
   "cell_type": "markdown",
   "id": "19f844ea",
   "metadata": {},
   "source": [
    "__Problema 9:__ É possível que uma função diferenciável $ \\varphi $ definida num\n",
    "intervalo tenha exatamente dois pontos fixos, ambos atratores?\n",
    "\n",
    "_Dica:_ Faça um desenho do gráfico de $ \\varphi $, considerando a interpretação\n",
    "geométrica de pontos fixos como intersecções do gráfico da função com a reta de\n",
    "equação $ y = x $, e compare as derivadas.  Alternativamente, considere a função\n",
    "$ g(x) = x - \\varphi(x) $.  Então $ g(a) = g(b) = 0 $. Como\n",
    "$ g'(a),\\, g'(b) > 0 $, temos $ g(x) > 0 $ para $ x > a $ próximo de $ a $ e $\n",
    "g(x) < 0 $ para $ x < b $ próximo de $ b $.  Pelo teorema do valor\n",
    "intermediário, existe $ c \\in (a, b) $ tal que $ g(c) = c - \\varphi(c) = 0 $.\n",
    "Logo $ c $ também é ponto fixo, contradição.\n"
   ]
  },
  {
   "attachments": {},
   "cell_type": "markdown",
   "id": "be378c35",
   "metadata": {},
   "source": [
    "*Solução:*"
   ]
  },
  {
   "attachments": {},
   "cell_type": "markdown",
   "id": "23147b55",
   "metadata": {},
   "source": [
    "## $ \\S 6 $ Análise da convergência\n",
    "<a name=\"S-6\"></a>\n",
    "\n",
    "__Teorema 6.1:__ _Seja $ \\varphi \\colon I \\to I $ uma função diferenciável, onde\n",
    "$ I $ é um intervalo fechado (mas não necessariamente limitado). Se existir uma\n",
    "constante $ C $ com $ 0 < C < 1 $ tal que_\n",
    "$$\n",
    "\\left\\vert \\varphi'(x) \\right\\vert \\le C \\quad \\text{para todo $ x $ no interior de $ I $}\n",
    "$$\n",
    "_então $ \\varphi $ possui um único ponto fixo em $ I $ e a seqüência $ (x_n) $\n",
    "construída pelo método do ponto fixo converge a ele, independentemente da\n",
    "estimativa inicial $ x_0 \\in I $._\n",
    "\n",
    "⚡ __Prova:__ A unicidade é provada exatamente como na demonstração do\n",
    "Teorema 1.3 (esta parte não depende de $ I $ ser limitado).\n",
    "Para provar a existência, sejam $ x_0 \\in I $ arbitrário e $ x_n =\n",
    "\\varphi^n(x_0) $, como no método do ponto fixo. Então, pelo teorema\n",
    "do valor médio,\n",
    "\\begin{alignat*}{3}\n",
    "\\left\\vert x_{k+1} - x_{k} \\right\\vert= \\left\\vert \\varphi(x_{k}) - \\varphi(x_{k-1}) \\right\\vert\n",
    "&\\le C\\phantom{^2} \\left\\vert x_k - x_{k-1} \\right\\vert\\\\\n",
    "&\\le C^2 \\left\\vert x_{k - 1} - x_{k-2} \\right\\vert\\\\\n",
    "&\\ \\ \\vdots \\\\\n",
    "&\\le C^k \\left\\vert x_{1} - x_{0}\\right\\vert\\,.\n",
    "\\end{alignat*}\n",
    "Daí deduzimos que se $ n > m > 0 $, então\n",
    "\\begin{alignat*}{9}\n",
    "\\left\\vert x_n - x_m \\right\\vert &= \\left\\vert \\big(x_n - x_{n-1}\\big) + \\big(x_{n-1} - x_{n-2}\\big) + \\dots + \\big(x_{m+2} - x_{m+1}\\big) + \\big(x_{m+1} - x_m\\big) \\right\\vert\\\\\n",
    "&\\le \\sum_{k=m}^{n - 1}\\left\\vert x_{k+1} - x_{k} \\right\\vert \\\\\n",
    "&\\le \\sum_{k=m}^{n - 1}C^k\\left\\vert x_{1} - x_{0} \\right\\vert\\\\\n",
    "& = \\left\\vert x_{1} - x_{0}\\right\\vert C^m \\sum_{k=0}^{n - m - 1} C^k \\\\\n",
    "& \\le \\left\\vert x_1 - x_0 \\right\\vert\\frac{C^m}{1 - C}\\,.\n",
    "\\end{alignat*}\n",
    "No último passo usamos o fato que $ 0 < C < 1 $ para cotar o somatório pela soma\n",
    "da série geométrica de razão $ C $. Como $ \\lim_m C^m \\to 0 $, concluímos que\n",
    "dado $ \\varepsilon > 0 $ qualquer, existe $ \\nu \\in \\mathbb N $ tal que\n",
    "$$\n",
    "m,\\,n \\ge \\nu \\Longrightarrow \\left \\vert x_n - x_m \\right \\rvert < \\varepsilon\\,.\n",
    "$$\n",
    "Isto mostra que $ (x_n) $ é uma [seqüência de\n",
    "Cauchy](https://en.wikipedia.org/wiki/Cauchy_sequence), portanto ela converge.\n",
    "Finalmente, seu limite está em $ I $ porque por hipótese $ I $ é fechado e este\n",
    "limite é um ponto fixo pelo Lema 2.1.\n",
    "\n",
    "<div style=\"text-align: right\">$ \\blacksquare $ </div>\n",
    "\n",
    "__Colorário 6.2:__ _Sejam $ \\varphi $ uma função diferenciável que tem um ponto\n",
    "fixo em $ \\xi $ e $ I $ um intervalo (não necessariamente fechado nem aberto)_\n",
    "centrado em $ \\xi $.\n",
    "\n",
    "(a) _Suponha que $ \\left\\vert \\varphi' \\right\\vert \\le C < 1 $ em $ I $. Então o\n",
    "método do ponto fixo gera uma seqüência $ (x_n) $ que converge a $ \\xi $ não\n",
    "importa qual seja a escolha de $ x_0 \\in I $._\n",
    "\n",
    "(b) _Suponha que $ \\vert \\varphi' \\vert > 1 $ em $ I $. Se dois termos\n",
    "consecutivos_ $x_n$ _e_ $x_{n - 1}$ _da seqüência construída pelo método\n",
    "do ponto fixo pertencem a $ I $ e são diferentes de $ \\xi $, então_\n",
    "$$\n",
    "\\left \\lvert x_{n} - \\xi \\right \\rvert > \\left \\lvert x_{n - 1} - \\xi \\right \\rvert\\,.\n",
    "$$\n",
    "\n",
    "Note que na parte (a) não precisamos supor que $ \\varphi $ leva $ I $ dentro de\n",
    "$ I $, pois isto segue automaticamente da hipótese e de $ I $ ser centrado em $\n",
    "\\xi $.  Informalmente, a parte (b) diz que se\n",
    "$ \\left\\lvert \\varphi' \\right\\rvert > 1 $, então enquanto os termos da seqüência\n",
    "$ (x_n) $ não saem de $ I $, a distância deles a $ \\xi $ aumenta conforme $ n $\n",
    "cresce, não importa qual seja a escolha de $ x_0 \\ne \\xi $ em $ I $.\n",
    "\n",
    "__Prova:__ Vamos provar cada item separadamente.\n",
    "\n",
    "(a) A hipótese e o teorema do valor médio garantem que $ \\varphi $ encurta\n",
    "distâncias. Mais precisamente:\n",
    "$$\n",
    "\\phantom{\\qquad \\text{para todos $ a,\\,b \\in I $\\,.}}\n",
    "\\left\\lvert \\varphi(b) - \\varphi(a) \\right\\rvert \\le C\\left\\lvert b - a \\right \\rvert\n",
    "\\qquad \\text{para todos $ a,\\,b \\in I $}\\,.\n",
    "$$\n",
    "Seja $ r $ o raio do intervalo $ I $. Então\n",
    "$ \\left \\lvert x - \\xi \\right \\rvert \\le r $ para qualquer $ x \\in I $.\n",
    "Portanto\n",
    "$$\n",
    "\\left \\lvert \\varphi(x) - \\xi \\right \\rvert = \n",
    "\\left \\lvert \\varphi(x) - \\varphi(\\xi) \\right \\rvert \\le C r < r \\,.\n",
    "$$ \n",
    "Em outras palavras, $ \\varphi $ leva $ I $ no subintervalo $ J \\subset I $\n",
    "_fechado_ de centro $ \\xi $ e raio $ Cr $; em particular,\n",
    "$ \\varphi(J) \\subset J $. E como $ J $ é fechado, podemos aplicar o\n",
    "Teorema 6.1 a ele.  Concluímos que $ \\xi $ é o único ponto fixo de $ \\varphi $\n",
    "em $ I $ e que $ (x_n) = \\big(\\varphi^n(x_0)\\big) $ converge a $ \\xi $ para\n",
    "qualquer estimativa inicial $ x_0 \\in I $.\n",
    "\n",
    "(b) Isto segue imediatamente do teorema do valor médio. Como por hipótese\n",
    "vale $ \\vert \\varphi' \\vert \\ge C > 1 $ em $ I $, se $ x_{n-1} $ e \n",
    "$ x_n $ estão ambos em $ I $, então\n",
    "\\begin{alignat*}{9}\n",
    "\\left \\lvert x_n - \\xi \\right \\rvert &= \n",
    "\\left \\lvert \\varphi(x_{n-1}) - \\xi \\right \\rvert \\\\\n",
    "&\\ge C \\left \\lvert x_{n - 1} - \\xi \\right \\rvert \\\\\n",
    "&> \\left \\lvert x_{n - 1} - \\xi \\right \\rvert\\,. \\tag*{$ \\blacksquare $}\n",
    "\\end{alignat*}"
   ]
  },
  {
   "attachments": {},
   "cell_type": "markdown",
   "id": "198fb20c",
   "metadata": {},
   "source": [
    "__Problema 10:__ Considere a equação $ e^{x} = 4x^2 $.\n",
    "\n",
    "(a) Esboce à mão os gráficos das funções $ g(x) = e^{x} $ e $ h(x) = 4x^2 $.\n",
    "Quantas raízes tem a equação $ g(x) = h(x) $ em $ \\mathbb R $?\n",
    "\n",
    "(b) Mostre que o método do ponto fixo aplicado à função\n",
    "$ \\varphi_1(x) = \\frac{e^{x/2}}{2} $ com $ x_0 = 0.5 $ gera uma seqüência\n",
    "convergente.\n",
    "\n",
    "(c) Calcule este ponto fixo com precisão melhor que $ 10^{-3} $ usando o computador.\n",
    "\n",
    "(d) Seja $ \\varphi_2(x) = \\frac{\\ln(2x)}{2} $. Mostre que $ \\xi > 0 $ é ponto fixo\n",
    "de $ \\varphi_2 $ se e somente se é uma raiz da equação original. \n",
    "\n",
    "(e) Esboce o gráfico de $ \\varphi_2 $ juntamente com a reta de equação $ y = x $\n",
    "com ajuda do computador.\n",
    "\n",
    "(f) Para quais valores de $ x_0 $ o método do ponto fixo aplicado a $ \\varphi_2 $ \n",
    "gera uma seqüência convergente ao ponto fixo em $ (0, 1) $? Para quais a\n",
    "seqüência resultante converge ao ponto fixo em $ (1, +\\infty) $? Para quais ela\n",
    "diverge? Justifique."
   ]
  },
  {
   "attachments": {},
   "cell_type": "markdown",
   "id": "ebcf53f7",
   "metadata": {},
   "source": [
    "*Solução:*"
   ]
  },
  {
   "cell_type": "code",
   "execution_count": null,
   "id": "43d6eb37",
   "metadata": {},
   "outputs": [],
   "source": []
  },
  {
   "attachments": {},
   "cell_type": "markdown",
   "id": "89e0f932",
   "metadata": {},
   "source": [
    "__Problema 11:__ Gostaríamos de encontrar a raiz positiva da equação\n",
    "$$\n",
    "ax^2 + x -c = 0 \\quad \\text{onde }\\ a > 0\\ \\text{e}\\ c > 0\\,.\n",
    "$$\n",
    "Para isto podemos tentar aplicar o método do ponto fixo à função $ \\varphi(x) = c - ax^2 $. Qual condição devemos impor sobre $ a $ e $ c $ para que haja convergência, assumindo uma estimativa inicial suficientemente próxima? Justifique."
   ]
  },
  {
   "attachments": {},
   "cell_type": "markdown",
   "id": "7d87998d",
   "metadata": {},
   "source": [
    "*Solução:*"
   ]
  },
  {
   "attachments": {},
   "cell_type": "markdown",
   "id": "cfd8fc65",
   "metadata": {},
   "source": [
    "__Problema 12:__ Seja\n",
    "$$\n",
    "\\varphi(t) = 1 + t - \\frac{t^3}{8}\\,.\n",
    "$$\n",
    "\n",
    "(a) Determine o único ponto fixo $ \\xi $ de $ \\varphi $ em $ \\mathbb R $.\n",
    "\n",
    "(b) Encontre o maior valor de $ r > 0 $ tal que o método do ponto fixo\n",
    "fornece uma seqüência que converge a $ \\xi $ para qualquer estimativa \n",
    "inicial $ x_0 \\in (\\xi - r, \\xi + r) $. _Dica:_ Use o Corolário 6.2."
   ]
  },
  {
   "attachments": {},
   "cell_type": "markdown",
   "id": "10887d1c",
   "metadata": {},
   "source": [
    "_Solução:_"
   ]
  },
  {
   "attachments": {},
   "cell_type": "markdown",
   "id": "918dadb7",
   "metadata": {},
   "source": [
    "__Problema 13:__ Seja $ \\varphi(x) = \\frac{x^2 - x + 2}{2} $.\n",
    "\n",
    "(a) Encontre todos os pontos fixos de $ \\varphi $.\n",
    "\n",
    "(b) Para cada ponto fixo $ \\xi $, encontre, se existir, o maior $ r > 0 $ com a\n",
    "propriedade que: para qualquer estimativa inicial $ x_0 $ dentro do intervalo\n",
    "aberto centrado em $ \\xi $ de raio $ r > 0 $, o método do ponto fixo fornece uma\n",
    "seqüência $ (x_n) $ que converge a $ \\xi $. Justifique."
   ]
  },
  {
   "attachments": {},
   "cell_type": "markdown",
   "id": "ddb2af7d",
   "metadata": {},
   "source": [
    "_Solução:_"
   ]
  },
  {
   "attachments": {},
   "cell_type": "markdown",
   "id": "d52e082c",
   "metadata": {},
   "source": [
    "## $ \\S 7 $ Estimativa para o erro e análise de desempenho\n",
    "\n",
    "__Teorema 7.1 (estimativa para o erro no método do ponto fixo):__ _Sejam $ \\varphi \\colon I \\to I $ como na hipótese do Teorema 6.1 e $ \\xi $ o seu ponto fixo em $ I $. Finalmente, seja_\n",
    "$$\n",
    "E_n = x_n - \\xi \\qquad (n \\ge 0)\n",
    "$$\n",
    "_o erro envolvido no $ n $-ésimo passo do método do ponto fixo. Então valem_\n",
    "$$\n",
    "\\boxed{\\frac{\\left\\vert E_n \\right\\vert}{\\left\\vert E_{n-1} \\right\\vert} \\le C} \\qquad \\text{e} \\qquad\n",
    "\\boxed{\\left\\vert E_n \\right\\vert \\le C^n \\left\\vert x_0 - \\xi \\right\\vert = C^n \\left\\vert E_0 \\right\\vert}\n",
    "$$\n",
    "\n",
    "Informalmente, o teorema diz que a cada iteração, o erro é cortado por um fator\n",
    "não superior a $ C $.\n",
    "\n",
    "__Prova:__ Como $ \\xi $ é ponto fixo, \n",
    "$$\n",
    "\\xi = \\varphi(\\xi) = \\varphi^2(\\xi) = \\cdots = \\varphi^n(\\xi)\\,.\n",
    "$$\n",
    "Do teorema do valor médio segue que\n",
    "\\begin{alignat*}{9}\n",
    "\\left\\vert E_n \\right\\vert &= \\left\\vert \\varphi^n(x_0)  - \\varphi^n(\\xi)\\right\\vert \\\\\n",
    "& \\le C \\left\\vert \\varphi^{n-1}(x_0) - \\varphi^{n-1}(\\xi) \\right\\vert = C \\vert E_{n - 1} \\vert \\\\\n",
    "& \\le C^2 \\left\\vert \\varphi^{n-2}(x_0) - \\varphi^{n - 2}(\\xi) \\right\\vert = C^2 \\vert E_{n - 2} \\vert \\\\\n",
    "&\\ \\ \\vdots \\\\\n",
    "& \\le C^n \\left\\vert x_0 - \\xi \\right \\vert = C^n \\vert E_0 \\vert \\tag*{$ \\blacksquare $}\n",
    "\\end{alignat*}\n",
    "\n",
    "__Teorema 7.2 (análise do desempenho do método do ponto fixo):__ _Seja $ \\varphi \\colon I \\to I $ como na hipótese do Teorema 6.1. Pelo método do ponto fixo, o número mínimo de iterações necessário para se garantir (a priori) que a estimativa para o ponto fixo difere do seu valor exato por no máximo $ \\varepsilon > 0 $ é dado por:_\n",
    "\\begin{equation*}\n",
    "\\boxed{\\left\\lceil{-\\log_C\\bigg(\\frac{\\left\\vert x_0 - \\xi\n",
    "\\right\\vert}{\\varepsilon}\\bigg)}\\right\\rceil = \\left\\lceil{\\frac{\\lg\\bigg(\\frac{\\left\\vert\n",
    "x_0 - \\xi \\right\\vert}{\\varepsilon}\\bigg)}{\\lg \\Big(\\frac{1}{C}\\Big)}}\\right\\rceil}\n",
    "\\end{equation*}\n",
    "_onde $ \\lceil{\\cdot}\\rceil $ denota a função teto, $ \\log_C $ o logaritmo na base $ C $ e $ \\lg = \\log_2 $._\n",
    "\n",
    "\n",
    "📝 Segue da fórmula acima que o desempenho do método do ponto fixo é melhor que o do método da bissecção (para estimativas iniciais compatíveis) se e somente se\n",
    "$$\n",
    "C < \\frac{1}{2}\\,.\n",
    "$$"
   ]
  },
  {
   "attachments": {},
   "cell_type": "markdown",
   "id": "31dac272",
   "metadata": {},
   "source": [
    "__Prova do Teorema 7.2:__ Seja $ n $ o número de iterações realizadas. Pelo Teorema 7.1, para que consigamos\n",
    "garantir que $ \\vert E_n \\vert \\le \\varepsilon $, é suficiente que \n",
    "$$\n",
    "C^n \\vert E_0 \\vert = C^n \\vert x_0 - \\xi \\vert \\le \\varepsilon\n",
    "$$\n",
    "Equivalentemente, tirando o logaritmo na base $ C $ e lembrando que $ C < 1 $\n",
    "(logo este logaritmo é _decrescente_),\n",
    "$$\n",
    "n = n\\log_C C \\ge \\log_C\\bigg(\\frac{\\varepsilon}{\\vert x_0 - \\xi \\vert}\\bigg) = \n",
    "-\\log_C\\bigg(\\frac{\\left\\vert x_0 - \\xi \\right\\vert}{\\varepsilon}\\bigg)\\,.\n",
    "$$\n",
    "O _menor_ inteiro satisfazendo esta desigualdade é o teto da expressão à direita,\n",
    "que também pode ser reescrito em termos de logaritmos na base $ 2 $ como no \n",
    "enunciado.\n",
    "\n",
    "<div style=\"text-align: right\">$ \\blacksquare $ </div>"
   ]
  },
  {
   "attachments": {},
   "cell_type": "markdown",
   "id": "715fccd8",
   "metadata": {},
   "source": [
    "## $ \\S 8 $ Problemas"
   ]
  },
  {
   "attachments": {},
   "cell_type": "markdown",
   "id": "0d4139bb",
   "metadata": {},
   "source": [
    "__Problema 14:__ Seja $ g(x) = \\frac{x^2 + 3x + 2}{2x + 1} $ para $ x \\ne -\\frac{1}{2} $.\n",
    "\n",
    "(a) Prove que $ g $ possui exatamente dois pontos fixos, um deles, digamos $ \\xi $, positivo.\n",
    "\n",
    "(b) Mostre que o método do ponto fixo gera uma seqüência convergente a $ \\xi $\n",
    "para qualquer palpite inicial $ x_0  \\ge 1 $.\n",
    "\n",
    "(c) Para $ x_0 $ e $ \\xi $ como acima, encontre uma constante $ C < 1 $ tal que \n",
    "$$\n",
    "| x_n - \\xi | \\le C^n | x_0 - \\xi | \\qquad (n \\ge 0)\\,.\n",
    "$$"
   ]
  },
  {
   "attachments": {},
   "cell_type": "markdown",
   "id": "6886b189",
   "metadata": {},
   "source": [
    "_Solução:_"
   ]
  },
  {
   "attachments": {},
   "cell_type": "markdown",
   "id": "eba87cc6",
   "metadata": {},
   "source": [
    "__Problema 15:__ Seja $ f(x) = \\cos x $.\n",
    "\n",
    "(a) Esboce (à mão ou usando Python) o gráfico de $ f $.\n",
    "\n",
    "(b) Mostre que $ f $ tem um único ponto fixo $ \\xi $ em $ \\mathbb{R} $.\n",
    "\n",
    "(c) Prove que o método do ponto fixo converge a $ \\xi $ para qualquer escolha\n",
    "de $ x_0 $ em $ [0, \\pi / 2] $."
   ]
  },
  {
   "attachments": {},
   "cell_type": "markdown",
   "id": "4e4d4ed0",
   "metadata": {},
   "source": [
    "_Solução:_"
   ]
  },
  {
   "attachments": {},
   "cell_type": "markdown",
   "id": "6fbe5f2d",
   "metadata": {},
   "source": [
    "__Problema 16:__ Recorde que a função inversa da função tangente é denotada por\n",
    "$$\n",
    "\\arctan \\colon \\mathbb R \\to \\bigg( -\\frac{\\pi}{2}\\,,\\, \\frac{\\pi}{2} \\bigg) \\quad\n",
    "\\text{e que} \\quad \\arctan'(x) = \\frac{1}{1 + x^2} \\quad (x \\in \\mathbb{R})\\,.\n",
    "$$\n",
    "Seja $ \\varphi(x) = x - \\frac{1}{n} \\sum_{k=1}^{n} \\arctan(x - t_k) $, onde $\n",
    "t_1 < t_2 < \\cdots < t_n $ são números reais distintos e $n \\geq 2$.\n",
    "\n",
    "(a) Prove que, para quaisquer escolha dos $ t_k $, a função $ \\varphi(x) $ tem\n",
    "pelo menos um ponto fixo. _Dica:_ Quanto vale $ \\varphi(x) - x $ em $ t_1 $;\n",
    "e em $ t_n $?\n",
    "\n",
    "(b) Determine condições suficientes para a convergência do método do ponto fixo\n",
    "para uma estimativa inicial qualquer.\n",
    "_Dica:_ Calcule a derivada de $ \\varphi $ e estime seu valor absoluto dentro\n",
    "deste intervalo."
   ]
  },
  {
   "attachments": {},
   "cell_type": "markdown",
   "id": "a64e10ad",
   "metadata": {},
   "source": [
    "_Solução:_"
   ]
  },
  {
   "attachments": {},
   "cell_type": "markdown",
   "id": "5a946021",
   "metadata": {},
   "source": [
    "__Problema 17 (método de Heron revisitado):__<a name=\"babylon\"></a> O objetivo\n",
    "deste problema é analisar a convergência do método de Heron para o cálculo da\n",
    "raiz quadrada de um número real $ a > 0 $. Seja \n",
    "$$\n",
    "\\varphi(x) = \\frac{1}{2}\\bigg(x + \\frac{a}{x}\\bigg) \\qquad (x > 0)\\,.\n",
    "$$\n",
    "\n",
    "(a) Mostre que a derivada de $ \\varphi $ é dada por\n",
    "$$\n",
    "\\varphi'(x) = \\frac{1}{2}\\bigg(1 - \\frac{a}{x^2}\\bigg)\\,.\n",
    "$$\n",
    "\n",
    "(b) Verifique que\n",
    "$$\n",
    "\\left\\vert\\varphi'(x)\\right\\vert \\le \\frac{1}{2} \\quad \\text{se} \\quad x \\ge \\sqrt{a}\\,.\n",
    "$$\n",
    "\n",
    "(c) Mostre que se $ x > 0 $, então $ \\varphi(x) \\ge \\sqrt{a} $; assim, as\n",
    "estimativas sempre aproximam $ \\sqrt{a} $ por cima. Equivalentemente,\n",
    "$ \\varphi $ leva\n",
    "$$\n",
    "(0\\,, +\\infty) \\quad \\text{dentro de} \\quad \\big[\\sqrt{a}\\,, +\\infty\\big)\\,.\n",
    "$$\n",
    "\n",
    "(d) Conclua com ajuda do Teorema 6.1 que $ (x_n) $ converge à raiz quadrada de $ a $\n",
    "para _qualquer_ estimativa inicial $ x_0 > 0 $."
   ]
  },
  {
   "attachments": {},
   "cell_type": "markdown",
   "id": "47f17d7a",
   "metadata": {},
   "source": [
    "*Solução:*"
   ]
  }
 ],
 "metadata": {
  "kernelspec": {
   "display_name": "base",
   "language": "python",
   "name": "python3"
  },
  "language_info": {
   "codemirror_mode": {
    "name": "ipython",
    "version": 3
   },
   "file_extension": ".py",
   "mimetype": "text/x-python",
   "name": "python",
   "nbconvert_exporter": "python",
   "pygments_lexer": "ipython3",
   "version": "3.10.12"
  },
  "vscode": {
   "interpreter": {
    "hash": "49060cedf8366e4ce4bf4b9d121c044cf7249a0afe21432e14f32b1ca5a4731f"
   }
  }
 },
 "nbformat": 4,
 "nbformat_minor": 5
}
