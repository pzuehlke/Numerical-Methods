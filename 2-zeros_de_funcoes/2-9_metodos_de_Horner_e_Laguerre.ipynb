{
 "cells": [
  {
   "cell_type": "code",
   "execution_count": null,
   "metadata": {},
   "outputs": [],
   "source": [
    "## $ \\S 7 $ O método de Horner\n",
    "\n",
    "### $ 7.1 $ Descrição do método de Horner\n",
    "\n",
    "O **método de Horner** (também conhecido como **esquema de Horner**) é um algoritmo para avaliação de um polinômio de uma variável. Ele é baseado na identidade:\n",
    "\\begin{alignat*}{9} \n",
    "&c_{0}+c_{1}x+c_{2}x^{2}+c_{3}x^{3}+\\cdots +c_{N}x^{N}\\\\\n",
    "=\\ & c_{0}+x{\\bigg (}c_{1}+x{\\Big (}c_{2}+x{\\big (}c_{3}+\\cdots +x(c_{N-1}+x\\,c_{N})\\cdots {\\big )}{\\Big )}{\\bigg )}.\n",
    "\\end{alignat*}\n",
    "\n",
    "Mais precisamente, o algoritmo consiste dos seguintes passos:\n",
    "* No $ 0 $-ésimo passo, tomamos $ y = c_N $;\n",
    "* No $ k $-ésimo passo, multiplicamos o valor atual de $ y $ por $ x $ e ao resultado somamos $ c_{N-k}\\, $ ($ k = 1, \\dots, N $).\n",
    "* Ao final, retornamos $ y $.\n",
    "\n",
    "O método de Horner requer portanto $ N $ operações de adição e $ N $ de multiplicação. Em contraste, se avaliarmos o polinômio da maneira \"ingênua\", o cômputo de $ c_kx^k $ utiliza $ k + 1 $ multiplicações, portanto a avaliação do polinômio inteiro custa\n",
    "$$\n",
    "1 + 2 + \\dots + (N + 1) = \\frac{(N + 1)(N + 2)}{2} \\in O(N^2)\n",
    "$$\n",
    "multiplicações.\n",
    "\n",
    "\n",
    "📝 Pode-se provar que, para um polinômio geral, o algoritmo de Horner é *ótimo*, i.e., não existe um algoritmo que requeira um número menor de operações aritméticas. Isto foi provado por A. Ostrowski em 1954 para o número de adições e por V. Pan em 1966 para o número de multiplicações. Estes foram resultados seminais da área de *análise de algoritmos*.\n",
    "\n",
    "📝 Apesar de levar o nome do matemático inglês W. Horner (1786–1837), este algoritmo já era conhecido pelo menos 500 anos antes por matemáticos persas e chineses.\n",
    "\n",
    "### $ 7.2 $ Implementação do método de Horner"
   ]
  },
  {
   "cell_type": "code",
   "execution_count": null,
   "metadata": {},
   "outputs": [],
   "source": [
    "def horner(coefs, x):\n",
    "    \"\"\"\n",
    "    Dados um polinômio p representado pela lista de seus coeficientes\n",
    "    [c_0, c_1, ..., c_n] (onde c_k é o coeficiente do monômio de grau k)\n",
    "    e um número x, retorna o valor de p(x) calculado pelo método de Horner.\n",
    "    \"\"\"\n",
    "    y = coefs.pop()    # extrai o último coeficiente c_n da lista\n",
    "    while coefs:       # enquanto a lista de coeficientes não for vazia\n",
    "        y *= x\n",
    "        y += coefs.pop()\n",
    "    return y"
   ]
  },
  {
   "cell_type": "code",
   "execution_count": null,
   "metadata": {},
   "outputs": [],
   "source": [
    "__Problema ??:__ Complete a implementação recursiva do esquema de Horner abaixo:"
   ]
  },
  {
   "cell_type": "code",
   "execution_count": null,
   "metadata": {},
   "outputs": [],
   "source": [
    "def horner_2(coefs, x):\n",
    "    \"\"\"\n",
    "    Dados um polinômio p representado pela lista de seus coeficientes\n",
    "    [c_n, c_n-1, ..., c_0] (onde c_k é o coeficiente do monômio de grau k)\n",
    "    e um número x, retorna o valor de p(x) calculado pelo método de Horner.\n",
    "    \"\"\"\n",
    "    if not coefs:          # Se a lista de coeficientes é vazia, retorne ...\n",
    "        return ...\n",
    "    else:\n",
    "        c = coefs.pop()    # extrai o último coeficiente da lista\n",
    "        y = # operação envolvendo c e horner_2(coefs, x)\n",
    "        return y\n",
    "    \n",
    "\n",
    "# Exemplo:\n",
    "# p(x) = x^2 + 2x + 3\n",
    "coefs = [1, 2, 3]\n",
    "horner_2(coefs, 3)"
   ]
  },
  {
   "cell_type": "code",
   "execution_count": null,
   "metadata": {},
   "outputs": [],
   "source": [
    "\n",
    "def deriva_polinomio(coefs):\n",
    "    \"\"\"\n",
    "    Dado um polinômio representado pela lista de seus coeficientes\n",
    "    [c_0, c_1, ..., c_n] (onde c_k é o coeficiente do monômio\n",
    "    de grau k), retorna a lista dos coeficientes da sua derivada:\n",
    "    [1 * c_1, 2 * c_2, ..., n * c_n].\n",
    "    \"\"\"\n",
    "    coefs_derivada = list()\n",
    "    if len(coefs) == 1:\n",
    "        return [0]\n",
    "    else:\n",
    "        for k, c in enumerate(coefs[1:]):\n",
    "            coefs_derivada.append((k + 1) * c)\n",
    "        return coefs_derivada\n",
    "\n",
    "# Exemplo:\n",
    "# p(x) = 3 + 2x + x^2\n",
    "coefs = [3, 2, 1]\n",
    "deriva_polinomio(coefs)\n",
    "horner(coefs, 3)"
   ]
  },
  {
   "cell_type": "code",
   "execution_count": null,
   "metadata": {},
   "outputs": [],
   "source": [
    "## $ \\S 2 $ Exponenciação eficiente"
   ]
  },
  {
   "cell_type": "code",
   "execution_count": null,
   "metadata": {},
   "outputs": [],
   "source": [
    "\n",
    "def potencia_recursiva(b, n):\n",
    "    \"\"\" Calcula o valor de b elevado a n (n inteiro). \"\"\"\n",
    "    if n < 0:\n",
    "        return 1 / potencia_recursiva(b, -n)\n",
    "    elif n == 0:\n",
    "        return 1\n",
    "    else:\n",
    "        if n % 2 == 0:\n",
    "            return potencia_recursiva(b, n // 2)**2\n",
    "        else:\n",
    "            return b * potencia_recursiva(b, n - 1)\n",
    "\n",
    "\n",
    "def potencia_iterativa(b, n):\n",
    "    \"\"\" Calcula o valor de b elevado a n (n inteiro). \"\"\"\n",
    "    def pot_iter(b, n, produto):\n",
    "        if n < 0:\n",
    "            return 1 / potencia_iterativa(b, -n)\n",
    "        elif n == 0:\n",
    "            return 1\n",
    "        else:\n",
    "            if n % 2 == 0:\n",
    "                return pot_iter(b**2, n // 2, produto)\n",
    "            else:\n",
    "                return pot_iter(b, n - 1, b * produto)\n",
    "\n",
    "    \n",
    "    return pot_iter(b, n, 1)\n",
    "    \n",
    "    "
   ]
  },
  {
   "cell_type": "code",
   "execution_count": null,
   "metadata": {},
   "outputs": [],
   "source": [
    "def plota_grafico(f, a, b):\n",
    "    \"\"\"\n",
    "    Plota o gráfico de uma função f de uma variável no intervalo\n",
    "    [a, b] (ou [b, a], se b < a), usando a biblioteca Matplotlib.\n",
    "    \"\"\"\n",
    "    import numpy as np\n",
    "    import matplotlib.pyplot as plt\n",
    "    \n",
    "    xs = np.linspace(a, b, num=201)\n",
    "    ys = [f(x) for x in xs]\n",
    "    plt.plot(xs, ys, '-', label=\"y = f(x)\")\n",
    "    plt.grid(True)\n",
    "    plt.xlabel('x')\n",
    "    plt.ylabel('y')\n",
    "    plt.legend(loc=\"upper left\")\n",
    "    plt.show()\n",
    "    return None"
   ]
  },
  {
   "cell_type": "code",
   "execution_count": null,
   "metadata": {},
   "outputs": [],
   "source": [
    "xs = [-1, 0, 1]\n",
    "ys = [1, 0, 1]\n",
    "p = lagrange(xs, ys)\n",
    "p(2)\n",
    "a = 4\n",
    "b = -4\n",
    "plota_grafico(p, a, b)"
   ]
  }
 ],
 "metadata": {
  "language_info": {
   "name": "python"
  },
  "orig_nbformat": 4
 },
 "nbformat": 4,
 "nbformat_minor": 2
}
