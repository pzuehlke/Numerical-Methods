{
 "cells": [
  {
   "attachments": {},
   "cell_type": "markdown",
   "metadata": {},
   "source": [
    "# Métodos numéricos para cálculo com polinômios\n",
    "\n",
    "## $ \\S 1 $ Introdução\n",
    "\n",
    "Os zeros reais de polinômios com coeficientes reais podem ser calculados pelos\n",
    "vários métodos estudados nos cadernos anteriores. Contudo, para determinar as\n",
    "raízes complexas, é melhor utilizar um método especializado em polinômios. Aqui\n",
    "apresentaremos apenas o _método de Laguerre_, que é confiável e de simples\n",
    "implementação.\n",
    "\n",
    "Antes precisaremos considerar dois algoritmos de interesse independente, um para\n",
    "se avaliar de maneira eficiente um polinômio e suas derivadas, e o outro para\n",
    "_deflacionar_ um polinômio uma vez determinada uma raiz $ \\zeta $, ou seja, para\n",
    "dividi-lo por $ (z - \\zeta) $.\n",
    "\n",
    "📝 Em todo este caderno,\n",
    "$$\n",
    "p\\colon \\mathbb C \\to \\mathbb C, \\quad\n",
    "p(z) = c_nz^n + c_{n - 1}z^{n - 1} + \\cdots + c_1 z + c_0 \\qquad\n",
    "(c_k \\in \\mathbb C)\n",
    "$$ \n",
    "é um polinômio com coeficientes complexos. Recorde do caderno anterior que as\n",
    "derivadas de $ p $ são dadas pelas mesmas expressões que no caso de\n",
    "um polinômio com coeficientes reais.\n",
    "\n",
    "\n",
    "## $ \\S 2 $ O método de Horner para avaliação de polinômios\n",
    "\n",
    "### $ 2.1 $ Descrição do método de Horner\n",
    "\n",
    "O __método de Horner__ (também conhecido como __esquema de Horner__) é um\n",
    "algoritmo para avaliação de um polinômio de uma variável. Ele é baseado na\n",
    "identidade:\n",
    "\\begin{alignat*}{9} \n",
    "&c_{0}+c_{1}z+c_{2}z^{2}+c_{3}z^{3}+\\cdots +c_{n}z^{n}\\\\\n",
    "=\\ & c_{0}+z{\\bigg (}c_{1}+z{\\Big (}c_{2}+z{\\big (}c_{3}+\\cdots +z(c_{n-1}+z\\,c_{n})\\cdots {\\big )}{\\Big )}{\\bigg )}.\n",
    "\\end{alignat*}\n",
    "\n",
    "Mais precisamente, o algoritmo consiste dos seguintes passos:\n",
    "* No $ 0 $-ésimo passo, tomamos $ y = c_n $;\n",
    "* Para cada $ k = 1, \\dots, n $ sucessivamente, multiplicamos o valor atual de $\n",
    "  y $ por $ z $ e ao resultado somamos $ c_{n-k}\\, $.\n",
    "* Ao final, retornamos $ y $.\n",
    "\n",
    "📝 Apesar de levar o nome do matemático inglês W. Horner (1786–1837), este\n",
    "algoritmo já era conhecido pelo menos 500 anos antes por matemáticos persas e\n",
    "chineses.\n",
    "\n",
    "__Exemplo 1:__ Seja $ p(z) = z^2 - i z + (1 + i) $. Usando o método de Horner,\n",
    "avalie $ p $ em $ z_0 = 2 - 3i $.\n",
    "\n",
    "_Solução:_\n",
    "\\begin{alignat*}{9}\n",
    "y &\\leftarrow 1 \\\\\n",
    "y &\\leftarrow 1\\,(2 - 3i) - i = 2 - 4i \\\\\n",
    "y &\\leftarrow (2 - 4i)\\,(2 - 3i) + 1 + i = -7 - 13i\\,.\n",
    "\\end{alignat*}\n",
    "\n",
    "__Problema 1:__ Usando o método de Horner, avalie:\n",
    "\n",
    "(a) $ p(z) = (2 - 2 i) + (1 + 5 i) z - (3 + 2 i) z^2 + z^3 $ em $ z_0 = i $.\n",
    "\n",
    "(b) $ q(z) = z^4 - z^3 + z^2 - z + 1 $ em $ z_0 = 1 - i $.\n",
    "\n",
    "\n",
    "### $ 2.2 $ Análise de desempenho do método de Horner\n",
    "\n",
    "O método de Horner requer $ n $ operações de adição e $ n $ de\n",
    "multiplicação. Em contraste, se avaliarmos o polinômio da maneira \"ingênua\", o\n",
    "cômputo de $ c_kx^k $ utiliza $ k + 1 $ multiplicações, portanto a avaliação do\n",
    "polinômio inteiro custa\n",
    "$$\n",
    "1 + 2 + \\dots + (n + 1) = \\frac{(n + 1)(n + 2)}{2} \\in O(n^2)\n",
    "$$\n",
    "multiplicações.\n",
    "\n",
    "Além da economia no número de passos, o número menor de multiplicações causa uma\n",
    "redução substancial do acúmulo de erros de aproximação (arredondamento) na\n",
    "avaliação de $ p $, por isto o método de Horner deve sempre ser preferido.\n",
    "\n",
    "📝 Pode-se provar que, para um polinômio geral, o algoritmo de Horner é *ótimo*,\n",
    "i.e., não existe um algoritmo que requeira um número menor de operações\n",
    "aritméticas. Isto foi provado por A. Ostrowski em 1954 para o número de adições\n",
    "e por V. Pan em 1966 para o número de multiplicações. Estes foram resultados\n",
    "seminais da área de *análise de algoritmos*.\n",
    "\n",
    "\n",
    "### $ 2.3 $ Implementação do método de Horner"
   ]
  },
  {
   "cell_type": "code",
   "execution_count": 26,
   "metadata": {},
   "outputs": [],
   "source": [
    "def horner(coefs: list[complex], z: complex) -> complex:\n",
    "    \"\"\"\n",
    "    Given a complex polynomial p represented by the list of its coefficients\n",
    "    [c_0, c_1, ..., c_n] (where c_k is the coefficient of z^k), returns the\n",
    "    value of p(z) calculated by Horner's method.\n",
    "    \"\"\"\n",
    "    y = coefs.pop()    # Extract the last coefficient c_n from the list.\n",
    "    while coefs:       # While the list of coefficients is not empty:\n",
    "        y *= z\n",
    "        y += coefs.pop()\n",
    "    return y"
   ]
  },
  {
   "attachments": {},
   "cell_type": "markdown",
   "metadata": {},
   "source": [
    "📝 Observe que o esquema de Horner já tinha sido utilizado por nós (ainda que\n",
    "não sob este nome) para determinar de maneira eficiente um número inteiro\n",
    "$ n $ dada sua representação $ (c_n\\,c_{n-1}\\, \\cdots c_1\\,c_0)_b $ numa base\n",
    "$ b $ diferente da decimal. De fato, $ n = p(b) $ para $ p $ como acima."
   ]
  },
  {
   "attachments": {},
   "cell_type": "markdown",
   "metadata": {},
   "source": [
    "__Problema 2:__ Complete a implementação __recursiva__ (i.e., que chama a si\n",
    "própria) do esquema de Horner esboçada abaixo:"
   ]
  },
  {
   "cell_type": "code",
   "execution_count": 17,
   "metadata": {},
   "outputs": [],
   "source": [
    "def recursive_horner(coefs: list[complex], z: complex) -> complex:\n",
    "    \"\"\"\n",
    "    Given a complex polynomial p represented by the list of its coefficients\n",
    "    [c_0, c_1, ..., c_n] (where c_k is the coefficient of z^k), returns the\n",
    "    value of p(z) calculated by Horner's method.\n",
    "    \"\"\"\n",
    "    if not coefs:          # Se a lista de coeficientes é vazia, retorne ...\n",
    "        return ...\n",
    "    else:\n",
    "        c = coefs.pop()    # Extrai o último coeficiente da lista\n",
    "        y = ...            # Operação envolvendo c e recursive_horner(coefs, z).\n",
    "        return y"
   ]
  },
  {
   "attachments": {},
   "cell_type": "markdown",
   "metadata": {},
   "source": [
    "📝 Recorde que em Python um número complexo $ a + bi $ é representado usando a\n",
    "notação `a + bj`; o tipo dos números complexos é `complex`.\n",
    "\n",
    "__Exemplo 2:__"
   ]
  },
  {
   "cell_type": "code",
   "execution_count": 2,
   "metadata": {},
   "outputs": [
    {
     "ename": "SyntaxError",
     "evalue": "invalid syntax (1404722679.py, line 6)",
     "output_type": "error",
     "traceback": [
      "\u001b[0;36m  Cell \u001b[0;32mIn[2], line 6\u001b[0;36m\u001b[0m\n\u001b[0;31m    print(1 + sqrt(3)j)        # Sintaxe errada!\u001b[0m\n\u001b[0m                     ^\u001b[0m\n\u001b[0;31mSyntaxError\u001b[0m\u001b[0;31m:\u001b[0m invalid syntax\n"
     ]
    }
   ],
   "source": [
    "from numpy import sqrt\n",
    "\n",
    "print(1 + .23j)            # 1 + 0.23i\n",
    "print(1j)                  # i\n",
    "print(1 + sqrt(3) * 1j)    # 1 + √3i\n",
    "print(1 + sqrt(3)j)        # Sintaxe errada!"
   ]
  },
  {
   "attachments": {},
   "cell_type": "markdown",
   "metadata": {},
   "source": [
    "__Problema 3:__ Verifique as suas respostas ao Problema 1 usando as implementações acima.\n",
    "\n",
    "_Solução:_"
   ]
  },
  {
   "cell_type": "code",
   "execution_count": null,
   "metadata": {},
   "outputs": [],
   "source": []
  },
  {
   "attachments": {},
   "cell_type": "markdown",
   "metadata": {},
   "source": [
    "## $ \\S 3 $ Algoritmo de Horner para cálculo das derivadas"
   ]
  },
  {
   "attachments": {},
   "cell_type": "markdown",
   "metadata": {},
   "source": [
    "### $ 3.1 $ Descrição do método de Horner para o cálcula das derivadas\n",
    "\n",
    "Uma pequena variação do algoritmo de Horner nos permite avaliar não só um\n",
    "polinômio\n",
    "$$\n",
    "p(z) = c_{0}+c_{1}z+c_{2}z^{2}+c_{3}z^{3}+\\cdots +c_{n}z^{n}\n",
    "$$\n",
    "num ponto dado, mas também as suas derivadas de ordens\n",
    "$ 1,\\,2,\\, \\dots $. Aqui consideraremos apenas o cálculo das duas primeiras\n",
    "derivadas, já que este também será usado no método de Laguerre.\n",
    "\n",
    "Em outra formulação, o algoritmo de Horner consiste da construção da seqüência\n",
    "de polinômios\n",
    "\\begin{alignat*}{9}\n",
    "p_0(z) &= c_n \\\\\n",
    "p_1(z) &= c_{n - 1} + z\\,p_0(z) \\\\\n",
    "p_2(z) &= c_{n - 2} + z\\,p_1(z) \\\\\n",
    "\\phantom{p_3(z)} &\\ \\ \\vdots \\\\\n",
    "p_k(z) &= c_{n - k} + z\\,p_{k - 1}(z) \\\\\n",
    "\\phantom{p_3(z)} &\\ \\ \\vdots \\\\\n",
    "p(z) = p_n(z) &= c_0 + z\\,p_{n - 1}(z)\n",
    "\\end{alignat*}\n",
    "Derivando duas vezes, deduzimos as relações:\n",
    "\\begin{equation*}\n",
    "    \\begin{cases}\n",
    "        p_0'(z) = 0 \\\\\n",
    "        p_k'(z) = p_{k - 1}(z) + z\\,p_{k - 1}'(z)\n",
    "    \\end{cases}\n",
    "\\qquad \n",
    "    \\begin{cases}\n",
    "        p_0''(z) = 0 \\\\\n",
    "        p_k''(z) = 2p_{k - 1}'(z) + z\\,p_{k - 1}''(z)\n",
    "    \\end{cases}\n",
    "\\qquad (k = 1, 2, \\cdots, n)\\,.\n",
    "\\end{equation*}\n",
    "Podemos portanto aproveitar os resultados intermediários no algoritmo de Horner\n",
    "de modo que também sejam calculadas os valores de $ p' $ e $ p'' $ num ponto\n",
    "qualquer.\n",
    "\n",
    "__Exemplo 3:__ Suponha que queiramos avaliar $ p $ e $ p' $ em\n",
    "$ z_0 = 1 + i $, onde\n",
    "$$\n",
    "p(z) = 2iz^3 - 3z^2 + z + 3 + 2i\\,.\n",
    "$$\n",
    "Seguindo o método de Horner, fazemos:\n",
    "\\begin{alignat*}{9}\n",
    "p_0(z_0) &= 2i&&   \\qquad &p_0'(z_0) &= 0&& \\\\\n",
    "p_1(z_0) &= -3 + 2i\\,(1 + i) &&= -5 + 2i\n",
    "\\qquad &p_1'(z_0) &= 2i + 0\\,(1 + i) &&= 2i \\\\\n",
    "p_2(z_0) &= 1 + (-5 + 2i)\\,(1 + i) &&= -6 - 3i\n",
    "\\qquad &p_2'(z_0) &= -5 + 2i + 2i\\,(1 + i) &&= -7 + 4i \\\\\n",
    "p_3(z_0) &= (3 + 2i) -(6 + 3i)\\,(1 + i) &&= -7i\n",
    "\\qquad &p_3'(z_0) &= -6-3i + (-7 + 4i)\\,(1 + i) &&= -17 - 6i\n",
    "\\end{alignat*}\n",
    "Portanto\n",
    "$$\n",
    "p(1 + i) = p_3(z_0) = -7i \\qquad \\text{e} \\qquad p'(1 + i) = p_3'(z_0) = -17 - 6i\\,.\n",
    "$$"
   ]
  },
  {
   "attachments": {},
   "cell_type": "markdown",
   "metadata": {},
   "source": [
    "__Problema 4:__ Utilizando as contas feitas no Exemplo 3, calcule $ p''(z_0) $ usando o método de Horner."
   ]
  },
  {
   "cell_type": "markdown",
   "metadata": {},
   "source": [
    "_Solução:_"
   ]
  },
  {
   "attachments": {},
   "cell_type": "markdown",
   "metadata": {},
   "source": [
    "__Problema 5 (método de Horner para derivadas de ordem superior):__ Seja\n",
    "$$\n",
    "p(z) = c_{0}+c_{1}z+c_{2}z^{2}+c_{3}z^{3}+\\cdots +c_{n}z^{n}\\,.\n",
    "$$\n",
    "\n",
    "(a) Mostre que a terceira derivada $ p^{(3)} = p''' $ de $ p $ pode ser\n",
    "calculada de maneira seqüencial através das relações:\n",
    "$$\n",
    "p_0^{(3)}(z) = 0, \\quad p_k^{(3)}(z) = 3p_{k - 1}''(z) + z\\,p_{k - 1}^{(3)}(z) \\qquad (k = 1, 2, \\dots, n)\n",
    "$$\n",
    "de modo que $ p^{(3)}(z) = p_n^{(3)}(z)\\, $. _Dica:_ Derive os polinômios\n",
    "$ p_k'' $ utilizados no cálculo da segunda derivada de $ p $.\n",
    "\n",
    "(b) Generalizando, mostre que a $ r $-ésima derivada $ p^{(r)}(z) $ é dada\n",
    "por $ p_n^{(r)}(z) $ onde:\n",
    "$$\n",
    "p_0^{(r)}(z) = 0, \\quad p_k^{(r)}(z) =\n",
    "rp_{k - 1}^{(r-1)}(z) + z\\,p_{k - 1}^{(r)}(z) \\qquad (k = 1, 2, \\dots, n)\\,.\n",
    "$$"
   ]
  },
  {
   "attachments": {},
   "cell_type": "markdown",
   "metadata": {},
   "source": [
    "### $ 3.2 $ Implementação do método de Horner para cálcula de um polinômio e de suas derivadas"
   ]
  },
  {
   "cell_type": "code",
   "execution_count": 25,
   "metadata": {},
   "outputs": [],
   "source": [
    "def horner_deriv(coefs: list[complex], z: complex\n",
    "                 ) -> tuple[complex, complex, complex]:\n",
    "    \"\"\"\n",
    "    Given a polynomial p represented by the list of its coefficients\n",
    "    [c_0, c_1, ..., c_n] (where c_k is the coefficient of z^k) and a number z,\n",
    "    evaluates the polynomial, its first derivative, and its second derivative\n",
    "    at the point z and returns the corresponding values (y, dy, ddy).\n",
    "    \"\"\"\n",
    "    n = len(coefs) - 1\n",
    "    y = coefs.pop()     # Initial value for the polynomial.\n",
    "    dy = 0.0 + 0.0j     # Initial value for the first derivative.\n",
    "    ddy = 0.0 + 0.0j    # Initial value for the second derivative.\n",
    "\n",
    "    # Iterate through the coefficients, updating the polynomial and its\n",
    "    # derivatives at each step:\n",
    "    for k in range(1, n + 1):\n",
    "        ddy = ddy * z + 2.0 * dy\n",
    "        dy = dy * z + y\n",
    "        y = y * z + coefs.pop()\n",
    "\n",
    "    return y, dy, ddy"
   ]
  },
  {
   "attachments": {},
   "cell_type": "markdown",
   "metadata": {},
   "source": [
    "## $ \\S 4 $ Deflação de polinômios\n",
    "\n",
    "### $ 4.1 $ Descrição do método de deflação polinomial\n",
    "\n",
    "Suponha que $ r $ seja um zero de um polinômio\n",
    "\\begin{equation*}\\label{E:1}\n",
    "p(z) = c_{0}+c_{1}z+c_{2}z^{2}+c_{3}z^{3}+\\cdots +c_{n}z^{n}\\,. \\tag{1}\n",
    "\\end{equation*}\n",
    "de grau $ n $. Então, como visto no caderno anterior, podemos fatorar $ p $ como\n",
    "\\begin{equation*}\\label{E:2}\n",
    "p(z) = (z - r)\\,q(z) \\tag{2}\n",
    "\\end{equation*}\n",
    "onde $ q $ tem grau $ n - 1 $.  Para encontrar $ q(z) $, basta dividir $ p(z) $\n",
    "por $ (z - r) $. Entretanto, pela forma especial do divisor, há um método muito\n",
    "mais eficiente, conhecido neste contexto por __deflação__.  Observe que os zeros\n",
    "restantes de $ p $ devem ser zeros de $ q $.  Portanto a deflação reduz o grau\n",
    "do polinômio a cada raiz encontrada, facilitando a busca pelas outras raízes.\n",
    "Além disto, a deflação elimina a chance de calcularmos a mesma raiz mais de uma\n",
    "vez. \n",
    "\n",
    "Seja\n",
    "\\begin{equation*}\\label{E:3}\n",
    "q(z) = b_0 + b_1z + b_2z^2 + \\cdots + b_{n-1}z^{n-1}\\,. \\tag{3}\n",
    "\\end{equation*}\n",
    "Substituindo \\eqref{E:1} e \\eqref{E:3} em \\eqref{E:2}, deduzimos que\n",
    "$$\n",
    "c_0 + c_1z + c_2z^2 + \\cdots + c_{n-1}z^{n-1} + c_nz^n =\n",
    "(z - r)(b_0 + b_1z + \\cdots + b_{n - 2}z^{n - 2} + b_{n-1}z^{n-1})\n",
    "$$\n",
    "Igualando os coeficientes de potências iguais de $ z $, obtemos sucessivamente:\n",
    "$$\n",
    "b_{n-1} = c_n\\,, \\quad b_{n - 2} = c_{n - 1} + rb_{n - 1}\\,, \\quad \\cdots\n",
    "\\quad b_k = c_{k + 1} + rb_{k + 1}\\,,\\quad \\cdots \\quad b_0 = c_1 + rb_1\\,.\n",
    "$$\n"
   ]
  },
  {
   "attachments": {},
   "cell_type": "markdown",
   "metadata": {},
   "source": [
    "__Problema 6:__ Em cada item abaixo, são dados um polinômio $ p $ e uma \n",
    "de suas raízes $ r $. Aplique o algoritmo de deflação a ele para encontrar\n",
    "o quociente de $ p $ por $ (z - r) $.\n",
    "\n",
    "(a) $ p(z) = z^4 - z^3 - 5 z^2 - z - 6 $ e $ r = -2 $.\n",
    "\n",
    "(b) $ p(z) = 3z^3 - 19z^2 + 45z - 13 $ e $ r = 3 - 2i $.\n",
    "\n",
    "(c) $ p(z) = z^4 - 5 z^3 + 10 z^2 - 10 z + 4 $ e $ r = -1 + i $."
   ]
  },
  {
   "attachments": {},
   "cell_type": "markdown",
   "metadata": {},
   "source": [
    "_Solução:_"
   ]
  },
  {
   "cell_type": "markdown",
   "metadata": {},
   "source": [
    "\n",
    "### $ 4.2 $ Implementação da deflação polinomial"
   ]
  },
  {
   "cell_type": "code",
   "execution_count": null,
   "metadata": {},
   "outputs": [],
   "source": [
    "def deflation(coefs: list[complex], r: complex) -> list[complex]:\n",
    "    \"\"\"\n",
    "    Deflates a polynomial p represented by its list of coefficients `coefs`\n",
    "    (from lowest to highest degree) by dividing it by a linear factor (z - r),\n",
    "    where r is a complex root of the polynomial. Returns a list of complex\n",
    "    numbers, representing the coefficients of the deflated polynomial.\n",
    "    \"\"\"\n",
    "    n = len(coefs) - 1           # n = degree of p.\n",
    "    new_coefs = [0] * n          # Initialize the list of new coefficients.\n",
    "    new_coefs[n - 1] = coefs[n]  # Set the first new coefficient.\n",
    "    \n",
    "    # Perform the deflation algorithm:\n",
    "    for k in range(n - 1, 0, -1):\n",
    "        new_coefs[k - 1] = coefs[k] + r * new_coefs[k]\n",
    "    return new_coefs"
   ]
  },
  {
   "attachments": {},
   "cell_type": "markdown",
   "metadata": {},
   "source": [
    "__Problema 7:__ Usando a implementação acima, deflacione os polinômios\n",
    "seguintes a um polinômio de grau $ 3 $ dada a raiz $ r $ indicada:\n",
    "\n",
    "(a) $ p(z) = z^5 + 10 z^4 + 19 z^3 - 24 z^2 - 82 z - 84 $ e $ r = 1 + i $.\n",
    "\n",
    "(b) $ p(z) = z^5 - 30z^4 + 361z^3 - 2178z^2 + 6588z - 7992 $ e $ r = -6 - i $.\n",
    "\n",
    "_Dica:_ Como estes polinômios têm coeficientes reais, as suas raízes complexas\n",
    "vêm em pares conjugados. Deflacione $ p $ duas vezes."
   ]
  },
  {
   "cell_type": "markdown",
   "metadata": {},
   "source": [
    "_Solução:_"
   ]
  },
  {
   "cell_type": "code",
   "execution_count": null,
   "metadata": {},
   "outputs": [],
   "source": []
  },
  {
   "attachments": {},
   "cell_type": "markdown",
   "metadata": {},
   "source": [
    "## $ \\S 5 $ Método de Laguerre\n",
    "\n",
    "📝 Recorde do caderno anterior que se $ p(z) $ é um polinômio com coeficientes\n",
    "_reais_, então suas raízes não-reais vêm em pares conjugados. Portanto ao\n",
    "encontrar uma delas automaticamente deduzimos mais outra."
   ]
  },
  {
   "attachments": {},
   "cell_type": "markdown",
   "metadata": {},
   "source": [
    "## $ \\S 6 $ Exponenciação eficiente"
   ]
  },
  {
   "cell_type": "code",
   "execution_count": 3,
   "metadata": {},
   "outputs": [],
   "source": [
    "def power(b: float, n: int) -> float:\n",
    "    \"\"\" Recursively calculates the value of b raised\n",
    "        to the n-th power (n is an integer).\n",
    "    \"\"\"\n",
    "    if n < 0:\n",
    "        return 1 / power(b, -n)\n",
    "    elif n == 0:\n",
    "        return 1\n",
    "    else:\n",
    "        if n % 2 == 0:\n",
    "            return power(b, n // 2)**2\n",
    "        else:\n",
    "            return b * power(b, n - 1)"
   ]
  },
  {
   "cell_type": "code",
   "execution_count": 11,
   "metadata": {},
   "outputs": [],
   "source": [
    "def plot_function(f, a, b):\n",
    "    \"\"\"\n",
    "    Plots the graph of a single-variable function f in the interval\n",
    "    [a, b] (or [b, a], if b < a), using Matplotlib.\n",
    "    \"\"\"\n",
    "    import numpy as np\n",
    "    import matplotlib.pyplot as plt\n",
    "    \n",
    "    xs = np.linspace(a, b, num=401)\n",
    "    ys = f(xs)\n",
    "    plt.plot(xs, ys, '-', label=\"$ y = f(x) $\")\n",
    "    plt.grid(True)\n",
    "    plt.xlabel('$ x $')\n",
    "    plt.ylabel('$ y $')\n",
    "    plt.legend()\n",
    "    plt.show()\n",
    "    return None\n"
   ]
  },
  {
   "cell_type": "code",
   "execution_count": 14,
   "metadata": {},
   "outputs": [
    {
     "data": {
      "image/png": "[encoded data removed]",
      "text/plain": [
       "<Figure size 640x480 with 1 Axes>"
      ]
     },
     "metadata": {},
     "output_type": "display_data"
    }
   ],
   "source": [
    "xs = [-1, 0, 1]\n",
    "ys = [1, 0, 1]\n",
    "p = lambda x: x**2 + x - 3\n",
    "p(2)\n",
    "a = 4\n",
    "b = -4\n",
    "plot_function(p, b, a)"
   ]
  },
  {
   "cell_type": "code",
   "execution_count": null,
   "metadata": {},
   "outputs": [],
   "source": []
  }
 ],
 "metadata": {
  "kernelspec": {
   "display_name": "Python 3",
   "language": "python",
   "name": "python3"
  },
  "language_info": {
   "codemirror_mode": {
    "name": "ipython",
    "version": 3
   },
   "file_extension": ".py",
   "mimetype": "text/x-python",
   "name": "python",
   "nbconvert_exporter": "python",
   "pygments_lexer": "ipython3",
   "version": "3.9.2"
  },
  "orig_nbformat": 4
 },
 "nbformat": 4,
 "nbformat_minor": 2
}
