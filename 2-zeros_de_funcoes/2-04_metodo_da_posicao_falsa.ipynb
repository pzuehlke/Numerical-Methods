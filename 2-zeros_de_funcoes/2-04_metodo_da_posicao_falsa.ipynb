{
 "cells": [
  {
   "cell_type": "code",
   "execution_count": 2,
   "id": "965db028-d5df-4ad5-bf8f-69eb5006b873",
   "metadata": {},
   "outputs": [],
   "source": [
    "import matplotlib.pyplot as plt\n",
    "import numpy as np\n",
    "from typing import Callable\n",
    "%matplotlib qt"
   ]
  },
  {
   "attachments": {},
   "cell_type": "markdown",
   "id": "bdc74ad5",
   "metadata": {},
   "source": [
    "# O método da posição falsa"
   ]
  },
  {
   "attachments": {},
   "cell_type": "markdown",
   "id": "1915eb9b",
   "metadata": {},
   "source": [
    "## $ \\S 1 $ Descrição do método da posição falsa\n",
    "\n",
    "Suponha que a função real contínua $ f \\colon [a, b] \\to \\mathbb R $ seja tal que\n",
    "$$\n",
    "    \\operatorname{sinal} f(a) \\ne \\operatorname{sinal} f(b)\\,.\n",
    "$$\n",
    "Assim como o método da bissecção, o __método da posição falsa__ começa com as\n",
    "duas estimativas $ a $ e $ b $ para um zero. Mas em vez de tomar a próxima\n",
    "estimativa como o ponto médio destes, construímos a reta pelos pontos\n",
    "$$\n",
    "    \\big(a, f(a)\\big) \\quad \\text{e} \\quad \\big(b,f(b)\\big)\n",
    "$$\n",
    "e encontramos o ponto onde ela cruza o eixo-$x$, definindo $ c $ como sua\n",
    "primeira coordenada. Este seria exatamente o zero de $ f $ caso ela fosse linear\n",
    "entre $ a $ e $ b $, mas em geral isto não acontecerá. Portanto há três\n",
    "possibilidades:\n",
    "* Se $ f(c) = 0 $, então $ c $ é um zero de $ f $ e podemos terminar.\n",
    "* Se $ \\operatorname{sinal} f(c) \\neq \\operatorname{sinal} f(a) $, então $ f $\n",
    "  troca de sinal em $ [a, c] $. Neste caso fazemos $ b \\leftarrow c $.\n",
    "* Se $ \\operatorname{sinal} f(c) = \\operatorname{sinal} f(a) $, então $ f $\n",
    "  troca de sinal em $ [c, b] $. Neste caso fazemos $ a \\leftarrow c $.\n",
    "\n",
    "Nos dois últimos casos repetimos o procedimento usando o novo intervalo $ [a, b]\n",
    "$ em lugar do original e assim sucessivamente, até que seja satisfeito o\n",
    "critério de parada. Observe que em cada iteração temos a garantia da existência\n",
    "de um zero dentro do intervalo sob consideração, pois $ f $ troca de sinal aí.\n",
    "\n",
    "📝 O método da posição falsa também é conhecido como método _regula falsi_.\n",
    "\n",
    "__Exemplo 1:__ Execute em seqüência as três células abaixo para ver uma animação\n",
    "do método da posição falsa aproximando o zero da função $ f(x) = 1 + x\\cos x + \\sin(2x) $\n",
    "em $ 1.8394 $ (aproximadamente)."
   ]
  },
  {
   "cell_type": "code",
   "execution_count": 45,
   "id": "11b9dfc7-b8dd-49fd-b496-af358d7b3c86",
   "metadata": {
    "tags": []
   },
   "outputs": [],
   "source": [
    "def print_solution(xs: list[float], ys: list[float], freq: int = 1) -> None:\n",
    "    \"\"\"\n",
    "    Given two arrays xs and ys of the same length, prints a table whose n-th\n",
    "    line consists of three entries: the values of n, xs[n] and ys[n].\n",
    "    Parameters:\n",
    "        * The arrays xs and ys. \n",
    "        * A parameter freq used to print only one in every freq line. The\n",
    "          first, second and last line are always printed. If freq == 0, then\n",
    "          only these lines are printed.\n",
    "    Output: None.\n",
    "    Prints: A header and the table described above.\n",
    "    \"\"\"\n",
    "    def print_header() -> None:\n",
    "        \"\"\"\n",
    "        Prints the table's header.\n",
    "        \"\"\"\n",
    "        print(\"\\n|       n      \", end=\"\")\n",
    "        print(\"    x_n            \", end=\"\")\n",
    "        print(\"    f(x_n)      |\")\n",
    "        print(\"|=================================================|\")\n",
    "        \n",
    "    def print_line(n: int, x: float, y: float) -> None:\n",
    "        \"\"\"\n",
    "        Pretty-prints n, x and y.\n",
    "        \"\"\"\n",
    "        if n == 0:\n",
    "            print(f\"|       a\", end=\"\")\n",
    "        elif n == 1:\n",
    "            print(f\"|       b\", end=\"\")\n",
    "        else:\n",
    "            print(f\"|      {n - 1:02}\", end=\"\")\n",
    "        print(f\"    {x:15.8f}\", end=\"\")\n",
    "        print(f\"    {y:15.8f}   |\")\n",
    "    \n",
    "    \n",
    "    N = len(xs)\n",
    "    if freq == 0:       # If freq == 0, print only first and last lines.\n",
    "        freq = N - 1\n",
    "    print_header()\n",
    "    for n in range(0, 2):\n",
    "        print_line(n, xs[n], ys[n])\n",
    "    for n in range(2, N, freq):\n",
    "        print_line(n, xs[n], ys[n])\n",
    "    if n != N - 1:\n",
    "        print_line(n, xs[N - 1], ys[N - 1])\n",
    "    print(\"|_________________________________________________|\\n\")\n",
    "        \n",
    "    return None"
   ]
  },
  {
   "cell_type": "code",
   "execution_count": 3,
   "id": "ff869a26",
   "metadata": {},
   "outputs": [],
   "source": [
    "\n",
    "def false_position_animation(f: Callable[[float], float], a: float, b: float,\n",
    "                        N: int = 4, title: str = \"\", duration: float = 0.75\n",
    "                        ) -> tuple[list[float], list[float]]:\n",
    "    \"\"\"\n",
    "    Displays an animation of the false position (a.k.a. regula falsi) method\n",
    "    applied to a function.\n",
    "    Parameters:\n",
    "        * A continuous real function f.\n",
    "        * The two endpoints a and b of an interval such that f(a)f(b) < 0.\n",
    "        * The maximum number N of iterations.\n",
    "        * A title to be displayed at the top of the diagram.\n",
    "        * The duration of the pause between slides of the animation, in seconds.\n",
    "          Set duration = 0 to produce a figure instead of an animation.\n",
    "    Returns:\n",
    "        * Two lists xs and ys containing the estimates and the values of the\n",
    "          function f at each of them.\n",
    "    Displays:\n",
    "        * The animation in a pop-up window.\n",
    "    \"\"\"\n",
    "    import matplotlib.pyplot as plt\n",
    "    import numpy as np\n",
    "    \n",
    "    \n",
    "    def pause(duration):\n",
    "        \"\"\"\n",
    "        Pauses the animation for duration seconds, provided duration > 0.\n",
    "        \"\"\"\n",
    "        if duration > 0:\n",
    "            plt.pause(duration)\n",
    "\n",
    "    def iterate(a, b):\n",
    "        \"\"\"\n",
    "        Applies a single step of the false position method to the interval\n",
    "        [a, b]. Returns the next estimate and the left, right endpoints\n",
    "        of the next interval.\n",
    "        \"\"\"\n",
    "        c = (a * f(b) - b * f(a)) / (f(b) - f(a)) \n",
    "        if np.sign(f(a)) != np.sign(f(c)):     # [a, c] contains a zero.\n",
    "            return c, a, c\n",
    "        else:                                  # [c, b] contains a zero.\n",
    "            return c, c, b\n",
    "\n",
    "\n",
    "    cmap = plt.get_cmap(\"tab10\")               # Used to control the colors.\n",
    "    P = 200                                    # Number of points in each plot.\n",
    "    width = 1.75                               # Line width.\n",
    "    marker_size = 5\n",
    "    domain = np.linspace(a, b, P)              # Generates P nodes from a to b.\n",
    "    xs = [a, b]                                # Stores the estimates.\n",
    "    ys = [f(a), f(b)]                          # Stores f of the estimates.\n",
    "    # Creating lists to store the sample points for the lines between\n",
    "    # consecutive estimates:\n",
    "    xs_line = [np.linspace(a, b, P)]\n",
    "    ys_line = [np.linspace(f(a), f(b), P)]\n",
    "    for _ in range(N):                         # Filling xs.\n",
    "        c, a, b = iterate(a, b)\n",
    "        xs.append(c)\n",
    "        xs_line.append(np.linspace(a, b, P))   # Filling xs_line.\n",
    "        ys_line.append(np.linspace(f(a), f(b), P))    # Filling ys_line.\n",
    "    ys = [f(x) for x in xs]                    # Stores f of the estimates.\n",
    "    # Lists containing the x and y coordinates for plotting vertical lines:\n",
    "    xs_vert = [np.linspace(xs[n], xs[n], P) for n in range(N + 2)]\n",
    "    ys_vert = [np.linspace(0, ys[n], P) for n in range(N + 2)]\n",
    "    \n",
    "    # Draw the graph of f:\n",
    "    plt.axhline(y=0.0, color='black', linestyle='-', lw=width)\n",
    "    plt.xlabel(\"$ x $-axis\")\n",
    "    plt.ylabel(\"$ y $-axis\")\n",
    "    plt.title(title)\n",
    "    plt.grid(True)\n",
    "    plt.plot(domain, f(domain), label=\"$ y = f(x) $\", lw=width)\n",
    "    plt.legend()\n",
    "\n",
    "    # Mark a on the x-axis and draw the vertical line x = a:\n",
    "    pause(duration)\n",
    "    plt.plot(xs[0], 0, marker=\"x\", mew=width, label='$ a $')\n",
    "    pause(duration)\n",
    "    plt.plot(xs_vert[0], ys_vert[0], linestyle='dotted',\n",
    "             color=cmap(1), lw=width)\n",
    "    plt.plot(xs[0], 0, marker=\"x\", mew=width, color=cmap(1))\n",
    "    plt.plot(xs[0], ys[0], color='black', marker=\"o\", ms=marker_size)\n",
    "    plt.legend()\n",
    "    \n",
    "    # Mark b on the x-axis and draw the vertical line x = b:\n",
    "    pause(duration)\n",
    "    plt.plot(xs[1], 0, marker=\"x\", mew=width, label='$ b $')\n",
    "    pause(duration)\n",
    "    plt.plot(xs_vert[1], ys_vert[1], linestyle='dotted',\n",
    "             color=cmap(2), lw=width)\n",
    "    plt.plot(xs[1], 0, marker=\"x\", mew=width, color=cmap(2))\n",
    "    plt.plot(xs[1], ys[1], color='black', marker=\"o\", ms=marker_size)\n",
    "    plt.legend()\n",
    "\n",
    "    for n in range(2, N + 2):\n",
    "        pause(duration)\n",
    "        # Drawing the line between the two previous estimates:\n",
    "        plt.plot(xs_line[n - 2], ys_line[n - 2], linestyle='--',\n",
    "                 lw=width, color=cmap(n + 1))\n",
    "        pause(duration)\n",
    "        # Marking x_n:\n",
    "        plt.plot(xs[n], 0, color=cmap(n + 1), marker=\"x\", mew=width,\n",
    "                 label=f\"$ x_{n - 1} $\")\n",
    "        # Drawing the vertical line through x_n and marking (x_n, y_n):\n",
    "        if n < N + 1:    # Except for the last point.\n",
    "            pause(duration)\n",
    "            plt.plot(xs_vert[n], ys_vert[n], linestyle='dotted',\n",
    "                     lw=width, color='black')\n",
    "            plt.plot(xs[n], 0, color=cmap(n + 1), marker=\"x\", mew=width)\n",
    "            plt.plot(xs[n], 0, color=cmap(n + 1), marker=\"x\", mew=width)\n",
    "            plt.plot(xs[n], ys[n], color='black', marker=\"o\", ms=marker_size)\n",
    "    plt.legend()\n",
    "    \n",
    "    return xs, ys"
   ]
  },
  {
   "cell_type": "code",
   "execution_count": 8,
   "id": "3f4a2a77",
   "metadata": {},
   "outputs": [],
   "source": [
    "from numpy import sin, pi, cos, log, exp\n",
    "a = 0.0           # Extremidade esquerda do intervalo inicial, onde f vale -3.\n",
    "b = pi            # Extremidade direita, onde f vale 3.\n",
    "N = 4             # Número de iterações desejado.\n",
    "pausa = 0.75      # Intervalo entre cada passo da animação, em segundos.\n",
    "# Função à qual o método será aplicado:\n",
    "f = lambda x: 1 + x * cos(x) + sin(2 * x)\n",
    "\n",
    "# Título a ser exibido no topo do diagrama:\n",
    "titulo = \"Método da posição falsa para \"\\\n",
    "         \"$ y = 1 + x\\cos x + \\sin(2x),\\ a = 0,\\ b = \\pi $.\"\n",
    "\n",
    "xs, ys = false_position_animation(f, a, b, N, titulo, pausa)"
   ]
  },
  {
   "attachments": {},
   "cell_type": "markdown",
   "id": "189bfd86",
   "metadata": {},
   "source": [
    "![Exemplo do método da posição falsa](fig_2-4_exemplo_1.png \"Exemplo de aplicação do método da posição falsa\")"
   ]
  },
  {
   "cell_type": "code",
   "execution_count": 10,
   "id": "b6b90952",
   "metadata": {},
   "outputs": [
    {
     "name": "stdout",
     "output_type": "stream",
     "text": [
      "\n",
      "|       n          x_n                f(x_n)      |\n",
      "|=================================================|\n",
      "|       a         0.00000000         1.00000000   |\n",
      "|       b         3.14159265        -2.14159265   |\n",
      "|      01         1.00000000         2.44959973   |\n",
      "|      02         2.14263232        -1.06970379   |\n",
      "|      03         1.79532549         0.16615807   |\n",
      "|      04         1.84201990        -0.00972982   |\n",
      "|_________________________________________________|\n",
      "\n"
     ]
    }
   ],
   "source": [
    "print_solution(xs, ys)"
   ]
  },
  {
   "attachments": {},
   "cell_type": "markdown",
   "id": "4100d214",
   "metadata": {},
   "source": [
    "## $ \\S 3 $ Fórmula para a próxima estimativa no método da falsa posição\n",
    "\n",
    "A reta por dois pontos $ (x_0, y_0) $ e $ (x_1, y_1) $ é caracterizada pela\n",
    "igualdade entre a inclinação do segmento que liga $ (x_1, y_1) $ a\n",
    "$ (x_0, y_0) $ e a do segmento ligando um ponto $ (x, y) $ qualquer sobre a reta\n",
    "a $ (x_0, y_0) $. Em símbolos:\n",
    "$$\n",
    "    \\frac{y - y_0}{x - x_0} = \\frac{y_1 - y_0}{x_1 - x_0}\n",
    "$$\n",
    "Equivalentemente, esta reta é descrita pela equação\n",
    "$$\n",
    "    y = y_0 + \\frac{y_1 - y_0}{x_1 - x_0}\\,(x - x_0).\n",
    "$$\n",
    "\n",
    "No método da posição falsa utilizamos em cada passo a reta passando por\n",
    "$ \\big(a,f(a)\\big) $ e $ \\big(b,f(b)\\big) $, onde $ a $ e $ b $ são as\n",
    "extremidades do intervalo obtido no passo anterior. Substituindo estes valores\n",
    "acima, obtemos a equação\n",
    "$$\n",
    "    y = f(a) + \\frac{f(b) - f(a)}{b - a}\\,(x - a).\n",
    "$$\n",
    "A próxima estimativa $ c $ para o zero é o único valor de $ x $ que faz esta expressão se anular:\n",
    "$$\n",
    "    \\boxed{c = \\frac{af(b) - bf(a)}{f(b)-f(a)}}\n",
    "$$ \n",
    "\n",
    "📝 Observe a simetria desta fórmula com respeito a $ a $ e $ b $ e o fato que o\n",
    "denominador é não-nulo pois $ f(a) $ e $ f(b) $ têm sinais opostos por hipótese.\n",
    "\n",
    "📝 No método da bissecção, a próxima estimativa é a média _aritmética_ de $ a $\n",
    "e $ b $. Contudo, em geral é de se esperar que se $ \\vert f(a) \\vert $ seja\n",
    "menor que $ \\vert f(b) \\vert $, então o zero $ \\zeta $ que está sendo aproximado\n",
    "esteja mais perto de $ a $ que de $ b $. Isto sugere a que tomemos a próxima\n",
    "estimativa $ c $ como a média de $ a $ e $ b $ _ponderada_ por $ \\vert f(a)\n",
    "\\vert $ e $ \\vert f(b) \\vert $. O resultado é justamente a fórmula do método da\n",
    "posição falsa, já que, como $ f(a) $ e $ f(b) $ têm sinais opostos por hipótese,\n",
    "vale\n",
    "$$\n",
    "  c = \\frac{a \\vert f(b) \\vert - b \\vert f(a) \\vert}\n",
    "  {\\vert f(b) \\vert - \\vert f(a)\\vert }\n",
    "   = \\frac{af(b) - bf(a)}{f(b)-f(a)}\n",
    "$$\n"
   ]
  },
  {
   "cell_type": "markdown",
   "id": "5076dc5d",
   "metadata": {},
   "source": [
    "__Problema 1:__ Para cada uma das funções abaixo, observe que $ \\zeta = 1 $ é um\n",
    "zero. Sem usar o computador, calcule duas iterações do método da falsa posição\n",
    "para estimá-la, utilizando o intervalo inicial indicado.\n",
    "\n",
    "(a) $ f(x) = x^2 - 4x + 3 $ no intervalo $ [0, 3] $.\n",
    "\n",
    "(b) $ g(x) = x^3 - 3x^2 - x + 3 $ no intervalo $ [0, 2] $."
   ]
  },
  {
   "cell_type": "markdown",
   "id": "65f310b8",
   "metadata": {},
   "source": [
    "_Solução:_"
   ]
  },
  {
   "attachments": {},
   "cell_type": "markdown",
   "id": "731d9a43",
   "metadata": {},
   "source": [
    "## $ \\S 4 $ Análise informal do erro no método da posição falsa\n",
    "\n",
    "Suponha por concretude que o sinal de $ f(c) $ seja o mesmo que o de $ f(a) $,\n",
    "de modo que o intervalo seguinte seja $ [c, b] $. Podemos estimar o novo erro\n",
    "$ b - c $ em termos do anterior $ b - a $:\n",
    "\\begin{alignat*}{3}\n",
    "    b - c &= \\frac{bf(b) - {bf(a)} -\\big[af(b) - {bf(a)}\\big]}{f(b) - f(a)} \\\\\n",
    "    & = \\frac{f(b)}{f(b) - f(a)} (b - a)\\,.\n",
    "\\end{alignat*}\n",
    "Como por hipótese $ f(a) $ e $ f(b) $ têm sinais opostos, o fator que multiplica\n",
    "$ (b - a) $ está entre $ 0 $ e $ 1 $. Se $ f(b) $ for muito maior que $ f(a) $\n",
    "em valor absoluto, este fator ficará próximo de $ 1 $. Se isto acontecer em\n",
    "todas as iterações, a convergência ao zero será lenta; esta situação é ilustrada\n",
    "pela animação abaixo."
   ]
  },
  {
   "cell_type": "code",
   "execution_count": 8,
   "id": "7046fac5-1de9-4f78-9fc4-0166ad7f4ad5",
   "metadata": {},
   "outputs": [
    {
     "name": "stdout",
     "output_type": "stream",
     "text": [
      "\n",
      "|       n          x_n                f(x_n)      |\n",
      "|=================================================|\n",
      "|       a         0.00000000        -3.00000000   |\n",
      "|       b         4.00000000        57.00000000   |\n",
      "|      01         0.20000000        -3.19200000   |\n",
      "|      02         0.40151515        -3.33678512   |\n",
      "|      03         0.60052096        -3.38395783   |\n",
      "|      04         0.79103006        -3.29605996   |\n",
      "|      05         0.96644712        -3.06376615   |\n",
      "|      06         1.12118428        -2.71179488   |\n",
      "|      07         1.25192491        -2.28976299   |\n",
      "|_________________________________________________|\n",
      "\n"
     ]
    }
   ],
   "source": [
    "a = 0          # Extremidade esquerda do intervalo inicial, onde f vale -3.\n",
    "b = 4          # Extremidade direita, onde f vale 57.\n",
    "N = 7          # Número de iterações desejado.\n",
    "pausa = 0.5    # Intervalo de tempo entre cada passo da animação, em segundos.\n",
    "f = lambda x: x**3 - x - 3    # Função à qual o método será aplicado.\n",
    "# Título a ser exibido no topo do diagrama:\n",
    "titulo = (\"Método da posição falsa para $ y = x^3 - x - 3,\\ a = 0,\\ b = 4 $.\"\n",
    "          \"\\nAproximação lenta por um único lado.\")\n",
    "\n",
    "xs, ys = false_position_animation(f, a, b, N, titulo, pausa)\n",
    "print_solution(xs, ys)"
   ]
  },
  {
   "attachments": {},
   "cell_type": "markdown",
   "id": "12a15705",
   "metadata": {},
   "source": [
    "![Exemplo de convergência lenta com o método da posição falsa](fig_2-4_exemplo_2.png \"Exemplo de convergência lenta com o método da posição falsa\")"
   ]
  },
  {
   "attachments": {},
   "cell_type": "markdown",
   "id": "556efec8",
   "metadata": {},
   "source": [
    "Não é possível calcular precisamente e de maneira geral o erro cometido pelo\n",
    "método da posição falsa. Porém na situação descrita acima, seu desempenho é\n",
    "consideravelmente pior que o do método do bissecção. Por este motivo ele\n",
    "raramente é empregado na prática.\n",
    "\n",
    "📝 Uma outra desvantagem do método da posição falsa é que, apesar de ser\n",
    "possível mostrar que a seqüência $ (x_n) $ das estimativas geradas por ele\n",
    "sempre converge a um zero, nem sempre o comprimento do intervalo $ [a_n, b_n] $\n",
    "correspondente tende a $ 0 $ conforme $ n \\to \\infty $; isto é\n",
    "evidenciado no exemplo estudado acima.\n",
    "\n",
    "\n",
    "📝 Para exemplos ainda mais extremos da lentidão da convergência, troque o expoente $ n = 3 $ por outro maior na expressão para a função $ f(x) = x^n - x - 3 $ considerada acima e rode novamente a animação."
   ]
  },
  {
   "cell_type": "markdown",
   "id": "c78053e5",
   "metadata": {},
   "source": [
    "## $ \\S 3 $ Implementação do método da posição falsa\n",
    "\n",
    "Como o método da bissecção e da posição falsa só diferem na fórmula usada para obter a nova estimativa para o zero, as duas implementações são muito parecidas."
   ]
  },
  {
   "cell_type": "code",
   "execution_count": 64,
   "id": "66c06f94",
   "metadata": {},
   "outputs": [],
   "source": [
    "def false_position(f: Callable[[float], float], a: float, b: float,\n",
    "                   eps: float = 1e-3, max_iter: int = 100\n",
    "                   )-> tuple[list[float], list[float]]:\n",
    "    \"\"\"\n",
    "    Uses the false position (regular falsi) method to approximate a zero of a\n",
    "    function.\n",
    "    Parameters:\n",
    "        * A real continuous function f.\n",
    "        * Points a and b such that f(a)f(b) < 0 and f is defined on [a, b].\n",
    "        * The maximum tolerance eps for the error.\n",
    "        * The maximum number max_iter of iterations.\n",
    "    Output:\n",
    "        * Two lists, xs and ys, containing the estimates and the values of f\n",
    "          at each of them, respectively.\n",
    "    Prints:\n",
    "        * The last estimate.\n",
    "        * The value of f at this estimate.\n",
    "        * The number of iterations that were performed.\n",
    "        * An upper bound for the error.\n",
    "    \"\"\"\n",
    "    from numpy import sign\n",
    "    \n",
    "\n",
    "    iterations = 0                        # Counts the number of iterations.\n",
    "    f_a = f(a)                            # Storing the value of f at a.\n",
    "    f_b = f(b)                            # Storing the value of f at b.\n",
    "    xs = [a, b]                           # List to store the estimates.\n",
    "    ys = [f_a, f_b]                       # List to store f of the estimates.\n",
    "    if eps <= 0:                          # Error: invalid value for 'eps'.\n",
    "        raise ValueError(\"The tolerance must be positive!\")\n",
    "    if f_a == 0:                          # a is a zero.\n",
    "        print(f\"a = {a:15.9f} is an exact zero.\")\n",
    "        return [a], [a]\n",
    "    elif f_b == 0:                        # b is a zero.\n",
    "        print(f\"b = {b:15.9f} is an exact zero.\")\n",
    "        return [b], [b]\n",
    "    elif sign(f_a) == sign(f_b):          # Error: cannot guarantee zero exists.\n",
    "        raise ValueError(\"The function takes on the same sign \"\n",
    "                         \"at the given endpoints!\")\n",
    "    \n",
    "    while (b - a) >= eps and iterations < max_iter:\n",
    "        c = (a * f(b) - b * f(a)) / (f(b) - f(a))       # Next estimate.\n",
    "        f_c = f(c)                        # Storing the value of f at c.\n",
    "        xs.append(c)                      # Appending the new estimate.\n",
    "        ys.append(f_c)                    # Appending f of the new estimate.\n",
    "        if f_c == 0:                      # c is a zero.\n",
    "            print(f\"Found an exact zero: {c:15.9f}\")\n",
    "            return xs, ys\n",
    "        elif sign(f_a) != sign(f_c):      # [a, c] contains a zero.\n",
    "            b = c                         # Assign c to b.\n",
    "        else:                             # [c, b] contains a zero.\n",
    "            a = c                         # Assign c to a.\n",
    "            f_a = f_c\n",
    "        print(a, b)\n",
    "        iterations += 1                   # Update the number of iterations.\n",
    "        \n",
    "    print(a, b)\n",
    "    print(f\"Found an approximate zero at:\\n{c:15.9f}\")\n",
    "    print(f\"after {iterations} iterations, with an error of at most {b - a}.\")\n",
    "    print(f\"The value of f at this point is:\\n{f(c):15.9f}\")\n",
    "    return xs, ys"
   ]
  },
  {
   "cell_type": "markdown",
   "id": "0489a020",
   "metadata": {},
   "source": [
    "## $ \\S 4 $ Problemas"
   ]
  },
  {
   "attachments": {},
   "cell_type": "markdown",
   "id": "2e0eaa83",
   "metadata": {},
   "source": [
    "__Problema 2:__ \n",
    "\n",
    "(a) Sem usar o computador, aplique quatro iterações do método da posição falsa à\n",
    "função $ f(x) = x^2 - 2 $ posição para obter uma aproximação racional\n",
    "$ \\sqrt{2} $ a partir do intervalo inicial $ [1, 2] $.\n",
    "\n",
    "(b) Usando Python, calcule o erro absoluto e o erro relativo resultantes."
   ]
  },
  {
   "cell_type": "markdown",
   "id": "1acb8668",
   "metadata": {},
   "source": [
    "_Solução:_"
   ]
  },
  {
   "cell_type": "code",
   "execution_count": null,
   "id": "a27589b9",
   "metadata": {},
   "outputs": [],
   "source": []
  },
  {
   "attachments": {},
   "cell_type": "markdown",
   "id": "c0b186d2",
   "metadata": {},
   "source": [
    "__Problema 3:__ Modifique a implementação do método da posição falsa de modo que\n",
    "o procedimento só termine caso:\n",
    "* O número máximo de iterações seja atingido; ou\n",
    "* $ \\vert f(x_n) \\vert < \\delta $, onde a tolerância\n",
    "  $ \\delta > 0 $ é passada como argumento no lugar de $ \\varepsilon $."
   ]
  },
  {
   "cell_type": "markdown",
   "id": "b48124ce",
   "metadata": {},
   "source": [
    "_Solução:_"
   ]
  },
  {
   "cell_type": "code",
   "execution_count": null,
   "id": "e581428c",
   "metadata": {},
   "outputs": [],
   "source": []
  },
  {
   "attachments": {},
   "cell_type": "markdown",
   "id": "281f7f5b",
   "metadata": {},
   "source": [
    "__Problema 4:__ Usando o método da falsa posição com precisão de três dígitos decimais:\n",
    "\n",
    "(a) Encontre uma raiz positiva da equação $ \\sin x = \\frac{x}{2} $.\n",
    "\n",
    "(a) Encontre a primeira raiz positiva da equação $ \\sin x = \\frac{x}{n} $ para $ n = 2, 3, \\dots, 20 $."
   ]
  },
  {
   "cell_type": "markdown",
   "id": "a20cd56d",
   "metadata": {},
   "source": [
    "*Solução:*"
   ]
  },
  {
   "cell_type": "code",
   "execution_count": null,
   "id": "d57e5eca",
   "metadata": {},
   "outputs": [],
   "source": []
  },
  {
   "attachments": {},
   "cell_type": "markdown",
   "id": "320f643f",
   "metadata": {},
   "source": [
    "__Problema 5:__ Calcule com ajuda do computador, mas sem usar a implementação\n",
    "acima, as três primeiras iterações do método da posição falsa para estimar uma\n",
    "raiz das equações abaixo nos intervalos indicados. Esboce também os gráficos das\n",
    "funções utilizadas:\n",
    "\n",
    "(a) $ \\tan x - \\frac{1}{1 + x^2} = 0 $, $ 0 \\le x \\le \\frac{\\pi}{2} $.\n",
    "\n",
    "(b) $ x^2 = 2 $, $ 0 \\le x \\le 2 $.\n",
    "\n",
    "(c) $ x \\ln x = 1 $, $ 1 \\le x \\le 2 $.\n",
    "\n",
    "(d) $ \\cos x = x $, $ 0 \\le x \\le \\frac{\\pi}{2} $."
   ]
  },
  {
   "cell_type": "markdown",
   "id": "05dab115",
   "metadata": {},
   "source": [
    "*Solução:*"
   ]
  },
  {
   "cell_type": "code",
   "execution_count": null,
   "id": "6d9e0544",
   "metadata": {},
   "outputs": [],
   "source": []
  },
  {
   "attachments": {},
   "cell_type": "markdown",
   "id": "6a0b2ad2",
   "metadata": {},
   "source": [
    "__Problema 6:__ Vimos no caderno anterior que no método da bissecção os\n",
    "comprimentos do intervalo anterior e do atual estão relacionados pela fórmula \n",
    "$$\n",
    "\\left\\vert{I_n}\\right\\vert = c \\left\\vert{I_{n-1}}\\right\\vert \\quad \\text{com} \\quad c = \\frac{1}{2}\n",
    "$$ \n",
    "\n",
    "(a) Estime a constante $ c $ que relaciona as duas para o método da falsa\n",
    "posição aplicado ao problema de se encontrar a raiz positiva da equação\n",
    "$$\n",
    "x^{8} - 1 = 0\n",
    "$$\n",
    "usando como intervalo inicial $ [a, b] = [0, 2] $.\n",
    "\n",
    "(b) Discuta se seria melhor usar o método da bissecção ou o método da falsa posição neste caso. "
   ]
  },
  {
   "cell_type": "markdown",
   "id": "00e562cc-e1ac-4c39-82e9-695467db171e",
   "metadata": {},
   "source": [
    "_Solução:_"
   ]
  },
  {
   "attachments": {},
   "cell_type": "markdown",
   "id": "3a76fcbc",
   "metadata": {},
   "source": [
    "__Problema 7:__ Seja $ g(x) = e^x - x - 2 $.\n",
    "\n",
    "(a) Mostre que existe um _único_ zero de $ g $ em $ [-2, 0] $.\n",
    "\n",
    "(b) Utilizando o método da bissecção, quantas iterações seriam necessárias (a princípio) para aproximar\n",
    "este zero com precisão melhor que $ \\varepsilon = 10^{-7} $?\n",
    "\n",
    "(c) Usando nossa implementação do método da posição falsa, aproxime este zero\n",
    "usando no máximo $ 10 $ iterações com precisão desejada de $ \\varepsilon $.\n",
    "Esta precisão é atingida?\n",
    "\n",
    "(d) Utilize a animação do método da posição falsa ou o gráfico de $ g $ para\n",
    "explicar o resultado obtido em (c)."
   ]
  },
  {
   "cell_type": "markdown",
   "id": "3cf469ca",
   "metadata": {},
   "source": [
    "_Solução:_"
   ]
  },
  {
   "cell_type": "markdown",
   "id": "fd049338",
   "metadata": {},
   "source": []
  }
 ],
 "metadata": {
  "kernelspec": {
   "display_name": "base",
   "language": "python",
   "name": "python3"
  },
  "language_info": {
   "codemirror_mode": {
    "name": "ipython",
    "version": 3
   },
   "file_extension": ".py",
   "mimetype": "text/x-python",
   "name": "python",
   "nbconvert_exporter": "python",
   "pygments_lexer": "ipython3",
   "version": "3.9.2"
  },
  "vscode": {
   "interpreter": {
    "hash": "49060cedf8366e4ce4bf4b9d121c044cf7249a0afe21432e14f32b1ca5a4731f"
   }
  }
 },
 "nbformat": 4,
 "nbformat_minor": 5
}
