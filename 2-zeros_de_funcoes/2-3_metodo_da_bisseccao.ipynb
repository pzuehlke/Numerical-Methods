{
 "cells": [
  {
   "cell_type": "code",
   "execution_count": 25,
   "id": "0567279e-d482-487f-add1-c0f2b3e1df51",
   "metadata": {},
   "outputs": [
    {
     "name": "stdout",
     "output_type": "stream",
     "text": [
      "The autoreload extension is already loaded. To reload it, use:\n",
      "  %reload_ext autoreload\n"
     ]
    }
   ],
   "source": [
    "%load_ext autoreload\n",
    "%autoreload 2\n",
    "%matplotlib qt"
   ]
  },
  {
   "cell_type": "markdown",
   "id": "80bc17b7",
   "metadata": {
    "tags": []
   },
   "source": [
    "$\\newcommand{\\set}[2]{\\big\\{#1\\,\\ {\\large:}\\ \\,#2\\big\\}}\n",
    "\\newcommand{\\eps}{\\varepsilon}\n",
    "\\newcommand{\\abs}[1]{\\left\\vert#1\\right\\vert}\n",
    "\\newcommand{\\ceil}[1]{\\left\\lceil#1\\right\\rceil}\n",
    "\\newcommand{\\floor}[1]{\\left\\lfloor#1\\right\\rfloor}\n",
    "\\DeclareMathOperator{\\sinal}{sinal}\n",
    "$\n",
    "# O método da bissecção"
   ]
  },
  {
   "cell_type": "markdown",
   "id": "b4f00d48",
   "metadata": {},
   "source": [
    "## $ \\S 1 $ Introdução\n",
    "\n",
    "O método da bissecção é um procedimento geral para determinação de zeros de uma função  real $ f $. Seus únicos requerimentos são que a função seja contínua e que tenhamos previamente identificado um intervalo $ [a, b] $ dentro do domínio de $ f $ onde ela troca de sinal. Seus principais méritos são:\n",
    "* _Confiabilidade_: ele sempre converge a um zero, satisfeitas as hipóteses acima.\n",
    "* _Simplicidade_: ele é facilmente implementado e não é necessário calcular a derivada da função.\n",
    "* _Robustez_: pequenos erros de arredondamento (comparados à precisão desejada) não impactam seu resultado.\n",
    "\n",
    "Por outro lado, o método não pode ser empregado para se localizar um zero de multiplicidade par (como o da função $ x \\mapsto x^2 $). Além disto, em muitos casos é possível utilizar métodos cuja convergência é ainda mais rápida. Se queremos obter um zero de uma única função, esta diferença de desempenho não é relevante, porém a situação muda se o algoritmo precisa ser executado bilhões ou trilhões de vezes.\n",
    "\n",
    "## $ \\S 2 $ Descrição do método da bissecção\n",
    "\n",
    "Como acima, sejam $ f $ uma função real _contínua_ e $ [a, b] $ um intervalo dentro do domínio de $ f $ com\n",
    "$$\n",
    "\\boxed{\\sinal f(a) \\ne \\sinal f(b)}\n",
    "$$\n",
    "No **método da bissecção** começamos tomando $ m $ como o **ponto médio** de $ a $ e $ b $,\n",
    "$$\n",
    "\\boxed{m = \\frac{a+b}{2}}\n",
    "$$\n",
    "e avaliando $ f $ aí. Há três possibilidades:\n",
    "* Se $ f(m)= 0 $, então $ m $ é um zero de $ f $ e podemos terminar.\n",
    "* Se $ \\sinal f(m)  \\neq \\sinal f(a) $, então $ f $ troca de sinal em $ [a, m] $.\n",
    "* Se $ \\sinal f(m) = \\sinal f(a) $, então $ f $ troca de sinal em $ [m, b] $.\n",
    "\n",
    "Nos dois últimos casos, podemos restringir nossa busca a um intervalo cujo comprimento é a *metade* do anterior. O teorema do valor intermediário garante que este subintervalo ainda contém um zero, portanto podemos repetir o processo. Bissecções sucessivas eventualmente nos levarão a um zero ou a um encaixotamento de um zero por um subintervalo de comprimento tão pequeno quanto desejado. Quando isto acontecer, retornamos o ponto médio deste subintervalo como estimativa para o zero.\n",
    "\n",
    "📝 O método da bissecção também é conhecido como _busca binária_.\n",
    "\n",
    "📝 Não é necessário _isolar_ um zero dentro do intervalo inicial, ou seja, o método funciona mesmo que haja mais de um zero dentro de $ [a, b] $.\n",
    "\n",
    "**Exemplo 1:** Execute em seqüência as três células abaixo para ver uma animação do método da bissecção aproximando um zero da função $ f(x) = x^3 - x - 3 $ (em $ 1.6717 $, aproximadamente)."
   ]
  },
  {
   "cell_type": "code",
   "execution_count": null,
   "id": "4f5666d4-870e-4a69-ba0f-a258b074ab5b",
   "metadata": {
    "tags": []
   },
   "outputs": [],
   "source": [
    "def imprime_solucao(xs, ys, freq=1):\n",
    "    \"\"\"\n",
    "    Dados dois arrays xs e ys de mesmo comprimento, imprime um\n",
    "    a cada 'freq' de seus valores por linha, na forma de uma\n",
    "    tabela. Os 0-ésimos e últimos valores sempre são impressos.\n",
    "    \"\"\"\n",
    "    def imprime_cabecalho():\n",
    "        \"\"\"\n",
    "        Imprime o cabeçalho da tabela.\n",
    "        \"\"\"\n",
    "        print(\"\\n|       n      \", end=\"\")\n",
    "        print(\"    x_n            \", end=\"\")\n",
    "        print(\"    f(x_n)      |\")\n",
    "        print(\"|=================================================|\")\n",
    "        \n",
    "        \n",
    "    def imprime_linha(x, y, n):\n",
    "        \"\"\"\n",
    "        Imprime uma das linhas da tabela.\n",
    "        \"\"\"\n",
    "        if n == 0:\n",
    "            print(f\"|       a\", end=\"\")\n",
    "        elif n == 1:\n",
    "            print(f\"|       b\", end=\"\")\n",
    "        else:\n",
    "            print(f\"|      {n - 1:02}\", end=\"\")\n",
    "        print(f\"    {x:15.8f}\", end=\"\")\n",
    "        print(f\"    {y:15.8f}   |\")\n",
    "    \n",
    "    \n",
    "    N = len(xs)\n",
    "    if freq == 0:          # Se freq == 0, imprime apenas os últimos valores.\n",
    "        freq = N - 1\n",
    "    imprime_cabecalho()\n",
    "    for n in range(0, 2):\n",
    "        imprime_linha(xs[n], ys[n], n)\n",
    "    for n in range(2, N, freq):\n",
    "        imprime_linha(xs[n], ys[n], n)\n",
    "    if n != N - 1:\n",
    "        imprime_linha(xs[N], ys[N])\n",
    "    print(\"|_________________________________________________|\\n\")\n",
    "        \n",
    "    return None"
   ]
  },
  {
   "cell_type": "code",
   "execution_count": 50,
   "id": "3044d5f8-05cf-4e55-8c7e-1152b0b5443a",
   "metadata": {
    "tags": []
   },
   "outputs": [],
   "source": [
    "def animador_bisseccao(f, a, b, N=4, titulo=\"\", pausa=0.75):\n",
    "    \"\"\"\n",
    "    Exibe uma animação do método da bissecção aplicado a uma função.\n",
    "    Entradas:\n",
    "        * Uma função real contínua f.\n",
    "        * As extremidades a < b do intervalo inicial.\n",
    "        * O número de iterações a serem calculadas.\n",
    "        * O título a ser exibido no topo do diagrama.\n",
    "        * A pausa entre dois passos consecutivos da animação, em segundos.\n",
    "    Saída:\n",
    "        * Duas listas xs e ys contendo as estimativas para um zero\n",
    "          e os valores de f nelas, respectivamente.\n",
    "    Exibe:\n",
    "        * Uma animação dos elementos relevantes numa janela pop-up.\n",
    "    \"\"\"\n",
    "    import matplotlib.pyplot as plt\n",
    "    import numpy as np\n",
    "    \n",
    "    \n",
    "    def iteracao(a, b):\n",
    "        \"\"\"\n",
    "        Aplica um passo do método da bissecção ao intervalo [a, b].\n",
    "        Retorna o ponto médio e as extremidades do intervalo seguinte.\n",
    "        \"\"\"\n",
    "        m = 0.5 * (a + b)                      # Ponto médio do intervalo.\n",
    "        if np.sign(f(a)) != np.sign(f(m)):     # [a, m] contém um zero.\n",
    "            return m, a, m\n",
    "        else:                                  # [m, b] contém um zero.\n",
    "            return m, m, b\n",
    "    \n",
    "    \n",
    "    P = 200                                    # Número de pontos num plot.\n",
    "    grossa = 2.0                               # Espessura grossa da traço.\n",
    "    media = 1.75                               # Espessura média.\n",
    "    fina = 1.0                                 # Espessura fina.\n",
    "    dominio = np.linspace(a, b, P)             # Gera P nodos de a a b.\n",
    "    xs = [a, b]                                # Armazenará as estimativas.\n",
    "    for _ in range(N):                         # Preenchendo xs.\n",
    "        m, a, b = iteracao(a, b)\n",
    "        xs.append(m)\n",
    "    ys = [f(x) for x in xs]                    # Armazena f das estimativas.\n",
    "    \n",
    "    # Listas contendo coordenadas x e y para plotagem das retas verticais:\n",
    "    xs_vert = [np.linspace(xs[n], xs[n], P) for n in range(N + 2)]\n",
    "    ys_vert = [np.linspace(0, ys[n], P) for n in range(N + 2)]\n",
    "    \n",
    "    # Desenhando o gráfico de f:\n",
    "    plt.axhline(y=0.0, color='black', linestyle='-', linewidth=media)\n",
    "    plt.xlabel('Eixo-$ x $')\n",
    "    plt.ylabel('Eixo-$ y $')\n",
    "    plt.title(titulo)\n",
    "    plt.grid(True)\n",
    "    plt.plot(dominio, f(dominio), label='$ y = f(x) $', linewidth=media)\n",
    "    plt.legend()\n",
    "        \n",
    "    # Marcando a no eixo-x e desenhando a reta vertical por ele:\n",
    "    if pausa > 0:\n",
    "        plt.pause(pausa)\n",
    "    plt.plot(xs[0], 0, color='black', marker=\"|\", mew=media)\n",
    "    if pausa > 0:\n",
    "            plt.pause(pausa)\n",
    "    plt.plot(xs_vert[0], ys_vert[0], linestyle='-', linewidth=media, label='$ a $')\n",
    "    plt.plot(xs[0], 0, color='black', marker=\"|\", mew=media)\n",
    "    plt.plot(xs[0], ys[0], color='black', marker=\"o\", mew=0.175)\n",
    "    plt.legend()\n",
    "    \n",
    "    # Marcando b no eixo-x e desenhando a reta vertical por ele:\n",
    "    if pausa > 0:\n",
    "        plt.pause(pausa)\n",
    "    plt.plot(xs[1], 0, color='black', marker=\"|\", mew=media)\n",
    "    if pausa > 0:\n",
    "            plt.pause(pausa)\n",
    "    plt.plot(xs_vert[1], ys_vert[1], linestyle='-', linewidth=media, label='$ b $')\n",
    "    plt.plot(xs[1], 0, color='black', marker=\"|\", mew=media)\n",
    "    plt.plot(xs[1], ys[1], color='black', marker=\"o\", mew=0.175)\n",
    "    plt.legend()\n",
    "    \n",
    "    for n in range(2, N + 2):\n",
    "        if pausa > 0:\n",
    "            plt.pause(pausa)\n",
    "        # Marcando x_n:\n",
    "        plt.plot(xs[n], 0, color='black', marker=\"|\", mew=media)\n",
    "        if pausa > 0:\n",
    "            plt.pause(pausa)\n",
    "        # Desenhando a reta vertical por x_n e marcando (x_n, y_n):\n",
    "        plt.plot(xs_vert[n], ys_vert[n], linestyle='-',\n",
    "                 linewidth=media, label=f'$ x_{n - 1} = m_{n - 1} $')\n",
    "        plt.plot(xs[n], ys[n], color='black', marker=\"o\", mew=0.175)\n",
    "        plt.plot(xs[n], 0, color='black', marker=\"|\", mew=media)\n",
    "    plt.legend()\n",
    "    \n",
    "    return xs, ys"
   ]
  },
  {
   "cell_type": "code",
   "execution_count": 52,
   "id": "2744e012",
   "metadata": {
    "tags": []
   },
   "outputs": [],
   "source": [
    "a = 0           # Extremidade esquerda do intervalo inicial, onde f vale -3.\n",
    "b = 2           # Extremidade direita, onde f vale 3.\n",
    "N = 5           # Número de iterações desejado.\n",
    "pausa = 0.75    # Intervalo de tempo entre cada passo da animação, em segundos.\n",
    "f = lambda x: x**3 - x - 3    # Função à qual o método será aplicado.\n",
    "# Título a ser exibido no topo do diagrama:\n",
    "titulo = \"Método da bissecção para $ y = x^3 - x - 3,\\ a = 0,\\ b = 2 $.\"\n",
    "\n",
    "xs, ys = animador_bisseccao(f, a, b, N, titulo, pausa)"
   ]
  },
  {
   "cell_type": "markdown",
   "id": "922042c9-8725-46d4-82f7-a99e769251f8",
   "metadata": {
    "tags": []
   },
   "source": [
    "![Exemplo do método da bissecção](fig_2-3_exemplo_1.png \"Exemplo de aplicação do método da bissecção\")"
   ]
  },
  {
   "cell_type": "code",
   "execution_count": 27,
   "id": "46ed9276-ac12-495f-876d-baba0d7d601d",
   "metadata": {},
   "outputs": [
    {
     "name": "stdout",
     "output_type": "stream",
     "text": [
      "\n",
      "|       n          x_n                f(x_n)      |\n",
      "|=================================================|\n",
      "|       a         0.00000000        -3.00000000   |\n",
      "|       b         2.00000000         3.00000000   |\n",
      "|      01         1.00000000        -3.00000000   |\n",
      "|      02         1.50000000        -1.12500000   |\n",
      "|      03         1.75000000         0.60937500   |\n",
      "|      04         1.62500000        -0.33398438   |\n",
      "|      05         1.68750000         0.11791992   |\n",
      "|_________________________________________________|\n",
      "\n"
     ]
    }
   ],
   "source": [
    "imprime_solucao(xs, ys)"
   ]
  },
  {
   "cell_type": "markdown",
   "id": "f45d3616",
   "metadata": {
    "tags": []
   },
   "source": [
    "## $ \\S 3 $ Análise do desempenho do método da bissecção\n",
    "\n",
    "Cada passo do método da bissecção corta o comprimento do intervalo anterior pela metade. Portanto dez passos reduzem o comprimento do intervalo original por um fator de $ 2^{10} > 1\\,000 $. Mais geralmente, temos o seguinte resultado.\n",
    "\n",
    "**Teorema 3.1 (análise do método da bissecção):** _Pelo método da bissecção, o número de iterações necessário para se localizar um zero dentro do intervalo inicial $ [a, b] $ com erro menor que $ \\eps > 0 $ é dado por:_\n",
    "\\begin{equation*}\\label{E:1}\n",
    "\\boxed{\\ceil{\\lg\\bigg(\\frac{b-a}{\\eps}\\bigg)} \\quad \\text{onde $ \\lg = \\log_2 $}} \\tag{1}\n",
    "\\end{equation*}\n",
    "\n",
    "**Prova:** Começando com o intervalo $ [a,b] $ original (primeiro passo), sabemos que em cada iteração há um zero dentro do intervalo atual. Após o $ n $-ésimo passo, o comprimento de $ [a, b] $ terá sido reduzido pelo fator de $ 2^{n-1} $. Mas como o resultado do método é o ponto médio do intervalo atual, o que importa é a *metade* do seu comprimento, já que esta é uma cota superior para a distância do ponto médio a um zero. Logo $ n $ deve ser grande o suficiente de modo que\n",
    "$$\n",
    "    \\frac{b-a}{2^n} < \\eps, \\quad \\text{ou equivalentemente,} \\quad \n",
    "    n > \\lg \\left( \\frac{b-a}{\\eps} \\right).\n",
    "$$\n",
    "O menor inteiro que satisfaz esta desigualdade é o teto do valor à direita, como em \\eqref{E:1}. $\\  \\blacksquare $\n",
    "\n",
    "📝 Informalmente, o resultado acima implica que para cada dígito adicional de precisão, precisamos de $ \\lg 10 \\approx 3.32 $ iterações a mais. Este desempenho deve ser comparado com o da busca incremental, que dependia _linearmente_ de $ \\frac{b-a}{\\eps} $; portanto para melhorar a precisão desta por um dígito decimal, precisamos _multiplicar_ o número de iterações por $ 10 $.\n",
    "\n",
    "## $ \\S 4 $ Critérios de parada e observações\n",
    "\n",
    "Os critérios de parada que podemos utilizar são essencialmente os mesmos em todos os métodos para localização de zeros:\n",
    "\n",
    "1. A distância da estimativa atual a um zero é menor que um $ \\eps > 0 $ pré-escolhido.\n",
    "2. O módulo do valor da função na estimativa atual é menor que um $ \\delta > 0 $ escolhido previamente.\n",
    "3. O número de iterações excede uma cota prefixada.\n",
    "\n",
    "Além destas, podemos também considerar versões _relativas_ de 1 e 2, por exemplo:\n",
    "\n",
    "4. O módulo do valor da função na estimativa $ m $ atual é menor que um $ \\delta > 0 $ relativamente aos valores originais $ f(a) $ e $ f(b) $, i.e.:\n",
    "$$\n",
    "    \\frac{\\abs{f(m)}}{\\min\\left\\{\\abs{f(a)}\\,,\\,\\abs{f(b)}\\right\\}} < \\delta.\n",
    "$$\n",
    "\n",
    "Na implementação abaixo, o procedimento termina assim que algum dos critérios 1 ou 3 for satisfeito.\n",
    "\n",
    "⚠️ Para que possamos sequer aplicar o método da bissecção a uma função, antes é necessário ter obtido um intervalo onde ela troca de sinal. Este requerimento preliminar geralmente pode ser satisfeito com a inspeção do gráfico da função ou com uma busca incremental (conforme explicado no caderno anterior).\n",
    "\n",
    "⚠️ Por definição, $ a $ é um **pólo** de ordem $ m $ de uma função $ f $ se ele é um zero de multiplicidade $ m $ de $ 1 / f(x) $. Se $ f $ tiver um pólo de ordem ímpar num ponto, como o da função $ x \\mapsto \\frac{1}{x} $ em $ x = 0 $, então o método da bissecção poderá confundi-lo com um zero. Execute a animação abaixo para entender o que acontece nestes casos."
   ]
  },
  {
   "cell_type": "code",
   "execution_count": 54,
   "id": "a0a35dce-cb02-4865-8f7f-7713a0fe3a80",
   "metadata": {},
   "outputs": [],
   "source": [
    "a = -0.15       # Extremidade esquerda do intervalo inicial.\n",
    "b = 0.18        # Extremidade direita.\n",
    "N = 6           # Número de iterações desejado.\n",
    "pausa = 0.75    # Intervalo de tempo entre cada passo da animação, em segundos.\n",
    "f = lambda x: 1 / x   # Função à qual o método será aplicado.\n",
    "# Título a ser exibido no topo do diagrama:\n",
    "titulo = \"Método da bissecção para $ y = 1/x,\\ a = -0.15,\\ b = 0.18 $;\\n\"\\\n",
    "         \"confundindo um pólo de ordem ímpar com um zero.\"\n",
    "\n",
    "xs, ys = animador_bisseccao(f, a, b, N, titulo, pausa)"
   ]
  },
  {
   "cell_type": "markdown",
   "id": "30a01fc2",
   "metadata": {},
   "source": [
    "![Pólo de ordem ímpar](fig_2-3_exemplo_2.png \"Método da bissecção confundindo um pólo de ordem ímpar com um zero\")"
   ]
  },
  {
   "cell_type": "code",
   "execution_count": 32,
   "id": "0ccc21ea-11a9-482c-a58c-ec39e681d31d",
   "metadata": {},
   "outputs": [
    {
     "name": "stdout",
     "output_type": "stream",
     "text": [
      "\n",
      "|       n          x_n                f(x_n)      |\n",
      "|=================================================|\n",
      "|       a        -0.15000000        -6.66666667   |\n",
      "|       b         0.18000000         5.55555556   |\n",
      "|      01         0.01500000        66.66666667   |\n",
      "|      02        -0.06750000       -14.81481481   |\n",
      "|      03        -0.02625000       -38.09523810   |\n",
      "|      04        -0.00562500      -177.77777778   |\n",
      "|      05         0.00468750       213.33333333   |\n",
      "|      06        -0.00046875     -2133.33333333   |\n",
      "|_________________________________________________|\n",
      "\n"
     ]
    }
   ],
   "source": [
    "imprime_solucao(xs, ys)"
   ]
  },
  {
   "cell_type": "markdown",
   "id": "ca44361d",
   "metadata": {},
   "source": [
    "## $ \\S 5 $ Implementação do método da bissecção"
   ]
  },
  {
   "cell_type": "code",
   "execution_count": 4,
   "id": "62022509",
   "metadata": {},
   "outputs": [],
   "source": [
    "def bisseccao(f, a, b, eps, max_iter):\n",
    "    \"\"\"\n",
    "    Usa o método da bissecção para aproximar um zero de uma função contínua.\n",
    "    Entradas:\n",
    "        * A função real contínua f.\n",
    "        * As extremidades a < b de um intervalo onde f troca de sinal.\n",
    "        * A distância máxima tolerada eps da estimativa a um zero.\n",
    "        * O número máximo max_iter de iterações.\n",
    "    Saída:\n",
    "        * A lista xs das estimativas e a lista ys dos valores de f nelas.\n",
    "    Imprime:\n",
    "        * A última estimativa, o valor de f aí, o número de iterações\n",
    "          e uma cota para o erro.\n",
    "    \"\"\"\n",
    "    from numpy import sign\n",
    "    \n",
    "\n",
    "    iteracoes = 0                         # Contador do número de iterações.\n",
    "    f_a = f(a)                            # Gravando o valor de f em a.\n",
    "    f_b = f(b)                            # Gravando o valor de f em b.\n",
    "    xs = [a, b]                           # Lista que armazenará as estimativas.\n",
    "    ys = [f_a, f_b]                       # Armazenará os valores de f nos x.\n",
    "    if eps <= 0:                          # Valor inválido de eps.\n",
    "        raise ValueError(\"A tolerância deve ser positiva!\")\n",
    "    if f_a == 0:                          # a é um zero.\n",
    "        print(\"a é um zero exato.\")\n",
    "        return a\n",
    "    elif f_b == 0:                        # b é um zero.\n",
    "        print(\"b é um zero exato.\")\n",
    "        return b\n",
    "    elif sign(f_a) == sign(f_b):          # Erro: [a, b] não contém um zero.\n",
    "        raise ValueError(\"A função assume valores de mesmo\"\n",
    "                         \"sinal nas extremidades dadas!\")\n",
    "    \n",
    "    while (b - a) >= eps and iteracoes <= max_iter:\n",
    "        m = 0.5 * (a + b)                 # Ponto médio do intervalo anterior.\n",
    "        f_m = f(m)                        # Gravando o valor de f em m.\n",
    "        xs.append(m)\n",
    "        ys.append(f_m)\n",
    "        if f_m == 0:\n",
    "            print(\"Encontrado um zero exato.\")\n",
    "            return m\n",
    "        elif sign(f_a) != sign(f_m):      # [a, m] contém um zero.\n",
    "            b = m                         # Tome o novo b como sendo m.\n",
    "        else:                             # [m, b] contém um zero.\n",
    "            a = m                         # Tome o novo a como sendo m.\n",
    "            f_a = f_m\n",
    "        iteracoes += 1\n",
    "        \n",
    "    print(f\"Encontrado um zero aproximado:\\n{m:15.9f}\")\n",
    "    print(f\"após {iteracoes} iterações, com erro de no máximo {b - a}.\")\n",
    "    print(f\"O valor da função neste ponto é:\\n{f(m):15.9f}\")\n",
    "    \n",
    "    return xs, ys"
   ]
  },
  {
   "cell_type": "markdown",
   "id": "cf99c806",
   "metadata": {},
   "source": [
    "## $ \\S 6 $ Problemas"
   ]
  },
  {
   "cell_type": "markdown",
   "id": "b41a5608",
   "metadata": {},
   "source": [
    "**Problema 1:**\n",
    "\n",
    "(a) Estime $ \\sqrt[3]{2} $ com $ 5 $ dígitos decimais de precisão usando o método da bissecção. *Dica:* Considere a função $ f(x) = x^3 - 2 $.\n",
    "\n",
    "(b) Use o Teorema 3.1 para calcular o número de iterações necessárias."
   ]
  },
  {
   "cell_type": "markdown",
   "id": "1ffc55c5",
   "metadata": {},
   "source": [
    "*Solução:*"
   ]
  },
  {
   "cell_type": "code",
   "execution_count": null,
   "id": "0204337d-dc1c-472e-bab1-f88696c9fffc",
   "metadata": {},
   "outputs": [],
   "source": []
  },
  {
   "cell_type": "markdown",
   "id": "61d28d56",
   "metadata": {},
   "source": [
    "**Problema 2:** Seja $ y = \\tan x $ a função tangente. Recorde que \n",
    "$$\n",
    "\\tan\\left(\\frac{\\pi}{4}\\right) = 1 \\quad \\text{e} \\quad \\tan\\left(\\frac{2\\pi}{3}\\right) = -\\sqrt{3}\n",
    "$$\n",
    "Aplique o método da bissecção a $ f = \\tan $ no intervalo $ \\left[\\frac{\\pi}{4}\\,,\\,\\frac{2\\pi}{3}\\right] $ e explique o resultado."
   ]
  },
  {
   "cell_type": "markdown",
   "id": "913df0af",
   "metadata": {},
   "source": [
    "*Solução:*"
   ]
  },
  {
   "cell_type": "code",
   "execution_count": null,
   "id": "2e8a687a",
   "metadata": {},
   "outputs": [],
   "source": []
  },
  {
   "cell_type": "markdown",
   "id": "83c32cbd",
   "metadata": {},
   "source": [
    "**Problema 3:**\n",
    "\n",
    "(a) Encontre a menor raiz real positiva da equação\n",
    "$$\n",
    "x^3 - 3.45x^2 - 5.72 x + 6.31 = 0\n",
    "$$\n",
    "com uma precisão melhor que $ 10^{-3} $ usando o método da bissecção.\n",
    "\n",
    "(b) Considerando o intervalo original que você utilizou, quantos passos são necessários?"
   ]
  },
  {
   "cell_type": "markdown",
   "id": "26e2ec89",
   "metadata": {},
   "source": [
    "*Solução:*"
   ]
  },
  {
   "cell_type": "code",
   "execution_count": null,
   "id": "3c50e735",
   "metadata": {},
   "outputs": [],
   "source": []
  },
  {
   "cell_type": "markdown",
   "id": "d7c76c69",
   "metadata": {},
   "source": [
    "**Problema 4:** Obtenha uma estimativa para $ \\pi $, correta até a sexta casa decimal, utilizando o método da bissecção para aproximar o primeiro zero positivo da função seno. "
   ]
  },
  {
   "cell_type": "markdown",
   "id": "cb12b905",
   "metadata": {},
   "source": [
    "*Solução:*"
   ]
  },
  {
   "cell_type": "code",
   "execution_count": null,
   "id": "ac02b799",
   "metadata": {},
   "outputs": [],
   "source": []
  },
  {
   "cell_type": "markdown",
   "id": "0f8333ac",
   "metadata": {},
   "source": [
    "**Problema 5:**\n",
    "\n",
    "(a) Mostre que a equação $ xe^x = 1 $ possui uma única raiz em $ \\mathbb{R} $. *Dica:* Calcule a derivada da função $ f(x) = xe^x - 1 $.\n",
    "\n",
    "(b) Mostre que esta raiz se encontra no intervalo $ [0.5, 1] $.\n",
    "\n",
    "(c) Estime esta raiz com erro máximo de $ 10^{-5} $, usando o método da bissecção.\n",
    "\n",
    "(d) Quantos passos são necessários para garantir esta precisão?"
   ]
  },
  {
   "cell_type": "markdown",
   "id": "f618b299",
   "metadata": {},
   "source": [
    "*Solução:*"
   ]
  },
  {
   "cell_type": "code",
   "execution_count": null,
   "id": "daefc18b",
   "metadata": {},
   "outputs": [],
   "source": []
  },
  {
   "cell_type": "markdown",
   "id": "b89800dd",
   "metadata": {},
   "source": [
    "**Problema 6:** Resolva o exercício anterior para a equação $ x^2 + \\ln x = 0 $ ($ x > 0 $)."
   ]
  },
  {
   "cell_type": "markdown",
   "id": "00bfb25f",
   "metadata": {},
   "source": [
    "*Solução:*"
   ]
  },
  {
   "cell_type": "code",
   "execution_count": null,
   "id": "5739516e",
   "metadata": {},
   "outputs": [],
   "source": []
  },
  {
   "cell_type": "markdown",
   "id": "c24c1770",
   "metadata": {},
   "source": [
    "**Problema 7:** Encontre uma raiz de cada uma das equações abaixo com erro $ < 10^{-3} $. *Dica:* Antes de aplicar o método da bissecção, é necessário encaixotar um zero. Para isto, utilize a análise gráfica ou a busca incremental. Os procedimentos correspondentes estão na última seção deste caderno.\n",
    "\n",
    "(a) $ x \\ln x = 1 $.\n",
    "\n",
    "(b) $ \\cos x = x^2 $.\n",
    "\n",
    "(c) $ x^5 - 3x^4 - 6x^3 + 4x^2 + 5x - 3 = 0 $.\n",
    "\n",
    "(d) $ \\tan x = x + 2 e^x $.\n",
    "\n",
    "(e) $ \\cos x \\cosh x = 1 $, onde por definição $ \\cosh x = \\frac{e^x + e^{-x}}{2} $."
   ]
  },
  {
   "cell_type": "markdown",
   "id": "c672e2bd",
   "metadata": {},
   "source": [
    "*Solução:*"
   ]
  },
  {
   "cell_type": "code",
   "execution_count": null,
   "id": "5b0a985a",
   "metadata": {},
   "outputs": [],
   "source": []
  },
  {
   "cell_type": "markdown",
   "id": "113a0a4c",
   "metadata": {},
   "source": [
    "## $ \\S 7 $ Procedimentos auxiliares<a name=\"auxiliar\"></a>"
   ]
  },
  {
   "cell_type": "code",
   "execution_count": null,
   "id": "8c392b6f",
   "metadata": {
    "tags": []
   },
   "outputs": [],
   "source": [
    "def busca_incremental(f, a, b, h):\n",
    "    \"\"\"\n",
    "    Começando com x_1 = a e x_2 = a + h e com incrementos\n",
    "    de h, retorna o primeiro par de pontos consecutivos onde\n",
    "    f assume sinais opostos.\n",
    "    \"\"\"\n",
    "    from numpy import sign\n",
    "    \n",
    "    # Inicializando:\n",
    "    x_0 = a\n",
    "    x_1 = a + h\n",
    "    f_0 = f(x_0)\n",
    "    f_1 = f(x_1)\n",
    "    \n",
    "    while sign(f_0) == sign(f_1):\n",
    "        if x_1 > b:\n",
    "            return None, None\n",
    "        x_0, f_0 = x_1, f_1\n",
    "        x_1 += h\n",
    "        f_1 = f(x_1)\n",
    "        \n",
    "    return x_0, x_1"
   ]
  },
  {
   "cell_type": "code",
   "execution_count": null,
   "id": "09a3ecc5",
   "metadata": {
    "tags": []
   },
   "outputs": [],
   "source": [
    "def plota_funcoes(a, b, N, *fs):\n",
    "    \"\"\"\n",
    "    Entradas:\n",
    "        * Extremidades a < b de um intervalo.\n",
    "        * Número N de pontos na amostra dos valores de x.\n",
    "        * Um número qualquer (>= 1) de funções definidas em [a, b].\n",
    "    Exibe num mesmo diagrama o gráfico das funções e retorna None.\n",
    "    \"\"\"\n",
    "    import matplotlib.pyplot as plt\n",
    "    import numpy as np\n",
    "    \n",
    "    \n",
    "    x = np.linspace(a, b, N)                    # Amostra de valores de x\n",
    "    for i, f in enumerate(fs):\n",
    "        plt.plot(x, f(x), label=f'função {i}')  # Plotar dados: (x, y, etiqueta).\n",
    "    plt.xlabel('Eixo-x')\n",
    "    plt.ylabel('Eixo-y')\n",
    "    plt.grid(True)\n",
    "    plt.title(\"Gráfico simples\")\n",
    "    plt.legend()\n",
    "    \n",
    "    return None"
   ]
  }
 ],
 "metadata": {
  "kernelspec": {
   "display_name": "Python 3 (ipykernel)",
   "language": "python",
   "name": "python3"
  },
  "language_info": {
   "codemirror_mode": {
    "name": "ipython",
    "version": 3
   },
   "file_extension": ".py",
   "mimetype": "text/x-python",
   "name": "python",
   "nbconvert_exporter": "python",
   "pygments_lexer": "ipython3",
   "version": "3.9.16"
  }
 },
 "nbformat": 4,
 "nbformat_minor": 5
}
