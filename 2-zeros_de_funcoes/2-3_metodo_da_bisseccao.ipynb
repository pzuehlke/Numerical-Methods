{
 "cells": [
  {
   "cell_type": "markdown",
   "id": "80bc17b7",
   "metadata": {},
   "source": [
    "$\\newcommand{\\set}[2]{\\big\\{#1\\,\\ {\\large:}\\ \\,#2\\big\\}}\n",
    "\\newcommand{\\eps}{\\varepsilon}\n",
    "\\newcommand{\\abs}[1]{\\left\\vert#1\\right\\vert}\n",
    "\\newcommand{\\ceil}[1]{\\left\\lceil#1\\right\\rceil}\n",
    "\\newcommand{\\floor}[1]{\\left\\lfloor#1\\right\\rfloor}\n",
    "$\n",
    "# O método da bissecção"
   ]
  },
  {
   "cell_type": "markdown",
   "id": "b4f00d48",
   "metadata": {},
   "source": [
    "## $ \\S 1 $ Introdução\n",
    "\n",
    "O método da bissecção é um método geral para determinação de zeros de uma função  real _contínua_ $ f $. Seu único requerimento é que tenhamos previamente identificado um intervalo $ [a, b] $ dentro do domínio de $ f $ onde ela troca de sinal. Suas principais vantagens são:\n",
    "* _Confiabilidade_: ele sempre converge a um zero, satisfeita a hipótese acima.\n",
    "* _Simplicidade_: não é necessário impor condições adicionais sobre a função nem calcular sua derivada.\n",
    "* _Rapidez_: para localizar um zero com erro menor que $ \\eps > 0 $, ele necessita de um número de passos proporcional ao _logaritmo_ de $ \\frac{b-a}{\\eps} $. Em particular, este número não depende da função.\n",
    "* _Robustez_: pequenos erros de arredondamento (comparados à precisão desejada) não impactam seu resultado.\n",
    "\n",
    "Por outro lado, o método não pode ser empregado para se localizar um zero que não pode ser encaixotado (como o da função $ x \\mapsto x^2 $). Além disto, em muitos casos é possível utilizar métodos cuja convergência é ainda mais rápida. Se queremos obter um zero de uma única função, esta diferença de desempenho não é relevante, porém a situação muda se o algoritmo precisa ser executado bilhões ou trilhões de vezes.\n",
    "\n",
    "## $ \\S 2 $ Descrição do método da bissecção\n",
    "\n",
    "Como acima, sejam $ f $ uma função real _contínua_ e $ [a, b] $ um intervalo dentro do domínio de $ f $ com\n",
    "$$\n",
    "f(a)f(b) < 0.\n",
    "$$\n",
    "No **método da bissecção**, começamos tomando $ m $ como o **ponto médio** de $ a $ e $ b $,\n",
    "$$\n",
    "m = \\frac{a+b}{2}\\,,\n",
    "$$\n",
    "e avaliando $ f $ aí. Há três possibilidades:\n",
    "* Se $ f(m)f(a) = 0 $, então $ m $ é um zero de $ f $ e podemos terminar.\n",
    "* Se $ f(m)f(a) < 0 $, então $ f $ troca de sinal em $ [a, m] $.\n",
    "* Se $ f(m)f(a) > 0 $, então $ f $ troca de sinal em $ [m, b] $.\n",
    "\n",
    "Nos dois últimos casos, podemos restringir nossa busca a um intervalo cujo comprimento é a *metade* do anterior. O Teorema do Valor Intermediário garante que este subintervalo ainda contém um zero, portanto podemos repetir o processo. Bissecções sucessivas eventualmente nos levarão a um zero ou a um encaixotamento de um zero por um subintervalo de comprimento tão pequeno quanto desejado. Quando isto acontecer, retornamos o ponto médio deste subintervalo como estimativa para o zero.\n",
    "\n",
    "**Exemplo 1:** Execute as [duas últimas células](#auxiliar) deste caderno e depois a célula logo abaixo para ver uma animação do método da bissecção aproximando um zero da função $ f(x) = x^3 - x - 3 $."
   ]
  },
  {
   "cell_type": "code",
   "execution_count": 40,
   "id": "2744e012",
   "metadata": {},
   "outputs": [
    {
     "name": "stdout",
     "output_type": "stream",
     "text": [
      "\n",
      "       n          x_n                f(x_n)       \n",
      "--------------------------------------------------\n",
      "      00         1.00000000        -3.00000000\n",
      "      01         2.00000000         3.00000000\n",
      "      02         1.50000000        -1.12500000\n",
      "      03         1.75000000         0.60937500\n",
      "      04         1.62500000        -0.33398438\n",
      "      05         1.68750000         0.11791992\n",
      "      06         1.65625000        -0.11288452\n",
      "      07         1.67187500         0.00129318\n",
      "      08         1.66406250        -0.05610037\n",
      "--------------------------------------------------\n",
      "\n"
     ]
    }
   ],
   "source": [
    "a = 1        # Extremidade esquerda do intervalo inicial, onde f vale -3.\n",
    "b = 2        # Extremidade direita, onde f vale 3.\n",
    "N = 7        # Número de iterações desejado.\n",
    "pausa = 1    # Intervalo de tempo entre cada passo da animação, em segundos.\n",
    "f = lambda x: x**3 - x - 3    # Função à qual o método será aplicado.\n",
    "# Título a ser exibido no topo do diagrama:\n",
    "titulo = \"Método da bissecção para $ y = x^3 - x - 3 $.\"\n",
    "\n",
    "xs, ys = animador_bisseccao(f, a, b, N, titulo, pausa)\n",
    "imprime_solucao(xs, ys)"
   ]
  },
  {
   "cell_type": "markdown",
   "id": "f45d3616",
   "metadata": {},
   "source": [
    "## $ \\S 2 $ Análise do desempenho do método da bissecção\n",
    "\n",
    "Cada passa do método da bissecção corta o comprimento do intervalo anterior pela metade. Portanto dez passos cortam o intervalo original por um fator de $ 2^{10} > 1\\,000 $. Mais geralmente, temos o seguinte resultado.\n",
    "\n",
    "**Teorema 2.1 (análise do método da bissecção):** _Pelo método da bissecção, o número de iterações necessário para se localizar um zero dentro do intervalo inicial $ [a, b] $ com erro menor que $ \\eps > 0 $ é dado por:_\n",
    "\\begin{equation*}\\label{E:1}\n",
    "\\boxed{\\ceil{\\lg\\bigg(\\frac{b-a}{\\eps}\\bigg)} \\quad \\text{onde $ \\lg = \\log_2 $}} \\tag{1}\n",
    "\\end{equation*}\n",
    "\n",
    "**Prova:** Começando com o intervalo $ [a,b] $ original (primeiro passo), sabemos que em cada iteração há um zero dentro do intervalo atual. Após o $ n $-ésimo passo, o comprimento do intervalo original terá sido reduzido pelo fator de $ 2^{n-1} $. Mas como o resultado do método é o ponto médio do intervalo atual, o que importa é a *metade* do seu comprimento. Logo $ n $ deve ser grande o suficiente de modo que\n",
    "$$\n",
    "    \\frac{b-a}{2^n} < \\eps, \\quad \\text{ou equivalentemente,} \\quad \n",
    "    n > \\lg \\left( \\frac{b-a}{\\eps} \\right).\n",
    "$$\n",
    "O menor inteiro que satisfaz esta desigualdade é o teto do valor à direita, como em \\eqref{E:1}. <div style=\"text-align: right\">$ \\blacksquare $ </div>\n",
    "\n",
    "📝 Informalmente, o resultado acima implica que para cada dígito adicional de precisão, precisamos de $ \\lg 10 \\approx 3.32 $ iterações a mais. Este desempenho deve ser comparado com o da busca incremental, que dependia _linearmente_ de $ \\frac{b-a}{\\eps} $; portanto para melhorar a precisão desta por um dígito decimal, precisamos _multiplicar_ o número de iterações por $ 10 $.\n",
    "\n",
    "## $ \\S 3 $ Critérios de parada e observações\n",
    "\n",
    "Os critérios de parada que podemos utilizar são essencialmente os mesmos em todos os métodos para localização de zeros:\n",
    "\n",
    "1. O comprimento do intervalo atual é menor que um $ \\eps > 0 $ pré-escolhido.\n",
    "2. O número de iterações excede uma cota prefixada.\n",
    "3. O módulo do valor da função na estimativa $ m $ atual é menor que um $ \\delta > 0 $ escolhido previamente.\n",
    "4. O módulo do valor da função na estimativa $ m $ atual é menor que um $ \\delta > 0 $ relativamente aos valores originais $ f(a) $ e $ f(b) $, i.e.:\n",
    "$$\n",
    "    \\frac{\\abs{f(m)}}{\\min\\left\\{\\abs{f(a)}\\,,\\,\\abs{f(b)}\\right\\}} < \\delta.\n",
    "$$\n",
    "\n",
    "Na implementação abaixo, o procedimento termina assim que algum dos critérios 1 ou 2 for satisfeito.\n",
    "\n",
    "⚠️ Para que possamos sequer aplicar o método da bissecção a uma função, antes é necessário ter obtido um intervalo onde ela troca de sinal. Este requerimento preliminar geralmente pode ser satisfeito com a inspeção do gráfico da função ou com uma busca incremental (conforme explicado no caderno anterior).\n",
    "\n",
    "⚠️ Se $ f $ tiver uma descontinuidade do tipo *pólo* de ordem ímpar num ponto (como a função tangente em $ \\frac{\\pi}{2} $), então o método da bissecção poderá confundi-lo com um zero; veja a figura abaixo."
   ]
  },
  {
   "cell_type": "markdown",
   "id": "30a01fc2",
   "metadata": {},
   "source": [
    "![Gráfico da função tangente](fig_2-3_grafico_tan.png \"Title\")"
   ]
  },
  {
   "cell_type": "markdown",
   "id": "ca44361d",
   "metadata": {},
   "source": [
    "## $ \\S 4 $ Implementação do método da bissecção"
   ]
  },
  {
   "cell_type": "code",
   "execution_count": 2,
   "id": "62022509",
   "metadata": {},
   "outputs": [],
   "source": [
    "def bisseccao(f, a, b, eps):\n",
    "    \"\"\"\n",
    "    Utiliza o método da bissecção para localizar um zero de uma função.\n",
    "    Entradas:\n",
    "        * A função real contínua f.\n",
    "        * As extremidades a e b de um intervalo onde f troca de sinal.\n",
    "        * A distância máxima tolerada eps do resultado a um zero.\n",
    "    Saída:\n",
    "        * Um ponto a distância menor que eps de um zero de f.\n",
    "    \"\"\"\n",
    "    from numpy import sign\n",
    "    \n",
    "    \n",
    "    iteracoes = 1                         # Contador do número de iterações.\n",
    "    f_a = f(a)                            # Gravando o valor de f em a.\n",
    "    f_b = f(b)                            # Gravando o valor de f em b.\n",
    "    if eps <= 0:\n",
    "        raise ValueError(\"A tolerância deve ser positiva!\")\n",
    "    if f_a == 0:\n",
    "        return a\n",
    "    elif f_b == 0:\n",
    "        return b\n",
    "    elif sign(f_a) == sign(f_b):          # Verifique que [a, b] contém um zero.\n",
    "        raise ValueError(\"A função assume valores de mesmo sinal \"\n",
    "                         \"nas extremidades dadas!\")\n",
    "    \n",
    "    while 0.5 * (b - a) >= eps:\n",
    "        m = 0.5 * (a + b)                 # Ponto médio do intervalo anterior.\n",
    "        f_m = f(m)                        # Gravando o valor de f em m.\n",
    "        if f_m == 0:\n",
    "            print(\"Encontrado um zero exato!\")\n",
    "            return m\n",
    "        elif sign(f_a) != sign(f_m):      # [a, m] contém um zero.\n",
    "            b = m                         # Tome o novo b como sendo m.\n",
    "        else:                             # [m, b] contém um zero.\n",
    "            a = m                         # Tome o novo a como sendo m.\n",
    "            f_a = f_m\n",
    "        iteracoes += 1\n",
    "        \n",
    "    m = 0.5 * (a + b)\n",
    "    print(f\"Encontrado um zero aproximado:\\n{m:12.7f}\")\n",
    "    print(f\"após {iteracoes} iterações, com erro de no máximo {0.5 * (b - a)}.\")\n",
    "    print(f\"O valor da função neste ponto é:\\n{f(m):12.7f}\")\n",
    "    return m"
   ]
  },
  {
   "cell_type": "markdown",
   "id": "cf99c806",
   "metadata": {},
   "source": [
    "## $ \\S 5 $ Problemas"
   ]
  },
  {
   "cell_type": "markdown",
   "id": "b41a5608",
   "metadata": {},
   "source": [
    "**Problema 1:**\n",
    "\n",
    "(a) Estime $ \\sqrt[3]{2} $ com $ 5 $ dígitos decimais de precisão usando o método da bissecção. *Dica:* Considere a função $ f(x) = x^3 - 2 $.\n",
    "\n",
    "(b) Use o Teorema 1 para calcular o número de iterações necessárias."
   ]
  },
  {
   "cell_type": "markdown",
   "id": "1ffc55c5",
   "metadata": {},
   "source": [
    "*Solução:*"
   ]
  },
  {
   "cell_type": "code",
   "execution_count": null,
   "id": "d4f23740",
   "metadata": {},
   "outputs": [],
   "source": []
  },
  {
   "cell_type": "markdown",
   "id": "61d28d56",
   "metadata": {},
   "source": [
    "**Problema 2:** Seja $ y = \\cot x $ a função cotangente. Recorde que \n",
    "$$\n",
    "\\cot\\left(-\\frac{\\pi}{4}\\right) = -1 \\quad \\text{e} \\quad \\cot\\left(\\frac{\\pi}{3}\\right) = \\frac{1}{\\sqrt{3}}\n",
    "$$\n",
    "Aplique o método da bissecção a $ f = \\cot $ no intervalo $ \\left[-\\frac{\\pi}{4}\\,,\\,\\frac{\\pi}{3}\\right] $ e explique o resultado."
   ]
  },
  {
   "cell_type": "markdown",
   "id": "913df0af",
   "metadata": {},
   "source": [
    "*Solução:*"
   ]
  },
  {
   "cell_type": "code",
   "execution_count": null,
   "id": "2e8a687a",
   "metadata": {},
   "outputs": [],
   "source": []
  },
  {
   "cell_type": "markdown",
   "id": "83c32cbd",
   "metadata": {},
   "source": [
    "**Problema 3:**\n",
    "\n",
    "(a) Encontre a menor raiz real positiva da equação\n",
    "$$\n",
    "x^3 - 3.45x^2 - 5.72 x + 6.31 = 0\n",
    "$$\n",
    "com uma precisão melhor que $ 10^{-3} $ usando o método da bissecção.\n",
    "\n",
    "(b) Considerando o intervalo original que você utilizou, quantos passos são necessários?"
   ]
  },
  {
   "cell_type": "markdown",
   "id": "26e2ec89",
   "metadata": {},
   "source": [
    "*Solução:*"
   ]
  },
  {
   "cell_type": "code",
   "execution_count": null,
   "id": "3c50e735",
   "metadata": {},
   "outputs": [],
   "source": []
  },
  {
   "cell_type": "markdown",
   "id": "d7c76c69",
   "metadata": {},
   "source": [
    "**Problema 4:** Obtenha uma estimativa para $ \\pi $, correta até a sexta casa decimal, utilizando o método da bissecção para aproximar o primeiro zero positivo da função seno. "
   ]
  },
  {
   "cell_type": "markdown",
   "id": "cb12b905",
   "metadata": {},
   "source": [
    "*Solução:*"
   ]
  },
  {
   "cell_type": "code",
   "execution_count": null,
   "id": "ac02b799",
   "metadata": {},
   "outputs": [],
   "source": []
  },
  {
   "cell_type": "markdown",
   "id": "0f8333ac",
   "metadata": {},
   "source": [
    "**Problema 5:**\n",
    "\n",
    "(a) Mostre que a equação $ xe^x = 1 $ possui uma única raiz em $ \\mathbb{R} $. *Dica:* Calcule a derivada da função $ f(x) = xe^x - 1 $.\n",
    "\n",
    "(b) Mostre que esta raiz se encontra no intervalo $ [0.5, 1] $.\n",
    "\n",
    "(c) Estime esta raiz com erro máximo de $ 10^{-4} $, usando o método da bissecção.\n",
    "\n",
    "(d) Quantos passos são necessários?"
   ]
  },
  {
   "cell_type": "markdown",
   "id": "f618b299",
   "metadata": {},
   "source": [
    "*Solução:*"
   ]
  },
  {
   "cell_type": "code",
   "execution_count": null,
   "id": "daefc18b",
   "metadata": {},
   "outputs": [],
   "source": []
  },
  {
   "cell_type": "markdown",
   "id": "b89800dd",
   "metadata": {},
   "source": [
    "**Problema 6:** Resolva o exercício anterior para a equação $ x^2 + \\ln x = 0 $."
   ]
  },
  {
   "cell_type": "markdown",
   "id": "00bfb25f",
   "metadata": {},
   "source": [
    "*Solução:*"
   ]
  },
  {
   "cell_type": "code",
   "execution_count": null,
   "id": "5739516e",
   "metadata": {},
   "outputs": [],
   "source": []
  },
  {
   "cell_type": "markdown",
   "id": "c24c1770",
   "metadata": {},
   "source": [
    "**Problema 7:** Encontre uma raiz de cada uma das equações abaixo com erro $ < 10^{-3} $. *Dica:* Antes de aplicar o método da bissecção, é necessário encaixotar um zero. Para isto, utilize a análise gráfica ou a busca incremental. Os procedimentos correspondentes estão na última seção deste caderno.\n",
    "\n",
    "(a) $ x \\ln x = 1 $.\n",
    "\n",
    "(b) $ \\cos x = x^2 $.\n",
    "\n",
    "(c) $ x^5 - 3x^4 - 6x^3 + 4x^2 + 5x - 3 = 0 $.\n",
    "\n",
    "(d) $ \\tan x = x + 2 e^x $.\n",
    "\n",
    "(e) $ \\cos x \\cosh x = 1 $, onde por definição $ \\cosh x = \\frac{e^x + e^{-x}}{2} $."
   ]
  },
  {
   "cell_type": "markdown",
   "id": "c672e2bd",
   "metadata": {},
   "source": [
    "*Solução:*"
   ]
  },
  {
   "cell_type": "code",
   "execution_count": null,
   "id": "5b0a985a",
   "metadata": {},
   "outputs": [],
   "source": []
  },
  {
   "cell_type": "markdown",
   "id": "113a0a4c",
   "metadata": {},
   "source": [
    "## $ \\S 6 $ Procedimentos auxiliares<a name=\"auxiliar\"></a>"
   ]
  },
  {
   "cell_type": "code",
   "execution_count": null,
   "id": "8c392b6f",
   "metadata": {},
   "outputs": [],
   "source": [
    "def busca_incremental(f, a, b, h):\n",
    "    \"\"\"\n",
    "    Começando com x_1 = a e x_2 = a + h e com incrementos\n",
    "    de h, retorna o primeiro par de pontos consecutivos onde\n",
    "    f assume sinais opostos.\n",
    "    \"\"\"\n",
    "    from numpy import sign\n",
    "    \n",
    "    # Inicializando:\n",
    "    x_0 = a\n",
    "    x_1 = a + h\n",
    "    f_0 = f(x_0)\n",
    "    f_1 = f(x_1)\n",
    "    \n",
    "    while sign(f_0) == sign(f_1):\n",
    "        if x_1 > b:\n",
    "            return None, None\n",
    "        x_0, f_0 = x_1, f_1\n",
    "        x_1 += h\n",
    "        f_1 = f(x_1)\n",
    "        \n",
    "    return x_0, x_1"
   ]
  },
  {
   "cell_type": "code",
   "execution_count": null,
   "id": "09a3ecc5",
   "metadata": {},
   "outputs": [],
   "source": [
    "def plota_funcoes(a, b, N, *fs):\n",
    "    \"\"\"\n",
    "    Entradas:\n",
    "        * Extremidades a < b de um intervalo.\n",
    "        * Número N de pontos na amostra dos valores de x.\n",
    "        * Um número qualquer (>= 1) de funções definidas em [a, b].\n",
    "    Exibe num mesmo diagrama o gráfico das funções e retorna None.\n",
    "    \"\"\"\n",
    "    import matplotlib.pyplot as plt\n",
    "    import numpy as np\n",
    "    \n",
    "    \n",
    "    x = np.linspace(a, b, N)                    # Amostra de valores de x\n",
    "    for i, f in enumerate(fs):\n",
    "        plt.plot(x, f(x), label=f'função {i}')  # Plotar dados: (x, y, etiqueta).\n",
    "    plt.xlabel('Eixo-x')\n",
    "    plt.ylabel('Eixo-y')\n",
    "    plt.grid(True)\n",
    "    plt.title(\"Gráfico simples\")\n",
    "    plt.legend()\n",
    "    \n",
    "    return None"
   ]
  },
  {
   "cell_type": "code",
   "execution_count": 1,
   "id": "ccdf2bd2",
   "metadata": {},
   "outputs": [],
   "source": [
    "def imprime_solucao(xs, ys, freq=1):\n",
    "    \"\"\"\n",
    "    Dados dois arrays xs e ys de mesmo comprimento, imprime um\n",
    "    a cada 'freq' de seus valores por linha, na forma de uma\n",
    "    tabela. Os 0-ésimos e últimos valores sempre são impressos.\n",
    "    \"\"\"\n",
    "    def imprime_cabecalho():\n",
    "        \"\"\"\n",
    "        Imprime o cabeçalho da tabela.\n",
    "        \"\"\"\n",
    "        print(\"\\n       n      \", end=\"\")\n",
    "        print(\"    x_n            \", end=\"\")\n",
    "        print(\"    f(x_n)       \")\n",
    "        print(\"--------------------------------------------------\")\n",
    "        \n",
    "        \n",
    "    def imprime_linha(x, y):\n",
    "        \"\"\"\n",
    "        Imprime uma das linhas da tabela.\n",
    "        \"\"\"\n",
    "        print(f\"      {n:02}\", end=\"\")\n",
    "        print(f\"    {x:15.8f}\", end=\"\")\n",
    "        print(f\"    {y:15.8f}\")\n",
    "    \n",
    "    \n",
    "    N = len(ys) - 1        # N + 1 é o número de nodos; N o de passos.\n",
    "    if freq == 0:          # Se freq == 0, imprime apenas os últimos valores.\n",
    "        freq = N\n",
    "    imprime_cabecalho()\n",
    "    for n in range(0, N + 1, freq):\n",
    "        imprime_linha(xs[n], ys[n])\n",
    "    if n != N:\n",
    "        imprime_linha(xs[N], ys[N])\n",
    "    print(\"--------------------------------------------------\\n\")\n",
    "        \n",
    "    return None"
   ]
  },
  {
   "cell_type": "code",
   "execution_count": 37,
   "id": "629d5b40",
   "metadata": {},
   "outputs": [],
   "source": [
    "%matplotlib qt\n",
    "\n",
    "def animador_bisseccao(f, a, b, N=4, titulo=\"\", pausa=1.0):\n",
    "    import matplotlib.pyplot as plt\n",
    "    import numpy as np\n",
    "    \n",
    "    def iteracao(a, b):\n",
    "        m = 0.5 * (a + b)                      # Ponto médio do intervalo.\n",
    "        if np.sign(f(a)) != np.sign(f(m)):     # [a, m] contém um zero.\n",
    "            return m, a, m\n",
    "        else:                                  # [m, b] contém um zero.\n",
    "            return m, m, b\n",
    "    \n",
    "    P = 200\n",
    "    dominio = np.linspace(a, b, P)\n",
    "    xs = [a, b]\n",
    "    ys = [f(a), f(b)]\n",
    "    for _ in range(N):\n",
    "        m, a, b = iteracao(a, b)\n",
    "        xs.append(m)\n",
    "    ys = [f(x) for x in xs]\n",
    "                            \n",
    "    xs_vert = [np.linspace(xs[n], xs[n], P) for n in range(N)]\n",
    "    ys_vert = [np.linspace(0, ys[n], P) for n in range(N)]\n",
    "\n",
    "    plt.axhline(y=0.0, color='black', linestyle='-')#, label='eixo-$ x $')\n",
    "    plt.plot(dominio, f(dominio), label='$ y = f(x) $')\n",
    "    plt.xlabel('Eixo-$ x $')\n",
    "    plt.ylabel('Eixo-$ y $')\n",
    "    plt.title(titulo)\n",
    "    plt.grid(True)\n",
    "    if pausa > 0:\n",
    "            plt.pause(pausa)\n",
    "    plt.plot(xs[0], 0, color='black', marker=\"|\", mew=2.0)\n",
    "    plt.plot(xs_vert[0], ys_vert[0], linestyle='-', linewidth=1.0, label='$ a $')\n",
    "    plt.plot(xs[0], ys[0], color='black', marker=\"o\", mew=0.2)\n",
    "    plt.legend()\n",
    "    if pausa > 0:\n",
    "            plt.pause(pausa)\n",
    "    plt.plot(xs[1], 0, color='black', marker=\"|\", mew=2.0)\n",
    "    plt.plot(xs_vert[1], ys_vert[1], linestyle='-', linewidth=1.0, label='$ b $')\n",
    "    plt.plot(xs[1], ys[1], color='black', marker=\"o\", mew=0.2)\n",
    "    plt.legend()\n",
    "    for n in range(2, N):\n",
    "        if pausa > 0:\n",
    "            plt.pause(pausa)\n",
    "        plt.plot(xs[n], 0, color='black', marker=\"|\", mew=2.0)\n",
    "        if pausa > 0:\n",
    "            plt.pause(pausa)\n",
    "        plt.plot(xs_vert[n], ys_vert[n], linestyle='-',\n",
    "                 linewidth=1.0, label=f'$ m_{n - 1} $')\n",
    "        plt.plot(xs[n], ys[n], color='black', marker=\"o\", mew=0.2)\n",
    "        plt.legend()\n",
    "    return xs, ys"
   ]
  },
  {
   "cell_type": "code",
   "execution_count": null,
   "id": "61985d69",
   "metadata": {},
   "outputs": [],
   "source": []
  }
 ],
 "metadata": {
  "kernelspec": {
   "display_name": "Python 3 (ipykernel)",
   "language": "python",
   "name": "python3"
  },
  "language_info": {
   "codemirror_mode": {
    "name": "ipython",
    "version": 3
   },
   "file_extension": ".py",
   "mimetype": "text/x-python",
   "name": "python",
   "nbconvert_exporter": "python",
   "pygments_lexer": "ipython3",
   "version": "3.9.15"
  }
 },
 "nbformat": 4,
 "nbformat_minor": 5
}
