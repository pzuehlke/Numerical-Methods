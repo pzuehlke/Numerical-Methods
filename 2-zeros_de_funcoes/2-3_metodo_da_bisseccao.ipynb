{
 "cells": [
  {
   "cell_type": "code",
   "execution_count": 1,
   "id": "0567279e-d482-487f-add1-c0f2b3e1df51",
   "metadata": {},
   "outputs": [],
   "source": [
    "import matplotlib.pyplot as plt\n",
    "import numpy as np\n",
    "from typing import Callable\n",
    "%load_ext autoreload\n",
    "%autoreload 2\n",
    "%matplotlib qt"
   ]
  },
  {
   "attachments": {},
   "cell_type": "markdown",
   "id": "b4f00d48",
   "metadata": {},
   "source": [
    "# O método da bissecção\n",
    "\n",
    "## $ \\S 1 $ Introdução\n",
    "\n",
    "O método da bissecção é um procedimento geral para determinação de zeros de uma\n",
    "função  real $ f $. Seus únicos requerimentos são que a função seja contínua e\n",
    "que tenhamos previamente identificado um intervalo $ [a, b] $ dentro do domínio\n",
    "de $ f $ onde ela troca de sinal. Seus principais méritos são:\n",
    "* _Confiabilidade_: ele sempre converge a um zero, satisfeitas as hipóteses\n",
    "  acima.\n",
    "* _Simplicidade_: ele é facilmente implementado, abrangente e não é necessário calcular a\n",
    "  derivada da função.\n",
    "* _Robustez_: pequenos erros de arredondamento (comparados à precisão desejada)\n",
    "  não impactam seu resultado.\n",
    "\n",
    "Por outro lado, o método não pode ser empregado para se localizar um zero de\n",
    "multiplicidade par (como o da função $ x \\mapsto x^2 $). Além disto, em muitos\n",
    "casos é possível utilizar métodos cuja convergência é ainda mais rápida. Se\n",
    "queremos obter um zero de uma única função, esta diferença de desempenho não é\n",
    "relevante, porém a situação muda se o algoritmo precisa ser executado bilhões ou\n",
    "trilhões de vezes.\n",
    "\n",
    "## $ \\S 2 $ Descrição do método da bissecção\n",
    "\n",
    "Como acima, sejam $ f $ uma função real _contínua_ e $ [a, b] $ um intervalo\n",
    "dentro do domínio de $ f $ tal que\n",
    "$$\n",
    "\\boxed{\\operatorname{sinal} f(a) \\ne \\operatorname{sinal} f(b)}\n",
    "$$\n",
    "No **método da bissecção** começamos tomando $ m $ como o **ponto médio** de $ a $ e $ b $,\n",
    "$$\n",
    "\\boxed{m = \\frac{a+b}{2}} \n",
    "$$\n",
    "e avaliando $ f $ aí. Há três possibilidades:\n",
    "* Se $ f(m)= 0 $, então $ m $ é um zero de $ f $ e podemos terminar.\n",
    "* Se $ \\operatorname{sinal} f(m)  \\neq \\operatorname{sinal} f(a) $, então $ f $\n",
    "  troca de sinal em $ [a, m] $. Neste caso fazemos $ b \\leftarrow m $.\n",
    "* Se $ \\operatorname{sinal} f(m) = \\operatorname{sinal} f(a) $, então $ f $\n",
    "  troca de sinal em $ [m, b] $. Neste caso fazemos $ a \\leftarrow m $.\n",
    "\n",
    "Nos dois últimos casos, podemos restringir nossa busca a um intervalo cujo\n",
    "comprimento é a *metade* do anterior. O teorema do valor intermediário garante\n",
    "que este subintervalo ainda contém um zero, portanto podemos aplicar o mesmo\n",
    "procedimento a ele, usando os valores atualizados de $ a $ e $ b $.  Bissecções\n",
    "sucessivas eventualmente nos levarão a um zero ou a um encaixotamento de um zero\n",
    "por um subintervalo de comprimento tão pequeno quanto desejado.  Quando isto\n",
    "acontecer, retornamos o ponto médio deste subintervalo como estimativa para o\n",
    "zero.\n",
    "\n",
    "📝 O método da bissecção também é conhecido como _busca binária_.\n",
    "\n",
    "📝 Não é necessário _isolar_ um zero dentro do intervalo inicial, ou seja, o método funciona mesmo que haja mais de um zero dentro de $ [a, b] $.\n",
    "\n",
    "**Exemplo 1:** Execute em seqüência as três células abaixo para ver uma animação do método da bissecção aproximando um zero da função $ f(x) = x^3 - x - 3 $ (em $ 1.6717 $, aproximadamente)."
   ]
  },
  {
   "cell_type": "code",
   "execution_count": 38,
   "id": "4f5666d4-870e-4a69-ba0f-a258b074ab5b",
   "metadata": {
    "tags": []
   },
   "outputs": [],
   "source": [
    "def print_solution(xs: list[float], ys: list[float], freq: int = 1) -> None:\n",
    "    \"\"\"\n",
    "    Given two arrays xs and ys of the same length, prints a table whose n-th\n",
    "    line consists of three entries: the values of n, xs[n] and ys[n].\n",
    "    Parameters:\n",
    "        * The arrays xs and ys. \n",
    "        * A parameter freq used to print only one in every freq line. The\n",
    "          first, second and last line are always printed. If freq == 0, then\n",
    "          only these lines are printed.\n",
    "    Output: None.\n",
    "    Prints: A header and the table described above.\n",
    "    \"\"\"\n",
    "    def print_header() -> None:\n",
    "        \"\"\"\n",
    "        Prints the table's header.\n",
    "        \"\"\"\n",
    "        print(\"\\n|       n      \", end=\"\")\n",
    "        print(\"    x_n            \", end=\"\")\n",
    "        print(\"    f(x_n)      |\")\n",
    "        print(\"|=================================================|\")\n",
    "        \n",
    "    def print_line(n: int, x: float, y: float) -> None:\n",
    "        \"\"\"\n",
    "        Pretty-prints n, x and y.\n",
    "        \"\"\"\n",
    "        if n == 0:\n",
    "            print(f\"|       a\", end=\"\")\n",
    "        elif n == 1:\n",
    "            print(f\"|       b\", end=\"\")\n",
    "        else:\n",
    "            print(f\"|      {n - 1:02}\", end=\"\")\n",
    "        print(f\"    {x:15.8f}\", end=\"\")\n",
    "        print(f\"    {y:15.8f}   |\")\n",
    "    \n",
    "    \n",
    "    N = len(xs)\n",
    "    if freq == 0:       # If freq == 0, print only first and last lines.\n",
    "        freq = N - 1\n",
    "    print_header()\n",
    "    for n in range(0, 2):\n",
    "        print_line(n, xs[n], ys[n])\n",
    "    for n in range(2, N, freq):\n",
    "        print_line(n, xs[n], ys[n])\n",
    "    if n != N - 1:\n",
    "        print_line(n, xs[N], ys[N])\n",
    "    print(\"|_________________________________________________|\\n\")\n",
    "        \n",
    "    return None"
   ]
  },
  {
   "cell_type": "code",
   "execution_count": 5,
   "id": "3044d5f8-05cf-4e55-8c7e-1152b0b5443a",
   "metadata": {
    "tags": []
   },
   "outputs": [],
   "source": [
    "def bisection_animation(f: Callable[[float], float], a: float, b :float,\n",
    "                        N: int = 4, title: str = \"\", duration: float = 0.75\n",
    "                        ) -> tuple[list[float], list[float]]:\n",
    "    \"\"\"\n",
    "    Displays an animation of the bissection method applied to a function.\n",
    "    Parameters:\n",
    "        * A continuous real function f.\n",
    "        * The two endpoints a and b of an interval such that f(a)f(b) < 0.\n",
    "        * The maximum number N of iterations.\n",
    "        * A title to be displayed at the top of the diagram.\n",
    "        * The duration of the pause between slides of the animation, in seconds.\n",
    "          Set duration = 0 to produce a figure instead of an animation.\n",
    "    Output:\n",
    "        * Two lists xs and ys containing the estimates and the values of the\n",
    "          function f at each of them.\n",
    "    Displays:\n",
    "        * The animation in a pop-up window.\n",
    "    \"\"\"\n",
    "    import matplotlib.pyplot as plt\n",
    "    import numpy as np\n",
    "    %matplotlib qt\n",
    "    \n",
    "    \n",
    "    def pause(duration):\n",
    "        \"\"\"\n",
    "        Pauses the animation for duration seconds, provided duration > 0.\n",
    "        \"\"\"\n",
    "        if duration > 0:\n",
    "            plt.pause(duration)\n",
    "\n",
    "    def iterate(a, b):\n",
    "        \"\"\"\n",
    "        Applies a single step of the bisection method to the interval [a, b].\n",
    "        Returns its midpoint and the left, right endpoints of the next interval.\n",
    "        \"\"\"\n",
    "        m = 0.5 * (a + b)                      # Midpoint of [a, b].\n",
    "        if np.sign(f(a)) != np.sign(f(m)):     # [a, m] contains a zero.\n",
    "            return m, a, m\n",
    "        else:                                  # [m, b] contains a zero.\n",
    "            return m, m, b\n",
    "    \n",
    "    \n",
    "    cmap = plt.get_cmap(\"tab10\")               # Used to control the colors.\n",
    "    P = 200                                    # Number of points in each plot.\n",
    "    width = 1.75                               # Line width.\n",
    "    marker_size = 5\n",
    "    domain = np.linspace(a, b, P)              # Generates P nodes from a to b.\n",
    "    xs = [a, b]                                # Stores the estimates.\n",
    "    for _ in range(N):                         # Filling xs.\n",
    "        m, a, b = iterate(a, b)\n",
    "        xs.append(m)\n",
    "    ys = [f(x) for x in xs]                    # Stores f of the estimates.\n",
    "    # Lists containing the x and y coordinates for plotting vertical lines:\n",
    "    xs_vert = [np.linspace(xs[n], xs[n], P) for n in range(N + 2)]\n",
    "    ys_vert = [np.linspace(0, ys[n], P) for n in range(N + 2)]\n",
    "    \n",
    "    # Draw the graph of f:\n",
    "    plt.axhline(y=0.0, color='black', linestyle='-', lw=width)\n",
    "    plt.xlabel(\"$ x $-axis\")\n",
    "    plt.ylabel(\"$ y $-axis\")\n",
    "    plt.title(title)\n",
    "    plt.grid(True)\n",
    "    plt.plot(domain, f(domain), label=\"$ y = f(x) $\", lw=width)\n",
    "    plt.legend()\n",
    "\n",
    "    # Mark a on the x-axis and draw the vertical line x = a:\n",
    "    pause(duration)\n",
    "    plt.plot(xs[0], 0, color=cmap(1), marker=\"x\",\n",
    "             mew=width, label=f'$ a $')\n",
    "    pause(duration)\n",
    "    plt.plot(xs_vert[0], ys_vert[0], linestyle='--', lw=width)\n",
    "    plt.plot(xs[0], ys[0], color='black', marker=\"o\", ms=marker_size)\n",
    "    plt.plot(xs[0], 0, color=cmap(1), marker=\"x\", mew=width)\n",
    "    plt.legend()\n",
    "    \n",
    "    # Mark b on the x-axis and draw the vertical line x = b:\n",
    "    pause(duration)\n",
    "    plt.plot(xs[1], 0, color=cmap(2), marker=\"x\",\n",
    "             mew=width, label=f'$ b $')\n",
    "    pause(duration)\n",
    "    plt.plot(xs_vert[1], ys_vert[1], linestyle='--', lw=width)\n",
    "    plt.plot(xs[1], ys[1], color='black', marker=\"o\", ms=marker_size)\n",
    "    plt.plot(xs[1], 0, color=cmap(2), marker=\"x\", mew=width)\n",
    "    plt.legend()\n",
    "    \n",
    "    for n in range(2, N + 2):\n",
    "        pause(duration)\n",
    "        # Mark x_n on the x-axis:\n",
    "        plt.plot(xs[n], 0, color=cmap(n + 1), marker=\"x\",\n",
    "                 mew=width, label=f'$ x_{n - 1} $')\n",
    "        if n < N + 1:\n",
    "            pause(duration)\n",
    "            # Draw the vertical line x = x_n and plot (x_n, y_n):\n",
    "            plt.plot(xs_vert[n], ys_vert[n], linestyle='--',\n",
    "                    lw=width)\n",
    "            plt.plot(xs[n], ys[n], color='black', marker=\"o\", ms=marker_size)\n",
    "            plt.plot(xs[n], 0, color=cmap(n + 1), marker=\"x\",\n",
    "                    mew=width)\n",
    "    plt.legend()\n",
    "    \n",
    "    return xs, ys"
   ]
  },
  {
   "cell_type": "code",
   "execution_count": 53,
   "id": "2744e012",
   "metadata": {
    "tags": []
   },
   "outputs": [],
   "source": [
    "a = 0           # Extremidade esquerda do intervalo inicial, onde f vale -3.\n",
    "b = 2           # Extremidade direita, onde f vale 3.\n",
    "N = 5           # Número de iterações desejado.\n",
    "pausa = 1.0     # Intervalo de tempo entre cada passo da animação, em segundos.\n",
    "f = lambda x: x**3 - x - 3    # Função à qual o método será aplicado.\n",
    "# Título a ser exibido no topo do diagrama:\n",
    "titulo = \"Método da bissecção para $ y = x^3 - x - 3,\\ a = 0,\\ b = 2 $.\"\n",
    "\n",
    "xs, ys = bisection_animation(f, a, b, N, titulo, pausa)"
   ]
  },
  {
   "cell_type": "markdown",
   "id": "922042c9-8725-46d4-82f7-a99e769251f8",
   "metadata": {
    "tags": []
   },
   "source": [
    "![Exemplo do método da bissecção](fig_2-3_exemplo_1.png \"Exemplo de aplicação do método da bissecção\")"
   ]
  },
  {
   "cell_type": "code",
   "execution_count": 40,
   "id": "46ed9276-ac12-495f-876d-baba0d7d601d",
   "metadata": {},
   "outputs": [
    {
     "name": "stdout",
     "output_type": "stream",
     "text": [
      "\n",
      "|       n          x_n                f(x_n)      |\n",
      "|=================================================|\n",
      "|       a         0.00000000        -3.00000000   |\n",
      "|       b         2.00000000         3.00000000   |\n",
      "|      01         1.00000000        -3.00000000   |\n",
      "|      02         1.50000000        -1.12500000   |\n",
      "|      03         1.75000000         0.60937500   |\n",
      "|      04         1.62500000        -0.33398438   |\n",
      "|      05         1.68750000         0.11791992   |\n",
      "|_________________________________________________|\n",
      "\n"
     ]
    }
   ],
   "source": [
    "print_solution(xs, ys)"
   ]
  },
  {
   "attachments": {},
   "cell_type": "markdown",
   "id": "830da521",
   "metadata": {},
   "source": [
    "## $ \\S 3 $ Critérios de parada e observações\n",
    "\n",
    "Os critérios de parada que podemos utilizar são essencialmente os mesmos em\n",
    "todos os métodos para determinação de zeros:\n",
    "\n",
    "1. A distância da estimativa atual a um zero é menor que um $ \\varepsilon > 0 $ pré-escolhido.\n",
    "2. O módulo do valor da função na estimativa atual é menor que um $ \\delta > 0 $ escolhido previamente.\n",
    "3. O número de iterações excede uma cota prefixada.\n",
    "\n",
    "Além destas, podemos também considerar versões _relativas_ de 1 e 2, por exemplo:\n",
    "\n",
    "4. O módulo do valor da função na estimativa $ m $ atual é menor que um $ \\delta > 0 $ relativamente aos valores originais $ f(a) $ e $ f(b) $, i.e.:\n",
    "$$\n",
    "    \\frac{|f(m)|}{\\min\\left\\{|f(a)|\\,,\\,|f(b)|\\right\\}} < \\delta.\n",
    "$$\n",
    "\n",
    "📝 Na implementação abaixo, o procedimento termina assim que algum dos critérios\n",
    "1 ou 3 for satisfeito.\n",
    "\n",
    "⚠️ Para que possamos sequer aplicar o método da bissecção a uma função, antes é\n",
    "necessário ter obtido um intervalo onde ela troca de sinal. Este requerimento\n",
    "preliminar geralmente pode ser satisfeito com a inspeção do gráfico da função ou\n",
    "com uma busca incremental (conforme explicado no caderno anterior).\n",
    "\n",
    "⚠️ Por definição, $ a $ é um **pólo** de ordem $ m $ de uma função $ f $ se ele\n",
    "é um zero de multiplicidade $ m $ de $ 1 / f(x) $. Se $ f $ tiver um pólo de\n",
    "ordem ímpar num ponto, como o da função $ x \\mapsto \\frac{1}{x} $ em $ x = 0 $,\n",
    "então o método da bissecção poderá confundi-lo com um zero. Execute a animação\n",
    "abaixo para entender o que acontece nestes casos."
   ]
  },
  {
   "cell_type": "code",
   "execution_count": 8,
   "id": "a0a35dce-cb02-4865-8f7f-7713a0fe3a80",
   "metadata": {},
   "outputs": [],
   "source": [
    "a = -0.15       # Extremidade esquerda do intervalo inicial.\n",
    "b = 0.22        # Extremidade direita.\n",
    "N = 6           # Número de iterações desejado.\n",
    "pausa = 0.75    # Intervalo de tempo entre cada passo da animação, em segundos.\n",
    "f = lambda x: 1 / x   # Função à qual o método será aplicado.\n",
    "# Título a ser exibido no topo do diagrama:\n",
    "titulo = \"Método da bissecção para $ y = 1/x,\\ a = -0.15,\\ b = 0.22 $;\\n\"\\\n",
    "         \"confundindo um pólo de ordem ímpar com um zero.\"\n",
    "\n",
    "xs, ys = bisection_animation(f, a, b, N, titulo, pausa)"
   ]
  },
  {
   "cell_type": "markdown",
   "id": "30a01fc2",
   "metadata": {},
   "source": [
    "![Pólo de ordem ímpar](fig_2-3_exemplo_2.png \"Método da bissecção confundindo um pólo de ordem ímpar com um zero\")"
   ]
  },
  {
   "cell_type": "code",
   "execution_count": 9,
   "id": "0ccc21ea-11a9-482c-a58c-ec39e681d31d",
   "metadata": {},
   "outputs": [
    {
     "name": "stdout",
     "output_type": "stream",
     "text": [
      "\n",
      "|       n          x_n                f(x_n)      |\n",
      "|=================================================|\n",
      "|       a        -0.15000000        -6.66666667   |\n",
      "|       b         0.22000000         4.54545455   |\n",
      "|      01         0.03500000        28.57142857   |\n",
      "|      02        -0.05750000       -17.39130435   |\n",
      "|      03        -0.01125000       -88.88888889   |\n",
      "|      04         0.01187500        84.21052632   |\n",
      "|      05         0.00031250      3200.00000000   |\n",
      "|      06        -0.00546875      -182.85714286   |\n",
      "|_________________________________________________|\n",
      "\n"
     ]
    }
   ],
   "source": [
    "print_solution(xs, ys)"
   ]
  },
  {
   "cell_type": "markdown",
   "id": "f254f4c1",
   "metadata": {},
   "source": [
    "## $ \\S 4 $ Implementação do método da bissecção"
   ]
  },
  {
   "cell_type": "code",
   "execution_count": 49,
   "id": "f4253673",
   "metadata": {},
   "outputs": [],
   "source": [
    "def bisection(f: Callable[[float], float], a: float, b: float,\n",
    "              eps: float = 1e-3, max_iter: int = 100\n",
    "              )-> tuple[list[float], list[float]]:\n",
    "    \"\"\"\n",
    "    Uses the bisection method to approximate a zero of a function.\n",
    "    Parameters:\n",
    "        * A real continuous function f.\n",
    "        * Points a and b such that f(a)f(b) < 0 and f is defined on [a, b].\n",
    "        * The maximum tolerance eps for the error.\n",
    "        * The maximum number max_iter of iterations.\n",
    "    Output:\n",
    "        * Two lists, xs and ys, containing the estimates and the values of f\n",
    "          at each of them, respectively.\n",
    "    Prints:\n",
    "        * The last estimate.\n",
    "        * The value of f at this estimate.\n",
    "        * The number of iterations that were performed.\n",
    "        * An upper bound for the error.\n",
    "    \"\"\"\n",
    "    from numpy import sign\n",
    "    \n",
    "\n",
    "    iterations = 0                        # Counts the number of iterations.\n",
    "    f_a = f(a)                            # Storing the value of f at a.\n",
    "    f_b = f(b)                            # Storing the value of f at b.\n",
    "    xs = [a, b]                           # List to store the estimates.\n",
    "    ys = [f_a, f_b]                       # List to store f of the estimates.\n",
    "    if eps <= 0:                          # Error: invalid value for eps.\n",
    "        raise ValueError(\"The tolerance must be positive!\")\n",
    "    if f_a == 0:                          # a is a zero.\n",
    "        print(f\"a = {a:15.9f} is an exact zero.\")\n",
    "        return a\n",
    "    elif f_b == 0:                        # b is a zero.\n",
    "        print(f\"b = {b:15.9f} is an exact zero.\")\n",
    "        return b\n",
    "    elif sign(f_a) == sign(f_b):          # Error: cannot guarantee zero exists.\n",
    "        raise ValueError(\"The function takes on the same sign \"\n",
    "                         \"at the given endpoints!\")\n",
    "    \n",
    "    while (b - a) >= eps and iterations <= max_iter:\n",
    "        m = 0.5 * (a + b)                 # Midpoint of current interval.\n",
    "        f_m = f(m)                        # Storing the value of f at m.\n",
    "        xs.append(m)                      # Append the new estimate.\n",
    "        ys.append(f_m)                    # Append f of the new estimate.\n",
    "        if f_m == 0:                      # m is a zero.\n",
    "            print(f\"Found an exact zero at {m:15.9f}.\")\n",
    "            return m\n",
    "        elif sign(f_a) != sign(f_m):      # [a, m] contains a zero.\n",
    "            b = m                         # Make m the new b.\n",
    "            f_b = f_m\n",
    "        else:                             # [m, b] contains a zero.\n",
    "            a = m                         # Make m the new a.\n",
    "            f_a = f_m\n",
    "        iterations += 1                   # Update the number of iterations.\n",
    "        \n",
    "    print(f\"Found an approximate zero at\\n{m:15.9f}\")\n",
    "    print(f\"after {iterations} iterations, with an error of at most {b - a}.\")\n",
    "    print(f\"The value of f at this point is\\n{f(m):15.9f}\")\n",
    "    \n",
    "    return xs, ys"
   ]
  },
  {
   "attachments": {},
   "cell_type": "markdown",
   "id": "2231e965",
   "metadata": {},
   "source": [
    "__Problema 1:__ Obtenha uma estimativa para $ \\pi $, correta até a sexta casa\n",
    "decimal, utilizando o método da bissecção para aproximar o primeiro zero\n",
    "positivo da função seno. "
   ]
  },
  {
   "cell_type": "markdown",
   "id": "865e60fc",
   "metadata": {},
   "source": [
    "*Solução:*"
   ]
  },
  {
   "cell_type": "code",
   "execution_count": null,
   "id": "45a99b35",
   "metadata": {},
   "outputs": [],
   "source": []
  },
  {
   "attachments": {},
   "cell_type": "markdown",
   "id": "af98a119",
   "metadata": {},
   "source": [
    "__Problema 2:__ \n",
    "\n",
    "(a) Mostre que a equação $ \\frac{2}{x} + \\frac{5}{x^3} = x $ admite exatamente\n",
    "duas raízes, uma positiva, outra negativa.\n",
    "\n",
    "(b) Determine estas raízes com uma precisão melhor que $ 10^{-6} $ usando o\n",
    "método da bissecção.\n",
    "\n",
    "(c) Aplicando-se o método da bissecção com intervalo inicial $ [-2, 1] $ à função\n",
    "$$\n",
    "    f(x) = \\frac{2}{x} + \\frac{5}{x^3} - x\n",
    "$$\n",
    "é produzida uma seqüência que parece convergir a $ 0 $, mas esta função sequer\n",
    "está definida aí. Justifique."
   ]
  },
  {
   "cell_type": "markdown",
   "id": "731ee84c",
   "metadata": {},
   "source": [
    "*Solução:*"
   ]
  },
  {
   "cell_type": "code",
   "execution_count": null,
   "id": "9ccd8c41",
   "metadata": {},
   "outputs": [],
   "source": []
  },
  {
   "attachments": {},
   "cell_type": "markdown",
   "id": "2eb022e3",
   "metadata": {},
   "source": [
    "## $ \\S 5 $ Análise do desempenho do método da bissecção\n",
    "\n",
    "Cada passo do método da bissecção corta o comprimento do intervalo anterior pela metade. Portanto dez passos reduzem o comprimento do intervalo original por um fator de $ 2^{10} > 1\\,000 $. Mais geralmente, temos o seguinte resultado.\n",
    "\n",
    "**Teorema 4.1 (análise do método da bissecção):** _Pelo método da bissecção, o\n",
    "número de iterações necessário para se localizar um zero dentro do intervalo\n",
    "inicial $ [a, b] $ com erro menor que $ \\varepsilon > 0 $ é dado por:_\n",
    "\\begin{equation*}\\label{E:1}\n",
    "    \\boxed{\\lceil{\\lg\\bigg(\\frac{b-a}{\\varepsilon}\\bigg)}\\rceil \\quad \\text{onde $ \\lg = \\log_2 $}} \\tag{1}\n",
    "\\end{equation*}\n",
    "\n",
    "**Prova:** Começando com o intervalo $ [a,b] $ original (primeiro passo),\n",
    "sabemos que a cada iteração há um zero dentro do intervalo atual. Após o $ n\n",
    "$-ésimo passo, o comprimento de $ [a, b] $ terá sido reduzido pelo fator de $\n",
    "2^{n-1} $. Mas como o resultado do método é o ponto médio do último intervalo\n",
    "considerado, o que importa é a _metade_ do seu comprimento, já que esta é uma\n",
    "cota superior para a distância do ponto médio a um zero. Logo $ n $ deve ser\n",
    "grande o suficiente de modo que\n",
    "$$\n",
    "    \\frac{b-a}{2^n} < \\varepsilon, \\quad \\text{ou equivalentemente,} \\quad \n",
    "    n > \\lg \\left( \\frac{b-a}{\\varepsilon} \\right).\n",
    "$$\n",
    "O menor inteiro que satisfaz esta desigualdade é o teto do valor à direita, como\n",
    "em \\eqref{E:1}. $\\ \\ \\blacksquare $\n",
    "\n",
    "📝 Informalmente, o resultado acima implica que para cada dígito adicional de\n",
    "precisão, precisamos de $ \\lg 10 \\approx 3.32 $ iterações a mais. Este\n",
    "desempenho deve ser comparado com o da busca incremental, que dependia\n",
    "_linearmente_ de $ \\frac{b-a}{\\varepsilon} $; portanto para melhorar a precisão\n",
    "desta por um dígito decimal, precisamos _multiplicar_ o número de iterações por\n",
    "$ 10 $."
   ]
  },
  {
   "cell_type": "markdown",
   "id": "cf99c806",
   "metadata": {},
   "source": [
    "## $ \\S 6 $ Problemas"
   ]
  },
  {
   "attachments": {},
   "cell_type": "markdown",
   "id": "b41a5608",
   "metadata": {},
   "source": [
    "__Problema 3:__\n",
    "\n",
    "(a) Estime $ \\sqrt[3]{2} $ com $ 5 $ dígitos decimais de precisão usando o método da bissecção. *Dica:* Considere a função $ f(x) = x^3 - 2 $.\n",
    "\n",
    "(b) Use o Teorema 3.1 para calcular o número de iterações necessárias."
   ]
  },
  {
   "cell_type": "markdown",
   "id": "1ffc55c5",
   "metadata": {},
   "source": [
    "*Solução:*"
   ]
  },
  {
   "cell_type": "code",
   "execution_count": null,
   "id": "6ea79972",
   "metadata": {},
   "outputs": [],
   "source": []
  },
  {
   "attachments": {},
   "cell_type": "markdown",
   "id": "83c32cbd",
   "metadata": {},
   "source": [
    "__Problema 4:__\n",
    "\n",
    "(a) Encontre a menor raiz real positiva da equação\n",
    "$$\n",
    "x^3 - 3.45x^2 - 5.72 x + 6.31 = 0\n",
    "$$\n",
    "com uma precisão melhor que $ 10^{-3} $ usando o método da bissecção.\n",
    "\n",
    "(b) Considerando o intervalo original que você utilizou, quantos passos são necessários?"
   ]
  },
  {
   "cell_type": "markdown",
   "id": "26e2ec89",
   "metadata": {},
   "source": [
    "*Solução:*"
   ]
  },
  {
   "cell_type": "code",
   "execution_count": null,
   "id": "3c50e735",
   "metadata": {},
   "outputs": [],
   "source": []
  },
  {
   "attachments": {},
   "cell_type": "markdown",
   "id": "0f8333ac",
   "metadata": {},
   "source": [
    "__Problema 5:__\n",
    "\n",
    "(a) Mostre que a equação $ xe^x = 1 $ possui uma única raiz em $ \\mathbb{R} $. *Dica:* Calcule a derivada da função $ f(x) = xe^x - 1 $.\n",
    "\n",
    "(b) Mostre que esta raiz se encontra no intervalo $ [0.5, 1] $.\n",
    "\n",
    "(c) Estime esta raiz com erro máximo de $ 10^{-5} $, usando o método da bissecção.\n",
    "\n",
    "(d) Quantos passos são necessários para garantir esta precisão?"
   ]
  },
  {
   "cell_type": "markdown",
   "id": "f618b299",
   "metadata": {},
   "source": [
    "*Solução:*"
   ]
  },
  {
   "cell_type": "code",
   "execution_count": null,
   "id": "daefc18b",
   "metadata": {},
   "outputs": [],
   "source": []
  },
  {
   "attachments": {},
   "cell_type": "markdown",
   "id": "8ee8a481",
   "metadata": {},
   "source": [
    "__Problema 6:__ Seja $ y = \\tan x $ a função tangente. Recorde que \n",
    "$$\n",
    "\\tan\\left(\\frac{\\pi}{4}\\right) = 1 \\quad \\text{e} \\quad\n",
    "\\tan\\left(\\frac{2\\pi}{3}\\right) = -\\sqrt{3}\n",
    "$$\n",
    "\n",
    "(a) Aplique o método da bissecção a $ f = \\tan $ no intervalo\n",
    "$ \\left[\\frac{\\pi}{4}\\,,\\,\\frac{2\\pi}{3}\\right] $ e explique\n",
    "o resultado.\n",
    "\n",
    "(b) Modifique a implementação do método da bissecção de modo que ele\n",
    "imprima uma mensagem de erro em casos como este e teste a sua modificação\n",
    "no intervalo acima. _Dica:_ Inclua no código uma veficação que  compare o valor\n",
    "de $ f $ na estimativa $ m $ atual com \n",
    "$ \\min\\{\\left\\vert f(a) \\right\\vert , \\left\\vert f(b) \\right\\vert\\} $,\n",
    "onde aqui $ a $ e $ b $ têm os valores originais."
   ]
  },
  {
   "cell_type": "markdown",
   "id": "27a7c6db",
   "metadata": {},
   "source": [
    "*Solução:*"
   ]
  },
  {
   "cell_type": "code",
   "execution_count": null,
   "id": "0bed82bc",
   "metadata": {},
   "outputs": [],
   "source": []
  },
  {
   "attachments": {},
   "cell_type": "markdown",
   "id": "b89800dd",
   "metadata": {},
   "source": [
    "__Problema 7:__ Resolva o Problema 5 para a equação $ x^2 + \\ln x = 0 $ ($ x > 0 $)."
   ]
  },
  {
   "cell_type": "markdown",
   "id": "00bfb25f",
   "metadata": {},
   "source": [
    "*Solução:*"
   ]
  },
  {
   "cell_type": "code",
   "execution_count": null,
   "id": "5739516e",
   "metadata": {},
   "outputs": [],
   "source": []
  },
  {
   "attachments": {},
   "cell_type": "markdown",
   "id": "c24c1770",
   "metadata": {},
   "source": [
    "**Problema 8:** Encontre uma raiz de cada uma das equações abaixo com erro $ < 10^{-5} $. *Dica:* Antes de aplicar o método da bissecção, é necessário encaixotar um zero. Para isto, utilize a análise gráfica ou a busca incremental. Os procedimentos correspondentes estão na [última seção](#auxiliar) deste caderno.\n",
    "\n",
    "(a) $ x \\ln x = 1 $ ($ x > 0 $).\n",
    "\n",
    "(b) $ \\cos x = x^2 $.\n",
    "\n",
    "(c) $ x^5 - 3x^4 - 6x^3 + 4x^2 + 5x - 3 = 0 $.\n",
    "\n",
    "(d) $ \\tan x = x + 2 e^x $ $\\big( x \\not\\in \\frac{\\pi}{2} + \\pi \\mathbb Z \\big)$.\n",
    "\n",
    "(e) $ \\cos x \\cosh x = 2 $, onde por definição $ \\cosh x = \\frac{e^x + e^{-x}}{2} $."
   ]
  },
  {
   "cell_type": "markdown",
   "id": "c672e2bd",
   "metadata": {},
   "source": [
    "*Solução:*"
   ]
  },
  {
   "cell_type": "code",
   "execution_count": null,
   "id": "5b0a985a",
   "metadata": {},
   "outputs": [],
   "source": []
  },
  {
   "attachments": {},
   "cell_type": "markdown",
   "id": "3d120633-5a7d-45d3-bbba-2c8e8c4fafc1",
   "metadata": {},
   "source": [
    "## $ \\S 7 $ ⚡ Análise da convergência do método da bissecção\n",
    "\n",
    "**Teorema 7.1:** _Seja $ f \\colon [a, b] \\to \\mathbb R $ uma função_\n",
    "contínua _tal que $ f(a) $ e $ f(b) $ têm sinais opostos. Sejam $ [a_n, b_n] $ o\n",
    "intervalo resultante após a $ n $-ésima iteração e $ x_n $ seu ponto médio, com\n",
    "$ [a_1, b_1] = [a, b] $.  Então ou o método da bissecção produz um zero exato\n",
    "após um número finito de passos, ou as seqüências $ (a_n) $, $ (x_n) $ e  $\n",
    "(b_n) $ construídas por ele convergem a um mesmo zero de_ $ f $.\n",
    "\n",
    "**Prova:** Suponha que o método da bissecção não termine após um número finito de passos. Observe que\n",
    "$$\n",
    "a = a_1 \\le a_2 \\le a_3 \\le \\cdots a_n \\le \\cdots \\le \\cdots \\le b_n \\le \\cdots b_3 \\le b_2 \\le b_1 = b\n",
    "$$\n",
    "e $ (b_n - a_n) \\to 0 $. Mais detalhadamente, por construção valem:\n",
    "1. A seqüência $ (a_n) $ é crescente e limitada superiormente por $ b $.\n",
    "2. A seqüência $ (b_n) $ é decrescente e limitada inferiormente por $ a $\n",
    "3. $ a_n < b_n $ e $ b_n - a_n = \\frac{(b - a)}{2^{n - 1}} $ para todo $ n $.\n",
    "\n",
    "Pela\n",
    "[completude](https://en.wikipedia.org/wiki/Completeness_of_the_real_numbers) dos\n",
    "números reais, qualquer seqüência crescente e limitada superiormente converge (o\n",
    "limite é a _menor cota superior_ do conjunto de valores desta seqüência).\n",
    "Analogamente, qualquer seqüência decrescente e limitada inferiormente converge\n",
    "(à _maior cota inferior_ do conjunto de valores dela).\n",
    "\n",
    "Seja $ \\zeta $ o limite de $ (a_n) $. Então, como \n",
    "$$\n",
    "b_n - a_n = \\frac{b - a}{2^{n - 1}}\n",
    "$$\n",
    "e como $ (b_n) $ converge, deduzimos que o limite desta também é $ \\zeta $.\n",
    "Fazendo $ n \\to \\infty $ na desigualdade\n",
    "$$\n",
    "f(a_n) f(b_n) < 0\n",
    "$$\n",
    "e usando a continuidade de $ f $, concluímos que\n",
    "$$\n",
    "\\lim_n \\big[f(a_n) f(b_n)\\big] = \\big[\\lim_n f(a_n)\\big] \\big[\\lim_n f(b_n)\\big]\n",
    "= f(\\lim_n a_n) f(\\lim_n b_n) = f(\\zeta) f(\\zeta) = f(\\zeta) ^2 \\le 0\\,.\n",
    "$$\n",
    "Isto só é possível se $ f(\\zeta) = 0 $, ou seja, se $ \\zeta $ é um zero de $ f\n",
    "$. Finalmente, $ (x_n) $ também converge a $ \\zeta $, já que por definição vale\n",
    "$$\n",
    "a_n < x_n < b_n \\quad \\text{para todo $ n $\\,.} \\tag*{$ \\blacksquare $}\n",
    "$$\n",
    "\n",
    "📝 A completude de $ \\mathbb R $ é uma propriedade fundamental do conjunto dos\n",
    "números reais, normalmente tomada como um axioma no desenvolvimento da teoria\n",
    "destes.  Note que o conjunto $ \\mathbb Q $ dos números  racionais não tem esta\n",
    "propriedade. Por exemplo, considere a seqüência \n",
    "$$\n",
    "3.1, \\quad 3.14, \\quad 3.141, \\quad 3.1415, \\quad \\cdots\n",
    "$$\n",
    "cujo $ n $-ésimo termo é o truncamento de $ \\pi $ até o $ n $-ésimo dígito\n",
    "decimal. Esta seqüência é crescente e limitada, mas ela não converge em $\n",
    "\\mathbb Q $. Similarmente, o conjunto dos números irracionais tampouco é\n",
    "completo."
   ]
  },
  {
   "cell_type": "markdown",
   "id": "113a0a4c",
   "metadata": {
    "tags": []
   },
   "source": [
    "## $ \\S 8 $ Procedimentos auxiliares<a name=\"auxiliar\"></a>"
   ]
  },
  {
   "cell_type": "code",
   "execution_count": 51,
   "id": "8c392b6f",
   "metadata": {
    "tags": []
   },
   "outputs": [],
   "source": [
    "def incremental_search(f: Callable[[float], float], a: float, b: float,\n",
    "                       h: float) -> tuple[float, float]:\n",
    "    \"\"\"\n",
    "    Beginning with x_0 = a and x_1 = a + h and successively incrementing (or\n",
    "    decrementing) both by h, returns the first pair of consecutive nodes where f\n",
    "    takes on opposite signs.\n",
    "    Parameters:\n",
    "        * A real continuous function f.\n",
    "        * The endpoints a and b of an interval [a, b] where f is defined.\n",
    "        * A step size h /= 0.\n",
    "    Output:\n",
    "        * In case of success: updated values of a, b such that |b - a| <= h\n",
    "          and f(a)f(b) < 0. In case of failure: None.\n",
    "    Prints:\n",
    "        * The pair a, b in case of success; or a warning message in case of\n",
    "          failure.\n",
    "    \"\"\"\n",
    "    from numpy import sign\n",
    "    \n",
    "\n",
    "    if h == 0:\n",
    "        raise ValueError(\"0 is not a valid value for h!\")\n",
    "    # Initializing:\n",
    "    x_0 = a\n",
    "    x_1 = a + h\n",
    "    f_0 = f(x_0)\n",
    "    f_1 = f(x_1)\n",
    "    \n",
    "    while sign(f_0) == sign(f_1):\n",
    "        if x_1 > b:\n",
    "            return None, None\n",
    "        x_0, f_0 = x_1, f_1\n",
    "        x_1 += h\n",
    "        f_1 = f(x_1)\n",
    "        \n",
    "    return x_0, x_1"
   ]
  },
  {
   "cell_type": "code",
   "execution_count": 56,
   "id": "09a3ecc5",
   "metadata": {
    "tags": []
   },
   "outputs": [],
   "source": [
    "def plot_functions(a: float, b: float, N: int,\n",
    "                   *fs: Callable[[float], float]) -> None:\n",
    "    \"\"\"\n",
    "    Parameters:\n",
    "        * The left and right endpoints a and b of the plot interval.\n",
    "        * The number N of points used in each plot.\n",
    "        * Any quantity of functions defined on [a, b].\n",
    "    Output: None.\n",
    "    Displays:\n",
    "        * The graphs of the given functions in a single diagram.\n",
    "    \"\"\"\n",
    "    import matplotlib.pyplot as plt\n",
    "    import numpy as np\n",
    "    \n",
    "\n",
    "    line_width = 1.75\n",
    "    xs = np.linspace(a, b, N)      # Create sample of N values of x in [a, b].\n",
    "    # Draw a thicker x-axis:\n",
    "    plt.axhline(y=0.0, color='black', linestyle='-', lw=line_width)\n",
    "    # Plot the graph of each function:\n",
    "    for n, f in enumerate(fs):\n",
    "        plt.plot(xs, f(xs), lw=line_width, label=f\"$ f_{n} $\")\n",
    "    plt.xlabel(\"$ x $-axis\")\n",
    "    plt.ylabel(\"$ y $-axis\")\n",
    "    plt.grid(True)    # Draw a rectangular grid.\n",
    "    plt.legend()\n",
    "\n",
    "    return None"
   ]
  },
  {
   "cell_type": "code",
   "execution_count": null,
   "id": "1ce4b546",
   "metadata": {},
   "outputs": [],
   "source": []
  }
 ],
 "metadata": {
  "kernelspec": {
   "display_name": "Python 3 (ipykernel)",
   "language": "python",
   "name": "python3"
  },
  "language_info": {
   "codemirror_mode": {
    "name": "ipython",
    "version": 3
   },
   "file_extension": ".py",
   "mimetype": "text/x-python",
   "name": "python",
   "nbconvert_exporter": "python",
   "pygments_lexer": "ipython3",
   "version": "3.9.16"
  },
  "vscode": {
   "interpreter": {
    "hash": "49060cedf8366e4ce4bf4b9d121c044cf7249a0afe21432e14f32b1ca5a4731f"
   }
  }
 },
 "nbformat": 4,
 "nbformat_minor": 5
}
