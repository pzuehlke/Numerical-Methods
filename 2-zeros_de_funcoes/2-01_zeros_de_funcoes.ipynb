{
 "cells": [
  {
   "cell_type": "code",
   "execution_count": 11,
   "id": "9fc6e6f4",
   "metadata": {},
   "outputs": [],
   "source": [
    "import matplotlib.pyplot as plt\n",
    "import numpy as np\n",
    "from typing import Callable\n",
    "%matplotlib qt"
   ]
  },
  {
   "attachments": {},
   "cell_type": "markdown",
   "id": "32505fe9",
   "metadata": {},
   "source": [
    "# Localização de zeros de funções\n",
    "\n",
    "## $ \\S 1 $ Introdução\n",
    "\n",
    "Um ponto $ \\zeta $ (_zeta_) do domínio de uma função $ f $ de uma variável é dito um **zero** de $ f $ caso\n",
    "$$ f(\\zeta) = 0\\, .$$\n",
    "Também dizemos que $ \\zeta $ é uma **raiz** de uma equação em uma variável, digamos,\n",
    "\\begin{equation*}\\label{E:raiz}\n",
    "g(x) = h(x)\\,, \\tag{1}\n",
    "\\end{equation*}\n",
    "se $ g(\\zeta) = h(\\zeta) $.\n",
    "\n",
    "📝 Observe que encontrar uma raiz de \\eqref{E:raiz} é equivalente a encontrar um zero de \n",
    "$$\n",
    "f(x) = g(x) - h(x)\\,.\n",
    "$$\n",
    "\n",
    "A localização de raízes de equações é um dos problemas mais freqüentes em\n",
    "Ciência e Engenharia. Entretanto, a sua solução _analítica_ é difícil ou\n",
    "impossível mesmo nos casos mais simples. \n",
    "\n",
    "Em compensação, existem vários _métodos numéricos_ gerais que nos permitem\n",
    "encontrar zeros de funções contínuas arbitrárias com alta precisão e baixo uso\n",
    "de recursos computacionais, por mais complicadas que sejam estas funções, e.g.:\n",
    "$$\n",
    "f(x) = e^{3x^2\\sin x\\,}\\big[\\cos(5x) + 2\\big]^{x^2+1} - \\frac{7}{\\sqrt{|x|+1}}\n",
    "$$\n",
    "\n",
    "📝 Ainda que todas as funções usuais estudadas em Cálculo possam ser estendidas\n",
    "a funções de uma variável complexa, estaremos interessados aqui em encontrar\n",
    "apenas os _zeros reais de uma função real contínua de uma variável_. Não\n",
    "obstante, algumas das técnicas que estudaremos, em especial o método de Newton,\n",
    "também podem ser aplicadas a funções complexas."
   ]
  },
  {
   "attachments": {},
   "cell_type": "markdown",
   "id": "1efa80be",
   "metadata": {},
   "source": [
    "## $ \\S 2 $ Funções matemáticas em Python\n",
    "\n",
    "__Exemplo 1:__ Para definir uma função \"matemática\" $ f $ em Python, digamos aquela dada por\n",
    "$$\n",
    "    f(x) = \\frac{\\cos(e^{\\sqrt{x}} \\ln x)}{3}\\,,\n",
    "$$\n",
    "temos duas alternativas: usar as construções `def` ou `lambda`."
   ]
  },
  {
   "cell_type": "code",
   "execution_count": 3,
   "id": "7cafc158",
   "metadata": {},
   "outputs": [],
   "source": [
    "# Primeiro importamos do NumPy as funções necessárias para definir f:\n",
    "from numpy import cos, exp, log"
   ]
  },
  {
   "attachments": {},
   "cell_type": "markdown",
   "id": "9538a5a1",
   "metadata": {},
   "source": [
    "_Alternativa 1:_ Como uma função matemática é um caso especial de um\n",
    "procedimento, podemos usar `def` para defini-la:"
   ]
  },
  {
   "cell_type": "code",
   "execution_count": 5,
   "id": "f1186b2f",
   "metadata": {},
   "outputs": [],
   "source": [
    "def f(x):    # Note o ':' no final.\n",
    "    return cos(exp(x**1/2) * log(x)) / 3    # Retornando o valor de f em x."
   ]
  },
  {
   "attachments": {},
   "cell_type": "markdown",
   "id": "5d6338be",
   "metadata": {},
   "source": [
    "A primeira linha da declaração contém o nome da função (neste caso, `f`) e a\n",
    "sua __assinatura__, que consiste dos seus __parâmetros__ entre\n",
    "parênteses separados por vírgulas (neste caso há apenas um parâmetro, `x`). A\n",
    "assinatura deve terminar com `:`.\n",
    "\n",
    "O resto da declaração deve ser indentado para indicar o início de um bloco, o\n",
    "do __corpo__ (ou __conteúdo__) da função. Sem esta indentação o interpretador\n",
    "acusará um erro (experimente). Neste bloco temos uma ou mais declarações que\n",
    "controlam as ações que devem ser executadas a cada vez que a função é chamada.\n",
    "A instrução que começa com `return` especifica a __saída__ ou __output__ da\n",
    "função. Uma determinada função pode conter uma, várias ou nenhuma instrução\n",
    "deste tipo.\n",
    "\n",
    "Para __chamar__ função num determinado __argumento__, digamos 4,\n",
    "utilizamos o nome da função seguido pelo(s) argumento(s) entre parênteses:"
   ]
  },
  {
   "cell_type": "code",
   "execution_count": 10,
   "id": "f7e4db62",
   "metadata": {},
   "outputs": [
    {
     "name": "stdout",
     "output_type": "stream",
     "text": [
      "-0.22774102708488655\n",
      "0.3333333333333333\n",
      "<class 'function'>\n",
      "<class 'numpy.float64'>\n"
     ]
    }
   ],
   "source": [
    "print(f(4))       # Imprimindo f(4).\n",
    "print(f(1))       # Imprimindo f(1).\n",
    "print(type(f))    # Verificando o tipo de f.\n",
    "print(type(f(1))) # Verificando o tipo de f(1).\n"
   ]
  },
  {
   "attachments": {},
   "cell_type": "markdown",
   "id": "69c0f887",
   "metadata": {},
   "source": [
    "Quando chamamos uma função, aos parâmetros na assinatura da função são\n",
    "atribuídos os valores específicos dos argumentos que foram passados entre\n",
    "parênteses na chamada, exatamente na ordem em que foram listados. Então o\n",
    "corpo da definição é executado até que o interpretador se depare com uma\n",
    "instrução `return`. Quando isto acontece, a expressão a seguir é retornada como\n",
    "saída.  Se nenhuma instrução `return` for encontrada, quando o bloco do conteúdo\n",
    "terminar de ser executado, a função retorna `None` por default.\n",
    "\n",
    "Assim, no nosso exemplo, a chamada `f(4)` acima causa que `x` receba o valor $ 4\n",
    "$ e que o conteúdo da definição de `f` seja executado. Como este conteúdo\n",
    "consiste de uma única instrução `return`, a chamada simplesmente calcula o valor\n",
    "da expressão à direita para `x = 4` e o retorna como saída."
   ]
  },
  {
   "attachments": {},
   "cell_type": "markdown",
   "id": "ce674b87",
   "metadata": {},
   "source": [
    "_Alternativa 2:_ Usando a construção `lambda` podemos definir `f` de maneira\n",
    "mais concisa. Ela deve ser preferida quando $ f $ é uma função matemática\n",
    "definida de maneira simples."
   ]
  },
  {
   "cell_type": "code",
   "execution_count": null,
   "id": "d9eae3d5",
   "metadata": {},
   "outputs": [],
   "source": [
    "\n",
    "f = lambda x: cos(exp(x**1/2) * log(x)) / 3\n",
    "# Lê-se: \"f é a função que leva x em <expressão à direita de ':'> .\"\n",
    "\n",
    "print(f(4))       # Imprimindo f(4).\n",
    "print(f(1))       # Imprimindo f(1).\n",
    "print(type(f))    # Verificando o tipo de f.\n",
    "print(type(f(1))) # Verificando o tipo de f(1)."
   ]
  },
  {
   "attachments": {},
   "cell_type": "markdown",
   "id": "438090f0",
   "metadata": {},
   "source": [
    "📝 Estas duas maneiras de se definir `f` diferem apenas superficialmente. Para o\n",
    "interpretador, as duas definições são equivalentes no sentido que criam objetos\n",
    "idênticos, para todos os efeitos práticos.\n",
    "\n",
    "Qualquer uma das duas construções também pode ser usada para definir funções\n",
    "de mais de uma variável, por exemplo, a função \n",
    "$$\n",
    "h(x, y, z) = x y^2 z^3\\,.\n",
    "$$"
   ]
  },
  {
   "cell_type": "code",
   "execution_count": 17,
   "id": "09d524b5",
   "metadata": {},
   "outputs": [
    {
     "name": "stdout",
     "output_type": "stream",
     "text": [
      "2 2\n",
      "4 4\n",
      "8 8\n"
     ]
    }
   ],
   "source": [
    "def h_1(x, y, z):\n",
    "    return x * y**2 * z**3\n",
    "\n",
    "h_2 = lambda x, y, z: x * y**2 * z**3\n",
    "print(h_1(2, 1, 1), h_2(2, 1, 1))\n",
    "print(h_1(1, 2, 1), h_1(1, 2, 1))\n",
    "print(h_1(1, 1, 2), h_2(1, 1, 2))\n"
   ]
  },
  {
   "attachments": {},
   "cell_type": "markdown",
   "id": "c2483f36",
   "metadata": {},
   "source": [
    "Se simplesmente chamarmos a função num argumento, digamos com:"
   ]
  },
  {
   "cell_type": "code",
   "execution_count": 15,
   "id": "7cd8f675",
   "metadata": {},
   "outputs": [
    {
     "data": {
      "text/plain": [
       "0"
      ]
     },
     "execution_count": 15,
     "metadata": {},
     "output_type": "execute_result"
    }
   ],
   "source": [
    "h_2(0, 1, 2)"
   ]
  },
  {
   "attachments": {},
   "cell_type": "markdown",
   "id": "171a4089",
   "metadata": {},
   "source": [
    "então este valor será retornado como _saída da célula atual_ e exibido logo\n",
    "abaixo dela. Se forem feitas várias chamadas deste tipo, apenas o valor da\n",
    "última será retornado como saída e exibido:"
   ]
  },
  {
   "cell_type": "code",
   "execution_count": 16,
   "id": "f43b541f",
   "metadata": {},
   "outputs": [
    {
     "data": {
      "text/plain": [
       "1"
      ]
     },
     "execution_count": 16,
     "metadata": {},
     "output_type": "execute_result"
    }
   ],
   "source": [
    "h_2(0, 1, 2)\n",
    "h_2(1, 1, 1)"
   ]
  },
  {
   "attachments": {},
   "cell_type": "markdown",
   "id": "cd6f48bc",
   "metadata": {},
   "source": [
    "__Problema 1:__ Usando ambas as construções `def` e `lambda`, defina as funções\n",
    "seguintes e avalie-nas fazendo $ x = \\frac{\\pi}{2} $, $ y = 0 $, $ z = e $:\n",
    "\n",
    "(a) $ \\displaystyle{f(x) = \\frac{x^3 + 2x - 3}{\\log_{10} \\vert{x}\\vert}} $.\n",
    "\n",
    "(b) $ \\displaystyle{g(x) = \\frac{\\tan (ex)}{1 + \\sqrt[3]{x}}} $.\n",
    "\n",
    "(c) $ \\displaystyle{h(x, y, z) = \\cos(x + y) \\sin(x - y)}\\ln z $.\n",
    "\n",
    "_Dica:_ Em (b), observe que $ \\sqrt[3]{x} = x^{\\frac{1}{3}} $. Em todos os itens, é necessário importar funções especiais do NumPy; você pode procurá-las [aqui](https://numpy.org/doc/stable/reference/routines.math.html)."
   ]
  },
  {
   "attachments": {},
   "cell_type": "markdown",
   "id": "5cd5c742",
   "metadata": {},
   "source": [
    "_Solução:_"
   ]
  },
  {
   "cell_type": "code",
   "execution_count": null,
   "id": "b4d3260d",
   "metadata": {},
   "outputs": [],
   "source": []
  },
  {
   "attachments": {},
   "cell_type": "markdown",
   "id": "ede5a7e8",
   "metadata": {},
   "source": [
    "__Problema 2:__ Seja $ t $ (em porcento) a taxa de rendimento anual oferecida\n",
    "por um título de dívida pública. Então, desconsiderando os impostos, se\n",
    "aplicarmos um montante inicial $ a $ por $ n $ anos, o valor que receberemos ao\n",
    "final deste período será:\n",
    "$$\n",
    "a \\bigg(1 + \\frac{t}{100}\\bigg)^n\\,.\n",
    "$$\n",
    "\n",
    "(a) Construa uma função `lucro` que, dados $ a $, $ n $ e $ t $, retorna o lucro\n",
    "(diferença entre o montante recebido e o aplicado) resultante.\n",
    "\n",
    "(b) Construa uma função `aplicacao` que, dados $ n $, $ t $ e um montante final\n",
    "desejado $ v $, retorna o montante inicial $ a $ que precisa ser aplicado\n",
    "inicialmente para receber $ v $ após $ n $ anos com taxa de rendimento anual\n",
    "$ t $."
   ]
  },
  {
   "attachments": {},
   "cell_type": "markdown",
   "id": "e2e27273",
   "metadata": {},
   "source": [
    "*Solução:*"
   ]
  },
  {
   "cell_type": "code",
   "execution_count": null,
   "id": "e341c86d",
   "metadata": {},
   "outputs": [],
   "source": []
  },
  {
   "attachments": {},
   "cell_type": "markdown",
   "id": "81addd78",
   "metadata": {},
   "source": [
    "## $ \\S 3 $ Dificuldades na identificação exata de zeros\n",
    "\n",
    "O sistema de ponto flutuante empregado em computação impõe restrições\n",
    "inevitáveis à precisão do cálculo dos valores de uma função. Por isto na prática\n",
    "não podemos esperar encontrar um ponto $ \\zeta $ onde a função valha exatamente\n",
    "$ 0 $. Em vez disto, buscamos encontrar um\n",
    "*intervalo* suficientemente pequeno onde a função troca de sinal, ou um número\n",
    "cuja distância de um zero podemos garantir ser pequena o suficiente."
   ]
  },
  {
   "attachments": {},
   "cell_type": "markdown",
   "id": "d96895b4",
   "metadata": {},
   "source": [
    "**Problema 3:** Considere os polinômios\n",
    "$$ p(x) = 2x - 0.2 \\qquad \\text{e} \\qquad q(x) = 3 x - 0.3 $$\n",
    "Note que $ a = \\frac{1}{10} $ é um zero tanto de $ p $ quanto de $ q $.\n",
    "\n",
    "(a) Usando `lambda`, defina $ p(x) $ e $ q(x) $ como funções em Python.\n",
    "\n",
    "(b) Agora defina um procedimento `checa_zero(f, x)` que, dados uma função $ f $ e um número $ x $ em seu domínio, retorna `True` se `f(x) == 0` e `False` caso contrário. Qual é o resultado da aplicação deste procedimento aos pares $ (p, a) $ e $ (q, a) $? Como você explica esta discrepância?\n",
    "\n",
    "(c) Como poderíamos modificar a definição de `checa_zero` de modo que ela acuse que $ q $ possui um zero em $ a $? Quais as desvantagens da sua proposta?"
   ]
  },
  {
   "attachments": {},
   "cell_type": "markdown",
   "id": "47becd99",
   "metadata": {},
   "source": [
    "_Solução:_"
   ]
  },
  {
   "cell_type": "code",
   "execution_count": null,
   "id": "63b558a7",
   "metadata": {
    "scrolled": true
   },
   "outputs": [],
   "source": []
  },
  {
   "attachments": {},
   "cell_type": "markdown",
   "id": "a34daf7d",
   "metadata": {},
   "source": [
    "## $ \\S 4 $ O teorema do valor intermediário\n",
    "\n",
    "**Teorema 4.1 (teorema do valor intermediário):** _Seja $ f \\colon [a, b] \\to\n",
    "\\mathbb R $ uma função_ contínua. _Então $ f $ assume em $ [a, b] $ todos os\n",
    "valores possíveis entre $ f(a) $ e $ f(b) $._\n",
    "\n",
    "⚡ **Demonstração informal:** Suponha por concretude que $ f(a) < f(b) $ e seja $\n",
    "r $ um valor qualquer entre eles. Imaginando o gráfico da função contínua $ f $,\n",
    "isto significa que em $ a $ ele está abaixo da reta de equação $ y = r $ e em $\n",
    "b $ acima. Queremos mostrar que em algum lugar ele cruza esta reta.\n",
    "\n",
    "Considere o conjunto\n",
    "$$\n",
    "C = \\left\\{x \\in [a,b] : f(x) < r\\right\\}.\n",
    "$$\n",
    "Então $ C $ é não-vazio, pois contém $ a $. Além disto, $ b $ é cota superior\n",
    "para $ C $. Seja $ c \\in [a, b] $ a *menor* cota superior para $ C $, i.e.:\n",
    "1. $ x \\le c $ para todo $ x \\in C $ (significando que $ c $ é cota superior);\n",
    "2. Se $ \\varepsilon > 0 $, então $ x - \\varepsilon $ não é cota superior de\n",
    "   $ C $ (significando que $ c $ é a _menor possível_ dentre as cotas superiores).\n",
    "\n",
    "Observe que por continuidade de $ f $ em $ a $ e em $ b $, temos $ a < c < b $. Agora, há apenas três opções:\n",
    "* $ f(c) < r $. Neste caso por continuidade de $ f $ em $ c $, $ f(x) < r $ para todo $ x $ suficientemente próximo de $ c $. Em particular, $ x \\in C $ para algum $ x > c $. Mas isto contradiz o fato que $ c $ é cota superior de $ C $.\n",
    "* $ f(c) > r $. Novamente por continuidade de $ f $ em $ c $, $ f(x) > r $ para\n",
    "  todo $ x $ num intervalo suficientemente pequeno ao redor de $ c $. Em\n",
    "  particular, qualquer $ x < c $ dentro deste intervalo é cota superior de $ C $. Isto\n",
    "  contradiz o fato que $ c $ é a _menor_ cota superior de $ C $.\n",
    "* $ f(c) = r $. Por exclusão, esta é a única possibilidade, o que \n",
    "  estabelece a conclusão desejada. $\\ \\ \\blacksquare $\n",
    "\n",
    "O resultado abaixo segue imediatamente do teorema do valor intermediário. Apesar\n",
    "de simples, ele é a base de vários dos métodos que estudaremos para obtenção de\n",
    "raízes de equações.\n",
    "\n",
    "**Corolário 4.2 (teorema de Bolzano):** _Seja $ f $ uma função contínua definida\n",
    "num intervalo. Se_\n",
    "$$\n",
    "\\operatorname{sinal} f(c) \\ne \\operatorname{sinal} f(d)\n",
    "$$\n",
    "_então $ f $ possui pelo menos um zero no subintervalo de extremidades $ c $ e $\n",
    "d $._ $\\ \\ \\blacksquare $\n",
    "\n",
    "⚠️ Não vale a recíproca: Mesmo que $ f(c) $ e $ f(d) $ tenham o mesmo\n",
    "sinal, não podemos excluir a possibilidade que exista um zero em $ [c, d] $.\n",
    "Como ilustração, considere a função $ f(x) = x^2 $ e tome $ c = -1 $, $ d = 1 $."
   ]
  },
  {
   "attachments": {},
   "cell_type": "markdown",
   "id": "972bc90c",
   "metadata": {},
   "source": [
    "__Problema 4 :__ Mostre que a equação $ 4x = e^x $ possui uma única raiz dentro\n",
    "de cada um dos intervalos $ (0, 1) $ e $ (2, 3) $.  _Dica:_ Calcule a derivada\n",
    "de $ f(x) = e^x - 4x $."
   ]
  },
  {
   "attachments": {},
   "cell_type": "markdown",
   "id": "a24bb6c2",
   "metadata": {},
   "source": [
    "_Solução:_"
   ]
  },
  {
   "attachments": {},
   "cell_type": "markdown",
   "id": "efebf633",
   "metadata": {},
   "source": [
    "__Problema 5:__ Mostre que:\n",
    "\n",
    "(a) Existe um número $ a > 1 $ tal que $ a^a = 23 $.\n",
    "\n",
    "(b) Este número é único. *Dica:* Considere a função $ f(x) = x^x = (e^{\\ln x})^x$ para $ x > 1 $ e calcule sua derivada."
   ]
  },
  {
   "attachments": {},
   "cell_type": "markdown",
   "id": "f61e0f8f",
   "metadata": {},
   "source": [
    "*Solução:*"
   ]
  },
  {
   "attachments": {},
   "cell_type": "markdown",
   "id": "9c6a0a84",
   "metadata": {},
   "source": [
    "__Problema 6:__ Seja $ n $ um inteiro qualquer.\n",
    "\n",
    "(a) Mostre que a função tangente assume valores de sinais opostos em\n",
    "$$\n",
    "a_n = n\\pi + \\frac{\\pi}{4} \\quad \\text{e} \\quad b_n = n \\pi + \\frac{3\\pi}{4}.\n",
    "$$\n",
    "\n",
    "(b) Existe um zero entre $ \\frac{\\pi}{4} $ e $ \\frac{3\\pi}{4} $? Justifique, em vista do Corolário 4.2. *Dica:* Esboce num papel o gráfico da função tangente. Quais são os pontos de descontinuidade?\n",
    "\n",
    "(c) Mais geralmente, existe um zero $ c_n $ no intervalo $ (a_n,b_n) $? E no intervalo $ \\big(b_{n - 1}, a_{n}\\big) $? Justifique."
   ]
  },
  {
   "attachments": {},
   "cell_type": "markdown",
   "id": "33a51891",
   "metadata": {},
   "source": [
    "*Solução:*"
   ]
  },
  {
   "cell_type": "code",
   "execution_count": null,
   "id": "67553217",
   "metadata": {},
   "outputs": [],
   "source": [
    "from numpy import tan, pi, sign"
   ]
  },
  {
   "attachments": {},
   "cell_type": "markdown",
   "id": "066e1288",
   "metadata": {},
   "source": [
    "## $ \\S 5 $ Descrição do procedimento para localização de um zero\n",
    "\n",
    "Todos os métodos para determinação de zeros que estudaremos são __iterativos__.\n",
    "Partindo de uma estimativa inicial para um zero $ \\zeta $, a cada passo\n",
    "utilizamos a(s) estimativa(s) anterior(es) para obter uma nova aproximação.\n",
    "Idealmente, a seqüência assim construída converge a $ \\zeta $. Mas na prática\n",
    "terminamos a execução assim que a estimativa atual for julgada boa o suficiente\n",
    "segundo algum critério adequado. De maneira geral, quanto mais próxima for a\n",
    "estimativa inicial de $ \\zeta $, mais rápida será a convergência a ele."
   ]
  },
  {
   "attachments": {},
   "cell_type": "markdown",
   "id": "0b8db7b5",
   "metadata": {},
   "source": [
    "Alguns dos métodos que estudaremos requerem como passo preliminar o\n",
    "__encaixotamento__ (__bracketing__) de um zero da função $ f $, ou seja, a\n",
    "determinação de um intervalo $ [a, b]\n",
    "$ tal que\n",
    "$$\n",
    "\\operatorname{sinal} f(a) \\ne \\operatorname{sinal} f(b)\\,.\n",
    "$$\n",
    "\n",
    "Para encaixotar um zero, as três opções mais comuns são:\n",
    "* Usar a teoria subjacente, no caso em que a função provém de um modelo científico ou de\n",
    "  Engenharia.\n",
    "* Esboçar o gráfico da função e tentar identificar visualmente um subintervalo\n",
    "  onde ele cruza o eixo-$ x $.\n",
    "* Aplicar uma _busca incremental_, avaliando o sinal da função em pontos\n",
    "  sucessivos para localizar um subintervalo onde a função troca de sinal.\n",
    "\n",
    "Destes três métodos, apenas o terceiro é rígido o suficiente para ser programado\n",
    "com facilidade, o que não quer dizer que os outros dois sejam menos valiosos.\n",
    "\n",
    "📝 __Isolar__ um zero significa encontrar um intervalo que contém este zero em\n",
    "seu interior mas que não contém qualquer outro zero. Se um determinado intervalo\n",
    "contém mais de um zero, em geral não há como controlar para qual deles um\n",
    "determinado método convergirá. Por isto sempre que possível é desejável isolar\n",
    "um zero, não somente encaixotá-lo."
   ]
  },
  {
   "attachments": {},
   "cell_type": "markdown",
   "id": "65f84185",
   "metadata": {},
   "source": [
    "## $ \\S 6 $ Esboço do gráfico de funções de uma variável\n",
    "\n",
    "Em Python, para se traçar e visualizar gráficos, utiliza-se o submódulo\n",
    "**PyPlot** da biblioteca **Matplotlib**:"
   ]
  },
  {
   "cell_type": "code",
   "execution_count": 20,
   "id": "63a25f17",
   "metadata": {},
   "outputs": [],
   "source": [
    "import matplotlib.pyplot as plt"
   ]
  },
  {
   "attachments": {},
   "cell_type": "markdown",
   "id": "6f54b268",
   "metadata": {},
   "source": [
    "Neste caderno utilizaremos o procedimento abaixo para esboçar de maneira conveniente o gráfico de uma ou mais funções."
   ]
  },
  {
   "cell_type": "code",
   "execution_count": 1,
   "id": "a983a3f9",
   "metadata": {},
   "outputs": [],
   "source": [
    "def plot_functions(a, b, N, fs):\n",
    "    \"\"\"\n",
    "    Parameters:\n",
    "        * The left and right endpoints a and b of the plot interval.\n",
    "        * The number N of points used in each plot.\n",
    "        * Any quantity of functions defined on [a, b].\n",
    "    Output: None.\n",
    "    Displays:\n",
    "        * The graphs of the given functions in a single diagram.\n",
    "    \"\"\"\n",
    "    import matplotlib.pyplot as plt\n",
    "    import numpy as np\n",
    "    \n",
    "\n",
    "    line_width = 1.75\n",
    "    xs = np.linspace(a, b, N + 1)     # Create sample of N + 1 values of x in [a, b].\n",
    "    # Draw a thicker x-axis:\n",
    "    plt.axhline(y=0.0, color='black', linestyle='-', lw=line_width)\n",
    "    # Plot the graph of each function:\n",
    "    for n, f in enumerate(fs):\n",
    "        plt.plot(xs, f(xs), lw=line_width, label=f\"$ f_{n} $\")\n",
    "    plt.xlabel(\"$ x $-axis\")\n",
    "    plt.ylabel(\"$ y $-axis\")\n",
    "    plt.grid(True)    # Draw a rectangular grid.\n",
    "    plt.legend()\n",
    "\n",
    "    return None"
   ]
  },
  {
   "attachments": {},
   "cell_type": "markdown",
   "id": "8baf4974",
   "metadata": {},
   "source": [
    "📝 Quando temos de fazer os esboços à mão, para estimar a localização de uma\n",
    "raiz da equação $ g(x) = h(x) $ muitas vezes é mais fácil traçar os gráficos de\n",
    "$ g(x) $ e $ h(x) $ e tentar identificar onde eles se cruzam do que tentar\n",
    "visualizar onde o gráfico de $ g(x) - h(x) $ cruza o eixo-$ x $. Por exemplo, é\n",
    "mais simples esboçar separadamente os gráficos de $ x^3 $ e $ 4x $ que o gráfico\n",
    "da função $ x^3 - 4x $."
   ]
  },
  {
   "cell_type": "code",
   "execution_count": 36,
   "id": "5eeb4440",
   "metadata": {},
   "outputs": [],
   "source": [
    "f = lambda x: x**3\n",
    "g = lambda x: 4 * x\n",
    "N = 200\n",
    "plot_functions(-2.2, 2.2, N, f, g)"
   ]
  },
  {
   "attachments": {},
   "cell_type": "markdown",
   "id": "cf9e1524",
   "metadata": {},
   "source": [
    "\n",
    "![Encontrando graficamente as raízes de uma equação](fig_2-1_exemplo_1.png \"Encontrando graficamente as raízes de uma equação\")"
   ]
  },
  {
   "cell_type": "code",
   "execution_count": 10,
   "id": "a6d0027f",
   "metadata": {},
   "outputs": [],
   "source": [
    "h = lambda x: x**3 - 4 * x\n",
    "N = 200\n",
    "plot_functions(-2.2, 2.2, N, h)"
   ]
  },
  {
   "attachments": {},
   "cell_type": "markdown",
   "id": "91f5ff50",
   "metadata": {},
   "source": [
    "__Problema 7:__ Esboce o gráfico da função\n",
    "$$\n",
    "    f(x) = \\vert x \\vert \\sin(x - 3)e^{-x^2}\n",
    "$$\n",
    "no intervalo $ [-2, 2] $.  Adicione títulos e etiquetas para os eixos em português."
   ]
  },
  {
   "attachments": {},
   "cell_type": "markdown",
   "id": "13875315",
   "metadata": {},
   "source": [
    "__Problema 8:__ Analisando o gráfico de uma ou mais funções apropriadas,\n",
    "identifique um intervalo $ [a, b] $ de comprimento menor que $ \\frac{1}{10} $ que\n",
    "contém uma raiz da equação:\n",
    "\n",
    "(a) $ x \\ln x = 1 $ ($ x > 0 $).\n",
    "\n",
    "(b) $ \\cos x = x^2 $.\n",
    "\n",
    "(c) $ x^5 - 3x^4 - 6x^3 + 4x^2 + 5x - 3 = 0 $.\n",
    "\n",
    "(d) $ \\tan x = x + 2 e^x $ $\\big( x \\not\\in \\frac{\\pi}{2} + \\pi \\mathbb Z \\big)$.\n",
    "\n",
    "(e) $ \\cos x \\cosh x = 2 $, onde por definição $ \\cosh x = \\frac{e^x + e^{-x}}{2} $.\n",
    "\n",
    "(f) $ xe^x = 1 $.\n",
    "\n",
    "(g) $ x^2 + \\ln x = 0 $ ($ x > 0 $)."
   ]
  },
  {
   "attachments": {},
   "cell_type": "markdown",
   "id": "321ae293",
   "metadata": {},
   "source": [
    "_Solução:_"
   ]
  },
  {
   "cell_type": "code",
   "execution_count": null,
   "id": "c38d8980",
   "metadata": {},
   "outputs": [],
   "source": []
  }
 ],
 "metadata": {
  "kernelspec": {
   "display_name": "Python 3 (ipykernel)",
   "language": "python",
   "name": "python3"
  },
  "language_info": {
   "codemirror_mode": {
    "name": "ipython",
    "version": 3
   },
   "file_extension": ".py",
   "mimetype": "text/x-python",
   "name": "python",
   "nbconvert_exporter": "python",
   "pygments_lexer": "ipython3",
   "version": "3.10.12"
  },
  "vscode": {
   "interpreter": {
    "hash": "49060cedf8366e4ce4bf4b9d121c044cf7249a0afe21432e14f32b1ca5a4731f"
   }
  }
 },
 "nbformat": 4,
 "nbformat_minor": 5
}
