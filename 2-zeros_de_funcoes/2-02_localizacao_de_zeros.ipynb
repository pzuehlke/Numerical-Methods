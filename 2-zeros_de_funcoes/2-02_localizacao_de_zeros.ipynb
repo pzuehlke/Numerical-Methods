{
 "cells": [
  {
   "cell_type": "code",
   "execution_count": 1,
   "id": "2dce17b0",
   "metadata": {},
   "outputs": [],
   "source": [
    "import matplotlib.pyplot as plt\n",
    "import numpy as np"
   ]
  },
  {
   "attachments": {},
   "cell_type": "markdown",
   "id": "f4a9a40a",
   "metadata": {},
   "source": [
    "# Busca incremental e busca adaptativa"
   ]
  },
  {
   "attachments": {},
   "cell_type": "markdown",
   "id": "2f7ab637",
   "metadata": {},
   "source": [
    "## $ \\S 1 $ Descrição da busca incremental para encaixotamento de raízes\n",
    "\n",
    "Suponha que queiramos encaixotar um zero de uma função contínua $ f \\colon [a,\n",
    "b] \\to \\mathbb{R} $. Usando o método da __busca incremental__, começamos\n",
    "escolhendo um __incremento__ ou __tamanho de passo__ $ h > 0 $. Então calculamos\n",
    "$$\n",
    "\\operatorname{sinal} f(x_i) \\quad \\text{para} \\quad x_i = a+ih \\quad (i = 0, 1, \\dots )\n",
    "$$\n",
    "sucessivamente.\n",
    "Se \n",
    "$$\n",
    "    \\operatorname{sinal} f(x_i) \\ne \\operatorname{sinal} f(x_{i+1})\n",
    "$$\n",
    "para algum $ i $, então o subintervalo $ [x_i,x_{i+1}] $ deve conter um zero de\n",
    "$ f $, pelo teorema do valor intermediário. Caso esta condição falhe para todo $\n",
    "i $, eventualmente teremos $ x_{i+1} > b $ e a busca terá sido _inconclusiva_.\n",
    "\n",
    "__Exemplo 1.1:__ Use a busca incremental com tamanho de passo $ 1 $ para tentar\n",
    "encontrar um zero do polinômio $ f(x) = x^3 - 6x^2 + 11x - 7 $ no intervalo $\n",
    "[0, 5] $.\n",
    "\n",
    "_Solução:_ Precisamos avaliar $ f $ nos pontos $ 0,\\,1,\\,2,\\,3,\\,4 $ e $ 5 $. Vamos\n",
    "usar Python como nossa calculadora.\n"
   ]
  },
  {
   "cell_type": "code",
   "execution_count": 1,
   "id": "f9cf9459",
   "metadata": {},
   "outputs": [
    {
     "name": "stdout",
     "output_type": "stream",
     "text": [
      "O valor de f em x = 0 é -7 .\n",
      "O valor de f em x = 1 é -1 .\n",
      "O valor de f em x = 2 é -1 .\n",
      "O valor de f em x = 3 é -1 .\n",
      "O valor de f em x = 4 é 5 .\n",
      "O valor de f em x = 5 é 23 .\n"
     ]
    }
   ],
   "source": [
    "f = lambda x: x**3 - 6 * x**2 + 11 * x - 7\n",
    "for n in range(0, 6):\n",
    "    print(f\"O valor de f em x = {n} é {f(n)} .\")"
   ]
  },
  {
   "attachments": {},
   "cell_type": "markdown",
   "id": "88460326",
   "metadata": {},
   "source": [
    "\n",
    "| Intervalo | $ \\operatorname{sinal} f(x)$ na extrem. esq. | $ \\operatorname{sinal} f(x) $ na extrem. dir. |Troca de sinal?|\n",
    "|:---------:|:----------------------:|:----------------------:|:-------------:|\n",
    "| $[0, 1]$  | $-$                   | $-$                   | Não           |\n",
    "| $[1, 2]$  | $-$                   | $-$                   | Não           |\n",
    "| $[2, 3]$  | $-$                   | $-$                   | Não           |\n",
    "| $[3, 4]$  | $-$                   | $+$                    | Sim!          |\n",
    "\n",
    "Concluímos que $ f $ possui ao menos um zero no intervalo $ [3, 4] $. "
   ]
  },
  {
   "attachments": {},
   "cell_type": "markdown",
   "id": "a2b3fb62",
   "metadata": {},
   "source": [
    "__Problema 1:__ Faça uma busca incremental com o tamanho de passo indicado para\n",
    "encontrar um ou mais subintervalos que encaixotem um zero das funções seguintes\n",
    "(utilize Python como calculadora):\n",
    "\n",
    "(a) $ g(x) = \\sin x + x^2 -  x - 1 $ no intervalo $ [0, 2\\pi] $, com tamanho de passo $ \\frac{\\pi}{2} $.\n",
    "\n",
    "(b) $ h(x) = x^4 - 4x^3 - 8x^2 + 48x - 21 $ no intervalo $ [0, 5] $, com tamanho de passo $ 1 $.\n",
    "\n",
    "(c) $ f(x) = e^{-x} - x $ no intervalo $ [0, 1] $, com tamanho de passo $ 0.1 $."
   ]
  },
  {
   "cell_type": "markdown",
   "id": "e6669594",
   "metadata": {},
   "source": [
    "_Solução:_"
   ]
  },
  {
   "cell_type": "code",
   "execution_count": null,
   "id": "f650b2c6",
   "metadata": {},
   "outputs": [],
   "source": []
  },
  {
   "attachments": {},
   "cell_type": "markdown",
   "id": "97f53967",
   "metadata": {},
   "source": [
    "# $ \\S 2 $ Implementação da busca incremental"
   ]
  },
  {
   "cell_type": "code",
   "execution_count": 1,
   "id": "5f05742d",
   "metadata": {},
   "outputs": [],
   "source": [
    "def incremental_search(f, a, b, h):\n",
    "    \"\"\"\n",
    "    Incremental search for a sign change in f within [a, b] with step size h.\n",
    "    \n",
    "    Parameters:\n",
    "    * f (function): Real continuous function.\n",
    "    * a (float): Start of interval (a < b).\n",
    "    * b (float): End of interval.\n",
    "    * h (float): Step size (h > 0).\n",
    "    \n",
    "    Returns:\n",
    "    * (c, d, iterations) (float, float, int): \n",
    "      The number of iterations performed and values c and d for x such that:\n",
    "      * a <= c < d <= b\n",
    "      * d - c <= h\n",
    "      * sign f(c) != sign f(d)\n",
    "    \"\"\"\n",
    "    from numpy import sign\n",
    "\n",
    "    # Checking for unexpected arguments:\n",
    "    if sign(h) != 1:\n",
    "        raise ValueError(\"The step size should be positive!\")\n",
    "    if a >= b:\n",
    "        raise ValueError(\"a should be less than b!\")\n",
    "\n",
    "    c = a\n",
    "    d = a + h\n",
    "    iterations = 1\n",
    "\n",
    "    # Search for a change of signs in steps of size h:\n",
    "    while sign(f(c)) == sign(f(d)) and c != b:\n",
    "        c = d\n",
    "        d = min(d + h, b)\n",
    "        iterations += 1\n",
    "\n",
    "    if c == b:  # Search inconclusive\n",
    "        return None, None, iterations\n",
    "    else:       # Search successful\n",
    "        return round(c, 10), round(d, 10), iterations\n"
   ]
  },
  {
   "attachments": {},
   "cell_type": "markdown",
   "id": "566ffc08",
   "metadata": {},
   "source": [
    "__Problema 2:__ O polinômio $ x^3 - 11x^2 + 7 $ possui exatamente um zero entre $ 0 $ e $ 1 $. Encaixote este zero dentro de um intervalo de comprimento no máximo $ 10^{-3} $."
   ]
  },
  {
   "attachments": {},
   "cell_type": "markdown",
   "id": "6a31cbfc",
   "metadata": {},
   "source": [
    "*Solução:*"
   ]
  },
  {
   "cell_type": "code",
   "execution_count": null,
   "id": "76d68273",
   "metadata": {},
   "outputs": [],
   "source": []
  },
  {
   "attachments": {},
   "cell_type": "markdown",
   "id": "3da4b144",
   "metadata": {},
   "source": [
    "⚠️ Se $ f > 0 $ ou se $ f < 0 $ em todo o intervalo $ [a,b] $, obviamente a\n",
    "busca incremental será mal-sucedida. Por outro lado, mesmo que $ f $ troque de\n",
    "sinal dentro de $ [a, b] $, por menor que seja o tamanho do incremento $ h $,\n",
    "não há como garantir _a priori_ que a busca será bem-sucedida, ou que o\n",
    "intervalo resultante contenha um _único_ zero.\n",
    "\n",
    "️️📝 Muitas vezes precisamos encontrar _todos_ os zeros de uma função. Nestes\n",
    "casos, se utilizarmos um incremento $ h $ grande demais, corremos o risco de\n",
    "pular por um número par de zeros consecutivos sem detectá-los, ou de obter um\n",
    "intervalo que contém um número ímpar de zeros em seu interior, mas ao final\n",
    "conseguir localizar apenas um deles. Por outro lado, se $ h $ for pequeno\n",
    "demais, gastaremos muito tempo procurando em regiões que não contêm qualquer\n",
    "zero. Cabe a nõs escolher o tamanho de passo $ h $ mais adequado em cada\n",
    "caso de modo a mitigar estas dificuldades."
   ]
  },
  {
   "attachments": {},
   "cell_type": "markdown",
   "id": "63258fb3",
   "metadata": {},
   "source": [
    "__Problema 3:__\n",
    "\n",
    "(a) Quantos zeros a função $ f(x) = \\sin(2x) - 0.999 $ tem no intervalo $ [0, 30\\pi] $?\n",
    "\n",
    "(b) Mostre que `busca_incremental` com tamanho de passo $ h = 1 $ não consegue encaixotar nenhum deles."
   ]
  },
  {
   "attachments": {},
   "cell_type": "markdown",
   "id": "1a8bd43f",
   "metadata": {},
   "source": [
    "*Solução:*"
   ]
  },
  {
   "cell_type": "code",
   "execution_count": null,
   "id": "d9968779",
   "metadata": {},
   "outputs": [],
   "source": [
    "from numpy import sin, pi"
   ]
  },
  {
   "attachments": {},
   "cell_type": "markdown",
   "id": "0f60bb91",
   "metadata": {},
   "source": [
    "## $ \\S 3 $ Análise do desempenho da busca incremental\n",
    "\n",
    "**Definição:** As funções\n",
    "\n",
    "\\begin{alignat*}{9}\n",
    "    \\lfloor{\\cdot}\\rfloor \\colon \\mathbb{R} \\to \\mathbb{Z},\n",
    "    \\quad \\lfloor{x}\\rfloor & = \\text{maior inteiro $ \\le x $} \\\\\n",
    "    \\lceil{\\cdot}\\rceil \\colon \\mathbb{R} \\to \\mathbb{Z},\n",
    "    \\quad \\lceil{x}\\rceil & = \\text{menor inteiro $ \\ge x $} \\\\\n",
    "\\end{alignat*}\n",
    "são chamadas de funções **chão** e **teto** respectivamente. Observe que\n",
    "$$\n",
    "  \\lfloor x \\rfloor = x = \\lceil x \\rceil\\ \\Longleftrightarrow x \\in \\mathbb Z\\,.\n",
    "$$\n"
   ]
  },
  {
   "attachments": {},
   "cell_type": "markdown",
   "id": "1f332626",
   "metadata": {},
   "source": [
    "__Problema 4:__ \n",
    "\n",
    "(a) Esboce os gráficos das funções chão e teto, primeiro à mão e depois usando o computador.\n",
    "\n",
    "(b) Mostre que estas funções são contínuas exceto nos inteiros, onde têm uma descontinuidade do tipo salto.\n"
   ]
  },
  {
   "attachments": {},
   "cell_type": "markdown",
   "id": "cd6e4df9",
   "metadata": {},
   "source": [
    "_Solução:_"
   ]
  },
  {
   "cell_type": "code",
   "execution_count": 16,
   "id": "a1a796a1",
   "metadata": {},
   "outputs": [],
   "source": [
    "from numpy import floor, ceil\n",
    "import matplotlib.pyplot as plt\n",
    "\n",
    "\n",
    "# Complete o código abaixo:\n",
    "xs = np.linspace(-5, 5, 1001)\n",
    "ys_floor = ...\n",
    "ys_ceil = ...\n",
    "plt.plot(...)\n",
    "plt.plot(...)\n",
    "plt.grid(True)\n",
    "plt.show()"
   ]
  },
  {
   "attachments": {},
   "cell_type": "markdown",
   "id": "29f4a377",
   "metadata": {},
   "source": [
    "__Problema 5:__ Mostre que\n",
    "$$\n",
    "\\lceil{x}\\rceil =\n",
    "\\begin{cases}\n",
    "    \\lfloor{x}\\rfloor + 1 & \\text{se $ x \\not \\in \\mathbb{Z} $} \\\\\n",
    "    \\lfloor{x}\\rfloor & \\text{se $ x \\in \\mathbb{Z} $}\n",
    "\\end{cases}\n",
    "$$\n"
   ]
  },
  {
   "attachments": {},
   "cell_type": "markdown",
   "id": "beef471f",
   "metadata": {},
   "source": [
    "_Solução:_"
   ]
  },
  {
   "attachments": {},
   "cell_type": "markdown",
   "id": "3318d18a",
   "metadata": {},
   "source": [
    "__Teorema 3.1:__ _No pior caso, a busca incremental aplicada a uma função\n",
    "definida no intervalo $ [a, b] $ com tamanho de passo $ h > 0 $\n",
    "requer_\n",
    "\\begin{equation}\n",
    "    \\boxed{n = \\left\\lceil{\\frac{b-a}{h}}\\right\\rceil + 1 \\ \\text{avaliações da função}}\n",
    "    \\tag{1}\n",
    "\\end{equation}\n",
    "\n",
    "__Prova:__ Suponha que a função à qual a busca foi aplicada não troque de sinal\n",
    "dentro de $ [a, b] $. Então precisamos avaliá-la em cada ponto $ x_i = a + ih $\n",
    "tal que $ x_i < b $ a partir de $ i = 0 $, e também em $ b $. Portanto:\n",
    "* Se $ h $ divide $ b - a $ exatamente, é necessária uma avaliação da\n",
    "  função para cada inteiro $ i $ entre $ 0 $ e $ \\frac{b - a}{h} $.\n",
    "* Se $ h $ não divide $ b - a $ exatamente, precisamos realizar uma avaliação\n",
    "  da função para cada inteiro $ i $ entre $ 0 $ e\n",
    "  $ \\left\\lfloor \\frac{b - a}{h} \\right\\rfloor $, além de $ b $.\n",
    "\n",
    "Em qualquer caso, o número de avaliações coincide com aquele do enunciado. $ \\blacksquare $\n",
    "\n",
    "Por exemplo, se quisermos localizar o zero de uma função definida no intervalo\n",
    "$ [0, 1] $ com precisão de ao menos $ 5 $ dígitos, precisamos realizar a\n",
    "princípio $ 10^5 $ avaliações da função. Assim, para uma tolerância\n",
    "pequena relativamente ao comprimento do intervalo original, o custo\n",
    "computacional pode ser inaceitavelmente alto."
   ]
  },
  {
   "attachments": {},
   "cell_type": "markdown",
   "id": "11cc11f6",
   "metadata": {},
   "source": [
    "\n",
    "__Problema 6:__ Usando a busca incremental, identifique um intervalo $ [a, b] $\n",
    "de comprimento menor que $ \\frac{1}{10} $ que contém uma raiz da equação dada.\n",
    "Determine em cada caso uma cota superior para o número de passos necessários\n",
    "através do Teorema 3.1.\n",
    "\n",
    "(a) $ x \\ln x = 1 $ ($ x > 0 $).\n",
    "\n",
    "(b) $ \\cos x = x^2 $.\n",
    "\n",
    "(c) $ x^5 - 3x^4 - 6x^3 + 4x^2 + 5x - 3 = 0 $.\n",
    "\n",
    "(d) $ \\tan x = x + 2 e^x $ $\\big( x \\not\\in \\frac{\\pi}{2} + \\pi \\mathbb Z \\big)$."
   ]
  },
  {
   "attachments": {},
   "cell_type": "markdown",
   "id": "4fc14264",
   "metadata": {},
   "source": [
    "_Solução:_"
   ]
  },
  {
   "cell_type": "code",
   "execution_count": null,
   "id": "8588a40c",
   "metadata": {},
   "outputs": [],
   "source": []
  },
  {
   "attachments": {},
   "cell_type": "markdown",
   "id": "ed190439",
   "metadata": {},
   "source": [
    "## ⚡ $ \\S 4 $ Descrição da busca adaptativa\n",
    "\n",
    "Uma alternativa para tentar reduzir o custo da busca incremental é utilizar um\n",
    "tamanho de passo que é reduzido pouco a pouco. Mais precisamente, na __busca\n",
    "adaptativa__ com tolerância $ \\varepsilon > 0 $:\n",
    "\n",
    "1. Inicialmente tomamos\n",
    "$$\n",
    "h = \\frac{b-a}{10}\\,.\n",
    "$$\n",
    "2. Realizamos uma busca incremental no intervalo $ [a, b] $ com tamanho de passo $ h $.\n",
    "   Se ela for bem-sucedida, atualizamos $ [a, b] $ a este\n",
    "   subintervalo. Caso contrário, não alteramos $ [a, b] $.\n",
    "3. Se $ h \\le \\varepsilon $, terminamos. Caso contrário, fazemos $ h \\leftarrow h / 10 $\n",
    "   e voltamos ao passo 2.\n",
    "\n",
    "O ponto crucial é que cada vez que encontrarmos um subintervalo onde a função\n",
    "troca de sinal, podemos restringir a próxima busca incremental a este intervalo\n",
    "menor, potencialmente economizando o número de avaliações realizadas."
   ]
  },
  {
   "attachments": {},
   "cell_type": "markdown",
   "id": "872b473a",
   "metadata": {},
   "source": [
    "## ⚡ $ \\S 5 $ Implementação da busca adaptativa"
   ]
  },
  {
   "cell_type": "code",
   "execution_count": 41,
   "id": "25273c7d",
   "metadata": {},
   "outputs": [],
   "source": [
    "def adaptive_search(f, a, b, eps):\n",
    "    \"\"\"\n",
    "    Adaptive search for a sign change in f within [a, b] with step size reducing\n",
    "    until it is <= eps.\n",
    "    \n",
    "    Parameters:\n",
    "    * f (function): Real continuous function.\n",
    "    * a (float): Start of interval (a < b).\n",
    "    * b (float): End of interval.\n",
    "    * eps (float): Upper bound for the desired step size (eps > 0).\n",
    "    \n",
    "    Returns:\n",
    "    * (c, d, iterations) (float, float, int): \n",
    "      The number of iterations performed and values c and d for x such that:\n",
    "      * a <= c < d <= b\n",
    "      * d - c <= eps\n",
    "      * sign f(c) != sign f(d)\n",
    "    \"\"\"\n",
    "    from numpy import sign\n",
    "\n",
    "    # Checking for unexpected arguments:\n",
    "    if sign(eps) != 1:\n",
    "        raise ValueError(\"The tolerance should be positive!\")\n",
    "    if a >= b:\n",
    "        raise ValueError(\"a should be less than b!\")\n",
    "    if eps > (b - a) / 10:\n",
    "        eps = (b - a) / 10\n",
    "\n",
    "    iterations = 0\n",
    "    h = b - a\n",
    "    success = False\n",
    "\n",
    "    while h >= eps:\n",
    "        h /= 10\n",
    "        c = a\n",
    "        d = a + h\n",
    "\n",
    "        while sign(f(c)) == sign(f(d)) and c != b:\n",
    "            c = d\n",
    "            d = min(d + h, b)\n",
    "            iterations += 1\n",
    "\n",
    "        if c != b:\n",
    "            success = True\n",
    "            a = c\n",
    "            b = d\n",
    "\n",
    "    if not success:\n",
    "        return None, None, iterations\n",
    "    else:\n",
    "        return round(a, 10), round(b, 10), iterations\n"
   ]
  },
  {
   "attachments": {},
   "cell_type": "markdown",
   "id": "98c54434",
   "metadata": {},
   "source": [
    "⚠️ Não há garantia que a busca adaptativa seja sempre mais eficiente que a busca\n",
    "incremental simples. Por exemplo, se a função toma valores de mesmo sinal ao\n",
    "longo de todo o intervalo inicial $ [a, b] $, então para $ h < \\frac{b - a}{10}\n",
    "$, a busca adaptativa certamente realizará mais avaliações que a busca incremental."
   ]
  },
  {
   "attachments": {},
   "cell_type": "markdown",
   "id": "0c62792c",
   "metadata": {},
   "source": [
    "\n",
    "__Problema 7:__ Compare o número de iterações utilizadas pela busca incremental\n",
    "e pela busca adaptativa para encaixotar uma raiz das equações seguintes para\n",
    "o valor máximo do incremento $ h $ igual a $ 10^{-3} $.\n",
    "\n",
    "(a) $ \\cos x \\cosh x = 2 $, onde por definição $ \\cosh x = \\frac{e^x + e^{-x}}{2} $.\n",
    "\n",
    "(b) $ xe^x = 1 $.\n",
    "\n",
    "(c) $ x^2 + \\ln x = 0 $ ($ x > 0 $)."
   ]
  },
  {
   "attachments": {},
   "cell_type": "markdown",
   "id": "1691dc8d",
   "metadata": {},
   "source": [
    "_Solução:_"
   ]
  },
  {
   "cell_type": "code",
   "execution_count": null,
   "id": "63df4648",
   "metadata": {},
   "outputs": [],
   "source": []
  },
  {
   "attachments": {},
   "cell_type": "markdown",
   "id": "3d4064cd",
   "metadata": {},
   "source": [
    "__Problema 8:__ Modifique `busca_incremental` para criar um novo procedimento `busca_exaustiva` com os mesmos parâmetros que antes, mas que retorna uma lista contendo _todos_ os pares $ \\big(x_{i-1}, x_i\\big) $ tais que ocorre uma troca de sinal no intervalo com estas extremidades, onde\n",
    "$$\n",
    "    x_i = a + h i \\quad \\text{para} \\quad i = 0,1,\\dots,N - 1 =\\left\\lfloor{\\frac{b-a}{h}}\\right\\rfloor \\quad\\text{e} \\quad x_N = b.\n",
    "$$"
   ]
  },
  {
   "attachments": {},
   "cell_type": "markdown",
   "id": "619a3b12",
   "metadata": {},
   "source": [
    "*Solução:*"
   ]
  },
  {
   "cell_type": "code",
   "execution_count": null,
   "id": "8929841d",
   "metadata": {},
   "outputs": [],
   "source": []
  }
 ],
 "metadata": {
  "kernelspec": {
   "display_name": "base",
   "language": "python",
   "name": "python3"
  },
  "language_info": {
   "codemirror_mode": {
    "name": "ipython",
    "version": 3
   },
   "file_extension": ".py",
   "mimetype": "text/x-python",
   "name": "python",
   "nbconvert_exporter": "python",
   "pygments_lexer": "ipython3",
   "version": "3.12.3"
  },
  "vscode": {
   "interpreter": {
    "hash": "49060cedf8366e4ce4bf4b9d121c044cf7249a0afe21432e14f32b1ca5a4731f"
   }
  }
 },
 "nbformat": 4,
 "nbformat_minor": 5
}
