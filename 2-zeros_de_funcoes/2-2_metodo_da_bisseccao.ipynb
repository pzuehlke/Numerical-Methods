{
 "cells": [
  {
   "cell_type": "markdown",
   "id": "80bc17b7",
   "metadata": {},
   "source": [
    "# O método da bissecção"
   ]
  },
  {
   "cell_type": "markdown",
   "id": "b4f00d48",
   "metadata": {},
   "source": [
    "## $ \\S 1 $ Descrição do método da bissecção"
   ]
  },
  {
   "cell_type": "markdown",
   "id": "ca44361d",
   "metadata": {},
   "source": [
    "## $ \\S 2 $ Implementação do método da bissecção"
   ]
  },
  {
   "cell_type": "code",
   "execution_count": 1,
   "id": "f3b701b7",
   "metadata": {},
   "outputs": [],
   "source": [
    "def biseccao(f, a: float, b: float,\n",
    "             tolerancia: float, max_iter: int) -> float:\n",
    "    \"\"\" Usa o método da bissecção para encontrar uma aproximação para\n",
    "    um zero da função 'f' dentro de [a, b] com erro menor que 'tolerancia',\n",
    "    ou até que o número máximo 'max_iter' de iterações seja excedido.\n",
    "    Note que _não_ é necessário que 'a' e 'b' satisfaçam:\n",
    "        (a) a < b; nem\n",
    "        (b) f(a) < 0 < f(b).\n",
    "    Contudo, se f(a)f(b) >= 0, então um erro é retornado. \"\"\"\n",
    "\n",
    "    def busca(f, neg_point: float, pos_point: float,\n",
    "               eps: float, max_iter: int) -> float:\n",
    "        \"\"\" Se apoiando no teorema do valor intermediário, usa bissecções\n",
    "        repetidas do intervalo inicial para encontrar uma aproximação\n",
    "        para um zero de 'f' dentro do intervalo de extremidades\n",
    "        'ponto_neg' e 'ponto_pos'. É assumido que:\n",
    "            f(ponto_neg) < 0 < f(ponto_pos).\n",
    "        Esta condição é verificada antes de 'busca' ser chamada. \"\"\"\n",
    "        ponto_medio = (ponto_neg + ponto_pos) / 2\n",
    "        f_medio = f(ponto_medio)\n",
    "        if max_iter == 0 or f_medio == 0 or abs(ponto_pos - ponto_medio) < eps:\n",
    "            print(f\"Encontrado o zero aproximado {ponto_medio} onde\", end=' ')\n",
    "            print(f\"a função assume o valor {f_medio}.\")\n",
    "            return ponto_medio\n",
    "        elif f_medio > 0:\n",
    "            return busca(f, ponto_neg, ponto_medio, eps, max_iter - 1)\n",
    "        else:\n",
    "            return busca(f, ponto_medio, ponto_pos, eps, max_iter - 1)\n",
    "\n",
    "    assert (eps > 0 and max_iter > 0)\n",
    "    f_a, f_b = f(a), f(b)\n",
    "    # Cheque os sinais de f(a) e f(b) e chame 'busca' conforme o resultado:\n",
    "    if f_a < 0 < f_b:\n",
    "        return busca(f, a, b, eps, max_iter)\n",
    "    elif f_b < 0 < f_a:\n",
    "        return busca(f, b, a, eps, max_iter)\n",
    "    else:\n",
    "        mensagem_erro = \"Os valores da função nos argumentos dados: \"\n",
    "        mensagem_erro += f\"a = {a} e b = {b} não têm sinais opostos; \"\n",
    "        mensagem_erro += f\"eles são f(a) = {f(a)} and f(b) = {f(b)}.\"\n",
    "        raise ValueError(error_message)\n"
   ]
  },
  {
   "cell_type": "code",
   "execution_count": null,
   "id": "b75af616",
   "metadata": {},
   "outputs": [],
   "source": []
  }
 ],
 "metadata": {
  "kernelspec": {
   "display_name": "Python 3 (ipykernel)",
   "language": "python",
   "name": "python3"
  },
  "language_info": {
   "codemirror_mode": {
    "name": "ipython",
    "version": 3
   },
   "file_extension": ".py",
   "mimetype": "text/x-python",
   "name": "python",
   "nbconvert_exporter": "python",
   "pygments_lexer": "ipython3",
   "version": "3.9.13"
  }
 },
 "nbformat": 4,
 "nbformat_minor": 5
}
