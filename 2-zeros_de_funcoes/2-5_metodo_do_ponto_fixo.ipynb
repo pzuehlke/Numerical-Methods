{
 "cells": [
  {
   "cell_type": "code",
   "execution_count": 2,
   "id": "434fac4e",
   "metadata": {},
   "outputs": [],
   "source": [
    "import matplotlib.pyplot as plt\n",
    "import numpy as np\n",
    "from typing import Callable\n",
    "%load_ext autoreload\n",
    "%autoreload 2\n",
    "%matplotlib qt"
   ]
  },
  {
   "attachments": {},
   "cell_type": "markdown",
   "id": "42e2f6ca",
   "metadata": {},
   "source": [
    "# O método do ponto fixo\n",
    "\n",
    "## $ \\S 1 $ Pontos fixos\n",
    "\n",
    "Seja $ \\varphi $ uma função real de uma variável. Um **ponto fixo** $ \\xi $ de $ \\varphi $ é um elemento do seu domínio tal que\n",
    "$$\n",
    "\\varphi(\\xi) = \\xi\\,.\n",
    "$$\n",
    "\n",
    "**Problema 1:** Encontre todos os pontos fixos das funções abaixo, se houver:\n",
    "\n",
    "(a) $ \\varphi(x) = x^2 $ ($ x \\in \\mathbb R $).\n",
    "\n",
    "(b) $ \\varphi(x) = x^n $ ($ n \\in \\mathbb N $, $ x \\in \\mathbb R $).\n",
    "\n",
    "(c) $ \\varphi(x) = x^3 + x^2 - x $ ($ x \\in \\mathbb R $).\n",
    "\n",
    "(c) $ \\varphi(x) = x \\cos x $ ($ x \\in \\mathbb R $).\n",
    "\n",
    "(d) $ \\varphi(x) = \\ln x $ ($ x > 0 $).\n",
    "\n",
    "📝 Geometricamente, um ponto fixo de $ \\varphi $ corresponde à coordenada-$x$ de um ponto de intersecção do gráfico de $ \\varphi $ com a reta de equação $ y = x $.\n",
    "\n",
    "![Encontrando graficamente os pontos fixos](fig_2-5_exemplo_0.png \"Encontrando graficamente os pontos fixos\")\n",
    "\n",
    "📝 O problema de se determinar uma raiz de uma equação qualquer em uma variável, digamos da forma\n",
    "\\begin{equation*}\\label{E:1}\n",
    "g(x) = h(x)\\,, \\tag{1}\n",
    "\\end{equation*}\n",
    "pode sempre ser transformado na tarefa equivalente de se encontrar um ponto fixo de uma função apropriada, já que podemos reescrever \\eqref{E:1} por exemplo na forma\n",
    "$$\n",
    "\\underbrace{g(x) - h(x) + x}_{\\varphi(x)} = x\\,.\n",
    "$$\n",
    "De fato, existem _infinitas_ maneiras de se efetuar a conversão entre os dois tipos de problemas, e às vezes uma delas pode ser muito mais adequada que outra.\n",
    "\n",
    "**Problema 2:** Considere a equação $ x^3 - x + 2 = 0 $. Mostre que $ \\xi $ é uma raiz se e somente se é ponto fixo de:\n",
    "\n",
    "(a) $ \\varphi_1(x) = x^3 + 2 $.\n",
    "\n",
    "(b) $ \\varphi_2(x) = \\sqrt[3]{x - 2} $.\n",
    "\n",
    "(c) $ \\varphi_3(x) = \\frac{x - 2}{x^2} $.\n",
    "\n",
    "(d) $ \\varphi_4(x) = e^{-x^3 + x -2} - 1 + x $."
   ]
  },
  {
   "attachments": {},
   "cell_type": "markdown",
   "id": "45cb2c52",
   "metadata": {},
   "source": [
    "## $ \\S 2 $ Descrição do método do ponto fixo\n",
    "\n",
    "Seja $ \\varphi $ uma função contínua definida num intervalo qualquer. O\n",
    "__método do ponto fixo__ é um procedimento iterativo para se encontrar um ponto\n",
    "fixo de $ \\varphi $. Partindo de uma estimativa inicial $ x_0 $ para um ponto\n",
    "fixo escolhida arbitrariamente pelo usuário, mas o mais próxima possível dele,\n",
    "definimos:\n",
    "* $ x_1 = \\varphi(x_0) $;\n",
    "* $ x_2 = \\varphi(x_1) = \\varphi^2(x_0) $;\n",
    "* $ x_3 = \\varphi(x_2) = \\varphi^3(x_0) $;\n",
    "* $\\ \\vdots $\n",
    "* $ x_n = \\varphi(x_{n-1}) = \\varphi^n(x_0) $;\n",
    "* $\\ \\vdots $\n",
    "\n",
    "Aqui $ \\varphi^{k} $ não denota uma potência, mas sim a composição de\n",
    "$ \\varphi $ com ela mesma $ k $ vezes:\n",
    "$$\n",
    "\\varphi^{k} = \\underbrace{\\varphi \\circ \\varphi \\circ \\cdots \\circ \\varphi}_{\\text{$ k $ vezes}}\n",
    "\\qquad ( k \\ge 1 )\\,.\n",
    "$$\n",
    "\n",
    "__Lema 2.1:__ _Se a seqüência $ (x_n) $ construída acima converge, então seu\n",
    "limite é um ponto fixo de $ \\varphi $._\n",
    "\n",
    "__Prova:__  Seja $ \\xi $ o limite de $ (x_n) $. Fazendo $ n \\to \\infty $ na\n",
    "equação que define $ x_n $, deduzimos que:\n",
    "\\begin{alignat*}{3}\n",
    "\\xi &= \\lim_{n \\to \\infty} x_n \\qquad & &  \\text{(definição de $ \\xi $)} \\\\\n",
    "& = \\lim_{n \\to \\infty} \\varphi(x_{n-1}) & &  \\text{(pela equação que define $ x_n $)} \\\\\n",
    "& = \\varphi\\Big(\\lim_{n \\to \\infty} x_{n-1}\\Big) \\qquad & & \\text{(pela continuidade de $ \\varphi $)} \\\\\n",
    "& = \\varphi(\\xi) \\qquad & & \\text{(já que $ \\lim_{n} x_{n-1} $ também é $ \\xi $)} \\tag*{$ \\blacksquare $}\n",
    "\\end{alignat*}\n",
    "\n",
    "⚠️ Observe que o Lema _não_ garante a convergência da seqüência $ (x_n) $ construída no método do ponto fixo. Ele diz apenas que _caso_ ela convirja, seu limite é ponto fixo de $ \\varphi $. Veja o Teorema 4.1 para uma condição suficiente para convergência.\n",
    "\n",
    "__Problema 3__: A função $ \\varphi(x) = \\cos x $ possui um único ponto fixo em $\n",
    "\\mathbb R $. Calcule os vinte primeiros termos da seqüência $ \\big(x_n = \\varphi^n(x_0) \\big) $ gerada pelo método do ponto fixo para aproximá-lo. _Dica:_ Use um `for`."
   ]
  },
  {
   "attachments": {},
   "cell_type": "markdown",
   "id": "889af644",
   "metadata": {},
   "source": [
    "**Problema 4 (algoritmo babilônico para extração de raízes quadradas):** O *algoritmo babilônico* para o cálculo da raiz quadrada de um número real $ a > 0 $ consiste da escolha de uma estimativa $ x_0 $ inicial para esta raiz, por exemplo $ x_0 = a $, e das iterações\n",
    "$$\n",
    "x_{n + 1} = \\frac{1}{2}\\bigg(x_n + \\frac{a}{x_n}\\bigg) \\qquad (n \\ge 0)\\,.\n",
    "$$\n",
    "No limite, $ x_n $ converge a $ \\sqrt{a} $ (para detalhes veja este outro [Problema](#babylon)) Este método é conhecido pelo menos desde $ 1\\,500 $ A.C.. Ele é um caso especial do método do ponto fixo.\n",
    "\n",
    "(a) Usando a construção `lambda` em Python, defina a função\n",
    "$$\n",
    "\\varphi(x) = \\frac{1}{2}\\bigg(x + \\frac{a}{x}\\bigg) \\qquad (x > 0)\\,.\n",
    "$$\n",
    "\n",
    "(b) Mostre que $ \\xi > 0 $ é ponto fixo de $ \\varphi $ se e somente se \n",
    "$ \\xi = \\sqrt{a} $.\n",
    "\n",
    "(c) Crie um procedimento que, dados $ x_0 $, $ a > 0 $ e uma tolerância\n",
    "$ \\varepsilon > 0 $, retorna uma aproximação para $ \\sqrt{a} $ conforme o método\n",
    "babilônico. _Dica:_ Use um `while` com uma condição que testa a diferença entre\n",
    "a estimativa atual e a anterior para a raiz quadrada.\n",
    "\n",
    "(d) Use sua implementação para calcular $ \\sqrt{2} $ e $ \\sqrt{3} $ com precisão\n",
    "melhor que $ 10^{-3} $."
   ]
  },
  {
   "cell_type": "markdown",
   "id": "38a22c3c",
   "metadata": {},
   "source": [
    "## $ \\S 3 $ Implementação do método do ponto fixo<a name=\"imp\"></a>"
   ]
  },
  {
   "cell_type": "code",
   "execution_count": 3,
   "id": "45405e2f",
   "metadata": {},
   "outputs": [],
   "source": [
    "def fixed_point(phi: Callable[[float], float], x: float,\n",
    "                eps: float = 1.0e-3, max_iter: int = 100\n",
    "                ) -> tuple[list[float], list[float]]:\n",
    "    \"\"\"\n",
    "    Applies the fixed point iteration method to a function.\n",
    "    Parameters:\n",
    "        * A continuous real function phi.\n",
    "        * An initial guess x for a fixed point.\n",
    "        * The maximum error tolerance eps.\n",
    "        * The maximum allow number of iterations, max_iter.\n",
    "    Output:\n",
    "        * Two lists, xs and ys, containing the estimates and the values\n",
    "          of phi at each of them, respectively.\n",
    "    Prints:\n",
    "        * The last estimate.\n",
    "        * The value of phi at this estimate.\n",
    "        * The number of iterations that were performed.\n",
    "        * An upper bound for the error.\n",
    "    \"\"\"\n",
    "    \n",
    "    \n",
    "    x = float(x)       # Make sure x is of type float.\n",
    "    xs = [x]           # Create a list to store the estimates.\n",
    "    ys = []            # Create a list to store phi of the estimates.\n",
    "    iterations = 0     # Counter for the number of iterations.\n",
    "    error = 2 * eps\n",
    "    while error >= eps and iterations < max_iter:\n",
    "        try:           # Compute the next estimate and check for overflow.\n",
    "            new_x = phi(x)\n",
    "        except OverflowError:\n",
    "            print(\"The resulting sequence diverges!\")\n",
    "            return None, None\n",
    "        xs.append(new_x)       # Store the new estimate.\n",
    "        ys.append(new_x)       # Store phi of the old estimate (= new estimate).\n",
    "        error = abs(new_x - x)    # Update the error.\n",
    "        x = new_x\n",
    "        iterations += 1\n",
    "    \n",
    "    # ys is always one step behind xs, so we need to append one more element:\n",
    "    ys.append(phi(new_x))\n",
    "    print(f\"After {iterations} iterations,\", end='')\n",
    "    print(f\"the estimate for the fixed point is:\\n{xs[-1]:15.8f}\\n\"\n",
    "          f\"The value of the function at this point is: \\n{ys[-1]:15.8f}\")\n",
    "    return xs, ys"
   ]
  },
  {
   "cell_type": "code",
   "execution_count": 4,
   "id": "83d236db",
   "metadata": {},
   "outputs": [],
   "source": [
    "\n",
    "def print_solution(xs: list[float], ys: list[float], freq: int = 1) -> None:\n",
    "    \"\"\"\n",
    "    Given two arrays xs and ys of the same length, prints a table whose n-th\n",
    "    line consists of three entries: the values of n, xs[n] and ys[n].\n",
    "    Parameters:\n",
    "        * The arrays xs and ys. \n",
    "        * A parameter freq used to print only one in every freq line. The\n",
    "          first and last line are always printed. If freq == 0, then only these\n",
    "          lines are printed.\n",
    "    Output: None.\n",
    "    Prints: A header and the table described above.\n",
    "    \"\"\"\n",
    "    def print_header() -> None:\n",
    "        \"\"\"\n",
    "        Prints the table's header.\n",
    "        \"\"\"\n",
    "        print(\"\\n|       n      \", end=\"\")\n",
    "        print(\"    x_n            \", end=\"\")\n",
    "        print(\"    φ(x_n)      |\")\n",
    "        print(\"|=================================================|\")\n",
    "        \n",
    "    def print_line(n: int, x: float, y: float) -> None:\n",
    "        \"\"\"\n",
    "        Pretty-prints n, x and y.\n",
    "        \"\"\"\n",
    "        print(f\"|      {n:02}\", end=\"\")\n",
    "        print(f\"    {x:15.8f}\", end=\"\")\n",
    "        print(f\"    {y:15.8f}   |\")\n",
    "    \n",
    "    \n",
    "    N = len(xs)\n",
    "    if freq == 0:       # If freq == 0, print only first and last lines.\n",
    "        freq = N - 1\n",
    "    print_header()\n",
    "    print_line(0, xs[0], ys[0])\n",
    "    for n in range(1, N, freq):\n",
    "        print_line(n, xs[n], ys[n])\n",
    "    if n != N - 1:\n",
    "        print_line(n, xs[N], ys[N])\n",
    "    print(\"|_________________________________________________|\\n\")\n",
    "        \n",
    "    return None"
   ]
  },
  {
   "attachments": {},
   "cell_type": "markdown",
   "id": "7b5339aa",
   "metadata": {},
   "source": [
    "__Problema 5:__ Use a implementação acima para encontrar um ponto fixo da função\n",
    "$ \\varphi(x) = \\cos(\\sin (x)) $ com um erro menor que $ 10^{-4} $."
   ]
  },
  {
   "cell_type": "code",
   "execution_count": 5,
   "id": "f857d435",
   "metadata": {},
   "outputs": [
    {
     "name": "stdout",
     "output_type": "stream",
     "text": [
      "After 13 iterations,the estimate for the fixed point is:\n",
      "     0.76818913\n",
      "The value of the function at this point is: \n",
      "     0.76815996\n",
      "\n",
      "|       n          x_n                φ(x_n)      |\n",
      "|=================================================|\n",
      "|      00         0.00000000         1.00000000   |\n",
      "|      01         1.00000000         0.66636675   |\n",
      "|      02         0.66636675         0.81496121   |\n",
      "|      03         0.81496121         0.74670690   |\n",
      "|      04         0.74670690         0.77805946   |\n",
      "|      05         0.77805946         0.76361774   |\n",
      "|      06         0.76361774         0.77026535   |\n",
      "|      07         0.77026535         0.76720406   |\n",
      "|      08         0.76720406         0.76861356   |\n",
      "|      09         0.76861356         0.76796453   |\n",
      "|      10         0.76796453         0.76826338   |\n",
      "|      11         0.76826338         0.76812577   |\n",
      "|      12         0.76812577         0.76818913   |\n",
      "|      13         0.76818913         0.76815996   |\n",
      "|_________________________________________________|\n",
      "\n"
     ]
    }
   ],
   "source": [
    "from numpy import cos, sin\n",
    "phi = lambda x: cos(sin(x))\n",
    "x_0 = 0\n",
    "eps = 1e-4\n",
    "max_iter = 100\n",
    "\n",
    "xs, ys = fixed_point(phi, x_0, eps, max_iter)\n",
    "print_solution(xs, ys)"
   ]
  },
  {
   "attachments": {},
   "cell_type": "markdown",
   "id": "4cc011ac",
   "metadata": {},
   "source": [
    "## $ \\S 4 $ Estudo de casos\n",
    "\n",
    "Depois de experimentarmos com alguns exemplos, fica fácil reconhecer quatro\n",
    "padrões que surgem na aplicação do método do ponto fixo. Eles são ilustrados\n",
    "pelas seguintes quatro funções, para cada uma das quais $ \\xi = 1 $ é um ponto\n",
    "fixo. Antes de continuar, rode a célula abaixo para conseguir ver as animações\n",
    "correspodentes."
   ]
  },
  {
   "cell_type": "code",
   "execution_count": 5,
   "id": "20de8fda",
   "metadata": {},
   "outputs": [],
   "source": [
    "\n",
    "def fixed_point_animation(phi: Callable[[float], float], a: float, b :float,\n",
    "                        x: float, N: int = 4, title: str = \"\",\n",
    "                        duration: float = 0.75,\n",
    "                        ) -> tuple[list[float], list[float]]:\n",
    "    \"\"\"\n",
    "    Displays an animation of the fixed point iteration method applied to a\n",
    "    function.\n",
    "    Parameters:\n",
    "        * A continuous real function phi.\n",
    "        * The two endpoints a and b of the interval in the x-axis where the\n",
    "          animation takes place.\n",
    "        * An initial estimate x for the zero in [a, b].\n",
    "        * The maximum number N of iterations.\n",
    "        * A title to be displayed at the top of the diagram.\n",
    "        * The duration of the pause between slides of the animation, in seconds.\n",
    "          Set duration = 0 to produce a figure instead of an animation.\n",
    "    Output:\n",
    "        * Two lists xs and ys containing the estimates and the values of the\n",
    "          function phi at each of them.\n",
    "    Displays:\n",
    "        * The animation in a pop-up window.\n",
    "    \"\"\"\n",
    "    import matplotlib.pyplot as plt\n",
    "    import numpy as np\n",
    "    %matplotlib qt\n",
    "    \n",
    "    \n",
    "    def pause(duration):\n",
    "        \"\"\"\n",
    "        Pauses the animation for duration seconds, provided duration > 0.\n",
    "        \"\"\"\n",
    "        if duration > 0:\n",
    "            plt.pause(duration)\n",
    "\n",
    "\n",
    "    cmap = plt.get_cmap(\"tab10\")               # Used to control the colors.\n",
    "    P = 200                                    # Number of points in each plot.\n",
    "    width = 1.75                               # Line width.\n",
    "    marker_size = 5\n",
    "    domain = np.linspace(a, b, P)              # Generates P nodes from a to b.\n",
    "    xs = [x]                                   # Stores the estimates.\n",
    "    for _ in range(N):                         # Filling xs.\n",
    "        xs.append(phi(xs[-1]))\n",
    "    ys = [phi(x) for x in xs]                    # Stores f of the estimates.\n",
    "\n",
    "    # Generate sample points for drawing vertical lines to the graph of f:\n",
    "    xs_vert_phi = [np.linspace(xs[n], xs[n], P) for n in range(N)]\n",
    "    ys_vert_phi = [np.linspace(0, ys[n], P) for n in range(N)]\n",
    "    # Generate sample points for drawing vertical lines to the line y = x:\n",
    "    xs_vert_diag = [np.linspace(ys[n], ys[n], P) for n in range(N)]\n",
    "    ys_vert_diag = [np.linspace(0, ys[n], P) for n in range(N)]\n",
    "    # Generate sample points for drawing horizontal lines:\n",
    "    xs_horiz = [np.linspace(xs[n], xs[n + 1], P) for n in range(N)]\n",
    "    ys_horiz = [np.linspace(ys[n], ys[n], P) for n in range(N)]\n",
    "    \n",
    "    # Draw the graph of f and the line y = x:\n",
    "    plt.axhline(y=0.0, color='black', linestyle='-', lw=width)\n",
    "    plt.xlabel(\"$ x $-axis\")\n",
    "    plt.ylabel(\"$ y $-axis\")\n",
    "    plt.title(title)\n",
    "    plt.grid(True)\n",
    "    plt.plot(domain, phi(domain), label=\"$ y = \\phi(x) $\", lw=width)\n",
    "    plt.plot(domain, domain, label=\"$ y = x $\", lw=width)\n",
    "    plt.legend()\n",
    "\n",
    "    # Mark the initial estimate on the x-axis:\n",
    "    pause(duration)\n",
    "    plt.plot(xs[0], 0, color=cmap(2), marker=\"x\",\n",
    "             mew=width, label=f'$ x_0 $')\n",
    "    plt.legend()\n",
    "    \n",
    "    for n in range(N):\n",
    "        pause(duration)\n",
    "        # Draw the segment of the line x = x_n from y = 0 to y = y_n:\n",
    "        plt.plot(xs_vert_phi[n], ys_vert_phi[n], linestyle='--',\n",
    "                 lw=width, color='black')\n",
    "        # Mark x_n on the x-axis:\n",
    "        plt.plot(xs[n], 0, color=cmap(n + 2), marker=\"x\",\n",
    "                 mew=width)\n",
    "        # Plot (x_n, y_n):\n",
    "        plt.plot(xs[n], ys[n], color='black', marker=\"o\", ms=marker_size)\n",
    "        pause(duration)\n",
    "        # Draw the horizontal segment connecting (x_n, y_n) = (x_n, x_{n + 1})\n",
    "        # to (x_{n + 1}, x_{n + 1}):\n",
    "        plt.plot(xs_horiz[n], ys_horiz[n], linestyle='--',\n",
    "                 lw=width, color='black')\n",
    "        # Plot (x_n, y_n) again and plot (x_{n + 1}, x_{n + 1}):\n",
    "        plt.plot(xs[n], ys[n], color='black', marker=\"o\", ms=marker_size)\n",
    "        plt.plot(ys[n], ys[n], color='black', marker=\"o\", ms=marker_size)\n",
    "        pause(duration)\n",
    "        # Draw the segment of the line x = x_{n + 1} from y = x_{n + 1} to 0:\n",
    "        plt.plot(xs_vert_diag[n], ys_vert_diag[n],\n",
    "                 linestyle='--', lw=width, color='black')\n",
    "        # Plot (x_{n + 1}, x_{n + 1}) again:\n",
    "        plt.plot(ys[n], ys[n], color='black', marker=\"o\", ms=marker_size)\n",
    "        pause(duration)\n",
    "        # Mark x_{n + 1} on the x-axis:\n",
    "        plt.plot(xs[n + 1], 0, color=cmap(n + 3), marker=\"x\",\n",
    "                 mew=width, label=f'$ x_{n + 1} $')\n",
    "        plt.legend()\n",
    "    \n",
    "    return xs, ys"
   ]
  },
  {
   "cell_type": "markdown",
   "id": "11774c8e",
   "metadata": {},
   "source": [
    "__Exemplo 1 ($ \\varphi'(\\xi) > 0 $ e $ \\left\\vert\\varphi'(\\xi)\\right\\vert < 1 $):__ Em casos como este, para uma estimativa inicial suficientemente próxima de $ \\xi $, o método do ponto fixo gera uma seqüência _convergente_ e que se aproxima do ponto fixo _unilateralmente_. Isto é ilustrado na animação abaixo para a função $ \\varphi_1(x) = \\sqrt{x} $."
   ]
  },
  {
   "cell_type": "code",
   "execution_count": 7,
   "id": "3fb9bfa7",
   "metadata": {
    "scrolled": true
   },
   "outputs": [
    {
     "name": "stdout",
     "output_type": "stream",
     "text": [
      "\n",
      "|       n          x_n                φ(x_n)      |\n",
      "|=================================================|\n",
      "|      00         3.00000000         1.73205081   |\n",
      "|      01         1.73205081         1.31607401   |\n",
      "|      02         1.31607401         1.14720269   |\n",
      "|      03         1.14720269         1.07107548   |\n",
      "|      04         1.07107548         1.03492777   |\n",
      "|      05         1.03492777         1.01731400   |\n",
      "|_________________________________________________|\n",
      "\n"
     ]
    }
   ],
   "source": [
    "phi = lambda x: x**(1/2)\n",
    "a = 0           # Extremidade esquerda do intervalo de x a ser exibido.\n",
    "b = 3           # Extremidade direita.\n",
    "N = 5           # Número de iterações desejado.\n",
    "x_0 = 3.0       # Estimativa inicial.\n",
    "pausa = 0.75    # Duração da pausa.\n",
    "# Título a ser exibido no topo do diagrama:\n",
    "titulo=\"Método do ponto fixo: $ |\\phi'| < 1 $ e $ \\phi' > 0 $\\n\"\\\n",
    "       \"Exemplo: $ \\phi(x) = \\sqrt{x} $\"\n",
    "\n",
    "xs, ys = fixed_point_animation(phi, a, b, x_0, N, titulo, pausa)\n",
    "print_solution(xs, ys)"
   ]
  },
  {
   "cell_type": "markdown",
   "id": "6d428e53",
   "metadata": {},
   "source": [
    "![Exemplo 1](fig_2-5_exemplo_1.png \"Exemplo 1\")"
   ]
  },
  {
   "attachments": {},
   "cell_type": "markdown",
   "id": "23e84fab",
   "metadata": {},
   "source": [
    "__Exemplo 2 ($ \\varphi'(\\xi) < 0 $ e $ \\left\\vert\\varphi'(\\xi)\\right\\vert < 1 $):__ Em casos como este, para uma estimativa inicial suficientemente próxima de $ \\xi $, o método do ponto fixo gera uma seqüência _convergente_ e que se aproxima do ponto fixo _bilateralmente_. Isto é ilustrado na animação abaixo para a função $ \\varphi_2(x) = 2 - \\sqrt{x} $."
   ]
  },
  {
   "cell_type": "code",
   "execution_count": 91,
   "id": "da5b024d",
   "metadata": {
    "scrolled": true
   },
   "outputs": [
    {
     "name": "stdout",
     "output_type": "stream",
     "text": [
      "\n",
      "|       n          x_n                φ(x_n)      |\n",
      "|=================================================|\n",
      "|      00         3.00000000         0.26794919   |\n",
      "|      01         0.26794919         1.48236191   |\n",
      "|      02         1.48236191         0.78247714   |\n",
      "|      03         0.78247714         1.11542262   |\n",
      "|      04         1.11542262         0.94386430   |\n",
      "|      05         0.94386430         1.02847321   |\n",
      "|_________________________________________________|\n",
      "\n"
     ]
    },
    {
     "name": "stderr",
     "output_type": "stream",
     "text": [
      "qt.qpa.xcb: QXcbConnection: XCB error: 3 (BadWindow), sequence: 16580, resource id: 11380010, major code: 40 (TranslateCoords), minor code: 0\n"
     ]
    }
   ],
   "source": [
    "phi = lambda x: 2 - x**(1/2)\n",
    "a = 0          # Extremidade esquerda do intervalo de x a ser exibido.\n",
    "b = 3          # Extremidade direita.\n",
    "N = 5          # Número de iterações desejado.\n",
    "x_0 = 3.0      # Estimativa inicial.\n",
    "pausa = 0.75    # Duração da pausa.\n",
    "# Título a ser exibido no topo do diagrama:\n",
    "titulo=\"Método do ponto fixo: $ |\\phi'| < 1 $ e $ \\phi' < 0 $\\n\"\\\n",
    "       \"Exemplo: $ \\phi(x) = 2 - \\sqrt{x} $\"\n",
    "\n",
    "xs, ys = fixed_point_animation(phi, a, b, x_0, N, titulo, pausa)\n",
    "print_solution(xs, ys)"
   ]
  },
  {
   "attachments": {},
   "cell_type": "markdown",
   "id": "9da08ad5",
   "metadata": {},
   "source": [
    "![Exemplo 2](fig_2-5_exemplo_2.png \"Exemplo 2\")"
   ]
  },
  {
   "attachments": {},
   "cell_type": "markdown",
   "id": "b42a2f37",
   "metadata": {},
   "source": [
    "__Exemplo 3 ($ \\varphi'(\\xi) > 0 $ e $ \\left\\vert\\varphi'(\\xi)\\right\\vert > 1 $):__ Em casos como este, não importa quão próxima seja a estimativa inicial de $ \\xi $ (exceto se ela for exatamente igual a $ \\xi $), o método do ponto fixo gera uma seqüência que se _afasta unilateralmente_ deste ponto fixo. Isto é ilustrado na animação abaixo para a função $ \\varphi_3(x) = x^2 $."
   ]
  },
  {
   "cell_type": "code",
   "execution_count": 95,
   "id": "288fcf74",
   "metadata": {},
   "outputs": [
    {
     "name": "stdout",
     "output_type": "stream",
     "text": [
      "\n",
      "|       n          x_n                φ(x_n)      |\n",
      "|=================================================|\n",
      "|      00         1.03400000         1.06915600   |\n",
      "|      01         1.06915600         1.14309455   |\n",
      "|      02         1.14309455         1.30666516   |\n",
      "|      03         1.30666516         1.70737383   |\n",
      "|      04         1.70737383         2.91512539   |\n",
      "|      05         2.91512539         8.49795605   |\n",
      "|_________________________________________________|\n",
      "\n"
     ]
    }
   ],
   "source": [
    "phi = lambda x: x**2\n",
    "a = 0          # Extremidade esquerda do intervalo de x a ser exibido.\n",
    "b = 3          # Extremidade direita.\n",
    "N = 5          # Número de iterações desejado.\n",
    "x_0 = 1.034    # Estimativa inicial.\n",
    "pausa = 0.75    # Duração da pausa.\n",
    "# Título a ser exibido no topo do diagrama:\n",
    "titulo=\"Método do ponto fixo: $ |\\phi'| > 1 $ e $ \\phi' > 0 $\\n\"\\\n",
    "       \"Exemplo: $ \\phi(x) = x^2 $\"\n",
    "\n",
    "xs, ys = fixed_point_animation(phi, a, b, x_0, N, titulo, pausa)\n",
    "print_solution(xs, ys)"
   ]
  },
  {
   "attachments": {},
   "cell_type": "markdown",
   "id": "03e3c7ea",
   "metadata": {},
   "source": [
    "![Exemplo 3](fig_2-5_exemplo_3.png \"Exemplo 3\")"
   ]
  },
  {
   "attachments": {},
   "cell_type": "markdown",
   "id": "77143a88",
   "metadata": {},
   "source": [
    "__Exemplo 4 ($ \\varphi'(\\xi) < 0 $ e $ \\left\\vert\\varphi'(\\xi)\\right\\vert > 1 $):__ Em casos como este, não importa quão próxima seja a estimativa inicial de $ \\xi $ (exceto se ela for exatamente igual a $ \\xi $), o método do ponto fixo gera uma seqüência que se _afasta_ deste ponto fixo, oscilando _bilateralmente_. Isto é ilustrado na animação abaixo para a função $ \\varphi_4(x) = 2 - x^2 $."
   ]
  },
  {
   "cell_type": "code",
   "execution_count": 96,
   "id": "f3bc33f0",
   "metadata": {},
   "outputs": [
    {
     "name": "stdout",
     "output_type": "stream",
     "text": [
      "\n",
      "|       n          x_n                φ(x_n)      |\n",
      "|=================================================|\n",
      "|      00         1.03400000         0.93084400   |\n",
      "|      01         0.93084400         1.13352945   |\n",
      "|      02         1.13352945         0.71511099   |\n",
      "|      03         0.71511099         1.48861627   |\n",
      "|      04         1.48861627        -0.21597840   |\n",
      "|      05        -0.21597840         1.95335333   |\n",
      "|      06         1.95335333        -1.81558924   |\n",
      "|_________________________________________________|\n",
      "\n"
     ]
    },
    {
     "name": "stderr",
     "output_type": "stream",
     "text": [
      "qt.qpa.xcb: QXcbConnection: XCB error: 3 (BadWindow), sequence: 18667, resource id: 11319290, major code: 40 (TranslateCoords), minor code: 0\n"
     ]
    }
   ],
   "source": [
    "phi = lambda x: 2 - x**2\n",
    "a = -1          # Extremidade esquerda do intervalo de x a ser exibido.\n",
    "b = 2           # Extremidade direita.\n",
    "N = 6           # Número de iterações desejado.\n",
    "x_0 = 1.034     # Estimativa inicial.\n",
    "pausa = 0.75    # Duração da pausa.\n",
    "# Título a ser exibido no topo do diagrama:\n",
    "titulo=\"Método do ponto fixo: $ |\\phi'| > 1 $ e $ \\phi' < 0 $\\n\"\\\n",
    "       \"Exemplo: $ \\phi(x) = 2 - x^2 $\"\n",
    "\n",
    "xs, ys = fixed_point_animation(phi, a, b, x_0, N, titulo, pausa)\n",
    "print_solution(xs, ys)"
   ]
  },
  {
   "attachments": {},
   "cell_type": "markdown",
   "id": "a25f2744",
   "metadata": {},
   "source": [
    "![Exemplo 4](fig_2-5_exemplo_4.png \"Exemplo 4\")"
   ]
  },
  {
   "attachments": {},
   "cell_type": "markdown",
   "id": "02dd680f",
   "metadata": {},
   "source": [
    "⚠️ Em todos estes quatro casos, o comportamento descrito é apenas _local_, não global:\n",
    "1. Se $ \\left\\vert \\varphi' \\right\\vert < 1 $ num ponto fixo $ \\xi $, então o método do ponto fixo gera uma seqüência $ (x_n) $ que converge a $ \\xi $ _desde que $ x_0 $ seja escolhido suficientemente próximo dele_. Para $ x_0 $ \"distante\" de $ \\xi $, nada podemos afirmar.\n",
    "2. Se $ \\left\\vert \\varphi' \\right\\vert > 1 $ num ponto fixo $ \\xi $, então não importa quão próximo $ x_0 $ seja escolhido de $ \\xi $ (contanto que $ x_0 \\ne \\xi $), o método do ponto fixo gera uma seqüência $ (x_n) $ que não só não converge a $ \\xi $, mas _inicialmente se afasta_ dele. Contudo, nada impede que a seqüência ainda convirja a algum outro ponto fixo.\n",
    "\n",
    "Se $ \\left\\vert \\varphi'(\\xi) \\right\\vert < 1 $ dizemos que $ \\xi $ é um ponto fixo **atrator**; e se $ \\left\\vert \\varphi'(\\xi) \\right\\vert > 1 $ chamamos $ \\xi $ de ponto fixo **repelente**.\n",
    "\n",
    "**Exemplo 5:** Para tornar esta dicotomia local/global mais concreta, considere a função $ \\varphi(x) = x^3 $, que tem pontos fixos em \n",
    "$$\n",
    "x = -1 \\ \\ \\text{(repelente)}\\,, \\quad  x = 0 \\ \\  \\text{(atrator)}\\quad \\text{e} \\quad  x = 1\\ \\  \\text{(repelente)}\\,.\n",
    "$$\n",
    "Começando com uma estimativa $ x_0 $ qualquer tal que $ 0 < x_0 < 1 $, a seqüência $ (x_n) $ construída pelo método do ponto fixo convergirá a $ 0 $ não importa quão próximo $ x_0 $ esteja de $ 1 $. Já se escolhermos uma estimativa inicial maior que $ 1 $, então a seqüência $ (x_n) $ correspodente divergirá para $ +\\infty $, independentemente da distância de $ x_0 $ a $ 1 $."
   ]
  },
  {
   "cell_type": "code",
   "execution_count": 79,
   "id": "69bededf",
   "metadata": {},
   "outputs": [
    {
     "name": "stdout",
     "output_type": "stream",
     "text": [
      "\n",
      "|       n          x_n                φ(x_n)      |\n",
      "|=================================================|\n",
      "|      00         0.99000000         0.97029900   |\n",
      "|      01         0.97029900         0.91351725   |\n",
      "|      02         0.91351725         0.76234271   |\n",
      "|      03         0.76234271         0.44304798   |\n",
      "|      04         0.44304798         0.08696656   |\n",
      "|      05         0.08696656         0.00065774   |\n",
      "|      06         0.00065774         0.00000000   |\n",
      "|_________________________________________________|\n",
      "\n"
     ]
    }
   ],
   "source": [
    "phi = lambda x: x**3\n",
    "a = -0.1\n",
    "b = 1.02\n",
    "N = 6           # Número de iterações desejado.\n",
    "x_0 = 0.99      # Estimativa inicial próxima de e menor que 1.\n",
    "pausa = 0.75\n",
    "# Título a ser exibido no topo do diagrama:\n",
    "titulo=\"Método do ponto fixo: $ \\phi(x) = x^3 $\\n\"\\\n",
    "       \"Estimativa inicial próxima de e menor que $ 1 $\"\n",
    "\n",
    "xs, ys = fixed_point_animation(phi, a, b, x_0, N, titulo, pausa)\n",
    "print_solution(xs, ys)"
   ]
  },
  {
   "cell_type": "code",
   "execution_count": 80,
   "id": "8c7175fd",
   "metadata": {},
   "outputs": [
    {
     "name": "stdout",
     "output_type": "stream",
     "text": [
      "\n",
      "|       n          x_n                φ(x_n)      |\n",
      "|=================================================|\n",
      "|      00         1.00100000         1.00300300   |\n",
      "|      01         1.00300300         1.00903608   |\n",
      "|      02         1.00903608         1.02735394   |\n",
      "|      03         1.02735394         1.08432701   |\n",
      "|      04         1.08432701         1.27491382   |\n",
      "|      05         1.27491382         2.07225159   |\n",
      "|      06         2.07225159         8.89871806   |\n",
      "|      07         8.89871806       704.66441709   |\n",
      "|_________________________________________________|\n",
      "\n"
     ]
    }
   ],
   "source": [
    "phi = lambda x: x**3\n",
    "a = 0.9\n",
    "b = 2.1\n",
    "N = 7        # Número de iterações desejado.\n",
    "x_0 = 1.001  # Estimativa inicial próxima de e maior que 1.\n",
    "pausa = 0.75\n",
    "# Título a ser exibido no topo do diagrama:\n",
    "titulo=\"Método do ponto fixo: $ \\phi(x) = x^3 $\\n\"\\\n",
    "       \"Estimativa inicial próxima de e maior que $ 1 $\"\n",
    "\n",
    "xs, ys = fixed_point_animation(phi, a, b, x_0, N, titulo, pausa)\n",
    "print_solution(xs, ys)"
   ]
  },
  {
   "attachments": {},
   "cell_type": "markdown",
   "id": "23147b55",
   "metadata": {},
   "source": [
    "## $ \\S 4 $ Análise da convergência e estimativa do erro\n",
    "\n",
    "__Teorema 4.1:__ _Seja $ \\varphi \\colon I \\to I $ uma função contínua, onde $ I $ é um intervalo fechado (ou a reta real inteira). Se existir uma constante $ C $ com $ 0 < C < 1 $ tal que_\n",
    "$$\n",
    "\\left\\vert \\varphi'(x) \\right\\vert \\le C \\quad \\text{para todo $ x \\in I $}\n",
    "$$\n",
    "_então $ \\varphi $ possui um único ponto fixo em $ I $ e a seqüência $ (x_n) $ construída pelo método do ponto fixo converge a ele, independentemente do valor inicial $ x_0 \\in I $._\n",
    "\n",
    "A chave da demonstração é que a condição em destaque implica que $ \\varphi $ encurta distâncias por um fator de pelo menos $ C $:\n",
    "\\begin{equation*}\\label{E:C}\n",
    "\\left\\vert \\varphi(x_1) - \\varphi(x_2) \\right\\vert \\le C \\left\\vert x_1 - x_2 \\right\\vert \\qquad \\text{para quaisquer $ x_1,\\,x_2 \\in I $.} \\tag{2}\n",
    "\\end{equation*}\n",
    "Mais detalhadamente, pelo Teorema do Valor Médio podemos escrever\n",
    "$$\n",
    "\\varphi(x_1) - \\varphi(x_2) = \\varphi'(a)\\,(x_2 - x_1) \\qquad \\text{para algum $ a $ entre $ x_1 $ e $ x_2 $}.\n",
    "$$\n",
    "Tomando valores absolutos e utilizando a hipótese deduzimos \\eqref{E:C}.\n",
    "\n",
    "__Prova da unicidade do ponto fixo:__ Suponha que $ \\xi_1 $ e $ \\xi_2 $ sejam pontos fixos de $ \\varphi $ em $ I $. Aplicando \\eqref{E:C} a eles deduzimos que\n",
    "$$\n",
    "\\left\\vert \\xi_1 - \\xi_2 \\right\\vert \\le C \\left\\vert \\xi_1 - \\xi_2 \\right\\vert\\,.\n",
    "$$\n",
    "Como $ C < 1 $, isto só pode acontecer se $ \\left\\vert \\xi_1 - \\xi_2 \\right\\vert\n",
    "= 0 $, ou seja, se $ \\xi_1 = \\xi_2 $.\n",
    "<div style=\"text-align: right\">$ \\blacksquare $ </div>\n",
    "\n",
    "⚡ __Prova da existência do ponto fixo e da convergência da seqüência $ (x_n) $ a ele:__ \n",
    "Sejam $ x_0 \\in I $ arbitrário e $ x_n = \\varphi^n(x_0) $, como no método do ponto fixo. Então por \\eqref{E:C},\n",
    "\\begin{alignat*}{3}\n",
    "\\left\\vert x_{k+1} - x_{k} \\right\\vert= \\left\\vert \\varphi(x_{k}) - \\varphi(x_{k-1}) \\right\\vert\n",
    "&\\le C\\phantom{^2} \\left\\vert x_k - x_{k-1} \\right\\vert\\\\\n",
    "&\\le C^2 \\left\\vert x_{k - 1} - x_{k-2} \\right\\vert\\\\\n",
    "&\\ \\ \\vdots \\\\\n",
    "&\\le C^k \\left\\vert x_{1} - x_{0}\\right\\vert\n",
    "\\end{alignat*}\n",
    "Daí deduzimos que se $ n > m > 0 $, então\n",
    "\\begin{alignat*}{9}\n",
    "\\left\\vert x_n - x_m \\right\\vert &= \\left\\vert \\big(x_n - x_{n-1}\\big) + \\big(x_{n-1} - x_{n-2}\\big) + \\dots + \\big(x_{m+2} - x_{m+1}\\big) + \\big(x_{m+1} - x_m\\big) \\right\\vert\\\\\n",
    "&\\le \\sum_{k=m}^{n - 1}\\left\\vert x_{k+1} - x_{k} \\right\\vert \\\\\n",
    "&\\le \\sum_{k=m}^{n - 1}C^k\\left\\vert x_{1} - x_{0} \\right\\vert\\\\\n",
    "& = \\left\\vert x_{1} - x_{0}\\right\\vert C^m \\sum_{k=0}^{n - m - 1} C^k \\\\\n",
    "& \\le \\left\\vert x_1 - x_0 \\right\\vert\\frac{C^m}{1 - C}\\,.\n",
    "\\end{alignat*}\n",
    "No último passo usamos o fato que $ 0 < C < 1 $ para cotar o somatório pela soma da série geométrica de razão $ C $.\n",
    "\n",
    "__Colorário 4.2:__ _Seja $ \\varphi $ uma função continuamente diferenciável que tem um ponto fixo em $ \\xi $. Se\n",
    "$$ \\left\\vert \\varphi'(\\xi) \\right\\vert < 1\\,, $$\n",
    "então o método do ponto fixo gera uma seqüência $ (x_n) $ que converge a $ \\xi $ desde que $ x_0 $ seja escolhido suficientemente próximo de $ \\xi $._\n",
    "\n",
    "__Prova:__ Como por hipótese a derivada de $ \\varphi $ é contínua, ela é menor que $ 1 $ em valor absoluto não apenas em $ \\xi $, mas num intervalo $ I = [\\xi - \\varepsilon, \\xi + \\varepsilon] $ ao redor dele. Além disto, ela reduz distâncias aí, logo se $ x \\in I $, ou seja, se $ \\left\\vert x - \\xi \\right\\vert < \\varepsilon $, então\n",
    "$$\n",
    "\\left\\vert \\varphi(x) - \\xi \\right\\vert = \\left\\vert \\varphi(x) - \\varphi(\\xi) \\right\\vert < \n",
    "\\left\\vert x - \\xi \\right\\vert\n",
    "$$\n",
    "e portanto $ x \\in I $. Agora aplique o Teorema 4.1.\n",
    "<div style=\"text-align: right\">$ \\blacksquare $ </div>\n",
    "\n",
    "__Teorema 4.2 (estimativa para o erro no método do ponto fixo):__ _Sejam $ \\varphi \\colon I \\to I $ como na hipótese do Teorema 4.1 e $ \\xi $ o seu ponto fixo em $ I $. Finalmente, seja_\n",
    "$$\n",
    "E_n = x_n - \\xi \\qquad (n \\ge 0)\n",
    "$$\n",
    "_o erro envolvido no $ n $-ésimo passo do método do ponto fixo. Então vale_\n",
    "$$\n",
    "\\boxed{\\left\\vert E_n \\right\\vert \\le C^n \\left\\vert x_0 - \\xi \\right\\vert = C^n \\left\\vert E_0 \\right\\vert}\n",
    "$$\n",
    "\n",
    "Informalmente, o teorema diz que a cada passo erro é cortado por um fator não inferior a $ C $.\n",
    "\n",
    "__Prova:__ Como $ \\xi $ é ponto fixo, \n",
    "$$\n",
    "\\xi = \\varphi(\\xi) = \\varphi^2(\\xi) = \\cdots = \\varphi^n(\\xi)\\,.\n",
    "$$\n",
    "Aplicando \\eqref{E:C} $ n $ vezes, concluímos que\n",
    "$$\n",
    "\\left\\vert E_n \\right\\vert = \\left\\vert \\varphi^n(x_0)  - \\varphi^n(\\xi)\\right\\vert \\le C^n \\left\\vert x_0 - \\xi \\right\\vert = C^n \\left\\vert E_0 \\right\\vert\\,. \\tag*{$ \\blacksquare $}\n",
    "$$\n",
    "\n",
    "__Teorema 4.3 (análise do desempenho do método do ponto fixo):__ _Seja $ \\varphi \\colon I \\to I $ como na hipótese do Teorema 4.1. Pelo método do ponto fixo, o número mínimo de iterações necessário para se garantir (a priori) que a estimativa para o ponto fixo difere do seu valor exato por menos que $ \\varepsilon > 0 $ é dado por:_\n",
    "\\begin{equation*}\n",
    "\\boxed{\\left\\lceil{-\\log_C\\bigg(\\frac{\\left\\vert x_0 - \\xi\n",
    "\\right\\vert}{\\varepsilon}\\bigg)}\\right\\rceil = \\left\\lceil{\\frac{\\lg\\bigg(\\frac{\\left\\vert\n",
    "x_0 - \\xi \\right\\vert}{\\varepsilon}\\bigg)}{\\lg \\Big(\\frac{1}{C}\\Big)}}\\right\\rceil}\n",
    "\\end{equation*}\n",
    "_onde $ \\lceil{\\cdot}\\rceil $ denota a função teto, $ \\log_C $ o logaritmo na base $ C $ e $ \\lg = \\log_2 $._\n",
    "\n",
    "__Observação (\"recíproca\" do Teorema 4.1):__ Se $ \\varphi \\colon I \\to I $ tem um ponto fixo $ \\xi $ em $ I $ mas \n",
    "$$\n",
    "\\left\\vert \\varphi'(\\xi) \\right\\vert > 1\\,,\n",
    "$$ \n",
    "então a seqüência $ (x_n) $ construída pelo método do ponto fixo não converge para $ \\xi $ para qualquer estimativa inicial, exceto quando $ x_0 = \\xi $.\n",
    "\n",
    "📝 Segue da última fórmula acima que o desempenho do método do ponto fixo é melhor que o do método da bissecção (para estimativas iniciais compatíveis) se e somente se\n",
    "$$\n",
    "C < \\frac{1}{2}\\,.\n",
    "$$\n"
   ]
  },
  {
   "attachments": {},
   "cell_type": "markdown",
   "id": "89e0f932",
   "metadata": {},
   "source": [
    "**Problema 6:** Gostaríamos de encontrar a raiz positiva da equação\n",
    "$$\n",
    "ax^2 + x -c = 0 \\quad \\text{onde }\\ a > 0\\ \\text{e}\\ c > 0\\,.\n",
    "$$\n",
    "Para isto podemos tentar aplicar o método do ponto fixo à função $ \\varphi(x) = c - ax^2 $. Qual condição devemos impor sobre $ a $ e $ c $ para que haja convergência, assumindo uma estimativa inicial suficientemente próxima? Justifique."
   ]
  },
  {
   "attachments": {},
   "cell_type": "markdown",
   "id": "d79381a7",
   "metadata": {},
   "source": [
    "**Problema 7:** É possível encontrar a raiz quadrada de $ a > 0 $ aplicando o método do ponto fixo à função \n",
    "$$\n",
    "\\varphi(x) = \\frac{a}{x} \\quad (x > 0)\\,?\n",
    "$$\n",
    "Experimente com várias estimativas iniciais $ x_0 $, usando a nossa [implementação](#imp), e justifique geometricamente o resultado obtido."
   ]
  },
  {
   "cell_type": "markdown",
   "id": "9c998110",
   "metadata": {},
   "source": [
    "*Solução:*"
   ]
  },
  {
   "cell_type": "code",
   "execution_count": null,
   "id": "1c3d2e35",
   "metadata": {},
   "outputs": [],
   "source": []
  },
  {
   "attachments": {},
   "cell_type": "markdown",
   "id": "d0a401d7",
   "metadata": {},
   "source": [
    "**Problema 8 (método babilônico revisitado):**<a name=\"babylon\"></a> O objetivo deste problema é analisar a convergência do método babilônico. Seja \n",
    "$$\n",
    "\\varphi(x) = \\frac{1}{2}\\bigg(x + \\frac{a}{x}\\bigg) \\qquad (x > 0)\\,.\n",
    "$$\n",
    "\n",
    "(a) Mostre que a derivada de $ \\varphi $ é dada por\n",
    "$$\n",
    "\\varphi'(x) = \\frac{1}{2}\\bigg(1 - \\frac{a}{x^2}\\bigg)\\,.\n",
    "$$\n",
    "\n",
    "(b) Verifique que\n",
    "$$\n",
    "\\left\\vert\\varphi'(x)\\right\\vert < 1 \\Longleftrightarrow x > \\sqrt{\\tfrac{a}{3}}\n",
    "$$\n",
    "\n",
    "(c) Mostre que se $ x > 0 $, então $ \\varphi(x) > \\sqrt{\\tfrac{a}{3}} $. Em particular, $ \\varphi $ leva o intervalo fechado\n",
    "$$\n",
    "I = \\Big[ \\sqrt{\\tfrac{a}{3}}\\,,\\, +\\infty \\Big)\n",
    "$$\n",
    "dentro dele mesmo. Conclua com ajuda do Teorema 4.1 que $ (x_n) $ converge à raiz quadrada de $ a $ para qualquer estimativa inicial $ x_0 \\in I $."
   ]
  },
  {
   "cell_type": "markdown",
   "id": "f10e5999",
   "metadata": {},
   "source": [
    "*Solução:*"
   ]
  },
  {
   "cell_type": "code",
   "execution_count": null,
   "id": "f7be0502",
   "metadata": {},
   "outputs": [],
   "source": []
  }
 ],
 "metadata": {
  "kernelspec": {
   "display_name": "base",
   "language": "python",
   "name": "python3"
  },
  "language_info": {
   "codemirror_mode": {
    "name": "ipython",
    "version": 3
   },
   "file_extension": ".py",
   "mimetype": "text/x-python",
   "name": "python",
   "nbconvert_exporter": "python",
   "pygments_lexer": "ipython3",
   "version": "3.9.16"
  },
  "vscode": {
   "interpreter": {
    "hash": "49060cedf8366e4ce4bf4b9d121c044cf7249a0afe21432e14f32b1ca5a4731f"
   }
  }
 },
 "nbformat": 4,
 "nbformat_minor": 5
}
