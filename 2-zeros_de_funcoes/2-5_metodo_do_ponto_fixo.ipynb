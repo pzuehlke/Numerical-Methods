{
 "cells": [
  {
   "cell_type": "markdown",
   "id": "42e2f6ca",
   "metadata": {},
   "source": [
    "$\n",
    "\\newcommand{\\set}[2]{\\big\\{#1\\,\\ {\\large:}\\ \\,#2\\big\\}}\n",
    "\\newcommand{\\eps}{\\varepsilon}\n",
    "\\newcommand{\\abs}[1]{\\left\\vert#1\\right\\vert}\n",
    "\\newcommand{\\ceil}[1]{\\left\\lceil#1\\right\\rceil}\n",
    "\\newcommand{\\floor}[1]{\\left\\lfloor#1\\right\\rfloor}\n",
    "\\newcommand{\\vphi}{\\varphi}\n",
    "\\DeclareMathOperator{\\sinal}{sinal}\n",
    "$\n",
    "# O método do ponto fixo\n",
    "\n",
    "## $ \\S 1 $ Pontos fixos\n",
    "\n",
    "Seja $ \\vphi $ uma função real de uma variável. Um **ponto fixo** $ \\xi $ de $ \\vphi $ é um elemento do seu domínio tal que\n",
    "$$\n",
    "\\vphi(\\xi) = \\xi\\,.\n",
    "$$\n",
    "\n",
    "**Problema 1:** Encontre os pontos fixos das funções abaixo, se houver:\n",
    "\n",
    "(a) $ \\vphi(x) = x^2 $.\n",
    "\n",
    "(b) $ \\vphi(x) = x^n $ ($ n $ natural).\n",
    "\n",
    "(c) $ \\vphi(x) = x \\cos x $.\n",
    "\n",
    "(d) $ \\vphi(x) = \\ln x $ ($ x > 0 $).\n",
    "\n",
    "📝 Geometricamente, um ponto fixo de $ \\vphi $ corresponde à coordenada-$x$ de um ponto de intersecção do gráfico de $ \\vphi $ com a reta de equação $ y = x $.\n",
    "\n",
    "![Método da posição falsa](fig_2-5_metodo_ponto_fixo.png \"Title\")\n",
    "\n",
    "📝 O problema de se determinar uma raiz de uma equação qualquer em uma variável, digamos da forma\n",
    "\\begin{equation*}\\label{E:1}\n",
    "g(x) = h(x)\\,, \\tag{1}\n",
    "\\end{equation*}\n",
    "pode sempre ser transformado na tarefa equivalente de se encontrar um ponto fixo de uma função apropriada, já que podemos reescrever \\eqref{E:1} por exemplo na forma\n",
    "$$\n",
    "\\underbrace{g(x) - h(x) + x}_{\\vphi(x)} = x\\,.\n",
    "$$\n",
    "De fato, existem _infinitas_ maneiras de se efetuar a conversão entre os dois tipos de problemas, e às vezes uma delas pode ser muito mais adequada que outra.\n",
    "\n",
    "**Problema 2:** Considere a equação $ x^3 - x + 2 = 0 $. Mostre que $ \\xi $ é uma raiz se e somente se é ponto fixo de:\n",
    "\n",
    "(a) $ \\vphi_1(x) = x^3 + 2 $.\n",
    "\n",
    "(b) $ \\vphi_2(x) = \\sqrt[3]{x - 2} $.\n",
    "\n",
    "(c) $ \\vphi_3(x) = \\frac{x - 2}{x^2} $.\n",
    "\n",
    "(d) $ \\vphi_4(x) = e^{-x^3 + x -2} - 1 + x $."
   ]
  },
  {
   "cell_type": "markdown",
   "id": "45cb2c52",
   "metadata": {},
   "source": [
    "## $ \\S 2 $ Descrição do método do ponto fixo\n",
    "\n",
    "Seja $ \\vphi $ uma função contínua definida num intervalo qualquer. O **método do ponto fixo** é um procedimento iterativo para se encontrar um ponto fixo de $ \\vphi $. Partindo de uma estimativa inicial $ x_0 $ para um ponto fixo, escolhida arbitrariamente pelo usuário, definimos:\n",
    "* $ x_1 = \\vphi(x_0) $;\n",
    "* $ x_2 = \\vphi(x_1) = \\vphi^2(x_0) $;\n",
    "* $ x_3 = \\vphi(x_2) = \\vphi^3(x_0) $;\n",
    "* $\\ \\vdots $\n",
    "* $ x_n = \\vphi(x_{n-1}) = \\vphi^n(x_0) $;\n",
    "* $\\ \\vdots $\n",
    "\n",
    "Aqui $ \\vphi^{k} $ não denota uma potência, mas sim a composição de $ \\vphi $ com ela mesma $ k $ vezes:\n",
    "$$\n",
    "\\vphi^{k} = \\underbrace{\\vphi \\circ \\vphi \\circ \\cdots \\circ \\vphi}_{\\text{$ k $ vezes}} \\qquad ( k \\ge 1 )\\,.\n",
    "$$\n",
    "\n",
    "**Lema 2.1:** _Se a seqüência $ (x_n) $ construída acima converge, então seu limite é um ponto fixo de $ \\vphi $_.\n",
    "\n",
    "**Prova:**  Seja $ \\xi $ o limite de $ (x_n) $. Fazendo $ n \\to \\infty $ na equação que define $ x_n $, deduzimos que:\n",
    "\\begin{alignat*}{3}\n",
    "\\xi &= \\lim_{n \\to \\infty} x_n \\qquad & &  \\text{(pela definição de $ \\xi $)} \\\\\n",
    "& = \\lim_{n \\to \\infty} \\vphi(x_{n-1}) & &  \\text{(pela equação que define $ x_n $)} \\\\\n",
    "& = \\vphi\\Big(\\lim_{n \\to \\infty} x_{n-1}\\Big) \\qquad & & \\text{(pela continuidade de $ \\vphi $)} \\\\\n",
    "& = \\vphi(\\xi) \\qquad & & \\text{(já que $ \\lim_{n} x_{n-1} $ também é $ \\xi $)} \\tag*{$ \\blacksquare $}\n",
    "\\end{alignat*}\n",
    "\n",
    "⚠️ Observe que o Lema _não_ garante a convergência da seqüência $ (x_n) $ construída no método do ponto fixo. Ele diz apenas que _caso_ ela convirja, seu limite é ponto fixo de $ \\vphi $. Veja o Teorema 4.1 para uma condição suficiente para convergência.\n",
    "\n",
    "**Problema 3**: Cada uma das funções abaixo possui um único ponto fixo, em $ x= 0 $. Aplique o método do ponto fixo e calcule o limite da seqüência $ (x_n) $ resultante, caso exista:\n",
    "\n",
    "(a) $ \\vphi(x) = x $.\n",
    "\n",
    "(b) $ \\vphi(x) = -\\frac{x}{2} $.\n",
    "\n",
    "(c) $ \\vphi(x) = cx $, onde $ \\abs{c} > 1 $.\n",
    "\n",
    "(d) $ \\vphi(x) = \\sin x $ (utilize o computador para estimar os primeiros $ 20 $ termos da seqüência)."
   ]
  },
  {
   "cell_type": "markdown",
   "id": "889af644",
   "metadata": {},
   "source": [
    "**Problema 4 (algoritmo babilônico para extração de raízes quadradas):** O *algoritmo babilônico* para o cálculo da raiz quadrada de um número real $ a > 0 $ consiste da escolha de uma estimativa $ x_0 $ inicial para esta raiz, por exemplo $ x_0 = a $, e das iterações\n",
    "$$\n",
    "x_{n + 1} = \\frac{1}{2}\\bigg(x_n + \\frac{a}{x_n}\\bigg) \\qquad (n \\ge 0)\\,.\n",
    "$$\n",
    "No limite, $ x_n $ converge a $ \\sqrt{a} $ (para detalhes veja este outro [Problema](#babylon)) Este método é conhecido pelo menos desde $ 1\\,500 $ A.C.. Ele é um caso especial do método do ponto fixo.\n",
    "\n",
    "(a) Usando a construção `lambda` em Python, defina a função\n",
    "$$\n",
    "\\vphi(x) = \\frac{1}{2}\\bigg(x + \\frac{a}{x}\\bigg) \\qquad (x > 0)\\,.\n",
    "$$\n",
    "\n",
    "(b) Mostre que $ \\xi > 0 $ é ponto fixo de $ \\vphi $ se e somente se $ \\xi = \\sqrt{a} $.\n",
    "\n",
    "(c) Crie um procedimento que, dados $ x_0 $, $ a > 0 $ e uma tolerância $ \\eps > 0 $, retorna uma aproximação para $ \\sqrt{a} $ conforme o método babilônico. *Dica:* Use um `while` com uma condição que testa a diferença entre a estimativa atual e a anterior para a raiz quadrada.\n",
    "\n",
    "(d) Introduza no seu procedimento um contador para o número de iterações e estude através de exemplos como ele varia com respeito a $ x_0 $ e à tolerância desejada."
   ]
  },
  {
   "cell_type": "markdown",
   "id": "38a22c3c",
   "metadata": {},
   "source": [
    "## $ \\S 3 $ Implementação do método do ponto fixo<a name=\"imp\"></a>"
   ]
  },
  {
   "cell_type": "code",
   "execution_count": 55,
   "id": "45405e2f",
   "metadata": {},
   "outputs": [],
   "source": [
    "def ponto_fixo(phi, x, eps, max_iter):\n",
    "    \"\"\"\n",
    "    Aplica o método de ponto fixo à função f com estimativa inicial x.\n",
    "    Termina o valor absoluto da diferença entre duas estimativas\n",
    "    consecutivas for menor que 'eps', ou quando o número de\n",
    "    iterações exceder a cota 'max_iter'.\n",
    "    Saídas:\n",
    "        * A lista xs de estimativas x_0, x_1, x_2, ... produzida.\n",
    "        * A lista ys dos valores da função nestes pontos.\n",
    "    \"\"\"\n",
    "    \n",
    "    \n",
    "    x = float(x)\n",
    "    xs = [x]        # Lista que armazenará a seqüência de estimativas.\n",
    "    ys = []         # Armazenará os valores da função nestas estimativas.\n",
    "    iteracoes = 0\n",
    "    erro = 2 * eps\n",
    "    while erro >= eps and iteracoes < max_iter:\n",
    "        # Tomar o próximo x como phi do x atual e checar se ocorre overflow:\n",
    "        try:\n",
    "            x_novo = phi(x)\n",
    "        except OverflowError:\n",
    "            print(\"Erro de overflow, o método não gera uma seqüência convergente!\")\n",
    "            return None\n",
    "        xs.append(x_novo)\n",
    "        ys.append(x_novo)\n",
    "        erro = abs(x_novo - x)\n",
    "        x = x_novo\n",
    "        iteracoes += 1\n",
    "    \n",
    "    # A lista dos ys está defasada, portanto precisamos adicionar o último valor.\n",
    "    ys.append(phi(x_novo))\n",
    "    print(f\"Foram realizadas {iteracoes} iterações.\")\n",
    "    print(f\"O ponto fixo estimado é:\\n{xs[-1]:15.8f}\\n\"\n",
    "          f\"onde a função vale:\\n{ys[-1]:15.8f}\")\n",
    "    return xs, ys"
   ]
  },
  {
   "cell_type": "markdown",
   "id": "7b5339aa",
   "metadata": {},
   "source": [
    "**Problema 5:** Use a implementação acima para encontrar um ponto fixo da função $ \\vphi(x) = \\cos(\\sin (x)) $ com um erro menor que $ 10^{-4} $."
   ]
  },
  {
   "cell_type": "code",
   "execution_count": 56,
   "id": "f857d435",
   "metadata": {},
   "outputs": [
    {
     "name": "stdout",
     "output_type": "stream",
     "text": [
      "Erro de overflow, o método não gera uma seqüência convergente!\n"
     ]
    },
    {
     "ename": "TypeError",
     "evalue": "cannot unpack non-iterable NoneType object",
     "output_type": "error",
     "traceback": [
      "\u001b[0;31m---------------------------------------------------------------------------\u001b[0m",
      "\u001b[0;31mTypeError\u001b[0m                                 Traceback (most recent call last)",
      "\u001b[0;32m/tmp/ipykernel_58117/1770474629.py\u001b[0m in \u001b[0;36m<module>\u001b[0;34m\u001b[0m\n\u001b[1;32m      5\u001b[0m \u001b[0;31m# max_iter = ...\u001b[0m\u001b[0;34m\u001b[0m\u001b[0;34m\u001b[0m\u001b[0m\n\u001b[1;32m      6\u001b[0m \u001b[0;34m\u001b[0m\u001b[0m\n\u001b[0;32m----> 7\u001b[0;31m \u001b[0mxs\u001b[0m\u001b[0;34m,\u001b[0m \u001b[0mys\u001b[0m \u001b[0;34m=\u001b[0m \u001b[0mponto_fixo\u001b[0m\u001b[0;34m(\u001b[0m\u001b[0mphi\u001b[0m\u001b[0;34m,\u001b[0m \u001b[0mx\u001b[0m\u001b[0;34m,\u001b[0m \u001b[0meps\u001b[0m\u001b[0;34m,\u001b[0m \u001b[0mmax_iter\u001b[0m\u001b[0;34m)\u001b[0m\u001b[0;34m\u001b[0m\u001b[0;34m\u001b[0m\u001b[0m\n\u001b[0m\u001b[1;32m      8\u001b[0m \u001b[0mimprime_solucao\u001b[0m\u001b[0;34m(\u001b[0m\u001b[0mxs\u001b[0m\u001b[0;34m,\u001b[0m \u001b[0mys\u001b[0m\u001b[0;34m)\u001b[0m\u001b[0;34m\u001b[0m\u001b[0;34m\u001b[0m\u001b[0m\n",
      "\u001b[0;31mTypeError\u001b[0m: cannot unpack non-iterable NoneType object"
     ]
    }
   ],
   "source": [
    "from numpy import cos, sin\n",
    "# phi = lambda x: ...\n",
    "# x_0 = ...\n",
    "eps = 1e-4\n",
    "# max_iter = ...\n",
    "\n",
    "xs, ys = ponto_fixo(phi, x, eps, max_iter)\n",
    "imprime_solucao(xs, ys)"
   ]
  },
  {
   "cell_type": "markdown",
   "id": "4cc011ac",
   "metadata": {},
   "source": [
    "## $ \\S 4 $ Estudo de casos\n",
    "\n",
    "Depois de experimentarmos com alguns exemplos, fica fácil reconhecer quatro padrões que surgem na aplicação do método do ponto fixo. Eles são ilustrados pelas seguintes quatro funções, para cada uma das quais $ \\xi = 1 $ é um ponto fixo.\n",
    "\n",
    "**Exemplo 1 ($ \\vphi'(\\xi) > 0 $ e $ \\abs{\\vphi'(\\xi)} < 1 $):** Em casos como este, para uma estimativa inicial suficientemente próxima de $ \\xi $, o método do ponto fixo gera uma seqüência _convergente_ e que se aproxima do ponto fixo _unilateralmente_. Isto é ilustrado na animação abaixo para a função $ \\vphi_1(x) = \\sqrt{x} $."
   ]
  },
  {
   "cell_type": "code",
   "execution_count": 25,
   "id": "3fb9bfa7",
   "metadata": {
    "scrolled": true
   },
   "outputs": [
    {
     "name": "stdout",
     "output_type": "stream",
     "text": [
      "\n",
      "       n          x_n                φ(x_n)       \n",
      "--------------------------------------------------\n",
      "      00         3.00000000         1.73205081\n",
      "      01         1.73205081         1.31607401\n",
      "      02         1.31607401         1.14720269\n",
      "      03         1.14720269         1.07107548\n",
      "      04         1.07107548         1.03492777\n",
      "      05         1.03492777         1.01731400\n",
      "--------------------------------------------------\n",
      "\n"
     ]
    }
   ],
   "source": [
    "phi = lambda x: x**(1/2)\n",
    "a = 0       # Extremidade esquerda do intervalo de x a ser exibido no diagrama.\n",
    "b = 3       # Extremidade direita.\n",
    "N = 5       # Número de iterações desejado.\n",
    "x_0 = 3.0   # Estimativa inicial.\n",
    "# Título a ser exibido no topo do diagrama:\n",
    "titulo=\"Método do ponto fixo: $ |\\phi'| < 1 $ e $ \\phi' > 0 $\\n\"\\\n",
    "       \"Exemplo: $ \\phi(x) = \\sqrt{x} $\"\n",
    "\n",
    "xs, ys = animador_MPF(phi, a, b, x_0, N, titulo)\n",
    "imprime_solucao(xs, ys)"
   ]
  },
  {
   "cell_type": "markdown",
   "id": "23e84fab",
   "metadata": {},
   "source": [
    "**Exemplo 2 ($ \\vphi'(\\xi) < 0 $ e $ \\abs{\\vphi'(\\xi)} < 1 $):** Em casos como este, para uma estimativa inicial suficientemente próxima de $ \\xi $, o método do ponto fixo gera uma seqüência _convergente_ e que se aproxima do ponto fixo _bilateralmente_. Isto é ilustrado na animação abaixo para a função $ \\vphi_2(x) = 2 - \\sqrt{x} $."
   ]
  },
  {
   "cell_type": "code",
   "execution_count": 22,
   "id": "da5b024d",
   "metadata": {
    "scrolled": true
   },
   "outputs": [
    {
     "name": "stdout",
     "output_type": "stream",
     "text": [
      "\n",
      "       n          x_n                φ(x_n)       \n",
      "--------------------------------------------------\n",
      "      00         3.00000000         0.26794919\n",
      "      01         0.26794919         1.48236191\n",
      "      02         1.48236191         0.78247714\n",
      "      03         0.78247714         1.11542262\n",
      "      04         1.11542262         0.94386430\n",
      "      05         0.94386430         1.02847321\n",
      "--------------------------------------------------\n",
      "\n"
     ]
    }
   ],
   "source": [
    "phi = lambda x: 2 - x**(1/2)\n",
    "a = 0       # Extremidade esquerda do intervalo de x a ser exibido no diagrama.\n",
    "b = 3       # Extremidade direita.\n",
    "N = 5       # Número de iterações desejado.\n",
    "x_0 = 3.0   # Estimativa inicial.\n",
    "# Título a ser exibido no topo do diagrama:\n",
    "titulo=\"Método do ponto fixo: $ |\\phi'| < 1 $ e $ \\phi' < 0 $\\n\"\\\n",
    "       \"Exemplo: $ \\phi(x) = 2 - \\sqrt{x} $\"\n",
    "\n",
    "xs, ys = animador_MPF(phi, a, b, x_0, N, titulo)\n",
    "imprime_solucao(xs, ys)"
   ]
  },
  {
   "cell_type": "markdown",
   "id": "b42a2f37",
   "metadata": {},
   "source": [
    "**Exemplo 3 ($ \\vphi'(\\xi) > 0 $ e $ \\abs{\\vphi'(\\xi)} > 1 $):** Em casos como este, não importa quão próxima seja a estimativa inicial de $ \\xi $ (exceto se ela for exatamente igual a $ \\xi $), o método do ponto fixo gera uma seqüência que se _afasta unilateralmente_ deste ponto fixo. Isto é ilustrado na animação abaixo para a função $ \\vphi_3(x) = x^2 $."
   ]
  },
  {
   "cell_type": "code",
   "execution_count": 32,
   "id": "288fcf74",
   "metadata": {},
   "outputs": [
    {
     "name": "stdout",
     "output_type": "stream",
     "text": [
      "\n",
      "       n          x_n                φ(x_n)       \n",
      "--------------------------------------------------\n",
      "      00         1.03400000         1.06915600\n",
      "      01         1.06915600         1.14309455\n",
      "      02         1.14309455         1.30666516\n",
      "      03         1.30666516         1.70737383\n",
      "      04         1.70737383         2.91512539\n",
      "      05         2.91512539         8.49795605\n",
      "--------------------------------------------------\n",
      "\n"
     ]
    }
   ],
   "source": [
    "phi = lambda x: x**2\n",
    "a = 0       # Extremidade esquerda do intervalo de x a ser exibido no diagrama.\n",
    "b = 3       # Extremidade direita.\n",
    "N = 5       # Número de iterações desejado.\n",
    "x_0 = 1.034   # Estimativa inicial.\n",
    "# Título a ser exibido no topo do diagrama:\n",
    "titulo=\"Método do ponto fixo: $ |\\phi'| > 1 $ e $ \\phi' > 0 $\\n\"\\\n",
    "       \"Exemplo: $ \\phi(x) = x^2 $\"\n",
    "\n",
    "xs, ys = animador_MPF(phi, a, b, x_0, N, titulo)\n",
    "imprime_solucao(xs, ys)"
   ]
  },
  {
   "cell_type": "markdown",
   "id": "77143a88",
   "metadata": {},
   "source": [
    "**Exemplo 4 ($ \\vphi'(\\xi) < 0 $ e $ \\abs{\\vphi'(\\xi)} > 1 $):** Em casos como este, não importa quão próxima seja a estimativa inicial de $ \\xi $ (exceto se ela for exatamente igual a $ \\xi $), o método do ponto fixo gera uma seqüência que se _afasta_ deste ponto fixo, oscilando _bilateralmente_. Isto é ilustrado na animação abaixo para a função $ \\vphi_4(x) = 2 - x^2 $."
   ]
  },
  {
   "cell_type": "code",
   "execution_count": 48,
   "id": "f3bc33f0",
   "metadata": {},
   "outputs": [
    {
     "name": "stdout",
     "output_type": "stream",
     "text": [
      "\n",
      "       n          x_n                φ(x_n)       \n",
      "--------------------------------------------------\n",
      "      00         1.03400000         0.93084400\n",
      "      01         0.93084400         1.13352945\n",
      "      02         1.13352945         0.71511099\n",
      "      03         0.71511099         1.48861627\n",
      "      04         1.48861627        -0.21597840\n",
      "      05        -0.21597840         1.95335333\n",
      "      06         1.95335333        -1.81558924\n",
      "--------------------------------------------------\n",
      "\n"
     ]
    }
   ],
   "source": [
    "phi = lambda x: 2 - x**2\n",
    "a = -1       # Extremidade esquerda do intervalo de x a ser exibido no diagrama.\n",
    "b = 2        # Extremidade direita.\n",
    "N = 6        # Número de iterações desejado.\n",
    "x_0 = 1.034  # Estimativa inicial.\n",
    "# Título a ser exibido no topo do diagrama:\n",
    "titulo=\"Método do ponto fixo: $ |\\phi'| > 1 $ e $ \\phi' > 0 $\\n\"\\\n",
    "       \"Exemplo: $ \\phi(x) = 2 - x^2 $\"\n",
    "\n",
    "xs, ys = animador_MPF(phi, a, b, x_0, N, titulo)\n",
    "imprime_solucao(xs, ys)"
   ]
  },
  {
   "cell_type": "markdown",
   "id": "02dd680f",
   "metadata": {},
   "source": [
    "⚠️ Em todos estes quatro casos, o comportamento descrito é apenas _local_, não global:\n",
    "1. Se $ \\abs{\\vphi'} < 1 $ num ponto fixo $ \\xi $, então o método do ponto fixo gera uma seqüência $ (x_n) $ que converge a $ \\xi $ _desde que $ x_0 $ seja escolhido suficientemente próximo dele_. Para $ x_0 $ \"distante\" de $ \\xi $, nada podemos afirmar.\n",
    "2. Se $ \\abs{\\vphi'} > 1 $ num ponto fixo $ \\xi $, então não importa quão próximo $ x_0 $ seja escolhido de $ \\xi $ (contanto que $ x_0 \\ne \\xi $), o método do ponto fixo gera uma seqüência $ (x_n) $ que não só não converge a $ \\xi $, mas _inicialmente se afasta_ dele. Contudo, nada impede que a seqüência ainda convirja a algum outro ponto fixo.\n",
    "\n",
    "Se $ \\abs{\\vphi'(\\xi)} < 1 $ dizemos que $ \\xi $ é um ponto fixo **atrator**; e se $ \\abs{\\vphi'(\\xi)} > 1 $ chamamos $ \\xi $ de ponto fixo **repelente**.\n",
    "\n",
    "**Exemplo 5:** Para tornar esta dicotomia local/global mais concreta, considere a função $ \\vphi(x) = x^3 $, que têm pontos fixos em \n",
    "$$\n",
    "x = -1 \\ \\ \\text{(repelente)}\\,, \\quad  x = 0 \\ \\  \\text{(atrator)}\\quad \\text{e} \\quad  x = 1\\ \\  \\text{(repelente)}\\,.\n",
    "$$\n",
    "Começando com uma estimativa $ x_0 $ qualquer tal que $ 0 < x_0 < 1 $, a seqüência $ (x_n) $ construída pelo método do ponto fixo convergirá a $ 0 $ não importa quão próximo $ x_0 $ esteja de $ 1 $. Já se escolhermos uma estimativa inicial maior que $ 1 $, então a seqüência $ (x_n) $ correspodente divergirá para $ +\\infty $, independentemente da distância de $ x_0 $ a $ 1 $."
   ]
  },
  {
   "cell_type": "code",
   "execution_count": 53,
   "id": "69bededf",
   "metadata": {},
   "outputs": [
    {
     "name": "stdout",
     "output_type": "stream",
     "text": [
      "\n",
      "       n          x_n                φ(x_n)       \n",
      "--------------------------------------------------\n",
      "      00         0.99000000         0.97029900\n",
      "      01         0.97029900         0.91351725\n",
      "      02         0.91351725         0.76234271\n",
      "      03         0.76234271         0.44304798\n",
      "      04         0.44304798         0.08696656\n",
      "      05         0.08696656         0.00065774\n",
      "      06         0.00065774         0.00000000\n",
      "--------------------------------------------------\n",
      "\n"
     ]
    }
   ],
   "source": [
    "phi = lambda x: x**3\n",
    "a = -0.1\n",
    "b = 1.02\n",
    "N = 6           # Número de iterações desejado.\n",
    "x_0 = 0.99      # Estimativa inicial próxima de e menor que 1.\n",
    "# Título a ser exibido no topo do diagrama:\n",
    "titulo=\"Método do ponto fixo: $ \\phi(x) = x^3 $\\n\"\\\n",
    "       \"Estimativa inicial próxima de e menor que $ 1 $\"\n",
    "\n",
    "xs, ys = animador_MPF(phi, a, b, x_0, N, titulo, pausa)\n",
    "imprime_solucao(xs, ys)"
   ]
  },
  {
   "cell_type": "code",
   "execution_count": 54,
   "id": "8c7175fd",
   "metadata": {},
   "outputs": [
    {
     "name": "stdout",
     "output_type": "stream",
     "text": [
      "\n",
      "       n          x_n                φ(x_n)       \n",
      "--------------------------------------------------\n",
      "      00         1.00100000         1.00300300\n",
      "      01         1.00300300         1.00903608\n",
      "      02         1.00903608         1.02735394\n",
      "      03         1.02735394         1.08432701\n",
      "      04         1.08432701         1.27491382\n",
      "      05         1.27491382         2.07225159\n",
      "      06         2.07225159         8.89871806\n",
      "      07         8.89871806       704.66441709\n",
      "--------------------------------------------------\n",
      "\n"
     ]
    }
   ],
   "source": [
    "phi = lambda x: x**3\n",
    "a = 0.9\n",
    "b = 2.1\n",
    "N = 7        # Número de iterações desejado.\n",
    "x_0 = 1.001  # Estimativa inicial próxima de e maior que 1.\n",
    "# Título a ser exibido no topo do diagrama:\n",
    "titulo=\"Método do ponto fixo: $ \\phi(x) = x^3 $\\n\"\\\n",
    "       \"Estimativa inicial próxima de e maior que $ 1 $\"\n",
    "\n",
    "xs, ys = animador_MPF(phi, a, b, x_0, N, titulo, pausa)\n",
    "imprime_solucao(xs, ys)"
   ]
  },
  {
   "cell_type": "markdown",
   "id": "23147b55",
   "metadata": {},
   "source": [
    "## $ \\S 4 $ Análise da convergência e estimativa do erro\n",
    "\n",
    "**Teorema 4.1:** _Seja $ \\vphi \\colon I \\to I $ uma função contínua, onde $ I $ é um intervalo fechado (ou a reta real inteira). Se existir uma constante $ C $ com $ 0 < C < 1 $ tal que_\n",
    "$$\n",
    "\\abs{\\vphi'(x)} \\le C \\quad \\text{para todo $ x \\in I $}\n",
    "$$\n",
    "_então $ \\vphi $ possui um único ponto fixo em $ I $ e a seqüência $ (x_n) $ construída pelo método do ponto fixo converge a ele, independentemente do valor inicial $ x_0 \\in I $._\n",
    "\n",
    "A chave da demonstração é que a condição em destaque implica que $ \\vphi $ encurta distâncias por um fator de pelo menos $ C $:\n",
    "\\begin{equation*}\\label{E:C}\n",
    "\\abs{\\vphi(x_1) - \\vphi(x_2)} \\le C \\abs{x_1 - x_2} \\qquad \\text{para quaisquer $ x_1,\\,x_2 \\in I $.} \\tag{2}\n",
    "\\end{equation*}\n",
    "Mais detalhadamente, pelo Teorema do Valor Médio podemos escrever\n",
    "$$\n",
    "\\vphi(x_1) - \\vphi(x_2) = \\vphi'(a)\\,(x_2 - x_1) \\qquad \\text{para algum $ a $ entre $ x_1 $ e $ x_2 $}.\n",
    "$$\n",
    "Tomando valores absolutos e utilizando a hipótese deduzimos \\eqref{E:C}.\n",
    "\n",
    "**Prova da unicidade do ponto fixo:** Suponha que $ \\xi_1 $ e $ \\xi_2 $ sejam pontos fixos de $ \\vphi $ em $ I $. Aplicando \\eqref{E:C} a eles deduzimos que\n",
    "$$\n",
    "\\abs{\\xi_1 - \\xi_2} \\le C \\abs{\\xi_1 - \\xi_2}\\,.\n",
    "$$\n",
    "Como $ C < 1 $, isto só pode acontecer se $ \\abs{\\xi_1 - \\xi_2} = 0 $, ou seja, se $ \\xi_1 = \\xi_2 $.<div style=\"text-align: right\">$ \\blacksquare $ </div>\n",
    "\n",
    "⚡ **Prova da existência do ponto fixo e da convergência da seqüência $ (x_n) $ a ele:** \n",
    "Sejam $ x_0 \\in I $ arbitrário e $ x_n = \\vphi^n(x_0) $, como no método do ponto fixo. Então por \\eqref{E:C},\n",
    "\\begin{alignat*}{3}\n",
    "\\abs{x_{k+1} - x_{k}} = \\abs{\\vphi(x_{k}) - \\vphi(x_{k-1})} &\\le C\\phantom{^2} \\abs{x_k - x_{k-1}} \\\\\n",
    "&\\le C^2 \\abs{x_{k - 1} - x_{k-2}} \\\\\n",
    "& \\vdots \\\\\n",
    "&\\le C^k \\abs{x_{1} - x_{0}}\n",
    "\\end{alignat*}\n",
    "Daí deduzimos que se $ n > m > 0 $, então\n",
    "\\begin{alignat*}{9}\n",
    "\\abs{x_n - x_m} &= \\abs{\\big(x_n - x_{n-1}\\big) + \\big(x_{n-1} - x_{n-2}\\big) + \\dots + \\big(x_{m+2} - x_{m+1}\\big) + \\big(x_{m+1} - x_m\\big)} \\\\\n",
    "&\\le \\sum_{k=m}^{n - 1}\\abs{x_{k+1} - x_{k}} \\\\\n",
    "&\\le \\sum_{k=m}^{n - 1}C^k\\abs{x_{1} - x_{0}} \\\\\n",
    "& = \\abs{x_{1} - x_{0}}C^m \\sum_{k=0}^{n - m - 1} C^k \\\\\n",
    "& \\le \\abs{x_1 - x_0}\\frac{C^m}{1 - C}\\,.\n",
    "\\end{alignat*}\n",
    "No último passo usamos o fato que $ 0 < C < 1 $ para cotar o somatório pela soma da série geométrica de razão $ C $.\n",
    "\n",
    "**Colorário 4.2:** _Seja $ \\vphi $ uma função continuamente diferenciável que tem um ponto fixo em $ \\xi $. Se\n",
    "$$ \\abs{\\vphi'(\\xi)} < 1\\,, $$\n",
    "então o método do ponto fixo gera uma seqüência $ (x_n) $ que converge a $ \\xi $ desde que $ x_0 $ seja escolhido suficientemente próximo de $ \\xi $._\n",
    "\n",
    "**Prova:** Como por hipótese a derivada de $ \\vphi $ é contínua, ela é menor que $ 1 $ em valor absoluto não apenas em $ \\xi $, mas num intervalo $ I = [\\xi - \\eps, \\xi + \\eps] $ ao redor dele. Além disto, ela reduz distâncias aí, logo se $ x \\in I $, ou seja, se $ \\abs{x - \\xi} < \\eps $, então\n",
    "$$\n",
    "\\abs{\\vphi(x) - \\xi} = \\abs{\\vphi(x) - \\vphi(\\xi)} < \\abs{x - \\xi}\n",
    "$$\n",
    "e portanto $ x \\in I $. Agora aplique o Teorema 4.1. <div style=\"text-align: right\">$ \\blacksquare $ </div>\n",
    "\n",
    "**Teorema 4.2 (estimativa para o erro no método do ponto fixo):** _Sejam $ \\vphi \\colon I \\to I $ como na hipótese do Teorema 4.1 e $ \\xi $ o seu ponto fixo em $ I $. Finalmente, seja_\n",
    "$$\n",
    "E_n = x_n - \\xi \\qquad (n \\ge 0)\n",
    "$$\n",
    "_o erro envolvido no $ n $-ésimo passo do método do ponto fixo. Então vale_\n",
    "$$\n",
    "\\boxed{\\abs{E_n} \\le C^n \\abs{x_0 - \\xi} = C^n \\abs{E_0}}\n",
    "$$\n",
    "\n",
    "Informalmente, o teorema diz que a cada passo erro é cortado por um fator não inferior a $ C $.\n",
    "\n",
    "**Prova:** Como $ \\xi $ é ponto fixo, \n",
    "$$\n",
    "\\xi = \\vphi(\\xi) = \\vphi^2(\\xi) = \\cdots = \\vphi^n(\\xi)\\,.\n",
    "$$\n",
    "Aplicando \\eqref{E:C} $ n $ vezes, concluímos que\n",
    "$$\n",
    "\\abs{E_n} = \\abs{\\vphi^n{x_0} - \\vphi^n(\\xi)} \\le C^n \\abs{x_0 - \\xi} = C^n \\abs{E_0}\\,. \\tag*{$ \\blacksquare $}\n",
    "$$\n",
    "\n",
    "**Teorema 4.3 (análise do desempenho do método do ponto fixo):** _Seja $ \\vphi \\colon I \\to I $ como na hipótese do Teorema 4.1. Pelo método do ponto fixo, o número mínimo de iterações necessário para se garantir (a priori) que a estimativa para o ponto fixo difere do seu valor exato por menos que $ \\eps > 0 $ é dado por:_\n",
    "\\begin{equation*}\n",
    "\\boxed{\\ceil{-\\log_C\\bigg(\\frac{\\abs{x_0 - \\xi}}{\\eps}\\bigg)} = \\ceil{\\frac{\\lg\\bigg(\\frac{\\abs{x_0 - \\xi}}{\\eps}\\bigg)}{\\lg \\Big(\\frac{1}{C}\\Big)}}}\n",
    "\\end{equation*}\n",
    "_onde $ \\ceil{\\cdot} $ denota a função teto, $ \\log_C $ o logaritmo na base $ C $ e $ \\lg = \\log_2 $._\n",
    "\n",
    "**Observação (\"recíproca\" do Teorema 4.1):** Se $ \\vphi \\colon I \\to I $ tem um ponto fixo $ \\xi $ em $ I $ mas \n",
    "$$\n",
    "\\abs{\\vphi'(\\xi)} > 1\\,,\n",
    "$$ \n",
    "então a seqüência $ (x_n) $ construída pelo método do ponto fixo não converge para $ \\xi $ para qualquer estimativa inicial, exceto quando $ x_0 = \\xi $.\n",
    "\n",
    "📝 Segue da última fórmula acima que o desempenho do método do ponto fixo é melhor que o do método da bissecção (para estimativas iniciais compatíveis) se e somente se\n",
    "$$\n",
    "C < \\frac{1}{2}\\,.\n",
    "$$\n"
   ]
  },
  {
   "cell_type": "markdown",
   "id": "89e0f932",
   "metadata": {},
   "source": [
    "**Problema 6:** Gostaríamos de encontrar a raiz positiva da equação\n",
    "$$\n",
    "ax^2 + x -c = 0 \\quad \\text{onde }\\ a > 0\\ \\text{e}\\ c > 0\\,.\n",
    "$$\n",
    "Para isto podemos tentar aplicar o método do ponto fixo à função $ \\vphi(x) = c - ax^2 $. Qual condição devemos impor sobre $ a $ e $ c $ para que haja convergência, assumindo uma estimativa inicial suficientemente próxima? Justifique."
   ]
  },
  {
   "cell_type": "markdown",
   "id": "d79381a7",
   "metadata": {},
   "source": [
    "**Problema 7:** É possível encontrar a raiz quadrada de $ a > 0 $ aplicando o método do ponto fixo à função \n",
    "$$\n",
    "\\vphi(x) = \\frac{a}{x} \\quad (x > 0)\\,?\n",
    "$$\n",
    "Experimente com várias estimativas iniciais $ x_0 $, usando a nossa [implementação](#imp), e justifique geometricamente o resultado obtido."
   ]
  },
  {
   "cell_type": "markdown",
   "id": "9c998110",
   "metadata": {},
   "source": [
    "*Solução:*"
   ]
  },
  {
   "cell_type": "code",
   "execution_count": null,
   "id": "1c3d2e35",
   "metadata": {},
   "outputs": [],
   "source": []
  },
  {
   "cell_type": "markdown",
   "id": "d0a401d7",
   "metadata": {},
   "source": [
    "**Problema 8 (método babilônico revisitado):**<a name=\"babylon\"></a> O objetivo deste problema é analisar a convergência do método babilônico. Seja \n",
    "$$\n",
    "\\vphi(x) = \\frac{1}{2}\\bigg(x + \\frac{a}{x}\\bigg) \\qquad (x > 0)\\,.\n",
    "$$\n",
    "\n",
    "(a) Mostre que a derivada de $ \\vphi $ é dada por\n",
    "$$\n",
    "\\vphi'(x) = \\frac{1}{2}\\bigg(1 - \\frac{a}{x^2}\\bigg)\\,.\n",
    "$$\n",
    "\n",
    "(b) Verifique que\n",
    "$$\n",
    "\\abs{\\vphi'(x)} < 1 \\Longleftrightarrow x > \\sqrt{\\tfrac{a}{3}}\n",
    "$$\n",
    "\n",
    "(c) Mostre que se $ x > 0 $, então $ \\vphi(x) > \\sqrt{\\tfrac{a}{3}} $. Em particular, $ \\vphi $ leva o intervalo fechado\n",
    "$$\n",
    "I = \\Big[ \\sqrt{\\tfrac{a}{3}}\\,,\\, +\\infty \\Big)\n",
    "$$\n",
    "dentro dele mesmo. Conclua com ajuda do Teorema 4.1 que $ (x_n) $ converge à raiz quadrada de $ a $ para qualquer estimativa inicial $ x_0 \\in I $."
   ]
  },
  {
   "cell_type": "markdown",
   "id": "f10e5999",
   "metadata": {},
   "source": [
    "*Solução:*"
   ]
  },
  {
   "cell_type": "code",
   "execution_count": 49,
   "id": "469acf91",
   "metadata": {},
   "outputs": [],
   "source": [
    "%matplotlib qt\n",
    "def animador_MPF(phi, a, b, x_0, N=4, titulo=\"\", pausa=1.0):\n",
    "    \"\"\"\n",
    "    \"\"\"\n",
    "    import matplotlib.pyplot as plt\n",
    "    import numpy as np\n",
    "        \n",
    "\n",
    "    P = 200\n",
    "    xs = [x_0]\n",
    "    for _ in range(N):\n",
    "        xs.append(phi(xs[-1]))\n",
    "    ys = [phi(x) for x in xs]\n",
    "\n",
    "    dominio = np.linspace(a, b, P)\n",
    "    xs_range = [np.linspace(xs[i], xs[i + 1], P) for i in range(N)]\n",
    "    ys_range = [np.linspace(ys[i], ys[i + 1], P) for i in range(N)]\n",
    "    xs_vert_phi = [np.linspace(xs[i], xs[i], P) for i in range(N)]\n",
    "    ys_vert_phi = [np.linspace(0, ys[i], P) for i in range(N)]\n",
    "    xs_vert_diag = [np.linspace(ys[i], ys[i], P) for i in range(N)]\n",
    "    ys_vert_diag = [np.linspace(0, ys[i], P) for i in range(N)]\n",
    "    xs_horiz = [np.linspace(xs[i], xs[i + 1], P) for i in range(N)]\n",
    "    ys_horiz = [np.linspace(ys[i], ys[i], P) for i in range(N)]\n",
    "\n",
    "    plt.axhline(y=0.0, color='black', linestyle='-')#, label='eixo-$ x $')\n",
    "    plt.plot(dominio, phi(dominio), label='$ y = \\phi(x) $')\n",
    "    plt.plot(dominio, dominio, label='$ y = x $')\n",
    "    plt.xlabel('Eixo-$ x $')\n",
    "    plt.ylabel('Eixo-$ y $')\n",
    "    plt.title(titulo)\n",
    "    plt.grid(True)\n",
    "    plt.plot(xs[0], 0, color='black', marker=\"|\", mew=2.0)\n",
    "    plt.legend()\n",
    "    for i in range(N):\n",
    "        if pausa > 0:\n",
    "            plt.pause(pausa)\n",
    "        plt.plot(xs_vert_phi[i], ys_vert_phi[i], linestyle='--',\n",
    "                 linewidth=1.0, color='black')\n",
    "        plt.plot(xs[i], ys[i], color='black', marker=\"o\", mew=0.2)\n",
    "        if pausa > 0:\n",
    "            plt.pause(pausa)\n",
    "        plt.plot(xs_horiz[i], ys_horiz[i], linestyle='--',\n",
    "                 linewidth=1.0, color='black')\n",
    "        plt.plot(ys[i], ys[i], color='black', marker=\"o\", mew=0.2)\n",
    "        if pausa > 0:\n",
    "            plt.pause(pausa)\n",
    "        plt.plot(ys[i], 0, color='black', marker=\"|\", mew=2.0)\n",
    "        plt.plot(xs_vert_diag[i], ys_vert_diag[i], linestyle='--',\n",
    "                 linewidth=1.0, color='black')\n",
    "       \n",
    "    return xs, ys"
   ]
  },
  {
   "cell_type": "code",
   "execution_count": null,
   "id": "711ccaf3",
   "metadata": {},
   "outputs": [],
   "source": [
    "def imprime_solucao(xs, ys, freq=1):\n",
    "    \"\"\"\n",
    "    Dados dois arrays xs e ys de mesmo comprimento, imprime um\n",
    "    a cada 'freq' de seus valores por linha, na forma de uma\n",
    "    tabela. Os 0-ésimos e últimos valores sempre são impressos.\n",
    "    \"\"\"\n",
    "    def imprime_cabecalho():\n",
    "        \"\"\"\n",
    "        Imprime o cabeçalho da tabela.\n",
    "        \"\"\"\n",
    "        print(\"\\n       n      \", end=\"\")\n",
    "        print(\"    x_n            \", end=\"\")\n",
    "        print(\"    φ(x_n)       \")\n",
    "        print(\"--------------------------------------------------\")\n",
    "        \n",
    "        \n",
    "    def imprime_linha(x, y):\n",
    "        \"\"\"\n",
    "        Imprime uma das linhas da tabela.\n",
    "        \"\"\"\n",
    "        print(f\"      {n:02}\", end=\"\")\n",
    "        print(f\"    {x:15.8f}\", end=\"\")\n",
    "        print(f\"    {y:15.8f}\")\n",
    "    \n",
    "    \n",
    "    N = len(ys) - 1        # N + 1 é o número de nodos; N o de passos.\n",
    "    if freq == 0:          # Se freq == 0, imprime apenas os últimos valores.\n",
    "        freq = N\n",
    "    imprime_cabecalho()\n",
    "    for n in range(0, N + 1, freq):\n",
    "        imprime_linha(xs[n], ys[n])\n",
    "    if n != N:\n",
    "        imprime_linha(xs[N], ys[N])\n",
    "    print(\"--------------------------------------------------\\n\")\n",
    "        \n",
    "    return None"
   ]
  },
  {
   "cell_type": "code",
   "execution_count": null,
   "id": "e2930282",
   "metadata": {},
   "outputs": [],
   "source": []
  }
 ],
 "metadata": {
  "kernelspec": {
   "display_name": "Python 3 (ipykernel)",
   "language": "python",
   "name": "python3"
  },
  "language_info": {
   "codemirror_mode": {
    "name": "ipython",
    "version": 3
   },
   "file_extension": ".py",
   "mimetype": "text/x-python",
   "name": "python",
   "nbconvert_exporter": "python",
   "pygments_lexer": "ipython3",
   "version": "3.9.15"
  }
 },
 "nbformat": 4,
 "nbformat_minor": 5
}
