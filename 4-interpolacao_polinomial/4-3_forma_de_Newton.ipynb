{
 "cells": [
  {
   "cell_type": "code",
   "execution_count": 12,
   "metadata": {},
   "outputs": [],
   "source": [
    "from typing import Callable"
   ]
  },
  {
   "attachments": {},
   "cell_type": "markdown",
   "metadata": {},
   "source": [
    "# Forma de Newton para o polinômio interpolador\n",
    "\n",
    "## $ \\S 1 $ Introdução\n",
    "\n",
    "### $ 1.1 $ Comparação entre as formas de Lagrange e de Newton\n",
    "\n",
    "Apesar de simples, a fórmula de Lagrange para o polinômio interpolador não é\n",
    "ideal do ponto de vista computacional. Neste caderno apresentaremos uma outra\n",
    "expressão para este mesmo polinômio, que remonta a Isaac Newton\n",
    "(1643–1727).\n",
    "\n",
    "A principal diferença entre as duas formas aparece quando precisamos adicionar\n",
    "um novo dado ao conjunto original. Pelo método de Lagrange, precisamos\n",
    "recalcular o polinômio. Já utilizando o método de Newton, podemos simplesmente\n",
    "adicionar um termo ao polinômio existente. Isto o torna mais apropriado quando\n",
    "os pontos a serem interpolados são atualizados freqüentemente. Ademais,\n",
    "uma vez que o polinômio interpolador tenha sido escrito na forma de Newton,\n",
    "a _avaliação_ dele num ponto qualquer é ótima, pois requer o menor número\n",
    "possível de multiplicações (exatamente como no método de Horner)."
   ]
  },
  {
   "attachments": {},
   "cell_type": "markdown",
   "metadata": {},
   "source": [
    "### $ 1.2 $ Motivação\n",
    "\n",
    "__Exemplo 1:__ Para ilustrar a idéia por trás do método de Newton, considere\n",
    "inicialmente o polinômio $ p $ de grau $ \\le 2 $ que interpola $ (x_0, y_0) $, $\n",
    "(x_1, y_1) $ e $ (x_2 ,y_2) $. Vamos construí-lo introduzindo um dado a ser\n",
    "satisfeito de cada vez. Para que ele passe pelo primeiro ponto, podemos tomar $\n",
    "p $ da forma:\n",
    "$$\n",
    "    p(x) = y_0 + (x - x_0)\\,p_1(x)\\,,\n",
    "$$\n",
    "onde $ p_1 $ tem grau $ \\le 1 $. Agora o problema original foi reduzido a \n",
    "outro mais fácil: o de se encontrar um polinômio interpolador de grau $ \\le 1 $.\n",
    "Verifica-se diretamente que $ p $ satisfaz os dois dados restantes se e somente\n",
    "se o gráfico de $ p_1 $ passa por\n",
    "\\begin{equation*}\\label{E:data}\n",
    "\\big(x_1, \\nabla y_1 \\big) \\quad \\text{e} \\quad \\big(x_2, \\nabla y_2 \\big)\\,,\n",
    "\\tag{1}\n",
    "\\end{equation*}\n",
    "onde por definição\n",
    "$$\n",
    "    \\nabla y_i := \\frac{y_i - y_0}{x_i - x_0} \\qquad (i = 1,\\,2)\\,.\n",
    "$$\n",
    "Estas quantidades são chamadas de _diferenças divididas_ e serão\n",
    "discutidas detalhadamente logo abaixo. Para encontrar $ p_1 $, podemos\n",
    "utlizar a mesma estratégia. De modo que ele passe pelo primeiro ponto em\n",
    "\\eqref{E:data}, podemos escrevê-lo na forma\n",
    "$$\n",
    "p_1(x) = \\nabla y_1 + (x - x_1)\\,p_0(x)\n",
    "$$\n",
    "onde $ p_0 $ é um polinômio de grau $ \\le 0 $, ou seja, constante.\n",
    "Finalmente, substituindo o segundo dado em \\eqref{E:data} aqui,\n",
    "deduzimos que o valor desta constante deve ser\n",
    "$$\n",
    "\\frac{\\nabla y_2 - \\nabla y_1}{x_2 - x_1} =: \\nabla^2 y_2\\,.\n",
    "$$\n",
    "Esta última quantidade é uma _diferença dividida de segunda ordem_.\n",
    "Concluímos que\n",
    "$$\n",
    "p(x) = y_0 + \\nabla y_1\\,(x - x_0) + \\nabla^2 y_2\\,(x - x_0)(x - x_1)\\,.\n",
    "$$"
   ]
  },
  {
   "attachments": {},
   "cell_type": "markdown",
   "metadata": {},
   "source": [
    "__Problema 1:__ Use a mesma estratégia para expressar o polinômio interpolador dos dados\n",
    "$$\n",
    "(x_0,\\, y_0),\\quad (x_1,\\,y_1),\\quad (x_{2},\\,y_{2}),\\quad (x_{3},\\, y_{3})\n",
    "$$\n",
    "na forma\n",
    "$$\n",
    "p(x) = a_0 + a_1(x - x_0) + a_2(x - x_0)(x - x_1) + a_3(x - x_0)(x - x_1)(x - x_2)\\,.\n",
    "$$\n",
    "Em particular, observe que os coeficientes $ a_0 $, $ a_1 $ e $ a_2 $ são dados pelas\n",
    "mesmas fórmulas que acima."
   ]
  },
  {
   "attachments": {},
   "cell_type": "markdown",
   "metadata": {},
   "source": [
    "_Solução:_"
   ]
  },
  {
   "attachments": {},
   "cell_type": "markdown",
   "metadata": {},
   "source": [
    "## $ \\S 2 $ Diferenças divididas\n",
    "\n",
    "Como veremos depois, quando generalizado, o procedimento descrito na $ \\S 1 $\n",
    "provê uma expressão para o polinômio interpolador de um conjunto de tamanho\n",
    "arbitrário de dados. O $ j $-ésimo coeficiente será dado pela diferença dividida\n",
    "de ordem superior $ \\nabla^j y_j $. Estas quantidades que aparecem de maneira\n",
    "natural neste contexto são análogas às sucessivas derivadas de uma função,\n",
    "exceto que elas envolvem vários pontos. \n",
    "\n",
    "Sejam $ x_0,\\, x_1, \\cdots,\\,x_{N} \\in \\mathbb R $ _distintos_ \n",
    "e $ y_0,\\,y_1,\\, \\cdots,\\, y_{N} \\in \\mathbb R $ valores quaisquer.  As\n",
    "__diferenças divididas__ associadas ao conjunto de pontos $ (x_i,\\,y_i) $\n",
    "são definidas recursivamente:\n",
    "\n",
    "* As _diferenças divididas de $ 0 $-ésima ordem_ são simplesmente os $ y_i $:\n",
    "$$\n",
    "\\nabla^0 y_i = y_i \\qquad (i = 0,\\,1, \\cdots,\\, N)\\,.\n",
    "$$\n",
    "* As _diferenças divididas de primeira ordem_ são dadas por\n",
    "$$\n",
    "\\nabla^1 y_i = \\frac{y_i - y_0}{x_i - x_0} \\qquad (i = 1, \\cdots,\\, N)\\,.\n",
    "$$\n",
    "* Em geral, as __diferenças divididas de ordem__ $ j $ (onde $ j \\le N $)\n",
    "  são dadas por\n",
    "\\begin{equation*}\\label{E:div}\n",
    "\\boxed{\\ \\nabla^j y_i = \\frac{\\nabla^{j - 1}y_i -\n",
    "\\nabla^{j - 1} y_{j - 1}}{x_i - x_{j - 1}} \\qquad (i = j, \\cdots,\\, N)\\ }\n",
    "\\tag{2}\n",
    "\\end{equation*}\n",
    "\n",
    "⚠️ Observe que $ \\nabla^jy_i $ _não está definida_ quando $ i < j $.\n",
    "\n",
    "⚠️ A diferença dividida $ \\nabla^j y_i $ depende não apenas de $ y_i $, mas de\n",
    "todos os $ y_k $ e $ x_k $ para $ k \\le i $. De fato, a notação e definição que\n",
    "estamos utilizando não são convencionais; elas foram escolhidas por serem mais\n",
    "simples que as utilizadas tradicionalmente, e suficientes para o nosso propósito."
   ]
  },
  {
   "attachments": {},
   "cell_type": "markdown",
   "metadata": {},
   "source": [
    "## $ \\S 3 $ Tabela de diferenças divididas\n",
    "\n",
    "As diferenças divididas de ordens sucessivas podem ser calculadas de maneira\n",
    "eficiente e sistemática em forma tabular. Para construir a tabela, começamos\n",
    "listando os valores $ x_i $ e $ y_i $ nas duas primeiras colunas. A cada\n",
    "passo, utilizamos os valores na coluna atual e na dos $ x_i $ para\n",
    "preencher a próxima coluna. \n",
    "\n",
    "__Algoritmo (determinação da tabela de diferenças divididas):__ _Cada entrada não\n",
    "fornecida é igual à diferença entre a entrada imediatamente à sua esquerda e a\n",
    "entrada no topo da coluna anterior, dividida pela diferença entre as entradas\n",
    "correspondentes na coluna dos valores de_ $ x $.\n",
    "\n",
    "Este algoritmo segue imediatamente da definição das diferenças divididas em \\eqref{E:div}."
   ]
  },
  {
   "attachments": {},
   "cell_type": "markdown",
   "metadata": {},
   "source": [
    "__Exemplo 2:__ Considere os seguintes pontos:\n",
    "$$\n",
    "(x_0, y_0) = (-3, 4), \\quad  (x_1, y_1) = (-1, 2),\\quad\n",
    "(x_2, y_2) = (0, 0),\\quad \\text{e} \\quad (x_3, y_3) = (2, 9)\\,.\n",
    "$$\n",
    "Neste caso a tabela de diferenças divididas é:\n",
    "$$\n",
    "\\begin{array}{r|rrrr}\n",
    "x_i & y_i & \\nabla^1y_i & \\nabla^2y_i & \\nabla^3y_i \\\\\n",
    "\\hline\n",
    "-3 & 4 & & & \\\\\n",
    "-1 & 2 & -1 & & \\\\\n",
    "0 & 0 & -4/3 & -1/3 & \\\\\n",
    "2 & 9 & 1 & 2/3 & 1/2 \\\\\n",
    "\\end{array}\n",
    "$$"
   ]
  },
  {
   "attachments": {},
   "cell_type": "markdown",
   "metadata": {},
   "source": [
    "__Exemplo 3:__ Determine a tabela de diferenças divididas associada aos pontos abaixo:\n",
    "$$\n",
    "(x_0, y_0) = (-2, -8), \\quad  (x_1, y_1) = (-1, -1), \\quad\n",
    "(x_2, y_2) = (0, 0), \\quad  (x_3, y_3) = (1, 1) \\quad\n",
    "\\text{e} \\quad  (x_4, y_4) = (2, 8) \\,.\n",
    "$$"
   ]
  },
  {
   "attachments": {},
   "cell_type": "markdown",
   "metadata": {},
   "source": [
    "_Solução:_ Basta seguir o algoritmo enunciado acima. Obteremos então:\n",
    "$$\n",
    "\\begin{array}{r|rrrrr}\n",
    "x_i & y_i & \\nabla^1y_i & \\nabla^2y_i & \\nabla^3y_i & \\nabla^4y_i \\\\\n",
    "\\hline\n",
    "-2 & -8 & & & & \\\\\n",
    "-1 & -1 & 7 & & & \\\\\n",
    "0 & 0 & 4 & -3 & & \\\\\n",
    "1 & 1 & 3 & -2 & 1 & \\\\\n",
    "2 & 8 & 4 & -1 & 1 & 0 \\\\\n",
    "\\end{array}\n",
    "$$"
   ]
  },
  {
   "attachments": {},
   "cell_type": "markdown",
   "metadata": {},
   "source": [
    "📝 A tabela de diferenças associada a uma lista de $ N + 1 $ pontos\n",
    "tem dimensão $ (N + 1) \\times (N + 1) $ se ignorarmos a coluna dos valores $ x $.\n",
    "\n",
    "📝 Segue imediatamente do algoritmo que a computação de todas as diferenças\n",
    "divididas de um conjunto de $ N + 1 $ pontos requer\n",
    "$$\n",
    "N + (N - 1) + \\cdots + 1 = \\frac{N(N + 1)}{2} = O(N^2)\\,.\n",
    "$$\n",
    "operações de subtração e a mesma quantidade de divisões."
   ]
  },
  {
   "attachments": {},
   "cell_type": "markdown",
   "metadata": {},
   "source": [
    "__Problema 2:__ Mostre que a tabela de diferenças divididas associada aos pontos\n",
    "$$\n",
    "(x_0, y_0) = (-2, -5), \\quad (x_1, y_1) = (-1, 0), \\quad (x_2, y_2) = (0, 1),\n",
    "\\quad (x_3, y_3) = (1, 4)\n",
    "$$\n",
    "é dada por:\n",
    "$$\n",
    "\\begin{array}{r|rrrr}\n",
    "x_i & y_i & \\nabla^1y_i & \\nabla^2y_i & \\nabla^3y_i \\\\\n",
    "\\hline\n",
    "-2 & -5 &  & & \\\\\n",
    "-1 & 0 & 5 &  & \\\\\n",
    "0 & 1 & 3 & -2 & \\\\\n",
    "1 & 4 & 3 & -1 & 1\n",
    "\\end{array}\n",
    "$$\n"
   ]
  },
  {
   "attachments": {},
   "cell_type": "markdown",
   "metadata": {},
   "source": [
    "_Solução:_"
   ]
  },
  {
   "attachments": {},
   "cell_type": "markdown",
   "metadata": {},
   "source": [
    "__Problema 3:__ Verifique as entradas da tabela de diferenças divididas para a\n",
    "função $ y = \\sin x $ abaixo:\n",
    "$$\n",
    "\\begin{array}{c|cccc}\n",
    "x_i & y_i = \\sin(x_i) & \\nabla^1y_i & \\nabla^2y_i & \\nabla^3y_i \\\\\n",
    "\\hline\n",
    "0 & 0 & & & \\\\\n",
    "\\frac{\\pi}{3} & \\frac{\\sqrt{3}}{2} & \\frac{3\\sqrt{3}}{2\\pi} & & \\\\\n",
    "\\frac{2\\pi}{3} & \\frac{\\sqrt{3}}{2} & \\frac{3\\sqrt{3}}{4\\pi} & -\\frac{9\\sqrt{3}}{4\\pi^2} & \\\\\n",
    "\\pi & 0 & 0 & -\\frac{9\\sqrt{3}}{4\\pi^2} & 0 \\\\\n",
    "\\end{array}\n",
    "$$"
   ]
  },
  {
   "attachments": {},
   "cell_type": "markdown",
   "metadata": {},
   "source": [
    "_Solução:_"
   ]
  },
  {
   "attachments": {},
   "cell_type": "markdown",
   "metadata": {},
   "source": [
    "## $ \\S 4 $ Implementação de uma calculadora de tabelas de diferenças divididas"
   ]
  },
  {
   "cell_type": "code",
   "execution_count": 13,
   "metadata": {},
   "outputs": [],
   "source": [
    "def divided_differences(xs: list[float], ys: list[float]\n",
    "                        )-> tuple[list[float], list[float]]:\n",
    "    \"\"\"\n",
    "    Given a list of x-values and y-values of points, calculates the\n",
    "    corresponding table of divided differences.\n",
    "    Parameters:\n",
    "        * xs: A list of floats representing the x-coordinates of the points.\n",
    "        * ys: A list of floats representing the y-coordinates of the points.\n",
    "    Returns:\n",
    "        * A 2D NumPy array where the element at index (i, j) represents the jth \n",
    "          order divided difference at y_i.\n",
    "    \"\"\"\n",
    "    import numpy as np\n",
    "\n",
    "    N = len(xs) - 1\n",
    "    divided_diffs = np.zeros((N + 1, N + 1))\n",
    "    divided_diffs[:, 0] = ys\n",
    "    # Calculate the remaining divided differences. The integer j will\n",
    "    # be the order of the divided difference (the column index):\n",
    "    for j in range(1, N + 1):\n",
    "        # i will be the index which indicates the line:\n",
    "        for i in range(j, N + 1):\n",
    "            divided_diffs[i][j] = (divided_diffs[i][j - 1]\n",
    "                                   - divided_diffs[j - 1][j - 1])\\\n",
    "                                    / (xs[i] - xs[j - 1])\n",
    "    return divided_diffs"
   ]
  },
  {
   "attachments": {},
   "cell_type": "markdown",
   "metadata": {},
   "source": [
    "A função seguinte pode ser utilizada para imprimir as tabelas de diferenças\n",
    "divididas calculadas por `divided_differences` em um formato mais agradável."
   ]
  },
  {
   "cell_type": "code",
   "execution_count": 14,
   "metadata": {},
   "outputs": [],
   "source": [
    "def pretty_print_dd(table) -> None:\n",
    "    \"\"\"\n",
    "    Prints a table of divided differences in a human-friendly format, replacing\n",
    "    irrelevant entries above the diagonal with '---'.\n",
    "    Parameters:\n",
    "        * table: A 2D NumPy array where the element at index (i, j) represents the\n",
    "          jth order divided difference of the first (i + 1) points.\n",
    "    \"\"\"\n",
    "    N = table.shape[0] - 1\n",
    "    for i in range(N + 1):\n",
    "        line_elements = []\n",
    "        for j in range(N + 1):\n",
    "            if i < j:\n",
    "                element = \"   ---  \"\n",
    "            else:\n",
    "                element = f\"{table[i][j]:8.5f}\"\n",
    "            line_elements.append(element)\n",
    "        line = \"\\t\".join(line_elements)\n",
    "        print(line)\n",
    "    return None"
   ]
  },
  {
   "attachments": {},
   "cell_type": "markdown",
   "metadata": {},
   "source": [
    "__Exemplo 4:__ Vamos utilizar os procedimentos acima para verificar o resultado do Exemplo 3:"
   ]
  },
  {
   "cell_type": "code",
   "execution_count": 15,
   "metadata": {},
   "outputs": [
    {
     "name": "stdout",
     "output_type": "stream",
     "text": [
      "-8.00000\t   ---  \t   ---  \t   ---  \t   ---  \n",
      "-1.00000\t 7.00000\t   ---  \t   ---  \t   ---  \n",
      " 0.00000\t 4.00000\t-3.00000\t   ---  \t   ---  \n",
      " 1.00000\t 3.00000\t-2.00000\t 1.00000\t   ---  \n",
      " 8.00000\t 4.00000\t-1.00000\t 1.00000\t 0.00000\n"
     ]
    }
   ],
   "source": [
    "xs = list(range(-2, 3))\n",
    "ys = [x**3 for x in xs]\n",
    "divided_diffs = divided_differences(xs, ys)\n",
    "pretty_print_dd(divided_diffs)"
   ]
  },
  {
   "attachments": {},
   "cell_type": "markdown",
   "metadata": {},
   "source": [
    "## $ \\S 4 $ Forma de Newton para o polinômio interpolador\n",
    "\n",
    "__Teorema 4.1 (forma de Newton para o poliômio interpolador):__ \n",
    "_Seja $ p(x) $ o polinômio de grau $ \\le N $ que interpola os\n",
    "$ N + 1 $ pontos_\n",
    "$$\n",
    "(x_0,\\, y_0),\\quad (x_1,\\,y_1),\\quad \\cdots,\\quad\n",
    "(x_{N - 1},\\,y_{N - 1}),\\quad (x_{N},\\, y_{N})\\,.\n",
    "$$\n",
    "_Então_\n",
    "\\begin{equation*}\\label{E:expression}\n",
    "\\boxed{\\ p(x) = y_0 + \\nabla^1 y_1\\, (x - x_0) + \\nabla^2y_2\\, (x - x_0)(x - x_1) +\n",
    "\\cdots + \\nabla^N y_N\\,(x - x_0)(x - x_1) \\cdots (x - x_{N - 1}) \\ \\vphantom{\\Big)} } \\tag{3}\n",
    "\\end{equation*}\n",
    "\n",
    "_Prova:_ A demonstração é apenas uma generalização das contas feitas na $ \\S 1 $\n",
    "para polinômios de graus $ 2 $ e $ 3 $. Procederemos por indução em $ N $. Se $\n",
    "N = 0 $, o resultado é trivial. Assuma que ele já tenha sido estabelecido para\n",
    "coleções de $ N $ pontos, e sejam $ (x_i, y_i) $ como no enunciado. Para\n",
    "satisfazer o primeiro dado, podemos escrever o polinômio interpolador\n",
    "correspondente na forma\n",
    "\\begin{equation*}\\label{E:p}\n",
    "p(x) = y_0 + (x - x_0)\\,q(x) \\tag{4}\n",
    "\\end{equation*}\n",
    "onde $ q(x) $ é um polinômio de grau $ \\le N - 1 $ que ainda precisa ser\n",
    "escolhido. Observe que $ p $ também passa pelos $ N $ pontos\n",
    "$ (x_1,y_1), \\cdots,\\, (x_N, y_N) $ remanescentes se e somente se $ q $ passa\n",
    "por\n",
    "$$\n",
    "(x_1,\\,\\nabla^1 y_1),\\quad \\cdots,\\quad (x_{N - 1},\\,\\nabla^1 y_{N - 1}),\n",
    "\\quad (x_{N},\\, \\nabla^1 y_{N})\\,.\n",
    "$$\n",
    "Mas a seqüência das diferenças divididas de ordem $ j - 1 $ desta última coleção\n",
    "coincide com a das diferenças divididas de ordem $ j $ da coleção original (com\n",
    "$ N + 1 $ pontos) para todo $ j \\ge 1 $.  Portanto, pela hipótese de indução,\n",
    "\\begin{alignat*}{9}\n",
    "q(x) &= \\nabla^1 y_1 + \\nabla^2y_2\\, (x - x_1) + \\cdots +\n",
    "\\nabla^N y_N\\,(x - x_1) \\cdots (x - x_{N - 1}) \\,.\n",
    "\\end{alignat*}\n",
    "Agora basta substituir esta expressão em \\eqref{E:p}.\n",
    "\n",
    "<div style=\"text-align: right\">$ \\blacksquare $ </div>\n",
    "\n",
    "📝 Assim, nesta forma _os sucessivos coeficientes são as entradas diagonais da\n",
    "tabela de diferenças divididas._\n",
    "\n",
    "Usando o esquema de Horner, podemos reescrever a fórmula de Newton como\n",
    "$$\n",
    "\\boxed{\\ p(x) = y_0 + (x - x_0){\\bigg (} \\nabla^1y_1 +(x - x_1){\\Big (}\\nabla^2y_{2} +\n",
    "\\cdots + (x - x_{N - 2})\\big(\\nabla^{N - 1}y_{N-1} +\n",
    "(x - x_{N-1})\\,\\nabla^Ny_{N}\\big)\\cdots {\\Big )}{\\bigg )}\\ }\n",
    "$$\n",
    "Esta expressão deve ser preferida na prática, pois envolve apenas $ N $\n",
    "operações de multiplicação, e assim minimiza o custo e a imprecisão por erros de\n",
    "arredondamento. Tanto a expressão do Teorema 4.1 quanto esta última são chamadas\n",
    "de __forma__ (ou __fórmula__) __de Newton__ para o polinômio interpolador.\n",
    "\n",
    "\n",
    "📝 Trocando-se a ordem em que os pontos $ (x_i, y_i) $ são listados, a tabela\n",
    "de diferenças divididas associada obviamente mudará, e portanto a expressão \n",
    "\\eqref{E:expression} para $ p $ também.  Entretanto, o polinômio $ p $\n",
    "resultante permanecerá o mesmo, já que (como provado anteriormente) ele é único.\n",
    "Para facilitar as contas, em geral é mais conveniente listar os pontos em ordem\n",
    "crescente da coordenada-$ x$."
   ]
  },
  {
   "attachments": {},
   "cell_type": "markdown",
   "metadata": {},
   "source": [
    "## $ \\S 5 $ Problemas"
   ]
  },
  {
   "attachments": {},
   "cell_type": "markdown",
   "metadata": {},
   "source": [
    "__Problema 4:__\n",
    "Considere a função $ f(x) = \\cos x $.\n",
    "\n",
    "(a) Encontre o polinômio de menor grau possível que interpola $ f $ em $ 5 $\n",
    "pontos igualmente espaçados no intervalo $ [0, \\pi] $, na forma de Newton.\n",
    "\n",
    "(b) Esboce os gráficos de $ f $ e de $ p $ com ajuda do computador."
   ]
  },
  {
   "attachments": {},
   "cell_type": "markdown",
   "metadata": {},
   "source": [
    "_Solução:_"
   ]
  },
  {
   "cell_type": "code",
   "execution_count": null,
   "metadata": {},
   "outputs": [],
   "source": []
  },
  {
   "attachments": {},
   "cell_type": "markdown",
   "metadata": {},
   "source": [
    "__Problema 5:__ Dados os pontos indicados, calcule a tabela de diferenças\n",
    "divididas e encontre o polinômio interpolador usando o método de Newton.\n",
    "\n",
    "(a) $ (2, 4),\\ (0, 0), $ e $ (1, 1) $.\n",
    "\n",
    "(b) $ (-1, -1) $, $ (0, 0) $, $ (1, 1) $ e $ (2, 8) $.\n",
    "\n",
    "(c) $ (1,2) $, $ (3,4) $ e $ (4,0) $.\n",
    "\n"
   ]
  },
  {
   "attachments": {},
   "cell_type": "markdown",
   "metadata": {},
   "source": [
    "_Solução:_"
   ]
  },
  {
   "attachments": {},
   "cell_type": "markdown",
   "metadata": {},
   "source": [
    "__Problema 6:__\n",
    "\n",
    "(a) Aproveite a tabela de diferenças divididas do Problema 3 para determinar o\n",
    "polinômio $ p $ que interpola a função $ y = \\sin x $ em\n",
    "$ x = 0,\\, \\frac{\\pi}{3},\\, \\frac{2\\pi}{3},\\, \\pi $.\n",
    "\n",
    "(b) Aproxime $ \\int_0^\\pi \\sin x \\,dx $ por $ \\int_0^\\pi p(x)\\,dx $ e determine\n",
    "o erro associado. _Dica:_ Primeiro cote $ \\vert \\sin x - p(x) \\vert $ usando\n",
    "a fórmula para o erro no caderno anterior, depois use que\n",
    "$ \\big \\vert \\int_0^\\pi \\sin x\\,dx - \\int_0^\\pi p(x)\\,dx\n",
    "\\big \\vert \\le \\int_0^\\pi \\vert \\sin x - p(x) \\vert\\,dx $."
   ]
  },
  {
   "attachments": {},
   "cell_type": "markdown",
   "metadata": {},
   "source": [
    "_Solução:_"
   ]
  },
  {
   "attachments": {},
   "cell_type": "markdown",
   "metadata": {},
   "source": [
    "__Problema 7:__\n",
    "\n",
    "(a) Calcule o polinômio que interpola os pontos do Exemplo 3.\n",
    "\n",
    "(b) Expanda a expressão resultante para escrevê-lo na forma:\n",
    "$$\n",
    "a_0 + a_1 x + a_2 x^2 + a_3 x^3 + a_4 x^4\\,.\n",
    "$$\n",
    "Como você poderia ter advinhado o resultado imediatamente a partir\n",
    "dos dados?"
   ]
  },
  {
   "attachments": {},
   "cell_type": "markdown",
   "metadata": {},
   "source": [
    "_Solução:_"
   ]
  },
  {
   "attachments": {},
   "cell_type": "markdown",
   "metadata": {},
   "source": [
    "__Problema 8:__ Calcule o polinômio que interpola $ f(x) = e^x $ nos pontos \n",
    "$ x = -1, 0, 1, 2 $ na forma de Newton."
   ]
  },
  {
   "attachments": {},
   "cell_type": "markdown",
   "metadata": {},
   "source": [
    "_Solução:_"
   ]
  },
  {
   "attachments": {},
   "cell_type": "markdown",
   "metadata": {},
   "source": [
    "__Problema 9:__ A tabela abaixo exibe as temperaturas médias em uma cidade ao\n",
    "longo do ano. Encontre o polinômio interpolador usando o método das diferenças\n",
    "divididas de Newton e use-o para estimar a temperatura média em julho.\n",
    "$$\n",
    "   \\begin{array}{c|c}\n",
    "   \\text{Mês} & \\text{Temperatura (°C)} \\\\\n",
    "   \\hline\n",
    "   \\text{Janeiro} & 25 \\\\\n",
    "   \\text{Abril} & 20 \\\\\n",
    "   \\text{Junho} & 14 \\\\\n",
    "   \\text{Setembro} & 17 \\\\\n",
    "   \\end{array}\n",
    "$$"
   ]
  },
  {
   "attachments": {},
   "cell_type": "markdown",
   "metadata": {},
   "source": [
    "_Solução:_"
   ]
  },
  {
   "attachments": {},
   "cell_type": "markdown",
   "metadata": {},
   "source": [
    "## $ \\S 6 $ Implementação da interpolação polinomial pelo método das diferenças divididas"
   ]
  },
  {
   "cell_type": "code",
   "execution_count": 16,
   "metadata": {},
   "outputs": [],
   "source": [
    "def newton_polynomial(xs: list[float], ys: list[float]\n",
    "                      ) -> Callable[[float], float]:\n",
    "    \"\"\"\n",
    "    Given a list of x-values and y-values of points, computes the\n",
    "    corresponding interpolating polynomial using Newton's method.\n",
    "    Parameters:\n",
    "        * xs: A list of floats representing the x-coordinates of the points.\n",
    "        * ys: A list of floats representing the y-coordinates of the points.\n",
    "    Returns:\n",
    "        * The polynomial p that interpolates the set of points (xs[i], ys[i]),\n",
    "          in Newton's form (and organized according to Horner's scheme).\n",
    "    \"\"\"\n",
    "    N = len(xs) - 1\n",
    "    divided_diffs = divided_differences(xs, ys)\n",
    "    coefs = [divided_diffs[i][i] for i in range(N + 1)]\n",
    "\n",
    "    def p(x: float) -> float:\n",
    "        \"\"\" Computes the value of the interpolating polynomial p at x. \"\"\"\n",
    "        result = coefs[-1]\n",
    "        for i in reversed(range(0, N)):\n",
    "            result = coefs[i] + (x - xs[i]) * result\n",
    "        return result\n",
    "    \n",
    "    return p\n"
   ]
  },
  {
   "attachments": {},
   "cell_type": "markdown",
   "metadata": {},
   "source": [
    "__Exemplo 5:__ Vamos testar a implementação acima usando os dados do Problema\n",
    "$ 2 $. Verifica-se facilmente que o polinômio interpolador é\n",
    "$ p(x) = x^3 + x^2 + x + 1 $."
   ]
  },
  {
   "cell_type": "code",
   "execution_count": 17,
   "metadata": {},
   "outputs": [
    {
     "name": "stdout",
     "output_type": "stream",
     "text": [
      "-5.00000\t   ---  \t   ---  \t   ---  \n",
      " 0.00000\t 5.00000\t   ---  \t   ---  \n",
      " 1.00000\t 3.00000\t-2.00000\t   ---  \n",
      " 4.00000\t 3.00000\t-1.00000\t 1.00000\n",
      "\n",
      "A implementação está correta!\n"
     ]
    }
   ],
   "source": [
    "xs = [-2, -1, 0, 1]\n",
    "ys = [-5, 0, 1, 4]\n",
    "divided_diffs = divided_differences(xs, ys)\n",
    "p = newton_polynomial(xs, ys)\n",
    "pretty_print_dd(divided_diffs)\n",
    "\n",
    "q = lambda x: x**3 + x**2 + x + 1\n",
    "erro = False\n",
    "for x in range(-5, 5):\n",
    "    if q(x) != p(x):\n",
    "        erro = True\n",
    "\n",
    "if erro:\n",
    "    print(\"\\nERRO! A implementação está incorreta!\")\n",
    "else:\n",
    "    print(\"\\nA implementação está correta!\")\n"
   ]
  },
  {
   "cell_type": "code",
   "execution_count": null,
   "metadata": {},
   "outputs": [],
   "source": []
  }
 ],
 "metadata": {
  "kernelspec": {
   "display_name": "Python 3",
   "language": "python",
   "name": "python3"
  },
  "language_info": {
   "codemirror_mode": {
    "name": "ipython",
    "version": 3
   },
   "file_extension": ".py",
   "mimetype": "text/x-python",
   "name": "python",
   "nbconvert_exporter": "python",
   "pygments_lexer": "ipython3",
   "version": "3.10.6"
  },
  "orig_nbformat": 4
 },
 "nbformat": 4,
 "nbformat_minor": 2
}
