{
 "cells": [
  {
   "attachments": {},
   "cell_type": "markdown",
   "metadata": {},
   "source": [
    "# Forma de Newton para o polinômio interpolador\n",
    "\n",
    "## $ \\S 1 $ Introdução\n",
    "\n",
    "### $ 1.1 $ Comparação entre as formas de Lagrange e de Newton\n",
    "\n",
    "Apesar de simples, a forma de Lagrange para o polinômio interpolador não é\n",
    "ideal do ponto de vista computacional. Neste caderno apresentaremos uma\n",
    "outra expressão para este mesmo polinômio, que remonta a Isaac Newton\n",
    "(1643–1727).\n",
    "\n",
    "A principal diferença entre as duas formas aparece quando precisamos adicionar\n",
    "um novo dado ao conjunto original. Pelo método de Lagrange, precisamos\n",
    "recalcular o polinômio. Já utilizando o método de Newton, podemos simplesmente\n",
    "adicionar um termo ao polinômio existente. Isto o torna mais apropriado quando\n",
    "os pontos a serem interpolados são atualizados freqüentemente. Ademais,\n",
    "uma vez que o polinômio interpolador tenha sido escrito na forma de Newton,\n",
    "a _avaliação_ dele num ponto qualquer é ótima, pois requer o menor número\n",
    "possível de multiplicações (exatamente como no método de Horner)."
   ]
  },
  {
   "attachments": {},
   "cell_type": "markdown",
   "metadata": {},
   "source": [
    "### $ 1.2 $ Motivação\n",
    "\n",
    "__Exemplo 1:__ Para ilustrar a idéia por trás do método de Newton, considere\n",
    "inicialmente o polinômio $ p $ de grau $ \\le 2 $ que interpola $ (x_0, y_0) $, $\n",
    "(x_1, y_1) $ e $ (x_2 ,y_2) $. Vamos construí-lo introduzindo um dado a ser\n",
    "satisfeito de cada vez. Para que ele passe pelo primeiro ponto, podemos tomar $\n",
    "p $ da forma:\n",
    "$$\n",
    "    p(x) = y_0 + (x - x_0)\\,p_1(x)\\,,\n",
    "$$\n",
    "onde $ p_1 $ tem grau $ \\le 1 $. Agora o problema original foi reduzido a \n",
    "outro mais fácil: o de se encontrar um polinômio interpolador de grau $ \\le 1 $.\n",
    "Verifica-se diretamente que $ p $ satisfaz os dois dados restantes se e somente\n",
    "se o gráfico de $ p_1 $ passa por\n",
    "\\begin{equation*}\\label{E:data}\n",
    "\\big(x_1, \\nabla y_1 \\big) \\quad \\text{e} \\quad \\big(x_2, \\nabla y_2 \\big)\\,,\n",
    "\\tag{1}\n",
    "\\end{equation*}\n",
    "onde por definição\n",
    "$$\n",
    "    \\nabla y_i := \\frac{y_i - y_0}{x_i - x_0} \\qquad (i = 1,\\,2)\\,.\n",
    "$$\n",
    "Estas quantidades são chamadas de _diferenças divididas_ e serão\n",
    "discutidas detalhadamente logo abaixo. Para encontrar $ p_1 $, podemos\n",
    "utlizar a mesma estratégia. De modo que ele passe pelo primeiro ponto em\n",
    "\\eqref{E:data}, podemos escrevê-lo na forma\n",
    "$$\n",
    "p_1(x) = \\nabla y_1 + (x - x_1)\\,p_0(x)\n",
    "$$\n",
    "onde $ p_0 $ é um polinômio de grau $ \\le 0 $, ou seja, constante.\n",
    "Finalmente, substituindo o segundo dado em \\eqref{E:data} aqui,\n",
    "deduzimos que o valor desta constante deve ser\n",
    "$$\n",
    "\\frac{\\nabla y_2 - \\nabla y_1}{x_2 - x_1} =: \\nabla^2 y_2\\,.\n",
    "$$\n",
    "Esta última quantidade é uma _diferença dividida de segunda ordem_.\n",
    "Concluímos que\n",
    "$$\n",
    "p(x) = y_0 + \\nabla y_1\\,(x - x_0) + \\nabla^2 y_2\\,(x - x_0)(x - x_1)\\,.\n",
    "$$"
   ]
  },
  {
   "attachments": {},
   "cell_type": "markdown",
   "metadata": {},
   "source": [
    "__Problema 1:__ Use a mesma estratégia para expressar o polinômio interpolador dos dados\n",
    "$$\n",
    "(x_0,\\, y_0),\\quad (x_1,\\,y_1),\\quad (x_{2},\\,y_{2}),\\quad (x_{3},\\, y_{3})\n",
    "$$\n",
    "na forma\n",
    "$$\n",
    "p(x) = a_0 + a_1(x - x_0) + a_2(x - x_0)(x - x_1) + a_3(x - x_0)(x - x_1)(x - x_2)\\,.\n",
    "$$\n",
    "Em particular, observe que os coeficientes $ a_0 $, $ a_1 $ e $ a_2 $ são dados pelas\n",
    "mesmas fórmulas que acima."
   ]
  },
  {
   "attachments": {},
   "cell_type": "markdown",
   "metadata": {},
   "source": [
    "_Solução:_"
   ]
  },
  {
   "attachments": {},
   "cell_type": "markdown",
   "metadata": {},
   "source": [
    "Como veremos na $ \\S 4 $, a conta pode ser generalizada para prover uma\n",
    "expressão similar para o polinômio interpolador de um conjunto de tamanho\n",
    "arbitrário de dados, em que o $ j $-ésimo coeficiente é dado pela diferença\n",
    "dividida de ordem superior $ \\nabla^j y_j $. Estas diferenças divididas que\n",
    "apareceram de maneira natural aqui são análogas às sucessivas derivadas de uma\n",
    "função, exceto que elas envolvem vários pontos. "
   ]
  },
  {
   "attachments": {},
   "cell_type": "markdown",
   "metadata": {},
   "source": [
    "## $ \\S 2 $ Diferenças divididas\n",
    "\n",
    "Sejam $ x_0,\\, x_1, \\cdots,\\,x_{N} \\in \\mathbb R $ _distintos_ \n",
    "e $ y_0,\\,y_1,\\, \\cdots,\\, y_{N} \\in \\mathbb R $ valores quaisquer.  As\n",
    "__diferenças divididas__ associadas ao conjunto de pontos $ (x_i,\\,y_i) $\n",
    "são definidas recursivamente:\n",
    "\n",
    "* As _diferenças divididas de $ 0 $-ésima ordem_ são simplesmente os $ y_i $:\n",
    "$$\n",
    "\\nabla^0 y_i = y_i \\qquad (i = 0,\\,1, \\cdots,\\, N)\\,.\n",
    "$$\n",
    "* As _diferenças divididas de primeira ordem_ são dadas por\n",
    "$$\n",
    "\\nabla^1 y_i = \\frac{y_i - y_0}{x_i - x_0} \\qquad (i = 1, \\cdots,\\, N)\\,.\n",
    "$$\n",
    "* Em geral, as __diferenças divididas de ordem__ $ j $ (onde $ j \\le N $)\n",
    "  são dadas por\n",
    "\\begin{equation*}\\label{E:div}\n",
    "\\boxed{\\ \\nabla^j y_i = \\frac{\\nabla^{j - 1}y_i -\n",
    "\\nabla^{j - 1} y_{j - 1}}{x_i - x_{j - 1}} \\qquad (i = j, \\cdots,\\, N)\\ }\n",
    "\\tag{2}\n",
    "\\end{equation*}\n",
    "\n",
    "⚠️ Observe que $ \\nabla^jy_i $ não está definida quando $ i < j $.\n",
    "\n",
    "⚠️ A diferença dividida $ \\nabla^j y_i $ depende não apenas de $ y_i $, mas de\n",
    "todos os $ y_k $ e $ x_k $ para $ k \\le i $. De fato, a notação e definição que\n",
    "estamos utilizando não são convencionais; elas foram escolhidas por serem mais\n",
    "simples que as escolhidas tradicionalnmente e suficientes para o nosso propósito."
   ]
  },
  {
   "attachments": {},
   "cell_type": "markdown",
   "metadata": {},
   "source": [
    "\n",
    "## $ \\S 3 $ Tabela de diferenças divididas\n",
    "\n",
    "As diferenças divididas de ordens sucessivas podem ser calculadas de maneira\n",
    "eficiente e sistemática em forma tabular. Para construir a tabela, começamos\n",
    "listando os valores $ x_i $ e $ y_i $ nas duas primeiras colunas. A cada\n",
    "passo, utilizamos os valores na coluna atual e na dos $ x_i $ para\n",
    "preencher a próxima coluna. \n",
    "\n",
    "__Exemplo 2:__ Considere os seguintes pontos:\n",
    "$$\n",
    "(x_0, y_0) = (-3, 4), \\quad  (x_1, y_1) = (-1, 2),\\quad\n",
    "(x_2, y_2) = (0, 0),\\quad \\text{e} \\quad (x_3, y_3) = (2, 9)\\,.\n",
    "$$\n",
    "Exclusivamente neste exemplo, incluiremos uma coluna adicional contendo os\n",
    "índices $ i $ correspondentes, para facilitar a referência à definição da\n",
    "diferença dividida correspondente. Neste caso a tabela se torna:\n",
    "$$\n",
    "\\begin{array}{r|r|rrrr}\n",
    "i & x_i & y_i & \\nabla^1y_i & \\nabla^2y_i & \\nabla^3y_i \\\\\n",
    "\\hline\n",
    "0 & -3 & 4 & & & \\\\\n",
    "1 & -1 & 2 & -1 & & \\\\\n",
    "2 & 0 & 0 & -4/3 & -1/3 & \\\\\n",
    "3 & 2 & 9 & 1 & 2/3 & 1/2 \\\\\n",
    "\\end{array}\n",
    "$$"
   ]
  },
  {
   "attachments": {},
   "cell_type": "markdown",
   "metadata": {},
   "source": [
    "__Algoritmo (determinação da tabela de diferenças divididas):__ _Cada entrada não\n",
    "fornecida é igual à diferença entre a entrada imediatamente à sua esquerda e a\n",
    "entrada no topo da coluna anterior, dividida pela diferença entre as entradas\n",
    "correspondentes na coluna dos valores de_ $ x $.\n",
    "\n",
    "Este algoritmo segue imediatamente da definição das diferenças divididas em \\eqref{E:div}."
   ]
  },
  {
   "attachments": {},
   "cell_type": "markdown",
   "metadata": {},
   "source": [
    "__Exemplo 3:__ Determine a tabela de diferenças divididas associada aos pontos abaixo:\n",
    "$$\n",
    "(x_0, y_0) = (-2, -8), \\quad  (x_1, y_1) = (-1, -1), \\quad\n",
    "(x_2, y_2) = (0, 0), \\quad  (x_3, y_3) = (1, 1) \\quad\n",
    "\\text{e} \\quad  (x_4, y_4) = (2, 8) \\,.\n",
    "$$"
   ]
  },
  {
   "attachments": {},
   "cell_type": "markdown",
   "metadata": {},
   "source": [
    "_Solução:_ Basta seguir o procedimento descrito acima. De agora em diante\n",
    "omitiremos a coluna inicial listando os índices $ i $, que não tem qualquer\n",
    "papel no algoritmo. No nosso caso, temos:\n",
    "$$\n",
    "\\begin{array}{r|rrrrr}\n",
    "x_i & y_i & \\nabla^1y_i & \\nabla^2y_i & \\nabla^3y_i & \\nabla^4y_i \\\\\n",
    "\\hline\n",
    "-2 & -8 & & & & \\\\\n",
    "-1 & -1 & 7 & & & \\\\\n",
    "0 & 0 & 4 & -3 & & \\\\\n",
    "1 & 1 & 3 & -2 & 1 & \\\\\n",
    "2 & 8 & 4 & -1 & 1 & 0 \\\\\n",
    "\\end{array}\n",
    "$$"
   ]
  },
  {
   "attachments": {},
   "cell_type": "markdown",
   "metadata": {},
   "source": [
    "📝 Observe que a tabela de diferenças associada a uma lista de $ N + 1 $ pontos\n",
    "tem dimensão $ (N + 1) \\times (N + 1) $ se ignorarmos a coluna dos valores $ x $.\n",
    "\n",
    "📝 A computação de todas as diferenças divididas de um conjunto de $ N + 1 $ pontos\n",
    "requer\n",
    "$$\n",
    "N + (N - 1) + \\cdots + 1 = \\frac{N(N + 1)}{2} = O(N^2)\\,.\n",
    "$$\n",
    "operações de subtração e a mesma quantidade de divisões."
   ]
  },
  {
   "attachments": {},
   "cell_type": "markdown",
   "metadata": {},
   "source": [
    "__Problema 2:__ Mostre que a tabela de diferenças divididas associada aos pontos\n",
    "$$\n",
    "(x_0, y_0) = (-3, 6), \\quad (x_1, y_1) = (-1, 4), \\quad (x_2, y_2) = (1, 2),\n",
    "\\quad (x_3, y_3) = (3, 0) \\quad \\text{e} \\quad (x_4, y_4) = (5, -2)\n",
    "$$\n",
    "é dada por:\n",
    "$$\n",
    "\\begin{array}{r|rrrrr}\n",
    "x_i & y_i & \\nabla^1y_i & \\nabla^2y_i & \\nabla^3y_i & \\nabla^4y_i \\\\\n",
    "\\hline\n",
    "-3 & 6 & & & & \\\\\n",
    "-1 & 4 & -1 & & & \\\\\n",
    "1 & 2 & -1 & 0 & & \\\\\n",
    "3 & 0 & -1 & 0 & 0 & \\\\\n",
    "5 & -2 & -1 & 0 & 0 & 0 \\\\\n",
    "\\end{array}\n",
    "$$\n"
   ]
  },
  {
   "attachments": {},
   "cell_type": "markdown",
   "metadata": {},
   "source": [
    "_Solução:_"
   ]
  },
  {
   "attachments": {},
   "cell_type": "markdown",
   "metadata": {},
   "source": [
    "__Problema 3:__ Verifique as entradas da tabela de diferenças divididas para a\n",
    "função $ y = \\sin x $ abaixo:\n",
    "$$\n",
    "\\begin{array}{c|cccc}\n",
    "x_i & y_i = \\sin(x_i) & \\nabla^1y_i & \\nabla^2y_i & \\nabla^3y_i \\\\\n",
    "\\hline\n",
    "0 & 0 & & & \\\\\n",
    "\\frac{\\pi}{3} & \\frac{\\sqrt{3}}{2} & \\frac{3\\sqrt{3}}{2\\pi} & & \\\\\n",
    "\\frac{2\\pi}{3} & \\frac{\\sqrt{3}}{2} & \\frac{3\\sqrt{3}}{4\\pi} & -\\frac{9\\sqrt{3}}{4\\pi^2} & \\\\\n",
    "\\pi & 0 & 0 & -\\frac{9\\sqrt{3}}{4\\pi^2} & 0 \\\\\n",
    "\\end{array}\n",
    "$$"
   ]
  },
  {
   "attachments": {},
   "cell_type": "markdown",
   "metadata": {},
   "source": [
    "_Solução:_"
   ]
  },
  {
   "attachments": {},
   "cell_type": "markdown",
   "metadata": {},
   "source": [
    "# $ \\S 4 $ Forma de Newton para o polinômio interpolador\n",
    "\n",
    "__Teorema 4.1 (forma de Newton para o poliômio interpolador):__ \n",
    "_Seja $ p(x) $ o polinômio de grau $ \\le N $ que interpola os\n",
    "$ N + 1 $ pontos_\n",
    "$$\n",
    "(x_0,\\, y_0),\\quad (x_1,\\,y_1),\\quad \\cdots,\\quad\n",
    "(x_{N - 1},\\,y_{N - 1}),\\quad (x_{N},\\, y_{N})\\,.\n",
    "$$\n",
    "_Então_\n",
    "\\begin{equation*}\n",
    "\\boxed{\\ p(x) = y_0 + (x - x_0) \\nabla^1 y_1 + (x - x_0)(x - x_1) \\nabla^2y_2 + \\cdots +\n",
    "(x - x_0)(x - x_1) \\cdots (x - x_{N - 1}) \\nabla^n y_N\\ \\vphantom{N_N^N} }\n",
    "\\end{equation*}\n",
    "\n",
    "_Prova:_ A demonstração é apenas uma generalização das contas feitas na $ \\S 1 $\n",
    "para polinômios de graus $ 2 $ e $ 3 $. Procederemos por indução em $ N $. Se $\n",
    "N = 0 $, o resultado é trivial. Assuma que ele já tenha sido estabelecido para\n",
    "coleções de $ N $ pontos, e sejam $ (x_i, y_i) $ como no enunciado. Para\n",
    "satisfazer o primeiro dado, podemos escrever o polinômio interpolador\n",
    "correspondente na forma\n",
    "\\begin{equation*}\\label{E:p}\n",
    "p(x) = y_0 + (x - x_0)\\,q(x)\n",
    "\\end{equation*}\n",
    "onde $ q(x) $ é um polinômio de grau $ \\le N - 1 $ que ainda precisa ser\n",
    "escolhido. Observe que $ p $ passa pelos $ N $ pontos\n",
    "$ (x_1,y_1), \\cdots,\\, (x_N, y_N) $ remanescentes se e somente se $ q $ passa\n",
    "por\n",
    "$$\n",
    "(x_1,\\,\\nabla^1 y_1),\\quad \\cdots,\\quad (x_{N - 1},\\,\\nabla^1 y_{N - 1}),\n",
    "\\quad (x_{N},\\, \\nabla^1 y_{N})\\,.\n",
    "$$\n",
    "Mas a seqüência das diferenças divididas de ordem $ j - 1 $ desta última coleção\n",
    "coincide com a das diferenças divididas de ordem $ j $ da coleção original (com\n",
    "$ N + 1 $ pontos) para todo $ j \\ge 1 $.  Portanto, pela hipótese de indução\n",
    "\\begin{alignat*}{9}\n",
    "q(x) &= \\nabla^1 y_1 + (x - x_1) \\nabla^2y_2 + \\cdots +\n",
    "(x - x_1) \\cdots (x - x_{N - 1}) \\nabla^N y_N\\,.\n",
    "\\end{alignat*}\n",
    "Agora basta substituir esta expressão em \\eqref{E:p}.\n",
    "\n",
    "<div style=\"text-align: right\">$ \\blacksquare $ </div>\n",
    "\n",
    "Usando o esquema de Horner, podemos reescrever a fórmula de Newton como\n",
    "$$\n",
    "\\boxed{\\ p(x) = y_0 + (x - x_0){\\bigg (} \\nabla^1y_1 +(x - x_1){\\Big (}\\nabla^2y_{2} +\n",
    "\\cdots + (x - x_{N - 2})\\big(\\nabla^{N - 1}y_{N-1} +\n",
    "(x - x_{N-1})\\,\\nabla^Ny_{N}\\big)\\cdots {\\Big )}{\\bigg )}\\ }\n",
    "$$\n",
    "Ela é melhor do ponto de vista computacional, pois como envolve apenas\n",
    "$ N $ operações operações de multiplicação, minimiza o custo e a imprecisão\n",
    "por erros de arredondamento. Tanto a expressão do Teorema 4.1 quanto\n",
    "esta última são chamadas de __forma__ (ou __fórmula__) __de Newton__ para o\n",
    "polinômio interpolador.\n",
    "\n",
    "📝 Na forma de Newton, _os sucessivos coeficientes do polinômio interpolador são\n",
    "as entradas diagonais da tabela de diferenças divididas._\n",
    "\n",
    "📝 Trocando-se a ordem em que os pontos $ (x_i, y_i) $ são listados, a tabela\n",
    "de diferenças divididas associada obviamente mudará, e portanto a expressão \n",
    "\\eqref{E:expression} para $ p $ também.  Entretanto, como visto no caderno\n",
    "anterior, o polinômio $ p $ resultante permanecerá o mesmo, já que (como\n",
    "provado anteriormente) ele é único."
   ]
  },
  {
   "attachments": {},
   "cell_type": "markdown",
   "metadata": {},
   "source": [
    "__Problema 4:__ Dados os pontos indicados, calcule a tabela de diferenças\n",
    "divididas e encontre o polinômio interpolador usando o método de Newton.\n",
    "\n",
    "(a) $ (2, 4),\\ (0, 0), $ e $ (1, 1) $.\n",
    "\n",
    "(b) $ (-1, -1) $, $ (0, 0) $, $ (1, 1) $ e $ (2, 8) $.\n",
    "\n",
    "(c) $ (1,2) $, $ (3,4) $ e $ (4,0) $.\n",
    "\n"
   ]
  },
  {
   "attachments": {},
   "cell_type": "markdown",
   "metadata": {},
   "source": [
    "_Solução:_"
   ]
  },
  {
   "attachments": {},
   "cell_type": "markdown",
   "metadata": {},
   "source": [
    "__Problema 5:__\n",
    "\n",
    "(a) Aproveite a tabela de diferenças divididas do Problema 3 para determinar o\n",
    "polinômio $ p $ que interpola a função $ y = \\sin x $ em\n",
    "$ x = 0,\\, \\frac{\\pi}{3},\\, \\frac{2\\pi}{3},\\, \\pi $.\n",
    "\n",
    "(b) Aproxime $ \\int_0^\\pi \\sin x \\,dx $ por $ \\int_0^\\pi p(x)\\,dx $ e determine\n",
    "o erro associado. _Dica:_ Primeiro cote $ \\vert \\sin x - p(x) \\vert $ usando\n",
    "a fórmula para o erro no caderno anterior, depois use que\n",
    "$ \\big \\vert \\int_0^\\pi \\sin x\\,dx - \\int_0^\\pi p(x)\\,dx\n",
    "\\big \\vert \\le \\int_0^\\pi \\vert \\sin x - p(x) \\vert\\,dx $."
   ]
  },
  {
   "attachments": {},
   "cell_type": "markdown",
   "metadata": {},
   "source": [
    "_Solução:_"
   ]
  },
  {
   "attachments": {},
   "cell_type": "markdown",
   "metadata": {},
   "source": [
    "__Problema 6:__ Calcule o polinômio que interpola $ f(x) = e^x $ nos pontos \n",
    "$ x = -1, 0, 1, 2 $ na forma de Newton."
   ]
  },
  {
   "attachments": {},
   "cell_type": "markdown",
   "metadata": {},
   "source": [
    "_Solução:_"
   ]
  },
  {
   "attachments": {},
   "cell_type": "markdown",
   "metadata": {},
   "source": [
    "__Problema 7:__ A tabela abaixo exibe as temperaturas médias em uma cidade ao\n",
    "longo do ano. Encontre o polinômio interpolador usando o método das diferenças\n",
    "divididas de Newton e use-o para estimar a temperatura média em julho.\n",
    "$$\n",
    "   \\begin{array}{c|c}\n",
    "   \\text{Mês} & \\text{Temperatura (°C)} \\\\\n",
    "   \\hline\n",
    "   \\text{Janeiro} & 25 \\\\\n",
    "   \\text{Abril} & 20 \\\\\n",
    "   \\text{Junho} & 14 \\\\\n",
    "   \\text{Setembro} & 17 \\\\\n",
    "   \\end{array}\n",
    "$$"
   ]
  },
  {
   "attachments": {},
   "cell_type": "markdown",
   "metadata": {},
   "source": [
    "_Solução:_"
   ]
  },
  {
   "attachments": {},
   "cell_type": "markdown",
   "metadata": {},
   "source": [
    "## $ \\S 5 $ Implementação da interpolação polinomial pelo método das diferenças divididas"
   ]
  },
  {
   "cell_type": "code",
   "execution_count": 4,
   "metadata": {},
   "outputs": [],
   "source": [
    "def divided_differences(xs: list[float], ys: list[float]\n",
    "                        )-> tuple[list[float], list[float]]:\n",
    "    \"\"\"\n",
    "    Given a list of x-values and y-values of points, calculates the table of\n",
    "    divided differences, which can be used for polynomial interpolation using\n",
    "    Newton's divided differences method.\n",
    "    Parameters:\n",
    "        * xs: A list of floats representing the x-coordinates of the points.\n",
    "        * ys: A list of floats representing the y-coordinates of the points.\n",
    "    Returns:\n",
    "        * A 2D NumPy array where the element at index (i, j) represents the jth \n",
    "          order divided difference at y_i.\n",
    "    \"\"\"\n",
    "    import numpy as np\n",
    "    N = len(xs) - 1\n",
    "    divided_diffs = np.zeros((N + 1, N + 1))\n",
    "    divided_diffs[:, 0] = ys\n",
    "    # Calculate the remaining divided differences:\n",
    "    # j will be the order of the divided difference (the column index):\n",
    "    for j in range(1, N + 1):\n",
    "        # i will be the index which indicates the line:\n",
    "        for i in range(j, N + 1):\n",
    "            divided_diffs[i][j] = (divided_diffs[i][j - 1]\n",
    "                                   - divided_diffs[j - 1][j - 1])\\\n",
    "                                    / (xs[i] - xs[j - 1])\n",
    "    return divided_diffs\n",
    "\n",
    "\n",
    "def interpolate_polynomial(x: float, x_values: list[float], coefs: list[float]\n",
    "                           ) -> float:\n",
    "    \"\"\"\n",
    "    Given x, a list of x values, and a list of coefficients, computes the value\n",
    "    of the interpolating polynomial at x using Newton's method.\n",
    "    Parameters:\n",
    "        * x: The value at which the interpolating polynomial is to be evaluated.\n",
    "        * x_values: A list of x values of the input points.\n",
    "        * coefs: A list of coefficients of the interpolating polynomial.\n",
    "    Returns:\n",
    "        The value of the interpolating polynomial at x.\n",
    "    \"\"\"\n",
    "    n = len(coefs)\n",
    "    result = coefs[-1]\n",
    "    \n",
    "    # Evaluate the interpolating polynomial at x using Newton's method:\n",
    "    for i in range(n - 2, -1, -1):\n",
    "        result = result * (x - x_values[i]) + coefs[i]\n",
    "    return result\n"
   ]
  },
  {
   "cell_type": "code",
   "execution_count": 7,
   "metadata": {},
   "outputs": [],
   "source": [
    "def pretty_print_dd(table) -> None:\n",
    "    \"\"\"\n",
    "    Prints a table of divided differences in a human-friendly format, replacing\n",
    "    irrelevant entries above the diagonal with '---'.\n",
    "    Parameters:\n",
    "        * table: A 2D NumPy array where the element at index (i, j) represents the\n",
    "          jth order divided difference of the first (i + 1) points.\n",
    "    \"\"\"\n",
    "    N = table.shape[0] - 1\n",
    "    for i in range(N + 1):\n",
    "        line_elements = []\n",
    "        for j in range(N + 1):\n",
    "            if i < j:\n",
    "                element = \"   ---  \"\n",
    "            else:\n",
    "                element = f\"{table[i][j]:8.5f}\"\n",
    "            line_elements.append(element)\n",
    "        line = \"\\t\".join(line_elements)\n",
    "        print(line)\n",
    "    return None"
   ]
  },
  {
   "cell_type": "code",
   "execution_count": 8,
   "metadata": {},
   "outputs": [
    {
     "name": "stdout",
     "output_type": "stream",
     "text": [
      " 0.00000\t   ---  \t   ---  \n",
      " 1.00000\t 1.00000\t   ---  \n",
      " 4.00000\t 2.00000\t 1.00000\n"
     ]
    }
   ],
   "source": [
    "xs = [0, 1, 2]\n",
    "ys = [0, 1, 4]\n",
    "table = divided_differences(xs, ys)\n",
    "pretty_print_dd(table)"
   ]
  },
  {
   "cell_type": "code",
   "execution_count": null,
   "metadata": {},
   "outputs": [],
   "source": []
  }
 ],
 "metadata": {
  "kernelspec": {
   "display_name": "Python 3",
   "language": "python",
   "name": "python3"
  },
  "language_info": {
   "codemirror_mode": {
    "name": "ipython",
    "version": 3
   },
   "file_extension": ".py",
   "mimetype": "text/x-python",
   "name": "python",
   "nbconvert_exporter": "python",
   "pygments_lexer": "ipython3",
   "version": "3.9.2"
  },
  "orig_nbformat": 4
 },
 "nbformat": 4,
 "nbformat_minor": 2
}
