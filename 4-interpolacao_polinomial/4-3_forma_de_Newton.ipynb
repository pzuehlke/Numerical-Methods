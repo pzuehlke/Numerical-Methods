{
 "cells": [
  {
   "attachments": {},
   "cell_type": "markdown",
   "metadata": {},
   "source": [
    "# Forma de Newton para o polinômio interpolador\n",
    "\n",
    "## $ \\S 1 $ Introdução\n",
    "\n",
    "Apesar de simples, a forma de Lagrange para o polinômio interpolador não é\n",
    "ideal do ponto de vista computacional. Neste caderno apresentaremos uma\n",
    "outra forma, mais eficiente, para determinação deste mesmo polinômio, que\n",
    "remonta a Isaac Newton (1643–1727).\n",
    "\n",
    "A principal diferença entre as duas formas aparece quando precisamos adicionar\n",
    "um novo dado ao conjunto original. Pelo método de Lagrange, precisamos\n",
    "recalcular o polinômio. Já utilizando o método de Newton, podemos simplesmente\n",
    "adicionar um termo ao polinômio existente. Isto o torna mais apropriado quando\n",
    "os pontos a serem interpolados são atualizados freqüentemente."
   ]
  },
  {
   "attachments": {},
   "cell_type": "markdown",
   "metadata": {},
   "source": [
    "\n",
    "__Exemplo 1:__ Para ilustrar a idéia por trás do método de Newton, considere\n",
    "inicialmente o polinômio de grau $ \\le 2 $ que interpola $ (x_0, y_0) $,\n",
    "$ (x_1, y_1) $ e $ (x_2 ,y_2) $. Para que ele passe pelo primeiro ponto, podemos\n",
    "tomá-lo da forma:\n",
    "$$\n",
    "    p(x) = y_0 + (x - x_0)\\,p_1(x)\\,,\n",
    "$$\n",
    "onde $ p_1 $ tem grau $ \\le 1 $. Agora o problema original foi reduzido a \n",
    "outro mais fácil: o de se encontrar um polinômio interpolador de grau $ \\le 1 $.\n",
    "Efetuando a substituição dos outros dois dados, vemos que o gráfico de\n",
    "$ p_1 $ precisa passar por\n",
    "\\begin{equation*}\n",
    "\\big(x_1, \\nabla y_1 \\big) \\quad \\text{e} \\quad \\big(x_2, \\nabla y_2 \\big)\\,,\n",
    "\\tag{1}\n",
    "\\end{equation*}\n",
    "onde por definição\n",
    "$$\n",
    "    \\nabla y_i := \\frac{y_i - y_0}{x_i - x_0} \\qquad (i = 1,\\,2)\\,.\n",
    "$$\n",
    "Estas quantidades são chamadas de _diferenças divididas_ e serão\n",
    "discutidas detalhadamente logo abaixo. Para encontrar $ p_1 $, podemos\n",
    "utlizar a mesma estratégia. De modo que ele passe pelo primeiro ponto em\n",
    "\\eqref{E:data}, podemos escrevê-lo na forma\n",
    "$$\n",
    "p_1(x) = \\nabla y_1 + (x - x_1)\\,p_0(x)\n",
    "$$\n",
    "onde $ p_0 $ é um polinômio de grau $ \\le 0 $, ou seja, constante.\n",
    "Finalmente, substituindo o segundo dado em \\eqref{E:data} aqui,\n",
    "deduzimos que o valor desta constante deve ser\n",
    "$$\n",
    "\\frac{\\nabla y_2 - \\nabla y_1}{x_2 - x_1} =: \\nabla^2 y_2\\,.\n",
    "$$\n",
    "Esta última quantidade é uma _diferença dividida de segunda ordem_.\n",
    "Resumindo, encontramos que\n",
    "$$\n",
    "p(x) = y_0 + \\nabla y_1\\,(x - x_0) + \\nabla^2 y_2\\,(x - x_0)(x - x_1)\\,.\n",
    "$$\n",
    "Generalizando esta conta a um grau arbitrário, podemos deduzir que o\n",
    "polinômio interpolador pode ser expresso de maneira inteiramente análoga, em que\n",
    "o $ k $-ésimo coeficiente é dado pela diferença dividida de ordem superior $\n",
    "\\nabla^k y_k $.  Estas diferenças divididas que apareceram de maneira natural\n",
    "aqui são análogas às sucessivas derivadas de uma função, exceto que elas\n",
    "envolvem vários pontos. "
   ]
  },
  {
   "attachments": {},
   "cell_type": "markdown",
   "metadata": {},
   "source": [
    "__Problema 1:__ Use a mesma estratégia para expressar o polinômio interpolador dos dados\n",
    "$$\n",
    "(x_0,\\, y_0),\\quad (x_1,\\,y_1),\\quad (x_{2},\\,y_{2}),\\quad (x_{3},\\, y_{3})\n",
    "$$\n",
    "na forma\n",
    "$$\n",
    "p(x) = a_0 + a_1(x - x_0) + a_2(x - x_0)(x - x_1) + a_3(x - x_0)(x - x_1)(x - x_2)\\,.\n",
    "$$\n",
    "Em particular, observe que os coeficientes $ a_0 $, $ a_1 $ e $ a_2 $ são dados pelas\n",
    "mesmas fórmulas que acima."
   ]
  },
  {
   "attachments": {},
   "cell_type": "markdown",
   "metadata": {},
   "source": [
    "## $ \\S 2 $ Diferenças divididas\n",
    "\n",
    "Sejam $ x_0,\\, x_1, \\cdots,\\,x_{N} \\in \\mathbb R $ _distintos_ \n",
    "e $ y_0,\\,y_1,\\, \\cdots,\\, y_{N} \\in \\mathbb R $ valores quaisquer.  As\n",
    "__diferenças divididas__ de $ f $ associadas a eles são definidas\n",
    "recursivamente:\n",
    "\n",
    "* As diferenças divididas de $ 0 $-ésima ordem são simplesmente os $ y_i $:\n",
    "$$\n",
    "\\nabla^0 y_i = y_i \\qquad (i = 0,\\,1, \\cdots,\\, N)\\,.\n",
    "$$\n",
    "* As _diferenças divididas de primeira ordem_ são dadas por\n",
    "$$\n",
    "\\nabla^1 y_i = \\frac{y_i - y_0}{x_i - x_0} \\qquad (i = 1, \\cdots,\\, N)\\,.\n",
    "$$\n",
    "* Em geral, as diferenças divididas de $ k $-ésima ordem (onde $ k \\le N $)\n",
    "são dadas por\n",
    "$$\n",
    "\\boxed{\\ \\nabla^k y_i = \\frac{\\nabla^{k - 1}y_i - \\nabla^{k - 1} y_{k - 1}}{x_i - x_{k - 1}}\n",
    "\\qquad (i = k, \\cdots,\\, N)\\ }\n",
    "$$ "
   ]
  },
  {
   "attachments": {},
   "cell_type": "markdown",
   "metadata": {},
   "source": [
    "\n",
    "## $ \\S 3 $ Tabela de diferenças divididas\n",
    "\n",
    "As diferenças divididas de ordens sucessivas podem ser calculadas de maneira\n",
    "eficiente e sistemática em forma tabular. Para construir a tabela, começamos\n",
    "listando os valores $ x_i $ e $ y_i $ nas duas primeiras colunas. A cada\n",
    "passo, utilizamos os valores na coluna atual e na dos $ x_i $ para\n",
    "preencher a próxima coluna. \n",
    "\n",
    "__Exemplo 2:__ Considere os seguintes pontos:\n",
    "$$\n",
    "(x_0, y_0) = (-3, 4), \\quad  (x_1, y_1) = (-1, 2),\\quad\n",
    "(x_2, y_2) = (0, 0),\\quad \\text{e} \\quad (x_3, y_3) = (2, 7)\\,.\n",
    "$$\n",
    "A tabela de diferenças divididas para eles é dada por:\n",
    "$$\n",
    "\\begin{array}{r|r|rrrr}\n",
    "i & x_i & y_i & \\nabla^1y_i & \\nabla^2y_i & \\nabla^3y_i \\\\\n",
    "\\hline\n",
    "0 & -3 & 4 & & & \\\\\n",
    "1 & -1 & 2 & -1 & & \\\\\n",
    "2 & 0 & 0 & -4/3 & -1/3 & \\\\\n",
    "3 & 2 & 9 & 1 & 2/3 & 1/2 \\\\\n",
    "\\end{array}\n",
    "$$"
   ]
  },
  {
   "attachments": {},
   "cell_type": "markdown",
   "metadata": {},
   "source": [
    "No caso geral, _cada entrada não fornecida é igual à diferença entre a entrada\n",
    "imediatamente à sua esquerda e a primeira entrada da coluna anterior, dividida\n",
    "pela diferença entre as entradas correspondentes na coluna dos valores de_ $ x $.\n",
    "Isto segue imediatamente da definição das diferenças divididas."
   ]
  },
  {
   "attachments": {},
   "cell_type": "markdown",
   "metadata": {},
   "source": [
    "__Exemplo 3:__ Determine a tabela de diferenças divididas associada aos pontos abaixo:\n",
    "$$\n",
    "(x_0, y_0) = (-2, -8), \\quad  (x_1, y_1) = (-1, -1), \\quad\n",
    "(x_2, y_2) = (0, 0), \\quad  (x_3, y_3) = (1, 1) \\quad\n",
    "\\text{e} \\quad  (x_4, y_4) = (2, 8) \\,.\n",
    "$$"
   ]
  },
  {
   "attachments": {},
   "cell_type": "markdown",
   "metadata": {},
   "source": [
    "_Solução:_ Basta seguir o procedimento descrito acima. Para o cálculo\n",
    "não é necessário considerar a coluna com os índices $ i $ (ela foi\n",
    "incluída antes apenas como auxílio à compreensão do procedimento).\n",
    "No nosso caso, temos:\n",
    "$$\n",
    "\\begin{array}{r|rrrrr}\n",
    "x_i & y_i & \\nabla^1y_i & \\nabla^2y_i & \\nabla^3y_i & \\nabla^4y_i \\\\\n",
    "\\hline\n",
    "-2 & -8 & & & & \\\\\n",
    "-1 & -1 & 7 & & & \\\\\n",
    "0 & 0 & 4 & -3 & & \\\\\n",
    "1 & 1 & 3 & -2 & 1 & \\\\\n",
    "2 & 8 & 4 & -1 & 1 & 0 \\\\\n",
    "\\end{array}\n",
    "$$"
   ]
  },
  {
   "attachments": {},
   "cell_type": "markdown",
   "metadata": {},
   "source": [
    "📝 Observe que a tabela de diferenças associada a uma lista de $ N + 1 $ pontos\n",
    "tem dimensão $ (N + 1) \\times (N + 1) $ se ignorarmos a coluna dos valores $ x $."
   ]
  },
  {
   "attachments": {},
   "cell_type": "markdown",
   "metadata": {},
   "source": [
    "__Problema 2:__ Mostre que a tabela de diferenças divididas associada aos pontos\n",
    "$$\n",
    "(x_0, y_0) = (-3, 6), \\quad (x_1, y_1) = (-1, 4), \\quad (x_2, y_2) = (1, 2),\n",
    "\\quad (x_3, y_3) = (3, 0) \\quad \\text{e} \\quad (x_4, y_4) = (5, -2)\n",
    "$$\n",
    "é dada por:\n",
    "$$\n",
    "\\begin{array}{r|rrrrr}\n",
    "x_i & y_i & \\nabla^1y_i & \\nabla^2y_i & \\nabla^3y_i & \\nabla^4y_i \\\\\n",
    "\\hline\n",
    "-3 & 6 & & & & \\\\\n",
    "-1 & 4 & -1 & & & \\\\\n",
    "1 & 2 & -1 & 0 & & \\\\\n",
    "3 & 0 & -1 & 0 & 0 & \\\\\n",
    "5 & -2 & -1 & 0 & 0 & 0 \\\\\n",
    "\\end{array}\n",
    "$$\n"
   ]
  },
  {
   "attachments": {},
   "cell_type": "markdown",
   "metadata": {},
   "source": [
    "__Problema 3:__ Verifique as entradas da tabela de diferenças divididas para a\n",
    "função $ y = \\sin x $ abaixo:\n",
    "$$\n",
    "\\begin{array}{c|cccc}\n",
    "x_i & y_i = \\sin(x_i) & \\nabla^1y_i & \\nabla^2y_i & \\nabla^3y_i \\\\\n",
    "\\hline\n",
    "0 & 0 & & & \\\\\n",
    "\\frac{\\pi}{3} & \\frac{\\sqrt{3}}{2} & \\frac{3\\sqrt{3}}{2\\pi} & & \\\\\n",
    "\\frac{2\\pi}{3} & \\frac{\\sqrt{3}}{2} & \\frac{3\\sqrt{3}}{4\\pi} & -\\frac{9\\sqrt{3}}{4\\pi^2} & \\\\\n",
    "\\pi & 0 & 0 & -\\frac{9\\sqrt{3}}{4\\pi^2} & 0 \\\\\n",
    "\\end{array}\n",
    "$$"
   ]
  },
  {
   "attachments": {},
   "cell_type": "markdown",
   "metadata": {},
   "source": [
    "k# $ \\S 4 $ Forma de Newton para o polinômio interpolador\n",
    "\n",
    "Como antes, seja $ p(x) $ o polinômio de grau $ \\le N $ que interpola os\n",
    "$ N + 1 $ pontos\n",
    "$$\n",
    "(x_0,\\, y_0),\\quad (x_1,\\,y_1),\\quad \\cdots,\\quad\n",
    "(x_{N - 1},\\,y_{N - 1}),\\quad (x_{N},\\, y_{N})\\,.\n",
    "$$\n",
    "O __método de Newton__ ou __método das diferenças divididas__ para se determinar $ p $\n",
    "envolve escrevê-lo na forma:\n",
    "\\begin{equation*}\n",
    "p(x) = a_0 + a_1(x - x_0) + a_2 (x - x_0)(x - x_1) +\n",
    "\\cdots + a_N(x - x_0)(x - x_1) \\cdots (x - x_{N})\\,. \\tag{2}\n",
    "\\end{equation*}\n",
    "Esta é a chamada __forma__ (ou __fórmula__) __de Newton__ para o polinômio\n",
    "interpolador.\n",
    "Procedendo exatamente da mesma maneira que fizemos na $ \\S 1 $ para um polinômio\n",
    "de grau $ 2 $, encontramos que os coeficientes de $ p $ são dados por:\n",
    "$$\n",
    "\\boxed{a_k = \\nabla^k\\vphantom{N^N_N} y_k \\qquad (k = 0,\\,1,\\, \\cdots,\\, N)}\n",
    "$$\n",
    "\n",
    "📝 Trocando-se a ordem em que os pontos $ (x_k, y_k) $ são listados, a tabela\n",
    "de diferenças divididas associada obviamente mudará, e portanto a expressão \n",
    "\\eqref{E:expression} para $ p $ também.  Entretanto, como visto no caderno\n",
    "anterior, o polinômio $ p $ resultante permanecerá o mesmo, já que (como\n",
    "provado anteriormente) ele é único."
   ]
  },
  {
   "attachments": {},
   "cell_type": "markdown",
   "metadata": {},
   "source": [
    "__Problema:__ Dados os pontos indicados, calcule a tabela de diferenças\n",
    "divididas e encontre o polinômio interpolador usando o método de Newton.\n",
    "\n",
    "(a) $ (2, 4),\\ (0, 0), $ e $ (1, 1) $.\n",
    "\n",
    "(b) $ (-1, -1) $, $ (0, 0) $, $ (1, 1) $ e $ (2, 8) $.\n",
    "\n",
    "(c) $ (1,2) $, $ (3,4) $ e $ (4,0) $.\n",
    "\n"
   ]
  },
  {
   "attachments": {},
   "cell_type": "markdown",
   "metadata": {},
   "source": [
    "__Problema:__\n",
    "\n",
    "(a) Aproveite a tabela de diferenças divididas do Problema 3 para determinar o\n",
    "polinômio $ p $ que interpola a função $ y = \\sin x $ em\n",
    "$ x = 0,\\, \\frac{\\pi}{3},\\, \\frac{2\\pi}{3},\\, \\pi $.\n",
    "\n",
    "(b) Aproxime $ \\int_0^\\pi \\sin x \\,dx $ por $ \\int_0^\\pi p(x)\\,dx $ e determine\n",
    "o erro associado. _Dica:_ Primeiro cote $ \\vert \\sin x - p(x) \\vert $ usando\n",
    "a fórmula para o erro no caderno anterior, depois use que\n",
    "$ \\big \\vert \\int_0^\\pi \\sin x\\,dx - \\int_0^\\pi p(x)\\,dx\n",
    "\\big \\vert \\le \\int_0^\\pi \\vert \\sin x - p(x) \\vert\\,dx $."
   ]
  },
  {
   "attachments": {},
   "cell_type": "markdown",
   "metadata": {},
   "source": [
    "__Problema:__ Calcule o polinômio que interpola $ f(x) = e^x $ nos pontos \n",
    "$ x = -1, 0, 1, 2 $ na forma de Newton."
   ]
  },
  {
   "attachments": {},
   "cell_type": "markdown",
   "metadata": {},
   "source": [
    "__Problema:__ A tabela abaixo exibe as temperaturas médias em uma cidade ao\n",
    "longo do ano. Encontre o polinômio interpolador usando o método das diferenças\n",
    "divididas de Newton e use-o para estimar a temperatura média em julho.\n",
    "$$\n",
    "   \\begin{array}{c|c}\n",
    "   \\text{Mês} & \\text{Temperatura (°C)} \\\\\n",
    "   \\hline\n",
    "   \\text{Janeiro} & 25 \\\\\n",
    "   \\text{Abril} & 20 \\\\\n",
    "   \\text{Junho} & 14 \\\\\n",
    "   \\text{Setembro} & 17 \\\\\n",
    "   \\end{array}\n",
    "$$"
   ]
  },
  {
   "attachments": {},
   "cell_type": "markdown",
   "metadata": {},
   "source": [
    "## $ \\S 5 $ Implementação da interpolação polinomial pelo método das diferenças divididas"
   ]
  },
  {
   "cell_type": "code",
   "execution_count": 6,
   "metadata": {},
   "outputs": [],
   "source": [
    "def divided_differences(xs: list[float], ys: list[float]\n",
    "                        )-> tuple[list[float], list[float]]:\n",
    "    \"\"\"\n",
    "    Given a list of points, finds the coefficients of the interpolating polynomial\n",
    "    using Newton's divided differences method.\n",
    "    Parameters:\n",
    "        * points: A list of tuples (x, y) representing the points to interpolate.\n",
    "    Returns:\n",
    "        * The x values of the input points.\n",
    "        * The coefficients of the interpolating polynomial.\n",
    "    \"\"\"\n",
    "    import numpy as np\n",
    "    N = len(xs) - 1\n",
    "    divided_diffs = np.zeros((N + 1, N + 1))\n",
    "    divided_diffs[:, 0] = ys\n",
    "\n",
    "    # Calculate the remaining divided differences:\n",
    "    for j in range(1, N + 1):    # j is the order of the divided difference.\n",
    "        for i in range(j, N + 1):\n",
    "            divided_diffs[i][j] = (divided_diffs[i][j - 1]\n",
    "                                   - divided_diffs[j - 1][j - 1])\\\n",
    "                                    / (xs[i] - xs[j - 1])\n",
    "    return divided_diffs\n",
    "\n",
    "\n",
    "def interpolate_polynomial(x: float, x_values: list[float], coefs: list[float]\n",
    "                           ) -> float:\n",
    "    \"\"\"\n",
    "    Given x, a list of x values, and a list of coefficients, computes the value\n",
    "    of the interpolating polynomial at x using Newton's method.\n",
    "    Parameters:\n",
    "        * x: The value at which the interpolating polynomial is to be evaluated.\n",
    "        * x_values: A list of x values of the input points.\n",
    "        * coefs: A list of coefficients of the interpolating polynomial.\n",
    "    Returns:\n",
    "        The value of the interpolating polynomial at x.\n",
    "    \"\"\"\n",
    "    n = len(coefs)\n",
    "    result = coefs[-1]\n",
    "    \n",
    "    # Evaluate the interpolating polynomial at x using Newton's method:\n",
    "    for i in range(n - 2, -1, -1):\n",
    "        result = result * (x - x_values[i]) + coefs[i]\n",
    "    return result\n"
   ]
  },
  {
   "cell_type": "code",
   "execution_count": 7,
   "metadata": {},
   "outputs": [
    {
     "name": "stdout",
     "output_type": "stream",
     "text": [
      "[[0. 0. 0.]\n",
      " [1. 1. 0.]\n",
      " [4. 2. 1.]]\n"
     ]
    }
   ],
   "source": [
    "xs = [0, 1, 2]\n",
    "ys = [0, 1, 4]\n",
    "table = divided_differences(xs, ys)\n",
    "print(table)"
   ]
  },
  {
   "cell_type": "code",
   "execution_count": null,
   "metadata": {},
   "outputs": [],
   "source": []
  }
 ],
 "metadata": {
  "kernelspec": {
   "display_name": "Python 3",
   "language": "python",
   "name": "python3"
  },
  "language_info": {
   "codemirror_mode": {
    "name": "ipython",
    "version": 3
   },
   "file_extension": ".py",
   "mimetype": "text/x-python",
   "name": "python",
   "nbconvert_exporter": "python",
   "pygments_lexer": "ipython3",
   "version": "3.9.2"
  },
  "orig_nbformat": 4
 },
 "nbformat": 4,
 "nbformat_minor": 2
}
