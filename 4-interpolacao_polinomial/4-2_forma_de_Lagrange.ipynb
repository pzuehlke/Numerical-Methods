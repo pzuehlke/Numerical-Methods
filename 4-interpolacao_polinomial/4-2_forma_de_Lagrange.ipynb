{
 "cells": [
  {
   "attachments": {},
   "cell_type": "markdown",
   "id": "54141150",
   "metadata": {},
   "source": [
    "# Forma de Lagrange para o polinômio interpolador"
   ]
  },
  {
   "attachments": {},
   "cell_type": "markdown",
   "id": "cf09f201",
   "metadata": {},
   "source": [
    "## $ \\S 1 $ Introdução\n",
    "\n",
    "Recorde do caderno anterior que a interpolação polinomial consiste em encontrar\n",
    "o polinômio $ p(x) $ de grau $ \\le N $ cujo gráfico passa por $ N + 1 $\n",
    "pontos dados $ (x_i, y_i) $, ou seja, tal que $ p(x_i) = y_i $ para cada\n",
    "$ i = 0,\\,1, \\cdots, N  $.  A _interpolação de Lagrange_ constrói $ p $\n",
    "diretamente usando uma combinação linear de certos polinômios auxiliares.\n",
    "\n",
    "A maior vantagem do método de Lagrange é que ele é facilmente entendido e\n",
    "implementado. Além disto, ele não requer a resolução do sistema de equações\n",
    "lineares que determina o polinômio interpolador discutido no caderno\n",
    "anterior. Entretanto, a interpolação de Lagrange é menos eficiente que outros\n",
    "métodos, como a interpolação de Newton, especialmente quando novos dados são\n",
    "adicionados e o polinômio precisa ser recalculado ou quando o grau é muito\n",
    "alto."
   ]
  },
  {
   "attachments": {},
   "cell_type": "markdown",
   "id": "6d7cd5fa",
   "metadata": {},
   "source": [
    "## $ \\S 2 $ Fórmula de Lagrange para o polinômio interpolador\n",
    "\n",
    "A idéia por trás do método de Lagrange é muito simples: Se conhecêssemos\n",
    "polinômios $ \\lambda_i(x) $ de grau $ N $ $ (i = 0,\\,1, \\cdots,\\, N $)\n",
    "tais que \n",
    "$$\n",
    "\\lambda_i(x_j) = \\delta_{ij} =\n",
    "\\begin{cases}\n",
    "1 & \\text{se $ i = j $}; \\\\\n",
    "0 & \\text{se $ i \\ne j $},\n",
    "\\end{cases}\n",
    "$$\n",
    "então $ p(x) $ seria dado pela seguinte combinação linear deles:\n",
    "$$\n",
    "p(x) = \\sum_{i=0}^{N} y_i\\, \\lambda_i(x)\\,.\n",
    "$$\n",
    "\n",
    "Por outro lado, podemos facilmente encontrar uma fórmula para os $ \\lambda_i $.\n",
    "Inicialmente, sejam\n",
    "$$\n",
    "\\pi_i(x) = (x - x_0)(x - x_1) \\cdots \\widehat{(x - x_i)} \\cdots (x - x_{N})\n",
    "\\qquad (i = 0,\\, 1, \\cdots,\\, N).\n",
    "$$\n",
    "\n",
    "📝 A notação $ \\widehat{a} $ indica que o termo $ a $ deve ser _omitido_.\n",
    "Portanto, $\\pi_i(x) $  é o produto de todos os fatores da forma $ x-x_j $,\n",
    "exceto para $ j = i $.\n",
    "\n",
    "Verifica-se diretamente que $ \\pi_i $ é um polinômio de grau $ N $ que se anula\n",
    "em todos os $ x_j $, exceto em $ x_i $:\n",
    "$$\n",
    "\\pi_i(x_j) = 0 \\text{ se $i \\ne j$},\\ \\ \\text{enquanto }\\pi_i(x_i) \\ne 0\\,.\n",
    "$$\n",
    "Dividindo por $ \\pi_i(x_i) $, conseguimos garantir que o valor em $ x = x_i $\n",
    "seja exatamente $ 1 $. Em símbolos:\n",
    "$$\n",
    "\\lambda_i(x) = \\frac{\\pi_i(x)}{\\pi_i(x_i)} \\qquad (i = 0,\\,1,\\cdots,\\, N)\\,.\n",
    "$$\n",
    "Finalmente,\n",
    "\\begin{equation*}\n",
    "    \\boxed{p(x) = \\sum_{i=0}^{N} y_i\\,\\lambda_i(x) = \\sum_{i=0}^{N}y_i \\frac{(x - x_0) \\cdots \\widehat{(x - x_i)} \\cdots (x - x_{N})}{(x_i - x_0) \\cdots \\widehat{(x_i - x_i)} \\cdots (x_i - x_{N}) }}\n",
    "\\end{equation*}\n",
    "tem grau $ \\le N $ e assume o valor $ y_i $ em $ x = x_i $ para cada $ i = 0, 1, \\dots, N $. \n",
    "\n",
    "Esta é a chamada **forma (ou fórmula) de Lagrange** (Joseph-Louis Lagrange, 1736—1813) para o polinômio que interpola os dados \n",
    "$$\n",
    "(x_0, y_0)\\,,\\ (x_1, y_1)\\,,\\ \\dots\\,,\\ (x_{N}, y_{N}) \\qquad ( x_i \\ne x_{j}  \\text{ para } i \\ne j )\n",
    "$$\n",
    "e o polinômio $ p $ também é conhecido como **polinômio (interpolador) de Lagrange**."
   ]
  },
  {
   "attachments": {},
   "cell_type": "markdown",
   "id": "be666172",
   "metadata": {},
   "source": [
    "__Problema 1:__ Sabendo que $ f(0) = 3 $, $ f(1) = 5 $ e $ f(3) = 11 $, encontre o valor aproximado de $ f(2) $ usando o polinômio interpolador de Lagrange de grau $ 2 $."
   ]
  },
  {
   "attachments": {},
   "cell_type": "markdown",
   "id": "553b616a",
   "metadata": {},
   "source": [
    "_Solução:_"
   ]
  },
  {
   "attachments": {},
   "cell_type": "markdown",
   "id": "9928ee91",
   "metadata": {},
   "source": [
    "__Problema 2:__ \n",
    "\n",
    "(a) Determine o polinômio interpolador de Lagrange utilizando os pontos $ (1, 1)\n",
    "$, $ (2, 4) $ e $ (3, 9) $.\n",
    "\n",
    "(b) Esboce o gráfico deste polinômio."
   ]
  },
  {
   "attachments": {},
   "cell_type": "markdown",
   "id": "48a1e6c5",
   "metadata": {},
   "source": [
    "_Solução:_"
   ]
  },
  {
   "attachments": {},
   "cell_type": "markdown",
   "id": "c7ca9067",
   "metadata": {},
   "source": [
    "__Problema 3:__ Use a fórmula de Lagrange para encontrar o polinômio de menor\n",
    "grau que interpola os dados abaixo:\n",
    "\n",
    "|$x$|$y$|\n",
    "|---:|---:|\n",
    "|$0$|$1$|\n",
    "|$1$|$0$|\n",
    "|$2$|$1$|\n",
    "|$3$|$0$|"
   ]
  },
  {
   "attachments": {},
   "cell_type": "markdown",
   "id": "13db7b2d",
   "metadata": {},
   "source": [
    "__Problema 4:__ \n",
    "\n",
    "(a) Considere a tabela\n",
    "    \\begin{equation*}\n",
    "        \\begin{array}{c|c|c|c|c}\n",
    "            x & -1  & 0  & 1  & 3 \\\\\n",
    "            \\hline y & a & b & c & d\n",
    "        \\end{array}\n",
    "    \\end{equation*}\n",
    "    Encontre o polinômio $ p(x) $ de grau $ \\le 3 $ que interpola estes dados. \n",
    "\n",
    "(b) Determine uma condição necessária e suficiente para que $ p $ tenha grau $\\le 2 $.\n"
   ]
  },
  {
   "attachments": {},
   "cell_type": "markdown",
   "id": "a40461b6",
   "metadata": {},
   "source": [
    "_Solução:_"
   ]
  },
  {
   "attachments": {},
   "cell_type": "markdown",
   "id": "65c59fab",
   "metadata": {},
   "source": [
    "_Solução:_"
   ]
  },
  {
   "attachments": {},
   "cell_type": "markdown",
   "id": "de0e6b7b",
   "metadata": {},
   "source": [
    "## $ \\S 3 $ Implementação do polinômio interpolador na forma de Lagrange"
   ]
  },
  {
   "cell_type": "code",
   "execution_count": null,
   "id": "c8734b84",
   "metadata": {},
   "outputs": [],
   "source": [
    "from math import prod\n",
    "from typing import Callable\n",
    "\n",
    "\n",
    "def lagrange(xs: list[float], ys: list[float]) -> Callable[[float], float]:\n",
    "    \"\"\"\n",
    "    Returns the polynomial p of degree <= N that interpolates a list\n",
    "    of N + 1 data, using Lagrange's formula.\n",
    "    Inputs:\n",
    "        * A list xs of _distinct_ x values.\n",
    "        * A list ys, of the same length, with the corresponding\n",
    "          y values.\n",
    "    Output:\n",
    "        * A function p = p(x), the interpolating polynomial.\n",
    "    \"\"\"\n",
    "    n = len(xs)\n",
    "    # Error handling:\n",
    "    if n <= 0:\n",
    "        raise ValueError(\"The list xs should have at least one element.\")\n",
    "    if len(ys) != n:\n",
    "        raise ValueError(\"The lists xs and ys should have the same length.\")\n",
    "    if len(set(xs)) != n:\n",
    "        raise ValueError(\"The elements in the list xs should be distinct.\")\n",
    "    \n",
    "    def p(x: float) -> float:\n",
    "        \"\"\"\n",
    "        Returns the _value_ of the interpolating polynomial p at x,\n",
    "        following Lagrange's formula.\n",
    "        \"\"\"\n",
    "        base_polynomials = []  # List of the base polynomials:\n",
    "\n",
    "        for i in range(n):\n",
    "            numerators = []\n",
    "            denominators = []\n",
    "            for j in range(n):\n",
    "                if j != i:\n",
    "                    numerators.append(x - xs[j])\n",
    "                    denominators.append(xs[i] - xs[j])\n",
    "            \n",
    "            base_polynomial = prod(numerators) / prod(denominators)\n",
    "            base_polynomials.append(base_polynomial)\n",
    "            \n",
    "        return sum(ys[i] * base_polynomials[i] for i in range(n))\n",
    "\n",
    "    return p\n"
   ]
  },
  {
   "attachments": {},
   "cell_type": "markdown",
   "id": "f8e84bcc",
   "metadata": {},
   "source": [
    "__Problema 5:__ A tabela abaixo fornece as medidas de intensidade sonora do\n",
    "motor de um carro (em decibéis) que opera a certas velocidades:\n",
    "\n",
    "| Velocidade (km/h) | Intesidade sonora (dB) |\n",
    "| --- | --- |\n",
    "| 30 | 57 |\n",
    "| 40 | 59.2 |\n",
    "| 50 | 64.4 |\n",
    "| 60 | 66.1 |\n",
    "| 70 | 69.9 |\n",
    "| 80 | 73 |\n",
    "\n",
    "Usando a função `lagrange` definida acima, estime a intensidade sonora do ruído\n",
    "emitido pelo motor a $ 10 $ km/h e a $ 100 $ km/h. Os resultados ilustram o perigo\n",
    "de se utilizar o polinômio interpolador para se estimar os valores da função\n",
    "aproximada _fora_ do intervalo que contém os dados (ou seja, em geral não é uma\n",
    "boa idéia utilizar o polinômio interpolador para _extrapolar_ os dados)."
   ]
  },
  {
   "attachments": {},
   "cell_type": "markdown",
   "id": "8aabaa8c",
   "metadata": {},
   "source": [
    "_Solução:_"
   ]
  },
  {
   "cell_type": "code",
   "execution_count": null,
   "id": "47b35bce",
   "metadata": {},
   "outputs": [],
   "source": []
  },
  {
   "attachments": {},
   "cell_type": "markdown",
   "id": "39a2c596",
   "metadata": {},
   "source": [
    "__Problema 6:__ Suponha que os pontos $ (1, 3), (2, 2), (3, 0) $, $ (4, 1) $ e\n",
    "$ (5, -1) $ estejam sobre o gráfico de uma função desconhecida $ f(x) $.\n",
    "\n",
    "(a) Interpole estes pontos por um polinômio de menor grau possível, usando o computador.\n",
    "\n",
    "(b) Utilizando este polinômio, aproxime $ f(3.7) $. Seria uma boa idéia\n",
    "utilizar este polinômio para aproximar $ f(4.7) $? Justifique."
   ]
  },
  {
   "attachments": {},
   "cell_type": "markdown",
   "id": "b78689bf",
   "metadata": {},
   "source": [
    "_Solução:_"
   ]
  },
  {
   "cell_type": "code",
   "execution_count": null,
   "id": "bb4e9bb8",
   "metadata": {},
   "outputs": [],
   "source": []
  },
  {
   "attachments": {},
   "cell_type": "markdown",
   "id": "e9ad6618",
   "metadata": {},
   "source": [
    "## $ \\S 4 $ Análise do erro na interpolação polinomial\n",
    "Dadas uma função $ f \\colon [a, b] \\to \\mathbb R $ e uma amostra de $ N + 1 $ pontos $ (x_i, y_i) $ com $ y_i = f(x_i) $, vimos como encontrar o único polinômio $ p $ de grau $ \\le N $ passando por eles. Obteremos nesta seção uma expressão para o **erro**\n",
    "$$ E(x) = f(x) - p(x) $$\n",
    "cometido ao se aproximar $ f $ por $ p $ num ponto $ x \\in [a, b] $ qualquer. Precisaremos supor que $ f $ é $ N + 1 $ vezes diferenciável.\n",
    "\n",
    "Observe primeiramente que, como $ f $ e $ p $ assumem os mesmos valores nos $ x_i $, sua diferença se anula aí, logo podemos escrever\n",
    "\\begin{equation*}\n",
    "f(x) - p(x) = (x -x_0)(x - x_1) \\cdots (x - x_{N})g(x)\n",
    "\\end{equation*}\n",
    "para uma função $ g $ adequada. Isto segue de uma aplicação repetida do teorema de Taylor.\n",
    "\n",
    "Agora seja $ x^\\ast \\in [a, b] $ um ponto arbitrário. Temos:\n",
    "\\begin{equation*}\n",
    "f(x^\\ast) - p(x^\\ast) = (x^\\ast -x_0)(x^\\ast - x_1) \\cdots (x^\\ast - x_{N})g(x^\\ast).\n",
    "\\end{equation*}\n",
    "Considere a função\n",
    "\\begin{equation*}\n",
    "\\varphi(x) = f(x) - p(x) - (x -x_0)(x - x_1) \\cdots (x - x_{N})g(x^\\ast).\n",
    "\\end{equation*}\n",
    "Então:\n",
    "* $ \\varphi $ se anula em $ N + 2 $ pontos $ x_0, x_1, \\dots, x_{N} $ e $ x^\\ast $.\n",
    "* Logo $ \\varphi' $ se anula em $ N + 1 $ pontos, pelo teorema do valor médio.\n",
    "* Logo $ \\varphi'' $ se anula em $ N $ pontos, pelo teorema do valor médio; e assim por diante.\n",
    "* Em geral, $ \\varphi^{(k)} $ se anula em (pelo menos) $ N + 2 - k $ pontos, para cada $ k = 0, 1, \\dots, N + 1 $.\n",
    "\n",
    "Em particular, $ \\varphi^{(N + 1)} $ possui ao menos um zero $ \\bar x $. Por outro lado, como $ p $ tem grau $ \\le N $, $ p^{(N + 1)} \\equiv 0 $, logo\n",
    "\\begin{equation*}\n",
    "0 = \\varphi^{(N+1)}(\\bar x) = f^{(N+1)}(\\bar x) - (N+1)!g(x^\\ast).\n",
    "\\end{equation*}\n",
    "Concluímos que\n",
    "\\begin{equation*}\n",
    "g(x^\\ast) = \\frac{f^{(N+1)}(\\bar x)}{(N+1)!}.\n",
    "\\end{equation*}\n",
    "Substituindo isto na expressão para $ f(x^\\ast) - p(x^\\ast) $ e lembrando que $ x^\\ast $ é arbitrário, deduzimos o seguinte resultado.\n",
    "\n",
    "__Teorema 4.1 (fórmula para o erro na interpolação polinomial):__ *Sejam $ f\n",
    "\\colon [a, b] \\to \\mathbb R $ uma função $ N + 1 $ vezes diferenciável e\n",
    "$ p $ o polinômio de grau $ \\le N $ que interpola $ f $ em\n",
    "$ x=x_0,x_1,\\dots,x_{N} \\in [a, b] $. Então dado $ x \\in [a, b] $, vale\n",
    "\\begin{equation}\\label{E:Taylor5}\n",
    "\\boxed{f(x) = p(x) + (x - x_0)(x - x_1) \\cdots (x - x_{N})\n",
    "\\frac{f^{(N+1)}(\\bar x)}{(N+1)!}}\n",
    "\\end{equation}\n",
    "para algum $ \\bar x \\in [a, b] $ (que depende de $ x $).*\n",
    "\n",
    "__Corolário 4.2:__ *Seja $ f \\colon [a, b] \\to \\mathbb R $ uma função $ N + 1 $\n",
    "vezes diferenciável e seja $ p $ o único polinômio de grau $ \\le N $ que\n",
    "interpola $ f $ em $ x=x_0,x_1,\\dots,x_{N} \\in [a, b] $. Então o erro\n",
    "$ E(x) = f(x) - p(x) $ satisfaz:*\n",
    "$$\n",
    "\\vert E(x) \\vert \\le \\vert x - x_0\\vert \\vert x - x_1 \\vert \\cdots \\vert x - x_{N}\\vert\n",
    "\\frac{\\max_{[a,b]}\\big\\vert f^{(N+1)} \\big\\vert}{(N+1)!}\n",
    "\\qquad (x \\in [a, b])  \\tag*{ $\\blacksquare $}\n",
    "$$"
   ]
  },
  {
   "attachments": {},
   "cell_type": "markdown",
   "id": "d6d156e4",
   "metadata": {},
   "source": [
    "📝 Observe que apesar de termos utilizados a forma de Lagrange para o polinômio\n",
    "interpolador para estabelecer os dois últimos resultados, eles são válidos\n",
    "independentemente da _forma_ em que este polinômio esteja expresso."
   ]
  },
  {
   "attachments": {},
   "cell_type": "markdown",
   "id": "31c59211",
   "metadata": {},
   "source": [
    "__Problema 7:__ \n",
    "\n",
    "(a) Use a fórmula de Lagrange para encontrar o polinômio de grau $ 3 $ que interpola os dados\n",
    "\n",
    "|$ x $|$ y $|\n",
    "|---:|---:|\n",
    "|$ -1 $|$ 1 $|\n",
    "|$ 0 $|$ -1 $|\n",
    "|$ 1 $|$ 1 $|\n",
    "|$ 2 $|$ 5 $|\n",
    "\n",
    "(b) Estime o erro de interpolação no intervalo $ [-1, 2] $, supondo que\n",
    "$ |f^{(4)}(x)| \\le 28 $ para todo $ x \\in [-1, 2] $."
   ]
  },
  {
   "attachments": {},
   "cell_type": "markdown",
   "id": "5638b099",
   "metadata": {},
   "source": [
    "_Solução:_"
   ]
  },
  {
   "attachments": {},
   "cell_type": "markdown",
   "id": "5d60eb7d",
   "metadata": {},
   "source": [
    "__Problema 8:__\n",
    "\n",
    "(a) Seja $ f(x) = e^x $. Utilize o polinômio de Lagrange de grau 1\n",
    "que interpola os pontos $ (0, f(0)) $ e $ (1, f(1)) $ para aproximar $ f(0.5) $\n",
    "em termos de $ e $.\n",
    "\n",
    "(b) Encontre um limitante superior para o erro de interpolação neste ponto."
   ]
  },
  {
   "attachments": {},
   "cell_type": "markdown",
   "id": "a8469373",
   "metadata": {},
   "source": [
    "_Solução:_"
   ]
  }
 ],
 "metadata": {
  "kernelspec": {
   "display_name": "Python 3 (ipykernel)",
   "language": "python",
   "name": "python3"
  },
  "language_info": {
   "codemirror_mode": {
    "name": "ipython",
    "version": 3
   },
   "file_extension": ".py",
   "mimetype": "text/x-python",
   "name": "python",
   "nbconvert_exporter": "python",
   "pygments_lexer": "ipython3",
   "version": "3.9.2"
  }
 },
 "nbformat": 4,
 "nbformat_minor": 5
}
