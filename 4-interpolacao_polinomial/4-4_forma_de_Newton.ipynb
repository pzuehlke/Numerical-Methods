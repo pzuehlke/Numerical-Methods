{
 "cells": [
  {
   "attachments": {},
   "cell_type": "markdown",
   "metadata": {},
   "source": [
    "# Forma de Newton para o polinômio interpolador\n",
    "\n",
    "Apesar de simples, a forma de Lagrange para o polinômio interpolador não é\n",
    "ideal do ponto de vista computacional. Neste caderno apresentaremos uma\n",
    "outra forma, mais eficiente, para determinação deste mesmo polinômio, que\n",
    "remonta a Isaac Newton (1643–1727)."
   ]
  },
  {
   "cell_type": "code",
   "execution_count": null,
   "metadata": {},
   "outputs": [],
   "source": []
  },
  {
   "cell_type": "code",
   "execution_count": null,
   "metadata": {},
   "outputs": [],
   "source": [
    "def newton_interpolation(points: list[tuple[float, float]]\n",
    "                         )-> tuple[list[float], list[float]]:\n",
    "    \"\"\"\n",
    "    Given a list of points, finds the coefficients of the interpolating polynomial\n",
    "    using Newton's divided differences method.\n",
    "    Parameters:\n",
    "        * points: A list of tuples (x, y) representing the points to interpolate.\n",
    "    Returns:\n",
    "        * The x values of the input points.\n",
    "        * The coefficients of the interpolating polynomial.\n",
    "    \"\"\"\n",
    "    n = len(points)\n",
    "    x_values = [point[0] for point in points]\n",
    "    divided_diffs = [point[1] for point in points]\n",
    "\n",
    "    # Calculate divided differences coefficients:\n",
    "    for i in range(1, n):\n",
    "        for j in range(n - 1, i - 1, -1):\n",
    "            divided_diffs[j] = (divided_diffs[j] - divided_diffs[j - 1])\\\n",
    "                               / (x_values[j] - x_values[j - i])\n",
    "    return divided_diffs\n",
    "\n",
    "def interpolate_polynomial(x: float, x_values: list[float], coefs: list[float]\n",
    "                           ) -> float:\n",
    "    \"\"\"\n",
    "    Given x, a list of x values, and a list of coefficients, computes the value\n",
    "    of the interpolating polynomial at x using Newton's method.\n",
    "    Parameters:\n",
    "        * x: The value at which the interpolating polynomial is to be evaluated.\n",
    "        * x_values: A list of x values of the input points.\n",
    "        * coefs: A list of coefficients of the interpolating polynomial.\n",
    "    Returns:\n",
    "        The value of the interpolating polynomial at x.\n",
    "    \"\"\"\n",
    "    n = len(coefs)\n",
    "    result = coefs[-1]\n",
    "    \n",
    "    # Evaluate the interpolating polynomial at x using Newton's method:\n",
    "    for i in range(n - 2, -1, -1):\n",
    "        result = result * (x - x_values[i]) + coefs[i]\n",
    "    return result\n"
   ]
  }
 ],
 "metadata": {
  "kernelspec": {
   "display_name": "Python 3",
   "language": "python",
   "name": "python3"
  },
  "language_info": {
   "codemirror_mode": {
    "name": "ipython",
    "version": 3
   },
   "file_extension": ".py",
   "mimetype": "text/x-python",
   "name": "python",
   "nbconvert_exporter": "python",
   "pygments_lexer": "ipython3",
   "version": "3.9.2"
  },
  "orig_nbformat": 4
 },
 "nbformat": 4,
 "nbformat_minor": 2
}
