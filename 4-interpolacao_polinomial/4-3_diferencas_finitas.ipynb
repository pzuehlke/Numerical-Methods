{
 "cells": [
  {
   "attachments": {},
   "cell_type": "markdown",
   "metadata": {},
   "source": [
    "# O Cálculo de diferenças\n",
    "\n",
    "## $ \\S 1 $ Definição e propriedades básicas do operador de diferença $ \\Delta $\n",
    "\n",
    "Neste caderno discutiremos o chamado _Cálculo de diferenças finitas_, que é uma \n",
    "versão do Cálculo diferencial e integral para domínios discretos e foi\n",
    "desenvolvido de maneira sistemática principalmente por George Boole (1815–1864).\n",
    "\n",
    "Seja $ f $ uma função real. O __operador de diferença__ $ \\Delta $ é definido\n",
    "por\n",
    "$$\n",
    "    \\Delta[f](x) = f(x + h) - f(x)\n",
    "$$\n",
    "onde $ h $ é um valor fixo e geralmente pequeno, chamado de __passo__\n",
    "ou __incremento__.\n",
    "\n",
    "O termo __operador__ geralmente é reservado para uma transformação que,\n",
    "quando aplicada a um objeto (no caso, uma função), retorna outro objeto\n",
    "de mesmo tipo. Neste sentido $ \\Delta $ é similar ao operador de diferenciação\n",
    "$ \\frac{d}{dx} $. De fato, o operador de diferença é uma versão discreta do\n",
    "operador de diferenciação, e possui propriedades inteiramente análogas às deste\n",
    "último.\n",
    "\n",
    "📝 Em geral denotaremos a função $ \\Delta[f] $ resultado da aplicação de\n",
    "$ \\Delta $ a $ f $ simplesmente por $ \\Delta f $."
   ]
  },
  {
   "attachments": {},
   "cell_type": "markdown",
   "metadata": {},
   "source": [
    "__Lema 1.1 (propriedades básicas de $ \\Delta $):__ _Sejam $ f,\\,g $ funções\n",
    "reais e $ \\alpha,\\,\\beta \\in \\mathbb R $ constantes. Então valem as seguintes\n",
    "propriedades para $ \\Delta $:_\n",
    "\n",
    "* _(Linearidade)_\n",
    "$$ \\Delta [\\alpha f + \\beta g]\n",
    "= \\alpha \\Delta[f] + \\beta \\Delta[g]\\,. $$\n",
    "\n",
    "* _(Regra do produto)_\n",
    "\\begin{alignat*}{9} \\Delta[fg](x) &= \\Delta f(x)\\, g(x) + f(x + h)\\Delta g(x) \\\\\n",
    "                                  &= \\Delta f(x)\\, g(x + h) + f(x)\\Delta g(x)\n",
    "\\end{alignat*}\n",
    "\n",
    "* _(Regra do quociente)_\n",
    "$$\n",
    "\\Delta\\bigg[\\frac{f}{g}\\bigg](x) =\n",
    "\\frac{g(x)\\,\\Delta f(x) - f(x)\\,\\Delta g(x)}{g(x)g(x + h)}\\,.\n",
    "$$\n",
    "\n",
    "* _(Regra da cadeia)_ _Para $ h $ suficientemente pequeno, vale a seguinte\n",
    "aproximação:_\n",
    "$$\n",
    "\\Delta[g \\circ f](x) \\approx g'(f(x))\\,\\Delta f(x) \\,.\n",
    "$$"
   ]
  },
  {
   "attachments": {},
   "cell_type": "markdown",
   "metadata": {},
   "source": [
    "__Prova do Lema 1.1:__\n",
    "\n",
    "*Linearidade:*\n",
    "\n",
    "\\begin{alignat*}{9}\n",
    "\\Delta [\\alpha f + \\beta g](x) &= (\\alpha f + \\beta g)(x + h) - (\\alpha f + \\beta g)(x) \\\\\n",
    "&= \\alpha f(x + h) + \\beta g(x + h) - \\alpha f(x) - \\beta g(x) \\\\\n",
    "&= \\alpha [f(x + h) - f(x)] + \\beta [g(x + h) - g(x)] \\\\\n",
    "&= \\alpha \\Delta f(x) + \\beta \\Delta g(x)\\,.\n",
    "\\end{alignat*}\n",
    "\n",
    "*Regra do produto:*\n",
    "\n",
    "\\begin{alignat*}{9}\n",
    "\\Delta[fg](x) &= f(x + h)g(x + h) - f(x)g(x) \\\\\n",
    "&= f(x + h)g(x + h) - f(x + h)g(x) + f(x + h)g(x) - f(x)g(x) \\\\\n",
    "&= \\Delta f(x)g(x + h) + f(x)\\Delta g(x)\\,.\n",
    "\\end{alignat*}\n",
    "Intercambiando $ f $ e $ g $ nesta fórmula obtemos a segunda\n",
    "expressão para $ \\Delta[fg] $ no enunciado.\n",
    "\n",
    "*Regra do quociente:*\n",
    "\n",
    "\\begin{alignat*}{9}\n",
    "\\Delta\\bigg[\\frac{f}{g}\\bigg](x) &= \\frac{f(x + h)}{g(x + h)} - \\frac{f(x)}{g(x)} \\\\\n",
    "&= \\frac{f(x + h)g(x) - f(x)g(x + h)}{g(x)g(x + h)} \\\\\n",
    "&= \\frac{g(x)\\,[f(x + h) - f(x)] - f(x)\\,[g(x + h) - g(x)]}{g(x)g(x + h)} \\\\\n",
    "&= \\frac{g(x)\\,\\Delta f(x) - f(x)\\,\\Delta g(x)}{g(x)g(x + h)}\\,.\n",
    "\\end{alignat*}\n",
    "\n",
    "*Regra da cadeia:* Para $ h $ suficientemente pequeno, podemos utilizar a\n",
    "definição de derivada de uma função e a aproximação linear de primeira ordem\n",
    "para a função $ g $:\n",
    "$$\n",
    "g(y + k) - g(y) \\approx kg'(y)\\,.\n",
    "$$\n",
    "Utilizando esta aproximação com $ y = f(x) $ e $ k = \\Delta f(x) $,\n",
    "obtemos:\n",
    "\\begin{alignat*}{9}\n",
    "\\Delta[g \\circ f](x) &= g(f(x + h)) - g(f(x)) \\\\\n",
    "&\\approx g'(f(x))\\,\\Delta f(x)\\,.  \\tag*{$ \\blacksquare $}\n",
    "\\end{alignat*}\n",
    "\n",
    "📝 Dentre outros propósitos, o operador de diferença finita é útil para resolver\n",
    "problemas de equações diferenciais em forma discreta (chamadas de _equações de\n",
    "diferenças_) e para calcular derivadas numéricas de funções, especialmente\n",
    "quando uma expressão analítica da função não está disponível."
   ]
  },
  {
   "attachments": {},
   "cell_type": "markdown",
   "metadata": {},
   "source": [
    "__Problema 1:__ Demonstre as fórmulas contidas na tabela seguinte. Aqui $ b > 0 $ é constante:\n",
    "\n",
    "| Função $ f(x) $ | Diferença finita $ \\Delta f(x) = f(x + h) - f(x) $ |\n",
    "|-----------------|---------------------------------------------------|\n",
    "| constante | $ 0 $ |\n",
    "| $ x $ | $ h $ |\n",
    "| $ x^2 $ | $ 2xh + h^2 $ |\n",
    "| $ x^3 $ | $ 3x^2h + 3xh^2 + h^3 $ |\n",
    "| $ b^x $ | $ b^x (b^h - 1) $ |\n",
    "| $ \\log_b x $ | $ \\log_b \\Big(1 + \\frac{h}{x}\\Big) $ |\n",
    "| $ \\sin x $ | $  \\sin x (\\cos h - 1) + \\sin h \\cos x $ |\n",
    "| $ \\cos x $ | $  \\cos x (\\cos h - 1) - \\sin x \\sin h $ |"
   ]
  },
  {
   "attachments": {},
   "cell_type": "markdown",
   "metadata": {},
   "source": [
    "_Solução:_"
   ]
  },
  {
   "attachments": {},
   "cell_type": "markdown",
   "metadata": {},
   "source": [
    "__Problema 2:__ Mostre que:\n",
    "\n",
    "(a)\n",
    "$$\n",
    "\\Delta\\bigg[\\frac{1}{1 + x^2}\\bigg] = \\frac{-h(2x + h)}{(1 + x^2)\\big[1 + (x + h)^2\\big]}\\,.\n",
    "$$\n",
    "\n",
    "(b)\n",
    "$$\n",
    "\\Delta\\bigg[\\frac{1}{\\sqrt{x}}\\bigg] = \\frac{-h}{\\sqrt{x}\\sqrt{x + h}\\big(\\sqrt{x} + \\sqrt{x + h})}\\,.\n",
    "$$\n",
    "\n",
    "(c)\n",
    "$$\n",
    "\\Delta \\cosh x = \\frac{\\big(e^h - 1\\big)\\big(e^x - e^{-(x + h)}\\big)}{2}\n",
    "\\quad \\text{e} \\quad\n",
    "\\Delta \\sinh x = \\frac{\\big(e^h - 1\\big)\\big(e^x + e^{-(x + h)}\\big)}{2}\\,,\n",
    "$$\n",
    "onde por definição\n",
    "$$\n",
    "\\cosh x = \\frac{e^x + e^{-x}}{2} \\quad \\text{e} \\quad\n",
    "\\sinh x = \\frac{e^x - e^{-x}}{2}\\,.\n",
    "$$\n",
    "\n",
    "(d)\n",
    "$$\n",
    "\\Delta \\sin(ax + b) = 2\\sin \\frac{ah}{2}\\sin \\Big(ax + b + \\frac{ah}{2} + \\frac{\\pi}{2}\\Big)\\,.\n",
    "$$\n",
    "_Dica:_ Use as identidades $ 2\\sin \\alpha \\sin \\beta = \\cos(\\alpha - \\beta) - \\cos(\\alpha + \\beta)\\,$\n",
    "e $ \\cos\\big(t + \\frac{\\pi}{2}\\big) = -\\sin t\\, $.\n",
    "\n",
    "(e)\n",
    "$$\n",
    "\\Delta \\cos(ax + b) = 2\\sin \\frac{ah}{2}\\cos \\Big(ax + b + \\frac{ah}{2} + \\frac{\\pi}{2}\\Big)\\,.\n",
    "$$\n",
    "_Dica:_ Use as identidades $ 2\\sin \\alpha \\cos \\beta = \\sin(\\alpha + \\beta) + \\sin(\\alpha - \\beta)\\,$\n",
    "e $ \\sin\\big(t + \\frac{\\pi}{2}\\big) = \\cos t\\, $."
   ]
  },
  {
   "attachments": {},
   "cell_type": "markdown",
   "metadata": {},
   "source": [
    "_Solução:_"
   ]
  },
  {
   "attachments": {},
   "cell_type": "markdown",
   "metadata": {},
   "source": [
    "__Problema 3:__ Encontre \n",
    "$$\n",
    "\\Delta \\bigg(\\frac{ax + b}{cx + d}\\bigg)\\,.\n",
    "$$"
   ]
  },
  {
   "attachments": {},
   "cell_type": "markdown",
   "metadata": {},
   "source": [
    "## $ \\S 3 $ Mudanças de variáveis"
   ]
  },
  {
   "attachments": {},
   "cell_type": "markdown",
   "metadata": {},
   "source": [
    "__Problema 2:__ Seja $ f(x) $ uma função real qualquer. Prove que:\n",
    "\n",
    "(a) A mudança de variável $ t = \\frac{x - a}{h} $ transforma\n",
    "$ x = a,\\, a \\pm h,\\, a \\pm 2h,\\,\\cdots $ em\n",
    "$ t = 0,\\, \\pm 1,\\, \\pm 2,\\, \\cdots $.\n",
    "\n",
    "(b) Esta mudança de variável transforma o\n",
    "operador de diferença de passo $ h \\ne 0 $ no operador de diferença de passo\n",
    "$ h = 1 $. Mais precisamente, se $ g(t) = f(a + th) = f(x) $, então\n",
    "$$\n",
    "\\Delta_1[g](t) = \\Delta_h[f](x)\\,.\n",
    "$$\n",
    "\n",
    "\n",
    "Assim, _podemos sempre reduzir nossas fórmulas ao caso em que o tamanho de passo é_\n",
    "$ h = 1 $, o que em geral é mais conveniente."
   ]
  },
  {
   "attachments": {},
   "cell_type": "markdown",
   "metadata": {},
   "source": [
    "_Solução:_"
   ]
  },
  {
   "attachments": {},
   "cell_type": "markdown",
   "metadata": {},
   "source": [
    "__Problema 3:__  Encontre a transformação linear $ t = \\alpha x + \\beta $ que\n",
    "reduz os valores seguintes de $ x $ aos valores padrões\n",
    "$ t = 0,\\,1,\\,2,\\, \\cdots $ (preservando a ordem):\n",
    "\n",
    "(a) $ 13,\\,11,\\,9, \\cdots,\\, -13 $.\n",
    "\n",
    "(b) $ 4.5,\\,5.0,\\,5.5, \\cdots,\\, 9 $."
   ]
  },
  {
   "attachments": {},
   "cell_type": "markdown",
   "metadata": {},
   "source": [
    "_Solução:_"
   ]
  },
  {
   "attachments": {},
   "cell_type": "markdown",
   "metadata": {},
   "source": [
    "__Problema 4:__  Encontre a transformação linear $ t = \\alpha x + \\beta $ que\n",
    "transforma o intervalo $ a \\le x \\le b $ no intervalo $ c \\le t \\le d $,\n",
    "assumindo que eles sejam não-degenerados. Faça isto de duas maneiras:\n",
    "\n",
    "(a) A transformação deve levar a extremidade esquerda (resp. direita) de $ [a, b] $\n",
    "na extremidade correspondente de $ [c, d] $.\n",
    "\n",
    "(b) A transformação deve levar a extremidade esquerda (resp. direita) de $ [a, b] $\n",
    "na extremidade direita (resp. esquerda) de $ [c, d] $."
   ]
  },
  {
   "attachments": {},
   "cell_type": "markdown",
   "metadata": {},
   "source": [
    "_Solução:_"
   ]
  },
  {
   "attachments": {},
   "cell_type": "markdown",
   "metadata": {},
   "source": [
    "__Problema 5:__ A _regra de Simpson_ para aproximação da integral de uma função\n",
    "contínua definida no intervalo $ [-1, 1] $ é\n",
    "$$\n",
    "\\int_{-1}^1 f(t)\\,dt \\approx \\frac{1}{3}\\big[f(-1) + 4f(0) + f(1)]\\,.\n",
    "$$\n",
    "Qual é a fórmula de Simpson para aproximação da integral de uma função $ g(x) $\n",
    "definida em $ [a, b] $? _Dica:_ Transforme $ g $ numa função $ f(t) $ definida\n",
    "em $ [-1, 1] $ por uma mudança de variável linear e compare suas respectivas integrais."
   ]
  },
  {
   "attachments": {},
   "cell_type": "markdown",
   "metadata": {},
   "source": [
    "_Solução:_"
   ]
  },
  {
   "attachments": {},
   "cell_type": "markdown",
   "metadata": {},
   "source": [
    "## $ \\S 3 $ Outras versões do operador de diferença\n",
    "\n",
    "Tecnicamente, o operador $ \\Delta $ definido na $ \\S 1 $ (o único que\n",
    "consideraremos aqui) é chamado de _operador de diferença progressiva_.  Também é\n",
    "possível considerar o _operador de diferença regressiva_ $ \\nabla $, definido\n",
    "por\n",
    "$$ \\nabla f(x) = f(x) - f(x - h)\\,. $$\n",
    "O _operador de diferença centrada_ é dado pela média dos operadores de diferença\n",
    "progressiva e regressiva, ou seja,\n",
    "$$ \\Delta_{c}[f](x) = \\frac{f(x + h) - f(x - h)}{2}\\,. $$\n",
    "\n",
    "Tanto a diferença progressiva quanto a regressiva fornecem\n",
    "aproximações de primeira ordem da derivada da função, no sentido que \n",
    "$$\n",
    "\\frac{1}{h}\\Delta f (x) = f'(x) + O(h) \\quad \\text{e} \\quad\n",
    "\\frac{1}{h}\\nabla f(x) = f'(x) + O(h)\\,.\n",
    "$$\n",
    "ou seja, os erros são aproximadamente proporcionais a $ h $. Já a diferença\n",
    "central fornece uma aproximação de segunda ordem para a derivada, no sentido que\n",
    "$$\n",
    "\\frac{1}{h}\\Delta_c[f](x) = f'(x) + O(h^2)\\,.\n",
    "$$"
   ]
  },
  {
   "attachments": {},
   "cell_type": "markdown",
   "metadata": {},
   "source": [
    "## $ \\S 4 $ Fatorial ascendente e fatorial descendente"
   ]
  },
  {
   "attachments": {},
   "cell_type": "markdown",
   "metadata": {},
   "source": [
    "Defina as funções __fatorial descendente__ e\n",
    "__fatorial ascendente__ por\n",
    "$$\n",
    "\\boxed{x^{\\underline{n}} = x(x - 1) \\cdots (x - n + 1) \\qquad \\text{e} \\qquad\n",
    "x^{\\overline{n}} = x(x + 1) \\cdots (x + n - 1)} \n",
    "$$\n",
    "respectivamente; D. Knuth (1938 — ) sugere que leia-se: \"$ x $ na $ n $\n",
    "descendente\" e \"$ x $ na $ n $ ascendente\". Estas funções\n",
    "desempenham no Cálculo de diferenças (com tamanho de passo $ h = 1 $) um papel\n",
    "análogo ao das potências $ x^n $ no Cálculo diferencial.\n",
    "\n",
    "__Problema 6:__ Mostre que valem as seguintes fórmulas quando o\n",
    "tamanho de passo $ h $ do operador de diferença vale $ 1 $:\n",
    "$$\n",
    "\\Delta x^{\\underline{n}} = nx^{\\underline{n -1}} \\quad \\text{e}\n",
    "\\quad \n",
    "\\Delta x^{\\overline{n}} = n(x + 1)^{\\underline{n -1}}\\,.\n",
    "$$"
   ]
  },
  {
   "attachments": {},
   "cell_type": "markdown",
   "metadata": {},
   "source": [
    "_Solução:_"
   ]
  },
  {
   "attachments": {},
   "cell_type": "markdown",
   "metadata": {},
   "source": [
    "__Problema 7:__ Sejam $ m,\\,n > 1 $. Mostre as seguintes identidades:\n",
    "\n",
    "(a) $ x^{\\underline{n}} = (x - n + 1)^{\\overline{n}} $ e\n",
    "$ x^{\\overline{n}} = (x + n - 1)^{\\underline{n}}\\, $.\n",
    "\n",
    "(b) $ x^{\\underline{m + n}}\n",
    "= x^{\\underline{m}}\\, (x - m)^{\\underline{n}}\\, $ e\n",
    "$ x^{\\overline{m + n}} = x^{\\overline{m}}\\,(x + m)^{\\overline{n}}\\, $."
   ]
  },
  {
   "attachments": {},
   "cell_type": "markdown",
   "metadata": {},
   "source": [
    "_Solução:_"
   ]
  },
  {
   "attachments": {},
   "cell_type": "markdown",
   "metadata": {},
   "source": [
    "Observe que $ x^{\\overline{n}} $ e $ x^{\\underline{n}} $ não foram definidas ainda\n",
    "quando $ n \\le 0 $. Se tomássemos formalmente $ m = 0 $ na primeira identidade\n",
    "do item (b) do Problema 7, teríamos\n",
    "$$\n",
    "x^{\\underline{n}}x^{\\underline{0}} = x^{\\underline{n}}\\,,\n",
    "$$\n",
    "de modo que para que esta identidade continue válida, somos forçados a definir\n",
    "$$\n",
    "x^{\\underline{0}} = 1 \\quad \\text{para todo $ x \\in \\mathbb R \\,$.}\n",
    "$$\n",
    "Agora tomando $ m = -n $ na mesma identidade, deduzimos que\n",
    "$$\n",
    "x^{\\underline{-n}} = \\frac{1}{(x + n)^{\\underline{n}}} =\n",
    "\\frac{1}{(x + 1)^{\\overline{n}}} \\qquad (x \\in \\mathbb R,\\, n \\ge 0)\\,.\n",
    "$$\n",
    "Analogamente, nos guiando pela segunda identidade do item (b) do Problema 7,\n",
    "somos levados a definir\n",
    "$$\n",
    "x^{\\overline{0}} = 1 \\quad \\text{e} \\quad x^{\\overline{-n}} =\n",
    "\\frac{1}{(x - n)^{\\overline{n}}} = \\frac{1}{(x - 1)^{\\underline{n}}}\n",
    "\\qquad (x \\in \\mathbb R,\\, n \\ge 0)\\,.\n",
    "$$"
   ]
  },
  {
   "attachments": {},
   "cell_type": "markdown",
   "metadata": {},
   "source": [
    "## $ \\S 5 $ Diferenças repetidas\n",
    "\n",
    "Seja $ f $ uma função real. Como $ \\Delta[f] $ é uma nova função, podemos\n",
    "aplicar o operador $ \\Delta $ a ela para obter sua __segunda diferença__:\n",
    "$$\n",
    "\\Delta^2[f](x) = \\Delta[\\Delta[f]](x) = \\Delta[f](x + h) - \\Delta[f](x)\\,.\n",
    "$$\n",
    "Esta notação remete àquela para a segunda derivada do Cálculo: $ \\frac{d^2}{dx^2} $.\n",
    "Mais geralmente, o $ r $**-ésimo operador de diferença** $ \\Delta^r $ é definido\n",
    "indutivamente por\n",
    "$$\n",
    "\\Delta^r[f] = \\Delta[\\Delta^{r - 1}[f]] \\qquad (r = 2,\\,3,\\, \\cdots)\\,.\n",
    "$$\n",
    "\n",
    "__Lema 5.1:__ _A $ n $-ésima diferença finita do monômio $ x^n $ é o polinômio\n",
    "constante igual a $ n! h^n $, e a sua $ (n + 1) $-ésima diferença finita é o\n",
    "polinômio nulo._\n",
    "\n",
    "__Prova:__ Por indução no grau $ n $. Se $ n = 0 $, o resultado é trivial.\n",
    "Assuma que as afirmações já tenham sido estabelecidas para monômios de grau\n",
    "$ \\le n - 1 $.  Pela fórmula binomial, \n",
    "$$\n",
    "(x + h)^n = \\sum_{k=0}^{n} \\binom{n}{k} x^{k}h^{n - k}\\,.\n",
    "$$\n",
    "Substituindo isto na expressão de $ \\Delta[x^n] $, obtemos:\n",
    "\\begin{aligned}\n",
    "\\Delta[x^n] = (x + h)^n - x^n &= \\sum_{k=0}^{n - 1} \\binom{n}{k} x^{k}h^{n - k} \\\\\n",
    "&= nhx^{n - 1} + \\text{(termos de grau $ < n - 1 $)}\\,.\n",
    "\\end{aligned}\n",
    "Portanto, aplicando $ \\Delta^{n - 1} $ e usando a hipótese de indução juntamente\n",
    "com a linearidade de $ \\Delta $, deduzimos que\n",
    "$$\n",
    "\\Delta^n[x^n] = \\Delta^{n - 1}\\big[\\Delta[x^n]\\big] =\n",
    "nh\\Delta^{n - 1}[x^{n - 1}] + 0 = nh \\big[(n - 1)!h^{n - 1}\\big] = n!h^n\\,,\n",
    "$$\n",
    "conforme afirmado. Como $ \\Delta $ de uma função constante é a função\n",
    "identicamente nula, deduzimos também que $ \\Delta^{n + 1}[x^n] \\equiv 0 $.  Isto\n",
    "completa a indução e a demonstração do Lema.\n",
    "\n",
    "<div style=\"text-align: right\">$ \\blacksquare $ </div>"
   ]
  },
  {
   "attachments": {},
   "cell_type": "markdown",
   "metadata": {},
   "source": [
    "__Corolário 5.2:__ _Seja_\n",
    "$$\n",
    "p(x) = a_nx^n + a_{n - 1}x^{n - 1} + \\cdots + a_1x + a_0\n",
    "$$\n",
    "_um polinômio de grau $ n $. Então $ \\Delta^n[p] $ é o polinômio constante\n",
    "igual a $ n!\\,a_nh^n $, enquanto $ \\Delta^{n + 1}[p] $ é o polinômio nulo._\n",
    "\n",
    "__Prova:__ Segue imediatamente do Lema 2.1 e da linearidade de $ \\Delta $.\n",
    "\n",
    "<div style=\"text-align: right\">$ \\blacksquare $ </div>"
   ]
  },
  {
   "attachments": {},
   "cell_type": "markdown",
   "metadata": {},
   "source": [
    "__Problema 8:__ Calcule todas as diferenças de $ f(x) = x^4 + 3x^3 - 2x^2 + 7x - 5 $ para $ h = 1 $."
   ]
  },
  {
   "attachments": {},
   "cell_type": "markdown",
   "metadata": {},
   "source": [
    "_Solução:_"
   ]
  },
  {
   "attachments": {},
   "cell_type": "markdown",
   "metadata": {},
   "source": [
    "__Problema 9:__ Sejam $ b > 0 $, $ f(x) = b^x $ e $ n \\in \\mathbb N $. Calcule\n",
    "$ \\Delta^nf(x) $.  _Dica:_ Primeiro refira-se ao Problema 1 para o cálculo de\n",
    "$ \\Delta f $."
   ]
  },
  {
   "attachments": {},
   "cell_type": "markdown",
   "metadata": {},
   "source": [
    "_Solução:_"
   ]
  },
  {
   "attachments": {},
   "cell_type": "markdown",
   "metadata": {},
   "source": [
    "__Problema 10:__ Calcule todas as diferenças repetidas de\n",
    "$ f(x) = x(x-1)(x-2)(x-3) = x^{\\underline{4}} $ para $ h = 1 $,\n",
    "diretamente e através da fórmula geral para $ \\Delta x^{\\underline{n}} $."
   ]
  },
  {
   "attachments": {},
   "cell_type": "markdown",
   "metadata": {},
   "source": [
    "_Solução:_"
   ]
  },
  {
   "attachments": {},
   "cell_type": "markdown",
   "metadata": {},
   "source": [
    "### $ \\S 6 $ A tabela de diferenças\n",
    "\n",
    "Vamos explicar como calcular as diferenças repetidas de tamanho de passo\n",
    "$ h \\ne 0 $ de uma função $ f(x) $ em pontos\n",
    "$$\n",
    "x_0 = a, \\quad x_1 = a + h, \\quad \\cdots, \\quad x_k = a + kh, \\quad x_N = a + Nh\\,.\n",
    "$$\n",
    "usando a chamada __tabela de diferenças__, em que a $ k $-ésima coluna contém\n",
    "as diferenças finitas de ordem $ k $.\n",
    "\n",
    "__Exemplo:__ Calcule as diferenças finitas de ordem $ 0 $ a $ 5 $ para a função\n",
    "$ f(x) = x^3 $, considerando $ x_0 = 0 $ e $ h = 1 $. Observe como cada entrada\n",
    "a partir da terceira coluna é a diferença entre duas entradas vizinhas da coluna\n",
    "anterior.\n",
    "\n",
    "_Solução:_\n",
    "\n",
    "|   $ x $  | $ f(x) $ | $ \\Delta f(x) $ | $ \\Delta^2 f(x) $ | $ \\Delta^3 f(x) $ |\n",
    "|----------|----------|----------------|------------------|------------------|\n",
    "| $ 0 $    | $ 0 $    | $ 1 $          | $ 6 $            | $ 6 $            |\n",
    "| $ 1 $    | $ 1 $    | $ 7 $          | $ 12 $           |                  |\n",
    "| $ 2 $    | $ 8 $    | $ 19 $         |                  |                  |\n",
    "| $ 3 $    | $ 27 $   |                |                  |                  |\n",
    "\n",
    "\n",
    "\n"
   ]
  },
  {
   "attachments": {},
   "cell_type": "markdown",
   "metadata": {},
   "source": []
  }
 ],
 "metadata": {
  "kernelspec": {
   "display_name": "Python 3",
   "language": "python",
   "name": "python3"
  },
  "language_info": {
   "codemirror_mode": {
    "name": "ipython",
    "version": 3
   },
   "file_extension": ".py",
   "mimetype": "text/x-python",
   "name": "python",
   "nbconvert_exporter": "python",
   "pygments_lexer": "ipython3",
   "version": "3.9.2"
  },
  "orig_nbformat": 4
 },
 "nbformat": 4,
 "nbformat_minor": 2
}
