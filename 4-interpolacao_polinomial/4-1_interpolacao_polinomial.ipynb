{
 "cells": [
  {
   "cell_type": "markdown",
   "id": "54141150",
   "metadata": {},
   "source": [
    "# Interpolação polinomial"
   ]
  },
  {
   "cell_type": "markdown",
   "id": "cf09f201",
   "metadata": {},
   "source": [
    "## $ \\S 1 $ Introdução\n",
    "\n",
    "É freqüente a situação em que temos uma tabela com alguns valores de uma função desconhecida $ f $ e precisamos \"ler entre as linhas\" da tabela para encontrar valores de $ f $ que não foram dados.\n",
    "\n",
    "**Exemplo 1:** Considere a tarefa de se encontrar a posição futura de um bloco que desliza sem atrito numa canaleta inclinada, e que teve sua rapidez medida em apenas dois instantes $ t_0 $ e $ t_1 $. A princípio, este problema não pode ser resolvido com as técnicas do curso de Cálculo, uma vez que não dispomos de uma *fórmula* para a função $ v(t) $ que descreve a rapidez do bloco. Como alternativa, podemos substituir $ v $ pelo único polinômio $ p $ de  grau $ 1 $ satisfazendo $ p(t_i) = v(t_i) $ $ (i=0, 1) $, e então integrar $ p $ para obter uma aproximação para a função posição.\n",
    "\n",
    "**Definição (interpolação):** **Interpolar** uma função significa estimar valores desconhecidos ou de difícil determinação a partir de valores conhecidos.\n",
    "\n",
    "📝 Uma minoria de autores prefere distingüir entre *interpolação* ou *extrapolação* conforme pretenda-se encontrar um valor desconhecido dentro ou fora do intervalo coberto pelos dados originais.\n",
    "\n",
    "A **interpolação polinomial** consiste do uso de um polinômio que satisfaça os dados iniciais para obter novos dados. Para construir este polinômio, os dados iniciais mais freqüentes são:\n",
    "* Valores de uma função em vários pontos (*polinômio de Lagrange*);\n",
    "* Valores das sucessivas derivadas de uma função num ponto (*polinômio de Taylor*);\n",
    "* Alguma combinação dos anteriores.\n",
    "\n",
    "Observe que polinômios são especialmente convenientes como funções aproximadoras por serem facilmente avaliados, diferenciados e integrados."
   ]
  },
  {
   "cell_type": "markdown",
   "id": "6741c3d4",
   "metadata": {},
   "source": [
    "## $ \\S 2 $ Interpolação polinomial usando valores da função\n",
    "\n",
    "### $ 2.1 $ Existência e unicidade do polinômio interpolador\n",
    "\n",
    "O resultado central diz que por $ N + 1 $ pontos compatíveis, podemos ajustar um único polinômio de grau $ \\le N $.\n",
    "\n",
    "**Teorema 2.1 (existência e unicidade do polinômio interpolador):** *Dados $ N + 1 $ pontos\n",
    "\\begin{equation*}\n",
    "(x_1, y_1)\\,,\\ (x_2, y_2)\\,,\\ \\dots\\,,\\ (x_{N + 1}, y_{N + 1})\\,,\n",
    "\\end{equation*}\n",
    "com $ x_i \\ne x_{j} $ para $ i \\ne j $, existe um único polinômio de grau $ \\le N $ que os interpola.*\n",
    "\n",
    "**Demonstração da unicidade:** Suponha que $ p $ e $ q $ sejam polinômios de grau $ \\le N $ cujos gráficos contêm os pontos dados. Então $ p - q $ é um polinômio de grau $ \\le N $ que possui ao menos $ N + 1 $ raízes: $ x_1, x_2, \\dots, x_{N + 1} $. O único polinômio com estas propriedades é o polinômio identicamente nulo, donde concluímos que $ p = q $.\n",
    "\n",
    "**Demonstração da existência:** Seja\n",
    "$$\n",
    "p(x) = a_0 + a_1 x + a_2x^2 + \\cdots + a_nx^N = \\sum_{k=1}^N a_kx^k\n",
    "$$\n",
    "o polinômio procurado. Temos:\n",
    "* $ N + 1 $ coeficientes indeterminados $ a_0, a_1, \\dots, a_N $;\n",
    "* $ N + 1 $ condições a serem satisfeitas, a saber: $ p(x_i) = y_i $ para $ i=1, \\dots, N + 1 $.\n",
    "\n",
    "Isto dá origem ao sistema de $ N + 1 $ equações\n",
    "$$\n",
    "\\begin{cases}\n",
    "a_0 &+& a_1x_1 &+& a_2x_1^2 &+& \\cdots &+& a_Nx_1^N &= y_1\\\\\n",
    "a_0 &+& a_1x_2 &+& a_2x_2^2 &+& \\cdots &+& a_Nx_2^N &= y_2\\\\\n",
    "\\ \\vdots &&\\ \\ \\vdots &&\\ \\ \\vdots && \\cdots &&\\ \\ \\vdots &\\quad \\vdots \\\\\n",
    "a_0 &+& a_1x_{N+1} &+& a_2x_{N+1}^2 &+& \\cdots &+& a_Nx_{N+1}^N &= y_{N+1}\n",
    "\\end{cases}\n",
    "$$\n",
    "ou, em forma matricial,\n",
    "\\begin{equation*}\n",
    "\\begin{bmatrix}\n",
    "1 & x_1 & x_1^2 & \\cdots & x_1^N \\\\\n",
    "1 & x_2 & x_2^2 & \\cdots & x_2^N \\\\\n",
    "\\vdots & \\vdots & \\vdots & \\cdots & \\vdots \\\\\n",
    "1 & x_{N+1} & x_{N+1}^2 & \\cdots & x_{N+1}^N \n",
    "\\end{bmatrix}\n",
    "\\begin{bmatrix}\n",
    "a_0 \\\\\n",
    "a_1 \\\\\n",
    "\\vdots \\\\\n",
    "a_N\n",
    "\\end{bmatrix}=\n",
    "\\begin{bmatrix}\n",
    "y_0 \\\\\n",
    "y_1 \\\\\n",
    "\\vdots \\\\\n",
    "y_N\n",
    "\\end{bmatrix}\n",
    "\\end{equation*}\n",
    "Observe que este é um sistema *linear*. As indeterminadas são os $ a_k $, e não as potências dos $ x_k $, que são conhecidas ou podem ser calculadas facilmente.\n",
    "\n",
    "Há pelo menos dois caminhos para se mostrar que este sistema tem uma solução. O primeiro é exibi-la diretamente, o que faremos na $ \\S 4 $. O segundo consiste em mostrar que a matriz $ (N + 1) \\times (N + 1) $ à esquerda é invertível; isto também dá uma nova demonstração da unicidade.\n",
    "\n",
    "O determinante desta matriz é chamado de **determinante de Vandermonde**:\n",
    "$$\n",
    "V = \n",
    "\\begin{vmatrix}\n",
    "1 & x_1 & x_1^2 & \\cdots & x_1^N \\\\\n",
    "1 & x_2 & x_2^2 & \\cdots & x_2^N \\\\\n",
    "\\vdots & \\vdots & \\vdots & \\cdots & \\vdots \\\\\n",
    "1 & x_{N+1} & x_{N+1}^2 & \\cdots & x_{N+1}^N \n",
    "\\end{vmatrix} = \\lvert x_i^j \\rvert \\qquad (i=1,\\dots,N+1,\\ j = 0,\\dots,N).\n",
    "$$\n",
    "Mostraremos na $ \\S 5 $ que ele é não-nulo desde que $ x_i \\ne x_{i'} $ para quaisquer $ i \\ne i' $. Portanto o sistema linear tem uma única solução $ (a_0,a_1,\\dots,a_N) $. Estes são os coeficientes do polinômio $ p $ procurado.\n",
    "<div style=\"text-align: right\">$ \\blacksquare $ </div>"
   ]
  },
  {
   "cell_type": "markdown",
   "id": "7d384c97",
   "metadata": {},
   "source": [
    "### $ 2.2 $ **Observações:** \n",
    "\n",
    "📝 Na situação do teorema, se $ y_i = f(x_i) $ para uma função $ f $, dizemos também que $ p $ **interpola $ f $ nos pontos $ x_i $**.\n",
    "\n",
    "⚠️ O teorema *não* afirma que existe apenas um polinômio que se ajuste aos dados; ele garante apenas que existe um único polinômio *de grau $ \\le N $*. De fato, sem esta restrição sobre o grau, podemos obter infinitas soluções, bastando para isto somar ao polinômio mencionado no enunciado um polinômio qualquer que se anule em $ x_1,\\,x_2,\\, \\dots,\\,x_{N + 1} $. Note que como os $ x_i $ são mutuamente distintos por hipótese, qualquer polinômio que se anule em todos eles deve ter grau pelo menos $ N + 1 $.\n",
    "\n",
    "📝 Para aplicação do teorema, não há problema que $ y_i = y_{j} $ para algum par $ i \\ne j $. Por outro lado, uma função não pode assumir dois valores diferentes num mesmo elemento do seu domínio. Portanto, se $ x_i = x_{j} $ para alguns $ i \\ne j $, então não existe um polinômio que se ajuste aos dados, a não ser que também ocorra $ y_i = y_{j} $, caso em que a lista dos dados iniciais conteria repetições.\n",
    "\n",
    "📝 O grau do polinômio interpolador será \"quase sempre\" exatamente igual a $ N $. Contudo, em casos excepcionais ele poderá ser menor. Por exemplo:\n",
    "* Para $ N = 1 $, o polinômio interpolador terá grau $ 0 $ se e somente se $ y_0 = y_1 $;\n",
    "* Para $ N = 2 $, o polinômio interpolador terá grau $ < 2 $ se e somente se os três pontos $ (x_1, y_1) $, $ (x_2, y_2) $ e $ (x_3, y_3) $ forem colineares.\n",
    "\n",
    "📝 A maioria dos métodos numéricos de integração é baseada na interpolação polinomial. A idéia é simples: Dada uma função $ f \\colon [a, b] \\to \\mathbb R $ cuja integral se queira calcular, subdividimos $ [a, b] $ em alguns subintervalos e, em cada um deles,  aproximamos $ f $ por um polinômio interpolador de grau fixo (que varia conforme o método). Finalmente, tomamos a soma das integrais destes polinômios, que são facilmente calculadas."
   ]
  },
  {
   "cell_type": "markdown",
   "id": "be29f17f",
   "metadata": {},
   "source": [
    "## $ \\S 3 $ Problemas"
   ]
  },
  {
   "cell_type": "markdown",
   "id": "f5dc1e3b",
   "metadata": {},
   "source": [
    "**Problema 1:**\n",
    "\n",
    "(a) Sem usar o computador, encontre o polinômio $ p $ de menor grau possível que se ajuste aos dados:\n",
    "\n",
    "|$x$|$y$|\n",
    "|---|---|\n",
    "|$0$|$2$|\n",
    "|$1$|$2$|\n",
    "|$2$|$0$|\n",
    "|$3$|$0$|\n",
    "\n",
    "(b) Exiba um outro polinômio $ q $ que se ajusta a estes dados. É possível tomar $ q $ de mesmo grau que o de $ p $?\n",
    "\n",
    "(c) Esboce o gráfico deste polinômio usando Python.\n",
    "\n",
    "(d) Encontre $ p(4) $."
   ]
  },
  {
   "cell_type": "code",
   "execution_count": 4,
   "id": "5d1425af",
   "metadata": {},
   "outputs": [
    {
     "data": {
      "image/png": "[encoded data removed]",
      "text/plain": [
       "<Figure size 640x480 with 1 Axes>"
      ]
     },
     "metadata": {},
     "output_type": "display_data"
    },
    {
     "name": "stdout",
     "output_type": "stream",
     "text": [
      "O valor de p em x = 4 é: 6.0\n"
     ]
    }
   ],
   "source": [
    "import matplotlib.pyplot as plt\n",
    "import numpy as np\n",
    "\n",
    "\n",
    "def p(x):\n",
    "    return 2 + (7 / 3) * x - 3 * x**2 + (2 / 3) * x**3\n",
    "\n",
    "xs = [0, 1, 2, 3]\n",
    "ys = [2, 2, 0, 0]\n",
    "\n",
    "x_grid = np.linspace(-0.2, 4.2, num=50)\n",
    "plt.plot(xs, ys, '.', x_grid, p(x_grid),'-')\n",
    "plt.grid()\n",
    "plt.show()\n",
    "\n",
    "print(\"O valor de p em x = 4 é:\", p(4))"
   ]
  },
  {
   "cell_type": "markdown",
   "id": "d0e60450",
   "metadata": {},
   "source": [
    "**Problema 2:** Usando Python:\n",
    "\n",
    "(a) Encontre o polinômio interpolador (de menor grau) para $ y = \\log_{10} x $ e $ x = 1, 2, 3, 4 $.\n",
    "\n",
    "(c) Esboce o gráfico deste polinômio juntamente com o gráfico de  $ \\log_{10} x $."
   ]
  },
  {
   "cell_type": "code",
   "execution_count": 6,
   "id": "ec64fdaa",
   "metadata": {
    "scrolled": true
   },
   "outputs": [
    {
     "name": "stdout",
     "output_type": "stream",
     "text": [
      "[[ 1  1  1  1]\n",
      " [ 1  2  4  8]\n",
      " [ 1  3  9 27]\n",
      " [ 1  4 16 64]]\n",
      "[0.0, 0.3010299956639812, 0.47712125471966244, 0.6020599913279624]\n",
      "[-0.49975495  0.62371283 -0.13625558  0.0122977 ]\n"
     ]
    },
    {
     "data": {
      "image/png": "[encoded data removed]",
      "text/plain": [
       "<Figure size 640x480 with 1 Axes>"
      ]
     },
     "metadata": {},
     "output_type": "display_data"
    }
   ],
   "source": [
    "import numpy as np\n",
    "import matplotlib.pyplot as plt\n",
    "\n",
    "\n",
    "N = 3\n",
    "xs = [1, 2, 3, 4]\n",
    "ys = [np.log10(x) for x in xs]\n",
    "A = np.array([xs[i]**j for i in range(N + 1) for j in range(N + 1)])\n",
    "A = A.reshape(N + 1, N + 1)\n",
    "\n",
    "print(A)\n",
    "print(ys)\n",
    "cs = np.linalg.solve(A, ys)\n",
    "print(cs)\n",
    "\n",
    "def p(x):\n",
    "    return sum(cs[i] * x**i for i in range(N + 1))\n",
    "\n",
    "x_grid = np.linspace(0.8, 5.2, num=50)\n",
    "plt.plot(xs, ys, 'ro')\n",
    "plt.plot(x_grid, p(x_grid), '-')\n",
    "plt.plot(x_grid, np.log10(x_grid), '--')\n",
    "plt.grid()\n",
    "plt.show()\n",
    "\n"
   ]
  },
  {
   "cell_type": "markdown",
   "id": "a8949d37",
   "metadata": {},
   "source": [
    "**Problema 3:** Usando interpolação polinomial *linear*, aproxime $ \\cos(73.5^{\\circ}) $ usando os valores tabelados seguintes:\n",
    "\n",
    "(a) $ \\cos(70^\\circ) = 0.34202 $ e $ \\cos(80^\\circ) = 0.17365 $;\n",
    "\n",
    "(b) $ \\cos(73^\\circ) = 0.29237 $ e  $ \\cos(74^\\circ) = 0.27564 $.\n",
    "\n",
    "Os resultados obtidos servem para ilustrar que em geral a interpolação linear é adequada apenas sobre intervalos pequenos."
   ]
  },
  {
   "cell_type": "markdown",
   "id": "cc3f7972",
   "metadata": {},
   "source": [
    "**Problema 4:** É dada a tabela seguinte dos valores de uma função desconhecida $ f $:\n",
    "\n",
    "|$x$ |$f(x)$|\n",
    "|----| ---- |\n",
    "|$-1$| $-1$ |\n",
    "|$2$ | $-4$ |\n",
    "|$4$ | $4$  |\n",
    "\n",
    "(a) Encontre o polinômio de menor grau possível que se ajusta a estes dados.\n",
    "\n",
    "(b) Utilize-o para aproximar o zero de $ f $ no intervalo $ [-1, 4] $.\n",
    "\n",
    "(c) Utilize-o para estimar $ \\int_{-1}^4 f(x)\\,dx $."
   ]
  },
  {
   "cell_type": "markdown",
   "id": "6d7cd5fa",
   "metadata": {},
   "source": [
    "## $ \\S 4 $ Fórmula de Lagrange para o polinômio interpolador\n",
    "\n",
    "Seja\n",
    "$$\n",
    "\\pi_i(x) = (x - x_1)(x - x_2) \\cdots \\widehat{(x - x_i)} \\cdots (x - x_{N+1}) \\qquad (i = 1, 2, \\dots, N + 1).\n",
    "$$\n",
    "\n",
    "📝 A notação $ \\widehat{a} $ indica que o termo $ a $ deve ser *omitido*. Portanto, $\\pi_i(x) $  é o produto de todos os fatores da forma $ x-x_j $ para $ j = 1, 2, \\dots, N + 1 $ exceto para $ j = i $.\n",
    "\n",
    "Verifica-se diretamente que $ \\pi_i $ é um polinômio de grau $ N $ que se anula em todos os $ x_j $, exceto em $ x_i $:\n",
    "$$\n",
    "\\pi_i(x_j) = 0 \\text{ se $i \\ne j$},\\ \\ \\text{enquanto }\\pi_i(x_i) \\ne 0.\n",
    "$$\n",
    "Dividindo por $ \\pi_i(x_i) $, conseguimos garantir que o valor em $ x = x_i $ seja exatamente $ 1 $. Finalmente,\n",
    "\n",
    "\\begin{equation*}\n",
    "    \\boxed{p(x) = \\sum_{i=1}^{N + 1} y_i\\frac{\\pi_i(x)}{\\pi_i(x_i)} = \\sum_{i=1}^{N+1}y_i \\frac{(x - x_1) \\cdots \\widehat{(x - x_i)} \\cdots (x - x_{N+1})}{(x_i - x_1) \\cdots \\widehat{(x_i - x_i)} \\cdots (x_i - x_{N+1}) }}\n",
    "\\end{equation*}\n",
    "\n",
    "tem grau $ \\le N $ e assume o valor $ y_i $ em $ x = x_i $ para cada $ i = 1, 2, \\dots, N + 1 $. Portanto este é o polinômio do Teorema 2.1.\n",
    "\n",
    "Esta é a chamada **fórmula de Lagrange** (Joseph-Louis Lagrange, 1736—1813) para o polinômio que interpola os dados \n",
    "$$\n",
    "(x_1, y_1)\\,,\\ (x_2, y_2)\\,,\\ \\dots\\,,\\ (x_{N + 1}, y_{N + 1}) \\qquad ( x_i \\ne x_{j}  \\text{ para } i \\ne j )\n",
    "$$\n",
    "e o polinômio $ p $ também é conhecido como **polinômio (interpolador) de Lagrange**."
   ]
  },
  {
   "cell_type": "markdown",
   "id": "c7ca9067",
   "metadata": {},
   "source": [
    "**Problema 3:**\n",
    "\n",
    "(a) Use a fórmula de Lagrange para encontrar o polinômio de Lagrange que se ajusta aos pontos $ (0, 1) $, $ (1, 0) $, $ (2, 1) $ e $ (3, 0) $.\n",
    "\n",
    "(c) Esboce o gráfico deste polinômio."
   ]
  },
  {
   "cell_type": "markdown",
   "id": "42d0c54e",
   "metadata": {},
   "source": [
    "## $ \\S 5 $ O determinante de Vandermonde\n",
    "\n",
    "**Teorema (fórmula para o determinante de Vandermonde):** *Seja $ V $ o determinante de Vandermonde em $ N + 1 $ elementos $ x_i $:\n",
    "$$\n",
    "V = \\begin{vmatrix}\n",
    "1 & x_1 & x_1^2 & \\cdots & x_1^N \\\\\n",
    "1 & x_2 & x_2^2 & \\cdots & x_2^N \\\\\n",
    "\\vdots & \\vdots & \\vdots & \\cdots & \\vdots \\\\\n",
    "1 & x_{N+1} & x_{N+1}^2 & \\cdots & x_{N+1}^N \n",
    "\\end{vmatrix} = \\lvert x_i^j \\rvert \\qquad (i=1,\\dots,N+1,\\ j = 0,\\dots,N)\n",
    "$$\n",
    "Então\n",
    "$$\n",
    "\\boxed{V = \\prod_{i>j=1}^{N+1}(x_i-x_j)}\n",
    "$$\n",
    "Em particular, $ V \\ne 0 $ se e somente se $ x_i \\ne x_j $ para todos $ i \\ne j $.*\n",
    "\n",
    "**Demonstração:** Considere $ V = V(x_1,x_2,\\dots,x_{N+1}) $ como uma função das variáveis $ x_i $. Claramente, $ V $ é um polinômio em $ x_1, x_2, \\dots, x_{N + 1} $. Contando os expoentes, vemos que seu grau é\n",
    "$$\n",
    "0 + 1 + 2 + \\dots + N = \\frac{N(N + 1)}{2}.\n",
    "$$\n",
    "Além disto, se $ x_{N+1} = x_1 $, então a primeira e última linha coincidem, logo $ V = 0 $. Segue que $ V $ tem $ x_{N + 1} - x_1 $ como fator. Mais geralmente, se $ x_i = x_j $ para $ i > j $, então $ V $ se anula, pois neste caso a $ i $-ésima e $ j $-ésima linha são idênticas. Daí deduzimos que $ x_i - x_j $ é fator de $ V $ para quaisquer $ i > j $. Seja\n",
    "$$\n",
    "P = \\prod_{i>j=1}^{N + 1} (x_i-x_j).\n",
    "$$\n",
    "Então $ P $ também é um polinômio, de grau \n",
    "$$\n",
    "N + (N - 1) + \\dots + 2 + 1 = \\frac{N(N+1)}{2}.\n",
    "$$\n",
    "Como $ P $ divide $ V $, mas ao mesmo tempo eles têm o mesmo grau, deduzimos que eles diferem apenas por uma constante multiplicativa. Para encontrá-la, basta comparar o mesmo termo em ambas representações. O termo diagonal do determinante é\n",
    "$$ 1 \\cdot x_2 \\cdot x_3^2 \\cdots x_{N+1}^N .$$\n",
    "O produto de todos os termos à esquerda na expressão para $ P $ é\n",
    "$$ x_{N+1}^N \\cdot x_N^{N-1} \\cdots x_2. $$\n",
    "Como eles coincidem, concluímos que $ V = P $:\n",
    "$$\n",
    "V(x_1,x_2,\\dots,x_{N+1}) = \\left\\vert x_i^j \\right\\vert = \\prod_{i>j=1}^{N + 1} (x_i-x_j) \\tag*{$ \\blacksquare $}\n",
    "$$\n"
   ]
  },
  {
   "cell_type": "markdown",
   "id": "e9ad6618",
   "metadata": {},
   "source": [
    "## $ \\S 6 $ Análise do erro na interpolação polinomial\n",
    "Dadas uma função $ f \\colon [a, b] \\to \\mathbb R $ e uma amostra de $ N + 1 $ pontos $ (x_i, y_i) $ com $ y_i = f(x_i) $, vimos como encontrar o único polinômio $ p $ de grau $ \\le N $ passando por eles. Obteremos nesta seção uma expressão para o **erro**\n",
    "$$ E(x) = f(x) - p(x) $$\n",
    "cometido ao se aproximar $ f $ por $ p $ num ponto $ x \\in [a, b] $ qualquer. Precisaremos supor que $ f $ é $ N + 1 $ vezes diferenciável.\n",
    "\n",
    "Observe primeiramente que, como $ f $ e $ p $ assumem os mesmos valores nos $ x_i $, sua diferença se anula aí, logo podemos escrever\n",
    "\\begin{equation*}\n",
    "f(x) - p(x) = (x -x_1)(x - x_2) \\cdots (x - x_{N + 1})g(x)\n",
    "\\end{equation*}\n",
    "para uma função $ g $ adequada. Isto segue de uma aplicação repetida do teorema de Taylor.\n",
    "\n",
    "Agora seja $ x^\\ast \\in [a, b] $ um ponto arbitrário. Temos:\n",
    "\\begin{equation*}\n",
    "f(x^\\ast) - p(x^\\ast) = (x^\\ast -x_1)(x^\\ast - x_2) \\cdots (x^\\ast - x_{N + 1})g(x^\\ast).\n",
    "\\end{equation*}\n",
    "Considere a função\n",
    "\\begin{equation*}\n",
    "\\varphi(x) = f(x) - p(x) - (x -x_1)(x - x_2) \\cdots (x - x_{N + 1})g(x^\\ast).\n",
    "\\end{equation*}\n",
    "Então:\n",
    "* $ \\varphi $ se anula em $ N + 2 $ pontos $ x_1, x_2, \\dots, x_{N+1} $ e $ x^\\ast $.\n",
    "* Logo $ \\varphi' $ se anula em $ N + 1 $ pontos, pelo teorema do valor médio.\n",
    "* Logo $ \\varphi'' $ se anula em $ N $ pontos, pelo teorema do valor médio; e assim por diante.\n",
    "* Em geral, $ \\varphi^{(k)} $ se anula em (pelo menos) $ N + 2 - k $ pontos, para cada $ k = 0, 1, \\dots, N + 1 $.\n",
    "\n",
    "Em particular, $ \\varphi^{(N + 1)} $ possui ao menos um zero $ \\bar x $. Por outro lado, como $ p $ tem grau $ \\le N $, $ p^{(N + 1)} \\equiv 0 $, logo\n",
    "\\begin{equation*}\n",
    "0 = \\varphi^{(N+1)}(\\bar x) = f^{(N+1)}(\\bar x) - (N+1)!g(x^\\ast).\n",
    "\\end{equation*}\n",
    "Concluímos que\n",
    "\\begin{equation*}\n",
    "g(x^\\ast) = \\frac{f^{(N+1)}(\\bar x)}{(N+1)!}.\n",
    "\\end{equation*}\n",
    "Substituindo isto na expressão para $ f(x^\\ast) - p(x^\\ast) $ e lembrando que $ x^\\ast $ é arbitrário, deduzimos o seguinte resultado.\n",
    "\n",
    "**Teorema 6.1 (fórmula para o erro na interpolação polinomial):** *Seja $ f \\colon [a, b] \\to \\mathbb R $ uma função $ N + 1 $ vezes diferenciável e seja $ p $ o único polinômio de grau $ \\le N $ que interpola $ f $ em $ x=x_1,x_2,\\dots,x_{N + 1} \\in [a, b] $. Então\n",
    "\\begin{equation}\\label{E:Taylor5}\n",
    "\\boxed{f(x) = p(x) + (x - x_1)(x - x_2) \\cdots (x - x_{N+1})\\frac{f^{(N+1)}(\\bar x)}{(N+1)!}}\n",
    "\\end{equation}\n",
    "para algum $ \\bar x $, que depende de $ x $, no menor intervalo contendo todos os $ x_i $ e $ x $.*\n",
    "\n",
    "**Corolário:** *Seja $ f \\colon [a, b] \\to \\mathbb R $ uma função $ N + 1 $ vezes diferenciável e seja $ p $ o único polinômio de grau $ \\le N $ que interpola $ f $ em $ x=x_1,x_2,\\dots,x_{N + 1} \\in [a, b] $. Então o erro $ E(x) = f(x) - p(x) $ satisfaz:\n",
    "$$\n",
    "\\vert E(x) \\vert \\le \\vert x - x_1\\vert \\vert x - x_2 \\vert \\cdots \\vert x - x_{N+1}\\vert \\frac{\\max_{[a,b]}\\big\\vert f^{(N+1)} \\big\\vert}{(N+1)!} \\tag*{ $\\blacksquare $}\n",
    "$$*"
   ]
  }
 ],
 "metadata": {
  "kernelspec": {
   "display_name": "Python 3 (ipykernel)",
   "language": "python",
   "name": "python3"
  },
  "language_info": {
   "codemirror_mode": {
    "name": "ipython",
    "version": 3
   },
   "file_extension": ".py",
   "mimetype": "text/x-python",
   "name": "python",
   "nbconvert_exporter": "python",
   "pygments_lexer": "ipython3",
   "version": "3.9.13"
  }
 },
 "nbformat": 4,
 "nbformat_minor": 5
}
