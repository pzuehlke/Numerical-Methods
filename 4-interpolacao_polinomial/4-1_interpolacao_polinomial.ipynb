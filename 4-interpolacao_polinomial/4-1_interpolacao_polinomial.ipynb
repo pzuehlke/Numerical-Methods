{
 "cells": [
  {
   "attachments": {},
   "cell_type": "markdown",
   "id": "54141150",
   "metadata": {},
   "source": [
    "# Interpolação polinomial"
   ]
  },
  {
   "attachments": {},
   "cell_type": "markdown",
   "id": "cf09f201",
   "metadata": {},
   "source": [
    "## $ \\S 1 $ Introdução\n",
    "\n",
    "É freqüente a situação em que temos uma tabela com alguns valores de uma função\n",
    "desconhecida e precisamos \"ler entre as linhas\" da tabela para encontrar valores\n",
    "de que não foram dados.\n",
    "\n",
    "__Definição (interpolação):__ __Interpolar__ significa estimar valores\n",
    "desconhecidos ou de difícil determinação através de uma função que satisfaça\n",
    "um conjunto conhecido de dados.\n",
    "\n",
    "📝 Uma minoria de autores prefere distingüir entre _interpolação_ ou\n",
    "_extrapolação_ conforme pretenda-se encontrar um valor desconhecido dentro ou\n",
    "fora do intervalo coberto pelos dados originais, respectivamente.\n",
    "\n",
    "A __interpolação polinomial__ consiste do uso de um polinômio que satisfaça os\n",
    "dados iniciais para obter novos dados. Para construir este polinômio, os dados\n",
    "iniciais mais freqüentes são:\n",
    "* Valores de uma função em vários pontos (_interpolação de Lagrange,\n",
    "  interpolação por diferenças divididas de Newton_);\n",
    "* Valores das sucessivas derivadas de uma função num único ponto (_polinômio de Taylor_);\n",
    "* Valores da função e de suas derivadas em vários pontos (_interpolação de Hermite_).\n",
    "\n",
    "Observe que polinômios são especialmente convenientes como funções aproximadoras por serem facilmente avaliados, diferenciados e integrados.\n",
    "\n",
    "![Diferença entre ajuste e interpolação](fig_4-1_ajuste_vs_interpolacao.png\n",
    "\"Diferença entre ajuste e interpolação\")"
   ]
  },
  {
   "attachments": {},
   "cell_type": "markdown",
   "id": "0aef664c",
   "metadata": {},
   "source": [
    "__Exemplo 1 (calibração de sensores:)__ Considere um sensor (como um termopar ou\n",
    "um sensor de pressão) que converte uma medição física em um sinal elétrico.\n",
    "Durante a calibração do sensor, medimos a saída do sensor (tensão)\n",
    "para diferentes valores conhecidos da variável física (temperatura, pressão,\n",
    "etc.). Contudo, a relação entre estas duas quantidades pode ser não-linear e\n",
    "desconhecida. Neste caso, podemos interpolar um polinômio por alguns pontos de\n",
    "calibração. Daí em diante este polinômio pode ser utilizado para converter as\n",
    "leituras do sensor nos valores aproximados das quantidades físicas\n",
    "correspondentes.\n",
    "\n",
    "__Exemplo 2 (interpolação de cores em imagens digitais):__ Em computação\n",
    "gráfica, uma imagem digital é formada por _pixels_, cada um com um valor de cor.\n",
    "Ao se aplicar uma transformação a uma imagem (e.g., rotação ou\n",
    "redimensionamento), uma abordagem comum em software de processamento de imagens\n",
    "é usar a chamada _interpolação bicúbica_, que é uma forma de interpolação\n",
    "polinomial de ordem 3, para estimar os valores de cor dos novos pixels com base\n",
    "naqueles de pixels vizinhos.  \n",
    "\n",
    "__Exemplo 3 (estimativas de propriedades termodinâmicas):__ Considere uma\n",
    "turbina a vapor operando a uma pressão de constante.  Para determinar as\n",
    "propriedades do vapor (por exemplo, entalpia, capacidade térmica específica ou\n",
    "entropia) nas condições de operação da turbina, podemos utilizar interpolação\n",
    "polinomial para estimar valores desconhecidos a partir de alguns outros\n",
    "previamente medidos e tabelados. "
   ]
  },
  {
   "attachments": {},
   "cell_type": "markdown",
   "id": "6741c3d4",
   "metadata": {},
   "source": [
    "## $ \\S 2 $ Existência e unicidade do polinômio interpolador\n",
    "\n",
    "Resumidamente, o resultado central diz que podemos interpolar $ N + 1 $ pontos por\n",
    "um único polinômio de grau $ \\le N $.\n",
    "\n",
    "__Teorema 2.1 (existência e unicidade do polinômio interpolador):__ _Dados $ N + 1 $ pontos\n",
    "\\begin{equation*}\n",
    "(x_1, y_1)\\,,\\ (x_2, y_2)\\,,\\ \\dots\\,,\\ (x_{N + 1}, y_{N + 1})\\,,\n",
    "\\end{equation*}\n",
    "com $ x_i \\ne x_{j} $ para $ i \\ne j $, existe um único polinômio de grau $ \\le N $ que os interpola._\n",
    "\n",
    "Na situação do teorema, se $ y_i = f(x_i) $ para uma função $ f $, dizemos\n",
    "também que $ p $ **interpola $ f $ nos pontos $ x_i $**.\n",
    "\n",
    "⚠️ O teorema *não* afirma que existe apenas um polinômio que se ajuste aos\n",
    "dados; ele garante apenas que existe um único polinômio *de grau $ \\le N $*. De\n",
    "fato, sem esta restrição sobre o grau, podemos obter infinitas soluções,\n",
    "bastando para isto somar ao polinômio mencionado no enunciado um polinômio\n",
    "qualquer que se anule em $ x_1,\\,x_2,\\, \\dots,\\,x_{N + 1} $. Note que como os\n",
    "$ x_i $ são mutuamente distintos por hipótese, qualquer polinômio que se anule em\n",
    "todos eles deve ter grau pelo menos $ N + 1 $.\n",
    "\n",
    "Antes de demonstrarmos o Teorema, consideremos dois exemplos simples. Mais tarde estudaremos\n",
    "métodos mais eficientes para efetivamente _encontrar_ o polinômio interpolador ao qual\n",
    "o Teorema se refere.\n",
    "\n",
    "__Exemplo 4:__ Determine o polinômio interpolador de grau $ \\le 1 $ que passa pelos\n",
    "pontos $ (1, 3) $ e $ (2, 5) $.\n",
    "\n",
    "_Solução:_ Seja $ p(x) = a_0 + a_1 x $ este polinômio. Substituindo os valores\n",
    "dados, deduzimos que os coeficientes devem satisfazer o seguinte sistema de\n",
    "equações lineares:\n",
    "$$\n",
    "\\begin{cases}\n",
    "  a_0 + a_1 &= 3 \\\\\n",
    "  a_0 + 2a_1 &= 5\n",
    "\\end{cases}\n",
    "$$\n",
    "Resolvendo o sistema, encontramos que $ a_0 = 1 $ e $ a_1 = 2 $. Portanto o\n",
    "polinômio procurado é $ p(x) = 1 + 2x $.\n",
    "\n",
    "![Exemplo 4](fig_4-1_exemplo_4.png \"Exemplo 4\")"
   ]
  },
  {
   "attachments": {},
   "cell_type": "markdown",
   "id": "980db403",
   "metadata": {},
   "source": [
    "📝 Como ilustrado pelo exemplo seguinte, para aplicação do teorema, não há\n",
    "problema que $ y_i = y_{j} $ para algum par $ i \\ne j $. Por outro lado, uma\n",
    "função não pode assumir dois valores diferentes num mesmo elemento do seu\n",
    "domínio. Portanto, se $ x_i = x_{j} $ para alguns $ i \\ne j $, então não existe\n",
    "um polinômio que se ajuste aos dados, a não ser que também ocorra\n",
    "$ y_i = y_{j} $, caso em que a lista dos dados iniciais conteria repetições.\n",
    "\n",
    "__Exemplo 5:__ Determine o único polinômio de grau $ \\le 2 $ que passa pelos\n",
    "pontos $ (0, 1) $, $ (1, 1) $ e $ (2, 3) $.\n",
    "\n",
    "_Solução:_\n",
    "Seja $ q(x) = b_0 + b_1 x + b_2 x^2 $ este polinômio. Substituindo os pontos\n",
    "dados, obtemos o seguinte sistema de equações lineares:\n",
    "$$\n",
    "\\begin{cases}\n",
    "  b_0 &= 1 \\\\\n",
    "  b_0 + b_1 + b_2 &= 1 \\\\\n",
    "  b_0 + 2 b_1 + 4 b_2  &= 3\n",
    "\\end{cases}\n",
    "$$\n",
    "Resolvendo o sistema usando eliminação Gaussiana, encontramos\n",
    "$ b_0 = 1 $, $ b_1 = -1 $ e $ b_2 = 1 $.  Portanto\n",
    "$$\n",
    "q(x) = 1 - x + x^2\\,.\n",
    "$$\n",
    "\n",
    "![Exemplo 5](fig_4-1_exemplo_5.png \"Exemplo 5\")"
   ]
  },
  {
   "attachments": {},
   "cell_type": "markdown",
   "id": "448af42f",
   "metadata": {},
   "source": [
    "\n",
    "__Demonstração da unicidade (Teorema 2.1):__ Suponha que $ p $ e $ q $ sejam polinômios de grau $ \\le N $ cujos gráficos contêm os pontos dados. Então $ p - q $ é um polinômio de grau $ \\le N $ que possui ao menos $ N + 1 $ raízes: $ x_1, x_2, \\dots, x_{N + 1} $. O único polinômio com estas propriedades é o polinômio identicamente nulo, donde concluímos que $ p = q $.\n",
    "\n",
    "__Demonstração da existência (Teorema 2.1):__ Seja\n",
    "$$\n",
    "p(x) = a_0 + a_1 x + a_2x^2 + \\cdots + a_nx^N = \\sum_{k=1}^N a_kx^k\n",
    "$$\n",
    "o polinômio procurado. Temos:\n",
    "* $ N + 1 $ coeficientes indeterminados $ a_0, a_1, \\dots, a_N $;\n",
    "* $ N + 1 $ condições a serem satisfeitas, a saber: $ p(x_i) = y_i $ para $ i=1, \\dots, N + 1 $.\n",
    "\n",
    "Isto dá origem ao sistema de $ N + 1 $ equações\n",
    "$$\n",
    "\\begin{cases}\n",
    "a_0 &+& a_1x_1 &+& a_2x_1^2 &+& \\cdots &+& a_Nx_1^N &= y_1\\\\\n",
    "a_0 &+& a_1x_2 &+& a_2x_2^2 &+& \\cdots &+& a_Nx_2^N &= y_2\\\\\n",
    "\\ \\vdots &&\\ \\ \\vdots &&\\ \\ \\vdots && \\cdots &&\\ \\ \\vdots &\\quad \\vdots \\\\\n",
    "a_0 &+& a_1x_{N+1} &+& a_2x_{N+1}^2 &+& \\cdots &+& a_Nx_{N+1}^N &= y_{N+1}\n",
    "\\end{cases}\n",
    "$$\n",
    "ou, em forma matricial,\n",
    "\\begin{equation*}\n",
    "\\begin{bmatrix}\n",
    "1 & x_1 & x_1^2 & \\cdots & x_1^N \\\\\n",
    "1 & x_2 & x_2^2 & \\cdots & x_2^N \\\\\n",
    "\\vdots & \\vdots & \\vdots & \\cdots & \\vdots \\\\\n",
    "1 & x_{N+1} & x_{N+1}^2 & \\cdots & x_{N+1}^N \n",
    "\\end{bmatrix}\n",
    "\\begin{bmatrix}\n",
    "a_0 \\\\\n",
    "a_1 \\\\\n",
    "\\vdots \\\\\n",
    "a_N\n",
    "\\end{bmatrix}=\n",
    "\\begin{bmatrix}\n",
    "y_0 \\\\\n",
    "y_1 \\\\\n",
    "\\vdots \\\\\n",
    "y_N\n",
    "\\end{bmatrix}\n",
    "\\end{equation*}\n",
    "Observe que este é um sistema _linear_. As indeterminadas são os $ a_k $, e não\n",
    "as potências dos $ x_k $, que são conhecidas ou podem ser calculadas facilmente.\n",
    "\n",
    "Há pelo menos dois caminhos para se mostrar que este sistema tem uma solução. O\n",
    "primeiro é exibi-la diretamente, o que faremos no próximo caderno. O segundo\n",
    "consiste em mostrar que a matriz $ (N + 1) \\times (N + 1) $ à esquerda é\n",
    "invertível; isto também dá uma nova demonstração da unicidade.\n",
    "\n",
    "O determinante desta matriz é conhecido como um __determinante de Vandermonde__:\n",
    "$$\n",
    "V = \n",
    "\\begin{vmatrix}\n",
    "1 & x_1 & x_1^2 & \\cdots & x_1^N \\\\\n",
    "1 & x_2 & x_2^2 & \\cdots & x_2^N \\\\\n",
    "\\vdots & \\vdots & \\vdots & \\cdots & \\vdots \\\\\n",
    "1 & x_{N+1} & x_{N+1}^2 & \\cdots & x_{N+1}^N \n",
    "\\end{vmatrix} = \\lvert x_i^j \\rvert \\qquad (i=1,\\dots,N+1,\\ j = 0,\\dots,N).\n",
    "$$\n",
    "Mostraremos na $ \\S 5 $ que ele é não-nulo desde que $ x_i \\ne x_{i'} $ para quaisquer $ i \\ne i' $. Portanto o sistema linear tem uma única solução $ (a_0,a_1,\\dots,a_N) $. Estes são os coeficientes do polinômio $ p $ procurado.\n",
    "<div style=\"text-align: right\">$ \\blacksquare $ </div>"
   ]
  },
  {
   "attachments": {},
   "cell_type": "markdown",
   "id": "7d384c97",
   "metadata": {},
   "source": [
    "📝 O grau do polinômio interpolador será \"quase sempre\" exatamente igual a $ N $. Contudo, em casos excepcionais ele poderá ser menor. Por exemplo:\n",
    "* Para $ N = 1 $, o polinômio interpolador terá grau $ < 1 $ se e somente se $ y_0 = y_1 $;\n",
    "* Para $ N = 2 $, o polinômio interpolador terá grau $ < 2 $ se e somente se os três pontos $ (x_1, y_1) $, $ (x_2, y_2) $ e $ (x_3, y_3) $ forem colineares.\n",
    "\n",
    "📝 A maioria dos métodos numéricos de integração é baseada na interpolação polinomial. A idéia é simples: Dada uma função $ f \\colon [a, b] \\to \\mathbb R $ cuja integral se queira calcular, subdividimos $ [a, b] $ em alguns subintervalos e, em cada um deles,  aproximamos $ f $ por um polinômio interpolador de grau fixo (que varia conforme o método). Finalmente, tomamos a soma das integrais destes polinômios, que são facilmente calculadas."
   ]
  },
  {
   "attachments": {},
   "cell_type": "markdown",
   "id": "be29f17f",
   "metadata": {},
   "source": [
    "## $ \\S 3 $ Problemas"
   ]
  },
  {
   "attachments": {},
   "cell_type": "markdown",
   "id": "f5dc1e3b",
   "metadata": {},
   "source": [
    "__Problema 1:__\n",
    "\n",
    "(a) Sem usar o computador, encontre o polinômio $ p $ de menor grau possível que se ajuste aos dados:\n",
    "\n",
    "|$x$|$y$|\n",
    "|---|---|\n",
    "|$0$|$2$|\n",
    "|$1$|$2$|\n",
    "|$2$|$0$|\n",
    "|$3$|$0$|\n",
    "\n",
    "(b) Exiba um outro polinômio $ q $ que se ajusta a estes dados. É possível tomar $ q $ de mesmo grau que o de $ p $?\n",
    "\n",
    "(c) Esboce o gráfico deste polinômio usando Python.\n",
    "\n",
    "(d) Encontre $ p(4) $."
   ]
  },
  {
   "attachments": {},
   "cell_type": "markdown",
   "id": "62182307",
   "metadata": {},
   "source": [
    "_Solução:_"
   ]
  },
  {
   "cell_type": "code",
   "execution_count": null,
   "id": "5d1425af",
   "metadata": {},
   "outputs": [],
   "source": []
  },
  {
   "attachments": {},
   "cell_type": "markdown",
   "id": "d0e60450",
   "metadata": {},
   "source": [
    "__Problema 2:__ Usando Python:\n",
    "\n",
    "(a) Encontre o polinômio interpolador (de menor grau) para $ y = \\log_{10} x $ e $ x = 1, 2, 3, 4 $.\n",
    "\n",
    "(b) Esboce o gráfico deste polinômio juntamente com o gráfico de  $ \\log_{10} x $."
   ]
  },
  {
   "attachments": {},
   "cell_type": "markdown",
   "id": "5d6daec1",
   "metadata": {},
   "source": [
    "_Solução:_"
   ]
  },
  {
   "cell_type": "code",
   "execution_count": 1,
   "id": "ec64fdaa",
   "metadata": {
    "scrolled": true
   },
   "outputs": [
    {
     "name": "stdout",
     "output_type": "stream",
     "text": [
      "[[ 1  1  1  1]\n",
      " [ 1  2  4  8]\n",
      " [ 1  3  9 27]\n",
      " [ 1  4 16 64]]\n",
      "[0.0, 0.3010299956639812, 0.47712125471966244, 0.6020599913279624]\n",
      "[-0.49975495  0.62371283 -0.13625558  0.0122977 ]\n"
     ]
    },
    {
     "data": {
      "image/png": "[encoded data removed]",
      "text/plain": [
       "<Figure size 640x480 with 1 Axes>"
      ]
     },
     "metadata": {},
     "output_type": "display_data"
    }
   ],
   "source": [
    "import numpy as np\n",
    "import matplotlib.pyplot as plt\n",
    "\n",
    "\n",
    "N = 3\n",
    "xs = [1, 2, 3, 4]\n",
    "ys = [np.log10(x) for x in xs]\n",
    "A = np.array([xs[i]**j for i in range(N + 1) for j in range(N + 1)])\n",
    "A = A.reshape(N + 1, N + 1)\n",
    "\n",
    "print(A)\n",
    "print(ys)\n",
    "cs = np.linalg.solve(A, ys)\n",
    "print(cs)\n",
    "\n",
    "def p(x):\n",
    "    return sum(cs[i] * x**i for i in range(N + 1))\n",
    "\n",
    "x_grid = np.linspace(0.8, 5.2, num=50)\n",
    "plt.plot(xs, ys, 'ro')\n",
    "plt.plot(x_grid, p(x_grid), '-')\n",
    "plt.plot(x_grid, np.log10(x_grid), '--')\n",
    "plt.grid()\n",
    "plt.show()\n",
    "\n"
   ]
  },
  {
   "attachments": {},
   "cell_type": "markdown",
   "id": "a8949d37",
   "metadata": {},
   "source": [
    "**Problema 3:** Usando interpolação polinomial *linear*, aproxime $ \\cos(73.5^{\\circ}) $ usando os valores tabelados seguintes:\n",
    "\n",
    "(a) $ \\cos(70^\\circ) = 0.34202 $ e $ \\cos(80^\\circ) = 0.17365 $;\n",
    "\n",
    "(b) $ \\cos(73^\\circ) = 0.29237 $ e  $ \\cos(74^\\circ) = 0.27564 $.\n",
    "\n",
    "Os resultados obtidos servem para ilustrar que em geral a interpolação linear é adequada apenas sobre intervalos pequenos."
   ]
  },
  {
   "attachments": {},
   "cell_type": "markdown",
   "id": "31d1c4d3",
   "metadata": {},
   "source": [
    "_Solução:_"
   ]
  },
  {
   "attachments": {},
   "cell_type": "markdown",
   "id": "cc3f7972",
   "metadata": {},
   "source": [
    "__Problema 4:__ É dada a tabela seguinte contendo alguns valores de uma função\n",
    "desconhecida $ f $:\n",
    "\n",
    "|$x$ |$f(x)$|\n",
    "|:----:| :----: |\n",
    "|$-1$| $-1$ |\n",
    "|$2$ | $-4$ |\n",
    "|$4$ | $4$  |\n",
    "\n",
    "(a) Encontre o polinômio de menor grau possível que se ajusta a estes dados.\n",
    "\n",
    "(b) Utilize-o para aproximar o zero de $ f $ no intervalo $ [-1, 4] $.\n",
    "\n",
    "(c) Utilize-o para estimar $ \\int_{-1}^4 f(x)\\,dx $."
   ]
  },
  {
   "attachments": {},
   "cell_type": "markdown",
   "id": "d1331f01",
   "metadata": {},
   "source": [
    "_Solução:_"
   ]
  },
  {
   "attachments": {},
   "cell_type": "markdown",
   "id": "9b629ecb",
   "metadata": {},
   "source": [
    "## $ \\S 4 $ O determinante de Vandermonde\n",
    "\n",
    "__Teorema 4.1 (fórmula para o determinante de Vandermonde):__ _Seja $ V $ o\n",
    "determinante de Vandermonde em $ N + 1 $ elementos $ x_i $:_\n",
    "$$\n",
    "V = \\begin{vmatrix}\n",
    "1 & x_1 & x_1^2 & \\cdots & x_1^N \\\\\n",
    "1 & x_2 & x_2^2 & \\cdots & x_2^N \\\\\n",
    "\\vdots & \\vdots & \\vdots & \\cdots & \\vdots \\\\\n",
    "1 & x_{N+1} & x_{N+1}^2 & \\cdots & x_{N+1}^N \n",
    "\\end{vmatrix} = \\lvert x_i^j \\rvert \\qquad (i=1,\\dots,N+1,\\ j = 0,\\dots,N)\n",
    "$$\n",
    "_Então_\n",
    "$$\n",
    "\\boxed{V = \\prod_{i>j=1}^{N+1}(x_i-x_j)}\n",
    "$$\n",
    "_Em particular, $ V \\ne 0 $ se e somente se $ x_i \\ne x_j $ para todos $ i \\ne j $._\n",
    "\n",
    "__Problema 5:__\n",
    "\n",
    "(a) Calcule o determinante de Vandermonde $ V $ associado a\n",
    "$ x_1 = 1 $, $ x_2 = 2 $ e $ x_3 = 3 $.\n",
    "\n",
    "(b) Verifique a validade da fórmula para $ V $ neste caso.\n",
    "\n",
    "(c) Agora suponha que $ x_1 = 1 $, $ x_2 = 2 $ mas $ x_3 = x $ seja desconhecido.\n",
    "Encontre $ V $ diretamente e mostre que\n",
    "$$\n",
    "V = (x - 1)(x - 2)(2 - 1)\\,.\n",
    "$$"
   ]
  },
  {
   "attachments": {},
   "cell_type": "markdown",
   "id": "2b409164",
   "metadata": {},
   "source": [
    "_Solução:_\n",
    "\n",
    "__Demonstração do Teorema 4.1:__ Considere $ V = V(x_1,x_2,\\dots,x_{N+1}) $ como uma função das variáveis $ x_i $. Claramente, $ V $ é um polinômio em $ x_1, x_2, \\dots, x_{N + 1} $. Contando os expoentes, vemos que seu grau é\n",
    "$$\n",
    "0 + 1 + 2 + \\dots + N = \\frac{N(N + 1)}{2}.\n",
    "$$\n",
    "Além disto, se $ x_{2} = x_1 $, então a primeira e segunda linhas coincidem,\n",
    "logo $ V = 0 $. Segue que $ V $ tem $ x_2 - x_1 $ como fator. Mais\n",
    "geralmente, se $ x_i = x_j $ para $ i > j $, então $ V $ se anula, pois neste\n",
    "caso a $ i $-ésima e $ j $-ésima linha são idênticas. Daí deduzimos que\n",
    "$ x_i - x_j $ é fator de $ V $ para quaisquer $ i > j $. Seja\n",
    "$$\n",
    "P = \\prod_{i>j=1}^{N + 1} (x_i-x_j).\n",
    "$$\n",
    "Então $ P $ também é um polinômio, de grau \n",
    "$$\n",
    "N + (N - 1) + \\dots + 2 + 1 = \\frac{N(N+1)}{2}.\n",
    "$$\n",
    "Como $ P $ divide $ V $, mas ao mesmo tempo eles têm o mesmo grau, deduzimos que eles diferem apenas por uma constante multiplicativa. Para encontrá-la, basta comparar o mesmo termo em ambas representações. O termo diagonal do determinante é\n",
    "$$ 1 \\cdot x_2 \\cdot x_3^2 \\cdots x_{N+1}^N .$$\n",
    "O produto de todos os termos à esquerda na expressão para $ P $ é\n",
    "$$ x_{N+1}^N \\cdot x_N^{N-1} \\cdots x_2. $$\n",
    "Como eles coincidem, concluímos que $ V = P $:\n",
    "$$\n",
    "V(x_1,x_2,\\dots,x_{N+1}) = \\left\\vert x_i^j \\right\\vert = \\prod_{i>j=1}^{N + 1} (x_i-x_j) \\tag*{$ \\blacksquare $}\n",
    "$$"
   ]
  },
  {
   "attachments": {},
   "cell_type": "markdown",
   "id": "7bff92d9",
   "metadata": {},
   "source": [
    "## $ \\S 5 $ Problemas adicionais\n",
    "\n",
    "__Problema 6:__ Dados os valores tabelados abaixo:\n",
    "\n",
    "|$x$|$y$|\n",
    "|:---:|:---:|\n",
    "|$0$|$2$|\n",
    "|$1$|$5$|\n",
    "|$2$|$10$|\n",
    "\n",
    "(a) Encontre o único polinômio $ p $ de grau $ \\le 2 $ que os interpola.\n",
    "\n",
    "(b) Verifique sua resposta usando Python para plotar o gráfico de $ p $ juntamente\n",
    "com os pontos $ (x, y) $, aproveitando o código abaixo."
   ]
  },
  {
   "attachments": {},
   "cell_type": "markdown",
   "id": "639570f9",
   "metadata": {},
   "source": [
    "_Solução:_"
   ]
  },
  {
   "cell_type": "code",
   "execution_count": 23,
   "id": "71a20678",
   "metadata": {},
   "outputs": [
    {
     "data": {
      "image/png": "[encoded data removed]",
      "text/plain": [
       "<Figure size 640x480 with 1 Axes>"
      ]
     },
     "metadata": {},
     "output_type": "display_data"
    }
   ],
   "source": [
    "import matplotlib.pyplot as plt\n",
    "import numpy as np\n",
    "\n",
    "\n",
    "xs_pontos = np.array([0, 1, 2])\n",
    "ys_pontos = np.array([2, 5, 10])\n",
    "plt.plot(xs_pontos, ys_pontos, 'o')\n",
    "plt.show()\n"
   ]
  },
  {
   "attachments": {},
   "cell_type": "markdown",
   "id": "415437ae",
   "metadata": {},
   "source": [
    "__Problema 7:__\n",
    "\n",
    "(a) Interpole a função cosseno nos pontos $ (0, 1) $, $ (\\pi / 2, 1) $ e $ (\\pi, -1) $\n",
    "por um polinômio quadrático $ q(x) $.\n",
    "\n",
    "(b) Usando Python, esboce os gráficos de $ \\cos $ e de $ q $."
   ]
  },
  {
   "attachments": {},
   "cell_type": "markdown",
   "id": "f0bfdb77",
   "metadata": {},
   "source": [
    "_Solução:_"
   ]
  },
  {
   "cell_type": "code",
   "execution_count": null,
   "id": "0f6d2a5b",
   "metadata": {},
   "outputs": [],
   "source": []
  },
  {
   "attachments": {},
   "cell_type": "markdown",
   "id": "f87696a6",
   "metadata": {},
   "source": [
    "__Problema 8:__ Encontre o único polinômio de grau $ \\le 2 $ passando pelos\n",
    "pontos $ (-1, a) $, $ (0, b) $ e $ (1, c) $, onde $ a,\\,b,\\,c \\in \\R $ são\n",
    "constantes arbitrárias.\n"
   ]
  },
  {
   "attachments": {},
   "cell_type": "markdown",
   "id": "cde8352d",
   "metadata": {},
   "source": [
    "_Solução:_"
   ]
  }
 ],
 "metadata": {
  "kernelspec": {
   "display_name": "Python 3 (ipykernel)",
   "language": "python",
   "name": "python3"
  },
  "language_info": {
   "codemirror_mode": {
    "name": "ipython",
    "version": 3
   },
   "file_extension": ".py",
   "mimetype": "text/x-python",
   "name": "python",
   "nbconvert_exporter": "python",
   "pygments_lexer": "ipython3",
   "version": "3.9.2"
  }
 },
 "nbformat": 4,
 "nbformat_minor": 5
}
