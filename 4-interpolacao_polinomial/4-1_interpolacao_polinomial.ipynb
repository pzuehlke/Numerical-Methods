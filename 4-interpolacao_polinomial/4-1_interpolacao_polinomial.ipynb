{
 "cells": [
  {
   "cell_type": "markdown",
   "id": "54141150",
   "metadata": {},
   "source": [
    "# Interpolação polinomial"
   ]
  },
  {
   "cell_type": "markdown",
   "id": "cf09f201",
   "metadata": {},
   "source": [
    "## $ \\S 1 $ Introdução\n",
    "\n",
    "É freqüente a situação em que temos uma tabela com alguns valores de uma função desconhecida $ f $ e precisamos \"ler entre as linhas\" da tabela para encontrar valores de $ f $ que não foram dados.\n",
    "\n",
    "**Exemplo 1:** Considere a tarefa de se encontrar a posição futura de um cometa que foi avistado e teve sua velocidade medida em apenas três instantes $ t_0 $, $ t_1 $ e $ t_2 $. A princípio este problema não pode ser resolvido com as técnicas do curso de Cálculo, pois não dispomos de uma *fórmula* para a função $ v(t) $ que descreve a velocidade do cometa. Como alternativa, podemos substituir $ v $ pelo único polinômio $ p $ de  grau $ 2 $ satisfazendo $ p(t_i) = v(t_i) $, e então integrar $ p $ para obter uma aproximação para a função posição do cometa.\n",
    "\n",
    "**Definição (interpolação):** **Interpolar** uma função significa estimar valores desconhecidos ou difíceis de serem determinados exatamente a partir de valores conhecidos.\n",
    "\n",
    "📝 Uma minoria de autores prefere distingüir entre *interpolação* ou *extrapolação* conforme pretenda-se encontrar um valor desconhecido dentro ou fora do intervalo/domínio coberto pelos dados originais, respectivamente.\n",
    "\n",
    "A **interpolação polinomial** consiste do uso de um polinômio que satisfaça os dados iniciais para obter novos dados. Para construir este polinômio as escolhas mais comuns são:\n",
    "* Amostragem de valores em vários pontos (*polinômio de Lagrange*);\n",
    "* Amostragem dos valores das sucessivas derivadas de uma função num ponto (*polinômio de Taylor*);\n",
    "* Alguma combinação dos anteriores."
   ]
  },
  {
   "cell_type": "markdown",
   "id": "3d2a743c",
   "metadata": {},
   "source": [
    "## $ \\S 2 $ Interpolação polinomial usando valores da função\n",
    "\n",
    "**Teorema:** Dados $ N + 1 $ pontos\n",
    "$$\n",
    "(x_1, y_1)\\,,\\ (x_2, y_2)\\,,\\ \\dots\\,,\\ (x_{N + 1}, y_{N + 1})\\,,\n",
    "$$\n",
    "existe um *único* polinômio de grau $ \\le N $ passando por eles.\n",
    "\n",
    "**Demonstração:** Seja\n",
    "$$\n",
    "p(x) = a_0 + a_1 x + a_2x^2 + \\cdots + a_nx^N = \\sum_{k=1}^N a_kx^k.\n",
    "$$\n",
    "Temos:\n",
    "* $ N + 1 $ coeficientes indeterminados;\n",
    "* $ N + 1 $ condições a serem satisfeitas, a saber, $ p(x_i) = y_i $ para $ i=1, \\dots, N $.\n",
    "\n",
    "Isto dá origem ao sistema linear\n",
    "\n",
    "$$\\begin{cases}\n",
    "a_0 + a_1x_1 + a_2x_1^2 + \\dots + a_{N-1}x_1^{N-1} + a_Nx_1^N \\\\\n",
    "a_0 + a_1x_2 + a_2x_2^2 + \\dots + a_{N-1}x_2^{N-1} + a_Nx_2^N \\\\\n",
    "\\phantom{a_0 + a_1x_2 + a_2x_2^2+ \\ } \\vdots  \\\\\n",
    "a_0 + a_1x_{N+1} + a_2x_{N+1}^2 + \\dots + a_{N-1}x_{N+1}^{N-1} + a_Nx_{N+1}^N\n",
    "\\end{cases}\n",
    "$$\n",
    "ou, em forma matricial,\n",
    "$$\n",
    "\\left(\\begin{array}{ccccc}\n",
    "1 & x_1 & x_1^2 & \\cdots & x_1^N \\\\\n",
    "1 & x_2 & x_2^2 & \\cdots & x_2^N \\\\\n",
    "\\vdots & \\vdots & \\vdots & \\cdots & \\vdots \\\\\n",
    "1 & x_{N+1} & x_{N+1}^2 & \\cdots & x_{N+1}^N \n",
    "\\end{array}\\right)\\ \n",
    "\\left(\\begin{array}{c}\n",
    "a_0 \\\\\n",
    "a_1 \\\\\n",
    "\\vdots \\\\\n",
    "a_N\n",
    "\\end{array}\\right)\n",
    "=\n",
    "\\left(\\begin{array}{c}\n",
    "y_0 \\\\\n",
    "y_1 \\\\\n",
    "\\vdots \\\\\n",
    "y_N\n",
    "\\end{array}\\right)\n",
    "$$\n",
    "Observe que aqui as variáveis do sistema são os $ a_k $, que ainda não foram determinados, e não as potências dos $ x_k $, que são conhecidas ou podem ser calcudas.\n",
    "\n",
    "O determinante da matriz à esquerda é chamado de **determinante de Vandermonde**:\n",
    "$$\n",
    "V = \n",
    "\\left|\\begin{array}{ccccc}\n",
    "1 & x_1 & x_1^2 & \\cdots & x_1^N \\\\\n",
    "1 & x_2 & x_2^2 & \\cdots & x_2^N \\\\\n",
    "\\vdots & \\vdots & \\vdots & \\cdots & \\vdots \\\\\n",
    "1 & x_{N+1} & x_{N+1}^2 & \\cdots & x_{N+1}^N \n",
    "\\end{array}\\right| = \\lvert x_i^j \\rvert \\qquad (i=1,\\dots,N+1,\\ j = 0,\\dots,N).\n",
    "$$\n",
    "É possível mostrar que este determinante é não-nulo desde que $ x_i \\ne x_{i'} $ para quaisquer $ i \\ne i' $. Portanto o sistema linear tem uma *única* solução $ (a_0,a_1,\\dots,a_N) $. Estes são os coeficientes do polinômio $ p $ procurado. $  \\blacksquare $"
   ]
  },
  {
   "cell_type": "markdown",
   "id": "f5dc1e3b",
   "metadata": {},
   "source": [
    "**Problema 1:**\n",
    "\n",
    "(a) Sem usar o computador, encontre um polinômio que interpole os dados:\n",
    "\n",
    "| x | y |\n",
    "|---|---|\n",
    "| 0 | 2 |\n",
    "| 1 | 2 |\n",
    "| 2 | 0 |\n",
    "| 3 | 0 |\n",
    "\n",
    "(b) Este polinômio é único?\n",
    "\n",
    "(c) Esboce o gráfico deste polinômio usando Python.\n",
    "\n",
    "(d) Encontre $ p(4) $."
   ]
  },
  {
   "cell_type": "code",
   "execution_count": 15,
   "id": "5d1425af",
   "metadata": {},
   "outputs": [
    {
     "data": {
      "image/png": "[encoded data removed]",
      "text/plain": [
       "<Figure size 640x480 with 1 Axes>"
      ]
     },
     "metadata": {},
     "output_type": "display_data"
    },
    {
     "name": "stdout",
     "output_type": "stream",
     "text": [
      "O valor de p em x = 4 é: 6.0\n"
     ]
    }
   ],
   "source": [
    "import matplotlib.pyplot as plt\n",
    "import numpy as np\n",
    "\n",
    "\n",
    "def p(x):\n",
    "    return 2 + (7 / 3) * x - 3 * x**2 + (2 / 3) * x**3\n",
    "\n",
    "xs = [0, 1, 2, 3]\n",
    "ys = [2, 2, 0, 0]\n",
    "\n",
    "x_grid = np.linspace(-0.2, 4.2, num=50)\n",
    "plt.plot(xs, ys, '.', x_grid, p(x_grid),'-')\n",
    "plt.grid()\n",
    "plt.show()\n",
    "\n",
    "print(\"O valor de p em x = 4 é:\", p(4))"
   ]
  },
  {
   "cell_type": "code",
   "execution_count": null,
   "id": "eeb7a894",
   "metadata": {},
   "outputs": [],
   "source": []
  }
 ],
 "metadata": {
  "kernelspec": {
   "display_name": "Python 3 (ipykernel)",
   "language": "python",
   "name": "python3"
  },
  "language_info": {
   "codemirror_mode": {
    "name": "ipython",
    "version": 3
   },
   "file_extension": ".py",
   "mimetype": "text/x-python",
   "name": "python",
   "nbconvert_exporter": "python",
   "pygments_lexer": "ipython3",
   "version": "3.9.13"
  }
 },
 "nbformat": 4,
 "nbformat_minor": 5
}
