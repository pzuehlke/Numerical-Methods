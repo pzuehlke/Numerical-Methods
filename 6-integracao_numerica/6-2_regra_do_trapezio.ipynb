{
 "cells": [
  {
   "attachments": {},
   "cell_type": "markdown",
   "id": "34263b5e",
   "metadata": {},
   "source": [
    "# Regra do trapézio"
   ]
  },
  {
   "attachments": {},
   "cell_type": "markdown",
   "id": "2d3e28ce",
   "metadata": {},
   "source": [
    "## $ \\S 1 $ A regra do trapézio simples \n",
    "\n",
    "Seja $ f \\colon [a, b] \\to \\mathbb{R} $ uma função contínua, cuja integral\n",
    "$$ \\int_a^b f(x)\\,dx $$\n",
    "gostaríamos de calcular.\n",
    "\n",
    "Uma idéia inicial seria substituí-la pela integral de $ a $ a $ b $ do único polinômio $ p $ de grau $ \\le 1 $ que interpola $ f $ em $ a $ e em $ b $. Esta integral pode ser calculada facilmente. Afinal, o gráfico de $ p $ é o segmento de reta que liga $ (a, f(a)) $ a $ (b, f(b)) $. No caso em que $ f(a) $ e $ f(b) $ são ambos positivos, a integral de $ p $ pode ser interpretada geometricamente como a área de um trapézio de altura $ b - a $ e de bases $ f(a) $ e $ f(b) $. Portanto, ela é dada por:\n",
    "\\begin{equation*}\\label{E:simples}\n",
    "    \\int_a^b p(x)\\,dx = \\boxed{\\ \\frac{(b-a)}{2}\\big[f(a) + f(b) \\big]\\vphantom{\\bigg)}\\ }\\tag{1}\n",
    "\\end{equation*}\n",
    "Mesmo no caso geral (sem nenhuma restrição sobre os sinais de $ f(a) $ e $ f(b) $), esta fórmula ainda é válida, e a aproximação de $ \\int_a^b f(x)\\,dx $ por este valor é conhecida como **regra do trapézio simples**.\n",
    "\n",
    "📝 A regra do trapézio simples é a fórmula de Newton-Cotes de ordem $ 1 $, usando a terminologia do caderno anterior. (Porém, não é necessário tê-lo estudado para seguir a discussão abaixo.)\n",
    "\n",
    "## $ \\S 2 $ A regra do trapézio (composta)\n",
    "\n",
    "Sejam $ N \\ge 1 $ um inteiro e \n",
    "$$\n",
    "    h = \\frac{b - a}{N}.\n",
    "$$\n",
    "Para melhorar a aproximação fornecida por (\\ref{E:simples}), podemos primeiro subdividir o intervalo $ [a, b] $ original em $ N \\ge 1 $ subintervalos \n",
    "$$ [x_0, x_1],\\ [x_1, x_2],\\dots,[x_{N-1}, x_N] $$\n",
    "onde $ x_0 = a $, $ x_N = b $ e, em geral,\n",
    "$$\n",
    "    x_i = a + ih\\qquad (i = 0, 1, \\dots, N).\n",
    "$$\n",
    "Observe que cada subintervalo $ [x_{i - 1}, x_i] $ tem o mesmo comprimento $ h $, que é chamado de **tamanho do passo**.\n",
    "\n",
    "Em seguida, para cada $ i = 1, \\dots, N $, aproximamos a integral\n",
    "$$ \\int_{x_{i - 1}}^{x_i} f(x)\\,dx $$\n",
    "pelo valor fornecido pela regra do trapézio simples. Ou seja, aproximamos a integral acima pela integral do único polinômio de grau $ \\le 1 $ que interpola $ f $ em $ x_{i-1} $ e $ x_i $. Novamente, o gráfico deste polinômio é um segmento de reta, e a integral aproximadora pode ser vista geometricamente como a área, com sinal, de um trapézio de altura $ h = x_i - x_{i - 1} $ e bases de comprimentos $ f(x_{i - 1}) $ e $ f(x_i) $. Esta área é dada por:\n",
    "$$\n",
    "    \\frac{h}{2}\\big[ f(x_{i - 1}) + f(x_i) \\big]\n",
    "$$\n",
    "Finalmente, somando em $ i $ obtemos a expressão:\n",
    "\n",
    "\\begin{alignat*}{9}\\label{E:composta}\n",
    "    \\int_a^b f(x)\\,dx & \\approx \\frac{h}{2}\\Big[ f(a) + f(b) + 2 f(x_1) + 2 f(x_2)\n",
    "    + \\dots + 2f(x_{N - 2}) + 2f(x_{N - 1}) \\Big] \\\\\n",
    "    & = \\boxed{\\ h\\bigg[\\frac{f(a) + f(b)}{2} + \\sum_{i=1}^{N - 1} f(x_i) \\bigg]\\ }\n",
    "    \\qquad \\bigg(h = \\frac{b-a}{N}\\bigg).\n",
    "\\end{alignat*}\n",
    "Esta é a chamada **regra do trapézio (composta)**.\n",
    "\n",
    "📝 Em geral, quanto maior o valor de $ N $, melhor será a aproximação. Para mais detalhes, veja a $ \\S $ 5."
   ]
  },
  {
   "attachments": {},
   "cell_type": "markdown",
   "id": "9ec48c96",
   "metadata": {},
   "source": [
    "**Problema 1:**\n",
    "\n",
    "(a) Sem utilizar o computador, calcule a aproximação para \n",
    "\\begin{equation*}%\\label{E:}\n",
    "    \\int_0^3 \\frac{dx}{1 + x}\n",
    "\\end{equation*}\n",
    "fornecida pela regra do trapézio composta com $ N = 6 $ subdivisões.\n",
    "\n",
    "(b) Compare seu resultado com o valor exato da integral."
   ]
  },
  {
   "attachments": {},
   "cell_type": "markdown",
   "id": "ef7dc39a",
   "metadata": {},
   "source": [
    "*Solução:*"
   ]
  },
  {
   "attachments": {},
   "cell_type": "markdown",
   "id": "7302bb7a",
   "metadata": {},
   "source": [
    "## $ \\S 3 $ Implementação da regra do trapézio"
   ]
  },
  {
   "cell_type": "code",
   "execution_count": 1,
   "id": "92f40cc1",
   "metadata": {},
   "outputs": [],
   "source": [
    "def trapezio(f, a, b, N):\n",
    "    \"\"\"Retorna uma aproximação para a integral definida de a a b\n",
    "    de uma função real f de uma variável usando a regra do trapézio\n",
    "    composta com N subdivisões do intervalo.\"\"\"\n",
    "    if not (isinstance(N, int) and N >= 1):\n",
    "        raise ValueError(\"N deve ser um número natural!\")\n",
    "    \n",
    "    h = (b - a) / N             # tamanho do passo\n",
    "    S = (f(a) + f(b)) / 2.0     # armazenará a expressão da regra do trapézio\n",
    "    x = a + h                   # valor atual (x_i) de x onde f será avaliada\n",
    "    for i in range(1, N):\n",
    "        S += f(x)\n",
    "        x += h\n",
    "    \n",
    "    integral = h * S\n",
    "    return integral"
   ]
  },
  {
   "attachments": {},
   "cell_type": "markdown",
   "id": "47be81b0",
   "metadata": {},
   "source": [
    "## $ \\S 4 $ Problemas"
   ]
  },
  {
   "attachments": {},
   "cell_type": "markdown",
   "id": "83f822a5",
   "metadata": {},
   "source": [
    "**Problema 2:** Avalie a integral $$ \\int_0^{\\pi} \\sin x \\,dx $$\n",
    "\n",
    "(a) Exatamente, usando o Teorema Fundamental do Cálculo;\n",
    "\n",
    "(b) Usando a regra do trapézio com $ N = 8 $ subdivisões;\n",
    "\n",
    "(c) Usando a regra do trapézio com $ N = 16 $ subdivisões."
   ]
  },
  {
   "attachments": {},
   "cell_type": "markdown",
   "id": "e4d2ffd1",
   "metadata": {},
   "source": [
    "*Solução:*"
   ]
  },
  {
   "cell_type": "code",
   "execution_count": null,
   "id": "3d1c64f6",
   "metadata": {},
   "outputs": [],
   "source": [
    "from numpy import sin, pi"
   ]
  },
  {
   "attachments": {},
   "cell_type": "markdown",
   "id": "701076b3",
   "metadata": {},
   "source": [
    "__Problema 3:__ Avalie à mão a integral\n",
    "$$\n",
    "\\int_{0}^{1} \\frac{1}{1+x^2} \\,dx \\,.\n",
    "$$\n",
    "\n",
    "(a) Usando o Teorema Fundamental do Cálculo.\n",
    "\n",
    "(b) Usando a regra do trapézio composta com $ N = 4 $ subdivisões.\n",
    "\n",
    "(c) Usando a regra do trapézio composta com $ N = 6 $ subdivisões."
   ]
  },
  {
   "attachments": {},
   "cell_type": "markdown",
   "id": "61842fd1",
   "metadata": {},
   "source": [
    "📝 Observe que a regra do trapézio nos permite estimar o valor da integral de $ f $ mesmo sem ter uma fórmula explícita para $ f(x) $, desde que conheçamos os valores de $ f $ em pontos igualmente espaçados dentro do intervalo de integração. Isto é ilustrado pelo seguinte problema."
   ]
  },
  {
   "attachments": {},
   "cell_type": "markdown",
   "id": "4e2d35c5",
   "metadata": {},
   "source": [
    "**Problema 4:** Estime $$\\int_0^{3.5} g(x)\\,dx $$ a partir dos dados abaixo:\n",
    "\n",
    "| $ x $    | $0$ |$0.5$|$1.0$|$1.5$ |$2.0$ |$2.5$ |$3.0$ |$3.5$ |\n",
    "| ---      | --- | --- | --- | ---  | ---  | ---  | ---  | ---  |\n",
    "| $ g(x) $ |$1.5$|$2.0$|$2.0$|$1.63$|$1.25$|$0.95$|$0.79$|$0.68$|\n",
    "\n",
    "*Dica:* Crie um procedimento que, dada uma lista de valores $ y_i = f(x_i) $ para $ i = 0, \\dots, N $ (com $ x_i $ assumidos igualmente espaçados), calcula a expressão na regra do trapézio."
   ]
  },
  {
   "attachments": {},
   "cell_type": "markdown",
   "id": "4d69004b",
   "metadata": {},
   "source": [
    "*Solução*:"
   ]
  },
  {
   "cell_type": "code",
   "execution_count": null,
   "id": "412d42a1",
   "metadata": {},
   "outputs": [],
   "source": [
    "ys = [1.5, 2.0, 2.0, 1.63, 1.25, 0.95, 0.79, 0.68]"
   ]
  },
  {
   "attachments": {},
   "cell_type": "markdown",
   "id": "4f738bb7",
   "metadata": {},
   "source": [
    "**Problema 5:** Resolva os itens seguintes:\n",
    "\n",
    "(a) Calcule o valor exato da integral\n",
    "    $$\\int_9^0 \\sqrt{x}\\,dx .$$\n",
    "\n",
    "(b) Na integral acima, o limite superior $ b = 0 $ de integração é menor que o limite inferior $ a = 9 $. Você espera que isto cause alguma dificuldade na aplicação da regra do trapézio? Caso sim, quais ajustes são necessários? Caso não, por quê?\n",
    "\n",
    "(c) Encontre o menor valor de $ N $ de modo que a regra do trapézio com $ N $ subdivisões forneça uma aproximação para a integral com erro relativo menor que $ 0.1\\% $.    "
   ]
  },
  {
   "attachments": {},
   "cell_type": "markdown",
   "id": "c7c526d0",
   "metadata": {},
   "source": [
    "*Solução*:"
   ]
  },
  {
   "cell_type": "code",
   "execution_count": null,
   "id": "3253a4ac",
   "metadata": {},
   "outputs": [],
   "source": [
    "from numpy import sqrt"
   ]
  },
  {
   "attachments": {},
   "cell_type": "markdown",
   "id": "9aa0208c",
   "metadata": {},
   "source": [
    "**Problema 6:** Use a regra do trapézio para avaliar a integral\n",
    "$$ \\int_0^\\pi \\frac{\\sqrt[3]{x} \\cos x}{e^x}\\,dx $$ a seis casas decimais, usando um número $ N $ de subdivisões igual a uma potência $ N = 2^k $ de $ 2 $. Qual o valor mínimo de $ k $ necessário?\n",
    "\n",
    "*Dica:* Como não é possível calcular o valor exato da integral, para decidir quando uma aproximação é boa o suficiente, use um `while` com uma condição envolvendo o módulo da diferença entre a aproximação atual e a anterior."
   ]
  },
  {
   "attachments": {},
   "cell_type": "markdown",
   "id": "d1493c70",
   "metadata": {},
   "source": [
    "*Solução*:"
   ]
  },
  {
   "cell_type": "code",
   "execution_count": null,
   "id": "675290e3",
   "metadata": {},
   "outputs": [],
   "source": []
  },
  {
   "attachments": {},
   "cell_type": "markdown",
   "id": "41b06f62",
   "metadata": {},
   "source": [
    "**Problema 7:** O período de um pêndulo simples de comprimento $ L $ é dado por\n",
    "$$\n",
    "\\tau = 4\\sqrt{\\tfrac{L}{g}}h(\\theta_0)\n",
    "$$\n",
    "onde $ g $ é a aceleração gravitacional, $\\theta $ representa a amplitude angular e\n",
    "$$\n",
    "h(\\theta_0) = \\int_0^{\\frac{\\pi}{2}} \\frac{d\\theta}{\\sqrt{1-\\sin^2\\big(\\tfrac{\\theta_0}{2}\\big)\\sin^2 \\theta}}.\n",
    "$$\n",
    "Calcule $ h(15^\\circ) $, $ h(30^\\circ) $ e $ h(45^\\circ) $ e compare estes valores com $ h(0) = \\frac{\\pi}{2} $."
   ]
  },
  {
   "attachments": {},
   "cell_type": "markdown",
   "id": "c56d1310",
   "metadata": {},
   "source": [
    "*Solução*:"
   ]
  },
  {
   "cell_type": "code",
   "execution_count": null,
   "id": "c399d7ff",
   "metadata": {},
   "outputs": [],
   "source": [
    "from numpy import cos, exp"
   ]
  },
  {
   "attachments": {},
   "cell_type": "markdown",
   "id": "bccc11de",
   "metadata": {},
   "source": [
    "## $ \\S 5 $ Análise do erro\n",
    "\n",
    "### $ 5.1 $ Motivação\n",
    "\n",
    "**Exemplo 1:** No exemplo abaixo, veremos que conforme duplicamos o número $ N $ de subdivisões, o erro cometido pela aproximação fornecida pela regra do trapézio para a integral\n",
    "$$ \\int_0^{1} \\frac{1}{1 + x^2}\\,dx = \\arctan(1) - \\arctan(0) = \\frac{\\pi}{4} $$\n",
    "é cortado por um fator de aproximadamente $ 4 = 2^2 $. Isto sugere que _o erro cometido diminui com o quadrado de $ N $ conforme $ N $ aumenta_. E é isto que acontece de fato em geral, não apenas neste exemplo."
   ]
  },
  {
   "cell_type": "code",
   "execution_count": 2,
   "id": "4d7ebdce",
   "metadata": {},
   "outputs": [
    {
     "name": "stdout",
     "output_type": "stream",
     "text": [
      "Quociente entre os erros das aproximações I_2 e I_4:\n",
      "3.99308015072058\n",
      "Quociente entre os erros das aproximações I_4 e I_8:\n",
      "3.999825896482436\n",
      "Quociente entre os erros das aproximações I_8 e I_16:\n",
      "3.9999891022121785\n",
      "Quociente entre os erros das aproximações I_16 e I_32:\n",
      "3.9999993188230216\n",
      "Quociente entre os erros das aproximações I_32 e I_64:\n",
      "3.999999957293767\n"
     ]
    }
   ],
   "source": [
    "from numpy import pi\n",
    "\n",
    "\n",
    "f = lambda x: 1 / (1 + x**2)\n",
    "\n",
    "I_velho = trapezio(f, 0, 1, 2)\n",
    "for k in range(2, 7):\n",
    "    I_novo = trapezio(f, 0, 1, 2**k)\n",
    "    erro_novo = abs(I_novo - (pi / 4))\n",
    "    erro_velho = abs(I_velho - (pi / 4))\n",
    "    print(f\"Quociente entre os erros das aproximações I_{2**(k - 1)} e I_{2**k}:\")\n",
    "    print(erro_velho / erro_novo)\n",
    "    I_velho = I_novo"
   ]
  },
  {
   "attachments": {},
   "cell_type": "markdown",
   "id": "7cb96c32",
   "metadata": {},
   "source": [
    "### $ 5.2 $ Fórmula para o erro na regra do trapézio simples\n",
    "\n",
    "Voltando à situação geral, suponha que $ f \\colon [a, b] \\to \\mathbb R $ seja não apenas contínua, mas duas vezes diferenciável com segunda derivada contínua. Gostaríamos de estimar o **erro** $ E $ envolvido na aproximação da integral de $ f $ pela regra do trapézio simples, dado por\n",
    "\\begin{alignat*}{9}\n",
    "E = \\int_a^b f(x)\\,dx - \\int_a^b p(x)\\,dx\n",
    "\\end{alignat*}\n",
    "onde $ p $ é o polinômio de grau $ \\le 1 $ que interpola $ f $ em $ a $ e $ b $. \n",
    "\n",
    "Quando estudamos interpolação polinomial, vimos que, para cada $ x $ em $ [a, b] $,\n",
    "$$\n",
    "f(x) - p(x) = \\frac{1}{2}(x-a)(x-b)f''(c_x)\\qquad \\text{para algum $ c_x $ em $ (a, b) $}.\n",
    "$$\n",
    "Escrevendo $ (x-a)(x-b) = g(x) $, segue que\n",
    "$$\n",
    "E = \\frac{1}{2}\\int_a^b g(x)f''(c_x)\\,dx\\,.\n",
    "$$\n",
    "\n",
    "Sejam\n",
    "$$\n",
    "    m = \\min_{[a, b]} f''\\quad \\text{e} \\quad M = \\max_{[a, b]} f''.\n",
    "$$\n",
    "Como $ g \\le 0 $ em $ [a, b] $, para qualquer $ x \\in [a, b] $ temos:\n",
    "\\begin{equation*}\n",
    "    Mg(x) \\le g(x) f''(c_x) \\le m g(x)\\,.\n",
    "\\end{equation*}\n",
    "Integrando, deduzimos que\n",
    "\\begin{equation*}\n",
    "M \\int_a^b g(x)\\,dx \\le \\int_a^b g(x)f''(c_x)\\,dx \\le m \\int_a^b g(x)\\,dx .\n",
    "\\end{equation*}\n",
    "\n",
    "Agora, novamente como $ g \\le 0 $ em $ [a, b] $, se dividirmos todos estes termos por $ \\int_a^b g(x)\\,dx $, que é negativa, precisamos inverter os sentidos das desigualdades. Assim:\n",
    "\\begin{equation*}\n",
    "    m \\le \\frac{\\int_a^b g(x)f''(c_x)\\,dx}{\\int_a^b g(x)\\,dx} \\le M .\n",
    "\\end{equation*}\n",
    "Como $ f'' $ é contínua por hipótese e $ m $ e $ M $ são seus valores extremos no intervalo $ [a, b] $, pelo Teorema do Valor Intermediário existe um $ c \\in [a, b] $ tal que o termo do meio acima é igual a $ f''(c) $. Equivalentemente,\n",
    "\\begin{equation*}\n",
    "    E = \\frac{1}{2}\\int_a^b g(x)f''(c_x)\\,dx = \\frac{f''(c)}{2}\\int_a^b g(x)\\,dx \\qquad (\\text{para algum } c \\in [a, b]).\n",
    "\\end{equation*}\n",
    "\n",
    "A última integral pode ser calculada diretamente. Para facilitar as contas, vamos introduzir a mudança de variáveis $ x = a + (b - a) u $, de modo que $ x = a $ corresponde a $ u = 0 $, $ x = b $ a $ u = 1 $ e $ dx = (b - a)\\,du $:\n",
    "\\begin{alignat*}{9}\n",
    "\\int_a^b g(x)\\,dx &= \\int_a^b (x-a)(x-b)\\,dx \\\\\n",
    "&= (b-a)^3\\int_0^1 u(u-1)\\,du \\\\\n",
    "&= (b-a)^3 \\bigg(\\frac{u^3}{3} - \\frac{u^2}{2} \\bigg)\\bigg|^{1}_0 \\\\\n",
    "&= -\\frac{(b-a)^3}{6}\n",
    "\\end{alignat*}\n",
    "Juntando isto com a fórmula anterior para $ E $, concluímos finalmente o seguinte.\n",
    "\n",
    "**Teorema 5.1 (fórmula para o erro na regra do trapézio simples):** *Seja $ f \\colon [a, b] \\to \\mathbb R $ uma função com segunda derivada contínua. Então o erro na aproximação de $ \\int_a^b f(x)\\,dx $ pela regra do trapézio simples é dado por:\n",
    "$$\n",
    "    \\boxed{E = -\\frac{(b-a)^3}{12}f''(c) \\qquad \\text{para algum $ c  \\in [a, b] $}}\n",
    "$$*\n",
    "\n",
    "📝 Muitas vezes é difícil ou até impossível calcular $ f'' $ exatamente. Isto não significa que a fórmula acima seja inútil, pois ainda assim pode ser possível obter uma estimativa do máximo de $ \\lvert f''\\rvert $ no intervalo $ [a, b] $.\n",
    "\n",
    "**Corolário 5.2:** *Seja $ f \\colon [a, b]  \\to \\mathbb R $ uma função com segunda derivada contínua em $ [a, b] $. Então o erro $ E $ cometido na aproximação da integral de $ f $ sobre $ [a, b] $ pela regra do trapézio simples satisfaz\n",
    "$$\n",
    "    \\lvert{E}\\rvert \\le \\frac{(b-a)^3}{12}\\max_{[a,b]} \\lvert{f''}\\rvert\\,.\n",
    "$$*"
   ]
  },
  {
   "attachments": {},
   "cell_type": "markdown",
   "id": "db935b6a",
   "metadata": {},
   "source": [
    "### $ 5.3 $ Fórmula para o erro na regra do trapézio composta\n",
    "\n",
    "Recorde que a regra do trapézio composta é obtida aplicando-se a regra do trapézio simples a cada um dos subintervalos\n",
    "$$ [x_0, x_1],\\ [x_1, x_2],\\dots,[x_{N-1}, x_N] \\ ,$$\n",
    "onde $ x_0 = a $, $ x_N = b $ e, em geral,\n",
    "$$\n",
    "    x_i = a + ih\\qquad (i = 0, 1, \\dots, N)\n",
    "$$\n",
    "para\n",
    "$$\n",
    "    h = \\frac{b - a}{N}.\n",
    "$$\n",
    "\n",
    "Assim, o erro total na regra do trapézio composta é a soma dos erros $ E_i $ nas aproximações das integrais de $ f $ em cada subintervalo $ [x_{i-1}, x_i] $ para $ i= 1, \\dots, N $. Usando a expressão da seção anterior e trocando-se $ b-a $ por $ h $, que é o comprimento de cada um destes subintervalos, podemos escrever:\n",
    "\\begin{alignat*}{9}\n",
    "    E &= \\sum_{i=1}^N E_i \\\\\n",
    "    &= -\\frac{h^3}{12}\\sum_{i=1}^N f''(c_i) \\qquad (c_i \\in [x_{i-1}, x_i]) \\\\\n",
    "    &= -\\frac{Nh^3}{12}\\bigg(\\frac{1}{N}\\sum_{i=1}^N f''(c_i)\\bigg)\n",
    "\\end{alignat*}\n",
    "Agora, novamente pelo Teorema do Valor Intermediário, a média aritmética\n",
    "$$\n",
    "    \\frac{1}{N}\\sum_{i=1}^N f''(c_i)\n",
    "$$\n",
    "dos valores $ f''(c_i) $ deve ser igual a $ f''(c) $ para algum $ c \\in [a, b] $, já que ela está entre o mínimo e o máximo de $ f'' $ em $ [a, b] $. Substituindo ainda $ h $ por $ \\frac{b-a}{N} $, obtemos finalmente o resultado seguinte.\n",
    "\n",
    "__Teorema 5.3 (fórmula para o erro na regra do trapézio composta):__ _Seja $ f \\colon [a, b] \\to \\mathbb R $ uma função com segunda derivada contínua. Então o erro_\n",
    "$$\n",
    "E = \\int_a^b f(x)\\,dx - h\\bigg[\\frac{f(a) + f(b)}{2} + \\sum_{i=1}^{N - 1} f(x_i) \\bigg]\n",
    "$$\n",
    "_na aproximação de $ \\int_a^b f(x)\\,dx $ pela regra do trapézio composta é dado por:_\n",
    "$$\n",
    "    \\boxed{E = -\\frac{(b-a)^3}{12N^2}f''(c) \\quad \\text{para algum } c \\in [a, b]}\n",
    "$$\n",
    "\n",
    "📝 Concluímos imediatamente que, grosso modo, na regra do trapézio *o erro decresce com o quadrado do número $ N $ de subdivisões conforme $ N $ aumenta*.\n",
    "\n",
    "__Corolário 5.4:__ _Seja $ f \\colon [a, b]  \\to \\mathbb R $ uma função com\n",
    "segunda derivada contínua em $ [a, b] $. Então o erro $ E $ cometido na\n",
    "aproximação da integral de $ f $ sobre $ [a, b] $ pela regra do trapézio\n",
    "(composta) com $ N $ subdivisões satisfaz_\n",
    "$$\n",
    "    \\boxed{\\lvert{E}\\rvert \\le \\frac{(b-a)^3}{12N^2}\\max_{[a,b]} \\lvert{f''}\\rvert}\n",
    "$$"
   ]
  },
  {
   "attachments": {},
   "cell_type": "markdown",
   "id": "fd8c5e1e",
   "metadata": {},
   "source": [
    "**Problema 8:** Qual é o menor valor de $ N $ necessário para garantir que o erro cometido ao se aproximar a integral\n",
    "$$ \\int_0^1 e^x\\,dx $$\n",
    "pela regra do trapézio com $ N $ subdivisões seja menor que $ 10^{-6} $? Use $ 3 $ como cota superior para $ e $."
   ]
  },
  {
   "attachments": {},
   "cell_type": "markdown",
   "id": "0d7e798a",
   "metadata": {},
   "source": [
    "*Solução*:"
   ]
  },
  {
   "attachments": {},
   "cell_type": "markdown",
   "id": "27a19ec5",
   "metadata": {},
   "source": [
    "__Problema 9:__ Suponha que queiramos utilizar a regra do trapézio composta com\n",
    "$ N $ subdivisões para aproximar o valor da integral\n",
    "$$\n",
    "2\\int_{1}^{2} \\sqrt{x} \\, dx\\,.\n",
    "$$\n",
    "\n",
    "(a) Forneça uma cota superior para o erro envolvido.\n",
    "\n",
    "(b) Encontre o menor valor (inteiro) de $ N $ de modo que este erro seja menor que $ 10^{-5} $. \n",
    "\n",
    "(c) Responda à mesma pergunta, mas agora para o erro relativo."
   ]
  },
  {
   "attachments": {},
   "cell_type": "markdown",
   "id": "1baffd5f",
   "metadata": {},
   "source": [
    "*Solução*:"
   ]
  },
  {
   "attachments": {},
   "cell_type": "markdown",
   "id": "2fe79012",
   "metadata": {},
   "source": []
  }
 ],
 "metadata": {
  "kernelspec": {
   "display_name": "Python 3 (ipykernel)",
   "language": "python",
   "name": "python3"
  },
  "language_info": {
   "codemirror_mode": {
    "name": "ipython",
    "version": 3
   },
   "file_extension": ".py",
   "mimetype": "text/x-python",
   "name": "python",
   "nbconvert_exporter": "python",
   "pygments_lexer": "ipython3",
   "version": "3.9.15"
  }
 },
 "nbformat": 4,
 "nbformat_minor": 5
}
