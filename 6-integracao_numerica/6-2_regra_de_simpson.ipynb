{
 "cells": [
  {
   "cell_type": "markdown",
   "id": "149401cb",
   "metadata": {},
   "source": [
    "# Regra de Simpson"
   ]
  },
  {
   "cell_type": "markdown",
   "id": "9b0114cc",
   "metadata": {},
   "source": [
    "## $ \\S 1 $ Regra de Simpson simples"
   ]
  },
  {
   "cell_type": "markdown",
   "id": "a743d54c",
   "metadata": {},
   "source": [
    "\n",
    "## $ \\S 2 $ Regra de Simpson composta"
   ]
  },
  {
   "cell_type": "markdown",
   "id": "7a6f3d42",
   "metadata": {},
   "source": [
    "## $ \\S 3 $ Implementação da regra de Simpson"
   ]
  },
  {
   "cell_type": "code",
   "execution_count": 11,
   "id": "6aea0546",
   "metadata": {},
   "outputs": [],
   "source": [
    "def simpson(f, a, b, N):\n",
    "    \"\"\"Retorna uma aproximação para a integral definida de 'a' a 'b'\n",
    "    de uma função real f de uma variável usando a regra de Simpson\n",
    "    composta com N subdivisões do intervalo (N deve ser par).\"\"\"\n",
    "    assert isinstance(N, int) and N >= 2 and N % 2 == 0\n",
    "\n",
    "    h = (b - a) / N             # tamanho do passo\n",
    "    # A variável S armazenará a expressão entre colchetes em (1):\n",
    "    S = (f(a) + f(b)) / 2.0\n",
    "    x = a + h                   # valor atual de x (x_i) onde f será avaliada\n",
    "    \n",
    "    for i in range(1, N):\n",
    "        # Se o índice i de x_i é par, somamos f(x) a S:\n",
    "        if i % 2 == 0:\n",
    "            S += f(x)\n",
    "        # Se o índice i de x_i é ímpar, somamos 2 * f(x) a S:\n",
    "        else:\n",
    "            S += 2 * f(x)\n",
    "        x += h                  # atualizando o valor de x (x_i)\n",
    "    \n",
    "    integral = 2 * h * S / 3.0\n",
    "    return integral"
   ]
  },
  {
   "cell_type": "markdown",
   "id": "f56d1ac7",
   "metadata": {},
   "source": [
    "## $ \\S 4 $ Problemas"
   ]
  },
  {
   "cell_type": "markdown",
   "id": "8f511f93",
   "metadata": {},
   "source": [
    "## $ \\S 5 $ Análise do erro"
   ]
  },
  {
   "cell_type": "markdown",
   "id": "a35e744a",
   "metadata": {},
   "source": [
    "### 5.1 Motivação"
   ]
  },
  {
   "cell_type": "markdown",
   "id": "5df816ae",
   "metadata": {},
   "source": [
    "**Exemplo 1:** No exemplo abaixo, veremos que conforme duplicamos o número $ N $ de subdivisões, o erro cometido pela aproximação fornecida pela regra de Simpson para a integral\n",
    "$$ \\int_0^\\pi \\sin x\\,dx = -\\cos \\pi + \\cos 0 = 2 $$\n",
    "é cortado por um fator de aproximadamente $ 16 = 2^4 $. Isto sugere que _o erro cometido diminui com a quarta potência de $ N $ conforme $ N $ aumenta_. E é isto que acontece de fato em geral, não apenas neste exemplo."
   ]
  },
  {
   "cell_type": "code",
   "execution_count": 12,
   "id": "b2a8dbed",
   "metadata": {},
   "outputs": [
    {
     "name": "stdout",
     "output_type": "stream",
     "text": [
      "Quociente entre os erros das aproximações I_4 e I_8:\n",
      "16.940059660175127\n",
      "Quociente entre os erros das aproximações I_8 e I_16:\n",
      "16.223806322213832\n",
      "Quociente entre os erros das aproximações I_16 e I_32:\n",
      "16.055292275691855\n",
      "Quociente entre os erros das aproximações I_32 e I_64:\n",
      "16.013782256098068\n",
      "Quociente entre os erros das aproximações I_64 e I_128:\n",
      "16.003424727310932\n"
     ]
    }
   ],
   "source": [
    "from numpy import sin, pi\n",
    "\n",
    "\n",
    "I_velho = simpson(sin, 0, pi, 4)\n",
    "\n",
    "for k in range(3, 8):\n",
    "    I_novo = simpson(sin, 0, pi, 2**k)\n",
    "    erro_novo = I_novo - 2\n",
    "    erro_velho = I_velho - 2\n",
    "    print(f\"Quociente entre os erros das aproximações I_{2**(k - 1)} e I_{2**k}:\")\n",
    "    print(erro_velho / erro_novo)\n",
    "    I_velho = I_novo"
   ]
  },
  {
   "cell_type": "code",
   "execution_count": null,
   "id": "aecb806b",
   "metadata": {},
   "outputs": [],
   "source": []
  }
 ],
 "metadata": {
  "kernelspec": {
   "display_name": "Python 3 (ipykernel)",
   "language": "python",
   "name": "python3"
  },
  "language_info": {
   "codemirror_mode": {
    "name": "ipython",
    "version": 3
   },
   "file_extension": ".py",
   "mimetype": "text/x-python",
   "name": "python",
   "nbconvert_exporter": "python",
   "pygments_lexer": "ipython3",
   "version": "3.9.13"
  }
 },
 "nbformat": 4,
 "nbformat_minor": 5
}
