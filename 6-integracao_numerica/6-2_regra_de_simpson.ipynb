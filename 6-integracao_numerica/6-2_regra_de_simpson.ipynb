{
 "cells": [
  {
   "cell_type": "markdown",
   "id": "149401cb",
   "metadata": {},
   "source": [
    "# 6.2 Regra de Simpson"
   ]
  },
  {
   "cell_type": "code",
   "execution_count": 33,
   "id": "6aea0546",
   "metadata": {},
   "outputs": [],
   "source": [
    "def simpson(f, a, b, N):\n",
    "    \"\"\"Retorna uma aproximação para a integral definida de 'a' a 'b'\n",
    "    de uma função real f de uma variável usando a regra de Simpson\n",
    "    composta com N subdivisões do intervalo (N deve ser par).\"\"\"\n",
    "    assert a <= b\n",
    "    assert isinstance(N, int) and N >= 1 and N % 2 == 0\n",
    "    \n",
    "    h = (b - a) / N             # tamanho do passo\n",
    "    # soma dos valores de f nos pontos requeridos:\n",
    "    S = (f(a) + f(b) + 4 * f(b - h))\n",
    "    x = a\n",
    "    for _ in range(1, N // 2):\n",
    "        x += 2 * h\n",
    "        S += 2 * f(x) + 4 * f(x - h)\n",
    "    \n",
    "    integral = S * h / 3.0\n",
    "    return integral"
   ]
  },
  {
   "cell_type": "code",
   "execution_count": 36,
   "id": "b2a8dbed",
   "metadata": {},
   "outputs": [
    {
     "data": {
      "text/plain": [
       "2.0000526243411856"
      ]
     },
     "execution_count": 36,
     "metadata": {},
     "output_type": "execute_result"
    }
   ],
   "source": [
    "from math import sin, pi\n",
    "\n",
    "\n",
    "simpson(sin, 0, pi, 12)"
   ]
  },
  {
   "cell_type": "code",
   "execution_count": null,
   "id": "aecb806b",
   "metadata": {},
   "outputs": [],
   "source": []
  }
 ],
 "metadata": {
  "kernelspec": {
   "display_name": "Python 3 (ipykernel)",
   "language": "python",
   "name": "python3"
  },
  "language_info": {
   "codemirror_mode": {
    "name": "ipython",
    "version": 3
   },
   "file_extension": ".py",
   "mimetype": "text/x-python",
   "name": "python",
   "nbconvert_exporter": "python",
   "pygments_lexer": "ipython3",
   "version": "3.9.13"
  }
 },
 "nbformat": 4,
 "nbformat_minor": 5
}
