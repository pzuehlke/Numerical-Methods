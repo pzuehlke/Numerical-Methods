{
 "cells": [
  {
   "cell_type": "markdown",
   "id": "dc590420",
   "metadata": {},
   "source": [
    "$ \\DeclareMathOperator{\\vol}{vol}\n",
    "\\newcommand{\\mbf}{\\mathbf}\n",
    "\\newcommand{\\set}[2]{\\big\\{#1\\,\\setsep\\,#2\\big\\}}\n",
    "\\newcommand{\\setsep}{\\text{\\ \\large$\\pmb\\vert$\\ }}\n",
    "\\newcommand{\\setsepa}{\\text{\\ \\large$:$\\ }}\n",
    "$\n",
    "\n",
    "\n",
    "# O método de Monte Carlo"
   ]
  },
  {
   "cell_type": "markdown",
   "id": "ab1b9ee4",
   "metadata": {},
   "source": [
    "## $ \\S 1 $ Introdução\n",
    " \n",
    "Por **método de Monte Carlo** entende-se uma classe de algoritmos que consistem da execução de um alto número $ N $ de *experimentos* ou *ensaios* e da análise estatística dos resultados para se obter conclusões numéricas. Ele é amplamente empregado em Física, Química, Engenharia e outras áreas. A melhor maneira de entendê-lo é por meio de alguns exemplos.\n",
    "\n",
    "**Exemplo 1 (estimando $ \\pi $ jogando dardos):** Considere uma pessoa que joga dardos num alvo que tem a forma do disco $ D $ em $ \\mathbb R^2 $ de raio $ 1 $ e centro na origem, descrito pela desigualdade\n",
    "$$\n",
    "x^2 + y^2 \\le 1\\,.\n",
    "$$\n",
    "Este disco tem área $ \\pi $ e está contido no quadrado $ Q $ de área $ 4 $ determinado por\n",
    "$$\n",
    "\\lvert{x}\\rvert \\le 1\\,, \\quad \\lvert{y}\\rvert \\le 1\\,.\n",
    "$$\n",
    "Assuma que a pessoa é competente o suficiente para sempre acertar o quadrado, mas fora isto os dardos são jogados ao acaso. A probabilidade que um ponto escolhido de forma uniformemente aleatória em $ Q $ esteja dentro do disco $ D $ é o quociente entre as áreas, \n",
    "$$\n",
    "\\frac{\\text{área}(D)}{\\text{área}(Q)} = \\frac{\\pi}{4}\\,.\n",
    "$$\n",
    "\n",
    "Suponha que escolhamos aleatoriamente $ 1, 2, 3, \\dots $ até um total de $ N $ pontos dentro de $ Q $, e seja $ n $ o número destes pontos pertencentes ao disco $ D $. Um teorema da Teoria da Probabilidade chamado de **Lei dos Grandes Números** implica que o quociente entre o número de \"sucessos\" $ n $ e o número total $ N $ de pontos na amostra tende à probabilidade do sucesso:\n",
    "$$\n",
    "\\lim_{N \\to \\infty} \\frac{n}{N} = \\frac{\\pi}{4}\\,.\n",
    "$$\n",
    "Mais ainda, fixado $ \\varepsilon > 0 $ positivo qualquer,\n",
    "$$\n",
    "\\lim_{N \\to \\infty} \\text{pr}\\bigg(\\Big\\lvert \\frac{n}{N} - \\frac{\\pi}{4}\\Big\\rvert \\le  \\varepsilon \\bigg) = 1\\,.\n",
    "$$\n",
    "Em palavras, a probabilidade que a fração entre o número de pontos dentro do disco ($ n $) e o número total de pontos ($ N $) difira de $ \\pi/4 $ por mais que $ \\varepsilon $ *tende a zero* conforme o número de experimentos aumenta! Portanto podemos obter uma estimativa para $ \\pi $ usando o computador para simular um número $ N $ grande de ensaios e calculando o quociente $4n/N $ correspondente."
   ]
  },
  {
   "cell_type": "markdown",
   "id": "4cdbc383",
   "metadata": {},
   "source": [
    "## $ \\S 2 $ Implementação do método de Monte Carlo\n",
    "\n",
    "A implementação do método de Monte Carlo genérico é muito simples."
   ]
  },
  {
   "cell_type": "code",
   "execution_count": 8,
   "id": "49607b37",
   "metadata": {},
   "outputs": [],
   "source": [
    "def monte_carlo(ensaio, N):\n",
    "    \"\"\"\n",
    "    Dada uma função 'ensaio' que simula um único experimento, a ser\n",
    "    implementada separadamente pelo usuário, e o número N de experimentos\n",
    "    a serem realizados, contamos o número n de sucessos e retornamos n / N. \n",
    "    'ensaio' deve ser uma função sem argumentos que retorna True ou False.\n",
    "    \"\"\"\n",
    "    n = 0\n",
    "    for _ in range(N):\n",
    "        if ensaio():\n",
    "            n += 1\n",
    "            \n",
    "    return n / N"
   ]
  },
  {
   "cell_type": "markdown",
   "id": "a66e3b52",
   "metadata": {},
   "source": [
    "📝 Para simular escolhas uniformemente aleatórias, podemos utilizar os seguintes procedimentos do módulo `numpy.random`:\n",
    "* `randint(a, b)` retorna um inteiro aleatório entre os inteiros $ a $ e $ b - 1 $ (inclusive);\n",
    "* `uniform(a, b)` retorna um float aleatório em $ [a, b) $.\n",
    "\n",
    "Em ambos os casos podemos também gerar um array de dimensões especificadas contendo números dos tipos acima usando um terceiro argumento `size=(...)`.\n",
    "\n",
    "**Exemplo 2:** Execute as células abaixo várias vezes e note como os resultados mudam."
   ]
  },
  {
   "cell_type": "code",
   "execution_count": 9,
   "id": "b0069e18",
   "metadata": {},
   "outputs": [
    {
     "name": "stdout",
     "output_type": "stream",
     "text": [
      "27\n",
      "0.4612158062294326\n"
     ]
    }
   ],
   "source": [
    "from numpy.random import randint, uniform\n",
    "\n",
    "\n",
    "# Gerando um inteiro aleatório entre 0 e 100:\n",
    "print(randint(0, 101))\n",
    "# Gerando um float aleatório entre 0 e 1:\n",
    "print(uniform(0, 1))"
   ]
  },
  {
   "cell_type": "code",
   "execution_count": 14,
   "id": "1c28e285",
   "metadata": {
    "scrolled": true
   },
   "outputs": [
    {
     "name": "stdout",
     "output_type": "stream",
     "text": [
      "[ 0.36595442  4.04582058 -1.85894542 -1.83115309 -0.43650828]\n"
     ]
    }
   ],
   "source": [
    "# Vetor com 5 coordenadas float aleatórias em [-5, 5):\n",
    "print(uniform(-5, 5, size=5))"
   ]
  },
  {
   "cell_type": "code",
   "execution_count": 11,
   "id": "fc10c600",
   "metadata": {},
   "outputs": [
    {
     "name": "stdout",
     "output_type": "stream",
     "text": [
      "[[7 0 1 5]\n",
      " [3 8 8 0]]\n"
     ]
    }
   ],
   "source": [
    "# Matriz 2x4 com entradas inteiras e aleatórias entre 0 e 9:\n",
    "print(randint(0, 10, size=(2, 4)))"
   ]
  },
  {
   "cell_type": "code",
   "execution_count": 30,
   "id": "78eca570",
   "metadata": {
    "scrolled": true
   },
   "outputs": [
    {
     "name": "stdout",
     "output_type": "stream",
     "text": [
      "[[7.07463351 9.21785701 8.2088755 ]\n",
      " [2.72329386 7.21032066 0.85734155]\n",
      " [5.3501414  0.67738912 0.08070317]]\n"
     ]
    }
   ],
   "source": [
    "# Matriz 3x3 com entradas float aleatórias em [0, 10):\n",
    "print(uniform(0, 10, size=(3, 3)))"
   ]
  },
  {
   "cell_type": "markdown",
   "id": "13ca7650",
   "metadata": {},
   "source": [
    "**Problema 1:** Crie um gerador simples de senhas aleatórias com ajuda do procedimento `randint` e da função `chr`, que converte inteiros em caracteres segundo a [tabela ASCII](https://en.wikipedia.org/wiki/ASCII#Printable_characters)."
   ]
  },
  {
   "cell_type": "markdown",
   "id": "7fe8580a",
   "metadata": {},
   "source": [
    "*Solução:*"
   ]
  },
  {
   "cell_type": "code",
   "execution_count": null,
   "id": "ebed717f",
   "metadata": {},
   "outputs": [],
   "source": []
  },
  {
   "cell_type": "markdown",
   "id": "c9ed72cb",
   "metadata": {},
   "source": [
    "## $ \\S 3 $ Aplicando o método de Monte Carlo para calcular $ \\pi $"
   ]
  },
  {
   "cell_type": "markdown",
   "id": "e58455bb",
   "metadata": {},
   "source": [
    "**Problema 2:** Agora vamos pôr em prática a idéia do Exemplo 1 para calcular $ \\pi $.\n",
    "\n",
    "(a) Crie um procedimento `pertence_ao_disco` (sem parâmetros) que simula o experimento descrito no Exemplo 1, ou seja, que gera dois números aleatórios $ x $ e $ y $ entre $ [-1, 1] $ e retorna `True` se e somente se  $ x^2 + y^2 = 1 $.\n",
    "\n",
    "(b) Use o método de Monte Carlo e o seu experimento para obter uma aproximação para o valor de $ \\pi $ correta até a segunda casa decimal."
   ]
  },
  {
   "cell_type": "markdown",
   "id": "98978f58",
   "metadata": {},
   "source": [
    "*Solução:*"
   ]
  },
  {
   "cell_type": "code",
   "execution_count": 5,
   "id": "1feaa789",
   "metadata": {},
   "outputs": [],
   "source": [
    "from numpy.random import uniform\n",
    "\n",
    "\n",
    "def pertence_ao_disco() -> bool:\n",
    "    \"\"\"\n",
    "    Define um ensaio que escolhe um ponto (x, y) aleatoriamente\n",
    "    dentro do quadrado Q definido por\n",
    "        |x| <= 1,    |y| <= 1\n",
    "    e retorna True se o ponto pertence ao disco D ou False caso contrário.\n",
    "    \"\"\"\n",
    "    x = uniform(-1, 1)\n",
    "    y = uniform(-1, 1)\n",
    "    \n",
    "    return x**2 + y**2 <= 1"
   ]
  },
  {
   "cell_type": "code",
   "execution_count": 6,
   "id": "400333d6",
   "metadata": {},
   "outputs": [
    {
     "name": "stdout",
     "output_type": "stream",
     "text": [
      "Valor de pi fornecido pelo NumPy:             3.141592653589793\n",
      "Estimativa obtida pelo método de Monte Carlo: 3.13592\n",
      "A cada vez que executamos a célula, obtemos um resultado diferente!\n"
     ]
    }
   ],
   "source": [
    "from numpy import pi\n",
    "\n",
    "\n",
    "N = 10**5\n",
    "estimativa = 4 * monte_carlo(pertence_ao_disco, N)\n",
    "\n",
    "print(f\"Valor de pi fornecido pelo NumPy:             {pi}\")\n",
    "print(f\"Estimativa obtida pelo método de Monte Carlo: {estimativa}\")\n",
    "print(\"A cada vez que executamos a célula, obtemos um resultado diferente!\")"
   ]
  },
  {
   "cell_type": "markdown",
   "id": "e5c6bf4d",
   "metadata": {},
   "source": [
    "📝 No exemplo anterior, realizar $ 10 $ conjuntos de $ 10^4 $ ensaios cada e depois tomar a média aritmética das $ 10 $ estimativas dá no mesmo que realizar um único conjunto de $ 10^5 $ ensaios, como fizemos. Mais geralmente, como no método de Monte Carlo assumimos que cada ensaio é independente dos outros, não faz diferença se realizamos $ m $  conjuntos de $ N_1,\\dots,N_m $ ensaios cada e depois tomamos a média ponderada (pelo número correspondente de ensaios) das $ m $ estimativas, ou se realizamos um único conjunto de $ N_1 + \\cdots + N_m $ ensaios e calculamos o quociente do número de sucessos pelo número de ensaios. De fato:\n",
    "$$\n",
    "\\frac{\\frac{n_1}{N_1}\\,N_1 + \\frac{n_2}{N_2}\\,N_2 + \\cdots + \\frac{n_m}{N_m}\\,N_m}{N_1 + N_2 + \\cdots + N_m} = \\frac{n_1 + n_2 + \\cdots + n_m}{N_1 + N_2 + \\cdots + N_m}.\n",
    "$$\n"
   ]
  },
  {
   "cell_type": "markdown",
   "id": "37dd2854",
   "metadata": {},
   "source": [
    "**Problema 3:** Um teorema de E. Cèsaro (1850—1906) diz que a probabilidade de dois naturais escolhidos ao acaso serem relativamente primos é de $ \\frac{6}{\\pi^2} $. (Dois inteiros $ m $ e $ n $ são *relativamente primos* caso $ \\text{mdc}(m, n) = 1 $.)\n",
    "\n",
    "(a) Construa um ensaio que escolhe aleatoriamente dois naturais entre um e um milhão ($ 10^6 $) e retorna `True` caso eles sejam relativamente primos ou `False` caso contrário.\n",
    "\n",
    "(b) Use o método de Monte Carlo e o teorema citado para obter uma aproximação para $ \\pi $."
   ]
  },
  {
   "cell_type": "markdown",
   "id": "63a21736",
   "metadata": {},
   "source": [
    "*Solução:*"
   ]
  },
  {
   "cell_type": "code",
   "execution_count": 37,
   "id": "2bfe83cb",
   "metadata": {},
   "outputs": [],
   "source": [
    "# (a):\n",
    "from numpy import sqrt, pi\n",
    "from numpy.random import randint\n",
    "\n",
    "\n",
    "def mdc(a, b):\n",
    "    \"\"\"Retorna o mdc de dois inteiros a, b. \"\"\"\n",
    "    assert isinstance(a, int) and isinstance(b, int)\n",
    "    if b == 0:\n",
    "        return a\n",
    "    else:\n",
    "        return mdc(b, a % b)\n",
    "    \n",
    "    \n",
    "# (b):"
   ]
  },
  {
   "cell_type": "markdown",
   "id": "658192a1",
   "metadata": {},
   "source": [
    "## $ \\S 4 $ Sobre o significado do termo \"uniformemente aleatório\"\n",
    "\n",
    "Seja $ \\Omega $ um conjunto. Informalmente, a distribuição **uniforme** de probabilidade em $ \\Omega $ é aquela que atribiu a cada um de seus elementos $ \\omega \\in \\Omega $ (chamados de **eventos** neste contexto) a mesma probabilidade. Nesta situação também dizemos que todos os eventos são **equiprováveis**.\n",
    "\n",
    "No caso em que $ \\Omega $ é finito, digamos com $ N $ elementos, isto significa simplesmente que\n",
    "$$\n",
    "    \\text{pr}(\\omega) = \\frac{1}{N} \\qquad \\text{para todo $ \\omega \\in \\Omega $}.\n",
    "$$\n",
    "No caso contínuo, digamos em que $ \\Omega $ é um subconjunto de $ \\mathbb R $, o significado é que a probabilidade que um evento pertença a um subconjunto $ S \\subset \\Omega $ é dada por \n",
    "$$\n",
    "    \\frac{\\text{comprimento}(S)}{\\text{comprimento}(\\Omega)} = \\frac{\\int_S 1\\,dx}{\\int_\\Omega 1\\,dx}\\ .\n",
    "$$\n",
    "Nos casos considerados aqui, a integral no denominador é sempre positiva e finita. Analogamente para dimensões mais altas, com área, volume, etc. em lugar de comprimento.\n",
    "\n",
    "Estritamente falando, por escolha *aleatória* entende-se uma escolha feita de acordo com uma distribuição qualquer de probabilidade, porém neste caderno supomos sempre que a distribuição subjacente é *uniforme*."
   ]
  },
  {
   "cell_type": "markdown",
   "id": "ccb1b489",
   "metadata": {},
   "source": [
    "## $ \\S 5 $ Estimando $ e $ via método de Monte Carlo"
   ]
  },
  {
   "attachments": {},
   "cell_type": "markdown",
   "id": "5fb5cb96",
   "metadata": {},
   "source": [
    "**Exemplo 3 (urna de números reais):** Imagine uma \"urna\" contendo uma cópia de cada número real. Suponha que dela retiremos aleatoriamente, em seqüência e sem reposição, números reais $ r_1, r_2, r_3, \\dots $. A probabilidade que ao retirar o $k$-ésimo número $ r_k $, tenhamos\n",
    "$$\n",
    "r_1 < r_2 < \\cdots < r_k\\quad \\text{é} \\quad \\frac{1}{k!}\\,,\n",
    "$$\n",
    "já que todas as $ k! $ permutações destes números são equiprováveis, mas somente\n",
    "uma delas tem a ordem correta.\n",
    "\n",
    "Agora suponha que efetuemos estas retiradas até a primeira vez em que a lista resultante _não_ possuir a ordem correta. A probabilidade que isto aconteça exatamente na escolha do $ k $-ésimo número é:\n",
    "$$\n",
    "\\frac{1}{(k - 1)!} - \\frac{1}{k!} = \\frac{1}{(k - 1)!}\\bigg(1 - \\frac{1}{k}\\bigg).\n",
    "$$\n",
    "Deduz-se daí que a probabilidade que o índice $ k $ da seleção que causa a primeira desordenação seja _ímpar_ é\n",
    "\\begin{alignat*}{3}\n",
    "&\\bigg(\\frac{1}{2!} - \\frac{1}{3!}\\bigg) + \\bigg(\\frac{1}{4!} - \\frac{1}{5!}\\bigg) + \\bigg(\\frac{1}{6!} - \\frac{1}{7!}\\bigg) + \\cdots  \\\\\n",
    "= &\\sum_{k=2}^{\\infty}\\frac{(-1)^k}{k!} = \\sum_{k=0}^{\\infty}\\frac{(-1)^k}{k!} = \\frac{1}{e}\\,.\n",
    "\\end{alignat*}\n",
    "Podemos portanto estimar $ e $ criando um experimento que escolhe números reais aleatoriamente até que o número $ r_k $ que foi extraído por último seja menor que $ r_{k - 1} $. Quando $ k $ é _ímpar_, contabilizamos o resultado como um _sucesso_. Se realizarmos $ N $ ensaios como este e se $ n $ for o número total de sucessos, então\n",
    "$$\n",
    "\\frac{n}{N} \\approx \\frac{1}{e}\n",
    "$$\n",
    "para $ N $ grande, pela Lei dos Grandes Números."
   ]
  },
  {
   "cell_type": "markdown",
   "id": "eac56834",
   "metadata": {},
   "source": [
    "**Problema 4:** Estime $ e $ usando o método de Monte Carlo aplicado ao ensaio do Exemplo 3, com $ N = 10^6 $. *Dica:* Tudo que foi discutido ainda é válido se os números reais forem escolhidos dentro do intervalo $ [0, 1] $. Defina um procedimento que continua gerando números aleatórios até que o atual seja menor que o anterior."
   ]
  },
  {
   "cell_type": "markdown",
   "id": "425aea99",
   "metadata": {},
   "source": [
    "*Solução:*"
   ]
  },
  {
   "cell_type": "code",
   "execution_count": null,
   "id": "55987b25",
   "metadata": {},
   "outputs": [],
   "source": []
  },
  {
   "attachments": {},
   "cell_type": "markdown",
   "id": "85c45c5e",
   "metadata": {},
   "source": [
    "## $ \\S 6 $ A agulha de Buffon\n",
    "\n",
    "**Exemplo 4:** O seguinte problema famoso foi formulado pelo naturalista francês Georges de Buffon (1707–1788). Identifique um pedaço de chão com $ \\mathbb R^2 $ e suponha que as retas de equação\n",
    "$$\n",
    "x = \\pm 1\\,, \\quad x = \\pm 3\\,, \\quad \\cdots \\quad  x = \\pm 2n - 1\\,, \\quad \\cdots \\qquad (n \\in \\mathbb N)\n",
    "$$\n",
    "estejam todas demarcadas. Jogamos uma agulha de comprimento $ 2 $ no chão de\n",
    "modo que sua posição e direção ao atingir um estado de repouso sejam\n",
    "determinadas de maneira uniformemente aleatória. Qual é a probabilidade que a\n",
    "agulha cruze uma linha demarcada?\n",
    "\n",
    "![Agulha de Buffon](buffon_needle.png \"100 lançamentos da agulha de Buffon\")\n",
    "\n",
    "A posição final do centro da agulha está a uma distância $ d \\in [0, 1] $ de alguma das retas demarcadas, e todas estas distâncias são equiprováveis. Similarmente, cada um dos ângulos $ \\theta \\in \\big[0, \\frac{\\pi}{2}\\big] $ que podem ser formados pela agulha com a reta horizontal que passa pelo seu centro é equiprovável. Se $ x $ é a coordenada do centro da agulha, então as duas pontas têm coordenadas $ x \\pm \\cos \\theta $. Portanto, ela cruzará uma linha demarcada se e somente se\n",
    "$$\n",
    "0 \\le d \\le \\cos \\theta\\,.\n",
    "$$\n",
    "Concluímos daí que a probabilidade procurada é o quociente da área sob o gráfico da função $ \\theta \\mapsto \\cos \\theta $ para $ \\theta \\in \\big[0, \\frac{\\pi}{2}\\big] $ pela área do retângulo $ \\big[0, \\frac{\\pi}{2}\\big] \\times [0, 1] $:\n",
    "$$\n",
    "\\frac{\\int_0^\\frac{\\pi}{2} \\cos \\theta\\,d\\theta}{\\int_0^{\\frac{\\pi}{2}} 1\\,d\\theta} = \\frac{1}{\\tfrac{\\pi}{2}} = \\frac{2}{\\pi}\\,.\n",
    "$$"
   ]
  },
  {
   "cell_type": "markdown",
   "id": "e4b33d03",
   "metadata": {},
   "source": [
    "**Problema 5:** \n",
    "\n",
    "(a) Crie um ensaio que simula o lançamento de uma agulha nos moldes do Exemplo 4 e utilize o método de Monte Carlo para obter uma estimativa para $ \\pi $.\n",
    "\n",
    "(b) Suponha que a situação seja aquela descrita no Exemplo 4, mas que a agulha agora tenha comprimento $ a \\le 2 $. Calcule a probabilidade $ p(a) $ que ela cruze alguma das linhas demarcadas."
   ]
  },
  {
   "cell_type": "markdown",
   "id": "6fbafef3",
   "metadata": {},
   "source": [
    "*Solução:*"
   ]
  },
  {
   "cell_type": "code",
   "execution_count": null,
   "id": "7aea125c",
   "metadata": {},
   "outputs": [],
   "source": []
  },
  {
   "cell_type": "code",
   "execution_count": null,
   "id": "b462834e",
   "metadata": {},
   "outputs": [],
   "source": [
    "\n",
    "import matplotlib.pyplot as plt\n",
    "from numpy import cos, sin, pi\n",
    "from numpy.random import uniform\n",
    "\n",
    "\n",
    "def display_buffon_needles(throws=50, needle_length=2,\n",
    "                           line_spacing=2, grid_lines=6) -> None:\n",
    "    \"\"\"\n",
    "    Display the results of several trials of Buffon's needle problem.\n",
    "    Parameters:\n",
    "        * The number of throws.\n",
    "        * The length of the needle.\n",
    "        * The spacing between demarcated lines.\n",
    "        * The number of grid (demarcated) lines to be displayed.\n",
    "    \"\"\"\n",
    "    # Set up the figure:\n",
    "    plt.xlim(-grid_lines * line_spacing / 2 - needle_length,\n",
    "             grid_lines * line_spacing / 2 + needle_length)\n",
    "    plt.ylim(-grid_lines * line_spacing / 2 - needle_length,\n",
    "             grid_lines * line_spacing / 2 + needle_length)\n",
    "    grid_line_coordinates = []\n",
    "    # Draw the horizontal grid lines and vertical auxiliary lines:\n",
    "    for i in range(0, grid_lines):\n",
    "        grid_line_coordinate = (-(grid_lines - 1) * line_spacing / 2 \n",
    "                    + i * line_spacing)\n",
    "        grid_line_coordinates.append(grid_line_coordinate)\n",
    "        plt.axvline(x = grid_line_coordinate, linewidth=1,\n",
    "                    color=\"green\", linestyle='--',\n",
    "                    label=\"demarcated lines\" if i == 0 else \"\")\n",
    "    count = 0    # Number of needles crossing the demarcated lines.\n",
    "    for _ in range(throws):\n",
    "        # Choose the angle between the needle and the lines (0 <= angle <= pi):\n",
    "        angle = uniform(0, pi / 2)\n",
    "        # Choose the position of the needle's center and compute its endpoints:\n",
    "        x_center, y_center = uniform(-(grid_lines - 1) * line_spacing / 2,\n",
    "                                      (grid_lines - 1) * line_spacing / 2,\n",
    "                                      size=2)\n",
    "        x1 = x_center - (needle_length / 2) * cos(angle)\n",
    "        y1 = y_center - (needle_length / 2) * sin(angle)\n",
    "        x2 = x_center + (needle_length / 2) * cos(angle)\n",
    "        y2 = y_center + (needle_length / 2) * sin(angle)\n",
    "        # Draw the needle:\n",
    "        plt.plot([x1, x2], [y1, y2], color='red', linewidth=1.5,\n",
    "                 label=\"needles\" if _ == 0 else \"\")\n",
    "        lines_in_between = [x for x in grid_line_coordinates if x1 < x < x2]\n",
    "        if lines_in_between:\n",
    "            count += 1\n",
    "    \n",
    "    plt.title(f\"Buffon's needle problem: {throws} throws with needle length \"\n",
    "              f\"{needle_length}\\nand line spacing {line_spacing}. Needles \"\n",
    "              f\"crossing the demarcated lines: {count}.\")\n",
    "    plt.xlabel(\"$ x $\")\n",
    "    plt.ylabel(\"$ y $\")\n",
    "#    plt.legend()\n",
    "    plt.show()\n",
    "\n",
    "# Example usage\n",
    "display_buffon_needles(throws=100, needle_length=2,\n",
    "                       line_spacing=2, grid_lines=6)"
   ]
  }
 ],
 "metadata": {
  "kernelspec": {
   "display_name": "Python 3 (ipykernel)",
   "language": "python",
   "name": "python3"
  },
  "language_info": {
   "codemirror_mode": {
    "name": "ipython",
    "version": 3
   },
   "file_extension": ".py",
   "mimetype": "text/x-python",
   "name": "python",
   "nbconvert_exporter": "python",
   "pygments_lexer": "ipython3",
   "version": "3.9.16"
  }
 },
 "nbformat": 4,
 "nbformat_minor": 5
}
