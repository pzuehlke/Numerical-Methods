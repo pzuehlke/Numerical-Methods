{
 "cells": [
  {
   "cell_type": "markdown",
   "id": "dc590420",
   "metadata": {},
   "source": [
    "$ \\DeclareMathOperator{\\vol}{vol} $\n",
    "$ \\newcommand{\\mbf}{\\mathbf} $\n",
    "\n",
    "# Introdução ao método de Monte Carlo"
   ]
  },
  {
   "cell_type": "markdown",
   "id": "ab1b9ee4",
   "metadata": {},
   "source": [
    "## $ \\S 1 $ Descrição do método de Monte Carlo\n",
    " \n",
    "Por **método de Monte Carlo** entende-se uma classe de algoritmos que consistem da execução de um alto número $ N $ de *experimentos* ou *ensaios* e da análise estatística dos resultados para se obter conclusões numéricas. \n",
    "\n",
    "**Exemplo 1 (estimando $ \\pi $):** Considere o disco $ D $ em $ \\mathbb R^2 $ de raio $ 1 $ e centro na origem, determinado pela desigualdade\n",
    "$$\n",
    "x^2 + y^2 \\le 1\\,.\n",
    "$$\n",
    "Este disco tem área $ \\pi $ e está contido no quadrado $ Q $ de área $ 4 $ descrito por\n",
    "$$\n",
    "\\lvert{x}\\rvert \\le 1\\,, \\quad \\lvert{y}\\rvert \\le 1\\,.\n",
    "$$\n",
    "A probabilidade que um ponto escolhido de forma uniformemente aleatória em $ Q $ esteja dentro do disco $ D $ é o quociente entre as áreas, \n",
    "$$\n",
    "\\frac{\\text{área}(D)}{\\text{área}(Q)} = \\frac{\\pi}{4}\\,.\n",
    "$$\n",
    "Suponha que escolhamos aleatoriamente $ 1, 2, 3, \\dots $ até um total de $ N $ pontos dentro de $ Q $, e seja $ n $ o número destes pontos pertencentes ao disco $ D $. Um teorema da Teoria da Probabilidade chamado de **Lei dos Grandes Números** implica que o quociente entre o número de \"sucessos\" $ n $ e o número total $ N $ de pontos na amostra tende à probabilidade do sucesso:\n",
    "$$\n",
    "\\lim_{N \\to \\infty} \\frac{n}{N} = \\frac{\\pi}{4}\\,.\n",
    "$$\n",
    "Mais ainda, fixado $ \\varepsilon > 0 $ positivo qualquer,\n",
    "$$\n",
    "\\lim_{N \\to \\infty} \\text{pr}\\bigg(\\Big\\lvert \\frac{n}{N} - \\frac{\\pi}{4}\\Big\\rvert \\le  \\varepsilon \\bigg) = 1\\,.\n",
    "$$\n",
    "Em palavras, a probabilidade que a fração entre o número de pontos dentro do disco ($ n $) e o número total de pontos ($ N $) difira de $ \\frac{\\pi}{4} $ por mais que $ \\varepsilon $ *tende a zero* conforme o número de experimentos aumenta!"
   ]
  },
  {
   "cell_type": "markdown",
   "id": "4cdbc383",
   "metadata": {},
   "source": [
    "## $ \\S 2 $ Implementação do método de Monte Carlo"
   ]
  },
  {
   "cell_type": "markdown",
   "id": "5b50f4a4",
   "metadata": {},
   "source": [
    "A implementação do método de Monte Carlo genérico é muito simples:"
   ]
  },
  {
   "cell_type": "code",
   "execution_count": 2,
   "id": "49607b37",
   "metadata": {},
   "outputs": [],
   "source": [
    "def monte_carlo(ensaio, N):\n",
    "    \"\"\"\n",
    "    Dada uma função 'ensaio' (a ser implementada separadamente pelo usuário)\n",
    "    que simula um único experimento e o número N de experimentos a serem\n",
    "    realizados, contamos o número n de sucessos e retornamos n / N. \n",
    "    'ensaio' deve ser uma função sem argumentos que retorna True ou False.\n",
    "    \"\"\"\n",
    "    n = 0\n",
    "    for _ in range(N):\n",
    "        if ensaio():\n",
    "            n += 1\n",
    "            \n",
    "    return n / N"
   ]
  },
  {
   "cell_type": "markdown",
   "id": "a66e3b52",
   "metadata": {},
   "source": [
    "📝 Para simular escolhas uniformemente aleatórias, podemos utilizar os seguintes procedimentos do módulo `numpy.random`:\n",
    "* `randint(a, b)` retorna um inteiro aleatório entre os inteiros $ a $ e $ b - 1 $ (inclusive);\n",
    "* `uniform(a, b)` retorna um float aleatório em $ [a, b) $.\n",
    "\n",
    "Em ambos os casos podemos também gerar um array de dimensões especificadas contendo números dos tipos acima usando um terceiro argumento `size=(...)`.\n",
    "\n",
    "**Exemplo 2:** Execute as células abaixo várias vezes e note como os resultados mudam."
   ]
  },
  {
   "cell_type": "code",
   "execution_count": 13,
   "id": "b0069e18",
   "metadata": {},
   "outputs": [
    {
     "name": "stdout",
     "output_type": "stream",
     "text": [
      "18\n",
      "0.09485570071978189\n"
     ]
    }
   ],
   "source": [
    "from numpy.random import randint, uniform\n",
    "\n",
    "\n",
    "# Gerando um inteiro aleatório entre 0 e 100:\n",
    "print(randint(0, 101))\n",
    "# Gerando um float aleatório entre 0 e 1:\n",
    "print(uniform(0, 1))"
   ]
  },
  {
   "cell_type": "code",
   "execution_count": 28,
   "id": "1c28e285",
   "metadata": {
    "scrolled": true
   },
   "outputs": [
    {
     "name": "stdout",
     "output_type": "stream",
     "text": [
      "[ 0.70085947  2.90343292 -4.44763977  1.88892643  4.79070327]\n"
     ]
    }
   ],
   "source": [
    "# Vetor com 5 coordenadas float aleatórias em [-5, 5):\n",
    "print(uniform(-5, 5, size=5))"
   ]
  },
  {
   "cell_type": "code",
   "execution_count": 26,
   "id": "fc10c600",
   "metadata": {},
   "outputs": [
    {
     "name": "stdout",
     "output_type": "stream",
     "text": [
      "[[7 9 1 1]\n",
      " [2 6 7 0]]\n"
     ]
    }
   ],
   "source": [
    "# Matriz 2x4 com entradas inteiras e aleatórias entre 0 e 9:\n",
    "print(randint(0, 10, size=(2, 4)))"
   ]
  },
  {
   "cell_type": "code",
   "execution_count": 30,
   "id": "78eca570",
   "metadata": {},
   "outputs": [
    {
     "name": "stdout",
     "output_type": "stream",
     "text": [
      "[[7.07463351 9.21785701 8.2088755 ]\n",
      " [2.72329386 7.21032066 0.85734155]\n",
      " [5.3501414  0.67738912 0.08070317]]\n"
     ]
    }
   ],
   "source": [
    "# Matriz 3x3 com entradas float aleatórias em [0, 10):\n",
    "print(uniform(0, 10, size=(3, 3)))"
   ]
  },
  {
   "cell_type": "markdown",
   "id": "658192a1",
   "metadata": {},
   "source": [
    "## $ \\S 3 $ Sobre o significado do termo \"uniformemente aleatório\"\n",
    "\n",
    "Seja $ \\Omega $ um conjunto. Informalmente, a distribuição **uniforme** de probabilidade em $ \\Omega $ é aquela que atribiu a cada um de seus elementos $ \\omega \\in \\Omega $ (chamados de **eventos** neste contexto) a mesma probabilidade. Nesta situação também dizemos que todos os eventos são **equiprováveis**.\n",
    "\n",
    "No caso em que $ \\Omega $ é finito, digamos com $ N $ elementos, isto significa simplesmente que\n",
    "$$\n",
    "    \\text{pr}(\\omega) = \\frac{1}{N} \\qquad \\text{para todo $ \\omega \\in \\Omega $}.\n",
    "$$\n",
    "No caso contínuo, digamos em que $ \\Omega $ é um subconjunto de $ \\mathbb R $, o significado é que a probabilidade que um evento pertença a um subconjunto $ S \\subset \\Omega $ é dada por \n",
    "$$\n",
    "    \\frac{\\text{comprimento}(S)}{\\text{comprimento}(\\Omega)} = \\frac{\\int_S 1\\,dx}{\\int_\\Omega 1\\,dx}\\ .\n",
    "$$\n",
    "Nos casos que consideraremos, a integral no denominador será sempre positiva e finita. Analogamente para dimensões mais altas, com área, volume, etc. em lugar de comprimento.\n",
    "\n",
    "Estritamente falando, por escolha *aleatória* entende-se uma escolha feita de acordo com uma distribuição qualquer de probabilidade, porém neste caderno suporemos sempre que a distribuição subjacente é *uniforme*."
   ]
  },
  {
   "cell_type": "markdown",
   "id": "c9ed72cb",
   "metadata": {},
   "source": [
    "## $ \\S 4 $ Estimando $ \\pi $ via método de Monte Carlo"
   ]
  },
  {
   "cell_type": "markdown",
   "id": "e58455bb",
   "metadata": {},
   "source": [
    "**Problema 1:** Refira-se ao Exemplo 1.\n",
    "\n",
    "(a) Crie um procedimento `pertence_ao_disco` (sem parâmetros) que simula o experimento descrito no Exemplo 1, ou seja, gera dois números aleatórios $ x $ e $ y $ entre $ [-1, 1] $ e retorna `True` se e somente se  $ x^2 + y^2 = 1 $.\n",
    "\n",
    "(b) Use o método de Monte Carlo e o seu experimento para obter uma estimativa para o valor de $ \\pi $ correta até a segunda casa decimal."
   ]
  },
  {
   "cell_type": "markdown",
   "id": "98978f58",
   "metadata": {},
   "source": [
    "*Solução:*"
   ]
  },
  {
   "cell_type": "code",
   "execution_count": 5,
   "id": "1feaa789",
   "metadata": {},
   "outputs": [],
   "source": [
    "from numpy.random import uniform\n",
    "\n",
    "\n",
    "def pertence_ao_disco() -> bool:\n",
    "    \"\"\"\n",
    "    Define um ensaio que escolhe um ponto (x, y) aleatoriamente\n",
    "    dentro do quadrado Q definido por\n",
    "        |x| <= 1,    |y| <= 1\n",
    "    e retorna True se o ponto pertence ao disco D ou False caso contrário.\n",
    "    \"\"\"\n",
    "    x = uniform(-1, 1)\n",
    "    y = uniform(-1, 1)\n",
    "    \n",
    "    return x**2 + y**2 <= 1"
   ]
  },
  {
   "cell_type": "code",
   "execution_count": 6,
   "id": "400333d6",
   "metadata": {
    "scrolled": false
   },
   "outputs": [
    {
     "name": "stdout",
     "output_type": "stream",
     "text": [
      "Valor de pi fornecido pelo NumPy:             3.141592653589793\n",
      "Estimativa obtida pelo método de Monte Carlo: 3.13592\n",
      "A cada vez que executamos a célula, obtemos um resultado diferente!\n"
     ]
    }
   ],
   "source": [
    "from numpy import pi\n",
    "\n",
    "\n",
    "N = 10**5\n",
    "estimativa = 4 * monte_carlo(pertence_ao_disco, N)\n",
    "\n",
    "print(f\"Valor de pi fornecido pelo NumPy:             {pi}\")\n",
    "print(f\"Estimativa obtida pelo método de Monte Carlo: {estimativa}\")\n",
    "print(\"A cada vez que executamos a célula, obtemos um resultado diferente!\")"
   ]
  },
  {
   "cell_type": "markdown",
   "id": "e5c6bf4d",
   "metadata": {},
   "source": [
    "📝 No exemplo anterior, realizar $ 10 $ conjuntos de $ 10^4 $ ensaios cada e depois tomar a média aritmética das $ 10 $ estimativas dá no mesmo que realizar um único conjunto de $ 10^5 $ ensaios, como fizemos. Mais geralmente, como no método de Monte Carlo assumimos que cada ensaio é independente dos outros, não faz diferença se realizamos $ m $  conjuntos de $ N_1,\\dots,N_m $ ensaios cada e depois tomamos a média ponderada (pelo número correspondente de ensaios) das $ m $ estimativas, ou se realizamos um único conjunto de $ N_1 + \\cdots + N_m $ ensaios e calculamos o quociente do número de sucessos pelo número de ensaios. De fato:\n",
    "$$\n",
    "\\frac{N_1\\, \\frac{n_1}{N_1} + N_2\\, \\frac{n_2}{N_2} + \\cdots + N_m\\, \\frac{n_m}{N_m}}{N_1 + N_2 + \\cdots + N_m} = \\frac{n_1 + n_2 + \\cdots + n_m}{N_1 + N_2 + \\cdots + N_m}.\n",
    "$$\n"
   ]
  },
  {
   "cell_type": "markdown",
   "id": "37dd2854",
   "metadata": {},
   "source": [
    "**Problema 2:** Um teorema de E. Cèsaro (1850—1906) diz que a probabilidade de dois naturais escolhidos ao acaso serem relativamente primos é de $ \\frac{6}{\\pi^2} $. (Dois inteiros $ m $ e $ n $ são *relativamente primos* caso $ \\text{mdc}(m, n) = 1 $.)\n",
    "\n",
    "(a) Construa um experimento que escolhe aleatoriamente dois números $ m $ e $ n $ entre $ 1 $ e $ 10^6 $ e retorna `True` caso eles sejam relativamente primos ou `False` caso contrário.\n",
    "\n",
    "(b) Use o método de Monte Carlo e o teorema citado para obter uma aproximação para $ \\pi $."
   ]
  },
  {
   "cell_type": "markdown",
   "id": "63a21736",
   "metadata": {},
   "source": [
    "*Solução:*"
   ]
  },
  {
   "cell_type": "code",
   "execution_count": 37,
   "id": "2bfe83cb",
   "metadata": {},
   "outputs": [],
   "source": [
    "# (a):\n",
    "from numpy import sqrt, pi\n",
    "from numpy.random import randint\n",
    "\n",
    "\n",
    "def mdc(a, b):\n",
    "    \"\"\"Retorna o mdc de dois inteiros a, b. \"\"\"\n",
    "    assert isinstance(a, int) and isinstance(b, int)\n",
    "    if b == 0:\n",
    "        return a\n",
    "    else:\n",
    "        return mdc(b, a % b)\n",
    "    \n",
    "    \n",
    "# (b):"
   ]
  },
  {
   "cell_type": "markdown",
   "id": "ccb1b489",
   "metadata": {},
   "source": [
    "## $ \\S 5 $ Estimando $ e $ via método de Monte Carlo"
   ]
  },
  {
   "cell_type": "markdown",
   "id": "5fb5cb96",
   "metadata": {},
   "source": [
    "**Exemplo 3 (estimando $ e $):** Imagine uma \"urna\" contendo uma cópia de cada número real. Suponha que dela retiremos aleatoriamente, em seqüência e sem reposição, números reais $ r_1, r_2, r_3, \\dots $. A probabilidade que ao retirar o $k$-ésimo número $ r_k $ tenhamos\n",
    "$$\n",
    "r_1 < r_2 < \\cdots < r_k\n",
    "$$\n",
    "é de $ \\frac{1}{k!} $, já que apenas uma das $ k! $ permutações possíveis destes números tem a ordem correta, e todas são equiprováveis.\n",
    "\n",
    "Agora suponha que efetuemos estas retiradas até a primeira vez em que a lista resultante _não_ possuir a ordem correta. A probabilidade que isto aconteça após o $ k $-ésimo número ter sido escolhido é:\n",
    "$$\n",
    "\\frac{1}{(k - 1)!}\\bigg(1 - \\frac{1}{k}\\bigg) = \\frac{1}{(k - 1)!} - \\frac{1}{k!}.\n",
    "$$\n",
    "Deduz-se daí que a probabilidade que o número da retirada que causa a primeira desordenação seja _ímpar_ é\n",
    "$$\n",
    "\\bigg(\\frac{1}{2!} - \\frac{1}{3!}\\bigg) + \\bigg(\\frac{1}{4!} - \\frac{1}{5!}\\bigg) + \\cdots  = \\sum_{k=2}^{\\infty}\\frac{(-1)^k}{k!} = \\sum_{k=0}^{\\infty}\\frac{(-1)^k}{k!} = \\frac{1}{e}\\,.\n",
    "$$\n",
    "Podemos portanto estimar $ e $ criando um experimento que seleciona números reais aleatoriamente até que o número $ r_k $ que foi extraído por último seja menor que $ r_{k - 1} $. Se $ k $ é _ímpar_, contabilizamos o resultado como um _sucesso_, caso contrário como um insucesso. Se realizarmos $ N $ ensaios como este, e se $ n $ for o número total de sucessos, então\n",
    "$$\n",
    "\\frac{n}{N} \\approx \\frac{1}{e}\n",
    "$$\n",
    "para $ N $ grande, pela Lei dos Grandes Números."
   ]
  },
  {
   "cell_type": "markdown",
   "id": "eac56834",
   "metadata": {},
   "source": [
    "**Problema 3:** Estime $ e $ usando o método de Monte Carlo aplicado ao ensaio do Exemplo 3, com $ N = 10^6 $. *Dica:* Tudo que foi discutido ainda é válido se os números reais forem escolhidos dentro do intervalo $ [0, 1] $. Defina um procedimento que continua gerando números aleatórios até que o atual seja menor que o anterior."
   ]
  },
  {
   "cell_type": "markdown",
   "id": "425aea99",
   "metadata": {},
   "source": [
    "*Solução:*"
   ]
  },
  {
   "cell_type": "code",
   "execution_count": null,
   "id": "55987b25",
   "metadata": {},
   "outputs": [],
   "source": []
  },
  {
   "cell_type": "markdown",
   "id": "85c45c5e",
   "metadata": {},
   "source": [
    "## $ \\S 6 $ A agulha de Buffon"
   ]
  },
  {
   "cell_type": "markdown",
   "id": "efa10d1d",
   "metadata": {},
   "source": [
    "## $ \\S 7 $ Cálculo de volumes através do método de Monte Carlo\n",
    "📝 O método de Monte Carlo é especialmente conveniente para o cálculo de áreas e volumes de regiões definidas através de desigualdades. Isto será generalizado ao cálculo de integrais no próximo caderno."
   ]
  },
  {
   "cell_type": "markdown",
   "id": "78b5a632",
   "metadata": {},
   "source": [
    "**Problema 4:** Usando o método de Monte Carlo, calcule o volume $ V $ da região sólida $ S $ em $ \\mathbb R^3 $ determinada pelas desigualdades\n",
    "$$\n",
    "0 \\le x \\le y \\le z \\le 1\n",
    "$$\n",
    "com um erro menor que $ 10^{-3} $. *Dica:* Primeiramente monte um ensaio que escolhe aleatoriamente um ponto $ (x, y, z) $ dentro do cubo definido por $ 0 \\le x,\\,y,\\,z \\le 1 $ e decide se este ponto pertence a $ S $."
   ]
  },
  {
   "cell_type": "markdown",
   "id": "cfe9ab81",
   "metadata": {},
   "source": [
    "*Solução:*"
   ]
  },
  {
   "cell_type": "code",
   "execution_count": null,
   "id": "d19a77ac",
   "metadata": {},
   "outputs": [],
   "source": []
  }
 ],
 "metadata": {
  "kernelspec": {
   "display_name": "Python 3 (ipykernel)",
   "language": "python",
   "name": "python3"
  },
  "language_info": {
   "codemirror_mode": {
    "name": "ipython",
    "version": 3
   },
   "file_extension": ".py",
   "mimetype": "text/x-python",
   "name": "python",
   "nbconvert_exporter": "python",
   "pygments_lexer": "ipython3",
   "version": "3.9.15"
  }
 },
 "nbformat": 4,
 "nbformat_minor": 5
}
