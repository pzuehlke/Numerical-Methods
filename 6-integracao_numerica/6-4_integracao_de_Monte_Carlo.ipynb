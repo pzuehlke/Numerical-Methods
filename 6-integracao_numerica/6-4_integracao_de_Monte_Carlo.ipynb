{
 "cells": [
  {
   "cell_type": "markdown",
   "id": "dc590420",
   "metadata": {},
   "source": [
    "$ \\DeclareMathOperator{\\vol}{vol} $\n",
    "$ \\newcommand{\\mbf}{\\mathbf} $\n",
    "\n",
    "# Integração de Monte Carlo"
   ]
  },
  {
   "cell_type": "markdown",
   "id": "96cc8fff",
   "metadata": {},
   "source": [
    "## $ \\S 1 $ Introdução\n",
    "\n",
    "Nas regras do trapézio e de Simpson, escolhemos $ N + 1 $ pontos $ x_0, x_1, \\dots, x_N $ igualmente espaçados no intervalo de integração $ [a, b] $ como membros da \"amostra\" tomada para se estimar a integral de uma função $ f $.\n",
    "\n",
    "Estes métodos são chamados de **determinísticos** porque o resultado fornecido é completamente determinado pelos parâmetros: uma vez fixados o número $ N + 1 $ de pontos e a função contínua $ f \\colon [a, b] \\to \\mathbb R $, cada aplicação do método resulta no mesmo valor. Além disto, é possível determinar uma cota superior para o erro cometido em função de $ N $.\n",
    "\n",
    "Em contraste, o método da *integração de Monte Carlo* que estudaremos neste caderno é **probabilístico**. A idéia  é escolher os pontos onde $ f $ será avaliada *aleatoriamente* dentro do intervalo $ [a, b] $. Desta forma cada aplicação fornece uma aproximação diferente, mesmo mantendo-se $ N $ fixo. Ademais, dado $ \\varepsilon > 0 $, não podemos garantir que o erro envolvido na aproximação seja menor que $ \\varepsilon $ para  $ N $ suficientemente grande; podemos apenas estimar a *probabilidade* que isto aconteça como uma função de $ N $.\n",
    "\n",
    "Na verdade a integração de Monte Carlo é um caso particular de um método muito mais geral e extremamente útil, amplamente empregado em Física, Química, Engenharia e outras áreas, o *método de Monte Carlo*."
   ]
  },
  {
   "cell_type": "markdown",
   "id": "ab1b9ee4",
   "metadata": {},
   "source": [
    " ## $ \\S 2 $ Descrição do método de Monte Carlo\n",
    " \n",
    "Por **método de Monte Carlo** entende-se uma classe de algoritmos que consistem da execução de um alto número $ N $ de *experimentos* ou *ensaios* e da análise estatística dos resultados para se obter conclusões numéricas. \n",
    "\n",
    "**Exemplo 1:** Considere o disco $ D $ em $ \\mathbb R^2 $ de raio $ 1 $ e centro na origem, determinado pela desigualdade\n",
    "$$\n",
    "x^2 + y^2 \\le 1\\,.\n",
    "$$\n",
    "Este disco tem área $ \\pi $ e está contido no quadrado $ Q $ de área $ 4 $ descrito por\n",
    "$$\n",
    "\\lvert{x}\\rvert \\le 1\\,, \\quad \\lvert{y}\\rvert \\le 1\\,.\n",
    "$$\n",
    "A probabilidade que um ponto escolhido de forma uniformemente aleatória em $ Q $ esteja dentro do disco $ D $ é o quociente entre as áreas, \n",
    "$$\n",
    "\\frac{\\text{área}(D)}{\\text{área}(Q)} = \\frac{\\pi}{4}\\,.\n",
    "$$\n",
    "Suponha que escolhamos aleatoriamente $ 1, 2, 3, \\dots $ até um total de $ N $ pontos dentro de $ Q $, e seja $ n $ o número destes pontos pertencentes ao disco $ D $. Um teorema da Teoria da Probabilidade chamado de **Lei dos Grandes Números** implica que o quociente entre o número de \"sucessos\" $ n $ e o número total $ N $ de pontos na amostra tende à probabilidade do sucesso:\n",
    "$$\n",
    "\\lim_{N \\to \\infty} \\frac{n}{N} = \\frac{\\pi}{4}\\,.\n",
    "$$\n",
    "Mais ainda, fixado $ \\varepsilon > 0 $ positivo qualquer,\n",
    "$$\n",
    "\\lim_{N \\to \\infty} \\text{pr}\\bigg(\\Big\\lvert \\frac{n}{N} - \\frac{\\pi}{4}\\Big\\rvert \\le  \\varepsilon \\bigg) = 1\\,.\n",
    "$$\n",
    "Em palavras, a probabilidade que a fração entre o número de pontos dentro do disco ($ n $) e o número total de pontos ($ N $) difira de $ \\frac{\\pi}{4} $ por mais que $ \\varepsilon $ *tende a zero* conforme o número de experimentos aumenta!"
   ]
  },
  {
   "cell_type": "markdown",
   "id": "4cdbc383",
   "metadata": {},
   "source": [
    "## $ \\S 3 $ Implementação do método de Monte Carlo"
   ]
  },
  {
   "cell_type": "markdown",
   "id": "5b50f4a4",
   "metadata": {},
   "source": [
    "A implementação do método de Monte Carlo genérico é muito simples:"
   ]
  },
  {
   "cell_type": "code",
   "execution_count": 1,
   "id": "49607b37",
   "metadata": {},
   "outputs": [],
   "source": [
    "def monte_carlo(ensaio, N):\n",
    "    \"\"\"\n",
    "    Dada uma função 'ensaio' (a ser implementada separadamente pelo usuário)\n",
    "    que simula um único experimento e o número N de experimentos a serem\n",
    "    realizados, contamos o número n de sucessos e retornamos n / N. \n",
    "    'ensaio' deve ser uma função sem argumentos que retorna True ou False.\n",
    "    \"\"\"\n",
    "    n = 0\n",
    "    for _ in range(N):\n",
    "        if ensaio():\n",
    "            n += 1\n",
    "            \n",
    "    return n / N"
   ]
  },
  {
   "cell_type": "markdown",
   "id": "a66e3b52",
   "metadata": {},
   "source": [
    "📝 Para simular escolhas uniformemente aleatórias, utilizaremos os seguintes procedimentos do módulo `numpy.random`:\n",
    "* `randint(a, b)` retorna um inteiro aleatório entre os inteiros $ a $ e $ b - 1 $ (inclusive);\n",
    "* `rand()` retorna um float aleatório entre $ 0 $ e $ 1 $.\n",
    "\n",
    "Em ambos os casos podemos também gerar um array de dimensões especificadas contendo números dos tipos acima.\n",
    "\n",
    "**Exemplo 2:**"
   ]
  },
  {
   "cell_type": "code",
   "execution_count": 2,
   "id": "b0069e18",
   "metadata": {},
   "outputs": [
    {
     "name": "stdout",
     "output_type": "stream",
     "text": [
      "25\n",
      "0.045177057219597305\n"
     ]
    }
   ],
   "source": [
    "from numpy.random import rand, randint\n",
    "\n",
    "\n",
    "# Gerando um inteiro aleatório entre 0 e 100:\n",
    "print(randint(0, 101))\n",
    "# Gerando um float aleatório entre 0 e 1:\n",
    "print(rand())"
   ]
  },
  {
   "cell_type": "code",
   "execution_count": 3,
   "id": "1c28e285",
   "metadata": {
    "scrolled": true
   },
   "outputs": [
    {
     "name": "stdout",
     "output_type": "stream",
     "text": [
      "[0.77001304 0.63498027 0.23242754 0.26547423 0.73817822]\n"
     ]
    }
   ],
   "source": [
    "# Vetor com 5 coordenadas float aleatórias entre 0 e 1:\n",
    "print(rand(5))"
   ]
  },
  {
   "cell_type": "code",
   "execution_count": 4,
   "id": "fc10c600",
   "metadata": {},
   "outputs": [
    {
     "name": "stdout",
     "output_type": "stream",
     "text": [
      "[[3 7 5 8]\n",
      " [7 9 5 4]]\n"
     ]
    }
   ],
   "source": [
    "# Matriz 2x4 com entradas inteiras e aleatórias entre 0 e 9:\n",
    "print(randint(0, 10, size=(2, 4)))"
   ]
  },
  {
   "cell_type": "code",
   "execution_count": 5,
   "id": "78eca570",
   "metadata": {},
   "outputs": [
    {
     "name": "stdout",
     "output_type": "stream",
     "text": [
      "[[0.57129825 0.86439541 0.43582549]\n",
      " [0.58715002 0.68652058 0.61285999]\n",
      " [0.96964435 0.08829535 0.18998686]]\n"
     ]
    }
   ],
   "source": [
    "# Matriz 3x3 com entradas float aleatórias entre 0 e 1:\n",
    "print(rand(3, 3))"
   ]
  },
  {
   "cell_type": "markdown",
   "id": "658192a1",
   "metadata": {},
   "source": [
    "## $ \\S 4 $ Sobre o significado do termo \"uniformemente aleatório\"\n",
    "\n",
    "Seja $ \\Omega $ um conjunto. Informalmente, a distribuição **uniforme** de probabilidade em $ \\Omega $ é aquela que atribiu a cada um de seus elementos $ \\omega \\in \\Omega $ (chamados de **eventos** neste contexto) a mesma probabilidade.\n",
    "\n",
    "No caso em que $ \\Omega $ é discreto e finito, digamos com $ N $ elementos, isto significa simplesmente que\n",
    "$$\n",
    "    \\text{pr}(\\omega) = \\frac{1}{N} \\qquad \\text{para todo $ \\omega \\in \\Omega $}.\n",
    "$$\n",
    "No caso contínuo, digamos em que $ \\Omega $ é um subconjunto de $ \\mathbb R $, o significado é que a probabilidade que um evento pertença a um subconjunto $ S \\subset \\Omega $ é dada por \n",
    "$$\n",
    "    \\frac{\\text{comprimento}(S)}{\\text{comprimento}(\\Omega)} = \\frac{\\int_S 1\\,dx}{\\int_\\Omega 1\\,dx}\\ .\n",
    "$$\n",
    "Nos casos que consideraremos, a integral no denominador será sempre positiva e finita. Analogamente para dimensões mais altas, com área, volume, etc. em lugar de comprimento.\n",
    "\n",
    "Estritamente falando, por escolha *aleatória* entende-se uma escolha feita de acordo com uma distribuição qualquer de probabilidade, porém neste caderno suporemos sempre que a distribuição subjacente é *uniforme*."
   ]
  },
  {
   "cell_type": "markdown",
   "id": "c9ed72cb",
   "metadata": {},
   "source": [
    "## $ \\S 5 $ Estimando $ \\pi $ via método de Monte Carlo"
   ]
  },
  {
   "cell_type": "markdown",
   "id": "e58455bb",
   "metadata": {},
   "source": [
    "**Exemplo 3:** Use o método de Monte Carlo e o Exemplo 1 para obter uma estimativa para o valor de $ \\pi $."
   ]
  },
  {
   "cell_type": "markdown",
   "id": "98978f58",
   "metadata": {},
   "source": [
    "*Solução:*"
   ]
  },
  {
   "cell_type": "code",
   "execution_count": 6,
   "id": "1feaa789",
   "metadata": {},
   "outputs": [],
   "source": [
    "from numpy.random import rand\n",
    "\n",
    "\n",
    "def pertence_ao_disco() -> bool:\n",
    "    \"\"\" Define um ensaio que escolhe um ponto (x, y) aleatoriamente\n",
    "        dentro do quadrado Q definido por\n",
    "            |x| <= 1,    |y| <= 1\n",
    "        e retorna True se o ponto pertence ao disco D ou False caso contrário.\n",
    "    \"\"\"\n",
    "    # 'esticar' transforma o intervalo [0, 1] no intervalo [-1, 1]:\n",
    "    esticar = lambda x: 2 * x - 1\n",
    "    # Escolha números aleatórios x, y entre -1 e 1.\n",
    "    # Recorde que rand() escolhe um float aleatório em [0, 1].\n",
    "    x = esticar(rand())\n",
    "    y = esticar(rand())\n",
    "    \n",
    "    # Retorne True se x**2 + y**2 <= 1 e False caso contrário:\n",
    "    return x**2 + y**2 <= 1"
   ]
  },
  {
   "cell_type": "code",
   "execution_count": 7,
   "id": "400333d6",
   "metadata": {
    "scrolled": false
   },
   "outputs": [
    {
     "name": "stdout",
     "output_type": "stream",
     "text": [
      "Valor de pi fornecido pelo NumPy: 3.141592653589793\n",
      "Estimativa obtida pelo método de Monte Carlo: 3.14396\n",
      "A cada vez que executamos a célula, obtemos um resultado diferente!\n"
     ]
    }
   ],
   "source": [
    "from numpy import pi\n",
    "\n",
    "\n",
    "N = 10**5\n",
    "estimativa = 4 * monte_carlo(pertence_ao_disco, N)\n",
    "\n",
    "print(f\"Valor de pi fornecido pelo NumPy: {pi}\")\n",
    "print(f\"Estimativa obtida pelo método de Monte Carlo: {estimativa}\")\n",
    "print(\"A cada vez que executamos a célula, obtemos um resultado diferente!\")"
   ]
  },
  {
   "cell_type": "markdown",
   "id": "e5c6bf4d",
   "metadata": {},
   "source": [
    "📝 No exemplo anterior, realizar $ 10 $ conjuntos de $ 10^4 $ ensaios cada e depois tomar a média aritmética das $ 10 $ estimativas dá no mesmo que realizar um único conjunto de $ 10^5 $ ensaios, como fizemos.\n",
    "\n",
    "Mais geralmente, como no método de Monte Carlo assumimos que cada ensaio é independente dos outros, não faz diferença se realizamos $ m $  conjuntos de $ N_1,\\dots,N_m $ ensaios cada e depois tomamos a média ponderada (pelo número correspondente de ensaios) das $ m $ estimativas\n",
    "$$\n",
    "\\frac{n_1}{N_1}\\,, \\quad \\frac{n_2}{N_2}\\,, \\quad \\cdots \\quad \\frac{n_m}{N_m}\\,,\n",
    "$$\n",
    "ou se realizamos um único conjunto de $ N = N_1 + \\cdots + N_m $ ensaios e calculamos o quociente do número de sucessos pelo número de ensaios. De fato:\n",
    "$$\n",
    "\\frac{N_1\\, \\frac{n_1}{N_1} + N_2\\, \\frac{n_2}{N_2} + \\cdots + N_m\\, \\frac{n_m}{N_m}}{N_1 + N_2 + \\cdots + N_m} = \\frac{n_1 + n_2 + \\cdots + n_m}{N_1 + N_2 + \\cdots + N_m}.\n",
    "$$\n"
   ]
  },
  {
   "cell_type": "markdown",
   "id": "37dd2854",
   "metadata": {},
   "source": [
    "**Problema 1:** Um teorema de E. Cèsaro (1850—1906) diz que a probabilidade de dois naturais escolhidos ao acaso serem relativamente primos é de $ \\frac{6}{\\pi^2} $. (Dois inteiros $ m $ e $ n $ são *relativamente primos* caso $ \\text{mdc}(m, n) = 1 $.)\n",
    "\n",
    "(a) Construa um experimento que escolhe dois números aleatórios $ m $ e $ n $ entre $ 1 $ e $ 10^6 $ e retorna `True` caso eles sejam relativamente primos ou `False` caso contrário.\n",
    "\n",
    "(b) Use o método de Monte Carlo e o teorema citado para obter uma aproximação para $ \\pi $."
   ]
  },
  {
   "cell_type": "markdown",
   "id": "63a21736",
   "metadata": {},
   "source": [
    "*Solução:*"
   ]
  },
  {
   "cell_type": "code",
   "execution_count": null,
   "id": "2bfe83cb",
   "metadata": {},
   "outputs": [],
   "source": [
    "from numpy import sqrt, pi\n",
    "from numpy.random import randint\n",
    "\n",
    "\n",
    "def mdc(a, b):\n",
    "    \"\"\"Retorna o mdc de dois inteiros a, b. \"\"\"\n",
    "    assert isinstance(a, int) and isinstance(b, int)\n",
    "    if b == 0:\n",
    "        return a\n",
    "    else:\n",
    "        return mdc(b, a % b)"
   ]
  },
  {
   "cell_type": "markdown",
   "id": "efa10d1d",
   "metadata": {},
   "source": [
    "📝 O método de Monte Carlo é especialmente conveniente para o cálculo de áreas e volumes de regiões definidas através de desigualdades."
   ]
  },
  {
   "cell_type": "markdown",
   "id": "78b5a632",
   "metadata": {},
   "source": [
    "**Problema 2:** Usando o método de Monte Carlo, calcule o volume $ V $ da região sólida $ S $ em $ \\mathbb R^3 $ determinada pelas desigualdades\n",
    "$$\n",
    "0 \\le x \\le y \\le z \\le 1\n",
    "$$\n",
    "com um erro menor que $ 10^{-3} $. *Dica:* Primeiramente monte um ensaio que escolhe aleatoriamente um ponto $ (x, y, z) $ dentro do cubo definido por $ 0 \\le x,\\,y,\\,z \\le 1 $ e decide se este ponto pertence a $ S $."
   ]
  },
  {
   "cell_type": "markdown",
   "id": "cfe9ab81",
   "metadata": {},
   "source": [
    "*Solução:*"
   ]
  },
  {
   "cell_type": "code",
   "execution_count": null,
   "id": "8c40dbf6",
   "metadata": {},
   "outputs": [],
   "source": []
  },
  {
   "cell_type": "markdown",
   "id": "2ffd9c6b",
   "metadata": {},
   "source": [
    "## $ \\S 6 $ Aplicação a integrais de funções de uma variável\n",
    "\n",
    "Recorde do curso de Cálculo 1 que a integral\n",
    "$$\n",
    "\\int_a^b f(x)\\,dx\n",
    "$$\n",
    "é aproximada por *somas de Riemann*\n",
    "$$\n",
    "\\sum_{i=1}^N f(\\xi_i) \\Delta_i\n",
    "$$\n",
    "onde\n",
    "$$\n",
    "[x_0, x_1],\\ [x_1, x_2],\\ \\dots,\\ [x_{N-1}, x_{N}]\n",
    "$$\n",
    "formam uma partição de $ [a, b] $,\n",
    "$$\n",
    "\\Delta_i = x_i - x_{i-1}\n",
    "$$\n",
    "e os pontos\n",
    "$$\n",
    "\\xi_i \\in [x_{i-1}, x_i] \\qquad (i = 1, \\dots, N)\n",
    "$$\n",
    "podem ser escolhidos arbitrariamente. De fato, a integral é *definida* como o limite de somas deste tipo conforme o maior dos comprimentos $ \\Delta_i $ vai a zero.\n",
    "\n",
    "Considere o caso especial em que $ \\Delta_i = \\frac{b-a}{N} $ para cada $ i $, ou seja, os pontos são\n",
    "$$\n",
    "x_i = a +  i\\,\\frac{b-a}{N}\n",
    "$$\n",
    "e estão igualmente espaçados. Então a soma de Riemann se reduz a \n",
    "$$\n",
    "\\frac{b-a}{N}\\sum_{i=1}^N f(\\xi_i) = (b - a)\\bigg(\\frac{1}{N}\\sum_{i=1}^Nf(\\xi_i)\\bigg)\\,.\n",
    "$$    \n",
    "O último termo entre parênteses aqui pode ser visto como a média aritmética de uma amostra de $ N $ valores de $ f $ no intervalo, sujeitos à condição que o $ i $-ésimo ponto deve pertencer ao $ i $-ésimo intervalo da partição.\n",
    "\n",
    "Suponha agora que os pontos $ \\xi_i $ ($ i = 1, \\dots, N $) sejam escolhidos *aleatoriamente* dentro de $ [a, b] $, sem qualquer restrição (ou seja, não imporemos que $ \\xi_i $ pertença a $ [x_{i-1}, x_i] $). A Lei dos Grandes Números ainda garante que\n",
    "$$\n",
    "(b-a) \\bigg(\\frac{1}{N}\\sum_{i=1}^Nf(\\xi_i)\\bigg) \\longrightarrow \\int_a^b f(x)\\,dx \\qquad \\text{conforme }N \\to \\infty.\n",
    "$$\n",
    "A **integração de Monte Carlo** consiste da aproximação da integral à direita pelo valor à esquerda."
   ]
  },
  {
   "cell_type": "markdown",
   "id": "ba5eabef",
   "metadata": {},
   "source": [
    "## $ \\S 7 $ Implementação da integração de Monte Carlo em 1 dimensão"
   ]
  },
  {
   "cell_type": "code",
   "execution_count": null,
   "id": "30588051",
   "metadata": {},
   "outputs": [],
   "source": [
    "def int_monte_carlo(f, a, b, N):\n",
    "    \"\"\"\n",
    "    Calcula a integral de uma função f : [a, b] -> R \n",
    "    usando o método de Monte Carlo com N ensaios.\n",
    "    \"\"\"\n",
    "    from numpy.random import rand\n",
    "    \n",
    "    # Transforma linearmente o intervalo [0, 1] no intervalo [a, b]:\n",
    "    esticar = lambda x: a + (b - a) * x\n",
    "    \n",
    "    soma = 0\n",
    "    for _ in range(N):\n",
    "        x = esticar(rand())\n",
    "        soma += f(x)\n",
    "    \n",
    "    return (b - a) * soma / N"
   ]
  },
  {
   "cell_type": "markdown",
   "id": "3e57be19",
   "metadata": {},
   "source": [
    "**Problema 3:** Recorde que\n",
    "$$\n",
    "\\int_0^1 \\frac{1}{1+x^2}\\,dx = \\arctan(1) - \\arctan(0)  = \\frac{\\pi}{4}\\,.\n",
    "$$\n",
    "Use a integração de Monte Carlo para obter uma estimativa para $ \\pi $."
   ]
  },
  {
   "cell_type": "markdown",
   "id": "4ee43970",
   "metadata": {},
   "source": [
    "*Solução:*"
   ]
  },
  {
   "cell_type": "code",
   "execution_count": null,
   "id": "d09ecc5e",
   "metadata": {},
   "outputs": [],
   "source": [
    "from numpy import pi"
   ]
  },
  {
   "cell_type": "markdown",
   "id": "bfffee08",
   "metadata": {},
   "source": [
    "## $ \\S 8 $ Integração de Monte Carlo em qualquer dimensão"
   ]
  },
  {
   "cell_type": "markdown",
   "id": "b6b8b343",
   "metadata": {},
   "source": [
    "Para o cálculo de integrais definidas de funções de apenas uma variável, os métodos determinísticos como a regra de Simpson devem ser preferidos em relação à integração de Monte Carlo, por fornecerem resultados mais precisos com uso bem menor de recursos computacionais.\n",
    "\n",
    "Contudo, em dimensões altas os métodos determinísticos não funcionam tão bem. A primeira dificuldade é que o número de operações necessárias aumenta rapidamente com a dimensão. Grosso modo, se para garantir uma determinada precisão eram necessárias $ N $ avaliações em dimensão $ 1 $, em dimensão $ 3 $ serão necessárias $ N^3 $. Outro obstáculo é que, enquanto em dimensão $ 1 $ quase sempre integramos sobre um intervalo, em dimensões $ \\ge 2 $ a fronteira da região onde será calculada a integral pode ser muito mais complicada.\n",
    "\n",
    "Seja\n",
    "$$\n",
    "f \\colon D \\to \\mathbb R \n",
    "$$\n",
    "uma função contínua de $ m $ variáveis $ x_1, \\dots, x_m $ definida num domínio $ D $ qualquer de $ \\mathbb R^m $, e seja $ R \\subset D $ uma região regular o suficiente para que o seu volume faça sentido e possa ser calculado. Escolha aleatoriamente $ N $ pontos $ \\boldsymbol{\\xi_1}, \\dots, \\boldsymbol{\\xi_N} $ dentro de $ R $. Pode-se mostrar que\n",
    "$$\n",
    "\\vol(R)\\,\\bigg(\\frac{1}{N}\\sum_{i=1}^Nf(\\boldsymbol{\\xi_i})\\bigg) \\longrightarrow \\int \\int \\cdots \\int_R f(x_1,\\,x_2,\\cdots,x_m)\\,\\,dx_1\\,dx_{2}\\,\\cdots dx_m \\qquad \\text{conforme }N \\to \\infty.\n",
    "$$\n",
    "O **método de integração de Monte Carlo** consiste da aproximação da integral múltipla à direita pela quantidade à esquerda."
   ]
  },
  {
   "cell_type": "markdown",
   "id": "4daf29b3",
   "metadata": {},
   "source": [
    "## $ \\S 9 $ Implementação da integração de Monte Carlo em qualquer dimensão"
   ]
  },
  {
   "cell_type": "code",
   "execution_count": null,
   "id": "3dbd3c98",
   "metadata": {},
   "outputs": [],
   "source": [
    "def integracao_monte_carlo(f, dimensao, volume, N, escolhe_ponto):\n",
    "    \"\"\"\n",
    "    Aproxima a integral de uma função f através do método de Monte Carlo.\n",
    "    Entradas:\n",
    "        * Uma função real f de uma ou mais variáveis.\n",
    "        * A dimensão do domínio de f (número m de variáveis de f).\n",
    "        * O volume da região R de integração.\n",
    "        * O número N de pontos na amostra.\n",
    "        * Uma função 'escolhe_ponto' sem argumentos que a cada chamada\n",
    "          retorna um ponto em R escolhido aleatoriamente. O ponto\n",
    "          deve ser representado como a lista de suas coordenadas.\n",
    "    Saída: o valor aproximado da integral.\n",
    "    \"\"\"\n",
    "    from numpy.random import rand\n",
    "    from math import prod\n",
    "    \n",
    "    \n",
    "    assert isinstance(N, int) and N >= 1\n",
    "    assert isinstance(dimensao, int) and dimensao >= 1\n",
    "    soma = 0\n",
    "    for _ in range(N):\n",
    "        x = escolhe_ponto()\n",
    "        soma += f(*x)\n",
    "    \n",
    "    return volume * soma / N"
   ]
  },
  {
   "cell_type": "markdown",
   "id": "cf4c1bb9",
   "metadata": {},
   "source": [
    "📝 A notação `*x` na linha que atualiza a soma é usada para extrair as entradas de uma lista ou array `x`. Informalmente, ela\n",
    "transforma $ [x_1, ..., x_m] $ em $ x_1, x_2, ..., x_m $ para que possamos\n",
    "então aplicar a função $ f $ a estes argumentos. Esta operação é chamada de *unpacking* (desempacotamento). Estamos assumindo aqui que $ f $ tenha sido implementada como uma função de $ m $ variáveis, e não como função de uma variável que é uma lista ou array."
   ]
  },
  {
   "cell_type": "markdown",
   "id": "435aaa58",
   "metadata": {},
   "source": [
    "**Problema 4:** Estime a integral tripla\n",
    "$$\n",
    "    \\int_{-1}^{2}\\int_{-1}^2\\int_{-1}^2 \\cos\\big(x\\,y\\,(2 - z^2)\\big)\\,dx\\,dy\\,dz\n",
    "$$\n",
    "usando a integração de Monte Carlo com uma amostra de $ N = 10^5 $ pontos. *Aviso:* Dependendo do computador, a resposta pode demorar um pouco. Não se preocupe com a precisão do resultado fornecido."
   ]
  },
  {
   "cell_type": "markdown",
   "id": "3369f93b",
   "metadata": {},
   "source": [
    "*Solução:*"
   ]
  },
  {
   "cell_type": "code",
   "execution_count": null,
   "id": "307eaa38",
   "metadata": {},
   "outputs": [],
   "source": [
    "# Complete o esboço abaixo:\n",
    "\n",
    "\n",
    "def escolhe_ponto():\n",
    "    from numpy.random import rand\n",
    "    \n",
    "    esticar = lambda ...\n",
    "    # Gerando um vetor aleatório em [0, 1] x [0, 1] x [0, 1]:\n",
    "    ponto = ...\n",
    "    # Transformando-no num vetor em [-1, 2] x [-1, 2] x [-1, 2]:\n",
    "    ponto = ...\n",
    "    \n",
    "    return ponto\n",
    "\n",
    "\n",
    "f = lambda ...\n",
    "N = 10**5"
   ]
  },
  {
   "cell_type": "markdown",
   "id": "8e0cbcbe",
   "metadata": {},
   "source": [
    "<!---\n",
    "## $ \\S 7 $ Problema da agulha\n",
    "\n",
    "Identifique o $ \\mathbb R^2 $ com um pedaço de chão e suponha que as retas de equação\n",
    "$$\n",
    "x = 0\\ , \\quad x = \\pm 1\\ , \\quad x = \\pm 2\\ , \\dots, \\quad x = \\pm n\\ , \\quad \\dots \\qquad (n \\in \\mathbb N)\n",
    "$$\n",
    "estejam todas demarcadas. Jogamos uma agulha de comprimento $ c $ no chão de modo que sua posição e direção ao atingir um estado de repouso sejam determinadas aleatoriamente.\n",
    "\n",
    "(a) Calcule a *probabilidade* de que a agulha cruze uma linha demarcada. Sua resposta deve depender apenas de $ c $.\n",
    "\n",
    "*Dica:* Para facilitar as considerações, seja $ P = (x_0, y_0) $ a posição de um das pontas da agulha (escolhida uma vez por todas, antes do lançamento) e seja $ \\theta \\in [0, 2\\pi) $ o ângulo que o vetor que liga esta ponta com a outra forma com o eixo-$x$ positivo. Podemos supor sem perda de generalidade que $ 0 \\le x_0 \\le 1 $. Note que o valor de $ y $ é irrelevante para se determinar se a agulha cruza uma linha demarcada. Determine o conjunto $ R $ de todos os pares\n",
    "$$ (\\theta, x(\\theta)) $$\n",
    "para os quais uma agulha de comprimento $ c $ com ponta inicial $ (x(\\theta), y) $ formando um ângulo de $ \\theta $ com o eixo-$ x $ positivo não cruza uma linha demarcada. A probabilidade será dada por\n",
    "$$\n",
    "\\frac{\\text{área}(R)}{2\\pi}.\n",
    "$$\n",
    "\n",
    "(b) Use o método de Monte Carlo e o seu resultado do item (a) para estimar $ \\pi $.\n",
    "-->"
   ]
  },
  {
   "cell_type": "code",
   "execution_count": null,
   "id": "f19b3c01",
   "metadata": {},
   "outputs": [],
   "source": []
  }
 ],
 "metadata": {
  "kernelspec": {
   "display_name": "Python 3 (ipykernel)",
   "language": "python",
   "name": "python3"
  },
  "language_info": {
   "codemirror_mode": {
    "name": "ipython",
    "version": 3
   },
   "file_extension": ".py",
   "mimetype": "text/x-python",
   "name": "python",
   "nbconvert_exporter": "python",
   "pygments_lexer": "ipython3",
   "version": "3.9.15"
  }
 },
 "nbformat": 4,
 "nbformat_minor": 5
}
