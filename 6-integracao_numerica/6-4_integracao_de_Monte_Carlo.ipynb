{
 "cells": [
  {
   "cell_type": "markdown",
   "id": "dc590420",
   "metadata": {},
   "source": [
    "# Integração de Monte Carlo"
   ]
  },
  {
   "cell_type": "markdown",
   "id": "96cc8fff",
   "metadata": {},
   "source": [
    "## $ \\S 1 $ Introdução\n",
    "\n",
    "Nas regras do trapézio e de Simpson, escolhemos $ N + 1 $ pontos igualmente espaçados no intervalo de integração $ [a, b] $ como membros da \"amostra\" tomada para os valores da função $ f $ a ser integrada. \n",
    "\n",
    "Estes métodos são chamados de **determinísticos** porque o resultado fornecido é completamente determinado pelos parâmetros. Isto é, uma vez fixados a função contínua $ f \\colon [a, b] \\to \\mathbb R $ e o número $ N + 1 $ de pontos, cada aplicação resulta no mesmo valor. Além disto, temos uma estimativa precisa do erro cometido em função de $ N $.\n",
    "\n",
    "Em contraste, o método da *integração de Monte Carlo* que estudaremos neste caderno é **probabilístico**. A idéia aqui é escolher os pontos onde $ f $ será avaliada *aleatoriamente* dentro do intervalo $ [a, b] $. Desta maneira, cada aplicação fornece uma aproximação diferente, mesmo mantendo-se $ N $ fixo. Ademais, não podemos garantir que o erro envolvido na aproximação seja pequeno para $ N $ grande; podemos apenas provar que a probabilidade de que o erro exceda um certo valor decai conforme $ N $ cresce.\n",
    "\n",
    "Na verdade a integração de Monte Carlo é um caso especial de um método muito mais geral e extremamente útil, amplamente empregado em Física, Química, Engenharia e outras áreas, o *método de Monte Carlo*."
   ]
  },
  {
   "cell_type": "markdown",
   "id": "ab1b9ee4",
   "metadata": {},
   "source": [
    " ## $ \\S 2 $ Descrição do método de Monte Carlo\n",
    " \n",
    "Por **método de Monte Carlo** entende-se uma classe de algoritmos que consistem da execução de um alto número $ N $ de *experimentos* ou *ensaios* e da análise estatística dos resultados obtidos para se obter resultados numéricos. \n",
    "\n",
    "**Exemplo 1:** Considere o disco $ D $ de equação\n",
    "$$\n",
    "x^2 + y^2 \\le 1\n",
    "$$\n",
    "no plano $ \\mathbb R^2 $, cuja área é $ \\pi $ e que está contido no quadrado $ Q $ de área $ 4 $ descrito pelas desigualdades\n",
    "$$\n",
    "\\lvert{x}\\rvert \\le 1, \\quad \\lvert{y}\\rvert \\le 1.\n",
    "$$\n",
    "A probabilidade de que um ponto escolhido de forma aleatoriamente dentro deste quadrado esteja dentro do disco é o quociente entre as áreas, \n",
    "$$\n",
    "\\frac{\\text{área}(D)}{\\text{área}(Q)} = \\frac{\\pi}{4}.\n",
    "$$\n",
    "Suponha que escolhamos aleatoriamente $ 1, 2, 3, \\dots $ até um total de $ N $ pontos dentro de $ Q $, e seja $ n $ o número destes pontos pertencentes ao disco $ D $. Um teorema da Teoria da Probabilidade chamado de **Lei dos Grandes Números** diz que o quociente entre o número de \"sucessos\" $ n $ e o número total $ N $ de pontos na amostra tende à probabilidade do sucesso:\n",
    "$$\n",
    "\\lim_{N \\to \\infty} \\frac{n}{N} = \\frac{\\pi}{4}.\n",
    "$$\n",
    "Mais ainda, dado $ \\varepsilon > 0 $ positivo qualquer,\n",
    "$$\n",
    "\\lim_{N \\to \\infty} \\text{pr}\\bigg(\\Big\\lvert \\frac{n}{N} - \\frac{\\pi}{4}\\Big\\rvert \\le  \\varepsilon \\bigg) = 1.\n",
    "$$\n",
    "Em palavras, a probabilidade de que a fração entre o número de pontos dentro do disco ($ n $) e o número total de pontos ($ N $) difira de $ \\frac{\\pi}{4} $ por mais que $ \\varepsilon $ tende a zero conforme o número de experimentos aumenta!"
   ]
  },
  {
   "cell_type": "markdown",
   "id": "4cdbc383",
   "metadata": {},
   "source": [
    "## $ \\S 3 $ Implementação do método de Monte Carlo"
   ]
  },
  {
   "cell_type": "markdown",
   "id": "5b50f4a4",
   "metadata": {},
   "source": [
    "A implementação do método de Monte Carlo genérico é muito simples:"
   ]
  },
  {
   "cell_type": "code",
   "execution_count": 21,
   "id": "49607b37",
   "metadata": {},
   "outputs": [],
   "source": [
    "def monte_carlo(ensaio, N):\n",
    "    \"\"\"Dada uma função 'ensaio' (a ser implementada separadamente pelo usuário)\n",
    "    que simula um único experimento e o número N de experimentos a serem\n",
    "    realizados, contamos o número 'n' de sucessos e retornamos n / N. \n",
    "    'ensaio' deve ser uma função sem argumentos que retorna True ou False. \"\"\"\n",
    "    n = 0\n",
    "    for _ in range(N):\n",
    "        if ensaio():\n",
    "            n += 1\n",
    "            \n",
    "    return n / N"
   ]
  },
  {
   "cell_type": "markdown",
   "id": "a66e3b52",
   "metadata": {},
   "source": [
    "📝 Para simular escolhas aleatórias, iremos utilizar as seguintes funções do módulo `numpy.random`:\n",
    "* `randint(a, b)` retorna um inteiro aleatório entre os inteiros $ a $ e $ b - 1 $ (inclusive);\n",
    "* `rand()` retorna um `float` aleatório entre $ 0 $ e $ 1 $.\n",
    "\n",
    "Em ambos os casos podemos também gerar um array de dimensões especificadas contendo números dos tipos acima.\n",
    "\n",
    "**Exemplo:**"
   ]
  },
  {
   "cell_type": "code",
   "execution_count": 65,
   "id": "1c28e285",
   "metadata": {
    "scrolled": true
   },
   "outputs": [
    {
     "name": "stdout",
     "output_type": "stream",
     "text": [
      "[0.58626384 0.3398408  0.7642411  0.05080061 0.82798257]\n",
      "[[0.79337257 0.94098394 0.17489007]\n",
      " [0.52055735 0.42378416 0.33712468]\n",
      " [0.27238872 0.7868486  0.7266297 ]]\n",
      "\n",
      "[2 3 8 4 8]\n",
      "[[4 7 0 2]\n",
      " [4 8 7 1]]\n",
      "\n",
      "<class 'numpy.ndarray'>\n"
     ]
    }
   ],
   "source": [
    "from numpy.random import rand, randint\n",
    "\n",
    "\n",
    "print(rand(5))\n",
    "print(rand(3, 3), end='\\n\\n')\n",
    "\n",
    "print(randint(0, 10, size=5))\n",
    "print(randint(0, 10, size=(2, 4)), end='\\n\\n')\n",
    "\n",
    "print(type(randint(0, 10, size=(2, 2))))"
   ]
  },
  {
   "cell_type": "markdown",
   "id": "658192a1",
   "metadata": {},
   "source": [
    "## $ \\S 4 $ Sobre o significado da palavra \"aleatório\"\n",
    "\n",
    "⚠️ **Observação:** Seja $ \\Omega $ um conjunto. A distribuição **uniforme** de probabilidade em $ \\Omega $ é aquela que atribiu a cada um de seus elementos $ \\omega \\in \\Omega $ a mesma probabilidade.\n",
    "\n",
    "No caso em que $ \\Omega $ é discreto e finito, digamos com $ N $ elementos, isto significa que\n",
    "$$\n",
    "    \\text{pr}(\\omega) = \\frac{1}{N} \\qquad \\text{para todo $ \\omega \\in \\Omega $}.\n",
    "$$\n",
    "No caso contínuo, digamos em que $ \\Omega $ é um subconjunto de $ \\mathbb R $, isto significa simplesmente que a probabilidade de que um evento pertença a um subconjunto $ S \\subset \\Omega $ é dada por \n",
    "$$\n",
    "    \\frac{\\text{comprimento}(S)}{\\text{comprimento}(\\Omega)} = \\frac{\\int_S 1\\,dx}{\\int_\\Omega 1\\,dx}\n",
    "$$\n",
    "Analogamente, com área, volume, etc. em lugar de comprimento, para dimensões mais altas. Nos casos que consideraremos, a integral no denominador será sempre finita.\n",
    "\n",
    "Sem querer entrar em discussões mais profundas sobre o significado desta palavra, por \"escolha **aleatória**\" neste caderno deve-se entender simplesmente uma escolha feita de acordo com uma distribuição *uniforme* de probabilidade. Em geral o significado estará claro do contexto, como no exemplo acima."
   ]
  },
  {
   "cell_type": "markdown",
   "id": "c9ed72cb",
   "metadata": {},
   "source": [
    "## $ \\S 5 $ Obtendo estimativas para $ \\pi $ usando o método de Monte Carlo"
   ]
  },
  {
   "cell_type": "markdown",
   "id": "e58455bb",
   "metadata": {},
   "source": [
    "**Problema 1:** Use o método de Monte Carlo e o Exemplo 1 para obter uma estimativa para o valor de $ \\pi $."
   ]
  },
  {
   "cell_type": "code",
   "execution_count": 19,
   "id": "1feaa789",
   "metadata": {},
   "outputs": [],
   "source": [
    "from numpy.random import rand\n",
    "\n",
    "\n",
    "def pertence_ao_disco() -> bool:\n",
    "    # 'esticar' transforma o intervalo [0, 1] no intervalo [-1, 1]:\n",
    "    esticar = lambda x: 2 * x - 1\n",
    "    \n",
    "    # Escolha números aleatórios x, y entre -1 e 1.\n",
    "    # Recorde que rand() escolhe um float aleatório em [0, 1].\n",
    "    x = esticar(rand())\n",
    "    y = esticar(rand())\n",
    "    \n",
    "    return (x**2 + y**2 <= 1)\n"
   ]
  },
  {
   "cell_type": "code",
   "execution_count": 20,
   "id": "400333d6",
   "metadata": {
    "scrolled": false
   },
   "outputs": [
    {
     "name": "stdout",
     "output_type": "stream",
     "text": [
      "3.1424\n",
      "3.1404\n",
      "3.16\n",
      "3.1096\n",
      "3.1472\n",
      "3.134\n",
      "3.0968\n",
      "3.1552\n",
      "3.1412\n",
      "3.1404\n",
      "3.141592653589793\n"
     ]
    }
   ],
   "source": [
    "from numpy import pi\n",
    "\n",
    "\n",
    "N = 10**4\n",
    "for k in range(10):\n",
    "    print(4 * monte_carlo(pertence_ao_disco, N))\n",
    "\n",
    "print(pi)"
   ]
  },
  {
   "cell_type": "markdown",
   "id": "37dd2854",
   "metadata": {},
   "source": [
    "**Problema 2:** Um teorema de E. Cèsaro (1850—1906) diz que a probabilidade de que dois naturais escolhidos ao acaso sejam relativamente primos é de $ \\frac{6}{\\pi^2} $. (Dois inteiros $ m $ e $ n $ são *relativamente primos* caso $ \\text{mdc}(m, n) = 1 $.)\n",
    "\n",
    "(a) Construa um experimento que escolhe dois números aleatórios $ m $ e $ n $ entre $ 1 $ e $ 10^6 $ e retorna `True` caso eles sejam relativamente primos e `False` caso contrário.\n",
    "\n",
    "(b) Use o método de Monte Carlo e o teorema citado para obter uma aproximação para $ \\pi $."
   ]
  },
  {
   "cell_type": "code",
   "execution_count": 52,
   "id": "2bfe83cb",
   "metadata": {},
   "outputs": [
    {
     "name": "stdout",
     "output_type": "stream",
     "text": [
      "3.1510067105223283\n",
      "3.141592653589793\n"
     ]
    }
   ],
   "source": [
    "from numpy import sqrt, pi\n",
    "from numpy.random import randint\n",
    "\n",
    "\n",
    "def mdc(a, b):\n",
    "    \"\"\"Retorna o mdc de dois inteiros a, b. \"\"\"\n",
    "    assert isinstance(a, int) and isinstance(b, int)\n",
    "    if b == 0:\n",
    "        return a\n",
    "    else:\n",
    "        return mdc(b, a % b)\n",
    "\n",
    "    \n",
    "def ensaio_rel_primo():\n",
    "    m = randint(1, 10**5)\n",
    "    n = randint(1, 10**5)\n",
    "    return (mdc(m, n) == 1)\n",
    "\n",
    "\n",
    "N = 10**4\n",
    "resultado = monte_carlo(ensaio_rel_primo, N)\n",
    "print(sqrt(6 / resultado))\n",
    "print(pi)"
   ]
  },
  {
   "cell_type": "markdown",
   "id": "2ffd9c6b",
   "metadata": {},
   "source": [
    "## $ \\S 6 $ Aplicação a integrais de funções de uma variável\n",
    "\n",
    "Recorde do curso de Cálculo 1 que a integral\n",
    "$$\n",
    "\\int_a^b f(x)\\,dx\n",
    "$$\n",
    "é aproximada por *somas de Riemann*\n",
    "$$\n",
    "\\sum_{i=1}^N f(\\xi_i) \\Delta_i\n",
    "$$\n",
    "onde\n",
    "$$\n",
    "[x_0, x_1],\\ [x_1, x_2],\\ \\dots,\\ [x_{N-1}, x_{N}]\n",
    "$$\n",
    "formam uma partição de $ [a, b] $,\n",
    "$$\n",
    "\\Delta_i = x_i - x_{i-1}\n",
    "$$\n",
    "e os pontos\n",
    "$$\n",
    "\\xi_i \\in [x_{i-1}, x_i] \\qquad (i = 1, \\dots, N)\n",
    "$$\n",
    "podem ser escolhidos arbitrariamente. De fato, a integral é *definida* como o limite de somas deste tipo conforme o maior dos comprimentos $ \\Delta_i $ vai a zero.\n",
    "\n",
    "Considere o caso especial em que $ \\Delta_i = \\frac{b-a}{N} $ para cada $ i $, ou seja, os pontos são\n",
    "$$\n",
    "x_i = a +  i\\frac{b-a}{N}\n",
    "$$\n",
    "e estão igualmente espaçados. Então a soma de Riemann se reduz a \n",
    "$$\n",
    "\\frac{b-a}{N}\\sum_{i=1}^N f(\\xi_i) = (b - a)\\bigg(\\frac{1}{N}\\sum_{i=1}f(\\xi_i)\\bigg).\n",
    "$$    \n",
    "O termo entre parênteses aqui pode ser visto como a média de uma amostra de $ N $ valores de $ f $ no intervalo, sujeitos à condição de que o $ i $-ésimo ponto pertence ao $ i $-ésimo intervalo da partição.\n",
    "\n",
    "Suponha agora que os pontos $ \\xi_i $ ($ i = 1, \\dots, N $) sejam escolhidos *aleatoriamente* dentre de $ [a, b] $, sem qualquer restrição (ou seja, não imporemos que $ \\xi_i \\in [x_{i-1}, x_i] $). A Lei dos Grandes Números ainda garante que\n",
    "$$\n",
    "(b - a)\\bigg(\\frac{1}{N}\\sum_{i=1}^Nf(\\xi_i)\\bigg) \\to \\int_a^b f(x)\\,dx \\qquad \\text{conforme }N \\to \\infty.\n",
    "$$\n",
    "A **integração de Monte Carlo** consiste da aproximação da integral à direita pelo valor à esquerda."
   ]
  },
  {
   "cell_type": "markdown",
   "id": "ba5eabef",
   "metadata": {},
   "source": [
    "## $ \\S 6 $ Implementação da integração de Monte Carlo em 1 dimensão"
   ]
  },
  {
   "cell_type": "code",
   "execution_count": 23,
   "id": "30588051",
   "metadata": {},
   "outputs": [],
   "source": [
    "def integracao_monte_carlo(f, a, b, N):\n",
    "    from numpy.random import rand\n",
    "    \n",
    "    # Transforma o intervalo [0, 1] no intervalo [a, b]:\n",
    "    esticar = lambda x: a + (b - a) * x\n",
    "    \n",
    "    soma = 0\n",
    "    for _ in range(N):\n",
    "        x = esticar(rand())\n",
    "        soma += f(x)\n",
    "    \n",
    "    return (b - a) * soma / N"
   ]
  },
  {
   "cell_type": "code",
   "execution_count": 24,
   "id": "d09ecc5e",
   "metadata": {},
   "outputs": [
    {
     "name": "stdout",
     "output_type": "stream",
     "text": [
      "3.141592653589793\n",
      "3.1456573534599523\n"
     ]
    }
   ],
   "source": [
    "from numpy import pi\n",
    "\n",
    "\n",
    "f = lambda x: 1 / (1 + x**2)\n",
    "a = 0\n",
    "b = 1\n",
    "N = 10000\n",
    "\n",
    "print(pi)\n",
    "print(4 * integracao_monte_carlo(f, a, b, N))"
   ]
  },
  {
   "cell_type": "markdown",
   "id": "8e0cbcbe",
   "metadata": {},
   "source": [
    "## $ \\S 7 $ Problema da agulha\n",
    "\n",
    "Identifique o $ \\mathbb R^2 $ com um pedaço de chão e suponha que as retas de equação\n",
    "$$\n",
    "x = 0\\ , \\quad x = \\pm 1\\ , \\quad x = \\pm 2\\ , \\dots, \\quad x = \\pm n\\ , \\quad \\dots \\qquad (n \\in \\mathbb N)\n",
    "$$\n",
    "estejam todas demarcadas. Jogamos uma agulha de comprimento $ c $ no chão de modo que sua posição e direção ao atingir um estado de repouso sejam determinadas aleatoriamente.\n",
    "\n",
    "(a) Calcule a *probabilidade* de que a agulha cruze uma linha demarcada. Sua resposta deve depender apenas de $ c $.\n",
    "\n",
    "*Dica:* Para facilitar as considerações, seja $ P = (x_0, y_0) $ a posição de um das pontas da agulha (escolhida uma vez por todas, antes do lançamento) e seja $ \\theta \\in [0, 2\\pi) $ o ângulo que o vetor que liga esta ponta com a outra forma com o eixo-$x$ positivo. Podemos supor sem perda de generalidade que $ 0 \\le x_0 \\le 1 $. Note que o valor de $ y $ é irrelevante para se determinar se a agulha cruza uma linha demarcada. Determine o conjunto $ R $ de todos os pares\n",
    "$$ (\\theta, x(\\theta)) $$\n",
    "para os quais uma agulha de comprimento $ c $ com ponta inicial $ (x(\\theta), y) $ formando um ângulo de $ \\theta $ com o eixo-$ x $ positivo não cruza uma linha demarcada. A probabilidade será dada por\n",
    "$$\n",
    "\\frac{\\text{área}(R)}{2\\pi}.\n",
    "$$\n",
    "\n",
    "(b) Use o método de Monte Carlo e o seu resultado do item (a) para estimar $ \\pi $.\n"
   ]
  },
  {
   "cell_type": "markdown",
   "id": "bfffee08",
   "metadata": {},
   "source": [
    "## $ \\S 8 $ Integração de Monte Carlo em dimensão $ \\ge 2 $"
   ]
  },
  {
   "cell_type": "markdown",
   "id": "b6b8b343",
   "metadata": {},
   "source": [
    "Para integração de funções de apenas uma variável, em geral os métodos determinísticos devem ser preferidos em relação à integração de Monte Carlo, por fornecerem resultados bem mais precisos com um número menor de computação.\n",
    "\n",
    "Contudo, em dimensões mais altas estes métodos não funcionam tão bem. A primeira dificuldade encontrada é que o número de operações necessárias aumenta rapidamente com a dimensão. Grosso modo, se para garantir uma determinada precisão eram necessárias $ N $ avaliações em dimensão $ 1 $, em dimensão $ 3 $ serão necessárias $ N^3 $. Outra dificuldade é que, enquanto em dimensão $ 1 $ quase sempre integramos sobre um intervalo, em dimensões $ \\ge 2 $ a fronteira da região onde será calculada a integral pode ser muito mais irregular e complicada.\n",
    "\n",
    "📝 O método de Monte Carlo é especialmente conveniente para o cálculo de áreas e volumes de regiões definidas através de desigualdades."
   ]
  },
  {
   "cell_type": "code",
   "execution_count": 34,
   "id": "3dbd3c98",
   "metadata": {},
   "outputs": [],
   "source": [
    "def int_monte_carlo_multi_dim(f, limites, N):\n",
    "    from numpy.random import rand\n",
    "    from math import prod\n",
    "    \n",
    "    def esticar(a, b, x):\n",
    "         return a + (b - a) * x\n",
    "    \n",
    "    assert isinstance(N, int)\n",
    "    assert len(limites) % 2 == 0\n",
    "    \n",
    "    dimensao = len(limites) // 2\n",
    "    \n",
    "    soma = 0\n",
    "    for _ in range(N):\n",
    "        x = [0 for k in range(dimensao)]\n",
    "        for k in range(dimensao):\n",
    "            x[k] = esticar(rand(), limites[2 * k], limites[2 * k + 1])\n",
    "        soma += f(*x)\n",
    "    \n",
    "    volume_total = prod(limites[2 * k + 1] - limites[2 * k] for k in range(dimensao))\n",
    "    return volume_total * soma / N"
   ]
  },
  {
   "cell_type": "markdown",
   "id": "df6d3ae6",
   "metadata": {},
   "source": [
    "**Problema 3:** Calcule o volume $ V $ do sólido em $ \\mathbb R^3 $ determinado pelas desigualdades\n",
    "$$\n",
    "0 \\le x \\le y \\le z \\le 1\n",
    "$$\n",
    "com um erro menor que $ 10^{-3} $."
   ]
  },
  {
   "cell_type": "code",
   "execution_count": 35,
   "id": "fce0b8e1",
   "metadata": {},
   "outputs": [
    {
     "name": "stdout",
     "output_type": "stream",
     "text": [
      "0.1677\n",
      "\n"
     ]
    }
   ],
   "source": [
    "def ensaio_P3():\n",
    "    \n",
    "    x = rand()\n",
    "    y = rand()\n",
    "    z = rand()\n",
    "    \n",
    "    return (x <= y) and (y <= z)\n",
    "    \n",
    "\n",
    "N = 10**5\n",
    "print(monte_carlo(ensaio_P3, N))\n",
    "print()"
   ]
  },
  {
   "cell_type": "markdown",
   "id": "435aaa58",
   "metadata": {},
   "source": [
    "**Problema 4:** Estime a integral dupla\n",
    "$$\n",
    "    \\int_{-1}^{2}\\int_{-1}^2 xy\\big(2-x^2\\big)\\big(2-xy\\big)\\,dx\\,dy\n",
    "$$\n",
    "usando integração de Monte Carlo."
   ]
  },
  {
   "cell_type": "code",
   "execution_count": 63,
   "id": "6aa20b12",
   "metadata": {},
   "outputs": [
    {
     "name": "stdout",
     "output_type": "stream",
     "text": [
      "1177.0498756611084\n"
     ]
    }
   ],
   "source": [
    "def f(x, y):\n",
    "    return x * y * (2 - x**2) * (2 - x * y)\n",
    "\n",
    "\n",
    "limites = [-1, 2, -1, 2]\n",
    "N = 10**5\n",
    "print(int_monte_carlo_multi_dim(f, limites, N))"
   ]
  }
 ],
 "metadata": {
  "kernelspec": {
   "display_name": "Python 3 (ipykernel)",
   "language": "python",
   "name": "python3"
  },
  "language_info": {
   "codemirror_mode": {
    "name": "ipython",
    "version": 3
   },
   "file_extension": ".py",
   "mimetype": "text/x-python",
   "name": "python",
   "nbconvert_exporter": "python",
   "pygments_lexer": "ipython3",
   "version": "3.9.13"
  }
 },
 "nbformat": 4,
 "nbformat_minor": 5
}
