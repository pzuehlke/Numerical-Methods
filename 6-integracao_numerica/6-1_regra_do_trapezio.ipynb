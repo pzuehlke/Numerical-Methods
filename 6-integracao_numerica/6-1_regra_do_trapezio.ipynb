{
 "cells": [
  {
   "cell_type": "markdown",
   "id": "34263b5e",
   "metadata": {},
   "source": [
    "# Regra do trapézio"
   ]
  },
  {
   "cell_type": "markdown",
   "id": "2d3e28ce",
   "metadata": {},
   "source": [
    "## 1 A regra do trapézio simples \n",
    "Seja $ f \\colon [a, b] \\to \\mathbb{R} $ uma função contínua, cuja integral\n",
    "$$ \\int_a^b f(x)\\,dx $$\n",
    "gostaríamos de calcular.\n",
    "\n",
    "Uma idéia inicial seria substituí-la pela integral de $ a $ a $ b $ do único polinômio $ p $ de grau $ \\le 1 $ que interpola $ f $ em $ a $ e em $ b $; esta integral pode ser calculada facilmente. Afinal, o gráfico de $ p $ é o segmento de reta que liga $ (a, f(a)) $ a $ (b, f(b)) $. No caso em que $ f(a) $ e $ f(b) $ são ambos positivos, a integral de $ p $ pode ser interpretada geometricamente como a área de um trapézio de altura $ b - a $ e de bases $ f(a) $ e $ f(b) $. Portanto, ela é dada por:\n",
    "\\begin{equation}\\label{E:simples}\n",
    "    \\int_a^b p(x)\\,dx = \\frac{(b-a)}{2}\\big[f(a) + f(b) \\big]\\tag{1}.\n",
    "\\end{equation}\n",
    "Mesmo no caso geral (sem nenhuma restrição sobre os sinais de $ f(a) $ e $ f(b) $), esta fórmula ainda é válida, e a aproximação de $ \\int_a^b f(x)\\,dx $ por este valor é conhecida como **regra do trapézio simples**.\n",
    "\n",
    "## 2 A regra do trapézio (composta)\n",
    "\n",
    "Para melhorar aproximação fornecida por (\\ref{E:simples}), podemos primeiro subdividir o intervalo $ [a, b] $ original em $ N \\ge 1 $ subintervalos \n",
    "$$ [x_0, x_1],\\ [x_1, x_2],\\dots,[x_{N-1}, x_N] $$\n",
    "onde $ x_0 = a $, $ x_N = b $ e, em geral,\n",
    "$$\n",
    "    x_i = a + ih\\qquad (i = 0, 1, \\dots, N).\n",
    "$$\n",
    "Aqui\n",
    "$$\n",
    "    h = \\frac{b - a}{N}\n",
    "$$\n",
    "é o chamado **tamanho do passo**. Observe que cada subintervalo $ [x_{i - 1}, x_i] $ tem o mesmo comprimento $ h $. Em seguida, para cada $ i = 1, \\dots, N $, aproximamos a integral\n",
    "$$ \\int_{x_{i - 1}}^{x_i} f(x)\\,dx $$\n",
    "pelo valor fornecido pela regra do trapézio simples. Ou seja, aproximamos a integral acima pela integral do único polinômio de grau $ \\le 1 $ que interpola $ f $ em $ x_{i-1} $ e $ x_i $. Novamente, o gráfico deste polinômio é um segmento de reta, e a integral aproximadora pode ser vista geometricamente como a área, com sinal, de um trapézio de altura $ h = x_i - x_{i - 1} $ e bases de comprimentos $ f(x_{i - 1}) $ e $ f(x_i) $. Esta área é dada por:\n",
    "$$\n",
    "    \\frac{h}{2}\\big[ f(x_{i - 1}) + f(x_i) \\big]\n",
    "$$\n",
    "Finalmente, somando em $ i $ obtemos a expressão:\n",
    "\n",
    "\\begin{alignat}{9}\\label{E:composta}\n",
    "    \\int_a^b f(x)\\,dx & \\approx \\frac{h}{2}\\Big[ f(a) + f(b) + 2 f(x_1) + 2 f(x_2)\n",
    "    + \\dots + 2f(x_{N - 2}) + 2f(x_{N - 1}) \\Big] \\\\\n",
    "    & = h\\bigg[\\frac{f(a) + f(b)}{2} + \\sum_{i=1}^{N - 1} f(x_i) \\bigg].\\tag{2}\n",
    "\\end{alignat}\n",
    "Esta é a chamada **regra do trapézio** (composta).\n",
    "\n",
    "📝 Em geral, quanto maior o valor de $ N $, melhor será a aproximação."
   ]
  },
  {
   "cell_type": "markdown",
   "id": "7302bb7a",
   "metadata": {},
   "source": [
    "## 3 Implementação da regra do trapézio\n",
    "\n",
    "Aqui está uma implementação da regra do trapézio em Python:"
   ]
  },
  {
   "cell_type": "code",
   "execution_count": 4,
   "id": "92f40cc1",
   "metadata": {},
   "outputs": [],
   "source": [
    "def trapezio(f, a, b, N):\n",
    "    \"\"\"Retorna uma aproximação para a integral definida de 'a' a 'b'\n",
    "    de uma função real f de uma variável usando a regra do trapézio\n",
    "    composta com N subdivisões do intervalo.\"\"\"\n",
    "    assert isinstance(N, int) and N >= 1\n",
    "    \n",
    "    h = (b - a) / N             # tamanho do passo\n",
    "    S = (f(a) + f(b)) / 2.0     # armazenará a expressão entre colchetes em (2)\n",
    "    x = a + h                   # valor atual (x_i) de x onde f será avaliada\n",
    "    for i in range(1, N):\n",
    "        S += f(x)\n",
    "        x += h\n",
    "    \n",
    "    integral = h * S\n",
    "    return integral"
   ]
  },
  {
   "cell_type": "markdown",
   "id": "47be81b0",
   "metadata": {},
   "source": [
    "## 4 Exemplos"
   ]
  },
  {
   "cell_type": "code",
   "execution_count": 10,
   "id": "3d1c64f6",
   "metadata": {},
   "outputs": [],
   "source": [
    "from math import sin, pi"
   ]
  },
  {
   "cell_type": "markdown",
   "id": "83f822a5",
   "metadata": {},
   "source": [
    "**Exemplo 1:** Avalie a integral $$ \\int_0^{\\pi} \\sin x \\,dx $$ exatamente e usando a regra do trapézio composta com:\n",
    "* (a) $ N = 8 $ subdivisões;\n",
    "* (b) $ N = 16 $ subdivisões;"
   ]
  },
  {
   "cell_type": "markdown",
   "id": "61842fd1",
   "metadata": {},
   "source": [
    "📝 Observe que a regra do trapézio nos permite estimar o valor da integral de $ f $ mesmo sem ter uma fórmula explícita para $ f(x) $, desde que conheçamos os valores de $ f $ em pontos igualmente espaçados dentro do intervalo de integração. Isto é ilustrado pelo seguinte exemplo."
   ]
  },
  {
   "cell_type": "markdown",
   "id": "4e2d35c5",
   "metadata": {},
   "source": [
    "**Exemplo 2:** Estime $$\\int_0^{2.5} f(x)\\,dx $$ a patrir dos dados abaixo:\n",
    "\n",
    "| $ x $    | 0   | 0.5 | 1.0 | 1.5    | 2.0  | 2.5    |\n",
    "| ---      | --- | --- | --- | ---    | ---  | ---    |\n",
    "| $ f(x) $ | 1.5 | 2.0 | 2.0 | 1.6364 | 1.25 | 0.9565 |"
   ]
  },
  {
   "cell_type": "code",
   "execution_count": null,
   "id": "412d42a1",
   "metadata": {},
   "outputs": [],
   "source": []
  },
  {
   "cell_type": "markdown",
   "id": "9aa0208c",
   "metadata": {},
   "source": [
    "**Exemplo 3:** Use a regra do trapézio para avaliar a integral\n",
    "$$ \\int_0^\\pi \\frac{\\sqrt[3]{x} \\cos x}{e^x}\\,dx $$ a seis casas decimais, usando um número $ N $ de subdivisões igual a uma potência $ N = 2^k $ de $ 2 $. Qual o valor mínimo de $ k $ necessário?"
   ]
  },
  {
   "cell_type": "code",
   "execution_count": null,
   "id": "c399d7ff",
   "metadata": {},
   "outputs": [],
   "source": []
  }
 ],
 "metadata": {
  "kernelspec": {
   "display_name": "Python 3 (ipykernel)",
   "language": "python",
   "name": "python3"
  },
  "language_info": {
   "codemirror_mode": {
    "name": "ipython",
    "version": 3
   },
   "file_extension": ".py",
   "mimetype": "text/x-python",
   "name": "python",
   "nbconvert_exporter": "python",
   "pygments_lexer": "ipython3",
   "version": "3.9.13"
  }
 },
 "nbformat": 4,
 "nbformat_minor": 5
}
