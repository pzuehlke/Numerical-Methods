{
 "cells": [
  {
   "cell_type": "markdown",
   "id": "34263b5e",
   "metadata": {},
   "source": [
    "# 6.1 Regra do trapézio"
   ]
  },
  {
   "cell_type": "markdown",
   "id": "2d3e28ce",
   "metadata": {},
   "source": [
    "Sejam $ f \\colon [a, b] \\to \\mathbb{R} $ uma função contínua. A **regra do trapézio** (composta) aproxima a integral definida\n",
    "$$ \\int_a^b f(x)\\,dx $$\n",
    "de uma função (suposta contínua) pela expressão\n",
    "\\begin{equation}\\label{E:destaque}\n",
    "    \\frac{h}{2}\\Big[ f(a) + f(b) + 2 f(x_1) + 2 f(x_2)\n",
    "    + \\dots + 2f(x_{N - 2}) + 2f(x_{N - 1}) \\Big].\\tag{1}\n",
    "\\end{equation}\n",
    "Aqui $ h = \\frac{b-a}{N} $ é o chamado *tamanho do passo* e $ N $ é o número de subdivisões do intervalo em questão (escolhido pelo usuário). Em geral, quanto maior o valor de $ N $, melhor será a aproximação.\n",
    "\n",
    "A idéia por trás desta fórmula é primeiro subdividir o intervalo $ [a, b] $ original em $ N $ subintervalos \n",
    "$$ [x_0, x_1],\\ [x_1, x_2],\\dots,[x_{N-1}, x_N] $$\n",
    "de igual comprimento $ h $, com $ x_0 = a $ e $ x_N = b $. Então, para cada $ i = 1, \\dots, N $, aproximamos a integral\n",
    "$$ \\int_{x_{i - 1}}^{x_i} f(x)\\,dx $$\n",
    "pela integral do único polinômio de grau $ \\le 1 $ que interpola $ f $ em $ x_{i-1} $ e $ x_i $. O gráfico deste polinômio é um segmento de reta, e a integral aproximadora pode ser vista como a área do trapézio de altura $ h = x_i - x_{i - 1} $ e bases de comprimentos $ f(x_{i - 1}) $ e $ f(x_i) $. Esta área é dada por:\n",
    "$$\n",
    "    \\frac{h}{2}\\big[ f(x_{i - 1}) + f(x_i) \\big]\n",
    "$$\n",
    "Somando em $ i $ obtemos a expressão (\\ref{E:destaque})."
   ]
  },
  {
   "cell_type": "markdown",
   "id": "7302bb7a",
   "metadata": {},
   "source": [
    "Aqui está uma implementação da regra do trapézio em Python:"
   ]
  },
  {
   "cell_type": "code",
   "execution_count": 6,
   "id": "92f40cc1",
   "metadata": {},
   "outputs": [],
   "source": [
    "def trapezio(f, a, b, N):\n",
    "    \"\"\"Retorna uma aproximação para a integral definida de 'a' a 'b'\n",
    "    de uma função real f de uma variável usando a regra do trapézio\n",
    "    composta com N subdivisões do intervalo.\"\"\"\n",
    "    assert a <= b\n",
    "    assert isinstance(N, int) and N >= 1\n",
    "    \n",
    "    h = (b - a) / N             # tamanho do passo\n",
    "    S = (f(a) + f(b)) / 2.0     # soma dos valores de f nos pontos requeridos\n",
    "    x = a + h                   # valor atual (x_i) de x onde f será avaliada\n",
    "    for i in range(1, N):\n",
    "        S += f(x)\n",
    "        x += h\n",
    "    \n",
    "    integral = h * S\n",
    "    return integral"
   ]
  },
  {
   "cell_type": "code",
   "execution_count": 7,
   "id": "3d1c64f6",
   "metadata": {},
   "outputs": [
    {
     "data": {
      "text/plain": [
       "1.9835235375094546"
      ]
     },
     "execution_count": 7,
     "metadata": {},
     "output_type": "execute_result"
    }
   ],
   "source": [
    "from math import sin, pi\n",
    "\n",
    "\n",
    "trapezio(sin, 0, pi, 10)"
   ]
  },
  {
   "cell_type": "markdown",
   "id": "83f822a5",
   "metadata": {},
   "source": [
    "**Problema 1:** Avalie a integral $$ \\int_0^{\\pi} \\sin x \\,dx $$ usando a regra do trapézio composta com:\n",
    "* (a) $ N = 8 $ subdivisões;\n",
    "* (b) $ N = 16 $ subdivisões;"
   ]
  },
  {
   "cell_type": "markdown",
   "id": "4e2d35c5",
   "metadata": {},
   "source": [
    "**Problema 2:** Estime $$\\int_0^{2.5} f(x)\\,dx $$ a patrir dos dados abaixo:\n",
    "\n",
    "| $ x $    | 0   | 0.5 | 1.0 | 1.5    | 2.0  | 2.5    |\n",
    "| ---      | --- | --- | --- | ---    | ---  | ---    |\n",
    "| $ f(x) $ | 1.5 | 2.0 | 2.0 | 1.6364 | 1.25 | 0.9565 |"
   ]
  },
  {
   "cell_type": "markdown",
   "id": "9aa0208c",
   "metadata": {},
   "source": [
    "**Problema 3:** Use a regra do trapézio para avaliar a integral\n",
    "$$ \\int_0^\\pi \\sqrt{x} \\cos x\\,dx $$ a seis casas decimais, usando um número $ N $ de subdivisões igual a uma potência $ N = 2^k $ de $ 2 $. Qual o valor mínimo de $ k $ necessário?"
   ]
  },
  {
   "cell_type": "code",
   "execution_count": null,
   "id": "c399d7ff",
   "metadata": {},
   "outputs": [],
   "source": []
  }
 ],
 "metadata": {
  "kernelspec": {
   "display_name": "Python 3 (ipykernel)",
   "language": "python",
   "name": "python3"
  },
  "language_info": {
   "codemirror_mode": {
    "name": "ipython",
    "version": 3
   },
   "file_extension": ".py",
   "mimetype": "text/x-python",
   "name": "python",
   "nbconvert_exporter": "python",
   "pygments_lexer": "ipython3",
   "version": "3.9.13"
  }
 },
 "nbformat": 4,
 "nbformat_minor": 5
}
