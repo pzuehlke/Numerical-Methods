{
 "cells": [
  {
   "cell_type": "markdown",
   "id": "149401cb",
   "metadata": {},
   "source": [
    "# Regra de Simpson"
   ]
  },
  {
   "cell_type": "markdown",
   "id": "9b0114cc",
   "metadata": {},
   "source": [
    "## $ \\S 1 $ Regra de Simpson simples\n",
    "\n",
    "### $ 1.1 $ Idéia da regra de Simpson simples\n",
    "\n",
    "Seja $ f \\colon [a, b] \\to \\mathbb{R} $ uma função contínua, cuja integral\n",
    "$$ \\int_a^b f(x)\\,dx $$\n",
    "gostaríamos de calcular. Usando a regra do trapézio simples, a estratégia era aproximá-la pela integral do único polinômio de grau $ \\le 1 $ que interpola $ f $ em $ a $ e $ b $.\n",
    "\n",
    "A idéia da **regra de Simpson simples** é análoga, exceto que utilizaremos o único polinômio $ p $ de grau $ \\le 2 $ que interpola $ f $ em $ a $, em $ b $ e em\n",
    "$$ m = \\frac{a + b}{2}. $$\n",
    "\n",
    "📝 Exceto no caso em que $ (a, f(a)) $, $ (b, f(b)) $ e $ (m, f(m)) $ são colineares, $ p $ tem grau exatamente 2, e o seu gráfico é uma parábola.\n",
    "\n",
    "### $ 1.2 $ Derivação da fórmula da regra de Simpson simples\n",
    "\n",
    "De acordo com a fórmula de Lagrange para o polinômio interpolador $ p$, temos:\n",
    "\\begin{equation*}\\label{E:p}\n",
    "p(x) = f(a)\\frac{(x-m)(x-b)}{(a-m)(a-b)}\n",
    "    + f(m) \\frac{(x-a)(x-b)}{(m-a)(m-b)}\n",
    "    + f(b) \\frac{(x-a)(x-m)}{(b-a)(b-m)}\\ .\\tag{1}\n",
    "\\end{equation*}\n",
    "Para calcular sua integral sobre $ [a, b] $ mais facilmente, introduza a substituição\n",
    "$$\n",
    "x = a + (b-a)u.\n",
    "$$\n",
    "Então:\n",
    "* $ x - a = (b-a) u $, de modo que $ a $ corresponde a $ u = 0 $;\n",
    "* $ x - b = (b-a) (u - 1) $, de modo que $ b $ corresponde a $ u = 1 $;\n",
    "* $ x - m = (b-a) (u - \\frac{1}{2}) $;\n",
    "* $ dx = h\\, du $.\n",
    "\n",
    "Avaliando separadamente as integrais dos numeradores em (\\ref{E:p}):\n",
    "\\begin{alignat*}{9}\n",
    "    \\int_a^b (x-m)(x-b)\\,dx &= (b-a)^3\\int_0^1\\big(u - \\tfrac{1}{2}\\big)(u-1)\\,du\\\\\n",
    "    &=(b-a)^3\\bigg(\\frac{u^3}{3}-\\frac{3u^2}{4}+\\frac{u}{2}\\bigg)\\bigg|_0^1 \\\\ \n",
    "    &= \\frac{(b-a)^3}{12}  \\\\\n",
    "    \\int_a^b (x-a)(x-b)\\,dx &= (b-a)^3\\int_0^1u (u - 1)\\,du\\\\\n",
    "    &=(b-a)^3\\bigg(\\frac{u^3}{3}-\\frac{u^2}{2}\\bigg)\\bigg|_0^1 \\\\\n",
    "    &= -\\frac{(b-a)^3}{6} \\\\\n",
    "    \\int_a^b (x-a)(x-m)\\,dx &= (b-a)^3\\int_0^1u(u - \\tfrac{1}{2})\\,du\\\\\n",
    "    &=(b-a)^3\\bigg(\\frac{u^3}{3}-\\frac{u^2}{4}\\bigg)\\bigg|_0^1 \\\\\n",
    "    &= \\frac{(b-a)^3}{12} \n",
    "\\end{alignat*}\n",
    "\n",
    "Finalmente, substituindo estes valores em \\eqref{E:p} e lembrando que $ m = \\frac{a+b}{2} $, concluímos após algumas contas diretas que:\n",
    "\\begin{equation*}\n",
    "    \\int_a^b p(x)\\,dx = \\boxed{\\frac{b-a}{6} \\bigg[f(a) + 4f(m) + f(b) \\bigg]}\n",
    "\\end{equation*}\n",
    "A aproximação de $ \\int_a^b f(x)\\,dx $ por este valor é conhecida como **regra de Simpson simples**.\n",
    "\n",
    "**Problema 1:** Calcule $ \\int_0^\\pi \\sin x\\,dx $ exatamente e através da aplicação da regra de Simpson simples.\n",
    "\n",
    "**Problema 2:** Calcule $ \\int_0^1 e^{-x}\\,dx $ exatamente e usando a fórmula de Simpson.\n",
    "\n",
    "\n",
    "📝 Como a regra de Simpson simples nada mais é que a substituição da integral $ \\int_a^bf(x)\\,dx $ pela integral do polinômio de grau $ \\le 2 $ que interpola $ f $ em $ a $, $ m $ e $ b $, a aproximação é *exata* caso a própria função $ f $ seja um polinômio de grau $ \\le 2 $; afinal, neste caso $ p = f $.\n",
    "\n",
    "⚡ Surpreendentemente, o mesmo ocorre quando $ f $ é um polinômio de grau $ 3 $. Sob esta hipótese, $ f - p $ é um polinômio de grau $ 3 $ que se anula em $ a $, $ m $ e $ b $. Sem perda de generalidade, podemos supor que $ a = -1 $, $ b = 1 $ e $ m = 0 $. Escrevendo \n",
    "$$\n",
    "(f - p)(x) = c_3x^3 + c_2x^2 + c_1x + c_0,\n",
    "$$\n",
    "deduzimos da condição $ (f-p)(m) = 0 $ que $ c_0 = 0 $. E das condições $ (f-p)(a) = 0 = (f-p)(b) $ tiramos que $ c_2 = 0 $. Portanto $ f - p $ é um polinômio *ímpar* no intervalo $ [a, b] = [-1, 1] $, querendo dizer que $ (f-p)(-x) = -(f-p)(x) $. Por sua vez, isto implica que sua integral aí vale zero, ou seja, \n",
    "$$\n",
    "\\int_a^bf(x)\\,dx = \\int_a^b p(x)\\,dx\\, .\n",
    "$$\n",
    "Este fato também segue da fórmula para o erro; veja a $ \\S 5 $."
   ]
  },
  {
   "cell_type": "markdown",
   "id": "a743d54c",
   "metadata": {},
   "source": [
    "## $ \\S 2 $ Regra de Simpson composta\n",
    "\n",
    "Seja $ N \\ge 2 $ um natural _par_. Defina\n",
    "$$\n",
    "    h = \\frac{b - a}{N} \\quad \\text{e} \\quad x_i = a + ih \\qquad (i = 0, 1, \\dots, N).\n",
    "$$\n",
    "\n",
    "Em particular, note que $ x_0 = a $, $ x_N = b $ e que\n",
    "$$ x_i - x_{i-1} = h $$\n",
    "para cada $ i $. Neste contexto, $ h $ é chamado de **tamanho do passo**.\n",
    "\n",
    "Para melhor a precisão da estimativa para $ \\int_a^b f(x)\\,dx $ obtida na $ \\S 1 $, para cada $ i = 2, 4, \\dots, N $, vamos aproximar a integral\n",
    "$$ \\int_{x_{i - 2}}^{x_i} f(x)\\,dx $$\n",
    "usando a regra de Simpson simples. Como o intervalo de integração tem comprimento $ 2h $, o resultado é:\n",
    "$$\n",
    "    \\frac{h}{3}\\big[f(x_{i - 2}) + 4f(x_{i-1}) + f(x_i) \\big].\n",
    "$$\n",
    "Tomando a soma para  $ i = 2, 4, \\dots, N $, obtemos a expressão:\n",
    "$$\n",
    "\\begin{alignat*}{9}\n",
    "    \\int_a^b f(x)\\,dx & \\approx \\frac{h}{3}\\Big[f(a) + 4 f(x_1) + f(x_2) \\Big] \\\\\n",
    "    &+ \\frac{h}{3}\\Big[f(x_2) + 4 f(x_3) + f(x_4) \\Big] \\\\\n",
    "    &+\\ \\vdots \\\\\n",
    "    &+ \\frac{h}{3}\\Big[f(x_{N - 2}) + 4 f(x_{N-1}) + f(b) \\Big] \\\\\n",
    "    &=\\boxed{\\frac{h}{3}\\Bigg[f(a) + f(b) + 4 \\sum_{\\substack{i=1 \\\\ i \\text{ímpar}}}^{N - 1} f(x_i)\n",
    "    + 2 \\sum_{\\substack{i=1 \\\\ i \\text{par}}}^{N - 1} f(x_i)\\Bigg]} \\\\\n",
    "    % &=\\frac{2h}{3}\\bigg[\\frac{f(a) + f(b)}{2} + 2 \\sum_{\\substack{i=1 \\\\ i \\text{ímpar}}}^{N - 1} f(x_i)\n",
    "    % + \\sum_{\\substack{i=1 \\\\ i \\text{par}}}^{N - 2} f(x_i)\\bigg]\n",
    "\\end{alignat*}\n",
    "$$\n",
    "Esta é a chamada **regra de Simpson** (composta).\n",
    "\n",
    "⚠️ Não esqueça que na regra de Simpson, o número $ N $ de subdivisões deve ser *par*.\n",
    "\n",
    "📝 Em geral, quanto maior o valor de $ N $, melhor será a aproximação. Para mais detalhes, veja a $ \\S $ 5.\n",
    "\n",
    "📝 Tomando $ N = 2 $, recuperamos a expressão da regra de Simpson simples."
   ]
  },
  {
   "cell_type": "markdown",
   "id": "7a6f3d42",
   "metadata": {},
   "source": [
    "## $ \\S 3 $ Implementação da regra de Simpson"
   ]
  },
  {
   "cell_type": "code",
   "execution_count": 2,
   "id": "6aea0546",
   "metadata": {},
   "outputs": [],
   "source": [
    "def simpson(f, a, b, N):\n",
    "    \"\"\" Retorna uma aproximação para a integral definida de a a b\n",
    "    de uma função real f de uma variável usando a regra de Simpson\n",
    "    composta com N subdivisões do intervalo. N deve ser par! \"\"\"\n",
    "    \n",
    "    if not (isinstance(N, int) and N % 2 == 0 and N >= 2):\n",
    "        raise ValueError(\"N deve ser um natural par!\")\n",
    "        \n",
    "    h = (b - a) / N             # tamanho do passo\n",
    "    soma_impares = 0\n",
    "    soma_pares = 0\n",
    "    x = a                       # valor atual de x (x_i)\n",
    "    \n",
    "    for i in range(2, N, 2):    # para i = 2, 4, 6, ..., N - 2:\n",
    "        x += h                  # tome x = a + (i - 1) * h\n",
    "        soma_impares += f(x)\n",
    "        x += h                  # tome x = a + i * h\n",
    "        soma_pares += f(x)\n",
    "    \n",
    "    soma_impares += f(x + h)    # f(x_{N-1}) não foi computado acima\n",
    "    soma_impares *= 4\n",
    "    soma_pares *= 2\n",
    "    integral = (f(a) + f(b) + soma_pares + soma_impares) * h / 3.0\n",
    "    \n",
    "    return integral"
   ]
  },
  {
   "cell_type": "markdown",
   "id": "f56d1ac7",
   "metadata": {},
   "source": [
    "## $ \\S 4 $ Problemas"
   ]
  },
  {
   "cell_type": "markdown",
   "id": "ab532d1a",
   "metadata": {},
   "source": [
    "**Problema 1:** Avalie a integral $$ \\int_1^{e} \\frac{1}{x} \\,dx $$\n",
    "\n",
    "(a) Exatamente, usando o Teorema Fundamental do Cálculo;\n",
    "\n",
    "(b) Usando a regra de Simpson composta com $ N = 8 $ subdivisões;\n",
    "\n",
    "(c) Usando a regra de Simpson composta com $ N = 16 $ subdivisões."
   ]
  },
  {
   "cell_type": "code",
   "execution_count": null,
   "id": "f1c649cc",
   "metadata": {},
   "outputs": [],
   "source": []
  },
  {
   "cell_type": "markdown",
   "id": "9f12df19",
   "metadata": {},
   "source": [
    "**Problema 2:** Calcule as integrais abaixo pelas regras do trapézio e de Simpson com $ N = 2^k $ subdivisões para $ k = 2, \\dots, 6 $, e compare os resultados:\n",
    "\n",
    "(a) $ \\int_0^\\pi \\exp(\\cos x) \\,dx $;\n",
    "\n",
    "(b) $ \\int_{1}^{\\frac{\\pi}{2}} \\sqrt{\\sin x}\\,dx $."
   ]
  },
  {
   "cell_type": "code",
   "execution_count": null,
   "id": "06d9167b",
   "metadata": {},
   "outputs": [],
   "source": []
  },
  {
   "cell_type": "markdown",
   "id": "8c82979b",
   "metadata": {},
   "source": [
    "**Problema 3:** A função\n",
    "$$\n",
    "\\text{erf(x)} = \\frac{2}{\\sqrt\\pi}\\int_0^x e^{-t^2}\\,dt\n",
    "$$\n",
    "é chamada de *função erro (de Gauss)*. Ela é bastante importante em Estatística, mas não é uma função elementar (ou seja, não é possível encontrar uma \"fórmula fechada\" para $ \\text{erf} $).\n",
    "\n",
    "(a) Mostre que $ \\text{erf}(-x) = -\\text{erf}(x) $, isto é, $ \\text{erf} $ é uma função ímpar.\n",
    "\n",
    "(b) O limite de $ \\text{erf}(x) $ conforme $ x \\to +\\infty $ existe. Obtenha uma estimativa para ele usando a regra de Simpson. *Dica:* Calcule $ \\int_0^M \\text{erf}(x)\\,dx $ para $ M $ cada vez maior."
   ]
  },
  {
   "cell_type": "code",
   "execution_count": null,
   "id": "eea67b9e",
   "metadata": {},
   "outputs": [],
   "source": []
  },
  {
   "cell_type": "markdown",
   "id": "8f511f93",
   "metadata": {},
   "source": [
    "## $ \\S 5 $ Análise do erro"
   ]
  },
  {
   "cell_type": "markdown",
   "id": "a35e744a",
   "metadata": {},
   "source": [
    "### 5.1 Motivação"
   ]
  },
  {
   "cell_type": "markdown",
   "id": "5df816ae",
   "metadata": {},
   "source": [
    "**Exemplo 1:** Neste exemplo, veremos que conforme duplicamos o número $ N $ de subdivisões, o erro cometido pela aproximação fornecida pela regra de Simpson para a integral\n",
    "$$ \\int_0^\\pi \\sin x\\,dx = -\\cos \\pi + \\cos 0 = 2 $$\n",
    "é cortado por um fator de aproximadamente $ 16 = 2^4 $. Isto sugere que _o erro cometido diminui com a quarta potência de $ N $ conforme $ N $ aumenta_. E é isto que acontece de fato em geral, não apenas neste exemplo."
   ]
  },
  {
   "cell_type": "code",
   "execution_count": 21,
   "id": "b2a8dbed",
   "metadata": {},
   "outputs": [
    {
     "name": "stdout",
     "output_type": "stream",
     "text": [
      "Quociente entre os erros das aproximações I_4 e I_8:\n",
      "16.940059660175127\n",
      "Quociente entre os erros das aproximações I_8 e I_16:\n",
      "16.223806322213832\n",
      "Quociente entre os erros das aproximações I_16 e I_32:\n",
      "16.055292275691855\n",
      "Quociente entre os erros das aproximações I_32 e I_64:\n",
      "16.013782256098068\n",
      "Quociente entre os erros das aproximações I_64 e I_128:\n",
      "16.003424727310932\n"
     ]
    }
   ],
   "source": [
    "from numpy import sin, pi\n",
    "\n",
    "\n",
    "I_velho = simpson(sin, 0, pi, 4)\n",
    "\n",
    "for k in range(3, 8):\n",
    "    I_novo = simpson(sin, 0, pi, 2**k)\n",
    "    erro_novo = abs(I_novo - 2)\n",
    "    erro_velho = abs(I_velho - 2)\n",
    "    print(f\"Quociente entre os erros das aproximações I_{2**(k - 1)} e I_{2**k}:\")\n",
    "    print(erro_velho / erro_novo)\n",
    "    I_velho = I_novo"
   ]
  },
  {
   "cell_type": "markdown",
   "id": "781c31ca",
   "metadata": {},
   "source": [
    "### $ 5.2 $ Fórmula para o erro\n",
    "\n",
    "\n",
    "**Teorema 5.1 (fórmula para o erro na regra de Simpson):** *Seja $ f \\colon [a, b] \\to \\mathbb R $ uma função com quarta derivada contínua. O **erro** $ E $, diferença entre a integral de $ f $ neste intervalo e o valor fornecido pela regra de Simpson, é dado por\n",
    "$$\n",
    "\\boxed{E = -\\frac{(b-a)^5}{180N^4}f^{(4)}(c) \\quad \\text{para algum } c\\in [a, b]}\\,\n",
    "$$*\n",
    "\n",
    "Omitiremos a demonstração, que é parecida mas mais trabalhosa que a da fórmula para o erro na regra do trapézio.\n",
    "\n",
    "📝 Concluímos imediatamente que, grosso modo, na regra de Simpson *o erro decresce com a quarta potência do número $ N $ de subdivisões conforme $ N $ aumenta*.\n",
    "\n",
    "📝 A fórmula do erro também implica que a regra de Simpson fornece o valor *exato* para a integral caso $ f $ seja um polinômio de grau $ \\le 3 $, conforme discutido no final da $ \\S 1 $, apesar de termos utilizado um polinômio interpolador de grau $ 2 $ para obtê-la. Esta precisão maior advém da escolha do terceiro nodo (além de $ a $ e $ b $) como sendo o ponto médio $ m $ do intervalo (em oposição a algum outro ponto dentro dele).\n",
    "\n",
    "**Corolário 5.2:** *Seja $ f \\colon [a, b]  \\to \\mathbb R $ uma função com quarta derivada contínua em $ [a, b] $. Então o erro $ E $ cometido na aproximação da integral de $ f $ sobre $ [a, b] $ pela regra de Simpson com $ N $ subdivisões satisfaz\n",
    "$$\n",
    "    \\boxed{\\lvert{E}\\rvert \\le \\frac{(b-a)^5}{180N^4}\\max_{[a,b]} \\lvert{f^{(4)}}\\rvert}\n",
    "$$*"
   ]
  },
  {
   "cell_type": "code",
   "execution_count": null,
   "id": "7ecf8560",
   "metadata": {},
   "outputs": [],
   "source": []
  }
 ],
 "metadata": {
  "kernelspec": {
   "display_name": "Python 3 (ipykernel)",
   "language": "python",
   "name": "python3"
  },
  "language_info": {
   "codemirror_mode": {
    "name": "ipython",
    "version": 3
   },
   "file_extension": ".py",
   "mimetype": "text/x-python",
   "name": "python",
   "nbconvert_exporter": "python",
   "pygments_lexer": "ipython3",
   "version": "3.9.13"
  }
 },
 "nbformat": 4,
 "nbformat_minor": 5
}
