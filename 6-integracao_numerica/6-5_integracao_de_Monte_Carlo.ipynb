{
 "cells": [
  {
   "cell_type": "markdown",
   "id": "0d9aef8d",
   "metadata": {},
   "source": [
    "$ \\DeclareMathOperator{\\vol}{vol} $\n",
    "$ \\newcommand{\\mbf}{\\mathbf} $\n",
    "\n",
    "# Integração de Monte Carlo"
   ]
  },
  {
   "cell_type": "markdown",
   "id": "0c774614",
   "metadata": {},
   "source": [
    "## $ \\S 1 $ Introdução\n",
    "\n",
    "Nas regras do trapézio e de Simpson, escolhemos $ N + 1 $ pontos $ x_0, x_1, \\dots, x_N $ igualmente espaçados no intervalo de integração $ [a, b] $ como membros da \"amostra\" tomada para se estimar a integral de uma função $ f $.\n",
    "\n",
    "Estes métodos são chamados de **determinísticos** porque o resultado fornecido é completamente determinado pelos parâmetros: uma vez fixados o número $ N + 1 $ de pontos e a função contínua $ f \\colon [a, b] \\to \\mathbb R $, cada aplicação do método resulta no mesmo valor. Além disto, é possível determinar uma cota superior para o erro cometido em função de $ N $.\n",
    "\n",
    "Em contraste, o método da *integração de Monte Carlo* que estudaremos neste caderno é **probabilístico**. A idéia  é escolher os pontos onde $ f $ será avaliada *aleatoriamente* dentro do intervalo $ [a, b] $. Desta forma cada aplicação fornece uma aproximação diferente, mesmo mantendo-se $ N $ fixo. Ademais, dado $ \\varepsilon > 0 $, não podemos garantir que o erro envolvido na aproximação seja menor que $ \\varepsilon $ para  $ N $ suficientemente grande; podemos apenas estimar a *probabilidade* que isto aconteça como uma função de $ N $.\n",
    "\n",
    "Na verdade a integração de Monte Carlo é um caso particular de um método muito mais geral e extremamente útil, amplamente empregado em Física, Química, Engenharia e outras áreas, o *método de Monte Carlo*, que foi discutido no caderno anterior."
   ]
  },
  {
   "cell_type": "markdown",
   "id": "3313a240",
   "metadata": {},
   "source": [
    "## $ \\S 2 $ Aplicação a integrais de funções de uma variável\n",
    "\n",
    "Recorde do curso de Cálculo 1 que a integral\n",
    "$$\n",
    "\\int_a^b f(x)\\,dx\n",
    "$$\n",
    "é aproximada por *somas de Riemann*\n",
    "$$\n",
    "\\sum_{i=1}^N f(\\xi_i) \\Delta_i\n",
    "$$\n",
    "onde\n",
    "$$\n",
    "[x_0, x_1],\\ [x_1, x_2],\\ \\dots,\\ [x_{N-1}, x_{N}]\n",
    "$$\n",
    "formam uma partição de $ [a, b] $,\n",
    "$$\n",
    "\\Delta_i = x_i - x_{i-1}\n",
    "$$\n",
    "e os pontos\n",
    "$$\n",
    "\\xi_i \\in [x_{i-1}, x_i] \\qquad (i = 1, \\dots, N)\n",
    "$$\n",
    "podem ser escolhidos arbitrariamente. De fato, a integral é *definida* como o limite de somas deste tipo conforme o maior dos comprimentos $ \\Delta_i $ vai a zero.\n",
    "\n",
    "Considere o caso especial em que $ \\Delta_i = \\frac{b-a}{N} $ para cada $ i $, ou seja, os pontos são\n",
    "$$\n",
    "x_i = a +  i\\,\\frac{b-a}{N}\n",
    "$$\n",
    "e estão igualmente espaçados. Então a soma de Riemann se reduz a \n",
    "$$\n",
    "\\frac{b-a}{N}\\sum_{i=1}^N f(\\xi_i) = (b - a)\\bigg(\\frac{1}{N}\\sum_{i=1}^Nf(\\xi_i)\\bigg)\\,.\n",
    "$$    \n",
    "O último termo entre parênteses aqui pode ser visto como a média aritmética de uma amostra de $ N $ valores de $ f $ no intervalo, sujeitos à condição que o $ i $-ésimo ponto deve pertencer ao $ i $-ésimo intervalo da partição.\n",
    "\n",
    "Suponha agora que os pontos $ \\xi_i $ ($ i = 1, \\dots, N $) sejam escolhidos *aleatoriamente* dentro de $ [a, b] $, sem qualquer restrição (ou seja, não imporemos que $ \\xi_i $ pertença a $ [x_{i-1}, x_i] $). A Lei dos Grandes Números ainda garante que\n",
    "$$\n",
    "(b-a) \\bigg(\\frac{1}{N}\\sum_{i=1}^Nf(\\xi_i)\\bigg) \\longrightarrow \\int_a^b f(x)\\,dx \\qquad \\text{conforme }N \\to \\infty.\n",
    "$$\n",
    "A **integração de Monte Carlo** consiste da aproximação da integral à direita pelo valor à esquerda."
   ]
  },
  {
   "cell_type": "markdown",
   "id": "c8ba6297",
   "metadata": {},
   "source": [
    "## $ \\S 3 $ Implementação da integração de Monte Carlo em 1 dimensão"
   ]
  },
  {
   "cell_type": "code",
   "execution_count": 2,
   "id": "03f1e3a1",
   "metadata": {},
   "outputs": [],
   "source": [
    "def int_monte_carlo(f, a, b, N):\n",
    "    \"\"\"\n",
    "    Calcula a integral de uma função f : [a, b] -> R \n",
    "    usando o método de Monte Carlo com N ensaios.\n",
    "    \"\"\"\n",
    "    import numpy as np\n",
    "    \n",
    "    amostra = []\n",
    "    for _ in range(N):\n",
    "        x = np.random.uniform(a, b)\n",
    "        amostra.append(f(x))\n",
    "    amostra = np.array(amostra)\n",
    "    return (b - a) * np.mean(amostra)"
   ]
  },
  {
   "cell_type": "markdown",
   "id": "867977b2",
   "metadata": {},
   "source": [
    "**Problema 1:** Recorde que\n",
    "$$\n",
    "\\int_0^1 \\frac{1}{1+x^2}\\,dx = \\arctan(1) - \\arctan(0)  = \\frac{\\pi}{4}\\,.\n",
    "$$\n",
    "Use a integração de Monte Carlo para obter uma estimativa para $ \\pi $."
   ]
  },
  {
   "cell_type": "markdown",
   "id": "41aab6f4",
   "metadata": {},
   "source": [
    "*Solução:*"
   ]
  },
  {
   "cell_type": "code",
   "execution_count": 3,
   "id": "8b86e9d2",
   "metadata": {},
   "outputs": [
    {
     "name": "stdout",
     "output_type": "stream",
     "text": [
      "Valor de pi fornecido pelo NumPy:             3.141592653589793\n",
      "Estimativa obtida pelo método de Monte Carlo: 3.1435797646906023\n",
      "Cada vez que executamos a célula, obtemos um resultado diferente!\n"
     ]
    }
   ],
   "source": [
    "from numpy import pi\n",
    "f = lambda x: 1 / (1 + x**2)\n",
    "N = 10**5\n",
    "estimativa = 4 * int_monte_carlo(f, 0, 1, N)\n",
    "print(f\"Valor de pi fornecido pelo NumPy:             {pi}\")\n",
    "print(f\"Estimativa obtida pelo método de Monte Carlo: {estimativa}\")\n",
    "print(\"Cada vez que executamos a célula, obtemos um resultado diferente!\")"
   ]
  },
  {
   "cell_type": "markdown",
   "id": "8d14d0dd",
   "metadata": {},
   "source": [
    "## $ \\S 4 $ Integração de Monte Carlo em qualquer dimensão\n",
    "\n",
    "Para o cálculo de integrais definidas de funções de apenas uma variável, os métodos determinísticos como a regra de Simpson devem ser preferidos em relação à integração de Monte Carlo, por fornecerem resultados mais precisos com uso bem menor de recursos computacionais.\n",
    "\n",
    "Contudo, em dimensões altas os métodos determinísticos não funcionam tão bem. A primeira dificuldade é que o número de operações necessárias aumenta rapidamente com a dimensão. Grosso modo, se para garantir uma determinada precisão eram necessárias $ N $ avaliações em dimensão $ 1 $, em dimensão $ 3 $ serão necessárias $ N^3 $. Outro obstáculo é que, enquanto em dimensão $ 1 $ quase sempre integramos sobre um intervalo, em dimensões $ \\ge 2 $ a fronteira da região onde será calculada a integral pode ser muito mais complicada.\n",
    "\n",
    "Seja\n",
    "$$\n",
    "f \\colon D \\to \\mathbb R \n",
    "$$\n",
    "uma função contínua de $ m $ variáveis $ x_1, \\dots, x_m $ definida num domínio $ D $ qualquer de $ \\mathbb R^m $, e seja $ R \\subset D $ uma região regular o suficiente para que o seu volume faça sentido e possa ser calculado. Escolha aleatoriamente $ N $ pontos $ \\boldsymbol{\\xi_1}, \\dots, \\boldsymbol{\\xi_N} $ dentro de $ R $. Pode-se mostrar que\n",
    "$$\n",
    "\\vol(R)\\,\\bigg(\\frac{1}{N}\\sum_{i=1}^Nf(\\boldsymbol{\\xi_i})\\bigg) \\longrightarrow \\int \\int \\cdots \\int_R f(x_1,\\,x_2,\\cdots,x_m)\\,\\,dx_1\\,dx_{2}\\,\\cdots dx_m \\qquad \\text{conforme }N \\to \\infty.\n",
    "$$\n",
    "O **método de integração de Monte Carlo** consiste da aproximação da integral múltipla à direita pela quantidade à esquerda."
   ]
  },
  {
   "cell_type": "markdown",
   "id": "e80a95fd",
   "metadata": {},
   "source": [
    "## $ \\S 5 $ Implementação da integração de Monte Carlo em qualquer dimensão"
   ]
  },
  {
   "cell_type": "code",
   "execution_count": 4,
   "id": "af08bb07",
   "metadata": {},
   "outputs": [],
   "source": [
    "def integracao_monte_carlo(f, dimensao, volume, N, escolhe_ponto):\n",
    "    \"\"\"\n",
    "    Aproxima a integral de uma função f sobre uma região R\n",
    "    através do método de Monte Carlo.\n",
    "    Entradas:\n",
    "        * Uma função real f de uma ou mais variáveis.\n",
    "        * A dimensão do domínio de f (número m de variáveis de f).\n",
    "        * O volume da região R de integração.\n",
    "        * O número N de pontos na amostra.\n",
    "        * Uma função 'escolhe_ponto' sem argumentos que a cada chamada\n",
    "          retorna um ponto em R escolhido aleatoriamente. O ponto\n",
    "          deve ser representado como a lista (ou array) de suas coordenadas.\n",
    "    Saída: o valor aproximado da integral.\n",
    "    \"\"\"\n",
    "    import numpy as np\n",
    "    \n",
    "    assert isinstance(N, int) and N >= 1\n",
    "    assert isinstance(dimensao, int) and dimensao >= 1\n",
    "    \n",
    "    amostra = []\n",
    "    for _ in range(N):\n",
    "        X = escolhe_ponto()\n",
    "        amostra.append(f(*X))\n",
    "    amostra = np.array(amostra)\n",
    "    return volume * np.mean(amostra)"
   ]
  },
  {
   "cell_type": "markdown",
   "id": "b13563e9",
   "metadata": {},
   "source": [
    "📝 A notação `*X` na linha que atualiza a soma é usada para extrair as entradas de uma lista ou array `X`. Informalmente, ela\n",
    "transforma $ [x_1, ..., x_m] $ em $ x_1, x_2, ..., x_m $ para que possamos\n",
    "então aplicar a função $ f $ a estes argumentos. Esta operação é chamada de *unpacking* (desempacotamento). Estamos assumindo aqui que $ f $ tenha sido implementada como uma função de $ m $ variáveis, e não como função de uma variável que é uma lista ou array."
   ]
  },
  {
   "cell_type": "markdown",
   "id": "aae2addf",
   "metadata": {},
   "source": [
    "**Problema 2:** Estime a integral tripla\n",
    "$$\n",
    "    \\int_{-1}^{2}\\int_{-1}^2\\int_{-1}^2 \\cos\\big(xy\\,(2 - z^2)\\big)\\,dx\\,dy\\,dz\n",
    "$$\n",
    "usando a integração de Monte Carlo com uma amostra de $ N = 10^5 $ pontos. *Aviso:* Dependendo do computador, a resposta pode demorar um pouco. Não se preocupe com a precisão do resultado fornecido."
   ]
  },
  {
   "cell_type": "markdown",
   "id": "0950427a",
   "metadata": {},
   "source": [
    "*Solução:*"
   ]
  },
  {
   "cell_type": "code",
   "execution_count": 6,
   "id": "1790e425",
   "metadata": {},
   "outputs": [
    {
     "name": "stdout",
     "output_type": "stream",
     "text": [
      "integral = 14.899365517774088\n"
     ]
    }
   ],
   "source": [
    "# Complete o esboço abaixo:\n",
    "import numpy as np\n",
    "\n",
    "\n",
    "def escolhe_ponto():\n",
    "    from numpy.random import uniform\n",
    "    \n",
    "    ponto = uniform(-1, 2, size=3)     # Gere um vetor aleatório em [-1, 2)^3\n",
    "    return ponto\n",
    "\n",
    "\n",
    "f = lambda x, y, z: np.cos(x * y * (2 - z**2))\n",
    "N = 10**5\n",
    "dimensao = 3\n",
    "volume = 27\n",
    "integral = integracao_monte_carlo(f, dimensao, volume, N, escolhe_ponto)\n",
    "print(f\"integral = {integral}\")"
   ]
  },
  {
   "cell_type": "code",
   "execution_count": null,
   "id": "a4aaaef3",
   "metadata": {},
   "outputs": [],
   "source": []
  }
 ],
 "metadata": {
  "kernelspec": {
   "display_name": "Python 3 (ipykernel)",
   "language": "python",
   "name": "python3"
  },
  "language_info": {
   "codemirror_mode": {
    "name": "ipython",
    "version": 3
   },
   "file_extension": ".py",
   "mimetype": "text/x-python",
   "name": "python",
   "nbconvert_exporter": "python",
   "pygments_lexer": "ipython3",
   "version": "3.9.15"
  }
 },
 "nbformat": 4,
 "nbformat_minor": 5
}
