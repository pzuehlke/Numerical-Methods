{
 "cells": [
  {
   "cell_type": "markdown",
   "id": "dc590420",
   "metadata": {},
   "source": [
    "# Integração de Monte Carlo"
   ]
  },
  {
   "cell_type": "markdown",
   "id": "96cc8fff",
   "metadata": {},
   "source": [
    "## $ \\S 1 $ Introdução\n",
    "\n",
    "Nas regras do trapézio e de Simpson, escolhemos $ N + 1 $ pontos uniformemente distribuídos no intervalo de integração $ [a, b] $ como membros da \"amostra\" tomada para os valores da função $ f $ a ser integrada. Uma outra estratégia é escolher os pontos onde $ f $ será avaliada *aleatoriamente* dentro de $ [a, b] $. \n",
    "\n",
    "Os métodos do primeiro tipo são chamados de **determinísticos**. Uma vez fixados os parâmetros (a função contínua $ f \\colon [a, b] \\to \\mathbb R $ e o número $ N + 1 $ de pontos), cada aplicação do método fornece o mesmo resultado. Além disto, temos uma estimativa precisa do erro cometido em função de $ N $.\n",
    "\n",
    "Em contraste, o método da *integração de Monte Carlo* que estudaremos neste caderno é **probabilístico**. Por envolver escolhas aleatórias, cada aplicação fornece uma aproximação diferente, mesmo mantendo-se $ N $ fixo. Ademais, não podemos garantir que o erro envolvido na aproximação seja pequeno para $ N $ grande, temos somente uma estimativa da *probabilidade* de que o erro não irá exceder um certo valor dado.\n",
    "\n",
    "Na verdade a integração de Monte Carlo é um caso especial de um método muito mais geral e extremamente poderoso, o *método de Monte Carlo*."
   ]
  },
  {
   "cell_type": "markdown",
   "id": "ab1b9ee4",
   "metadata": {},
   "source": [
    " ## $ \\S 2 $ Descrição do método de Monte Carlo\n",
    " \n",
    "O **método de Monte Carlo** consiste da execução de um alto número $ N $ de *experimentos* ou *ensaios* num determinado contexto e da análise estatística dos resultados obtidos para se chegar a conclusões. \n",
    "\n",
    "Como exemplo, considere o disco $ D $ de equação\n",
    "$$\n",
    "x^2 + y^2 \\le 1\n",
    "$$\n",
    "no plano $ \\mathbb R^2 $, cuja área é $ \\pi $ e que está contido no quadrado $ Q $ de área $ 4 $ descrito pelas desigualdades\n",
    "$$\n",
    "\\lvert{x}\\rvert \\le 1, \\quad \\lvert{y}\\rvert \\le 1.\n",
    "$$\n",
    "A probabilidade de que um ponto escolhido aleatoriamente dentro deste quadrado esteja dentro do disco é o quociente entre as áreas, \n",
    "$$\n",
    "\\frac{\\text{área}(D)}{\\text{área}(Q)} = \\frac{\\pi}{4}.\n",
    "$$\n",
    "Suponha que escolhamos aleatoriamente $ 1, 2, 3, \\dots $ até um total de $ N $ pontos dentro de $ Q $, e seja $ n $ o número destes pontos pertencentes ao disco $ D $. Um teorema da Teoria do Probabilidade chamado de **Lei dos Grandes Números** diz que o quociente entre o número de \"sucessos\" $ n $ e o número total $ N $ de pontos na amostra tende à probabilidade do sucesso:\n",
    "$$\n",
    "\\lim_{N \\to \\infty} \\frac{n}{N} = \\frac{\\pi}{4}.\n",
    "$$\n",
    "Mais ainda, dado $ \\varepsilon > 0 $ positivo qualquer,\n",
    "$$\n",
    "\\lim_{N \\to \\infty} \\text{pr}\\bigg(\\Big\\lvert \\frac{n}{N} - \\frac{\\pi}{4}\\Big\\rvert < \\varepsilon \\bigg) = 1.\n",
    "$$\n",
    "Em palavras, a probabilidade de que a fração entre o número de pontos dentro do disco ($ n $) e o número total de pontos ($ N $) difira de $ \\frac{\\pi}{4} $ por mais que $ \\varepsilon $ tende a zero conforme o número de experimentos aumenta!"
   ]
  },
  {
   "cell_type": "code",
   "execution_count": 34,
   "id": "49607b37",
   "metadata": {},
   "outputs": [],
   "source": [
    "def monte_carlo(ensaio, N):\n",
    "    n = 0\n",
    "    for i in range(N):\n",
    "        if ensaio():\n",
    "            n += 1\n",
    "            \n",
    "    return n / N"
   ]
  },
  {
   "cell_type": "code",
   "execution_count": 35,
   "id": "1feaa789",
   "metadata": {},
   "outputs": [],
   "source": [
    "from numpy.random import rand\n",
    "\n",
    "\n",
    "def pertence_ao_disco():\n",
    "    # 'esticar' transforma o intervalo [0, 1] no intervalo [-1, 1]:\n",
    "    esticar = lambda x: 2 * x - 1\n",
    "    \n",
    "    # Escolha números aleatórios x, y entre -1 e 1.\n",
    "    # Recorde que rand() escolhe um float aleatório em [0, 1].\n",
    "    x = esticar(rand())\n",
    "    y = esticar(rand())\n",
    "    \n",
    "    return (x**2 + y**2 <= 1)\n"
   ]
  },
  {
   "cell_type": "code",
   "execution_count": 39,
   "id": "400333d6",
   "metadata": {
    "scrolled": true
   },
   "outputs": [
    {
     "name": "stdout",
     "output_type": "stream",
     "text": [
      "3.1412\n",
      "3.1568\n",
      "3.13\n",
      "3.1576\n",
      "3.1356\n",
      "3.1512\n",
      "3.1432\n",
      "3.1496\n",
      "3.1528\n",
      "3.1348\n",
      "3.141592653589793\n"
     ]
    }
   ],
   "source": [
    "from numpy import pi\n",
    "\n",
    "\n",
    "N = 10**4\n",
    "for k in range(10):\n",
    "    print(4 * monte_carlo(pertence_ao_disco, N))\n",
    "\n",
    "print(pi)"
   ]
  },
  {
   "cell_type": "markdown",
   "id": "37dd2854",
   "metadata": {},
   "source": [
    "**Problema 1:** Um teorema de E. Cèsaro (1850—1906) diz que a probabilidade de que dois naturais escolhidos ao acaso sejam relativamente primos é de $ \\frac{6}{\\pi^2} $. (Dois inteiros $ m $ e $ n $ são *relativamente primos* caso $ \\text{mdc}(m, n) = 1 $.)\n",
    "\n",
    "(a) Construa um experimento que escolhe dois números aleatórios $ m $ e $ n $ entre $ 1 $ e $ 10^6 $ e retorna `True` caso eles sejam relativamente primos e `False` caso contrário. *Dica:* A função `randint(a, b)` do módulo `numpy.random` retorna um inteiro aleatório entre $ a $ e $ b - 1 $ (inclusive).\n",
    "\n",
    "(b) Use o método de Monte Carlo e o teorema citado para obter uma aproximação para $ \\pi $."
   ]
  },
  {
   "cell_type": "code",
   "execution_count": 52,
   "id": "2bfe83cb",
   "metadata": {},
   "outputs": [
    {
     "name": "stdout",
     "output_type": "stream",
     "text": [
      "3.1510067105223283\n",
      "3.141592653589793\n"
     ]
    }
   ],
   "source": [
    "from numpy import sqrt, pi\n",
    "from numpy.random import randint\n",
    "\n",
    "\n",
    "def mdc(a, b):\n",
    "    \"\"\"Retorna o mdc de dois inteiros a, b. \"\"\"\n",
    "    assert isinstance(a, int) and isinstance(b, int)\n",
    "    if b == 0:\n",
    "        return a\n",
    "    else:\n",
    "        return mdc(b, a % b)\n",
    "\n",
    "    \n",
    "def ensaio_rel_primo():\n",
    "    m = randint(1, 10**5)\n",
    "    n = randint(1, 10**5)\n",
    "    return (mdc(m, n) == 1)\n",
    "\n",
    "\n",
    "N = 10**4\n",
    "resultado = monte_carlo(ensaio_rel_primo, N)\n",
    "print(sqrt(6 / resultado))\n",
    "print(pi)"
   ]
  },
  {
   "cell_type": "markdown",
   "id": "2ffd9c6b",
   "metadata": {},
   "source": [
    "## $ \\S 3 $ Aplicação a integrais de funções de uma variável\n",
    "\n",
    "Recorde do curso de Cálculo 1 que a integral\n",
    "$$\n",
    "\\int_a^b f(x)\\,dx\n",
    "$$\n",
    "é aproximada por *somas de Riemann*\n",
    "$$\n",
    "\\sum_{i=1}^N f(\\xi_i) \\Delta_i\n",
    "$$\n",
    "onde\n",
    "$$\n",
    "[x_0, x_1],\\ [x_1, x_2],\\ \\dots,\\ [x_{N-1}, x_{N}]\n",
    "$$\n",
    "formam uma partição de $ [a, b] $,\n",
    "$$\n",
    "\\Delta_i = x_i - x_{i-1}\n",
    "$$\n",
    "e os pontos\n",
    "$$\n",
    "\\xi_i \\in [x_{i-1}, x_i] \\qquad (i = 1, \\dots, N)\n",
    "$$\n",
    "são escolhidos arbitrariamente. De fato, a integral é *definida* como o limite de somas deste tipo conforme o maior dos comprimentos $ \\Delta_i $ vai a zero.\n",
    "\n",
    "Considere o caso especial em que $ \\Delta_i = \\frac{b-a}{N} $ para cada $ i $, ou seja, os pontos são\n",
    "$$\n",
    "x_i = a +  i\\frac{b-a}{N}\n",
    "$$\n",
    "e estão igualmente espaçados. Então a soma de Riemann se reduz a \n",
    "$$\n",
    "\\frac{b-a}{N}\\sum_{i=1}^N f(\\xi_i) = (b - a)\\bigg(\\frac{1}{N}\\sum_{i=1}f(\\xi_i)\\bigg).\n",
    "$$    \n",
    "O termo entre parênteses aqui pode ser visto como a média de uma amostra de $ N $ valores de $ f $ no intervalo, sujeitos à condição de que o $ i $-ésimo ponto pertence ao $ i $-ésimo intervalo da partição. A idéia da **integração de Monte Carlo** é aproximar $ \\int_a^b f(x)\\,dx $ pelo valor à direita, sem impor restrições sobre os $ \\xi_i $ (exceto que eles devem pertencer à $ [a, b] $)."
   ]
  },
  {
   "cell_type": "code",
   "execution_count": 54,
   "id": "30588051",
   "metadata": {},
   "outputs": [],
   "source": [
    "def integracao_monte_carlo(f, a, b, N):\n",
    "    from numpy.random import rand\n",
    "    \n",
    "    # Transforma o intervalo [0, 1] no intervalo [a, b]:\n",
    "    esticar = lambda x: a + (b - a) * x\n",
    "    \n",
    "    soma = 0\n",
    "    for i in range(N):\n",
    "        x = esticar(rand())\n",
    "        soma += f(x)\n",
    "    \n",
    "    return soma / N"
   ]
  },
  {
   "cell_type": "code",
   "execution_count": 56,
   "id": "d09ecc5e",
   "metadata": {},
   "outputs": [
    {
     "name": "stdout",
     "output_type": "stream",
     "text": [
      "3.141592653589793\n",
      "3.141867745364274\n"
     ]
    }
   ],
   "source": [
    "from numpy import pi\n",
    "\n",
    "\n",
    "f = lambda x: 1 / (1 + x**2)\n",
    "a = 0\n",
    "b = 1\n",
    "N = 10000\n",
    "\n",
    "print(pi)\n",
    "print(4 * integracao_monte_carlo(f, a, b, N))"
   ]
  },
  {
   "cell_type": "code",
   "execution_count": null,
   "id": "02445d38",
   "metadata": {},
   "outputs": [],
   "source": []
  }
 ],
 "metadata": {
  "kernelspec": {
   "display_name": "Python 3 (ipykernel)",
   "language": "python",
   "name": "python3"
  },
  "language_info": {
   "codemirror_mode": {
    "name": "ipython",
    "version": 3
   },
   "file_extension": ".py",
   "mimetype": "text/x-python",
   "name": "python",
   "nbconvert_exporter": "python",
   "pygments_lexer": "ipython3",
   "version": "3.9.13"
  }
 },
 "nbformat": 4,
 "nbformat_minor": 5
}
