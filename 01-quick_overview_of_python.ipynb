{
 "cells": [
  {
   "cell_type": "markdown",
   "id": "9c24f1a0",
   "metadata": {},
   "source": [
    "# A quick overview of Python"
   ]
  },
  {
   "cell_type": "markdown",
   "id": "3ed6643b",
   "metadata": {},
   "source": [
    "## 1 Introduction"
   ]
  },
  {
   "cell_type": "markdown",
   "id": "e3ab2b92",
   "metadata": {},
   "source": [
    "### 1.1 Obtaining Python\n",
    "__[Python 3](https://www.python.org/)__ is available for all major operating systems. Please [download](https://www.python.org/downloads/) the appropriate version for your computer and follow these [installation instructions](https://realpython.com/installing-python/). It will also be useful to [install](https://docs.anaconda.com/anaconda/install/) the __[Anaconda](https://www.anaconda.com/products/distribution)__ distribution platform for Python. It includes several useful libraries and packages, notably __NumPy__, __SciPy__, __matplotlib__ and __Jupyter__'s tools, all of which we will use during the course."
   ]
  },
  {
   "cell_type": "markdown",
   "id": "7a383c87",
   "metadata": {},
   "source": [
    "### 1.2 Jupyter notebooks\n",
    "The present document is a __Jupyter notebook__, a web-based interactive document which can contain both Python code and human-readable text, along with equations, tables, images and other media. The content of a notebook is organized as an ordered list of __cells__. Cells containing Python code, such as the one below, are distinguished by their gray background. They can be directly modified and interacted with by the user. To insert a new line below the current one in a Python cell, use `Enter` (a.k.a. `Return`); to run the contents of the cell through the interpreter, use `Shift + Enter`.\n",
    "\n",
    "📝 In Python, the __pound__ sign __#__ is used to introduce a _comment_. Comments are ignored by the interpreter and can be used to  make a piece of code more readable or to clarify an intention or process.\n",
    "\n",
    " Try editing and playing around with the cell below:"
   ]
  },
  {
   "cell_type": "code",
   "execution_count": null,
   "id": "897138d8",
   "metadata": {},
   "outputs": [],
   "source": [
    "print(\"Hello world!\")\n",
    "pi = 3.14159\n",
    "r = 10\n",
    "print(f\"The circumference of a circle of radius r = {r} is given by {2 * pi * r}\")\n",
    "pi * r**2    # '*' denotes multiplication and '**' denotes exponentiation."
   ]
  },
  {
   "cell_type": "markdown",
   "id": "0d3b2872",
   "metadata": {},
   "source": [
    "📝 Note the tags `In` and `Out` to the left of the preceding cell. The former tag stands for the _input_ (or content) of the cell and the latter for its _output_ (or result). This output can be used and referred to in other cells as `_n`, where $ n $ is the number shown inside brackets `[ ]`. For example:"
   ]
  },
  {
   "cell_type": "code",
   "execution_count": null,
   "id": "157c6b27",
   "metadata": {},
   "outputs": [],
   "source": [
    "_1 + 3    # Adds the output of cell 1 to the integer 3; '+' denotes addition of numbers."
   ]
  },
  {
   "cell_type": "markdown",
   "id": "01d582ff",
   "metadata": {},
   "source": [
    "📝 To avoid ambiguity, the value stored in `_n` _will remain the same unless every output is cleared explicitly_. The counter $ n $ is incremented by $ 1 $ every time the script inside some cell is run. In particular, if a cell is run several times, its output will stored in several variables of this type."
   ]
  },
  {
   "cell_type": "markdown",
   "id": "d6ee80ce",
   "metadata": {},
   "source": [
    "### 1.3 About Python\n",
    "[Python](https://www.python.org/) was originally developed by [Guido van Rossum](https://en.wikipedia.org/wiki/Guido_van_Rossum) starting in 1989. It is at its core an [object-oriented programming](https://en.wikipedia.org/wiki/Object-oriented_programming) (_OOP_) language. However, it also supports the main elements of the [functional programming](https://en.wikipedia.org/wiki/Functional_programming) (_FP_) and [imperative programming](https://en.wikipedia.org/wiki/Imperative_programming) paradigms.\n",
    "\n",
    "In contrast to some other widely used languages such as C, Java or Fortran, Python is an _interpreted_ language, meaning that scripts written in Python are not compiled into machine code, but rather run by an _interpreter_.\n",
    "\n",
    "The main advantage of interpreted languages (over compiled languages) is that they facilitate debugging and testing, since it is unnecessary to compile, link and execute the source code after each modification. On the other hand, programs written in an interpreted language do not result in stand-alone applications, but rather require the presence of a Python interpreter in the user's computer to be run. Another disadvantage is that programs written in interpreted languages tend to have much slower execution time than their compiled equivalents, sometimes by a factor of 10 or even more.\n",
    "\n",
    "Some other features of Python that make it suitable for teaching and learning about programming are:\n",
    "- ✅ Python is _free_ and _open source_ software (_FOSS_);\n",
    "- ✅ Python is available for all major operating systems, easy to install and its programs are platform-independent;\n",
    "- ✅ Python's syntax is simple and very pleasant, which makes for legible code;\n",
    "- ✅ Python has an extensive standard library and a large community of users and developers;\n",
    "- ✅ Python's abundant extensions are readily available."
   ]
  },
  {
   "cell_type": "markdown",
   "id": "189afb69",
   "metadata": {},
   "source": [
    "## 2 Core Python\n",
    "We shall now provide an overview of the core of Python."
   ]
  },
  {
   "cell_type": "markdown",
   "id": "dfb1562d",
   "metadata": {},
   "source": [
    "### 2.1 Variables and variable types\n",
    "In programming languages, a __variable__ is used to store and manipulate a (not necessarily numerical) __value__. Each of these values must have a __type__, which in turn determines its properties and the operations that can be applied to it.\n",
    "\n",
    "In Python (in contrast to, say, C), variables are __typed dinamically__, meaning that not only can the _value_ of a variable change during a program, but even its _type_ can be modified.\n",
    "\n",
    "To assign a value to a variable, we use the __assignment operator__ `=` in the form _variable name_ `=` _value_."
   ]
  },
  {
   "cell_type": "code",
   "execution_count": null,
   "id": "b4f7e7b1",
   "metadata": {},
   "outputs": [],
   "source": [
    "a = 1729      # Store the integer 1729 in variable a\n",
    "a             # Return the value of variable a as the output of the cell"
   ]
  },
  {
   "cell_type": "code",
   "execution_count": null,
   "id": "ccf295de",
   "metadata": {},
   "outputs": [],
   "source": [
    "b = 'wizard'  # Assign the string 'wizard' to the name b\n",
    "b             # Return the value of variable b as the output of the cell"
   ]
  },
  {
   "cell_type": "markdown",
   "id": "80ecbede",
   "metadata": {},
   "source": [
    "📝 Variable names may include any _alphanumeric characters_ (i.e., the characters A-Z, a-z and 0-9) together with _underscores_ \\_; the initial character must be a letter. By convention, we reserve uppercase initial letters to denote _classes_ and lowercase initial letters to name other objects.\n",
    "\n",
    "📝 The type of a variable $ x $ can be inspected through the function `type`(_x_). One can also verify whether variable $ x $ has a given type _variable_type_ through `isinstance`(_x_, _variable_type_).\n",
    "\n",
    "⚠️ __Important__: In Python, simply creating a variable or assigning a new value to it does _not_ prompt the interpreter to print its value. To _print_ the value of a variable, say $ x $, use `print`(_x_). To force the interpreter to _return_ the value of the variable as output, just type its name, in this case `x`.\n",
    "\n",
    "More generally, the function `print` can be used to print to the screen any collection of arguments, separated by commas. These commas will be replaced by single spaces in the output.\n",
    "\n",
    "#### Example:"
   ]
  },
  {
   "cell_type": "code",
   "execution_count": null,
   "id": "051b64d6",
   "metadata": {},
   "outputs": [],
   "source": [
    "x = 2                      # x is an integer\n",
    "print(x)\n",
    "print(type(x))\n",
    "print(isinstance(x, int))\n",
    "\n",
    "x = '2'                    # x is now a string\n",
    "print(x, type(x))          # We may print several items using a single print statement!\n",
    "print(isinstance(x, int))\n",
    "\n",
    "x = 2.0                    # x is now a floating-point number\n",
    "print(x, type(x))\n",
    "print(isinstance(x, str))\n",
    "\n",
    "x                          # Return the value of x as the output of this cell"
   ]
  },
  {
   "cell_type": "markdown",
   "id": "c7491014",
   "metadata": {},
   "source": [
    "🚫 The following small set of keywords cannot be used to name objects in Python:\n",
    "\n",
    "|           |            |            |           |\n",
    "| :-------- | :--------- | :--------- | :------   |\n",
    "|`False` \t| `def` \t | `if`       | `raise`   |\n",
    "|`None` \t| `del` \t | `import`   | `return`  |\n",
    "|`True` \t| `elif` \t | `in` \t  | `try`     |\n",
    "|`and` \t    | `else` \t | `is` \t  | `while`   |\n",
    "|`as` \t    | `except`   | `lambda`   | `with`    |\n",
    "|`assert` \t| `finally`  | `nonlocal` | `yield`   |\n",
    "|`break` \t| `for` \t | `not`      |           |\n",
    "|`class` \t| `from` \t | `or` \t  |           |\n",
    "|`continue` | `global`   | `pass`     |           |\n",
    "\n",
    "📝 One can make several assignments in a single line using commas `,` as separators. This is especially useful for permuting the values of two or more variables without resorting to temporary variables:\n"
   ]
  },
  {
   "cell_type": "code",
   "execution_count": null,
   "id": "b190e61e",
   "metadata": {},
   "outputs": [],
   "source": [
    "x = 1\n",
    "y = 2\n",
    "print(x, y)\n",
    "\n",
    "x, y = y, x\n",
    "print(x, y)\n",
    "\n",
    "x, y = x + y, x - y\n",
    "print(x, y)"
   ]
  },
  {
   "cell_type": "markdown",
   "id": "98df21ab",
   "metadata": {},
   "source": [
    "### 2.2 Numerical types\n",
    "Python supports three data types for storing numbers:\n",
    "* `int`, or _integer_ type for integers such as $ -1 $, $ 2 $, $ 0 $ or $ 53 $;\n",
    "* `float`, or _floating-point_ type for floating-point numbers (intuitively, numbers with a finite decimal expansion) such as $ 3.1415 $, $ 2.0 $ or $ -.450 $;\n",
    "* `complex`, or _complex_ type for complex numbers such as $ 2 + 3j $ or $ 3.14 - 43.5 j$.\n",
    "\n",
    "⚠️ In Python the imaginary unit is denoted by $ j $ instead of the more usual $ i $.\n",
    "\n",
    "📝 The names `int`, `float` and `complex` of all of these types can also be used as _functions_ to change between types, whenever this is possible. Similarly, any variable of a numerical type can be converted to a string using `str` (more about strings [in a moment](#strings)).\n",
    "\n",
    "In particular, any integer may be converted to a floating-point number using `float`. In turn, any floating-point number can be converted to a complex number using `complex`.\n",
    "\n",
    "__Example:__"
   ]
  },
  {
   "cell_type": "code",
   "execution_count": null,
   "id": "f0efa710",
   "metadata": {},
   "outputs": [],
   "source": [
    "a = 2\n",
    "float_a = float(a)\n",
    "complex_a = complex(a)\n",
    "str_a = str(a)\n",
    "\n",
    "print(a, type(a))\n",
    "print(float_a, type(float_a))\n",
    "print(complex_a, type(complex_a))\n",
    "print(str_a, type(str_a))"
   ]
  },
  {
   "cell_type": "markdown",
   "id": "2fddf3b3",
   "metadata": {},
   "source": [
    "📝 Applying `int` to a floating-point number $ x $ __truncates__ its decimal part (i.e., returns the largest integer $ n \\le x $). To __round__ $ x $ to the nearest integer, use `round`(_x_). More generally, `round`(_x_, _number_of_digits_) rounds a floating-point number $ x $ to a precision within _number_of_digits_ digits after the decimal point.\n",
    "\n",
    "__Example:__"
   ]
  },
  {
   "cell_type": "code",
   "execution_count": null,
   "id": "94c838c8",
   "metadata": {},
   "outputs": [],
   "source": [
    "b = 2.654321\n",
    "truncated_b = int(b)\n",
    "rounded_b = round(b)\n",
    "c = round(b, 3)\n",
    "complex_b = complex(b)\n",
    "\n",
    "print(truncated_b)\n",
    "print(rounded_b)\n",
    "print(c)\n",
    "print(complex_b, type(complex_b))"
   ]
  },
  {
   "cell_type": "markdown",
   "id": "9c2032a4",
   "metadata": {},
   "source": [
    "🚫 A complex number can only be converted to a string. Trying to convert it to an integer or floating-point number will result in a `TypeError`."
   ]
  },
  {
   "cell_type": "code",
   "execution_count": null,
   "id": "bff1d97f",
   "metadata": {},
   "outputs": [],
   "source": [
    "d = 2.0 + 0j\n",
    "int_d = int(d)"
   ]
  },
  {
   "cell_type": "code",
   "execution_count": null,
   "id": "2a625ce1",
   "metadata": {},
   "outputs": [],
   "source": [
    "float_d = float(d)"
   ]
  },
  {
   "cell_type": "markdown",
   "id": "708c269f",
   "metadata": {},
   "source": [
    "📝 A floating-point number can also be written in the __exponential notation__ using `e`.\n",
    "\n",
    "__Example:__"
   ]
  },
  {
   "cell_type": "code",
   "execution_count": null,
   "id": "02a8e4bf",
   "metadata": {},
   "outputs": [],
   "source": [
    "w = 3.14159e0\n",
    "x = 1.23e2\n",
    "y = 4.56e-2\n",
    "z = 7.89e10\n",
    "\n",
    "print(w)\n",
    "print(x)\n",
    "print(y)\n",
    "print(z)"
   ]
  },
  {
   "cell_type": "markdown",
   "id": "b27fa249",
   "metadata": {},
   "source": [
    "The result is thus obtained by multiplying the number to the left of `e` by $ 10 $ raised to the (integer) power to the right of `e`."
   ]
  },
  {
   "cell_type": "markdown",
   "id": "032e5a31",
   "metadata": {},
   "source": [
    "### 2.3 Arithmetic operators\n",
    "Python supports the following arithmetic operators:\n",
    "\n",
    "| Operator  | Meaning            | Types allowed              |\n",
    "| :-------- | :---------         | :------------------------  |\n",
    "| `+`       | Addition           |  `int`, `float`, `complex` |\n",
    "| `-`       | Subtraction        |  `int`, `float`, `complex` |\n",
    "| `*`       | Multiplication     |  `int`, `float`, `complex` |\n",
    "| `/`       | Division           |  `int`, `float`, `complex` |\n",
    "| `**`      | Exponentiation     |  `int`, `float`, `complex` |\n",
    "| `//`      | Integer division   |  `int`, `float`            |\n",
    "| `%`       | Modulo (remainder) |  `int`, `float`            |\n",
    "\n",
    "<a name=\"table 1\"></a>\n",
    "\n",
    "The last two operators are defined as follows. If $ x $ and $ y $ are positive integers or floating-point numbers, then:\n",
    "* ` x // y` is the largest integer $ n $ such that $ n y \\le x $.\n",
    "* `x % y` is $ x - n y $, for $ n $ as above.\n",
    "\n",
    "These operators are usually applied only when $ x $ and $ y $ are both positive. If one of $ x $ or $ y $ is negative, the definition is similar.\n",
    "\n",
    "__Example__:"
   ]
  },
  {
   "cell_type": "code",
   "execution_count": null,
   "id": "a206779a",
   "metadata": {},
   "outputs": [],
   "source": [
    "11 // 3"
   ]
  },
  {
   "cell_type": "code",
   "execution_count": null,
   "id": "08363909",
   "metadata": {},
   "outputs": [],
   "source": [
    "11 % 3"
   ]
  },
  {
   "cell_type": "code",
   "execution_count": null,
   "id": "d6fb65aa",
   "metadata": {},
   "outputs": [],
   "source": [
    "# Taking % with second argument 1 results in the decimal part of the (positive) first argument:\n",
    "3.14159 % 1"
   ]
  },
  {
   "cell_type": "code",
   "execution_count": null,
   "id": "5b8e87fb",
   "metadata": {
    "scrolled": false
   },
   "outputs": [],
   "source": [
    "print(\"3 + 2 =\", 3 + 2,\"    3 - 2 =\", 3 - 2, \"    3 * 2 =\", 3 * 2, \"    3 / 2 =\", 3 / 2)\n",
    "print(\"3**2 =\", 3**2, \"     3 // 2 =\", 3 // 2, \"   3 % 2 =\", 3 % 2)"
   ]
  },
  {
   "cell_type": "code",
   "execution_count": null,
   "id": "3756bf68",
   "metadata": {},
   "outputs": [],
   "source": [
    "x = complex(1, 2)      # Create, store the complex number 1 + 2 j\n",
    "y = complex(3.1, 4.1)  # Create, store the complex number 3.1 + 4.1 j\n",
    "z = 5\n",
    "print(y * x, y + x, y - x, z / x, x ** y)"
   ]
  },
  {
   "cell_type": "markdown",
   "id": "392292e2",
   "metadata": {},
   "source": [
    "🚫 Division by zero results in an error of type `ZeroDivisionError`:"
   ]
  },
  {
   "cell_type": "code",
   "execution_count": null,
   "id": "6761c3d0",
   "metadata": {},
   "outputs": [],
   "source": [
    "2.14 / 0.0"
   ]
  },
  {
   "cell_type": "markdown",
   "id": "8b04a480",
   "metadata": {},
   "source": [
    "### 2.3 Strings<a name=\"strings\"></a>\n",
    "A __string__ is a sequence of characters enclosed in either single `'` or double `\"` quotes. A string is an __immutable__ object, meaning that its individual characters cannot be modified during the program.\n",
    "\n",
    "Strings can be __concatenated__ using the binary operator __+__:"
   ]
  },
  {
   "cell_type": "code",
   "execution_count": null,
   "id": "d9ce99dc",
   "metadata": {},
   "outputs": [],
   "source": [
    "string_1 = \"ancient\"\n",
    "string_2 = \"magic\"\n",
    "string_3 = \"spells\"\n",
    "\n",
    "print(string_1 + string_2)\n",
    "print(string_1 + \" \" + string_2 + \" \" + string_3)"
   ]
  },
  {
   "cell_type": "markdown",
   "id": "1078b03c",
   "metadata": {},
   "source": [
    "The notation _string_ `[i:j]` notation is used to __slice__ a string from its $ i $-th character (inclusive) to its $ j $-th character (exclusive).\n",
    "\n",
    "⚠️ __Warning:__ In Python, indices are always counted starting from __0 (zero)__, not 1. To avoid confusion, we adapt our terminology accordingly to speak of, e.g., 'm' as the _0-th character_ of the string 'magic', 'a' as its first character, and so on."
   ]
  },
  {
   "cell_type": "code",
   "execution_count": null,
   "id": "33634496",
   "metadata": {},
   "outputs": [],
   "source": [
    "print(string_2[0:2])\n",
    "print(string_2[2:5])\n",
    "\n",
    "print(string_2[:2])    # Omit the first index to slice from the beginning to the second index\n",
    "print(string_2[2:])    # Omit the second index to slice from the first index to the end\n",
    "\n",
    "s = string_2[:]        # Omith both indices to make a _copy_ of the string\n",
    "s"
   ]
  },
  {
   "cell_type": "code",
   "execution_count": null,
   "id": "8285e989",
   "metadata": {},
   "outputs": [],
   "source": []
  }
 ],
 "metadata": {
  "kernelspec": {
   "display_name": "Python 3 (ipykernel)",
   "language": "python",
   "name": "python3"
  },
  "language_info": {
   "codemirror_mode": {
    "name": "ipython",
    "version": 3
   },
   "file_extension": ".py",
   "mimetype": "text/x-python",
   "name": "python",
   "nbconvert_exporter": "python",
   "pygments_lexer": "ipython3",
   "version": "3.9.2"
  }
 },
 "nbformat": 4,
 "nbformat_minor": 5
}
