{
 "cells": [
  {
   "cell_type": "markdown",
   "id": "d2bf6e65",
   "metadata": {},
   "source": [
    "## 1 Introduction\n",
    "In this course we will be using __[Python](https://www.python.org/)__ (specifically, Python 3), one of the most popular programming language nowadays. The purpose of this document is to provide a quick tour of the syntax and of the main features of the language."
   ]
  },
  {
   "cell_type": "markdown",
   "id": "e3ab2b92",
   "metadata": {},
   "source": [
    "### 1.1 Obtaining Python\n",
    "Python 3 is available for all major operating systems. Please [download](https://www.python.org/downloads/) the appropriate version for your computer and follow the installation instructions. It will also be useful to install the [Anaconda](https://www.anaconda.com/products/distribution) distribution platform for Python. It includes some libraries, notably __NumPy__, __SciPy__ and __matplotlib__, all of which we will use during the course, and __Jupyter__'s tools."
   ]
  },
  {
   "cell_type": "markdown",
   "id": "7a383c87",
   "metadata": {},
   "source": [
    "### 1.2 Jupyter notebooks\n",
    "The present document is a __Jupyter notebook__, a document which contains both Python code and human-readable text, along with images, tables and equations. The Python code can be directly modified and interacted with by the user. To insert a new line below the current one, use `Enter` (a.k.a. `Return`) and to run the contents of the cell through the interpreter, use `Shift + Enter`. Try playing around with the cell below:"
   ]
  },
  {
   "cell_type": "code",
   "execution_count": 11,
   "id": "897138d8",
   "metadata": {},
   "outputs": [
    {
     "name": "stdout",
     "output_type": "stream",
     "text": [
      "Hello word!\n",
      "The circumference of a circle of radius r = 1 is given by 6.28318\n"
     ]
    },
    {
     "data": {
      "text/plain": [
       "3.14159"
      ]
     },
     "execution_count": 11,
     "metadata": {},
     "output_type": "execute_result"
    }
   ],
   "source": [
    "print(\"Hello word!\")\n",
    "pi = 3.14159\n",
    "r = 1\n",
    "print(f\"The circumference of a circle of radius r = {r} is given by {2 * pi * r}\")\n",
    "pi * r**2    # '*' denotes multiplication, and '**' denotes exponentiation."
   ]
  },
  {
   "cell_type": "markdown",
   "id": "bd536c24",
   "metadata": {},
   "source": [
    "📝 Note the tags `In` for the content, or _input_, of the cell and `Out` for its result, or _output_. This output can be referred to and used in other cells through `_n`, where $ n $ is the number shown at the left. For example:"
   ]
  },
  {
   "cell_type": "code",
   "execution_count": 12,
   "id": "9423c1f9",
   "metadata": {},
   "outputs": [
    {
     "data": {
      "text/plain": [
       "5.14159"
      ]
     },
     "execution_count": 12,
     "metadata": {},
     "output_type": "execute_result"
    }
   ],
   "source": [
    "_1 + 2    # '+' denotes addition of numbers."
   ]
  },
  {
   "cell_type": "markdown",
   "id": "950b695b",
   "metadata": {},
   "source": [
    "The counter $ n $ is updated everytime the script inside the cell is run."
   ]
  },
  {
   "cell_type": "markdown",
   "id": "d6ee80ce",
   "metadata": {},
   "source": [
    "### 1.3 About Python\n",
    "[Python](https://www.python.org/) was originally developed by Guido van Rossum starting in 1989. It is at its core an [object-oriented programming](https://en.wikipedia.org/wiki/Object-oriented_programming) (_OOP_) language. However, it also supports the main elements of the [functional programming](https://en.wikipedia.org/wiki/Functional_programming) (_FP_) and [procedural programming](https://en.wikipedia.org/wiki/Imperative_programming) paradigms.\n",
    "\n",
    "In contrast to some other widely used languages such as C, Java or Fortran, Python is an _interpreted_ language, meaning that scripts written in Python are not compiled into machine code, but rather run by an _interpreter_.\n",
    "\n",
    "The main advantage of interpreted languages (over compiled languages) is that they facilitate debugging and testing, since it is unnecessary to compile, link and execute after each modification of the source code. On the other hand, programs written in an interpreted language do not result in stand-alone applications, but rather require the presence of a Python interpreter in the user's computer to be run. Another disadvantage is that programs written in interpreted languages tend to have much slower execution time than their compiled equivalents, sometimes by a factor of 10 or even more.\n",
    "\n",
    "Some other features of Python that make it suitable for teaching and learning about programming are:\n",
    "* Python is _free_ and _open source_ software (_FOSS_);\n",
    "* Python is available for all major operating systems and very easy to install. Programs written in any given system run without modifications in any other;\n",
    "* Python's syntax is simple and very pleasant, which makes for legible code;\n",
    "* Python has an extensive standard library and vibrant community of users, and its extensions are readily available."
   ]
  },
  {
   "cell_type": "markdown",
   "id": "189afb69",
   "metadata": {},
   "source": [
    "## 2 Core Python\n",
    "We shall now provide a tour of Python."
   ]
  },
  {
   "cell_type": "markdown",
   "id": "dfb1562d",
   "metadata": {},
   "source": [
    "### 2.1 Variable and variable types\n",
    "In programming languages, a __variable__ is used to store and manipulate a (not necessarily numerical) value. Each of these values must have a __type__, which in turn determines its properties and the operations that can be applied to it. In Python (in contrast to, say, C), variables are __typed dinamically__, meaning that not only can the _value_ of a variable change during a program, but also its _type_. To assign a value to a variable, we use the __assignment operator__ `=` in the form _variable name_ `=` _value_.\n",
    "\n",
    "📝 Variable names may include any _alphanumeric characters_ (i.e., the characters A-Z, a-z and 0-9) together with _underscores_ \\_; the initial character must be a letter. By convention we reserve uppercase initial letters to denote _classes_ and lowercase initial letters to name other objects.\n",
    "\n",
    "📝 The type of a variable can be inspected through the function `type`.\n",
    "\n",
    "⚠️ __Important__: In Python, simply creating a variable or assigning a new value to it does _not_ prompt the interpreter to print its value. To _print_ the value of a variable, say $ x $, use `print(x)`. To force the interpreter to _return_ the value of the variable as output, simply type its name, in this case `x`.\n",
    "#### Example:"
   ]
  },
  {
   "cell_type": "code",
   "execution_count": 13,
   "id": "051b64d6",
   "metadata": {},
   "outputs": [
    {
     "name": "stdout",
     "output_type": "stream",
     "text": [
      "2 <class 'int'>\n",
      "2 <class 'str'>\n",
      "2.0 <class 'float'>\n"
     ]
    },
    {
     "data": {
      "text/plain": [
       "2.0"
      ]
     },
     "execution_count": 13,
     "metadata": {},
     "output_type": "execute_result"
    }
   ],
   "source": [
    "x = 2     # x is an integer\n",
    "print(x, type(x))\n",
    "\n",
    "x = '2'   # is now a string\n",
    "print(x, type(x))\n",
    "\n",
    "x = 2.0   # x is now a floating point number\n",
    "print(x, type(x))\n",
    "\n",
    "x"
   ]
  },
  {
   "cell_type": "markdown",
   "id": "790da914",
   "metadata": {},
   "source": [
    "📝 The _pound_ sign __#__ is used to introduce a comment. Comments are ignored by the interpreter and can be used to  make a piece of code more readable or to clarify an intention or process."
   ]
  },
  {
   "cell_type": "markdown",
   "id": "c7491014",
   "metadata": {},
   "source": [
    "⚠️ The following small set of keywords cannot be used to name objects in Python:\n",
    "\n",
    "|           |            |            |           |\n",
    "| :-------- | :--------- | :--------- | :------   |\n",
    "|`False` \t| `def` \t | `if`       | `raise`   |\n",
    "|`None` \t| `del` \t | `import`   | `return`  |\n",
    "|`True` \t| `elif` \t | `in` \t  | `try`     |\n",
    "|`and` \t    | `else` \t | `is` \t  | `while`   |\n",
    "|`as` \t    | `except`   | `lambda`   | `with`    |\n",
    "|`assert` \t| `finally`  | `nonlocal` | `yield`   |\n",
    "|`break` \t| `for` \t | `not`      |           |\n",
    "|`class` \t| `from` \t | `or` \t  |           |\n",
    "|`continue` | `global`   | `pass`     |           |\n",
    "\n",
    "📝 One can make several assignments in a single line using commas `,` as separators. This is especially useful for permuting the values of two or more variables without resorting to temporary variables:\n"
   ]
  },
  {
   "cell_type": "code",
   "execution_count": null,
   "id": "30f07e86",
   "metadata": {},
   "outputs": [],
   "source": [
    "x = 1\n",
    "y = 2\n",
    "print(x, y)\n",
    "\n",
    "x, y = y, x\n",
    "print(x, y)\n",
    "\n",
    "x, y = x + y, x - y\n",
    "print(x, y)"
   ]
  },
  {
   "attachments": {},
   "cell_type": "markdown",
   "id": "98df21ab",
   "metadata": {},
   "source": [
    "## 2.1 Numerical types\n",
    "Python supports three data types for storing numbers:\n",
    "* __int__, or _integer_ type for integers such as $ -1 $, $ 2 $, $ 0 $ or $ 53 $;\n",
    "* __float__, or _floating-point_ type for floating-point numbers (intuitively, numbers with a finite decimal expansion) such as $ 3.1415 $, $ 2.0 $ or $ -.450 $;\n",
    "* __complex__, or _complex_ type for complex numbers such as $ 2 + 3j $ or $ 3.14 - 43.5 j$.\n",
    "\n",
    "⚠️ In Python the imaginary unit is denoted by $ j $ instead of the more usual $ i $.\n",
    "\n",
    "📝 Note that any integer may be seen as a floating-point number. In turn, any floating-point number may be seen as a complex number.\n",
    "\n",
    "📝 The name of all of these types can also be used as _functions_ to change convert between types whenever this is possible. Similarly, we can convert all numeric types to strings using `str` (more about strings [in a moment](#strings)).\n",
    "\n",
    "__Example:__"
   ]
  },
  {
   "cell_type": "code",
   "execution_count": null,
   "id": "75bebe5f",
   "metadata": {},
   "outputs": [],
   "source": [
    "a = 2\n",
    "float_a = float(a)\n",
    "complex_a = complex(a)\n",
    "str_a = str(a)\n",
    "print(a, type(a))\n",
    "print(float_a, type(float_a))\n",
    "print(complex_a, type(complex_a))\n",
    "print(str_a, type(str_a))"
   ]
  },
  {
   "cell_type": "markdown",
   "id": "66b433c2",
   "metadata": {},
   "source": [
    "A floating-point number to an integer, complex number or string using `int`, `complex` and `str`, respectively.\n",
    "\n",
    "📝 Applying `int` to a floating-point number $ x $ truncates its decimal part (i.e., returns the largest integer $ <= x $).\n",
    "\n",
    "__Example:__"
   ]
  },
  {
   "cell_type": "code",
   "execution_count": null,
   "id": "a1f18bf8",
   "metadata": {},
   "outputs": [],
   "source": [
    "b = 2.0\n",
    "int_b = int(b)\n",
    "complex_b = complex(b)\n",
    "print(b, type(b))\n",
    "print(int_b, type(int_b))\n",
    "print(complex_b, type(complex_b))"
   ]
  },
  {
   "cell_type": "markdown",
   "id": "47c6ac83",
   "metadata": {},
   "source": [
    "⚠️ A complex number can only be converted to a string. Trying to convert it to an integer or floating-point number will result in a `TypeError`."
   ]
  },
  {
   "cell_type": "code",
   "execution_count": null,
   "id": "9ee307f7",
   "metadata": {},
   "outputs": [],
   "source": [
    "d = 2.0 + 0j\n",
    "str_d = str(d)\n",
    "print(str_d, type(str_d))\n",
    "int_d = int(d)\n",
    "print(int_d, type(int_d))"
   ]
  },
  {
   "cell_type": "code",
   "execution_count": null,
   "id": "373a71ff",
   "metadata": {
    "scrolled": true
   },
   "outputs": [],
   "source": [
    "float_d = float(d)\n",
    "print(float_d, type(float_d))"
   ]
  },
  {
   "cell_type": "markdown",
   "id": "f1cde05c",
   "metadata": {},
   "source": [
    "📝 A floating-point number can also be written in the __exponential notation__ using `e` as follows:"
   ]
  },
  {
   "cell_type": "code",
   "execution_count": null,
   "id": "2289c948",
   "metadata": {},
   "outputs": [],
   "source": [
    "x = 1.23e2\n",
    "y = 4.56e-2\n",
    "z = 7.89e10\n",
    "print(x)\n",
    "print(y)\n",
    "print(z)"
   ]
  },
  {
   "cell_type": "markdown",
   "id": "30cca963",
   "metadata": {},
   "source": [
    "The result is thus obtained by multiplying the number to the left of `e` by $ 10 $ raised to the power to the right of `e`."
   ]
  },
  {
   "cell_type": "markdown",
   "id": "8b04a480",
   "metadata": {},
   "source": [
    "### 2.2 Strings<a name=\"strings\"></a>\n",
    "A __string__ is a sequence of characters enclosed in either single `'` or double `\"` quotes. Strings are __immutable__ objects, meaning that its individual characters cannot be modified during the program. Strings can be __concatenated__ using the binary operator __+__ and __sliced__ using the `[:]` notation."
   ]
  },
  {
   "cell_type": "markdown",
   "id": "4853eafc",
   "metadata": {},
   "source": [
    "⚠️ __Credits__: The content of this notebook is based on the first chapter of the textbook: Kiusalaas, J. — _Numerical Methods in Engineering with Python 3_."
   ]
  },
  {
   "cell_type": "code",
   "execution_count": null,
   "id": "1e96a461",
   "metadata": {},
   "outputs": [],
   "source": []
  }
 ],
 "metadata": {
  "kernelspec": {
   "display_name": "Python 3 (ipykernel)",
   "language": "python",
   "name": "python3"
  },
  "language_info": {
   "codemirror_mode": {
    "name": "ipython",
    "version": 3
   },
   "file_extension": ".py",
   "mimetype": "text/x-python",
   "name": "python",
   "nbconvert_exporter": "python",
   "pygments_lexer": "ipython3",
   "version": "3.9.2"
  }
 },
 "nbformat": 4,
 "nbformat_minor": 5
}
