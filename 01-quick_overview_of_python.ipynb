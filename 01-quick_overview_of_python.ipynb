{
 "cells": [
  {
   "cell_type": "markdown",
   "id": "9c24f1a0",
   "metadata": {},
   "source": [
    "# A quick overview of Python"
   ]
  },
  {
   "cell_type": "markdown",
   "id": "3ed6643b",
   "metadata": {},
   "source": [
    "## 1 Introduction"
   ]
  },
  {
   "cell_type": "markdown",
   "id": "e3ab2b92",
   "metadata": {},
   "source": [
    "### 1.1 Obtaining Python\n",
    "Python 3 is available for all major operating systems. Please [download](https://www.python.org/downloads/) the appropriate version for your computer and follow the installation instructions. It will also be useful to install the [Anaconda](https://www.anaconda.com/products/distribution) distribution platform for Python. It includes some libraries, notably __NumPy__, __SciPy__ and __matplotlib__, all of which we will use during the course, and __Jupyter__'s tools."
   ]
  },
  {
   "cell_type": "markdown",
   "id": "7a383c87",
   "metadata": {},
   "source": [
    "### 1.2 Jupyter notebooks\n",
    "The present document is a __Jupyter notebook__, a document which contains both Python code and human-readable text, along with images, tables and equations. Cells containing Python code are distinguished by their gray background. They can be directly modified and interacted with by the user. To insert a new line below the current one in such a cell, use `Enter` (a.k.a. `Return`) and to run the contents of the cell through the interpreter, use `Shift + Enter`.\n",
    "\n",
    "📝 The __pound__ sign __#__ is used to introduce a _comment_. Comments are ignored by the interpreter and can be used to  make a piece of code more readable or to clarify an intention or process.\n",
    "\n",
    " Try editing and playing around with the cell below:"
   ]
  },
  {
   "cell_type": "code",
   "execution_count": 1,
   "id": "897138d8",
   "metadata": {},
   "outputs": [
    {
     "name": "stdout",
     "output_type": "stream",
     "text": [
      "Hello word!\n",
      "The circumference of a circle of radius r = 10 is given by 62.8318\n"
     ]
    },
    {
     "data": {
      "text/plain": [
       "314.159"
      ]
     },
     "execution_count": 1,
     "metadata": {},
     "output_type": "execute_result"
    }
   ],
   "source": [
    "print(\"Hello word!\")\n",
    "pi = 3.14159\n",
    "r = 10\n",
    "print(f\"The circumference of a circle of radius r = {r} is given by {2 * pi * r}\")\n",
    "pi * r**2    # '*' denotes multiplication and '**' denotes exponentiation."
   ]
  },
  {
   "cell_type": "markdown",
   "id": "0d3b2872",
   "metadata": {},
   "source": [
    "📝 Note the tags `In` and `Out` to the left of the preceding cell. The former tag stands for the content (or _input_) of the cell and the latter for its result (or _output_). This output can be referred to and used in other cells as `_n`, where $ n $ is the number shown inside brackets `[ ]`. For example:"
   ]
  },
  {
   "cell_type": "code",
   "execution_count": 2,
   "id": "157c6b27",
   "metadata": {},
   "outputs": [
    {
     "data": {
      "text/plain": [
       "317.159"
      ]
     },
     "execution_count": 2,
     "metadata": {},
     "output_type": "execute_result"
    }
   ],
   "source": [
    "_1 + 3    # '+' denotes addition of numbers."
   ]
  },
  {
   "cell_type": "markdown",
   "id": "01d582ff",
   "metadata": {},
   "source": [
    "📝 To avoid ambiguity, the value stored in `_n` _will remain the same unless every output is cleared explicitly_. The counter $ n $ is incremented by $ 1 $ every time the script inside some cell is run. In particular, if a cell is run several times, its output will stored in several variables of this type."
   ]
  },
  {
   "cell_type": "markdown",
   "id": "d6ee80ce",
   "metadata": {},
   "source": [
    "### 1.3 About Python\n",
    "[Python](https://www.python.org/) was originally developed by [Guido van Rossum](https://en.wikipedia.org/wiki/Guido_van_Rossum) starting in 1989. It is at its core an [object-oriented programming](https://en.wikipedia.org/wiki/Object-oriented_programming) (_OOP_) language. However, it also supports the main elements of the [functional programming](https://en.wikipedia.org/wiki/Functional_programming) (_FP_) and [procedural programming](https://en.wikipedia.org/wiki/Imperative_programming) paradigms.\n",
    "\n",
    "In contrast to some other widely used languages such as C, Java or Fortran, Python is an _interpreted_ language, meaning that scripts written in Python are not compiled into machine code, but rather run by an _interpreter_.\n",
    "\n",
    "The main advantage of interpreted languages (over compiled languages) is that they facilitate debugging and testing, since it is unnecessary to compile, link and execute after each modification of the source code. On the other hand, programs written in an interpreted language do not result in stand-alone applications, but rather require the presence of a Python interpreter in the user's computer to be run. Another disadvantage is that programs written in interpreted languages tend to have much slower execution time than their compiled equivalents, sometimes by a factor of 10 or even more.\n",
    "\n",
    "Some other features of Python that make it suitable for teaching and learning about programming are:\n",
    "* Python is _free_ and _open source_ software (_FOSS_);\n",
    "* Python is available for all major operating systems and very easy to install. Programs written in any given system run without modifications in any other;\n",
    "* Python's syntax is simple and very pleasant, which makes for legible code;\n",
    "* Python has an extensive standard library and vibrant community of users, and its extensions are readily available."
   ]
  },
  {
   "cell_type": "markdown",
   "id": "189afb69",
   "metadata": {},
   "source": [
    "## 2 Core Python\n",
    "We shall now provide an overview of the core of Python."
   ]
  },
  {
   "cell_type": "markdown",
   "id": "dfb1562d",
   "metadata": {},
   "source": [
    "### 2.1 Variables and variable types\n",
    "In programming languages, a __variable__ is used to store and manipulate a (not necessarily numerical) __value__. Each of these values must have a __type__, which in turn determines its properties and the operations that can be applied to it. In Python (in contrast to, say, C), variables are __typed dinamically__, meaning that not only can the _value_ of a variable change during a program, but even its _type_ can be modified.\n",
    "\n",
    "To assign a value to a variable, we use the __assignment operator__ `=` in the form _variable name_ `=` _value_.\n",
    "\n",
    "📝 Variable names may include any _alphanumeric characters_ (i.e., the characters A-Z, a-z and 0-9) together with _underscores_ \\_; the initial character must be a letter. By convention we reserve uppercase initial letters to denote _classes_ and lowercase initial letters to name other objects.\n",
    "\n",
    "📝 The type of a variable $ x $ can be inspected through the function `type`(_x_). One can also verify whether variable $ x $ has a given type _variable_type_ through `isinstance`(_x_, _variable_type_).\n",
    "\n",
    "⚠️ __Important__: In Python, simply creating a variable or assigning a new value to it does _not_ prompt the interpreter to print its value. To _print_ the value of a variable, say $ x $, use `print`(_x_). To force the interpreter to _return_ the value of the variable as output, just type its name, in this case `x`.\n",
    "#### Example:"
   ]
  },
  {
   "cell_type": "code",
   "execution_count": 15,
   "id": "051b64d6",
   "metadata": {},
   "outputs": [
    {
     "name": "stdout",
     "output_type": "stream",
     "text": [
      "2\n",
      "<class 'int'>\n",
      "True\n",
      "2 <class 'str'>\n",
      "False\n",
      "2.0 <class 'float'>\n",
      "False\n"
     ]
    },
    {
     "data": {
      "text/plain": [
       "2.0"
      ]
     },
     "execution_count": 15,
     "metadata": {},
     "output_type": "execute_result"
    }
   ],
   "source": [
    "x = 2                      # x is an integer\n",
    "print(x)\n",
    "print(type(x))\n",
    "print(isinstance(x, int))\n",
    "\n",
    "x = '2'                    # x is now a string\n",
    "print(x, type(x))          # We may print several items using a single print statement!\n",
    "print(isinstance(x, int))\n",
    "\n",
    "x = 2.0                    # x is now a floating point number\n",
    "print(x, type(x))\n",
    "print(isinstance(x, str))\n",
    "\n",
    "x"
   ]
  },
  {
   "cell_type": "markdown",
   "id": "c7491014",
   "metadata": {},
   "source": [
    "⚠️ The following small set of keywords cannot be used to name objects in Python:\n",
    "\n",
    "|           |            |            |           |\n",
    "| :-------- | :--------- | :--------- | :------   |\n",
    "|`False` \t| `def` \t | `if`       | `raise`   |\n",
    "|`None` \t| `del` \t | `import`   | `return`  |\n",
    "|`True` \t| `elif` \t | `in` \t  | `try`     |\n",
    "|`and` \t    | `else` \t | `is` \t  | `while`   |\n",
    "|`as` \t    | `except`   | `lambda`   | `with`    |\n",
    "|`assert` \t| `finally`  | `nonlocal` | `yield`   |\n",
    "|`break` \t| `for` \t | `not`      |           |\n",
    "|`class` \t| `from` \t | `or` \t  |           |\n",
    "|`continue` | `global`   | `pass`     |           |\n",
    "\n",
    "📝 One can make several assignments in a single line using commas `,` as separators. This is especially useful for permuting the values of two or more variables without resorting to temporary variables:\n"
   ]
  },
  {
   "cell_type": "code",
   "execution_count": 4,
   "id": "b190e61e",
   "metadata": {},
   "outputs": [
    {
     "name": "stdout",
     "output_type": "stream",
     "text": [
      "1 2\n",
      "2 1\n",
      "3 1\n"
     ]
    }
   ],
   "source": [
    "x = 1\n",
    "y = 2\n",
    "print(x, y)\n",
    "\n",
    "x, y = y, x\n",
    "print(x, y)\n",
    "\n",
    "x, y = x + y, x - y\n",
    "print(x, y)"
   ]
  },
  {
   "cell_type": "markdown",
   "id": "98df21ab",
   "metadata": {},
   "source": [
    "### 2.2 Numerical types\n",
    "Python supports three data types for storing numbers:\n",
    "* `int`, or _integer_ type for integers such as $ -1 $, $ 2 $, $ 0 $ or $ 53 $;\n",
    "* `float`, or _floating-point_ type for floating-point numbers (intuitively, numbers with a finite decimal expansion) such as $ 3.1415 $, $ 2.0 $ or $ -.450 $;\n",
    "* `complex`, or _complex_ type for complex numbers such as $ 2 + 3j $ or $ 3.14 - 43.5 j$.\n",
    "\n",
    "⚠️ In Python the imaginary unit is denoted by $ j $ instead of the more usual $ i $.\n",
    "\n",
    "📝 The names `int`, `float` and `complex` of all of these types can also be used as _functions_ to change between types, whenever this is possible. Similarly, any variable of a numerical type can be converted to a string using `str` (more about strings [in a moment](#strings)).\n",
    "\n",
    "In particular, any integer may be converted to a floating-point number using `float`. In turn, any floating-point number can be converted to a complex number using `complex`.\n",
    "\n",
    "__Example:__"
   ]
  },
  {
   "cell_type": "code",
   "execution_count": 5,
   "id": "f0efa710",
   "metadata": {},
   "outputs": [
    {
     "name": "stdout",
     "output_type": "stream",
     "text": [
      "2 <class 'int'>\n",
      "2.0 <class 'float'>\n",
      "(2+0j) <class 'complex'>\n",
      "2 <class 'str'>\n"
     ]
    }
   ],
   "source": [
    "a = 2\n",
    "float_a = float(a)\n",
    "complex_a = complex(a)\n",
    "str_a = str(a)\n",
    "\n",
    "print(a, type(a))\n",
    "print(float_a, type(float_a))\n",
    "print(complex_a, type(complex_a))\n",
    "print(str_a, type(str_a))"
   ]
  },
  {
   "cell_type": "markdown",
   "id": "2fddf3b3",
   "metadata": {},
   "source": [
    "📝 Applying `int` to a floating-point number $ x $ _truncates_ its decimal part (i.e., returns the largest integer $ n \\le x $). To _round_ $ x $ to the nearest integer, use `round`(_x_). More generally, `round`(_x_, _number_of_digits_) rounds a floating-point number $ x $ to a precision within _number_of_digits_ digits after the decimal point.\n",
    "\n",
    "__Example:__"
   ]
  },
  {
   "cell_type": "code",
   "execution_count": 6,
   "id": "94c838c8",
   "metadata": {},
   "outputs": [
    {
     "name": "stdout",
     "output_type": "stream",
     "text": [
      "2\n",
      "3\n",
      "2.654\n",
      "(2.654321+0j) <class 'complex'>\n"
     ]
    }
   ],
   "source": [
    "b = 2.654321\n",
    "truncated_b = int(b)\n",
    "rounded_b = round(b)\n",
    "c = round(b, 3)\n",
    "complex_b = complex(b)\n",
    "\n",
    "print(truncated_b)\n",
    "print(rounded_b)\n",
    "print(c)\n",
    "print(complex_b, type(complex_b))"
   ]
  },
  {
   "cell_type": "markdown",
   "id": "9c2032a4",
   "metadata": {},
   "source": [
    "⚠️ A complex number can only be converted to a string. Trying to convert it to an integer or floating-point number will result in a `TypeError`."
   ]
  },
  {
   "cell_type": "code",
   "execution_count": 7,
   "id": "bff1d97f",
   "metadata": {},
   "outputs": [
    {
     "ename": "TypeError",
     "evalue": "can't convert complex to int",
     "output_type": "error",
     "traceback": [
      "\u001b[0;31m---------------------------------------------------------------------------\u001b[0m",
      "\u001b[0;31mTypeError\u001b[0m                                 Traceback (most recent call last)",
      "Input \u001b[0;32mIn [7]\u001b[0m, in \u001b[0;36m<module>\u001b[0;34m\u001b[0m\n\u001b[1;32m      1\u001b[0m d \u001b[38;5;241m=\u001b[39m \u001b[38;5;241m2.0\u001b[39m \u001b[38;5;241m+\u001b[39m \u001b[38;5;241m0\u001b[39mj\n\u001b[0;32m----> 2\u001b[0m int_d \u001b[38;5;241m=\u001b[39m \u001b[38;5;28;43mint\u001b[39;49m\u001b[43m(\u001b[49m\u001b[43md\u001b[49m\u001b[43m)\u001b[49m\n",
      "\u001b[0;31mTypeError\u001b[0m: can't convert complex to int"
     ]
    }
   ],
   "source": [
    "d = 2.0 + 0j\n",
    "int_d = int(d)"
   ]
  },
  {
   "cell_type": "code",
   "execution_count": 8,
   "id": "2a625ce1",
   "metadata": {
    "scrolled": true
   },
   "outputs": [
    {
     "ename": "TypeError",
     "evalue": "can't convert complex to float",
     "output_type": "error",
     "traceback": [
      "\u001b[0;31m---------------------------------------------------------------------------\u001b[0m",
      "\u001b[0;31mTypeError\u001b[0m                                 Traceback (most recent call last)",
      "Input \u001b[0;32mIn [8]\u001b[0m, in \u001b[0;36m<module>\u001b[0;34m\u001b[0m\n\u001b[0;32m----> 1\u001b[0m float_d \u001b[38;5;241m=\u001b[39m \u001b[38;5;28;43mfloat\u001b[39;49m\u001b[43m(\u001b[49m\u001b[43md\u001b[49m\u001b[43m)\u001b[49m\n",
      "\u001b[0;31mTypeError\u001b[0m: can't convert complex to float"
     ]
    }
   ],
   "source": [
    "float_d = float(d)"
   ]
  },
  {
   "cell_type": "markdown",
   "id": "708c269f",
   "metadata": {},
   "source": [
    "📝 A floating-point number can also be written in the __exponential notation__ using `e`.\n",
    "\n",
    "__Example:__"
   ]
  },
  {
   "cell_type": "code",
   "execution_count": 9,
   "id": "02a8e4bf",
   "metadata": {},
   "outputs": [
    {
     "name": "stdout",
     "output_type": "stream",
     "text": [
      "123.0\n",
      "0.0456\n",
      "78900000000.0\n"
     ]
    }
   ],
   "source": [
    "x = 1.23e2\n",
    "y = 4.56e-2\n",
    "z = 7.89e10\n",
    "\n",
    "print(x)\n",
    "print(y)\n",
    "print(z)"
   ]
  },
  {
   "cell_type": "markdown",
   "id": "b27fa249",
   "metadata": {},
   "source": [
    "The result is thus obtained by multiplying the number to the left of `e` by $ 10 $ raised to the power to the right of `e`."
   ]
  },
  {
   "cell_type": "markdown",
   "id": "032e5a31",
   "metadata": {},
   "source": [
    "### 2.3 Arithmetic operators\n",
    "Python supports the following arithmetic operators:\n",
    "\n",
    "| Operator  | Meaning            | Types allowed              |\n",
    "| :-------- | :---------         | :------------------------  |\n",
    "| `+`       | Addition           |  `int`, `float`, `complex` |\n",
    "| `-`       | Subtraction        |  `int`, `float`, `complex` |\n",
    "| `*`       | Multiplication     |  `int`, `float`, `complex` |\n",
    "| `/`       | Division           |  `int`, `float`, `complex` |\n",
    "| `**`      | Exponentiation     |  `int`, `float`, `complex` |\n",
    "| `//`      | Integer division   |  `int`, `float`            |\n",
    "| `%`       | Modulo (remainder) |  `int`, `float`            |\n",
    "\n",
    "The last two operators are defined as follows. If $ x $ and $ y $ are positive integers or floating-point numbers, then:\n",
    "* ` x // y` is the largest integer $ n $ such that $ n y \\le x $.\n",
    "* `x % y` is $ x - n y $, for $ n $ as above.\n",
    "\n",
    "These operators are usually only applied when $ x $ and $ y $ are both positive integers. If one of $ x $ or $ y $ is negative, the definition is similar.\n",
    "\n",
    "__Example__:"
   ]
  },
  {
   "cell_type": "code",
   "execution_count": 10,
   "id": "a206779a",
   "metadata": {},
   "outputs": [
    {
     "data": {
      "text/plain": [
       "3"
      ]
     },
     "execution_count": 10,
     "metadata": {},
     "output_type": "execute_result"
    }
   ],
   "source": [
    "11 // 3"
   ]
  },
  {
   "cell_type": "code",
   "execution_count": 11,
   "id": "08363909",
   "metadata": {},
   "outputs": [
    {
     "data": {
      "text/plain": [
       "2"
      ]
     },
     "execution_count": 11,
     "metadata": {},
     "output_type": "execute_result"
    }
   ],
   "source": [
    "11 % 3"
   ]
  },
  {
   "cell_type": "code",
   "execution_count": 12,
   "id": "5b8e87fb",
   "metadata": {
    "scrolled": false
   },
   "outputs": [
    {
     "name": "stdout",
     "output_type": "stream",
     "text": [
      "3 + 2 = 5     3 - 2 = 1     3 * 2 = 6     3 / 2 = 1.5\n",
      "3**2 = 9      3 // 2 = 1    3 % 2 = 1\n"
     ]
    }
   ],
   "source": [
    "print(\"3 + 2 =\", 3 + 2,\"    3 - 2 =\", 3 - 2, \"    3 * 2 =\", 3 * 2, \"    3 / 2 =\", 3 / 2)\n",
    "print(\"3**2 =\", 3**2, \"     3 // 2 =\", 3 // 2, \"   3 % 2 =\", 3 % 2)"
   ]
  },
  {
   "cell_type": "code",
   "execution_count": 13,
   "id": "3756bf68",
   "metadata": {},
   "outputs": [
    {
     "name": "stdout",
     "output_type": "stream",
     "text": [
      "(-5.1+10.3j) (4.1+6.1j) (2.1+2.0999999999999996j) (1-2j) (0.11663140540859289+0.056098418726851895j)\n"
     ]
    }
   ],
   "source": [
    "x = complex(1, 2)       # Create and store the complex number with real part 1 and imaginary part 2\n",
    "y = complex(3.1, 4.1)   # Create and store the complex number with real part 3.1 and imaginary part 4.1\n",
    "z = 5\n",
    "print(y * x, y + x, y - x, z / x, x ** y)"
   ]
  },
  {
   "cell_type": "markdown",
   "id": "392292e2",
   "metadata": {},
   "source": [
    "⚠️ Division by zero results in an error of type `ZeroDivisionError`:"
   ]
  },
  {
   "cell_type": "code",
   "execution_count": 14,
   "id": "6761c3d0",
   "metadata": {},
   "outputs": [
    {
     "ename": "ZeroDivisionError",
     "evalue": "float division by zero",
     "output_type": "error",
     "traceback": [
      "\u001b[0;31m---------------------------------------------------------------------------\u001b[0m",
      "\u001b[0;31mZeroDivisionError\u001b[0m                         Traceback (most recent call last)",
      "Input \u001b[0;32mIn [14]\u001b[0m, in \u001b[0;36m<module>\u001b[0;34m\u001b[0m\n\u001b[0;32m----> 1\u001b[0m \u001b[38;5;241;43m2.14\u001b[39;49m\u001b[43m \u001b[49m\u001b[38;5;241;43m/\u001b[39;49m\u001b[43m \u001b[49m\u001b[38;5;241;43m0.0\u001b[39;49m\n",
      "\u001b[0;31mZeroDivisionError\u001b[0m: float division by zero"
     ]
    }
   ],
   "source": [
    "2.14 / 0.0"
   ]
  },
  {
   "cell_type": "markdown",
   "id": "8b04a480",
   "metadata": {},
   "source": [
    "### 2.3 Strings<a name=\"strings\"></a>\n",
    "A __string__ is a sequence of characters enclosed in either single `'` or double `\"` quotes. A string is an __immutable__ object, meaning that its _individual_ characters cannot be modified during the program. Strings can be __concatenated__ using the binary operator __+__ and __sliced__ using the `[:]` notation."
   ]
  }
 ],
 "metadata": {
  "kernelspec": {
   "display_name": "Python 3 (ipykernel)",
   "language": "python",
   "name": "python3"
  },
  "language_info": {
   "codemirror_mode": {
    "name": "ipython",
    "version": 3
   },
   "file_extension": ".py",
   "mimetype": "text/x-python",
   "name": "python",
   "nbconvert_exporter": "python",
   "pygments_lexer": "ipython3",
   "version": "3.9.2"
  }
 },
 "nbformat": 4,
 "nbformat_minor": 5
}
