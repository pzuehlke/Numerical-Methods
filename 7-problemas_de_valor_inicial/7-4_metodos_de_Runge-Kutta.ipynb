{
 "cells": [
  {
   "cell_type": "markdown",
   "id": "e9919f67",
   "metadata": {},
   "source": [
    "# Método de Runge-Kutta"
   ]
  },
  {
   "cell_type": "markdown",
   "id": "41cdd165",
   "metadata": {},
   "source": [
    "## $ \\S 7 $ Procedimentos para impressão e plotagem da solução numérica"
   ]
  },
  {
   "cell_type": "code",
   "execution_count": 1,
   "id": "288cbc0c",
   "metadata": {},
   "outputs": [],
   "source": [
    "def imprime_solucao(ts, Ys, freq):\n",
    "    \"\"\"\n",
    "    Dados dois arrays ts e Ys de mesmo comprimento, imprime um\n",
    "    a cada 'freq' de seus valores por linha, na forma de uma\n",
    "    tabela. Os 0-ésimos e últimos valores sempre são impressos.\n",
    "    \"\"\"\n",
    "    def imprime_cabecalho(r):\n",
    "        \"\"\"\n",
    "        Imprime o cabeçalho da tabela.\n",
    "        \"\"\"\n",
    "        print(\"\\n        t            \", end=\"\")\n",
    "        for j in range(r):\n",
    "            print(f\"y_{j}          \", end=\"\")\n",
    "        print()\n",
    "        for j in range(r + 1):\n",
    "            print(\"---------------\", end=\"\")\n",
    "        print()\n",
    "        \n",
    "        \n",
    "    def imprime_linha(t, Y, r):\n",
    "        \"\"\"\n",
    "        Imprime uma das linhas da tabela.\n",
    "        \"\"\"\n",
    "        print(\"{:13.4f}\".format(t), end=\"\")\n",
    "        # Para dimensão r > 1:\n",
    "        if r > 1:\n",
    "            for j in range(r):\n",
    "                print(\"{:13.4f}\".format(Y[j]), end=\"\")\n",
    "            print()\n",
    "        # Para dimensão r = 1:\n",
    "        else:\n",
    "            print(\"{:13.4f}\".format(Y))\n",
    "    \n",
    "    \n",
    "    N = len(Ys) - 1        # N + 1 é o número de nodos; N o de passos.\n",
    "    try:\n",
    "        r = len(Ys[0])     # Dimensão de cada entrada Y de Ys.\n",
    "    except TypeError:\n",
    "        r = 1\n",
    "    if freq == 0:          # Se freq == 0, imprime apenas os últimos valores.\n",
    "        freq = N\n",
    "    imprime_cabecalho(r)\n",
    "    for i in range(0, N + 1, freq):\n",
    "        imprime_linha(ts[i], Ys[i], r)\n",
    "    if i != N:\n",
    "        imprime_linha(ts[N], Ys[N], r)\n",
    "        \n",
    "    return None"
   ]
  },
  {
   "cell_type": "code",
   "execution_count": 2,
   "id": "fe9f9563",
   "metadata": {},
   "outputs": [],
   "source": [
    "def plota_poligonal(ts, ys):\n",
    "    \"\"\"\n",
    "    Dados arrays ou listas numéricos ts e ys de mesmo comprimento,\n",
    "    plota a curva poligonal de vértices (ts[i], ys[i]).\n",
    "    \"\"\"\n",
    "    import matplotlib.pyplot as plt\n",
    "    \n",
    "    plt.plot(ts, ys, '-o')\n",
    "    plt.grid(True)\n",
    "    plt.xlabel('t')\n",
    "    plt.ylabel('y')\n",
    "    plt.show()\n",
    "    \n",
    "    return None"
   ]
  },
  {
   "cell_type": "code",
   "execution_count": 3,
   "id": "83744014",
   "metadata": {},
   "outputs": [],
   "source": [
    "def compara_solucao(f, t_0, y_0, ts, ys):\n",
    "    \"\"\" Representa graficamente as soluções do PVI (escalar)\n",
    "            y' = f(t, y), y(t_0) = y_0\n",
    "        seguintes:\n",
    "    (1) Uma solução numérica dada pelos dois arrays (ou listas)\n",
    "        ts e ys, calculada previamente por um método qualquer.\n",
    "    (2) A solução obtida pela rotina `odeint` da biblioteca SciPy.\n",
    "    Entradas:\n",
    "        * A função escalar f(t, y) que define a EDO.\n",
    "        * O instante inicial t_0.\n",
    "        * O escalar y_0 tal que y(t_0) = y_0 é a condição inicial.\n",
    "        * A lista ts dos nodos t_i.\n",
    "        * A lista ys das aproximações y_i obtidas.\n",
    "    \"\"\"\n",
    "    import matplotlib.pyplot as plt\n",
    "    import numpy as np\n",
    "    from scipy.integrate import odeint\n",
    "    \n",
    "    \n",
    "    ts_exata = np.linspace(t_0, T, num=201)\n",
    "    ys_exata = odeint(f, y_0, ts_exata, tfirst=True)\n",
    "    \n",
    "    plt.plot(ts, ys, 'o')\n",
    "    plt.plot(ts_exata, ys_exata, '-')\n",
    "    plt.grid(True)\n",
    "    plt.xlabel('t')\n",
    "    plt.ylabel('y')\n",
    "    plt.legend((\"Numérica\", \"Exata\"), loc=0)\n",
    "    plt.show()\n",
    "    \n",
    "    return None"
   ]
  },
  {
   "cell_type": "code",
   "execution_count": null,
   "id": "0db8af4c",
   "metadata": {},
   "outputs": [],
   "source": []
  }
 ],
 "metadata": {
  "kernelspec": {
   "display_name": "Python 3 (ipykernel)",
   "language": "python",
   "name": "python3"
  },
  "language_info": {
   "codemirror_mode": {
    "name": "ipython",
    "version": 3
   },
   "file_extension": ".py",
   "mimetype": "text/x-python",
   "name": "python",
   "nbconvert_exporter": "python",
   "pygments_lexer": "ipython3",
   "version": "3.9.15"
  }
 },
 "nbformat": 4,
 "nbformat_minor": 5
}
