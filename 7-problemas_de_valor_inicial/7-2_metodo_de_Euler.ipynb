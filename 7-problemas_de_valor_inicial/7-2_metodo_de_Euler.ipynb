{
 "cells": [
  {
   "cell_type": "markdown",
   "id": "dda68dc4",
   "metadata": {},
   "source": [
    "$ \\newcommand{\\mbf}{\\mathbf} $\n",
    "$ \\newcommand{\\norm}[1]{\\left\\Vert#1\\right\\Vert} $\n",
    "$ \\newcommand{\\abs}[1]{\\left\\vert#1\\right\\vert} $\n",
    "$ \\newcommand{\\Rar}{\\Longrightarrow} $\n",
    "$ \\newcommand{\\Dar}{\\Longleftrightarrow} $\n",
    "\n",
    "# O método de Euler"
   ]
  },
  {
   "cell_type": "markdown",
   "id": "62145c4c",
   "metadata": {},
   "source": [
    "## $ \\S 1 $ Descrição do método de Euler\n",
    "\n",
    "O método de Euler é o procedimento mais básico para solução numérica de um problema de valor inicial de primeira ordem em $ \\mathbb R^r $:\n",
    "\\begin{equation*}\\label{E:ivp}\n",
    "\\begin{cases}\n",
    "\\mbf y' = \\mbf F(t, \\mbf y) \\\\\n",
    "\\mbf y(t_0) = \\mbf y_0\n",
    "\\end{cases}\n",
    "\\quad \\text{onde} \\quad \\mbf y = \\big(y_0, y_1, \\dots, y_{r-1}\\big). \\tag{1}\n",
    "\\end{equation*}\n",
    "\n",
    "A base do método é a aproximação de $ \\mbf y $ pelo seu polinômio de Taylor de ordem 1:\n",
    "$$\n",
    "\\mbf y(t+h) \\approx \\mbf y(t) + h\\,\\mbf y'(t).\n",
    "$$\n",
    "Se $ \\mbf y $ satisfaz a equação diferencial em \\eqref{E:ivp}, então\n",
    "$$\n",
    "\\mbf y(t+h) \\approx \\mbf y(t) + h\\, \\mbf F\\big(t, \\mbf y(t)\\big).\n",
    "$$\n",
    "Informalmente, a expressão do lado direito fornece uma estimativa para $ \\mbf y $ em $ t+h $ a partir da informação disponível em $ t $. Ela pode ser usada para tabelar os valores sucessivos de $ \\mbf y $ com passos de tamanho $ h $ a partir do valor inicial $ \\mbf y_0 = \\mbf y(t_0) $.\n",
    "\n",
    "Mais precisamente, sejam $ N \\ge 1 $ um inteiro, $ h \\ne 0 $ o **tamanho do passo** e \n",
    "$$\n",
    "t_i = t_0 + ih \\qquad (i = 0, 1, \\dots, N)\n",
    "$$\n",
    "os **nodos** correspondentes. No **método de Euler**, definimos a aproximação $ \\mbf y_i $ para o valor preciso $ \\mbf y(t_i) $ da solução de \\eqref{E:ivp} recursivamente de acordo com a fórmula:\n",
    "$$\n",
    "\\boxed{\\mbf y_{i} = \\mbf y_{i-1} + h\\,\\mbf F(t_{i-1}, \\mbf y_{i-1}) \\quad \\text{onde $t_i = t_0 + ih$} \\quad (i = 1, \\dots, N)}\n",
    "$$\n",
    "\n",
    "## $ \\S 2 $ Interpretação geométrica\n",
    "\n",
    "Por simplicidade, suponha que estejamos lidando com uma equação diferencial escalar, ou seja, que $ \\mbf y = y $ só tenha uma coordenada. A equação diferencial $ y' = f(t, y) $ nos diz como encontrar o coeficiente angular da reta tangente ao gráfico de uma solução em $ t $ através do valor desta solução aí. O método de Euler parte do valor conhecido em $ t_0 $ para obter uma estimativa para $ y $ em $ t_0 + h $, efetivamente supondo que para $ h $ pequeno, o coeficiente angular não varia muito, e portanto $ y $ é aproximadamente linear entre $ t_0 $ e $ t_0 + h $. O procedimento é repetido para se obter uma estimativa para $ y(t_0 + 2h) $ a partir daquela calculada para $ y(t_0 + h) $, e assim por diante. O resultado é uma curva poligonal que, idealmente, aproxima o gráfico da solução analítica.\n",
    "\n",
    "Sob outra interpretação, a variação de $ y $ entre $ t $ e $ t + h $ é dada por\n",
    "$$\n",
    "y(t+h) - y(t) = \\int_t^{t+h} y'(x)\\,dx = \\int_t^{t+h} f(x,y(x))\\,dx.\n",
    "$$\n",
    "Esta expressão representa a área com sinal sob o gráfico de $ y' $. O método de Euler a substitui pela área de um retângulo de base $ h $ e altura $ y'(t) = f(t,y(t)) $. O erro cometido é aproximadamente proporcional ao declive de $ y' $, ou seja, a $ y'' $.\n",
    "\n",
    "\n",
    "## $ \\S 3 $ Estimativa para o erro\n",
    "\n",
    "Pelo teorema de Taylor com resto,\n",
    "$$\n",
    "\\mbf y(t+h) - \\big[\\mbf y(t) + h\\,\\mbf y'(t)\\big] = \\frac{h^2}{2}\\,\\mbf y''(c) \\quad \\text{para algum $ c \\in (t, t+h) $}.\n",
    "$$\n",
    "Portanto, o **erro local** no método de Euler, i.e., o erro envolvido no primeiro passo, é da ordem de $ \\abs{h}^2 $:\n",
    "$$\n",
    "\\boxed{\\mbf E_1 = \\mbf y(t_1) - \\mbf y_1 \\in O(h^2)}\n",
    "$$\n",
    "Uma estimativa do **erro global**, ou seja, da diferença\n",
    "$ \\mbf E_N = \\mbf y(t_N) - \\mbf y_N $\n",
    "entre o valor exato e o valor aproximado no último nodo $ t_N $, pode ser obtida assumindo-se que o erro a cada passo é constante. Após $ N $ passos, é de se esperar que o erro global seja da ordem de $ \\abs{h}$:\n",
    "$$\n",
    "\\mbf E_N \\approx N \\mbf E_1 = \\frac{t_N - t_0}{h}\\,\\mbf E_1.\n",
    "$$\n",
    "Em símbolos:\n",
    "$$\n",
    "\\boxed{\\mbf E_N = \\mbf y(t_N) - \\mbf y_N \\in O(h)}\n",
    "$$\n",
    "\n",
    "📝 Suponha que queiramos aproximar o valor da solução analítica de \\eqref{E:ivp} em um determinado $ T > t_0 $ fixo. Para que o erro global seja aceitável, é necessário que o tamanho do passo $ h $ seja muito pequeno. Mas neste caso o número $ N $ de passos requeridos, e portanto de operações efetuadas, será alto, o que causa uma acumulação de erros de arredondamento. Por este motivo, o método de Euler raramente é empregado na solução numérica de EDOs. Sua principal vantagem é a simplicidade da definição.\n",
    "\n",
    "O teorema seguinte, que não provaremos, detalha melhor o erro global envolvido no método de Euler.\n",
    "\n",
    "⚡ **Teorema 3.1:** *Suponha que exista uma constante $ C > 0 $ tal que\n",
    "$$\n",
    "\\norm{\\mbf F(t, \\mbf z) - \\mbf F(t,\\mbf w)} \\le C \\norm{\\mbf z -\\mbf w} \\qquad (\\text{para todos }\\mbf z,\\ \\mbf w \\in \\mathbb R^r)\n",
    "$$\n",
    "e seja $ M $ uma cota superior para $ \\norm{\\mbf y''(t)} $ no intervalo $ [t_0, t_N] $, onde $ \\mbf y(t) $ é a solução analítica de \\eqref{E:ivp}. Então*\n",
    "$$\n",
    "\\norm{\\mbf E_N} = \\norm{\\mbf y(t_N) - \\mbf y_N} \\le \\frac{M\\abs{h}}{2C}\\big(e^{C\\abs{t_N - t_0}} - 1\\big). \\tag*{$ \\blacksquare $}\n",
    "$$\n",
    "\n",
    "Em particular, para $ t_N = T $ fixo, *o erro global é aproximadamente proporcional a $ h $*, conforme afirmado antes."
   ]
  },
  {
   "cell_type": "markdown",
   "id": "b1ab8cc9",
   "metadata": {},
   "source": [
    "## $ \\S 4 $ Implementação do método de Euler"
   ]
  },
  {
   "cell_type": "code",
   "execution_count": 2,
   "id": "acb2b0e8",
   "metadata": {},
   "outputs": [],
   "source": [
    "def euler(F, t_0, Y_0, T, h):\n",
    "    \"\"\"\n",
    "    Fornece uma solução numérica de um problema de valor inicial de\n",
    "    1a ordem da forma Y' = F(t, Y), Y(t_0) = Y_0 usando o método de Euler.\n",
    "    Entradas:\n",
    "        * A função escalar ou vetorial F(t, Y) que define a EDO.\n",
    "        * O instante inicial t_0.\n",
    "        * Um array ou escalar Y_0 tal que Y(t_0) = Y_0 é a condição inicial.\n",
    "        * O instante T final.\n",
    "        * O tamanho do passo h.\n",
    "    Saídas:\n",
    "        * Um array ts = [t_0, t_1, ..., t_N = T] onde t_i = t_0 + i * h\n",
    "          para i = 0, 1, ..., N - 1 e T - t_{N - 1} <= h.\n",
    "        * Um array correspondente Ys = [Y_0, Y_1, ..., Y_N] contendo\n",
    "          as aproximações para a solução analítica em t_i.\n",
    "    \"\"\"\n",
    "    import numpy as np\n",
    "    \n",
    "    \n",
    "    ts = [t_0]\n",
    "    Ys = [Y_0]\n",
    "    t = t_0\n",
    "    Y = Y_0\n",
    "    while t < T:\n",
    "        h = min(h, T - t)\n",
    "        Y = Y + h * F(t, Y)\n",
    "        t += h\n",
    "        Ys.append(Y)\n",
    "        ts.append(t)\n",
    "        \n",
    "    return np.array(ts), np.array(Ys)"
   ]
  },
  {
   "cell_type": "markdown",
   "id": "fcd02d5d",
   "metadata": {},
   "source": [
    "## $ \\S 5 $ Implementação de procedimentos genéricos para representação tabular e gráfica da solução\n",
    "\n",
    "### $ 5.1 $ Procedimento genérico para tabelamento da solução numérica\n",
    "\n",
    "O procedimento seguinte será usado para se imprimir a solução numérica de um problema de valor inicial, na forma de uma tabela. O procedimento é agnóstico quanto ao *método* utilizado para obtenção da solução numérica, que deve ser calculada separadamente e fornecida como entrada. Por isto ele será reutilizado também nos próximos cadernos."
   ]
  },
  {
   "cell_type": "code",
   "execution_count": 3,
   "id": "6a188c96",
   "metadata": {},
   "outputs": [],
   "source": [
    "def imprime_solucao(ts, Ys, freq):\n",
    "    \"\"\"\n",
    "    Dados dois arrays ts e Ys de mesmo comprimento, imprime um\n",
    "    a cada 'freq' de seus valores por linha, na forma de uma\n",
    "    tabela. Os 0-ésimos e últimos valores sempre são impressos.\n",
    "    \"\"\"\n",
    "    def imprime_cabecalho(r):\n",
    "        \"\"\"\n",
    "        Imprime o cabeçalho da tabela.\n",
    "        \"\"\"\n",
    "        print(\"\\n        t            \", end=\"\")\n",
    "        for j in range(r):\n",
    "            print(f\"y_{j}          \", end=\"\")\n",
    "        print()\n",
    "        for j in range(r + 1):\n",
    "            print(\"---------------\", end=\"\")\n",
    "        print()\n",
    "        \n",
    "        \n",
    "    def imprime_linha(t, Y, r):\n",
    "        \"\"\"\n",
    "        Imprime uma das linhas da tabela.\n",
    "        \"\"\"\n",
    "        print(\"{:13.4f}\".format(t), end=\"\")\n",
    "        # Para dimensão r > 1:\n",
    "        if r > 1:\n",
    "            for j in range(r):\n",
    "                print(\"{:13.4f}\".format(Y[j]), end=\"\")\n",
    "            print()\n",
    "        # Para dimensão r = 1:\n",
    "        else:\n",
    "            print(\"{:13.4f}\".format(Y))\n",
    "    \n",
    "    \n",
    "    N = len(Ys) - 1        # N + 1 é o número de nodos; N o de passos.\n",
    "    try:\n",
    "        r = len(Ys[0])     # Dimensão de cada entrada Y de Ys.\n",
    "    except TypeError:\n",
    "        r = 1\n",
    "    if freq == 0:          # Se freq == 0, imprime apenas os últimos valores.\n",
    "        freq = N\n",
    "    imprime_cabecalho(r)\n",
    "    for i in range(0, N + 1, freq):\n",
    "        imprime_linha(ts[i], Ys[i], r)\n",
    "    if i != N:\n",
    "        imprime_linha(ts[N], Ys[N], r)\n",
    "        \n",
    "    return None"
   ]
  },
  {
   "cell_type": "markdown",
   "id": "e372f9f4",
   "metadata": {},
   "source": [
    "### $ 5.2 $ Procedimentos genéricos para representação gráfica da solução numérica\n",
    "\n",
    "Apresentamos abaixo dois procedimentos para exibição gráfica da solução numérica de um problema de valor inicial de primeira ordem *escalar* (ou seja, com $ r = 1 $):\n",
    "\\begin{equation*}\n",
    "\\begin{cases}\n",
    "y' = f(t, y) \\\\\n",
    "y(t_0) = y_0\n",
    "\\end{cases}\n",
    "\\end{equation*}\n",
    "\n",
    "Os procedimentos são genéricos, i.e., não dependem do *método* utilizado para produzir a solução numérica. Eles são:\n",
    "* `plota_poligonal`, que exibe a solução numérica na forma de uma curva poligonal.\n",
    "* `compara_solucao`, que plota os pontos $ (t_i, y_i) $ $(i = 0, 1, \\dots, N) $ da solução numérica juntamente com o gráfico da solução \"analítica\" (na verdade, uma solução numérica mais precisa)."
   ]
  },
  {
   "cell_type": "code",
   "execution_count": 4,
   "id": "a725fbcd",
   "metadata": {},
   "outputs": [],
   "source": [
    "def plota_poligonal(ts, ys):\n",
    "    \"\"\"\n",
    "    Dados arrays ou listas numéricos ts e ys de mesmo comprimento,\n",
    "    plota a curva poligonal de vértices (ts[i], ys[i]).\n",
    "    \"\"\"\n",
    "    import matplotlib.pyplot as plt\n",
    "    \n",
    "    plt.plot(ts, ys, '-o')\n",
    "    plt.grid(True)\n",
    "    plt.xlabel('t')\n",
    "    plt.ylabel('y')\n",
    "    plt.show()\n",
    "    \n",
    "    return None"
   ]
  },
  {
   "cell_type": "markdown",
   "id": "a2332e58",
   "metadata": {},
   "source": [
    "📝 Para comparação com a solução analítica, utilizaremos o procedimento `odeint` da biblioteca `scipy.integrate`. Ele tampouco resolve exatamente o PVI, porém fornece um resultado numérico que aproxima a solução exata de maneira mais precisa que os métodos que discutiremos."
   ]
  },
  {
   "cell_type": "code",
   "execution_count": 8,
   "id": "b81a72a9",
   "metadata": {},
   "outputs": [],
   "source": [
    "def compara_solucao(f, t_0, y_0, ts, ys):\n",
    "    \"\"\" Representa graficamente as soluções do PVI (escalar)\n",
    "            y' = f(t, y), y(t_0) = y_0\n",
    "        seguintes:\n",
    "    (1) Uma solução numérica dada pelos dois arrays (ou listas)\n",
    "        ts e ys, calculada previamente por um método qualquer.\n",
    "    (2) A solução obtida pela rotina `odeint` da biblioteca SciPy.\n",
    "    Entradas:\n",
    "        * A função escalar f(t, y) que define a EDO.\n",
    "        * O instante inicial t_0.\n",
    "        * O escalar y_0 tal que y(t_0) = y_0 é a condição inicial.\n",
    "        * A lista ts dos nodos t_i.\n",
    "        * A lista ys das aproximações y_i obtidas.\n",
    "    \"\"\"\n",
    "    import matplotlib.pyplot as plt\n",
    "    import numpy as np\n",
    "    from scipy.integrate import odeint\n",
    "    \n",
    "    \n",
    "    ts_exata = np.linspace(t_0, T, num=201)\n",
    "    ys_exata = odeint(f, y_0, ts_exata, tfirst=True)\n",
    "    \n",
    "    plt.plot(ts, ys, 'o')\n",
    "    plt.plot(ts_exata, ys_exata, '-')\n",
    "    plt.grid(True)\n",
    "    plt.xlabel('t')\n",
    "    plt.ylabel('y')\n",
    "    plt.legend((\"Numérica\", \"Exata\"), loc=0)\n",
    "    plt.show()\n",
    "    \n",
    "    return None"
   ]
  },
  {
   "cell_type": "code",
   "execution_count": 7,
   "id": "0a3c3667",
   "metadata": {},
   "outputs": [
    {
     "data": {
      "image/png": "[encoded data removed]",
      "text/plain": [
       "<Figure size 640x480 with 1 Axes>"
      ]
     },
     "metadata": {},
     "output_type": "display_data"
    }
   ],
   "source": [
    "import numpy as np\n",
    "\n",
    "t_0 = 0\n",
    "y_0 = 1\n",
    "h = 0.1\n",
    "T = 4\n",
    "def f(t, y):\n",
    "    return 15 - t * y\n",
    "\n",
    "ts, ys = euler(f, t_0, y_0, T, h)\n",
    "compara_solucao(f, t_0, y_0, ts, ys)"
   ]
  },
  {
   "cell_type": "markdown",
   "id": "3ed0d287",
   "metadata": {},
   "source": [
    "## $ \\S 6 $ Problemas\n",
    "\n",
    "**Problema 1:** Considere a equação diferencial de primeira ordem\n",
    "$$\n",
    "y' = y, \\quad y(0) = 1.\n",
    "$$\n",
    "\n",
    "(a) Obtenha a solução analítica.\n",
    "\n",
    "(b) Use o método de Euler para resolver numericamente a EDO no intervalo $ [0,4] $ com passos $ h $ de tamanhos $ 1 $, $ 0.5 $, $ 0.1 $ e  $ 0.05 $.\n",
    "\n",
    "(c) Compare graficamente cada uma das soluções numéricas obtidas com a solução \"exata\" (fornecida pelo procedimento `odeint`)."
   ]
  },
  {
   "cell_type": "markdown",
   "id": "72ff8d6a",
   "metadata": {},
   "source": [
    "*Solução:*"
   ]
  },
  {
   "cell_type": "code",
   "execution_count": null,
   "id": "04863cef",
   "metadata": {},
   "outputs": [],
   "source": []
  },
  {
   "cell_type": "markdown",
   "id": "14bd93d8",
   "metadata": {},
   "source": [
    "**Problema 2:** Considere o problema de valor inicial\n",
    "\\begin{equation*}\n",
    "\\begin{cases}\n",
    "y' = 3x^2 - 5y + 1 \\\\\n",
    "y(0) = -2\n",
    "\\end{cases}\n",
    "\\end{equation*}\n",
    "\n",
    "(a) Estime $ y(1) $ usando o método de Euler com tamanho do passo $ h $ igual a $ 0.1 $, $ 0.05 $ e $ 0.01 $.\n",
    "\n",
    "(b) Plote simultaneamente (ou seja, num mesmo diagrama) as três soluções obtidas no item (a). *Dica:* Modifique o procedimento `plota_poligonal` substituindo a entrada `h` por uma lista `hs` que armazena um ou mais tamanhos de passo."
   ]
  },
  {
   "cell_type": "markdown",
   "id": "7acaccad",
   "metadata": {},
   "source": [
    "*Solução:*"
   ]
  },
  {
   "cell_type": "code",
   "execution_count": null,
   "id": "f9f01be7",
   "metadata": {},
   "outputs": [],
   "source": []
  },
  {
   "cell_type": "markdown",
   "id": "67d7fe90",
   "metadata": {},
   "source": [
    "**Problema 3:** Considere o problema de valor inicial\n",
    "$$\n",
    "y'' = -0.1\\,y' - t\\,, \\quad y(0) = 0\\,, \\quad y'(0) = 1.\n",
    "$$\n",
    "\n",
    "(a) Transforme-o num problema de valor inicial da forma \n",
    "\\begin{equation*}\n",
    "\\begin{cases}\n",
    "\\mbf y' = \\mbf F(t, \\mbf y) \\\\\n",
    "\\mbf y(t_0) = \\mbf y_0\n",
    "\\end{cases}\n",
    "\\end{equation*}\n",
    "\n",
    "(b) Integre o PVI usando o método de Euler com tamanho do passo $ h = 0.05 $.\n",
    "\n",
    "(c) Plote a solução numérica juntamente com a solução analítica\n",
    "$$\n",
    "y(t) = 100t - 5t^2 + 990(e^{-0.1t} - 1).\n",
    "$$\n",
    "*Dica:* Recorde que $ \\mbf y = (y_0, y_1) = (y, y') $. Portanto, antes de plotar a solução numérica, você terá que criar um array extraindo a $ 0 $-ésima coordenada do vetor $ \\mbf y_i $, para cada $ i $."
   ]
  },
  {
   "cell_type": "markdown",
   "id": "3924d9bb",
   "metadata": {},
   "source": [
    "*Solução:*"
   ]
  },
  {
   "cell_type": "code",
   "execution_count": null,
   "id": "949c133a",
   "metadata": {},
   "outputs": [],
   "source": []
  },
  {
   "cell_type": "markdown",
   "id": "621e6ec8",
   "metadata": {},
   "source": [
    "**Problema 4:** Estude o que acontece com a implementação do método de Euler quando o tamanho do passo $ h $ é *negativo*. Se ela não funciona corretamente neste caso, modifique-a de modo a cobrir esta situação."
   ]
  },
  {
   "cell_type": "markdown",
   "id": "73b65612",
   "metadata": {},
   "source": [
    "*Solução:*"
   ]
  },
  {
   "cell_type": "code",
   "execution_count": null,
   "id": "f07f896c",
   "metadata": {},
   "outputs": [],
   "source": []
  },
  {
   "cell_type": "markdown",
   "id": "3dcc2942",
   "metadata": {},
   "source": [
    "**Problema 5:** O paraquedista Luke Skydiver de massa $ m $ está em queda-livre. O ar imprime uma força de arrasto aerodinâmico de magnitude $ F_A = c\\dot y^2 $, onde $ y $ é a *distância* medida a partir de uma altura inicial de $ 500\\,\\text{m} $. De acordo com a segunda lei de Newton, a EDO que descreve a queda é:\n",
    "$$\n",
    "\\ddot y = g - \\frac{c}{m}\\dot y^2.\n",
    "$$\n",
    "\n",
    "(a) Reescreva a EDO de ordem $ 2 $ acima numa EDO vetorial de primeira ordem da forma $ \\mbf y = F(t,\\mbf y) $. \n",
    "\n",
    "(b) Assumindo que sua velocidade inicial seja nula, qual é a condição inicial?\n",
    "\n",
    "(c) Usando o método de Euler com $ h = 0.1 $, determine o tempo total da queda (até que Luke chegue ao chão). Utilize os valores:\n",
    "$$\n",
    "g = 9.807\\,\\text{m/s}^2\\,, \\quad c = 0.203\\,\\text{kg/m},\\quad m = 80\\,\\text{kg}.\n",
    "$$"
   ]
  },
  {
   "cell_type": "markdown",
   "id": "48ecd81a",
   "metadata": {},
   "source": [
    "*Solução:*"
   ]
  },
  {
   "cell_type": "code",
   "execution_count": null,
   "id": "12664fc1",
   "metadata": {},
   "outputs": [],
   "source": []
  }
 ],
 "metadata": {
  "kernelspec": {
   "display_name": "Python 3 (ipykernel)",
   "language": "python",
   "name": "python3"
  },
  "language_info": {
   "codemirror_mode": {
    "name": "ipython",
    "version": 3
   },
   "file_extension": ".py",
   "mimetype": "text/x-python",
   "name": "python",
   "nbconvert_exporter": "python",
   "pygments_lexer": "ipython3",
   "version": "3.9.15"
  }
 },
 "nbformat": 4,
 "nbformat_minor": 5
}
