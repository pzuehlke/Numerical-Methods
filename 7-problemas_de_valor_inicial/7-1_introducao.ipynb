{
 "cells": [
  {
   "cell_type": "markdown",
   "id": "f4d550cd",
   "metadata": {},
   "source": [
    "$ \\newcommand{\\mbf}{\\mathbf} $\n",
    "$ \\newcommand{\\norm}[1]{\\left\\Vert#1\\right\\Vert} $\n",
    "$ \\newcommand{\\abs}[1]{\\left\\vert#1\\right\\vert} $\n",
    "$ \\newcommand{\\Rar}{\\Longrightarrow} $\n",
    "$ \\newcommand{\\Dar}{\\Longleftrightarrow} $\n",
    "\n",
    "# Problemas de valor inicial\n",
    "\n",
    "Uma **equação diferencial ordinária (EDO) de primeira ordem** tem a forma\n",
    "$$\n",
    "y' = f(t, y)\n",
    "$$\n",
    "onde $ f $ é uma função contínua definida num subconjunto de $ \\mathbb R^2 $. Uma função $ \\alpha $ da variável $ x $ definida num intervalo é uma **solução** da EDO se ela satisfaz\n",
    "$$\n",
    "\\alpha'(t) = f(t, \\alpha(t))\n",
    "$$\n",
    "para todo $ t $ em seu domínio.\n",
    "\n",
    "De maneira geral a solução de uma equação deste tipo envolve uma constante arbitrária, a chamada **constante de integração**. Para determiná-la, precisamos conhecer o valor da solução em algum ponto, i.e., é preciso que se especifique o valor de $ y $ num determinado $ t $, digamos:\n",
    "$$\n",
    "y(t_0) = y_0.\n",
    "$$\n",
    "Esta é a chamada **condição inicial**.\n",
    "\n",
    "Uma **equação diferencial ordinária (EDO) de ordem $ n $** tem a forma\n",
    "$$\n",
    "y^{(n)} = f(t, y, y', \\dots, y^{(n-1)}\n",
    "$$\n",
    "para uma função contínua $ f $ definida num domínio de $ \\mathbb R^{n+1} $.  Introduzindo as funções auxiliares\n",
    "$$\n",
    "y_0 = y, \\quad y_1 = y', \\quad y_2 = y'' \\quad \\dots \\quad y_{n-1} = y^{(n-1)}\n",
    "$$\n",
    "transformamos a EDO acima num *sistema* de $ n $ equações de primeira ordem:\n",
    "$$\n",
    "y_0' = y_1, \\quad y_1' = y_2, \\quad y_2' = y_3 \\quad \\dots \\quad y_{n-1}' = f(x,y_0,y_1,\\dots,y_{n-1})\n",
    "$$\n",
    "ou, usando a notação vetorial $ \\mbf y = (y_0,y_1,\\dots,y_{n-1}) $:\n",
    "$$\n",
    "\\mbf y' = F(t,\\mbf y) = \n",
    "\\begin{bmatrix}\n",
    "y_1 \\\\\n",
    "y_2 \\\\\n",
    "\\vdots \\\\\n",
    "f(x,\\mbf y)\n",
    "\\end{bmatrix}\n",
    "$$\n",
    "A determinação de uma solução única requer o conhecimento de $ n $ condições auxiliares. Se estas condições especificam o valor de $ y $ e suas derivadas num mesmo ponto $ t_0 $:\n",
    "$$\n",
    "y(t_0) = y_0, \\quad y'(t_0) = y_0', \\quad y''(t_0) = y_0'' \\quad \\dots \\quad y^{(n-1)}(t_0) = y_0^{(n-1)},\n",
    "$$\n",
    "então elas são chamadas de **condições iniciais**. Uma equação diferencial ordinária juntamente com um conjunto de condições iniciais (de mesma ordem) formam um **problema de valor inicial (PVI)"
   ]
  },
  {
   "cell_type": "markdown",
   "id": "8af9b3ae",
   "metadata": {},
   "source": []
  },
  {
   "cell_type": "code",
   "execution_count": null,
   "id": "d6872d56",
   "metadata": {},
   "outputs": [],
   "source": []
  }
 ],
 "metadata": {
  "kernelspec": {
   "display_name": "Python 3 (ipykernel)",
   "language": "python",
   "name": "python3"
  },
  "language_info": {
   "codemirror_mode": {
    "name": "ipython",
    "version": 3
   },
   "file_extension": ".py",
   "mimetype": "text/x-python",
   "name": "python",
   "nbconvert_exporter": "python",
   "pygments_lexer": "ipython3",
   "version": "3.9.13"
  }
 },
 "nbformat": 4,
 "nbformat_minor": 5
}
