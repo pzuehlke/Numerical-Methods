{
 "cells": [
  {
   "cell_type": "markdown",
   "id": "55733497",
   "metadata": {},
   "source": [
    "# Conditional expressions and loops\n",
    "\n",
    "\n",
    "## 1 Printing messages and receiving input\n",
    "\n",
    "### 1.1 The `input` function\n",
    "\n",
    "Most programs require some kind of input from the user during their execution. For this purpose, Python provides the function `input`.\n",
    "\n",
    "**Example:**"
   ]
  },
  {
   "cell_type": "code",
   "execution_count": 6,
   "id": "88d14bf4",
   "metadata": {
    "scrolled": true
   },
   "outputs": [
    {
     "name": "stdout",
     "output_type": "stream",
     "text": [
      "Type your age:\n",
      "23\n",
      "<class 'str'>\n"
     ]
    }
   ],
   "source": [
    "age_str = input(\"Type your age:\\n\")  # '\\n' is the _newline character_ used to move to the next line.\n",
    "print(type(age_str))                 # The output of the 'input' function is always of type 'str'."
   ]
  },
  {
   "cell_type": "markdown",
   "id": "ef08cee5",
   "metadata": {},
   "source": [
    "Thus, `input` operates as follows:\n",
    "* It takes a single argument of type `str`, which is displayed on the screen as a *message* to the user;\n",
    "* Execution is halted in order for the user to type her input;\n",
    "* When `Return` (a.k.a. `Enter`) is pressed, the characters typed in by the user are joined to form a string which is returned as the output (after stripping the trailing newline character); in particular, this string can be assigned to a variable and manipulated later."
   ]
  },
  {
   "cell_type": "markdown",
   "id": "508251f3",
   "metadata": {},
   "source": [
    "### 1.2 f-strings\n",
    "\n",
    "<div class=\"alert alert-warning\">To insert the <i>value</i> of a variable inside a string, we can prepend the opening quotation mark with an <code>f</code> (or <code>F</code>), for <i>'format'</i>, and enclose the variable name in curly braces <code>{}</code>. A string of this type is called an <b>f-string</b> </div>\n",
    "\n",
    "**Example:**"
   ]
  },
  {
   "cell_type": "code",
   "execution_count": 2,
   "id": "55e08605",
   "metadata": {},
   "outputs": [
    {
     "name": "stdout",
     "output_type": "stream",
     "text": [
      "Type your age:\n",
      "23\n",
      "You are 23 years old!\n",
      "You have walked on this Earth for at least...\t201480 hours.\n"
     ]
    }
   ],
   "source": [
    "age_str = input(\"Type your age:\\n\")   # '\\n' is the newline character.\n",
    "\n",
    "# Prepend a string by an 'f' and enclose a variable in curly braces '{}'\n",
    "# to substitute its actual value:\n",
    "print(f\"You are {age_str} years old!\")\n",
    "\n",
    "# Convert this output to an integer and print the corresponding number of hours:\n",
    "age = int(age_str)\n",
    "print(f\"You have walked on this Earth for at least...\\t{24 * 365 * age} hours.\")\n",
    "# '\\t' denotes a tab.\n"
   ]
  },
  {
   "cell_type": "markdown",
   "id": "2532686c",
   "metadata": {},
   "source": [
    "### 1.3 Common escape characters\n",
    "\n",
    "In a string, the backslash `\\` plays the role of a special character called the **escape character**. It can be used for instance to represent whitespace characters — tab `\\t`, backspace `\\b`, newline `\\n` — or to turn another special character into an ordinary character — such as a single quote `\\'`, double quote `\\\"` or the backslash itself `\\\\`. These cases are tabulated below. Note however that there are other escape combinations beyond these, which we will not consider.\n",
    "\n",
    "| Code   |  Result  |\n",
    "| :----- | :------- |\n",
    "| `\\'`   | single quote (')  |\n",
    "| `\\\"`   | double quotes (\") |\n",
    "| `\\\\`   | backslash (\\\\)    |\n",
    "| `\\t`   | tab               |\n",
    "| `\\b`   | backspace         |\n",
    "| `\\n`   | new line          |\n",
    "\n",
    "⚠️ The backspace character `\\b` shifts the cursor backwards by one position, but _does not delete anything_. To delete the previous character and move the cursor left by one position, use `\\b \\b` (i.e., two backspaces with a space in between). This will move the cursor left, overwrite the previous character with a space and move the cursor back once more.\n",
    "\n",
    "**Example:**"
   ]
  },
  {
   "cell_type": "code",
   "execution_count": 7,
   "id": "1ae302f9",
   "metadata": {},
   "outputs": [
    {
     "name": "stdout",
     "output_type": "stream",
     "text": [
      "it\bs\n",
      "powerfuls\b!\n",
      "powerfuls\b !\n",
      "powerfuls\b \b!\n",
      "this\tis\ta\ttest\n",
      "'3'\n",
      "\"3.14\"\n"
     ]
    }
   ],
   "source": [
    "print(\"it\\bs\")\n",
    "print(\"powerfuls\\b!\")             # Try to follow\n",
    "print(\"powerfuls\\b !\")            # what is happening\n",
    "print(\"powerfuls\\b \\b!\")          # in these three lines.\n",
    "\n",
    "print(\"this\\tis\\ta\\ttest\")\n",
    "print(\"\\'3\\'\\n\\\"3.14\\\"\")"
   ]
  },
  {
   "cell_type": "markdown",
   "id": "107e1e50",
   "metadata": {},
   "source": [
    "## 2 Conditional statements\n",
    "\n",
    "### 2.1 `if` statements\n",
    "\n",
    "Perhaps the most fundamental construct of high-level programming languages is the **conditional execution** of code. It allows one to instruct the computer to examine a set of Boolean conditions and to take a corresponding action depending on which of them evaluate to `True` and which evaluate to `False`.\n",
    "\n",
    "**Example (simple `if` statement):**"
   ]
  },
  {
   "cell_type": "code",
   "execution_count": null,
   "id": "7667ab4a",
   "metadata": {},
   "outputs": [],
   "source": [
    "x = 2.71     # x is an approximation to e.\n",
    "y = 3.14     # y is an approximation to pi.\n",
    "z = 7\n",
    "\n",
    "if x * y > z:\n",
    "    print(\"Computing...\")\n",
    "    print(\"Result:\")\n",
    "    print(f\"The product of {x} and {y} is larger than {z}!\")"
   ]
  },
  {
   "cell_type": "markdown",
   "id": "b12bfc08",
   "metadata": {},
   "source": [
    "Try modifying the values of $ x $ and $ y $ so that $ x y < z $ in the preceding example to make sure you understand what is happening.\n",
    "\n",
    "At the core of every `if` statement is a **conditional test**, which must be Boolean expression, that is, must have the value `True` or `False`. In our example, this expression is `x * y > z`.\n",
    "* If the expression evaluates to `True`, then the **if-block** defined by the next level of indentation relative to the `if` statement is executed.\n",
    "* If the conditional test evaluates to `False`, then the if-block is ignored and execution continues immediately after it ends.\n",
    "\n",
    "Note the use of the colon `:` after the conditional test.\n",
    "\n",
    "<div class=\"alert alert-warning\">The colon <code>:</code> <i>must</i> be used whenever one needs to <i>declare the beginning of an indented block</i>, such as after <code>if</code>, <code>else</code>, <code>for</code> or <code>while</code> statements (among a few other unrelated purposes, such as slicing a list).</div>"
   ]
  },
  {
   "cell_type": "markdown",
   "id": "d9141f02",
   "metadata": {},
   "source": [
    "<div class=\"alert alert-warning\">In Python, the body of a block or declaration is defined by its <b>indentation</b>. Thus, in contrast to some programming languages, spaces are an integral part of the syntax. Although any number of spaces can be used for indentation, the most common choices are either <i>two</i> or <i>four</i> spaces. <i>Incorrect or even inconsistent identation may lead to an</i> <code>IndentationError</code>.</div>"
   ]
  },
  {
   "cell_type": "markdown",
   "id": "0b09bbe6",
   "metadata": {},
   "source": [
    "**Example (inconsistent indentation):**"
   ]
  },
  {
   "cell_type": "code",
   "execution_count": 42,
   "id": "e060d490",
   "metadata": {},
   "outputs": [
    {
     "ename": "IndentationError",
     "evalue": "unindent does not match any outer indentation level (<tokenize>, line 7)",
     "output_type": "error",
     "traceback": [
      "\u001b[0;36m  File \u001b[0;32m<tokenize>:7\u001b[0;36m\u001b[0m\n\u001b[0;31m    print(\"I will relieve my boredom by raising an indentation error.\")  # Indentation using 2 spaces.\u001b[0m\n\u001b[0m    ^\u001b[0m\n\u001b[0;31mIndentationError\u001b[0m\u001b[0;31m:\u001b[0m unindent does not match any outer indentation level\n"
     ]
    }
   ],
   "source": [
    "a = 2\n",
    "b = 3\n",
    "c = 4\n",
    "\n",
    "if (a - b) - c != a - (b - c):\n",
    "    print(\"Subtraction is not associative!\")\n",
    "  print(\"I will relieve my boredom by raising an indentation error.\")  # Indentation using 2 spaces."
   ]
  },
  {
   "cell_type": "markdown",
   "id": "8cc973e7",
   "metadata": {},
   "source": [
    "### 2.2 `if`-`else` statements\n",
    "\n",
    "To perform an alternative action in case a conditional test fails, one can include an **else-block** after the if-block.\n",
    "\n",
    "**Example (`if`-`else` statement)**:"
   ]
  },
  {
   "cell_type": "code",
   "execution_count": 43,
   "id": "3913c3de",
   "metadata": {},
   "outputs": [
    {
     "name": "stdout",
     "output_type": "stream",
     "text": [
      "The value of y is -0.25\n",
      "The function y does not have a zero at x = 0\n"
     ]
    }
   ],
   "source": [
    "x = 5\n",
    "y = -99 + (259 * x / 4) - (14 * x**2) + x**3    # Parentheses are used here only to improve legibility.\n",
    "\n",
    "print(f\"The value of y is {y}\")\n",
    "\n",
    "if y == 0.0:\n",
    "    print(\"The function y has a zero at x = 0\")              # This line gets executed iff y == 0.0.\n",
    "else:\n",
    "    print(f\"The function y does not have a zero at x = 0\")   # This line gets executed iff y != 0.0."
   ]
  },
  {
   "cell_type": "markdown",
   "id": "308f4e04",
   "metadata": {},
   "source": [
    "⚠️ It is _not_ necessary to include an `else`-statement for every `if`-statement."
   ]
  },
  {
   "cell_type": "markdown",
   "id": "0898cfe5",
   "metadata": {},
   "source": [
    "### 2.3 `if`-`elif` chains"
   ]
  },
  {
   "cell_type": "markdown",
   "id": "80bd40a4",
   "metadata": {},
   "source": [
    "Finally, we can also expand the above constructions to admit the conditional execution of more than two pieces of code using an **if-elif** chain.\n",
    "\n",
    "📝 \"**elif**\" is an abbreviation of \"else if\".\n",
    "\n",
    "**Example (`if`-`elif` statements):**"
   ]
  },
  {
   "cell_type": "code",
   "execution_count": 10,
   "id": "c52aaf7e",
   "metadata": {},
   "outputs": [
    {
     "name": "stdout",
     "output_type": "stream",
     "text": [
      "The smallest prime that divides 1999 is greater than 10.\n"
     ]
    }
   ],
   "source": [
    "n = 1999\n",
    "\n",
    "# To suppress the trailing newline character in a print statement\n",
    "# and replace it by a space, include a final argument \"end=' '\":\n",
    "print(f\"The smallest prime that divides {n} is\", end=' ')\n",
    "\n",
    "if n % 2 == 0:\n",
    "    print(2)\n",
    "elif n % 3 == 0:\n",
    "    print(3)\n",
    "elif n % 5 == 0:\n",
    "    print(5)\n",
    "elif n % 7 == 0:\n",
    "    print(7)\n",
    "else:\n",
    "    print(\"greater than 10.\")"
   ]
  },
  {
   "cell_type": "markdown",
   "id": "dac5d151",
   "metadata": {},
   "source": [
    "<div class=\"alert alert-warning\">In an <b>if-elif</b> chain, the interpreter checks each conditional statement <i>in order</i>. As soon as one of these evaluates to <code>True</code>, the corresponding block of code is executed <i>and the remaining tests/blocks are skipped</i>. This is important because there may be more than one conditional expression which is <code>True</code>. If this occurs, then only the block corresponding to the <i>first</i> such expression will be executed.</div>\n",
    "\n",
    "**Example:**"
   ]
  },
  {
   "cell_type": "code",
   "execution_count": null,
   "id": "578cb31d",
   "metadata": {},
   "outputs": [],
   "source": [
    "age = 23\n",
    "\n",
    "if age > 18:\n",
    "    print(\"You are allowed to drive!\")\n",
    "elif age > 16:\n",
    "    print(\"You are allowed to vote!\")\n",
    "else:\n",
    "    print(\"You are too young to drive or vote!\")"
   ]
  },
  {
   "cell_type": "markdown",
   "id": "6e9dbb7e",
   "metadata": {},
   "source": [
    "Try modifying the value of _age_ in the preceding example; note that in any case, only a single block is executed. Now compare this to what happens in the following cell:"
   ]
  },
  {
   "cell_type": "code",
   "execution_count": null,
   "id": "9561cd3a",
   "metadata": {},
   "outputs": [],
   "source": [
    "age = 23\n",
    "\n",
    "if age > 18:\n",
    "    print(\"You are allowed to drive!\")\n",
    "if age > 16:\n",
    "    print(\"You are allowed to vote!\")\n",
    "else:                                                 # This 'else' refers to the second 'if'.\n",
    "    print(\"You are too young to drive or vote!\")"
   ]
  },
  {
   "cell_type": "markdown",
   "id": "0fd3123d",
   "metadata": {},
   "source": [
    "⚠️ An **if-elif** chain may contain as many **elif** statements as one wants. Moreover, just as for a single **if** statement in an **if-elif** chain, the final **else**-block is optional."
   ]
  },
  {
   "cell_type": "markdown",
   "id": "10cb1bb2",
   "metadata": {},
   "source": [
    "### 2.4 Checking whether an object is an element of another one using `in`\n",
    "\n",
    "A conditional test need not be based on a comparison. We can also check whether some value is an element of an object having sequential type (such as `str`, `list` or `tuple`) using the keyword `in`.\n",
    "\n",
    "\n",
    "**Example:**"
   ]
  },
  {
   "cell_type": "code",
   "execution_count": 15,
   "id": "34109889",
   "metadata": {},
   "outputs": [
    {
     "name": "stdout",
     "output_type": "stream",
     "text": [
      "This client has invested in real estate.\n",
      "This client owns both bonds and stocks.\n"
     ]
    }
   ],
   "source": [
    "# Checking whether something (in this case a string) is an element of a list:\n",
    "\n",
    "client_assets = [\"stocks\", \"bonds\", \"foreign currency\", \"real estate\", \"crypto\"] \n",
    "\n",
    "if 'real estate' in client_assets:\n",
    "    print(\"This client has invested in real estate.\")\n",
    "if 'bonds' in client_assets and 'stocks' in client_assets:\n",
    "    print(\"This client owns both bonds and stocks.\")"
   ]
  },
  {
   "cell_type": "markdown",
   "id": "0da8841b",
   "metadata": {},
   "source": [
    "**Example:**"
   ]
  },
  {
   "cell_type": "code",
   "execution_count": 18,
   "id": "0c657748",
   "metadata": {},
   "outputs": [
    {
     "name": "stdout",
     "output_type": "stream",
     "text": [
      "None of the people sampled is 50 years old.\n"
     ]
    }
   ],
   "source": [
    "# Checking whether something (in this case an integer) is an element of a tuple:\n",
    "\n",
    "ages = (23, 48, 37, 10, 19, 28, 92, 19, 4, 57, 14, 65, 21)\n",
    "\n",
    "if 50 in ages:\n",
    "    print(\"There is a person aged 50 in the sample.\")\n",
    "else:\n",
    "    print(\"None of the people sampled is 50 years old.\")"
   ]
  },
  {
   "cell_type": "markdown",
   "id": "0e6f4d75",
   "metadata": {},
   "source": [
    "**Example:**"
   ]
  },
  {
   "cell_type": "code",
   "execution_count": 20,
   "id": "32137397",
   "metadata": {},
   "outputs": [
    {
     "name": "stdout",
     "output_type": "stream",
     "text": [
      "The word 'magic' does not contain the letter 'b'.\n",
      "The word 'magic' contains the substring 'ma'.\n"
     ]
    }
   ],
   "source": [
    "# Checking whether a string (incl. a character) is a substring of another one:\n",
    "\n",
    "word = \"magic\"\n",
    "\n",
    "if \"b\" in word:\n",
    "    print(f\"The word \\\"{word}\\\" contains the letter 'b'.\")\n",
    "else:\n",
    "    print(f\"The word \\\"{word}\\\" does not contain the letter 'b'.\")\n",
    "    \n",
    "if \"ma\" in word:\n",
    "    print(f\"The word \\\"{word}\\\" contains the substring 'ma'.\")\n",
    "else:\n",
    "    print(f\"The word \\\"{word}\\\" does not contain the letter 'ma'.\")\n",
    "    \n",
    "\n",
    "# Checking a character (string with only one letter) is part of a string:\n"
   ]
  },
  {
   "cell_type": "markdown",
   "id": "4dba1b66",
   "metadata": {},
   "source": [
    "## 3 `for` loops\n",
    "\n",
    "### 3.1 `for`\n",
    "\n",
    "One of the most common tasks dealt with in the context of programming is that of automatically performing similar actions multiple times. Constructs which allow the solution to this problem are usually called **loops**. The iterations in a loop are frequently performed by running through the elements of a list, tuple or string in order. However, any object capable of returning its members one at a time can be used; such an object is called **iterable**.\n",
    "\n",
    "For example, one might wish to separately consider each number between $ 1 $ and $ 1\\,000\\,000 $ and test whether it is prime, performing an action (such as appending it to a list of primes) if that is the case. As another example, a bank may need to run daily through its record of clients and to send a warning message to those clients whose balance became negative on the previous day.\n",
    "\n",
    "In order to run through all elements of an iterable type, Python provides the `for` keyword.\n",
    "\n",
    "\n",
    "**Example (a `for` loop):**"
   ]
  },
  {
   "cell_type": "code",
   "execution_count": 44,
   "id": "5131e17b",
   "metadata": {
    "scrolled": true
   },
   "outputs": [
    {
     "name": "stdout",
     "output_type": "stream",
     "text": [
      "The letter 'R' appears in the word 'Recursion'.\n",
      "The letter 'e' appears in the word 'Recursion'.\n",
      "The letter 'c' appears in the word 'Recursion'.\n",
      "The letter 'u' appears in the word 'Recursion'.\n",
      "The letter 'r' appears in the word 'Recursion'.\n",
      "The letter 's' appears in the word 'Recursion'.\n",
      "The letter 'i' appears in the word 'Recursion'.\n",
      "The letter 'o' appears in the word 'Recursion'.\n",
      "The letter 'n' appears in the word 'Recursion'.\n"
     ]
    }
   ],
   "source": [
    "word = \"Recursion\"\n",
    "\n",
    "for letter in word:\n",
    "    print(f\"The letter '{letter}' appears in the word '{word}'.\")"
   ]
  },
  {
   "cell_type": "markdown",
   "id": "87ec9359",
   "metadata": {},
   "source": [
    "⚠️ Note the syntax of a for-loop:\n",
    "* The initial line indicates the object that will be iterated on (in this case, the string _'word'_) and assigns to each of its individual elements a name (in this case, _'letter'_). In particular, note how the value of this variable changes depending on the step of the iteration.\n",
    "* A colon `:` terminates the top line.\n",
    "* Every indented line following it is considered to be _inside the loop_. Each such line is executed once for each iteration."
   ]
  },
  {
   "cell_type": "markdown",
   "id": "97986dcf",
   "metadata": {},
   "source": [
    "**Example (a `for` loop with a nested `if` statement):**"
   ]
  },
  {
   "cell_type": "code",
   "execution_count": 55,
   "id": "17ba10e0",
   "metadata": {},
   "outputs": [
    {
     "name": "stdout",
     "output_type": "stream",
     "text": [
      "Warning, Bob. Your balance is negative: -$23.29\n",
      "Warning, Edward. Your balance is negative: -$4846.1\n",
      "\n",
      "Clients currently in debt:\n",
      "[('Bob', -23.29), ('Edward', -4846.1)]\n"
     ]
    }
   ],
   "source": [
    "# The following is a list of tuples. Each tuple provides a simplified\n",
    "# representation of a client's data and consists of her/his name\n",
    "# and current balance.\n",
    "\n",
    "list_of_clients = [('Alice', 103.45),\n",
    "                   ('Bob', -23.29),\n",
    "                   ('Charles', 681.00),\n",
    "                   ('Diana', 1729375.49),\n",
    "                   ('Edward', -4846.10),\n",
    "                   ('Frodo', 0.00)]\n",
    "\n",
    "\n",
    "clients_in_debt = []     # This list will store the records of clients in debt.\n",
    "\n",
    "for record in list_of_clients:\n",
    "    balance = record[1]  # The first (not 0th!) item of the current record is assigned to balance.\n",
    "    if balance < 0:\n",
    "        print(f\"Warning, {record[0]}. Your balance is negative: -${abs(balance)}\")\n",
    "        clients_in_debt.append(record)\n",
    "   \n",
    "print(\"\\nClients currently in debt:\")\n",
    "print(clients_in_debt)"
   ]
  },
  {
   "cell_type": "markdown",
   "id": "7e4db729",
   "metadata": {},
   "source": [
    "### 3.2 `range`\n",
    "\n",
    "The function `range` is used in the form `range(i, j, step)` to produce an iterable object consisting of the numbers from $ i $ (**inclusive**) to $ j $ (**exclusive**) and proceeding through steps of size _step_.\n",
    "\n",
    "**Example:**"
   ]
  },
  {
   "cell_type": "code",
   "execution_count": 46,
   "id": "6a55ce68",
   "metadata": {
    "scrolled": true
   },
   "outputs": [
    {
     "name": "stdout",
     "output_type": "stream",
     "text": [
      "0\n",
      "3\n",
      "6\n",
      "9\n"
     ]
    }
   ],
   "source": [
    "for n in range(0, 12, 3):\n",
    "    print(n)"
   ]
  },
  {
   "cell_type": "markdown",
   "id": "5ad50f9f",
   "metadata": {},
   "source": [
    "📝 In the notation above, only the index $ j $ is a required argument; the other two ($ i $ and _step_) are optional:\n",
    "* The default value of the starting number is $ 0 $.\n",
    "* The default value of the step size is $ 1 $.\n",
    "\n",
    "**Example:**"
   ]
  },
  {
   "cell_type": "code",
   "execution_count": 47,
   "id": "6e6db34a",
   "metadata": {},
   "outputs": [
    {
     "name": "stdout",
     "output_type": "stream",
     "text": [
      "[0, 1, 2, 3, 4, 5, 6, 7, 8, 9, 10, 11]\n",
      "[0, 1, 2, 3, 4, 5, 6, 7, 8, 9, 10, 11]\n",
      "[12, 11, 10, 9, 8, 7, 6, 5, 4, 3, 2, 1]\n"
     ]
    }
   ],
   "source": [
    "numbers = []\n",
    "for n in range(12):            # The default starting position is 0 and\n",
    "    numbers.append(n)          # the default step size is 1.\n",
    "print(numbers)\n",
    "\n",
    "numbers = []\n",
    "for n in range(0, 12):         # The default step size is 1.\n",
    "    numbers.append(n)\n",
    "print(numbers)\n",
    "\n",
    "numbers = []\n",
    "for n in range(12, 0, -1):     # Uses a negative step size.\n",
    "    numbers.append(n)\n",
    "print(numbers)"
   ]
  },
  {
   "cell_type": "markdown",
   "id": "862afbc8",
   "metadata": {},
   "source": [
    "⚠️ Note that the function `range` does _not_ generate a list nor tuple, but rather an object of a special (iterable) type, which is also called `range`. To transform such an object into a list or tuple, use `list` and `tuple` as _functions_ on it.\n",
    "\n",
    "**Example:**"
   ]
  },
  {
   "cell_type": "code",
   "execution_count": 56,
   "id": "f0ca6544",
   "metadata": {},
   "outputs": [
    {
     "name": "stdout",
     "output_type": "stream",
     "text": [
      "range(0, 10) <class 'range'>\n",
      "[0, 1, 2, 3, 4, 5, 6, 7, 8, 9] <class 'list'>\n",
      "(0, 1, 2, 3, 4, 5, 6, 7, 8, 9) <class 'tuple'>\n"
     ]
    }
   ],
   "source": [
    "print(range(10), type(range(10)))\n",
    "\n",
    "list_of_numbers = list(range(10))\n",
    "print(list_of_numbers, type(list_of_numbers))\n",
    "\n",
    "tuple_of_numbers = tuple(range(10))\n",
    "print(tuple_of_numbers, type(tuple_of_numbers))"
   ]
  },
  {
   "cell_type": "markdown",
   "id": "a6c70120",
   "metadata": {},
   "source": [
    "### 3.3 `break`\n",
    "\n",
    "A `for` loop will iterate over its block of code exactly once for every element of the corresponding iterator. However, it is sometimes desirable to skip the rest of a loop, i.e., to terminate it prematurely. This can be achieved with the `break` command.\n",
    "\n",
    "**Example:** Find the first $ 100 $ positive integers which are divisible by either 3, 5 or 7."
   ]
  },
  {
   "cell_type": "code",
   "execution_count": 7,
   "id": "5be72360",
   "metadata": {},
   "outputs": [
    {
     "name": "stdout",
     "output_type": "stream",
     "text": [
      "Here is the list of the first 100 such numbers:\n",
      "[0, 3, 5, 6, 7, 9, 10, 12, 14, 15, 18, 20, 21, 24, 25, 27, 28, 30, 33, 35, 36, 39, 40, 42, 45, 48, 49, 50, 51, 54, 55, 56, 57, 60, 63, 65, 66, 69, 70, 72, 75, 77, 78, 80, 81, 84, 85, 87, 90, 91, 93, 95, 96, 98, 99, 100, 102, 105, 108, 110, 111, 112, 114, 115, 117, 119, 120, 123, 125, 126, 129, 130, 132, 133, 135, 138, 140, 141, 144, 145, 147, 150, 153, 154, 155, 156, 159, 160, 161, 162, 165, 168, 170, 171, 174, 175, 177, 180, 182, 183]\n"
     ]
    }
   ],
   "source": [
    "solutions = []\n",
    "solution_count = 0\n",
    "\n",
    "# We need only check as long as the 100th solution has not been found.\n",
    "for n in range(500):\n",
    "    if n % 3 == 0 or n % 5 == 0 or n % 7 == 0:\n",
    "        solutions.append(n)\n",
    "        solution_count += 1\n",
    "        if solution_count == 100:\n",
    "            # The 100th solution has been found, so we can terminate the loop:\n",
    "            break\n",
    "\n",
    "print(f\"Here is the list of the first {solution_count} such numbers:\")\n",
    "print(solutions)"
   ]
  },
  {
   "cell_type": "markdown",
   "id": "c715278c",
   "metadata": {},
   "source": [
    "📝 Note how in the previous example we have an `if`-block nested inside another `if`-block nested inside a `for`-block. This kind of multiple nesting arises quite frequently. Python allows as much nesting as necessary."
   ]
  },
  {
   "cell_type": "markdown",
   "id": "4b900086",
   "metadata": {},
   "source": [
    "⚠️ It is recommended that `break` statements be used only sparingly if possible. Because they abruptly change the control flow of the program, in general they make the code harder to understand."
   ]
  },
  {
   "cell_type": "markdown",
   "id": "fd4bb4a8",
   "metadata": {},
   "source": [
    "### 3.4 `continue`\n",
    "\n",
    "Instead of terminating the loop prematurely, we can also skip the rest of the code in the loop block only for the _current_ iteration using `continue`.\n",
    "\n",
    "**Example:**"
   ]
  },
  {
   "cell_type": "code",
   "execution_count": 50,
   "id": "c5b60aed",
   "metadata": {},
   "outputs": [
    {
     "name": "stdout",
     "output_type": "stream",
     "text": [
      "11\n"
     ]
    }
   ],
   "source": [
    "consonant_count = 0\n",
    "\n",
    "for letter in \"some random word\":\n",
    "    if letter == \"o\" or letter == \"e\" or letter == \"a\":\n",
    "        continue\n",
    "    consonant_count += 1\n",
    "        \n",
    "print(consonant_count)"
   ]
  },
  {
   "cell_type": "markdown",
   "id": "60f08cea",
   "metadata": {},
   "source": [
    "📝 It is always possible to avoid using `continue` and usually this can be achieved through a simple modification of the code. Its greatest usefulness is to improve legibility in the following situation: Suppose that within a `for` loop, we want to check several conditions and execute a block of code only when none of them holds. Then we can test each condition separately, and use `continue` whenever one of them passes.\n",
    "\n",
    "**Example**: Find all numbers between $ 100 $ and $ 999 $ which are even, palindromic and whose midddle digit is greater than $ 7 $. (A string is *palindromic* if it is the same when read backwards.)"
   ]
  },
  {
   "cell_type": "code",
   "execution_count": 14,
   "id": "78bfb0ed",
   "metadata": {},
   "outputs": [
    {
     "name": "stdout",
     "output_type": "stream",
     "text": [
      "[282, 292, 484, 494, 686, 696, 888, 898]\n"
     ]
    }
   ],
   "source": [
    "# Store the lower and upper bounds of the range in two variables.\n",
    "# The underscore in the value of b improves legibility,\n",
    "# but is ignored by the interpreter:\n",
    "a = 100\n",
    "b = 1_000\n",
    "\n",
    "solutions = []\n",
    "for n in range(a, b):         # For each number between 100 and 999 (not 1000!):\n",
    "    if n % 2 != 0:\n",
    "        continue\n",
    "    str_n = str(n)            # Convert n into a string consisting of its digits.\n",
    "    if str_n != str_n[::-1]:  # Check whether str_n is different when read backwards.\n",
    "        continue\n",
    "    if int(str_n[1]) <= 7:    # Check whether the middle digit is greater than 7.\n",
    "        continue\n",
    "    solutions.append(n)       # If this point has been reached, then n is a solution.\n",
    "    \n",
    "print(solutions)"
   ]
  },
  {
   "cell_type": "markdown",
   "id": "9377e944",
   "metadata": {},
   "source": [
    "## 4 `while` loops\n",
    "\n",
    "A `for` loop takes an iterable object (such as a list, a tuple or a string) and executes a block of code once for each element of this object. A `while` loop, in contrast, repeatedly executes a block of code as long as a given conditional expression is `True`.\n",
    "\n",
    "**Example:** You are given that the series\n",
    "$$ 4 \\bigg(1 - \\frac{1}{3} + \\frac{1}{5} - \\frac{1}{7} + \\frac{1}{9} - \\frac{1}{11} + \\dots \\bigg)$$\n",
    "converges to a certain real number $ L $. Find the value of $ L $ within an accuracy of $ \\varepsilon = 10^{-5} $."
   ]
  },
  {
   "cell_type": "code",
   "execution_count": 19,
   "id": "fa0c713d",
   "metadata": {},
   "outputs": [
    {
     "name": "stdout",
     "output_type": "stream",
     "text": [
      "The approximate value of the sum is 3.141597653564762\n",
      "To compute it, 200002 iterations were required!\n"
     ]
    }
   ],
   "source": [
    "eps = 1e-5\n",
    "k = 1\n",
    "previous_sum = 100   # Will store the value of the previous partial sum of the series.\n",
    "current_sum = 0      # Will store the value of the current partial sum of the series.\n",
    "\n",
    "while abs(current_sum - previous_sum) > eps:\n",
    "# While the desired accuracy has not yet been achieved, do the following:\n",
    "    previous_sum = current_sum\n",
    "    if k % 2 != 0:                        # If k is odd, the k-th term is positive.\n",
    "        current_sum += 4 / (2 * k - 1)\n",
    "    else:                                 # If k is even, the k-th term is negative.\n",
    "        current_sum -= 4 / (2 * k - 1)\n",
    "    k += 1                                # We need to increment k before the next iteration.\n",
    "\n",
    "print(f\"The approximate value of the sum is {current_sum}\")\n",
    "print(f\"To compute it, {k} iterations were required!\")"
   ]
  },
  {
   "cell_type": "markdown",
   "id": "3c29ed88",
   "metadata": {},
   "source": [
    "**Exercise:** Explain why the value of `previous_sum` was not also set to $ 0 $ at the beginning of the preceding example."
   ]
  },
  {
   "cell_type": "markdown",
   "id": "b526f4ca",
   "metadata": {},
   "source": [
    "It can be shown that $ L = \\pi $, as suggested by the approximate value that was obtained above."
   ]
  },
  {
   "cell_type": "markdown",
   "id": "4062cf9b",
   "metadata": {},
   "source": [
    "📝 `break` and `continue` statements can also be used with (and perform the same actions in) `while` loops."
   ]
  }
 ],
 "metadata": {
  "kernelspec": {
   "display_name": "Python 3 (ipykernel)",
   "language": "python",
   "name": "python3"
  },
  "language_info": {
   "codemirror_mode": {
    "name": "ipython",
    "version": 3
   },
   "file_extension": ".py",
   "mimetype": "text/x-python",
   "name": "python",
   "nbconvert_exporter": "python",
   "pygments_lexer": "ipython3",
   "version": "3.9.13"
  }
 },
 "nbformat": 4,
 "nbformat_minor": 5
}
