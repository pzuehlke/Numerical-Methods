{
 "cells": [
  {
   "cell_type": "markdown",
   "id": "9c24f1a0",
   "metadata": {},
   "source": [
    "# The basic data types in Python"
   ]
  },
  {
   "cell_type": "markdown",
   "id": "3ed6643b",
   "metadata": {},
   "source": [
    "## 1 Introduction"
   ]
  },
  {
   "cell_type": "markdown",
   "id": "e3ab2b92",
   "metadata": {},
   "source": [
    "### 1.1 Obtaining Python\n",
    "__[Python 3](https://www.python.org/)__ is available for all major operating systems. Please [download](https://www.python.org/downloads/) the appropriate version for your computer and follow the [installation instructions](https://realpython.com/installing-python/). It is also recommended that you [install](https://docs.anaconda.com/anaconda/install/) the __[Anaconda](https://www.anaconda.com/products/distribution)__ distribution platform for Python. It includes several useful libraries and packages, notably [__NumPy__](https://numpy.org/), [__SciPy__](https://scipy.org/), [__matplotlib__](https://matplotlib.org) and [__Jupyter__](https://jupyter.org/)'s tools, all of which we will use during the course.\n",
    "\n",
    "### 1.2 Links\n",
    "\n",
    "We will only learn a _minuscule part_ of any of these libraries, and this will be done as we proceed along in the course, mostly in the form of examples. In any case, you may find the following references useful in the future:\n",
    "* The [PEP8 style guide](https://pep8.org/) for Python code.\n",
    "* A [beginner's guide](https://numpy.org/doc/stable/user/absolute_beginners.html) to the basics of **Numpy**.\n",
    "* A [gallery of examples](https://matplotlib.org/stable/gallery/index.html) for **Matplotlib**.\n",
    "* Some **Matplotlib** [cheat sheets](https://github.com/matplotlib/cheatsheets#cheatsheets).\n",
    "* A [quickstart guide](https://jupyter-notebook-beginner-guide.readthedocs.io/en/latest/) to **Jupyter** notebooks."
   ]
  },
  {
   "cell_type": "markdown",
   "id": "7a383c87",
   "metadata": {},
   "source": [
    "### 1.3 About Jupyter notebooks\n",
    "The present document is a [__Jupyter notebook__](https://jupyter-notebook.readthedocs.io/en/stable/examples/Notebook/examples_index.html), a web-based interactive document which can contain both Python code and human-readable text. The content of a notebook is organized as an ordered list of __cells__, which can be of two types:\n",
    "\n",
    "* **Markdown cells** are used to explain or complement code. They are formatted using Markdown syntax (**Markdown** is a very simple markup language). Besides text, they can also contain equations (LaTeX is supported), tables, images and other media.\n",
    "* Cells containing Python code, called **code cells**, are distinguished by their gray background. Each cell can be edited, run and interacted with by the user as if it were a stand-alone script.\n",
    "\n",
    "The filename extension for (Python) Jupyter notebooks is **.ipynb**.\n",
    "\n",
    "In order to be able to create, edit and interact with (not merely read) notebooks, there are two alternatives:\n",
    "1. You may install the [**Jupyter platform**](https://jupyter.org/) on your computer (click on \"Install\" and follow the installation instructions).\n",
    "2. You may run a web-based Jupyter environment on your browser (in the cloud). Three websites that provide this service for free are:\n",
    "    * The original [**Jupyter Notebook**](https://jupyter.org/try) web application (does not require an account; click on \"Jupyter Notebook\").\n",
    "    * [**CoCalc**](https://cocalc.com/auth/try) (does not require an account; click on \"Use CoCalc Anonymously\").\n",
    "    * [**Google Collab**](https://colab.research.google.com/) (requires a Google account and you must be signed in to use the service).\n",
    "    \n",
    "📝 Note that using option 2, *you do not have to install any of the software mentioned above on your machine*, not even the Python interpreter."
   ]
  },
  {
   "cell_type": "markdown",
   "id": "913e7aa8",
   "metadata": {},
   "source": [
    "### 1.4 Editing and interacting with Jupyter notebooks\n",
    "\n",
    "Try editing and playing around with the cell below. To insert a new line below the current one in a Python cell, use `Enter` (a.k.a. `Return`); to run the entire contents of the cell through the interpreter, use `Shift + Enter`."
   ]
  },
  {
   "cell_type": "code",
   "execution_count": 1,
   "id": "897138d8",
   "metadata": {},
   "outputs": [
    {
     "name": "stdout",
     "output_type": "stream",
     "text": [
      "Hello, world!\n",
      "The circumference of a circle of radius r = 10 is given by 62.8318\n"
     ]
    },
    {
     "data": {
      "text/plain": [
       "314.159"
      ]
     },
     "execution_count": 1,
     "metadata": {},
     "output_type": "execute_result"
    }
   ],
   "source": [
    "print(\"Hello, world!\")\n",
    "\n",
    "pi = 3.14159\n",
    "r = 10\n",
    "\n",
    "print(f\"The circumference of a circle of radius r = {r} is given by {2 * pi * r}\")\n",
    "\n",
    "area = pi * r**2    # '*' denotes multiplication and '**' denotes exponentiation.\n",
    "area                # Return the value of area as output."
   ]
  },
  {
   "cell_type": "markdown",
   "id": "0d3b2872",
   "metadata": {},
   "source": [
    "📝 In Python, the __pound__ sign __#__ is used to introduce a **comment**. Comments are ignored by the interpreter and can be used to  make a piece of code more readable or to clarify its intention or operation.\n",
    "\n",
    "📝 Note the tags `In` and `Out` to the left of the preceding cell. The former tag stands for the *input* (or content) of the cell and the latter for its *output* (or result). This output is automatically stored in a variable named `_n`, where $ n $ is the number shown inside brackets `[ ]`. It can thus be conveniently referred to and used in other cells. For example:"
   ]
  },
  {
   "cell_type": "code",
   "execution_count": 2,
   "id": "157c6b27",
   "metadata": {},
   "outputs": [
    {
     "data": {
      "text/plain": [
       "334.888"
      ]
     },
     "execution_count": 2,
     "metadata": {},
     "output_type": "execute_result"
    }
   ],
   "source": [
    "_1 + 20.729    # Adds the output of cell 1 to 20.729; '+' denotes addition of numbers."
   ]
  },
  {
   "cell_type": "markdown",
   "id": "01d582ff",
   "metadata": {},
   "source": [
    "📝 To avoid ambiguity, the value stored in `_n` _will remain the same unless every output is cleared explicitly_. The counter $ n $ is incremented by $ 1 $ every time the code inside some cell is run. In particular, if a cell is run several times, its output will stored in several variables of this type."
   ]
  },
  {
   "cell_type": "markdown",
   "id": "d6ee80ce",
   "metadata": {},
   "source": [
    "### 1.5 About Python\n",
    "[Python](https://www.python.org/) was originally developed by [Guido van Rossum](https://en.wikipedia.org/wiki/Guido_van_Rossum) starting in 1989. It is at its core an [object-oriented programming](https://en.wikipedia.org/wiki/Object-oriented_programming) (_OOP_) language. However, it also supports the main elements of the [functional programming](https://en.wikipedia.org/wiki/Functional_programming) (_FP_) and [imperative programming](https://en.wikipedia.org/wiki/Imperative_programming) paradigms.\n",
    "\n",
    "In contrast to some other widely used languages such as C, Java or Fortran, Python is an _interpreted_ language, meaning that its scripts are not compiled into machine code, but rather run by an _interpreter_.\n",
    "\n",
    "The main advantage of interpreted languages (over compiled languages) is that they facilitate debugging and testing, since it is unnecessary to recompile, link and execute the source code after each modification. On the other hand, programs written in an interpreted language do not result in stand-alone applications, but instead require the presence of a Python interpreter in the user's computer to be run. Another disadvantage is that programs written in interpreted languages tend to have much slower execution time than their compiled equivalents, sometimes by a factor of ten or even more.\n",
    "\n",
    "Some other features of Python that make it suitable for teaching and learning about programming are:\n",
    "\n",
    "✅ Python is _free_ and _open source_ software (_FOSS_);  \n",
    "✅ Python is available for all major operating systems, easy to install and its programs are platform-independent;  \n",
    "✅ Python's syntax is simple, pleasant and easy to learn, which makes for legible code;  \n",
    "✅ Python has an extensive standard library, abundant extensions and a large community of users and developers.\n",
    "\n",
    "We will now provide an overview of the core of Python."
   ]
  },
  {
   "cell_type": "markdown",
   "id": "dfb1562d",
   "metadata": {},
   "source": [
    "## 2 Variables and types\n",
    "\n",
    "### 2.1 Variables, assignments and types\n",
    "\n",
    "In programming languages, a __variable__ is used to store and manipulate a (not necessarily numerical) __value__. Each value must have a __type__, which in turn determines its properties and the operations that can be applied to it. Thus one can think of a variable as a named container which provides a convenient way to represent and manipulate an object, without having to refer explicitly to its memory address.\n",
    "\n",
    "To assign a value to a variable, we use the __assignment operator__ `=` in the form *variable name* `=` *value*."
   ]
  },
  {
   "cell_type": "code",
   "execution_count": 3,
   "id": "b4f7e7b1",
   "metadata": {},
   "outputs": [
    {
     "data": {
      "text/plain": [
       "1729"
      ]
     },
     "execution_count": 3,
     "metadata": {},
     "output_type": "execute_result"
    }
   ],
   "source": [
    "a = 1729        # Store the integer 1729 in variable 'a'.\n",
    "a               # Return the value of variable a as the output of the cell."
   ]
  },
  {
   "cell_type": "code",
   "execution_count": 4,
   "id": "ccf295de",
   "metadata": {},
   "outputs": [
    {
     "data": {
      "text/plain": [
       "'wizard'"
      ]
     },
     "execution_count": 4,
     "metadata": {},
     "output_type": "execute_result"
    }
   ],
   "source": [
    "b = 'wizard'    # Assign the string 'wizard' to the name 'b'.\n",
    "b               # Return the value of variable b as the output of the cell."
   ]
  },
  {
   "cell_type": "markdown",
   "id": "2fcae6fc",
   "metadata": {},
   "source": [
    "As in the preceding examples, the Python interpreter automatically infers the type of a variable from its value; this feature is called **type inference**. Moreover, in Python (in contrast to, say, C), variables are __typed dinamically__, meaning that not only can the _value_ of a variable change during a program, but even its _type_ can be modified. Whenever a previously used name is assigned to a new value, the original association is lost. "
   ]
  },
  {
   "cell_type": "code",
   "execution_count": 5,
   "id": "e238c8da",
   "metadata": {},
   "outputs": [
    {
     "data": {
      "text/plain": [
       "'cunning'"
      ]
     },
     "execution_count": 5,
     "metadata": {},
     "output_type": "execute_result"
    }
   ],
   "source": [
    "a = 'cunning'  # The name 'a' is now assigned to the string 'cunning'.\n",
    "a"
   ]
  },
  {
   "cell_type": "markdown",
   "id": "80ecbede",
   "metadata": {},
   "source": [
    "<div class=\"alert alert-warning\"> In Python, simply creating a variable or assigning it a new value does <i>not</i> prompt the interpreter to return nor print its value.\n",
    "    <ul>\n",
    "        <li>To <i>print</i> the value of a variable, say $ x $, to the screen, use <code>print(x)</code>. Note that calling <code>print</code> generates no output (more precisely, it returns <code>None</code>).</li>\n",
    "        <li>To force the interpreter to <i>return</i> the value of the variable as the output of a cell, just type its name, in this case <code>x</code>, as was done above for <code>a</code>.</li></ul></div>\n",
    "\n",
    "📝 More generally, the function `print` can be used to print to the screen any collection of arguments, separated by commas. These commas will be replaced by single spaces in the output."
   ]
  },
  {
   "cell_type": "code",
   "execution_count": 6,
   "id": "2edd4f2d",
   "metadata": {
    "scrolled": true
   },
   "outputs": [
    {
     "name": "stdout",
     "output_type": "stream",
     "text": [
      "cunning\n",
      "cunning wizard\n"
     ]
    },
    {
     "data": {
      "text/plain": [
       "'wizard'"
      ]
     },
     "execution_count": 6,
     "metadata": {},
     "output_type": "execute_result"
    }
   ],
   "source": [
    "print(a)\n",
    "print(a, b)\n",
    "b"
   ]
  },
  {
   "cell_type": "code",
   "execution_count": 7,
   "id": "041e49c5",
   "metadata": {},
   "outputs": [
    {
     "name": "stdout",
     "output_type": "stream",
     "text": [
      "cunning\n",
      "None\n",
      "cunning\n",
      "<class 'NoneType'>\n"
     ]
    }
   ],
   "source": [
    "print(print(a))           # Can you anticipate the result of executing this line?\n",
    "print(type(print(a)))     # Can you explain what happens when you execute this line?"
   ]
  },
  {
   "cell_type": "markdown",
   "id": "c30d1b4c",
   "metadata": {},
   "source": [
    "📝 Variable names may consist only of _alphanumeric characters_ (i.e., the characters A-Z, a-z and 0-9) and _underscores_ \\_; the initial character must be a letter. By convention, uppercase initial letters are usually reserved to denote [classes](https://docs.python.org/3/tutorial/classes.html) (a concept which we will not consider in detail) and lowercase initial letters to name other objects.\n",
    "\n",
    "⚠️ In Python, all names (not just those of variables) are **case-sensitive**. Thus `Staff` and `staff` may refer to completely different objects.\n",
    "\n",
    "📝 The type of a variable $ x $ can be inspected through a call to the function `type`, as in `type(x)`. One can also verify whether variable $ x $ has a given type *variable_type* through `isinstance(x, variable_type)`. Recall that the type of a variable is allowed to change during the program.\n",
    "\n",
    "#### Example:"
   ]
  },
  {
   "cell_type": "code",
   "execution_count": 8,
   "id": "051b64d6",
   "metadata": {},
   "outputs": [
    {
     "name": "stdout",
     "output_type": "stream",
     "text": [
      "2\n",
      "<class 'int'>\n",
      "True\n",
      "2 <class 'str'>\n",
      "False\n",
      "2.0 <class 'float'>\n",
      "False\n"
     ]
    },
    {
     "data": {
      "text/plain": [
       "2.0"
      ]
     },
     "execution_count": 8,
     "metadata": {},
     "output_type": "execute_result"
    }
   ],
   "source": [
    "x = 2                      # x is an integer.\n",
    "print(x)\n",
    "print(type(x))\n",
    "print(isinstance(x, int))  # x is of type int, True or False?\n",
    "\n",
    "x = '2'                    # x is now a string.\n",
    "print(x, type(x))          # We may print several items using a single print statement!\n",
    "print(isinstance(x, int))  # True or False? Is x an int?\n",
    "\n",
    "x = 2.0                    # x is now a floating-point number.\n",
    "print(x, type(x))\n",
    "print(isinstance(x, str))  # Is x a string?\n",
    "\n",
    "x                          # Return the current value of x as the output of this cell."
   ]
  },
  {
   "cell_type": "markdown",
   "id": "c7491014",
   "metadata": {},
   "source": [
    "🚫 The following small set of keywords *cannot* be used to name objects because they already have a special meaning to the interpreter:\n",
    "\n",
    "| Reserved  | keywords   |            |           |\n",
    "| :-------- | :--------- | :--------- | :------   |\n",
    "|`False` \t| `def` \t | `if`       | `raise`   |\n",
    "|`None` \t| `del` \t | `import`   | `return`  |\n",
    "|`True` \t| `elif` \t | `in` \t  | `try`     |\n",
    "|`and` \t    | `else` \t | `is` \t  | `while`   |\n",
    "|`as` \t    | `except`   | `lambda`   | `with`    |\n",
    "|`assert` \t| `finally`  | `nonlocal` | `yield`   |\n",
    "|`break` \t| `for` \t | `not`      |           |\n",
    "|`class` \t| `from` \t | `or` \t  |           |\n",
    "|`continue` | `global`   | `pass`     |           |\n",
    "\n",
    "📝 One can make several _simultaneous_ assignments in a single line using commas `,` as separators. This is especially useful for permuting the values of two or more variables without resorting to temporary variables.\n",
    "\n",
    "#### Example:"
   ]
  },
  {
   "cell_type": "code",
   "execution_count": 9,
   "id": "b190e61e",
   "metadata": {},
   "outputs": [
    {
     "name": "stdout",
     "output_type": "stream",
     "text": [
      "1 2\n",
      "2 1\n",
      "3 1\n"
     ]
    }
   ],
   "source": [
    "x = 1\n",
    "y = 2\n",
    "print(x, y)\n",
    "\n",
    "x, y = y, x\n",
    "print(x, y)\n",
    "\n",
    "# Multiple assignments are made _simultaneously_.\n",
    "# Check this in the following example:\n",
    "x, y = x + y, x - y\n",
    "print(x, y)"
   ]
  },
  {
   "cell_type": "markdown",
   "id": "7d965cf8",
   "metadata": {},
   "source": [
    "### 2.2 `True`, `False` and `None`\n",
    "\n",
    "Perhaps the most basic types in Python are:\n",
    "* `bool`, or **boolean**, which consists of the values `True` and `False`;\n",
    "* `Nonetype`, which consists only of the value `None`.\n",
    "\n",
    "The first type appears for instance in the conditional tests of *if-elif-else* or *while* constructs (to be considered later), or as the result of comparisons. The value `None` is frequently used as a placeholder in the case where a function has no values to return.\n",
    "\n",
    "Booleans support the **logical operators** `and`, `or` and `not` (formally called *conjunction*, *disjunction* and *negation*, respectively). Observe that the former two are _binary_ operators, while the latter is a _unary_ operator.\n",
    "\n",
    "#### Example:"
   ]
  },
  {
   "cell_type": "code",
   "execution_count": 10,
   "id": "35d4c2bd",
   "metadata": {},
   "outputs": [
    {
     "name": "stdout",
     "output_type": "stream",
     "text": [
      "True <class 'bool'>\n",
      "False <class 'bool'>\n"
     ]
    }
   ],
   "source": [
    "a = True\n",
    "b = False\n",
    "print(a, type(a))\n",
    "print(b, type(b))"
   ]
  },
  {
   "cell_type": "code",
   "execution_count": 11,
   "id": "df216acb",
   "metadata": {},
   "outputs": [
    {
     "name": "stdout",
     "output_type": "stream",
     "text": [
      "True\n",
      "False\n",
      "False\n",
      "False\n"
     ]
    }
   ],
   "source": [
    "print(a and a)\n",
    "print(a and b)\n",
    "print(b and a)\n",
    "print(b and b)"
   ]
  },
  {
   "cell_type": "code",
   "execution_count": 12,
   "id": "f42aa9a7",
   "metadata": {},
   "outputs": [
    {
     "name": "stdout",
     "output_type": "stream",
     "text": [
      "True\n",
      "True\n",
      "True\n",
      "False\n"
     ]
    }
   ],
   "source": [
    "print(a or a)\n",
    "print(a or b)\n",
    "print(b or a)\n",
    "print(b or b)"
   ]
  },
  {
   "cell_type": "code",
   "execution_count": 13,
   "id": "de3a8be7",
   "metadata": {
    "scrolled": true
   },
   "outputs": [
    {
     "name": "stdout",
     "output_type": "stream",
     "text": [
      "False\n",
      "True\n",
      "True\n",
      "True\n"
     ]
    }
   ],
   "source": [
    "a = True\n",
    "b = False\n",
    "\n",
    "print(not(a))\n",
    "print(not(a and b))\n",
    "print((not a) or (not b))\n",
    "print((not(not(a))))"
   ]
  },
  {
   "cell_type": "markdown",
   "id": "98df21ab",
   "metadata": {},
   "source": [
    "## 3 Numerical types and operators\n",
    "\n",
    "### 3.1 Basic numerical types\n",
    "\n",
    "Python supports three basic data types for storing numbers:\n",
    "* `int`, or **integer** type for integers such as $ -1 $, $ 2 $, $ 0 $ or $ 53 $;\n",
    "* `float`, or **floating-point** type for floating-point numbers (intuitively, numbers with a finite decimal expansion) such as $ 3.1415 $, $ 2.0 $ or $ -.450 $;\n",
    "* `complex`, or **complex** type for complex numbers such as $ 2 + 3j $ or $ 3.14 - 43.5 j$.\n",
    "\n",
    "⚠️ In Python the imaginary unit is denoted by $ j $ instead of the more usual $ i $.\n",
    "\n",
    "📝 `int`, `float` and `complex` can also be used as _functions_ to convert a value  to the corresponding type, whenever this is possible. Similarly, any variable of a numerical type can be converted to a string using `str` (more about strings [in a moment](#strings)). More precisely:\n",
    "* Any integer may be converted to a floating-point or complex number;\n",
    "* Any floating-point number can be converted to a complex number;\n",
    "* Any numerical value can be converted to a string;\n",
    "* Conversely, a string can also be converted to a numerical type, provided that its literal represents a valid number of the intended type.\n",
    "\n",
    "\n",
    "__Example:__"
   ]
  },
  {
   "cell_type": "code",
   "execution_count": 14,
   "id": "f0efa710",
   "metadata": {},
   "outputs": [
    {
     "name": "stdout",
     "output_type": "stream",
     "text": [
      "2 <class 'int'>\n",
      "2.0 <class 'float'>\n",
      "(2+0j) <class 'complex'>\n",
      "2 <class 'str'>\n"
     ]
    }
   ],
   "source": [
    "a = 2\n",
    "float_a = float(a)\n",
    "complex_a = complex(a)\n",
    "str_a = str(a)\n",
    "\n",
    "print(a, type(a))\n",
    "print(float_a, type(float_a))\n",
    "print(complex_a, type(complex_a))\n",
    "print(str_a, type(str_a))"
   ]
  },
  {
   "cell_type": "markdown",
   "id": "2fddf3b3",
   "metadata": {},
   "source": [
    "📝 Applying `int` to a floating-point number $ x $ __truncates__ its decimal part (i.e., returns the largest integer $ n \\le x $). To __round__ $ x $ to the nearest integer, use `round(x)`. More generally, `round(x, number_of_digits)` rounds a floating-point number $ x $ to a precision within _number_of_digits_ digits after the decimal point.\n",
    "\n",
    "__Example:__"
   ]
  },
  {
   "cell_type": "code",
   "execution_count": 15,
   "id": "94c838c8",
   "metadata": {},
   "outputs": [
    {
     "name": "stdout",
     "output_type": "stream",
     "text": [
      "2\n",
      "3\n",
      "2.654\n",
      "(2.654321+0j) <class 'complex'>\n"
     ]
    }
   ],
   "source": [
    "b = 2.654321\n",
    "truncated_b = int(b)\n",
    "rounded_b = round(b)\n",
    "c = round(b, 3)          # Round b to a precision within the third decimal digit.\n",
    "complex_b = complex(b)\n",
    "\n",
    "print(truncated_b)\n",
    "print(rounded_b)\n",
    "print(c)\n",
    "print(complex_b, type(complex_b))"
   ]
  },
  {
   "cell_type": "markdown",
   "id": "9c2032a4",
   "metadata": {},
   "source": [
    "🚫 A complex number can also be converted to a string. However, trying to convert it to an integer or floating-point number will result in a `TypeError`."
   ]
  },
  {
   "cell_type": "code",
   "execution_count": 16,
   "id": "bff1d97f",
   "metadata": {},
   "outputs": [
    {
     "ename": "TypeError",
     "evalue": "can't convert complex to int",
     "output_type": "error",
     "traceback": [
      "\u001b[0;31m---------------------------------------------------------------------------\u001b[0m",
      "\u001b[0;31mTypeError\u001b[0m                                 Traceback (most recent call last)",
      "Input \u001b[0;32mIn [16]\u001b[0m, in \u001b[0;36m<cell line: 2>\u001b[0;34m()\u001b[0m\n\u001b[1;32m      1\u001b[0m d \u001b[38;5;241m=\u001b[39m \u001b[38;5;241m2.0\u001b[39m \u001b[38;5;241m+\u001b[39m \u001b[38;5;241m0\u001b[39mj\n\u001b[0;32m----> 2\u001b[0m int_d \u001b[38;5;241m=\u001b[39m \u001b[38;5;28;43mint\u001b[39;49m\u001b[43m(\u001b[49m\u001b[43md\u001b[49m\u001b[43m)\u001b[49m\n",
      "\u001b[0;31mTypeError\u001b[0m: can't convert complex to int"
     ]
    }
   ],
   "source": [
    "d = 2.0 + 0j\n",
    "int_d = int(d)"
   ]
  },
  {
   "cell_type": "code",
   "execution_count": 17,
   "id": "2a625ce1",
   "metadata": {},
   "outputs": [
    {
     "ename": "TypeError",
     "evalue": "can't convert complex to float",
     "output_type": "error",
     "traceback": [
      "\u001b[0;31m---------------------------------------------------------------------------\u001b[0m",
      "\u001b[0;31mTypeError\u001b[0m                                 Traceback (most recent call last)",
      "Input \u001b[0;32mIn [17]\u001b[0m, in \u001b[0;36m<cell line: 1>\u001b[0;34m()\u001b[0m\n\u001b[0;32m----> 1\u001b[0m float_d \u001b[38;5;241m=\u001b[39m \u001b[38;5;28;43mfloat\u001b[39;49m\u001b[43m(\u001b[49m\u001b[43md\u001b[49m\u001b[43m)\u001b[49m\n",
      "\u001b[0;31mTypeError\u001b[0m: can't convert complex to float"
     ]
    }
   ],
   "source": [
    "float_d = float(d)"
   ]
  },
  {
   "cell_type": "markdown",
   "id": "708c269f",
   "metadata": {},
   "source": [
    "A floating-point number can also be written in the __exponential notation__ using `e`.\n",
    "\n",
    "__Example:__"
   ]
  },
  {
   "cell_type": "code",
   "execution_count": 18,
   "id": "02a8e4bf",
   "metadata": {},
   "outputs": [
    {
     "name": "stdout",
     "output_type": "stream",
     "text": [
      "3.14159\n",
      "123.0\n",
      "0.1\n",
      "1.0\n",
      "0.0456\n",
      "78900000000.0\n"
     ]
    }
   ],
   "source": [
    "a = 3.14159e0\n",
    "b = 1.23e2\n",
    "c = 1e-1\n",
    "d = 10e-1\n",
    "e = 4.56e-2\n",
    "f = 7.89e10\n",
    "\n",
    "print(a)\n",
    "print(b)\n",
    "print(c)\n",
    "print(d)\n",
    "print(e)\n",
    "print(f)"
   ]
  },
  {
   "cell_type": "markdown",
   "id": "b27fa249",
   "metadata": {},
   "source": [
    "📝 The result is thus obtained by multiplying the number to the left of `e` by $ 10 $ raised to the (integer) power to the right of `e`."
   ]
  },
  {
   "cell_type": "markdown",
   "id": "032e5a31",
   "metadata": {},
   "source": [
    "### 3.2 Arithmetic operators\n",
    "Python supports the following binary arithmetic operators:\n",
    "\n",
    "| Operator  | Operation          | Types allowed              |\n",
    "| :-------- | :---------         | :------------------------  |\n",
    "| `+`       | Addition           |  `int`, `float`, `complex` |\n",
    "| `-`       | Subtraction        |  `int`, `float`, `complex` |\n",
    "| `*`       | Multiplication     |  `int`, `float`, `complex` |\n",
    "| `/`       | Division           |  `int`, `float`, `complex` |\n",
    "| `**`      | Exponentiation     |  `int`, `float`, `complex` |\n",
    "| `//`      | Integer division   |  `int`, `float`            |\n",
    "| `%`       | Modulo (remainder) |  `int`, `float`            |\n",
    "\n",
    "<a name=\"table 1\"></a>\n",
    "\n",
    "The last two operators are defined as follows. If $ x $ and $ y $ are *positive* integers or floating-point numbers, then:\n",
    "* ` x // y` is the largest integer $ n $ such that $ n y \\le x $.\n",
    "* `x % y` is $ x - n y $, for $ n $ as above.\n",
    "\n",
    "These two operators are usually applied only when $ x $ and $ y $ are both positive. If one or both of $ x $, $ y $ is negative, the definition is similar.\n",
    "\n",
    "__Example__:"
   ]
  },
  {
   "cell_type": "code",
   "execution_count": 19,
   "id": "a206779a",
   "metadata": {},
   "outputs": [
    {
     "data": {
      "text/plain": [
       "3"
      ]
     },
     "execution_count": 19,
     "metadata": {},
     "output_type": "execute_result"
    }
   ],
   "source": [
    "11 // 3"
   ]
  },
  {
   "cell_type": "code",
   "execution_count": 20,
   "id": "08363909",
   "metadata": {},
   "outputs": [
    {
     "data": {
      "text/plain": [
       "2"
      ]
     },
     "execution_count": 20,
     "metadata": {},
     "output_type": "execute_result"
    }
   ],
   "source": [
    "11 % 3"
   ]
  },
  {
   "cell_type": "code",
   "execution_count": 21,
   "id": "d6fb65aa",
   "metadata": {},
   "outputs": [
    {
     "data": {
      "text/plain": [
       "0.14158999999999988"
      ]
     },
     "execution_count": 21,
     "metadata": {},
     "output_type": "execute_result"
    }
   ],
   "source": [
    "# Taking % with second argument 1 results in the decimal part of the (positive) first argument:\n",
    "3.14159 % 1"
   ]
  },
  {
   "cell_type": "code",
   "execution_count": 22,
   "id": "5b8e87fb",
   "metadata": {
    "scrolled": false
   },
   "outputs": [
    {
     "name": "stdout",
     "output_type": "stream",
     "text": [
      "7 + 2 = 9     7 * 2 = 14    7 // 2 = 3     7 % 2 = 1\n",
      "7 - 2 = 5     7 / 2 = 3.5   7 ** 2 = 49\n"
     ]
    }
   ],
   "source": [
    "print(\"7 + 2 =\", 7 + 2, \"    7 * 2 =\", 7 * 2,  \"   7 // 2 =\", 7 // 2, \"    7 % 2 =\", 7 % 2)\n",
    "print(\"7 - 2 =\", 7 - 2, \"    7 / 2 =\", 7 / 2,  \"  7 ** 2 =\", 7**2)"
   ]
  },
  {
   "cell_type": "code",
   "execution_count": 23,
   "id": "3756bf68",
   "metadata": {},
   "outputs": [
    {
     "name": "stdout",
     "output_type": "stream",
     "text": [
      "(-5.1+10.3j)\n",
      "(4.1+6.1j)\n",
      "(2.1+2.0999999999999996j)\n",
      "(1-2j) (0.11663140540859289+0.056098418726851895j)\n"
     ]
    }
   ],
   "source": [
    "x = complex(1, 2)      # Create, store the complex number 1 + 2 j .\n",
    "y = complex(3.1, 4.1)  # Create, store the complex number 3.1 + 4.1 j .\n",
    "z = 5\n",
    "\n",
    "print(y * x)\n",
    "print(y + x)\n",
    "print(y - x)\n",
    "print(z / x, x ** y)"
   ]
  },
  {
   "cell_type": "markdown",
   "id": "392292e2",
   "metadata": {},
   "source": [
    "🚫 Division by zero results in an error of type `ZeroDivisionError`:"
   ]
  },
  {
   "cell_type": "code",
   "execution_count": 24,
   "id": "6761c3d0",
   "metadata": {
    "scrolled": true
   },
   "outputs": [
    {
     "ename": "ZeroDivisionError",
     "evalue": "float division by zero",
     "output_type": "error",
     "traceback": [
      "\u001b[0;31m---------------------------------------------------------------------------\u001b[0m",
      "\u001b[0;31mZeroDivisionError\u001b[0m                         Traceback (most recent call last)",
      "Input \u001b[0;32mIn [24]\u001b[0m, in \u001b[0;36m<cell line: 1>\u001b[0;34m()\u001b[0m\n\u001b[0;32m----> 1\u001b[0m \u001b[38;5;241;43m2.14\u001b[39;49m\u001b[43m \u001b[49m\u001b[38;5;241;43m/\u001b[39;49m\u001b[43m \u001b[49m\u001b[38;5;241;43m0.0\u001b[39;49m\n",
      "\u001b[0;31mZeroDivisionError\u001b[0m: float division by zero"
     ]
    }
   ],
   "source": [
    "2.14 / 0.0"
   ]
  },
  {
   "cell_type": "markdown",
   "id": "46232510",
   "metadata": {},
   "source": [
    "Besides these binary arithmetic operators, we can also make use of the following functions when working with numerical values:\n",
    "* `abs`, the **absolute value** function, which takes a single numerical argument;\n",
    "* `max` and `min`, the **maximum** and **minimum** functions, which can take any number of (float or integer) arguments, separated by commas.\n",
    "\n",
    "#### Example:"
   ]
  },
  {
   "cell_type": "code",
   "execution_count": 25,
   "id": "fdb33e6b",
   "metadata": {
    "scrolled": true
   },
   "outputs": [
    {
     "name": "stdout",
     "output_type": "stream",
     "text": [
      "3.1415\n",
      "2\n",
      "5.0\n",
      "10.45\n",
      "-23\n"
     ]
    }
   ],
   "source": [
    "print(abs(-3.1415))\n",
    "print(abs(2))\n",
    "print(abs(-3 + 4j))\n",
    "# Can you explain why abs(-3 + 4j) = 5.0?\n",
    "# Hint: the modulus of a complex number a + bj is given by\n",
    "# the square root of a**2 + b**2.\n",
    "\n",
    "print(max(-5.3, 2, 10.45, -23, 0))\n",
    "print(min(-5.3, 2, 10.45, -23, 0))"
   ]
  },
  {
   "cell_type": "markdown",
   "id": "d61922d0",
   "metadata": {},
   "source": [
    "Other common mathematical functions such as the exponential, the logarithm and the trigonometric functions can be used after importing the `math` module (more about this later)."
   ]
  },
  {
   "cell_type": "markdown",
   "id": "c390e02c",
   "metadata": {},
   "source": [
    "### 3.3 Compound assignment operators\n",
    "\n",
    "Corresponding to each of the arithmetic operators considered above, Python provides the following **compound assignment operators** (taken from C), which are used to perform an operation in-place on a variable provided as its first operand:\n",
    "\n",
    "    +=, -=, *=, /=, **=, //=, %=\n",
    "\n",
    "Their meaning will be clear from the following examples:\n",
    "\n",
    "| Example             | Equivalent statement |\n",
    "| :--------           | :---------           |\n",
    "| `x += 3.14`         | ` x = x + 3.14`      |\n",
    "| `x -= (2  + 3j)`    | `x = x - (2 + 3j)`   |\n",
    "| `x *= 2`            | `x = x * 2`          |\n",
    "| `x /= 3`            | `x = x / 3`          |\n",
    "| `x **= 0.5`         | `x = x**0.5`         |\n",
    "| `x //= z`           | `x = x // z`         |\n",
    "| `x %= y**2`         | `x = x % (y**2)`     |\n",
    "\n",
    "In each case, the _new_ value of the variable _x_ is given by the expression on the right, where the _old_ value of _x_ is used in the computation.\n",
    "\n",
    "#### Example:"
   ]
  },
  {
   "cell_type": "code",
   "execution_count": 26,
   "id": "97893906",
   "metadata": {},
   "outputs": [
    {
     "name": "stdout",
     "output_type": "stream",
     "text": [
      "2 3\n",
      "2 1\n"
     ]
    }
   ],
   "source": [
    "x = 7\n",
    "y = 5\n",
    "\n",
    "x -= y         # x = 7 - 5 = 2\n",
    "y -= x         # y = 5 - 2 = 3\n",
    "\n",
    "print(x, y)\n",
    "\n",
    "x **= y        # x = 2**3 = 8\n",
    "x -= 6         # x = 8 - 6 = 2\n",
    "y //= x        # y = 3 // 2 = 1\n",
    "\n",
    "print(x, y)"
   ]
  },
  {
   "cell_type": "markdown",
   "id": "a7448b02",
   "metadata": {},
   "source": [
    "### 3.4 Comparison operators <a name=\"comparison\"></a>\n",
    "\n",
    "The following binary comparison operators can be applied to floating-point numbers and integers. Each of them returns either `True` or `False`.\n",
    "\n",
    "| Operator   | Translation                |\n",
    "| :--------  | :---------                 |\n",
    "| `==`       | Equal to                   |\n",
    "| `!=`       | Not equal to               |\n",
    "| `<`        | Less than                  |\n",
    "| `>`        | Greater than               |\n",
    "| `<=`       | Less than or equal to      |\n",
    "| `>=`       | Greater than or equal to   |\n",
    "\n",
    "<div class=\"alert alert-warning\">It is a common mistake for beginners to confuse the assignment operator <code>=</code> with the equality operator <code>==</code>; this can lead to errors, explicitly or otherwise.</div>\n",
    "\n",
    "As we will see later, these comparison operators also work on other types, such as strings. \n",
    "\n",
    "📝 If a comparison is made between two values of different types, then the interpreter will first try to convert them to a common type; e.g., if one compares an integer to a float, then the integer is first converted to a float.\n",
    "\n",
    "#### Example:"
   ]
  },
  {
   "cell_type": "code",
   "execution_count": 27,
   "id": "af74a0a1",
   "metadata": {},
   "outputs": [
    {
     "name": "stdout",
     "output_type": "stream",
     "text": [
      "True\n",
      "True\n",
      "True\n"
     ]
    }
   ],
   "source": [
    "a = 8\n",
    "b = 7.99\n",
    "c = -23\n",
    "\n",
    "print(a > b)\n",
    "print(a != b)\n",
    "print((c <= a) and (a >= b))"
   ]
  },
  {
   "cell_type": "markdown",
   "id": "8b04a480",
   "metadata": {},
   "source": [
    "## 4 Strings<a name=\"strings\"></a>"
   ]
  },
  {
   "cell_type": "markdown",
   "id": "e8cdb785",
   "metadata": {},
   "source": [
    "### 4.1 Strings as sequences of characters\n",
    "A __string__ is a sequence of characters enclosed in either single `'` or double `\"` quotes. The type corresponding to strings is denoted by `str`.\n",
    "\n",
    "To get the $ i $-th character of a string called, say, $ s $, use `s[i]`; the output is also string (albeit one having only $ 1 $ character).\n",
    "\n",
    "<div class=\"alert alert-warning\">In Python, indices are <i>always</i> counted starting from <b> $ 0 $  (zero)</b>, not $ 1 $. To avoid confusion, we adapt our terminology accordingly to speak of, e.g., 'm' as the <i>0-th</i> character of the string 'magic', 'a' as its first character, and so on...</div>\n",
    "\n",
    "📝 By prefixing an index with a minus sign $ - $, we start counting to the 'left' from the 0-th character. For example, `s[-1]` is the _last_ character of $ s $, `s[-2]` its *next-to-last* character, and so on.\n",
    "\n",
    "#### Example:"
   ]
  },
  {
   "cell_type": "code",
   "execution_count": 28,
   "id": "736f5152",
   "metadata": {
    "scrolled": true
   },
   "outputs": [
    {
     "name": "stdout",
     "output_type": "stream",
     "text": [
      "G <class 'str'>\n",
      "o\n",
      "!\n",
      "Go!\n"
     ]
    }
   ],
   "source": [
    "g = \"Gandalf\"\n",
    "s = \"Sauron\"\n",
    "explosion = \"BOOM!\"\n",
    "\n",
    "character = g[0]\n",
    "print(character, type(character))\n",
    "\n",
    "another_character = s[4]\n",
    "print(another_character)\n",
    "\n",
    "yet_another_character = explosion[-1]\n",
    "print(yet_another_character)\n",
    "\n",
    "# Since these characters are actually strings, we can concatenate them using '+':\n",
    "print(character + another_character + yet_another_character)"
   ]
  },
  {
   "cell_type": "markdown",
   "id": "c3f80644",
   "metadata": {},
   "source": [
    "### 4.2 Operations on strings\n",
    "\n",
    "As in the preceding example, strings can be __concatenated__ using the binary operator __+__:"
   ]
  },
  {
   "cell_type": "code",
   "execution_count": 29,
   "id": "d9ce99dc",
   "metadata": {},
   "outputs": [
    {
     "name": "stdout",
     "output_type": "stream",
     "text": [
      "ancientmagic\n",
      "ancient magic spells\n"
     ]
    }
   ],
   "source": [
    "string_1 = \"ancient\"\n",
    "string_2 = \"magic\"\n",
    "string_3 = \"spells\"\n",
    "\n",
    "print(string_1 + string_2)\n",
    "print(string_1 + \" \" + string_2 + \" \" + string_3)"
   ]
  },
  {
   "cell_type": "markdown",
   "id": "e911cedb",
   "metadata": {},
   "source": [
    "The function `len` applied to a string returns its **length**, i.e., the number of characters it contains, which is always a non-negative integer.\n",
    "\n",
    "#### Example:"
   ]
  },
  {
   "cell_type": "code",
   "execution_count": 30,
   "id": "be79c27f",
   "metadata": {},
   "outputs": [
    {
     "name": "stdout",
     "output_type": "stream",
     "text": [
      "7\n",
      "5\n",
      "6\n"
     ]
    }
   ],
   "source": [
    "print(len(string_1))\n",
    "print(len(string_2))\n",
    "print(len(string_3))"
   ]
  },
  {
   "cell_type": "markdown",
   "id": "7a57d463",
   "metadata": {},
   "source": [
    "🚫 A string is an __immutable__ object, meaning that its individual characters _cannot_ be modified during the program. Trying to do so will make the interpreter throw a `TypeError`."
   ]
  },
  {
   "cell_type": "code",
   "execution_count": 31,
   "id": "f890d44a",
   "metadata": {
    "scrolled": true
   },
   "outputs": [
    {
     "ename": "TypeError",
     "evalue": "'str' object does not support item assignment",
     "output_type": "error",
     "traceback": [
      "\u001b[0;31m---------------------------------------------------------------------------\u001b[0m",
      "\u001b[0;31mTypeError\u001b[0m                                 Traceback (most recent call last)",
      "Input \u001b[0;32mIn [31]\u001b[0m, in \u001b[0;36m<cell line: 2>\u001b[0;34m()\u001b[0m\n\u001b[1;32m      1\u001b[0m \u001b[38;5;66;03m# Let's try to modify the first string of g to see what happens:\u001b[39;00m\n\u001b[0;32m----> 2\u001b[0m g[\u001b[38;5;241m0\u001b[39m] \u001b[38;5;241m=\u001b[39m \u001b[38;5;124m'\u001b[39m\u001b[38;5;124mR\u001b[39m\u001b[38;5;124m'\u001b[39m\n",
      "\u001b[0;31mTypeError\u001b[0m: 'str' object does not support item assignment"
     ]
    }
   ],
   "source": [
    "# Let's try to modify the first string of g to see what happens:\n",
    "g[0] = 'R'"
   ]
  },
  {
   "cell_type": "markdown",
   "id": "1078b03c",
   "metadata": {},
   "source": [
    "The **colon operator `:`**, as in `[i:j]`, is used to __slice__ a string from its $ i $-th character (inclusive) to its $ j $-th character (exclusive).\n",
    "\n",
    "#### Example:"
   ]
  },
  {
   "cell_type": "code",
   "execution_count": 32,
   "id": "33634496",
   "metadata": {
    "scrolled": true
   },
   "outputs": [
    {
     "name": "stdout",
     "output_type": "stream",
     "text": [
      "ma\n",
      "gic\n",
      "ma\n",
      "gic\n"
     ]
    }
   ],
   "source": [
    "string = 'magic'\n",
    "\n",
    "print(string[0:2])   # Slice from the 0th character to the 2nd (not including the 2nd).\n",
    "print(string[2:5])   # Slice from the 2nd character to the 5th (not including the 5th).\n",
    "\n",
    "print(string[:2])    # Omit the first index to slice from the beginning to the second index.\n",
    "print(string[2:])    # Omit the second index to slice from the first index to the end."
   ]
  },
  {
   "cell_type": "markdown",
   "id": "4d043614",
   "metadata": {},
   "source": [
    "⚠️ To make an independent copy of a string, use a *complete slice* `[:]`.\n",
    "\n",
    "#### Example:"
   ]
  },
  {
   "cell_type": "code",
   "execution_count": 33,
   "id": "b2571ab7",
   "metadata": {},
   "outputs": [
    {
     "name": "stdout",
     "output_type": "stream",
     "text": [
      "magic potion\n"
     ]
    }
   ],
   "source": [
    "string_1 = 'potion'\n",
    "string_2 = string_1[:]    # Omit both indices to make an independent _copy_ of the original string.\n",
    "\n",
    "string_1 = 'magic'\n",
    "\n",
    "print(string_1, string_2)"
   ]
  },
  {
   "cell_type": "markdown",
   "id": "29966214",
   "metadata": {},
   "source": [
    "📝 In analogy with the interpretation of `+` as concatenation of strings, if one 'multiplies', using `*`, a string by a positive integer $ n $, then the result is a new string which consists of $ n $ copies of the original concatenated, one after another. The remaining arithmetic operators (`-`, `/`, `//` and `%`) cannot be applied to strings.\n",
    "\n",
    "#### Example:"
   ]
  },
  {
   "cell_type": "code",
   "execution_count": 34,
   "id": "7ccad5c2",
   "metadata": {},
   "outputs": [
    {
     "name": "stdout",
     "output_type": "stream",
     "text": [
      "hahahahaha\n",
      "\n"
     ]
    }
   ],
   "source": [
    "s = 'ha'\n",
    "t = 5 * s       # t consists of 5 copies of s.\n",
    "print(t)\n",
    "\n",
    "u = (-4) * s    # What happens if we multiply s by 0 or by a negative integer?\n",
    "print(u)"
   ]
  },
  {
   "cell_type": "code",
   "execution_count": 35,
   "id": "14422de0",
   "metadata": {},
   "outputs": [
    {
     "ename": "TypeError",
     "evalue": "unsupported operand type(s) for //: 'str' and 'str'",
     "output_type": "error",
     "traceback": [
      "\u001b[0;31m---------------------------------------------------------------------------\u001b[0m",
      "\u001b[0;31mTypeError\u001b[0m                                 Traceback (most recent call last)",
      "Input \u001b[0;32mIn [35]\u001b[0m, in \u001b[0;36m<cell line: 1>\u001b[0;34m()\u001b[0m\n\u001b[0;32m----> 1\u001b[0m \u001b[38;5;28mprint\u001b[39m(\u001b[43mt\u001b[49m\u001b[43m \u001b[49m\u001b[38;5;241;43m/\u001b[39;49m\u001b[38;5;241;43m/\u001b[39;49m\u001b[43m \u001b[49m\u001b[43ms\u001b[49m)\n",
      "\u001b[0;31mTypeError\u001b[0m: unsupported operand type(s) for //: 'str' and 'str'"
     ]
    }
   ],
   "source": [
    "print(t // s)   # We can't divide two strings!"
   ]
  },
  {
   "cell_type": "code",
   "execution_count": 36,
   "id": "2a32175d",
   "metadata": {},
   "outputs": [
    {
     "ename": "TypeError",
     "evalue": "can't multiply sequence by non-int of type 'float'",
     "output_type": "error",
     "traceback": [
      "\u001b[0;31m---------------------------------------------------------------------------\u001b[0m",
      "\u001b[0;31mTypeError\u001b[0m                                 Traceback (most recent call last)",
      "Input \u001b[0;32mIn [36]\u001b[0m, in \u001b[0;36m<cell line: 1>\u001b[0;34m()\u001b[0m\n\u001b[0;32m----> 1\u001b[0m v \u001b[38;5;241m=\u001b[39m \u001b[38;5;241;43m2.71\u001b[39;49m\u001b[43m \u001b[49m\u001b[38;5;241;43m*\u001b[39;49m\u001b[43m \u001b[49m\u001b[43ms\u001b[49m\n",
      "\u001b[0;31mTypeError\u001b[0m: can't multiply sequence by non-int of type 'float'"
     ]
    }
   ],
   "source": [
    "v = 2.71 * s    # Can we multiply a string by a float?"
   ]
  },
  {
   "cell_type": "markdown",
   "id": "9238b97a",
   "metadata": {},
   "source": [
    "### 4.3  Comparing strings\n",
    "\n",
    "📝 All of the comparison operators introduced in [Section 3.4](#comparison) work for strings as well. Strings are ordered according to the **dictionary order**:"
   ]
  },
  {
   "cell_type": "code",
   "execution_count": 37,
   "id": "e8c344f0",
   "metadata": {},
   "outputs": [
    {
     "name": "stdout",
     "output_type": "stream",
     "text": [
      "False\n",
      "True\n",
      "False\n",
      "True\n",
      "True\n"
     ]
    }
   ],
   "source": [
    "a = \"potion\"\n",
    "b = \"portion\"\n",
    "q = \"quarterstaff\"  \n",
    "r = \"robe\"\n",
    "\n",
    "print(a < b)\n",
    "print(b < q)\n",
    "print(a == q)\n",
    "print(q != r)\n",
    "print(q <= r)"
   ]
  },
  {
   "cell_type": "markdown",
   "id": "232ce2d3",
   "metadata": {},
   "source": [
    "## 5 Lists"
   ]
  },
  {
   "cell_type": "markdown",
   "id": "a4657b45",
   "metadata": {},
   "source": [
    "### 5.1 The `list` type\n",
    "\n",
    "A **list** (that is, an object of type `list`) consists of zero, one or several objects ordered in sequence. The items of a list are allowed to be of *any* type, and the types of different elements do not have to be the same. In particular, one can create lists which contain integers, floats and strings; lists whose elements are other lists or tuples; lists of lists of functions, and so on.\n",
    "\n",
    "A list is represented using *brackets* `[]`, with its elements separated by commas. The function `len` can be used to count the number of items contained in a list.\n",
    "\n",
    "#### Example:"
   ]
  },
  {
   "cell_type": "code",
   "execution_count": 38,
   "id": "ba20f533",
   "metadata": {
    "scrolled": true
   },
   "outputs": [
    {
     "name": "stdout",
     "output_type": "stream",
     "text": [
      "4\n",
      "0\n",
      "['acai', 'apple', 'apricot', 'avocado', 'Delfador']\n"
     ]
    }
   ],
   "source": [
    "fruits = [\"acai\", 'apple', \"apricot\", 'avocado']\n",
    "numbers = [0, 'eight', -53, 12.34, (3 + 4j)]       # The elements of a list can be of different types!\n",
    "empty = []                                         # This is an empty list.\n",
    "mages = ['Delfador']                               # This list has a single element.\n",
    "\n",
    "print(len(fruits))                                 # Use 'len' to get the length of a list.\n",
    "print(len(empty))\n",
    "\n",
    "new_list = fruits + mages                          # We can concatenate two lists using '+'.\n",
    "print(new_list)"
   ]
  },
  {
   "cell_type": "markdown",
   "id": "6c0a03b1",
   "metadata": {},
   "source": [
    "📝 Just like strings, lists can be **concatenated** with the `+` operator, 'multiplied' by positive integers using `*` and **sliced** with the `:` operator."
   ]
  },
  {
   "cell_type": "markdown",
   "id": "b4d62f53",
   "metadata": {},
   "source": [
    "### 5.2 Modifying lists\n",
    "\n",
    "In contrast to strings, lists are **mutable** objects, meaning that their individual elements can be modified by assignments.\n",
    "\n",
    "#### Example:"
   ]
  },
  {
   "cell_type": "code",
   "execution_count": 39,
   "id": "55ab721a",
   "metadata": {
    "scrolled": true
   },
   "outputs": [
    {
     "name": "stdout",
     "output_type": "stream",
     "text": [
      "['Elminster', 'Merlin', 'Viconia', 'Gorion', 'Dumbledore']\n",
      "['Elminster', 'Saruman', 'Viconia', 'Gorion', 'Dumbledore']\n",
      "['Elminster', 'Saruman', 'Galadriel', 'Delfador', 'Dumbledore']\n",
      "['Elminster', 'Saruman']\n"
     ]
    }
   ],
   "source": [
    "wizards = [\"Elminster\", \"Merlin\", \"Viconia\", \"Gorion\", \"Dumbledore\"]\n",
    "print(wizards)\n",
    "\n",
    "wizards[1] = \"Saruman\"                    # Modify the 1st (not 0th!) element of the list.\n",
    "print(wizards)\n",
    "\n",
    "wizards[2:4] = [\"Galadriel\", \"Delfador\"]  # Modify the specified elements.\n",
    "print(wizards)\n",
    "\n",
    "print(wizards[:2])                        # Print the first two wizards."
   ]
  },
  {
   "cell_type": "markdown",
   "id": "132e8bb7",
   "metadata": {},
   "source": [
    "⚠️ Before a list can store an item whose index is $ k $, it must have items associated with *every* index between $ 0 $ and $ k - 1 $. Trying to modify or access in any way the element of index $ k $ in a list which currently does not have such an element generates an `IndexError`.\n",
    "\n",
    "**Example:**"
   ]
  },
  {
   "cell_type": "code",
   "execution_count": 40,
   "id": "4e6c124c",
   "metadata": {},
   "outputs": [
    {
     "ename": "IndexError",
     "evalue": "list index out of range",
     "output_type": "error",
     "traceback": [
      "\u001b[0;31m---------------------------------------------------------------------------\u001b[0m",
      "\u001b[0;31mIndexError\u001b[0m                                Traceback (most recent call last)",
      "Input \u001b[0;32mIn [40]\u001b[0m, in \u001b[0;36m<cell line: 2>\u001b[0;34m()\u001b[0m\n\u001b[1;32m      1\u001b[0m drinks \u001b[38;5;241m=\u001b[39m [\u001b[38;5;124m\"\u001b[39m\u001b[38;5;124mcoffee\u001b[39m\u001b[38;5;124m\"\u001b[39m, \u001b[38;5;124m\"\u001b[39m\u001b[38;5;124mtea\u001b[39m\u001b[38;5;124m\"\u001b[39m, \u001b[38;5;124m\"\u001b[39m\u001b[38;5;124mwater\u001b[39m\u001b[38;5;124m\"\u001b[39m]\n\u001b[0;32m----> 2\u001b[0m \u001b[38;5;28mprint\u001b[39m(\u001b[43mdrinks\u001b[49m\u001b[43m[\u001b[49m\u001b[38;5;241;43m3\u001b[39;49m\u001b[43m]\u001b[49m)\n",
      "\u001b[0;31mIndexError\u001b[0m: list index out of range"
     ]
    }
   ],
   "source": [
    "drinks = [\"coffee\", \"tea\", \"water\"]\n",
    "print(drinks[3])"
   ]
  },
  {
   "cell_type": "code",
   "execution_count": 41,
   "id": "655d7c2c",
   "metadata": {},
   "outputs": [
    {
     "ename": "IndexError",
     "evalue": "list assignment index out of range",
     "output_type": "error",
     "traceback": [
      "\u001b[0;31m---------------------------------------------------------------------------\u001b[0m",
      "\u001b[0;31mIndexError\u001b[0m                                Traceback (most recent call last)",
      "Input \u001b[0;32mIn [41]\u001b[0m, in \u001b[0;36m<cell line: 2>\u001b[0;34m()\u001b[0m\n\u001b[1;32m      1\u001b[0m drinks \u001b[38;5;241m=\u001b[39m [\u001b[38;5;124m\"\u001b[39m\u001b[38;5;124mcoffee\u001b[39m\u001b[38;5;124m\"\u001b[39m, \u001b[38;5;124m\"\u001b[39m\u001b[38;5;124mtea\u001b[39m\u001b[38;5;124m\"\u001b[39m, \u001b[38;5;124m\"\u001b[39m\u001b[38;5;124mwater\u001b[39m\u001b[38;5;124m\"\u001b[39m]\n\u001b[0;32m----> 2\u001b[0m drinks[\u001b[38;5;241m3\u001b[39m] \u001b[38;5;241m=\u001b[39m \u001b[38;5;124m\"\u001b[39m\u001b[38;5;124morange juice\u001b[39m\u001b[38;5;124m\"\u001b[39m\n",
      "\u001b[0;31mIndexError\u001b[0m: list assignment index out of range"
     ]
    }
   ],
   "source": [
    "drinks = [\"coffee\", \"tea\", \"water\"]\n",
    "drinks[3] = \"orange juice\""
   ]
  },
  {
   "cell_type": "markdown",
   "id": "3983adb5",
   "metadata": {},
   "source": [
    "### 5.3 Some methods defined on lists\n",
    "\n",
    "Lists also support several methods (a **method** is a function associated with a specific class or type). Here are examples of how some of them are used.\n",
    "\n",
    "#### Example:"
   ]
  },
  {
   "cell_type": "code",
   "execution_count": 42,
   "id": "97e80ef1",
   "metadata": {},
   "outputs": [
    {
     "name": "stdout",
     "output_type": "stream",
     "text": [
      "['avocado', 'apricot', 'acai', 'apple', 'apple']\n",
      "['strawberry', 'avocado', 'apricot', 'acai', 'apple', 'apple']\n",
      "['strawberry', 'avocado', 'apricot', 'acai', 'apple']\n",
      "['strawberry', 'avocado', 'acai', 'apple']\n",
      "['strawberry', 'avocado', 'acai']\n",
      "apricot apple\n",
      "['acai', 'avocado', 'strawberry']\n"
     ]
    }
   ],
   "source": [
    "fruits = [\"avocado\", 'apricot', \"acai\", 'apple']\n",
    "\n",
    "fruits.append('apple')            # Append an element to the end of a list.\n",
    "print(fruits)\n",
    "\n",
    "fruits.insert(0, \"strawberry\")    # Insert an element in a specified position.\n",
    "print(fruits)\n",
    "\n",
    "fruits.remove('apple')            # Remove the _first occurrence_ of an element.\n",
    "print(fruits)\n",
    "\n",
    "a = fruits.pop(2)                 # Remove the element having the specified index               \n",
    "print(fruits)                     # and return it as output. \n",
    "\n",
    "b = fruits.pop()                  # Use 'pop' without any arguments to remove the\n",
    "print(fruits)                     # last item of a list and return it as output.\n",
    "\n",
    "print(a, b)\n",
    "\n",
    "fruits.sort()\n",
    "print(fruits)"
   ]
  },
  {
   "cell_type": "markdown",
   "id": "93a0a6ff",
   "metadata": {},
   "source": [
    "Note that, in each case, the name of the list appears before the method, and is separated from it by a period (`.`). More formally:\n",
    "\n",
    "* `append(x)` can be used to append an element $ x $ to the _end_ of a list.\n",
    "* `insert(i, x)` is used to insert an element $ x $ in an arbitrary position $ i $ of a list. Elements having indices $ < i $ remain in their original position, while those having indices $ \\ge i $ are shifted one position to the right.\n",
    "* `remove(x)` is used to remove the *first occurrence* of an item $ x $ of a list. If the list does not contain any instances of this element, then the interpreter throws a `TypeError`.\n",
    "* `sort(lst)` is used to **sort** the elements of a list _lst_ in ascending order, provided this makes sense.\n",
    "* `pop(i)` removes the item of the list at index $ i $.\n",
    "\n",
    "📝 The first four of these methods modify the list as described, _but they return_ `None` as output. However, `pop` returns the popped element as output.\n",
    "\n",
    "#### Example:"
   ]
  },
  {
   "cell_type": "code",
   "execution_count": 43,
   "id": "9a961b8b",
   "metadata": {
    "scrolled": true
   },
   "outputs": [
    {
     "name": "stdout",
     "output_type": "stream",
     "text": [
      "None\n",
      "None\n",
      "['acai', 'avocado', 'banana', 'strawberry']\n"
     ]
    }
   ],
   "source": [
    "a = fruits.insert(0, \"banana\")\n",
    "print(a)\n",
    "\n",
    "b = fruits.sort()\n",
    "print(b)\n",
    "print(fruits)"
   ]
  },
  {
   "cell_type": "markdown",
   "id": "4eb1bcd2",
   "metadata": {},
   "source": [
    "<div class=\"alert alert-warning\">If $ x $ stores a <i>mutable</i> object, then the assignment <code>y = x</code> does not result in a new <i>object</i> named $ y $; instead, this just makes $ y $ a new pointer to the object stored by $ x $. Because of this, any modification of the value of $ x $ will affect $ y $, and vice-versa.</div>\n",
    "\n",
    "#### Example:"
   ]
  },
  {
   "cell_type": "code",
   "execution_count": 44,
   "id": "56917c9b",
   "metadata": {},
   "outputs": [
    {
     "data": {
      "text/plain": [
       "[0, 1]"
      ]
     },
     "execution_count": 44,
     "metadata": {},
     "output_type": "execute_result"
    }
   ],
   "source": [
    "x = [0, 1, 2]\n",
    "y = x\n",
    "\n",
    "x.pop()         # Popping an element from x also affects y,\n",
    "y               # since they refer to the same object!"
   ]
  },
  {
   "cell_type": "code",
   "execution_count": 45,
   "id": "ab7bb732",
   "metadata": {},
   "outputs": [
    {
     "data": {
      "text/plain": [
       "[0, 1, 2]"
      ]
     },
     "execution_count": 45,
     "metadata": {},
     "output_type": "execute_result"
    }
   ],
   "source": [
    "x = [0, 1, 2]    # To create an independent copy of x, use a complete slice:\n",
    "y = x[:]\n",
    "\n",
    "x.pop()\n",
    "y                # y has not been affected by the modification of x."
   ]
  },
  {
   "cell_type": "markdown",
   "id": "173b8663",
   "metadata": {},
   "source": [
    "## 6 Tuples\n",
    "\n",
    "### 6.1 The `tuple` type\n",
    "\n",
    "Another sequential data type is `tuple`, the type of **tuples**. Like a list, a tuple is a sequence of non-negative length of objects of arbitrary types, separated by commas. However, tuples are enclosed by *parentheses* `()` instead of brackets. Also, tuples are **immutable** (like strings), so that their individual elements _cannot_ be modified.\n",
    "\n",
    "### 6.2 Operations on tuples\n",
    "\n",
    "As for the other sequential types that we have considered (strings and lists), tuples can be concatenated with `+`, their length can be retrieved using `len`, and their elements and slices can be accessed using `[]` and the `:` operator.\n",
    "\n",
    "#### Example:"
   ]
  },
  {
   "cell_type": "code",
   "execution_count": 46,
   "id": "140f7d80",
   "metadata": {},
   "outputs": [
    {
     "name": "stdout",
     "output_type": "stream",
     "text": [
      "<class 'tuple'>\n",
      "Albert\n",
      "chemist\n",
      "England\n"
     ]
    }
   ],
   "source": [
    "# Each of the following tuples records some data about famous scientists:\n",
    "record_1 = ('Albert', 'Einstein', 'physicist', 26, 'Germany')\n",
    "record_2 = ('Marie', 'Curie', 'chemist', 32, 'Poland')\n",
    "record_3 = ('Charles', 'Darwin', 'biologist', 50, 'England')\n",
    "\n",
    "# Each of them is indeed of type 'tuple':\n",
    "print(type(record_1))\n",
    "\n",
    "# Accessing individual elements:\n",
    "print(record_1[0])\n",
    "print(record_2[2])\n",
    "print(record_3[-1])"
   ]
  },
  {
   "cell_type": "code",
   "execution_count": 47,
   "id": "c751da2e",
   "metadata": {},
   "outputs": [
    {
     "name": "stdout",
     "output_type": "stream",
     "text": [
      "('Albert', 'Einstein')\n"
     ]
    }
   ],
   "source": [
    "# Slicing:\n",
    "full_name = record_1[:2]\n",
    "print(full_name)"
   ]
  },
  {
   "cell_type": "code",
   "execution_count": 48,
   "id": "20f1e72e",
   "metadata": {
    "scrolled": true
   },
   "outputs": [
    {
     "name": "stdout",
     "output_type": "stream",
     "text": [
      "['Albert', 'Einstein', 'physicist', 26, 'Germany'] <class 'list'>\n",
      "('Plato', 'Aristotle', 'Seneca', 'Socrates') <class 'tuple'>\n"
     ]
    }
   ],
   "source": [
    "# To convert a tuple to a list, use 'list' as a function:\n",
    "data = list(record_1)\n",
    "print(data, type(data))\n",
    "\n",
    "# Similarly, to convert a list to a tuple, use 'tuple' as a function:\n",
    "philosophers = [\"Plato\", \"Aristotle\", \"Seneca\", \"Socrates\"]\n",
    "tuple_of_philosophers = tuple(philosophers)\n",
    "print(tuple_of_philosophers, type(tuple_of_philosophers))"
   ]
  },
  {
   "cell_type": "markdown",
   "id": "c2877a74",
   "metadata": {},
   "source": [
    "### 6.3 Some warnings"
   ]
  },
  {
   "cell_type": "markdown",
   "id": "f451e8dc",
   "metadata": {},
   "source": [
    "⚠️ To define a tuple consisting of a single item, a comma must still be used, so that the tuple can be disambiguated from an expression surrounded by parentheses:"
   ]
  },
  {
   "cell_type": "code",
   "execution_count": 49,
   "id": "25d387d9",
   "metadata": {},
   "outputs": [
    {
     "name": "stdout",
     "output_type": "stream",
     "text": [
      "('Sindarin',) <class 'tuple'>\n",
      "Sindarin <class 'str'>\n"
     ]
    }
   ],
   "source": [
    "language = ('Sindarin', )         # To define a tuple, we must include a comma!\n",
    "print(language, type(language))\n",
    "\n",
    "lang = ('Sindarin')               # This is not a tuple, but rather a string;\n",
    "print(lang, type(lang))           # the parentheses play no role in this case.\n"
   ]
  },
  {
   "cell_type": "markdown",
   "id": "16155d22",
   "metadata": {},
   "source": [
    "🚫 Since a tuple is _immutable_, an attempt to modify one or more of its elements results in a `TypeError`:"
   ]
  },
  {
   "cell_type": "code",
   "execution_count": 50,
   "id": "f39d2199",
   "metadata": {
    "scrolled": true
   },
   "outputs": [
    {
     "ename": "TypeError",
     "evalue": "'tuple' object does not support item assignment",
     "output_type": "error",
     "traceback": [
      "\u001b[0;31m---------------------------------------------------------------------------\u001b[0m",
      "\u001b[0;31mTypeError\u001b[0m                                 Traceback (most recent call last)",
      "Input \u001b[0;32mIn [50]\u001b[0m, in \u001b[0;36m<cell line: 2>\u001b[0;34m()\u001b[0m\n\u001b[1;32m      1\u001b[0m coordinates \u001b[38;5;241m=\u001b[39m (\u001b[38;5;241m1.234\u001b[39m, \u001b[38;5;241m5.678\u001b[39m)\n\u001b[0;32m----> 2\u001b[0m coordinates[\u001b[38;5;241m0\u001b[39m] \u001b[38;5;241m=\u001b[39m \u001b[38;5;241m0.123\u001b[39m\n",
      "\u001b[0;31mTypeError\u001b[0m: 'tuple' object does not support item assignment"
     ]
    }
   ],
   "source": [
    "coordinates = (1.234, 5.678)\n",
    "coordinates[0] = 0.123"
   ]
  },
  {
   "cell_type": "markdown",
   "id": "f0b36556",
   "metadata": {},
   "source": [
    "⚠️ We emphasize that even if $ x $ and $ y $ are two tuples or lists of the same length and whose items are  of the same numerical type, `x + y` is *not* obtained by summing their respective elements; it is instead the *concatenation* of $ x $ and $ y $. Similarly, if $ a $ is a scalar, then `a * x` is *not* obtained by multiplying each item of $ x $ by $ a $, even if $ a $ is an integer."
   ]
  },
  {
   "cell_type": "markdown",
   "id": "c9b34832",
   "metadata": {},
   "source": [
    "<div class=\"alert alert-warning\">Neither lists nor tuples are adequate data structures to represent <b>vectors</b> (in the sense of linear algebra). The most adequate type for this task is an <b>array</b> (type: <code>array</code>, provided by the <a href=\"https://scipy.github.io/old-wiki/pages/Numpy_Example_List.html\"><b>NumPy</b></a> module), which we will consider later.</div>"
   ]
  },
  {
   "cell_type": "markdown",
   "id": "f09150a1",
   "metadata": {},
   "source": [
    "📝 **Question:** Do we really need both lists and tuples? \n",
    "\n",
    "*Answer:* No, strictly speaking we could always get by using only one of them. However, the versatility has many advantages.\n",
    "\n",
    "📝 **Question:** What is the difference between lists and tuples?\n",
    "\n",
    "*Answer:* The main difference is that lists are _mutable_ while tuples are _immutable_. In particular:\n",
    "* We cannot modify the value of individual elements of a tuple as we can with lists.\n",
    "* We cannot remove or add elements to a tuple. Tuples have no methods equivalent to `append`, `pop`, `insert`, `remove`, etc.. In particular, tuples have a fixed length. Even though it is possible to assign a tuple to a variable and then assign another tuple of different length to the same variable, this is not the same operation as modifying the original tuple.\n",
    "* Tuples are generally a bit 'faster' than lists.\n",
    "* Because tuples are immutable, they offer a better choice when storing information which should be protected from modification to avoid unforeseen behavior.\n",
    "\n"
   ]
  },
  {
   "cell_type": "code",
   "execution_count": null,
   "id": "6ffefafb",
   "metadata": {},
   "outputs": [],
   "source": []
  }
 ],
 "metadata": {
  "kernelspec": {
   "display_name": "Python 3 (ipykernel)",
   "language": "python",
   "name": "python3"
  },
  "language_info": {
   "codemirror_mode": {
    "name": "ipython",
    "version": 3
   },
   "file_extension": ".py",
   "mimetype": "text/x-python",
   "name": "python",
   "nbconvert_exporter": "python",
   "pygments_lexer": "ipython3",
   "version": "3.9.13"
  }
 },
 "nbformat": 4,
 "nbformat_minor": 5
}
