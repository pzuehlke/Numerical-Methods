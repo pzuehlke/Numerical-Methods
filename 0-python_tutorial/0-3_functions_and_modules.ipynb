{
 "cells": [
  {
   "cell_type": "markdown",
   "id": "b6f1b490",
   "metadata": {},
   "source": [
    "# Functions and modules\n",
    "\n",
    "## 1 Functions/procedures\n",
    "\n",
    "### 1.1 What is a procedure/function?\n",
    "\n",
    "In the context of programming languages, a **procedure** is a collection of instructions to be performed by the computer to accomplish a given task, packaged as a unit. Procedures are also called **functions** and **subroutines**.\n",
    "\n",
    "📝 The name 'procedure' provides a better idea of the concept. The word 'function' may evoke comparison with the usual functions considered in Mathematics (e.g., real functions of a real variable). However, the notion of a procedure is more general. The difference stems from the fact that a procedure (in Python) can rely on and modify objects other than its arguments. Procedures that exhibit this behavior are said to have **side effects**. For example, the most adequate mathematical representation of a procedure that takes no input and returns no output would be the (unique) function from the empty set to the empty set. However, in Python there are _infinitely many_ such procedures, such as one that prints a message or random number to the screen, modifies the value of a global variable, enters an infinite loop, takes input from the user, writes to a file, raises an error, etc.. Each of these functions modifies the state of the program even though they take no input. Unfortunately, despite this ambiguity, the terminology 'function' has established itself.\n",
    "\n",
    "**Example:** We may (and will, eventually) implement procedures to perform the following tasks:\n",
    "* Take a positive real number (more precisely, a floating-point number) and return (an approximation to) its square root.\n",
    "* Take a positive integer as input and decide whether it is prime;\n",
    "* Take a string as argument and reverse it;\n",
    "* Take a matrix having, say, complex entries, and return its inverse (if it exists);\n",
    "* Take a collection of points in the plane and find the line that best fits them.\n",
    "\n",
    "📝 In the **functional programming (FP)** paradigm, programs are organized by a sequence of function definitions, and tasks are accomplished by composing them. An important idea in this context is that of an **abstraction barrier**: Ideally, each function should have a single task to perform and one should be able to ignore its *implementation* whenever it is called. That is, programs should be organized in such a way that, in order to use a given function, the only relevant information should be what input it requires and what its output will be, but not _how_ this output is obtained. In particular, functions having side effects should be avoided, or at least moved to the edges of the program."
   ]
  },
  {
   "cell_type": "markdown",
   "id": "0a138989",
   "metadata": {},
   "source": [
    "### 1.2 Defining a function with `def`\n",
    "\n",
    "In order to use a function, we must first **define** (or **declare** or **create**) it using `def` as follows.\n",
    "\n",
    "**Example:**"
   ]
  },
  {
   "cell_type": "code",
   "execution_count": 7,
   "id": "bbda3cd7",
   "metadata": {},
   "outputs": [
    {
     "name": "stdout",
     "output_type": "stream",
     "text": [
      "4.000000000000051\n",
      "0.10000052895642693\n",
      "8.426149773176359\n"
     ]
    }
   ],
   "source": [
    "def square_root(x, eps):\n",
    "    \"\"\"Computes an approximation to the square root of a positive number 'x'\n",
    "    within a precision of 'eps', using the Babylonian method:\n",
    "        1. Denote the square root by s;\n",
    "        2. Take any positive initial guess for its value, say s = x.\n",
    "        3. Let the new value of s be the average of s + x / s.\n",
    "        4. Iterate on step 3 until the error is at most eps.\"\"\"\n",
    "    s = x\n",
    "    while abs((s**2 - x)) > eps:    # While hte desired precision has not been achieved:\n",
    "        s = (s + (x / s)) / 2 \n",
    "        \n",
    "    return s\n",
    "\n",
    "\n",
    "eps = 1e-6                          # eps is 10 to the -6.\n",
    "print(square_root(16, eps))         # Call square_root with arguments 16 and eps.\n",
    "print(square_root(1/100, eps))      # Call square_root with arguments 1/100 and eps.\n",
    "print(square_root(71, eps**2))      # Call square_root with arguments 71 and eps squared."
   ]
  },
  {
   "cell_type": "markdown",
   "id": "3cd96130",
   "metadata": {},
   "source": [
    "📝 Some important observations regarding the syntax of a function definition:\n",
    "* Indentation is used to delimit the block containing the definition.\n",
    "* In the first line of the declaration, we introduce the name to be given to the function (in this case, `square_root`) and names for its **parameters**, i.e., the variables that will store the values to be passed by a user of the function (in this case, `x` and `eps`). The parameters are enclosed by parentheses and separated by commas. Finally, this first line should be ended by a *colon* `:`\n",
    "* Immediately below the first line, enclosed in **triple quotes** `\"\"\"`, we provide a concise description of the function, called its **docstring**. This description is optional, but highly recommended. It can include information such as:\n",
    "    * The types of the inputs and outputs;\n",
    "    * The task that the function performs;\n",
    "    * Details about its implementation or the amount of resources (time or memory) required as a function of the parameters;\n",
    "    * Any other information that may be helpful to someone who will use the function.\n",
    "    \n",
    "<div class=\"alert alert-warning\"> Some remarks about function definitions:\n",
    "<ul><li> A function may have any finite number of parameters, including zero. In the latter case, the declaration of a such a function $ f $ would be <code>def f():</code> ...</li>\n",
    "<li> The parameters of a function may be of any type at all, and distinct parameters may have distinct types. For instance, a parameter may be a list, a tuple, another function, a list of functions, etc..\n",
    "<li> The names of the parameters have a scope which is <i>local</i> to the block of the definition.  In particular, the same name $ x $ may store completely different values and types inside and outside the definition of a given function.\n",
    "<li> The <code>return</code> declaration at the end is optional. If it is not provided, then the function returns <code>None</code> by default.\n",
    "<li> To improve readability, it is recommended that a function definition be separated by exactly <i>two</i> newlines from the surrounding code, and that all function definitions in a script be grouped together at the beginning.\n",
    "</ul></div>"
   ]
  },
  {
   "cell_type": "markdown",
   "id": "92cf6239",
   "metadata": {},
   "source": [
    "**Example:** What is the type of a function?"
   ]
  },
  {
   "cell_type": "code",
   "execution_count": 2,
   "id": "74b4ef76",
   "metadata": {},
   "outputs": [
    {
     "name": "stdout",
     "output_type": "stream",
     "text": [
      "<class 'function'>\n",
      "<class 'function'>\n",
      "Help on function get_sum in module __main__:\n",
      "\n",
      "get_sum(x, y)\n",
      "    Takes two numerical values and returns their sum.\n",
      "\n"
     ]
    }
   ],
   "source": [
    "def constant():\n",
    "    \"\"\"A constant function which takes the value 1 for any argument.\"\"\"\n",
    "    return 1\n",
    "\n",
    "\n",
    "def get_sum(x, y):\n",
    "    \"\"\"Takes two numerical values and returns their sum.\"\"\"\n",
    "    return x + y\n",
    "\n",
    "\n",
    "print(type(constant))\n",
    "print(type(get_sum))\n",
    "help(get_sum)            # Prints the signature and docstring of the function get_sum."
   ]
  },
  {
   "cell_type": "markdown",
   "id": "fc3768c3",
   "metadata": {},
   "source": [
    "### 1.3 Type annotations"
   ]
  },
  {
   "cell_type": "markdown",
   "id": "094cfeff",
   "metadata": {},
   "source": [
    "📝 Even though the Python interpreter can infer the type of a variable based on its value, it is sometimes desirable, for the sake of clarity, to indicate this type explicitly in the code. This can be done by a **type annotation**, as in the following example. Note however that these type annotations are ignored by the interpreter. In particular, _they may not match the actual type of the variable_."
   ]
  },
  {
   "cell_type": "code",
   "execution_count": null,
   "id": "20e08301",
   "metadata": {},
   "outputs": [],
   "source": [
    "x: float = 2.0                    # We assign the value 2.0 to x and describe its type as 'int'.\n",
    "y: str = \"some random string\"     # This indicates that y is of type 'str'.               \n",
    "\n",
    "z: int = 3.1415\n",
    "# In the definition of z, we (incorrectly!) annotated the type of z\n",
    "# as being 'int' even though it is actually a float:\n",
    "print(type(z))"
   ]
  },
  {
   "cell_type": "markdown",
   "id": "c103e2c2",
   "metadata": {},
   "source": [
    "📝  We can also annotate the types of the parameters and return value(s) of a function using the syntax in the following example.\n",
    "\n",
    "**Example:** Let us define a function that converts a temperatures in Fahrenheit ($ T_F $) to temperatures in Kelvin ($ T_K$). The formula for the conversion is: \n",
    "\n",
    "$$ T_K = \\frac{5}{9} \\big(T_F - 32\\big) + 273.15 $$"
   ]
  },
  {
   "cell_type": "code",
   "execution_count": null,
   "id": "4bbb1be8",
   "metadata": {},
   "outputs": [],
   "source": [
    "def fahr_to_kelvin(temp_F: float) -> float:\n",
    "    \"\"\" A function that converts a temperature  temp_F measured\n",
    "    in Fahrenheit degrees (F) to its equivalent value in Kelvin (K). \"\"\"\n",
    "    return (5 / 9) * (temp_F - 32) + 273.15\n",
    "\n",
    "\n",
    "# Note the optional type annotation for the parameter temp_F and\n",
    "# for the return type (after the arrow '->').\n",
    "\n",
    "# The freezing point of water is 32 F:\n",
    "freezing_temp_K = fahr_to_kelvin(32)\n",
    "print(freezing_temp_K)\n",
    "\n",
    "# The boiling temperature of water is 212 F:\n",
    "boiling_temp_K = fahr_to_kelvin(212)\n",
    "print(boiling_temp_K)"
   ]
  },
  {
   "cell_type": "markdown",
   "id": "b22bc85b",
   "metadata": {},
   "source": [
    "The formula for converting a temperature $ T_K $ measured in Kelvin to its equivalent $ T_C $ measured in Celsius is even simpler:\n",
    "$$ T_C = T_K - 273.15 $$\n",
    "\n",
    "**Example:**"
   ]
  },
  {
   "cell_type": "code",
   "execution_count": null,
   "id": "323d0048",
   "metadata": {},
   "outputs": [],
   "source": [
    "def kelvin_to_celsius(temp_K: float) -> float:\n",
    "    \"\"\" A function that converts a temperature  temp_K measured\n",
    "    in Kelvin (K) to its equivalent value in Celsius (C) degrees. \"\"\"\n",
    "    return temp_K - 273.15"
   ]
  },
  {
   "cell_type": "markdown",
   "id": "ab2d435b",
   "metadata": {},
   "source": [
    "### 1.4 Function composition\n",
    "\n",
    "We have just defined two functions:\n",
    "* A function `fahr_to_kelvin` which converts from Fahrenheit to Kelvin;\n",
    "* A function `kelvin_to_celsius` which converts from Kelvin to Celsius.\n",
    "\n",
    "We may now easily obtain a function which converts from Fahrenheit to Celsius by **composition** of these two, just as in the context of Mathematics.\n",
    "\n",
    "**Example**:"
   ]
  },
  {
   "cell_type": "code",
   "execution_count": null,
   "id": "78fc47b0",
   "metadata": {},
   "outputs": [],
   "source": [
    "def fahr_to_celsius(temp_F: float) -> float:\n",
    "    return kelvin_to_celsius(fahr_to_kelvin(temp_F))\n",
    "\n",
    "\n",
    "# The freezing point of water is 32 F:\n",
    "freezing_temp_C = fahr_to_celsius(32)\n",
    "print(freezing_temp_C)\n",
    "\n",
    "# The boiling temperature of water is 212 F:\n",
    "boiling_temp_C = fahr_to_celsius(212)\n",
    "print(boiling_temp_C)"
   ]
  },
  {
   "cell_type": "markdown",
   "id": "c605734c",
   "metadata": {},
   "source": [
    "## 2 Importing modules\n",
    "\n",
    "A module is a Python script which can contain a collection of function declarations and executable code. They are used to organize, localize and repurpose code (especially classes and functions) so that it can be used in the future."
   ]
  },
  {
   "cell_type": "markdown",
   "id": "e3887902",
   "metadata": {},
   "source": [
    "### 2.1 Importing an entire module\n",
    "\n",
    "To import the entire contents of a module, say **math**, use the statement `import math`. To refer to a function contained in this module, use the following syntax.\n",
    "\n",
    "**Example:**"
   ]
  },
  {
   "cell_type": "code",
   "execution_count": null,
   "id": "9df5f3a3",
   "metadata": {},
   "outputs": [],
   "source": [
    "import math\n",
    "x = math.log(23e5, 2)       # Assign the logarithm of (23 * 10**5) in base 10 to x.\n",
    "y = math.exp(3)               # Assign the value of e cubed to y.\n",
    "\n",
    "print(x, y, x > y)"
   ]
  },
  {
   "cell_type": "markdown",
   "id": "6dee5602",
   "metadata": {},
   "source": [
    "### 2.2 Importing individual functions"
   ]
  },
  {
   "cell_type": "code",
   "execution_count": null,
   "id": "ffbfbbab",
   "metadata": {},
   "outputs": [],
   "source": []
  }
 ],
 "metadata": {
  "kernelspec": {
   "display_name": "Python 3 (ipykernel)",
   "language": "python",
   "name": "python3"
  },
  "language_info": {
   "codemirror_mode": {
    "name": "ipython",
    "version": 3
   },
   "file_extension": ".py",
   "mimetype": "text/x-python",
   "name": "python",
   "nbconvert_exporter": "python",
   "pygments_lexer": "ipython3",
   "version": "3.9.13"
  }
 },
 "nbformat": 4,
 "nbformat_minor": 5
}
