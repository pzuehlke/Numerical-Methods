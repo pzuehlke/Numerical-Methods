{
 "cells": [
  {
   "cell_type": "markdown",
   "id": "b6f1b490",
   "metadata": {},
   "source": [
    "# Functions and modules\n",
    "\n",
    "## 1 Functions/procedures\n",
    "\n",
    "### 1.1 What is a procedure/function?\n",
    "\n",
    "In the context of programming languages, a **procedure** is a collection of instructions to be performed by the computer to accomplish a given task, packaged as a unit. Procedures are also called **functions** and **subroutines**.\n",
    "\n",
    "**Example:** We may (and will, eventually) implement procedures to perform the following tasks:\n",
    "* Take a positive real number (more precisely, a floating-point number) and return (an approximation to) its square root.\n",
    "* Take a positive integer as input and decide whether it is prime;\n",
    "* Take a string as argument and reverse it;\n",
    "* Take a matrix having, say, complex entries, and return its inverse (if it exists);\n",
    "* Take a collection of points in the plane and find the line that best fits them.\n",
    "\n",
    "📝 The name 'procedure' provides a better idea of the concept. The word 'function' may evoke comparison with the usual functions considered in Mathematics (e.g., real functions of a real variable). However, the notion of a procedure is more general. The difference stems from the fact that a procedure (in Python, but also in most other languages) can rely on and modify objects other than its arguments. Procedures that exhibit this behavior are said to have **side effects**. For example, the most adequate mathematical representation of a procedure that takes no input and returns no output would be the (unique) function from the empty set to the empty set. However, in Python there are _infinitely many_ such procedures, such as one that prints a message or random number to the screen, modifies the value of a global variable, enters an infinite loop, takes input from the user, writes to a file, raises an error, etc.. Each of these functions modifies the state of the program even though they take no input and produce no output. Unfortunately, despite this ambiguity, the terminology 'function' has established itself.\n",
    "\n",
    "📝 In the **functional programming (FP)** paradigm, programs are organized by a sequence of function definitions, and tasks are accomplished by composing them. An important idea in this context is that of an **abstraction barrier**: Ideally, each function should have a single task to perform and one should be able to ignore its *implementation* whenever it is called. That is, programs should be organized in such a way that, in order to use a given function, the only relevant information should be what input it requires and what its output will be, but not _how_ this output is obtained. In particular, functions having side effects should be avoided, or at least moved to the edges of the program."
   ]
  },
  {
   "cell_type": "markdown",
   "id": "0a138989",
   "metadata": {},
   "source": [
    "### 1.2 Defining a function with `def`\n",
    "\n",
    "In order to use a function, we must first **define** (or **declare** or **create**) it using `def` as follows.\n",
    "\n",
    "**Example:**"
   ]
  },
  {
   "cell_type": "code",
   "execution_count": 5,
   "id": "bbda3cd7",
   "metadata": {},
   "outputs": [
    {
     "name": "stdout",
     "output_type": "stream",
     "text": [
      "4.000000636692939\n",
      "0.10000052895642693\n",
      "8.42614977317729\n"
     ]
    }
   ],
   "source": [
    "def square_root(x, eps):\n",
    "    \"\"\"Computes an approximation to the square root of a positive number 'x'\n",
    "    within a precision of 'eps', using the Babylonian method:\n",
    "        1. Denote the square root by s;\n",
    "        2. Take any positive initial guess for its value, say s = x;\n",
    "        3. Let the new value of s be the average of s and x / s;\n",
    "        4. Iterate on step 3 until the error is at most eps.\"\"\"\n",
    "    s = x\n",
    "    while abs(s**2 - x) > eps:      # While the desired precision has not been achieved:\n",
    "        s = (s + (x / s)) / 2 \n",
    "        \n",
    "    return s\n",
    "\n",
    "\n",
    "eps = 1e-5                          # eps is 10 to the -5.\n",
    "print(square_root(16, eps))         # Call square_root with arguments 16 and eps.\n",
    "print(square_root(1/100, eps))      # Call square_root with arguments 1/100 and eps.\n",
    "print(square_root(71, eps**2))      # Call square_root with arguments 71 and eps squared."
   ]
  },
  {
   "cell_type": "markdown",
   "id": "3cd96130",
   "metadata": {},
   "source": [
    "📝 Some important observations regarding the syntax of a function definition:\n",
    "* Indentation is used to delimit the block containing the definition.\n",
    "* In the first line of the declaration, we introduce the name to be given to the function (in this case, `square_root`) and names for its **parameters**, i.e., the variables (in this case, `x` and `eps`) that will store the values, called **arguments**, to be passed by a user of the function in any specific call. The parameters are enclosed by parentheses and separated by commas.\n",
    "* This first line should be ended by a *colon* `:`\n",
    "* Immediately below the first line, enclosed in **triple quotes** `\"\"\"`, we provide a concise description of the function, called its **docstring**. This description is optional, but highly recommended. It can include information such as:\n",
    "    * The types of the inputs and outputs;\n",
    "    * The task that the function performs;\n",
    "    * Details about its implementation or the amount of resources (time or memory) required as a function of the parameters;\n",
    "    * Any other information that may be helpful to someone who will use the function.\n",
    "* To call a function $ f $ on arguments $ a, b, c, \\dots, z $, the notation is: `f(a, b, c, ..., z)`. This will make the interpreter actually run the code in the function declaration for the specific values stored in these arguments."
   ]
  },
  {
   "cell_type": "markdown",
   "id": "2730edc1",
   "metadata": {},
   "source": [
    "<div class=\"alert alert-warning\"> Some additional remarks about function definitions:\n",
    "<ul><li> A function may have any finite number of parameters, including zero. In the latter case, the declaration of a such a function $ f $ would be <code>def f():</code> ...</li>\n",
    "<li> The parameters of a function may be of any type at all, and distinct parameters may have distinct types. For instance, a parameter may be a list, a tuple, another function, a list of functions, etc..\n",
    "<li> The names of the parameters have a scope which is <i>local</i> to the block of the definition.  In particular, the same name $ x $ may store completely different values of different types inside and outside the definition of a given function.\n",
    "<li> The <code>return</code> declaration at the end is optional. If it is not provided, then the function returns <code>None</code> by default.\n",
    "<li> To improve readability, it is recommended that a function definition be separated by exactly <i>two</i> blank lines from the surrounding code, and that all function definitions in a script be grouped together at the beginning.\n",
    "</ul></div>"
   ]
  },
  {
   "cell_type": "markdown",
   "id": "92cf6239",
   "metadata": {},
   "source": [
    "**Example:** What is the type of a function?"
   ]
  },
  {
   "cell_type": "code",
   "execution_count": 2,
   "id": "74b4ef76",
   "metadata": {},
   "outputs": [
    {
     "name": "stdout",
     "output_type": "stream",
     "text": [
      "<class 'function'>\n",
      "<class 'function'>\n",
      "Help on function get_sum in module __main__:\n",
      "\n",
      "get_sum(x, y)\n",
      "    Takes two numerical values and returns their sum.\n",
      "\n"
     ]
    }
   ],
   "source": [
    "def constant():\n",
    "    \"\"\"A constant function which takes the value 1 for any argument.\"\"\"\n",
    "    return 1\n",
    "\n",
    "\n",
    "def get_sum(x, y):\n",
    "    \"\"\"Takes two numerical values and returns their sum.\"\"\"\n",
    "    return x + y\n",
    "\n",
    "\n",
    "print(type(constant))\n",
    "print(type(get_sum))\n",
    "help(get_sum)            # Prints the signature and docstring of the function get_sum."
   ]
  },
  {
   "cell_type": "markdown",
   "id": "fc3768c3",
   "metadata": {},
   "source": [
    "### 1.3 Type annotations"
   ]
  },
  {
   "cell_type": "markdown",
   "id": "094cfeff",
   "metadata": {},
   "source": [
    "📝 Even though the Python interpreter can infer the type of a variable based on its value, it is sometimes desirable, for the sake of clarity, to indicate this type explicitly in the code. This can be done by a **type annotation**, as in the following example. Note however that these type annotations are ignored by the interpreter. In particular, _they may not match the actual type of the variable_."
   ]
  },
  {
   "cell_type": "code",
   "execution_count": 3,
   "id": "20e08301",
   "metadata": {},
   "outputs": [
    {
     "name": "stdout",
     "output_type": "stream",
     "text": [
      "<class 'float'>\n"
     ]
    }
   ],
   "source": [
    "x: float = 2.0                    # We assign the value 2.0 to x and describe its type as 'int'.\n",
    "y: str = \"some random string\"     # This indicates that y is of type 'str'.               \n",
    "\n",
    "z: int = 3.1415\n",
    "# In the definition of z, we (incorrectly!) annotated the type of z\n",
    "# as being 'int' even though it is actually a float:\n",
    "print(type(z))"
   ]
  },
  {
   "cell_type": "markdown",
   "id": "c103e2c2",
   "metadata": {},
   "source": [
    "📝  We can also annotate the types of the parameters and return value(s) of a function using the syntax in the following example.\n",
    "\n",
    "<a name=\"1.3\"></a>**Example:** Let us define a function that converts temperatures in Fahrenheit ($ T_F $) to temperatures in Kelvin ($ T_K$). The formula for the conversion is: \n",
    "\n",
    "$$ T_K = \\frac{5}{9} \\big(T_F - 32\\big) + 273.15 $$"
   ]
  },
  {
   "cell_type": "code",
   "execution_count": 4,
   "id": "4bbb1be8",
   "metadata": {},
   "outputs": [
    {
     "name": "stdout",
     "output_type": "stream",
     "text": [
      "273.15\n",
      "373.15\n"
     ]
    }
   ],
   "source": [
    "def fahr_to_kelvin(temp_F: float) -> float:\n",
    "    \"\"\" A function that converts a temperature  temp_F measured\n",
    "    in Fahrenheit degrees (F) to its equivalent value in Kelvin (K). \"\"\"\n",
    "    return (5 / 9) * (temp_F - 32) + 273.15\n",
    "\n",
    "\n",
    "# Note the optional type annotation for the parameter temp_F and\n",
    "# for the return type (after the arrow '->').\n",
    "\n",
    "# The freezing point of water is 32 F:\n",
    "freezing_temp_K = fahr_to_kelvin(32)\n",
    "print(freezing_temp_K)\n",
    "\n",
    "# The boiling temperature of water is 212 F:\n",
    "boiling_temp_K = fahr_to_kelvin(212)\n",
    "print(boiling_temp_K)"
   ]
  },
  {
   "cell_type": "markdown",
   "id": "b22bc85b",
   "metadata": {},
   "source": [
    "The formula for converting a temperature $ T_K $ measured in Kelvin to its equivalent $ T_C $ measured in Celsius is even simpler:\n",
    "$$ T_C = T_K - 273.15 $$\n",
    "\n",
    "**Example:**"
   ]
  },
  {
   "cell_type": "code",
   "execution_count": 5,
   "id": "323d0048",
   "metadata": {},
   "outputs": [],
   "source": [
    "def kelvin_to_celsius(temp_K: float) -> float:\n",
    "    \"\"\" A function that converts a temperature  temp_K measured\n",
    "    in Kelvin (K) to its equivalent value in Celsius (C) degrees. \"\"\"\n",
    "    return temp_K - 273.15"
   ]
  },
  {
   "cell_type": "markdown",
   "id": "beb05daf",
   "metadata": {},
   "source": [
    "### 1.4 Example: a function that tests whether a number is prime\n",
    "\n",
    "Let us write a function that decides whether an integer $ n \\ge 2 $ is prime or not."
   ]
  },
  {
   "cell_type": "code",
   "execution_count": 6,
   "id": "90068169",
   "metadata": {
    "scrolled": true
   },
   "outputs": [
    {
     "name": "stdout",
     "output_type": "stream",
     "text": [
      "True\n",
      "True\n",
      "21 is divisible by 3, hence it is not prime!\n",
      "False\n",
      "True\n",
      "True\n",
      "19999 is divisible by 7, hence it is not prime!\n",
      "False\n"
     ]
    }
   ],
   "source": [
    "def is_prime(n: int) -> bool:\n",
    "    \"\"\"Decides whether an integer n is prime or not by testing\n",
    "    if it is divisible by some integer between 2 and n - 1.\"\"\"\n",
    "    for k in range(2, n):\n",
    "        if n % k == 0:           # If k >= 2 is a divisor of n:\n",
    "            print(f\"{n} is divisible by {k}, hence it is not prime!\")\n",
    "            return False\n",
    "        else:\n",
    "            continue\n",
    "    return True\n",
    "\n",
    "print(is_prime(2))\n",
    "print(is_prime(3))\n",
    "print(is_prime(21))\n",
    "print(is_prime(199))\n",
    "print(is_prime(1999))\n",
    "print(is_prime(19999))"
   ]
  },
  {
   "cell_type": "markdown",
   "id": "4928e95e",
   "metadata": {},
   "source": [
    "**Exercise:** Is the `continue` statement really necessary? Why was it included?"
   ]
  },
  {
   "cell_type": "markdown",
   "id": "66f94d16",
   "metadata": {},
   "source": [
    "**Exercise:** Modify the preceding definition so that the function tests whether $ n $ is divisible by $ 2 $ and by every *odd* number between $ 3 $ and $ n - 1 $. Why is this sufficient to guarantee that $ n $ is prime? By how much, approximately, does this reduce the computation that needs to be carried out?"
   ]
  },
  {
   "cell_type": "markdown",
   "id": "2235b953",
   "metadata": {},
   "source": [
    "**Exercise:** What happens if you try to determine whether $ 1 $, $ 0 $ are prime? Which negative numbers are prime according to our function? What happens if you pass a float or a complex number as argument to `is_prime`?"
   ]
  },
  {
   "cell_type": "markdown",
   "id": "221f56b6",
   "metadata": {},
   "source": [
    "### 1.5 The `assert` statement"
   ]
  },
  {
   "cell_type": "markdown",
   "id": "8dd05175",
   "metadata": {},
   "source": [
    "<div class=\"alert alert-warning\"> In order to debug, test or catch unexpected behavior in a piece of code before it occurs, Python provides the <code>assert</code> statement."
   ]
  },
  {
   "cell_type": "markdown",
   "id": "48bd1578",
   "metadata": {},
   "source": [
    "**Example**: Let us modify the definition of `is_prime` so that it checks whether its argument is indeed an integer $ \\ge 2 $ before actually computing anything.<a name=\"prime\"></a>"
   ]
  },
  {
   "cell_type": "code",
   "execution_count": 7,
   "id": "dfbb0e21",
   "metadata": {},
   "outputs": [],
   "source": [
    "def is_prime(n: int) -> bool:\n",
    "    \"\"\"Decides whether an integer n is prime or not by testing\n",
    "    if it is divisible by some integer between 2 and n - 1.\"\"\"\n",
    "    assert isinstance(n, int)\n",
    "    assert n >= 2, f\"The argument {n} is not >= 2!\"\n",
    "    # The string and the comma preceding it are _optional_.\n",
    "    \n",
    "    for k in range(2, n):\n",
    "        if n % k == 0:\n",
    "            print(f\"{n} is divisible by {k}, hence it is not prime!\")\n",
    "            return False\n",
    "        else:\n",
    "            continue\n",
    "    return True"
   ]
  },
  {
   "cell_type": "code",
   "execution_count": 8,
   "id": "c45ef26e",
   "metadata": {},
   "outputs": [
    {
     "ename": "AssertionError",
     "evalue": "The argument -1 is not >= 2!",
     "output_type": "error",
     "traceback": [
      "\u001b[0;31m---------------------------------------------------------------------------\u001b[0m",
      "\u001b[0;31mAssertionError\u001b[0m                            Traceback (most recent call last)",
      "Input \u001b[0;32mIn [8]\u001b[0m, in \u001b[0;36m<cell line: 1>\u001b[0;34m()\u001b[0m\n\u001b[0;32m----> 1\u001b[0m \u001b[38;5;28mprint\u001b[39m(\u001b[43mis_prime\u001b[49m\u001b[43m(\u001b[49m\u001b[38;5;241;43m-\u001b[39;49m\u001b[38;5;241;43m1\u001b[39;49m\u001b[43m)\u001b[49m)\n",
      "Input \u001b[0;32mIn [7]\u001b[0m, in \u001b[0;36mis_prime\u001b[0;34m(n)\u001b[0m\n\u001b[1;32m      2\u001b[0m \u001b[38;5;124;03m\"\"\"Decides whether an integer n is prime or not by testing\u001b[39;00m\n\u001b[1;32m      3\u001b[0m \u001b[38;5;124;03mif it is divisible by some integer between 2 and n - 1.\"\"\"\u001b[39;00m\n\u001b[1;32m      4\u001b[0m \u001b[38;5;28;01massert\u001b[39;00m \u001b[38;5;28misinstance\u001b[39m(n, \u001b[38;5;28mint\u001b[39m)\n\u001b[0;32m----> 5\u001b[0m \u001b[38;5;28;01massert\u001b[39;00m n \u001b[38;5;241m>\u001b[39m\u001b[38;5;241m=\u001b[39m \u001b[38;5;241m2\u001b[39m, \u001b[38;5;124mf\u001b[39m\u001b[38;5;124m\"\u001b[39m\u001b[38;5;124mThe argument \u001b[39m\u001b[38;5;132;01m{\u001b[39;00mn\u001b[38;5;132;01m}\u001b[39;00m\u001b[38;5;124m is not >= 2!\u001b[39m\u001b[38;5;124m\"\u001b[39m\n\u001b[1;32m      6\u001b[0m \u001b[38;5;66;03m# The string and the comma preceding it are _optional_.\u001b[39;00m\n\u001b[1;32m      8\u001b[0m \u001b[38;5;28;01mfor\u001b[39;00m k \u001b[38;5;129;01min\u001b[39;00m \u001b[38;5;28mrange\u001b[39m(\u001b[38;5;241m2\u001b[39m, n):\n",
      "\u001b[0;31mAssertionError\u001b[0m: The argument -1 is not >= 2!"
     ]
    }
   ],
   "source": [
    "print(is_prime(-1))"
   ]
  },
  {
   "cell_type": "code",
   "execution_count": 9,
   "id": "37045167",
   "metadata": {
    "scrolled": true
   },
   "outputs": [
    {
     "ename": "AssertionError",
     "evalue": "",
     "output_type": "error",
     "traceback": [
      "\u001b[0;31m---------------------------------------------------------------------------\u001b[0m",
      "\u001b[0;31mAssertionError\u001b[0m                            Traceback (most recent call last)",
      "Input \u001b[0;32mIn [9]\u001b[0m, in \u001b[0;36m<cell line: 1>\u001b[0;34m()\u001b[0m\n\u001b[0;32m----> 1\u001b[0m \u001b[38;5;28mprint\u001b[39m(\u001b[43mis_prime\u001b[49m\u001b[43m(\u001b[49m\u001b[38;5;241;43m3.14\u001b[39;49m\u001b[43m)\u001b[49m)\n",
      "Input \u001b[0;32mIn [7]\u001b[0m, in \u001b[0;36mis_prime\u001b[0;34m(n)\u001b[0m\n\u001b[1;32m      1\u001b[0m \u001b[38;5;28;01mdef\u001b[39;00m \u001b[38;5;21mis_prime\u001b[39m(n: \u001b[38;5;28mint\u001b[39m) \u001b[38;5;241m-\u001b[39m\u001b[38;5;241m>\u001b[39m \u001b[38;5;28mbool\u001b[39m:\n\u001b[1;32m      2\u001b[0m     \u001b[38;5;124;03m\"\"\"Decides whether an integer n is prime or not by testing\u001b[39;00m\n\u001b[1;32m      3\u001b[0m \u001b[38;5;124;03m    if it is divisible by some integer between 2 and n - 1.\"\"\"\u001b[39;00m\n\u001b[0;32m----> 4\u001b[0m     \u001b[38;5;28;01massert\u001b[39;00m \u001b[38;5;28misinstance\u001b[39m(n, \u001b[38;5;28mint\u001b[39m)\n\u001b[1;32m      5\u001b[0m     \u001b[38;5;28;01massert\u001b[39;00m n \u001b[38;5;241m>\u001b[39m\u001b[38;5;241m=\u001b[39m \u001b[38;5;241m2\u001b[39m, \u001b[38;5;124mf\u001b[39m\u001b[38;5;124m\"\u001b[39m\u001b[38;5;124mThe argument \u001b[39m\u001b[38;5;132;01m{\u001b[39;00mn\u001b[38;5;132;01m}\u001b[39;00m\u001b[38;5;124m is not >= 2!\u001b[39m\u001b[38;5;124m\"\u001b[39m\n\u001b[1;32m      6\u001b[0m     \u001b[38;5;66;03m# The string and the comma preceding it are _optional_.\u001b[39;00m\n",
      "\u001b[0;31mAssertionError\u001b[0m: "
     ]
    }
   ],
   "source": [
    "print(is_prime(3.14))"
   ]
  },
  {
   "cell_type": "markdown",
   "id": "21c91d47",
   "metadata": {},
   "source": [
    "📝 The syntax of an assert statement is thus: `assert` *conditional_test* *\\[, error_message\\]* , where:\n",
    "* *conditional_test* must be a Boolean expression;\n",
    "* *error_message* is an optional string (possibly an f-string, as in the example).\n",
    "\n",
    "If the conditional test evaluates to `True`, then the interpreter simply proceeds to the next line. Otherwise, execution is halted and an `AssertionError` is raised, with the optional *error_message* also being displayed if it was included."
   ]
  },
  {
   "cell_type": "markdown",
   "id": "ab2d435b",
   "metadata": {},
   "source": [
    "### 1.5 Function composition\n",
    "\n",
    "In [$ \\S 1.3 $](#1.3) we defined two procedures:\n",
    "* A function `fahr_to_kelvin` which converts from Fahrenheit to Kelvin;\n",
    "* A function `kelvin_to_celsius` which converts from Kelvin to Celsius.\n",
    "\n",
    "We may now easily obtain a function which converts from Fahrenheit to Celsius by **composition** of these two, just as in the context of Mathematics.\n",
    "\n",
    "**Example**:"
   ]
  },
  {
   "cell_type": "code",
   "execution_count": 10,
   "id": "78fc47b0",
   "metadata": {},
   "outputs": [
    {
     "name": "stdout",
     "output_type": "stream",
     "text": [
      "0.0\n",
      "100.0\n"
     ]
    }
   ],
   "source": [
    "def fahr_to_celsius(temp_F: float) -> float:\n",
    "    return kelvin_to_celsius(fahr_to_kelvin(temp_F))\n",
    "\n",
    "\n",
    "# The freezing point of water is 32 F:\n",
    "freezing_temp_C = fahr_to_celsius(32)\n",
    "print(freezing_temp_C)\n",
    "\n",
    "# The boiling temperature of water is 212 F:\n",
    "boiling_temp_C = fahr_to_celsius(212)\n",
    "print(boiling_temp_C)"
   ]
  },
  {
   "cell_type": "markdown",
   "id": "9d62cb99",
   "metadata": {},
   "source": [
    "**Exercise**: Implement a function which, given integers $ a $ and $ b $:\n",
    "1. Returns the sum of all integers $ n $ satisfying $ a \\le n \\le b $.\n",
    "2. Does the same for their product."
   ]
  },
  {
   "cell_type": "markdown",
   "id": "144e9639",
   "metadata": {},
   "source": [
    "**Exercise**: Define (and test) a function that, given $ N > 0 $, computes the sum of the cubes of all positive numbers between $ 1 $ and $ N $ (including $ 1 $ and $ N $) in the following two ways:\n",
    "1. By storing the values of the cubes in a list, and then taking its `sum`.\n",
    "2. By storing the partial sums in a variable which is incremented in turn."
   ]
  },
  {
   "cell_type": "markdown",
   "id": "2f3416e0",
   "metadata": {},
   "source": [
    "**Exercise**: Implement a function which takes a string as argument and returns the same string in the reverse order. *Hint:* Consider a slice with step size $ -1 $."
   ]
  },
  {
   "cell_type": "markdown",
   "id": "8839c4ce",
   "metadata": {},
   "source": [
    "**Exercise**: Implement a function which, given a positive integer $ N $, returns the list of all prime numbers $ \\le N $. *Hint:* First define a function `is_prime` which decides whether an individual number is prime. (A number $ p > 1 $ is *prime* if its only divisors are 1 and itself.)"
   ]
  },
  {
   "cell_type": "markdown",
   "id": "61449ca9",
   "metadata": {},
   "source": [
    "**Exercise**: Revise the functions that you created to solve the preceding exercises so that they include useful `assert` statements."
   ]
  },
  {
   "cell_type": "markdown",
   "id": "c605734c",
   "metadata": {},
   "source": [
    "## 2 Importing modules\n",
    "\n",
    "A **module** is a Python script which can contain a collection of function declarations (or definitions of other objects, such as classes) and executable code. They are used to organize, localize and repurpose code so that it can conveniently be used in the future."
   ]
  },
  {
   "cell_type": "markdown",
   "id": "e3887902",
   "metadata": {},
   "source": [
    "### 2.1 Importing a module\n",
    "\n",
    "Core Python contains very few mathematical functions, among them `max`, `min`, `abs` and `sum`.\n",
    "\n",
    "**Example:**"
   ]
  },
  {
   "cell_type": "code",
   "execution_count": 11,
   "id": "3be91190",
   "metadata": {},
   "outputs": [
    {
     "name": "stdout",
     "output_type": "stream",
     "text": [
      "2.71\n",
      "-3000.0\n",
      "-2998.79\n",
      "1\n"
     ]
    }
   ],
   "source": [
    "numbers = [1.0, -3.5, 2.71, 77 % 2, -3e3]\n",
    "\n",
    "print(max(numbers))    # Prints the maximum element of numbers.\n",
    "print(min(numbers))    # Prints the minimum element of numbers.\n",
    "print(sum(numbers))    # Prints the sum of numbers.\n",
    "print(abs(-1))"
   ]
  },
  {
   "cell_type": "markdown",
   "id": "4e5caa83",
   "metadata": {},
   "source": [
    "To import a module, for instance the module **math**, which contains implementations of some additional mathematical functions, use the statement `import math` at the beginning. To then call, say, a function $ f $ defined in this module, use the syntax `math.f`.\n",
    "\n",
    "**Example:**"
   ]
  },
  {
   "cell_type": "code",
   "execution_count": 12,
   "id": "9df5f3a3",
   "metadata": {},
   "outputs": [
    {
     "name": "stdout",
     "output_type": "stream",
     "text": [
      "21.133202430493824\n",
      "20.085536923187668\n",
      "True\n"
     ]
    },
    {
     "data": {
      "text/plain": [
       "3.141592653589793"
      ]
     },
     "execution_count": 12,
     "metadata": {},
     "output_type": "execute_result"
    }
   ],
   "source": [
    "import math\n",
    "\n",
    "\n",
    "x = math.log(23e5, 2)       # Assign the logarithm of (23 * 10**5) in base 2 to x.\n",
    "y = math.exp(3)             # Assign the value of e cubed to y.\n",
    "\n",
    "print(x)\n",
    "print(y)\n",
    "print(x > y)\n",
    "\n",
    "math.pi                     # Return the value of the constant 'pi'."
   ]
  },
  {
   "cell_type": "markdown",
   "id": "317b7953",
   "metadata": {},
   "source": [
    "📝 It is recommended practice that `import` statements be grouped together at the very beginning of a script and that they be separated from the remainder of the script by two blank lines."
   ]
  },
  {
   "cell_type": "markdown",
   "id": "e2a7d59f",
   "metadata": {},
   "source": [
    "The module **math** does not contain too many functions, but among others, it provides implementations of:\n",
    "* The *exponential* `exp` and the *logarithm* `log`. Regarding the latter, `log(a, b)` yields $ \\log_b a $, the logarithm base $ b $ of $ a $;\n",
    "* The basic *trigonometric functions* `cos`, `sin`, `tan` and their inverses `acos`, `asin`, `atan`;\n",
    "* The *ceiling* and *floor* functions `floor` and `ceil`, which, given a floating-point number $ x $, return the greatest integer $ \\le x $ (resp. the smallest integer $ \\ge x $);\n",
    "* The *square root* function `sqrt` and the *integer square root* function `isqrt`, which is equivalent to the composition of `sqrt` with `int` (but more efficient);\n",
    "* The *product* function `prod` which returns the product of a list of numbers;\n",
    "* The *factorial* function: `factorial(n)` yields the product $ 1 \\cdot 2 \\cdots (n - 1) \\cdot n $ of all integers from $ 1 $ to $ n $ (where $ n $ is a positive integer);\n",
    "* The constants $ \\pi $ `pi` and $ e $ `e`."
   ]
  },
  {
   "cell_type": "markdown",
   "id": "4c8223d9",
   "metadata": {},
   "source": [
    "📝 We can import a module using an **alias** to avoid having to type its full name using the syntax `import` *module_name* `as` _alias_.\n",
    "\n",
    "**Example:**"
   ]
  },
  {
   "cell_type": "code",
   "execution_count": 13,
   "id": "0ee8b991",
   "metadata": {},
   "outputs": [
    {
     "name": "stdout",
     "output_type": "stream",
     "text": [
      "120\n",
      "2.718281828459045\n"
     ]
    }
   ],
   "source": [
    "import math as m\n",
    "\n",
    "\n",
    "print(m.factorial(5))\n",
    "print(m.e)"
   ]
  },
  {
   "cell_type": "markdown",
   "id": "31f1577f",
   "metadata": {},
   "source": [
    "### 2.2 Importing functions directly\n",
    "\n",
    "📝 To avoid having to refer to the name of the module every time one of its functions/objects is called, we have two options:\n",
    "1. Explicitly import the functions/objects $ f_1, f_2, \\dots, f_n $ through the declaration `from` *module_name* `import` $ f_1, f_2, ..., f_n $.\n",
    "2. Import every function/object provided by the module using the statement `from` *module_name* `import *`.\n",
    "\n",
    "⚠️ Both methods may lead to conflicts with definitions loaded from other modules (or from core Python). For example, the modules **math** and **numpy** provide implementations of the sine function as `sin`; if both are loaded using the syntax in 1 or 2,  then `sin` will take the definition of whichever module was loaded last. Moreover, the second method is also wasteful since it will load several objects that will probably not be used."
   ]
  },
  {
   "cell_type": "code",
   "execution_count": 3,
   "id": "8ed7899f",
   "metadata": {},
   "outputs": [
    {
     "name": "stdout",
     "output_type": "stream",
     "text": [
      "1.7320508075688772\n",
      "1\n",
      "1.0 -1.0 6.123233995736766e-17\n"
     ]
    }
   ],
   "source": [
    "from math import sqrt, isqrt, cos, sin, pi\n",
    "\n",
    "\n",
    "print(sqrt(3))\n",
    "print(isqrt(3))\n",
    "\n",
    "print(cos(0), cos(pi), cos(pi / 2))"
   ]
  },
  {
   "cell_type": "code",
   "execution_count": 4,
   "id": "f42ebcb3",
   "metadata": {},
   "outputs": [
    {
     "name": "stdout",
     "output_type": "stream",
     "text": [
      "2 3\n",
      "-3 -2\n",
      "120\n"
     ]
    }
   ],
   "source": [
    "from math import *\n",
    "\n",
    "\n",
    "print(floor(2.5), ceil(2.5))\n",
    "print(floor(-2.5), ceil(-2.5))\n",
    "print(prod([1, 2, 3, 4, 5]))"
   ]
  },
  {
   "cell_type": "markdown",
   "id": "6d928629",
   "metadata": {},
   "source": [
    "**Exercise:** What happens if you try to call the tangent function on $ \\frac{\\pi}{2} $? What is the factorial of $ 0 $ and $ - 1 $ according to Python? Why is the cosine of $ \\pi $ not exactly $ -1 $?"
   ]
  },
  {
   "cell_type": "markdown",
   "id": "e0734275",
   "metadata": {},
   "source": [
    "📝 To see the complete list of functions provided by a module, use the `dir` command.\n",
    "\n",
    "**Example:**"
   ]
  },
  {
   "cell_type": "code",
   "execution_count": 16,
   "id": "aea79110",
   "metadata": {
    "scrolled": false
   },
   "outputs": [
    {
     "name": "stdout",
     "output_type": "stream",
     "text": [
      "['__doc__', '__file__', '__loader__', '__name__', '__package__', '__spec__', 'acos', 'acosh', 'asin', 'asinh', 'atan', 'atan2', 'atanh', 'ceil', 'comb', 'copysign', 'cos', 'cosh', 'degrees', 'dist', 'e', 'erf', 'erfc', 'exp', 'expm1', 'fabs', 'factorial', 'floor', 'fmod', 'frexp', 'fsum', 'gamma', 'gcd', 'hypot', 'inf', 'isclose', 'isfinite', 'isinf', 'isnan', 'isqrt', 'lcm', 'ldexp', 'lgamma', 'log', 'log10', 'log1p', 'log2', 'modf', 'nan', 'nextafter', 'perm', 'pi', 'pow', 'prod', 'radians', 'remainder', 'sin', 'sinh', 'sqrt', 'tan', 'tanh', 'tau', 'trunc', 'ulp']\n"
     ]
    }
   ],
   "source": [
    "print(dir(math))"
   ]
  },
  {
   "cell_type": "markdown",
   "id": "0f25a307",
   "metadata": {},
   "source": [
    "**Exercise:** Let $ n \\ge 2 $ be an integer. If $ d $ is a divisor of $ n $ then $ \\frac{n}{d} $ is also a divisor, and $ d $ and $\\frac{n}{d} $ cannot both be greater than $ \\sqrt{n} $. Use this observation and the `isqrt` function from the **math** module to modify the definition of [`is_prime`](#prime) so that it tests only the numbers from $ 1 $ to $ \\sqrt{n} $ (including the latter!) as possible divisors of $ n $."
   ]
  },
  {
   "cell_type": "code",
   "execution_count": null,
   "id": "302b28d0",
   "metadata": {},
   "outputs": [],
   "source": []
  }
 ],
 "metadata": {
  "kernelspec": {
   "display_name": "Python 3 (ipykernel)",
   "language": "python",
   "name": "python3"
  },
  "language_info": {
   "codemirror_mode": {
    "name": "ipython",
    "version": 3
   },
   "file_extension": ".py",
   "mimetype": "text/x-python",
   "name": "python",
   "nbconvert_exporter": "python",
   "pygments_lexer": "ipython3",
   "version": "3.9.13"
  }
 },
 "nbformat": 4,
 "nbformat_minor": 5
}
