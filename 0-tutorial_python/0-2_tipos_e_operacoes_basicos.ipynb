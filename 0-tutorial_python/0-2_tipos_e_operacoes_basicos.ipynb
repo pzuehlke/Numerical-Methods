{
 "cells": [
  {
   "cell_type": "markdown",
   "metadata": {},
   "source": [
    "# Tipos básicos e operações\n",
    "\n",
    "## § 1 Objetos, classes, valores, variáveis e atribuição\n",
    "\n",
    "### 1.1 Terminologia básica da programação orientada a objetos\n",
    "\n",
    "Uma __classe__ (ou _tipo de dado_) consiste em um conjunto de valores e um conjunto de operações permitidas nesses valores. Quando uma classe já está incorporada no Python, ela é geralmente chamada de __tipo__. Por exemplo, em Python existem tipos para a representação de números inteiros, números reais, strings de texto e booleanos, entre outros.\n",
    "\n",
    "Por exemplo, um número inteiro pode assumir o valor $ -3 $, mas não o valor $ 3.14 $. Booleanos só podem assumir dois valores: `True` ou `False`. Da mesma forma, podemos multiplicar dois números reais, mas não uma string por outra; podemos concatenar duas strings, mas isso não faz sentido para valores booleanos.\n",
    "\n",
    "O número inteiro $ -3 $ é um _objeto_ pertencente à classe dos inteiros. Mais geralmente, em programação, um __objeto__ é uma abstração agregada de alguns dados. Por exemplo, podemos escolher representar um carro em Python por um conjunto de valores como seu fabricante (uma string), modelo (também uma string), seu ano de fabricação (um inteiro), sua cor, seu número de identificação, etc., todos encapsulados como uma unidade. Concretamente, um objeto é apenas uma instância de uma classe específica residindo na memória. Em Python, tudo que é representado é um objeto, e todo objeto deve pertencer a uma classe.\n",
    "\n",
    "Como outro exemplo, se tivéssemos que escrever software para um sistema bancário, seria em princípio possível trabalhar apenas com tipos incorporados. No entanto, isso seria extremamente incômodo. Para encapsular os dados e o comportamento associados à manipulação de contas bancárias em um nível mais alto de abstração, deveríamos projetar e implementar uma classe apropriada nós mesmos, usando tipos incorporados e outras classes e operações previamente existentes como blocos de construção. Cada conta bancária em nosso sistema seria então um objeto pertencente a, ou uma instância dessa classe.\n",
    "\n",
    "📝 Na terminologia da programação orientada a objetos, os termos técnicos para \"propriedade\" e \"operação\" são _atributo_ e _método_, respectivamente. Assim, o propósito de uma classe é implementar um conjunto específico de atributos e métodos para serem herdados por cada objeto (instância) dessa classe. A coleção de valores assumidos por todos os atributos de um objeto é chamada seu _estado_.\n",
    "\n",
    "No exemplo da classe de conta bancária, dois dos atributos poderiam ser o saldo atual e o ID do titular da conta. Provavelmente haveria métodos projetados para modelar depósitos, saques, transferências, modificações no endereço do titular, etc.\n",
    "\n",
    "Neste tutorial, não precisaremos discutir objetos, classes e programação orientada a objetos além do que já foi mencionado. Na verdade, trabalharemos apenas com tipos incorporados.\n",
    "\n",
    "### 1.2 Variáveis\n",
    "\n",
    "Cada objeto criado pelo interpretador Python recebe um endereço único de memória que nunca precisamos manipular diretamente ou nos preocupar. Isso porque esse endereço é abstraído através do uso de _variáveis_. Uma __variável__ é uma associação de um __identificador__ (isto é, nome ou rótulo) com um objeto. Em Python, variáveis são criadas através de uma instrução de __atribuição__, usando o __operador de atribuição__ `=` na forma _\\<identificador>_ `=` _\\<objeto>_. Isso vincula o identificador à esquerda do sinal `=` ao objeto à sua direita."
   ]
  },
  {
   "cell_type": "code",
   "execution_count": 6,
   "metadata": {},
   "outputs": [
    {
     "data": {
      "text/plain": [
       "1729"
      ]
     },
     "execution_count": 6,
     "metadata": {},
     "output_type": "execute_result"
    }
   ],
   "source": [
    "a = 1729   # Vincula o identificador 'a' ao inteiro 1729.\n",
    "a          # Retorna o valor do objeto correspondente como saída da célula."
   ]
  },
  {
   "cell_type": "code",
   "execution_count": 7,
   "metadata": {},
   "outputs": [
    {
     "name": "stdout",
     "output_type": "stream",
     "text": [
      "1729\n",
      "17.29\n"
     ]
    }
   ],
   "source": [
    "b = 1729       # Cria uma nova variável b e atribui o objeto 1729 a ela.\n",
    "print(b)       # Imprime o valor atual de b.\n",
    "b = 17.29      # Reatribui um _novo_ objeto ao nome 'b'.\n",
    "print(b)       # Imprime o valor atual de b."
   ]
  },
  {
   "cell_type": "markdown",
   "metadata": {},
   "source": [
    "📝 Diferentemente de algumas outras linguagens de programação, em Python a sintaxe para _criar uma nova variável_ e para _atribuir um novo objeto a um nome de variável existente_ é exatamente a mesma:\n",
    "\n",
    "Identificadores (isto é, nomes de variáveis) podem consistir apenas de letras, dígitos e __sublinhados__ \\_; o caractere inicial deve ser uma letra ou sublinhado. A classe de \"letras\" na verdade inclui muitos caracteres Unicode não-latinos."
   ]
  },
  {
   "cell_type": "code",
   "execution_count": 8,
   "metadata": {},
   "outputs": [],
   "source": [
    "variable_1 = 10     # Nome de variável usando letras, sublinhado e um dígito\n",
    "变量 = \"Chinese\"    # Caracteres chineses\n",
    "π = 3.14            # Letra grega"
   ]
  },
  {
   "cell_type": "code",
   "execution_count": 9,
   "metadata": {},
   "outputs": [
    {
     "name": "stdout",
     "output_type": "stream",
     "text": [
      "10\n",
      "Chinese\n",
      "3.14\n"
     ]
    }
   ],
   "source": [
    "print(variable_1)\n",
    "print(变量)\n",
    "print(π)"
   ]
  },
  {
   "cell_type": "code",
   "execution_count": 10,
   "metadata": {},
   "outputs": [
    {
     "ename": "SyntaxError",
     "evalue": "invalid character '🚀' (U+1F680) (786831993.py, line 2)",
     "output_type": "error",
     "traceback": [
      "\u001b[0;36m  Cell \u001b[0;32mIn[10], line 2\u001b[0;36m\u001b[0m\n\u001b[0;31m    🚀 = \"rocket\"\u001b[0m\n\u001b[0m    ^\u001b[0m\n\u001b[0;31mSyntaxError\u001b[0m\u001b[0;31m:\u001b[0m invalid character '🚀' (U+1F680)\n"
     ]
    }
   ],
   "source": [
    "# Infelizmente, ainda não podemos usar emojis como nomes de variáveis 🙁:\n",
    "🚀 = \"rocket\""
   ]
  },
  {
   "cell_type": "markdown",
   "metadata": {},
   "source": [
    "📝 Por convenção, letras iniciais maiúsculas são geralmente reservadas para denotar classes e letras iniciais minúsculas para nomear objetos. Os identificadores de valores constantes são frequentemente escritos usando apenas caracteres maiúsculos."
   ]
  },
  {
   "cell_type": "markdown",
   "metadata": {},
   "source": [
    "<div class=\"alert alert-info\"> Em Python, simplesmente criar uma variável ou atribuir a ela um novo objeto não faz o interpretador retornar nem imprimir seu valor.\n",
    "    <ul>\n",
    "        <li>Para fazer o interpretador <i>retornar</i> o valor do objeto vinculado a uma variável, digamos $ x $, como saída de uma célula, pode-se usar uma instrução consistindo apenas de seu nome, neste caso <code>x</code>.</li>\n",
    "        <li>Para <i>imprimir</i> o valor do objeto referido por uma variável, digamos $ x $, na tela, use <code>print(x)</code>. Note que chamar <code>print</code> <i>não gera saída</i> (mais precisamente, retorna <code>None</code>, como discutiremos depois).</li></ul></div>\n",
    "\n",
    "Mais geralmente, a função `print` pode ser usada para imprimir na tela qualquer coleção de argumentos, separados por vírgulas. Estas vírgulas serão substituídas por espaços simples quando os argumentos forem exibidos."
   ]
  },
  {
   "cell_type": "code",
   "execution_count": null,
   "metadata": {},
   "outputs": [],
   "source": [
    "a = 'astuto'\n",
    "b = 'bola'\n",
    "print(a)\n",
    "print(a, b)"
   ]
  },
  {
   "cell_type": "markdown",
   "metadata": {},
   "source": [
    "⚠️ Se uma célula de código contém mais de uma instrução que produz uma saída, então apenas o resultado da mais recente será produzido como saída da célula; os outros são descartados."
   ]
  },
  {
   "cell_type": "code",
   "execution_count": null,
   "metadata": {},
   "outputs": [
    {
     "ename": "SyntaxError",
     "evalue": "invalid syntax (3488736559.py, line 7)",
     "output_type": "error",
     "traceback": [
      "\u001b[0;36m  Cell \u001b[0;32mIn[11], line 7\u001b[0;36m\u001b[0m\n\u001b[0;31m    O tipo de uma variável $ x $ pode ser inspecionado através de uma chamada à função `type`, como em `type(x)`.\u001b[0m\n\u001b[0m      ^\u001b[0m\n\u001b[0;31mSyntaxError\u001b[0m\u001b[0;31m:\u001b[0m invalid syntax\n"
     ]
    }
   ],
   "source": [
    "# Esta instrução faz o interpretador avaliar a variável a:\n",
    "a    # (avalia para a string 'astuto')\n",
    "# No entanto, se emitirmos outra instrução dessas:\n",
    "b    # (avalia para a string 'mago')\n",
    "# então apenas a última realmente produzirá uma saída."
   ]
  },
  {
   "cell_type": "markdown",
   "metadata": {},
   "source": [
    "O tipo de uma variável $ x $ pode ser inspecionado através de uma chamada à função `type`, como em `type(x)`."
   ]
  },
  {
   "cell_type": "code",
   "execution_count": null,
   "metadata": {},
   "outputs": [],
   "source": [
    "number = 'dois'  # A string 'dois' é atribuída à nova variável `number`.\n",
    "print(number, type(number))\n",
    "\n",
    "number = 2  # A variável `number` agora aponta para um objeto de tipo diferente.\n",
    "print(number, type(number))"
   ]
  },
  {
   "cell_type": "markdown",
   "metadata": {},
   "source": [
    "Como no exemplo anterior, o interpretador Python infere automaticamente o tipo de uma variável a partir de seu valor; este recurso é chamado de __inferência de tipo__. Além disso, em Python (em contraste com, digamos, C ou Java), as variáveis são __tipadas dinamicamente__, significando que não apenas o _objeto_ vinculado a uma variável pode mudar durante um programa, mas mesmo sua _classe_ (ou _tipo_) pode ser modificada. Sempre que um novo objeto é atribuído a um identificador previamente usado, a associação original é perdida.\n",
    "\n",
    "📝 Linhas em branco em uma célula de código são ignoradas pelo interpretador. Podemos usá-las para separar visualmente o código em várias partes a fim de melhorar a legibilidade.\n",
    "\n",
    "A instrução `isinstance(<variável>, <classe>)` retorna `True` ou `False` de acordo com se uma determinada variável pertence à classe indicada ou não.\n",
    "\n",
    "__Exercício:__ Se a instrução `lifespan = 120` é executada, determine os valores do seguinte (aqui `str`, `int` e `float` são os nomes dos tipos de strings, inteiros e números de ponto flutuante, respectivamente):\n",
    "\n",
    "(a) `isinstance(lifespan, str)`\n",
    "\n",
    "(b) `isinstance(lifespan, int)`\n",
    "\n",
    "(c) `isinstance(lifespan, float)`\n",
    "\n",
    "Como as respostas mudam se `lifespan = 120.0`?"
   ]
  },
  {
   "cell_type": "code",
   "execution_count": 12,
   "metadata": {},
   "outputs": [],
   "source": [
    "lifespan = 120"
   ]
  },
  {
   "cell_type": "markdown",
   "metadata": {},
   "source": [
    "Também podemos determinar se um objeto pertence a um de vários tipos, como no seguinte exemplo:"
   ]
  },
  {
   "cell_type": "code",
   "execution_count": 13,
   "metadata": {},
   "outputs": [
    {
     "data": {
      "text/plain": [
       "True"
      ]
     },
     "execution_count": 13,
     "metadata": {},
     "output_type": "execute_result"
    }
   ],
   "source": [
    "x = 12.4\n",
    "isinstance(x, (str, float))  # Retorna `True` já que x é um float"
   ]
  },
  {
   "cell_type": "markdown",
   "metadata": {},
   "source": [
    "⚠️ Todos os nomes (não apenas os de variáveis) são __sensíveis a maiúsculas e minúsculas__. Assim `Staff` e `staff` podem se referir a objetos completamente diferentes.\n",
    "\n",
    "__Exercício:__ Preveja o que é impresso quando você executa a célula de código abaixo."
   ]
  },
  {
   "cell_type": "code",
   "execution_count": null,
   "metadata": {},
   "outputs": [],
   "source": [
    "Mammal = \"baleia\"\n",
    "mammal = \"cachorro\"\n",
    "\n",
    "print(Mammal)"
   ]
  },
  {
   "cell_type": "markdown",
   "metadata": {},
   "source": [
    "__Exercício:__ Você pode explicar o que acontece se a instrução `print(print(p))` é interpretada?"
   ]
  },
  {
   "cell_type": "code",
   "execution_count": null,
   "metadata": {},
   "outputs": [],
   "source": [
    "p = \"imprima-me\""
   ]
  },
  {
   "cell_type": "markdown",
   "metadata": {},
   "source": [
    "__Exercício:__ O que acontece se você emitir as seguintes instruções consecutivamente? Qual é a saída (se houver) em cada caso?\n",
    "\n",
    "(a) `a = 2`\n",
    "\n",
    "(b) `b = 3`\n",
    "\n",
    "(c) `c = a * b`\n",
    "\n",
    "(d) `print(c)`\n",
    "\n",
    "(e) `a - b`\n",
    "\n",
    "(f) `a**b`"
   ]
  },
  {
   "cell_type": "code",
   "execution_count": null,
   "metadata": {},
   "outputs": [],
   "source": []
  },
  {
   "cell_type": "markdown",
   "metadata": {},
   "source": [
    "🚫 O seguinte pequeno conjunto de palavras-chave não pode ser usado para nomear objetos porque elas já têm um significado especial para o interpretador (não tente memorizar!):\n",
    "\n",
    "|         |            |         |          |\n",
    "|:-------:|:----------:|:-------:|:--------:|\n",
    "| `False` | `None`     | `True`  | `and`    |\n",
    "| `as`    | `assert`   | `async` | `await`  |\n",
    "| `break` | `class`    | `continue` | `def` |\n",
    "| `del`   | `elif`     | `else`  | `except` |\n",
    "| `finally` | `for`    | `from`  | `global` |\n",
    "| `if`    | `import`   | `in`    | `is`     |\n",
    "| `lambda`| `nonlocal` | `not`   | `or`     |\n",
    "| `pass`  | `raise`    | `return`| `try`    |\n",
    "| `while` | `with`     | `yield` |          |\n",
    "\n",
    "\n",
    "__Exercício:__\n",
    "\n",
    "(a) Sejam `x` e `y` com valores $ 1 $ e $ 2 $, respectivamente. Suponha que queremos trocar seus valores. Podemos realizar isso através das instruções na célula de código abaixo? Explique."
   ]
  },
  {
   "cell_type": "code",
   "execution_count": null,
   "metadata": {},
   "outputs": [],
   "source": [
    "x = 1    # Inicializando x.\n",
    "y = 2    # Inicializando y.\n",
    "\n",
    "# Realizando a troca:\n",
    "x = y\n",
    "y = x\n",
    "print(x, y)"
   ]
  },
  {
   "cell_type": "markdown",
   "metadata": {},
   "source": [
    "(b) Como se poderia usar uma terceira variável temporária `temp` para resolver este problema?"
   ]
  },
  {
   "cell_type": "code",
   "execution_count": null,
   "metadata": {},
   "outputs": [],
   "source": []
  },
  {
   "cell_type": "markdown",
   "metadata": {},
   "source": [
    "Em Python, pode-se fazer várias __atribuições simultâneas__ em uma única linha usando vírgulas `,` como separadores. Isso é especialmente útil para permutar os valores de duas ou mais variáveis sem recorrer a variáveis temporárias. No entanto, como melhor prática, deve-se evitar usar desnecessariamente este recurso porque ele prejudica a legibilidade do código.\n",
    "\n",
    "__Exemplo:__"
   ]
  },
  {
   "cell_type": "code",
   "execution_count": null,
   "metadata": {},
   "outputs": [],
   "source": [
    "x = 1\n",
    "y = 2\n",
    "print(x, y)\n",
    "\n",
    "x, y = y, x\n",
    "print(x, y)"
   ]
  },
  {
   "cell_type": "code",
   "execution_count": null,
   "metadata": {},
   "outputs": [],
   "source": [
    "# Múltiplas atribuições são feitas _simultaneamente_.\n",
    "# Verifique isso no seguinte exemplo:\n",
    "x = 1\n",
    "y = 2\n",
    "x, y = x + y, x - y"
   ]
  },
  {
   "cell_type": "markdown",
   "metadata": {},
   "source": [
    "__Exercício:__ Como dissemos antes, em Python todo objeto deve pertencer a uma classe, isto é, ser de algum tipo. Como você poderia descobrir qual é o tipo de um determinado tipo? A resposta depende do tipo dado?"
   ]
  },
  {
   "cell_type": "code",
   "execution_count": null,
   "metadata": {},
   "outputs": [],
   "source": []
  },
  {
   "cell_type": "markdown",
   "metadata": {},
   "source": [
    "## § 2 O tipo booleano `bool`\n",
    "\n",
    "### 2.1 Descrição do tipo booleano\n",
    "\n",
    "O tipo __booleano__, denotado por `bool` em Python, consiste em apenas dois objetos: `True` e `False`. Uma __expressão booleana__ é uma expressão que tem um valor booleano, isto é, que avalia para `True` ou `False`.\n",
    "\n",
    "__Exemplo:__"
   ]
  },
  {
   "cell_type": "code",
   "execution_count": null,
   "metadata": {},
   "outputs": [],
   "source": [
    "a = True\n",
    "b = False\n",
    "print(a, type(a))\n",
    "print(b, type(b))"
   ]
  },
  {
   "cell_type": "markdown",
   "metadata": {},
   "source": [
    "O tipo booleano suporta os três __operadores lógicos__ básicos `and`, `or` e `not` (formalmente chamados de _conjunção_, _disjunção_ e _negação_, respectivamente). Note que os dois primeiros são operadores _binários_ (isto é, requerendo dois argumentos), enquanto o último é um operador _unário_ (ele trabalha com um único argumento booleano).\n",
    "\n",
    "📝 Pode-se mostrar que qualquer função booleana (uma função que recebe um número fixo e finito de argumentos booleanos e retorna um valor booleano) pode ser construída apenas a partir desses três operadores. Na verdade, `and` e `not` são suficientes. Indo ainda mais longe, \"nand\" por si só é suficiente, onde por definição $ x \\ \\texttt{nand}\\ y = \\texttt{not}\\big(x\\ \\texttt{and}\\ y) $, embora não haja operador $ \\texttt{nand} $ incorporado em Python."
   ]
  },
  {
   "cell_type": "markdown",
   "metadata": {},
   "source": [
    "__Exercício:__ Considerando todos os pares que podem ser formados a partir dos valores `True` e `False`, construa as tabelas-verdade dos operadores `and` e `or`. _Dica:_ Para reduzir a quantidade de texto que precisa ser digitado, introduza duas variáveis `t` e `f` que tenham `True` e `False` como seus valores."
   ]
  },
  {
   "cell_type": "code",
   "execution_count": null,
   "metadata": {},
   "outputs": [],
   "source": []
  },
  {
   "cell_type": "markdown",
   "metadata": {},
   "source": [
    "Booleanos são extremamente importantes em qualquer linguagem de programação porque eles permitem a execução condicional de trechos de código. Eles geralmente aparecem nos testes condicionais de construções `if-elif-else` ou `while` a serem consideradas posteriormente, ou como resultado de comparações. No entanto, eles podem ser úteis em várias outras situações também.\n",
    "\n",
    "__Exercício:__ Sejam $ t $ e $ f $ variáveis tendo os valores `True` e `False`, respectivamente. Qual é o valor das seguintes expressões booleanas?\n",
    "\n",
    "(a) `not(t)`\n",
    "\n",
    "(b) `not t`\n",
    "\n",
    "(c) `not(t and f)`\n",
    "\n",
    "(d) `not t and f`\n",
    "\n",
    "(e) `(not t) or (not f)`\n",
    "\n",
    "(f) `not t or not f`\n",
    "\n",
    "(g) `not not t`\n",
    "\n",
    "(h) `t and not f`\n",
    "\n",
    "(i) `t and f or t`"
   ]
  },
  {
   "cell_type": "code",
   "execution_count": null,
   "metadata": {},
   "outputs": [],
   "source": []
  },
  {
   "cell_type": "markdown",
   "metadata": {},
   "source": [
    "### 2.2 Operadores de comparação\n",
    "\n",
    "Os seguintes operadores de comparação binários podem ser aplicados a vários tipos de objetos. Cada um deles produz `True` ou `False` como saída.\n",
    "\n",
    "| Operador   | Tradução                 |\n",
    "| :--------  | :---------               |\n",
    "| `==`       | Igual a                  |\n",
    "| `!=`       | Diferente de             |\n",
    "| `<`        | Menor que                |\n",
    "| `>`        | Maior que                |\n",
    "| `<=`       | Menor ou igual a         |\n",
    "| `>=`       | Maior ou igual a         |\n",
    "\n",
    "\n",
    "<div class=\"alert alert-warning\">É um erro comum para iniciantes confundir o operador de atribuição <code>=</code> com o operador de igualdade <code>==</code>. Isso pode levar a erros sintáticos (erros na estrutura do código, que são detectados pelo interpretador) ou, pior ainda, erros semânticos (discrepâncias entre as intenções do programador e os resultados reais, que muitas vezes não são detectados pelo interpretador).</div>\n",
    "\n",
    "📝 Se uma comparação é feita entre dois valores de tipos diferentes, então o interpretador primeiro tentará convertê-los para um tipo comum. Por exemplo, se compararmos um inteiro com um float, então o inteiro é primeiro convertido para float.\n",
    "\n",
    "__Exercício:__ Preveja e explique a saída das seguintes instruções:\n",
    "\n",
    "(a) `1 > 2`\n",
    "\n",
    "(b) `1 == 0.9999999`\n",
    "\n",
    "(c) `1 == 0.99999999999999999`\n",
    "\n",
    "(d) `2 != 1 + 1`\n",
    "\n",
    "(e) `2 = 1 + 1`\n",
    "\n",
    "(f) `True != False`\n",
    "\n",
    "(g) `3**5 >= 4**4`\n",
    "\n",
    "(h) `\"pequeno\" < \"grande\"`"
   ]
  },
  {
   "cell_type": "code",
   "execution_count": null,
   "metadata": {},
   "outputs": [],
   "source": []
  },
  {
   "cell_type": "markdown",
   "metadata": {},
   "source": [
    "__Exercício:__ Sejam $ a = 8 $, $ b = 7.99 $ e $ c = -23 $. Para que valores as seguintes expressões booleanas avaliam?\n",
    "\n",
    "(a) `c <= a and a >= b`\n",
    "\n",
    "(b) `c < b < a`\n",
    "\n",
    "(c) `c != b > a`\n",
    "\n",
    "(d) `a <= a >= a`"
   ]
  },
  {
   "cell_type": "code",
   "execution_count": null,
   "metadata": {},
   "outputs": [],
   "source": [
    "a = 8\n",
    "b = 7.99\n",
    "c = -23"
   ]
  },
  {
   "cell_type": "markdown",
   "metadata": {},
   "source": [
    "📝 Em Python, qualquer valor de um tipo incorporado pode ser interpretado como um Booleano. Como regra geral, para tipos numéricos (`int`, `float`, `complex`), $ 0 $ é o único número que avalia para `False`. Para tipos sequenciais (como `str`, `list` ou `tuple`), apenas objetos vazios são considerados `False`. Em outras palavras, `True` e `False` não são os únicos objetos considerados verdadeiros e falsos! Podemos inspecionar como um valor será interpretado como Booleano convertendo-o explicitamente para o tipo `bool`:"
   ]
  },
  {
   "cell_type": "code",
   "execution_count": null,
   "metadata": {},
   "outputs": [],
   "source": [
    "print(bool(0))\n",
    "print(bool(1 + 3j))\n",
    "print(bool(\"\"))\n",
    "print(bool(\"Não nasceste para a morte, Pássaro imortal!\"))"
   ]
  },
  {
   "cell_type": "markdown",
   "metadata": {},
   "source": [
    "## § 3 `None`\n",
    "\n",
    "O tipo `Nonetype` consiste no único objeto `None`, que é usado para indicar um valor nulo, isto é, \"nada\"; é similar a `null` em outras linguagens, como C.\n",
    "\n",
    "`None` é frequentemente usado como um espaço reservado no caso em que uma função não tem valores para retornar ou para indicar que algum objeto está vazio ou faltando. Por exemplo, uma chamada à função `print` sempre retorna `None` como sua saída, independentemente de seu argumento.\n",
    "\n",
    "* `None` não é o mesmo que $ 0 $; não é possível usá-lo dentro de expressões aritméticas.\n",
    "* `None` não é uma string, vazia ou não. No entanto, se for impresso, 'None' é exibido.\n",
    "* `None` não é o mesmo que `False`, mas é avaliado como `False` quando aparece em um teste condicional.\n",
    "\n",
    "__Exercício:__ Seja `x = None`. Verifique a saída das seguintes instruções (tentar explicar algumas delas exigiria mais conhecimento de Python do que temos neste momento):\n",
    "\n",
    "(a) `x`\n",
    "\n",
    "(b) `print(x)`\n",
    "\n",
    "(c) `x != True`\n",
    "\n",
    "(d) `x != False`\n",
    "\n",
    "(e) `x != 0`\n",
    "\n",
    "(f) `not x`"
   ]
  },
  {
   "cell_type": "code",
   "execution_count": null,
   "metadata": {},
   "outputs": [],
   "source": [
    "x = None"
   ]
  },
  {
   "cell_type": "markdown",
   "metadata": {},
   "source": [
    "## § 4 Tipos numéricos e operadores\n",
    "\n",
    "Python suporta três tipos de dados incorporados para representar números:\n",
    "* `int`, ou tipo __inteiro__, para números inteiros como $ -1 $, $ 2 $, $ 0 $ ou $ 53 $;\n",
    "* `float`, ou tipo de __ponto flutuante__, para números de ponto flutuante (intuitivamente, números com uma expansão decimal finita) como $ 3.1415 $, $ 2.0 $ ou $ -.450 $;\n",
    "* `complex`, ou tipo __complexo__, para números complexos como $ 2 + 3i $ ou $ 3.14 - 43.5i $.\n",
    "\n",
    "Cada um desses tipos também suporta os operadores de igualdade `==` e desigualdade `!=`, os operadores aritméticos básicos `+`, `-`, `*` (multiplicação), `/` (divisão) e alguns outros a serem discutidos abaixo. Inteiros e floats (mas não números complexos!) também podem ser comparados em tamanho através de `<`, `>`, `<=` e `>=`.\n",
    "\n",
    "## § 5 O tipo `int` dos inteiros\n",
    "\n",
    "Diferentemente de muitas outras linguagens, há apenas um tipo para representar inteiros: `int`. Além disso, esses inteiros podem em princípio ser de qualquer tamanho (um limite é imposto apenas pela capacidade de memória do computador)."
   ]
  },
  {
   "cell_type": "code",
   "execution_count": null,
   "metadata": {},
   "outputs": [],
   "source": [
    "a = 4\n",
    "b = -3\n",
    "print(a, type(a))    # Verificando se a é do tipo int.\n",
    "print(b, type(b))"
   ]
  },
  {
   "cell_type": "code",
   "execution_count": null,
   "metadata": {},
   "outputs": [],
   "source": [
    "# Verificando se o autor mentiu sobre não haver limite para\n",
    "# os possíveis valores dos inteiros:\n",
    "print(\"2 elevado a 64:\", 2**64)\n",
    "print(\"2 elevado a 256:\", 2**256)\n",
    "print(\"2 elevado a 1024:\", 2**1024)"
   ]
  },
  {
   "cell_type": "markdown",
   "metadata": {},
   "source": [
    "__Exercício:__ Você pode prever o valor das expressões abaixo quando $ x = 3 $ e $ y = 2 $? E se $ y = -2 $?"
   ]
  },
  {
   "cell_type": "code",
   "execution_count": null,
   "metadata": {},
   "outputs": [],
   "source": [
    "# x = 3\n",
    "# y = 2\n",
    "print(x + y)      # Somando x e y.\n",
    "print(x - y)      # Subtraindo y de x.\n",
    "print(x * y)      # Multiplicando x e y.\n",
    "print(x // y)     # Quociente de x por y (divisão inteira).\n",
    "print(x % y)      # Resto da divisão de x por y.\n",
    "print(y**x)       # Elevando y a x; pode retornar um float.\n",
    "print(x**y)       # Elevando x a y; pode retornar um float.\n",
    "print(x / y)      # Divisão de x por y; sempre retorna um float."
   ]
  },
  {
   "cell_type": "markdown",
   "metadata": {},
   "source": [
    "__Exercício:__ Seja $ x = 64 $. O que as instruções `x**0.5` e `x**(1/3)` produzem? Explique."
   ]
  },
  {
   "cell_type": "code",
   "execution_count": null,
   "metadata": {},
   "outputs": [],
   "source": []
  },
  {
   "cell_type": "markdown",
   "metadata": {},
   "source": [
    "__Exercício:__ O que é $ 0^0 $ segundo o Python?"
   ]
  },
  {
   "cell_type": "code",
   "execution_count": null,
   "metadata": {},
   "outputs": [],
   "source": []
  },
  {
   "cell_type": "code",
   "execution_count": null,
   "metadata": {},
   "outputs": [],
   "source": []
  },
  {
   "cell_type": "markdown",
   "metadata": {},
   "source": [
    "## § 6 O tipo `float` de números de ponto flutuante\n",
    "\n",
    "Números irracionais como $ \\pi $ ou $ e $ nunca podem ser representados exatamente em uma máquina, independentemente de se usar o sistema decimal ou binário, porque isso exigiria uma quantidade infinita de dígitos para serem armazenados. Números de ponto flutuante fornecem representações aproximadas de números reais; seu tipo é chamado `float`. Usando a notação convencional, um número de ponto flutuante é caracterizado pelo uso de um ponto decimal `.` para separar suas partes inteira e fracionária.\n",
    "\n",
    "__Exemplo:__"
   ]
  },
  {
   "cell_type": "code",
   "execution_count": null,
   "metadata": {},
   "outputs": [],
   "source": [
    "x = 3.14         # Podemos reconhecer que x e y são do tipo\n",
    "y = -2.71        # float por causa dos pontos decimais.\n",
    "z = 19.\n",
    "w = .456\n",
    "\n",
    "print(type(z))   # Verificando que z é do tipo float.\n",
    "print(x**y)      # Elevando x a y.\n",
    "print(x / x)     # Dividindo x por x."
   ]
  },
  {
   "cell_type": "markdown",
   "metadata": {},
   "source": [
    "📝 Seguindo o padrão IEEE 754, em Python números de ponto flutuante são representados como valores de 64 bits, de dupla precisão. Os valores que qualquer número de ponto flutuante pode assumir são restritos ao intervalo aproximado entre $ \\pm 1.8 \\cdot 10^{308} $. Se alguma expressão produzir um valor que exceda esses limites, então um _erro de overflow_ ou alguma outra quantidade inesperada pode resultar. Da mesma forma, um número não-zero cujo valor absoluto é menor que $ 2.3 \\cdot 10^{-308} $ não pode ser representado exatamente; ele pode ser arredondado para $ 0.0 $, o que por sua vez pode acionar um erro (como divisão por zero) dependendo da situação.\n",
    "\n",
    "__Exercício:__ Sejam $ r = 3.0 $ e $ s = 1.2 $. Adivinhe e depois explique os valores que são impressos abaixo."
   ]
  },
  {
   "cell_type": "code",
   "execution_count": null,
   "metadata": {},
   "outputs": [],
   "source": [
    "# r = 3.0\n",
    "# s = 1.2\n",
    "print(r + s)      # Somando r e s.\n",
    "print(r - s)      # Subtraindo s de r.\n",
    "print(r * s)      # Multiplicando r e s.\n",
    "print(r / s)      # Divisão de r por s.\n",
    "print(r**s)       # Elevando r a s.\n",
    "print(r // s)     # Quantas vezes s cabe em r? Retorna um float.\n",
    "print(r % s)      # E qual é o resto? Retorna um float."
   ]
  },
  {
   "cell_type": "markdown",
   "metadata": {},
   "source": [
    "__Exercício:__ O que acontece se você tentar dividir por $ 0 $?"
   ]
  },
  {
   "cell_type": "code",
   "execution_count": null,
   "metadata": {},
   "outputs": [],
   "source": []
  },
  {
   "cell_type": "markdown",
   "metadata": {},
   "source": [
    "Um número de ponto flutuante também pode ser escrito na __notação científica__ ou __notação exponencial__ usando `e`. Nesta notação, o número à esquerda de `e` é multiplicado por $ 10 $ elevado à potência à direita de `e`.\n",
    "\n",
    "__Exercício:__ Quais números reais são representados pelos seguintes floats?\n",
    "\n",
    "(a) `3.14159e0`\n",
    "\n",
    "(b) `1.23e2`\n",
    "\n",
    "(c) `2e-1`\n",
    "\n",
    "(d) `1.e-2`\n",
    "\n",
    "(e) `10e-1`\n",
    "\n",
    "(f) `4.56e-2`\n",
    "\n",
    "(g) `.789e5`"
   ]
  },
  {
   "cell_type": "code",
   "execution_count": null,
   "metadata": {},
   "outputs": [],
   "source": []
  },
  {
   "cell_type": "markdown",
   "metadata": {},
   "source": [
    "⚠️ Note que `10e1` não representa $ 10^1 = 10 $, mas sim\n",
    "$$\n",
    "10 \\times 10^1 = 10^2 = 100\\,.\n",
    "$$\n",
    "Em outras palavras, o `e` na notação científica não representa a operação de exponenciação, que é denotada por `**`.\n",
    "\n",
    "⚠️ A notação científica só pode ser usada com valores constantes, não variáveis, como ilustrado no exercício abaixo.\n",
    "\n",
    "__Exercício:__ Seja `x = 3.14` e `y = 2`. Considere as três maneiras seguintes de fazer o interpretador computar o valor de $ 3.14 \\times 10^2 $ e explique seus resultados:\n",
    "\n",
    "(a) `print(3.14e2)`\n",
    "\n",
    "(b) `print(xe2)`\n",
    "\n",
    "(c) `print(3.14ey)`"
   ]
  },
  {
   "cell_type": "code",
   "execution_count": null,
   "metadata": {},
   "outputs": [],
   "source": [
    "x = 3.14\n",
    "y = 2"
   ]
  },
  {
   "cell_type": "markdown",
   "metadata": {},
   "source": [
    "📝 A expressão \"ponto flutuante\" refere-se ao fato de que, quando expresso em notação científica, a posição do ponto decimal de um número deste tipo pode \"flutuar\" em qualquer lugar entre seus dígitos, isto é, não está preso à posição à direita do dígito que representa unidades. Em particular, o mesmo número pode ser representado de várias maneiras, por exemplo:\n",
    "$$\n",
    "3.1415 \\times 10^0 = 3141.5 \\times 10^{-3} = 31415 \\times 10^{-4}\n",
    "$$"
   ]
  },
  {
   "cell_type": "markdown",
   "metadata": {},
   "source": [
    "__Exercício:__ Explique por que `2023**100` avalia para um inteiro enquanto `2020.1**100` produz um erro de overflow. _Dica:_ Veja os comentários no § 5."
   ]
  },
  {
   "cell_type": "code",
   "execution_count": null,
   "metadata": {},
   "outputs": [],
   "source": []
  },
  {
   "cell_type": "markdown",
   "metadata": {},
   "source": [
    "__Exercício:__ Avalie `2.0 + 2.0 - 2.0` e `2.0 + 2.0e16 - 2.0e16` e tente explicar por que os resultados são diferentes. (Voltaremos a este problema quando estudarmos aritmética de ponto flutuante mais tarde.)"
   ]
  },
  {
   "cell_type": "code",
   "execution_count": null,
   "metadata": {},
   "outputs": [],
   "source": []
  },
  {
   "cell_type": "markdown",
   "metadata": {},
   "source": [
    "## § 7 Conversão de tipos\n",
    "\n",
    "Podemos usar `int`, `float` e `complex` como _funções_ para converter um valor para o tipo correspondente em certos casos (números complexos são discutidos no § 10). Da mesma forma, qualquer valor de um tipo numérico pode ser convertido para uma string usando `str` como uma função (strings serão discutidas em profundidade no próximo notebook). Mais precisamente:\n",
    "\n",
    "* Qualquer inteiro pode ser convertido em um número de ponto flutuante ou complexo;\n",
    "* Qualquer número de ponto flutuante pode ser convertido em um número complexo;\n",
    "* Qualquer valor numérico pode ser convertido em uma string;\n",
    "* Inversamente, uma string também pode ser convertida em um tipo numérico, desde que seu literal represente um número válido do tipo pretendido.\n",
    "\n",
    "__Exercício:__ Suponha que $ a = 2 $. Se executarmos as seguintes instruções em sequência, quais são os valores e tipos das saídas correspondentes?\n",
    "\n",
    "(a) `float(a)`\n",
    "\n",
    "(b) `complex(a)`\n",
    "\n",
    "(c) `str(a)`\n",
    "\n",
    "(d) `a`"
   ]
  },
  {
   "cell_type": "code",
   "execution_count": null,
   "metadata": {},
   "outputs": [],
   "source": []
  },
  {
   "cell_type": "markdown",
   "metadata": {},
   "source": [
    "📝 Note que em qualquer destes casos, o objeto original permanece o mesmo e um _novo_ objeto tendo o tipo especificado é criado. Por exemplo, no exercício anterior, depois que todas as instruções foram executadas, $ a $ ainda é do tipo `int`.\n",
    "\n",
    "Aplicar `int` a um número de ponto flutuante $ x $ _trunca_ ele, isto é, descarta a parte fracionária de $ x $.\n",
    "\n",
    "__Exercício:__ Calcule as saídas de:\n",
    "\n",
    "(a) `int(2)`\n",
    "\n",
    "(b) `int(2.3)`\n",
    "\n",
    "(c) `int(2.8)`\n",
    "\n",
    "(d) `int(-2.3)`\n",
    "\n",
    "(e) `int(-2.8)`"
   ]
  },
  {
   "cell_type": "code",
   "execution_count": null,
   "metadata": {},
   "outputs": [],
   "source": []
  },
  {
   "cell_type": "markdown",
   "metadata": {},
   "source": [
    "Para arredondar $ x $ para o inteiro mais próximo, usamos `round(x)`. Mais geralmente, `round(x, <número de dígitos>)` _arredonda_ um número de ponto flutuante $ x $ para uma precisão dentro do número especificado de dígitos após o ponto decimal.\n",
    "\n",
    "__Exercício:__ Seja a variável $ b $ com o valor $ 2.654321 $. Quais são os valores de:\n",
    "\n",
    "(a) `int(b)`\n",
    "\n",
    "(b) `round(b)`\n",
    "\n",
    "(c) `round(b, 3)`\n",
    "\n",
    "(d) `round(b, 0)`\n",
    "\n",
    "(e) `round(b, 9)`\n",
    "\n",
    "(f) `round(-b)`\n",
    "\n",
    "(g) `int(-b)`"
   ]
  },
  {
   "cell_type": "code",
   "execution_count": null,
   "metadata": {},
   "outputs": [],
   "source": [
    "b = 2.654321"
   ]
  },
  {
   "cell_type": "markdown",
   "metadata": {},
   "source": [
    "## § 8 Operações aritméticas\n",
    "Em resumo, Python suporta os seguintes operadores aritméticos binários:\n",
    "\n",
    "| Operador  | Operação           | Tipos permitidos           |\n",
    "| :-------- | :---------         | :------------------------  |\n",
    "| `+`       | Adição            | `int`, `float`, `complex` |\n",
    "| `-`       | Subtração         | `int`, `float`, `complex` |\n",
    "| `*`       | Multiplicação     | `int`, `float`, `complex` |\n",
    "| `/`       | Divisão           | `int`, `float`, `complex` |\n",
    "| `**`      | Exponenciação     | `int`, `float`, `complex` |\n",
    "| `//`      | Divisão inteira   | `int`, `float`            |\n",
    "| `%`       | Módulo (resto)    | `int`, `float`            |\n",
    "\n",
    "Os dois últimos operadores são definidos da seguinte forma. Se $ x $ e $ y $ são números inteiros ou de ponto flutuante, então:\n",
    "* `x // y` é o maior inteiro $ n $ tal que $ n y \\le x $ (equivalentemente, é o piso de $ \\frac{x}{y} $).\n",
    "* `x % y` é o resto $ x - ny $. Em outras palavras, é definido pela equação:\n",
    "$$\n",
    "\\mathtt{x\\ =\\ y\\ *\\ (x\\ //\\ y) + x\\ \\%\\ y}\n",
    "$$\n",
    "\n",
    "Estes operadores são geralmente aplicados apenas quando $ x $ e $ y $ são ambos positivos, mas as definições acima funcionam independentemente dos sinais de $ x $ e $ y $.\n",
    "\n",
    "📝 Note a semelhança do símbolo `%` com o símbolo $ \\div \\,$ para o operador de divisão.\n",
    "\n",
    "__Exercício:__ Preveja os valores das seguintes expressões e depois verifique suas respostas:\n",
    "\n",
    "(a) `7 * 2`\n",
    "\n",
    "(b) `7 ** 2`\n",
    "\n",
    "(c) `7 // 2`\n",
    "\n",
    "(d) `7 / 2`\n",
    "\n",
    "(e) `7 % 2`"
   ]
  },
  {
   "cell_type": "markdown",
   "metadata": {},
   "source": [
    "__Exercício:__ Sejam $ x = 11 $, $ y = 3 $, $ s = 2.51 $ e $ t = 8.53 $. Qual é a saída das instruções abaixo?\n",
    "\n",
    "(a) `x // t`\n",
    "\n",
    "(b) `x % t`\n",
    "\n",
    "(c) `t // y`\n",
    "\n",
    "(d) `t % y`\n",
    "\n",
    "(e) `t // s`\n",
    "\n",
    "(f) `t % s`"
   ]
  },
  {
   "cell_type": "code",
   "execution_count": null,
   "metadata": {},
   "outputs": [],
   "source": []
  },
  {
   "cell_type": "markdown",
   "metadata": {},
   "source": [
    "📝 Aplicar `%` com segundo argumento $ 1 $ resulta na parte fracionária do (positivo) primeiro argumento, como no seguinte exemplo."
   ]
  },
  {
   "cell_type": "code",
   "execution_count": null,
   "metadata": {},
   "outputs": [],
   "source": [
    "3.14159 % 1"
   ]
  },
  {
   "cell_type": "markdown",
   "metadata": {},
   "source": [
    "Além destes operadores aritméticos binários, também podemos fazer uso das seguintes funções ao trabalhar com valores numéricos:\n",
    "* `abs`, a função de **valor absoluto**, que recebe um único argumento numérico de qualquer tipo numérico (`int`, `float` ou `complex`) e retorna seu valor absoluto (ou módulo, no caso de números complexos);\n",
    "* `max` e `min`, que podem receber qualquer número de argumentos do tipo `float` ou `int` separados por vírgulas e retornam seus valores __máximo__ e __mínimo__, respectivamente.\n",
    "\n",
    "__Exercício:__ Determine a saída das seguintes instruções:\n",
    "\n",
    "(a) `abs(-2.71828)`\n",
    "\n",
    "(b) `max(-5.3, 2, 10.45, -23, 0)`\n",
    "\n",
    "(c) `min(-5.3, 2, 10.45, -23, 0)`"
   ]
  },
  {
   "cell_type": "code",
   "execution_count": null,
   "metadata": {},
   "outputs": [],
   "source": []
  },
  {
   "cell_type": "markdown",
   "metadata": {},
   "source": [
    "Outras funções matemáticas comuns como a exponencial, o logaritmo e funções trigonométricas podem ser usadas após importar os módulos `math` ou `numpy` (mais sobre isso depois)."
   ]
  },
  {
   "cell_type": "markdown",
   "metadata": {},
   "source": [
    "## § 9 Operadores de atribuição composta\n",
    "\n",
    "Correspondendo a cada um dos operadores aritméticos considerados acima, Python fornece os seguintes __operadores de atribuição composta__ que podem ser usados para realizar uma operação in-place em uma variável fornecida como seu primeiro operando:\n",
    "\n",
    "    +=, -=, *=, /=, **=, //=, %=\n",
    "\n",
    "Cada um destes combina uma operação binária com uma atribuição.\n",
    "Seu significado pode ser deduzido dos seguintes exemplos.\n",
    "\n",
    "| Exemplo             | Instrução equivalente |\n",
    "| :--------           | :---------           |\n",
    "| `x += 3.14`         | ` x = x + 3.14`      |\n",
    "| `x -= 2 / 3`        | `x = x - (2 / 3)`    |\n",
    "| `x *= 2`            | `x = x * 2`          |\n",
    "| `x /= 0.5`          | `x = x / 0.5`        |\n",
    "| `x **= 1 / 2`       | `x = x**(1 / 2)`     |\n",
    "| `x //= z`           | `x = x // z`         |\n",
    "| `x %= y**2`         | `x = x % (y**2)`     |\n",
    "\n",
    "Em cada caso, o valor _atual_ da variável $ x $ é usado para calcular a expressão à direita, que se torna o novo valor de $ x $. Note também que para interpretar atribuições compostas corretamente, a expressão do lado direito deve sempre estar entre parênteses. Assim, `x *= y + 1` é equivalente a `x = x * (y + 1)`, não `x = x * y + 1`.\n",
    "\n",
    "__Exercício:__ Sejam $ x = 7 $ e $ y = 5 $. Determine os valores de $ x $ e $ y $ depois que cada uma das seguintes instruções for executada pelo interpretador em sequência:\n",
    "\n",
    "(a) `x -= y + 1`\n",
    "\n",
    "(b) `y += x`\n",
    "\n",
    "(c) `y **= x`\n",
    "\n",
    "(d) `y //= x`\n",
    "\n",
    "(e) `y %= x`\n",
    "\n",
    "(f) `x **= 1/2`"
   ]
  },
  {
   "cell_type": "code",
   "execution_count": null,
   "metadata": {},
   "outputs": [],
   "source": [
    "x = 7\n",
    "y = 5"
   ]
  },
  {
   "cell_type": "markdown",
   "metadata": {},
   "source": [
    "📝 Na verdade, `a = a + b` e `a += b` não são exatamente equivalentes. O último modifica o valor de $ a $ _in place_, portanto é geralmente mais eficiente; o primeiro cria um _novo objeto_ com o valor `a + b` e então o atribui a $ a $. No entanto, para todos os nossos propósitos, essa pequena diferença pode ser ignorada.\n",
    "\n",
    "## ⚡ § 10 O tipo `complex` de números complexos\n",
    "\n",
    "Não precisaremos usar números complexos neste curso, portanto esta seção é opcional. Um número do tipo `complex` pode ser representado em Python como um par de floats (suas partes real e imaginária) usando a notação especial indicada nos seguintes exemplos.\n",
    "\n",
    "⚠️ Em Python, a unidade imaginária é denotada por $ j $ em vez do mais usual $ i $."
   ]
  },
  {
   "cell_type": "code",
   "execution_count": null,
   "metadata": {},
   "outputs": [],
   "source": [
    "w = 1.23 + 4.56j    # Note a sintaxe: escrevemos '4.56j', não '4.56 * j'.\n",
    "print(w, type(w))   # Verificando o tipo de w.\n",
    "\n",
    "z = 4 + 1j       \n",
    "print(z, type(z))\n",
    "\n",
    "print(z + w)"
   ]
  },
  {
   "cell_type": "markdown",
   "metadata": {},
   "source": [
    "⚠️ Por si só, `j` é interpretado como uma variável cujo nome é $ j $. Para indicar que queremos um número complexo, `j` deve ser imediatamente precedido por um número."
   ]
  },
  {
   "cell_type": "code",
   "execution_count": null,
   "metadata": {},
   "outputs": [],
   "source": [
    "print(j)    # Resultará em erro se não houver uma variável chamada 'j'."
   ]
  },
  {
   "cell_type": "code",
   "execution_count": null,
   "metadata": {},
   "outputs": [],
   "source": [
    "# Mesmo se a parte imaginária for zero, ela ainda deve ser incluída explicitamente para\n",
    "# indicar que estamos lidando com um número complexo em vez de um float\n",
    "# ou um int:\n",
    "a = 1 + 0j\n",
    "print(a, type(a))\n",
    "# No entanto, caso a parte real seja 0, podemos omiti-la:\n",
    "b = 1j\n",
    "print(b, type(b))"
   ]
  },
  {
   "cell_type": "markdown",
   "metadata": {},
   "source": [
    "📝 Cada número complexo tem atributos especiais `real` e `imag` para representar suas partes real e imaginária respectivamente, e um método especial `conjugate` para calcular seu conjugado."
   ]
  },
  {
   "cell_type": "code",
   "execution_count": null,
   "metadata": {},
   "outputs": [],
   "source": [
    "# Número complexo com parte real 0 e parte imaginária 1.0:\n",
    "w = 1.0j\n",
    "print(w)    \n",
    "print(w.real, type(w.real))\n",
    "print(w.imag, type(w.imag))"
   ]
  },
  {
   "cell_type": "code",
   "execution_count": 1,
   "metadata": {},
   "outputs": [
    {
     "name": "stdout",
     "output_type": "stream",
     "text": [
      "1j\n",
      "0.0 <class 'float'>\n",
      "1.0 <class 'float'>\n"
     ]
    }
   ],
   "source": [
    "# Número complexo com parte real 0 e parte imaginária 1:\n",
    "z = 0 + 1j\n",
    "# Imprimindo z e o tipo de suas partes real e imaginária:\n",
    "print(z)    \n",
    "print(z.real, type(z.real))\n",
    "print(z.imag, type(z.imag))\n",
    "# Embora tenhamos usado os inteiros 0 e 1 como partes real e imaginária, o\n",
    "# número complexo resultante ainda tem partes real e imaginária do tipo float!"
   ]
  },
  {
   "cell_type": "code",
   "execution_count": 3,
   "metadata": {},
   "outputs": [
    {
     "name": "stdout",
     "output_type": "stream",
     "text": [
      "-1j <class 'complex'>\n"
     ]
    }
   ],
   "source": [
    "z_barra = z.conjugate()\n",
    "print(z_barra, type(z_barra))"
   ]
  },
  {
   "cell_type": "markdown",
   "metadata": {},
   "source": [
    "__Exercício:__ Suponha que as instruções `z = 1 + 1j` e `w = 1 - 1j` acabaram de ser interpretadas.\n",
    "Qual é o valor e tipo das seguintes expressões?\n",
    "\n",
    "(a) `z + w`\n",
    "\n",
    "(b) `z - w`\n",
    "\n",
    "(c) `z**2`\n",
    "\n",
    "(d) `z**4`\n",
    "\n",
    "(e) `z * w`\n",
    "\n",
    "(f) `z / w`\n",
    "\n",
    "(g) `w != z`\n",
    "\n",
    "(h) `z + w <= 2 * (z + w)`"
   ]
  },
  {
   "cell_type": "code",
   "execution_count": null,
   "metadata": {},
   "outputs": [],
   "source": []
  },
  {
   "cell_type": "markdown",
   "metadata": {},
   "source": [
    "__Exercício:__ Use Python para adivinhar o valor de $ e^{\\pi i} $. _Dica:_ Use aproximações para $ e $ e $ \\pi $."
   ]
  },
  {
   "cell_type": "code",
   "execution_count": null,
   "metadata": {},
   "outputs": [],
   "source": []
  },
  {
   "cell_type": "markdown",
   "metadata": {},
   "source": [
    "🚫 Tentar comparar dois números complexos ou converter um número complexo em um número inteiro ou de ponto flutuante resultará em um `TypeError`.\n",
    "\n",
    "__Exercício:__ Suponha que a instrução `z = 2.0 + 0j` acabou de ser executada pelo interpretador. Descreva as saídas de:\n",
    "\n",
    "(a) `int(z)`\n",
    "\n",
    "(b) `float(z)`\n",
    "\n",
    "(c) `str(z)`\n",
    "\n",
    "(d) `complex('2.0 + 0j')`\n",
    "\n",
    "(e) `complex('2.0')`"
   ]
  },
  {
   "cell_type": "code",
   "execution_count": null,
   "metadata": {},
   "outputs": [],
   "source": []
  }
 ],
 "metadata": {
  "kernelspec": {
   "display_name": "Python 3",
   "language": "python",
   "name": "python3"
  },
  "language_info": {
   "codemirror_mode": {
    "name": "ipython",
    "version": 3
   },
   "file_extension": ".py",
   "mimetype": "text/x-python",
   "name": "python",
   "nbconvert_exporter": "python",
   "pygments_lexer": "ipython3",
   "version": "3.12.3"
  }
 },
 "nbformat": 4,
 "nbformat_minor": 2
}
