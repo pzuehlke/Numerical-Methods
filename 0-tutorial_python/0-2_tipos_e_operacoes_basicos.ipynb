{
 "cells": [
  {
   "attachments": {},
   "cell_type": "markdown",
   "id": "9c24f1a0",
   "metadata": {},
   "source": [
    "# Tipos básicos e operações"
   ]
  },
  {
   "attachments": {},
   "cell_type": "markdown",
   "id": "dfb1562d",
   "metadata": {},
   "source": [
    "## $ \\S 1 $ Objetos, classes, valores, variáveis e atribuição\n",
    "\n",
    "### $ 1.1 $ Terminologia básica da programação orientada a objetos\n",
    "\n",
    "Uma __classe__ (ou _tipo de dados_) consiste em um conjunto de valores e um conjunto de\n",
    "operações permissíveis sobre esses valores. Quando uma classe já está integrada ao\n",
    "Python, ela geralmente é chamada de __tipo__. Por exemplo, em Python existem tipos\n",
    "para a representação de números inteiros, números reais, strings de texto e booleanos,\n",
    "entre outros. \n",
    "\n",
    "Por exemplo, um inteiro pode assumir o valor $ -3 $, mas não o valor $ 3.14\n",
    "$. Booleanos só podem assumir dois valores: `True` ou `False`. Da mesma forma, podemos\n",
    "multiplicar dois números reais, mas não uma string por outra; podemos concatenar\n",
    "duas strings, mas isso não faz sentido para valores booleanos.\n",
    "\n",
    "O inteiro $ -3 $ é um _objeto_ pertencente à classe dos inteiros. Mais\n",
    "genericamente, em programação, um __objeto__ é uma abstração agregada de alguns\n",
    "dados. Por exemplo, podemos optar por representar um carro em Python por um conjunto de valores\n",
    "como seu fabricante (uma string), modelo (também uma string), seu ano de\n",
    "fabricação (um inteiro), sua cor, seu número de identificação, etc., todos\n",
    "encapsulados como uma unidade. Concretamente, um objeto é apenas uma instância de uma classe\n",
    "específica residindo na memória. Em Python, tudo é representado como um objeto,\n",
    "e todo objeto deve pertencer a uma classe.\n",
    "\n",
    "Como outro exemplo, se tivéssemos que escrever software para um sistema bancário, seria em\n",
    "princípio possível trabalhar apenas com tipos integrados. No entanto, isso seria\n",
    "extremamente complicado. Para encapsular os dados e comportamento associados\n",
    "à manipulação de contas bancárias em um nível mais alto de abstração, nós\n",
    "deveríamos projetar e implementar uma classe apropriada, usando tipos integrados\n",
    "e outras classes e operações previamente existentes como blocos de construção. Cada\n",
    "conta bancária em nosso sistema seria então um objeto pertencente a, ou uma instância\n",
    "de, esta classe.\n",
    "\n",
    "📝 Na terminologia da programação orientada a objetos, os termos técnicos para\n",
    "\"propriedade\" e \"operação\" são _atributo_ e _método_, respectivamente. Assim,\n",
    "o propósito de uma classe é implementar um conjunto específico de atributos e\n",
    "métodos a serem herdados por cada objeto (instância) dessa classe. A coleção\n",
    "de valores assumidos por todos os atributos de um objeto é chamada de seu _estado_.\n",
    "\n",
    "No exemplo da classe de conta bancária, dois dos atributos poderiam ser\n",
    "o saldo atual e o ID do titular da conta. Provavelmente haveria\n",
    "métodos projetados para modelar depósitos, saques, transferências, modificações no\n",
    "endereço do titular, etc. \n",
    "\n",
    "Neste tutorial, não precisaremos discutir objetos, classes e programação orientada a\n",
    "objetos além do que já foi mencionado. Na verdade, trabalharemos apenas\n",
    "com tipos integrados.\n",
    "\n",
    "### $ 1. 2 $ Variáveis\n",
    "\n",
    "Cada objeto criado pelo interpretador Python recebe um endereço de memória\n",
    "único que nunca precisamos lidar diretamente ou nos preocupar. Isso é porque\n",
    "este endereço é abstraído através do uso de _variáveis_. Uma __variável__\n",
    "é uma associação de um __identificador__ (ou seja, nome ou rótulo) com um objeto.\n",
    "Em Python, variáveis são criadas através de uma instrução de __atribuição__, usando o\n",
    "__operador de atribuição__ `=` na forma _\\<identificador>_ `=` _\\<objeto>_. Isso\n",
    "vincula o identificador à esquerda do sinal `=` ao objeto à sua direita."
   ]
  },
  {
   "cell_type": "code",
   "execution_count": null,
   "id": "b4f7e7b1",
   "metadata": {},
   "outputs": [],
   "source": [
    "a = 1729   # Vincula o identificador 'a' ao inteiro 1729.\n",
    "a          # Retorna o valor do objeto correspondente como saída da célula."
   ]
  },
  {
   "attachments": {},
   "cell_type": "markdown",
   "id": "401fc35f",
   "metadata": {},
   "source": [
    "📝 Diferentemente de algumas outras linguagens de programação, em Python a sintaxe para _criar\n",
    "uma nova variável_ e para _atribuir um novo objeto a um nome de variável existente_ é\n",
    "exatamente a mesma:"
   ]
  },
  {
   "cell_type": "code",
   "execution_count": null,
   "id": "d2319ddb",
   "metadata": {},
   "outputs": [],
   "source": [
    "b = 1729       # Cria uma nova variável b e atribui o objeto 1729 a ela.\n",
    "print(b)       # Imprime o valor atual de b.\n",
    "b = 17.29      # Reatribui um _novo_ objeto ao nome 'b'.\n",
    "print(b)       # Imprime o valor atual de b."
   ]
  },
  {
   "attachments": {},
   "cell_type": "markdown",
   "id": "8aa82020",
   "metadata": {},
   "source": [
    "Identificadores (ou seja, nomes de variáveis) podem consistir apenas de letras,\n",
    "dígitos e __sublinhados__ \\_; o caractere inicial deve ser uma letra ou\n",
    "sublinhado. A classe de \"letras\" na verdade inclui muitos caracteres Unicode\n",
    "não latinos.\n"
   ]
  },
  {
   "cell_type": "code",
   "execution_count": null,
   "id": "ccf295de",
   "metadata": {},
   "outputs": [],
   "source": [
    "variable_1 = 10     # Nome de variável usando letras, sublinhado e um dígito\n",
    "变量 = \"Chinese\"    # Caracteres chineses\n",
    "π = 3.14            # Letra grega\n",
    "\n",
    "print(variable_1)\n",
    "print(变量)\n",
    "print(π)"
   ]
  },
  {
   "cell_type": "code",
   "execution_count": null,
   "id": "bdc3ce65",
   "metadata": {},
   "outputs": [],
   "source": [
    "# Infelizmente, ainda não podemos usar emojis como nomes de variáveis 🙁:\n",
    "🚀 = \"rocket\""
   ]
  },
  {
   "cell_type": "markdown",
   "id": "4ec7c3cd",
   "metadata": {},
   "source": [
    "📝 Por convenção, letras iniciais maiúsculas são geralmente reservadas para denotar\n",
    "classes e letras iniciais minúsculas para nomear objetos. Os identificadores\n",
    "de valores constantes são frequentemente escritos usando apenas caracteres maiúsculos."
   ]
  },
  {
   "attachments": {},
   "cell_type": "markdown",
   "id": "fa1978ad",
   "metadata": {},
   "source": [
    "<div class=\"alert alert-info\"> Em Python, simplesmente criar uma variável ou atribuir a ela um novo objeto não faz com que o interpretador retorne nem imprima seu valor.\n",
    "    <ul>\n",
    "        <li>Para fazer o interpretador <i>retornar</i> o valor do objeto\n",
    "        vinculado a uma variável, digamos $ x $, como a saída de uma célula, pode-se usar uma\n",
    "        instrução consistindo unicamente de seu nome, neste caso <code>x</code>.</li>\n",
    "        <li>Para <i>imprimir</i> o valor do objeto referido por uma variável,\n",
    "        digamos $ x $, na tela, use <code>print(x)</code>. Note que chamar\n",
    "        <code>print</code> <i>não gera saída</i> (mais precisamente, ele\n",
    "        retorna <code>None</code>, como discutiremos mais tarde).</li></ul></div>\n",
    "\n",
    "Mais genericamente, a função `print` pode ser usada para imprimir na tela qualquer coleção de argumentos, separados por vírgulas. Essas vírgulas serão substituídas por espaços simples quando os argumentos forem exibidos."
   ]
  },
  {
   "cell_type": "code",
   "execution_count": null,
   "id": "c1110cbc",
   "metadata": {},
   "outputs": [],
   "source": [
    "a = 'astuto'\n",
    "b = 'mago'\n",
    "print(a)\n",
    "print(a, b)"
   ]
  },
  {
   "attachments": {},
   "cell_type": "markdown",
   "id": "ea00ed1d",
   "metadata": {},
   "source": [
    "⚠️ Se uma célula de código contém mais de uma instrução que produz uma saída,\n",
    "então apenas o resultado da mais recente será produzido como a saída da\n",
    "célula; as outras são descartadas. "
   ]
  },
  {
   "cell_type": "code",
   "execution_count": null,
   "id": "5499e475",
   "metadata": {},
   "outputs": [],
   "source": [
    "# Esta instrução faz com que o interpretador avalie a variável a:\n",
    "a    # (avalia para a string 'astuto')\n",
    "# No entanto, se emitimos outra instrução desse tipo:\n",
    "b    # (avalia para a string 'mago')\n",
    "# então apenas a última realmente produzirá uma saída."
   ]
  },
  {
   "attachments": {},
   "cell_type": "markdown",
   "id": "2fcae6fc",
   "metadata": {},
   "source": [
    "O tipo de uma variável $ x $ pode ser inspecionado através de uma chamada à função\n",
    "`type`, como em `type(x)`. "
   ]
  },
  {
   "cell_type": "code",
   "execution_count": null,
   "id": "e238c8da",
   "metadata": {},
   "outputs": [],
   "source": [
    "number = 'dois'  # A string 'dois' é atribuída à nova variável `number`.\n",
    "print(number, type(number))\n",
    "\n",
    "number = 2  # A variável `number` agora aponta para um objeto de tipo diferente.\n",
    "print(number, type(number))"
   ]
  },
  {
   "attachments": {},
   "cell_type": "markdown",
   "id": "fdd8d11e",
   "metadata": {},
   "source": [
    "Como no exemplo anterior, o interpretador Python infere automaticamente o\n",
    "tipo de uma variável a partir de seu valor; esse recurso é chamado de __inferência de tipo__.\n",
    "Além disso, em Python (em contraste com, por exemplo, C ou Java), as variáveis são\n",
    "__tipadas dinamicamente__, o que significa que não apenas o _objeto_ vinculado a uma\n",
    "variável pode mudar durante um programa, mas até mesmo sua _classe_ (ou _tipo_) pode ser\n",
    "modificada. Sempre que um novo objeto é atribuído a um identificador usado anteriormente, a\n",
    "associação original é perdida. "
   ]
  },
  {
   "attachments": {},
   "cell_type": "markdown",
   "id": "e80c3733",
   "metadata": {},
   "source": [
    "📝 Linhas em branco em uma célula de código são ignoradas pelo interpretador. Podemos usá-las para\n",
    "separar visualmente o código em várias partes a fim de melhorar a legibilidade.\n",
    "\n",
    "A instrução `isinstance(<variável>, <classe>)` retorna `True` ou `False`\n",
    "de acordo com se uma determinada variável pertence à classe indicada ou não."
   ]
  },
  {
   "cell_type": "markdown",
   "id": "ab441abb",
   "metadata": {},
   "source": [
    "__Exercício:__ Se a instrução `lifespan = 120` é executada, determine os\n",
    "valores das seguintes expressões (aqui `str`, `int` e `float` são os nomes dos\n",
    "tipos de strings, inteiros e números de ponto flutuante, respectivamente):\n",
    "\n",
    "(a) `isinstance(lifespan, str)`\n",
    "\n",
    "(b) `isinstance(lifespan, int)`\n",
    "\n",
    "(c) `isinstance(lifespan, float)`\n",
    "\n",
    "Como as respostas mudam se `lifespan = 120.0`?"
   ]
  },
  {
   "cell_type": "code",
   "execution_count": null,
   "id": "27838f46",
   "metadata": {},
   "outputs": [],
   "source": [
    "lifespan = 120"
   ]
  },
  {
   "cell_type": "markdown",
   "id": "313517a4",
   "metadata": {},
   "source": [
    "Também podemos determinar se um objeto pertence a um de vários tipos, como no seguinte exemplo:"
   ]
  },
  {
   "cell_type": "code",
   "execution_count": null,
   "id": "5a2b7220",
   "metadata": {},
   "outputs": [],
   "source": [
    "x = 12.4\n",
    "isinstance(x, (str, float))  # Retorna `True` já que x é um float"
   ]
  },
  {
   "attachments": {},
   "cell_type": "markdown",
   "id": "c30d1b4c",
   "metadata": {},
   "source": [
    "⚠️ Todos os nomes (não apenas os de variáveis) são __sensíveis a maiúsculas e minúsculas__. Assim, `Staff` e `staff` podem se referir a objetos completamente diferentes."
   ]
  },
  {
   "attachments": {},
   "cell_type": "markdown",
   "id": "7c98ad39",
   "metadata": {},
   "source": [
    "__Exercício:__ Preveja o que é impresso quando você executa a célula de código abaixo."
   ]
  },
  {
   "cell_type": "code",
   "execution_count": null,
   "id": "c3a9770a",
   "metadata": {},
   "outputs": [],
   "source": [
    "Mammal = \"baleia\"\n",
    "mammal = \"cachorro\"\n",
    "\n",
    "print(Mammal)"
   ]
  },
  {
   "attachments": {},
   "cell_type": "markdown",
   "id": "f60c6477",
   "metadata": {},
   "source": [
    "__Exercício:__ Você pode explicar o que acontece se a instrução `print(print(p))` for interpretada?"
   ]
  },
  {
   "cell_type": "code",
   "execution_count": null,
   "id": "cb360911",
   "metadata": {},
   "outputs": [],
   "source": [
    "p = \"imprima-me\""
   ]
  },
  {
   "attachments": {},
   "cell_type": "markdown",
   "id": "47e13d9e",
   "metadata": {},
   "source": [
    "__Exercício:__ O que acontece se você emitir as seguintes instruções consecutivamente?\n",
    "Qual é a saída (se houver) em cada caso?\n",
    "\n",
    "(a) `a = 2`\n",
    "\n",
    "(b) `b = 3`\n",
    "\n",
    "(c) `c = a * b`\n",
    "\n",
    "(d) `print(c)`\n",
    "\n",
    "(e) `a - b`\n",
    "\n",
    "(f) `a**b`"
   ]
  },
  {
   "cell_type": "code",
   "execution_count": null,
   "id": "2f8303c5",
   "metadata": {},
   "outputs": [],
   "source": []
  },
  {
   "attachments": {},
   "cell_type": "markdown",
   "id": "c7491014",
   "metadata": {},
   "source": [
    "🚫 O seguinte pequeno conjunto de palavras-chave não pode ser usado para nomear objetos porque já têm um significado especial para o interpretador (não tente memorizá-lo!):\n",
    "\n",
    "|         |            |         |          |\n",
    "|:-------:|:----------:|:-------:|:--------:|\n",
    "| `False` | `None`     | `True`  | `and`    |\n",
    "| `as`    | `assert`   | `async` | `await`  |\n",
    "| `break` | `class`    | `continue` | `def` |\n",
    "| `del`   | `elif`     | `else`  | `except` |\n",
    "| `finally` | `for`    | `from`  | `global` |\n",
    "| `if`    | `import`   | `in`    | `is`     |\n",
    "| `lambda`| `nonlocal` | `not`   | `or`     |\n",
    "| `pass`  | `raise`    | `return`| `try`    |\n",
    "| `while` | `with`     | `yield` |          |\n",
    "\n",
    "\n",
    "__Exercício:__\n",
    "\n",
    "(a) Sejam `x` e `y` com valores $ 1 $ e $ 2 $, respectivamente. Suponha que nós\n",
    "queremos trocar seus valores. Podemos realizar isso através das instruções na célula\n",
    "de código abaixo? Explique."
   ]
  },
  {
   "cell_type": "code",
   "execution_count": null,
   "id": "d5002558",
   "metadata": {},
   "outputs": [],
   "source": [
    "x = 1    # Inicializando x.\n",
    "y = 2    # Inicializando y.\n",
    "\n",
    "# Realizando a troca:\n",
    "x = y\n",
    "y = x\n",
    "print(x, y)"
   ]
  },
  {
   "cell_type": "markdown",
   "id": "c75a3435",
   "metadata": {},
   "source": [
    "(b) Como se poderia usar uma terceira variável temporária `temp` para resolver este problema?"
   ]
  },
  {
   "cell_type": "code",
   "execution_count": null,
   "id": "ff081929",
   "metadata": {},
   "outputs": [],
   "source": []
  },
  {
   "attachments": {},
   "cell_type": "markdown",
   "id": "cfec4b2e",
   "metadata": {},
   "source": [
    "Em Python, pode-se fazer várias __atribuições simultâneas__ em uma única linha\n",
    "usando vírgulas `,` como separadores. Isso é especialmente útil para permutar os\n",
    "valores de duas ou mais variáveis sem recorrer a variáveis temporárias.\n",
    "No entanto, como boa prática, deve-se evitar usar desnecessariamente este recurso\n",
    "porque prejudica a legibilidade do código.\n",
    "\n",
    "__Exemplo:__"
   ]
  },
  {
   "cell_type": "code",
   "execution_count": null,
   "id": "b190e61e",
   "metadata": {},
   "outputs": [],
   "source": [
    "x = 1\n",
    "y = 2\n",
    "print(x, y)\n",
    "\n",
    "x, y = y, x\n",
    "print(x, y)"
   ]
  },
  {
   "cell_type": "code",
   "execution_count": null,
   "id": "f45cad4d",
   "metadata": {},
   "outputs": [],
   "source": [
    "# Múltiplas atribuições são feitas _simultaneamente_.\n",
    "# Verifique isso no seguinte exemplo:\n",
    "x = 1\n",
    "y = 2\n",
    "x, y = x + y, x - y"
   ]
  },
  {
   "attachments": {},
   "cell_type": "markdown",
   "id": "5dbeec75",
   "metadata": {},
   "source": [
    "__Exercício:__ Como dissemos antes, em Python todo objeto deve pertencer a\n",
    "uma classe, ou seja, ser de algum tipo. Como você poderia descobrir qual é o tipo de um dado\n",
    "tipo? A resposta depende do tipo dado?"
   ]
  },
  {
   "cell_type": "code",
   "execution_count": null,
   "id": "18f25227",
   "metadata": {},
   "outputs": [],
   "source": []
  },
  {
   "attachments": {},
   "cell_type": "markdown",
   "id": "7d965cf8",
   "metadata": {},
   "source": [
    "## $ \\S 2 $ O tipo booleano `bool` \n",
    "\n",
    "### $ 2.1 $ Descrição do tipo booleano\n",
    "\n",
    "O tipo __booleano__, denotado por `bool` em Python, consiste em apenas dois objetos:\n",
    "`True` e `False`. Uma __expressão booleana__ é uma expressão que tem um\n",
    "valor booleano, isto é, que avalia para `True` ou `False`. \n",
    "\n",
    "__Exemplo:__"
   ]
  },
  {
   "cell_type": "code",
   "execution_count": null,
   "id": "35d4c2bd",
   "metadata": {},
   "outputs": [],
   "source": [
    "a = True\n",
    "b = False\n",
    "print(a, type(a))\n",
    "print(b, type(b))"
   ]
  },
  {
   "cell_type": "markdown",
   "id": "c380b446",
   "metadata": {},
   "source": [
    "O tipo booleano suporta os três __operadores lógicos__ básicos `and`, `or` e\n",
    "`not` (formalmente chamados de _conjunção_, _disjunção_ e _negação_,\n",
    "respectivamente). Note que os dois primeiros são operadores _binários_ (ou seja, que requerem\n",
    "dois argumentos), enquanto o último é um operador _unário_ (ele trabalha com um único\n",
    "argumento booleano).\n",
    "\n",
    "📝 Pode-se demonstrar que qualquer função booleana (uma função que recebe um número fixo e finito\n",
    "de argumentos booleanos e retorna um valor booleano) pode ser construída apenas\n",
    "a partir destes três operadores. Na verdade, `and` e `not` são suficientes. Indo\n",
    "ainda mais longe, \"nand\" por si só é suficiente, onde por definição\n",
    "$ x \\ \\texttt{nand}\\ y = \\texttt{not}\\big(x\\ \\texttt{and}\\ y) $, embora não\n",
    "haja um operador $ \\texttt{nand} $ integrado em Python."
   ]
  },
  {
   "attachments": {},
   "cell_type": "markdown",
   "id": "6298c414",
   "metadata": {},
   "source": [
    "__Exercício:__ Considerando todos os pares que podem ser formados a partir dos valores `True`\n",
    "e `False`, construa as tabelas verdade dos operadores `and` e `or`. _Dica:_\n",
    "Para reduzir a quantidade de texto que precisa ser digitado, introduza duas variáveis\n",
    "`t` e `f` que tenham `True` e `False` como seus valores."
   ]
  },
  {
   "cell_type": "code",
   "execution_count": null,
   "id": "30c605ae",
   "metadata": {},
   "outputs": [],
   "source": []
  },
  {
   "cell_type": "markdown",
   "id": "1b971997",
   "metadata": {},
   "source": [
    "Booleanos são extremamente importantes em qualquer linguagem de programação porque permitem\n",
    "a execução condicional de trechos de código. Eles geralmente aparecem nos\n",
    "testes condicionais de construções `if-elif-else` ou `while` a serem considerados mais tarde,\n",
    "ou como resultado de comparações. No entanto, eles podem ser úteis em várias outras\n",
    "situações também."
   ]
  },
  {
   "attachments": {},
   "cell_type": "markdown",
   "id": "aff0bb4a",
   "metadata": {},
   "source": [
    "__Exercício:__ Sejam $ t $ e $ f $ variáveis com os valores `True` e\n",
    "`False`, respectivamente. Qual é o valor das seguintes expressões booleanas?\n",
    "\n",
    "(a) `not(t)`\n",
    "\n",
    "(b) `not t`\n",
    "\n",
    "(c) `not(t and f)`\n",
    "\n",
    "(d) `not t and f`\n",
    "\n",
    "(e) `(not t) or (not f)`\n",
    "\n",
    "(f) `not t or not f`\n",
    "\n",
    "(g) `not not t`\n",
    "\n",
    "(h) `t and not f`\n",
    "\n",
    "(i) `t and f or t`\n"
   ]
  },
  {
   "cell_type": "code",
   "execution_count": null,
   "id": "de3a8be7",
   "metadata": {
    "scrolled": true
   },
   "outputs": [],
   "source": []
  },
  {
   "attachments": {},
   "cell_type": "markdown",
   "id": "755260cc",
   "metadata": {},
   "source": [
    "### $ 2.2 $ Operadores de comparação <a name=\"comparison\"></a>\n",
    "\n",
    "Os seguintes operadores de comparação binária podem ser aplicados a vários tipos de\n",
    "objetos. Cada um deles produz `True` ou `False` como saída.\n",
    "\n",
    "| Operador   | Tradução                 |\n",
    "| :--------  | :---------               |\n",
    "| `==`       | Igual a                  |\n",
    "| `!=`       | Diferente de             |\n",
    "| `<`        | Menor que                |\n",
    "| `>`        | Maior que                |\n",
    "| `<=`       | Menor ou igual a         |\n",
    "| `>=`       | Maior ou igual a         |\n",
    "\n",
    "\n",
    "<div class=\"alert alert-warning\">É um erro comum para iniciantes confundir o operador de atribuição <code>=</code> com o operador de igualdade <code>==</code>. Isso pode levar a erros sintáticos (erros na estrutura do código, que são detectados pelo interpretador) ou, pior ainda, erros semânticos (discrepâncias entre as intenções do programador e os resultados reais, que frequentemente não são detectados pelo interpretador).</div>\n",
    "\n",
    "📝 Se uma comparação é feita entre dois valores de tipos diferentes, então o interpretador primeiro tentará convertê-los para um tipo comum. Por exemplo, se compararmos um inteiro com um float, então o inteiro é primeiro convertido em um float."
   ]
  },
  {
   "attachments": {},
   "cell_type": "markdown",
   "id": "cae003f8",
   "metadata": {},
   "source": [
    "__Exercício:__ Preveja e explique a saída das seguintes instruções:\n",
    "\n",
    "(a) `1 > 2`\n",
    "\n",
    "(b) `1 == 0.9999999`\n",
    "\n",
    "(c) `1 == 0.99999999999999999`\n",
    "\n",
    "(d) `2 != 1 + 1`\n",
    "\n",
    "(e) `2 = 1 + 1`\n",
    "\n",
    "(f) `True != False`\n",
    "\n",
    "(g) `3**5 >= 4**4`\n",
    "\n",
    "(h) `\"small\" < \"large\"`"
   ]
  },
  {
   "cell_type": "code",
   "execution_count": null,
   "id": "63651eaf",
   "metadata": {},
   "outputs": [],
   "source": []
  },
  {
   "attachments": {},
   "cell_type": "markdown",
   "id": "7e767fff",
   "metadata": {},
   "source": [
    "__Exercício:__ Sejam $ a = 8 $, $ b = 7.99 $ e $ c = -23 $. Para que valores as seguintes expressões booleanas são avaliadas?\n",
    "\n",
    "(a) `c <= a and a >= b`\n",
    "\n",
    "(b) `c < b < a `\n",
    "\n",
    "(c) `c != b > a`\n",
    "\n",
    "(d) `a <= a >= a`"
   ]
  },
  {
   "cell_type": "code",
   "execution_count": null,
   "id": "969f5340",
   "metadata": {},
   "outputs": [],
   "source": [
    "a = 8\n",
    "b = 7.99\n",
    "c = -23"
   ]
  },
  {
   "cell_type": "markdown",
   "id": "f8cb0c14",
   "metadata": {},
   "source": [
    "⚡ Para comparar a _igualdade de referências_ de dois objetos $ x $ e $ y $, isto é, se eles se referem ao mesmo objeto na memória, podemos testar se `x is y`. Mais genericamente, `id(x)` fornece o endereço de memória de $ x $."
   ]
  },
  {
   "cell_type": "code",
   "execution_count": null,
   "id": "694e8d98",
   "metadata": {},
   "outputs": [],
   "source": [
    "x = \"Pandas\"\n",
    "y = \"Pandas\"\n",
    "print(x == y)  # True porque x e y têm o mesmo _valor_\n",
    "print(x is y)  # Também True porque x e y se referem aos mesmos objetos na memória"
   ]
  },
  {
   "cell_type": "code",
   "execution_count": null,
   "id": "b38fae53",
   "metadata": {},
   "outputs": [],
   "source": [
    "print(id(x))\n",
    "print(id(y))"
   ]
  },
  {
   "cell_type": "markdown",
   "id": "38a3a3d8",
   "metadata": {},
   "source": [
    "No entanto, também é possível que dois objetos tenham o mesmo valor mesmo tendo endereços diferentes:"
   ]
  },
  {
   "cell_type": "code",
   "execution_count": null,
   "id": "51192179",
   "metadata": {},
   "outputs": [],
   "source": [
    "x = 1234\n",
    "y = 1234\n",
    "\n",
    "print(x == y)  # True: eles têm o mesmo valor (1234)\n",
    "print(x is y)  # False: Eles não são o mesmo objeto na memória!\n",
    "\n",
    "print(id(x))\n",
    "print(id(y))"
   ]
  },
  {
   "attachments": {},
   "cell_type": "markdown",
   "id": "2416015e",
   "metadata": {},
   "source": [
    "📝 Em Python, qualquer valor de um tipo integrado pode ser interpretado como um Booleano. \n",
    "Como regra geral, para tipos numéricos (`int`, `float`, `complex`), $ 0 $\n",
    "é o único número que avalia para `False`. Para tipos sequenciais\n",
    "(como `str`, `list` ou `tuple`), apenas objetos vazios são considerados `False`.\n",
    "Em outras palavras, `True` e `False` não são os únicos objetos considerados\n",
    "verdadeiros e falsos! Podemos inspecionar como um valor será interpretado como um Booleano\n",
    "convertendo-o explicitamente para o tipo `bool`:"
   ]
  },
  {
   "cell_type": "code",
   "execution_count": null,
   "id": "85ffba8f",
   "metadata": {},
   "outputs": [],
   "source": [
    "print(bool(0))\n",
    "print(bool(1 + 3j))\n",
    "print(bool(\"\"))\n",
    "print(bool(\"Tu não nasceste para a morte, Pássaro imortal!\"))"
   ]
  },
  {
   "attachments": {},
   "cell_type": "markdown",
   "id": "39b074f4",
   "metadata": {},
   "source": [
    "## $ \\S 3 $ `None`\n",
    "\n",
    "O tipo `Nonetype` consiste no único objeto `None`, que é usado para\n",
    "indicar um valor nulo, ou seja, \"nada\"; é semelhante a `null` em outras linguagens,\n",
    "como C.\n",
    "\n",
    "`None` é frequentemente usado como um espaço reservado no caso em que uma função não tem\n",
    "valores para retornar ou para indicar que algum objeto está vazio ou ausente. Por\n",
    "exemplo, uma chamada à função `print` sempre retorna `None` como sua saída,\n",
    "independentemente de seu argumento.\n",
    "\n",
    "* `None` não é o mesmo que $ 0 $; não é possível usá-lo\n",
    "  dentro de expressões aritméticas.\n",
    "* `None` não é uma string, vazia ou não. No entanto, se for impresso, 'None'\n",
    "  é exibido.\n",
    "* `None` não é o mesmo que `False`, mas é avaliado como `False` quando aparece\n",
    "  em um teste condicional."
   ]
  },
  {
   "attachments": {},
   "cell_type": "markdown",
   "id": "bdff7828",
   "metadata": {},
   "source": [
    "__Exercício:__ Seja `x = None`. Verifique a saída das seguintes instruções\n",
    "(tentar explicar algumas delas exigiria mais conhecimento de Python do que\n",
    "temos neste momento):\n",
    "\n",
    "(a) `x`\n",
    "\n",
    "(b) `print(x)`\n",
    "\n",
    "(c) `x != True`\n",
    "\n",
    "(d) `x != False`\n",
    "\n",
    "(e) `x != 0`\n",
    "\n",
    "(f) `not x`"
   ]
  },
  {
   "cell_type": "code",
   "execution_count": null,
   "id": "87041490",
   "metadata": {},
   "outputs": [],
   "source": [
    "x = None"
   ]
  },
  {
   "attachments": {},
   "cell_type": "markdown",
   "id": "98df21ab",
   "metadata": {},
   "source": [
    "## $ \\S 4 $ Tipos numéricos e operadores\n",
    "\n",
    "Python suporta três tipos de dados integrados para representar números:\n",
    "* `int`, ou tipo __inteiro__, para inteiros como $ -1 $, $ 2 $, $ 0 $ ou $ 53 $;\n",
    "* `float`, ou tipo de __ponto flutuante__, para números de ponto flutuante (intuitivamente,\n",
    "  números com uma expansão decimal finita) como $ 3.1415 $, $ 2.0 $ ou\n",
    "  $ -.450 $;\n",
    "* `complex`, ou tipo __complexo__, para números complexos como $ 2 + 3i $ ou $\n",
    "  3.14 - 43.5 i$.\n",
    "\n",
    "Cada um desses tipos também suporta os operadores de igualdade `==` e desigualdade `!=`,\n",
    "os operadores aritméticos básicos `+`, `-`, `*` (multiplicação), `/`\n",
    "(divisão) e alguns outros a serem discutidos abaixo. Inteiros e floats (mas não\n",
    "números complexos!) também podem ser comparados em tamanho através de `<`, `>`, `<=` e `>=`."
   ]
  },
  {
   "attachments": {},
   "cell_type": "markdown",
   "id": "b8942761",
   "metadata": {},
   "source": [
    "## $ \\S 5 $ O tipo `int` de inteiros\n",
    "\n",
    "Diferentemente de muitas outras linguagens, há apenas um tipo para representar\n",
    "inteiros: `int`. Além disso, esses inteiros podem em princípio ser de qualquer tamanho (um\n",
    "limite é imposto apenas pela capacidade de memória do computador)."
   ]
  },
  {
   "cell_type": "code",
   "execution_count": null,
   "id": "b41809e2",
   "metadata": {},
   "outputs": [],
   "source": [
    "a = 4\n",
    "b = -3\n",
    "print(a, type(a))    # Verificando se a é do tipo int.\n",
    "print(b, type(b))"
   ]
  },
  {
   "cell_type": "code",
   "execution_count": null,
   "id": "cbda3dc4",
   "metadata": {},
   "outputs": [],
   "source": [
    "# Verificando se o autor mentiu sobre não haver limite para\n",
    "# os possíveis valores de inteiros:\n",
    "print(\"2 elevado a 64:\", 2**64)\n",
    "print(\"2 elevado a 256:\", 2**256)\n",
    "print(\"2 elevado a 1024:\", 2**1024)"
   ]
  },
  {
   "attachments": {},
   "cell_type": "markdown",
   "id": "c484dc1f",
   "metadata": {},
   "source": [
    "__Exercício:__ Você pode prever o valor das expressões abaixo quando $ x = 3 $ e $ y = 2 $? E se $ y = - 2 $?"
   ]
  },
  {
   "cell_type": "code",
   "execution_count": null,
   "id": "4d79b81c",
   "metadata": {},
   "outputs": [],
   "source": [
    "# x = 3\n",
    "# y = 2\n",
    "print(x + y)      # Somando x e y.\n",
    "print(x - y)      # Subtraindo y de x.\n",
    "print(x * y)      # Multiplicando x e y.\n",
    "print(x // y)     # Quociente de x por y (divisão inteira).\n",
    "print(x % y)      # Resto da divisão de x por y.\n",
    "print(y**x)       # Elevando y a x; pode retornar um float.\n",
    "print(x**y)       # Elevando x a y; pode retornar um float.\n",
    "print(x / y)      # Divisão de x por y; sempre retorna um float."
   ]
  },
  {
   "attachments": {},
   "cell_type": "markdown",
   "id": "0bd86f14",
   "metadata": {},
   "source": [
    "__Exercício:__ Seja $ x = 64 $. O que as instruções `x**0.5` e `x**(1/3)` produzem? Explique."
   ]
  },
  {
   "cell_type": "code",
   "execution_count": null,
   "id": "66f29a3e",
   "metadata": {},
   "outputs": [],
   "source": []
  },
  {
   "attachments": {},
   "cell_type": "markdown",
   "id": "dd6d9f68",
   "metadata": {},
   "source": [
    "__Exercício:__ Quanto é $ 0^0 $ de acordo com Python? "
   ]
  },
  {
   "cell_type": "code",
   "execution_count": null,
   "id": "858af387",
   "metadata": {},
   "outputs": [],
   "source": []
  },
  {
   "attachments": {},
   "cell_type": "markdown",
   "id": "2d713b34",
   "metadata": {},
   "source": [
    "## $ \\S 6 $ O tipo `float` de números de ponto flutuante"
   ]
  },
  {
   "attachments": {},
   "cell_type": "markdown",
   "id": "9360c0c6",
   "metadata": {},
   "source": [
    "Números irracionais como $ \\pi $ ou $ e $ nunca podem ser representados exatamente em\n",
    "uma máquina, independentemente de se o sistema decimal ou binário é usado,\n",
    "porque isso exigiria uma quantidade infinita de dígitos a serem armazenados.\n",
    "Números de ponto flutuante fornecem representações aproximadas de números reais;\n",
    "seu tipo é chamado `float`. Usando a notação convencional, um número de ponto\n",
    "flutuante é caracterizado pelo uso de um ponto decimal `.` para separar suas\n",
    "partes inteira e fracionária.\n",
    "\n",
    "__Exemplo:__"
   ]
  },
  {
   "cell_type": "code",
   "execution_count": null,
   "id": "7e3d4f26",
   "metadata": {},
   "outputs": [],
   "source": [
    "x = 3.14         # Podemos reconhecer que x e y são do tipo\n",
    "y = -2.71        # float por causa dos pontos decimais.\n",
    "z = 19.\n",
    "w = .456\n",
    "\n",
    "print(type(z))   # Verificando que z é do tipo float.\n",
    "print(x**y)      # Elevando x a y.\n",
    "print(x / x)     # Dividindo x por x."
   ]
  },
  {
   "attachments": {},
   "cell_type": "markdown",
   "id": "ea29f22d",
   "metadata": {},
   "source": [
    "📝 Seguindo o padrão IEEE 754, em Python os números de ponto flutuante são\n",
    "representados como valores de $ 64 $ bits, de precisão dupla. Os valores que qualquer\n",
    "número de ponto flutuante pode assumir são restritos ao intervalo aproximado\n",
    "entre $ \\pm 1.8 \\cdot 10^{308} $. Se alguma expressão produzir um valor que\n",
    "exceda esses limites, então um _erro de overflow_ ou outra quantidade inesperada\n",
    "pode resultar. Da mesma forma, um número diferente de zero cujo valor absoluto é menor que $\n",
    "2.3 \\cdot 10^{-308} $ não pode ser representado exatamente; pode ser arredondado para $ 0.0 $,\n",
    "o que por sua vez pode desencadear um erro (como divisão por zero) dependendo da\n",
    "situação.\n"
   ]
  },
  {
   "attachments": {},
   "cell_type": "markdown",
   "id": "f74e427a",
   "metadata": {},
   "source": [
    "__Exercício:__ Sejam $ r = 3.0 $ e $ s = 1.2 $. Advinhe e depois explique os valores\n",
    "que são impressos abaixo."
   ]
  },
  {
   "cell_type": "code",
   "execution_count": null,
   "id": "c6a4146b",
   "metadata": {},
   "outputs": [],
   "source": [
    "# r = 3.0\n",
    "# s = 1.2\n",
    "print(r + s)      # Somando r e s.\n",
    "print(r - s)      # Subtraindo s de r.\n",
    "print(r * s)      # Multiplicando r e s.\n",
    "print(r / s)      # Divisão de r por s.\n",
    "print(r**s)       # Elevando r a s.\n",
    "print(r // s)     # Quantas vezes s cabe em r? Retorna um float.\n",
    "print(r % s)      # E qual é o resto? Retorna um float."
   ]
  },
  {
   "attachments": {},
   "cell_type": "markdown",
   "id": "f4126590",
   "metadata": {},
   "source": [
    "__Exercício:__ O que acontece se você tentar dividir por $ 0 $?"
   ]
  },
  {
   "cell_type": "code",
   "execution_count": null,
   "id": "6fb0447b",
   "metadata": {},
   "outputs": [],
   "source": []
  },
  {
   "attachments": {},
   "cell_type": "markdown",
   "id": "26595105",
   "metadata": {},
   "source": [
    "Um número de ponto flutuante também pode ser escrito na __notação científica__ ou __exponencial__ usando `e`. Nesta notação, o número à esquerda de `e` é multiplicado por $ 10 $ elevado à potência à direita de `e`.\n",
    "\n",
    "__Exercício:__ Que números reais são representados pelos seguintes floats?\n",
    "\n",
    "(a) `3.14159e0`\n",
    "\n",
    "(b) `1.23e2`\n",
    "\n",
    "(c) `2e-1`\n",
    "\n",
    "(d) `1.e-2`\n",
    "\n",
    "(e) `10e-1`\n",
    "\n",
    "(f) `4.56e-2`\n",
    "\n",
    "(g) `.789e5`"
   ]
  },
  {
   "cell_type": "code",
   "execution_count": null,
   "id": "271ef5a5",
   "metadata": {},
   "outputs": [],
   "source": []
  },
  {
   "attachments": {},
   "cell_type": "markdown",
   "id": "19d7bf88",
   "metadata": {},
   "source": [
    "⚠️ Note que `10e1` não representa $ 10^1 = 10 $, mas sim\n",
    "$$\n",
    "10 \\times 10^1 = 10^2 = 100\\,.\n",
    "$$\n",
    "Em outras palavras, o `e` na notação científica não representa\n",
    "a operação de exponenciação, que é denotada por `**`."
   ]
  },
  {
   "cell_type": "markdown",
   "id": "ca278d91",
   "metadata": {},
   "source": [
    "⚠️ A notação científica só pode ser usada com valores constantes, não com variáveis, como ilustrado no exercício abaixo. "
   ]
  },
  {
   "cell_type": "markdown",
   "id": "472d712d",
   "metadata": {},
   "source": [
    "__Exercício:__ Sejam `x = 3.14` e `y = 2`. Considere as três formas seguintes de\n",
    "fazer o interpretador calcular o valor de $ 3.14 \\times 10^2 $ e explique\n",
    "seus resultados:\n",
    "\n",
    "(a) `print(3.14e2)`\n",
    "\n",
    "(b) `print(xe2)`\n",
    "\n",
    "(c) `print(3.14ey)`"
   ]
  },
  {
   "cell_type": "code",
   "execution_count": null,
   "id": "3d743c69",
   "metadata": {},
   "outputs": [],
   "source": [
    "x = 3.14\n",
    "y = 2"
   ]
  },
  {
   "attachments": {},
   "cell_type": "markdown",
   "id": "27929018",
   "metadata": {},
   "source": [
    "📝 A expressão \"ponto flutuante\" refere-se ao fato de que, quando expressa\n",
    "em notação científica, a posição do ponto decimal de um número deste\n",
    "tipo pode \"flutuar\" em qualquer lugar entre seus dígitos, ou seja, não está vinculada à\n",
    "posição à direita do dígito que representa as unidades. Em particular, o\n",
    "mesmo número pode ser representado de várias maneiras, por exemplo:\n",
    "$$\n",
    "3.1415 \\times 10^0 = 3141.5 \\times 10^{-3} = 31415 \\times 10^{-4}\n",
    "$$"
   ]
  },
  {
   "attachments": {},
   "cell_type": "markdown",
   "id": "bce81ba1",
   "metadata": {},
   "source": [
    "__Exercício:__ Explique por que `2023**100` avalia para um inteiro enquanto `2020.1**100` produz um erro de overflow. _Dica:_ Veja os comentários em $ \\S 5 $."
   ]
  },
  {
   "cell_type": "code",
   "execution_count": null,
   "id": "5c79c081",
   "metadata": {},
   "outputs": [],
   "source": []
  },
  {
   "attachments": {},
   "cell_type": "markdown",
   "id": "4414e5df",
   "metadata": {},
   "source": [
    "__Exercício:__ Avalie `2.0 + 2.0 - 2.0` e `2.0 + 2.0e16 - 2.0e16` e tente explicar por que os resultados são diferentes. (Voltaremos a este problema quando estudarmos aritmética de ponto flutuante mais tarde.)"
   ]
  },
  {
   "cell_type": "code",
   "execution_count": null,
   "id": "490f8666",
   "metadata": {},
   "outputs": [],
   "source": []
  },
  {
   "attachments": {},
   "cell_type": "markdown",
   "id": "11bcc40c",
   "metadata": {},
   "source": [
    "## $ \\S 7 $ Conversão de tipo\n",
    "\n",
    "Podemos usar `int`, `float` e `complex` como _funções_ para converter um valor para\n",
    "o tipo correspondente em certos casos (números complexos são discutidos em $ \\S\n",
    "10 $). Da mesma forma, qualquer valor de um tipo numérico pode ser convertido em uma string usando\n",
    "`str` como uma função (strings serão discutidas em profundidade no próximo\n",
    "notebook). Mais precisamente:\n",
    "\n",
    "* Qualquer inteiro pode ser convertido em um número de ponto flutuante ou complexo;\n",
    "* Qualquer número de ponto flutuante pode ser convertido em um número complexo;\n",
    "* Qualquer valor numérico pode ser convertido em uma string;\n",
    "* Inversamente, uma string também pode ser convertida em um tipo numérico, desde que\n",
    "  seu literal represente um número válido do tipo pretendido.\n",
    "\n",
    "__Exercício:__ Suponha que $ a = 2 $. Se executarmos as seguintes instruções em\n",
    "sequência, quais são os valores e tipos das saídas correspondentes?\n",
    "\n",
    "(a) `float(a)`\n",
    "\n",
    "(b) `complex(a)`\n",
    "\n",
    "(c) `str(a)`\n",
    "\n",
    "(d) `a`"
   ]
  },
  {
   "cell_type": "code",
   "execution_count": null,
   "id": "40b739ca",
   "metadata": {},
   "outputs": [],
   "source": []
  },
  {
   "attachments": {},
   "cell_type": "markdown",
   "id": "a4908cef",
   "metadata": {},
   "source": [
    "📝 Note que em qualquer um desses casos, o objeto original permanece o mesmo e um\n",
    "_novo_ objeto tendo o tipo especificado é criado. Por exemplo, no\n",
    "exercício anterior, depois que todas as instruções foram executadas, $ a $ ainda é do\n",
    "tipo `int`."
   ]
  },
  {
   "attachments": {},
   "cell_type": "markdown",
   "id": "42892e52",
   "metadata": {},
   "source": [
    "Aplicar `int` a um número de ponto flutuante $ x $ _trunca-o_, ou seja,\n",
    "descarta a parte fracionária de $ x $.\n",
    "\n",
    "__Exercício:__ Calcule as saídas de:\n",
    "\n",
    "(a) `int(2)`\n",
    "\n",
    "(b) `int(2.3)`\n",
    "\n",
    "(c) `int(2.8)`\n",
    "\n",
    "(d) `int(-2.3)`\n",
    "\n",
    "(e) `int(-2.8)`"
   ]
  },
  {
   "cell_type": "code",
   "execution_count": null,
   "id": "701539df",
   "metadata": {},
   "outputs": [],
   "source": []
  },
  {
   "attachments": {},
   "cell_type": "markdown",
   "id": "7564b4b8",
   "metadata": {},
   "source": [
    "Para arredondar $ x $ para o inteiro mais próximo, usamos `round(x)`. Mais genericamente,\n",
    "`round(x, <número de dígitos>)` _arredonda_ um número de ponto flutuante $ x $ para uma precisão\n",
    "dentro do número especificado de dígitos após o ponto decimal.\n",
    "\n",
    "__Exercício:__ Seja a variável $ b $ com o valor $ 2.654321 $. Quais são os valores de:\n",
    "\n",
    "(a) `int(b)`\n",
    "\n",
    "(b) `round(b)`\n",
    "\n",
    "(c) `round(b, 3)`\n",
    "\n",
    "(d) `round(b, 0)`\n",
    "\n",
    "(e) `round(b, 9)`\n",
    "\n",
    "(f) `round(-b)`\n",
    "\n",
    "(g) `int(-b)`"
   ]
  },
  {
   "cell_type": "code",
   "execution_count": null,
   "id": "7a21a42b",
   "metadata": {},
   "outputs": [],
   "source": [
    "b = 2.654321"
   ]
  },
  {
   "cell_type": "code",
   "execution_count": null,
   "id": "bff1d97f",
   "metadata": {},
   "outputs": [],
   "source": []
  },
  {
   "attachments": {},
   "cell_type": "markdown",
   "id": "032e5a31",
   "metadata": {},
   "source": [
    "## $ \\S 8 $ Operações aritméticas\n",
    "Em resumo, Python suporta os seguintes operadores aritméticos binários:\n",
    "\n",
    "| Operador  | Operação            | Tipos permitidos           |\n",
    "| :-------- | :---------          | :------------------------  |\n",
    "| `+`       | Adição              |  `int`, `float`, `complex` |\n",
    "| `-`       | Subtração           |  `int`, `float`, `complex` |\n",
    "| `*`       | Multiplicação       |  `int`, `float`, `complex` |\n",
    "| `/`       | Divisão             |  `int`, `float`, `complex` |\n",
    "| `**`      | Exponenciação       |  `int`, `float`, `complex` |\n",
    "| `//`      | Divisão inteira     |  `int`, `float`            |\n",
    "| `%`       | Módulo (resto)      |  `int`, `float`            |\n",
    "\n",
    "<a name=\"table 1\"></a>\n",
    "\n",
    "Os dois últimos operadores são definidos da seguinte forma. Se $ x $ e $ y $ são\n",
    "inteiros ou números de ponto flutuante, então:\n",
    "* ` x // y` é o maior inteiro $ n $ tal que $ n y \\le x $ (equivalentemente, é\n",
    "o piso de $ \\frac{x}{y} $).\n",
    "* `x % y` é o resto $ x - ny $. Em outras palavras, é definido pela\n",
    "equação:\n",
    "$$\n",
    "\\mathtt{x\\ =\\ y\\ *\\ (x\\ //\\ y) + x\\ \\%\\ y}\n",
    "$$\n",
    "\n",
    "Esses operadores são geralmente aplicados apenas quando $ x $ e $ y $ são ambos positivos, mas\n",
    "as definições acima funcionam independentemente dos sinais de $ x $ e $ y $.\n",
    "\n",
    "📝 Note a semelhança do símbolo `%` com o símbolo $ \\div \\,$ para o operador de divisão."
   ]
  },
  {
   "attachments": {},
   "cell_type": "markdown",
   "id": "b6588690",
   "metadata": {},
   "source": [
    "__Exercício:__ Preveja os valores das seguintes expressões e depois verifique suas respostas:\n",
    "\n",
    "(a) `7 * 2`\n",
    "\n",
    "(b) `7 ** 2`\n",
    "\n",
    "(c) `7 // 2`\n",
    "\n",
    "(d) `7 / 2`\n",
    "\n",
    "(e) `7 % 2`"
   ]
  },
  {
   "cell_type": "code",
   "execution_count": null,
   "id": "f23f12c8",
   "metadata": {},
   "outputs": [],
   "source": []
  },
  {
   "attachments": {},
   "cell_type": "markdown",
   "id": "807d2963",
   "metadata": {},
   "source": [
    "__Exercício:__ Sejam $ x = 11 $, $ y = 3 $, $ s = 2.51 $ e $ t = 8.53 $. Qual é a saída das instruções abaixo?\n",
    "\n",
    "(a) `x // t`\n",
    "\n",
    "(b) `x % t`\n",
    "\n",
    "(c) `t // y`\n",
    "\n",
    "(d) `t % y`\n",
    "\n",
    "(e) `t // s`\n",
    "\n",
    "(f) `t % s`"
   ]
  },
  {
   "cell_type": "code",
   "execution_count": null,
   "id": "08363909",
   "metadata": {},
   "outputs": [],
   "source": []
  },
  {
   "attachments": {},
   "cell_type": "markdown",
   "id": "3bb6cd09",
   "metadata": {},
   "source": [
    "📝 Aplicar `%` com segundo argumento $ 1 $ resulta na parte fracionária do\n",
    "primeiro argumento (positivo), como no exemplo a seguir."
   ]
  },
  {
   "cell_type": "code",
   "execution_count": null,
   "id": "d6fb65aa",
   "metadata": {},
   "outputs": [],
   "source": [
    "3.14159 % 1"
   ]
  },
  {
   "attachments": {},
   "cell_type": "markdown",
   "id": "46232510",
   "metadata": {},
   "source": [
    "Além desses operadores aritméticos binários, também podemos fazer uso das seguintes funções ao trabalhar com valores numéricos:\n",
    "* `abs`, a função de **valor absoluto**, que recebe um único argumento numérico de qualquer tipo numérico (`int`, `float` ou `complex`) e retorna seu valor absoluto (ou módulo, no caso de números complexos);\n",
    "* `max` e `min`, que podem receber qualquer número de argumentos do tipo\n",
    "  `float` ou `int` separados por vírgulas e retornar seus __máximo__ e\n",
    "  __mínimo__, respectivamente.\n",
    "\n",
    "__Exercício:__ Determine a saída das seguintes instruções:\n",
    "\n",
    "(a) `abs(-2.71828)`\n",
    "\n",
    "(b) `max(-5.3, 2, 10.45, -23, 0)`\n",
    "\n",
    "(c) `min(-5.3, 2, 10.45, -23, 0)`"
   ]
  },
  {
   "cell_type": "code",
   "execution_count": null,
   "id": "9451b34c",
   "metadata": {},
   "outputs": [],
   "source": []
  },
  {
   "attachments": {},
   "cell_type": "markdown",
   "id": "d61922d0",
   "metadata": {},
   "source": [
    "Outras funções matemáticas comuns, como a exponencial, o logaritmo e funções trigonométricas podem ser usadas após importar os módulos `math` ou `numpy` (mais sobre isso mais tarde)."
   ]
  },
  {
   "attachments": {},
   "cell_type": "markdown",
   "id": "c390e02c",
   "metadata": {},
   "source": [
    "## $ \\S 9 $ Operadores de atribuição compostos\n",
    "\n",
    "Correspondendo a cada um dos operadores aritméticos considerados acima, Python\n",
    "fornece os seguintes __operadores de atribuição compostos__ que podem ser usados para\n",
    "realizar uma operação in-place em uma variável fornecida como seu primeiro operando:\n",
    "\n",
    "    +=, -=, *=, /=, **=, //=, %=\n",
    "\n",
    "Cada um desses combina uma operação binária com uma atribuição.\n",
    "Seu significado pode ser entendido a partir dos seguintes exemplos.\n",
    "\n",
    "| Exemplo             | Instrução equivalente |\n",
    "| :--------           | :---------           |\n",
    "| `x += 3.14`         | ` x = x + 3.14`      |\n",
    "| `x -= 2 / 3`        | `x = x - (2 / 3)`    |\n",
    "| `x *= 2`            | `x = x * 2`          |\n",
    "| `x /= 0.5`          | `x = x / 0.5`        |\n",
    "| `x **= 1 / 2`       | `x = x**(1 / 2)`     |\n",
    "| `x //= z`           | `x = x // z`         |\n",
    "| `x %= y**2`         | `x = x % (y**2)`     |\n",
    "\n",
    "Em cada caso, o valor _atual_ da variável $ x $ é usado para calcular\n",
    "a expressão à direita, que se torna o novo valor de $ x $. Note também\n",
    "que para interpretar atribuições compostas corretamente, a expressão no lado\n",
    "direito deve sempre ser colocada entre parênteses. Assim, `x *= y + 1` é equivalente a `x = x *\n",
    "(y + 1)`, não `x = x * y + 1`.\n",
    "\n",
    "__Exercício:__ Sejam $ x = 7 $ e $ y = 5 $. Determine os\n",
    "valores de $ x $ e $ y $ após cada uma das seguintes instruções ser executada\n",
    "pelo interpretador em sequência:\n",
    "\n",
    "(a) `x -= y + 1`\n",
    "\n",
    "(b) `y += x`\n",
    "\n",
    "(c) `y **= x`\n",
    "\n",
    "(d) `y //= x`\n",
    "\n",
    "(e) `y %= x`\n",
    "\n",
    "(f) `x **= 1/2`"
   ]
  },
  {
   "cell_type": "code",
   "execution_count": null,
   "id": "67e53767",
   "metadata": {},
   "outputs": [],
   "source": [
    "x = 7\n",
    "y = 5"
   ]
  },
  {
   "cell_type": "markdown",
   "id": "7b485b8a",
   "metadata": {},
   "source": [
    "📝 Na verdade, `a = a + b` e `a += b` não são exatamente equivalentes. A última\n",
    "modifica o valor de $ a $ _in loco_, portanto é geralmente mais eficiente; a\n",
    "primeira cria um _novo objeto_ com o valor `a + b` e depois o atribui a $ a $.\n",
    "No entanto, para todos os nossos propósitos, essa pequena diferença pode ser ignorada."
   ]
  },
  {
   "cell_type": "markdown",
   "id": "2ddab074",
   "metadata": {},
   "source": [
    "## ⚡ $ \\S 10 $ O tipo `complex` de números complexos\n",
    "\n",
    "Não precisaremos usar números complexos neste curso, portanto esta seção é\n",
    "opcional. Um número do tipo `complex` pode ser representado em Python como um par de\n",
    "floats (suas partes real e imaginária) usando a notação especial indicada nos\n",
    "seguintes exemplos.\n",
    "\n",
    "⚠️ Em Python, a unidade imaginária é denotada por $ j $ em vez do mais usual\n",
    "$ i $. "
   ]
  },
  {
   "cell_type": "code",
   "execution_count": null,
   "id": "94dfca07",
   "metadata": {},
   "outputs": [],
   "source": [
    "w = 1.23 + 4.56j    # Note a sintaxe: escrevemos '4.56j', não '4.56 * j'.\n",
    "print(w, type(w))   # Verificando o tipo de w.\n",
    "\n",
    "z = 4 + 1j       \n",
    "print(z, type(z))\n",
    "\n",
    "print(z + w)"
   ]
  },
  {
   "cell_type": "markdown",
   "id": "5135c682",
   "metadata": {},
   "source": [
    "⚠️ Por si só, `j` é interpretado como uma variável cujo nome é $ j $. Para\n",
    "indicar que queremos um número complexo, `j` deve ser imediatamente precedido por um\n",
    "número."
   ]
  },
  {
   "cell_type": "code",
   "execution_count": null,
   "id": "0b7985bc",
   "metadata": {},
   "outputs": [],
   "source": [
    "print(j)    # Resultará em um erro se não houver uma variável chamada 'j'."
   ]
  },
  {
   "cell_type": "code",
   "execution_count": null,
   "id": "1c5030d5",
   "metadata": {},
   "outputs": [],
   "source": [
    "# Mesmo se a parte imaginária for zero, ela ainda deve ser incluída explicitamente para\n",
    "# indicar que estamos lidando com um número complexo em vez de um float\n",
    "# ou um int:\n",
    "a = 1 + 0j\n",
    "print(a, type(a))\n",
    "# No entanto, caso a parte real seja 0, podemos omiti-la:\n",
    "b = 1j\n",
    "print(b, type(b))"
   ]
  },
  {
   "cell_type": "markdown",
   "id": "46f104f5",
   "metadata": {},
   "source": [
    "📝 Cada número complexo tem atributos especiais `real` e `imag` para\n",
    "representar suas partes real e imaginária, respectivamente, e um método especial\n",
    "`conjugate` para calcular seu conjugado. "
   ]
  },
  {
   "cell_type": "code",
   "execution_count": null,
   "id": "6737f3c1",
   "metadata": {},
   "outputs": [],
   "source": [
    "# Número complexo com parte real 0 e parte imaginária 1.0:\n",
    "w = 1.0j\n",
    "print(w)    \n",
    "print(w.real, type(w.real))\n",
    "print(w.imag, type(w.imag))"
   ]
  },
  {
   "cell_type": "code",
   "execution_count": null,
   "id": "637f7831",
   "metadata": {},
   "outputs": [],
   "source": [
    "# Número complexo com parte real 0 e parte imaginária 1:\n",
    "z = 0 + 1j\n",
    "# Imprimindo z e o tipo de suas partes real e imaginária:\n",
    "print(z)    \n",
    "print(z.real, type(z.real))\n",
    "print(z.imag, type(z.imag))\n",
    "# Embora tenhamos usado os inteiros 0 e 1 como partes real e imaginária, o\n",
    "# número complexo resultante ainda tem partes real e imaginária do tipo float!"
   ]
  },
  {
   "cell_type": "code",
   "execution_count": null,
   "id": "c6e7fa00",
   "metadata": {},
   "outputs": [],
   "source": [
    "print(z.conjugate(), type(z.conjugate()))"
   ]
  },
  {
   "cell_type": "markdown",
   "id": "6ac3f791",
   "metadata": {},
   "source": [
    "__Exercício:__ Suponha que as instruções `z = 1 + 1j` e `w = 1 -1j` acabaram de ser interpretadas.\n",
    "Qual é o valor e tipo das seguintes expressões?\n",
    "\n",
    "(a) `z + w`\n",
    "\n",
    "(b) `z - w`\n",
    "\n",
    "(c) `z**2`\n",
    "\n",
    "(d) `z**4`\n",
    "\n",
    "(e) `z * w`\n",
    "\n",
    "(f) `z / w`\n",
    "\n",
    "(g) `w != z`\n",
    "\n",
    "(h) `z + w <= 2 * (z + w)`"
   ]
  },
  {
   "cell_type": "code",
   "execution_count": null,
   "id": "b4f74fe1",
   "metadata": {},
   "outputs": [],
   "source": []
  },
  {
   "cell_type": "markdown",
   "id": "2459f371",
   "metadata": {},
   "source": [
    "__Exercício:__ Use Python para adivinhar o valor de $ e^{\\pi i} $. _Dica:_ Use aproximações para $ e $ e $ \\pi $."
   ]
  },
  {
   "cell_type": "code",
   "execution_count": null,
   "id": "e226699d",
   "metadata": {},
   "outputs": [],
   "source": []
  },
  {
   "cell_type": "markdown",
   "id": "86aecfb8",
   "metadata": {},
   "source": [
    "🚫 Tentar comparar dois números complexos ou converter um número complexo em um\n",
    "inteiro ou número de ponto flutuante resultará em um `TypeError`.\n",
    "\n",
    "__Exercício:__ Suponha que a instrução `z = 2.0 + 0j` acabou de ser executada pelo interpretador. Descreva as saídas de:\n",
    "\n",
    "(a) `int(z)`\n",
    "\n",
    "(b) `float(z)`\n",
    "\n",
    "(c) `str(z)`\n",
    "\n",
    "(d) `complex('2.0 + 0j')`\n",
    "\n",
    "(e) `complex('2.0')`"
   ]
  },
  {
   "cell_type": "code",
   "execution_count": null,
   "id": "b52a216b",
   "metadata": {},
   "outputs": [],
   "source": []
  }
 ],
 "metadata": {
  "kernelspec": {
   "display_name": "Python 3",
   "language": "python",
   "name": "python3"
  },
  "language_info": {
   "codemirror_mode": {
    "name": "ipython",
    "version": 3
   },
   "file_extension": ".py",
   "mimetype": "text/x-python",
   "name": "python",
   "nbconvert_exporter": "python",
   "pygments_lexer": "ipython3",
   "version": "3.12.3"
  },
  "vscode": {
   "interpreter": {
    "hash": "e7370f93d1d0cde622a1f8e1c04877d8463912d04d973331ad4851f04de6915a"
   }
  }
 },
 "nbformat": 4,
 "nbformat_minor": 5
}