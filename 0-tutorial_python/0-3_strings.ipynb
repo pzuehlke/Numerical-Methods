{
 "cells": [
  {
   "cell_type": "markdown",
   "metadata": {},
   "source": [
    "# Strings\n",
    "\n",
    "## $ \\S 1 $ Strings\n",
    "Uma __string__ é uma sequência de caracteres delimitada por aspas simples `'` ou duplas `\"`. O tipo correspondente às strings é chamado `str`.\n",
    "\n",
    "__Exemplo:__"
   ]
  },
  {
   "cell_type": "code",
   "execution_count": null,
   "metadata": {},
   "outputs": [],
   "source": [
    "a = \"It is time for all good men\"\n",
    "b = 'to come to the aid of their country.'\n",
    "print(a, type(a))   # Imprimindo a string a e seu tipo.\n",
    "print(b, type(b))   # Fazendo o mesmo para a string b."
   ]
  },
  {
   "cell_type": "markdown",
   "metadata": {},
   "source": [
    "Note que o par de aspas que delimita uma string não aparece na tela quando ela é impressa.\n",
    "\n",
    "📝 Se uma string contém caracteres de nova linha, ela pode ser delimitada por `\"\"\"` (aspas duplas triplas). Isso pode ser usado para dividir uma string mais longa em várias linhas."
   ]
  },
  {
   "cell_type": "code",
   "execution_count": null,
   "metadata": {},
   "outputs": [],
   "source": [
    "poema =  \"\"\"\n",
    "Whose woods these are I think I know.   \n",
    "His house is in the village though;   \n",
    "He will not see me stopping here   \n",
    "To watch his woods fill up with snow.\n",
    "\"\"\"\n",
    "print(poema, type(poema))"
   ]
  },
  {
   "cell_type": "markdown",
   "metadata": {},
   "source": [
    "Diferentemente de várias outras linguagens, Python não possui um tipo especial para caracteres: um caractere é representado simplesmente como uma string de comprimento $ 1 $."
   ]
  },
  {
   "cell_type": "code",
   "execution_count": null,
   "metadata": {},
   "outputs": [],
   "source": [
    "letter = 'a'\n",
    "print(letter, type(letter))    # Note que letter é do tipo str."
   ]
  },
  {
   "cell_type": "markdown",
   "metadata": {},
   "source": [
    "Para obter o caractere na posição $ i $ de uma string chamada, digamos, $ s $, use `s[i]`; a saída também é uma string (ainda que tenha apenas $ 1 $ caractere).\n",
    "\n",
    "<div class=\"alert alert-warning\">Em Python, os índices são <i>sempre</i> contados começando de <b>0 (zero)</b>, não 1. Para evitar confusão, adaptamos nossa terminologia de acordo. Por exemplo, nos referimos a 'm' como o caractere na posição 0 da string 'magic', 'a' como seu primeiro caractere, e assim por diante... Em particular, se uma string tem comprimento n (ou seja, se ela consiste de n caracteres), então seu último índice é n - 1.</div>\n",
    "\n",
    "__Exemplo:__"
   ]
  },
  {
   "cell_type": "code",
   "execution_count": null,
   "metadata": {},
   "outputs": [],
   "source": [
    "g = \"Gandalf\"\n",
    "s = \"Sauron\"\n",
    "\n",
    "print(g[0], type(g[0]))\n",
    "print(g[3], type(g[3]))\n",
    "\n",
    "# Como s contém 6 letras, a última é indexada por 5:\n",
    "print(s[5])"
   ]
  },
  {
   "cell_type": "markdown",
   "metadata": {},
   "source": [
    "Ao prefixar um índice com um sinal de menos -, começamos a contar para a\n",
    "'esquerda' a partir do caractere na posição $ 0 $. Por exemplo, `s[-1]` é o _último_\n",
    "caractere de $ s $, `s[-2]` é seu _penúltimo_ caractere, e assim por diante.\n",
    "\n",
    "__Exemplo:__ Aqui está uma representação das letras na string \"rocket\" e seus respectivos índices:\n",
    "\n",
    "$$\n",
    "\\begin{array}{r|r|r|r|r|r|r|}\n",
    "\\text{string} &  \\text{r} & \\text{o} & \\text{c} & \\text{k} & \\text{e} & \\text{t} \\\\ \\hline\n",
    "\\text{índices} & 0 & 1 & 2 & 3 & 4 & 5 \\\\\n",
    " & -6 & -5 & -4 & -3 & -2 & -1 \\\\\n",
    "\\end{array}\n",
    "$$\n",
    "\n",
    "__Exercício:__ No exemplo anterior, o que acontece se você tentar acessar o 6º elemento da string? E o elemento na posição -7?"
   ]
  },
  {
   "cell_type": "code",
   "execution_count": null,
   "metadata": {},
   "outputs": [],
   "source": []
  },
  {
   "cell_type": "markdown",
   "metadata": {},
   "source": [
    "📝 Se quisermos criar uma string que tenha uma aspa simples como um de seus caracteres, podemos delimitar a string com aspas duplas, e vice-versa."
   ]
  },
  {
   "cell_type": "code",
   "execution_count": null,
   "metadata": {},
   "outputs": [],
   "source": [
    "explosion = \"'BOOM!'\"\n",
    "last = explosion[-1]\n",
    "print(last)\n",
    "\n",
    "next_to_last = explosion[-2]\n",
    "print(next_to_last)"
   ]
  },
  {
   "cell_type": "markdown",
   "metadata": {},
   "source": [
    "Finalmente, qualquer caractere Unicode pode ser usado em uma string:"
   ]
  },
  {
   "cell_type": "code",
   "execution_count": null,
   "metadata": {},
   "outputs": [],
   "source": [
    "fruits = \"🍉🫐🍓🥝🍎🍍\"\n",
    "print(fruits)\n",
    "\n",
    "greeting = \"こんにちは\"\n",
    "print(greeting)"
   ]
  },
  {
   "cell_type": "markdown",
   "metadata": {},
   "source": [
    "## § $ 2 $ Operações com strings\n",
    "\n",
    "Strings podem ser __concatenadas__ usando o operador binário __+__.\n",
    "\n",
    "__Exemplo:__"
   ]
  },
  {
   "cell_type": "code",
   "execution_count": null,
   "metadata": {},
   "outputs": [],
   "source": [
    "string_1 = \"ancient\"\n",
    "string_2 = \"magic\"\n",
    "string_3 = \"spells\"\n",
    "\n",
    "print(string_1 + string_2)\n",
    "print(string_1 + \" \" + string_2 + \" \" + string_3)"
   ]
  },
  {
   "cell_type": "markdown",
   "metadata": {},
   "source": [
    "__Exercício:__ Suponha que as instruções `a = \"hello\"` e `b = 'world'` acabaram de ser executadas pelo interpretador. Determine a saída de cada uma das seguintes instruções:\n",
    "\n",
    "(a) `a + a`\n",
    "\n",
    "(b) `b + \" \" + a`\n",
    "\n",
    "(c) `a * 3`\n",
    "\n",
    "(d) `2 * b`\n",
    "\n",
    "(e) `(-1) * a`\n",
    "\n",
    "(f) `1 + \"1\"`\n",
    "\n",
    "(g) `a * b`\n",
    "\n",
    "(h) `a - a`\n",
    "\n",
    "(i) `0 == '0'`\n",
    "\n",
    "(j) `True == \"True\"`"
   ]
  },
  {
   "cell_type": "code",
   "execution_count": null,
   "metadata": {},
   "outputs": [],
   "source": [
    "a = \"hello\"\n",
    "b = 'world'"
   ]
  },
  {
   "cell_type": "markdown",
   "metadata": {},
   "source": [
    "📝 Estendendo a interpretação de `+` como concatenação de strings, se usarmos `*` para \"multiplicar\" uma string por um inteiro positivo $ n $, então o resultado é uma nova string que consiste em n cópias da string original, concatenadas uma após a outra. De forma mais concisa, para strings, `*` denota __repetição__. Os demais operadores aritméticos (`-`, `**`, `/`, `//` e `%`) não podem ser aplicados a strings."
   ]
  },
  {
   "cell_type": "code",
   "execution_count": null,
   "metadata": {},
   "outputs": [],
   "source": [
    "word = \"foo\"\n",
    "print(word * 3)\n",
    "print(3 * word)"
   ]
  },
  {
   "cell_type": "markdown",
   "metadata": {},
   "source": [
    "A função `len` aplicada a uma string retorna seu **comprimento**, isto é, o número de caracteres que ela contém, que é sempre um inteiro não-negativo.\n",
    "\n",
    "__Exemplo:__"
   ]
  },
  {
   "cell_type": "code",
   "execution_count": null,
   "metadata": {},
   "outputs": [],
   "source": [
    "s = \"Look to Windward\"\n",
    "print(s)\n",
    "print(len(s), type(len(s)))"
   ]
  },
  {
   "cell_type": "code",
   "execution_count": null,
   "metadata": {},
   "outputs": [],
   "source": [
    "# A string vazia é a única string que tem comprimento 0:\n",
    "print(len(\"\"))\n",
    "\n",
    "# Note que espaços em branco também contam como caracteres válidos:\n",
    "print(len(\"   \"))    # <--- Esta string consiste em três espaços."
   ]
  },
  {
   "cell_type": "markdown",
   "metadata": {},
   "source": [
    "🚫 Uma string é um objeto __imutável__, significando que seus caracteres individuais _não podem ser modificados_. Tentar fazer isso fará o interpretador lançar um `TypeError`."
   ]
  },
  {
   "cell_type": "code",
   "execution_count": null,
   "metadata": {},
   "outputs": [],
   "source": [
    "boat = \"Boat\"\n",
    "# Vamos tentar modificar o primeiro caractere:\n",
    "boat[0] = 'C'"
   ]
  },
  {
   "cell_type": "markdown",
   "metadata": {},
   "source": [
    "O __operador dois-pontos `:`__, como em `[i:j]`, é usado para fazer um\n",
    "__fatiamento__ de uma string do seu caractere na posição $ i $ (inclusive) até seu\n",
    "caractere na posição $ j $ (exclusive). Esta operação não modifica a string (afinal,\n",
    "strings são imutáveis); em vez disso, ela cria uma _nova_ string que consiste\n",
    "nos caracteres com índices variando de $ i $ até $ j - 1 $, inclusive.\n",
    "\n",
    "__Exemplo:__"
   ]
  },
  {
   "cell_type": "code",
   "execution_count": null,
   "metadata": {},
   "outputs": [],
   "source": [
    "string = 'magic'\n",
    "\n",
    "# Fatia do caractere na posição 0 até o 2º (não incluindo o 2º):\n",
    "init = string[0:2]\n",
    "print(init, type(init))\n",
    "\n",
    "# Fatia do 2º caractere até o 5º (não incluindo o 5º):\n",
    "final = string[2:5]   \n",
    "print(final, type(final))\n",
    "\n",
    "print(init + final)"
   ]
  },
  {
   "cell_type": "markdown",
   "metadata": {},
   "source": [
    "Omitir o primeiro índice em uma fatia tem o mesmo efeito que fatiar desde o início. De forma similar, se omitirmos o segundo índice, então a string será fatiada até o fim."
   ]
  },
  {
   "cell_type": "code",
   "execution_count": null,
   "metadata": {},
   "outputs": [],
   "source": [
    "word = 'automaton'\n",
    "print(word[:4])\n",
    "print(word[4:])"
   ]
  },
  {
   "cell_type": "markdown",
   "metadata": {},
   "source": [
    "Frequentemente é necessário criar uma cópia independente de uma string. Para fazer isso, uma _fatia completa_ `[:]` pode ser usada.\n",
    "\n",
    "__Exemplo:__"
   ]
  },
  {
   "cell_type": "code",
   "execution_count": null,
   "metadata": {},
   "outputs": [],
   "source": [
    "string_1 = 'potion'\n",
    "\n",
    "# Omita ambos os índices na fatia para criar uma cópia da string original:\n",
    "string_2 = string_1[:]    \n",
    "\n",
    "string_1 = 'magic'\n",
    "print(string_1, string_2)"
   ]
  },
  {
   "cell_type": "markdown",
   "metadata": {},
   "source": [
    "__Exercício:__ Seja $s$ uma variável cujo valor é uma string. Verdadeiro ou Falso? Explique.\n",
    "\n",
    "(a) `s[:] == s[0:]`\n",
    "\n",
    "(b) `s[:] == s[0:len(s)]`\n",
    "\n",
    "(c) `s[:] == s[0:-1]`"
   ]
  },
  {
   "cell_type": "code",
   "execution_count": null,
   "metadata": {},
   "outputs": [],
   "source": []
  },
  {
   "cell_type": "markdown",
   "metadata": {},
   "source": [
    "O construtor de fatia também admite um terceiro argumento, que especifica o __tamanho do passo__ na operação de fatiamento. A sintaxe de uma fatia que faz uso de todos os três argumentos é, portanto:\n",
    "`[<índice inicial (inclusive)> : <índice final (exclusive)> : <tamanho do passo>]`. Se omitido, o tamanho do passo é definido como $1$ por padrão. Tamanhos de passo também podem ser negativos, o que faz com que a string seja fatiada na direção da direita para a esquerda.\n",
    "\n",
    "__Exemplo:__"
   ]
  },
  {
   "cell_type": "code",
   "execution_count": null,
   "metadata": {},
   "outputs": [],
   "source": [
    "s = \"magic\"\n",
    "print(s[::1])   # Fatia completa, tamanho do passo 1 explícito.\n",
    "print(s[::2])   # Fatia consistindo de caracteres com índices pares.\n",
    "print(s[1::2])  # Fatia consistindo de caracteres com índices ímpares.\n",
    "print(s[::-1])  # Fatia que resulta na string invertida."
   ]
  },
  {
   "cell_type": "markdown",
   "metadata": {},
   "source": [
    "📝 Como acima, para criar uma cópia de uma string $s$ com seus caracteres invertidos, usamos `s[::-1]`.\n",
    "\n",
    "__Exercício:__ Suponha que a variável $p$ contém a string \"thought\". Qual é a saída das seguintes instruções?\n",
    "\n",
    "(a) `p[::2]`\n",
    "\n",
    "(b) `p[1::4]`\n",
    "\n",
    "(c) `p[2:4:2]`\n",
    "\n",
    "(d) `p[2:5:2]`\n",
    "\n",
    "(e) `p[2:6:2]`\n",
    "\n",
    "(f) `p[2:7:2]`\n",
    "\n",
    "(g) `p[::-1]`\n",
    "\n",
    "(h) `p[4:0:-1]`\n",
    "\n",
    "(i) `p[4::-2]`\n",
    "\n",
    "(j) `p[1::-1]`"
   ]
  },
  {
   "cell_type": "code",
   "execution_count": null,
   "metadata": {},
   "outputs": [],
   "source": []
  },
  {
   "cell_type": "markdown",
   "metadata": {},
   "source": [
    "Aqui está um resumo das operações com strings que consideramos até agora:\n",
    "\n",
    "| Operação       | Significado                |\n",
    "| :--------------| :-------------------------|\n",
    "| `+`             | concatenação              |\n",
    "| `*`             | repetição                 |\n",
    "| `<string>[]`    | indexação (acesso)        |\n",
    "| `<string>[:]`   | fatiamento               |\n",
    "| `len(<string>)` | comprimento              |\n",
    "\n",
    "## $ \\S 3 $ Comparando strings\n",
    "\n",
    "Todos os operadores de comparação introduzidos no notebook anterior funcionam para strings também. As strings são ordenadas de acordo com a __ordem lexicográfica__ (ou __ordem de dicionário__). Portanto:\n",
    "\n",
    "* Os operadores `==` e `!=` indicam se duas strings têm o mesmo valor ou não, isto é, se elas consistem exatamente dos mesmos caracteres na mesma ordem (isso inclui distinguir letras maiúsculas de minúsculas).\n",
    "* Quando aplicado a duas strings $a$ e $b$, `a < b` retorna `True` se e somente se $a$ vem antes de $b$ na ordem do dicionário. De forma similar para `<=`, `>` e `>=`.\n",
    "\n",
    "__Exercício:__ Sejam $a,\\,b,\\,q,\\,r$ como definidos na célula de código abaixo. Determine o valor de:\n",
    "\n",
    "(a) `a != b`\n",
    "\n",
    "(b) `a < b`\n",
    "\n",
    "(c) `b < q`\n",
    "\n",
    "(d) `q >= r`\n",
    "\n",
    "(e) `b < a < q < r`"
   ]
  },
  {
   "cell_type": "code",
   "execution_count": null,
   "metadata": {},
   "outputs": [],
   "source": [
    "a = \"potion\"\n",
    "b = \"portion\"\n",
    "q = \"quarterstaff\"  \n",
    "r = \"robe\""
   ]
  },
  {
   "cell_type": "markdown",
   "metadata": {},
   "source": [
    "## $ \\S 4 $ Alguns métodos úteis de string\n",
    "\n",
    "Um __método__ é uma função que está associada a todo objeto de uma determinada classe. Um método pode acessar e modificar diretamente o estado de um objeto sem que os dados correspondentes precisem ser passados explicitamente como argumento, como no caso das funções. No entanto, métodos também podem retornar valores para quem os chamou (não simplesmente modificar o objeto associado). Métodos são chamados usando a notação `<objeto>.<método>`.\n",
    "\n",
    "Como exemplo, suponha que precisamos projetar uma classe Python para representar contas bancárias. Alguns candidatos naturais para métodos (com nomes autodescritivos) que poderiam ser associados a instâncias desta classe são:\n",
    "\n",
    "* `depositar`\n",
    "* `sacar`\n",
    "* `transferir`\n",
    "* `conferir_extrato`\n",
    "* `imprimir_extrato`\n",
    "\n",
    "Sempre que instanciamos um membro desta classe (isto é, criamos uma nova conta),\n",
    "digamos `acc1`, ela automaticamente herdará todos os métodos associados àquela\n",
    "classe. A instrução `acc1.depositar(10)` modificaria algum atributo interno desta\n",
    "conta específica refletindo seu saldo para que $10$ seja adicionado a ele.\n",
    "Claro, isso não tem efeito sobre o estado de qualquer outra instância da classe,\n",
    "digamos `acc2`. Em contraste, a chamada `acc1.transferir(5, acc2)` modificaria os\n",
    "estados de ambas as contas (adicionando $5$ ao saldo da segunda enquanto subtrai\n",
    "$5$ do saldo da primeira) e também poderia retornar algum valor como uma string\n",
    "indicando sucesso ou falha da operação ou a data e hora.\n",
    "\n",
    "Como texto é uma das formas mais comuns de dados, ser capaz de manipulá-lo e processá-lo efetivamente é essencial para muitas aplicações. Python fornece vários métodos incorporados para o tipo string. Mencionamos alguns dos mais importantes muito brevemente para que o leitor possa ter uma ideia aproximada do que é possível (não tente memorizar seus nomes!).\n",
    "\n",
    "Para obter uma lista completa dos métodos e atributos associados a um determinado objeto $x$ (como uma string), você pode executar `dir(x)` (note que a saída pode ser truncada se for muito longa). Para mais detalhes e explicações sobre métodos de string especificamente, por favor consulte a [documentação](https://docs.python.org/3/library/stdtypes.html#string-methods) oficial.\n",
    "\n",
    "__Exemplos de métodos de string:__"
   ]
  },
  {
   "cell_type": "code",
   "execution_count": null,
   "metadata": {},
   "outputs": [],
   "source": [
    "# Criar uma string:\n",
    "s = \"Shall I compare thee to a summer's day? Thou art more lovely and more temperate.\"\n",
    "print(s)"
   ]
  },
  {
   "cell_type": "code",
   "execution_count": null,
   "metadata": {},
   "outputs": [],
   "source": [
    "# replace -- Substitui ocorrências de uma substring por outra substring:\n",
    "s_quite = s.replace(\"more\", \"quite\")\n",
    "print(s_quite)"
   ]
  },
  {
   "cell_type": "code",
   "execution_count": null,
   "metadata": {},
   "outputs": [],
   "source": [
    "# find -- Retorna o índice da primeira ocorrência de uma substring:\n",
    "index = s.find(\"I\")\n",
    "print(index)"
   ]
  },
  {
   "cell_type": "code",
   "execution_count": null,
   "metadata": {},
   "outputs": [],
   "source": [
    "# count -- Conta as ocorrências de uma substring:\n",
    "c = s.count(\"more\")\n",
    "print(c)"
   ]
  },
  {
   "cell_type": "code",
   "execution_count": null,
   "metadata": {},
   "outputs": [],
   "source": [
    "# strip, lstrip e rstrip -- Remove caracteres/espaços em branco iniciais ou finais:\n",
    "s_with_spaces = \"\\t\\n   \" + s + \"   \"\n",
    "\n",
    "# lstrip remove os caracteres especificados do início da string.\n",
    "# Por padrão, remove todos os caracteres de espaço em branco (incluindo '\\n' e '\\t'):\n",
    "s_lstripped = s_with_spaces.lstrip()     \n",
    "print(s_lstripped)\n",
    "\n",
    "# 'rstrip' remove os caracteres especificados do final da string:\n",
    "s_rstripped = s.rstrip('et.')\n",
    "print(s_rstripped)"
   ]
  },
  {
   "cell_type": "code",
   "execution_count": null,
   "metadata": {},
   "outputs": [],
   "source": [
    "# split -- Divide a string em uma lista usando um delimitador (padrão = espaço):\n",
    "words = s.split()\n",
    "print(words)"
   ]
  },
  {
   "cell_type": "code",
   "execution_count": null,
   "metadata": {},
   "outputs": [],
   "source": [
    "# join -- Une elementos de um iterável (ex.: lista) usando a string:\n",
    "separator = \" \"    # Esta é a string à qual join será aplicado.\n",
    "list_of_words = [\"Parallel\", \"lines\", \"have\", \"so\", \"much\", \"in\", \"common.\"]\n",
    "\n",
    "sentence = separator.join(list_of_words)\n",
    "print(sentence)"
   ]
  },
  {
   "cell_type": "markdown",
   "metadata": {},
   "source": [
    "__Exercício:__ Dada a string `gentle` abaixo, estude os efeitos dos seguintes métodos de string sobre ela:\n",
    "\n",
    "(a) `capitalize`\n",
    "\n",
    "(b) `title`\n",
    "\n",
    "(c) `upper`\n",
    "\n",
    "(d) `title`\n",
    "\n",
    "(e) `centered(<width>)`"
   ]
  },
  {
   "cell_type": "code",
   "execution_count": null,
   "metadata": {},
   "outputs": [],
   "source": [
    "gentle = \"dO NoT gO geNTLe iNtO thAt gOOd nIGHt.\""
   ]
  }
 ],
 "metadata": {
  "language_info": {
   "name": "python"
  }
 },
 "nbformat": 4,
 "nbformat_minor": 2
}
