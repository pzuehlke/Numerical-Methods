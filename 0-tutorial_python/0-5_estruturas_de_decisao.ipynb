{
 "cells": [
  {
   "cell_type": "markdown",
   "metadata": {},
   "source": [
    "# Estruturas de decisão (`if-elif-else` e `match`)\n",
    "\n",
    "## $ \\S 1 $ Imprimindo mensagens e recebendo entrada\n",
    "\n",
    "### $ 1.1 $ A função `input`\n",
    "\n",
    "Muitos programas requerem algum tipo de entrada de texto do usuário durante sua execução. Para este propósito, Python fornece a função `input`.\n",
    "\n",
    "__Exemplo:__"
   ]
  },
  {
   "cell_type": "code",
   "execution_count": null,
   "metadata": {},
   "outputs": [],
   "source": [
    "age_str = input(\"Digite sua idade:\\n\")  # '\\n' é o caractere de nova linha.\n",
    "print(age_str, type(age_str))                \n",
    "# A saída da função 'input' é sempre do tipo 'str'."
   ]
  },
  {
   "cell_type": "markdown",
   "metadata": {},
   "source": [
    "Mais formalmente, `input` opera da seguinte forma:\n",
    "* Recebe um único argumento do tipo `str`, que é exibido na tela como uma _mensagem_ para o usuário (se nenhum argumento for fornecido, a mensagem é considerada como uma string vazia);\n",
    "* A execução é interrompida para que o usuário digite sua entrada;\n",
    "* Quando `Return` (também conhecido como `Enter`) é pressionado, os caracteres digitados pelo usuário são unidos para formar uma string que é retornada como saída (após remover o caractere de nova linha final). Em particular, esta string pode ser atribuída a uma variável e manipulada posteriormente.\n",
    "\n",
    "__Exercício:__ Escreva um script que peça o nome de uma pessoa e o imprima de trás para frente."
   ]
  },
  {
   "cell_type": "code",
   "execution_count": null,
   "metadata": {},
   "outputs": [],
   "source": []
  },
  {
   "cell_type": "markdown",
   "metadata": {},
   "source": [
    "### $ 1.2 $ f-strings\n",
    "\n",
    "<div class=\"alert alert-info\">Para inserir o <i>valor</i> de uma variável ou de uma expressão dentro de uma string, podemos adicionar um <code>f</code> (ou <code>F</code>), de <i>'format'</i>, antes das aspas de abertura e envolver o nome da variável ou expressão em chaves <code>{}</code>. Uma string deste tipo é chamada de <b>f-string</b>.</div>\n",
    "\n",
    "__Exemplo:__"
   ]
  },
  {
   "cell_type": "code",
   "execution_count": null,
   "metadata": {},
   "outputs": [],
   "source": [
    "age_str = input(\"Digite sua idade:\\n\")\n",
    "\n",
    "print(f\"Você tem {age_str} anos.\")\n",
    "\n",
    "age = int(age_str)    # Convertendo a entrada para um inteiro.\n",
    "\n",
    "print(f\"Você já viveu pelo menos ... {(365 * age) // 7} semanas até agora!\")"
   ]
  },
  {
   "cell_type": "markdown",
   "metadata": {},
   "source": [
    "__Exercício:__ Continuando o exemplo anterior, escreva um script que pergunte a idade de uma pessoa e imprima uma mensagem informando quantas horas ela já viveu até agora."
   ]
  },
  {
   "cell_type": "code",
   "execution_count": null,
   "metadata": {},
   "outputs": [],
   "source": []
  },
  {
   "cell_type": "markdown",
   "metadata": {},
   "source": [
    "### $ 1.3 $ Caracteres de escape comuns\n",
    "\n",
    "Em uma string, a barra invertida `\\` tem o papel de um caractere especial chamado **caractere de escape**. Ele pode ser usado, por exemplo, para representar caracteres de espaço em branco — tabulação `\\t`, backspace `\\b`, nova linha `\\n` — ou para transformar outro caractere especial em um caractere comum — como aspas simples `\\'`, aspas duplas `\\\"` ou a própria barra invertida `\\\\`. Estes casos estão tabulados abaixo. Note, entretanto, que existem outras combinações de escape além destas, as quais não consideraremos.\n",
    "\n",
    "| Código |  Resultado  |\n",
    "| :----- | :------- |\n",
    "| `\\'`   | aspas simples (')  |\n",
    "| `\\\"`   | aspas duplas (\\\") |\n",
    "| `\\\\`   | barra invertida (\\\\)    |\n",
    "| `\\t`   | tabulação          |\n",
    "| `\\b`   | backspace         |\n",
    "| `\\n`   | nova linha        |\n",
    "\n",
    "⚠️ Dependendo do seu ambiente, o caractere backspace `\\b` pode apenas mover o cursor uma posição para trás, mas não deletar nada. Se isso acontecer, então para deletar o caractere anterior e mover o cursor uma posição para a esquerda, deve-se usar `\\b \\b` (dois backspaces com um espaço entre eles). Isso moverá o cursor para a esquerda, sobrescreverá o caractere anterior com um espaço e moverá o cursor de volta mais uma vez.\n",
    "\n",
    "__Exercício:__ Qual string é exibida na tela após cada uma das seguintes strings serem impressas (usando `print`)?\n",
    "\n",
    "(a) `'it\\'s\\ta'`\n",
    "\n",
    "(b) `\"powerfuls\\b!\"`\n",
    "\n",
    "(c) `\"trolley\\b\\b  \"`  \n",
    "\n",
    "(d) `\"this\\nis\\ta\\ntest\"`\n",
    "\n",
    "(e) `'\\\\'3.14\\\\''`"
   ]
  },
  {
   "cell_type": "code",
   "execution_count": null,
   "metadata": {},
   "outputs": [],
   "source": []
  },
  {
   "cell_type": "markdown",
   "metadata": {},
   "source": [
    "## $ \\S 2 $ Estruturas de decisão\n",
    "\n",
    "### $ 2.1 $ A construção `if`\n",
    "\n",
    "Talvez a ferramenta mais importante das linguagens de programação de alto nível seja a __execução condicional__ de código, também conhecida como __ramificação__. Ela permite instruir o computador a examinar uma expressão booleana e tomar uma ação correspondente dependendo se esta expressão avalia para `True` ou `False`.\n",
    "\n",
    "__Exemplo (construção `if` simples):__"
   ]
  },
  {
   "cell_type": "code",
   "execution_count": null,
   "metadata": {},
   "outputs": [],
   "source": [
    "age = int(input(\"Me diga sua idade: \"))\n",
    "\n",
    "if age >= 18:\n",
    "    print(\"Parabéns!\")\n",
    "    print(f\"Como você tem {age} anos, você pode dirigir.\")\n",
    "\n",
    "print(\"O resto do programa continua aqui.\")"
   ]
  },
  {
   "cell_type": "markdown",
   "metadata": {},
   "source": [
    "No centro de toda construção `if` está um __teste condicional__, que deve ser uma _expressão booleana_, isto é, deve avaliar para `True` ou `False`. No exemplo anterior, esta expressão é `age >= 18`.\n",
    "* Se o teste condicional resulta em `True`, então o __bloco-if__ definido pelo próximo nível de indentação relativo à declaração if é executado.\n",
    "* Caso contrário, o bloco-if é ignorado e a execução continua imediatamente após seu término.\n",
    "\n",
    "__Exercício:__ Escreva um script que solicite ao usuário um número e retorne seu valor absoluto. _Dica:_ Use duas construções `if` separadas."
   ]
  },
  {
   "cell_type": "code",
   "execution_count": null,
   "metadata": {},
   "outputs": [],
   "source": []
  },
  {
   "cell_type": "markdown",
   "metadata": {},
   "source": [
    "__Exercício:__ Escreva um script que solicite ao usuário uma palavra $ w $ e imprima a mensagem \"A palavra <palavra> começa com uma vogal\" caso a letra inicial de $ w $ seja uma vogal. _Dica:_ Existem pelo menos três opções:\n",
    "\n",
    "1. Verificar se a letra coincide com uma das vogais, como em: `if w[0] == 'A' or w[0] == 'a' or w[0] == 'E' or` ... . \n",
    "\n",
    "2. Verificar a presença em uma lista (ou tupla) de vogais, como em: `if w[0] in ['A', 'a', 'E', 'e', 'I', 'i', 'O', 'o', 'U', 'u']:`\n",
    "\n",
    "2. Verificar a presença da letra em uma string que inclui todas as vogais, mas nenhum outro caractere, como em: `if w[0] in \"AEIOUaeiou:\"`\n",
    "\n",
    "Note que Python é sensível a maiúsculas e minúsculas!"
   ]
  },
  {
   "cell_type": "code",
   "execution_count": null,
   "metadata": {},
   "outputs": [],
   "source": []
  },
  {
   "cell_type": "markdown",
   "metadata": {},
   "source": [
    "<div class=\"alert alert-warning\">Em Python, o corpo de um bloco ou declaração é delimitado por sua <b>indentação</b>. Assim, em contraste com algumas linguagens de programação, <i>espaços são uma parte integral da sintaxe</i>. Embora qualquer número de espaços possa ser usado para indentação, as escolhas mais comuns são <i>dois</i> ou <i>quatro</i> espaços. Indentação inconsistente pode levar a um <code>IndentationError</code>.</div>\n",
    "\n",
    "**Exemplo (indentação inconsistente):**"
   ]
  },
  {
   "cell_type": "code",
   "execution_count": null,
   "metadata": {},
   "outputs": [],
   "source": [
    "a = 2\n",
    "b = 3\n",
    "c = 4\n",
    "\n",
    "if (a - b) - c != a - (b - c):\n",
    "    print(\"A subtração não é associativa!\")\n",
    "  print(\"Indentação inconsistente gera um erro de indentação.\") "
   ]
  },
  {
   "cell_type": "markdown",
   "metadata": {},
   "source": [
    "Note o uso dos dois pontos `:` após o teste condicional.\n",
    "\n",
    "<div class=\"alert alert-warning\">Os dois pontos <code>:</code> devem ser usados sempre que for necessário <i>declarar o início de um bloco indentado</i>, como após declarações <code>if</code>, <code>else</code>, <code>for</code> ou <code>while</code>.</div>\n",
    "\n",
    "Este uso do símbolo `:` não tem nada a ver com o operador de fatiamento discutido no notebook anterior.\n",
    "\n",
    "Declarações if __aninhadas__ são permitidas (e comuns), isto é, pode-se ter um bloco-if dentro de um bloco-if dentro de outro bloco-if e assim por diante.\n",
    "\n",
    "__Exercício:__ Escreva um script que solicite ao usuário dois números reais $ x $ e $ y $ e retorne seu produto apenas quando ambos $ x $ e $ y $ são positivos. Faça isso das seguintes duas maneiras diferentes:\n",
    "\n",
    "(a) Usando um único teste condicional envolvendo `and`.\n",
    "\n",
    "(b) Usando dois blocos-if aninhados."
   ]
  },
  {
   "cell_type": "code",
   "execution_count": null,
   "metadata": {},
   "outputs": [],
   "source": []
  },
  {
   "cell_type": "markdown",
   "metadata": {},
   "source": [
    "### $ 2.2 $ Construções `if`-`else`\n",
    "\n",
    "Para executar uma ação alternativa caso um teste condicional falhe, pode-se incluir um __bloco-else__ após o bloco-if.\n",
    "\n",
    "__Exemplo (construção `if`-`else`):__"
   ]
  },
  {
   "cell_type": "code",
   "execution_count": null,
   "metadata": {},
   "outputs": [],
   "source": [
    "nome = input(\"Por favor digite seu nome: \")\n",
    "\n",
    "if len(nome) % 2 == 0:    # O número de letras é par\n",
    "    print(f\"Olá {nome}, seu nome tem um número par de letras.\")              \n",
    "else:                     # O número de letras é ímpar\n",
    "    print(f\"Olá {nome}, seu nome tem um número ímpar de letras.\")              "
   ]
  },
  {
   "cell_type": "markdown",
   "metadata": {},
   "source": [
    "Mais formalmente, em uma construção `if-else` temos novamente um teste condicional que controla o comportamento subsequente do interpretador:\n",
    "* Se o teste condicional resulta em `True`, então o bloco-if definido pelo próximo nível de indentação relativo à declaração if é executado, e o bloco-else correspondente é ignorado.\n",
    "* Caso contrário, o bloco-if é ignorado e apenas o bloco-else é executado.\n",
    "\n",
    "Não é necessário incluir uma declaração else para cada declaração if."
   ]
  },
  {
   "cell_type": "markdown",
   "metadata": {},
   "source": [
    "__Exercício (jogo de apostas):__ A função `randint` com argumentos $ 0 $ e $ 2 $ dada na célula de código abaixo escolhe um dos dois números $ 0 $ e $ 1 $ de maneira (pseudo-)aleatória. Usando esta função, escreva um programa que solicite ao usuário que digite $ 0 $ ou $ 1 $ e exiba uma mensagem de vitória/derrota de acordo com se o palpite coincide com a escolha do computador."
   ]
  },
  {
   "cell_type": "code",
   "execution_count": null,
   "metadata": {},
   "outputs": [],
   "source": [
    "from numpy.random import randint\n",
    "randint(0, 2)"
   ]
  },
  {
   "cell_type": "markdown",
   "metadata": {},
   "source": [
    "### $ 2.3 $ Construções `if`-`elif`\n",
    "\n",
    "Finalmente, podemos ramificar nosso código em mais de duas direções baseado em algumas condições prescritas usando uma __construção__ __`if`-`elif`__.\n",
    "\n",
    "📝 \"__elif__\" é uma abreviação de \"else if\".\n",
    "\n",
    "__Exemplo (construções `if`-`elif`):__ Em um _ano bissexto_ Fevereiro tem $ 29 $ dias; em um ano não bissexto, tem $ 28 $ dias. Para determinar se um ano $ n $ no calendário Gregoriano (o calendário usual em países ocidentais) é bissexto, usamos o seguinte conjunto de regras:\n",
    "* Se $ n $ é divisível por $ 4 $, então é um ano bissexto.\n",
    "* Entretanto, quando $ n $ também é divisível por $ 100 $, não é um ano bissexto.\n",
    "* Apesar da regra anterior, sempre que $ n $ é divisível por $ 400 $, _é_ um ano bissexto.\n",
    "\n",
    "Codificamos isto como um script que pede ao usuário um ano como entrada e decide se é bissexto usando `if`, `elif` e `else`:"
   ]
  },
  {
   "cell_type": "code",
   "execution_count": null,
   "metadata": {},
   "outputs": [],
   "source": [
    "n = int(input(\"Digite um ano e verificarei se é bissexto: \"))\n",
    "\n",
    "if n % 400 == 0:\n",
    "    print(f\"O ano {n} é bissexto.\")\n",
    "elif n % 100 == 0:\n",
    "    print(f\"O ano {n} não é bissexto.\")\n",
    "elif n % 4 == 0:\n",
    "    print(f\"O ano {n} é bissexto.\")\n",
    "else:\n",
    "    print(f\"O ano {n} não é bissexto.\")"
   ]
  },
  {
   "cell_type": "markdown",
   "metadata": {},
   "source": [
    "__Exercício:__ Decida se os seguintes são anos bissextos, depois verifique sua resposta usando o script anterior.\n",
    "\n",
    "(a) $ 2026 $;\n",
    "\n",
    "(b) $ 2024 $;\n",
    "\n",
    "(c) $ 2000 $;\n",
    "\n",
    "(d) $ 2100 $."
   ]
  },
  {
   "cell_type": "code",
   "execution_count": null,
   "metadata": {},
   "outputs": [],
   "source": []
  },
  {
   "cell_type": "markdown",
   "metadata": {},
   "source": [
    "<div class=\"alert alert-warning\">Em uma construção <b>if-elif</b>, o interpretador verifica cada declaração condicional em ordem. Assim que uma delas avalia para <code>True</code>, o bloco de código correspondente é executado <i>e os testes/blocos restantes são ignorados</i>. Isto é importante porque pode haver mais de uma expressão condicional que seja <code>True</code>. Se isto ocorrer, então apenas o bloco correspondente à primeira dessas expressões será executado.</div>\n",
    "\n",
    "__Exercício:__\n",
    "\n",
    "(a) O que aconteceria no script do ano bissexto se substituíssemos cada `elif` por um `if`? \n",
    "\n",
    "(b) Modifique o programa para que ele imprima uma mensagem diferente dependendo se o ano fornecido pelo usuário precede ou vem após o ano atual. Por exemplo, se `n = 2020`, a mensagem deveria ser que _foi_ um ano bissexto."
   ]
  },
  {
   "cell_type": "code",
   "execution_count": null,
   "metadata": {},
   "outputs": [],
   "source": []
  },
  {
   "cell_type": "markdown",
   "metadata": {},
   "source": [
    "__Exercício:__ Escreva um script que peça os comprimentos dos lados de um triângulo e exiba uma mensagem de acordo com se o triângulo é equilátero, isósceles ou escaleno (apenas uma mensagem deve ser exibida em qualquer caso)."
   ]
  },
  {
   "cell_type": "code",
   "execution_count": null,
   "metadata": {},
   "outputs": [],
   "source": []
  },
  {
   "cell_type": "markdown",
   "metadata": {},
   "source": [
    "Uma construção `if-elif` pode conter quantas declarações elif se desejar. Além disso, assim como para uma única declaração if em uma construção `if-elif`, o bloco-else final é opcional.\n",
    "\n",
    "### $ 2.4 $ Verificando se um objeto é um elemento de outro usando `in`\n",
    "\n",
    "Um teste condicional não precisa ser baseado em uma comparação. Também podemos verificar se algum objeto é um elemento de outro objeto sequencial (como `str`, `list` ou `tuple`) usando a palavra-chave `in`.\n",
    "\n",
    "\n",
    "__Exemplo (verificando pertinência em uma lista):__"
   ]
  },
  {
   "cell_type": "code",
   "execution_count": null,
   "metadata": {},
   "outputs": [],
   "source": [
    "# Verificando se algo (neste caso uma string) é um elemento de uma lista:\n",
    "clientes = [\"Alice\",\n",
    "           \"Bob\",\n",
    "           \"Charlotte\",\n",
    "           \"Donald\",\n",
    "           \"Edward\",\n",
    "           \"Frodo\"]\n",
    "\n",
    "nome = \"Gandalf\"\n",
    "if nome in clientes:\n",
    "    print(f\"{nome} é atualmente um de nossos clientes.\")\n",
    "else:\n",
    "    print(f\"{nome} não é um de nossos clientes.\")"
   ]
  },
  {
   "cell_type": "markdown",
   "metadata": {},
   "source": [
    "__Exercício (verificando pertinência em uma tupla):__ Dada a amostra de idades armazenada em uma tupla na célula de código abaixo, use `in` para escrever um script que verifica se há uma pessoa com idade $ 50 $ na amostra e exibe uma mensagem correspondente."
   ]
  },
  {
   "cell_type": "code",
   "execution_count": null,
   "metadata": {},
   "outputs": [],
   "source": [
    "idades = (28, 34, 32, 40, 23, 45, 18, 25, 67, 30,\n",
    "        31, 22, 35, 45, 29, 50, 62, 38, 33, 47,\n",
    "        26, 54, 19, 27, 5, 65, 73, 39, 44, 55,\n",
    "        20, 36, 40, 60, 58, 29, 51, 42, 17, 24,\n",
    "        61, 37, 52, 48, 32, 25, 41, 63, 71, 22,\n",
    "        46, 56, 30, 49, 53, 26, 43, 59, 102, 8)"
   ]
  },
  {
   "cell_type": "markdown",
   "metadata": {},
   "source": [
    "__Exemplo (verificando substrings):__"
   ]
  },
  {
   "cell_type": "code",
   "execution_count": null,
   "metadata": {},
   "outputs": [],
   "source": [
    "# Verificando se uma string (incl. um caractere) é uma substring de outra:\n",
    "texto = \"poderosos feitiços mágicos antigos\"\n",
    "\n",
    "if \"b\" in texto:\n",
    "    print(f\"O texto \\\"{texto}\\\" contém a letra 'b'.\")\n",
    "else:\n",
    "    print(f\"O texto \\\"{texto}\\\" não contém a letra 'b'.\")\n",
    "    \n",
    "if \"mágicos\" in texto:\n",
    "    print(f\"O texto \\\"{texto}\\\" contém a substring 'mágicos'.\")\n",
    "else:\n",
    "    print(f\"O texto \\\"{texto}\\\" não contém a substring 'mágicos'.\")"
   ]
  },
  {
   "cell_type": "markdown",
   "metadata": {},
   "source": [
    "## $ \\S 3 $ A função `range`\n",
    "\n",
    "Suponha que gostaríamos de construir a sequência de todos os inteiros de $ 0 $ até $ 20 $. Ao invés de digitá-los um por um, podemos usar a função `range`, que tem a sintaxe `range(<início>, <fim>, <tamanho do passo>)`.\n",
    "\n",
    "⚠️ Todos os três argumentos de `range` devem ser inteiros. Além disso, o índice inicial é _inclusivo_, enquanto o índice final é _exclusivo_, ou seja, _o intervalo vai até mas não inclui o índice final_. \n",
    "\n",
    "Se o terceiro argumento for omitido, então o tamanho do passo (também chamado de _incremento_) é definido como $ 1 $ por padrão. Assim, no nosso caso, para gerar os inteiros de $ 0 $ até $ 20 $ (incluindo $ 20 $), faríamos:"
   ]
  },
  {
   "cell_type": "code",
   "execution_count": null,
   "metadata": {},
   "outputs": [],
   "source": [
    "numeros = range(0, 21)         # Gera inteiros n satisfazendo 0 <= n < 21.\n",
    "print(numeros, type(numeros))"
   ]
  },
  {
   "cell_type": "markdown",
   "metadata": {},
   "source": [
    "Como podemos ver, `range` não gera uma lista nem uma tupla; em vez disso, produz um objeto do tipo `range`. No entanto, podemos facilmente convertê-lo para o tipo desejado usando `list` ou `tuple` depois:"
   ]
  },
  {
   "cell_type": "code",
   "execution_count": null,
   "metadata": {},
   "outputs": [],
   "source": [
    "numeros = list(numeros)\n",
    "print(numeros, type(numeros))\n",
    "\n",
    "numeros = tuple(numeros)\n",
    "print(numeros, type(numeros))"
   ]
  },
  {
   "cell_type": "markdown",
   "metadata": {},
   "source": [
    "__Exercício:__ Determine a saída das seguintes declarações:\n",
    "\n",
    "(a) `list(range(1, 10))`\n",
    "\n",
    "(b) `tuple(range(11))`\n",
    "\n",
    "(c) `list(range(0, 11, 2))`\n",
    "\n",
    "(d) `list(range(0, 10, 2))`\n",
    "\n",
    "(e) `tuple(range(0, 11, -1))`\n",
    "\n",
    "(f) `tuple(range(11, 0, -1))`\n",
    "\n",
    "(g) `list(range(10, -3, -2))`\n",
    "\n",
    "(h) `list(range(1.5, 10, 1))`"
   ]
  },
  {
   "cell_type": "code",
   "execution_count": null,
   "metadata": {},
   "outputs": [],
   "source": []
  },
  {
   "cell_type": "markdown",
   "metadata": {},
   "source": [
    "📝 Se apenas um argumento $ n $ for fornecido para `range`, então o objeto resultante consiste em todos os inteiros de $ 0 $ até e incluindo $ n - 1 $.\n",
    "\n",
    "__Exemplo:__"
   ]
  },
  {
   "cell_type": "code",
   "execution_count": null,
   "metadata": {},
   "outputs": [],
   "source": [
    "print(list(range(10)))"
   ]
  },
  {
   "cell_type": "markdown",
   "metadata": {},
   "source": [
    "__Exercício:__ Gere:\n",
    "\n",
    "(a) Uma tupla consistindo de todos os inteiros pares de $ 0 $ até $ 20 $.\n",
    "\n",
    "(b) Uma lista consistindo de todos os inteiros ímpares de $ 3 $ até $ 11 $.\n",
    "\n",
    "(c) Uma tupla consistindo de todos os inteiros entre $ 1 $ e $ 50 $ que são divisíveis por $ 7 $, listados em ordem decrescente."
   ]
  },
  {
   "cell_type": "code",
   "execution_count": null,
   "metadata": {},
   "outputs": [],
   "source": []
  },
  {
   "cell_type": "markdown",
   "metadata": {},
   "source": [
    "## $ \\S 4 $ `match`\n",
    "\n",
    "Uma forma alternativa de lidar com lógica de ramificação complexa, que é frequentemente mais conveniente do que usar múltiplos `if`s e `elif`s, é a declaração `match`. Várias outras linguagens fornecem construções similares (por exemplo, `switch` em C e Java). A sintaxe geral é esboçada no exemplo a seguir.\n",
    "\n",
    "__Exemplo__: Vamos usar `match` para simular recebendo o pedido de um cliente em um restaurante italiano."
   ]
  },
  {
   "cell_type": "code",
   "execution_count": null,
   "metadata": {},
   "outputs": [],
   "source": [
    "escolha = input(\"O que você gostaria de pedir: massa, pizza, salada ou sopa? \")\n",
    "match escolha:\n",
    "    case \"Massa\" | \"massa\":     # '|' (leia: 'ou') é usado para corresponder a um de vários padrões\n",
    "        print(\"Massa fresca com seu molho favorito. R$79,99\")\n",
    "    case \"Pizza\" | \"pizza\":\n",
    "        print(\"Pizza assada em forno de pedra com uma variedade de coberturas. R$64,99\")\n",
    "    case \"Salada\" | \"salada\":\n",
    "        print(\"Salada fresca do jardim com uma seleção de molhos. R$49,99\")\n",
    "    case \"Sopa\" | \"sopa\":\n",
    "        print(\"Uma tigela de nossa sopa caseira da estação. R$39,99\")\n",
    "    case _:                     # caso padrão: corresponde a qualquer padrão\n",
    "        print(\"Desculpe, não oferecemos este item. R$0,00\")"
   ]
  },
  {
   "cell_type": "markdown",
   "metadata": {},
   "source": [
    "__Exercício:__ Escreva um script que recebe um inteiro representando um dia da semana do usuário e imprime o nome correspondente para aquele dia, de acordo com as seguintes regras:\n",
    "\n",
    "* Se o número é 1, imprima `\"Segunda-feira\"`.\n",
    "* Se o número é 2, imprima `\"Terça-feira\"`.\n",
    "* Se o número é 3, imprima `\"Quarta-feira\"`.\n",
    "* Se o número é 4, imprima `\"Quinta-feira\"`.\n",
    "* Se o número é 5, imprima `\"Sexta-feira\"`.\n",
    "* Se o número é 6, imprima `\"Sábado\"`.\n",
    "* Se o número é 7, imprima `\"Domingo\"`.\n",
    "* Para qualquer outro caso, imprima `\"Dia Inválido\"`."
   ]
  },
  {
   "cell_type": "code",
   "execution_count": null,
   "metadata": {},
   "outputs": [],
   "source": []
  },
  {
   "cell_type": "code",
   "execution_count": null,
   "metadata": {},
   "outputs": [],
   "source": [
    "⚠️ Uma vez que um padrão é correspondido, apenas o bloco de código correspondente àquele padrão é executado, e então a execução da declaração match está completa. (Este comportamento é diferente daquele do `switch` do C, cuja execução continua para os padrões subsequentes.)\n",
    "\n",
    "## $ \\S 5 $ List comprehensions\n",
    "\n",
    "__Exemplo:__ Suponha que gostaríamos de gerar uma lista dos _quadrados_ de todos os inteiros entre $ 1 $ e $ 20 $ que são múltiplos de $ 2 $ ou múltiplos de $ 3 $ (ou ambos). Podemos resolver este problema da seguinte forma:"
   ]
  },
  {
   "cell_type": "code",
   "execution_count": null,
   "metadata": {},
   "outputs": [],
   "source": [
    "quadrados = [n**2 for n in range(21) if n % 2 == 0 or n % 3 == 0]\n",
    "print(quadrados, type(quadrados))"
   ]
  },
  {
   "cell_type": "markdown",
   "metadata": {},
   "source": [
    "Esta construção é chamada de __list comprehension__. É análoga à notação\n",
    "$$\n",
    "\\left\\{f(x) : x \\in S\\,,\\ \\  p(x) \\text{ vale}\\right\\}\n",
    "$$\n",
    "usada para descrever conjuntos em matemática. Por exemplo:\n",
    "$$\n",
    "\\text{cubos\\\\ ímpares} = \\{n^3 : 0 \\le n \\le 10,\\  \\text{$ n $ é ímpar}\\}\n",
    "$$\n",
    "descreve o conjunto dos cubos dos inteiros entre $ 0 $ e $ 10 $.\n",
    "Em Python construiríamos a lista correspondente da seguinte forma:\n"
   ]
  },
  {
   "cell_type": "code",
   "execution_count": null,
   "metadata": {},
   "outputs": [],
   "source": [
    "cubos_impares = [n**3 for n in range(0, 11) if n % 2 == 1]\n",
    "print(cubos_impares)"
   ]
  },
  {
   "cell_type": "markdown",
   "metadata": {},
   "source": [
    "Se desejado, isto poderia então ser convertido para um conjunto; mas note como neste caso a ordem em que os elementos são listados se torna arbitrária:"
   ]
  },
  {
   "cell_type": "code",
   "execution_count": null,
   "metadata": {},
   "outputs": [],
   "source": [
    "print(set(cubos_impares))"
   ]
  },
  {
   "cell_type": "markdown",
   "metadata": {},
   "source": [
    "A sintaxe completa de uma list comprehension é:\n",
    "`[f(x) for x in <iterável> if p(x)]`, onde $ f(x) $ é qualquer função de\n",
    "$ x $ e $ p(x) $ é algum __predicado__, isto é, uma função de $ x $ que avalia para `True` ou `False`. \n",
    "\n",
    "* Se apenas deixarmos $ f(x) = x $, então a list comprehension `[x for x in <iterável> if p(x)]` é o resultado de selecionar apenas aqueles elementos do iterável original que satisfazem o predicado $ p $. Esta operação é chamada __filter__.\n",
    "* O predicado é opcional; se for omitido, então a list comprehension correspondente `[f(x) for x in <iterável>]` é o resultado de aplicar a função $ f $ a cada elemento do iterável original. Esta operação é chamada __map__.\n",
    "\n",
    "📝 Muitas linguagens de programação suportam as operações map e filter de alguma forma."
   ]
  },
  {
   "cell_type": "markdown",
   "metadata": {},
   "source": [
    "__Exercício:__ Usando list comprehensions, gere uma lista consistindo de:\n",
    "\n",
    "(a) Todas as raízes quadradas dos inteiros ímpares entre $ 1 $ e $ 10 $.\n",
    "\n",
    "(b) Todas as strings na lista `[\"encaminhamento\", \"continental\", \"ferradura\", \"saber\", \"aterrorizar\", \"derreter\", \"lobo\", \"medalha\", \"cuba\", \"estômago\", \"mosaico\", \"manual\"]` cuja segunda letra vem depois de 'e' no alfabeto.\n",
    "\n",
    "(c) Todos os números entre $ 1 $ e $ 20 $ que são divisíveis por $ 3 $, expressos em notação binária (a função `bin` dá a representação binária de seu argumento, precedida por '0b'; use uma fatia para remover esta parte)."
   ]
  },
  {
   "cell_type": "code",
   "execution_count": null,
   "metadata": {},
   "outputs": [],
   "source": []
  },
  {
   "cell_type": "markdown",
   "metadata": {},
   "source": [
    "__Exercício:__ Escreva um script que peça ao usuário um inteiro positivo $ n $ e retorne `True` ou `False` de acordo com se $ n $ é primo ou não. (_Dica:_ Use uma list comprehension e o operador `%` para obter a lista dos divisores de $ n $, então decida se $ n $ é primo baseado no comprimento desta lista.)"
   ]
  },
  {
   "cell_type": "code",
   "execution_count": null,
   "metadata": {},
   "outputs": [],
   "source": []
  },
  {
   "cell_type": "markdown",
   "metadata": {},
   "source": [
    "📝 Também é possível usar list comprehensions iterando sobre dois ou mais iteráveis.\n",
    "\n",
    "__Exemplo:__ Gere uma lista de todos os pares de inteiros $ (m, n) $ tais que $ 1 \\le n \\le 6 $ e $ 1 \\le m < n $ e $ m $ divide $ n $."
   ]
  },
  {
   "cell_type": "code",
   "execution_count": null,
   "metadata": {},
   "outputs": [],
   "source": [
    "resposta = [(m, n) for n in range(1, 7) for m in range(1, n) if n % m == 0]\n",
    "print(resposta)"
   ]
  },
  {
   "cell_type": "markdown",
   "metadata": {},
   "source": [
    "__Exercício:__ Usando uma list comprehension, crie uma lista de todos os pares $ (x, y) $ tais que:\n",
    "* $ x $ e $ y $ são inteiros, $ 0 \\le x < 5 $ e $ 0 \\le y < x $.\n",
    "* $ x^y > y^x $."
   ]
  },
  {
   "cell_type": "code",
   "execution_count": null,
   "metadata": {},
   "outputs": [],
   "source": []
  }
 ],
 "metadata": {
  "kernelspec": {
   "display_name": "Python 3",
   "language": "python",
   "name": "python3"
  },
  "language_info": {
   "codemirror_mode": {
    "name": "ipython",
    "version": 3
   },
   "file_extension": ".py",
   "mimetype": "text/x-python",
   "name": "python",
   "nbconvert_exporter": "python",
   "pygments_lexer": "ipython3",
   "version": "3.12.3"
  }
 },
 "nbformat": 4,
 "nbformat_minor": 2
}
