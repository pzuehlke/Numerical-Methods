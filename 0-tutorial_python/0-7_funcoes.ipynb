{
 "cells": [
  {
   "cell_type": "markdown",
   "metadata": {},
   "source": [
    "# Funções e módulos\n",
    "\n",
    "## $ \\S 1 $ Funções/procedimentos\n",
    "\n",
    "### $ 1.1 $ O que é um procedimento/função?\n",
    "\n",
    "No contexto de linguagens de programação, um __procedimento__ é uma coleção de\n",
    "instruções a serem executadas pelo computador para realizar uma determinada tarefa,\n",
    "empacotadas como uma unidade. Procedimentos também são chamados de __funções__ ou\n",
    "__(sub)rotinas__.\n",
    "\n",
    "__Exemplos:__ Podemos implementar procedimentos para realizar as seguintes tarefas:\n",
    "* Receber um número real positivo (mais precisamente, um número de ponto flutuante) como\n",
    "  argumento e retornar uma aproximação de sua raiz quadrada.\n",
    "* Receber um número inteiro positivo como entrada e decidir se ele é primo.\n",
    "* Receber duas strings, representando o ID da conta bancária e a senha de uma pessoa,\n",
    "  e um float, representando um valor a ser sacado dessa conta,\n",
    "  e se a senha corresponder à associada ao cliente\n",
    "  conforme armazenado em um banco de dados, decrementar o saldo do cliente por esse valor.\n",
    "* Receber uma matriz quadrada e retornar sua inversa se existir ou gerar um erro\n",
    "  caso contrário.\n",
    "* Simular $ 1\\,000 $ lançamentos de dados e exibir os resultados na forma de um\n",
    "  histograma.\n",
    "* Receber uma lista de pontos no plano e plotar todos eles junto com a linha\n",
    "  que melhor os ajusta.\n",
    "\n",
    "O termo \"procedimento\" pode fornecer uma compreensão mais clara do conceito do que\n",
    "\"função\", que evoca comparações com as funções tradicionais encontradas\n",
    "em matemática (por exemplo, funções reais de uma variável real). No entanto, a noção de\n",
    "um procedimento é mais geral. A diferença vem do fato de que um\n",
    "procedimento em Python e na maioria das outras linguagens pode interagir com e modificar\n",
    "objetos fora de seu escopo. Procedimentos que exibem esse comportamento são ditos ter\n",
    "__efeitos colaterais__. Por exemplo, a representação matemática mais adequada\n",
    "de um procedimento que não recebe entrada e não retorna saída seria a\n",
    "(única) função do conjunto vazio para o conjunto vazio. Em contraste, em\n",
    "Python, existem *infinitos* procedimentos desse tipo, como aqueles que imprimem uma\n",
    "mensagem ou um número aleatório na tela, modificam o valor de uma variável global,\n",
    "entram em um loop infinito, recebem entrada do usuário, escrevem em um arquivo, geram um\n",
    "erro, e assim por diante. Cada um desses procedimentos altera o estado do programa, mesmo\n",
    "que não recebam entrada e não produzam saída. Também vale notar que\n",
    "enquanto funções matemáticas consistentemente produzem o mesmo resultado quando aplicadas aos\n",
    "mesmos argumentos, isso pode não ser verdade para um procedimento com efeitos colaterais.\n",
    "Lamentavelmente, apesar da potencial ambiguidade que o termo \"função\" pode\n",
    "causar neste contexto, seu uso é generalizado.\n",
    "\n",
    "📝 No paradigma de __programação funcional (PF)__, os programas são estruturados como uma\n",
    "série de definições de funções, com tarefas sendo realizadas através de sua\n",
    "composição. Como boa prática, cada função deve idealmente realizar uma única\n",
    "tarefa. Um princípio de design importante neste contexto é\n",
    "o uso de __barreiras de abstração__: deve-se poder usar uma função\n",
    "sem conhecer os detalhes de sua implementação. Ou seja, programas devem ser\n",
    "organizados de modo que a única informação relevante para usar uma determinada função seja\n",
    "sua entrada necessária e saída correspondente, em vez de _como_ esta saída é\n",
    "obtida. Em particular, funções que têm efeitos colaterais devem ser evitadas, ou\n",
    "pelo menos restritas às bordas do programa. A ausência de efeitos colaterais\n",
    "simplifica a tarefa de verificar se um programa opera conforme pretendido.\n",
    "\n",
    "### $ 1.2 $ Definindo uma função com `def`\n",
    "\n",
    "Para trabalhar com uma função própria, primeiro devemos __defini-la__ usando\n",
    "`def`. Aqui está um exemplo simples, uma função que recebe dois argumentos $ a $ e $ b $\n",
    "e retorna sua soma."
   ]
  },
  {
   "cell_type": "code",
   "execution_count": null,
   "metadata": {},
   "outputs": [],
   "source": [
    "# Usamos a palavra-chave `def` para dizer ao Python que queremos definir uma função.\n",
    "# Então fornecemos um nome para a função e para seus parâmetros (se houver), que\n",
    "# devem ser listados dentro de parênteses e separados por vírgulas:\n",
    "def adicionar(a, b):  \n",
    "    \"\"\"\n",
    "    Fornecemos informações sobre a função, como o tipo esperado\n",
    "    de seus parâmetros, como ela funciona, seu tempo de execução, etc.\n",
    "    dentro de uma chamada _docstring_ como este texto. Docstrings\n",
    "    são delimitadas por aspas triplas. Por exemplo:\n",
    "\n",
    "    Parâmetros:\n",
    "        * a (int): O primeiro número a ser somado.\n",
    "        * b (int): O segundo número a ser somado.\n",
    "\n",
    "    Retorno:\n",
    "        * resultado (int): A soma de a e b.\n",
    "    \"\"\"\n",
    "    # No bloco da função propriamente dito escrevemos uma ou mais instruções a serem\n",
    "    # executadas cada vez que a função é chamada:\n",
    "    resultado = a + b\n",
    "    return resultado\n",
    "\n",
    "\n",
    "# O fim da definição da função é indicado pelo retorno ao nível anterior\n",
    "# de indentação. Para chamar a função com argumentos específicos, usamos a\n",
    "# seguinte sintaxe:\n",
    "adicionar(2, 3)"
   ]
  },
  {
   "cell_type": "markdown",
   "metadata": {},
   "source": [
    "__Exemplo:__ Para calcular a raiz quadrada $ s $ de um número real $ x > 0 $ \n",
    "com precisão $ \\varepsilon $ usando o _método de Heron_:\n",
    "1. Comece com uma estimativa inicial $ s = 1 $.\n",
    "2. Atualize a estimativa atual para a média aritmética de $ s $ e $ \\frac{x}{s} $.\n",
    "Em símbolos,\n",
    "$$\n",
    "   s  \\leftarrow \\frac{1}{2}\\bigg(s + \\frac{x}{s}\\bigg)\\,.\n",
    "$$\n",
    "3. Se $ \\left\\vert\\frac{s^2 - x}{x}\\right\\vert \\le \\varepsilon\\,, $\n",
    "então retorne $ s $ como a aproximação; caso contrário, volte ao passo 2.\n",
    "\n",
    "Defina uma função `raiz_quadrada(x, eps)` que é a implementação em Python do método de Heron."
   ]
  },
  {
   "cell_type": "code",
   "execution_count": null,
   "metadata": {},
   "outputs": [],
   "source": [
    "def raiz_quadrada(x, eps):\n",
    "   \"\"\"\n",
    "   Calcula uma aproximação da raiz quadrada de um número positivo 'x' dentro de\n",
    "   uma precisão 'eps', usando o método de Heron.\n",
    "       1. Denote a raiz quadrada por s;\n",
    "       2. Tome qualquer palpite inicial positivo para seu valor, digamos s = 1;\n",
    "       3. Deixe o novo valor de s ser a média de s e x / s;\n",
    "       4. Itere no passo 3 até que o erro seja no máximo eps.\n",
    "   \"\"\"\n",
    "   s = 1\n",
    "   while abs((s**2 - x) / x) > eps:      # Enquanto o erro é grande:\n",
    "       s = (s + (x / s)) / 2 \n",
    "       \n",
    "   return s"
   ]
  },
  {
   "cell_type": "code",
   "execution_count": null,
   "metadata": {},
   "outputs": [],
   "source": [
    "# Testando nossa função:\n",
    "eps = 1e-5       # eps é 10 elevado a -5.\n",
    "# Chame raiz_quadrada com argumentos 2 e eps:\n",
    "print(raiz_quadrada(2, eps))      \n",
    "# Chame raiz_quadrada com argumentos 16 e eps:\n",
    "print(raiz_quadrada(16, eps))         \n",
    "# Chame raiz_quadrada com argumentos 1/100 e eps ao quadrado:\n",
    "print(raiz_quadrada(16, eps**2))      "
   ]
  },
  {
   "cell_type": "markdown",
   "metadata": {},
   "source": [
    "__Exercício:__ Crie uma função conforme especificado em cada item abaixo. Antes de\n",
    "realmente escrever a definição, pense sobre quantos parâmetros existem, quais são seus\n",
    "tipos, e qual deve ser o tipo da saída.\n",
    "\n",
    "(a) Uma função `saudacao` que recebe um nome como argumento e imprime uma mensagem\n",
    "de saudação, como \"Meu nome é Forrest Gump, as pessoas me chamam de Forrest Gump\".\n",
    "_Dica:_ Para imprimir o nome dentro da mensagem de saudação, use uma f-string.\n",
    "\n",
    "(b) Uma função `area_circulo` que recebe o raio de um círculo como argumento\n",
    "e retorna sua área.\n",
    "\n",
    "(c) Uma função `eh_impar` que recebe um inteiro e retorna `True` ou `False`\n",
    "de acordo com se o número é ou não é ímpar, respectivamente.\n",
    "\n",
    "(d) Uma função `inverter_str` que recebe uma string e retorna a mesma string em\n",
    "ordem inversa. _Dica:_ Use `s[::-1]` ou `reversed(s)` para produzir\n",
    "a string invertida.\n",
    "\n",
    "(e) Uma função `media` que recebe uma lista de números reais e retorna sua\n",
    "média (média aritmética).\n",
    "\n",
    "(f) Uma função `lancar_dados` que não recebe argumentos e retorna um inteiro\n",
    "entre $ 3 $ e $ 18 $ que é o resultado de lançar três dados de\n",
    "seis faces. _Dica:_ Inclua a declaração\n",
    "`from numpy.random import randint` e use `randint(1, 7)` para simular\n",
    "um único dado sendo lançado."
   ]
  },
  {
   "cell_type": "code",
   "execution_count": null,
   "metadata": {},
   "outputs": [],
   "source": []
  },
  {
   "cell_type": "markdown",
   "metadata": {},
   "source": [
    "Aqui está uma descrição mais detalhada do template geral de definições\n",
    "de funções:"
   ]
  },
  {
   "cell_type": "code",
   "execution_count": null,
   "metadata": {},
   "outputs": [],
   "source": [
    "def <nome_funcao>(<parametros>):\n",
    "   \"\"\"<docstring>\"\"\" # Documentação opcional descrevendo a função\n",
    "   # Bloco da função: uma ou mais \n",
    "   # instruções a serem executadas\n",
    "   # cada vez que a função é chamada.\n",
    "   return <saida>\n",
    "\n",
    "\n",
    "# Código fora da definição da função.\n",
    "# Note que a indentação aqui é a mesma\n",
    "# que a da primeira linha da célula."
   ]
  },
  {
   "cell_type": "markdown",
   "metadata": {},
   "source": [
    "* Na primeira linha da definição, chamada de __assinatura__ da\n",
    " função, introduzimos o nome a ser dado à função (por exemplo,\n",
    " `adicionar`) e nomes para seus __parâmetros__, isto é, as variáveis (como\n",
    " `a` e `b`) que armazenarão os valores, chamados __argumentos__, a serem\n",
    " passados por um usuário da função em qualquer chamada específica. Os parâmetros são\n",
    " delimitados por parênteses e separados por vírgulas.\n",
    "* A assinatura deve ser terminada por um *dois-pontos* `:` para indicar o início\n",
    " do bloco contendo a definição. Este bloco é delimitado por um nível adicional\n",
    " de indentação.\n",
    "* Imediatamente abaixo da primeira linha, delimitada por __aspas triplas__ `\"\"\"`,\n",
    " fornecemos uma descrição concisa da função, chamada sua __docstring__. Esta\n",
    " descrição é opcional, mas altamente recomendada. Ela pode incluir informações\n",
    " como:\n",
    "   * Os tipos das entradas e saídas;\n",
    "   * A tarefa que a função realiza;\n",
    "   * Detalhes sobre sua implementação, como uma estimativa da quantidade\n",
    "     de recursos (tempo ou memória) necessários em função dos\n",
    "     parâmetros;\n",
    "   * Qualquer outra informação que possa ser útil para alguém que precise usar a\n",
    "     função.\n",
    "* Para __chamar__ (isto é, aplicar) uma função $ f $ com argumentos $ a, b, c, \\dots, z $,\n",
    " a notação é: `f(a, b, c, ..., z)`. Isso fará o interpretador executar\n",
    " o código na definição da função, com os valores específicos associados\n",
    " a esses argumentos substituídos pelos parâmetros. O _valor_ desta chamada\n",
    " é a expressão à direita da primeira instrução `return` encontrada\n",
    " pelo interpretador, conforme ele percorre a definição da função.\n",
    "\n",
    "<div class=\"alert alert-info\">\n",
    "<ul><li> Uma função pode ter qualquer número finito de parâmetros, incluindo zero. No\n",
    "último caso, a declaração de tal função $ f $ seria <code>def\n",
    "f():</code> ...</li>\n",
    "<li> Os parâmetros de uma função podem ser de qualquer tipo, e parâmetros\n",
    "distintos podem ter tipos distintos. Por exemplo, um parâmetro pode ser uma lista, uma\n",
    "tupla, outra função, uma lista de funções, etc..</li>\n",
    "<li> Os nomes dos parâmetros têm um escopo que é <i>local</i> ao bloco\n",
    "da definição. Em particular, o mesmo nome $ x $ pode armazenar valores\n",
    "completamente diferentes de tipos diferentes dentro e fora da definição de uma dada\n",
    "função.</li>\n",
    "<li> Declarações <code>return</code> são opcionais. Se nenhuma declaração desse tipo aparecer\n",
    "no corpo, então a função retorna <code>None</code> por padrão.</li>\n",
    "<li> Para melhorar a legibilidade, é recomendado que uma definição de função seja\n",
    "separada por exatamente <i>duas</i> linhas em branco do código circundante, e que\n",
    "todas as definições de funções em um script sejam agrupadas juntas no início.</li>\n",
    "</ul></div>\n",
    "\n",
    "**Exemplo:** Qual é o tipo de uma função?"
   ]
  },
  {
   "cell_type": "code",
   "execution_count": null,
   "metadata": {},
   "outputs": [],
   "source": [
    "def constante():\n",
    "   \"\"\" Uma função constante que assume o valor 1 para qualquer argumento. \"\"\"\n",
    "   return 1\n",
    "\n",
    "\n",
    "def eh_palindromo(s):\n",
    "   \"\"\" Decide se uma string é um palíndromo. \"\"\"\n",
    "   if s == s[::-1]:\n",
    "       return True\n",
    "   else:\n",
    "       return False\n",
    "\n",
    "\n",
    "print(type(constante))\n",
    "print(type(eh_palindromo))"
   ]
  },
  {
   "cell_type": "markdown",
   "metadata": {},
   "source": [
    "Para imprimir a assinatura e docstring da função, use o comando `help`:"
   ]
  },
  {
   "cell_type": "code",
   "execution_count": null,
   "metadata": {},
   "outputs": [],
   "source": [
    "help(eh_palindromo)"
   ]
  },
  {
   "cell_type": "markdown",
   "metadata": {},
   "source": [
    "### $ 1.3 $ O escopo de uma função\n",
    "\n",
    "⚠️ Aqui estão alguns exemplos mostrando como o escopo de uma variável em uma função\n",
    "declaração é _local_, não _global_, por padrão.\n",
    "\n",
    "__Exemplo:__"
   ]
  },
  {
   "cell_type": "code",
   "execution_count": null,
   "metadata": {},
   "outputs": [],
   "source": [
    "x = 10        # Cria uma variável e atribui o valor 10 a ela.\n",
    "\n",
    "def fun():\n",
    "   x = 2     # Esta variável x não tem nada a ver com a variável\n",
    "             # com o mesmo nome fora da declaração da função.\n",
    "\n",
    "fun()         # Chamando a função.\n",
    "print(x)      # Note como o valor de x não foi alterado!"
   ]
  },
  {
   "cell_type": "markdown",
   "metadata": {},
   "source": [
    "__Exemplo:__"
   ]
  },
  {
   "cell_type": "code",
   "execution_count": null,
   "metadata": {},
   "outputs": [],
   "source": [
    "def outra_funcao():\n",
    "   num = 1    # Cria uma variável (local) num e armazena o valor 1 nela.\n",
    "   num = 2    # Modifica o valor de num.\n",
    "\n",
    "\n",
    "outra_funcao()\n",
    "print(num)     \n",
    "# Como o escopo de definição de 'num' é local à função, o interpretador\n",
    "# não sabe o que isso significa uma vez que a chamada da função é terminada."
   ]
  },
  {
   "cell_type": "markdown",
   "metadata": {},
   "source": [
    "Se nós _realmente_ queremos modificar o valor de uma variável que está fora do escopo de\n",
    "uma função, podemos usar a palavra-chave `global`. Isso dirá ao interpretador que\n",
    "gostaríamos de trabalhar com uma variável global com esse nome (não uma criada\n",
    "toda vez que a função é chamada) e que quaisquer alterações em seu valor devem\n",
    "persistir após o término da chamada da função.\n",
    "\n",
    "__Exemplo:__"
   ]
  },
  {
   "cell_type": "code",
   "execution_count": null,
   "metadata": {},
   "outputs": [],
   "source": [
    "x = 10        # Cria uma variável e atribui o valor 10 a ela.\n",
    "\n",
    "def fun():\n",
    "   global x  # Dizendo ao interpretador que estamos nos referindo ao x acima.\n",
    "   x = 2     # Agora qualquer alteração no valor armazenado em x irá persistir.\n",
    "\n",
    "fun()         # Chamando a função.\n",
    "print(x)      # Note como o valor de x _foi_ alterado."
   ]
  },
  {
   "cell_type": "markdown",
   "metadata": {},
   "source": [
    "## $ \\S 2 $ Anotações de tipo\n",
    "\n",
    "### $ 2.1 $ Anotando os tipos de variáveis\n",
    "\n",
    "Embora o interpretador Python possa inferir o tipo de um objeto com base em\n",
    "seu valor, às vezes é desejável, por questões de clareza, indicar este\n",
    "tipo explicitamente no código. Isso pode ser feito por uma __anotação de tipo__, como no\n",
    "exemplo seguinte. Note, no entanto, que estas anotações de tipo são ignoradas pelo\n",
    "interpretador. Em particular,\n",
    "_elas podem não corresponder ao tipo real dos argumentos passados por um usuário_.\n",
    "\n",
    "__Exemplo:__"
   ]
  },
  {
   "cell_type": "code",
   "execution_count": null,
   "metadata": {},
   "outputs": [],
   "source": [
    "x: int = 2        # Atribui 2 a x e anota seu tipo como 'int'.\n",
    "y: str = \"alguma string aleatória\"  \n",
    "\n",
    "print(x, type(x))\n",
    "print(y, type(y))"
   ]
  },
  {
   "cell_type": "markdown",
   "metadata": {},
   "source": [
    "__Exemplo:__ Anotações incorretas também são permitidas:"
   ]
  },
  {
   "cell_type": "code",
   "execution_count": null,
   "metadata": {},
   "outputs": [],
   "source": [
    "z: int = 3.1415\n",
    "\n",
    "# Na definição de z, nós (incorretamente!) anotamos o tipo de z\n",
    "# como sendo 'int' mesmo que ele seja na verdade um float:\n",
    "print(z, type(z))\n",
    "\n",
    "# Como anotações de tipo são ignoradas, nenhum erro é gerado."
   ]
  },
  {
   "cell_type": "markdown",
   "metadata": {},
   "source": [
    "### $ 2.2 $ Anotando o tipo de parâmetros e valores de retorno de funções\n",
    "\n",
    "Também podemos anotar os tipos do(s) parâmetro(s) e valor(es) de retorno de uma função usando a sintaxe no exemplo seguinte.\n",
    "\n",
    "<a name=\"1.3\"></a>__Exercício:__ Defina uma função que converte\n",
    "temperaturas em Fahrenheit ($ T_F $) para temperaturas em Kelvin ($ T_K$). A\n",
    "fórmula para a conversão é: \n",
    "\n",
    "$$ T_K = \\frac{5}{9}\\, \\big(T_F - 32\\big) + 273.15 $$"
   ]
  },
  {
   "cell_type": "code",
   "execution_count": null,
   "metadata": {},
   "outputs": [],
   "source": [
    "def fahr_para_kelvin(temp_F: float) -> float:\n",
    "   \"\"\"\n",
    "   Uma função que converte uma temperatura temp_F medida em\n",
    "   graus Fahrenheit (F) para seu valor equivalente em Kelvin (K).\n",
    "   \"\"\""
   ]
  },
  {
   "cell_type": "markdown",
   "metadata": {},
   "source": [
    "Note a anotação de tipo opcional para o parâmetro `temp_F` e\n",
    "para o tipo de retorno (após a seta `->`). Agora teste\n",
    "sua função com alguns valores:"
   ]
  },
  {
   "cell_type": "code",
   "execution_count": null,
   "metadata": {},
   "outputs": [],
   "source": [
    "# O ponto de congelamento da água é 32 F:\n",
    "temp_congelamento_K = fahr_para_kelvin(32)\n",
    "print(f\"O ponto de congelamento da água é {temp_congelamento_K} K.\")\n",
    "\n",
    "# A temperatura de ebulição da água é 212 F:\n",
    "temp_ebulicao_K = fahr_para_kelvin(212)\n",
    "print(f\"O ponto de ebulição da água é {temp_ebulicao_K} K.\")"
   ]
  },
  {
   "cell_type": "markdown",
   "metadata": {},
   "source": [
    "A fórmula para converter uma temperatura $ T_K $ medida em Kelvin para seu equivalente $ T_C $ medido em Celsius é ainda mais simples:\n",
    "$$ T_C = T_K - 273.15 $$\n",
    "\n",
    "**Exercício:** Implemente a função abaixo e anote seus parâmetros e valores de retorno."
   ]
  },
  {
   "cell_type": "code",
   "execution_count": null,
   "metadata": {},
   "outputs": [],
   "source": [
    "def kelvin_para_celsius(<parametros>):\n",
    "   \"\"\"\n",
    "   Uma função que converte uma temperatura temp_K medida em Kelvin (K)\n",
    "   para seu valor equivalente em graus Celsius (C).\n",
    "   \"\"\""
   ]
  },
  {
   "cell_type": "markdown",
   "metadata": {},
   "source": [
    "## $ \\S 3 $ Exemplos e exercícios\n",
    "\n",
    "### $ 3.1 $ Testando se um número é primo\n",
    "\n",
    "__Exemplo:__ Escreva uma função que decide se um inteiro $ n \\ge 2 $ é primo ou não, dada a descrição abaixo."
   ]
  },
  {
   "cell_type": "code",
   "execution_count": null,
   "metadata": {},
   "outputs": [],
   "source": [
    "def eh_primo(n: int) -> bool:\n",
    "   \"\"\"\n",
    "   Decide se um inteiro positivo n é primo ou não testando se ele é\n",
    "   divisível por algum inteiro entre 2 e n - 1.\n",
    "   \"\"\"\n",
    "\n",
    "\n",
    "# Exemplos:\n",
    "print(eh_primo(2))\n",
    "print(eh_primo(6))\n",
    "print(eh_primo(19))\n",
    "print(eh_primo(199))\n",
    "print(eh_primo(1999))\n",
    "print(eh_primo(19999))"
   ]
  },
  {
   "cell_type": "markdown",
   "metadata": {},
   "source": [
    "__Exercício:__ A declaração `continue` é realmente necessária no exemplo anterior?"
   ]
  },
  {
   "cell_type": "markdown",
   "metadata": {},
   "source": []
  },
  {
   "cell_type": "markdown",
   "metadata": {},
   "source": [
    "__Exercício (ruína do apostador):__ Suponha que um apostador faz uma série de apostas justas\n",
    "de $ \\$ 1 $, começando com alguma quantia inicial, até que ele fique falido\n",
    "ou desista após atingir um valor alvo, ou meta.\n",
    "\n",
    "Um teorema afirma que _a probabilidade de sucesso é a razão entre a quantia inicial e\n",
    "a meta_ e que _o número esperado de apostas_ até que a sessão de apostas termine\n",
    "_é o produto da quantia inicial e do ganho desejado_ (a diferença entre a\n",
    "meta e a quantia inicial).\n",
    "\n",
    "Escreva uma função que calcule a probabilidade de sucesso e o número esperado\n",
    "de apostas, dada a quantia inicial e a meta. Calcule esses valores para uma\n",
    "meta de $ \\$ 2000 $ e uma quantia inicial de $ \\$ 100 $."
   ]
  },
  {
   "cell_type": "code",
   "execution_count": null,
   "metadata": {},
   "outputs": [],
   "source": []
  },
  {
   "cell_type": "markdown",
   "metadata": {},
   "source": [
    "__Exercício__: Implemente uma função que, dados inteiros $ a $ e $ b $:\n",
    "\n",
    "(a) Retorne a soma de todos os inteiros $ n $ satisfazendo $ a \\le n \\le b $.\n",
    "\n",
    "(b) Faça o mesmo para seu produto."
   ]
  },
  {
   "cell_type": "code",
   "execution_count": null,
   "metadata": {},
   "outputs": [],
   "source": []
  },
  {
   "cell_type": "markdown",
   "metadata": {},
   "source": [
    "__Exercício:__ \n",
    "\n",
    "(a) Escreva uma função `menor_divisor` que calcula o menor divisor\n",
    "   $ > 1 $ de um inteiro positivo $ n \\ge 2 $.\n",
    "\n",
    "(b) Use `menor_divisor` para redefinir `eh_primo`. _Dica:_ Um inteiro positivo\n",
    "   $ n $ é primo se e somente se seu menor divisor $ > 1 $ é igual a $ n $.\n",
    "\n",
    "(c) Escreva uma função que recebe um inteiro positivo $ n $ como argumento e\n",
    "   imprime uma mensagem indicando que $ n $ é ou não é primo, e no último\n",
    "   caso também imprime seu menor divisor $ > 1 $. Qual é o tipo de retorno\n",
    "   desta função?"
   ]
  },
  {
   "cell_type": "code",
   "execution_count": null,
   "metadata": {},
   "outputs": [],
   "source": []
  },
  {
   "cell_type": "markdown",
   "metadata": {},
   "source": [
    "__Exercício:__ Em relação à sua implementação de `eh_primo`:\n",
    "\n",
    "(a) O que acontece se você tentar determinar se $ 1 $, $ 0 $ são\n",
    "primos? \n",
    "\n",
    "(b) Quais números negativos são primos de acordo com ela?\n",
    "\n",
    "(c) O que acontece se você passar um float ou um número complexo como argumento?"
   ]
  },
  {
   "cell_type": "code",
   "execution_count": null,
   "metadata": {},
   "outputs": [],
   "source": []
  },
  {
   "cell_type": "markdown",
   "metadata": {},
   "source": [
    "### $ 3.2 $ A declaração `assert`\n",
    "\n",
    "Para depurar, testar ou detectar comportamentos inesperados em um código antes\n",
    "que ocorram, Python fornece a declaração `assert`. Ela testa se uma expressão\n",
    "particular é verdadeira. Se for, o interpretador simplesmente prossegue para a próxima linha.\n",
    "Caso contrário, ele gera um `AssertionError` e exibe uma mensagem de\n",
    "erro opcional. Aqui está a sintaxe básica:"
   ]
  },
  {
   "cell_type": "code",
   "execution_count": null,
   "metadata": {},
   "outputs": [],
   "source": [
    "assert <expressão booleana>, \"mensagem de erro\""
   ]
  },
  {
   "cell_type": "markdown",
   "metadata": {},
   "source": [
    "**Exemplo**: Vamos modificar a definição de `eh_primo` para que ela verifique se seu argumento é de fato um inteiro $ \\ge 2 $ antes de realmente calcular qualquer coisa.<a name=\"primo\"></a>"
   ]
  },
  {
   "cell_type": "code",
   "execution_count": null,
   "metadata": {},
   "outputs": [],
   "source": [
    "def eh_primo(n: int) -> bool:\n",
    "\n",
    "   # A string contendo a mensagem de erro personalizada\n",
    "   # e a vírgula que a precede são opcionais:\n",
    "   assert isinstance(n, int)\n",
    "\n",
    "   # Também podemos usar f-strings como mensagem de erro:\n",
    "   assert n >= 2, f\"O argumento {n} não é >= 2!\"\n",
    "   \n",
    "   for k in range(2, n):\n",
    "       if n % k == 0:\n",
    "           print(f\"{n} é divisível por {k}, portanto não é primo!\")\n",
    "           return False\n",
    "   return True"
   ]
  },
  {
   "cell_type": "code",
   "execution_count": null,
   "metadata": {},
   "outputs": [],
   "source": [
    "eh_primo(-1)"
   ]
  },
  {
   "cell_type": "code",
   "execution_count": null,
   "metadata": {},
   "outputs": [],
   "source": [
    "eh_primo(3.14)"
   ]
  },
  {
   "cell_type": "markdown",
   "metadata": {},
   "source": [
    "## $ \\S 4 $ Composição de funções\n",
    "\n",
    "Em uma seção anterior definimos dois procedimentos:\n",
    "* Uma função `fahr_para_kelvin` que converte de Fahrenheit para Kelvin;\n",
    "* Uma função `kelvin_para_celsius` que converte de Kelvin para Celsius.\n",
    "\n",
    "Agora podemos facilmente obter uma função que converte de Fahrenheit para Celsius por\n",
    "__composição__ dessas duas, assim como no contexto da Matemática.\n",
    "\n",
    "__Exemplo:__"
   ]
  },
  {
   "cell_type": "code",
   "execution_count": null,
   "metadata": {},
   "outputs": [],
   "source": [
    "def fahr_para_celsius(temp_F: float) -> float:\n",
    "   return kelvin_para_celsius(fahr_para_kelvin(temp_F))\n",
    "\n",
    "\n",
    "# O ponto de congelamento da água é 32 F:\n",
    "temp_congelamento_C = fahr_para_celsius(32)\n",
    "print(temp_congelamento_C)\n",
    "\n",
    "# A temperatura de ebulição da água é 212 F:\n",
    "temp_ebulicao_C = fahr_para_celsius(212)\n",
    "print(temp_ebulicao_C)"
   ]
  },
  {
   "cell_type": "markdown",
   "metadata": {},
   "source": [
    "__Exercício:__ Considere a função\n",
    "$$\n",
    "g \\colon [0, 1] \\to [0, 1]\\,, \\quad g(x) = 4x(1 - x)\\,.\n",
    "$$\n",
    "\n",
    "(a) Crie uma função (procedimento) Python `composicao` que, dado $ x $,\n",
    "calcula\n",
    "$$\n",
    "g^{\\circ 100}(x) = \\underbrace{g \\circ g \\circ \\cdots \\circ g}_{100\\text{ vezes}} (x)\\,,\n",
    "$$\n",
    "isto é, o resultado de aplicar a função $ g $ repetidamente um total\n",
    "de $ 100 $ vezes, com um argumento inicial $ x $ entre $ 0 $ e $ 1 $ fornecido\n",
    "pelo usuário. _Dica:_ Use um loop `for` e atualize o valor de $ x $ em cada\n",
    "iteração. \n",
    "\n",
    "(b) Chame sua função com os seguintes argumentos: $ 0.3 $, $ 0.33 $, $ 0.333 $\n",
    "e $ 0.3333 $. Isso ilustra o fato de que $ g $ exibe comportamento caótico; em\n",
    "particular, pequenas diferenças no valor inicial de $ x $ podem levar a resultados muito\n",
    "diferentes para $ g^{\\circ 100}(x) $.\n",
    "\n",
    "(c) Generalize sua função `composicao` para que ela agora receba dois argumentos:\n",
    "o ponto `x` e o número de vezes `n` que $ g $ deve ser composta com\n",
    "si mesma.\n",
    "\n",
    "(d) Generalize ainda mais a definição para que a função ($ g $, no caso do item(a))\n",
    "que deve ser composta seja passada pelo usuário de `composicao` como um terceiro argumento. Assim,\n",
    "a assinatura agora deve ser: `composicao(x, n, f)`. Teste sua implementação com\n",
    "$ x = 1 $, $ n = 3 $ e $ f \\colon x \\mapsto \\frac{x}{2} $."
   ]
  },
  {
   "cell_type": "code",
   "execution_count": null,
   "metadata": {},
   "outputs": [],
   "source": [
    "g = lambda x: 4 * x * (1 - x)\n",
    "\n",
    "def composicao(x):\n",
    "   for k in range(100):\n",
    "       x = g(x)\n",
    "   return x\n",
    "\n",
    "\n",
    "x = 0.3333\n",
    "composicao(x)"
   ]
  },
  {
   "cell_type": "code",
   "execution_count": null,
   "metadata": {},
   "outputs": [],
   "source": []
  },
  {
   "cell_type": "markdown",
   "metadata": {},
   "source": [
    "__Exercício__: Defina e teste uma função que, dado um inteiro $ N > 0 $, calcule o\n",
    "$ N $-ésimo _número harmônico_, dado por\n",
    "$$\n",
    "H_n = \\sum_{k=1}^{N} \\frac{1}{k}\\,.\n",
    "$$\n",
    "Faça isso de duas maneiras diferentes:\n",
    "\n",
    "(a) Armazenando as parcelas em uma lista, e então tomando sua `sum`.\n",
    "\n",
    "(b) Armazenando as somas parciais em uma variável que é incrementada a cada vez.\n",
    "\n",
    "Pode-se demonstrar que o $ N $-ésimo número harmônico tende a $ \\infty $ quando $ N \\to\n",
    "\\infty $, embora faça isso bem lentamente. De fato, $ H_n \\sim \\ln n $."
   ]
  },
  {
   "cell_type": "code",
   "execution_count": null,
   "metadata": {},
   "outputs": [],
   "source": []
  },
  {
   "cell_type": "markdown",
   "metadata": {},
   "source": [
    "__Exercício__: Implemente uma função que, dado um inteiro positivo $ N $,\n",
    "retorne a lista de todos os números primos $ \\le N $. _Dica:_ Use a função\n",
    "`eh_primo` que decide se um número individual é primo. "
   ]
  },
  {
   "cell_type": "code",
   "execution_count": null,
   "metadata": {},
   "outputs": [],
   "source": []
  },
  {
   "cell_type": "markdown",
   "metadata": {},
   "source": [
    "## $ \\S 5 $ Importando módulos\n",
    "\n",
    "Um __módulo__ é um arquivo contendo código Python que é projetado para ser importado\n",
    "e reutilizado em outros scripts Python. Módulos podem incluir definições de\n",
    "funções, variáveis e classes. Eles são usados para organizar o design de\n",
    "programas complexos, facilitar a depuração e promover a reutilização de código.\n",
    "\n",
    "### $ 5.1 $ Importando um módulo\n",
    "\n",
    "O Python básico contém muito poucas funções matemáticas, entre elas `max`, `min`, `abs` e `sum`.\n",
    "\n",
    "__Exemplo:__"
   ]
  },
  {
   "cell_type": "code",
   "execution_count": null,
   "metadata": {},
   "outputs": [],
   "source": [
    "numeros = [1.0, -3.5, 2.71, 77 % 2, -3e3]\n",
    "\n",
    "print(max(numeros))    # Elemento máximo de 'numeros'.\n",
    "print(min(numeros))    # Elemento mínimo de 'numeros'.\n",
    "print(sum(numeros))    # Soma de 'numeros'.\n",
    "print(abs(-1))         # Valor absoluto de -1."
   ]
  },
  {
   "cell_type": "markdown",
   "metadata": {},
   "source": [
    "Para importar um módulo, por exemplo o módulo **math**, que contém implementações de algumas funções matemáticas adicionais, use a declaração `import math`. Para então chamar, digamos, uma função $ f $ definida neste módulo, use a sintaxe `math.f`.\n",
    "\n",
    "**Exemplo:**"
   ]
  },
  {
   "cell_type": "code",
   "execution_count": null,
   "metadata": {},
   "outputs": [],
   "source": [
    "import math\n",
    "\n",
    "\n",
    "x = math.log(23e5, 2)    # Atribui o logaritmo de (23 * 10**5) na base 2 a x.\n",
    "y = math.exp(3)          # Atribui o valor de e ao cubo a y.\n",
    "\n",
    "print(x)\n",
    "print(y)\n",
    "print(x > y)\n",
    "\n",
    "math.pi                  # Retorna o valor da constante 'pi'."
   ]
  },
  {
   "cell_type": "markdown",
   "metadata": {},
   "source": [
    "📝 É uma prática recomendada que declarações `import` sejam agrupadas juntas no início do script e que sejam separadas do resto do script por exatamente duas linhas em branco."
   ]
  },
  {
   "cell_type": "markdown",
   "metadata": {},
   "source": [
    "O módulo **math** não contém muitas funções, mas entre outras, fornece implementações de:\n",
    "* As constantes `pi` ($ \\pi $) e `e` ($ e $).\n",
    "* A função *exponencial* `exp` e o *logaritmo* `log`. Em relação ao último, `log(a, b)` produz $ \\log_b a $, o logaritmo na base $ b $ de $ a $;\n",
    "* As *funções trigonométricas* básicas `cos`, `sin`, `tan` e suas inversas `acos`, `asin`, `atan`;\n",
    "* As funções *teto* e *piso* `floor` e `ceil`, que, dado um número de ponto flutuante $ x $, retornam o maior inteiro $ \\le x $ (resp. o menor inteiro $ \\ge x $);\n",
    "* A função *raiz quadrada* `sqrt` e a função *raiz quadrada inteira* `isqrt`, que é equivalente à composição de `sqrt` com `int` (mas mais eficiente);\n",
    "* A função *produto* `prod` que retorna o produto de uma lista de números;\n",
    "* A função *fatorial*: `factorial(n)` produz o produto\n",
    " $ n! = n \\cdot (n - 1) \\cdots 2 \\cdot 1 $ de todos os inteiros de $ 1 $ até $ n $\n",
    " (onde $ n $ é um inteiro positivo);\n",
    "\n",
    "__Exercício:__ Usando funções/constantes disponíveis em `math`, escreva funções que:\n",
    "\n",
    "(a) Calcula a distância euclidiana entre dois pontos dados $ (a, b) $ e\n",
    "$ (c, d) $ no plano. _Dica:_ Use a função raiz quadrada.\n",
    "\n",
    "(b) Calcula o coeficiente binomial $ n \\choose m $. _Dica:_ Use a função fatorial.\n",
    "\n",
    "(c) Dado um inteiro $ n >= 3 $, retorna na forma de duas listas `xs` e `ys`\n",
    "as coordenadas dos vértices de um $ n $-gon regular inscrito no círculo\n",
    "unitário centrado na origem. _Dica:_ Use as funções cosseno e seno,\n",
    "junto com $ \\pi $ e um loop `for` para gerar essas coordenadas, que\n",
    "são dadas por\n",
    "$$\n",
    "\\big(x_k, y_k\\big) = \\bigg(\\cos\\Big(\\frac{k\\pi}{n}\\Big)\\,,\\, \\sin\\Big(\\frac{k\\pi}{n}\\Big)\\bigg)\n",
    "\\qquad (k = 0, 1, \\dots, n - 1)\\,.\n",
    "$$"
   ]
  },
  {
   "cell_type": "code",
   "execution_count": null,
   "metadata": {},
   "outputs": [],
   "source": []
  },
  {
   "cell_type": "markdown",
   "metadata": {},
   "source": [
    "Podemos importar um módulo usando um **alias** para evitar ter que digitar seu nome completo\n",
    "usando a sintaxe `import <nome_modulo> as <alias>`.\n",
    "\n",
    "**Exemplo:**"
   ]
  },
  {
   "cell_type": "code",
   "execution_count": null,
   "metadata": {},
   "outputs": [],
   "source": [
    "import math as m\n",
    "\n",
    "\n",
    "print(m.factorial(5))\n",
    "print(m.e)"
   ]
  },
  {
   "cell_type": "markdown",
   "metadata": {},
   "source": [
    "### $ 5.2 $ Importando funções diretamente\n",
    "\n",
    "Para evitar ter que se referir ao nome do módulo toda vez que uma de suas funções/objetos é chamada, temos duas opções:\n",
    "1. Importar explicitamente as funções/objetos $ f_1, f_2, \\dots, f_n $ através da declaração\n",
    "  `from <nome_modulo> import f_1, f_2, ..., f_n`.\n",
    "2. Importar toda função/objeto fornecido pelo módulo usando a declaração `from <nome_modulo> import *`.\n",
    "\n",
    "⚠️ Ambos os métodos podem levar a conflitos com definições carregadas de outros módulos\n",
    "(ou do Python básico). Por exemplo, tanto math quanto NumPy fornecem implementações\n",
    "da função seno como `sin`; se ambos forem carregados usando qualquer um desses métodos,\n",
    "então `sin` assumirá o significado fornecido pelo módulo que foi carregado\n",
    "por último. Além disso, o segundo método também é desperdiçador, já que carregará vários\n",
    "objetos que provavelmente não serão usados."
   ]
  },
  {
   "cell_type": "markdown",
   "metadata": {},
   "source": [
    "__Exemplo:__"
   ]
  },
  {
   "cell_type": "code",
   "execution_count": null,
   "metadata": {},
   "outputs": [],
   "source": [
    "from math import sqrt, isqrt, cos, sin, pi\n",
    "\n",
    "print(sqrt(3))\n",
    "print(isqrt(3))\n",
    "\n",
    "print(cos(0), cos(pi), cos(pi / 2))"
   ]
  },
  {
   "cell_type": "code",
   "execution_count": null,
   "metadata": {},
   "outputs": [],
   "source": [
    "from math import *\n",
    "\n",
    "print(floor(2.5), ceil(2.5))\n",
    "print(floor(-2.5), ceil(-2.5))\n",
    "print(prod([1, 2, 3, 4, 5]))"
   ]
  },
  {
   "cell_type": "markdown",
   "metadata": {},
   "source": [
    "**Exercício:** O que acontece se você tentar chamar a função tangente em $ \\frac{\\pi}{2} $? Qual é o fatorial de $ 0 $ e $ - 1 $ segundo o Python? Por que o cosseno de $ \\pi $ não é exatamente $ -1 $?"
   ]
  },
  {
   "cell_type": "code",
   "execution_count": null,
   "metadata": {},
   "outputs": [],
   "source": []
  },
  {
   "cell_type": "markdown",
   "metadata": {},
   "source": [
    "📝 Para explorar a lista completa de funções/objetos fornecidos por um módulo, use\n",
    "o comando `dir`. Para obter ajuda sobre como uma função específica funciona, você pode usar\n",
    "`help(<nome_funcao>)`. Note que em ambos os casos, o módulo correspondente\n",
    "deve ser carregado primeiro.\n",
    "\n",
    "__Exemplo:__"
   ]
  },
  {
   "cell_type": "code",
   "execution_count": null,
   "metadata": {},
   "outputs": [],
   "source": [
    "import math\n",
    "print(dir(math))\n",
    "help(math.floor)"
   ]
  },
  {
   "cell_type": "markdown",
   "metadata": {},
   "source": [
    "__Exercício:__ Seja $ n \\ge 2 $ um inteiro. Se $ d $ é um divisor de $ n $ então\n",
    "$ \\frac{n}{d} $ também é um divisor, e $ d $ e $\\frac{n}{d} $ não podem ser ambos\n",
    "maiores que $ \\sqrt{n} $. Use esta observação e a função `isqrt` do\n",
    "módulo *math* para modificar a definição de [`eh_primo`](#prime) para que ela\n",
    "teste apenas os números de $ 1 $ até $ \\sqrt{n} $ (incluindo o último!) como\n",
    "possíveis divisores de $ n $."
   ]
  },
  {
   "cell_type": "code",
   "execution_count": null,
   "metadata": {},
   "outputs": [],
   "source": []
  }
 ],
 "metadata": {
  "kernelspec": {
   "display_name": "Python 3",
   "language": "python",
   "name": "python3"
  },
  "language_info": {
   "name": "python",
   "version": "3.12.3"
  }
 },
 "nbformat": 4,
 "nbformat_minor": 2
}
