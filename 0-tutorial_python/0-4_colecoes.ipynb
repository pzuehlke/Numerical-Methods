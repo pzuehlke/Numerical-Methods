{
 "cells": [
  {
   "cell_type": "markdown",
   "metadata": {},
   "source": [
    "# Coleções (listas, tuplas, conjuntos e dicionários)\n",
    "\n",
    "## $ \\S 1 $ Listas\n",
    "\n",
    "### $ 1.1 $ O tipo `list`\n",
    "\n",
    "Uma __lista__ (isto é, um objeto do tipo `list`) consiste em zero, um ou vários objetos ordenados em sequência. Em Python, uma lista pode ser __heterogênea__, significando que seus elementos podem ser de qualquer tipo, e estes tipos não precisam coincidir. Por exemplo, pode-se criar uma lista que contém inteiros, números de ponto flutuante e strings; ou uma lista cujos elementos podem ser números complexos ou funções. Em particular, listas em Python têm a importante propriedade de __fechamento__: é permitido fazer listas de listas, ou listas de listas de listas, etc. Finalmente, em contraste com os arrays de algumas outras linguagens de programação, listas são __dinâmicas__ (não _estáticas_), significando que seus comprimentos podem mudar durante a execução.\n",
    "\n",
    "Uma lista é representada usando _colchetes_ na forma `[<elementos>]`, com os elementos separados por vírgulas.\n",
    "\n",
    "__Exemplo:__"
   ]
  },
  {
   "cell_type": "code",
   "execution_count": 3,
   "metadata": {},
   "outputs": [
    {
     "name": "stdout",
     "output_type": "stream",
     "text": [
      "['🍑', '🥝', '🍉', '🥥', '🍋', '🍐']\n",
      "[0, 'oito', -53, 12.34, (3+4j)]\n",
      "['Delfador']\n"
     ]
    }
   ],
   "source": [
    "# Aqui está uma lista de strings (onde cada string consiste em um emoji):\n",
    "frutas = [\"🍑\", \"🥝\", \"🍉\", \"🥥\", \"🍋\", \"🍐\"]\n",
    "\n",
    "# Aqui está uma lista consistindo de elementos de vários tipos distintos:\n",
    "numeros = [0, 'oito', -53, 12.34, (3 + 4j)]\n",
    "\n",
    "# Esta lista tem um único elemento:\n",
    "magos = ['Delfador']\n",
    "\n",
    "print(frutas)\n",
    "print(numeros)\n",
    "print(magos)"
   ]
  },
  {
   "cell_type": "markdown",
   "metadata": {},
   "source": [
    "A __lista vazia__ é a única lista que não tem elementos. Existem pelo menos duas maneiras de instanciá-la:"
   ]
  },
  {
   "cell_type": "code",
   "execution_count": 4,
   "metadata": {},
   "outputs": [
    {
     "name": "stdout",
     "output_type": "stream",
     "text": [
      "True\n"
     ]
    }
   ],
   "source": [
    "empty1 = []         # primeira maneira\n",
    "empty2 = list()     # segunda maneira\n",
    "\n",
    "# Elas representam o mesmo objeto:\n",
    "print(empty1 == empty2)"
   ]
  },
  {
   "cell_type": "markdown",
   "metadata": {
    "vscode": {
     "languageId": "plaintext"
    }
   },
   "source": [
    "Assim como para strings, a função `len` pode ser usada para contar o número de itens em uma lista."
   ]
  },
  {
   "cell_type": "code",
   "execution_count": 5,
   "metadata": {},
   "outputs": [
    {
     "name": "stdout",
     "output_type": "stream",
     "text": [
      "1\n",
      "6\n"
     ]
    }
   ],
   "source": [
    "print(len(magos))\n",
    "print(len(frutas))"
   ]
  },
  {
   "cell_type": "code",
   "execution_count": null,
   "metadata": {},
   "outputs": [],
   "source": [
    "nova_lista = frutas + magos   # Podemos concatenar duas listas usando '+'\n",
    "print(nova_lista)"
   ]
  },
  {
   "cell_type": "markdown",
   "metadata": {},
   "source": [
    "Listas podem ser __concatenadas__ com o operador `+`, __repetidas__ por \"multiplicação\" com inteiros positivos usando `*` e __fatiadas__ com o operador `:`. Note que nenhuma dessas operações _modifica_ a lista original; em vez disso, elas criam uma _nova_ lista. Lembre-se que tudo isso também é verdade para strings.\n",
    "\n",
    "__Exercício:__ Seja _filmes_ a lista na célula de código abaixo. Determine a saída das seguintes declarações:\n",
    "\n",
    "(a) `filmes * 2`\n",
    "\n",
    "(b) `filmes + [\"Glória Feita de Sangue\", \"Tempos Modernos\"]`\n",
    "\n",
    "(c) `[\"Guerra nas Estrelas\", \"O Terceiro Homem\"] + filmes`\n",
    "\n",
    "(d) `filmes[:2]`\n",
    "\n",
    "(e) `filmes[::-1]`\n",
    "\n",
    "(f) `filmes + []`\n",
    "\n",
    "(g) `filmes + \"erro\"`"
   ]
  },
  {
   "cell_type": "code",
   "execution_count": 8,
   "metadata": {},
   "outputs": [],
   "source": [
    "filmes = [\"...E o Vento Levou\",\n",
    "         \"Interestelar\",\n",
    "         \"E.T.\",\n",
    "         \"A Felicidade Não se Compra\",\n",
    "         \"Rain Man\",\n",
    "         \"Rambo\"]"
   ]
  },
  {
   "cell_type": "markdown",
   "metadata": {},
   "source": [
    "### $ 1.2 $ Modificando listas\n",
    "\n",
    "Em contraste com strings, listas são objetos __mutáveis__, significando que seus elementos individuais podem ser modificados por atribuições.\n",
    "\n",
    "__Exercício:__ Seja _filmes_ a lista na próxima célula de código. Qual é o valor de _filmes_ após cada uma das declarações abaixo ser executada em sequência pelo interpretador?\n",
    "\n",
    "(a) `filmes[1] = \"Forrest Gump\"`\n",
    "\n",
    "(b) `filmes[2:4] = [\"Tempos Modernos\", \"Glória Feita de Sangue\"]`\n",
    "\n",
    "(c) `filmes[-1] = \"Ladrões de Bicicleta\"`\n",
    "\n",
    "(d) `filmes += [\"A Vida dos Outros\"]`"
   ]
  },
  {
   "cell_type": "code",
   "execution_count": 9,
   "metadata": {},
   "outputs": [],
   "source": [
    "filmes = [\"...E o Vento Levou\",\n",
    "         \"Interestelar\",\n",
    "         \"E.T.\",\n",
    "         \"A Felicidade Não se Compra\",\n",
    "         \"Rain Man\",\n",
    "         \"Rambo\"]"
   ]
  },
  {
   "cell_type": "markdown",
   "metadata": {},
   "source": [
    "⚠️ Para _modificar_ o elemento no índice $ k $ de uma lista, a lista deve ter itens associados a cada índice entre $ 0 $ e $ k - 1 $. Tentar acessar de qualquer forma o $ k $-ésimo elemento de uma lista de comprimento $ \\le k $ gera um `IndexError`.\n",
    "\n",
    "__Exemplo:__"
   ]
  },
  {
   "cell_type": "code",
   "execution_count": 10,
   "metadata": {},
   "outputs": [
    {
     "ename": "IndexError",
     "evalue": "list assignment index out of range",
     "output_type": "error",
     "traceback": [
      "\u001b[0;31m---------------------------------------------------------------------------\u001b[0m",
      "\u001b[0;31mIndexError\u001b[0m                                Traceback (most recent call last)",
      "Cell \u001b[0;32mIn[10], line 9\u001b[0m\n\u001b[1;32m      1\u001b[0m \u001b[38;5;66;03m# Uma lista longa pode ser dividida em várias linhas para melhor legibilidade:\u001b[39;00m\n\u001b[1;32m      2\u001b[0m planetas \u001b[38;5;241m=\u001b[39m [\n\u001b[1;32m      3\u001b[0m     \u001b[38;5;124m\"\u001b[39m\u001b[38;5;124mTerra\u001b[39m\u001b[38;5;124m\"\u001b[39m,\n\u001b[1;32m      4\u001b[0m     \u001b[38;5;124m\"\u001b[39m\u001b[38;5;124mMarte\u001b[39m\u001b[38;5;124m\"\u001b[39m,\n\u001b[0;32m   (...)\u001b[0m\n\u001b[1;32m      7\u001b[0m     \u001b[38;5;124m\"\u001b[39m\u001b[38;5;124mNetuno\u001b[39m\u001b[38;5;124m\"\u001b[39m\n\u001b[1;32m      8\u001b[0m ]\n\u001b[0;32m----> 9\u001b[0m \u001b[43mplanetas\u001b[49m\u001b[43m[\u001b[49m\u001b[38;5;241;43m5\u001b[39;49m\u001b[43m]\u001b[49m \u001b[38;5;241m=\u001b[39m \u001b[38;5;124m\"\u001b[39m\u001b[38;5;124mKepler-452b\u001b[39m\u001b[38;5;124m\"\u001b[39m\n",
      "\u001b[0;31mIndexError\u001b[0m: list assignment index out of range"
     ]
    }
   ],
   "source": [
    "# Uma lista longa pode ser dividida em várias linhas para melhor legibilidade:\n",
    "planetas = [\n",
    "    \"Terra\",\n",
    "    \"Marte\",\n",
    "    \"Júpiter\",\n",
    "    \"Saturno\",\n",
    "    \"Netuno\"\n",
    "]\n",
    "planetas[5] = \"Kepler-452b\""
   ]
  },
  {
   "cell_type": "markdown",
   "metadata": {},
   "source": [
    "### $ 1.3 $ Alguns métodos de lista\n",
    "\n",
    "Listas suportam vários métodos úteis (lembre-se que um __método__ é uma função associada a uma classe ou tipo específico). Aqui estão exemplos de como alguns deles são usados.\n",
    "\n",
    "__Exemplos:__ Talvez o método de lista mais frequentemente usado seja `append`, que pode ser usado para adicionar um elemento ao final de uma lista:"
   ]
  },
  {
   "cell_type": "code",
   "execution_count": 11,
   "metadata": {},
   "outputs": [
    {
     "name": "stdout",
     "output_type": "stream",
     "text": [
      "['🍑', '🥝', '🍉', '🥥', '🍋', '🍐', '🍎']\n"
     ]
    }
   ],
   "source": [
    "frutas = [\"🍑\", \"🥝\", \"🍉\", \"🥥\", \"🍋\", \"🍐\"]\n",
    "\n",
    "frutas.append(\"🍎\")     # Anexa uma maçã ao final da lista\n",
    "print(frutas)"
   ]
  },
  {
   "cell_type": "markdown",
   "metadata": {},
   "source": [
    "Mais genericamente, podemos usar `insert` para inserir um elemento em uma posição específica:"
   ]
  },
  {
   "cell_type": "code",
   "execution_count": 12,
   "metadata": {},
   "outputs": [
    {
     "name": "stdout",
     "output_type": "stream",
     "text": [
      "['🍑', '🫐', '🥝', '🍉', '🥥', '🍋', '🍐', '🍎']\n"
     ]
    }
   ],
   "source": [
    "frutas.insert(1, \"🫐\")     # Insere mirtilos como a fruta no índice 1\n",
    "print(frutas)"
   ]
  },
  {
   "cell_type": "markdown",
   "metadata": {},
   "source": [
    "O método `index` retorna o índice da primeira ocorrência de um elemento em uma lista. Se não houver tal elemento, ele produz um `ValueError`."
   ]
  },
  {
   "cell_type": "code",
   "execution_count": 13,
   "metadata": {},
   "outputs": [
    {
     "name": "stdout",
     "output_type": "stream",
     "text": [
      "4\n"
     ]
    }
   ],
   "source": [
    "print(frutas.index('🥥'))"
   ]
  },
  {
   "cell_type": "code",
   "execution_count": 14,
   "metadata": {},
   "outputs": [
    {
     "ename": "ValueError",
     "evalue": "'🏫' is not in list",
     "output_type": "error",
     "traceback": [
      "\u001b[0;31m---------------------------------------------------------------------------\u001b[0m",
      "\u001b[0;31mValueError\u001b[0m                                Traceback (most recent call last)",
      "Cell \u001b[0;32mIn[14], line 1\u001b[0m\n\u001b[0;32m----> 1\u001b[0m \u001b[43mfrutas\u001b[49m\u001b[38;5;241;43m.\u001b[39;49m\u001b[43mindex\u001b[49m\u001b[43m(\u001b[49m\u001b[38;5;124;43m'\u001b[39;49m\u001b[38;5;124;43m🏫\u001b[39;49m\u001b[38;5;124;43m'\u001b[39;49m\u001b[43m)\u001b[49m\n",
      "\u001b[0;31mValueError\u001b[0m: '🏫' is not in list"
     ]
    }
   ],
   "source": [
    "frutas.index('🏫')"
   ]
  },
  {
   "cell_type": "markdown",
   "metadata": {},
   "source": [
    "Com `remove` podemos remover (no local) a _primeira ocorrência_ de um elemento de uma lista. Novamente, tentar remover um elemento que não está atualmente na lista gera um `ValueError`."
   ]
  },
  {
   "cell_type": "code",
   "execution_count": 15,
   "metadata": {},
   "outputs": [
    {
     "name": "stdout",
     "output_type": "stream",
     "text": [
      "['🍑', '🫐', '🥝', '🍉', '🥥', '🍐', '🍎']\n"
     ]
    }
   ],
   "source": [
    "frutas.remove('🍋')\n",
    "print(frutas)"
   ]
  },
  {
   "cell_type": "markdown",
   "metadata": {},
   "source": [
    "Talvez o método de lista mais útil seja `sort`, que eficientemente ordena a lista dada no local. Similarmente, `reverse` faz o que seu nome sugere:"
   ]
  },
  {
   "cell_type": "code",
   "execution_count": 16,
   "metadata": {},
   "outputs": [
    {
     "name": "stdout",
     "output_type": "stream",
     "text": [
      "['🍉', '🍎', '🍐', '🍑', '🥝', '🥥', '🫐']\n",
      "['🫐', '🥥', '🥝', '🍑', '🍐', '🍎', '🍉']\n"
     ]
    }
   ],
   "source": [
    "frutas.sort()            # Ordena a lista\n",
    "print(frutas)\n",
    "\n",
    "frutas.reverse()         # Inverte a ordem dos elementos na lista\n",
    "print(frutas)"
   ]
  },
  {
   "cell_type": "markdown",
   "metadata": {},
   "source": [
    "O último método que consideraremos é `pop`, que é essencialmente o inverso de `append`: quando chamado sem argumentos, ele remove o último item da lista e o retorna como saída."
   ]
  },
  {
   "cell_type": "code",
   "execution_count": 17,
   "metadata": {},
   "outputs": [
    {
     "name": "stdout",
     "output_type": "stream",
     "text": [
      "['🫐', '🥥', '🥝', '🍑', '🍐', '🍎', '🍉']\n",
      "['🫐', '🥥', '🥝', '🍑', '🍐', '🍎']\n",
      "['🫐', '🥥', '🍑', '🍐', '🍎']\n",
      "🍉 🥝\n"
     ]
    }
   ],
   "source": [
    "print(frutas)\n",
    "\n",
    "a = frutas.pop()        # Use 'pop' sem argumentos para remover o\n",
    "print(frutas)           # último item e retorná-lo como saída\n",
    "\n",
    "b = frutas.pop(2)       # Remove o elemento com índice 2\n",
    "print(frutas)           # e retorna-o como saída\n",
    "\n",
    "print(a, b)"
   ]
  },
  {
   "cell_type": "markdown",
   "metadata": {},
   "source": [
    "__Exercício:__ Seja _planetas_ a lista fornecida na célula de código abaixo, representando os planetas do nosso sistema solar. Descreva a lista e a saída após cada uma das seguintes declarações ser executada em sequência pelo interpretador.\n",
    "\n",
    "(a) `planetas.insert(1, \"Vulcano\")`\n",
    "\n",
    "(b) `planetas = planetas + [\"Plutão\"]`\n",
    "\n",
    "(c) `planetas.remove(\"Vulcano\")`\n",
    "\n",
    "(d) `planetas.sort(reverse=True)`\n",
    "\n",
    "(e) `planetas.index(\"Marte\")`\n",
    "\n",
    "(f) `planetas.append(\"Planeta X\")`\n",
    "\n",
    "(g) `planetas.pop(2)`\n",
    "\n",
    "(h) `planetas.reverse()`"
   ]
  },
  {
   "cell_type": "code",
   "execution_count": null,
   "metadata": {},
   "outputs": [],
   "source": [
    "planetas = [\"Mercúrio\", \"Vênus\", \"Terra\", \"Marte\", \"Júpiter\", \"Saturno\", \"Urano\", \"Netuno\"]"
   ]
  },
  {
   "cell_type": "markdown",
   "metadata": {},
   "source": [
    "__Exercício:__ O que é `[] * 3`? O que é `[[]] * 3`? O que é `[[]] * (-1)`?"
   ]
  },
  {
   "cell_type": "code",
   "execution_count": null,
   "metadata": {},
   "outputs": [],
   "source": []
  },
  {
   "cell_type": "markdown",
   "metadata": {},
   "source": [
    "## $ \\S 2 $ Tuplas\n",
    "\n",
    "### $ 2.1 $ O tipo `tuple`\n",
    "\n",
    "Outro tipo de dado sequencial é `tuple`, o tipo das __tuplas__. Como uma lista, uma tupla consiste em uma sequência ordenada de objetos de tipos possivelmente distintos, separados por vírgulas. Também como para listas, os tipos dos elementos contidos em uma tupla são completamente arbitrários e a formação de tuplas goza da propriedade de fechamento, permitindo-nos criar tuplas de tuplas, etc.\n",
    "\n",
    "Tuplas são delimitadas por _parênteses_ `()` em vez de colchetes. A razão de ser das tuplas é que elas são __imutáveis__, de modo que, como strings mas diferentemente de listas, seus elementos individuais _não podem_ ser modificados. Tentar fazê-lo gerará um `TypeError`.\n",
    "\n",
    "__Exemplo:__"
   ]
  },
  {
   "cell_type": "code",
   "execution_count": null,
   "metadata": {},
   "outputs": [],
   "source": [
    "t = (8, 'Ana', 23.49, [1, 2, 3])\n",
    "print(t, type(t))"
   ]
  },
  {
   "cell_type": "markdown",
   "metadata": {},
   "source": [
    "📝 Na verdade, os parênteses delimitadores não são estritamente necessários para definir uma tupla. Em vez disso, é a presença de vírgulas `,` que faz uma sequência de valores ser uma tupla. No entanto, geralmente é uma boa ideia incluí-los como delimitadores para clareza, especialmente em expressões mais complexas."
   ]
  },
  {
   "cell_type": "code",
   "execution_count": null,
   "metadata": {},
   "outputs": [],
   "source": [
    "numeros = 1, 2, 3  # <--- Isto é uma tupla!\n",
    "print(numeros, type(numeros))\n",
    "\n",
    "unico = 1,  # <--- Isto também é uma tupla! A vírgula é necessária para distingui-la do número 1\n",
    "print(unico, type(unico))"
   ]
  },
  {
   "cell_type": "code",
   "execution_count": null,
   "metadata": {},
   "outputs": [],
   "source": [
    "tupla_vazia1 = ()       # Esta é a tupla vazia\n",
    "tupla_vazia2 = tuple()  # Outra maneira de instanciar a tupla vazia\n",
    "\n",
    "print(tupla_vazia1, type(tupla_vazia1))\n",
    "print(tupla_vazia1 == tupla_vazia2)"
   ]
  },
  {
   "cell_type": "code",
   "execution_count": null,
   "metadata": {},
   "outputs": [],
   "source": [
    "# A linha seguinte resultará em um erro de sintaxe, em vez da tupla vazia:\n",
    "nao_e_tupla = ,  # A vírgula por si só não define uma tupla. Parênteses são necessários aqui."
   ]
  },
  {
   "cell_type": "markdown",
   "metadata": {},
   "source": [
    "### $ 2.2 $ Operações em tuplas\n",
    "\n",
    "Como para os outros tipos sequenciais que consideramos (strings e listas), tuplas podem ser concatenadas com `+`, seus comprimentos podem ser calculados usando `len`, e podemos acessar seus elementos e fatiá-los usando `[]` e `[:]`.\n",
    "\n",
    "__Exercício:__ A tupla na célula de código abaixo registra alguns dados sobre um cientista famoso. Descreva a saída e o efeito das seguintes declarações:\n",
    "\n",
    "(a) `registro[0]`\n",
    "\n",
    "(b) `registro[2]`\n",
    "\n",
    "(c) `registro[-1]`\n",
    "\n",
    "(d) `registro[:]`\n",
    "\n",
    "(e) `len(registro)`\n",
    "\n",
    "(f) `registro + registro`\n",
    "\n",
    "(g) `registro *= 2`\n",
    "\n",
    "(h) `registro[4] = 'Estados Unidos'`\n",
    "\n",
    "(i) `print(registro[0], registro[1])`"
   ]
  },
  {
   "cell_type": "code",
   "execution_count": null,
   "metadata": {},
   "outputs": [],
   "source": [
    "registro = ('Albert', 'Einstein', 'físico', 26, 'Alemanha')"
   ]
  },
  {
   "cell_type": "markdown",
   "metadata": {},
   "source": [
    "Para converter uma tupla em uma lista, use `list` como uma função. Similarmente, para converter uma lista em uma tupla, aplique `tuple` a ela.\n",
    "\n",
    "__Exemplo:__"
   ]
  },
  {
   "cell_type": "code",
   "execution_count": null,
   "metadata": {},
   "outputs": [],
   "source": [
    "cientista = ('Marie', 'Curie', 'química', 32, 'Polônia')\n",
    "dados = list(cientista)\n",
    "print(dados, type(dados))"
   ]
  },
  {
   "cell_type": "markdown",
   "metadata": {},
   "source": [
    "### $ 2.3 $ Alguns avisos\n",
    "\n",
    "⚠️ Para definir uma tupla consistindo de um único item, uma vírgula ainda deve ser usada, para que a tupla possa ser diferenciada de uma expressão entre parênteses:"
   ]
  },
  {
   "cell_type": "code",
   "execution_count": null,
   "metadata": {},
   "outputs": [],
   "source": [
    "idioma = ('Sindarin', )         # Para definir uma tupla não vazia, devemos incluir uma vírgula!\n",
    "print(idioma, type(idioma))\n",
    "\n",
    "ling = ('Sindarin')               # Isto não é uma tupla, mas sim uma string;\n",
    "print(ling, type(ling))           # os parênteses não têm papel neste caso."
   ]
  },
  {
   "cell_type": "markdown",
   "metadata": {},
   "source": [
    "<div class=\"alert alert-warning\"> Mesmo se $ x $ e $ y $ são duas tuplas ou listas de mesmo comprimento e cujos itens são do mesmo tipo numérico, <code>x + y</code> _não_ é obtido somando seus respectivos elementos; é, em vez disso, a _concatenação_ de $ x $ e $ y $. Similarmente, se $ a $ é um escalar, então <code>a * x</code> não é o resultado obtido multiplicando cada item de $ x $ por $ a $, mesmo se $ a $ é um inteiro. </div>\n",
    "\n",
    "⚠️ Nem listas nem tuplas são estruturas de dados adequadas para representar _vetores_ no sentido da álgebra linear. O tipo mais adequado para esta tarefa é um `ndarray` (abreviação de _array $n$-dimensional_), fornecido pelo módulo [__NumPy__](https://scipy.github.io/old-wiki/pages/Numpy_Example_List.html), que consideraremos mais tarde.\n",
    "\n",
    "## $ \\S 3 $ Outros tipos de dados iteráveis comuns\n",
    "\n",
    "Embora não os discutiremos em detalhe, Python também fornece alguns outros tipos de dados iteráveis além de strings, listas e tuplas. Os dois mais importantes e úteis são __conjuntos__ (tipo: `set`), que se comportam muito como conjuntos na matemática, e __dicionários__ (tipo: `dict`), que consistem em pares chave-valor e são também chamados de _tabelas hash_ ou _arrays associativos_ em outras linguagens de programação. Tanto conjuntos quanto dicionários são _mutáveis_, isto é, seus conteúdos podem ser modificados.\n",
    "\n",
    "### $ 3.1 $ Conjuntos\n",
    "\n",
    "Para criar um conjunto, podemos listar seus elementos separados por vírgulas e entre chaves `{ }`.\n",
    "\n",
    "__Exemplo:__"
   ]
  },
  {
   "cell_type": "code",
   "execution_count": 18,
   "metadata": {},
   "outputs": [
    {
     "name": "stdout",
     "output_type": "stream",
     "text": [
      "{1, 2, 3} <class 'set'>\n"
     ]
    }
   ],
   "source": [
    "um_dois_tres = {1, 2, 3}\n",
    "print(um_dois_tres, type(um_dois_tres))"
   ]
  },
  {
   "cell_type": "code",
   "execution_count": 19,
   "metadata": {},
   "outputs": [
    {
     "name": "stdout",
     "output_type": "stream",
     "text": [
      "True\n"
     ]
    }
   ],
   "source": [
    "# Em conjuntos, repetições não importam. Portanto, um_dois_tres == conjunto_2 se\n",
    "conjunto_2 = {1, 2, 2, 3, 3, 3, 3, 3}\n",
    "print(um_dois_tres == conjunto_2)"
   ]
  },
  {
   "cell_type": "code",
   "execution_count": 20,
   "metadata": {},
   "outputs": [
    {
     "name": "stdout",
     "output_type": "stream",
     "text": [
      "True\n"
     ]
    }
   ],
   "source": [
    "# Similarmente, em conjuntos a ordem em que os elementos são listados é irrelevante:\n",
    "conjunto_3 = {3, 2, 1}\n",
    "print(um_dois_tres == conjunto_3)"
   ]
  },
  {
   "cell_type": "markdown",
   "metadata": {},
   "source": [
    "Aqui estão os principais métodos associados a conjuntos, com `a` e `b` denotando conjuntos arbitrários:\n",
    "\n",
    "| Sintaxe do método         | Sintaxe equivalente | Descrição                                                         |\n",
    "|-------------------------:|:-------------------:|:------------------------------------------------------------------|\n",
    "| `conjunto.add(elem)`      |        N/A         | adiciona um elemento ao conjunto.                                  |\n",
    "| `conjunto.remove(elem)`   |        N/A         | remove um elemento do conjunto.                                    |\n",
    "| `conjunto.discard(elem)`  |        N/A         | remove um elemento do conjunto se ele for um membro.               |\n",
    "| `conjunto.pop()`         |        N/A         | remove e retorna um elemento arbitrário do conjunto.               |\n",
    "| `a.isdisjoint(b)`       |        N/A         | retorna `True` se `a` não tem elementos em comum com `b`.          |\n",
    "| `a.issubset(b)`         |      `a <= b`      | retorna `True` se todos os elementos de `a` estão em `b`.          |\n",
    "| `a.issuperset(b)`       |      `a >= b`      | retorna `True` se todos os elementos de `b` estão em `a`.          |\n",
    "| `a.union(b)`            |      `a \\| b`       | retorna um novo conjunto com elementos que estão em `a` ou em `b`.  |\n",
    "| `a.intersection(b)`     |      `a & b`       | retorna um novo conjunto com elementos comuns a `a` e `b`.          |\n",
    "| `a.difference(b)`       |      `a - b`       | retorna um novo conjunto com elementos em `a` que não estão em `b`. |\n",
    "| `a.symmetric_difference(b)` |    `a ^ b`     | retorna um novo conjunto com elementos em `a` ou em `b`, mas não em ambos. |\n",
    "\n",
    "__Exercício:__ Seja $ A = \\{1, 2, 3, 4, 5\\} $ e $ B = \\{-3, -1, 1, 3, 5, 7\\} $. Usando Python, calcule:\n",
    "* A união $ A\\cup B $;\n",
    "* A interseção $ A \\cap B $;\n",
    "* As diferenças $ A \\smallsetminus B $ e $ B \\smallsetminus A $;\n",
    "* A diferença simétrica $ A \\,{\\Delta}\\, B = \\big(A \\smallsetminus B\\big) \\cup \\big(B \\smallsetminus A\\big) $;\n",
    "* O número de elementos em cada conjunto (usando a função `len`)."
   ]
  },
  {
   "cell_type": "code",
   "execution_count": null,
   "metadata": {},
   "outputs": [],
   "source": []
  },
  {
   "cell_type": "markdown",
   "metadata": {},
   "source": [
    "### $ 3.2 $ Dicionários\n",
    "\n",
    "Dicionários permitem criar um objeto iterável cujos valores não precisam ser referenciados pelos inteiros $ 0,\\,1,\\,2,\\, \\dots $, como é o caso para listas e tuplas. Em vez disso, pode-se usar __chaves__ de qualquer tipo imutável como índices. Isso permite uma manipulação de dados mais flexível e intuitiva. Note, entretanto, que dicionários e conjuntos usam mais memória do que listas ou tuplas.\n",
    "\n",
    "__Exemplo:__ Para criar um dicionário, listamos pares chave-valor na forma `<chave>: <valor>` dentro de chaves e separados por vírgulas. Os valores podem ser de qualquer tipo, enquanto as chaves podem ser de qualquer tipo _imutável_. Aqui está um exemplo:"
   ]
  },
  {
   "cell_type": "code",
   "execution_count": 21,
   "metadata": {},
   "outputs": [
    {
     "name": "stdout",
     "output_type": "stream",
     "text": [
      "{'nome': 'Bilbo Baggins', 'idade': 23, 'raça': 'Hobbit', 'altura': 110.3, 'email': 'bilbo@hobbitmail.com', 'amigos': ['Frodo', 'Pippin']}\n",
      "<class 'dict'>\n"
     ]
    }
   ],
   "source": [
    "info = {\"nome\": \"Bilbo Baggins\",\n",
    "        \"idade\": 23,\n",
    "        \"raça\": \"Hobbit\",\n",
    "        \"altura\": 110.3,\n",
    "        \"email\": \"bilbo@hobbitmail.com\",\n",
    "        \"amigos\": [\"Frodo\", \"Pippin\"]}\n",
    "\n",
    "print(info)\n",
    "print(type(info))"
   ]
  },
  {
   "cell_type": "markdown",
   "metadata": {},
   "source": [
    "Podemos acessar os valores armazenados em um dicionário referindo-se à chave correspondente dentro de colchetes:"
   ]
  },
  {
   "cell_type": "code",
   "execution_count": 22,
   "metadata": {},
   "outputs": [
    {
     "name": "stdout",
     "output_type": "stream",
     "text": [
      "Bilbo Baggins\n",
      "['Frodo', 'Pippin']\n"
     ]
    }
   ],
   "source": [
    "print(info[\"nome\"])\n",
    "print(info[\"amigos\"])"
   ]
  },
  {
   "cell_type": "markdown",
   "metadata": {},
   "source": [
    "## ⚡ $ \\S 4 $ Objetos mutáveis e imutáveis\n",
    "\n",
    "Se listas e tuplas são tão similares, pode não estar claro por que Python fornece ambos os tipos de dados. De fato, tecnicamente poderíamos sempre nos virar usando apenas um deles. No entanto, a versatilidade tem algumas vantagens.\n",
    "\n",
    "Em alguns casos, um objeto no mundo real pode ser mais adequadamente concebido como tendo uma identidade que é completamente determinada por suas partes. Por exemplo, pensamos em um número racional como $ 2 / 3 $ como um par de inteiros (seu numerador e denominador); se mudarmos o denominador para $ 5 $, o resultado é uma fração diferente.\n",
    "\n",
    "Em outros casos, entretanto, é melhor pensar na identidade de um objeto como sendo algo distinto da mera totalidade de suas peças. Por exemplo, é mais adequado pensar na conta bancária de alguém como sendo o mesmo objeto de um dia para o outro, mesmo que o endereço do cliente, saldo ou até mesmo seu nome legal possam ter mudado nesse meio tempo.\n",
    "\n",
    "Até que ponto um objeto mantém sua identidade após ser modificado? Esta é uma questão filosófica difícil que _a priori_ não tem nada a ver com programação, embora afete muito como podemos escolher representar um dado objeto em Python."
   ]
  },
  {
   "cell_type": "markdown",
   "metadata": {},
   "source": [
    "### $ 4.1 $ Definições e exemplos\n",
    "\n",
    "Um objeto em Python é chamado __mutável__ se seu estado ou conteúdo pode ser alterado após ser criado; caso contrário, é chamado __imutável__.\n",
    "* Strings, inteiros, números de ponto flutuante e tuplas são todos _imutáveis_.\n",
    "* Exemplos de objetos _mutáveis_ incluem listas, dicionários e conjuntos.\n",
    "\n",
    "🚫 Como uma tupla é _imutável_, uma tentativa de modificar um ou mais de seus elementos por uma atribuição resulta em um `TypeError`:"
   ]
  },
  {
   "cell_type": "code",
   "execution_count": null,
   "metadata": {},
   "outputs": [],
   "source": [
    "coordenadas = (1.2, 5.6)\n",
    "coordenadas[0] = 3.4"
   ]
  },
  {
   "cell_type": "code",
   "execution_count": null,
   "metadata": {},
   "outputs": [],
   "source": [
    "# Uma lista é um objeto mutável:\n",
    "uma_lista = [1, 2, 3]\n",
    "\n",
    "# Portanto, modificar um elemento da lista é permitido:\n",
    "uma_lista[0] = 47\n",
    "print(uma_lista)    # Saída: [47, 2, 3]"
   ]
  },
  {
   "cell_type": "markdown",
   "metadata": {},
   "source": [
    "### $ 4.2 $ Entendendo atribuições de objetos mutáveis e imutáveis\n",
    "\n",
    "Quando vinculamos uma variável a um objeto, à primeira vista o comportamento da atribuição pode parecer diferente dependendo se o objeto é mutável ou imutável. Para dissipar qualquer confusão, é útil pensar na atribuição em termos de __ponteiros__ ou __referências__ a objetos. Quando um objeto é atribuído a uma variável, esta variável não se torna _identificada_ com o objeto; em vez disso, é apenas um _ponteiro_ para a localização de memória que armazena o objeto. Portanto, se reatribuirmos outro objeto ao identificador `x`, esta variável agora se referirá a uma nova localização de memória contendo o novo objeto:"
   ]
  },
  {
   "cell_type": "code",
   "execution_count": null,
   "metadata": {},
   "outputs": [],
   "source": [
    "x = 12         # x aponta para a localização de memória contendo o inteiro 12.\n",
    "y = x          # y aponta para a mesma localização de memória que x\n",
    "print(x, y)\n",
    "# Apesar do uso do sinal de igual, y não é igual a x. Eles\n",
    "# são dois identificadores distintos que atualmente _referem-se_ ao mesmo objeto.\n",
    "\n",
    "x = 34         # x agora aponta para uma _nova_ localização de memória, contendo o inteiro 34.\n",
    "print(x, y)    # Entretanto, y ainda aponta para a localização de memória contendo 12."
   ]
  },
  {
   "cell_type": "markdown",
   "metadata": {},
   "source": [
    "Neste caso, as declarações de atribuição criam duas referências ao objeto imutável `12`, e a reatribuição de `x` muda seu ponto de referência para um novo objeto, `34`. A mesma descrição também vale quando os objetos envolvidos são mutáveis:"
   ]
  },
  {
   "cell_type": "code",
   "execution_count": null,
   "metadata": {},
   "outputs": [],
   "source": [
    "x = [1, 2]     # x aponta para a localização contendo uma lista contendo 1 e 2.\n",
    "y = x          # y refere-se à mesma localização de memória (objeto lista) que x.\n",
    "print(x, y)\n",
    "\n",
    "x = [3, 4]     # x agora aponta para uma _nova_ localização de memória contendo outra lista.\n",
    "print(x, y)    # Entretanto, y ainda aponta para a localização de memória original."
   ]
  },
  {
   "cell_type": "markdown",
   "metadata": {},
   "source": [
    "Finalmente, considere o seguinte exemplo:"
   ]
  },
  {
   "cell_type": "code",
   "execution_count": null,
   "metadata": {},
   "outputs": [],
   "source": [
    "x = [1, 2]\n",
    "y = x\n",
    "print(x, y)\n",
    "\n",
    "x[0] = 34      # O objeto lista naquela localização é _modificado_ para [34, 2].\n",
    "print(x, y)    # Tanto x quanto y ainda apontam para o mesmo objeto."
   ]
  },
  {
   "cell_type": "markdown",
   "metadata": {},
   "source": [
    "Usando nosso modelo mental, o último resultado não deveria ser uma surpresa. Novamente, `x` não deve ser pensado como _coincidindo_ com o objeto ao qual foi atribuído (a lista `[1, 2]`); em vez disso, é apenas uma _referência_ a ele. Se modificarmos o próprio objeto através de `x` como na quinta linha, sua localização na memória não muda. Portanto, quando acessamos esse objeto novamente através da referência `y`, a modificação será mostrada, como esperado.\n",
    "\n",
    "📝 Para criar uma cópia independente de uma string ou lista, podemos usar uma fatia completa do objeto.\n",
    "\n",
    "__Exemplo:__"
   ]
  },
  {
   "cell_type": "code",
   "execution_count": null,
   "metadata": {},
   "outputs": [],
   "source": [
    "x = [0, 1, 2]\n",
    "y = x[:]         # y aponta para uma cópia independente, armazenada em outro endereço de memória.\n",
    "\n",
    "x.pop()\n",
    "print(x)\n",
    "print(y)        # Note que y não foi afetado pela modificação de x."
   ]
  },
  {
   "cell_type": "markdown",
   "metadata": {},
   "source": [
    "A imutabilidade de uma tupla significa que uma vez que uma tupla é criada, a própria tupla não pode ser alterada. Isso inclui adicionar/remover elementos e mudar a identidade de qualquer elemento dentro da tupla. Entretanto, se uma tupla contém objetos mutáveis (como listas), o _estado_ desses objetos mutáveis pode ser alterado, mesmo que a própria tupla não possa ser modificada diretamente. Considere o seguinte exemplo:"
   ]
  },
  {
   "cell_type": "code",
   "execution_count": null,
   "metadata": {},
   "outputs": [],
   "source": [
    "minha_tupla = (1, 2, [30, 40])\n",
    "minha_tupla[2].append(50)  # Anexa 50 à lista [30, 40]\n",
    "# Isso é permitido porque estamos modificando a lista mutável, não a própria tupla.\n",
    "print(minha_tupla)"
   ]
  },
  {
   "cell_type": "code",
   "execution_count": null,
   "metadata": {},
   "outputs": [],
   "source": [
    "# Tentar mudar (a identidade de) um elemento diretamente\n",
    "# através de atribuição, entretanto, resulta em um erro:\n",
    "minha_tupla[2] = [30, 40, 50]"
   ]
  }
 ],
 "metadata": {
  "kernelspec": {
   "display_name": "Python 3",
   "language": "python",
   "name": "python3"
  },
  "language_info": {
   "codemirror_mode": {
    "name": "ipython",
    "version": 3
   },
   "file_extension": ".py",
   "mimetype": "text/x-python",
   "name": "python",
   "nbconvert_exporter": "python",
   "pygments_lexer": "ipython3",
   "version": "3.12.3"
  }
 },
 "nbformat": 4,
 "nbformat_minor": 2
}
