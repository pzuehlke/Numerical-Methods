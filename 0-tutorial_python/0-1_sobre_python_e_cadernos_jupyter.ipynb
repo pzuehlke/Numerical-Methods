{
 "cells": [
  {
   "attachments": {},
   "cell_type": "markdown",
   "metadata": {},
   "source": [
    "# Sobre Python e cadernos Jupyter"
   ]
  },
  {
   "attachments": {},
   "cell_type": "markdown",
   "metadata": {},
   "source": [
    "## $ \\S 1 $ Sobre Python\n",
    "[__Python__](https://www.python.org/) é uma linguagem de programação de alto nível, de propósito geral e\n",
    "moderna, originalmente desenvolvida por [Guido van\n",
    "Rossum](https://en.wikipedia.org/wiki/Guido_van_Rossum) a partir de 1989.\n",
    "Python é, em sua essência, uma linguagem de [programação orientada a\n",
    "objetos](https://en.wikipedia.org/wiki/Object-oriented_programming) (_POO_).\n",
    "No entanto, também suporta os principais elementos dos paradigmas de [programação\n",
    "funcional](https://en.wikipedia.org/wiki/Functional_programming) e\n",
    "[programação imperativa](https://en.wikipedia.org/wiki/Imperative_programming).\n",
    "\n",
    "Em contraste com algumas outras linguagens amplamente utilizadas como C, Java ou Fortran,\n",
    "Python é uma linguagem __interpretada__, o que significa que seus scripts não são\n",
    "compilados, mas sim executados por um interpretador. Um __interpretador__ é um programa\n",
    "que lê e interpreta diretamente cada instrução linha por linha no código\n",
    "fonte e a executa imediatamente. Em contraste, um __compilador__ pega o código como\n",
    "um todo e converte tudo em linguagem assembly ou de máquina para produzir um\n",
    "arquivo executável independente.\n",
    "\n",
    "A principal vantagem das linguagens interpretadas é que elas facilitam a depuração\n",
    "e testes, uma vez que é desnecessário recompilar, vincular e executar o código\n",
    "fonte após cada modificação. Por outro lado, programas escritos em linguagens interpretadas\n",
    "tendem a ter um tempo de execução muito mais lento do que seus equivalentes compilados,\n",
    "às vezes por um fator de dez ou mais, porque ao olhar para\n",
    "o código inteiro de uma vez, um compilador pode otimizar ou simplificar várias operações.\n",
    "\n",
    "As principais características do Python que o tornam adequado para ensinar e aprender\n",
    "sobre programação são:\n",
    "\n",
    "✅ Python é um software _gratuito_ e de _código aberto_;  \n",
    "✅ Sua sintaxe é especialmente simples e natural, o que o torna \n",
    "fácil de aprender;  \n",
    "✅ Python é uma das linguagens mais populares atualmente, empregada em uma ampla\n",
    "variedade de aplicações, desde scripts básicos de TI até aprendizado de máquina;  \n",
    "✅ Existe uma vasta coleção de bibliotecas que estendem a linguagem;  \n",
    "✅ Python abstrai muitos detalhes de baixo nível, tornando mais fácil focar nos\n",
    "problemas que precisam ser resolvidos em vez de em detalhes técnicos.\n"
   ]
  },
  {
   "attachments": {},
   "cell_type": "markdown",
   "metadata": {},
   "source": [
    "## $ \\S 2 $ Obtendo e instalando Python <a name=\"S2\"></a>\n",
    "\n",
    "\n",
    "Não é _necessário_ instalar nenhum software para\n",
    "poder criar, editar e executar código Python, pois tudo isso pode ser feito online\n",
    "gratuitamente, como será explicado em [$ \\S 5 $](#S5). No entanto, provavelmente é mais\n",
    "conveniente instalar o Python localmente em sua máquina.\n",
    "\n",
    "A versão atual do Python, __[Python 3](https://www.python.org/)__, está\n",
    "disponível para todos os principais sistemas operacionais. Por favor, siga estas [instruções de\n",
    "instalação](https://realpython.com/installing-python/).\n",
    "\n",
    "Uma alternativa é [instalar](https://docs.anaconda.com/anaconda/install/)\n",
    "a plataforma de distribuição __[Anaconda](https://www.anaconda.com/products/distribution)__\n",
    "para Python. Ela inclui em um único pacote uma versão atualizada do\n",
    "Python além de várias bibliotecas e pacotes úteis, notavelmente:\n",
    "* [__NumPy__](https://numpy.org/), uma biblioteca cuja funcionalidade principal é a\n",
    "  implementação de uma estrutura de dados chamada _ndarray_ (array $ n $-dimensional),\n",
    "  que pode ser usada para representar vetores e matrizes, entre outros. Também\n",
    "  fornece uma ampla variedade de funções para lidar com esses objetos.\n",
    "* [__SciPy__](https://scipy.org/), uma biblioteca especializada para computação\n",
    "  científica. Inclui implementações de algoritmos eficientes para a\n",
    "  solução numérica de problemas matemáticos comuns e mais especializados\n",
    "  que ocorrem em ciência e engenharia.\n",
    "* [__Matplotlib__](https://matplotlib.org), uma biblioteca de visualização de dados que\n",
    "  facilita a criação de gráficos, imagens, animações e plots de todos os tipos.\n",
    "* Ferramentas do [__Jupyter__](https://jupyter.org/) para computação interativa,\n",
    "  discutidas em $ \\S 4 $–$ 6 $.\n"
   ]
  },
  {
   "attachments": {},
   "cell_type": "markdown",
   "metadata": {},
   "source": [
    "## $ \\S 3 $ Links para guias\n",
    "\n",
    "No curso, aprenderemos uma quantidade substancial da sintaxe e construções básicas\n",
    "do Python. No entanto, cobriremos apenas um conjunto limitado de recursos das\n",
    "bibliotecas mencionadas em $ \\S 2 $. Estes serão introduzidos conforme necessário ao longo\n",
    "do curso, principalmente na forma de exemplos. Em todo caso, você pode achar as\n",
    "seguintes referências úteis no futuro se quiser se aprofundar mais:\n",
    "\n",
    "* O [guia de estilo PEP8](https://pep8.org/) para código Python.\n",
    "* Um [guia para iniciantes](https://numpy.org/doc/stable/user/absolute_beginners.html) sobre os fundamentos do **Numpy**.\n",
    "* Uma [galeria de exemplos](https://matplotlib.org/stable/gallery/index.html) para **Matplotlib**.\n",
    "* Algumas [folhas de referência rápida](https://github.com/matplotlib/cheatsheets#cheatsheets) do **Matplotlib**.\n",
    "* Um [guia de início rápido](https://jupyter-caderno-beginner-guide.readthedocs.io/en/latest/) para cadernos **Jupyter**."
   ]
  },
  {
   "attachments": {},
   "cell_type": "markdown",
   "metadata": {},
   "source": [
    "## $ \\S 4 $ Cadernos Jupyter\n",
    "O arquivo que você está lendo é um [__caderno\n",
    "Jupyter__](https://docs.jupyter.org/en/latest/start/index.html),\n",
    "um documento interativo que pode conter tanto código Python quanto texto legível por humanos.\n",
    "A extensão de arquivo para cadernos Jupyter (Python) é __.ipynb__. \n",
    "\n",
    "O conteúdo de um caderno é organizado como uma lista ordenada de __células__, que\n",
    "podem ser de dois tipos:\n",
    "\n",
    "* __Células Markdown__, como a que contém esta frase, são principalmente\n",
    "  usadas para exibir texto. No entanto, também podem conter fórmulas matemáticas\n",
    "  ($ \\LaTeX $ é suportado), tabelas, imagens, animações e até aplicações interativas.\n",
    "  Elas são formatadas usando a sintaxe Markdown; __Markdown__ é uma linguagem de\n",
    "  _marcação_ muito simples (HTML e $ \\LaTeX $ são dois outros exemplos).\n",
    "* __Células de código__ (também conhecidas como __células Python__), como a imediatamente abaixo,\n",
    "  contêm código Python e são distinguidas por sua cor de fundo e\n",
    "  fonte de largura fixa. Cada célula pode ser editada, executada e interagida pelo usuário\n",
    "  como se fosse um script independente. O resultado, ou __saída__, da\n",
    "  computação é mostrado imediatamente abaixo da célula de código, e não pode ser modificado\n",
    "  exceto fazendo mudanças na célula de código correspondente e executando-a novamente."
   ]
  },
  {
   "cell_type": "code",
   "execution_count": null,
   "metadata": {},
   "outputs": [],
   "source": [
    "print(\"Clique nesta célula e pressione `Shift` + `Enter` para executar este código.\")"
   ]
  },
  {
   "cell_type": "code",
   "execution_count": null,
   "metadata": {},
   "outputs": [],
   "source": [
    "print(\"Olá\", \"mundo!\", \"Estou\", \"aprendendo\", \"Python\")\n",
    "print(\"Podemos delimitar strings por aspas simples ou duplas\")"
   ]
  },
  {
   "cell_type": "code",
   "execution_count": null,
   "metadata": {},
   "outputs": [],
   "source": [
    "\"Esta é a saída da célula de código imediatamente acima.\""
   ]
  },
  {
   "attachments": {},
   "cell_type": "markdown",
   "metadata": {},
   "source": [
    "## $ \\S 5 $ Criando, editando e interagindo com cadernos Jupyter <a name=\"S5\"></a>\n",
    "\n",
    "Para poder criar, editar e interagir com cadernos Jupyter\n",
    "em vez de apenas lê-los, existem duas alternativas principais.\n",
    "1. _Você pode instalar a [__plataforma Jupyter__](https://jupyter.org/) em seu\n",
    "   computador_ seja:\n",
    "   * Através de um gerenciador de pacotes como\n",
    "     [__pip__](https://pip.pypa.io/en/stable/) (as instruções de instalação podem ser\n",
    "     encontradas [aqui](https://jupyter.org/install)).\n",
    "   * Instalando a distribuição [__Anaconda__](https://www.anaconda.com/products/distribution)\n",
    "     mencionada em [$ \\S 2 $](#S2), que contém a plataforma Jupyter como\n",
    "     um de seus muitos pacotes.\n",
    "2. _Você pode executar um ambiente Jupyter baseado na web em seu navegador (na nuvem)_.\n",
    "   Três sites que fornecem este serviço gratuitamente são:\n",
    "    * A aplicação web original [__Jupyter Lab__](https://jupyter.org/try-jupyter/lab/?path=cadernos%2FIntro.ipynb)\n",
    "      para a plataforma Jupyter. Esta opção não requer uma\n",
    "      conta. Após seguir o link, basta clicar em File → New Launcher → Python\n",
    "      Notebook na barra de menu para começar a editar um novo caderno.\n",
    "    * [__CoCalc__](https://cocalc.com/auth/try). O CoCalc também não requer uma\n",
    "      conta a ser criada. Após seguir o link, clique em \"Use CoCalc Anonymously\".\n",
    "    * [__Google Colab__](https://colab.research.google.com/). Isso requer uma conta\n",
    "      Google e você deve estar conectado para usar o serviço. Clique no botão\n",
    "      azul \"Sign in\" no canto superior direito.\n",
    "\n",
    "  Qualquer um desses sites fornece uma maneira de salvar seu trabalho quando você\n",
    "  terminar, seja na nuvem ou localmente, baixando o caderno. No caso\n",
    "  do Colab, os cadernos que você edita são automaticamente armazenados no Google\n",
    "  Drive.\n",
    "    \n",
    "📝 Observe que se você usar um editor baseado na nuvem, _você não precisa instalar nenhum\n",
    "dos softwares mencionados acima em sua máquina_, nem mesmo o interpretador Python\n",
    "em si. Por essa razão, esta será nossa opção preferida."
   ]
  },
  {
   "attachments": {},
   "cell_type": "markdown",
   "metadata": {},
   "source": [
    "## $ \\S 6 $ Editando e interagindo com cadernos Jupyter\n",
    "\n",
    "Assumindo que você seguiu uma das sugestões em [$ \\S 5 $](#S5),\n",
    "tente editar e brincar com a célula abaixo. \n",
    "\n",
    "📝 Para _inserir uma nova linha_ abaixo da atual em uma célula de código, use `Enter`\n",
    "(também conhecido como `Return`). Para _executar_ todo o conteúdo da célula através do\n",
    "interpretador, use `Shift + Enter`."
   ]
  },
  {
   "cell_type": "code",
   "execution_count": null,
   "metadata": {},
   "outputs": [],
   "source": [
    "print(\"Somos propensos a superestimar o quanto entendemos sobre o mundo.\")"
   ]
  },
  {
   "cell_type": "code",
   "execution_count": null,
   "metadata": {},
   "outputs": [],
   "source": [
    "print(\"E a subestimar o papel do acaso nos eventos.\")"
   ]
  },
  {
   "cell_type": "markdown",
   "metadata": {},
   "source": [
    "📝 Para abrir uma nova célula de código _abaixo_ de uma determinada célula, primeiro selecione a última clicando na\n",
    "região à sua esquerda, depois pressione `b`. Para abrir uma célula _acima_ da célula selecionada\n",
    "em vez disso, digite `a`."
   ]
  },
  {
   "attachments": {},
   "cell_type": "markdown",
   "metadata": {},
   "source": [
    "📝 Em Python, o sinal de __sustenido__ __#__ é usado para introduzir um __comentário__.\n",
    "Comentários são ignorados pelo interpretador e podem ser usados para tornar um pedaço de código\n",
    "mais legível ou para esclarecer sua intenção ou operação."
   ]
  },
  {
   "cell_type": "code",
   "execution_count": null,
   "metadata": {},
   "outputs": [],
   "source": [
    "pi = 3.14159      # Definindo uma variável chamada pi e associando um valor a ela.\n",
    "r = 10            # Note que não é necessário especificar seu tipo.\n",
    "area = pi * r**2  # '*' denota multiplicação, '**' denota exponenciação.\n",
    "print(area)       # Imprime o valor da variável chamada 'area'."
   ]
  },
  {
   "cell_type": "code",
   "execution_count": null,
   "metadata": {},
   "outputs": [],
   "source": [
    "# Se apenas digitarmos o nome de uma variável, seu valor é retornado como saída:\n",
    "area"
   ]
  },
  {
   "attachments": {},
   "cell_type": "markdown",
   "metadata": {},
   "source": [
    "📝 Dependendo de qual aplicação você está usando, você pode estar vendo as tags\n",
    "`In` e `Out` à esquerda da célula anterior. A primeira tag significa\n",
    "__entrada__ (ou conteúdo) da célula e a última sua __saída__ (ou\n",
    "resultado). Esta saída é automaticamente armazenada em uma variável chamada `_n`, onde $ n\n",
    "$ é o número mostrado dentro dos colchetes `[ ]`. Assim, pode ser convenientemente\n",
    "referida e usada em outras células. Da mesma forma, `_` por si só contém o valor de saída\n",
    "da célula que foi executada mais recentemente. Por exemplo:"
   ]
  },
  {
   "cell_type": "code",
   "execution_count": null,
   "metadata": {},
   "outputs": [],
   "source": [
    "print(_ / 10)    # '/' é o operador de divisão."
   ]
  },
  {
   "cell_type": "code",
   "execution_count": null,
   "metadata": {},
   "outputs": [],
   "source": [
    "# Como mencionado antes, podemos imprimir o valor de uma variável da seguinte forma:\n",
    "print(r)"
   ]
  },
  {
   "cell_type": "code",
   "execution_count": null,
   "metadata": {},
   "outputs": [],
   "source": [
    "# O mesmo comando pode ser usado para imprimir o valor de qualquer expressão:\n",
    "print(2 * pi * r)"
   ]
  },
  {
   "cell_type": "code",
   "execution_count": null,
   "metadata": {},
   "outputs": [],
   "source": [
    "# Também podemos usar um formato especial para imprimir o valor de uma variável ou\n",
    "# expressão no meio de uma string da seguinte maneira:\n",
    "print(f\"A circunferência de um círculo de raio r = {r} é {2 * pi * r} .\")"
   ]
  },
  {
   "attachments": {},
   "cell_type": "markdown",
   "metadata": {},
   "source": [
    "Observe o `f` (de '**format**') imediatamente antes das aspas duplas de abertura. Isso\n",
    "indica ao interpretador que ele deve _avaliar_ qualquer expressão que esteja\n",
    "entre chaves. Se for omitido, cada caractere entre aspas duplas é\n",
    "interpretado literalmente:"
   ]
  },
  {
   "cell_type": "code",
   "execution_count": null,
   "metadata": {},
   "outputs": [],
   "source": [
    "print(\"A circunferência de um círculo de raio r = {r} é {2 * pi * r} .\")"
   ]
  },
  {
   "attachments": {},
   "cell_type": "markdown",
   "metadata": {},
   "source": [
    "📝 Para evitar ambiguidade, o valor armazenado em `_n` _permanecerá o mesmo a menos que\n",
    "toda saída seja explicitamente limpa_. O contador $ n $ é incrementado em $ 1 $\n",
    "cada vez que o código dentro de alguma célula é executado. Em particular, se uma célula for executada\n",
    "várias vezes, sua saída será armazenada em várias variáveis desse tipo.\n",
    "\n",
    "Como uma última dica, anexar `?` ao nome de uma palavra-chave instrui o Python a\n",
    "nos fornecer mais informações sobre ela. "
   ]
  },
  {
   "cell_type": "code",
   "execution_count": null,
   "metadata": {},
   "outputs": [],
   "source": [
    "print?"
   ]
  },
  {
   "cell_type": "markdown",
   "metadata": {},
   "source": [
    "Não se preocupe se você não entender o que a maior parte disso significa. Embora esta\n",
    "descrição seja bastante complicada, o ponto principal é que `print` é uma função embutida\n",
    "em Python que pode receber qualquer número de argumentos (`...`). Além disso, nós\n",
    "podemos mudar o separador entre argumentos do seu espaço em branco padrão (`sep='\n",
    "'`) e a nova linha padrão impressa após cada chamada (`end='\\n'`) se desejarmos.\n",
    "Por exemplo:"
   ]
  },
  {
   "cell_type": "code",
   "execution_count": null,
   "metadata": {},
   "outputs": [],
   "source": [
    "print(\"The\", \"Player\", \"of\", \"Games\", sep='_', end='\\n\\n\\n')\n",
    "print(\"Agora os argumentos são separados por underscores (sublinhados)\"\n",
    "      \"e são seguidos por três novas linhas.\")"
   ]
  },
  {
   "cell_type": "markdown",
   "metadata": {},
   "source": [
    "No próximo caderno, aprenderemos muito mais sobre variáveis, tipos e valores\n",
    "em Python, incluindo os tipos numéricos e operações que foram usados\n",
    "informalmente acima."
   ]
  }
 ],
 "metadata": {
  "kernelspec": {
   "display_name": "base",
   "language": "python",
   "name": "python3"
  },
  "language_info": {
   "codemirror_mode": {
    "name": "ipython",
    "version": 3
   },
   "file_extension": ".py",
   "mimetype": "text/x-python",
   "name": "python",
   "nbconvert_exporter": "python",
   "pygments_lexer": "ipython3",
   "version": "3.12.4"
  },
  "orig_nbformat": 4
 },
 "nbformat": 4,
 "nbformat_minor": 2
}
