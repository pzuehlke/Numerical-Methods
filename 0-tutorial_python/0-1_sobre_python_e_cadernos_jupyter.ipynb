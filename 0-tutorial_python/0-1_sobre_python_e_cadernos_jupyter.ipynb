{
 "cells": [
  {
   "cell_type": "markdown",
   "metadata": {},
   "source": [
    "# Sobre Python e notebooks Jupyter\n",
    "\n",
    "## § 1 Sobre Python\n",
    "O [__Python__](https://www.python.org/) é uma linguagem de programação moderna, de alto nível e de propósito geral, originalmente desenvolvida por [Guido van Rossum](https://en.wikipedia.org/wiki/Guido_van_Rossum) a partir de 1989. Python é, em sua essência, uma linguagem de [programação orientada a objetos](https://en.wikipedia.org/wiki/Object-oriented_programming) (_POO_). No entanto, também suporta os principais elementos dos paradigmas de [programação funcional](https://en.wikipedia.org/wiki/Functional_programming) e [programação imperativa](https://en.wikipedia.org/wiki/Imperative_programming).\n",
    "\n",
    "Em contraste com outras linguagens amplamente utilizadas como C, Java ou Fortran, Python é uma linguagem __interpretada__, o que significa que seus scripts não são compilados, mas sim executados por um interpretador. Um __interpretador__ é um programa que lê e interpreta diretamente cada instrução linha por linha no código-fonte e a executa imediatamente. Em contraste, um __compilador__ pega o código como um todo e converte todo ele em linguagem assembly ou de máquina para produzir um arquivo executável independente.\n",
    "\n",
    "A principal vantagem das linguagens interpretadas é que elas facilitam a depuração e os testes, já que não é necessário recompilar, vincular e executar o código-fonte após cada modificação. Por outro lado, programas escritos em linguagens interpretadas tendem a ter um tempo de execução muito mais lento que seus equivalentes compilados, às vezes por um fator de dez ou mais, porque ao olhar o código inteiro de uma vez, um compilador pode otimizar ou simplificar várias operações.\n",
    "\n",
    "As principais características do Python que o tornam adequado para ensinar e aprender sobre programação são:\n",
    "\n",
    "✅ Python é software _livre_ e de _código aberto_;  \n",
    "✅ Sua sintaxe é especialmente simples e natural, o que o torna fácil de aprender;  \n",
    "✅ Python é uma das linguagens mais populares hoje, empregada em uma ampla variedade de aplicações, desde scripts básicos de TI até aprendizado de máquina;  \n",
    "✅ Existe uma vasta coleção de bibliotecas que estendem a linguagem;  \n",
    "✅ Python abstrai muitos detalhes de baixo nível, tornando mais fácil focar nos problemas que precisam ser resolvidos em vez de em detalhes técnicos.\n",
    "\n",
    "## § 2 Obtendo e instalando Python\n",
    "\n",
    "Não é _necessário_ instalar nenhum software para poder criar, editar e executar código Python, já que tudo isso pode ser feito online gratuitamente, como será explicado no § 5. No entanto, provavelmente é mais conveniente instalar Python localmente em sua máquina.\n",
    "\n",
    "A versão atual do Python, __[Python 3](https://www.python.org/)__, está disponível para todos os principais sistemas operacionais. Por favor, siga estas [instruções de instalação](https://realpython.com/installing-python/).\n",
    "\n",
    "Uma alternativa é [instalar](https://docs.anaconda.com/anaconda/install/) a plataforma de distribuição __[Anaconda](https://www.anaconda.com/products/distribution)__ para Python. Ela inclui em um único pacote uma versão atualizada do Python além de várias bibliotecas e pacotes úteis, notadamente:\n",
    "* [__NumPy__](https://numpy.org/), uma biblioteca cuja funcionalidade principal é a implementação de uma estrutura de dados chamada _ndarray_ (array n-dimensional), que pode ser usada para representar vetores e matrizes, entre outros. Também fornece uma ampla variedade de funções para lidar com esses objetos.\n",
    "* [__SciPy__](https://scipy.org/), uma biblioteca especializada para computação científica. Inclui implementações de algoritmos eficientes para a solução numérica de problemas matemáticos tanto comuns quanto mais especializados que ocorrem em ciência e engenharia.\n",
    "* [__Matplotlib__](https://matplotlib.org), uma biblioteca de visualização de dados que facilita a criação de gráficos, imagens, animações e plots de todos os tipos.\n",
    "* As ferramentas do [__Jupyter__](https://jupyter.org/) para computação interativa, discutidas nos § 4–6.\n",
    "\n",
    "## § 3 Links para guias\n",
    "\n",
    "No curso, aprenderemos sobre uma quantidade substancial da sintaxe e construções básicas do Python. No entanto, cobriremos apenas um conjunto limitado de recursos das bibliotecas mencionadas no § 2. Estas serão introduzidas conforme necessário ao longo do curso, principalmente na forma de exemplos. De qualquer forma, você pode achar as seguintes referências úteis no futuro se quiser se aprofundar:\n",
    "\n",
    "* O [guia de estilo PEP8](https://pep8.org/) para código Python.\n",
    "* Um [guia para iniciantes](https://numpy.org/doc/stable/user/absolute_beginners.html) sobre o básico do **Numpy**.\n",
    "* Uma [galeria de exemplos](https://matplotlib.org/stable/gallery/index.html) para **Matplotlib**.\n",
    "* Algumas [folhas de dicas](https://github.com/matplotlib/cheatsheets#cheatsheets) do **Matplotlib**.\n",
    "* Um [guia rápido](https://jupyter-notebook-beginner-guide.readthedocs.io/en/latest/) para notebooks **Jupyter**.\n",
    "\n",
    "## § 4 Notebooks Jupyter\n",
    "O arquivo que você está lendo é um [__notebook Jupyter__](https://docs.jupyter.org/en/latest/start/index.html), um documento interativo que pode conter tanto código Python quanto texto legível por humanos. A extensão de arquivo para notebooks Jupyter (Python) é __.ipynb__.\n",
    "\n",
    "O conteúdo de um notebook é organizado como uma lista ordenada de __células__, que podem ser de dois tipos:\n",
    "\n",
    "* __Células Markdown__, como a que contém esta frase, são usadas principalmente para exibir texto. No entanto, também podem conter fórmulas matemáticas ($ \\LaTeX $ é suportado), tabelas, imagens, animações e até aplicativos interativos. Elas são formatadas usando a sintaxe Markdown; __Markdown__ é uma _linguagem de marcação_ muito simples (HTML e $ \\LaTeX $ são dois outros exemplos).\n",
    "* __Células de código__ (também conhecidas como __células Python__), como a imediatamente abaixo, contêm código Python e são distinguidas por sua cor de fundo e fonte de largura fixa. Cada célula pode ser editada, executada e interagida pelo usuário como se fosse um script independente. O resultado, ou __saída__, da computação é mostrado imediatamente abaixo da célula de código, e não pode ser modificado exceto fazendo alterações na célula de código correspondente e executando-a novamente."
   ]
  },
  {
   "cell_type": "code",
   "execution_count": 2,
   "metadata": {},
   "outputs": [
    {
     "name": "stdout",
     "output_type": "stream",
     "text": [
      "Clique nesta célula e pressione `Shift` + `Enter` para executar este código.\n"
     ]
    }
   ],
   "source": [
    "print(\"Clique nesta célula e pressione `Shift` + `Enter` para executar este código.\")"
   ]
  },
  {
   "cell_type": "code",
   "execution_count": 3,
   "metadata": {},
   "outputs": [
    {
     "name": "stdout",
     "output_type": "stream",
     "text": [
      "Olá mundo! Estou aprendendo Python\n",
      "Podemos delimitar strings com aspas simples ou duplas\n"
     ]
    }
   ],
   "source": [
    "print(\"Olá mundo! Estou aprendendo Python\")\n",
    "print('Podemos delimitar strings com aspas simples ou duplas')"
   ]
  },
  {
   "cell_type": "code",
   "execution_count": 4,
   "metadata": {},
   "outputs": [
    {
     "data": {
      "text/plain": [
       "'Esta é a saída da célula de código imediatamente acima.'"
      ]
     },
     "execution_count": 4,
     "metadata": {},
     "output_type": "execute_result"
    }
   ],
   "source": [
    "'Esta é a saída da célula de código imediatamente acima.'"
   ]
  },
  {
   "cell_type": "markdown",
   "metadata": {},
   "source": [
    "## § 5 Criando, editando e interagindo com notebooks Jupyter\n",
    "\n",
    "Para poder criar, editar e interagir com notebooks Jupyter em vez de apenas lê-los, existem duas alternativas principais.\n",
    "1. _Você pode instalar a [__plataforma Jupyter__](https://jupyter.org/) em seu computador_ seja:\n",
    "   * Através de um gerenciador de pacotes como [__pip__](https://pip.pypa.io/en/stable/) (as instruções de instalação podem ser encontradas [aqui](https://jupyter.org/install)).\n",
    "   * Instalando a distribuição [__Anaconda__](https://www.anaconda.com/products/distribution) mencionada no § 2, que contém a plataforma Jupyter como um de seus muitos pacotes.\n",
    "2. _Você pode executar um ambiente Jupyter baseado na web em seu navegador (na nuvem)_. Três sites que fornecem este serviço gratuitamente são:\n",
    "    * A aplicação web original [__Jupyter Lab__](https://jupyter.org/try-jupyter/lab/?path=notebooks%2FIntro.ipynb) para a plataforma Jupyter. Esta opção não requer uma conta. Após seguir o link, basta clicar em File → New Launcher → Python Notebook na barra de menu para começar a editar um novo notebook.\n",
    "    * [__CoCalc__](https://cocalc.com/auth/try). CoCalc também não requer a criação de uma conta. Após seguir o link, clique em \"Use CoCalc Anonymously\".\n",
    "    * [__Google Colab__](https://colab.research.google.com/). Isto requer uma conta Google e você deve estar conectado para usar o serviço. Clique no botão azul \"Sign in\" no canto superior direito.\n",
    "\n",
    "  Qualquer um destes sites fornece uma maneira de salvar seu trabalho quando terminar, seja na nuvem ou localmente, baixando o notebook. No caso do Colab, os notebooks que você edita são automaticamente armazenados no Google Drive.\n",
    "    \n",
    "📝 Note que se você usar um editor baseado na nuvem, _você não precisa instalar nenhum dos softwares mencionados acima em sua máquina_, nem mesmo o interpretador Python. Por esta razão, esta será nossa opção preferida.\n",
    "\n",
    "## § 6 Editando e interagindo com notebooks Jupyter\n",
    "\n",
    "Assumindo que você seguiu uma das sugestões no § 5, tente editar e brincar com a célula abaixo.\n",
    "\n",
    "📝 Para _inserir uma nova linha_ abaixo da linha atual em uma célula de código, use `Enter` (também conhecido como `Return`). Para _executar_ todo o conteúdo da célula através do interpretador, use `Shift + Enter`."
   ]
  },
  {
   "cell_type": "code",
   "execution_count": null,
   "metadata": {},
   "outputs": [],
   "source": [
    "print(\"Somos propensos a superestimar o quanto entendemos sobre o mundo.\")"
   ]
  },
  {
   "cell_type": "code",
   "execution_count": null,
   "metadata": {},
   "outputs": [],
   "source": [
    "print(\"E a subestimar o papel do acaso nos eventos.\")"
   ]
  },
  {
   "cell_type": "code",
   "execution_count": null,
   "metadata": {},
   "outputs": [],
   "source": [
    "pi = 3.14159      # Definindo uma variável chamada pi e associando um valor a ela.\n",
    "r = 10            # Note que não é necessário especificar seu tipo.\n",
    "area = pi * r**2  # '*' denota multiplicação, '**' denota exponenciação.\n",
    "print(area)       # Imprime o valor da variável chamada 'area'."
   ]
  },
  {
   "cell_type": "code",
   "execution_count": null,
   "metadata": {},
   "outputs": [],
   "source": [
    "# Se digitarmos apenas o nome de uma variável, seu valor é retornado como saída:\n",
    "area"
   ]
  },
  {
   "cell_type": "markdown",
   "metadata": {},
   "source": [
    "📝 Para abrir uma nova célula de código _abaixo_ de uma determinada célula, primeiro selecione a última clicando na região à sua esquerda, então pressione `b`. Para abrir uma célula _acima_ da célula selecionada, digite `a`.\n",
    "\n",
    "📝 Em Python, o sinal de __cerquilha__ `#` é usado para introduzir um __comentário__. Comentários são ignorados pelo interpretador e podem ser usados para tornar um trecho de código mais legível ou para esclarecer sua intenção ou operação.\n",
    "\n",
    "📝 Dependendo de qual aplicativo você está usando, você pode estar vendo as tags `In` e `Out` à esquerda da célula anterior. A primeira tag significa __entrada__ (ou conteúdo) da célula e a última significa __saída__ (ou resultado). Esta saída é automaticamente armazenada em uma variável chamada `_n`, onde n é o número mostrado entre colchetes `[ ]`. Assim, pode ser convenientemente referenciada e usada em outras células. Da mesma forma, `_` por si só contém o valor de saída da célula que foi executada mais recentemente. Por exemplo:"
   ]
  },
  {
   "cell_type": "code",
   "execution_count": null,
   "metadata": {},
   "outputs": [],
   "source": [
    "print(_ / 10)    # '/' é o operador de divisão."
   ]
  },
  {
   "cell_type": "code",
   "execution_count": null,
   "metadata": {},
   "outputs": [],
   "source": [
    "# Como mencionado antes, podemos imprimir o valor de uma variável da seguinte forma:\n",
    "print(r)"
   ]
  },
  {
   "cell_type": "code",
   "execution_count": null,
   "metadata": {},
   "outputs": [],
   "source": [
    "# O mesmo comando pode ser usado para imprimir o valor de qualquer expressão:\n",
    "print(2 * pi * r)"
   ]
  },
  {
   "cell_type": "code",
   "execution_count": null,
   "metadata": {},
   "outputs": [],
   "source": [
    "# Também podemos usar um formato especial para imprimir o valor de uma variável ou\n",
    "# expressão no meio de uma string da seguinte forma:\n",
    "print(f\"A circunferência de um círculo de raio r = {r} é {2 * pi * r} .\")"
   ]
  },
  {
   "cell_type": "markdown",
   "metadata": {},
   "source": [
    "Note o `f` (de '**format**') imediatamente antes das aspas duplas de abertura. Ele indica ao interpretador que deve _avaliar_ qualquer expressão que esteja entre chaves. Se for omitido, cada caractere entre aspas duplas é interpretado literalmente:"
   ]
  },
  {
   "cell_type": "code",
   "execution_count": null,
   "metadata": {},
   "outputs": [],
   "source": [
    "print(\"A circunferência de um círculo de raio r = {r} é {2 * pi * r} .\")"
   ]
  },
  {
   "cell_type": "markdown",
   "metadata": {},
   "source": [
    "📝 Para evitar ambiguidade, o valor armazenado em `_n` _permanecerá o mesmo a menos que todas as saídas sejam explicitamente limpas_. O contador n é incrementado em 1 cada vez que o código dentro de alguma célula é executado. Em particular, se uma célula for executada várias vezes, sua saída será armazenada em várias variáveis deste tipo.\n",
    "\n",
    "Como última dica, adicionar `?` ao nome de uma palavra-chave instrui o Python a nos fornecer mais informações sobre ela."
   ]
  },
  {
   "cell_type": "code",
   "execution_count": null,
   "metadata": {},
   "outputs": [],
   "source": [
    "print?"
   ]
  },
  {
   "cell_type": "markdown",
   "metadata": {},
   "source": [
    "Não se preocupe se você não conseguir entender a maior parte disso. Embora esta descrição seja bastante complicada, o ponto principal é que `print` é uma função embutida em Python que pode receber qualquer número de argumentos (`...`). Além disso, podemos mudar o separador entre argumentos de seu espaço em branco padrão (`sep=' '`) e a nova linha padrão impressa após cada chamada (`end='\\n'`) se desejarmos. Por exemplo:\n"
   ]
  },
  {
   "cell_type": "code",
   "execution_count": null,
   "metadata": {},
   "outputs": [],
   "source": [
    "print(\"O\", \"Jogador\", \"Das\", \"Estrelas\", sep='', end='\\n\\n\\n')\n",
    "print(\"Agora os argumentos não têm separação e são seguidos por três novas linhas.\")"
   ]
  },
  {
   "cell_type": "markdown",
   "metadata": {},
   "source": [
    "No próximo notebook, aprenderemos muito mais sobre variáveis, tipos e valores em Python, incluindo os tipos numéricos e operações que foram usados informalmente acima."
   ]
  }
 ],
 "metadata": {
  "kernelspec": {
   "display_name": "Python 3",
   "language": "python",
   "name": "python3"
  },
  "language_info": {
   "codemirror_mode": {
    "name": "ipython",
    "version": 3
   },
   "file_extension": ".py",
   "mimetype": "text/x-python",
   "name": "python",
   "nbconvert_exporter": "python",
   "pygments_lexer": "ipython3",
   "version": "3.12.3"
  }
 },
 "nbformat": 4,
 "nbformat_minor": 2
}
