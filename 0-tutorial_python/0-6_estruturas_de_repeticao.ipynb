{
 "cells": [
  {
   "cell_type": "markdown",
   "metadata": {},
   "source": [
    "# Estruturas de repetição (`for` e `while`)\n",
    "\n",
    "## $ \\S 1 $ Laços `for`\n",
    "\n",
    "Uma das tarefas mais comuns tratadas no contexto da programação é a de realizar automaticamente ações similares múltiplas vezes. Construções que permitem a solução deste problema são chamadas de __laços__.\n",
    "\n",
    "As iterações em um laço são frequentemente realizadas percorrendo os elementos de uma lista, tupla ou string em ordem. No entanto, qualquer objeto capaz de retornar seus membros um por vez pode ser usado; tal objeto é dito __iterável__.\n",
    "\n",
    "Por exemplo, pode-se querer considerar separadamente cada número entre $ 1 $ e $ 1\\,000\\,000 $ e testar se é primo, realizando uma ação (como adicioná-lo a uma lista de primos) caso seja. Como outro exemplo, um banco pode precisar percorrer diariamente seu registro de clientes e enviar uma mensagem de aviso àqueles clientes cujo saldo ficou negativo no dia anterior.\n",
    "\n",
    "Para percorrer todos os elementos de um objeto iterável, Python fornece a palavra-chave `for`. Aqui está a sintaxe geral de um laço `for`:"
   ]
  },
  {
   "cell_type": "code",
   "execution_count": null,
   "metadata": {},
   "outputs": [],
   "source": [
    "for <variavel> in <iteravel>:\n",
    "    # código a ser executado \n",
    "    # em cada iteração\n",
    "    # do laço for\n",
    "# código a ser executado após\n",
    "# o laço for ser encerrado"
   ]
  },
  {
   "cell_type": "markdown",
   "metadata": {},
   "source": [
    "__Exemplo:__"
   ]
  },
  {
   "cell_type": "code",
   "execution_count": null,
   "metadata": {},
   "outputs": [],
   "source": [
    "word = \"Recursao\"\n",
    "letters = []\n",
    "\n",
    "for letter in word:\n",
    "    print(f\"A letra '{letter}' aparece na palavra '{word}'.\")\n",
    "    letters.append(letter)\n",
    "\n",
    "print(\"\\nA lista de todas as letras desta palavra é:\")\n",
    "print(letters)"
   ]
  },
  {
   "cell_type": "markdown",
   "metadata": {},
   "source": [
    "Mais formalmente:\n",
    "\n",
    "* A linha contendo a palavra-chave `for` especifica o nome da variável (_letter_, no exemplo anterior) que irá armazenar cada elemento do iterável (_word_) por vez. Em particular, note como o valor desta variável muda dependendo do passo da iteração.\n",
    "* Dois pontos `:` terminam a primeira linha.\n",
    "* O __bloco-for__ começa na primeira linha indentada após os dois pontos e termina logo antes da primeira linha cujo nível de indentação é o mesmo da declaração for. Cada linha no bloco-for é executada exatamente uma vez para cada iteração.\n",
    "\n",
    "**Exemplo (um laço `for` com uma declaração `if` aninhada):**"
   ]
  },
  {
   "cell_type": "code",
   "execution_count": null,
   "metadata": {},
   "outputs": [],
   "source": [
    "# A seguinte é uma lista de tuplas. Cada tupla fornece uma representação\n",
    "# simplificada dos dados de um cliente e consiste em seu nome\n",
    "# e saldo atual.\n",
    "\n",
    "list_of_clients = [('Alice', 103.45),\n",
    "                   ('Bob', -23.29),\n",
    "                   ('Charlotte', 681.00),\n",
    "                   ('Donald', -19729375.49),\n",
    "                   ('Edward', 0.00),\n",
    "                   ('Frodo', 4846.10)]\n",
    "clients_in_debt = []     # Esta lista irá armazenar os registros de clientes em débito.\n",
    "\n",
    "for record in list_of_clients:\n",
    "    # O primeiro (não o 0º!) item do registro atual é atribuído a balance.\n",
    "    balance = record[1]  \n",
    "    if balance < 0:\n",
    "        print(f\"Aviso, {record[0]}. Seu saldo está negativo:\"\n",
    "              f\"$ -{abs(balance)}\")\n",
    "        clients_in_debt.append(record)\n",
    "   \n",
    "print(\"\\nClientes atualmente em débito:\")\n",
    "print(clients_in_debt)"
   ]
  },
  {
   "cell_type": "markdown",
   "metadata": {},
   "source": [
    "__Exercício:__ Escreva um script que solicite ao usuário algum texto e imprima o número total de vogais no texto. _Dica:_ Use um laço `for` para iterar sobre o texto e uma variável que armazene o número de vogais vistas até o momento."
   ]
  },
  {
   "cell_type": "code",
   "execution_count": null,
   "metadata": {},
   "outputs": [],
   "source": []
  },
  {
   "cell_type": "markdown",
   "metadata": {},
   "source": [
    "__Exercício:__ Dada a lista de números na célula de código abaixo, escreva um script que retorne uma nova lista contendo apenas os números nela que são divisíveis por $ 3 $ ou $ 5 $.\n",
    "\n",
    "(a) Usando uma compreensão de lista.\n",
    "\n",
    "(b) Usando um laço `for`. _Dica:_ Crie uma lista vazia para armazenar os números que têm esta propriedade e então `append` cada elemento com esta propriedade à lista conforme for encontrado."
   ]
  },
  {
   "cell_type": "code",
   "execution_count": 2,
   "metadata": {},
   "outputs": [],
   "source": [
    "ns = [-28, 17, 1, 0, -17, -5, 0, -6, 15, 28, 22, 24, 5, -6, 22, 14, 9, 2, -5]"
   ]
  },
  {
   "cell_type": "markdown",
   "metadata": {},
   "source": [
    "__Exercício:__ Determine todos os números quadrados entre $ 1 $ e $ 10\\,000 $ que são divisíveis por $ 7 $ mas não por $ 3 $.\n",
    "\n",
    "(a) Usando uma compreensão de lista.\n",
    "\n",
    "(b) Usando um laço `for`."
   ]
  },
  {
   "cell_type": "code",
   "execution_count": null,
   "metadata": {},
   "outputs": [],
   "source": []
  },
  {
   "cell_type": "markdown",
   "metadata": {},
   "source": [
    "__Exercício:__ Para cada número $ n $ entre $ 10 $ e $ 20 $, imprima todos os divisores positivos de $ n $. Cada linha deve consistir de todos os divisores de um único valor de $ n $. _Dica:_ Use dois laços `for` aninhados."
   ]
  },
  {
   "cell_type": "code",
   "execution_count": null,
   "metadata": {},
   "outputs": [],
   "source": []
  },
  {
   "cell_type": "markdown",
   "metadata": {},
   "source": [
    "## $ \\S 2 $ Usando `for` com `range`\n",
    "\n",
    "Laços `for` frequentemente envolvem iterar sobre uma coleção de números produzida usando a função `range` discutida no notebook anterior. Lembre-se que `range(i, j, step)` produz um objeto iterável consistindo dos inteiros de $ i $ (_inclusive_) até $ j $ (_exclusive_) avançando em passos de tamanho _step_.\n",
    "\n",
    "__Exemplo:__"
   ]
  },
  {
   "cell_type": "code",
   "execution_count": null,
   "metadata": {},
   "outputs": [],
   "source": [
    "for n in range(0, 12, 3):\n",
    "   print(n)"
   ]
  },
  {
   "cell_type": "markdown",
   "metadata": {},
   "source": [
    "📝 Na notação acima, apenas o índice $ j $ é um argumento obrigatório; os outros dois ($ i $ e _step_) são opcionais:\n",
    "* O valor padrão do número inicial é $ 0 $.\n",
    "* O valor padrão do tamanho do passo é $ 1 $.\n",
    "\n",
    "__Exercício:__ Escreva um script que solicite ao usuário um inteiro positivo $ n $ e, se $ n $ for positivo, retorne o fatorial\n",
    "$$\n",
    "n! = n \\times (n - 1) \\times \\cdots \\times 2 \\times 1\\,. $$"
   ]
  },
  {
   "cell_type": "code",
   "execution_count": null,
   "metadata": {},
   "outputs": [],
   "source": []
  },
  {
   "cell_type": "markdown",
   "metadata": {},
   "source": [
    "__Exercício:__ Imprima a tabela de multiplicação abaixo\n",
    "\n",
    "$$\n",
    "\\begin{array}{rrrrrrrrrr}\n",
    "   1 & 2 & 3 & 4 & 5 & 6 & 7 & 8 & 9 \\\\\n",
    "   2 & 4 & 6 & 8 & 10 & 12 & 14 & 16 & 18 \\\\\n",
    "   3 & 6 & 9 & 12 & 15 & 18 & 21 & 24 & 27 \\\\\n",
    "   4 & 8 & 12 & 16 & 20 & 24 & 28 & 32 & 36 \\\\\n",
    "   5 & 10 & 15 & 20 & 25 & 30 & 35 & 40 & 45 \\\\\n",
    "   6 & 12 & 18 & 24 & 30 & 36 & 42 & 48 & 54 \\\\\n",
    "   7 & 14 & 21 & 28 & 35 & 42 & 49 & 56 & 63 \\\\\n",
    "   8 & 16 & 24 & 32 & 40 & 48 & 56 & 64 & 72 \\\\\n",
    "   9 & 18 & 27 & 36 & 45 & 54 & 63 & 72 & 81\n",
    "\\end{array}\n",
    "$$\n",
    "_Dica:_ Use dois laços `for` aninhados para alcançar isso. Você pode usar\n",
    "`print(\"texto\", end=\"\")` para impedir que a função `print` inicie\n",
    "automaticamente uma nova linha.\n"
   ]
  },
  {
   "cell_type": "code",
   "execution_count": null,
   "metadata": {},
   "outputs": [],
   "source": []
  },
  {
   "cell_type": "markdown",
   "metadata": {},
   "source": [
    "## $ \\S 3 $ `break` e `continue`\n",
    "\n",
    "### $ 3.1 $ `break`\n",
    "\n",
    "Um laço `for` irá iterar sobre seu bloco de código exatamente uma vez para cada elemento do iterável correspondente. No entanto, às vezes é desejável pular o resto de um laço, ou seja, terminá-lo prematuramente. Isso pode ser alcançado com o comando `break`.\n",
    "\n",
    "__Exemplo:__ Encontre o $ 100 $-ésimo inteiro positivo que é divisível por $ 3 $, $ 5 $ ou $ 7 $."
   ]
  },
  {
   "cell_type": "code",
   "execution_count": null,
   "metadata": {},
   "outputs": [],
   "source": [
    "solution_count = 0\n",
    "\n",
    "# Precisamos apenas verificar até que a 100ª solução seja encontrada.\n",
    "for n in range(500):\n",
    "   if n % 3 == 0 or n % 5 == 0 or n % 7 == 0:\n",
    "       solution_count += 1\n",
    "       if solution_count == 100:\n",
    "           print(n)\n",
    "           # A 100ª solução foi encontrada, então podemos terminar o laço:\n",
    "           break"
   ]
  },
  {
   "cell_type": "markdown",
   "metadata": {},
   "source": [
    "📝 Note como no exemplo anterior temos um bloco-if dentro de outro bloco-if dentro de um bloco-for. Este tipo de aninhamento múltiplo surge com bastante frequência. Python permite tanto aninhamento quanto necessário.\n",
    "\n",
    "⚠️ É recomendado que declarações `break` sejam usadas apenas com moderação. Por mudarem abruptamente o fluxo de controle do programa, na maioria das vezes (embora nem sempre) elas tornam o código mais difícil de entender.\n",
    "\n",
    "__Exercício:__ Suponha que listamos todos os números racionais da forma $ \\frac{n}{d} $ onde $ 1 \\le n < d $ em ordem de $ n $ crescente, para cada $ d = 2,\\,3,\\, 4,\\, \\dots $ em sequência: $ \\frac{1}{2} $, $ \\frac{1}{3} $, $\\frac{2}{3} $, $ \\frac{1}{4} $, $ \\frac{2}{4} $, $ \\frac{3}{4} $, $ \\dots $. Encontre a soma das primeiras $ 100 $ dessas frações. Repetições como $ 1 / 2 = 2 / 4 $ devem ser incluídas na soma. _Dica:_ Use dois laços `for` aninhados, o mais externo iterando sobre os denominadores $ d $ e o mais interno iterando sobre os numeradores $ n $. Use um contador para armazenar o número de frações vistas até agora. Use uma variável flag para sair dos dois laços `for` simultaneamente."
   ]
  },
  {
   "cell_type": "code",
   "execution_count": null,
   "metadata": {},
   "outputs": [],
   "source": []
  },
  {
   "cell_type": "markdown",
   "metadata": {},
   "source": [
    "### $ 3.2 $ `continue`\n",
    "\n",
    "Em vez de terminar o laço prematuramente, podemos também pular o resto do código no bloco do laço _apenas para a iteração atual_ usando `continue`.\n",
    "\n",
    "__Exemplo:__ Podemos usar um laço `for` junto com `continue` para contar o número de consoantes de um texto."
   ]
  },
  {
   "cell_type": "code",
   "execution_count": null,
   "metadata": {},
   "outputs": [],
   "source": [
    "consonant_count = 0\n",
    "# Vamos testar em vez disso se as letras no texto não são\n",
    "# vogais. Assuma que o texto consiste apenas de letras e espaços.\n",
    "vowels = \"AEIOUaeiou \"\n",
    "# Note o espaço no final da string.\n",
    "\n",
    "for letter in \"esta string consiste de algumas palavras aleatorias\":\n",
    "   if letter in vowels:\n",
    "       continue\n",
    "   consonant_count += 1\n",
    "       \n",
    "print(consonant_count)"
   ]
  },
  {
   "cell_type": "markdown",
   "metadata": {},
   "source": [
    "__Exercício:__ Reescreva o script anterior para que `continue` não seja usado."
   ]
  },
  {
   "cell_type": "code",
   "execution_count": null,
   "metadata": {},
   "outputs": [],
   "source": []
  },
  {
   "cell_type": "markdown",
   "metadata": {},
   "source": [
    "📝 É sempre possível evitar o uso de `continue`, e geralmente isso pode ser alcançado através de uma simples modificação do código. Sua maior utilidade é melhorar a legibilidade na seguinte situação: Suponha que dentro de um laço `for`, queremos verificar várias condições e executar um bloco de código apenas quando nenhuma delas é satisfeita. Então podemos testar cada condição separadamente, e usar `continue` sempre que uma delas passar em vez de ter múltiplos blocos-if aninhados. Nesses casos, `continue` também produziria melhor desempenho.\n",
    "\n",
    "__Exemplo__: Encontre todos os números entre $ 100 $ e $ 999 $ que são pares, palíndromos e cujo dígito do meio é maior que $ 7 $. (Uma string é _palíndroma_ se é a mesma quando lida de trás para frente.)"
   ]
  },
  {
   "cell_type": "code",
   "execution_count": null,
   "metadata": {},
   "outputs": [],
   "source": [
    "# Armazene os limites inferior e superior do intervalo em duas variáveis.\n",
    "# O sublinhado no valor de b melhora a legibilidade,\n",
    "# mas é ignorado pelo interpretador:\n",
    "a = 100\n",
    "b = 1_000\n",
    "\n",
    "solutions = []\n",
    "for n in range(a, b):         # Para cada número entre 100 e 999 (não 1000!):\n",
    "   if n % 2 != 0:            # Verifique se n é ímpar.\n",
    "       continue\n",
    "   str_n = str(n)            # Converta n em uma string.\n",
    "   if str_n != str_n[::-1]:  # Verifique se str_n não é palíndromo.\n",
    "       continue\n",
    "   if int(str_n[1]) <= 7:    # Verifique se o dígito do meio é <= 7.\n",
    "       continue\n",
    "   solutions.append(n)       # Se este ponto foi alcançado, n é uma solução.\n",
    "   \n",
    "print(solutions)"
   ]
  },
  {
   "cell_type": "markdown",
   "metadata": {},
   "source": [
    "__Exercício:__ Em um exercício anterior, foi pedido para calcular a soma das primeiras $ 100 $ frações racionais da forma $ \\frac{n}{d} $ com $ 1 \\le n < d $, onde estas frações são listadas em ordem de $ d \\ge 2 $ crescente e, para cada $ d $, em ordem de $ n $ crescente. Resolva o mesmo problema mas _sem_ permitir repetições, por exemplo, já que $ \\frac{2}{4} = \\frac{1}{2} $, $ \\frac{2}{4} $ _não_ deve ser incluída na soma. _Dica:_ Começando com uma lista vazia, armazene os valores das frações $ \\frac{n}{d} $ vistas até agora. Se o valor atual já foi visto, pule-o usando `continue`."
   ]
  },
  {
   "cell_type": "code",
   "execution_count": null,
   "metadata": {},
   "outputs": [],
   "source": []
  },
  {
   "cell_type": "markdown",
   "metadata": {},
   "source": [
    "__Exercício:__ Um número de Fibonacci é um termo da sequência\n",
    "$$\n",
    "0,\\, 1,\\, 1,\\, 2,\\, 3,\\, 5,\\, 8,\\, 13,\\, 21,\\, 34,\\, 55,\\, 89,\\, 144,\\, 233,\\, \\cdots\\,,\n",
    "$$\n",
    "isto é, a sequência $ (x_n) $ tal que $ x_0 = 0 $, $ x_1 = 1 $ e $ x_{n} = x_{n - 1} + x_{n - 2} $ para todo $ n \\ge 2 $. Usando `for`, calcule:\n",
    "\n",
    "(a) O valor de $ x_{30} $.\n",
    "\n",
    "(b) Os últimos três dígitos de $ x_{5000} $.\n",
    "_Dica:_ Como apenas os últimos três dígitos importam, você pode calcular os restos de $ x_n $ módulo $ 1\\,000 $ em vez do próprio $ x_n $."
   ]
  },
  {
   "cell_type": "code",
   "execution_count": null,
   "metadata": {},
   "outputs": [],
   "source": []
  },
  {
   "cell_type": "markdown",
   "metadata": {},
   "source": [
    "__Exercício (campo minado):__\n",
    "\n",
    "(a) Escreva um programa para gerar uma matriz booleana $ m \\times n $ (lista de listas) onde a probabilidade de que qualquer célula contenha uma bomba é $ p $. Use a função `rand` para produzir um número aleatório uniformemente distribuído no intervalo $ [0, 1) $.\n",
    "\n",
    "(b) Exiba esta matriz representando bombas com `*` (asterisco) e células seguras com `.` (ponto).\n",
    "$$\n",
    "\\begin{array}{ccccc}\n",
    "* & . & * & . & . \\\\\n",
    ". & * & . & . & . \\\\\n",
    "* & . & . & * & . \\\\\n",
    "\\end{array}\n",
    "$$\n",
    "\n",
    "(c) Crie uma matriz inteira $ 2D $ (lista de listas) que conte o número de bombas vizinhas para cada célula (considerando todas as $ 8 $ direções possíveis). Você precisará tratar as células na borda da grade com mais cuidado.\n",
    "\n",
    "$$\n",
    "\\begin{array}{ccccc}\n",
    "1 & 2 & 1 & 1 & 0 \\\\\n",
    "2 & 3 & 2 & 2 & 1 \\\\\n",
    "1 & 1 & 1 & 1 & 1 \\\\\n",
    "\\end{array}\n",
    "$$"
   ]
  },
  {
   "cell_type": "code",
   "execution_count": null,
   "metadata": {},
   "outputs": [],
   "source": [
    "from numpy.random import rand\n",
    "\n",
    "# Para gerar True com probabilidade p, verifique se rand() < p.\n",
    "print(rand())"
   ]
  },
  {
   "cell_type": "markdown",
   "metadata": {},
   "source": [
    "## $ \\S 4 $ Laços `while`\n",
    "\n",
    "Um laço `for` pega um objeto iterável (como uma lista, uma tupla ou uma string) e executa um bloco de código uma vez para cada elemento deste objeto. Um laço `while`, em contraste, executa repetidamente um bloco de código enquanto uma dada expressão condicional for `True`. A sintaxe é a seguinte:"
   ]
  },
  {
   "cell_type": "code",
   "execution_count": null,
   "metadata": {},
   "outputs": [],
   "source": [
    "while <expressao_booleana>:\n",
    "   # código a ser executado\n",
    "   # em cada iteração\n",
    "# código a ser executado\n",
    "# após o laço while."
   ]
  },
  {
   "cell_type": "markdown",
   "metadata": {},
   "source": [
    "Aqui `<expressao_booleana>` consiste de qualquer expressão que avalia para `True` ou `False`. Note os dois pontos `:` obrigatórios no final da primeira linha, que indicam o início do bloco-while. Enquanto esta expressão booleana avaliar para `True`, as declarações dentro do bloco-while são executadas pelo interpretador. Após cada iteração, a expressão booleana é reavaliada. Assim que o teste condicional avaliar para `False`, o bloco-while é pulado e a execução continua na próxima linha que tem o mesmo nível de indentação da declaração while.\n",
    "\n",
    "__Exemplo (jogo de adivinhação)__: Escreva um script que escolhe aleatoriamente um inteiro entre $ 1 $ e $ 10 $ e pede ao usuário para tentar adivinhá-lo, até que ela acerte. Uma mensagem deve ser impressa informando se o palpite é menor ou maior do que o escolhido pelo computador. Também imprima o número de tentativas necessárias."
   ]
  },
  {
   "cell_type": "code",
   "execution_count": null,
   "metadata": {},
   "outputs": [],
   "source": [
    "from numpy.random import randint\n",
    "\n",
    "numero_para_adivinhar = randint(1, 11)\n",
    "palpite = None\n",
    "tentativas = 0\n",
    "\n",
    "while palpite != numero_para_adivinhar:\n",
    "   palpite = int(input(\"Digite seu palpite (um inteiro de 1 a 10): \"))\n",
    "   tentativas += 1\n",
    "   if palpite < numero_para_adivinhar:\n",
    "       print(\"Muito baixo! Tente novamente.\")\n",
    "   elif palpite > numero_para_adivinhar:\n",
    "       print(\"Muito alto! Tente novamente.\")\n",
    "\n",
    "print(f\"\\nParabéns! Você adivinhou corretamente o número {numero_para_adivinhar}.\")\n",
    "print(f\"{tentativas} tentativas foram usadas.\")"
   ]
  },
  {
   "cell_type": "markdown",
   "metadata": {},
   "source": [
    "__Exercício:__ Usando um laço `while`, escreva um script que recebe um inteiro $ n $ do usuário e decide se ele é uma potência de $ 2 $."
   ]
  },
  {
   "cell_type": "code",
   "execution_count": null,
   "metadata": {},
   "outputs": [],
   "source": []
  },
  {
   "cell_type": "markdown",
   "metadata": {},
   "source": [
    "__Exercício:__ Calcule o índice e o valor do primeiro número de Fibonacci que excede $ 10^6 $ (um milhão)."
   ]
  },
  {
   "cell_type": "code",
   "execution_count": null,
   "metadata": {},
   "outputs": [],
   "source": []
  },
  {
   "cell_type": "markdown",
   "metadata": {},
   "source": [
    "⚠️ Se um contador de iteração é usado em conjunto com um laço `while`, então ele deve ser atualizado manualmente, diferentemente do caso dos laços `for`. Falhar em fazer isso pode levar a um __laço infinito__ (um laço que nunca é terminado). Nestes casos você pode usar `Ctrl+C` para interromper o interpretador Python ou, se você estiver trabalhando dentro de uma célula de código Jupyter notebook, selecionando a célula infratora e clicando em `Interrupt` no menu `Kernel`.\n",
    "\n",
    "__Exemplo:__ Computadores clássicos (isto é, não-quânticos) não podem gerar sequências verdadeiramente aleatórias de números porque são máquinas determinísticas, significando que o mesmo conjunto de entradas/estados sempre gerará os mesmos resultados. Uma sequência __pseudo-aleatória__ de números tem as _propriedades estatísticas_ de números escolhidos aleatoriamente mas é, de fato, gerada não-aleatoriamente (isto é, deterministicamente).\n",
    "\n",
    "Suponha que para algum propósito, como selecionar de um intervalo de cenários possíveis em um jogo, gostaríamos de gerar uma sequência de números pseudo-aleatórios dentro do intervalo $ [0, 1] $. Poderíamos fazer isso da seguinte maneira:"
   ]
  },
  {
   "cell_type": "code",
   "execution_count": null,
   "metadata": {},
   "outputs": [],
   "source": [
    "x = 0.5     # Armazena os números pseudo-aleatórios.\n",
    "k = 1       # Contador de iteração.\n",
    "while k < 6:\n",
    "   x = (x * 1103515245 + 12345) % (2**31)\n",
    "   x /= 2**31    # Divida por 2**31 para obter um número em [0, 1).\n",
    "   print(x)\n",
    "   k += 1\n",
    "   # Se esta última linha for omitida, então o contador k nunca é\n",
    "   # atualizado, de modo que a condição na declaração while sempre\n",
    "   # avalia para True. Isto produz um laço infinito."
   ]
  },
  {
   "cell_type": "markdown",
   "metadata": {},
   "source": [
    "`📝` Declarações `break` e `continue` também podem ser usadas com laços `while`, e elas executam exatamente as mesmas ações que em laços `for`: abortar o laço ou pular a iteração atual, respectivamente.\n",
    "\n",
    "__Exercício:__ Usando `while`, escreva um script que pede ao usuário para inserir uma série de números, e calcula e imprime a média de todos esses números. O programa deve continuar pedindo nova entrada até que o usuário insira um número negativo, momento em que o programa deve parar e imprimir a média."
   ]
  },
  {
   "cell_type": "code",
   "execution_count": null,
   "metadata": {},
   "outputs": [],
   "source": []
  },
  {
   "cell_type": "markdown",
   "metadata": {},
   "source": [
    "__Exemplo:__ É dado que a série\n",
    "$$ 4 \\bigg(1 - \\frac{1}{3} + \\frac{1}{5} - \\frac{1}{7} + \\frac{1}{9} - \\frac{1}{11} + \\dots \\bigg)$$\n",
    "converge para um certo número real $ L $. Encontre o valor de $ L $ com uma precisão de $ \\varepsilon = 10^{-5} $.\n",
    "\n",
    "__Solução:__ Lembre-se que neste contexto $ L $ é o limite das _somas parciais_ $ s_n $ da série:\n",
    "$$\n",
    "   L = \\lim_{n \\to \\infty} s_n = \\lim_{n \\to \\infty} \\sum_{k=1}^n a_k\\quad\n",
    "   \\text{onde} \\quad a_k = (-1)^{k - 1}\\frac{4}{2k - 1}\\,.\n",
    "$$\n",
    "\n",
    "Assim, a estratégia é calcular $ s_n $ para valores sucessivos de $ n $ até que $ \\vert{s_{n} - s_{n - 1}\\vert} $ se torne $ < \\varepsilon $. (Isto não garante que realmente estamos dentro de $ \\varepsilon $ do limite $ L $, mas ignoraremos isso aqui.)"
   ]
  },
  {
   "cell_type": "code",
   "execution_count": null,
   "metadata": {},
   "outputs": [],
   "source": [
    "eps = 1e-5\n",
    "n = 1                   # Contador de iteração.\n",
    "soma_anterior = 2 * eps # Armazena a soma parcial anterior da série.\n",
    "soma_atual = 0         # Armazena a soma parcial atual da série.\n",
    "\n",
    "while abs(soma_atual - soma_anterior) > eps:\n",
    "# Enquanto a precisão desejada não foi ainda alcançada, faça o seguinte:\n",
    "   soma_anterior = soma_atual\n",
    "   soma_atual += (-1)**(n - 1) * 4 / (2 * n - 1)\n",
    "   n += 1                        # Incremente n antes da próxima iteração.\n",
    "\n",
    "print(f\"O valor aproximado da soma é {soma_atual}\")\n",
    "print(f\"Para calculá-lo, {n} iterações foram necessárias!\")"
   ]
  },
  {
   "cell_type": "markdown",
   "metadata": {},
   "source": [
    "Pode ser demonstrado que $ L = \\pi $, como sugerido pelo valor aproximado que foi obtido acima.\n",
    "\n",
    "__Exercício:__ Explique por que o valor de `soma_anterior` não foi também definido como $ 0 $ no início do exemplo anterior (antes do laço `while`)."
   ]
  },
  {
   "cell_type": "code",
   "execution_count": null,
   "metadata": {},
   "outputs": [],
   "source": []
  },
  {
   "cell_type": "markdown",
   "metadata": {},
   "source": [
    "__Exercício:__ Usando `while`, escreva um programa que pede ao usuário para inserir uma senha e verifica se ela atende aos seguintes critérios:\n",
    "\n",
    "* A senha deve ter pelo menos 8 caracteres (use a função `len` para calcular seu comprimento).\n",
    "* A senha deve conter pelo menos um dígito (códigos ASCII 48–57).\n",
    "* A senha deve conter pelo menos uma letra maiúscula (códigos ASCII 65–90).\n",
    "* A senha deve conter pelo menos uma letra minúscula (códigos ASCII 97–122).\n",
    "\n",
    "O usuário deve ser solicitado a inserir uma nova senha até que uma válida de acordo com estes critérios seja escolhida. Para verificar se um caractere pertence a uma destas classes, use a função `ord` que, dado um caractere, retorna seu [código ASCII](https://en.wikipedia.org/wiki/ASCII#Printable_characters)."
   ]
  },
  {
   "cell_type": "code",
   "execution_count": null,
   "metadata": {},
   "outputs": [],
   "source": []
  },
  {
   "cell_type": "markdown",
   "metadata": {},
   "source": [
    "__Exercício (sequência de Collatz):__ A _sequência de Collatz_ $ (x_n) $ gerada por um inteiro positivo $ x_0 $ é definida para $ n \\ge 1 $ por:\n",
    "$$\n",
    "x_{n + 1} = \n",
    "\\begin{cases}\n",
    "\\frac{x_n}{2} & \\text{ se $ x_n $ é par}\\,; \\\\\n",
    "3x_n + 1 & \\text{ se $ x_n $ é ímpar}\\,.\n",
    "\\end{cases}\n",
    "$$\n",
    "Por exemplo, aqui está a sequência de Collatz resultante para $ x_0 = 29 $:\n",
    "$$\n",
    "29\\rightarrow88\\rightarrow44\\rightarrow22\\rightarrow11\\rightarrow34\\rightarrow17\\rightarrow52\\rightarrow26\\rightarrow13\\rightarrow40\\rightarrow20\\rightarrow10\\rightarrow5\\rightarrow16\\rightarrow8\\rightarrow4\\rightarrow2\\rightarrow1\n",
    "$$\n",
    "A _conjectura de Collatz_ afirma que, para qualquer escolha de $ x_0 $, a sequência resultante eventualmente alcança $ 1 $. Este é um dos problemas não resolvidos mais famosos da matemática.\n",
    "\n",
    "(a) Escreva um script que calcula o inteiro $ n $ entre $ 1 $ e $ 100 $ que gera a mais longa sequência de Collatz (antes de alcançar $ 1 $).\n",
    "\n",
    "(b) Seu script verifica se existe mais de um tal inteiro?"
   ]
  },
  {
   "cell_type": "code",
   "execution_count": null,
   "metadata": {},
   "outputs": [],
   "source": []
  }
 ],
 "metadata": {
  "kernelspec": {
   "display_name": "Python 3",
   "language": "python",
   "name": "python3"
  },
  "language_info": {
   "codemirror_mode": {
    "name": "ipython",
    "version": 3
   },
   "file_extension": ".py",
   "mimetype": "text/x-python",
   "name": "python",
   "nbconvert_exporter": "python",
   "pygments_lexer": "ipython3",
   "version": "3.12.3"
  }
 },
 "nbformat": 4,
 "nbformat_minor": 2
}
