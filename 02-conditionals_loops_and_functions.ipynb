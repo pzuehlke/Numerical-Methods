{
 "cells": [
  {
   "cell_type": "markdown",
   "id": "55733497",
   "metadata": {},
   "source": [
    "## 1 Conditional expressions\n",
    "\n",
    "### 1.1 `if`-`elif`-`else` blocks\n",
    "\n",
    "📝 The body of a block or declaration is defined by its **indentation** (usually consisting of four spaces). Thus, in contrast to most programming languages, Python spaces/tabs are an integral part of the syntax. Incorrect identation may lead to an `IndentationError`."
   ]
  },
  {
   "cell_type": "markdown",
   "id": "4dba1b66",
   "metadata": {},
   "source": [
    "## 2 Loops\n",
    "\n",
    "### 2.1 Iterators and `range`\n",
    "\n",
    "### 2.2 `for` loops\n",
    "\n",
    "### 2.3 `while` loops"
   ]
  },
  {
   "cell_type": "code",
   "execution_count": 1,
   "id": "fe0d6afe",
   "metadata": {},
   "outputs": [
    {
     "name": "stdout",
     "output_type": "stream",
     "text": [
      "<class 'range'>\n"
     ]
    }
   ],
   "source": [
    "print(type(range(0, 3)))"
   ]
  },
  {
   "cell_type": "markdown",
   "id": "b6f1b490",
   "metadata": {},
   "source": [
    "## 3 Functions\n",
    "\n",
    "### 3.1 What is a function?\n",
    "\n",
    "### 3.2 Defining a function with `def`\n",
    "\n",
    "### 3.3 Calling a function\n",
    "\n",
    "### 3.4 Composing functions\n",
    "\n",
    "### 3.5 Functions as arguments"
   ]
  },
  {
   "cell_type": "markdown",
   "id": "c605734c",
   "metadata": {},
   "source": [
    "## 4 Importing modules"
   ]
  },
  {
   "cell_type": "markdown",
   "id": "e3887902",
   "metadata": {},
   "source": [
    "### 4.1 Importing an entire module\n",
    "\n",
    "### 4.2 Importing individual functions"
   ]
  },
  {
   "cell_type": "code",
   "execution_count": null,
   "id": "20195ee8",
   "metadata": {},
   "outputs": [],
   "source": []
  }
 ],
 "metadata": {
  "kernelspec": {
   "display_name": "Python 3 (ipykernel)",
   "language": "python",
   "name": "python3"
  },
  "language_info": {
   "codemirror_mode": {
    "name": "ipython",
    "version": 3
   },
   "file_extension": ".py",
   "mimetype": "text/x-python",
   "name": "python",
   "nbconvert_exporter": "python",
   "pygments_lexer": "ipython3",
   "version": "3.9.12"
  }
 },
 "nbformat": 4,
 "nbformat_minor": 5
}
